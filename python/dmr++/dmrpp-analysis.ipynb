{
 "cells": [
  {
   "cell_type": "markdown",
   "metadata": {},
   "source": [
    "# Analysis of DMR++ Information"
   ]
  },
  {
   "cell_type": "code",
   "execution_count": 1,
   "metadata": {
    "collapsed": false
   },
   "outputs": [
    {
     "data": {
      "text/html": [
       "\n",
       "    <div class=\"bk-root\">\n",
       "        <a href=\"http://bokeh.pydata.org\" target=\"_blank\" class=\"bk-logo bk-logo-small bk-logo-notebook\"></a>\n",
       "        <span id=\"e53ed074-39d2-4503-a6c0-79fbc7ac79c2\">Loading BokehJS ...</span>\n",
       "    </div>"
      ]
     },
     "metadata": {},
     "output_type": "display_data"
    },
    {
     "data": {
      "application/javascript": [
       "\n",
       "(function(global) {\n",
       "  function now() {\n",
       "    return new Date();\n",
       "  }\n",
       "\n",
       "  var force = true;\n",
       "\n",
       "  if (typeof (window._bokeh_onload_callbacks) === \"undefined\" || force === true) {\n",
       "    window._bokeh_onload_callbacks = [];\n",
       "    window._bokeh_is_loading = undefined;\n",
       "  }\n",
       "\n",
       "\n",
       "  \n",
       "  if (typeof (window._bokeh_timeout) === \"undefined\" || force === true) {\n",
       "    window._bokeh_timeout = Date.now() + 5000;\n",
       "    window._bokeh_failed_load = false;\n",
       "  }\n",
       "\n",
       "  var NB_LOAD_WARNING = {'data': {'text/html':\n",
       "     \"<div style='background-color: #fdd'>\\n\"+\n",
       "     \"<p>\\n\"+\n",
       "     \"BokehJS does not appear to have successfully loaded. If loading BokehJS from CDN, this \\n\"+\n",
       "     \"may be due to a slow or bad network connection. Possible fixes:\\n\"+\n",
       "     \"</p>\\n\"+\n",
       "     \"<ul>\\n\"+\n",
       "     \"<li>re-rerun `output_notebook()` to attempt to load from CDN again, or</li>\\n\"+\n",
       "     \"<li>use INLINE resources instead, as so:</li>\\n\"+\n",
       "     \"</ul>\\n\"+\n",
       "     \"<code>\\n\"+\n",
       "     \"from bokeh.resources import INLINE\\n\"+\n",
       "     \"output_notebook(resources=INLINE)\\n\"+\n",
       "     \"</code>\\n\"+\n",
       "     \"</div>\"}};\n",
       "\n",
       "  function display_loaded() {\n",
       "    if (window.Bokeh !== undefined) {\n",
       "      document.getElementById(\"e53ed074-39d2-4503-a6c0-79fbc7ac79c2\").textContent = \"BokehJS successfully loaded.\";\n",
       "    } else if (Date.now() < window._bokeh_timeout) {\n",
       "      setTimeout(display_loaded, 100)\n",
       "    }\n",
       "  }\n",
       "\n",
       "  function run_callbacks() {\n",
       "    window._bokeh_onload_callbacks.forEach(function(callback) { callback() });\n",
       "    delete window._bokeh_onload_callbacks\n",
       "    console.info(\"Bokeh: all callbacks have finished\");\n",
       "  }\n",
       "\n",
       "  function load_libs(js_urls, callback) {\n",
       "    window._bokeh_onload_callbacks.push(callback);\n",
       "    if (window._bokeh_is_loading > 0) {\n",
       "      console.log(\"Bokeh: BokehJS is being loaded, scheduling callback at\", now());\n",
       "      return null;\n",
       "    }\n",
       "    if (js_urls == null || js_urls.length === 0) {\n",
       "      run_callbacks();\n",
       "      return null;\n",
       "    }\n",
       "    console.log(\"Bokeh: BokehJS not loaded, scheduling load and callback at\", now());\n",
       "    window._bokeh_is_loading = js_urls.length;\n",
       "    for (var i = 0; i < js_urls.length; i++) {\n",
       "      var url = js_urls[i];\n",
       "      var s = document.createElement('script');\n",
       "      s.src = url;\n",
       "      s.async = false;\n",
       "      s.onreadystatechange = s.onload = function() {\n",
       "        window._bokeh_is_loading--;\n",
       "        if (window._bokeh_is_loading === 0) {\n",
       "          console.log(\"Bokeh: all BokehJS libraries loaded\");\n",
       "          run_callbacks()\n",
       "        }\n",
       "      };\n",
       "      s.onerror = function() {\n",
       "        console.warn(\"failed to load library \" + url);\n",
       "      };\n",
       "      console.log(\"Bokeh: injecting script tag for BokehJS library: \", url);\n",
       "      document.getElementsByTagName(\"head\")[0].appendChild(s);\n",
       "    }\n",
       "  };var element = document.getElementById(\"e53ed074-39d2-4503-a6c0-79fbc7ac79c2\");\n",
       "  if (element == null) {\n",
       "    console.log(\"Bokeh: ERROR: autoload.js configured with elementid 'e53ed074-39d2-4503-a6c0-79fbc7ac79c2' but no matching script tag was found. \")\n",
       "    return false;\n",
       "  }\n",
       "\n",
       "  var js_urls = [\"https://cdn.pydata.org/bokeh/release/bokeh-0.12.4.min.js\", \"https://cdn.pydata.org/bokeh/release/bokeh-widgets-0.12.4.min.js\"];\n",
       "\n",
       "  var inline_js = [\n",
       "    function(Bokeh) {\n",
       "      Bokeh.set_log_level(\"info\");\n",
       "    },\n",
       "    \n",
       "    function(Bokeh) {\n",
       "      \n",
       "      document.getElementById(\"e53ed074-39d2-4503-a6c0-79fbc7ac79c2\").textContent = \"BokehJS is loading...\";\n",
       "    },\n",
       "    function(Bokeh) {\n",
       "      console.log(\"Bokeh: injecting CSS: https://cdn.pydata.org/bokeh/release/bokeh-0.12.4.min.css\");\n",
       "      Bokeh.embed.inject_css(\"https://cdn.pydata.org/bokeh/release/bokeh-0.12.4.min.css\");\n",
       "      console.log(\"Bokeh: injecting CSS: https://cdn.pydata.org/bokeh/release/bokeh-widgets-0.12.4.min.css\");\n",
       "      Bokeh.embed.inject_css(\"https://cdn.pydata.org/bokeh/release/bokeh-widgets-0.12.4.min.css\");\n",
       "    }\n",
       "  ];\n",
       "\n",
       "  function run_inline_js() {\n",
       "    \n",
       "    if ((window.Bokeh !== undefined) || (force === true)) {\n",
       "      for (var i = 0; i < inline_js.length; i++) {\n",
       "        inline_js[i](window.Bokeh);\n",
       "      }if (force === true) {\n",
       "        display_loaded();\n",
       "      }} else if (Date.now() < window._bokeh_timeout) {\n",
       "      setTimeout(run_inline_js, 100);\n",
       "    } else if (!window._bokeh_failed_load) {\n",
       "      console.log(\"Bokeh: BokehJS failed to load within specified timeout.\");\n",
       "      window._bokeh_failed_load = true;\n",
       "    } else if (force !== true) {\n",
       "      var cell = $(document.getElementById(\"e53ed074-39d2-4503-a6c0-79fbc7ac79c2\")).parents('.cell').data().cell;\n",
       "      cell.output_area.append_execute_result(NB_LOAD_WARNING)\n",
       "    }\n",
       "\n",
       "  }\n",
       "\n",
       "  if (window._bokeh_is_loading === 0) {\n",
       "    console.log(\"Bokeh: BokehJS loaded, going straight to plotting\");\n",
       "    run_inline_js();\n",
       "  } else {\n",
       "    load_libs(js_urls, function() {\n",
       "      console.log(\"Bokeh: BokehJS plotting callback run at\", now());\n",
       "      run_inline_js();\n",
       "    });\n",
       "  }\n",
       "}(this));"
      ]
     },
     "metadata": {},
     "output_type": "display_data"
    }
   ],
   "source": [
    "import pandas as pd\n",
    "from bokeh.charts import output_notebook, output_file, show, Scatter, Histogram, TimeSeries\n",
    "from bokeh.plotting import figure, ColumnDataSource\n",
    "from bokeh.models import Range1d, HoverTool, ResizeTool, FixedTicker\n",
    "output_notebook()"
   ]
  },
  {
   "cell_type": "code",
   "execution_count": 2,
   "metadata": {
    "collapsed": true
   },
   "outputs": [],
   "source": [
    "dmrpp = pd.read_csv('../../../dmrpp_stats.csv')"
   ]
  },
  {
   "cell_type": "code",
   "execution_count": 3,
   "metadata": {
    "collapsed": false
   },
   "outputs": [
    {
     "name": "stdout",
     "output_type": "stream",
     "text": [
      "<class 'pandas.core.frame.DataFrame'>\n",
      "RangeIndex: 8120478 entries, 0 to 8120477\n",
      "Data columns (total 7 columns):\n",
      "File          object\n",
      "Dataset       object\n",
      "Chunk_Flag    bool\n",
      "UUID          object\n",
      "Checksum      object\n",
      "Offset        int64\n",
      "Size          int64\n",
      "dtypes: bool(1), int64(2), object(4)\n",
      "memory usage: 379.5+ MB\n"
     ]
    }
   ],
   "source": [
    "dmrpp.info()"
   ]
  },
  {
   "cell_type": "code",
   "execution_count": 4,
   "metadata": {
    "collapsed": false
   },
   "outputs": [
    {
     "data": {
      "text/html": [
       "<div>\n",
       "<table border=\"1\" class=\"dataframe\">\n",
       "  <thead>\n",
       "    <tr style=\"text-align: right;\">\n",
       "      <th></th>\n",
       "      <th>File</th>\n",
       "      <th>Dataset</th>\n",
       "      <th>Chunk_Flag</th>\n",
       "      <th>UUID</th>\n",
       "      <th>Checksum</th>\n",
       "      <th>Offset</th>\n",
       "      <th>Size</th>\n",
       "    </tr>\n",
       "  </thead>\n",
       "  <tbody>\n",
       "    <tr>\n",
       "      <th>0</th>\n",
       "      <td>AIRS.2015.01.01.L3.RetStd_IR001.v6.0.11.0.G150...</td>\n",
       "      <td>/TropHeight_TqJ_A_sdev</td>\n",
       "      <td>True</td>\n",
       "      <td>2ab4f832-3400-40b3-a3f7-f4d234610b30</td>\n",
       "      <td>9ce93facba2aee55317040200b3745b6</td>\n",
       "      <td>220558115</td>\n",
       "      <td>83949</td>\n",
       "    </tr>\n",
       "    <tr>\n",
       "      <th>1</th>\n",
       "      <td>AIRS.2015.01.01.L3.RetStd_IR001.v6.0.11.0.G150...</td>\n",
       "      <td>/Temperature_A_sdev</td>\n",
       "      <td>True</td>\n",
       "      <td>042cb853-02a7-4f48-a492-67c972f14f15</td>\n",
       "      <td>68e89dda59f453c3c91dfd60e2a0bd75</td>\n",
       "      <td>72436482</td>\n",
       "      <td>230741</td>\n",
       "    </tr>\n",
       "    <tr>\n",
       "      <th>2</th>\n",
       "      <td>AIRS.2015.01.01.L3.RetStd_IR001.v6.0.11.0.G150...</td>\n",
       "      <td>/Temperature_A_sdev</td>\n",
       "      <td>True</td>\n",
       "      <td>797f55db-56f7-455d-b2ee-064811ebea4b</td>\n",
       "      <td>2a5ea486540dac3b9bdfcbaa621c0e43</td>\n",
       "      <td>1740209</td>\n",
       "      <td>232814</td>\n",
       "    </tr>\n",
       "  </tbody>\n",
       "</table>\n",
       "</div>"
      ],
      "text/plain": [
       "                                                File                 Dataset  \\\n",
       "0  AIRS.2015.01.01.L3.RetStd_IR001.v6.0.11.0.G150...  /TropHeight_TqJ_A_sdev   \n",
       "1  AIRS.2015.01.01.L3.RetStd_IR001.v6.0.11.0.G150...     /Temperature_A_sdev   \n",
       "2  AIRS.2015.01.01.L3.RetStd_IR001.v6.0.11.0.G150...     /Temperature_A_sdev   \n",
       "\n",
       "  Chunk_Flag                                  UUID  \\\n",
       "0       True  2ab4f832-3400-40b3-a3f7-f4d234610b30   \n",
       "1       True  042cb853-02a7-4f48-a492-67c972f14f15   \n",
       "2       True  797f55db-56f7-455d-b2ee-064811ebea4b   \n",
       "\n",
       "                           Checksum     Offset    Size  \n",
       "0  9ce93facba2aee55317040200b3745b6  220558115   83949  \n",
       "1  68e89dda59f453c3c91dfd60e2a0bd75   72436482  230741  \n",
       "2  2a5ea486540dac3b9bdfcbaa621c0e43    1740209  232814  "
      ]
     },
     "execution_count": 4,
     "metadata": {},
     "output_type": "execute_result"
    }
   ],
   "source": [
    "dmrpp.head(3)"
   ]
  },
  {
   "cell_type": "code",
   "execution_count": 5,
   "metadata": {
    "collapsed": false
   },
   "outputs": [
    {
     "data": {
      "text/html": [
       "<div>\n",
       "<table border=\"1\" class=\"dataframe\">\n",
       "  <thead>\n",
       "    <tr style=\"text-align: right;\">\n",
       "      <th></th>\n",
       "      <th>File</th>\n",
       "      <th>Dataset</th>\n",
       "      <th>Chunk_Flag</th>\n",
       "      <th>UUID</th>\n",
       "      <th>Checksum</th>\n",
       "      <th>Offset</th>\n",
       "      <th>Size</th>\n",
       "    </tr>\n",
       "  </thead>\n",
       "  <tbody>\n",
       "    <tr>\n",
       "      <th>8120475</th>\n",
       "      <td>za_2_2d_yz.h5</td>\n",
       "      <td>/HDFEOS/ZAS/ZA2/Data Fields/Temperature</td>\n",
       "      <td>False</td>\n",
       "      <td>1c73591f-e26c-402a-8429-0941e78a9708</td>\n",
       "      <td>d709add9a8fd30f7432e76d43def1494</td>\n",
       "      <td>40776</td>\n",
       "      <td>128</td>\n",
       "    </tr>\n",
       "    <tr>\n",
       "      <th>8120476</th>\n",
       "      <td>za_2_2d_yz.h5</td>\n",
       "      <td>/HDFEOS/ZAS/ZA1/Data Fields/Pressure</td>\n",
       "      <td>False</td>\n",
       "      <td>cdf9ca2e-7dd2-4bb4-9af8-24108e51ac0c</td>\n",
       "      <td>b5ce7b2e71f14b237f1d8a6c2dacd247</td>\n",
       "      <td>40672</td>\n",
       "      <td>8</td>\n",
       "    </tr>\n",
       "    <tr>\n",
       "      <th>8120477</th>\n",
       "      <td>za_2_2d_yz.h5</td>\n",
       "      <td>/HDFEOS INFORMATION/StructMetadata.0</td>\n",
       "      <td>False</td>\n",
       "      <td>b35ec1ca-29cc-4e4d-9df6-465dc2c0e794</td>\n",
       "      <td>dca06d8dadcf1a6a679c4fa50ecf4972</td>\n",
       "      <td>5304</td>\n",
       "      <td>32000</td>\n",
       "    </tr>\n",
       "  </tbody>\n",
       "</table>\n",
       "</div>"
      ],
      "text/plain": [
       "                  File                                  Dataset Chunk_Flag  \\\n",
       "8120475  za_2_2d_yz.h5  /HDFEOS/ZAS/ZA2/Data Fields/Temperature      False   \n",
       "8120476  za_2_2d_yz.h5     /HDFEOS/ZAS/ZA1/Data Fields/Pressure      False   \n",
       "8120477  za_2_2d_yz.h5     /HDFEOS INFORMATION/StructMetadata.0      False   \n",
       "\n",
       "                                         UUID  \\\n",
       "8120475  1c73591f-e26c-402a-8429-0941e78a9708   \n",
       "8120476  cdf9ca2e-7dd2-4bb4-9af8-24108e51ac0c   \n",
       "8120477  b35ec1ca-29cc-4e4d-9df6-465dc2c0e794   \n",
       "\n",
       "                                 Checksum  Offset   Size  \n",
       "8120475  d709add9a8fd30f7432e76d43def1494   40776    128  \n",
       "8120476  b5ce7b2e71f14b237f1d8a6c2dacd247   40672      8  \n",
       "8120477  dca06d8dadcf1a6a679c4fa50ecf4972    5304  32000  "
      ]
     },
     "execution_count": 5,
     "metadata": {},
     "output_type": "execute_result"
    }
   ],
   "source": [
    "dmrpp.tail(3)"
   ]
  },
  {
   "cell_type": "markdown",
   "metadata": {},
   "source": [
    "Create a new column for file types:"
   ]
  },
  {
   "cell_type": "code",
   "execution_count": 6,
   "metadata": {
    "collapsed": true
   },
   "outputs": [],
   "source": [
    "def file_type(v):\n",
    "    if v.startswith('AIRS'):\n",
    "        return 'airs'\n",
    "    elif v.startswith('MERRA2'):\n",
    "        return 'merra'\n",
    "    else:\n",
    "        return 'sample'"
   ]
  },
  {
   "cell_type": "code",
   "execution_count": 7,
   "metadata": {
    "collapsed": true
   },
   "outputs": [],
   "source": [
    "dmrpp['Type'] = dmrpp['File'].map(file_type)"
   ]
  },
  {
   "cell_type": "markdown",
   "metadata": {},
   "source": [
    "What we have now?"
   ]
  },
  {
   "cell_type": "code",
   "execution_count": 8,
   "metadata": {
    "collapsed": false
   },
   "outputs": [
    {
     "name": "stdout",
     "output_type": "stream",
     "text": [
      "<class 'pandas.core.frame.DataFrame'>\n",
      "RangeIndex: 8120478 entries, 0 to 8120477\n",
      "Data columns (total 8 columns):\n",
      "File          object\n",
      "Dataset       object\n",
      "Chunk_Flag    bool\n",
      "UUID          object\n",
      "Checksum      object\n",
      "Offset        int64\n",
      "Size          int64\n",
      "Type          object\n",
      "dtypes: bool(1), int64(2), object(5)\n",
      "memory usage: 441.4+ MB\n"
     ]
    }
   ],
   "source": [
    "dmrpp.info()"
   ]
  },
  {
   "cell_type": "markdown",
   "metadata": {},
   "source": [
    "## How many records for each file type?"
   ]
  },
  {
   "cell_type": "code",
   "execution_count": 9,
   "metadata": {
    "collapsed": true
   },
   "outputs": [],
   "source": [
    "grp = dmrpp.groupby('Type')"
   ]
  },
  {
   "cell_type": "code",
   "execution_count": 10,
   "metadata": {
    "collapsed": false
   },
   "outputs": [
    {
     "data": {
      "text/plain": [
       "Type\n",
       "airs       569765\n",
       "merra     7494823\n",
       "sample      55890\n",
       "dtype: int64"
      ]
     },
     "execution_count": 10,
     "metadata": {},
     "output_type": "execute_result"
    }
   ],
   "source": [
    "grp.size()"
   ]
  },
  {
   "cell_type": "markdown",
   "metadata": {},
   "source": [
    "## Analysis: AIRS"
   ]
  },
  {
   "cell_type": "markdown",
   "metadata": {},
   "source": [
    "Select only the AIRS data:"
   ]
  },
  {
   "cell_type": "code",
   "execution_count": 11,
   "metadata": {
    "collapsed": true
   },
   "outputs": [],
   "source": [
    "airs = dmrpp[dmrpp.Type == 'airs']"
   ]
  },
  {
   "cell_type": "code",
   "execution_count": 12,
   "metadata": {
    "collapsed": false
   },
   "outputs": [
    {
     "name": "stdout",
     "output_type": "stream",
     "text": [
      "<class 'pandas.core.frame.DataFrame'>\n",
      "Int64Index: 569765 entries, 0 to 569764\n",
      "Data columns (total 8 columns):\n",
      "File          569765 non-null object\n",
      "Dataset       569765 non-null object\n",
      "Chunk_Flag    569765 non-null bool\n",
      "UUID          569765 non-null object\n",
      "Checksum      569765 non-null object\n",
      "Offset        569765 non-null int64\n",
      "Size          569765 non-null int64\n",
      "Type          569765 non-null object\n",
      "dtypes: bool(1), int64(2), object(5)\n",
      "memory usage: 35.3+ MB\n"
     ]
    }
   ],
   "source": [
    "airs.info()"
   ]
  },
  {
   "cell_type": "markdown",
   "metadata": {},
   "source": [
    "### Byte Streams"
   ]
  },
  {
   "cell_type": "markdown",
   "metadata": {},
   "source": [
    "#### How many byte streams with unique content?"
   ]
  },
  {
   "cell_type": "code",
   "execution_count": 13,
   "metadata": {
    "collapsed": false
   },
   "outputs": [],
   "source": [
    "x = airs.Checksum.value_counts()"
   ]
  },
  {
   "cell_type": "code",
   "execution_count": 14,
   "metadata": {
    "collapsed": false
   },
   "outputs": [
    {
     "data": {
      "text/plain": [
       "330353"
      ]
     },
     "execution_count": 14,
     "metadata": {},
     "output_type": "execute_result"
    }
   ],
   "source": [
    "len(x.index)"
   ]
  },
  {
   "cell_type": "markdown",
   "metadata": {},
   "source": [
    "#### Which are the Top 20 byte streams based on content?"
   ]
  },
  {
   "cell_type": "code",
   "execution_count": 15,
   "metadata": {
    "collapsed": false
   },
   "outputs": [
    {
     "data": {
      "text/plain": [
       "c55324594a0787856d9b908fc7a7a201    49640\n",
       "a43f0ca2084e297f3aa9763a828dcb0f     6570\n",
       "13194f25768e29a4921fa9f6ba022342     1460\n",
       "7c90147b4fcb72404dd36c4b0d82051d     1460\n",
       "7b744463b12501af7f1b66dece5e41b4      730\n",
       "f6da25808f22177cef49588cc08740ca      365\n",
       "6c9db2946c92fcf6e0d9f8c3bb49d1ff      365\n",
       "5bbb0bd53711bae49dc9e3c6b37bebd6      365\n",
       "61f33d4ee48f21fef8b6ce240dbf12c2      365\n",
       "cd581cc833cabac662ad43499330bed6      365\n",
       "a71f8216cff7fca9d2c00e768589efdd      365\n",
       "19c03d94e619f2f3d8ad1428c6c1389c      365\n",
       "e03cc92919bb584379ea825173440b1c      365\n",
       "0b2396e0349f169f6f5e16650f4063c5      365\n",
       "08676799dc49855f9d71198e0c49d1ec      365\n",
       "cce9f79f6073bdaf715f1a5a07bf72ec      365\n",
       "85b0f24c7c9c485d9bbc030ea2d544d4       15\n",
       "29978cb383d9e3a2cdef03cd72d10ab2       15\n",
       "9a06b4a54eab7e6fa36f6838d5bc6a99       15\n",
       "f71143769057ee3a3b25d7487e5bc3d2       15\n",
       "Name: Checksum, dtype: int64"
      ]
     },
     "execution_count": 15,
     "metadata": {},
     "output_type": "execute_result"
    }
   ],
   "source": [
    "x.sort_values(ascending=False).head(20)"
   ]
  },
  {
   "cell_type": "markdown",
   "metadata": {},
   "source": [
    "#### Where is the same byte stream stored?"
   ]
  },
  {
   "cell_type": "markdown",
   "metadata": {},
   "source": [
    "Byte stream we are looking for:"
   ]
  },
  {
   "cell_type": "code",
   "execution_count": 16,
   "metadata": {
    "collapsed": true
   },
   "outputs": [],
   "source": [
    "cksum = 'c55324594a0787856d9b908fc7a7a201'"
   ]
  },
  {
   "cell_type": "code",
   "execution_count": 17,
   "metadata": {
    "collapsed": true
   },
   "outputs": [],
   "source": [
    "grp = airs.groupby('Checksum')"
   ]
  },
  {
   "cell_type": "markdown",
   "metadata": {},
   "source": [
    "Per dataset across all AIRS files that have it:"
   ]
  },
  {
   "cell_type": "code",
   "execution_count": 18,
   "metadata": {
    "collapsed": false
   },
   "outputs": [
    {
     "data": {
      "text/plain": [
       "/GPHeight_MW_A_min        2920\n",
       "/Temperature_MW_A_min     2920\n",
       "/Temperature_MW_D_sdev    2920\n",
       "/Temperature_MW_D_min     2920\n",
       "/Temperature_MW_A_max     2920\n",
       "/GPHeight_MW_D_max        2920\n",
       "/Temperature_MW_D_max     2920\n",
       "/GPHeight_MW_D            2920\n",
       "/Temperature_MW_A         2920\n",
       "/GPHeight_MW_A            2920\n",
       "/GPHeight_MW_D_sdev       2920\n",
       "/GPHeight_MW_D_min        2920\n",
       "/Temperature_MW_A_sdev    2920\n",
       "/GPHeight_MW_A_sdev       2920\n",
       "/GPHeight_MW_A_max        2920\n",
       "/Temperature_MW_D         2920\n",
       "/Emis_MW_A_min             365\n",
       "/Emis_MW_A                 365\n",
       "/Emis_MW_D                 365\n",
       "/Emis_MW_D_min             365\n",
       "/Emis_MW_A_sdev            365\n",
       "/Emis_MW_D_max             365\n",
       "/Emis_MW_D_sdev            365\n",
       "/Emis_MW_A_max             365\n",
       "Name: Dataset, dtype: int64"
      ]
     },
     "execution_count": 18,
     "metadata": {},
     "output_type": "execute_result"
    }
   ],
   "source": [
    "grp.get_group(cksum)['Dataset'].value_counts()"
   ]
  },
  {
   "cell_type": "markdown",
   "metadata": {},
   "source": [
    "Per file including all its datasets:"
   ]
  },
  {
   "cell_type": "code",
   "execution_count": 19,
   "metadata": {
    "collapsed": false
   },
   "outputs": [
    {
     "data": {
      "text/plain": [
       "AIRS.2015.05.21.L3.RetStd_IR001.v6.0.31.0.G15220053350.nc.h5    136\n",
       "AIRS.2015.05.04.L3.RetStd_IR001.v6.0.31.0.G15205031847.nc.h5    136\n",
       "AIRS.2015.09.10.L3.RetStd_IR001.v6.0.31.0.G15254182904.nc.h5    136\n",
       "AIRS.2015.02.25.L3.RetStd_IR001.v6.0.11.0.G15057220709.nc.h5    136\n",
       "AIRS.2015.07.29.L3.RetStd_IR001.v6.0.31.0.G15212175054.nc.h5    136\n",
       "AIRS.2015.05.09.L3.RetStd_IR001.v6.0.31.0.G15206170855.nc.h5    136\n",
       "AIRS.2015.06.02.L3.RetStd_IR001.v6.0.31.0.G15199070943.nc.h5    136\n",
       "AIRS.2015.02.23.L3.RetStd_IR001.v6.0.11.0.G15055193409.nc.h5    136\n",
       "AIRS.2015.09.04.L3.RetStd_IR001.v6.0.31.0.G15251123039.nc.h5    136\n",
       "AIRS.2015.01.15.L3.RetStd_IR001.v6.0.11.0.G15016175121.nc.h5    136\n",
       "AIRS.2015.01.20.L3.RetStd_IR001.v6.0.11.0.G15021184554.nc.h5    136\n",
       "AIRS.2015.12.04.L3.RetStd_IR001.v6.0.31.0.G15339182910.nc.h5    136\n",
       "AIRS.2015.05.06.L3.RetStd_IR001.v6.0.31.0.G15205145040.nc.h5    136\n",
       "AIRS.2015.11.12.L3.RetStd_IR001.v6.0.31.0.G15317210501.nc.h5    136\n",
       "AIRS.2015.09.14.L3.RetStd_IR001.v6.0.31.0.G15259120757.nc.h5    136\n",
       "AIRS.2015.12.03.L3.RetStd_IR001.v6.0.31.0.G15338200027.nc.h5    136\n",
       "AIRS.2015.08.27.L3.RetStd_IR001.v6.0.31.0.G15240181026.nc.h5    136\n",
       "AIRS.2015.01.10.L3.RetStd_IR001.v6.0.11.0.G15011162002.nc.h5    136\n",
       "AIRS.2015.12.31.L3.RetStd_IR001.v6.0.31.0.G16118131039.nc.h5    136\n",
       "AIRS.2015.07.25.L3.RetStd_IR001.v6.0.31.0.G15209144145.nc.h5    136\n",
       "AIRS.2015.08.11.L3.RetStd_IR001.v6.0.31.0.G15225012119.nc.h5    136\n",
       "AIRS.2015.03.02.L3.RetStd_IR001.v6.0.11.0.G15063141640.nc.h5    136\n",
       "AIRS.2015.06.22.L3.RetStd_IR001.v6.0.31.0.G15216144527.nc.h5    136\n",
       "AIRS.2015.09.12.L3.RetStd_IR001.v6.0.31.0.G15256180147.nc.h5    136\n",
       "AIRS.2015.06.18.L3.RetStd_IR001.v6.0.31.0.G15210073815.nc.h5    136\n",
       "AIRS.2015.11.02.L3.RetStd_IR001.v6.0.31.0.G15307173725.nc.h5    136\n",
       "AIRS.2015.06.05.L3.RetStd_IR001.v6.0.31.0.G15201143404.nc.h5    136\n",
       "AIRS.2015.10.23.L3.RetStd_IR001.v6.0.31.0.G15299110134.nc.h5    136\n",
       "AIRS.2015.04.23.L3.RetStd_IR001.v6.0.31.0.G15198133400.nc.h5    136\n",
       "AIRS.2015.05.03.L3.RetStd_IR001.v6.0.31.0.G15204151052.nc.h5    136\n",
       "                                                               ... \n",
       "AIRS.2015.04.27.L3.RetStd_IR001.v6.0.31.0.G15201122501.nc.h5    136\n",
       "AIRS.2015.03.16.L3.RetStd_IR001.v6.0.11.0.G15076184035.nc.h5    136\n",
       "AIRS.2015.07.15.L3.RetStd_IR001.v6.0.31.0.G15198034817.nc.h5    136\n",
       "AIRS.2015.04.20.L3.RetStd_IR001.v6.0.31.0.G15197051810.nc.h5    136\n",
       "AIRS.2015.10.19.L3.RetStd_IR001.v6.0.31.0.G15293180703.nc.h5    136\n",
       "AIRS.2015.02.01.L3.RetStd_IR001.v6.0.11.0.G15033192757.nc.h5    136\n",
       "AIRS.2015.09.05.L3.RetStd_IR001.v6.0.31.0.G15249182655.nc.h5    136\n",
       "AIRS.2015.03.18.L3.RetStd_IR001.v6.0.11.0.G15086133503.nc.h5    136\n",
       "AIRS.2015.07.22.L3.RetStd_IR001.v6.0.31.0.G15205034133.nc.h5    136\n",
       "AIRS.2015.06.30.L3.RetStd_IR001.v6.0.31.0.G15219235948.nc.h5    136\n",
       "AIRS.2015.05.02.L3.RetStd_IR001.v6.0.31.0.G15204070908.nc.h5    136\n",
       "AIRS.2015.12.24.L3.RetStd_IR001.v6.0.31.0.G15359171421.nc.h5    136\n",
       "AIRS.2015.03.23.L3.RetStd_IR001.v6.0.31.0.G15183114312.nc.h5    136\n",
       "AIRS.2015.12.27.L3.RetStd_IR001.v6.0.31.0.G15363023350.nc.h5    136\n",
       "AIRS.2015.10.31.L3.RetStd_IR001.v6.0.31.0.G15305182054.nc.h5    136\n",
       "AIRS.2015.05.05.L3.RetStd_IR001.v6.0.31.0.G15205081357.nc.h5    136\n",
       "AIRS.2015.04.13.L3.RetStd_IR001.v6.0.31.0.G15190185721.nc.h5    136\n",
       "AIRS.2015.08.19.L3.RetStd_IR001.v6.0.31.0.G15232181051.nc.h5    136\n",
       "AIRS.2015.08.25.L3.RetStd_IR001.v6.0.31.0.G15240170412.nc.h5    136\n",
       "AIRS.2015.05.17.L3.RetStd_IR001.v6.0.31.0.G15213221245.nc.h5    136\n",
       "AIRS.2015.08.13.L3.RetStd_IR001.v6.0.31.0.G15226183747.nc.h5    136\n",
       "AIRS.2015.11.27.L3.RetStd_IR001.v6.0.31.0.G15341130700.nc.h5    136\n",
       "AIRS.2015.07.12.L3.RetStd_IR001.v6.0.31.0.G15205030539.nc.h5    136\n",
       "AIRS.2015.09.20.L3.RetStd_IR001.v6.0.31.0.G15265172219.nc.h5    136\n",
       "AIRS.2015.04.07.L3.RetStd_IR001.v6.0.31.0.G15189061953.nc.h5    136\n",
       "AIRS.2015.06.15.L3.RetStd_IR001.v6.0.31.0.G15208173612.nc.h5    136\n",
       "AIRS.2015.12.07.L3.RetStd_IR001.v6.0.31.0.G15342173411.nc.h5    136\n",
       "AIRS.2015.05.07.L3.RetStd_IR001.v6.0.31.0.G15206003719.nc.h5    136\n",
       "AIRS.2015.03.31.L3.RetStd_IR001.v6.0.31.0.G15187115701.nc.h5    136\n",
       "AIRS.2015.04.08.L3.RetStd_IR001.v6.0.31.0.G15189085146.nc.h5    136\n",
       "Name: File, dtype: int64"
      ]
     },
     "execution_count": 19,
     "metadata": {},
     "output_type": "execute_result"
    }
   ],
   "source": [
    "grp.get_group(cksum)['File'].value_counts()"
   ]
  },
  {
   "cell_type": "markdown",
   "metadata": {},
   "source": [
    "#### What is the total number of byte streams in the AIRS files?"
   ]
  },
  {
   "cell_type": "code",
   "execution_count": 20,
   "metadata": {
    "collapsed": false
   },
   "outputs": [
    {
     "data": {
      "text/plain": [
       "569765"
      ]
     },
     "execution_count": 20,
     "metadata": {},
     "output_type": "execute_result"
    }
   ],
   "source": [
    "x.sum()"
   ]
  },
  {
   "cell_type": "markdown",
   "metadata": {},
   "source": [
    "#### What is the percentage reduction in number of S3 objects based on repeating checksums?"
   ]
  },
  {
   "cell_type": "code",
   "execution_count": 21,
   "metadata": {
    "collapsed": false
   },
   "outputs": [
    {
     "data": {
      "text/plain": [
       "-42.019429062859246"
      ]
     },
     "execution_count": 21,
     "metadata": {},
     "output_type": "execute_result"
    }
   ],
   "source": [
    "100 * (len(x.index)/x.sum() - 1)"
   ]
  },
  {
   "cell_type": "markdown",
   "metadata": {},
   "source": [
    "#### What is the percentage reduction in bytes stored in S3 based on repeating checksums?"
   ]
  },
  {
   "cell_type": "code",
   "execution_count": 22,
   "metadata": {
    "collapsed": false
   },
   "outputs": [
    {
     "data": {
      "text/plain": [
       "114762412036"
      ]
     },
     "execution_count": 22,
     "metadata": {},
     "output_type": "execute_result"
    }
   ],
   "source": [
    "before = airs.Size.sum()\n",
    "before"
   ]
  },
  {
   "cell_type": "code",
   "execution_count": 23,
   "metadata": {
    "collapsed": false
   },
   "outputs": [
    {
     "data": {
      "text/plain": [
       "80984748175"
      ]
     },
     "execution_count": 23,
     "metadata": {},
     "output_type": "execute_result"
    }
   ],
   "source": [
    "after = airs.drop_duplicates('Checksum')['Size'].sum()\n",
    "after"
   ]
  },
  {
   "cell_type": "code",
   "execution_count": 24,
   "metadata": {
    "collapsed": false
   },
   "outputs": [
    {
     "data": {
      "text/plain": [
       "-29.432689032715899"
      ]
     },
     "execution_count": 24,
     "metadata": {},
     "output_type": "execute_result"
    }
   ],
   "source": [
    "100 * (after/before - 1)"
   ]
  },
  {
   "cell_type": "markdown",
   "metadata": {},
   "source": [
    "#### What is the size statistics for unique byte streams?"
   ]
  },
  {
   "cell_type": "code",
   "execution_count": 25,
   "metadata": {
    "collapsed": false
   },
   "outputs": [
    {
     "data": {
      "text/html": [
       "\n",
       "\n",
       "    <div class=\"bk-root\">\n",
       "        <div class=\"bk-plotdiv\" id=\"273a13dd-0c3f-43e3-b120-99859a748a77\"></div>\n",
       "    </div>\n",
       "<script type=\"text/javascript\">\n",
       "  \n",
       "  (function(global) {\n",
       "    function now() {\n",
       "      return new Date();\n",
       "    }\n",
       "  \n",
       "    var force = false;\n",
       "  \n",
       "    if (typeof (window._bokeh_onload_callbacks) === \"undefined\" || force === true) {\n",
       "      window._bokeh_onload_callbacks = [];\n",
       "      window._bokeh_is_loading = undefined;\n",
       "    }\n",
       "  \n",
       "  \n",
       "    \n",
       "    if (typeof (window._bokeh_timeout) === \"undefined\" || force === true) {\n",
       "      window._bokeh_timeout = Date.now() + 0;\n",
       "      window._bokeh_failed_load = false;\n",
       "    }\n",
       "  \n",
       "    var NB_LOAD_WARNING = {'data': {'text/html':\n",
       "       \"<div style='background-color: #fdd'>\\n\"+\n",
       "       \"<p>\\n\"+\n",
       "       \"BokehJS does not appear to have successfully loaded. If loading BokehJS from CDN, this \\n\"+\n",
       "       \"may be due to a slow or bad network connection. Possible fixes:\\n\"+\n",
       "       \"</p>\\n\"+\n",
       "       \"<ul>\\n\"+\n",
       "       \"<li>re-rerun `output_notebook()` to attempt to load from CDN again, or</li>\\n\"+\n",
       "       \"<li>use INLINE resources instead, as so:</li>\\n\"+\n",
       "       \"</ul>\\n\"+\n",
       "       \"<code>\\n\"+\n",
       "       \"from bokeh.resources import INLINE\\n\"+\n",
       "       \"output_notebook(resources=INLINE)\\n\"+\n",
       "       \"</code>\\n\"+\n",
       "       \"</div>\"}};\n",
       "  \n",
       "    function display_loaded() {\n",
       "      if (window.Bokeh !== undefined) {\n",
       "        document.getElementById(\"273a13dd-0c3f-43e3-b120-99859a748a77\").textContent = \"BokehJS successfully loaded.\";\n",
       "      } else if (Date.now() < window._bokeh_timeout) {\n",
       "        setTimeout(display_loaded, 100)\n",
       "      }\n",
       "    }\n",
       "  \n",
       "    function run_callbacks() {\n",
       "      window._bokeh_onload_callbacks.forEach(function(callback) { callback() });\n",
       "      delete window._bokeh_onload_callbacks\n",
       "      console.info(\"Bokeh: all callbacks have finished\");\n",
       "    }\n",
       "  \n",
       "    function load_libs(js_urls, callback) {\n",
       "      window._bokeh_onload_callbacks.push(callback);\n",
       "      if (window._bokeh_is_loading > 0) {\n",
       "        console.log(\"Bokeh: BokehJS is being loaded, scheduling callback at\", now());\n",
       "        return null;\n",
       "      }\n",
       "      if (js_urls == null || js_urls.length === 0) {\n",
       "        run_callbacks();\n",
       "        return null;\n",
       "      }\n",
       "      console.log(\"Bokeh: BokehJS not loaded, scheduling load and callback at\", now());\n",
       "      window._bokeh_is_loading = js_urls.length;\n",
       "      for (var i = 0; i < js_urls.length; i++) {\n",
       "        var url = js_urls[i];\n",
       "        var s = document.createElement('script');\n",
       "        s.src = url;\n",
       "        s.async = false;\n",
       "        s.onreadystatechange = s.onload = function() {\n",
       "          window._bokeh_is_loading--;\n",
       "          if (window._bokeh_is_loading === 0) {\n",
       "            console.log(\"Bokeh: all BokehJS libraries loaded\");\n",
       "            run_callbacks()\n",
       "          }\n",
       "        };\n",
       "        s.onerror = function() {\n",
       "          console.warn(\"failed to load library \" + url);\n",
       "        };\n",
       "        console.log(\"Bokeh: injecting script tag for BokehJS library: \", url);\n",
       "        document.getElementsByTagName(\"head\")[0].appendChild(s);\n",
       "      }\n",
       "    };var element = document.getElementById(\"273a13dd-0c3f-43e3-b120-99859a748a77\");\n",
       "    if (element == null) {\n",
       "      console.log(\"Bokeh: ERROR: autoload.js configured with elementid '273a13dd-0c3f-43e3-b120-99859a748a77' but no matching script tag was found. \")\n",
       "      return false;\n",
       "    }\n",
       "  \n",
       "    var js_urls = [];\n",
       "  \n",
       "    var inline_js = [\n",
       "      function(Bokeh) {\n",
       "        (function() {\n",
       "          var fn = function() {\n",
       "            var docs_json = {\"f68d23e9-b8fb-4891-8815-d76033d82811\":{\"roots\":{\"references\":[{\"attributes\":{\"data_source\":{\"id\":\"84c7e6a9-dd03-4a9f-ad72-51be0b3e8b60\",\"type\":\"ColumnDataSource\"},\"glyph\":{\"id\":\"50ccc2a3-07da-4a71-a37f-e74d4e630f9d\",\"type\":\"Rect\"},\"hover_glyph\":null,\"nonselection_glyph\":null,\"selection_glyph\":null},\"id\":\"84b50f69-895e-4531-93fb-859bfb1013c8\",\"type\":\"GlyphRenderer\"},{\"attributes\":{\"callback\":null,\"column_names\":[\"x\",\"label\",\"height\",\"color\",\"line_alpha\",\"line_color\",\"y\",\"width\",\"fill_alpha\"],\"data\":{\"chart_index\":[\"(987.636080, 1010.081900]\"],\"color\":[\"#f22c40\"],\"fill_alpha\":[0.8],\"height\":[97.0],\"label\":[\"(987.636080, 1010.081900]\"],\"line_alpha\":[1.0],\"line_color\":[\"black\"],\"width\":[22.445820000000026],\"x\":[\"998.85899\"],\"y\":[48.5]}},\"id\":\"8164ccd6-640b-44ae-841b-cc9c86f7440e\",\"type\":\"ColumnDataSource\"},{\"attributes\":{\"callback\":null,\"column_names\":[\"x\",\"label\",\"height\",\"color\",\"line_alpha\",\"line_color\",\"y\",\"width\",\"fill_alpha\"],\"data\":{\"chart_index\":[\"(291.815660, 314.261480]\"],\"color\":[\"#f22c40\"],\"fill_alpha\":[0.8],\"height\":[421.0],\"label\":[\"(291.815660, 314.261480]\"],\"line_alpha\":[1.0],\"line_color\":[\"black\"],\"width\":[22.44581999999997],\"x\":[\"303.03857\"],\"y\":[210.5]}},\"id\":\"5cc85d69-d7ec-4add-8c74-adfaeaabfd3e\",\"type\":\"ColumnDataSource\"},{\"attributes\":{\"callback\":null,\"column_names\":[\"x\",\"label\",\"height\",\"color\",\"line_alpha\",\"line_color\",\"y\",\"width\",\"fill_alpha\"],\"data\":{\"chart_index\":[\"(628.502960, 650.948780]\"],\"color\":[\"#f22c40\"],\"fill_alpha\":[0.8],\"height\":[870.0],\"label\":[\"(628.502960, 650.948780]\"],\"line_alpha\":[1.0],\"line_color\":[\"black\"],\"width\":[22.445820000000026],\"x\":[\"639.72587\"],\"y\":[435.0]}},\"id\":\"0ad3e200-9627-449d-96d9-f9e930ab4dd7\",\"type\":\"ColumnDataSource\"},{\"attributes\":{\"data_source\":{\"id\":\"35fb2cf8-0d93-4113-b352-c7e076d786e2\",\"type\":\"ColumnDataSource\"},\"glyph\":{\"id\":\"f4f71dd4-93af-460a-b46c-88d1230fd959\",\"type\":\"Rect\"},\"hover_glyph\":null,\"nonselection_glyph\":null,\"selection_glyph\":null},\"id\":\"c0a1ab03-5413-4c6e-a3b5-6532b8051756\",\"type\":\"GlyphRenderer\"},{\"attributes\":{\"data_source\":{\"id\":\"6a9936d5-3965-471a-8c1d-c43448616529\",\"type\":\"ColumnDataSource\"},\"glyph\":{\"id\":\"9c77a7a6-5da7-4e3d-8bb4-4f4c64f696c1\",\"type\":\"Rect\"},\"hover_glyph\":null,\"nonselection_glyph\":null,\"selection_glyph\":null},\"id\":\"c3504f14-6bd9-4276-b23b-fe2b661faa6e\",\"type\":\"GlyphRenderer\"},{\"attributes\":{\"callback\":null,\"column_names\":[\"x\",\"label\",\"height\",\"color\",\"line_alpha\",\"line_color\",\"y\",\"width\",\"fill_alpha\"],\"data\":{\"chart_index\":[\"(22.465820, 44.911640]\"],\"color\":[\"#f22c40\"],\"fill_alpha\":[0.8],\"height\":[8265.0],\"label\":[\"(22.465820, 44.911640]\"],\"line_alpha\":[1.0],\"line_color\":[\"black\"],\"width\":[22.44582],\"x\":[\"33.68873\"],\"y\":[4132.5]}},\"id\":\"32e0037b-569b-4667-9e34-08b73094cd54\",\"type\":\"ColumnDataSource\"},{\"attributes\":{\"callback\":null,\"column_names\":[\"x\",\"label\",\"height\",\"color\",\"line_alpha\",\"line_color\",\"y\",\"width\",\"fill_alpha\"],\"data\":{\"chart_index\":[\"(942.744440, 965.190260]\"],\"color\":[\"#f22c40\"],\"fill_alpha\":[0.8],\"height\":[54.0],\"label\":[\"(942.744440, 965.190260]\"],\"line_alpha\":[1.0],\"line_color\":[\"black\"],\"width\":[22.445819999999912],\"x\":[\"953.96735\"],\"y\":[27.0]}},\"id\":\"dcc1ed4c-e346-4a97-8656-915356156dcf\",\"type\":\"ColumnDataSource\"},{\"attributes\":{\"callback\":null,\"column_names\":[\"x\",\"label\",\"height\",\"color\",\"line_alpha\",\"line_color\",\"y\",\"width\",\"fill_alpha\"],\"data\":{\"chart_index\":[\"(89.803280, 112.249100]\"],\"color\":[\"#f22c40\"],\"fill_alpha\":[0.8],\"height\":[7485.0],\"label\":[\"(89.803280, 112.249100]\"],\"line_alpha\":[1.0],\"line_color\":[\"black\"],\"width\":[22.445819999999998],\"x\":[\"101.02619\"],\"y\":[3742.5]}},\"id\":\"b6dedfca-10f7-4a6f-b657-0d01e6fd5789\",\"type\":\"ColumnDataSource\"},{\"attributes\":{\"callback\":null,\"column_names\":[\"x\",\"label\",\"height\",\"color\",\"line_alpha\",\"line_color\",\"y\",\"width\",\"fill_alpha\"],\"data\":{\"chart_index\":[\"(583.611320, 606.057140]\"],\"color\":[\"#f22c40\"],\"fill_alpha\":[0.8],\"height\":[57.0],\"label\":[\"(583.611320, 606.057140]\"],\"line_alpha\":[1.0],\"line_color\":[\"black\"],\"width\":[22.445819999999912],\"x\":[\"594.8342299999999\"],\"y\":[28.5]}},\"id\":\"9fe0fb6f-a4f2-49d1-8dc1-f5e963aa1bb0\",\"type\":\"ColumnDataSource\"},{\"attributes\":{\"fill_alpha\":{\"field\":\"fill_alpha\"},\"fill_color\":{\"field\":\"color\"},\"height\":{\"field\":\"height\",\"units\":\"data\"},\"line_color\":{\"field\":\"line_color\"},\"width\":{\"field\":\"width\",\"units\":\"data\"},\"x\":{\"field\":\"x\"},\"y\":{\"field\":\"y\"}},\"id\":\"3a04a5e3-90b8-40a3-8d7f-e215a0ef3e8b\",\"type\":\"Rect\"},{\"attributes\":{\"fill_alpha\":{\"field\":\"fill_alpha\"},\"fill_color\":{\"field\":\"color\"},\"height\":{\"field\":\"height\",\"units\":\"data\"},\"line_color\":{\"field\":\"line_color\"},\"width\":{\"field\":\"width\",\"units\":\"data\"},\"x\":{\"field\":\"x\"},\"y\":{\"field\":\"y\"}},\"id\":\"d30189fc-e364-40e1-ad1d-a4055423e2c0\",\"type\":\"Rect\"},{\"attributes\":{\"callback\":null,\"column_names\":[\"x\",\"label\",\"height\",\"color\",\"line_alpha\",\"line_color\",\"y\",\"width\",\"fill_alpha\"],\"data\":{\"chart_index\":[\"(202.032380, 224.478200]\"],\"color\":[\"#f22c40\"],\"fill_alpha\":[0.8],\"height\":[37052.0],\"label\":[\"(202.032380, 224.478200]\"],\"line_alpha\":[1.0],\"line_color\":[\"black\"],\"width\":[22.445819999999998],\"x\":[\"213.25529\"],\"y\":[18526.0]}},\"id\":\"f4ea8dd0-6da2-4098-a728-49e7e0fff219\",\"type\":\"ColumnDataSource\"},{\"attributes\":{\"callback\":null,\"end\":67844.70000000001},\"id\":\"62d75ee0-a7db-4328-866c-a3a12310ed3d\",\"type\":\"Range1d\"},{\"attributes\":{\"callback\":null,\"column_names\":[\"x\",\"label\",\"height\",\"color\",\"line_alpha\",\"line_color\",\"y\",\"width\",\"fill_alpha\"],\"data\":{\"chart_index\":[\"(404.044760, 426.490580]\"],\"color\":[\"#f22c40\"],\"fill_alpha\":[0.8],\"height\":[5227.0],\"label\":[\"(404.044760, 426.490580]\"],\"line_alpha\":[1.0],\"line_color\":[\"black\"],\"width\":[22.44581999999997],\"x\":[\"415.26767\"],\"y\":[2613.5]}},\"id\":\"3039b0aa-5c92-4c61-87fb-e2f3b6e8aaf2\",\"type\":\"ColumnDataSource\"},{\"attributes\":{\"plot\":{\"id\":\"23f53eb4-9a59-4132-8964-0ee325c23eba\",\"subtype\":\"Chart\",\"type\":\"Plot\"}},\"id\":\"2a1c437b-2b93-4784-93e7-08e4cc5f003d\",\"type\":\"WheelZoomTool\"},{\"attributes\":{\"callback\":null,\"column_names\":[\"x\",\"label\",\"height\",\"color\",\"line_alpha\",\"line_color\",\"y\",\"width\",\"fill_alpha\"],\"data\":{\"chart_index\":[\"(471.382220, 493.828040]\"],\"color\":[\"#f22c40\"],\"fill_alpha\":[0.8],\"height\":[0.0],\"label\":[\"(471.382220, 493.828040]\"],\"line_alpha\":[1.0],\"line_color\":[\"black\"],\"width\":[22.44581999999997],\"x\":[\"482.60513000000003\"],\"y\":[0.0]}},\"id\":\"e2c028d0-7a52-4169-930f-47d347c8d392\",\"type\":\"ColumnDataSource\"},{\"attributes\":{\"callback\":null,\"column_names\":[\"x\",\"label\",\"height\",\"color\",\"line_alpha\",\"line_color\",\"y\",\"width\",\"fill_alpha\"],\"data\":{\"chart_index\":[\"(1054.973540, 1077.419360]\"],\"color\":[\"#f22c40\"],\"fill_alpha\":[0.8],\"height\":[3789.0],\"label\":[\"(1054.973540, 1077.419360]\"],\"line_alpha\":[1.0],\"line_color\":[\"black\"],\"width\":[22.445819999999912],\"x\":[\"1066.19645\"],\"y\":[1894.5]}},\"id\":\"8d466c23-397a-42bf-be12-c804c894187d\",\"type\":\"ColumnDataSource\"},{\"attributes\":{\"fill_alpha\":{\"field\":\"fill_alpha\"},\"fill_color\":{\"field\":\"color\"},\"height\":{\"field\":\"height\",\"units\":\"data\"},\"line_color\":{\"field\":\"line_color\"},\"width\":{\"field\":\"width\",\"units\":\"data\"},\"x\":{\"field\":\"x\"},\"y\":{\"field\":\"y\"}},\"id\":\"7418945b-34e0-4c90-9e4e-cf69b2dada09\",\"type\":\"Rect\"},{\"attributes\":{},\"id\":\"c2de8f81-93ff-4913-b4a4-e7f8c591a10e\",\"type\":\"ToolEvents\"},{\"attributes\":{\"data_source\":{\"id\":\"1e88829a-ac81-4710-b018-eba0520a3ed1\",\"type\":\"ColumnDataSource\"},\"glyph\":{\"id\":\"4ff39db2-a31a-4679-8aaa-ed06c91e9e9a\",\"type\":\"Rect\"},\"hover_glyph\":null,\"nonselection_glyph\":null,\"selection_glyph\":null},\"id\":\"ddae1fa3-9aef-45f9-b645-7f75a0a7a546\",\"type\":\"GlyphRenderer\"},{\"attributes\":{\"data_source\":{\"id\":\"e2c028d0-7a52-4169-930f-47d347c8d392\",\"type\":\"ColumnDataSource\"},\"glyph\":{\"id\":\"66c18960-959d-40bc-a2b5-db409cd7a604\",\"type\":\"Rect\"},\"hover_glyph\":null,\"nonselection_glyph\":null,\"selection_glyph\":null},\"id\":\"c279300e-3013-414a-b5ae-1ee345c759b8\",\"type\":\"GlyphRenderer\"},{\"attributes\":{\"plot\":{\"id\":\"23f53eb4-9a59-4132-8964-0ee325c23eba\",\"subtype\":\"Chart\",\"type\":\"Plot\"}},\"id\":\"ac73ee4e-122a-4756-917c-7cc8c61ccacf\",\"type\":\"HelpTool\"},{\"attributes\":{\"data_source\":{\"id\":\"094d810d-a9db-41bb-bcac-5717010e028d\",\"type\":\"ColumnDataSource\"},\"glyph\":{\"id\":\"2ee96f83-e2cd-40cb-94a0-52aad7e491b0\",\"type\":\"Rect\"},\"hover_glyph\":null,\"nonselection_glyph\":null,\"selection_glyph\":null},\"id\":\"4172481c-669d-4714-8219-acfeb5ea6de4\",\"type\":\"GlyphRenderer\"},{\"attributes\":{\"callback\":null,\"column_names\":[\"x\",\"label\",\"height\",\"color\",\"line_alpha\",\"line_color\",\"y\",\"width\",\"fill_alpha\"],\"data\":{\"chart_index\":[\"(785.623700, 808.069520]\"],\"color\":[\"#f22c40\"],\"fill_alpha\":[0.8],\"height\":[3834.0],\"label\":[\"(785.623700, 808.069520]\"],\"line_alpha\":[1.0],\"line_color\":[\"black\"],\"width\":[22.445820000000026],\"x\":[\"796.84661\"],\"y\":[1917.0]}},\"id\":\"26f49139-1ec9-4df0-9faf-9032ff24c5ed\",\"type\":\"ColumnDataSource\"},{\"attributes\":{\"callback\":null,\"column_names\":[\"x\",\"label\",\"height\",\"color\",\"line_alpha\",\"line_color\",\"y\",\"width\",\"fill_alpha\"],\"data\":{\"chart_index\":[\"(538.719680, 561.165500]\"],\"color\":[\"#f22c40\"],\"fill_alpha\":[0.8],\"height\":[6.0],\"label\":[\"(538.719680, 561.165500]\"],\"line_alpha\":[1.0],\"line_color\":[\"black\"],\"width\":[22.445820000000026],\"x\":[\"549.94259\"],\"y\":[3.0]}},\"id\":\"877990ec-3cbe-4775-adea-70b2974ccfc0\",\"type\":\"ColumnDataSource\"},{\"attributes\":{\"data_source\":{\"id\":\"4444f3eb-6ca8-471f-8a06-85997b3b898f\",\"type\":\"ColumnDataSource\"},\"glyph\":{\"id\":\"408780bc-81ca-46be-b241-beed2af11da1\",\"type\":\"Rect\"},\"hover_glyph\":null,\"nonselection_glyph\":null,\"selection_glyph\":null},\"id\":\"91832fa7-206a-43d9-a769-079a6a7a9cc7\",\"type\":\"GlyphRenderer\"},{\"attributes\":{\"data_source\":{\"id\":\"b5cf4428-5f86-4b2a-a099-1233ba68e456\",\"type\":\"ColumnDataSource\"},\"glyph\":{\"id\":\"bef62897-d225-4fe6-a9a3-155f3124fe7f\",\"type\":\"Rect\"},\"hover_glyph\":null,\"nonselection_glyph\":null,\"selection_glyph\":null},\"id\":\"2c597cac-4ef3-44c3-8d4d-e8ef7e6d28dd\",\"type\":\"GlyphRenderer\"},{\"attributes\":{\"fill_alpha\":{\"field\":\"fill_alpha\"},\"fill_color\":{\"field\":\"color\"},\"height\":{\"field\":\"height\",\"units\":\"data\"},\"line_color\":{\"field\":\"line_color\"},\"width\":{\"field\":\"width\",\"units\":\"data\"},\"x\":{\"field\":\"x\"},\"y\":{\"field\":\"y\"}},\"id\":\"32bade64-76d8-4fca-9d69-7b96759d1b33\",\"type\":\"Rect\"},{\"attributes\":{\"fill_alpha\":{\"field\":\"fill_alpha\"},\"fill_color\":{\"field\":\"color\"},\"height\":{\"field\":\"height\",\"units\":\"data\"},\"line_color\":{\"field\":\"line_color\"},\"width\":{\"field\":\"width\",\"units\":\"data\"},\"x\":{\"field\":\"x\"},\"y\":{\"field\":\"y\"}},\"id\":\"7282cb6e-f209-4377-825b-35db40f7e54a\",\"type\":\"Rect\"},{\"attributes\":{\"fill_alpha\":{\"field\":\"fill_alpha\"},\"fill_color\":{\"field\":\"color\"},\"height\":{\"field\":\"height\",\"units\":\"data\"},\"line_color\":{\"field\":\"line_color\"},\"width\":{\"field\":\"width\",\"units\":\"data\"},\"x\":{\"field\":\"x\"},\"y\":{\"field\":\"y\"}},\"id\":\"f8865bdc-7f17-497e-b189-12d6dcc0fb17\",\"type\":\"Rect\"},{\"attributes\":{\"fill_alpha\":{\"field\":\"fill_alpha\"},\"fill_color\":{\"field\":\"color\"},\"height\":{\"field\":\"height\",\"units\":\"data\"},\"line_color\":{\"field\":\"line_color\"},\"width\":{\"field\":\"width\",\"units\":\"data\"},\"x\":{\"field\":\"x\"},\"y\":{\"field\":\"y\"}},\"id\":\"8ed98859-826e-4c19-97dd-9d69faaaf59a\",\"type\":\"Rect\"},{\"attributes\":{\"data_source\":{\"id\":\"8f17f202-662b-482e-97d7-e0bbef7a10df\",\"type\":\"ColumnDataSource\"},\"glyph\":{\"id\":\"c7900bb7-123a-421f-9580-46f701cdc876\",\"type\":\"Rect\"},\"hover_glyph\":null,\"nonselection_glyph\":null,\"selection_glyph\":null},\"id\":\"d0fce795-d7ae-484d-b807-b5697609caea\",\"type\":\"GlyphRenderer\"},{\"attributes\":{\"dimension\":1,\"plot\":{\"id\":\"23f53eb4-9a59-4132-8964-0ee325c23eba\",\"subtype\":\"Chart\",\"type\":\"Plot\"},\"ticker\":{\"id\":\"5e53df01-ce7e-4f1c-992b-4b25e47883a4\",\"type\":\"BasicTicker\"}},\"id\":\"66d2855f-e36e-450c-8758-bfa2c7fd2277\",\"type\":\"Grid\"},{\"attributes\":{\"data_source\":{\"id\":\"b7521eee-030c-4b3b-a224-2712707c239f\",\"type\":\"ColumnDataSource\"},\"glyph\":{\"id\":\"ec5b3b11-e02b-4f1a-a1dd-7176b41810f4\",\"type\":\"Rect\"},\"hover_glyph\":null,\"nonselection_glyph\":null,\"selection_glyph\":null},\"id\":\"ff9a69fe-cdfe-4519-ba8e-945ded7daeb9\",\"type\":\"GlyphRenderer\"},{\"attributes\":{\"callback\":null,\"end\":1150.3692750000002,\"start\":-28.038275000000006},\"id\":\"514570b4-80c3-4f9e-8332-8e82d1f04c89\",\"type\":\"Range1d\"},{\"attributes\":{\"data_source\":{\"id\":\"00284c87-0a45-4f09-9581-f81ddea20c7e\",\"type\":\"ColumnDataSource\"},\"glyph\":{\"id\":\"deaf580a-0ce7-4f58-b94b-53506462715e\",\"type\":\"Rect\"},\"hover_glyph\":null,\"nonselection_glyph\":null,\"selection_glyph\":null},\"id\":\"2c31709d-89d0-4592-9aeb-55861c6457c3\",\"type\":\"GlyphRenderer\"},{\"attributes\":{\"callback\":null,\"column_names\":[\"x\",\"label\",\"height\",\"color\",\"line_alpha\",\"line_color\",\"y\",\"width\",\"fill_alpha\"],\"data\":{\"chart_index\":[\"(157.140740, 179.586560]\"],\"color\":[\"#f22c40\"],\"fill_alpha\":[0.8],\"height\":[21028.0],\"label\":[\"(157.140740, 179.586560]\"],\"line_alpha\":[1.0],\"line_color\":[\"black\"],\"width\":[22.445819999999998],\"x\":[\"168.36365\"],\"y\":[10514.0]}},\"id\":\"8f17f202-662b-482e-97d7-e0bbef7a10df\",\"type\":\"ColumnDataSource\"},{\"attributes\":{\"callback\":null,\"column_names\":[\"x\",\"label\",\"height\",\"color\",\"line_alpha\",\"line_color\",\"y\",\"width\",\"fill_alpha\"],\"data\":{\"chart_index\":[\"(718.286240, 740.732060]\"],\"color\":[\"#f22c40\"],\"fill_alpha\":[0.8],\"height\":[131.0],\"label\":[\"(718.286240, 740.732060]\"],\"line_alpha\":[1.0],\"line_color\":[\"black\"],\"width\":[22.445820000000026],\"x\":[\"729.5091500000001\"],\"y\":[65.5]}},\"id\":\"0c8c72bc-aefa-4c97-a372-6aa7356df9a2\",\"type\":\"ColumnDataSource\"},{\"attributes\":{},\"id\":\"8d571c38-2f78-40f4-8972-9dca71d64cf5\",\"type\":\"BasicTicker\"},{\"attributes\":{\"callback\":null,\"column_names\":[\"x\",\"label\",\"height\",\"color\",\"line_alpha\",\"line_color\",\"y\",\"width\",\"fill_alpha\"],\"data\":{\"chart_index\":[\"(516.273860, 538.719680]\"],\"color\":[\"#f22c40\"],\"fill_alpha\":[0.8],\"height\":[0.0],\"label\":[\"(516.273860, 538.719680]\"],\"line_alpha\":[1.0],\"line_color\":[\"black\"],\"width\":[22.445820000000026],\"x\":[\"527.49677\"],\"y\":[0.0]}},\"id\":\"fd44a5d4-a8d5-4a62-be0d-7da29176224d\",\"type\":\"ColumnDataSource\"},{\"attributes\":{\"data_source\":{\"id\":\"cf6f9505-adf1-45bb-b11f-9c7b3586f31e\",\"type\":\"ColumnDataSource\"},\"glyph\":{\"id\":\"639add62-f63b-4aa0-8444-d5d52c741713\",\"type\":\"Rect\"},\"hover_glyph\":null,\"nonselection_glyph\":null,\"selection_glyph\":null},\"id\":\"a21b6155-1628-4213-aaa3-ca2b27a11834\",\"type\":\"GlyphRenderer\"},{\"attributes\":{\"callback\":null,\"column_names\":[\"x\",\"label\",\"height\",\"color\",\"line_alpha\",\"line_color\",\"y\",\"width\",\"fill_alpha\"],\"data\":{\"chart_index\":[\"(875.406980, 897.852800]\"],\"color\":[\"#f22c40\"],\"fill_alpha\":[0.8],\"height\":[1320.0],\"label\":[\"(875.406980, 897.852800]\"],\"line_alpha\":[1.0],\"line_color\":[\"black\"],\"width\":[22.445820000000026],\"x\":[\"886.6298899999999\"],\"y\":[660.0]}},\"id\":\"b7521eee-030c-4b3b-a224-2712707c239f\",\"type\":\"ColumnDataSource\"},{\"attributes\":{\"fill_alpha\":{\"field\":\"fill_alpha\"},\"fill_color\":{\"field\":\"color\"},\"height\":{\"field\":\"height\",\"units\":\"data\"},\"line_color\":{\"field\":\"line_color\"},\"width\":{\"field\":\"width\",\"units\":\"data\"},\"x\":{\"field\":\"x\"},\"y\":{\"field\":\"y\"}},\"id\":\"f4f71dd4-93af-460a-b46c-88d1230fd959\",\"type\":\"Rect\"},{\"attributes\":{\"fill_alpha\":{\"field\":\"fill_alpha\"},\"fill_color\":{\"field\":\"color\"},\"height\":{\"field\":\"height\",\"units\":\"data\"},\"line_color\":{\"field\":\"line_color\"},\"width\":{\"field\":\"width\",\"units\":\"data\"},\"x\":{\"field\":\"x\"},\"y\":{\"field\":\"y\"}},\"id\":\"8c6e531c-ba91-44a7-86f3-28b60bdab847\",\"type\":\"Rect\"},{\"attributes\":{\"data_source\":{\"id\":\"9a1be1de-0c25-4344-9a41-c4cc1a7aa0a9\",\"type\":\"ColumnDataSource\"},\"glyph\":{\"id\":\"ed7ed1e7-3753-4c4e-8ec2-5479da244056\",\"type\":\"Rect\"},\"hover_glyph\":null,\"nonselection_glyph\":null,\"selection_glyph\":null},\"id\":\"66384f20-fa8c-4d3a-85cb-81f2b41058bd\",\"type\":\"GlyphRenderer\"},{\"attributes\":{\"bottom_units\":\"screen\",\"fill_alpha\":{\"value\":0.5},\"fill_color\":{\"value\":\"lightgrey\"},\"left_units\":\"screen\",\"level\":\"overlay\",\"line_alpha\":{\"value\":1.0},\"line_color\":{\"value\":\"black\"},\"line_dash\":[4,4],\"line_width\":{\"value\":2},\"plot\":null,\"render_mode\":\"css\",\"right_units\":\"screen\",\"top_units\":\"screen\"},\"id\":\"b63a242d-3b40-457c-bebe-503ffe6e4938\",\"type\":\"BoxAnnotation\"},{\"attributes\":{\"fill_alpha\":{\"field\":\"fill_alpha\"},\"fill_color\":{\"field\":\"color\"},\"height\":{\"field\":\"height\",\"units\":\"data\"},\"line_color\":{\"field\":\"line_color\"},\"width\":{\"field\":\"width\",\"units\":\"data\"},\"x\":{\"field\":\"x\"},\"y\":{\"field\":\"y\"}},\"id\":\"af6afab1-e676-4ecd-9e29-e3eb48426b6e\",\"type\":\"Rect\"},{\"attributes\":{\"callback\":null,\"column_names\":[\"x\",\"label\",\"height\",\"color\",\"line_alpha\",\"line_color\",\"y\",\"width\",\"fill_alpha\"],\"data\":{\"chart_index\":[\"(1077.419360, 1099.865180]\"],\"color\":[\"#f22c40\"],\"fill_alpha\":[0.8],\"height\":[1224.0],\"label\":[\"(1077.419360, 1099.865180]\"],\"line_alpha\":[1.0],\"line_color\":[\"black\"],\"width\":[22.445819999999912],\"x\":[\"1088.64227\"],\"y\":[612.0]}},\"id\":\"24ed9948-7c03-4aab-b64e-7dc08d813bfb\",\"type\":\"ColumnDataSource\"},{\"attributes\":{\"data_source\":{\"id\":\"0c8c72bc-aefa-4c97-a372-6aa7356df9a2\",\"type\":\"ColumnDataSource\"},\"glyph\":{\"id\":\"f5250fb1-a218-4c8c-91f3-3e379873c746\",\"type\":\"Rect\"},\"hover_glyph\":null,\"nonselection_glyph\":null,\"selection_glyph\":null},\"id\":\"066584af-eba4-4aa0-bd2c-e813a3d293c9\",\"type\":\"GlyphRenderer\"},{\"attributes\":{\"data_source\":{\"id\":\"397b8940-7d0f-47be-9efb-167d61a6df00\",\"type\":\"ColumnDataSource\"},\"glyph\":{\"id\":\"3423c90f-aa08-46a1-b296-86a3c8c9b37e\",\"type\":\"Rect\"},\"hover_glyph\":null,\"nonselection_glyph\":null,\"selection_glyph\":null},\"id\":\"cdd112ea-0816-47ca-92e5-d31c44d4ef4b\",\"type\":\"GlyphRenderer\"},{\"attributes\":{\"data_source\":{\"id\":\"18726ffc-5d9c-4490-8818-a1c22b13557c\",\"type\":\"ColumnDataSource\"},\"glyph\":{\"id\":\"ff2df6cf-f962-4132-9c22-9e6f02ee1466\",\"type\":\"Rect\"},\"hover_glyph\":null,\"nonselection_glyph\":null,\"selection_glyph\":null},\"id\":\"873d8f6d-40c0-4e58-9d74-85acdf715469\",\"type\":\"GlyphRenderer\"},{\"attributes\":{\"fill_alpha\":{\"field\":\"fill_alpha\"},\"fill_color\":{\"field\":\"color\"},\"height\":{\"field\":\"height\",\"units\":\"data\"},\"line_color\":{\"field\":\"line_color\"},\"width\":{\"field\":\"width\",\"units\":\"data\"},\"x\":{\"field\":\"x\"},\"y\":{\"field\":\"y\"}},\"id\":\"639add62-f63b-4aa0-8444-d5d52c741713\",\"type\":\"Rect\"},{\"attributes\":{\"data_source\":{\"id\":\"0c6d6fbf-6e7a-4ecd-87c8-71cd4a33f4f2\",\"type\":\"ColumnDataSource\"},\"glyph\":{\"id\":\"16c262f2-2f62-42d3-af75-0d56abe31910\",\"type\":\"Rect\"},\"hover_glyph\":null,\"nonselection_glyph\":null,\"selection_glyph\":null},\"id\":\"d16e2849-85ea-4c7b-ae34-030dd9cb7697\",\"type\":\"GlyphRenderer\"},{\"attributes\":{\"callback\":null,\"column_names\":[\"x\",\"label\",\"height\",\"color\",\"line_alpha\",\"line_color\",\"y\",\"width\",\"fill_alpha\"],\"data\":{\"chart_index\":[\"(493.828040, 516.273860]\"],\"color\":[\"#f22c40\"],\"fill_alpha\":[0.8],\"height\":[0.0],\"label\":[\"(493.828040, 516.273860]\"],\"line_alpha\":[1.0],\"line_color\":[\"black\"],\"width\":[22.44581999999997],\"x\":[\"505.05095\"],\"y\":[0.0]}},\"id\":\"54e9f0c3-2657-4bce-8932-b529957b011c\",\"type\":\"ColumnDataSource\"},{\"attributes\":{\"data_source\":{\"id\":\"f63cdd2f-2cd0-4281-a924-025e2de84002\",\"type\":\"ColumnDataSource\"},\"glyph\":{\"id\":\"5487401a-29eb-4822-8308-7919ab61bca7\",\"type\":\"Rect\"},\"hover_glyph\":null,\"nonselection_glyph\":null,\"selection_glyph\":null},\"id\":\"868b92e5-5e2d-43f0-93f6-ae8849117d06\",\"type\":\"GlyphRenderer\"},{\"attributes\":{\"data_source\":{\"id\":\"9fe0fb6f-a4f2-49d1-8dc1-f5e963aa1bb0\",\"type\":\"ColumnDataSource\"},\"glyph\":{\"id\":\"32bade64-76d8-4fca-9d69-7b96759d1b33\",\"type\":\"Rect\"},\"hover_glyph\":null,\"nonselection_glyph\":null,\"selection_glyph\":null},\"id\":\"35491200-7844-4a0e-942f-5d857ea16245\",\"type\":\"GlyphRenderer\"},{\"attributes\":{\"fill_alpha\":{\"field\":\"fill_alpha\"},\"fill_color\":{\"field\":\"color\"},\"height\":{\"field\":\"height\",\"units\":\"data\"},\"line_color\":{\"field\":\"line_color\"},\"width\":{\"field\":\"width\",\"units\":\"data\"},\"x\":{\"field\":\"x\"},\"y\":{\"field\":\"y\"}},\"id\":\"ff2df6cf-f962-4132-9c22-9e6f02ee1466\",\"type\":\"Rect\"},{\"attributes\":{\"callback\":null,\"column_names\":[\"x\",\"label\",\"height\",\"color\",\"line_alpha\",\"line_color\",\"y\",\"width\",\"fill_alpha\"],\"data\":{\"chart_index\":[\"(606.057140, 628.502960]\"],\"color\":[\"#f22c40\"],\"fill_alpha\":[0.8],\"height\":[466.0],\"label\":[\"(606.057140, 628.502960]\"],\"line_alpha\":[1.0],\"line_color\":[\"black\"],\"width\":[22.445820000000026],\"x\":[\"617.2800500000001\"],\"y\":[233.0]}},\"id\":\"d19bfa64-eb31-4917-b37f-5bb90f8f94f5\",\"type\":\"ColumnDataSource\"},{\"attributes\":{\"data_source\":{\"id\":\"5cc85d69-d7ec-4add-8c74-adfaeaabfd3e\",\"type\":\"ColumnDataSource\"},\"glyph\":{\"id\":\"b6dc68ff-1227-4e98-9bb7-8e519525b65d\",\"type\":\"Rect\"},\"hover_glyph\":null,\"nonselection_glyph\":null,\"selection_glyph\":null},\"id\":\"09341a24-38f1-4f84-a99a-75b72bf4180d\",\"type\":\"GlyphRenderer\"},{\"attributes\":{\"fill_alpha\":{\"field\":\"fill_alpha\"},\"fill_color\":{\"field\":\"color\"},\"height\":{\"field\":\"height\",\"units\":\"data\"},\"line_color\":{\"field\":\"line_color\"},\"width\":{\"field\":\"width\",\"units\":\"data\"},\"x\":{\"field\":\"x\"},\"y\":{\"field\":\"y\"}},\"id\":\"073927d7-d70d-46df-86eb-ba31a4582016\",\"type\":\"Rect\"},{\"attributes\":{\"data_source\":{\"id\":\"0ad3e200-9627-449d-96d9-f9e930ab4dd7\",\"type\":\"ColumnDataSource\"},\"glyph\":{\"id\":\"6ef357f2-a1af-4a7b-ac02-31794b57be97\",\"type\":\"Rect\"},\"hover_glyph\":null,\"nonselection_glyph\":null,\"selection_glyph\":null},\"id\":\"31289301-6971-4817-afeb-12d2c0fdf464\",\"type\":\"GlyphRenderer\"},{\"attributes\":{\"fill_alpha\":{\"field\":\"fill_alpha\"},\"fill_color\":{\"field\":\"color\"},\"height\":{\"field\":\"height\",\"units\":\"data\"},\"line_color\":{\"field\":\"line_color\"},\"width\":{\"field\":\"width\",\"units\":\"data\"},\"x\":{\"field\":\"x\"},\"y\":{\"field\":\"y\"}},\"id\":\"750d5f0f-f49a-437b-8ed6-6766b7187629\",\"type\":\"Rect\"},{\"attributes\":{\"overlay\":{\"id\":\"b63a242d-3b40-457c-bebe-503ffe6e4938\",\"type\":\"BoxAnnotation\"},\"plot\":{\"id\":\"23f53eb4-9a59-4132-8964-0ee325c23eba\",\"subtype\":\"Chart\",\"type\":\"Plot\"}},\"id\":\"ae75cf9c-e24f-48b8-b2de-472e0a9977b0\",\"type\":\"BoxZoomTool\"},{\"attributes\":{\"callback\":null,\"column_names\":[\"x\",\"label\",\"height\",\"color\",\"line_alpha\",\"line_color\",\"y\",\"width\",\"fill_alpha\"],\"data\":{\"chart_index\":[\"(561.165500, 583.611320]\"],\"color\":[\"#f22c40\"],\"fill_alpha\":[0.8],\"height\":[19.0],\"label\":[\"(561.165500, 583.611320]\"],\"line_alpha\":[1.0],\"line_color\":[\"black\"],\"width\":[22.445820000000026],\"x\":[\"572.38841\"],\"y\":[9.5]}},\"id\":\"6a9936d5-3965-471a-8c1d-c43448616529\",\"type\":\"ColumnDataSource\"},{\"attributes\":{\"callback\":null,\"column_names\":[\"x\",\"label\",\"height\",\"color\",\"line_alpha\",\"line_color\",\"y\",\"width\",\"fill_alpha\"],\"data\":{\"chart_index\":[\"(1099.865180, 1122.311000]\"],\"color\":[\"#f22c40\"],\"fill_alpha\":[0.8],\"height\":[1852.0],\"label\":[\"(1099.865180, 1122.311000]\"],\"line_alpha\":[1.0],\"line_color\":[\"black\"],\"width\":[22.44582000000014],\"x\":[\"1111.08809\"],\"y\":[926.0]}},\"id\":\"84c7e6a9-dd03-4a9f-ad72-51be0b3e8b60\",\"type\":\"ColumnDataSource\"},{\"attributes\":{\"fill_alpha\":{\"field\":\"fill_alpha\"},\"fill_color\":{\"field\":\"color\"},\"height\":{\"field\":\"height\",\"units\":\"data\"},\"line_color\":{\"field\":\"line_color\"},\"width\":{\"field\":\"width\",\"units\":\"data\"},\"x\":{\"field\":\"x\"},\"y\":{\"field\":\"y\"}},\"id\":\"5487401a-29eb-4822-8308-7919ab61bca7\",\"type\":\"Rect\"},{\"attributes\":{\"fill_alpha\":{\"field\":\"fill_alpha\"},\"fill_color\":{\"field\":\"color\"},\"height\":{\"field\":\"height\",\"units\":\"data\"},\"line_color\":{\"field\":\"line_color\"},\"width\":{\"field\":\"width\",\"units\":\"data\"},\"x\":{\"field\":\"x\"},\"y\":{\"field\":\"y\"}},\"id\":\"f5250fb1-a218-4c8c-91f3-3e379873c746\",\"type\":\"Rect\"},{\"attributes\":{\"callback\":null,\"column_names\":[\"x\",\"label\",\"height\",\"color\",\"line_alpha\",\"line_color\",\"y\",\"width\",\"fill_alpha\"],\"data\":{\"chart_index\":[\"(650.948780, 673.394600]\"],\"color\":[\"#f22c40\"],\"fill_alpha\":[0.8],\"height\":[1432.0],\"label\":[\"(650.948780, 673.394600]\"],\"line_alpha\":[1.0],\"line_color\":[\"black\"],\"width\":[22.445819999999912],\"x\":[\"662.17169\"],\"y\":[716.0]}},\"id\":\"397b8940-7d0f-47be-9efb-167d61a6df00\",\"type\":\"ColumnDataSource\"},{\"attributes\":{\"callback\":null,\"column_names\":[\"x\",\"label\",\"height\",\"color\",\"line_alpha\",\"line_color\",\"y\",\"width\",\"fill_alpha\"],\"data\":{\"chart_index\":[\"(67.357460, 89.803280]\"],\"color\":[\"#f22c40\"],\"fill_alpha\":[0.8],\"height\":[61677.0],\"label\":[\"(67.357460, 89.803280]\"],\"line_alpha\":[1.0],\"line_color\":[\"black\"],\"width\":[22.445819999999998],\"x\":[\"78.58037\"],\"y\":[30838.5]}},\"id\":\"768e2d84-d5ea-4f17-bf8f-8056f6612969\",\"type\":\"ColumnDataSource\"},{\"attributes\":{},\"id\":\"d54167f3-80f0-43cb-9359-5187bc1ed48f\",\"type\":\"BasicTickFormatter\"},{\"attributes\":{\"fill_alpha\":{\"field\":\"fill_alpha\"},\"fill_color\":{\"field\":\"color\"},\"height\":{\"field\":\"height\",\"units\":\"data\"},\"line_color\":{\"field\":\"line_color\"},\"width\":{\"field\":\"width\",\"units\":\"data\"},\"x\":{\"field\":\"x\"},\"y\":{\"field\":\"y\"}},\"id\":\"84e7ac71-1a12-421c-8f7f-fa8b4790a868\",\"type\":\"Rect\"},{\"attributes\":{\"data_source\":{\"id\":\"8164ccd6-640b-44ae-841b-cc9c86f7440e\",\"type\":\"ColumnDataSource\"},\"glyph\":{\"id\":\"153757f5-5bee-4281-8bbc-2ab50f91794b\",\"type\":\"Rect\"},\"hover_glyph\":null,\"nonselection_glyph\":null,\"selection_glyph\":null},\"id\":\"7d48abff-3f9a-4739-88c6-006f671d6ed5\",\"type\":\"GlyphRenderer\"},{\"attributes\":{\"data_source\":{\"id\":\"b6dedfca-10f7-4a6f-b657-0d01e6fd5789\",\"type\":\"ColumnDataSource\"},\"glyph\":{\"id\":\"1ce00212-21f5-4511-924e-fd21ab541f7e\",\"type\":\"Rect\"},\"hover_glyph\":null,\"nonselection_glyph\":null,\"selection_glyph\":null},\"id\":\"d8119e0f-21a9-40c5-8cf8-d723475e342e\",\"type\":\"GlyphRenderer\"},{\"attributes\":{\"fill_alpha\":{\"field\":\"fill_alpha\"},\"fill_color\":{\"field\":\"color\"},\"height\":{\"field\":\"height\",\"units\":\"data\"},\"line_color\":{\"field\":\"line_color\"},\"width\":{\"field\":\"width\",\"units\":\"data\"},\"x\":{\"field\":\"x\"},\"y\":{\"field\":\"y\"}},\"id\":\"434288cd-f45f-4331-94f1-38e7ad4b7577\",\"type\":\"Rect\"},{\"attributes\":{\"fill_alpha\":{\"field\":\"fill_alpha\"},\"fill_color\":{\"field\":\"color\"},\"height\":{\"field\":\"height\",\"units\":\"data\"},\"line_color\":{\"field\":\"line_color\"},\"width\":{\"field\":\"width\",\"units\":\"data\"},\"x\":{\"field\":\"x\"},\"y\":{\"field\":\"y\"}},\"id\":\"6826639e-2550-42d7-a709-f2968c7fe338\",\"type\":\"Rect\"},{\"attributes\":{\"data_source\":{\"id\":\"f4ea8dd0-6da2-4098-a728-49e7e0fff219\",\"type\":\"ColumnDataSource\"},\"glyph\":{\"id\":\"6826639e-2550-42d7-a709-f2968c7fe338\",\"type\":\"Rect\"},\"hover_glyph\":null,\"nonselection_glyph\":null,\"selection_glyph\":null},\"id\":\"dadf58ef-5a11-4243-a381-d86bd4bbb21f\",\"type\":\"GlyphRenderer\"},{\"attributes\":{\"plot\":{\"id\":\"23f53eb4-9a59-4132-8964-0ee325c23eba\",\"subtype\":\"Chart\",\"type\":\"Plot\"}},\"id\":\"68353654-1c96-43e9-8641-06db0b43f20a\",\"type\":\"SaveTool\"},{\"attributes\":{\"data_source\":{\"id\":\"d7f2493d-bb3e-4084-959a-05e041a006fe\",\"type\":\"ColumnDataSource\"},\"glyph\":{\"id\":\"f90145df-122a-43b2-ae69-b405a6fb4f56\",\"type\":\"Rect\"},\"hover_glyph\":null,\"nonselection_glyph\":null,\"selection_glyph\":null},\"id\":\"d4ee7612-92fc-40ac-8a85-e677d247e1d2\",\"type\":\"GlyphRenderer\"},{\"attributes\":{\"data_source\":{\"id\":\"6d4e6093-5188-4000-bce2-88f0e836376a\",\"type\":\"ColumnDataSource\"},\"glyph\":{\"id\":\"073927d7-d70d-46df-86eb-ba31a4582016\",\"type\":\"Rect\"},\"hover_glyph\":null,\"nonselection_glyph\":null,\"selection_glyph\":null},\"id\":\"ab6d7aa1-793a-464d-b482-e77c82bea9b2\",\"type\":\"GlyphRenderer\"},{\"attributes\":{\"fill_alpha\":{\"field\":\"fill_alpha\"},\"fill_color\":{\"field\":\"color\"},\"height\":{\"field\":\"height\",\"units\":\"data\"},\"line_color\":{\"field\":\"line_color\"},\"width\":{\"field\":\"width\",\"units\":\"data\"},\"x\":{\"field\":\"x\"},\"y\":{\"field\":\"y\"}},\"id\":\"c7900bb7-123a-421f-9580-46f701cdc876\",\"type\":\"Rect\"},{\"attributes\":{\"data_source\":{\"id\":\"0ca331d2-22ff-4706-8acf-ae1f63247906\",\"type\":\"ColumnDataSource\"},\"glyph\":{\"id\":\"3a04a5e3-90b8-40a3-8d7f-e215a0ef3e8b\",\"type\":\"Rect\"},\"hover_glyph\":null,\"nonselection_glyph\":null,\"selection_glyph\":null},\"id\":\"acf1e6e6-556c-426e-b53e-26cd2e4950aa\",\"type\":\"GlyphRenderer\"},{\"attributes\":{\"callback\":null,\"column_names\":[\"x\",\"label\",\"height\",\"color\",\"line_alpha\",\"line_color\",\"y\",\"width\",\"fill_alpha\"],\"data\":{\"chart_index\":[\"(224.478200, 246.924020]\"],\"color\":[\"#f22c40\"],\"fill_alpha\":[0.8],\"height\":[50171.0],\"label\":[\"(224.478200, 246.924020]\"],\"line_alpha\":[1.0],\"line_color\":[\"black\"],\"width\":[22.445819999999998],\"x\":[\"235.70111\"],\"y\":[25085.5]}},\"id\":\"44687430-3fce-4207-a615-b913cb00b2cd\",\"type\":\"ColumnDataSource\"},{\"attributes\":{\"data_source\":{\"id\":\"44687430-3fce-4207-a615-b913cb00b2cd\",\"type\":\"ColumnDataSource\"},\"glyph\":{\"id\":\"8ed98859-826e-4c19-97dd-9d69faaaf59a\",\"type\":\"Rect\"},\"hover_glyph\":null,\"nonselection_glyph\":null,\"selection_glyph\":null},\"id\":\"8a34ba6f-c75a-433f-892e-4fd927d3d65d\",\"type\":\"GlyphRenderer\"},{\"attributes\":{\"fill_alpha\":{\"field\":\"fill_alpha\"},\"fill_color\":{\"field\":\"color\"},\"height\":{\"field\":\"height\",\"units\":\"data\"},\"line_color\":{\"field\":\"line_color\"},\"width\":{\"field\":\"width\",\"units\":\"data\"},\"x\":{\"field\":\"x\"},\"y\":{\"field\":\"y\"}},\"id\":\"153757f5-5bee-4281-8bbc-2ab50f91794b\",\"type\":\"Rect\"},{\"attributes\":{\"fill_alpha\":{\"field\":\"fill_alpha\"},\"fill_color\":{\"field\":\"color\"},\"height\":{\"field\":\"height\",\"units\":\"data\"},\"line_color\":{\"field\":\"line_color\"},\"width\":{\"field\":\"width\",\"units\":\"data\"},\"x\":{\"field\":\"x\"},\"y\":{\"field\":\"y\"}},\"id\":\"262f747a-7896-41a4-93df-678c26ddb898\",\"type\":\"Rect\"},{\"attributes\":{\"active_drag\":\"auto\",\"active_scroll\":\"auto\",\"active_tap\":\"auto\",\"tools\":[{\"id\":\"86cbd99c-8c86-4e2a-b7a5-bec7c6e51cb5\",\"type\":\"PanTool\"},{\"id\":\"2a1c437b-2b93-4784-93e7-08e4cc5f003d\",\"type\":\"WheelZoomTool\"},{\"id\":\"ae75cf9c-e24f-48b8-b2de-472e0a9977b0\",\"type\":\"BoxZoomTool\"},{\"id\":\"68353654-1c96-43e9-8641-06db0b43f20a\",\"type\":\"SaveTool\"},{\"id\":\"7ae4c567-a4a8-4f18-86c3-a879a269c8df\",\"type\":\"ResetTool\"},{\"id\":\"ac73ee4e-122a-4756-917c-7cc8c61ccacf\",\"type\":\"HelpTool\"}]},\"id\":\"1ae25382-827a-4d5d-be9e-05fb09a6b60f\",\"type\":\"Toolbar\"},{\"attributes\":{\"callback\":null,\"column_names\":[\"x\",\"label\",\"height\",\"color\",\"line_alpha\",\"line_color\",\"y\",\"width\",\"fill_alpha\"],\"data\":{\"chart_index\":[\"(381.598940, 404.044760]\"],\"color\":[\"#f22c40\"],\"fill_alpha\":[0.8],\"height\":[5731.0],\"label\":[\"(381.598940, 404.044760]\"],\"line_alpha\":[1.0],\"line_color\":[\"black\"],\"width\":[22.44581999999997],\"x\":[\"392.82185000000004\"],\"y\":[2865.5]}},\"id\":\"f63cdd2f-2cd0-4281-a924-025e2de84002\",\"type\":\"ColumnDataSource\"},{\"attributes\":{\"callback\":null,\"column_names\":[\"x\",\"label\",\"height\",\"color\",\"line_alpha\",\"line_color\",\"y\",\"width\",\"fill_alpha\"],\"data\":{\"chart_index\":[\"(1032.527720, 1054.973540]\"],\"color\":[\"#f22c40\"],\"fill_alpha\":[0.8],\"height\":[1397.0],\"label\":[\"(1032.527720, 1054.973540]\"],\"line_alpha\":[1.0],\"line_color\":[\"black\"],\"width\":[22.44582000000014],\"x\":[\"1043.75063\"],\"y\":[698.5]}},\"id\":\"6aab7412-cef8-42e6-97ab-1ef32b4ec376\",\"type\":\"ColumnDataSource\"},{\"attributes\":{\"axis_label\":\"Byte Stream Size (kilobytes)\",\"formatter\":{\"id\":\"d54167f3-80f0-43cb-9359-5187bc1ed48f\",\"type\":\"BasicTickFormatter\"},\"plot\":{\"id\":\"23f53eb4-9a59-4132-8964-0ee325c23eba\",\"subtype\":\"Chart\",\"type\":\"Plot\"},\"ticker\":{\"id\":\"8d571c38-2f78-40f4-8972-9dca71d64cf5\",\"type\":\"BasicTicker\"}},\"id\":\"65dd9094-dd07-463e-bed8-40f9908e7cc9\",\"type\":\"LinearAxis\"},{\"attributes\":{\"fill_alpha\":{\"field\":\"fill_alpha\"},\"fill_color\":{\"field\":\"color\"},\"height\":{\"field\":\"height\",\"units\":\"data\"},\"line_color\":{\"field\":\"line_color\"},\"width\":{\"field\":\"width\",\"units\":\"data\"},\"x\":{\"field\":\"x\"},\"y\":{\"field\":\"y\"}},\"id\":\"16c262f2-2f62-42d3-af75-0d56abe31910\",\"type\":\"Rect\"},{\"attributes\":{\"location\":\"top_left\",\"plot\":{\"id\":\"23f53eb4-9a59-4132-8964-0ee325c23eba\",\"subtype\":\"Chart\",\"type\":\"Plot\"}},\"id\":\"9a56bd8b-34c2-4063-a3e9-2e1a584ae7e5\",\"type\":\"Legend\"},{\"attributes\":{\"fill_alpha\":{\"field\":\"fill_alpha\"},\"fill_color\":{\"field\":\"color\"},\"height\":{\"field\":\"height\",\"units\":\"data\"},\"line_color\":{\"field\":\"line_color\"},\"width\":{\"field\":\"width\",\"units\":\"data\"},\"x\":{\"field\":\"x\"},\"y\":{\"field\":\"y\"}},\"id\":\"66c18960-959d-40bc-a2b5-db409cd7a604\",\"type\":\"Rect\"},{\"attributes\":{\"data_source\":{\"id\":\"558023e2-4f61-4387-a3e0-b165ee2b19b7\",\"type\":\"ColumnDataSource\"},\"glyph\":{\"id\":\"cf278595-7189-4ba4-927e-618d511ccd81\",\"type\":\"Rect\"},\"hover_glyph\":null,\"nonselection_glyph\":null,\"selection_glyph\":null},\"id\":\"9c775e67-d652-4216-8080-f4a82f0354b8\",\"type\":\"GlyphRenderer\"},{\"attributes\":{},\"id\":\"5e53df01-ce7e-4f1c-992b-4b25e47883a4\",\"type\":\"BasicTicker\"},{\"attributes\":{\"callback\":null,\"column_names\":[\"x\",\"label\",\"height\",\"color\",\"line_alpha\",\"line_color\",\"y\",\"width\",\"fill_alpha\"],\"data\":{\"chart_index\":[\"(134.694920, 157.140740]\"],\"color\":[\"#f22c40\"],\"fill_alpha\":[0.8],\"height\":[6436.0],\"label\":[\"(134.694920, 157.140740]\"],\"line_alpha\":[1.0],\"line_color\":[\"black\"],\"width\":[22.445819999999998],\"x\":[\"145.91782999999998\"],\"y\":[3218.0]}},\"id\":\"558023e2-4f61-4387-a3e0-b165ee2b19b7\",\"type\":\"ColumnDataSource\"},{\"attributes\":{\"fill_alpha\":{\"field\":\"fill_alpha\"},\"fill_color\":{\"field\":\"color\"},\"height\":{\"field\":\"height\",\"units\":\"data\"},\"line_color\":{\"field\":\"line_color\"},\"width\":{\"field\":\"width\",\"units\":\"data\"},\"x\":{\"field\":\"x\"},\"y\":{\"field\":\"y\"}},\"id\":\"4ff39db2-a31a-4679-8aaa-ed06c91e9e9a\",\"type\":\"Rect\"},{\"attributes\":{\"callback\":null,\"column_names\":[\"x\",\"label\",\"height\",\"color\",\"line_alpha\",\"line_color\",\"y\",\"width\",\"fill_alpha\"],\"data\":{\"chart_index\":[\"(426.490580, 448.936400]\"],\"color\":[\"#f22c40\"],\"fill_alpha\":[0.8],\"height\":[1371.0],\"label\":[\"(426.490580, 448.936400]\"],\"line_alpha\":[1.0],\"line_color\":[\"black\"],\"width\":[22.445820000000026],\"x\":[\"437.71349\"],\"y\":[685.5]}},\"id\":\"e038414e-5bc9-4fbc-9fe8-0e8f997b90b9\",\"type\":\"ColumnDataSource\"},{\"attributes\":{\"fill_alpha\":{\"field\":\"fill_alpha\"},\"fill_color\":{\"field\":\"color\"},\"height\":{\"field\":\"height\",\"units\":\"data\"},\"line_color\":{\"field\":\"line_color\"},\"width\":{\"field\":\"width\",\"units\":\"data\"},\"x\":{\"field\":\"x\"},\"y\":{\"field\":\"y\"}},\"id\":\"3423c90f-aa08-46a1-b296-86a3c8c9b37e\",\"type\":\"Rect\"},{\"attributes\":{\"callback\":null,\"column_names\":[\"x\",\"label\",\"height\",\"color\",\"line_alpha\",\"line_color\",\"y\",\"width\",\"fill_alpha\"],\"data\":{\"chart_index\":[\"(673.394600, 695.840420]\"],\"color\":[\"#f22c40\"],\"fill_alpha\":[0.8],\"height\":[1248.0],\"label\":[\"(673.394600, 695.840420]\"],\"line_alpha\":[1.0],\"line_color\":[\"black\"],\"width\":[22.445820000000026],\"x\":[\"684.61751\"],\"y\":[624.0]}},\"id\":\"b5cf4428-5f86-4b2a-a099-1233ba68e456\",\"type\":\"ColumnDataSource\"},{\"attributes\":{\"fill_alpha\":{\"field\":\"fill_alpha\"},\"fill_color\":{\"field\":\"color\"},\"height\":{\"field\":\"height\",\"units\":\"data\"},\"line_color\":{\"field\":\"line_color\"},\"width\":{\"field\":\"width\",\"units\":\"data\"},\"x\":{\"field\":\"x\"},\"y\":{\"field\":\"y\"}},\"id\":\"6560274b-7b5a-441f-ab00-d39006c406d4\",\"type\":\"Rect\"},{\"attributes\":{\"data_source\":{\"id\":\"3039b0aa-5c92-4c61-87fb-e2f3b6e8aaf2\",\"type\":\"ColumnDataSource\"},\"glyph\":{\"id\":\"36ab84c4-39bc-47d7-91d0-eb1301223ca7\",\"type\":\"Rect\"},\"hover_glyph\":null,\"nonselection_glyph\":null,\"selection_glyph\":null},\"id\":\"6e60f743-e08d-4b4c-a8a4-047dbf80965b\",\"type\":\"GlyphRenderer\"},{\"attributes\":{\"callback\":null,\"column_names\":[\"x\",\"label\",\"height\",\"color\",\"line_alpha\",\"line_color\",\"y\",\"width\",\"fill_alpha\"],\"data\":{\"chart_index\":[\"(112.249100, 134.694920]\"],\"color\":[\"#f22c40\"],\"fill_alpha\":[0.8],\"height\":[2396.0],\"label\":[\"(112.249100, 134.694920]\"],\"line_alpha\":[1.0],\"line_color\":[\"black\"],\"width\":[22.445820000000012],\"x\":[\"123.47201\"],\"y\":[1198.0]}},\"id\":\"6d4e6093-5188-4000-bce2-88f0e836376a\",\"type\":\"ColumnDataSource\"},{\"attributes\":{\"callback\":null,\"column_names\":[\"x\",\"label\",\"height\",\"color\",\"line_alpha\",\"line_color\",\"y\",\"width\",\"fill_alpha\"],\"data\":{\"chart_index\":[\"(44.911640, 67.357460]\"],\"color\":[\"#f22c40\"],\"fill_alpha\":[0.8],\"height\":[16716.0],\"label\":[\"(44.911640, 67.357460]\"],\"line_alpha\":[1.0],\"line_color\":[\"black\"],\"width\":[22.44581999999999],\"x\":[\"56.134550000000004\"],\"y\":[8358.0]}},\"id\":\"0c6d6fbf-6e7a-4ecd-87c8-71cd4a33f4f2\",\"type\":\"ColumnDataSource\"},{\"attributes\":{\"callback\":null,\"column_names\":[\"x\",\"label\",\"height\",\"color\",\"line_alpha\",\"line_color\",\"y\",\"width\",\"fill_alpha\"],\"data\":{\"chart_index\":[\"(763.177880, 785.623700]\"],\"color\":[\"#f22c40\"],\"fill_alpha\":[0.8],\"height\":[1884.0],\"label\":[\"(763.177880, 785.623700]\"],\"line_alpha\":[1.0],\"line_color\":[\"black\"],\"width\":[22.445819999999912],\"x\":[\"774.4007899999999\"],\"y\":[942.0]}},\"id\":\"00284c87-0a45-4f09-9581-f81ddea20c7e\",\"type\":\"ColumnDataSource\"},{\"attributes\":{\"data_source\":{\"id\":\"32e0037b-569b-4667-9e34-08b73094cd54\",\"type\":\"ColumnDataSource\"},\"glyph\":{\"id\":\"d3c1e82a-32c8-45d4-b18c-72c786ac668d\",\"type\":\"Rect\"},\"hover_glyph\":null,\"nonselection_glyph\":null,\"selection_glyph\":null},\"id\":\"3e659925-5253-40a5-afcd-47ce52a01b87\",\"type\":\"GlyphRenderer\"},{\"attributes\":{\"data_source\":{\"id\":\"54e9f0c3-2657-4bce-8932-b529957b011c\",\"type\":\"ColumnDataSource\"},\"glyph\":{\"id\":\"d30189fc-e364-40e1-ad1d-a4055423e2c0\",\"type\":\"Rect\"},\"hover_glyph\":null,\"nonselection_glyph\":null,\"selection_glyph\":null},\"id\":\"872e38c2-7c6e-4031-8cb8-95fb628626bc\",\"type\":\"GlyphRenderer\"},{\"attributes\":{\"plot\":{\"id\":\"23f53eb4-9a59-4132-8964-0ee325c23eba\",\"subtype\":\"Chart\",\"type\":\"Plot\"}},\"id\":\"86cbd99c-8c86-4e2a-b7a5-bec7c6e51cb5\",\"type\":\"PanTool\"},{\"attributes\":{\"plot\":{\"id\":\"23f53eb4-9a59-4132-8964-0ee325c23eba\",\"subtype\":\"Chart\",\"type\":\"Plot\"}},\"id\":\"7ae4c567-a4a8-4f18-86c3-a879a269c8df\",\"type\":\"ResetTool\"},{\"attributes\":{\"fill_alpha\":{\"field\":\"fill_alpha\"},\"fill_color\":{\"field\":\"color\"},\"height\":{\"field\":\"height\",\"units\":\"data\"},\"line_color\":{\"field\":\"line_color\"},\"width\":{\"field\":\"width\",\"units\":\"data\"},\"x\":{\"field\":\"x\"},\"y\":{\"field\":\"y\"}},\"id\":\"2ee96f83-e2cd-40cb-94a0-52aad7e491b0\",\"type\":\"Rect\"},{\"attributes\":{\"fill_alpha\":{\"field\":\"fill_alpha\"},\"fill_color\":{\"field\":\"color\"},\"height\":{\"field\":\"height\",\"units\":\"data\"},\"line_color\":{\"field\":\"line_color\"},\"width\":{\"field\":\"width\",\"units\":\"data\"},\"x\":{\"field\":\"x\"},\"y\":{\"field\":\"y\"}},\"id\":\"d3d86fbd-4492-4566-bf6f-fe368bb4e1f7\",\"type\":\"Rect\"},{\"attributes\":{\"fill_alpha\":{\"field\":\"fill_alpha\"},\"fill_color\":{\"field\":\"color\"},\"height\":{\"field\":\"height\",\"units\":\"data\"},\"line_color\":{\"field\":\"line_color\"},\"width\":{\"field\":\"width\",\"units\":\"data\"},\"x\":{\"field\":\"x\"},\"y\":{\"field\":\"y\"}},\"id\":\"36ab84c4-39bc-47d7-91d0-eb1301223ca7\",\"type\":\"Rect\"},{\"attributes\":{\"fill_alpha\":{\"field\":\"fill_alpha\"},\"fill_color\":{\"field\":\"color\"},\"height\":{\"field\":\"height\",\"units\":\"data\"},\"line_color\":{\"field\":\"line_color\"},\"width\":{\"field\":\"width\",\"units\":\"data\"},\"x\":{\"field\":\"x\"},\"y\":{\"field\":\"y\"}},\"id\":\"ed7ed1e7-3753-4c4e-8ec2-5479da244056\",\"type\":\"Rect\"},{\"attributes\":{\"fill_alpha\":{\"field\":\"fill_alpha\"},\"fill_color\":{\"field\":\"color\"},\"height\":{\"field\":\"height\",\"units\":\"data\"},\"line_color\":{\"field\":\"line_color\"},\"width\":{\"field\":\"width\",\"units\":\"data\"},\"x\":{\"field\":\"x\"},\"y\":{\"field\":\"y\"}},\"id\":\"f90145df-122a-43b2-ae69-b405a6fb4f56\",\"type\":\"Rect\"},{\"attributes\":{\"data_source\":{\"id\":\"9a096627-5309-42ef-b822-89241f7351d8\",\"type\":\"ColumnDataSource\"},\"glyph\":{\"id\":\"434288cd-f45f-4331-94f1-38e7ad4b7577\",\"type\":\"Rect\"},\"hover_glyph\":null,\"nonselection_glyph\":null,\"selection_glyph\":null},\"id\":\"34c33f7b-b1fa-4022-a57e-0c0b5b21ed7a\",\"type\":\"GlyphRenderer\"},{\"attributes\":{\"callback\":null,\"column_names\":[\"x\",\"label\",\"height\",\"color\",\"line_alpha\",\"line_color\",\"y\",\"width\",\"fill_alpha\"],\"data\":{\"chart_index\":[\"[0.020000, 22.465820]\"],\"color\":[\"#f22c40\"],\"fill_alpha\":[0.8],\"height\":[2243.0],\"label\":[\"[0.020000, 22.465820]\"],\"line_alpha\":[1.0],\"line_color\":[\"black\"],\"width\":[22.445819999999998],\"x\":[\"11.24291\"],\"y\":[1121.5]}},\"id\":\"4ff85314-b29a-4daf-a72c-23f2e9eef3e4\",\"type\":\"ColumnDataSource\"},{\"attributes\":{\"data_source\":{\"id\":\"4e45396a-2dea-471e-8a99-acb9be4494aa\",\"type\":\"ColumnDataSource\"},\"glyph\":{\"id\":\"e34b1fde-4efa-4471-9ee7-a5c638fda1b0\",\"type\":\"Rect\"},\"hover_glyph\":null,\"nonselection_glyph\":null,\"selection_glyph\":null},\"id\":\"9cb910dd-38a7-4e5e-9258-2e222e6ff792\",\"type\":\"GlyphRenderer\"},{\"attributes\":{\"fill_alpha\":{\"field\":\"fill_alpha\"},\"fill_color\":{\"field\":\"color\"},\"height\":{\"field\":\"height\",\"units\":\"data\"},\"line_color\":{\"field\":\"line_color\"},\"width\":{\"field\":\"width\",\"units\":\"data\"},\"x\":{\"field\":\"x\"},\"y\":{\"field\":\"y\"}},\"id\":\"b6dc68ff-1227-4e98-9bb7-8e519525b65d\",\"type\":\"Rect\"},{\"attributes\":{\"callback\":null,\"column_names\":[\"x\",\"label\",\"height\",\"color\",\"line_alpha\",\"line_color\",\"y\",\"width\",\"fill_alpha\"],\"data\":{\"chart_index\":[\"(179.586560, 202.032380]\"],\"color\":[\"#f22c40\"],\"fill_alpha\":[0.8],\"height\":[59955.0],\"label\":[\"(179.586560, 202.032380]\"],\"line_alpha\":[1.0],\"line_color\":[\"black\"],\"width\":[22.445819999999998],\"x\":[\"190.80946999999998\"],\"y\":[29977.5]}},\"id\":\"87bc7ed9-245b-44e4-9ba1-c0e84729de06\",\"type\":\"ColumnDataSource\"},{\"attributes\":{\"data_source\":{\"id\":\"768e2d84-d5ea-4f17-bf8f-8056f6612969\",\"type\":\"ColumnDataSource\"},\"glyph\":{\"id\":\"7282cb6e-f209-4377-825b-35db40f7e54a\",\"type\":\"Rect\"},\"hover_glyph\":null,\"nonselection_glyph\":null,\"selection_glyph\":null},\"id\":\"05d9c424-f151-45a1-95a0-8259289f70f7\",\"type\":\"GlyphRenderer\"},{\"attributes\":{\"data_source\":{\"id\":\"24ed9948-7c03-4aab-b64e-7dc08d813bfb\",\"type\":\"ColumnDataSource\"},\"glyph\":{\"id\":\"7418945b-34e0-4c90-9e4e-cf69b2dada09\",\"type\":\"Rect\"},\"hover_glyph\":null,\"nonselection_glyph\":null,\"selection_glyph\":null},\"id\":\"a67e4736-ef4c-4bfc-b5f6-2f3bda593332\",\"type\":\"GlyphRenderer\"},{\"attributes\":{\"fill_alpha\":{\"field\":\"fill_alpha\"},\"fill_color\":{\"field\":\"color\"},\"height\":{\"field\":\"height\",\"units\":\"data\"},\"line_color\":{\"field\":\"line_color\"},\"width\":{\"field\":\"width\",\"units\":\"data\"},\"x\":{\"field\":\"x\"},\"y\":{\"field\":\"y\"}},\"id\":\"ab19a2d7-1526-462a-b1cf-e289ab5b554d\",\"type\":\"Rect\"},{\"attributes\":{\"fill_alpha\":{\"field\":\"fill_alpha\"},\"fill_color\":{\"field\":\"color\"},\"height\":{\"field\":\"height\",\"units\":\"data\"},\"line_color\":{\"field\":\"line_color\"},\"width\":{\"field\":\"width\",\"units\":\"data\"},\"x\":{\"field\":\"x\"},\"y\":{\"field\":\"y\"}},\"id\":\"6ef357f2-a1af-4a7b-ac02-31794b57be97\",\"type\":\"Rect\"},{\"attributes\":{\"callback\":null,\"column_names\":[\"x\",\"label\",\"height\",\"color\",\"line_alpha\",\"line_color\",\"y\",\"width\",\"fill_alpha\"],\"data\":{\"chart_index\":[\"(808.069520, 830.515340]\"],\"color\":[\"#f22c40\"],\"fill_alpha\":[0.8],\"height\":[4133.0],\"label\":[\"(808.069520, 830.515340]\"],\"line_alpha\":[1.0],\"line_color\":[\"black\"],\"width\":[22.445820000000026],\"x\":[\"819.29243\"],\"y\":[2066.5]}},\"id\":\"d7f2493d-bb3e-4084-959a-05e041a006fe\",\"type\":\"ColumnDataSource\"},{\"attributes\":{\"fill_alpha\":{\"field\":\"fill_alpha\"},\"fill_color\":{\"field\":\"color\"},\"height\":{\"field\":\"height\",\"units\":\"data\"},\"line_color\":{\"field\":\"line_color\"},\"width\":{\"field\":\"width\",\"units\":\"data\"},\"x\":{\"field\":\"x\"},\"y\":{\"field\":\"y\"}},\"id\":\"cf278595-7189-4ba4-927e-618d511ccd81\",\"type\":\"Rect\"},{\"attributes\":{\"callback\":null,\"column_names\":[\"x\",\"label\",\"height\",\"color\",\"line_alpha\",\"line_color\",\"y\",\"width\",\"fill_alpha\"],\"data\":{\"chart_index\":[\"(852.961160, 875.406980]\"],\"color\":[\"#f22c40\"],\"fill_alpha\":[0.8],\"height\":[1294.0],\"label\":[\"(852.961160, 875.406980]\"],\"line_alpha\":[1.0],\"line_color\":[\"black\"],\"width\":[22.445820000000026],\"x\":[\"864.18407\"],\"y\":[647.0]}},\"id\":\"0ca331d2-22ff-4706-8acf-ae1f63247906\",\"type\":\"ColumnDataSource\"},{\"attributes\":{\"callback\":null,\"column_names\":[\"x\",\"label\",\"height\",\"color\",\"line_alpha\",\"line_color\",\"y\",\"width\",\"fill_alpha\"],\"data\":{\"chart_index\":[\"(695.840420, 718.286240]\"],\"color\":[\"#f22c40\"],\"fill_alpha\":[0.8],\"height\":[351.0],\"label\":[\"(695.840420, 718.286240]\"],\"line_alpha\":[1.0],\"line_color\":[\"black\"],\"width\":[22.445820000000026],\"x\":[\"707.06333\"],\"y\":[175.5]}},\"id\":\"9a1be1de-0c25-4344-9a41-c4cc1a7aa0a9\",\"type\":\"ColumnDataSource\"},{\"attributes\":{\"fill_alpha\":{\"field\":\"fill_alpha\"},\"fill_color\":{\"field\":\"color\"},\"height\":{\"field\":\"height\",\"units\":\"data\"},\"line_color\":{\"field\":\"line_color\"},\"width\":{\"field\":\"width\",\"units\":\"data\"},\"x\":{\"field\":\"x\"},\"y\":{\"field\":\"y\"}},\"id\":\"deaf580a-0ce7-4f58-b94b-53506462715e\",\"type\":\"Rect\"},{\"attributes\":{\"callback\":null,\"column_names\":[\"x\",\"label\",\"height\",\"color\",\"line_alpha\",\"line_color\",\"y\",\"width\",\"fill_alpha\"],\"data\":{\"chart_index\":[\"(314.261480, 336.707300]\"],\"color\":[\"#f22c40\"],\"fill_alpha\":[0.8],\"height\":[130.0],\"label\":[\"(314.261480, 336.707300]\"],\"line_alpha\":[1.0],\"line_color\":[\"black\"],\"width\":[22.44581999999997],\"x\":[\"325.48438999999996\"],\"y\":[65.0]}},\"id\":\"b6e224bf-5e23-41d9-a7a7-63dbefa78da4\",\"type\":\"ColumnDataSource\"},{\"attributes\":{\"data_source\":{\"id\":\"79285a09-902f-4a52-b897-c3aeacd1b373\",\"type\":\"ColumnDataSource\"},\"glyph\":{\"id\":\"b5c158c0-e89b-467b-bc48-fc8365202d63\",\"type\":\"Rect\"},\"hover_glyph\":null,\"nonselection_glyph\":null,\"selection_glyph\":null},\"id\":\"70faa9d5-8903-4e62-b69c-83f6bf5c1d12\",\"type\":\"GlyphRenderer\"},{\"attributes\":{\"fill_alpha\":{\"field\":\"fill_alpha\"},\"fill_color\":{\"field\":\"color\"},\"height\":{\"field\":\"height\",\"units\":\"data\"},\"line_color\":{\"field\":\"line_color\"},\"width\":{\"field\":\"width\",\"units\":\"data\"},\"x\":{\"field\":\"x\"},\"y\":{\"field\":\"y\"}},\"id\":\"81df3939-229c-4af3-aba5-386d67bd8747\",\"type\":\"Rect\"},{\"attributes\":{\"fill_alpha\":{\"field\":\"fill_alpha\"},\"fill_color\":{\"field\":\"color\"},\"height\":{\"field\":\"height\",\"units\":\"data\"},\"line_color\":{\"field\":\"line_color\"},\"width\":{\"field\":\"width\",\"units\":\"data\"},\"x\":{\"field\":\"x\"},\"y\":{\"field\":\"y\"}},\"id\":\"b4f1f57f-a308-49de-bffb-f84679cda79b\",\"type\":\"Rect\"},{\"attributes\":{\"fill_alpha\":{\"field\":\"fill_alpha\"},\"fill_color\":{\"field\":\"color\"},\"height\":{\"field\":\"height\",\"units\":\"data\"},\"line_color\":{\"field\":\"line_color\"},\"width\":{\"field\":\"width\",\"units\":\"data\"},\"x\":{\"field\":\"x\"},\"y\":{\"field\":\"y\"}},\"id\":\"408780bc-81ca-46be-b241-beed2af11da1\",\"type\":\"Rect\"},{\"attributes\":{\"data_source\":{\"id\":\"b6e224bf-5e23-41d9-a7a7-63dbefa78da4\",\"type\":\"ColumnDataSource\"},\"glyph\":{\"id\":\"ab19a2d7-1526-462a-b1cf-e289ab5b554d\",\"type\":\"Rect\"},\"hover_glyph\":null,\"nonselection_glyph\":null,\"selection_glyph\":null},\"id\":\"802ba871-401a-479b-9fde-ffa2948f0576\",\"type\":\"GlyphRenderer\"},{\"attributes\":{\"fill_alpha\":{\"field\":\"fill_alpha\"},\"fill_color\":{\"field\":\"color\"},\"height\":{\"field\":\"height\",\"units\":\"data\"},\"line_color\":{\"field\":\"line_color\"},\"width\":{\"field\":\"width\",\"units\":\"data\"},\"x\":{\"field\":\"x\"},\"y\":{\"field\":\"y\"}},\"id\":\"b5c158c0-e89b-467b-bc48-fc8365202d63\",\"type\":\"Rect\"},{\"attributes\":{\"data_source\":{\"id\":\"26f49139-1ec9-4df0-9faf-9032ff24c5ed\",\"type\":\"ColumnDataSource\"},\"glyph\":{\"id\":\"b4f1f57f-a308-49de-bffb-f84679cda79b\",\"type\":\"Rect\"},\"hover_glyph\":null,\"nonselection_glyph\":null,\"selection_glyph\":null},\"id\":\"63f562d4-10ed-450e-9888-f98019e32c6c\",\"type\":\"GlyphRenderer\"},{\"attributes\":{\"data_source\":{\"id\":\"fd44a5d4-a8d5-4a62-be0d-7da29176224d\",\"type\":\"ColumnDataSource\"},\"glyph\":{\"id\":\"d3d86fbd-4492-4566-bf6f-fe368bb4e1f7\",\"type\":\"Rect\"},\"hover_glyph\":null,\"nonselection_glyph\":null,\"selection_glyph\":null},\"id\":\"7b33a6b5-0830-48e4-88f2-d588e5b45284\",\"type\":\"GlyphRenderer\"},{\"attributes\":{\"data_source\":{\"id\":\"dcc1ed4c-e346-4a97-8656-915356156dcf\",\"type\":\"ColumnDataSource\"},\"glyph\":{\"id\":\"624c0f88-9486-4ca1-86a9-9637de3f937f\",\"type\":\"Rect\"},\"hover_glyph\":null,\"nonselection_glyph\":null,\"selection_glyph\":null},\"id\":\"3fde1fc2-8313-4ebe-a68e-4a1b48599a3f\",\"type\":\"GlyphRenderer\"},{\"attributes\":{\"data_source\":{\"id\":\"4ff85314-b29a-4daf-a72c-23f2e9eef3e4\",\"type\":\"ColumnDataSource\"},\"glyph\":{\"id\":\"81df3939-229c-4af3-aba5-386d67bd8747\",\"type\":\"Rect\"},\"hover_glyph\":null,\"nonselection_glyph\":null,\"selection_glyph\":null},\"id\":\"456cf503-f95b-45e7-a8be-f6330000d69c\",\"type\":\"GlyphRenderer\"},{\"attributes\":{\"data_source\":{\"id\":\"877990ec-3cbe-4775-adea-70b2974ccfc0\",\"type\":\"ColumnDataSource\"},\"glyph\":{\"id\":\"af6afab1-e676-4ecd-9e29-e3eb48426b6e\",\"type\":\"Rect\"},\"hover_glyph\":null,\"nonselection_glyph\":null,\"selection_glyph\":null},\"id\":\"d688a291-1e28-4e11-925d-0f76bfc80dee\",\"type\":\"GlyphRenderer\"},{\"attributes\":{\"fill_alpha\":{\"field\":\"fill_alpha\"},\"fill_color\":{\"field\":\"color\"},\"height\":{\"field\":\"height\",\"units\":\"data\"},\"line_color\":{\"field\":\"line_color\"},\"width\":{\"field\":\"width\",\"units\":\"data\"},\"x\":{\"field\":\"x\"},\"y\":{\"field\":\"y\"}},\"id\":\"bef62897-d225-4fe6-a9a3-155f3124fe7f\",\"type\":\"Rect\"},{\"attributes\":{\"fill_alpha\":{\"field\":\"fill_alpha\"},\"fill_color\":{\"field\":\"color\"},\"height\":{\"field\":\"height\",\"units\":\"data\"},\"line_color\":{\"field\":\"line_color\"},\"width\":{\"field\":\"width\",\"units\":\"data\"},\"x\":{\"field\":\"x\"},\"y\":{\"field\":\"y\"}},\"id\":\"9c77a7a6-5da7-4e3d-8bb4-4f4c64f696c1\",\"type\":\"Rect\"},{\"attributes\":{\"fill_alpha\":{\"field\":\"fill_alpha\"},\"fill_color\":{\"field\":\"color\"},\"height\":{\"field\":\"height\",\"units\":\"data\"},\"line_color\":{\"field\":\"line_color\"},\"width\":{\"field\":\"width\",\"units\":\"data\"},\"x\":{\"field\":\"x\"},\"y\":{\"field\":\"y\"}},\"id\":\"a568ca61-41d6-4b6f-8ac6-7f6f87aab882\",\"type\":\"Rect\"},{\"attributes\":{\"fill_alpha\":{\"field\":\"fill_alpha\"},\"fill_color\":{\"field\":\"color\"},\"height\":{\"field\":\"height\",\"units\":\"data\"},\"line_color\":{\"field\":\"line_color\"},\"width\":{\"field\":\"width\",\"units\":\"data\"},\"x\":{\"field\":\"x\"},\"y\":{\"field\":\"y\"}},\"id\":\"d3c1e82a-32c8-45d4-b18c-72c786ac668d\",\"type\":\"Rect\"},{\"attributes\":{\"callback\":null,\"column_names\":[\"x\",\"label\",\"height\",\"color\",\"line_alpha\",\"line_color\",\"y\",\"width\",\"fill_alpha\"],\"data\":{\"chart_index\":[\"(269.369840, 291.815660]\"],\"color\":[\"#f22c40\"],\"fill_alpha\":[0.8],\"height\":[329.0],\"label\":[\"(269.369840, 291.815660]\"],\"line_alpha\":[1.0],\"line_color\":[\"black\"],\"width\":[22.445820000000026],\"x\":[\"280.59275\"],\"y\":[164.5]}},\"id\":\"2ee5da73-db4a-48a5-b39d-5f2aa65670dd\",\"type\":\"ColumnDataSource\"},{\"attributes\":{\"callback\":null,\"column_names\":[\"x\",\"label\",\"height\",\"color\",\"line_alpha\",\"line_color\",\"y\",\"width\",\"fill_alpha\"],\"data\":{\"chart_index\":[\"(246.924020, 269.369840]\"],\"color\":[\"#f22c40\"],\"fill_alpha\":[0.8],\"height\":[6019.0],\"label\":[\"(246.924020, 269.369840]\"],\"line_alpha\":[1.0],\"line_color\":[\"black\"],\"width\":[22.44581999999997],\"x\":[\"258.14693\"],\"y\":[3009.5]}},\"id\":\"9a096627-5309-42ef-b822-89241f7351d8\",\"type\":\"ColumnDataSource\"},{\"attributes\":{\"data_source\":{\"id\":\"87bc7ed9-245b-44e4-9ba1-c0e84729de06\",\"type\":\"ColumnDataSource\"},\"glyph\":{\"id\":\"262f747a-7896-41a4-93df-678c26ddb898\",\"type\":\"Rect\"},\"hover_glyph\":null,\"nonselection_glyph\":null,\"selection_glyph\":null},\"id\":\"2e51cf91-a820-4486-816b-6a0ff56c5199\",\"type\":\"GlyphRenderer\"},{\"attributes\":{\"data_source\":{\"id\":\"8d466c23-397a-42bf-be12-c804c894187d\",\"type\":\"ColumnDataSource\"},\"glyph\":{\"id\":\"f8865bdc-7f17-497e-b189-12d6dcc0fb17\",\"type\":\"Rect\"},\"hover_glyph\":null,\"nonselection_glyph\":null,\"selection_glyph\":null},\"id\":\"22ab0a20-df71-4212-a203-2bdefb58be63\",\"type\":\"GlyphRenderer\"},{\"attributes\":{\"fill_alpha\":{\"field\":\"fill_alpha\"},\"fill_color\":{\"field\":\"color\"},\"height\":{\"field\":\"height\",\"units\":\"data\"},\"line_color\":{\"field\":\"line_color\"},\"width\":{\"field\":\"width\",\"units\":\"data\"},\"x\":{\"field\":\"x\"},\"y\":{\"field\":\"y\"}},\"id\":\"1ce00212-21f5-4511-924e-fd21ab541f7e\",\"type\":\"Rect\"},{\"attributes\":{\"callback\":null,\"column_names\":[\"x\",\"label\",\"height\",\"color\",\"line_alpha\",\"line_color\",\"y\",\"width\",\"fill_alpha\"],\"data\":{\"chart_index\":[\"(830.515340, 852.961160]\"],\"color\":[\"#f22c40\"],\"fill_alpha\":[0.8],\"height\":[2681.0],\"label\":[\"(830.515340, 852.961160]\"],\"line_alpha\":[1.0],\"line_color\":[\"black\"],\"width\":[22.445819999999912],\"x\":[\"841.73825\"],\"y\":[1340.5]}},\"id\":\"1e88829a-ac81-4710-b018-eba0520a3ed1\",\"type\":\"ColumnDataSource\"},{\"attributes\":{},\"id\":\"e5e4ba01-2e41-495e-a928-8ccfc183f20d\",\"type\":\"BasicTickFormatter\"},{\"attributes\":{\"callback\":null,\"column_names\":[\"x\",\"label\",\"height\",\"color\",\"line_alpha\",\"line_color\",\"y\",\"width\",\"fill_alpha\"],\"data\":{\"chart_index\":[\"(920.298620, 942.744440]\"],\"color\":[\"#f22c40\"],\"fill_alpha\":[0.8],\"height\":[1879.0],\"label\":[\"(920.298620, 942.744440]\"],\"line_alpha\":[1.0],\"line_color\":[\"black\"],\"width\":[22.445820000000026],\"x\":[\"931.52153\"],\"y\":[939.5]}},\"id\":\"18726ffc-5d9c-4490-8818-a1c22b13557c\",\"type\":\"ColumnDataSource\"},{\"attributes\":{\"data_source\":{\"id\":\"26611a3f-2262-497f-be1e-a96121c0e4bb\",\"type\":\"ColumnDataSource\"},\"glyph\":{\"id\":\"84e7ac71-1a12-421c-8f7f-fa8b4790a868\",\"type\":\"Rect\"},\"hover_glyph\":null,\"nonselection_glyph\":null,\"selection_glyph\":null},\"id\":\"72cb1057-902e-4dbc-a386-9238948de7da\",\"type\":\"GlyphRenderer\"},{\"attributes\":{\"callback\":null,\"column_names\":[\"x\",\"label\",\"height\",\"color\",\"line_alpha\",\"line_color\",\"y\",\"width\",\"fill_alpha\"],\"data\":{\"chart_index\":[\"(897.852800, 920.298620]\"],\"color\":[\"#f22c40\"],\"fill_alpha\":[0.8],\"height\":[3574.0],\"label\":[\"(897.852800, 920.298620]\"],\"line_alpha\":[1.0],\"line_color\":[\"black\"],\"width\":[22.445820000000026],\"x\":[\"909.0757100000001\"],\"y\":[1787.0]}},\"id\":\"26611a3f-2262-497f-be1e-a96121c0e4bb\",\"type\":\"ColumnDataSource\"},{\"attributes\":{\"fill_alpha\":{\"field\":\"fill_alpha\"},\"fill_color\":{\"field\":\"color\"},\"height\":{\"field\":\"height\",\"units\":\"data\"},\"line_color\":{\"field\":\"line_color\"},\"width\":{\"field\":\"width\",\"units\":\"data\"},\"x\":{\"field\":\"x\"},\"y\":{\"field\":\"y\"}},\"id\":\"50ccc2a3-07da-4a71-a37f-e74d4e630f9d\",\"type\":\"Rect\"},{\"attributes\":{\"fill_alpha\":{\"field\":\"fill_alpha\"},\"fill_color\":{\"field\":\"color\"},\"height\":{\"field\":\"height\",\"units\":\"data\"},\"line_color\":{\"field\":\"line_color\"},\"width\":{\"field\":\"width\",\"units\":\"data\"},\"x\":{\"field\":\"x\"},\"y\":{\"field\":\"y\"}},\"id\":\"e34b1fde-4efa-4471-9ee7-a5c638fda1b0\",\"type\":\"Rect\"},{\"attributes\":{\"callback\":null,\"column_names\":[\"x\",\"label\",\"height\",\"color\",\"line_alpha\",\"line_color\",\"y\",\"width\",\"fill_alpha\"],\"data\":{\"chart_index\":[\"(448.936400, 471.382220]\"],\"color\":[\"#f22c40\"],\"fill_alpha\":[0.8],\"height\":[621.0],\"label\":[\"(448.936400, 471.382220]\"],\"line_alpha\":[1.0],\"line_color\":[\"black\"],\"width\":[22.445820000000026],\"x\":[\"460.15931\"],\"y\":[310.5]}},\"id\":\"4444f3eb-6ca8-471f-8a06-85997b3b898f\",\"type\":\"ColumnDataSource\"},{\"attributes\":{\"data_source\":{\"id\":\"e038414e-5bc9-4fbc-9fe8-0e8f997b90b9\",\"type\":\"ColumnDataSource\"},\"glyph\":{\"id\":\"a568ca61-41d6-4b6f-8ac6-7f6f87aab882\",\"type\":\"Rect\"},\"hover_glyph\":null,\"nonselection_glyph\":null,\"selection_glyph\":null},\"id\":\"e822bd02-9cbf-49f2-90d4-d4dcc213a289\",\"type\":\"GlyphRenderer\"},{\"attributes\":{\"callback\":null,\"column_names\":[\"x\",\"label\",\"height\",\"color\",\"line_alpha\",\"line_color\",\"y\",\"width\",\"fill_alpha\"],\"data\":{\"chart_index\":[\"(359.153120, 381.598940]\"],\"color\":[\"#f22c40\"],\"fill_alpha\":[0.8],\"height\":[2788.0],\"label\":[\"(359.153120, 381.598940]\"],\"line_alpha\":[1.0],\"line_color\":[\"black\"],\"width\":[22.445820000000026],\"x\":[\"370.37603\"],\"y\":[1394.0]}},\"id\":\"cf6f9505-adf1-45bb-b11f-9c7b3586f31e\",\"type\":\"ColumnDataSource\"},{\"attributes\":{\"callback\":null,\"column_names\":[\"x\",\"label\",\"height\",\"color\",\"line_alpha\",\"line_color\",\"y\",\"width\",\"fill_alpha\"],\"data\":{\"chart_index\":[\"(1010.081900, 1032.527720]\"],\"color\":[\"#f22c40\"],\"fill_alpha\":[0.8],\"height\":[206.0],\"label\":[\"(1010.081900, 1032.527720]\"],\"line_alpha\":[1.0],\"line_color\":[\"black\"],\"width\":[22.445819999999912],\"x\":[\"1021.3048100000001\"],\"y\":[103.0]}},\"id\":\"094d810d-a9db-41bb-bcac-5717010e028d\",\"type\":\"ColumnDataSource\"},{\"attributes\":{\"fill_alpha\":{\"field\":\"fill_alpha\"},\"fill_color\":{\"field\":\"color\"},\"height\":{\"field\":\"height\",\"units\":\"data\"},\"line_color\":{\"field\":\"line_color\"},\"width\":{\"field\":\"width\",\"units\":\"data\"},\"x\":{\"field\":\"x\"},\"y\":{\"field\":\"y\"}},\"id\":\"624c0f88-9486-4ca1-86a9-9637de3f937f\",\"type\":\"Rect\"},{\"attributes\":{\"callback\":null,\"column_names\":[\"x\",\"label\",\"height\",\"color\",\"line_alpha\",\"line_color\",\"y\",\"width\",\"fill_alpha\"],\"data\":{\"chart_index\":[\"(965.190260, 987.636080]\"],\"color\":[\"#f22c40\"],\"fill_alpha\":[0.8],\"height\":[107.0],\"label\":[\"(965.190260, 987.636080]\"],\"line_alpha\":[1.0],\"line_color\":[\"black\"],\"width\":[22.445820000000026],\"x\":[\"976.41317\"],\"y\":[53.5]}},\"id\":\"79285a09-902f-4a52-b897-c3aeacd1b373\",\"type\":\"ColumnDataSource\"},{\"attributes\":{\"fill_alpha\":{\"field\":\"fill_alpha\"},\"fill_color\":{\"field\":\"color\"},\"height\":{\"field\":\"height\",\"units\":\"data\"},\"line_color\":{\"field\":\"line_color\"},\"width\":{\"field\":\"width\",\"units\":\"data\"},\"x\":{\"field\":\"x\"},\"y\":{\"field\":\"y\"}},\"id\":\"ec5b3b11-e02b-4f1a-a1dd-7176b41810f4\",\"type\":\"Rect\"},{\"attributes\":{\"below\":[{\"id\":\"65dd9094-dd07-463e-bed8-40f9908e7cc9\",\"type\":\"LinearAxis\"}],\"css_classes\":null,\"left\":[{\"id\":\"78291861-13e3-4aff-8ebc-b4c331100e1f\",\"type\":\"LinearAxis\"}],\"renderers\":[{\"id\":\"b63a242d-3b40-457c-bebe-503ffe6e4938\",\"type\":\"BoxAnnotation\"},{\"id\":\"456cf503-f95b-45e7-a8be-f6330000d69c\",\"type\":\"GlyphRenderer\"},{\"id\":\"3e659925-5253-40a5-afcd-47ce52a01b87\",\"type\":\"GlyphRenderer\"},{\"id\":\"d16e2849-85ea-4c7b-ae34-030dd9cb7697\",\"type\":\"GlyphRenderer\"},{\"id\":\"05d9c424-f151-45a1-95a0-8259289f70f7\",\"type\":\"GlyphRenderer\"},{\"id\":\"d8119e0f-21a9-40c5-8cf8-d723475e342e\",\"type\":\"GlyphRenderer\"},{\"id\":\"ab6d7aa1-793a-464d-b482-e77c82bea9b2\",\"type\":\"GlyphRenderer\"},{\"id\":\"9c775e67-d652-4216-8080-f4a82f0354b8\",\"type\":\"GlyphRenderer\"},{\"id\":\"d0fce795-d7ae-484d-b807-b5697609caea\",\"type\":\"GlyphRenderer\"},{\"id\":\"2e51cf91-a820-4486-816b-6a0ff56c5199\",\"type\":\"GlyphRenderer\"},{\"id\":\"dadf58ef-5a11-4243-a381-d86bd4bbb21f\",\"type\":\"GlyphRenderer\"},{\"id\":\"8a34ba6f-c75a-433f-892e-4fd927d3d65d\",\"type\":\"GlyphRenderer\"},{\"id\":\"34c33f7b-b1fa-4022-a57e-0c0b5b21ed7a\",\"type\":\"GlyphRenderer\"},{\"id\":\"c5c45167-0d03-4c9d-8700-b9beaea5ed83\",\"type\":\"GlyphRenderer\"},{\"id\":\"09341a24-38f1-4f84-a99a-75b72bf4180d\",\"type\":\"GlyphRenderer\"},{\"id\":\"802ba871-401a-479b-9fde-ffa2948f0576\",\"type\":\"GlyphRenderer\"},{\"id\":\"9cb910dd-38a7-4e5e-9258-2e222e6ff792\",\"type\":\"GlyphRenderer\"},{\"id\":\"a21b6155-1628-4213-aaa3-ca2b27a11834\",\"type\":\"GlyphRenderer\"},{\"id\":\"868b92e5-5e2d-43f0-93f6-ae8849117d06\",\"type\":\"GlyphRenderer\"},{\"id\":\"6e60f743-e08d-4b4c-a8a4-047dbf80965b\",\"type\":\"GlyphRenderer\"},{\"id\":\"e822bd02-9cbf-49f2-90d4-d4dcc213a289\",\"type\":\"GlyphRenderer\"},{\"id\":\"91832fa7-206a-43d9-a769-079a6a7a9cc7\",\"type\":\"GlyphRenderer\"},{\"id\":\"c279300e-3013-414a-b5ae-1ee345c759b8\",\"type\":\"GlyphRenderer\"},{\"id\":\"872e38c2-7c6e-4031-8cb8-95fb628626bc\",\"type\":\"GlyphRenderer\"},{\"id\":\"7b33a6b5-0830-48e4-88f2-d588e5b45284\",\"type\":\"GlyphRenderer\"},{\"id\":\"d688a291-1e28-4e11-925d-0f76bfc80dee\",\"type\":\"GlyphRenderer\"},{\"id\":\"c3504f14-6bd9-4276-b23b-fe2b661faa6e\",\"type\":\"GlyphRenderer\"},{\"id\":\"35491200-7844-4a0e-942f-5d857ea16245\",\"type\":\"GlyphRenderer\"},{\"id\":\"acfeab95-414d-48ad-8c1e-a68fe713cef4\",\"type\":\"GlyphRenderer\"},{\"id\":\"31289301-6971-4817-afeb-12d2c0fdf464\",\"type\":\"GlyphRenderer\"},{\"id\":\"cdd112ea-0816-47ca-92e5-d31c44d4ef4b\",\"type\":\"GlyphRenderer\"},{\"id\":\"2c597cac-4ef3-44c3-8d4d-e8ef7e6d28dd\",\"type\":\"GlyphRenderer\"},{\"id\":\"66384f20-fa8c-4d3a-85cb-81f2b41058bd\",\"type\":\"GlyphRenderer\"},{\"id\":\"066584af-eba4-4aa0-bd2c-e813a3d293c9\",\"type\":\"GlyphRenderer\"},{\"id\":\"c0a1ab03-5413-4c6e-a3b5-6532b8051756\",\"type\":\"GlyphRenderer\"},{\"id\":\"2c31709d-89d0-4592-9aeb-55861c6457c3\",\"type\":\"GlyphRenderer\"},{\"id\":\"63f562d4-10ed-450e-9888-f98019e32c6c\",\"type\":\"GlyphRenderer\"},{\"id\":\"d4ee7612-92fc-40ac-8a85-e677d247e1d2\",\"type\":\"GlyphRenderer\"},{\"id\":\"ddae1fa3-9aef-45f9-b645-7f75a0a7a546\",\"type\":\"GlyphRenderer\"},{\"id\":\"acf1e6e6-556c-426e-b53e-26cd2e4950aa\",\"type\":\"GlyphRenderer\"},{\"id\":\"ff9a69fe-cdfe-4519-ba8e-945ded7daeb9\",\"type\":\"GlyphRenderer\"},{\"id\":\"72cb1057-902e-4dbc-a386-9238948de7da\",\"type\":\"GlyphRenderer\"},{\"id\":\"873d8f6d-40c0-4e58-9d74-85acdf715469\",\"type\":\"GlyphRenderer\"},{\"id\":\"3fde1fc2-8313-4ebe-a68e-4a1b48599a3f\",\"type\":\"GlyphRenderer\"},{\"id\":\"70faa9d5-8903-4e62-b69c-83f6bf5c1d12\",\"type\":\"GlyphRenderer\"},{\"id\":\"7d48abff-3f9a-4739-88c6-006f671d6ed5\",\"type\":\"GlyphRenderer\"},{\"id\":\"4172481c-669d-4714-8219-acfeb5ea6de4\",\"type\":\"GlyphRenderer\"},{\"id\":\"90ca1d3e-7d98-40fb-b28d-cc0bf6a74e57\",\"type\":\"GlyphRenderer\"},{\"id\":\"22ab0a20-df71-4212-a203-2bdefb58be63\",\"type\":\"GlyphRenderer\"},{\"id\":\"a67e4736-ef4c-4bfc-b5f6-2f3bda593332\",\"type\":\"GlyphRenderer\"},{\"id\":\"84b50f69-895e-4531-93fb-859bfb1013c8\",\"type\":\"GlyphRenderer\"},{\"id\":\"9a56bd8b-34c2-4063-a3e9-2e1a584ae7e5\",\"type\":\"Legend\"},{\"id\":\"65dd9094-dd07-463e-bed8-40f9908e7cc9\",\"type\":\"LinearAxis\"},{\"id\":\"78291861-13e3-4aff-8ebc-b4c331100e1f\",\"type\":\"LinearAxis\"},{\"id\":\"66d2855f-e36e-450c-8758-bfa2c7fd2277\",\"type\":\"Grid\"}],\"title\":{\"id\":\"9b29ea12-8367-4347-9305-c7c440411716\",\"type\":\"Title\"},\"tool_events\":{\"id\":\"c2de8f81-93ff-4913-b4a4-e7f8c591a10e\",\"type\":\"ToolEvents\"},\"toolbar\":{\"id\":\"1ae25382-827a-4d5d-be9e-05fb09a6b60f\",\"type\":\"Toolbar\"},\"x_mapper_type\":\"auto\",\"x_range\":{\"id\":\"514570b4-80c3-4f9e-8332-8e82d1f04c89\",\"type\":\"Range1d\"},\"y_mapper_type\":\"auto\",\"y_range\":{\"id\":\"62d75ee0-a7db-4328-866c-a3a12310ed3d\",\"type\":\"Range1d\"}},\"id\":\"23f53eb4-9a59-4132-8964-0ee325c23eba\",\"subtype\":\"Chart\",\"type\":\"Plot\"},{\"attributes\":{\"data_source\":{\"id\":\"d19bfa64-eb31-4917-b37f-5bb90f8f94f5\",\"type\":\"ColumnDataSource\"},\"glyph\":{\"id\":\"750d5f0f-f49a-437b-8ed6-6766b7187629\",\"type\":\"Rect\"},\"hover_glyph\":null,\"nonselection_glyph\":null,\"selection_glyph\":null},\"id\":\"acfeab95-414d-48ad-8c1e-a68fe713cef4\",\"type\":\"GlyphRenderer\"},{\"attributes\":{\"plot\":null,\"text\":null},\"id\":\"9b29ea12-8367-4347-9305-c7c440411716\",\"type\":\"Title\"},{\"attributes\":{\"data_source\":{\"id\":\"2ee5da73-db4a-48a5-b39d-5f2aa65670dd\",\"type\":\"ColumnDataSource\"},\"glyph\":{\"id\":\"6560274b-7b5a-441f-ab00-d39006c406d4\",\"type\":\"Rect\"},\"hover_glyph\":null,\"nonselection_glyph\":null,\"selection_glyph\":null},\"id\":\"c5c45167-0d03-4c9d-8700-b9beaea5ed83\",\"type\":\"GlyphRenderer\"},{\"attributes\":{\"callback\":null,\"column_names\":[\"x\",\"label\",\"height\",\"color\",\"line_alpha\",\"line_color\",\"y\",\"width\",\"fill_alpha\"],\"data\":{\"chart_index\":[\"(336.707300, 359.153120]\"],\"color\":[\"#f22c40\"],\"fill_alpha\":[0.8],\"height\":[158.0],\"label\":[\"(336.707300, 359.153120]\"],\"line_alpha\":[1.0],\"line_color\":[\"black\"],\"width\":[22.445820000000026],\"x\":[\"347.93021\"],\"y\":[79.0]}},\"id\":\"4e45396a-2dea-471e-8a99-acb9be4494aa\",\"type\":\"ColumnDataSource\"},{\"attributes\":{\"data_source\":{\"id\":\"6aab7412-cef8-42e6-97ab-1ef32b4ec376\",\"type\":\"ColumnDataSource\"},\"glyph\":{\"id\":\"8c6e531c-ba91-44a7-86f3-28b60bdab847\",\"type\":\"Rect\"},\"hover_glyph\":null,\"nonselection_glyph\":null,\"selection_glyph\":null},\"id\":\"90ca1d3e-7d98-40fb-b28d-cc0bf6a74e57\",\"type\":\"GlyphRenderer\"},{\"attributes\":{\"callback\":null,\"column_names\":[\"x\",\"label\",\"height\",\"color\",\"line_alpha\",\"line_color\",\"y\",\"width\",\"fill_alpha\"],\"data\":{\"chart_index\":[\"(740.732060, 763.177880]\"],\"color\":[\"#f22c40\"],\"fill_alpha\":[0.8],\"height\":[229.0],\"label\":[\"(740.732060, 763.177880]\"],\"line_alpha\":[1.0],\"line_color\":[\"black\"],\"width\":[22.445820000000026],\"x\":[\"751.95497\"],\"y\":[114.5]}},\"id\":\"35fb2cf8-0d93-4113-b352-c7e076d786e2\",\"type\":\"ColumnDataSource\"},{\"attributes\":{\"axis_label\":\"Count( Size )\",\"formatter\":{\"id\":\"e5e4ba01-2e41-495e-a928-8ccfc183f20d\",\"type\":\"BasicTickFormatter\"},\"plot\":{\"id\":\"23f53eb4-9a59-4132-8964-0ee325c23eba\",\"subtype\":\"Chart\",\"type\":\"Plot\"},\"ticker\":{\"id\":\"5e53df01-ce7e-4f1c-992b-4b25e47883a4\",\"type\":\"BasicTicker\"}},\"id\":\"78291861-13e3-4aff-8ebc-b4c331100e1f\",\"type\":\"LinearAxis\"}],\"root_ids\":[\"23f53eb4-9a59-4132-8964-0ee325c23eba\"]},\"title\":\"Bokeh Application\",\"version\":\"0.12.4\"}};\n",
       "            var render_items = [{\"docid\":\"f68d23e9-b8fb-4891-8815-d76033d82811\",\"elementid\":\"273a13dd-0c3f-43e3-b120-99859a748a77\",\"modelid\":\"23f53eb4-9a59-4132-8964-0ee325c23eba\"}];\n",
       "            \n",
       "            Bokeh.embed.embed_items(docs_json, render_items);\n",
       "          };\n",
       "          if (document.readyState != \"loading\") fn();\n",
       "          else document.addEventListener(\"DOMContentLoaded\", fn);\n",
       "        })();\n",
       "      },\n",
       "      function(Bokeh) {\n",
       "      }\n",
       "    ];\n",
       "  \n",
       "    function run_inline_js() {\n",
       "      \n",
       "      if ((window.Bokeh !== undefined) || (force === true)) {\n",
       "        for (var i = 0; i < inline_js.length; i++) {\n",
       "          inline_js[i](window.Bokeh);\n",
       "        }if (force === true) {\n",
       "          display_loaded();\n",
       "        }} else if (Date.now() < window._bokeh_timeout) {\n",
       "        setTimeout(run_inline_js, 100);\n",
       "      } else if (!window._bokeh_failed_load) {\n",
       "        console.log(\"Bokeh: BokehJS failed to load within specified timeout.\");\n",
       "        window._bokeh_failed_load = true;\n",
       "      } else if (force !== true) {\n",
       "        var cell = $(document.getElementById(\"273a13dd-0c3f-43e3-b120-99859a748a77\")).parents('.cell').data().cell;\n",
       "        cell.output_area.append_execute_result(NB_LOAD_WARNING)\n",
       "      }\n",
       "  \n",
       "    }\n",
       "  \n",
       "    if (window._bokeh_is_loading === 0) {\n",
       "      console.log(\"Bokeh: BokehJS loaded, going straight to plotting\");\n",
       "      run_inline_js();\n",
       "    } else {\n",
       "      load_libs(js_urls, function() {\n",
       "        console.log(\"Bokeh: BokehJS plotting callback run at\", now());\n",
       "        run_inline_js();\n",
       "      });\n",
       "    }\n",
       "  }(this));\n",
       "</script>"
      ]
     },
     "metadata": {},
     "output_type": "display_data"
    }
   ],
   "source": [
    "p = Histogram(airs.drop_duplicates('Checksum')['Size']/1000, bins=50,\n",
    "             xlabel='Byte Stream Size (kilobytes)')\n",
    "show(p)"
   ]
  },
  {
   "cell_type": "code",
   "execution_count": 26,
   "metadata": {
    "collapsed": false
   },
   "outputs": [
    {
     "data": {
      "text/plain": [
       "count    3.303530e+05\n",
       "mean     2.451461e+05\n",
       "std      2.341771e+05\n",
       "min      2.000000e+01\n",
       "25%      8.419200e+04\n",
       "50%      1.922770e+05\n",
       "75%      2.363170e+05\n",
       "max      1.122311e+06\n",
       "Name: Size, dtype: float64"
      ]
     },
     "execution_count": 26,
     "metadata": {},
     "output_type": "execute_result"
    }
   ],
   "source": [
    "airs.drop_duplicates('Checksum')['Size'].describe()"
   ]
  },
  {
   "cell_type": "markdown",
   "metadata": {
    "collapsed": true
   },
   "source": [
    "### Datasets"
   ]
  },
  {
   "cell_type": "markdown",
   "metadata": {},
   "source": [
    "#### How many datasets per file?"
   ]
  },
  {
   "cell_type": "code",
   "execution_count": 27,
   "metadata": {
    "collapsed": true
   },
   "outputs": [],
   "source": [
    "grp = airs.groupby('File')"
   ]
  },
  {
   "cell_type": "code",
   "execution_count": 28,
   "metadata": {
    "collapsed": false
   },
   "outputs": [
    {
     "data": {
      "text/plain": [
       "count    365.0\n",
       "mean     777.0\n",
       "std        0.0\n",
       "min      777.0\n",
       "25%      777.0\n",
       "50%      777.0\n",
       "75%      777.0\n",
       "max      777.0\n",
       "Name: Dataset, dtype: float64"
      ]
     },
     "execution_count": 28,
     "metadata": {},
     "output_type": "execute_result"
    }
   ],
   "source": [
    "grp.Dataset.unique().apply(lambda l: len(l)).describe()"
   ]
  },
  {
   "cell_type": "markdown",
   "metadata": {},
   "source": [
    "#### Is every dataset in every AIRS file chunked?"
   ]
  },
  {
   "cell_type": "code",
   "execution_count": 29,
   "metadata": {
    "collapsed": true
   },
   "outputs": [],
   "source": [
    "grp = airs.groupby(['File', 'Dataset'])"
   ]
  },
  {
   "cell_type": "code",
   "execution_count": 30,
   "metadata": {
    "collapsed": false
   },
   "outputs": [
    {
     "data": {
      "text/plain": [
       "True"
      ]
     },
     "execution_count": 30,
     "metadata": {},
     "output_type": "execute_result"
    }
   ],
   "source": [
    "grp.Chunk_Flag.agg(all).all()"
   ]
  },
  {
   "cell_type": "markdown",
   "metadata": {},
   "source": [
    "#### How many byte streams per dataset?"
   ]
  },
  {
   "cell_type": "code",
   "execution_count": 31,
   "metadata": {
    "collapsed": false
   },
   "outputs": [
    {
     "data": {
      "text/plain": [
       "count    283605.000000\n",
       "mean          2.009009\n",
       "std           2.458655\n",
       "min           1.000000\n",
       "25%           1.000000\n",
       "50%           1.000000\n",
       "75%           1.000000\n",
       "max           8.000000\n",
       "Name: UUID, dtype: float64"
      ]
     },
     "execution_count": 31,
     "metadata": {},
     "output_type": "execute_result"
    }
   ],
   "source": [
    "grp.UUID.count().describe()"
   ]
  },
  {
   "cell_type": "code",
   "execution_count": 32,
   "metadata": {
    "collapsed": false
   },
   "outputs": [
    {
     "data": {
      "text/html": [
       "\n",
       "\n",
       "    <div class=\"bk-root\">\n",
       "        <div class=\"bk-plotdiv\" id=\"ea63950a-22fb-4ff0-a0ee-1cf8a0debb79\"></div>\n",
       "    </div>\n",
       "<script type=\"text/javascript\">\n",
       "  \n",
       "  (function(global) {\n",
       "    function now() {\n",
       "      return new Date();\n",
       "    }\n",
       "  \n",
       "    var force = false;\n",
       "  \n",
       "    if (typeof (window._bokeh_onload_callbacks) === \"undefined\" || force === true) {\n",
       "      window._bokeh_onload_callbacks = [];\n",
       "      window._bokeh_is_loading = undefined;\n",
       "    }\n",
       "  \n",
       "  \n",
       "    \n",
       "    if (typeof (window._bokeh_timeout) === \"undefined\" || force === true) {\n",
       "      window._bokeh_timeout = Date.now() + 0;\n",
       "      window._bokeh_failed_load = false;\n",
       "    }\n",
       "  \n",
       "    var NB_LOAD_WARNING = {'data': {'text/html':\n",
       "       \"<div style='background-color: #fdd'>\\n\"+\n",
       "       \"<p>\\n\"+\n",
       "       \"BokehJS does not appear to have successfully loaded. If loading BokehJS from CDN, this \\n\"+\n",
       "       \"may be due to a slow or bad network connection. Possible fixes:\\n\"+\n",
       "       \"</p>\\n\"+\n",
       "       \"<ul>\\n\"+\n",
       "       \"<li>re-rerun `output_notebook()` to attempt to load from CDN again, or</li>\\n\"+\n",
       "       \"<li>use INLINE resources instead, as so:</li>\\n\"+\n",
       "       \"</ul>\\n\"+\n",
       "       \"<code>\\n\"+\n",
       "       \"from bokeh.resources import INLINE\\n\"+\n",
       "       \"output_notebook(resources=INLINE)\\n\"+\n",
       "       \"</code>\\n\"+\n",
       "       \"</div>\"}};\n",
       "  \n",
       "    function display_loaded() {\n",
       "      if (window.Bokeh !== undefined) {\n",
       "        document.getElementById(\"ea63950a-22fb-4ff0-a0ee-1cf8a0debb79\").textContent = \"BokehJS successfully loaded.\";\n",
       "      } else if (Date.now() < window._bokeh_timeout) {\n",
       "        setTimeout(display_loaded, 100)\n",
       "      }\n",
       "    }\n",
       "  \n",
       "    function run_callbacks() {\n",
       "      window._bokeh_onload_callbacks.forEach(function(callback) { callback() });\n",
       "      delete window._bokeh_onload_callbacks\n",
       "      console.info(\"Bokeh: all callbacks have finished\");\n",
       "    }\n",
       "  \n",
       "    function load_libs(js_urls, callback) {\n",
       "      window._bokeh_onload_callbacks.push(callback);\n",
       "      if (window._bokeh_is_loading > 0) {\n",
       "        console.log(\"Bokeh: BokehJS is being loaded, scheduling callback at\", now());\n",
       "        return null;\n",
       "      }\n",
       "      if (js_urls == null || js_urls.length === 0) {\n",
       "        run_callbacks();\n",
       "        return null;\n",
       "      }\n",
       "      console.log(\"Bokeh: BokehJS not loaded, scheduling load and callback at\", now());\n",
       "      window._bokeh_is_loading = js_urls.length;\n",
       "      for (var i = 0; i < js_urls.length; i++) {\n",
       "        var url = js_urls[i];\n",
       "        var s = document.createElement('script');\n",
       "        s.src = url;\n",
       "        s.async = false;\n",
       "        s.onreadystatechange = s.onload = function() {\n",
       "          window._bokeh_is_loading--;\n",
       "          if (window._bokeh_is_loading === 0) {\n",
       "            console.log(\"Bokeh: all BokehJS libraries loaded\");\n",
       "            run_callbacks()\n",
       "          }\n",
       "        };\n",
       "        s.onerror = function() {\n",
       "          console.warn(\"failed to load library \" + url);\n",
       "        };\n",
       "        console.log(\"Bokeh: injecting script tag for BokehJS library: \", url);\n",
       "        document.getElementsByTagName(\"head\")[0].appendChild(s);\n",
       "      }\n",
       "    };var element = document.getElementById(\"ea63950a-22fb-4ff0-a0ee-1cf8a0debb79\");\n",
       "    if (element == null) {\n",
       "      console.log(\"Bokeh: ERROR: autoload.js configured with elementid 'ea63950a-22fb-4ff0-a0ee-1cf8a0debb79' but no matching script tag was found. \")\n",
       "      return false;\n",
       "    }\n",
       "  \n",
       "    var js_urls = [];\n",
       "  \n",
       "    var inline_js = [\n",
       "      function(Bokeh) {\n",
       "        (function() {\n",
       "          var fn = function() {\n",
       "            var docs_json = {\"d2ad0bb7-ef36-4547-90aa-258bf18f3cd6\":{\"roots\":{\"references\":[{\"attributes\":{\"data_source\":{\"id\":\"a50a578a-3bea-4258-9df0-89e29db23065\",\"type\":\"ColumnDataSource\"},\"glyph\":{\"id\":\"dcd81f3a-82a2-4e8d-bf10-77c02f4f5cb9\",\"type\":\"Rect\"},\"hover_glyph\":null,\"nonselection_glyph\":null,\"selection_glyph\":null},\"id\":\"d266c84b-1229-48bf-b419-7c428b4b8638\",\"type\":\"GlyphRenderer\"},{\"attributes\":{\"callback\":null,\"column_names\":[\"x\",\"label\",\"height\",\"color\",\"line_alpha\",\"line_color\",\"y\",\"width\",\"fill_alpha\"],\"data\":{\"chart_index\":[\"(7.500000, 8.500000]\"],\"color\":[\"#f22c40\"],\"fill_alpha\":[0.8],\"height\":[40880.0],\"label\":[\"(7.500000, 8.500000]\"],\"line_alpha\":[1.0],\"line_color\":[\"black\"],\"width\":[1.0],\"x\":[\"8.0\"],\"y\":[20440.0]}},\"id\":\"f0c2d322-9696-4b9c-989a-893d13506f30\",\"type\":\"ColumnDataSource\"},{\"attributes\":{\"data_source\":{\"id\":\"2ec5f9bf-a5eb-4b3d-a41e-f67e12df9590\",\"type\":\"ColumnDataSource\"},\"glyph\":{\"id\":\"bff62fd2-55d8-4879-81f0-d1c518b38196\",\"type\":\"Rect\"},\"hover_glyph\":null,\"nonselection_glyph\":null,\"selection_glyph\":null},\"id\":\"c8093768-04e7-4c2b-85db-1779a9a25ff6\",\"type\":\"GlyphRenderer\"},{\"attributes\":{\"fill_alpha\":{\"field\":\"fill_alpha\"},\"fill_color\":{\"field\":\"color\"},\"height\":{\"field\":\"height\",\"units\":\"data\"},\"line_color\":{\"field\":\"line_color\"},\"width\":{\"field\":\"width\",\"units\":\"data\"},\"x\":{\"field\":\"x\"},\"y\":{\"field\":\"y\"}},\"id\":\"bd5e5c26-4cc8-424c-866c-08474e835011\",\"type\":\"Rect\"},{\"attributes\":{\"plot\":{\"id\":\"4742d85a-0774-4a5c-b11a-a1b4aa8a4e67\",\"subtype\":\"Chart\",\"type\":\"Plot\"}},\"id\":\"3623304b-15c2-4e72-9845-3a380daf9c0b\",\"type\":\"ResetTool\"},{\"attributes\":{\"data_source\":{\"id\":\"f0c2d322-9696-4b9c-989a-893d13506f30\",\"type\":\"ColumnDataSource\"},\"glyph\":{\"id\":\"5bf50226-a054-4ad6-a193-76dce5d2bc0f\",\"type\":\"Rect\"},\"hover_glyph\":null,\"nonselection_glyph\":null,\"selection_glyph\":null},\"id\":\"a434f13d-8432-4223-b97b-2ad6b3ea5054\",\"type\":\"GlyphRenderer\"},{\"attributes\":{\"callback\":null,\"end\":266997.5},\"id\":\"000c0384-1bcd-4221-9172-874f8cf9a471\",\"type\":\"Range1d\"},{\"attributes\":{\"callback\":null,\"column_names\":[\"x\",\"label\",\"height\",\"color\",\"line_alpha\",\"line_color\",\"y\",\"width\",\"fill_alpha\"],\"data\":{\"chart_index\":[\"(1.500000, 2.500000]\"],\"color\":[\"#f22c40\"],\"fill_alpha\":[0.8],\"height\":[0.0],\"label\":[\"(1.500000, 2.500000]\"],\"line_alpha\":[1.0],\"line_color\":[\"black\"],\"width\":[1.0],\"x\":[\"2.0\"],\"y\":[0.0]}},\"id\":\"35c38641-428b-4531-b140-47b6be878b67\",\"type\":\"ColumnDataSource\"},{\"attributes\":{\"fill_alpha\":{\"field\":\"fill_alpha\"},\"fill_color\":{\"field\":\"color\"},\"height\":{\"field\":\"height\",\"units\":\"data\"},\"line_color\":{\"field\":\"line_color\"},\"width\":{\"field\":\"width\",\"units\":\"data\"},\"x\":{\"field\":\"x\"},\"y\":{\"field\":\"y\"}},\"id\":\"bff62fd2-55d8-4879-81f0-d1c518b38196\",\"type\":\"Rect\"},{\"attributes\":{\"below\":[{\"id\":\"0b6438a8-8eb9-4143-92d4-be0609e72589\",\"type\":\"LinearAxis\"}],\"css_classes\":null,\"left\":[{\"id\":\"fa1d0452-e058-41bd-a39b-d4cd306255f2\",\"type\":\"LinearAxis\"}],\"renderers\":[{\"id\":\"a8519c2a-3f08-4d30-ab10-9ce45d0c6a9e\",\"type\":\"BoxAnnotation\"},{\"id\":\"a1776ce0-31ee-4fa5-9547-ba18312b157d\",\"type\":\"GlyphRenderer\"},{\"id\":\"04c2a80f-6b0f-4d4e-a3e7-79ab2f3e46c9\",\"type\":\"GlyphRenderer\"},{\"id\":\"7af157de-ec6f-4c72-80af-c6d0a58d299f\",\"type\":\"GlyphRenderer\"},{\"id\":\"c8093768-04e7-4c2b-85db-1779a9a25ff6\",\"type\":\"GlyphRenderer\"},{\"id\":\"37750da0-b869-4670-b43e-d83b32e36c7e\",\"type\":\"GlyphRenderer\"},{\"id\":\"d266c84b-1229-48bf-b419-7c428b4b8638\",\"type\":\"GlyphRenderer\"},{\"id\":\"caf95ad8-5e08-4e87-9e46-7961e55d3262\",\"type\":\"GlyphRenderer\"},{\"id\":\"a434f13d-8432-4223-b97b-2ad6b3ea5054\",\"type\":\"GlyphRenderer\"},{\"id\":\"18f52edc-c524-4b81-aa06-2c5862e786e3\",\"type\":\"Legend\"},{\"id\":\"0b6438a8-8eb9-4143-92d4-be0609e72589\",\"type\":\"LinearAxis\"},{\"id\":\"fa1d0452-e058-41bd-a39b-d4cd306255f2\",\"type\":\"LinearAxis\"},{\"id\":\"fdff0360-f01a-48be-b81e-27bef3b30979\",\"type\":\"Grid\"}],\"title\":{\"id\":\"d0081cf1-4ae1-438c-87b8-fd073d9a2b0c\",\"type\":\"Title\"},\"tool_events\":{\"id\":\"8e3ee503-91c7-4921-9788-5bb5f13f4b1a\",\"type\":\"ToolEvents\"},\"toolbar\":{\"id\":\"8c5af1e3-6605-41f4-be16-eecbfa31226c\",\"type\":\"Toolbar\"},\"x_mapper_type\":\"auto\",\"x_range\":{\"id\":\"f43bfbcb-d980-4bcf-afbd-8a47baeb444b\",\"type\":\"Range1d\"},\"y_mapper_type\":\"auto\",\"y_range\":{\"id\":\"000c0384-1bcd-4221-9172-874f8cf9a471\",\"type\":\"Range1d\"}},\"id\":\"4742d85a-0774-4a5c-b11a-a1b4aa8a4e67\",\"subtype\":\"Chart\",\"type\":\"Plot\"},{\"attributes\":{\"data_source\":{\"id\":\"209327d7-d5e0-4b7f-a4df-9ef7be9ba523\",\"type\":\"ColumnDataSource\"},\"glyph\":{\"id\":\"bd5e5c26-4cc8-424c-866c-08474e835011\",\"type\":\"Rect\"},\"hover_glyph\":null,\"nonselection_glyph\":null,\"selection_glyph\":null},\"id\":\"caf95ad8-5e08-4e87-9e46-7961e55d3262\",\"type\":\"GlyphRenderer\"},{\"attributes\":{\"callback\":null,\"column_names\":[\"x\",\"label\",\"height\",\"color\",\"line_alpha\",\"line_color\",\"y\",\"width\",\"fill_alpha\"],\"data\":{\"chart_index\":[\"(3.500000, 4.500000]\"],\"color\":[\"#f22c40\"],\"fill_alpha\":[0.8],\"height\":[0.0],\"label\":[\"(3.500000, 4.500000]\"],\"line_alpha\":[1.0],\"line_color\":[\"black\"],\"width\":[1.0],\"x\":[\"4.0\"],\"y\":[0.0]}},\"id\":\"2ec5f9bf-a5eb-4b3d-a41e-f67e12df9590\",\"type\":\"ColumnDataSource\"},{\"attributes\":{\"plot\":{\"id\":\"4742d85a-0774-4a5c-b11a-a1b4aa8a4e67\",\"subtype\":\"Chart\",\"type\":\"Plot\"}},\"id\":\"d4f73d9f-1c6a-48ad-8cf4-3d8ce115e08a\",\"type\":\"PanTool\"},{\"attributes\":{\"fill_alpha\":{\"field\":\"fill_alpha\"},\"fill_color\":{\"field\":\"color\"},\"height\":{\"field\":\"height\",\"units\":\"data\"},\"line_color\":{\"field\":\"line_color\"},\"width\":{\"field\":\"width\",\"units\":\"data\"},\"x\":{\"field\":\"x\"},\"y\":{\"field\":\"y\"}},\"id\":\"dbd2207b-4436-4b13-a12e-7a36f9dfebe3\",\"type\":\"Rect\"},{\"attributes\":{\"data_source\":{\"id\":\"35c38641-428b-4531-b140-47b6be878b67\",\"type\":\"ColumnDataSource\"},\"glyph\":{\"id\":\"8425d8a5-80d4-4c4f-845f-69730a607735\",\"type\":\"Rect\"},\"hover_glyph\":null,\"nonselection_glyph\":null,\"selection_glyph\":null},\"id\":\"04c2a80f-6b0f-4d4e-a3e7-79ab2f3e46c9\",\"type\":\"GlyphRenderer\"},{\"attributes\":{\"axis_label\":\"Number of byte streams per dataset\",\"formatter\":{\"id\":\"0015cdaf-1d17-42cf-ba74-8819adcb13c2\",\"type\":\"BasicTickFormatter\"},\"plot\":{\"id\":\"4742d85a-0774-4a5c-b11a-a1b4aa8a4e67\",\"subtype\":\"Chart\",\"type\":\"Plot\"},\"ticker\":{\"id\":\"2a8e69cd-95e4-4fc7-84c6-0646ffa83174\",\"type\":\"FixedTicker\"}},\"id\":\"0b6438a8-8eb9-4143-92d4-be0609e72589\",\"type\":\"LinearAxis\"},{\"attributes\":{\"overlay\":{\"id\":\"a8519c2a-3f08-4d30-ab10-9ce45d0c6a9e\",\"type\":\"BoxAnnotation\"},\"plot\":{\"id\":\"4742d85a-0774-4a5c-b11a-a1b4aa8a4e67\",\"subtype\":\"Chart\",\"type\":\"Plot\"}},\"id\":\"1725c89b-5bc9-47dc-baec-5acd3a7917fb\",\"type\":\"BoxZoomTool\"},{\"attributes\":{\"callback\":null,\"end\":8.725,\"start\":0.275},\"id\":\"f43bfbcb-d980-4bcf-afbd-8a47baeb444b\",\"type\":\"Range1d\"},{\"attributes\":{\"plot\":null,\"text\":null},\"id\":\"d0081cf1-4ae1-438c-87b8-fd073d9a2b0c\",\"type\":\"Title\"},{\"attributes\":{\"dimension\":1,\"plot\":{\"id\":\"4742d85a-0774-4a5c-b11a-a1b4aa8a4e67\",\"subtype\":\"Chart\",\"type\":\"Plot\"},\"ticker\":{\"id\":\"f8a7b36d-8f13-4f0e-a24a-94d5fab1a4a7\",\"type\":\"BasicTicker\"}},\"id\":\"fdff0360-f01a-48be-b81e-27bef3b30979\",\"type\":\"Grid\"},{\"attributes\":{\"callback\":null,\"column_names\":[\"x\",\"label\",\"height\",\"color\",\"line_alpha\",\"line_color\",\"y\",\"width\",\"fill_alpha\"],\"data\":{\"chart_index\":[\"(4.500000, 5.500000]\"],\"color\":[\"#f22c40\"],\"fill_alpha\":[0.8],\"height\":[0.0],\"label\":[\"(4.500000, 5.500000]\"],\"line_alpha\":[1.0],\"line_color\":[\"black\"],\"width\":[1.0],\"x\":[\"5.0\"],\"y\":[0.0]}},\"id\":\"41e165a4-eab4-403d-a14a-97a84410d33e\",\"type\":\"ColumnDataSource\"},{\"attributes\":{\"active_drag\":\"auto\",\"active_scroll\":\"auto\",\"active_tap\":\"auto\",\"tools\":[{\"id\":\"d4f73d9f-1c6a-48ad-8cf4-3d8ce115e08a\",\"type\":\"PanTool\"},{\"id\":\"9f275dfd-d8e5-4b34-9961-24eabd12653e\",\"type\":\"WheelZoomTool\"},{\"id\":\"1725c89b-5bc9-47dc-baec-5acd3a7917fb\",\"type\":\"BoxZoomTool\"},{\"id\":\"9cdcaf47-477c-45a6-adfc-a57fdc99c985\",\"type\":\"SaveTool\"},{\"id\":\"3623304b-15c2-4e72-9845-3a380daf9c0b\",\"type\":\"ResetTool\"},{\"id\":\"5f5bd3ee-eea6-4114-b298-3843246e3020\",\"type\":\"HelpTool\"}]},\"id\":\"8c5af1e3-6605-41f4-be16-eecbfa31226c\",\"type\":\"Toolbar\"},{\"attributes\":{},\"id\":\"79f520e0-f567-455b-af91-4717f2e2b24c\",\"type\":\"BasicTickFormatter\"},{\"attributes\":{\"fill_alpha\":{\"field\":\"fill_alpha\"},\"fill_color\":{\"field\":\"color\"},\"height\":{\"field\":\"height\",\"units\":\"data\"},\"line_color\":{\"field\":\"line_color\"},\"width\":{\"field\":\"width\",\"units\":\"data\"},\"x\":{\"field\":\"x\"},\"y\":{\"field\":\"y\"}},\"id\":\"5bf50226-a054-4ad6-a193-76dce5d2bc0f\",\"type\":\"Rect\"},{\"attributes\":{\"fill_alpha\":{\"field\":\"fill_alpha\"},\"fill_color\":{\"field\":\"color\"},\"height\":{\"field\":\"height\",\"units\":\"data\"},\"line_color\":{\"field\":\"line_color\"},\"width\":{\"field\":\"width\",\"units\":\"data\"},\"x\":{\"field\":\"x\"},\"y\":{\"field\":\"y\"}},\"id\":\"dcd81f3a-82a2-4e8d-bf10-77c02f4f5cb9\",\"type\":\"Rect\"},{\"attributes\":{\"location\":\"top_left\",\"plot\":{\"id\":\"4742d85a-0774-4a5c-b11a-a1b4aa8a4e67\",\"subtype\":\"Chart\",\"type\":\"Plot\"}},\"id\":\"18f52edc-c524-4b81-aa06-2c5862e786e3\",\"type\":\"Legend\"},{\"attributes\":{\"data_source\":{\"id\":\"1200f276-a5cd-4949-b210-8f75f9b4ffdc\",\"type\":\"ColumnDataSource\"},\"glyph\":{\"id\":\"dbd2207b-4436-4b13-a12e-7a36f9dfebe3\",\"type\":\"Rect\"},\"hover_glyph\":null,\"nonselection_glyph\":null,\"selection_glyph\":null},\"id\":\"7af157de-ec6f-4c72-80af-c6d0a58d299f\",\"type\":\"GlyphRenderer\"},{\"attributes\":{\"plot\":{\"id\":\"4742d85a-0774-4a5c-b11a-a1b4aa8a4e67\",\"subtype\":\"Chart\",\"type\":\"Plot\"}},\"id\":\"5f5bd3ee-eea6-4114-b298-3843246e3020\",\"type\":\"HelpTool\"},{\"attributes\":{\"plot\":{\"id\":\"4742d85a-0774-4a5c-b11a-a1b4aa8a4e67\",\"subtype\":\"Chart\",\"type\":\"Plot\"}},\"id\":\"9cdcaf47-477c-45a6-adfc-a57fdc99c985\",\"type\":\"SaveTool\"},{\"attributes\":{\"fill_alpha\":{\"field\":\"fill_alpha\"},\"fill_color\":{\"field\":\"color\"},\"height\":{\"field\":\"height\",\"units\":\"data\"},\"line_color\":{\"field\":\"line_color\"},\"width\":{\"field\":\"width\",\"units\":\"data\"},\"x\":{\"field\":\"x\"},\"y\":{\"field\":\"y\"}},\"id\":\"b3e98bc6-9afa-4ad3-8dc7-fd3a75d25103\",\"type\":\"Rect\"},{\"attributes\":{\"bottom_units\":\"screen\",\"fill_alpha\":{\"value\":0.5},\"fill_color\":{\"value\":\"lightgrey\"},\"left_units\":\"screen\",\"level\":\"overlay\",\"line_alpha\":{\"value\":1.0},\"line_color\":{\"value\":\"black\"},\"line_dash\":[4,4],\"line_width\":{\"value\":2},\"plot\":null,\"render_mode\":\"css\",\"right_units\":\"screen\",\"top_units\":\"screen\"},\"id\":\"a8519c2a-3f08-4d30-ab10-9ce45d0c6a9e\",\"type\":\"BoxAnnotation\"},{\"attributes\":{\"ticks\":[0,1,2,3,4,5,6,7,8]},\"id\":\"2a8e69cd-95e4-4fc7-84c6-0646ffa83174\",\"type\":\"FixedTicker\"},{\"attributes\":{\"callback\":null,\"column_names\":[\"x\",\"label\",\"height\",\"color\",\"line_alpha\",\"line_color\",\"y\",\"width\",\"fill_alpha\"],\"data\":{\"chart_index\":[\"[0.500000, 1.500000]\"],\"color\":[\"#f22c40\"],\"fill_alpha\":[0.8],\"height\":[242725.0],\"label\":[\"[0.500000, 1.500000]\"],\"line_alpha\":[1.0],\"line_color\":[\"black\"],\"width\":[1.0],\"x\":[\"1.0\"],\"y\":[121362.5]}},\"id\":\"d9471c14-68b2-4602-b47c-f0c9f5a8d2f2\",\"type\":\"ColumnDataSource\"},{\"attributes\":{\"plot\":{\"id\":\"4742d85a-0774-4a5c-b11a-a1b4aa8a4e67\",\"subtype\":\"Chart\",\"type\":\"Plot\"}},\"id\":\"9f275dfd-d8e5-4b34-9961-24eabd12653e\",\"type\":\"WheelZoomTool\"},{\"attributes\":{\"fill_alpha\":{\"field\":\"fill_alpha\"},\"fill_color\":{\"field\":\"color\"},\"height\":{\"field\":\"height\",\"units\":\"data\"},\"line_color\":{\"field\":\"line_color\"},\"width\":{\"field\":\"width\",\"units\":\"data\"},\"x\":{\"field\":\"x\"},\"y\":{\"field\":\"y\"}},\"id\":\"8425d8a5-80d4-4c4f-845f-69730a607735\",\"type\":\"Rect\"},{\"attributes\":{\"axis_label\":\"Count(Dataset per File)\",\"formatter\":{\"id\":\"79f520e0-f567-455b-af91-4717f2e2b24c\",\"type\":\"BasicTickFormatter\"},\"plot\":{\"id\":\"4742d85a-0774-4a5c-b11a-a1b4aa8a4e67\",\"subtype\":\"Chart\",\"type\":\"Plot\"},\"ticker\":{\"id\":\"f8a7b36d-8f13-4f0e-a24a-94d5fab1a4a7\",\"type\":\"BasicTicker\"}},\"id\":\"fa1d0452-e058-41bd-a39b-d4cd306255f2\",\"type\":\"LinearAxis\"},{\"attributes\":{\"fill_alpha\":{\"field\":\"fill_alpha\"},\"fill_color\":{\"field\":\"color\"},\"height\":{\"field\":\"height\",\"units\":\"data\"},\"line_color\":{\"field\":\"line_color\"},\"width\":{\"field\":\"width\",\"units\":\"data\"},\"x\":{\"field\":\"x\"},\"y\":{\"field\":\"y\"}},\"id\":\"81ce17d4-8fbf-4724-a7b0-f627d9d22497\",\"type\":\"Rect\"},{\"attributes\":{},\"id\":\"0015cdaf-1d17-42cf-ba74-8819adcb13c2\",\"type\":\"BasicTickFormatter\"},{\"attributes\":{\"callback\":null,\"column_names\":[\"x\",\"label\",\"height\",\"color\",\"line_alpha\",\"line_color\",\"y\",\"width\",\"fill_alpha\"],\"data\":{\"chart_index\":[\"(5.500000, 6.500000]\"],\"color\":[\"#f22c40\"],\"fill_alpha\":[0.8],\"height\":[0.0],\"label\":[\"(5.500000, 6.500000]\"],\"line_alpha\":[1.0],\"line_color\":[\"black\"],\"width\":[1.0],\"x\":[\"6.0\"],\"y\":[0.0]}},\"id\":\"a50a578a-3bea-4258-9df0-89e29db23065\",\"type\":\"ColumnDataSource\"},{\"attributes\":{\"callback\":null,\"column_names\":[\"x\",\"label\",\"height\",\"color\",\"line_alpha\",\"line_color\",\"y\",\"width\",\"fill_alpha\"],\"data\":{\"chart_index\":[\"(6.500000, 7.500000]\"],\"color\":[\"#f22c40\"],\"fill_alpha\":[0.8],\"height\":[0.0],\"label\":[\"(6.500000, 7.500000]\"],\"line_alpha\":[1.0],\"line_color\":[\"black\"],\"width\":[1.0],\"x\":[\"7.0\"],\"y\":[0.0]}},\"id\":\"209327d7-d5e0-4b7f-a4df-9ef7be9ba523\",\"type\":\"ColumnDataSource\"},{\"attributes\":{\"callback\":null,\"column_names\":[\"x\",\"label\",\"height\",\"color\",\"line_alpha\",\"line_color\",\"y\",\"width\",\"fill_alpha\"],\"data\":{\"chart_index\":[\"(2.500000, 3.500000]\"],\"color\":[\"#f22c40\"],\"fill_alpha\":[0.8],\"height\":[0.0],\"label\":[\"(2.500000, 3.500000]\"],\"line_alpha\":[1.0],\"line_color\":[\"black\"],\"width\":[1.0],\"x\":[\"3.0\"],\"y\":[0.0]}},\"id\":\"1200f276-a5cd-4949-b210-8f75f9b4ffdc\",\"type\":\"ColumnDataSource\"},{\"attributes\":{\"data_source\":{\"id\":\"d9471c14-68b2-4602-b47c-f0c9f5a8d2f2\",\"type\":\"ColumnDataSource\"},\"glyph\":{\"id\":\"b3e98bc6-9afa-4ad3-8dc7-fd3a75d25103\",\"type\":\"Rect\"},\"hover_glyph\":null,\"nonselection_glyph\":null,\"selection_glyph\":null},\"id\":\"a1776ce0-31ee-4fa5-9547-ba18312b157d\",\"type\":\"GlyphRenderer\"},{\"attributes\":{},\"id\":\"f8a7b36d-8f13-4f0e-a24a-94d5fab1a4a7\",\"type\":\"BasicTicker\"},{\"attributes\":{},\"id\":\"8e3ee503-91c7-4921-9788-5bb5f13f4b1a\",\"type\":\"ToolEvents\"},{\"attributes\":{\"data_source\":{\"id\":\"41e165a4-eab4-403d-a14a-97a84410d33e\",\"type\":\"ColumnDataSource\"},\"glyph\":{\"id\":\"81ce17d4-8fbf-4724-a7b0-f627d9d22497\",\"type\":\"Rect\"},\"hover_glyph\":null,\"nonselection_glyph\":null,\"selection_glyph\":null},\"id\":\"37750da0-b869-4670-b43e-d83b32e36c7e\",\"type\":\"GlyphRenderer\"}],\"root_ids\":[\"4742d85a-0774-4a5c-b11a-a1b4aa8a4e67\"]},\"title\":\"Bokeh Application\",\"version\":\"0.12.4\"}};\n",
       "            var render_items = [{\"docid\":\"d2ad0bb7-ef36-4547-90aa-258bf18f3cd6\",\"elementid\":\"ea63950a-22fb-4ff0-a0ee-1cf8a0debb79\",\"modelid\":\"4742d85a-0774-4a5c-b11a-a1b4aa8a4e67\"}];\n",
       "            \n",
       "            Bokeh.embed.embed_items(docs_json, render_items);\n",
       "          };\n",
       "          if (document.readyState != \"loading\") fn();\n",
       "          else document.addEventListener(\"DOMContentLoaded\", fn);\n",
       "        })();\n",
       "      },\n",
       "      function(Bokeh) {\n",
       "      }\n",
       "    ];\n",
       "  \n",
       "    function run_inline_js() {\n",
       "      \n",
       "      if ((window.Bokeh !== undefined) || (force === true)) {\n",
       "        for (var i = 0; i < inline_js.length; i++) {\n",
       "          inline_js[i](window.Bokeh);\n",
       "        }if (force === true) {\n",
       "          display_loaded();\n",
       "        }} else if (Date.now() < window._bokeh_timeout) {\n",
       "        setTimeout(run_inline_js, 100);\n",
       "      } else if (!window._bokeh_failed_load) {\n",
       "        console.log(\"Bokeh: BokehJS failed to load within specified timeout.\");\n",
       "        window._bokeh_failed_load = true;\n",
       "      } else if (force !== true) {\n",
       "        var cell = $(document.getElementById(\"ea63950a-22fb-4ff0-a0ee-1cf8a0debb79\")).parents('.cell').data().cell;\n",
       "        cell.output_area.append_execute_result(NB_LOAD_WARNING)\n",
       "      }\n",
       "  \n",
       "    }\n",
       "  \n",
       "    if (window._bokeh_is_loading === 0) {\n",
       "      console.log(\"Bokeh: BokehJS loaded, going straight to plotting\");\n",
       "      run_inline_js();\n",
       "    } else {\n",
       "      load_libs(js_urls, function() {\n",
       "        console.log(\"Bokeh: BokehJS plotting callback run at\", now());\n",
       "        run_inline_js();\n",
       "      });\n",
       "    }\n",
       "  }(this));\n",
       "</script>"
      ]
     },
     "metadata": {},
     "output_type": "display_data"
    }
   ],
   "source": [
    "p = Histogram(grp.UUID.count(), bins=[.5, 1.5, 2.5, 3.5, 4.5, 5.5, 6.5, 7.5, 8.5],\n",
    "              xlabel='Number of byte streams per dataset',\n",
    "              ylabel='Count(Dataset per File)')\n",
    "p.xaxis[0].ticker = FixedTicker(ticks=list(range(9)))\n",
    "show(p)"
   ]
  },
  {
   "cell_type": "markdown",
   "metadata": {},
   "source": [
    "## Analysis: `MERRA2_400.tavgM_2d_slv_Nx`"
   ]
  },
  {
   "cell_type": "markdown",
   "metadata": {},
   "source": [
    "Select only DMR++ entries for these files:"
   ]
  },
  {
   "cell_type": "code",
   "execution_count": 33,
   "metadata": {
    "collapsed": true
   },
   "outputs": [],
   "source": [
    "merra2_tavg = dmrpp[dmrpp.File.str.contains('MERRA2_400.tavgM_2d_slv_Nx')]"
   ]
  },
  {
   "cell_type": "code",
   "execution_count": 34,
   "metadata": {
    "collapsed": false
   },
   "outputs": [
    {
     "name": "stdout",
     "output_type": "stream",
     "text": [
      "<class 'pandas.core.frame.DataFrame'>\n",
      "Int64Index: 82639 entries, 7981949 to 8064587\n",
      "Data columns (total 8 columns):\n",
      "File          82639 non-null object\n",
      "Dataset       82639 non-null object\n",
      "Chunk_Flag    82639 non-null bool\n",
      "UUID          82639 non-null object\n",
      "Checksum      82639 non-null object\n",
      "Offset        82639 non-null int64\n",
      "Size          82639 non-null int64\n",
      "Type          82639 non-null object\n",
      "dtypes: bool(1), int64(2), object(5)\n",
      "memory usage: 5.1+ MB\n"
     ]
    }
   ],
   "source": [
    "merra2_tavg.info()"
   ]
  },
  {
   "cell_type": "markdown",
   "metadata": {},
   "source": [
    "### Byte Streams"
   ]
  },
  {
   "cell_type": "markdown",
   "metadata": {},
   "source": [
    "#### How many byte streams with unique content?"
   ]
  },
  {
   "cell_type": "code",
   "execution_count": 35,
   "metadata": {
    "collapsed": false
   },
   "outputs": [],
   "source": [
    "x = merra2_tavg.Checksum.value_counts()"
   ]
  },
  {
   "cell_type": "code",
   "execution_count": 36,
   "metadata": {
    "collapsed": false
   },
   "outputs": [
    {
     "data": {
      "text/plain": [
       "81057"
      ]
     },
     "execution_count": 36,
     "metadata": {},
     "output_type": "execute_result"
    }
   ],
   "source": [
    "len(x.index)"
   ]
  },
  {
   "cell_type": "markdown",
   "metadata": {},
   "source": [
    "#### Which are the Top 20 byte streams based on content?"
   ]
  },
  {
   "cell_type": "code",
   "execution_count": 37,
   "metadata": {
    "collapsed": false
   },
   "outputs": [
    {
     "data": {
      "text/plain": [
       "d57d72206d7fb5fad96714288dd86f29    108\n",
       "3a862ab7992a90ec1f5e7999717f7c7d     54\n",
       "88ccb77821816d00ce02b679bd54523f     54\n",
       "14fcc6e1b10445175cd974c68f575a86     54\n",
       "08044720030d15a8aa892941bdf6a40e     54\n",
       "6ed95e16d4b2f755e1ff226faedac1d1     54\n",
       "dc51ab56717a3cae07a2ef00aa155512     54\n",
       "196be26f3d971e3c37190636133fee49     54\n",
       "adb99ec2a68b1d16fc9cd2f1d33e983d     13\n",
       "03e10d25b09a490f92d2b279c0340d4c     13\n",
       "f1d3ff8443297732862df21dc4e57262     13\n",
       "1e408d3959b79d5306aed99f32349e85      5\n",
       "2f6085a69dfc7614c41098551e61837a      5\n",
       "79257d601d89b6cd226c9a48b8d71dae      5\n",
       "fb17b5a07f6f30208d6d6347992e3866      5\n",
       "c2e47869aea0dc00ea6b1385eac9cd8b      5\n",
       "f800b82f340c8ea2e61fc42115743f25      5\n",
       "12a0d9a957b47592b3807470a6e0b510      5\n",
       "863e03ddb849236789b8b94acb6791ac      5\n",
       "6b5d1dbdb8b04c990bfc4ecb30b93831      5\n",
       "Name: Checksum, dtype: int64"
      ]
     },
     "execution_count": 37,
     "metadata": {},
     "output_type": "execute_result"
    }
   ],
   "source": [
    "x.sort_values(ascending=False).head(20)"
   ]
  },
  {
   "cell_type": "markdown",
   "metadata": {},
   "source": [
    "#### Where is the same byte stream stored?"
   ]
  },
  {
   "cell_type": "markdown",
   "metadata": {},
   "source": [
    "Byte stream we are looking for:"
   ]
  },
  {
   "cell_type": "code",
   "execution_count": 38,
   "metadata": {
    "collapsed": true
   },
   "outputs": [],
   "source": [
    "cksum = 'd57d72206d7fb5fad96714288dd86f29'"
   ]
  },
  {
   "cell_type": "code",
   "execution_count": 39,
   "metadata": {
    "collapsed": true
   },
   "outputs": [],
   "source": [
    "grp = merra2_tavg.groupby('Checksum')"
   ]
  },
  {
   "cell_type": "markdown",
   "metadata": {},
   "source": [
    "Per dataset across all the files that have it:"
   ]
  },
  {
   "cell_type": "code",
   "execution_count": 40,
   "metadata": {
    "collapsed": false
   },
   "outputs": [
    {
     "data": {
      "text/plain": [
       "/DISPH        54\n",
       "/Var_DISPH    54\n",
       "Name: Dataset, dtype: int64"
      ]
     },
     "execution_count": 40,
     "metadata": {},
     "output_type": "execute_result"
    }
   ],
   "source": [
    "grp.get_group(cksum)['Dataset'].value_counts()"
   ]
  },
  {
   "cell_type": "markdown",
   "metadata": {},
   "source": [
    "Per file including all its datasets:"
   ]
  },
  {
   "cell_type": "code",
   "execution_count": 41,
   "metadata": {
    "collapsed": false
   },
   "outputs": [
    {
     "data": {
      "text/plain": [
       "MERRA2_400.tavgM_2d_slv_Nx.201101.nc4    2\n",
       "MERRA2_400.tavgM_2d_slv_Nx.201102.nc4    2\n",
       "MERRA2_400.tavgM_2d_slv_Nx.201103.nc4    2\n",
       "MERRA2_400.tavgM_2d_slv_Nx.201104.nc4    2\n",
       "MERRA2_400.tavgM_2d_slv_Nx.201105.nc4    2\n",
       "MERRA2_400.tavgM_2d_slv_Nx.201106.nc4    2\n",
       "MERRA2_400.tavgM_2d_slv_Nx.201107.nc4    2\n",
       "MERRA2_400.tavgM_2d_slv_Nx.201108.nc4    2\n",
       "MERRA2_400.tavgM_2d_slv_Nx.201109.nc4    2\n",
       "MERRA2_400.tavgM_2d_slv_Nx.201110.nc4    2\n",
       "MERRA2_400.tavgM_2d_slv_Nx.201111.nc4    2\n",
       "MERRA2_400.tavgM_2d_slv_Nx.201112.nc4    2\n",
       "MERRA2_400.tavgM_2d_slv_Nx.201201.nc4    2\n",
       "MERRA2_400.tavgM_2d_slv_Nx.201202.nc4    2\n",
       "MERRA2_400.tavgM_2d_slv_Nx.201203.nc4    2\n",
       "MERRA2_400.tavgM_2d_slv_Nx.201204.nc4    2\n",
       "MERRA2_400.tavgM_2d_slv_Nx.201205.nc4    2\n",
       "MERRA2_400.tavgM_2d_slv_Nx.201206.nc4    2\n",
       "MERRA2_400.tavgM_2d_slv_Nx.201207.nc4    2\n",
       "MERRA2_400.tavgM_2d_slv_Nx.201208.nc4    2\n",
       "MERRA2_400.tavgM_2d_slv_Nx.201209.nc4    2\n",
       "MERRA2_400.tavgM_2d_slv_Nx.201210.nc4    2\n",
       "MERRA2_400.tavgM_2d_slv_Nx.201211.nc4    2\n",
       "MERRA2_400.tavgM_2d_slv_Nx.201212.nc4    2\n",
       "MERRA2_400.tavgM_2d_slv_Nx.201301.nc4    2\n",
       "MERRA2_400.tavgM_2d_slv_Nx.201302.nc4    2\n",
       "MERRA2_400.tavgM_2d_slv_Nx.201303.nc4    2\n",
       "MERRA2_400.tavgM_2d_slv_Nx.201304.nc4    2\n",
       "MERRA2_400.tavgM_2d_slv_Nx.201305.nc4    2\n",
       "MERRA2_400.tavgM_2d_slv_Nx.201306.nc4    2\n",
       "MERRA2_400.tavgM_2d_slv_Nx.201307.nc4    2\n",
       "MERRA2_400.tavgM_2d_slv_Nx.201308.nc4    2\n",
       "MERRA2_400.tavgM_2d_slv_Nx.201309.nc4    2\n",
       "MERRA2_400.tavgM_2d_slv_Nx.201310.nc4    2\n",
       "MERRA2_400.tavgM_2d_slv_Nx.201311.nc4    2\n",
       "MERRA2_400.tavgM_2d_slv_Nx.201312.nc4    2\n",
       "MERRA2_400.tavgM_2d_slv_Nx.201401.nc4    2\n",
       "MERRA2_400.tavgM_2d_slv_Nx.201402.nc4    2\n",
       "MERRA2_400.tavgM_2d_slv_Nx.201403.nc4    2\n",
       "MERRA2_400.tavgM_2d_slv_Nx.201404.nc4    2\n",
       "MERRA2_400.tavgM_2d_slv_Nx.201405.nc4    2\n",
       "MERRA2_400.tavgM_2d_slv_Nx.201406.nc4    2\n",
       "MERRA2_400.tavgM_2d_slv_Nx.201407.nc4    2\n",
       "MERRA2_400.tavgM_2d_slv_Nx.201408.nc4    2\n",
       "MERRA2_400.tavgM_2d_slv_Nx.201409.nc4    2\n",
       "MERRA2_400.tavgM_2d_slv_Nx.201410.nc4    2\n",
       "MERRA2_400.tavgM_2d_slv_Nx.201411.nc4    2\n",
       "MERRA2_400.tavgM_2d_slv_Nx.201412.nc4    2\n",
       "MERRA2_400.tavgM_2d_slv_Nx.201501.nc4    2\n",
       "MERRA2_400.tavgM_2d_slv_Nx.201502.nc4    2\n",
       "MERRA2_400.tavgM_2d_slv_Nx.201503.nc4    2\n",
       "MERRA2_400.tavgM_2d_slv_Nx.201504.nc4    2\n",
       "MERRA2_400.tavgM_2d_slv_Nx.201505.nc4    2\n",
       "MERRA2_400.tavgM_2d_slv_Nx.201506.nc4    2\n",
       "Name: File, dtype: int64"
      ]
     },
     "execution_count": 41,
     "metadata": {},
     "output_type": "execute_result"
    }
   ],
   "source": [
    "grp.get_group(cksum)['File'].value_counts().sort_index()"
   ]
  },
  {
   "cell_type": "markdown",
   "metadata": {},
   "source": [
    "#### What is the total number of byte streams in the files?"
   ]
  },
  {
   "cell_type": "code",
   "execution_count": 42,
   "metadata": {
    "collapsed": false
   },
   "outputs": [
    {
     "data": {
      "text/plain": [
       "82639"
      ]
     },
     "execution_count": 42,
     "metadata": {},
     "output_type": "execute_result"
    }
   ],
   "source": [
    "x.sum()"
   ]
  },
  {
   "cell_type": "markdown",
   "metadata": {},
   "source": [
    "#### What is the percentage reduction in number of S3 objects based on repeating checksums?"
   ]
  },
  {
   "cell_type": "code",
   "execution_count": 43,
   "metadata": {
    "collapsed": false
   },
   "outputs": [
    {
     "data": {
      "text/plain": [
       "-1.9143503672600093"
      ]
     },
     "execution_count": 43,
     "metadata": {},
     "output_type": "execute_result"
    }
   ],
   "source": [
    "100 * (len(x.index)/x.sum() - 1)"
   ]
  },
  {
   "cell_type": "markdown",
   "metadata": {},
   "source": [
    "#### What is the percentage reduction in bytes stored in S3 based on repeating checksums?"
   ]
  },
  {
   "cell_type": "code",
   "execution_count": 44,
   "metadata": {
    "collapsed": false
   },
   "outputs": [
    {
     "data": {
      "text/plain": [
       "3912188540"
      ]
     },
     "execution_count": 44,
     "metadata": {},
     "output_type": "execute_result"
    }
   ],
   "source": [
    "before = merra2_tavg.Size.sum()\n",
    "before"
   ]
  },
  {
   "cell_type": "code",
   "execution_count": 45,
   "metadata": {
    "collapsed": false
   },
   "outputs": [
    {
     "data": {
      "text/plain": [
       "3891337556"
      ]
     },
     "execution_count": 45,
     "metadata": {},
     "output_type": "execute_result"
    }
   ],
   "source": [
    "after = merra2_tavg.drop_duplicates('Checksum')['Size'].sum()\n",
    "after"
   ]
  },
  {
   "cell_type": "code",
   "execution_count": 46,
   "metadata": {
    "collapsed": false
   },
   "outputs": [
    {
     "data": {
      "text/plain": [
       "-0.53297492661230628"
      ]
     },
     "execution_count": 46,
     "metadata": {},
     "output_type": "execute_result"
    }
   ],
   "source": [
    "100 * (after/before - 1)"
   ]
  },
  {
   "cell_type": "markdown",
   "metadata": {},
   "source": [
    "#### What is the size statistics for unique byte streams?"
   ]
  },
  {
   "cell_type": "code",
   "execution_count": 47,
   "metadata": {
    "collapsed": false
   },
   "outputs": [
    {
     "data": {
      "text/html": [
       "\n",
       "\n",
       "    <div class=\"bk-root\">\n",
       "        <div class=\"bk-plotdiv\" id=\"eb4cc237-9617-4364-8f7d-fff8a32ceb6c\"></div>\n",
       "    </div>\n",
       "<script type=\"text/javascript\">\n",
       "  \n",
       "  (function(global) {\n",
       "    function now() {\n",
       "      return new Date();\n",
       "    }\n",
       "  \n",
       "    var force = false;\n",
       "  \n",
       "    if (typeof (window._bokeh_onload_callbacks) === \"undefined\" || force === true) {\n",
       "      window._bokeh_onload_callbacks = [];\n",
       "      window._bokeh_is_loading = undefined;\n",
       "    }\n",
       "  \n",
       "  \n",
       "    \n",
       "    if (typeof (window._bokeh_timeout) === \"undefined\" || force === true) {\n",
       "      window._bokeh_timeout = Date.now() + 0;\n",
       "      window._bokeh_failed_load = false;\n",
       "    }\n",
       "  \n",
       "    var NB_LOAD_WARNING = {'data': {'text/html':\n",
       "       \"<div style='background-color: #fdd'>\\n\"+\n",
       "       \"<p>\\n\"+\n",
       "       \"BokehJS does not appear to have successfully loaded. If loading BokehJS from CDN, this \\n\"+\n",
       "       \"may be due to a slow or bad network connection. Possible fixes:\\n\"+\n",
       "       \"</p>\\n\"+\n",
       "       \"<ul>\\n\"+\n",
       "       \"<li>re-rerun `output_notebook()` to attempt to load from CDN again, or</li>\\n\"+\n",
       "       \"<li>use INLINE resources instead, as so:</li>\\n\"+\n",
       "       \"</ul>\\n\"+\n",
       "       \"<code>\\n\"+\n",
       "       \"from bokeh.resources import INLINE\\n\"+\n",
       "       \"output_notebook(resources=INLINE)\\n\"+\n",
       "       \"</code>\\n\"+\n",
       "       \"</div>\"}};\n",
       "  \n",
       "    function display_loaded() {\n",
       "      if (window.Bokeh !== undefined) {\n",
       "        document.getElementById(\"eb4cc237-9617-4364-8f7d-fff8a32ceb6c\").textContent = \"BokehJS successfully loaded.\";\n",
       "      } else if (Date.now() < window._bokeh_timeout) {\n",
       "        setTimeout(display_loaded, 100)\n",
       "      }\n",
       "    }\n",
       "  \n",
       "    function run_callbacks() {\n",
       "      window._bokeh_onload_callbacks.forEach(function(callback) { callback() });\n",
       "      delete window._bokeh_onload_callbacks\n",
       "      console.info(\"Bokeh: all callbacks have finished\");\n",
       "    }\n",
       "  \n",
       "    function load_libs(js_urls, callback) {\n",
       "      window._bokeh_onload_callbacks.push(callback);\n",
       "      if (window._bokeh_is_loading > 0) {\n",
       "        console.log(\"Bokeh: BokehJS is being loaded, scheduling callback at\", now());\n",
       "        return null;\n",
       "      }\n",
       "      if (js_urls == null || js_urls.length === 0) {\n",
       "        run_callbacks();\n",
       "        return null;\n",
       "      }\n",
       "      console.log(\"Bokeh: BokehJS not loaded, scheduling load and callback at\", now());\n",
       "      window._bokeh_is_loading = js_urls.length;\n",
       "      for (var i = 0; i < js_urls.length; i++) {\n",
       "        var url = js_urls[i];\n",
       "        var s = document.createElement('script');\n",
       "        s.src = url;\n",
       "        s.async = false;\n",
       "        s.onreadystatechange = s.onload = function() {\n",
       "          window._bokeh_is_loading--;\n",
       "          if (window._bokeh_is_loading === 0) {\n",
       "            console.log(\"Bokeh: all BokehJS libraries loaded\");\n",
       "            run_callbacks()\n",
       "          }\n",
       "        };\n",
       "        s.onerror = function() {\n",
       "          console.warn(\"failed to load library \" + url);\n",
       "        };\n",
       "        console.log(\"Bokeh: injecting script tag for BokehJS library: \", url);\n",
       "        document.getElementsByTagName(\"head\")[0].appendChild(s);\n",
       "      }\n",
       "    };var element = document.getElementById(\"eb4cc237-9617-4364-8f7d-fff8a32ceb6c\");\n",
       "    if (element == null) {\n",
       "      console.log(\"Bokeh: ERROR: autoload.js configured with elementid 'eb4cc237-9617-4364-8f7d-fff8a32ceb6c' but no matching script tag was found. \")\n",
       "      return false;\n",
       "    }\n",
       "  \n",
       "    var js_urls = [];\n",
       "  \n",
       "    var inline_js = [\n",
       "      function(Bokeh) {\n",
       "        (function() {\n",
       "          var fn = function() {\n",
       "            var docs_json = {\"e791cc7a-6429-4210-a107-0eea3b597fa5\":{\"roots\":{\"references\":[{\"attributes\":{\"callback\":null,\"column_names\":[\"x\",\"label\",\"height\",\"color\",\"line_alpha\",\"line_color\",\"y\",\"width\",\"fill_alpha\"],\"data\":{\"chart_index\":[\"(16.638800, 33.273600]\"],\"color\":[\"#f22c40\"],\"fill_alpha\":[0.8],\"height\":[20307.0],\"label\":[\"(16.638800, 33.273600]\"],\"line_alpha\":[1.0],\"line_color\":[\"black\"],\"width\":[16.634799999999995],\"x\":[\"24.956200000000003\"],\"y\":[10153.5]}},\"id\":\"65a5f4e3-3377-4345-a2d4-d8107ef05248\",\"type\":\"ColumnDataSource\"},{\"attributes\":{\"overlay\":{\"id\":\"32784ad2-7c0c-40b4-be44-7a5e3b2970e6\",\"type\":\"BoxAnnotation\"},\"plot\":{\"id\":\"247c328e-ed3b-4502-b6df-eb80e505041b\",\"subtype\":\"Chart\",\"type\":\"Plot\"}},\"id\":\"57178e27-8de5-42fa-a5a2-db3e89bc4647\",\"type\":\"BoxZoomTool\"},{\"attributes\":{\"fill_alpha\":{\"field\":\"fill_alpha\"},\"fill_color\":{\"field\":\"color\"},\"height\":{\"field\":\"height\",\"units\":\"data\"},\"line_color\":{\"field\":\"line_color\"},\"width\":{\"field\":\"width\",\"units\":\"data\"},\"x\":{\"field\":\"x\"},\"y\":{\"field\":\"y\"}},\"id\":\"52771bd4-c0f3-4583-81cd-5d7116fc951f\",\"type\":\"Rect\"},{\"attributes\":{\"data_source\":{\"id\":\"f50d4a0d-9cc7-4ce8-947e-2ae9925fe629\",\"type\":\"ColumnDataSource\"},\"glyph\":{\"id\":\"58f453dd-b77b-4868-8bdd-68c44d3b692b\",\"type\":\"Rect\"},\"hover_glyph\":null,\"nonselection_glyph\":null,\"selection_glyph\":null},\"id\":\"6f04d0d9-d53c-4510-b9a0-4354ac83e3ef\",\"type\":\"GlyphRenderer\"},{\"attributes\":{\"callback\":null,\"column_names\":[\"x\",\"label\",\"height\",\"color\",\"line_alpha\",\"line_color\",\"y\",\"width\",\"fill_alpha\"],\"data\":{\"chart_index\":[\"(83.178000, 99.812800]\"],\"color\":[\"#f22c40\"],\"fill_alpha\":[0.8],\"height\":[0.0],\"label\":[\"(83.178000, 99.812800]\"],\"line_alpha\":[1.0],\"line_color\":[\"black\"],\"width\":[16.6348],\"x\":[\"91.49539999999999\"],\"y\":[0.0]}},\"id\":\"26e610f1-9169-4afa-af7f-301238306933\",\"type\":\"ColumnDataSource\"},{\"attributes\":{\"callback\":null,\"column_names\":[\"x\",\"label\",\"height\",\"color\",\"line_alpha\",\"line_color\",\"y\",\"width\",\"fill_alpha\"],\"data\":{\"chart_index\":[\"(399.239200, 415.874000]\"],\"color\":[\"#f22c40\"],\"fill_alpha\":[0.8],\"height\":[0.0],\"label\":[\"(399.239200, 415.874000]\"],\"line_alpha\":[1.0],\"line_color\":[\"black\"],\"width\":[16.634799999999984],\"x\":[\"407.5566\"],\"y\":[0.0]}},\"id\":\"b500a2cd-b8cc-4f3a-9465-894b2ce94424\",\"type\":\"ColumnDataSource\"},{\"attributes\":{\"fill_alpha\":{\"field\":\"fill_alpha\"},\"fill_color\":{\"field\":\"color\"},\"height\":{\"field\":\"height\",\"units\":\"data\"},\"line_color\":{\"field\":\"line_color\"},\"width\":{\"field\":\"width\",\"units\":\"data\"},\"x\":{\"field\":\"x\"},\"y\":{\"field\":\"y\"}},\"id\":\"e43f5eaa-be4c-49c2-944a-60827ef7b747\",\"type\":\"Rect\"},{\"attributes\":{\"data_source\":{\"id\":\"1e75b369-8ad1-48a0-9606-98575c7ced72\",\"type\":\"ColumnDataSource\"},\"glyph\":{\"id\":\"798d5545-47cf-4658-a6d8-686b903fe2b1\",\"type\":\"Rect\"},\"hover_glyph\":null,\"nonselection_glyph\":null,\"selection_glyph\":null},\"id\":\"dc6367a3-63bf-4681-95bf-b9e41b9b72ed\",\"type\":\"GlyphRenderer\"},{\"attributes\":{\"callback\":null,\"column_names\":[\"x\",\"label\",\"height\",\"color\",\"line_alpha\",\"line_color\",\"y\",\"width\",\"fill_alpha\"],\"data\":{\"chart_index\":[\"(432.508800, 449.143600]\"],\"color\":[\"#f22c40\"],\"fill_alpha\":[0.8],\"height\":[0.0],\"label\":[\"(432.508800, 449.143600]\"],\"line_alpha\":[1.0],\"line_color\":[\"black\"],\"width\":[16.63480000000004],\"x\":[\"440.8262\"],\"y\":[0.0]}},\"id\":\"523a111b-5f62-4e2b-ba4d-3ed6f5e526ab\",\"type\":\"ColumnDataSource\"},{\"attributes\":{\"data_source\":{\"id\":\"7eaa50d3-e717-48c8-94bb-acc69cd992de\",\"type\":\"ColumnDataSource\"},\"glyph\":{\"id\":\"6f187e72-bbf7-430e-b4ec-daa92ebf4b8c\",\"type\":\"Rect\"},\"hover_glyph\":null,\"nonselection_glyph\":null,\"selection_glyph\":null},\"id\":\"53b33b9c-f918-4b9e-b7a2-bb92c7bf57a0\",\"type\":\"GlyphRenderer\"},{\"attributes\":{\"fill_alpha\":{\"field\":\"fill_alpha\"},\"fill_color\":{\"field\":\"color\"},\"height\":{\"field\":\"height\",\"units\":\"data\"},\"line_color\":{\"field\":\"line_color\"},\"width\":{\"field\":\"width\",\"units\":\"data\"},\"x\":{\"field\":\"x\"},\"y\":{\"field\":\"y\"}},\"id\":\"ae9c0688-6842-4f1a-82f4-6731fb6494f8\",\"type\":\"Rect\"},{\"attributes\":{\"callback\":null,\"column_names\":[\"x\",\"label\",\"height\",\"color\",\"line_alpha\",\"line_color\",\"y\",\"width\",\"fill_alpha\"],\"data\":{\"chart_index\":[\"(731.935200, 748.570000]\"],\"color\":[\"#f22c40\"],\"fill_alpha\":[0.8],\"height\":[0.0],\"label\":[\"(731.935200, 748.570000]\"],\"line_alpha\":[1.0],\"line_color\":[\"black\"],\"width\":[16.634799999999927],\"x\":[\"740.2526\"],\"y\":[0.0]}},\"id\":\"f43f38cb-48ae-4578-95e3-c9ab17f47a37\",\"type\":\"ColumnDataSource\"},{\"attributes\":{\"callback\":null,\"column_names\":[\"x\",\"label\",\"height\",\"color\",\"line_alpha\",\"line_color\",\"y\",\"width\",\"fill_alpha\"],\"data\":{\"chart_index\":[\"(199.621600, 216.256400]\"],\"color\":[\"#f22c40\"],\"fill_alpha\":[0.8],\"height\":[0.0],\"label\":[\"(199.621600, 216.256400]\"],\"line_alpha\":[1.0],\"line_color\":[\"black\"],\"width\":[16.634799999999984],\"x\":[\"207.93900000000002\"],\"y\":[0.0]}},\"id\":\"886e9974-e91c-4458-8c11-616af2f24fff\",\"type\":\"ColumnDataSource\"},{\"attributes\":{\"data_source\":{\"id\":\"8407a605-aae5-48c3-ae14-ed4989b4c3d3\",\"type\":\"ColumnDataSource\"},\"glyph\":{\"id\":\"7d70a66f-4e07-4213-b3b9-e884d0cde99c\",\"type\":\"Rect\"},\"hover_glyph\":null,\"nonselection_glyph\":null,\"selection_glyph\":null},\"id\":\"44b1f34a-e0da-4cf9-b310-913cae81d58e\",\"type\":\"GlyphRenderer\"},{\"attributes\":{\"fill_alpha\":{\"field\":\"fill_alpha\"},\"fill_color\":{\"field\":\"color\"},\"height\":{\"field\":\"height\",\"units\":\"data\"},\"line_color\":{\"field\":\"line_color\"},\"width\":{\"field\":\"width\",\"units\":\"data\"},\"x\":{\"field\":\"x\"},\"y\":{\"field\":\"y\"}},\"id\":\"7d70a66f-4e07-4213-b3b9-e884d0cde99c\",\"type\":\"Rect\"},{\"attributes\":{},\"id\":\"cd94214c-40d0-4dfd-9497-e87077e5a748\",\"type\":\"BasicTickFormatter\"},{\"attributes\":{\"callback\":null,\"column_names\":[\"x\",\"label\",\"height\",\"color\",\"line_alpha\",\"line_color\",\"y\",\"width\",\"fill_alpha\"],\"data\":{\"chart_index\":[\"(798.474400, 815.109200]\"],\"color\":[\"#f22c40\"],\"fill_alpha\":[0.8],\"height\":[0.0],\"label\":[\"(798.474400, 815.109200]\"],\"line_alpha\":[1.0],\"line_color\":[\"black\"],\"width\":[16.63480000000004],\"x\":[\"806.7918\"],\"y\":[0.0]}},\"id\":\"0c49e1e2-93d4-4725-b2b5-3db3fb2b710b\",\"type\":\"ColumnDataSource\"},{\"attributes\":{\"plot\":{\"id\":\"247c328e-ed3b-4502-b6df-eb80e505041b\",\"subtype\":\"Chart\",\"type\":\"Plot\"}},\"id\":\"0de5eaf0-86e7-4e3f-8480-652f4448c169\",\"type\":\"PanTool\"},{\"attributes\":{\"fill_alpha\":{\"field\":\"fill_alpha\"},\"fill_color\":{\"field\":\"color\"},\"height\":{\"field\":\"height\",\"units\":\"data\"},\"line_color\":{\"field\":\"line_color\"},\"width\":{\"field\":\"width\",\"units\":\"data\"},\"x\":{\"field\":\"x\"},\"y\":{\"field\":\"y\"}},\"id\":\"2903fecb-8970-400d-b29f-443edf852a39\",\"type\":\"Rect\"},{\"attributes\":{\"fill_alpha\":{\"field\":\"fill_alpha\"},\"fill_color\":{\"field\":\"color\"},\"height\":{\"field\":\"height\",\"units\":\"data\"},\"line_color\":{\"field\":\"line_color\"},\"width\":{\"field\":\"width\",\"units\":\"data\"},\"x\":{\"field\":\"x\"},\"y\":{\"field\":\"y\"}},\"id\":\"033f816e-9bc3-4e47-9495-36773367a049\",\"type\":\"Rect\"},{\"attributes\":{\"data_source\":{\"id\":\"0c49e1e2-93d4-4725-b2b5-3db3fb2b710b\",\"type\":\"ColumnDataSource\"},\"glyph\":{\"id\":\"b0678bdb-6284-46c2-a013-51f8ecad36c5\",\"type\":\"Rect\"},\"hover_glyph\":null,\"nonselection_glyph\":null,\"selection_glyph\":null},\"id\":\"8c6cc44f-f86b-4da6-ad04-9cb4e0485a77\",\"type\":\"GlyphRenderer\"},{\"attributes\":{\"plot\":{\"id\":\"247c328e-ed3b-4502-b6df-eb80e505041b\",\"subtype\":\"Chart\",\"type\":\"Plot\"}},\"id\":\"8a0f19de-d892-4a86-a1eb-fe5e723990e8\",\"type\":\"WheelZoomTool\"},{\"attributes\":{\"data_source\":{\"id\":\"f43f38cb-48ae-4578-95e3-c9ab17f47a37\",\"type\":\"ColumnDataSource\"},\"glyph\":{\"id\":\"d5b197a5-ca62-468c-ac0a-791320716588\",\"type\":\"Rect\"},\"hover_glyph\":null,\"nonselection_glyph\":null,\"selection_glyph\":null},\"id\":\"56de5289-8899-4cd1-9dcc-d85c85d6bffb\",\"type\":\"GlyphRenderer\"},{\"attributes\":{\"callback\":null,\"column_names\":[\"x\",\"label\",\"height\",\"color\",\"line_alpha\",\"line_color\",\"y\",\"width\",\"fill_alpha\"],\"data\":{\"chart_index\":[\"(532.317600, 548.952400]\"],\"color\":[\"#f22c40\"],\"fill_alpha\":[0.8],\"height\":[0.0],\"label\":[\"(532.317600, 548.952400]\"],\"line_alpha\":[1.0],\"line_color\":[\"black\"],\"width\":[16.63480000000004],\"x\":[\"540.635\"],\"y\":[0.0]}},\"id\":\"f6d4faf1-67c9-4e81-9458-a374b0336c31\",\"type\":\"ColumnDataSource\"},{\"attributes\":{\"dimension\":1,\"plot\":{\"id\":\"247c328e-ed3b-4502-b6df-eb80e505041b\",\"subtype\":\"Chart\",\"type\":\"Plot\"},\"ticker\":{\"id\":\"ee1bd834-c2f5-4dcb-a390-eec5fa1de6d7\",\"type\":\"BasicTicker\"}},\"id\":\"110c6608-750d-455a-bfb5-9f691be30fff\",\"type\":\"Grid\"},{\"attributes\":{\"fill_alpha\":{\"field\":\"fill_alpha\"},\"fill_color\":{\"field\":\"color\"},\"height\":{\"field\":\"height\",\"units\":\"data\"},\"line_color\":{\"field\":\"line_color\"},\"width\":{\"field\":\"width\",\"units\":\"data\"},\"x\":{\"field\":\"x\"},\"y\":{\"field\":\"y\"}},\"id\":\"8d3cfdfb-0809-4818-bce7-12a9c75ca3db\",\"type\":\"Rect\"},{\"attributes\":{\"callback\":null,\"column_names\":[\"x\",\"label\",\"height\",\"color\",\"line_alpha\",\"line_color\",\"y\",\"width\",\"fill_alpha\"],\"data\":{\"chart_index\":[\"(133.082400, 149.717200]\"],\"color\":[\"#f22c40\"],\"fill_alpha\":[0.8],\"height\":[0.0],\"label\":[\"(133.082400, 149.717200]\"],\"line_alpha\":[1.0],\"line_color\":[\"black\"],\"width\":[16.634799999999984],\"x\":[\"141.3998\"],\"y\":[0.0]}},\"id\":\"f50d4a0d-9cc7-4ce8-947e-2ae9925fe629\",\"type\":\"ColumnDataSource\"},{\"attributes\":{\"data_source\":{\"id\":\"965c59cc-d3cc-463f-8d90-415a4086e123\",\"type\":\"ColumnDataSource\"},\"glyph\":{\"id\":\"592210e1-b90b-4570-8aed-55801516aa04\",\"type\":\"Rect\"},\"hover_glyph\":null,\"nonselection_glyph\":null,\"selection_glyph\":null},\"id\":\"14988f99-8e5e-49ea-bc41-fb06baf8db66\",\"type\":\"GlyphRenderer\"},{\"attributes\":{\"fill_alpha\":{\"field\":\"fill_alpha\"},\"fill_color\":{\"field\":\"color\"},\"height\":{\"field\":\"height\",\"units\":\"data\"},\"line_color\":{\"field\":\"line_color\"},\"width\":{\"field\":\"width\",\"units\":\"data\"},\"x\":{\"field\":\"x\"},\"y\":{\"field\":\"y\"}},\"id\":\"6954859f-e928-433a-a0c5-527cdb918e22\",\"type\":\"Rect\"},{\"attributes\":{\"data_source\":{\"id\":\"9ed8f74b-5ab3-4a32-9e71-9e916633c408\",\"type\":\"ColumnDataSource\"},\"glyph\":{\"id\":\"20a6ded9-1547-45c7-97d9-2e844bf2b03d\",\"type\":\"Rect\"},\"hover_glyph\":null,\"nonselection_glyph\":null,\"selection_glyph\":null},\"id\":\"b2a7b44f-0356-4c10-b474-78731c0d9c48\",\"type\":\"GlyphRenderer\"},{\"attributes\":{\"callback\":null,\"column_names\":[\"x\",\"label\",\"height\",\"color\",\"line_alpha\",\"line_color\",\"y\",\"width\",\"fill_alpha\"],\"data\":{\"chart_index\":[\"(648.761200, 665.396000]\"],\"color\":[\"#f22c40\"],\"fill_alpha\":[0.8],\"height\":[0.0],\"label\":[\"(648.761200, 665.396000]\"],\"line_alpha\":[1.0],\"line_color\":[\"black\"],\"width\":[16.63480000000004],\"x\":[\"657.0786\"],\"y\":[0.0]}},\"id\":\"97184852-61d9-4014-b310-e2a221fe1f66\",\"type\":\"ColumnDataSource\"},{\"attributes\":{\"callback\":null,\"end\":852.5377000000001,\"start\":-20.7897},\"id\":\"399e8767-232b-46d0-b72b-733f26456eea\",\"type\":\"Range1d\"},{\"attributes\":{\"callback\":null,\"column_names\":[\"x\",\"label\",\"height\",\"color\",\"line_alpha\",\"line_color\",\"y\",\"width\",\"fill_alpha\"],\"data\":{\"chart_index\":[\"(316.065200, 332.700000]\"],\"color\":[\"#f22c40\"],\"fill_alpha\":[0.8],\"height\":[0.0],\"label\":[\"(316.065200, 332.700000]\"],\"line_alpha\":[1.0],\"line_color\":[\"black\"],\"width\":[16.634799999999984],\"x\":[\"324.3826\"],\"y\":[0.0]}},\"id\":\"965c59cc-d3cc-463f-8d90-415a4086e123\",\"type\":\"ColumnDataSource\"},{\"attributes\":{\"callback\":null,\"column_names\":[\"x\",\"label\",\"height\",\"color\",\"line_alpha\",\"line_color\",\"y\",\"width\",\"fill_alpha\"],\"data\":{\"chart_index\":[\"(166.352000, 182.986800]\"],\"color\":[\"#f22c40\"],\"fill_alpha\":[0.8],\"height\":[0.0],\"label\":[\"(166.352000, 182.986800]\"],\"line_alpha\":[1.0],\"line_color\":[\"black\"],\"width\":[16.634800000000013],\"x\":[\"174.6694\"],\"y\":[0.0]}},\"id\":\"01769df0-1237-40ee-8ed2-12aba4e9e50b\",\"type\":\"ColumnDataSource\"},{\"attributes\":{\"data_source\":{\"id\":\"ff6506f6-a111-47d2-8e7f-65a2c4c8729a\",\"type\":\"ColumnDataSource\"},\"glyph\":{\"id\":\"615f17f9-98dd-43ec-9ed8-67624bef4dd1\",\"type\":\"Rect\"},\"hover_glyph\":null,\"nonselection_glyph\":null,\"selection_glyph\":null},\"id\":\"f2b5957b-45c6-48f9-9e1f-515087452ed9\",\"type\":\"GlyphRenderer\"},{\"attributes\":{\"fill_alpha\":{\"field\":\"fill_alpha\"},\"fill_color\":{\"field\":\"color\"},\"height\":{\"field\":\"height\",\"units\":\"data\"},\"line_color\":{\"field\":\"line_color\"},\"width\":{\"field\":\"width\",\"units\":\"data\"},\"x\":{\"field\":\"x\"},\"y\":{\"field\":\"y\"}},\"id\":\"1c2aa738-04d0-46df-931e-7e4b2ce7fe00\",\"type\":\"Rect\"},{\"attributes\":{\"callback\":null,\"column_names\":[\"x\",\"label\",\"height\",\"color\",\"line_alpha\",\"line_color\",\"y\",\"width\",\"fill_alpha\"],\"data\":{\"chart_index\":[\"(33.273600, 49.908400]\"],\"color\":[\"#f22c40\"],\"fill_alpha\":[0.8],\"height\":[59356.0],\"label\":[\"(33.273600, 49.908400]\"],\"line_alpha\":[1.0],\"line_color\":[\"black\"],\"width\":[16.6348],\"x\":[\"41.591\"],\"y\":[29678.0]}},\"id\":\"40ad995a-1f38-4423-99fe-da501c1867ed\",\"type\":\"ColumnDataSource\"},{\"attributes\":{\"callback\":null,\"column_names\":[\"x\",\"label\",\"height\",\"color\",\"line_alpha\",\"line_color\",\"y\",\"width\",\"fill_alpha\"],\"data\":{\"chart_index\":[\"(149.717200, 166.352000]\"],\"color\":[\"#f22c40\"],\"fill_alpha\":[0.8],\"height\":[0.0],\"label\":[\"(149.717200, 166.352000]\"],\"line_alpha\":[1.0],\"line_color\":[\"black\"],\"width\":[16.634800000000013],\"x\":[\"158.0346\"],\"y\":[0.0]}},\"id\":\"e67462cb-58ad-403d-b1d2-57393ba2b359\",\"type\":\"ColumnDataSource\"},{\"attributes\":{\"fill_alpha\":{\"field\":\"fill_alpha\"},\"fill_color\":{\"field\":\"color\"},\"height\":{\"field\":\"height\",\"units\":\"data\"},\"line_color\":{\"field\":\"line_color\"},\"width\":{\"field\":\"width\",\"units\":\"data\"},\"x\":{\"field\":\"x\"},\"y\":{\"field\":\"y\"}},\"id\":\"615f17f9-98dd-43ec-9ed8-67624bef4dd1\",\"type\":\"Rect\"},{\"attributes\":{\"callback\":null,\"column_names\":[\"x\",\"label\",\"height\",\"color\",\"line_alpha\",\"line_color\",\"y\",\"width\",\"fill_alpha\"],\"data\":{\"chart_index\":[\"(449.143600, 465.778400]\"],\"color\":[\"#f22c40\"],\"fill_alpha\":[0.8],\"height\":[0.0],\"label\":[\"(449.143600, 465.778400]\"],\"line_alpha\":[1.0],\"line_color\":[\"black\"],\"width\":[16.634799999999984],\"x\":[\"457.461\"],\"y\":[0.0]}},\"id\":\"ff6506f6-a111-47d2-8e7f-65a2c4c8729a\",\"type\":\"ColumnDataSource\"},{\"attributes\":{\"data_source\":{\"id\":\"96895d39-a2b7-465a-a22f-029e13fdd53b\",\"type\":\"ColumnDataSource\"},\"glyph\":{\"id\":\"c73a9e3b-600a-4d3b-bf5a-ee8915d38668\",\"type\":\"Rect\"},\"hover_glyph\":null,\"nonselection_glyph\":null,\"selection_glyph\":null},\"id\":\"e42db2e9-150f-49ed-a125-f705c164ecc7\",\"type\":\"GlyphRenderer\"},{\"attributes\":{\"data_source\":{\"id\":\"32963ee1-19c3-4d1b-ada2-a1b021e2cbd8\",\"type\":\"ColumnDataSource\"},\"glyph\":{\"id\":\"4c8918de-67cb-4af3-ae42-c0864f186078\",\"type\":\"Rect\"},\"hover_glyph\":null,\"nonselection_glyph\":null,\"selection_glyph\":null},\"id\":\"aead5879-2bff-42c4-9565-20e4bfcc65b1\",\"type\":\"GlyphRenderer\"},{\"attributes\":{\"callback\":null,\"column_names\":[\"x\",\"label\",\"height\",\"color\",\"line_alpha\",\"line_color\",\"y\",\"width\",\"fill_alpha\"],\"data\":{\"chart_index\":[\"(49.908400, 66.543200]\"],\"color\":[\"#f22c40\"],\"fill_alpha\":[0.8],\"height\":[0.0],\"label\":[\"(49.908400, 66.543200]\"],\"line_alpha\":[1.0],\"line_color\":[\"black\"],\"width\":[16.634800000000006],\"x\":[\"58.2258\"],\"y\":[0.0]}},\"id\":\"06aaddec-d0a4-4152-a836-bc2f001552ce\",\"type\":\"ColumnDataSource\"},{\"attributes\":{\"fill_alpha\":{\"field\":\"fill_alpha\"},\"fill_color\":{\"field\":\"color\"},\"height\":{\"field\":\"height\",\"units\":\"data\"},\"line_color\":{\"field\":\"line_color\"},\"width\":{\"field\":\"width\",\"units\":\"data\"},\"x\":{\"field\":\"x\"},\"y\":{\"field\":\"y\"}},\"id\":\"a25a6120-fce2-4707-9a14-ead36ff83e92\",\"type\":\"Rect\"},{\"attributes\":{\"fill_alpha\":{\"field\":\"fill_alpha\"},\"fill_color\":{\"field\":\"color\"},\"height\":{\"field\":\"height\",\"units\":\"data\"},\"line_color\":{\"field\":\"line_color\"},\"width\":{\"field\":\"width\",\"units\":\"data\"},\"x\":{\"field\":\"x\"},\"y\":{\"field\":\"y\"}},\"id\":\"77e34bb3-2157-4198-9bfc-56b0e38c35e6\",\"type\":\"Rect\"},{\"attributes\":{\"callback\":null,\"column_names\":[\"x\",\"label\",\"height\",\"color\",\"line_alpha\",\"line_color\",\"y\",\"width\",\"fill_alpha\"],\"data\":{\"chart_index\":[\"(765.204800, 781.839600]\"],\"color\":[\"#f22c40\"],\"fill_alpha\":[0.8],\"height\":[0.0],\"label\":[\"(765.204800, 781.839600]\"],\"line_alpha\":[1.0],\"line_color\":[\"black\"],\"width\":[16.634799999999927],\"x\":[\"773.5222\"],\"y\":[0.0]}},\"id\":\"32963ee1-19c3-4d1b-ada2-a1b021e2cbd8\",\"type\":\"ColumnDataSource\"},{\"attributes\":{\"data_source\":{\"id\":\"765b5b37-739c-40d4-b8f7-ff4783add28b\",\"type\":\"ColumnDataSource\"},\"glyph\":{\"id\":\"1c3dd93c-737e-44de-9e41-738f239f3f22\",\"type\":\"Rect\"},\"hover_glyph\":null,\"nonselection_glyph\":null,\"selection_glyph\":null},\"id\":\"335145ad-ac69-42e6-8f3a-89517ebbd3f3\",\"type\":\"GlyphRenderer\"},{\"attributes\":{\"data_source\":{\"id\":\"40ad995a-1f38-4423-99fe-da501c1867ed\",\"type\":\"ColumnDataSource\"},\"glyph\":{\"id\":\"2903fecb-8970-400d-b29f-443edf852a39\",\"type\":\"Rect\"},\"hover_glyph\":null,\"nonselection_glyph\":null,\"selection_glyph\":null},\"id\":\"e847dd61-e302-4844-bae6-8df7b3b41026\",\"type\":\"GlyphRenderer\"},{\"attributes\":{\"data_source\":{\"id\":\"b6b545e6-5e2c-4f9b-95c3-ce2b147b9f2d\",\"type\":\"ColumnDataSource\"},\"glyph\":{\"id\":\"f30eb01e-7d68-495e-9a12-2ab28f4aa002\",\"type\":\"Rect\"},\"hover_glyph\":null,\"nonselection_glyph\":null,\"selection_glyph\":null},\"id\":\"03b587ec-21be-4de5-aefe-ec9094d6b18f\",\"type\":\"GlyphRenderer\"},{\"attributes\":{\"fill_alpha\":{\"field\":\"fill_alpha\"},\"fill_color\":{\"field\":\"color\"},\"height\":{\"field\":\"height\",\"units\":\"data\"},\"line_color\":{\"field\":\"line_color\"},\"width\":{\"field\":\"width\",\"units\":\"data\"},\"x\":{\"field\":\"x\"},\"y\":{\"field\":\"y\"}},\"id\":\"d3a9e1fd-f995-431a-ab8c-1a9f8d820b7c\",\"type\":\"Rect\"},{\"attributes\":{\"data_source\":{\"id\":\"7b52b9da-cf56-4343-b241-abb39fc16caf\",\"type\":\"ColumnDataSource\"},\"glyph\":{\"id\":\"36cae9c5-f894-472d-9570-3c0b82fa2212\",\"type\":\"Rect\"},\"hover_glyph\":null,\"nonselection_glyph\":null,\"selection_glyph\":null},\"id\":\"f7bab151-d861-4bc5-bc42-c23159f39f12\",\"type\":\"GlyphRenderer\"},{\"attributes\":{\"fill_alpha\":{\"field\":\"fill_alpha\"},\"fill_color\":{\"field\":\"color\"},\"height\":{\"field\":\"height\",\"units\":\"data\"},\"line_color\":{\"field\":\"line_color\"},\"width\":{\"field\":\"width\",\"units\":\"data\"},\"x\":{\"field\":\"x\"},\"y\":{\"field\":\"y\"}},\"id\":\"c73a9e3b-600a-4d3b-bf5a-ee8915d38668\",\"type\":\"Rect\"},{\"attributes\":{\"callback\":null,\"column_names\":[\"x\",\"label\",\"height\",\"color\",\"line_alpha\",\"line_color\",\"y\",\"width\",\"fill_alpha\"],\"data\":{\"chart_index\":[\"(582.222000, 598.856800]\"],\"color\":[\"#f22c40\"],\"fill_alpha\":[0.8],\"height\":[0.0],\"label\":[\"(582.222000, 598.856800]\"],\"line_alpha\":[1.0],\"line_color\":[\"black\"],\"width\":[16.634799999999927],\"x\":[\"590.5394\"],\"y\":[0.0]}},\"id\":\"bce569b7-46c9-478e-ae00-09a7a8b1a20a\",\"type\":\"ColumnDataSource\"},{\"attributes\":{\"callback\":null,\"column_names\":[\"x\",\"label\",\"height\",\"color\",\"line_alpha\",\"line_color\",\"y\",\"width\",\"fill_alpha\"],\"data\":{\"chart_index\":[\"(182.986800, 199.621600]\"],\"color\":[\"#f22c40\"],\"fill_alpha\":[0.8],\"height\":[0.0],\"label\":[\"(182.986800, 199.621600]\"],\"line_alpha\":[1.0],\"line_color\":[\"black\"],\"width\":[16.634799999999984],\"x\":[\"191.30419999999998\"],\"y\":[0.0]}},\"id\":\"11f1a500-3dcb-418d-a84a-5e79a8b64447\",\"type\":\"ColumnDataSource\"},{\"attributes\":{\"data_source\":{\"id\":\"f6d4faf1-67c9-4e81-9458-a374b0336c31\",\"type\":\"ColumnDataSource\"},\"glyph\":{\"id\":\"6f132c6a-510d-4733-b220-042f2a6e6eb6\",\"type\":\"Rect\"},\"hover_glyph\":null,\"nonselection_glyph\":null,\"selection_glyph\":null},\"id\":\"068a0895-4e00-46d9-aa79-5d993b6f8411\",\"type\":\"GlyphRenderer\"},{\"attributes\":{\"callback\":null,\"column_names\":[\"x\",\"label\",\"height\",\"color\",\"line_alpha\",\"line_color\",\"y\",\"width\",\"fill_alpha\"],\"data\":{\"chart_index\":[\"(665.396000, 682.030800]\"],\"color\":[\"#f22c40\"],\"fill_alpha\":[0.8],\"height\":[0.0],\"label\":[\"(665.396000, 682.030800]\"],\"line_alpha\":[1.0],\"line_color\":[\"black\"],\"width\":[16.63480000000004],\"x\":[\"673.7134\"],\"y\":[0.0]}},\"id\":\"ac5b7cc3-aa2f-41a0-bfde-c074ac3e7203\",\"type\":\"ColumnDataSource\"},{\"attributes\":{\"callback\":null,\"column_names\":[\"x\",\"label\",\"height\",\"color\",\"line_alpha\",\"line_color\",\"y\",\"width\",\"fill_alpha\"],\"data\":{\"chart_index\":[\"(249.526000, 266.160800]\"],\"color\":[\"#f22c40\"],\"fill_alpha\":[0.8],\"height\":[0.0],\"label\":[\"(249.526000, 266.160800]\"],\"line_alpha\":[1.0],\"line_color\":[\"black\"],\"width\":[16.634800000000013],\"x\":[\"257.8434\"],\"y\":[0.0]}},\"id\":\"1259302c-2a19-4120-a9ae-f67bd91c8525\",\"type\":\"ColumnDataSource\"},{\"attributes\":{\"plot\":{\"id\":\"247c328e-ed3b-4502-b6df-eb80e505041b\",\"subtype\":\"Chart\",\"type\":\"Plot\"}},\"id\":\"877cafeb-c95d-41c8-adf7-6a6d09f2b251\",\"type\":\"SaveTool\"},{\"attributes\":{\"data_source\":{\"id\":\"63d190c5-6b43-4dfb-bbf2-66e29e77b433\",\"type\":\"ColumnDataSource\"},\"glyph\":{\"id\":\"b34d2ed5-249b-4cbc-bd6a-1f055c4182a4\",\"type\":\"Rect\"},\"hover_glyph\":null,\"nonselection_glyph\":null,\"selection_glyph\":null},\"id\":\"03260617-ae4a-45d4-a01f-00c1a64cf585\",\"type\":\"GlyphRenderer\"},{\"attributes\":{\"callback\":null,\"column_names\":[\"x\",\"label\",\"height\",\"color\",\"line_alpha\",\"line_color\",\"y\",\"width\",\"fill_alpha\"],\"data\":{\"chart_index\":[\"(615.491600, 632.126400]\"],\"color\":[\"#f22c40\"],\"fill_alpha\":[0.8],\"height\":[0.0],\"label\":[\"(615.491600, 632.126400]\"],\"line_alpha\":[1.0],\"line_color\":[\"black\"],\"width\":[16.63480000000004],\"x\":[\"623.809\"],\"y\":[0.0]}},\"id\":\"0c595b2e-c083-4607-906f-b4a8672a6622\",\"type\":\"ColumnDataSource\"},{\"attributes\":{\"data_source\":{\"id\":\"5fa0f65e-da58-43bc-9a67-e5a8e92a50ba\",\"type\":\"ColumnDataSource\"},\"glyph\":{\"id\":\"f72a1012-7842-4371-bf9e-67e9dc6404e4\",\"type\":\"Rect\"},\"hover_glyph\":null,\"nonselection_glyph\":null,\"selection_glyph\":null},\"id\":\"cc6b3ff6-54c4-430e-85cb-b581d0e34274\",\"type\":\"GlyphRenderer\"},{\"attributes\":{\"callback\":null,\"column_names\":[\"x\",\"label\",\"height\",\"color\",\"line_alpha\",\"line_color\",\"y\",\"width\",\"fill_alpha\"],\"data\":{\"chart_index\":[\"(282.795600, 299.430400]\"],\"color\":[\"#f22c40\"],\"fill_alpha\":[0.8],\"height\":[0.0],\"label\":[\"(282.795600, 299.430400]\"],\"line_alpha\":[1.0],\"line_color\":[\"black\"],\"width\":[16.634799999999984],\"x\":[\"291.113\"],\"y\":[0.0]}},\"id\":\"55697483-7dfb-46b6-950f-b8353eb777be\",\"type\":\"ColumnDataSource\"},{\"attributes\":{\"callback\":null,\"column_names\":[\"x\",\"label\",\"height\",\"color\",\"line_alpha\",\"line_color\",\"y\",\"width\",\"fill_alpha\"],\"data\":{\"chart_index\":[\"(499.048000, 515.682800]\"],\"color\":[\"#f22c40\"],\"fill_alpha\":[0.8],\"height\":[0.0],\"label\":[\"(499.048000, 515.682800]\"],\"line_alpha\":[1.0],\"line_color\":[\"black\"],\"width\":[16.634799999999927],\"x\":[\"507.3654\"],\"y\":[0.0]}},\"id\":\"eaf3e471-744d-4797-a522-f000309afa02\",\"type\":\"ColumnDataSource\"},{\"attributes\":{\"callback\":null,\"column_names\":[\"x\",\"label\",\"height\",\"color\",\"line_alpha\",\"line_color\",\"y\",\"width\",\"fill_alpha\"],\"data\":{\"chart_index\":[\"(715.300400, 731.935200]\"],\"color\":[\"#f22c40\"],\"fill_alpha\":[0.8],\"height\":[0.0],\"label\":[\"(715.300400, 731.935200]\"],\"line_alpha\":[1.0],\"line_color\":[\"black\"],\"width\":[16.63480000000004],\"x\":[\"723.6178\"],\"y\":[0.0]}},\"id\":\"96895d39-a2b7-465a-a22f-029e13fdd53b\",\"type\":\"ColumnDataSource\"},{\"attributes\":{\"fill_alpha\":{\"field\":\"fill_alpha\"},\"fill_color\":{\"field\":\"color\"},\"height\":{\"field\":\"height\",\"units\":\"data\"},\"line_color\":{\"field\":\"line_color\"},\"width\":{\"field\":\"width\",\"units\":\"data\"},\"x\":{\"field\":\"x\"},\"y\":{\"field\":\"y\"}},\"id\":\"b34d2ed5-249b-4cbc-bd6a-1f055c4182a4\",\"type\":\"Rect\"},{\"attributes\":{\"fill_alpha\":{\"field\":\"fill_alpha\"},\"fill_color\":{\"field\":\"color\"},\"height\":{\"field\":\"height\",\"units\":\"data\"},\"line_color\":{\"field\":\"line_color\"},\"width\":{\"field\":\"width\",\"units\":\"data\"},\"x\":{\"field\":\"x\"},\"y\":{\"field\":\"y\"}},\"id\":\"36cae9c5-f894-472d-9570-3c0b82fa2212\",\"type\":\"Rect\"},{\"attributes\":{\"data_source\":{\"id\":\"e67462cb-58ad-403d-b1d2-57393ba2b359\",\"type\":\"ColumnDataSource\"},\"glyph\":{\"id\":\"03594bbd-dee4-4c6b-8dc0-125a4d4f3bc0\",\"type\":\"Rect\"},\"hover_glyph\":null,\"nonselection_glyph\":null,\"selection_glyph\":null},\"id\":\"4759741e-a4ce-442e-97d1-26f5e561ad06\",\"type\":\"GlyphRenderer\"},{\"attributes\":{\"plot\":{\"id\":\"247c328e-ed3b-4502-b6df-eb80e505041b\",\"subtype\":\"Chart\",\"type\":\"Plot\"}},\"id\":\"2e298c5e-8847-4fb4-a0c9-db6192c2bc2a\",\"type\":\"HelpTool\"},{\"attributes\":{\"callback\":null,\"column_names\":[\"x\",\"label\",\"height\",\"color\",\"line_alpha\",\"line_color\",\"y\",\"width\",\"fill_alpha\"],\"data\":{\"chart_index\":[\"(548.952400, 565.587200]\"],\"color\":[\"#f22c40\"],\"fill_alpha\":[0.8],\"height\":[0.0],\"label\":[\"(548.952400, 565.587200]\"],\"line_alpha\":[1.0],\"line_color\":[\"black\"],\"width\":[16.634799999999927],\"x\":[\"557.2698\"],\"y\":[0.0]}},\"id\":\"b7808b8f-ad8f-4d8e-ae9b-78d2912a183d\",\"type\":\"ColumnDataSource\"},{\"attributes\":{\"fill_alpha\":{\"field\":\"fill_alpha\"},\"fill_color\":{\"field\":\"color\"},\"height\":{\"field\":\"height\",\"units\":\"data\"},\"line_color\":{\"field\":\"line_color\"},\"width\":{\"field\":\"width\",\"units\":\"data\"},\"x\":{\"field\":\"x\"},\"y\":{\"field\":\"y\"}},\"id\":\"ba1964c5-dc28-412f-8366-feb096ac77e4\",\"type\":\"Rect\"},{\"attributes\":{\"fill_alpha\":{\"field\":\"fill_alpha\"},\"fill_color\":{\"field\":\"color\"},\"height\":{\"field\":\"height\",\"units\":\"data\"},\"line_color\":{\"field\":\"line_color\"},\"width\":{\"field\":\"width\",\"units\":\"data\"},\"x\":{\"field\":\"x\"},\"y\":{\"field\":\"y\"}},\"id\":\"03594bbd-dee4-4c6b-8dc0-125a4d4f3bc0\",\"type\":\"Rect\"},{\"attributes\":{\"fill_alpha\":{\"field\":\"fill_alpha\"},\"fill_color\":{\"field\":\"color\"},\"height\":{\"field\":\"height\",\"units\":\"data\"},\"line_color\":{\"field\":\"line_color\"},\"width\":{\"field\":\"width\",\"units\":\"data\"},\"x\":{\"field\":\"x\"},\"y\":{\"field\":\"y\"}},\"id\":\"5b4e2461-34d8-4873-a041-2d090ba12769\",\"type\":\"Rect\"},{\"attributes\":{\"fill_alpha\":{\"field\":\"fill_alpha\"},\"fill_color\":{\"field\":\"color\"},\"height\":{\"field\":\"height\",\"units\":\"data\"},\"line_color\":{\"field\":\"line_color\"},\"width\":{\"field\":\"width\",\"units\":\"data\"},\"x\":{\"field\":\"x\"},\"y\":{\"field\":\"y\"}},\"id\":\"35db29a4-9371-4d35-afb6-d7e58abe6328\",\"type\":\"Rect\"},{\"attributes\":{\"fill_alpha\":{\"field\":\"fill_alpha\"},\"fill_color\":{\"field\":\"color\"},\"height\":{\"field\":\"height\",\"units\":\"data\"},\"line_color\":{\"field\":\"line_color\"},\"width\":{\"field\":\"width\",\"units\":\"data\"},\"x\":{\"field\":\"x\"},\"y\":{\"field\":\"y\"}},\"id\":\"d5b197a5-ca62-468c-ac0a-791320716588\",\"type\":\"Rect\"},{\"attributes\":{\"below\":[{\"id\":\"7fbf4f70-09d4-45b5-8406-f0417173965e\",\"type\":\"LinearAxis\"}],\"css_classes\":null,\"left\":[{\"id\":\"0c15396a-d125-4cdd-80d5-1d244fd7006d\",\"type\":\"LinearAxis\"}],\"renderers\":[{\"id\":\"32784ad2-7c0c-40b4-be44-7a5e3b2970e6\",\"type\":\"BoxAnnotation\"},{\"id\":\"18eba3d3-f6a7-4f37-946f-038337ecb20a\",\"type\":\"GlyphRenderer\"},{\"id\":\"32294b55-f99e-4107-9965-640da4cf2a0f\",\"type\":\"GlyphRenderer\"},{\"id\":\"e847dd61-e302-4844-bae6-8df7b3b41026\",\"type\":\"GlyphRenderer\"},{\"id\":\"b36ba068-64ae-4bf8-a354-0c3e5383f721\",\"type\":\"GlyphRenderer\"},{\"id\":\"44b1f34a-e0da-4cf9-b310-913cae81d58e\",\"type\":\"GlyphRenderer\"},{\"id\":\"e75c520c-09a2-49fa-adda-87f2acddf906\",\"type\":\"GlyphRenderer\"},{\"id\":\"b2a7b44f-0356-4c10-b474-78731c0d9c48\",\"type\":\"GlyphRenderer\"},{\"id\":\"b1d74310-7e17-460e-82d6-e9b251abc8cf\",\"type\":\"GlyphRenderer\"},{\"id\":\"6f04d0d9-d53c-4510-b9a0-4354ac83e3ef\",\"type\":\"GlyphRenderer\"},{\"id\":\"4759741e-a4ce-442e-97d1-26f5e561ad06\",\"type\":\"GlyphRenderer\"},{\"id\":\"070825f7-bf59-4547-84c0-0e18c795e449\",\"type\":\"GlyphRenderer\"},{\"id\":\"4d171add-6845-4865-bb98-309800ce215a\",\"type\":\"GlyphRenderer\"},{\"id\":\"e32a4d3f-9dd7-449b-9051-a53597ff1413\",\"type\":\"GlyphRenderer\"},{\"id\":\"126c9bb3-2a5e-43b6-8f9b-45d9dc1f72c8\",\"type\":\"GlyphRenderer\"},{\"id\":\"cc6b3ff6-54c4-430e-85cb-b581d0e34274\",\"type\":\"GlyphRenderer\"},{\"id\":\"2c86a8bb-be8e-4507-af81-fcb7cb4c319d\",\"type\":\"GlyphRenderer\"},{\"id\":\"fdcef18e-3d7a-4d90-9e47-16c2de575e72\",\"type\":\"GlyphRenderer\"},{\"id\":\"a1129c60-d63d-452d-b321-20bfd148a056\",\"type\":\"GlyphRenderer\"},{\"id\":\"82aaf0f1-2bda-47aa-8f20-715cb7f0e6ee\",\"type\":\"GlyphRenderer\"},{\"id\":\"14988f99-8e5e-49ea-bc41-fb06baf8db66\",\"type\":\"GlyphRenderer\"},{\"id\":\"53b33b9c-f918-4b9e-b7a2-bb92c7bf57a0\",\"type\":\"GlyphRenderer\"},{\"id\":\"43d802d0-706a-48f9-923c-dd176775cf3b\",\"type\":\"GlyphRenderer\"},{\"id\":\"dc6367a3-63bf-4681-95bf-b9e41b9b72ed\",\"type\":\"GlyphRenderer\"},{\"id\":\"03b587ec-21be-4de5-aefe-ec9094d6b18f\",\"type\":\"GlyphRenderer\"},{\"id\":\"369a6352-d50f-416b-a22b-15b41f72f210\",\"type\":\"GlyphRenderer\"},{\"id\":\"a1de8eb8-0adc-40fa-a596-e20210e5a8ce\",\"type\":\"GlyphRenderer\"},{\"id\":\"352ccc4c-e924-4017-85dc-f4caf741d4ab\",\"type\":\"GlyphRenderer\"},{\"id\":\"f2b5957b-45c6-48f9-9e1f-515087452ed9\",\"type\":\"GlyphRenderer\"},{\"id\":\"03260617-ae4a-45d4-a01f-00c1a64cf585\",\"type\":\"GlyphRenderer\"},{\"id\":\"8109503e-eb9d-4171-932d-178c565ebf6f\",\"type\":\"GlyphRenderer\"},{\"id\":\"607dba68-0802-46a6-b797-230bb7e232ed\",\"type\":\"GlyphRenderer\"},{\"id\":\"51b06722-f805-4be8-a7c3-30268ff547b7\",\"type\":\"GlyphRenderer\"},{\"id\":\"068a0895-4e00-46d9-aa79-5d993b6f8411\",\"type\":\"GlyphRenderer\"},{\"id\":\"3b12f833-ca7d-4ca7-bbff-eff1d6902f68\",\"type\":\"GlyphRenderer\"},{\"id\":\"335145ad-ac69-42e6-8f3a-89517ebbd3f3\",\"type\":\"GlyphRenderer\"},{\"id\":\"56ecf5eb-ed07-4750-8e5f-a6e0c5384eaa\",\"type\":\"GlyphRenderer\"},{\"id\":\"dcb6377e-c956-459f-93f3-2a3a44bf29bf\",\"type\":\"GlyphRenderer\"},{\"id\":\"184b82de-9e7a-4bae-b819-603228b2e18b\",\"type\":\"GlyphRenderer\"},{\"id\":\"f7bab151-d861-4bc5-bc42-c23159f39f12\",\"type\":\"GlyphRenderer\"},{\"id\":\"3caab449-fb96-4e07-8369-24e622eeee55\",\"type\":\"GlyphRenderer\"},{\"id\":\"5054e4cc-957a-45b0-82d0-993e5416ed87\",\"type\":\"GlyphRenderer\"},{\"id\":\"fc90fe4c-20de-4dfd-88ea-51f5c3569281\",\"type\":\"GlyphRenderer\"},{\"id\":\"4fb13b01-925a-489e-936d-bf1df61de9f4\",\"type\":\"GlyphRenderer\"},{\"id\":\"e42db2e9-150f-49ed-a125-f705c164ecc7\",\"type\":\"GlyphRenderer\"},{\"id\":\"56de5289-8899-4cd1-9dcc-d85c85d6bffb\",\"type\":\"GlyphRenderer\"},{\"id\":\"956a8b8a-76f6-42af-b875-20ba82d644b0\",\"type\":\"GlyphRenderer\"},{\"id\":\"aead5879-2bff-42c4-9565-20e4bfcc65b1\",\"type\":\"GlyphRenderer\"},{\"id\":\"7a5ba862-3a32-4f62-88bf-29d941b97b79\",\"type\":\"GlyphRenderer\"},{\"id\":\"8c6cc44f-f86b-4da6-ad04-9cb4e0485a77\",\"type\":\"GlyphRenderer\"},{\"id\":\"0f424897-690c-4ec1-8175-37cb195b19b4\",\"type\":\"GlyphRenderer\"},{\"id\":\"11a61266-d03c-4a3e-91ab-7ae9f1a488da\",\"type\":\"Legend\"},{\"id\":\"7fbf4f70-09d4-45b5-8406-f0417173965e\",\"type\":\"LinearAxis\"},{\"id\":\"0c15396a-d125-4cdd-80d5-1d244fd7006d\",\"type\":\"LinearAxis\"},{\"id\":\"110c6608-750d-455a-bfb5-9f691be30fff\",\"type\":\"Grid\"}],\"title\":{\"id\":\"31d5978a-a3b1-4449-b56d-ec5a575ee139\",\"type\":\"Title\"},\"tool_events\":{\"id\":\"ec9a589e-4694-429f-8b9e-1add023c3fb9\",\"type\":\"ToolEvents\"},\"toolbar\":{\"id\":\"d1ae590a-0d78-4656-9998-9e992da56b2f\",\"type\":\"Toolbar\"},\"x_mapper_type\":\"auto\",\"x_range\":{\"id\":\"399e8767-232b-46d0-b72b-733f26456eea\",\"type\":\"Range1d\"},\"y_mapper_type\":\"auto\",\"y_range\":{\"id\":\"8ffe065f-75b7-4714-9439-a7297fa422b5\",\"type\":\"Range1d\"}},\"id\":\"247c328e-ed3b-4502-b6df-eb80e505041b\",\"subtype\":\"Chart\",\"type\":\"Plot\"},{\"attributes\":{\"fill_alpha\":{\"field\":\"fill_alpha\"},\"fill_color\":{\"field\":\"color\"},\"height\":{\"field\":\"height\",\"units\":\"data\"},\"line_color\":{\"field\":\"line_color\"},\"width\":{\"field\":\"width\",\"units\":\"data\"},\"x\":{\"field\":\"x\"},\"y\":{\"field\":\"y\"}},\"id\":\"b6d98f3b-317e-4919-a513-e3e35179fedd\",\"type\":\"Rect\"},{\"attributes\":{\"callback\":null,\"column_names\":[\"x\",\"label\",\"height\",\"color\",\"line_alpha\",\"line_color\",\"y\",\"width\",\"fill_alpha\"],\"data\":{\"chart_index\":[\"(515.682800, 532.317600]\"],\"color\":[\"#f22c40\"],\"fill_alpha\":[0.8],\"height\":[0.0],\"label\":[\"(515.682800, 532.317600]\"],\"line_alpha\":[1.0],\"line_color\":[\"black\"],\"width\":[16.63480000000004],\"x\":[\"524.0002\"],\"y\":[0.0]}},\"id\":\"a13c8422-6192-4781-ae32-90c0e9f441fa\",\"type\":\"ColumnDataSource\"},{\"attributes\":{\"fill_alpha\":{\"field\":\"fill_alpha\"},\"fill_color\":{\"field\":\"color\"},\"height\":{\"field\":\"height\",\"units\":\"data\"},\"line_color\":{\"field\":\"line_color\"},\"width\":{\"field\":\"width\",\"units\":\"data\"},\"x\":{\"field\":\"x\"},\"y\":{\"field\":\"y\"}},\"id\":\"4146aaff-1c0d-46c6-9db3-a56c11e9c877\",\"type\":\"Rect\"},{\"attributes\":{\"callback\":null,\"column_names\":[\"x\",\"label\",\"height\",\"color\",\"line_alpha\",\"line_color\",\"y\",\"width\",\"fill_alpha\"],\"data\":{\"chart_index\":[\"(332.700000, 349.334800]\"],\"color\":[\"#f22c40\"],\"fill_alpha\":[0.8],\"height\":[0.0],\"label\":[\"(332.700000, 349.334800]\"],\"line_alpha\":[1.0],\"line_color\":[\"black\"],\"width\":[16.634799999999984],\"x\":[\"341.01739999999995\"],\"y\":[0.0]}},\"id\":\"7eaa50d3-e717-48c8-94bb-acc69cd992de\",\"type\":\"ColumnDataSource\"},{\"attributes\":{\"callback\":null,\"column_names\":[\"x\",\"label\",\"height\",\"color\",\"line_alpha\",\"line_color\",\"y\",\"width\",\"fill_alpha\"],\"data\":{\"chart_index\":[\"(781.839600, 798.474400]\"],\"color\":[\"#f22c40\"],\"fill_alpha\":[0.8],\"height\":[0.0],\"label\":[\"(781.839600, 798.474400]\"],\"line_alpha\":[1.0],\"line_color\":[\"black\"],\"width\":[16.63480000000004],\"x\":[\"790.1569999999999\"],\"y\":[0.0]}},\"id\":\"32961db3-6ebb-4531-bb2d-c063b4ccf38e\",\"type\":\"ColumnDataSource\"},{\"attributes\":{\"data_source\":{\"id\":\"89b63b08-0af5-4e0a-bdaf-73ddd00d0a70\",\"type\":\"ColumnDataSource\"},\"glyph\":{\"id\":\"12503cad-63fd-4de6-b981-f9a5cda529ce\",\"type\":\"Rect\"},\"hover_glyph\":null,\"nonselection_glyph\":null,\"selection_glyph\":null},\"id\":\"fdcef18e-3d7a-4d90-9e47-16c2de575e72\",\"type\":\"GlyphRenderer\"},{\"attributes\":{\"callback\":null,\"column_names\":[\"x\",\"label\",\"height\",\"color\",\"line_alpha\",\"line_color\",\"y\",\"width\",\"fill_alpha\"],\"data\":{\"chart_index\":[\"(748.570000, 765.204800]\"],\"color\":[\"#f22c40\"],\"fill_alpha\":[0.8],\"height\":[0.0],\"label\":[\"(748.570000, 765.204800]\"],\"line_alpha\":[1.0],\"line_color\":[\"black\"],\"width\":[16.63480000000004],\"x\":[\"756.8874000000001\"],\"y\":[0.0]}},\"id\":\"17b8ebea-5559-489e-a1f7-8a60dd68106c\",\"type\":\"ColumnDataSource\"},{\"attributes\":{\"fill_alpha\":{\"field\":\"fill_alpha\"},\"fill_color\":{\"field\":\"color\"},\"height\":{\"field\":\"height\",\"units\":\"data\"},\"line_color\":{\"field\":\"line_color\"},\"width\":{\"field\":\"width\",\"units\":\"data\"},\"x\":{\"field\":\"x\"},\"y\":{\"field\":\"y\"}},\"id\":\"2977d9dd-00a0-4184-866e-b99ac1043322\",\"type\":\"Rect\"},{\"attributes\":{\"fill_alpha\":{\"field\":\"fill_alpha\"},\"fill_color\":{\"field\":\"color\"},\"height\":{\"field\":\"height\",\"units\":\"data\"},\"line_color\":{\"field\":\"line_color\"},\"width\":{\"field\":\"width\",\"units\":\"data\"},\"x\":{\"field\":\"x\"},\"y\":{\"field\":\"y\"}},\"id\":\"4c8918de-67cb-4af3-ae42-c0864f186078\",\"type\":\"Rect\"},{\"attributes\":{\"fill_alpha\":{\"field\":\"fill_alpha\"},\"fill_color\":{\"field\":\"color\"},\"height\":{\"field\":\"height\",\"units\":\"data\"},\"line_color\":{\"field\":\"line_color\"},\"width\":{\"field\":\"width\",\"units\":\"data\"},\"x\":{\"field\":\"x\"},\"y\":{\"field\":\"y\"}},\"id\":\"28a97434-3a9a-41ac-b6cf-d3bc83311f0a\",\"type\":\"Rect\"},{\"attributes\":{\"data_source\":{\"id\":\"01769df0-1237-40ee-8ed2-12aba4e9e50b\",\"type\":\"ColumnDataSource\"},\"glyph\":{\"id\":\"3b858270-0e4e-4813-995c-c30a97e11aa6\",\"type\":\"Rect\"},\"hover_glyph\":null,\"nonselection_glyph\":null,\"selection_glyph\":null},\"id\":\"070825f7-bf59-4547-84c0-0e18c795e449\",\"type\":\"GlyphRenderer\"},{\"attributes\":{\"callback\":null,\"column_names\":[\"x\",\"label\",\"height\",\"color\",\"line_alpha\",\"line_color\",\"y\",\"width\",\"fill_alpha\"],\"data\":{\"chart_index\":[\"(815.109200, 831.744000]\"],\"color\":[\"#f22c40\"],\"fill_alpha\":[0.8],\"height\":[1220.0],\"label\":[\"(815.109200, 831.744000]\"],\"line_alpha\":[1.0],\"line_color\":[\"black\"],\"width\":[16.63480000000004],\"x\":[\"823.4266\"],\"y\":[610.0]}},\"id\":\"bf586e6d-7d63-4e44-b74c-118d942bca1c\",\"type\":\"ColumnDataSource\"},{\"attributes\":{\"callback\":null,\"column_names\":[\"x\",\"label\",\"height\",\"color\",\"line_alpha\",\"line_color\",\"y\",\"width\",\"fill_alpha\"],\"data\":{\"chart_index\":[\"(232.891200, 249.526000]\"],\"color\":[\"#f22c40\"],\"fill_alpha\":[0.8],\"height\":[0.0],\"label\":[\"(232.891200, 249.526000]\"],\"line_alpha\":[1.0],\"line_color\":[\"black\"],\"width\":[16.634800000000013],\"x\":[\"241.2086\"],\"y\":[0.0]}},\"id\":\"5fa0f65e-da58-43bc-9a67-e5a8e92a50ba\",\"type\":\"ColumnDataSource\"},{\"attributes\":{\"data_source\":{\"id\":\"b7808b8f-ad8f-4d8e-ae9b-78d2912a183d\",\"type\":\"ColumnDataSource\"},\"glyph\":{\"id\":\"d3a9e1fd-f995-431a-ab8c-1a9f8d820b7c\",\"type\":\"Rect\"},\"hover_glyph\":null,\"nonselection_glyph\":null,\"selection_glyph\":null},\"id\":\"3b12f833-ca7d-4ca7-bbff-eff1d6902f68\",\"type\":\"GlyphRenderer\"},{\"attributes\":{\"data_source\":{\"id\":\"cc10dbce-c31f-4deb-8a28-4f3acded88c8\",\"type\":\"ColumnDataSource\"},\"glyph\":{\"id\":\"77e34bb3-2157-4198-9bfc-56b0e38c35e6\",\"type\":\"Rect\"},\"hover_glyph\":null,\"nonselection_glyph\":null,\"selection_glyph\":null},\"id\":\"dcb6377e-c956-459f-93f3-2a3a44bf29bf\",\"type\":\"GlyphRenderer\"},{\"attributes\":{\"callback\":null,\"column_names\":[\"x\",\"label\",\"height\",\"color\",\"line_alpha\",\"line_color\",\"y\",\"width\",\"fill_alpha\"],\"data\":{\"chart_index\":[\"(698.665600, 715.300400]\"],\"color\":[\"#f22c40\"],\"fill_alpha\":[0.8],\"height\":[0.0],\"label\":[\"(698.665600, 715.300400]\"],\"line_alpha\":[1.0],\"line_color\":[\"black\"],\"width\":[16.63480000000004],\"x\":[\"706.983\"],\"y\":[0.0]}},\"id\":\"9f6408c6-b624-4909-a236-3e0ac3cd8360\",\"type\":\"ColumnDataSource\"},{\"attributes\":{\"data_source\":{\"id\":\"9f6408c6-b624-4909-a236-3e0ac3cd8360\",\"type\":\"ColumnDataSource\"},\"glyph\":{\"id\":\"b07d35f9-14d0-4222-bc44-b5608c2216ad\",\"type\":\"Rect\"},\"hover_glyph\":null,\"nonselection_glyph\":null,\"selection_glyph\":null},\"id\":\"4fb13b01-925a-489e-936d-bf1df61de9f4\",\"type\":\"GlyphRenderer\"},{\"attributes\":{\"fill_alpha\":{\"field\":\"fill_alpha\"},\"fill_color\":{\"field\":\"color\"},\"height\":{\"field\":\"height\",\"units\":\"data\"},\"line_color\":{\"field\":\"line_color\"},\"width\":{\"field\":\"width\",\"units\":\"data\"},\"x\":{\"field\":\"x\"},\"y\":{\"field\":\"y\"}},\"id\":\"1c3dd93c-737e-44de-9e41-738f239f3f22\",\"type\":\"Rect\"},{\"attributes\":{\"data_source\":{\"id\":\"523a111b-5f62-4e2b-ba4d-3ed6f5e526ab\",\"type\":\"ColumnDataSource\"},\"glyph\":{\"id\":\"dbd19d3b-2b5e-4832-8eb3-a3e7bf45a690\",\"type\":\"Rect\"},\"hover_glyph\":null,\"nonselection_glyph\":null,\"selection_glyph\":null},\"id\":\"352ccc4c-e924-4017-85dc-f4caf741d4ab\",\"type\":\"GlyphRenderer\"},{\"attributes\":{\"fill_alpha\":{\"field\":\"fill_alpha\"},\"fill_color\":{\"field\":\"color\"},\"height\":{\"field\":\"height\",\"units\":\"data\"},\"line_color\":{\"field\":\"line_color\"},\"width\":{\"field\":\"width\",\"units\":\"data\"},\"x\":{\"field\":\"x\"},\"y\":{\"field\":\"y\"}},\"id\":\"b0678bdb-6284-46c2-a013-51f8ecad36c5\",\"type\":\"Rect\"},{\"attributes\":{\"callback\":null,\"column_names\":[\"x\",\"label\",\"height\",\"color\",\"line_alpha\",\"line_color\",\"y\",\"width\",\"fill_alpha\"],\"data\":{\"chart_index\":[\"(415.874000, 432.508800]\"],\"color\":[\"#f22c40\"],\"fill_alpha\":[0.8],\"height\":[0.0],\"label\":[\"(415.874000, 432.508800]\"],\"line_alpha\":[1.0],\"line_color\":[\"black\"],\"width\":[16.634799999999984],\"x\":[\"424.19140000000004\"],\"y\":[0.0]}},\"id\":\"0ca55650-e159-4bc5-a9da-9607c8b4db71\",\"type\":\"ColumnDataSource\"},{\"attributes\":{\"axis_label\":\"Byte Stream Size (kilobytes)\",\"formatter\":{\"id\":\"cd94214c-40d0-4dfd-9497-e87077e5a748\",\"type\":\"BasicTickFormatter\"},\"plot\":{\"id\":\"247c328e-ed3b-4502-b6df-eb80e505041b\",\"subtype\":\"Chart\",\"type\":\"Plot\"},\"ticker\":{\"id\":\"30c38600-2b26-49a6-ab2e-5071ff2f0ef0\",\"type\":\"BasicTicker\"}},\"id\":\"7fbf4f70-09d4-45b5-8406-f0417173965e\",\"type\":\"LinearAxis\"},{\"attributes\":{\"data_source\":{\"id\":\"eaf3e471-744d-4797-a522-f000309afa02\",\"type\":\"ColumnDataSource\"},\"glyph\":{\"id\":\"865d3da6-0997-4566-8c9a-00ac2954effc\",\"type\":\"Rect\"},\"hover_glyph\":null,\"nonselection_glyph\":null,\"selection_glyph\":null},\"id\":\"607dba68-0802-46a6-b797-230bb7e232ed\",\"type\":\"GlyphRenderer\"},{\"attributes\":{\"fill_alpha\":{\"field\":\"fill_alpha\"},\"fill_color\":{\"field\":\"color\"},\"height\":{\"field\":\"height\",\"units\":\"data\"},\"line_color\":{\"field\":\"line_color\"},\"width\":{\"field\":\"width\",\"units\":\"data\"},\"x\":{\"field\":\"x\"},\"y\":{\"field\":\"y\"}},\"id\":\"f72a1012-7842-4371-bf9e-67e9dc6404e4\",\"type\":\"Rect\"},{\"attributes\":{\"fill_alpha\":{\"field\":\"fill_alpha\"},\"fill_color\":{\"field\":\"color\"},\"height\":{\"field\":\"height\",\"units\":\"data\"},\"line_color\":{\"field\":\"line_color\"},\"width\":{\"field\":\"width\",\"units\":\"data\"},\"x\":{\"field\":\"x\"},\"y\":{\"field\":\"y\"}},\"id\":\"22044986-4a8e-4a43-8197-b169b0a631c5\",\"type\":\"Rect\"},{\"attributes\":{},\"id\":\"30c38600-2b26-49a6-ab2e-5071ff2f0ef0\",\"type\":\"BasicTicker\"},{\"attributes\":{\"callback\":null,\"column_names\":[\"x\",\"label\",\"height\",\"color\",\"line_alpha\",\"line_color\",\"y\",\"width\",\"fill_alpha\"],\"data\":{\"chart_index\":[\"(365.969600, 382.604400]\"],\"color\":[\"#f22c40\"],\"fill_alpha\":[0.8],\"height\":[0.0],\"label\":[\"(365.969600, 382.604400]\"],\"line_alpha\":[1.0],\"line_color\":[\"black\"],\"width\":[16.634799999999984],\"x\":[\"374.28700000000003\"],\"y\":[0.0]}},\"id\":\"1e75b369-8ad1-48a0-9606-98575c7ced72\",\"type\":\"ColumnDataSource\"},{\"attributes\":{\"fill_alpha\":{\"field\":\"fill_alpha\"},\"fill_color\":{\"field\":\"color\"},\"height\":{\"field\":\"height\",\"units\":\"data\"},\"line_color\":{\"field\":\"line_color\"},\"width\":{\"field\":\"width\",\"units\":\"data\"},\"x\":{\"field\":\"x\"},\"y\":{\"field\":\"y\"}},\"id\":\"74015f88-44a0-43a8-8060-1f898507981a\",\"type\":\"Rect\"},{\"attributes\":{\"callback\":null,\"column_names\":[\"x\",\"label\",\"height\",\"color\",\"line_alpha\",\"line_color\",\"y\",\"width\",\"fill_alpha\"],\"data\":{\"chart_index\":[\"(382.604400, 399.239200]\"],\"color\":[\"#f22c40\"],\"fill_alpha\":[0.8],\"height\":[0.0],\"label\":[\"(382.604400, 399.239200]\"],\"line_alpha\":[1.0],\"line_color\":[\"black\"],\"width\":[16.634799999999984],\"x\":[\"390.92179999999996\"],\"y\":[0.0]}},\"id\":\"b6b545e6-5e2c-4f9b-95c3-ce2b147b9f2d\",\"type\":\"ColumnDataSource\"},{\"attributes\":{\"callback\":null,\"column_names\":[\"x\",\"label\",\"height\",\"color\",\"line_alpha\",\"line_color\",\"y\",\"width\",\"fill_alpha\"],\"data\":{\"chart_index\":[\"(116.447600, 133.082400]\"],\"color\":[\"#f22c40\"],\"fill_alpha\":[0.8],\"height\":[0.0],\"label\":[\"(116.447600, 133.082400]\"],\"line_alpha\":[1.0],\"line_color\":[\"black\"],\"width\":[16.634799999999984],\"x\":[\"124.765\"],\"y\":[0.0]}},\"id\":\"03953908-4d63-47db-abfc-367ec8c92f7e\",\"type\":\"ColumnDataSource\"},{\"attributes\":{\"callback\":null,\"column_names\":[\"x\",\"label\",\"height\",\"color\",\"line_alpha\",\"line_color\",\"y\",\"width\",\"fill_alpha\"],\"data\":{\"chart_index\":[\"(216.256400, 232.891200]\"],\"color\":[\"#f22c40\"],\"fill_alpha\":[0.8],\"height\":[0.0],\"label\":[\"(216.256400, 232.891200]\"],\"line_alpha\":[1.0],\"line_color\":[\"black\"],\"width\":[16.634800000000013],\"x\":[\"224.5738\"],\"y\":[0.0]}},\"id\":\"07f0c675-c174-40db-b62d-3a6a61b60739\",\"type\":\"ColumnDataSource\"},{\"attributes\":{\"data_source\":{\"id\":\"06aaddec-d0a4-4152-a836-bc2f001552ce\",\"type\":\"ColumnDataSource\"},\"glyph\":{\"id\":\"2977d9dd-00a0-4184-866e-b99ac1043322\",\"type\":\"Rect\"},\"hover_glyph\":null,\"nonselection_glyph\":null,\"selection_glyph\":null},\"id\":\"b36ba068-64ae-4bf8-a354-0c3e5383f721\",\"type\":\"GlyphRenderer\"},{\"attributes\":{\"data_source\":{\"id\":\"a13c8422-6192-4781-ae32-90c0e9f441fa\",\"type\":\"ColumnDataSource\"},\"glyph\":{\"id\":\"6d43173f-7c09-4c20-ba75-75dcb6272a95\",\"type\":\"Rect\"},\"hover_glyph\":null,\"nonselection_glyph\":null,\"selection_glyph\":null},\"id\":\"51b06722-f805-4be8-a7c3-30268ff547b7\",\"type\":\"GlyphRenderer\"},{\"attributes\":{\"callback\":null,\"column_names\":[\"x\",\"label\",\"height\",\"color\",\"line_alpha\",\"line_color\",\"y\",\"width\",\"fill_alpha\"],\"data\":{\"chart_index\":[\"(299.430400, 316.065200]\"],\"color\":[\"#f22c40\"],\"fill_alpha\":[0.8],\"height\":[0.0],\"label\":[\"(299.430400, 316.065200]\"],\"line_alpha\":[1.0],\"line_color\":[\"black\"],\"width\":[16.63480000000004],\"x\":[\"307.7478\"],\"y\":[0.0]}},\"id\":\"202a164c-9d7e-41c2-92b5-d02e01536cc8\",\"type\":\"ColumnDataSource\"},{\"attributes\":{\"data_source\":{\"id\":\"886e9974-e91c-4458-8c11-616af2f24fff\",\"type\":\"ColumnDataSource\"},\"glyph\":{\"id\":\"5b4e2461-34d8-4873-a041-2d090ba12769\",\"type\":\"Rect\"},\"hover_glyph\":null,\"nonselection_glyph\":null,\"selection_glyph\":null},\"id\":\"e32a4d3f-9dd7-449b-9051-a53597ff1413\",\"type\":\"GlyphRenderer\"},{\"attributes\":{\"data_source\":{\"id\":\"55697483-7dfb-46b6-950f-b8353eb777be\",\"type\":\"ColumnDataSource\"},\"glyph\":{\"id\":\"a25a6120-fce2-4707-9a14-ead36ff83e92\",\"type\":\"Rect\"},\"hover_glyph\":null,\"nonselection_glyph\":null,\"selection_glyph\":null},\"id\":\"a1129c60-d63d-452d-b321-20bfd148a056\",\"type\":\"GlyphRenderer\"},{\"attributes\":{\"data_source\":{\"id\":\"07f0c675-c174-40db-b62d-3a6a61b60739\",\"type\":\"ColumnDataSource\"},\"glyph\":{\"id\":\"c11d9ec4-e1a3-4ded-a40c-cf30b79d1022\",\"type\":\"Rect\"},\"hover_glyph\":null,\"nonselection_glyph\":null,\"selection_glyph\":null},\"id\":\"126c9bb3-2a5e-43b6-8f9b-45d9dc1f72c8\",\"type\":\"GlyphRenderer\"},{\"attributes\":{\"callback\":null,\"column_names\":[\"x\",\"label\",\"height\",\"color\",\"line_alpha\",\"line_color\",\"y\",\"width\",\"fill_alpha\"],\"data\":{\"chart_index\":[\"(349.334800, 365.969600]\"],\"color\":[\"#f22c40\"],\"fill_alpha\":[0.8],\"height\":[0.0],\"label\":[\"(349.334800, 365.969600]\"],\"line_alpha\":[1.0],\"line_color\":[\"black\"],\"width\":[16.63480000000004],\"x\":[\"357.6522\"],\"y\":[0.0]}},\"id\":\"42da3af3-8000-4d68-a47e-1955f3efb3ed\",\"type\":\"ColumnDataSource\"},{\"attributes\":{\"data_source\":{\"id\":\"bf586e6d-7d63-4e44-b74c-118d942bca1c\",\"type\":\"ColumnDataSource\"},\"glyph\":{\"id\":\"8d3cfdfb-0809-4818-bce7-12a9c75ca3db\",\"type\":\"Rect\"},\"hover_glyph\":null,\"nonselection_glyph\":null,\"selection_glyph\":null},\"id\":\"0f424897-690c-4ec1-8175-37cb195b19b4\",\"type\":\"GlyphRenderer\"},{\"attributes\":{\"data_source\":{\"id\":\"03953908-4d63-47db-abfc-367ec8c92f7e\",\"type\":\"ColumnDataSource\"},\"glyph\":{\"id\":\"033f816e-9bc3-4e47-9495-36773367a049\",\"type\":\"Rect\"},\"hover_glyph\":null,\"nonselection_glyph\":null,\"selection_glyph\":null},\"id\":\"b1d74310-7e17-460e-82d6-e9b251abc8cf\",\"type\":\"GlyphRenderer\"},{\"attributes\":{\"callback\":null,\"column_names\":[\"x\",\"label\",\"height\",\"color\",\"line_alpha\",\"line_color\",\"y\",\"width\",\"fill_alpha\"],\"data\":{\"chart_index\":[\"(66.543200, 83.178000]\"],\"color\":[\"#f22c40\"],\"fill_alpha\":[0.8],\"height\":[0.0],\"label\":[\"(66.543200, 83.178000]\"],\"line_alpha\":[1.0],\"line_color\":[\"black\"],\"width\":[16.6348],\"x\":[\"74.8606\"],\"y\":[0.0]}},\"id\":\"8407a605-aae5-48c3-ae14-ed4989b4c3d3\",\"type\":\"ColumnDataSource\"},{\"attributes\":{\"fill_alpha\":{\"field\":\"fill_alpha\"},\"fill_color\":{\"field\":\"color\"},\"height\":{\"field\":\"height\",\"units\":\"data\"},\"line_color\":{\"field\":\"line_color\"},\"width\":{\"field\":\"width\",\"units\":\"data\"},\"x\":{\"field\":\"x\"},\"y\":{\"field\":\"y\"}},\"id\":\"d38879e6-c60a-4b92-8918-23a99fbda101\",\"type\":\"Rect\"},{\"attributes\":{\"data_source\":{\"id\":\"ac5b7cc3-aa2f-41a0-bfde-c074ac3e7203\",\"type\":\"ColumnDataSource\"},\"glyph\":{\"id\":\"4146aaff-1c0d-46c6-9db3-a56c11e9c877\",\"type\":\"Rect\"},\"hover_glyph\":null,\"nonselection_glyph\":null,\"selection_glyph\":null},\"id\":\"5054e4cc-957a-45b0-82d0-993e5416ed87\",\"type\":\"GlyphRenderer\"},{\"attributes\":{\"data_source\":{\"id\":\"11f1a500-3dcb-418d-a84a-5e79a8b64447\",\"type\":\"ColumnDataSource\"},\"glyph\":{\"id\":\"28a97434-3a9a-41ac-b6cf-d3bc83311f0a\",\"type\":\"Rect\"},\"hover_glyph\":null,\"nonselection_glyph\":null,\"selection_glyph\":null},\"id\":\"4d171add-6845-4865-bb98-309800ce215a\",\"type\":\"GlyphRenderer\"},{\"attributes\":{\"callback\":null,\"column_names\":[\"x\",\"label\",\"height\",\"color\",\"line_alpha\",\"line_color\",\"y\",\"width\",\"fill_alpha\"],\"data\":{\"chart_index\":[\"(99.812800, 116.447600]\"],\"color\":[\"#f22c40\"],\"fill_alpha\":[0.8],\"height\":[0.0],\"label\":[\"(99.812800, 116.447600]\"],\"line_alpha\":[1.0],\"line_color\":[\"black\"],\"width\":[16.6348],\"x\":[\"108.1302\"],\"y\":[0.0]}},\"id\":\"9ed8f74b-5ab3-4a32-9e71-9e916633c408\",\"type\":\"ColumnDataSource\"},{\"attributes\":{\"callback\":null,\"column_names\":[\"x\",\"label\",\"height\",\"color\",\"line_alpha\",\"line_color\",\"y\",\"width\",\"fill_alpha\"],\"data\":{\"chart_index\":[\"[0.004000, 16.638800]\"],\"color\":[\"#f22c40\"],\"fill_alpha\":[0.8],\"height\":[174.0],\"label\":[\"[0.004000, 16.638800]\"],\"line_alpha\":[1.0],\"line_color\":[\"black\"],\"width\":[16.6348],\"x\":[\"8.3214\"],\"y\":[87.0]}},\"id\":\"35124719-c2fa-4d49-93ff-0c58a5348f2b\",\"type\":\"ColumnDataSource\"},{\"attributes\":{\"fill_alpha\":{\"field\":\"fill_alpha\"},\"fill_color\":{\"field\":\"color\"},\"height\":{\"field\":\"height\",\"units\":\"data\"},\"line_color\":{\"field\":\"line_color\"},\"width\":{\"field\":\"width\",\"units\":\"data\"},\"x\":{\"field\":\"x\"},\"y\":{\"field\":\"y\"}},\"id\":\"865d3da6-0997-4566-8c9a-00ac2954effc\",\"type\":\"Rect\"},{\"attributes\":{\"data_source\":{\"id\":\"32961db3-6ebb-4531-bb2d-c063b4ccf38e\",\"type\":\"ColumnDataSource\"},\"glyph\":{\"id\":\"1c2aa738-04d0-46df-931e-7e4b2ce7fe00\",\"type\":\"Rect\"},\"hover_glyph\":null,\"nonselection_glyph\":null,\"selection_glyph\":null},\"id\":\"7a5ba862-3a32-4f62-88bf-29d941b97b79\",\"type\":\"GlyphRenderer\"},{\"attributes\":{\"data_source\":{\"id\":\"26e610f1-9169-4afa-af7f-301238306933\",\"type\":\"ColumnDataSource\"},\"glyph\":{\"id\":\"b6d98f3b-317e-4919-a513-e3e35179fedd\",\"type\":\"Rect\"},\"hover_glyph\":null,\"nonselection_glyph\":null,\"selection_glyph\":null},\"id\":\"e75c520c-09a2-49fa-adda-87f2acddf906\",\"type\":\"GlyphRenderer\"},{\"attributes\":{\"fill_alpha\":{\"field\":\"fill_alpha\"},\"fill_color\":{\"field\":\"color\"},\"height\":{\"field\":\"height\",\"units\":\"data\"},\"line_color\":{\"field\":\"line_color\"},\"width\":{\"field\":\"width\",\"units\":\"data\"},\"x\":{\"field\":\"x\"},\"y\":{\"field\":\"y\"}},\"id\":\"b07d35f9-14d0-4222-bc44-b5608c2216ad\",\"type\":\"Rect\"},{\"attributes\":{\"data_source\":{\"id\":\"1259302c-2a19-4120-a9ae-f67bd91c8525\",\"type\":\"ColumnDataSource\"},\"glyph\":{\"id\":\"22044986-4a8e-4a43-8197-b169b0a631c5\",\"type\":\"Rect\"},\"hover_glyph\":null,\"nonselection_glyph\":null,\"selection_glyph\":null},\"id\":\"2c86a8bb-be8e-4507-af81-fcb7cb4c319d\",\"type\":\"GlyphRenderer\"},{\"attributes\":{\"plot\":null,\"text\":null},\"id\":\"31d5978a-a3b1-4449-b56d-ec5a575ee139\",\"type\":\"Title\"},{\"attributes\":{\"fill_alpha\":{\"field\":\"fill_alpha\"},\"fill_color\":{\"field\":\"color\"},\"height\":{\"field\":\"height\",\"units\":\"data\"},\"line_color\":{\"field\":\"line_color\"},\"width\":{\"field\":\"width\",\"units\":\"data\"},\"x\":{\"field\":\"x\"},\"y\":{\"field\":\"y\"}},\"id\":\"c11d9ec4-e1a3-4ded-a40c-cf30b79d1022\",\"type\":\"Rect\"},{\"attributes\":{\"callback\":null,\"column_names\":[\"x\",\"label\",\"height\",\"color\",\"line_alpha\",\"line_color\",\"y\",\"width\",\"fill_alpha\"],\"data\":{\"chart_index\":[\"(632.126400, 648.761200]\"],\"color\":[\"#f22c40\"],\"fill_alpha\":[0.8],\"height\":[0.0],\"label\":[\"(632.126400, 648.761200]\"],\"line_alpha\":[1.0],\"line_color\":[\"black\"],\"width\":[16.634799999999927],\"x\":[\"640.4438\"],\"y\":[0.0]}},\"id\":\"7b52b9da-cf56-4343-b241-abb39fc16caf\",\"type\":\"ColumnDataSource\"},{\"attributes\":{\"data_source\":{\"id\":\"202a164c-9d7e-41c2-92b5-d02e01536cc8\",\"type\":\"ColumnDataSource\"},\"glyph\":{\"id\":\"e43f5eaa-be4c-49c2-944a-60827ef7b747\",\"type\":\"Rect\"},\"hover_glyph\":null,\"nonselection_glyph\":null,\"selection_glyph\":null},\"id\":\"82aaf0f1-2bda-47aa-8f20-715cb7f0e6ee\",\"type\":\"GlyphRenderer\"},{\"attributes\":{\"fill_alpha\":{\"field\":\"fill_alpha\"},\"fill_color\":{\"field\":\"color\"},\"height\":{\"field\":\"height\",\"units\":\"data\"},\"line_color\":{\"field\":\"line_color\"},\"width\":{\"field\":\"width\",\"units\":\"data\"},\"x\":{\"field\":\"x\"},\"y\":{\"field\":\"y\"}},\"id\":\"0353379a-1c78-4e8d-8b16-9586862199af\",\"type\":\"Rect\"},{\"attributes\":{\"bottom_units\":\"screen\",\"fill_alpha\":{\"value\":0.5},\"fill_color\":{\"value\":\"lightgrey\"},\"left_units\":\"screen\",\"level\":\"overlay\",\"line_alpha\":{\"value\":1.0},\"line_color\":{\"value\":\"black\"},\"line_dash\":[4,4],\"line_width\":{\"value\":2},\"plot\":null,\"render_mode\":\"css\",\"right_units\":\"screen\",\"top_units\":\"screen\"},\"id\":\"32784ad2-7c0c-40b4-be44-7a5e3b2970e6\",\"type\":\"BoxAnnotation\"},{\"attributes\":{\"data_source\":{\"id\":\"97184852-61d9-4014-b310-e2a221fe1f66\",\"type\":\"ColumnDataSource\"},\"glyph\":{\"id\":\"85e333da-e698-4953-8d94-c1cfdf1a58fc\",\"type\":\"Rect\"},\"hover_glyph\":null,\"nonselection_glyph\":null,\"selection_glyph\":null},\"id\":\"3caab449-fb96-4e07-8369-24e622eeee55\",\"type\":\"GlyphRenderer\"},{\"attributes\":{\"fill_alpha\":{\"field\":\"fill_alpha\"},\"fill_color\":{\"field\":\"color\"},\"height\":{\"field\":\"height\",\"units\":\"data\"},\"line_color\":{\"field\":\"line_color\"},\"width\":{\"field\":\"width\",\"units\":\"data\"},\"x\":{\"field\":\"x\"},\"y\":{\"field\":\"y\"}},\"id\":\"6f187e72-bbf7-430e-b4ec-daa92ebf4b8c\",\"type\":\"Rect\"},{\"attributes\":{\"location\":\"top_left\",\"plot\":{\"id\":\"247c328e-ed3b-4502-b6df-eb80e505041b\",\"subtype\":\"Chart\",\"type\":\"Plot\"}},\"id\":\"11a61266-d03c-4a3e-91ab-7ae9f1a488da\",\"type\":\"Legend\"},{\"attributes\":{\"data_source\":{\"id\":\"65a5f4e3-3377-4345-a2d4-d8107ef05248\",\"type\":\"ColumnDataSource\"},\"glyph\":{\"id\":\"35db29a4-9371-4d35-afb6-d7e58abe6328\",\"type\":\"Rect\"},\"hover_glyph\":null,\"nonselection_glyph\":null,\"selection_glyph\":null},\"id\":\"32294b55-f99e-4107-9965-640da4cf2a0f\",\"type\":\"GlyphRenderer\"},{\"attributes\":{\"fill_alpha\":{\"field\":\"fill_alpha\"},\"fill_color\":{\"field\":\"color\"},\"height\":{\"field\":\"height\",\"units\":\"data\"},\"line_color\":{\"field\":\"line_color\"},\"width\":{\"field\":\"width\",\"units\":\"data\"},\"x\":{\"field\":\"x\"},\"y\":{\"field\":\"y\"}},\"id\":\"3b858270-0e4e-4813-995c-c30a97e11aa6\",\"type\":\"Rect\"},{\"attributes\":{},\"id\":\"ee1bd834-c2f5-4dcb-a390-eec5fa1de6d7\",\"type\":\"BasicTicker\"},{\"attributes\":{\"data_source\":{\"id\":\"35124719-c2fa-4d49-93ff-0c58a5348f2b\",\"type\":\"ColumnDataSource\"},\"glyph\":{\"id\":\"d8c7017b-635e-4321-800d-e830a3bd5f1f\",\"type\":\"Rect\"},\"hover_glyph\":null,\"nonselection_glyph\":null,\"selection_glyph\":null},\"id\":\"18eba3d3-f6a7-4f37-946f-038337ecb20a\",\"type\":\"GlyphRenderer\"},{\"attributes\":{\"data_source\":{\"id\":\"b500a2cd-b8cc-4f3a-9465-894b2ce94424\",\"type\":\"ColumnDataSource\"},\"glyph\":{\"id\":\"85c139a0-facc-4205-96bd-4f25b8694599\",\"type\":\"Rect\"},\"hover_glyph\":null,\"nonselection_glyph\":null,\"selection_glyph\":null},\"id\":\"369a6352-d50f-416b-a22b-15b41f72f210\",\"type\":\"GlyphRenderer\"},{\"attributes\":{\"data_source\":{\"id\":\"42da3af3-8000-4d68-a47e-1955f3efb3ed\",\"type\":\"ColumnDataSource\"},\"glyph\":{\"id\":\"ba1964c5-dc28-412f-8366-feb096ac77e4\",\"type\":\"Rect\"},\"hover_glyph\":null,\"nonselection_glyph\":null,\"selection_glyph\":null},\"id\":\"43d802d0-706a-48f9-923c-dd176775cf3b\",\"type\":\"GlyphRenderer\"},{\"attributes\":{\"fill_alpha\":{\"field\":\"fill_alpha\"},\"fill_color\":{\"field\":\"color\"},\"height\":{\"field\":\"height\",\"units\":\"data\"},\"line_color\":{\"field\":\"line_color\"},\"width\":{\"field\":\"width\",\"units\":\"data\"},\"x\":{\"field\":\"x\"},\"y\":{\"field\":\"y\"}},\"id\":\"6d43173f-7c09-4c20-ba75-75dcb6272a95\",\"type\":\"Rect\"},{\"attributes\":{\"fill_alpha\":{\"field\":\"fill_alpha\"},\"fill_color\":{\"field\":\"color\"},\"height\":{\"field\":\"height\",\"units\":\"data\"},\"line_color\":{\"field\":\"line_color\"},\"width\":{\"field\":\"width\",\"units\":\"data\"},\"x\":{\"field\":\"x\"},\"y\":{\"field\":\"y\"}},\"id\":\"592210e1-b90b-4570-8aed-55801516aa04\",\"type\":\"Rect\"},{\"attributes\":{\"callback\":null,\"column_names\":[\"x\",\"label\",\"height\",\"color\",\"line_alpha\",\"line_color\",\"y\",\"width\",\"fill_alpha\"],\"data\":{\"chart_index\":[\"(465.778400, 482.413200]\"],\"color\":[\"#f22c40\"],\"fill_alpha\":[0.8],\"height\":[0.0],\"label\":[\"(465.778400, 482.413200]\"],\"line_alpha\":[1.0],\"line_color\":[\"black\"],\"width\":[16.634799999999984],\"x\":[\"474.0958\"],\"y\":[0.0]}},\"id\":\"63d190c5-6b43-4dfb-bbf2-66e29e77b433\",\"type\":\"ColumnDataSource\"},{\"attributes\":{\"callback\":null,\"end\":65291.600000000006},\"id\":\"8ffe065f-75b7-4714-9439-a7297fa422b5\",\"type\":\"Range1d\"},{\"attributes\":{\"plot\":{\"id\":\"247c328e-ed3b-4502-b6df-eb80e505041b\",\"subtype\":\"Chart\",\"type\":\"Plot\"}},\"id\":\"f648d56f-ca4b-4096-9e22-61703254b1d5\",\"type\":\"ResetTool\"},{\"attributes\":{\"fill_alpha\":{\"field\":\"fill_alpha\"},\"fill_color\":{\"field\":\"color\"},\"height\":{\"field\":\"height\",\"units\":\"data\"},\"line_color\":{\"field\":\"line_color\"},\"width\":{\"field\":\"width\",\"units\":\"data\"},\"x\":{\"field\":\"x\"},\"y\":{\"field\":\"y\"}},\"id\":\"f30eb01e-7d68-495e-9a12-2ab28f4aa002\",\"type\":\"Rect\"},{\"attributes\":{\"fill_alpha\":{\"field\":\"fill_alpha\"},\"fill_color\":{\"field\":\"color\"},\"height\":{\"field\":\"height\",\"units\":\"data\"},\"line_color\":{\"field\":\"line_color\"},\"width\":{\"field\":\"width\",\"units\":\"data\"},\"x\":{\"field\":\"x\"},\"y\":{\"field\":\"y\"}},\"id\":\"6f132c6a-510d-4733-b220-042f2a6e6eb6\",\"type\":\"Rect\"},{\"attributes\":{\"data_source\":{\"id\":\"cde67fec-27ec-4741-81e6-5974fc156449\",\"type\":\"ColumnDataSource\"},\"glyph\":{\"id\":\"ae9c0688-6842-4f1a-82f4-6731fb6494f8\",\"type\":\"Rect\"},\"hover_glyph\":null,\"nonselection_glyph\":null,\"selection_glyph\":null},\"id\":\"fc90fe4c-20de-4dfd-88ea-51f5c3569281\",\"type\":\"GlyphRenderer\"},{\"attributes\":{\"callback\":null,\"column_names\":[\"x\",\"label\",\"height\",\"color\",\"line_alpha\",\"line_color\",\"y\",\"width\",\"fill_alpha\"],\"data\":{\"chart_index\":[\"(598.856800, 615.491600]\"],\"color\":[\"#f22c40\"],\"fill_alpha\":[0.8],\"height\":[0.0],\"label\":[\"(598.856800, 615.491600]\"],\"line_alpha\":[1.0],\"line_color\":[\"black\"],\"width\":[16.63480000000004],\"x\":[\"607.1741999999999\"],\"y\":[0.0]}},\"id\":\"cc10dbce-c31f-4deb-8a28-4f3acded88c8\",\"type\":\"ColumnDataSource\"},{\"attributes\":{\"data_source\":{\"id\":\"bce569b7-46c9-478e-ae00-09a7a8b1a20a\",\"type\":\"ColumnDataSource\"},\"glyph\":{\"id\":\"6954859f-e928-433a-a0c5-527cdb918e22\",\"type\":\"Rect\"},\"hover_glyph\":null,\"nonselection_glyph\":null,\"selection_glyph\":null},\"id\":\"56ecf5eb-ed07-4750-8e5f-a6e0c5384eaa\",\"type\":\"GlyphRenderer\"},{\"attributes\":{\"fill_alpha\":{\"field\":\"fill_alpha\"},\"fill_color\":{\"field\":\"color\"},\"height\":{\"field\":\"height\",\"units\":\"data\"},\"line_color\":{\"field\":\"line_color\"},\"width\":{\"field\":\"width\",\"units\":\"data\"},\"x\":{\"field\":\"x\"},\"y\":{\"field\":\"y\"}},\"id\":\"85c139a0-facc-4205-96bd-4f25b8694599\",\"type\":\"Rect\"},{\"attributes\":{\"callback\":null,\"column_names\":[\"x\",\"label\",\"height\",\"color\",\"line_alpha\",\"line_color\",\"y\",\"width\",\"fill_alpha\"],\"data\":{\"chart_index\":[\"(482.413200, 499.048000]\"],\"color\":[\"#f22c40\"],\"fill_alpha\":[0.8],\"height\":[0.0],\"label\":[\"(482.413200, 499.048000]\"],\"line_alpha\":[1.0],\"line_color\":[\"black\"],\"width\":[16.63480000000004],\"x\":[\"490.7306\"],\"y\":[0.0]}},\"id\":\"84a58e02-89b8-4289-a2dc-68bf27a41936\",\"type\":\"ColumnDataSource\"},{\"attributes\":{\"axis_label\":\"Count( Size )\",\"formatter\":{\"id\":\"706a0f54-492f-45b3-8ddf-8b883d024871\",\"type\":\"BasicTickFormatter\"},\"plot\":{\"id\":\"247c328e-ed3b-4502-b6df-eb80e505041b\",\"subtype\":\"Chart\",\"type\":\"Plot\"},\"ticker\":{\"id\":\"ee1bd834-c2f5-4dcb-a390-eec5fa1de6d7\",\"type\":\"BasicTicker\"}},\"id\":\"0c15396a-d125-4cdd-80d5-1d244fd7006d\",\"type\":\"LinearAxis\"},{\"attributes\":{\"fill_alpha\":{\"field\":\"fill_alpha\"},\"fill_color\":{\"field\":\"color\"},\"height\":{\"field\":\"height\",\"units\":\"data\"},\"line_color\":{\"field\":\"line_color\"},\"width\":{\"field\":\"width\",\"units\":\"data\"},\"x\":{\"field\":\"x\"},\"y\":{\"field\":\"y\"}},\"id\":\"798d5545-47cf-4658-a6d8-686b903fe2b1\",\"type\":\"Rect\"},{\"attributes\":{\"data_source\":{\"id\":\"0c595b2e-c083-4607-906f-b4a8672a6622\",\"type\":\"ColumnDataSource\"},\"glyph\":{\"id\":\"74015f88-44a0-43a8-8060-1f898507981a\",\"type\":\"Rect\"},\"hover_glyph\":null,\"nonselection_glyph\":null,\"selection_glyph\":null},\"id\":\"184b82de-9e7a-4bae-b819-603228b2e18b\",\"type\":\"GlyphRenderer\"},{\"attributes\":{\"data_source\":{\"id\":\"17b8ebea-5559-489e-a1f7-8a60dd68106c\",\"type\":\"ColumnDataSource\"},\"glyph\":{\"id\":\"0353379a-1c78-4e8d-8b16-9586862199af\",\"type\":\"Rect\"},\"hover_glyph\":null,\"nonselection_glyph\":null,\"selection_glyph\":null},\"id\":\"956a8b8a-76f6-42af-b875-20ba82d644b0\",\"type\":\"GlyphRenderer\"},{\"attributes\":{\"fill_alpha\":{\"field\":\"fill_alpha\"},\"fill_color\":{\"field\":\"color\"},\"height\":{\"field\":\"height\",\"units\":\"data\"},\"line_color\":{\"field\":\"line_color\"},\"width\":{\"field\":\"width\",\"units\":\"data\"},\"x\":{\"field\":\"x\"},\"y\":{\"field\":\"y\"}},\"id\":\"12503cad-63fd-4de6-b981-f9a5cda529ce\",\"type\":\"Rect\"},{\"attributes\":{\"active_drag\":\"auto\",\"active_scroll\":\"auto\",\"active_tap\":\"auto\",\"tools\":[{\"id\":\"0de5eaf0-86e7-4e3f-8480-652f4448c169\",\"type\":\"PanTool\"},{\"id\":\"8a0f19de-d892-4a86-a1eb-fe5e723990e8\",\"type\":\"WheelZoomTool\"},{\"id\":\"57178e27-8de5-42fa-a5a2-db3e89bc4647\",\"type\":\"BoxZoomTool\"},{\"id\":\"877cafeb-c95d-41c8-adf7-6a6d09f2b251\",\"type\":\"SaveTool\"},{\"id\":\"f648d56f-ca4b-4096-9e22-61703254b1d5\",\"type\":\"ResetTool\"},{\"id\":\"2e298c5e-8847-4fb4-a0c9-db6192c2bc2a\",\"type\":\"HelpTool\"}]},\"id\":\"d1ae590a-0d78-4656-9998-9e992da56b2f\",\"type\":\"Toolbar\"},{\"attributes\":{\"fill_alpha\":{\"field\":\"fill_alpha\"},\"fill_color\":{\"field\":\"color\"},\"height\":{\"field\":\"height\",\"units\":\"data\"},\"line_color\":{\"field\":\"line_color\"},\"width\":{\"field\":\"width\",\"units\":\"data\"},\"x\":{\"field\":\"x\"},\"y\":{\"field\":\"y\"}},\"id\":\"85e333da-e698-4953-8d94-c1cfdf1a58fc\",\"type\":\"Rect\"},{\"attributes\":{\"callback\":null,\"column_names\":[\"x\",\"label\",\"height\",\"color\",\"line_alpha\",\"line_color\",\"y\",\"width\",\"fill_alpha\"],\"data\":{\"chart_index\":[\"(266.160800, 282.795600]\"],\"color\":[\"#f22c40\"],\"fill_alpha\":[0.8],\"height\":[0.0],\"label\":[\"(266.160800, 282.795600]\"],\"line_alpha\":[1.0],\"line_color\":[\"black\"],\"width\":[16.634799999999984],\"x\":[\"274.4782\"],\"y\":[0.0]}},\"id\":\"89b63b08-0af5-4e0a-bdaf-73ddd00d0a70\",\"type\":\"ColumnDataSource\"},{\"attributes\":{\"fill_alpha\":{\"field\":\"fill_alpha\"},\"fill_color\":{\"field\":\"color\"},\"height\":{\"field\":\"height\",\"units\":\"data\"},\"line_color\":{\"field\":\"line_color\"},\"width\":{\"field\":\"width\",\"units\":\"data\"},\"x\":{\"field\":\"x\"},\"y\":{\"field\":\"y\"}},\"id\":\"d8c7017b-635e-4321-800d-e830a3bd5f1f\",\"type\":\"Rect\"},{\"attributes\":{},\"id\":\"ec9a589e-4694-429f-8b9e-1add023c3fb9\",\"type\":\"ToolEvents\"},{\"attributes\":{\"data_source\":{\"id\":\"0ca55650-e159-4bc5-a9da-9607c8b4db71\",\"type\":\"ColumnDataSource\"},\"glyph\":{\"id\":\"d38879e6-c60a-4b92-8918-23a99fbda101\",\"type\":\"Rect\"},\"hover_glyph\":null,\"nonselection_glyph\":null,\"selection_glyph\":null},\"id\":\"a1de8eb8-0adc-40fa-a596-e20210e5a8ce\",\"type\":\"GlyphRenderer\"},{\"attributes\":{\"fill_alpha\":{\"field\":\"fill_alpha\"},\"fill_color\":{\"field\":\"color\"},\"height\":{\"field\":\"height\",\"units\":\"data\"},\"line_color\":{\"field\":\"line_color\"},\"width\":{\"field\":\"width\",\"units\":\"data\"},\"x\":{\"field\":\"x\"},\"y\":{\"field\":\"y\"}},\"id\":\"20a6ded9-1547-45c7-97d9-2e844bf2b03d\",\"type\":\"Rect\"},{\"attributes\":{\"data_source\":{\"id\":\"84a58e02-89b8-4289-a2dc-68bf27a41936\",\"type\":\"ColumnDataSource\"},\"glyph\":{\"id\":\"52771bd4-c0f3-4583-81cd-5d7116fc951f\",\"type\":\"Rect\"},\"hover_glyph\":null,\"nonselection_glyph\":null,\"selection_glyph\":null},\"id\":\"8109503e-eb9d-4171-932d-178c565ebf6f\",\"type\":\"GlyphRenderer\"},{\"attributes\":{\"callback\":null,\"column_names\":[\"x\",\"label\",\"height\",\"color\",\"line_alpha\",\"line_color\",\"y\",\"width\",\"fill_alpha\"],\"data\":{\"chart_index\":[\"(565.587200, 582.222000]\"],\"color\":[\"#f22c40\"],\"fill_alpha\":[0.8],\"height\":[0.0],\"label\":[\"(565.587200, 582.222000]\"],\"line_alpha\":[1.0],\"line_color\":[\"black\"],\"width\":[16.63480000000004],\"x\":[\"573.9046000000001\"],\"y\":[0.0]}},\"id\":\"765b5b37-739c-40d4-b8f7-ff4783add28b\",\"type\":\"ColumnDataSource\"},{\"attributes\":{\"fill_alpha\":{\"field\":\"fill_alpha\"},\"fill_color\":{\"field\":\"color\"},\"height\":{\"field\":\"height\",\"units\":\"data\"},\"line_color\":{\"field\":\"line_color\"},\"width\":{\"field\":\"width\",\"units\":\"data\"},\"x\":{\"field\":\"x\"},\"y\":{\"field\":\"y\"}},\"id\":\"dbd19d3b-2b5e-4832-8eb3-a3e7bf45a690\",\"type\":\"Rect\"},{\"attributes\":{\"fill_alpha\":{\"field\":\"fill_alpha\"},\"fill_color\":{\"field\":\"color\"},\"height\":{\"field\":\"height\",\"units\":\"data\"},\"line_color\":{\"field\":\"line_color\"},\"width\":{\"field\":\"width\",\"units\":\"data\"},\"x\":{\"field\":\"x\"},\"y\":{\"field\":\"y\"}},\"id\":\"58f453dd-b77b-4868-8bdd-68c44d3b692b\",\"type\":\"Rect\"},{\"attributes\":{\"callback\":null,\"column_names\":[\"x\",\"label\",\"height\",\"color\",\"line_alpha\",\"line_color\",\"y\",\"width\",\"fill_alpha\"],\"data\":{\"chart_index\":[\"(682.030800, 698.665600]\"],\"color\":[\"#f22c40\"],\"fill_alpha\":[0.8],\"height\":[0.0],\"label\":[\"(682.030800, 698.665600]\"],\"line_alpha\":[1.0],\"line_color\":[\"black\"],\"width\":[16.634799999999927],\"x\":[\"690.3482\"],\"y\":[0.0]}},\"id\":\"cde67fec-27ec-4741-81e6-5974fc156449\",\"type\":\"ColumnDataSource\"},{\"attributes\":{},\"id\":\"706a0f54-492f-45b3-8ddf-8b883d024871\",\"type\":\"BasicTickFormatter\"}],\"root_ids\":[\"247c328e-ed3b-4502-b6df-eb80e505041b\"]},\"title\":\"Bokeh Application\",\"version\":\"0.12.4\"}};\n",
       "            var render_items = [{\"docid\":\"e791cc7a-6429-4210-a107-0eea3b597fa5\",\"elementid\":\"eb4cc237-9617-4364-8f7d-fff8a32ceb6c\",\"modelid\":\"247c328e-ed3b-4502-b6df-eb80e505041b\"}];\n",
       "            \n",
       "            Bokeh.embed.embed_items(docs_json, render_items);\n",
       "          };\n",
       "          if (document.readyState != \"loading\") fn();\n",
       "          else document.addEventListener(\"DOMContentLoaded\", fn);\n",
       "        })();\n",
       "      },\n",
       "      function(Bokeh) {\n",
       "      }\n",
       "    ];\n",
       "  \n",
       "    function run_inline_js() {\n",
       "      \n",
       "      if ((window.Bokeh !== undefined) || (force === true)) {\n",
       "        for (var i = 0; i < inline_js.length; i++) {\n",
       "          inline_js[i](window.Bokeh);\n",
       "        }if (force === true) {\n",
       "          display_loaded();\n",
       "        }} else if (Date.now() < window._bokeh_timeout) {\n",
       "        setTimeout(run_inline_js, 100);\n",
       "      } else if (!window._bokeh_failed_load) {\n",
       "        console.log(\"Bokeh: BokehJS failed to load within specified timeout.\");\n",
       "        window._bokeh_failed_load = true;\n",
       "      } else if (force !== true) {\n",
       "        var cell = $(document.getElementById(\"eb4cc237-9617-4364-8f7d-fff8a32ceb6c\")).parents('.cell').data().cell;\n",
       "        cell.output_area.append_execute_result(NB_LOAD_WARNING)\n",
       "      }\n",
       "  \n",
       "    }\n",
       "  \n",
       "    if (window._bokeh_is_loading === 0) {\n",
       "      console.log(\"Bokeh: BokehJS loaded, going straight to plotting\");\n",
       "      run_inline_js();\n",
       "    } else {\n",
       "      load_libs(js_urls, function() {\n",
       "        console.log(\"Bokeh: BokehJS plotting callback run at\", now());\n",
       "        run_inline_js();\n",
       "      });\n",
       "    }\n",
       "  }(this));\n",
       "</script>"
      ]
     },
     "metadata": {},
     "output_type": "display_data"
    }
   ],
   "source": [
    "p = Histogram(merra2_tavg.drop_duplicates('Checksum')['Size']/1000, bins=50,\n",
    "             xlabel='Byte Stream Size (kilobytes)')\n",
    "show(p)"
   ]
  },
  {
   "cell_type": "code",
   "execution_count": 48,
   "metadata": {
    "collapsed": false
   },
   "outputs": [
    {
     "data": {
      "text/plain": [
       "count     81057.000000\n",
       "mean      48007.421395\n",
       "std       97027.972354\n",
       "min           4.000000\n",
       "25%       33161.000000\n",
       "50%       37944.000000\n",
       "75%       40204.000000\n",
       "max      831744.000000\n",
       "Name: Size, dtype: float64"
      ]
     },
     "execution_count": 48,
     "metadata": {},
     "output_type": "execute_result"
    }
   ],
   "source": [
    "merra2_tavg.drop_duplicates('Checksum')['Size'].describe()"
   ]
  },
  {
   "cell_type": "markdown",
   "metadata": {
    "collapsed": true
   },
   "source": [
    "### Datasets"
   ]
  },
  {
   "cell_type": "markdown",
   "metadata": {},
   "source": [
    "#### How many datasets per file?"
   ]
  },
  {
   "cell_type": "code",
   "execution_count": 49,
   "metadata": {
    "collapsed": true
   },
   "outputs": [],
   "source": [
    "grp = merra2_tavg.groupby('File')"
   ]
  },
  {
   "cell_type": "code",
   "execution_count": 50,
   "metadata": {
    "collapsed": false
   },
   "outputs": [
    {
     "data": {
      "text/plain": [
       "count    67.0\n",
       "mean     97.0\n",
       "std       0.0\n",
       "min      97.0\n",
       "25%      97.0\n",
       "50%      97.0\n",
       "75%      97.0\n",
       "max      97.0\n",
       "Name: Dataset, dtype: float64"
      ]
     },
     "execution_count": 50,
     "metadata": {},
     "output_type": "execute_result"
    }
   ],
   "source": [
    "grp.Dataset.unique().apply(lambda l: len(l)).describe()"
   ]
  },
  {
   "cell_type": "markdown",
   "metadata": {},
   "source": [
    "#### Is every dataset in every file chunked?"
   ]
  },
  {
   "cell_type": "code",
   "execution_count": 51,
   "metadata": {
    "collapsed": true
   },
   "outputs": [],
   "source": [
    "grp = merra2_tavg.groupby(['File', 'Dataset'])"
   ]
  },
  {
   "cell_type": "code",
   "execution_count": 52,
   "metadata": {
    "collapsed": false
   },
   "outputs": [
    {
     "data": {
      "text/plain": [
       "False"
      ]
     },
     "execution_count": 52,
     "metadata": {},
     "output_type": "execute_result"
    }
   ],
   "source": [
    "grp.Chunk_Flag.agg(all).all()"
   ]
  },
  {
   "cell_type": "markdown",
   "metadata": {},
   "source": [
    "#### How many byte streams per dataset?"
   ]
  },
  {
   "cell_type": "code",
   "execution_count": 53,
   "metadata": {
    "collapsed": false
   },
   "outputs": [
    {
     "data": {
      "text/plain": [
       "count    6499.000000\n",
       "mean       12.715649\n",
       "std         6.203566\n",
       "min         1.000000\n",
       "25%        16.000000\n",
       "50%        16.000000\n",
       "75%        16.000000\n",
       "max        16.000000\n",
       "Name: UUID, dtype: float64"
      ]
     },
     "execution_count": 53,
     "metadata": {},
     "output_type": "execute_result"
    }
   ],
   "source": [
    "grp.UUID.count().describe()"
   ]
  },
  {
   "cell_type": "code",
   "execution_count": 54,
   "metadata": {
    "collapsed": false
   },
   "outputs": [
    {
     "data": {
      "text/html": [
       "\n",
       "\n",
       "    <div class=\"bk-root\">\n",
       "        <div class=\"bk-plotdiv\" id=\"301e8b35-891e-4376-a534-f67afee44c12\"></div>\n",
       "    </div>\n",
       "<script type=\"text/javascript\">\n",
       "  \n",
       "  (function(global) {\n",
       "    function now() {\n",
       "      return new Date();\n",
       "    }\n",
       "  \n",
       "    var force = false;\n",
       "  \n",
       "    if (typeof (window._bokeh_onload_callbacks) === \"undefined\" || force === true) {\n",
       "      window._bokeh_onload_callbacks = [];\n",
       "      window._bokeh_is_loading = undefined;\n",
       "    }\n",
       "  \n",
       "  \n",
       "    \n",
       "    if (typeof (window._bokeh_timeout) === \"undefined\" || force === true) {\n",
       "      window._bokeh_timeout = Date.now() + 0;\n",
       "      window._bokeh_failed_load = false;\n",
       "    }\n",
       "  \n",
       "    var NB_LOAD_WARNING = {'data': {'text/html':\n",
       "       \"<div style='background-color: #fdd'>\\n\"+\n",
       "       \"<p>\\n\"+\n",
       "       \"BokehJS does not appear to have successfully loaded. If loading BokehJS from CDN, this \\n\"+\n",
       "       \"may be due to a slow or bad network connection. Possible fixes:\\n\"+\n",
       "       \"</p>\\n\"+\n",
       "       \"<ul>\\n\"+\n",
       "       \"<li>re-rerun `output_notebook()` to attempt to load from CDN again, or</li>\\n\"+\n",
       "       \"<li>use INLINE resources instead, as so:</li>\\n\"+\n",
       "       \"</ul>\\n\"+\n",
       "       \"<code>\\n\"+\n",
       "       \"from bokeh.resources import INLINE\\n\"+\n",
       "       \"output_notebook(resources=INLINE)\\n\"+\n",
       "       \"</code>\\n\"+\n",
       "       \"</div>\"}};\n",
       "  \n",
       "    function display_loaded() {\n",
       "      if (window.Bokeh !== undefined) {\n",
       "        document.getElementById(\"301e8b35-891e-4376-a534-f67afee44c12\").textContent = \"BokehJS successfully loaded.\";\n",
       "      } else if (Date.now() < window._bokeh_timeout) {\n",
       "        setTimeout(display_loaded, 100)\n",
       "      }\n",
       "    }\n",
       "  \n",
       "    function run_callbacks() {\n",
       "      window._bokeh_onload_callbacks.forEach(function(callback) { callback() });\n",
       "      delete window._bokeh_onload_callbacks\n",
       "      console.info(\"Bokeh: all callbacks have finished\");\n",
       "    }\n",
       "  \n",
       "    function load_libs(js_urls, callback) {\n",
       "      window._bokeh_onload_callbacks.push(callback);\n",
       "      if (window._bokeh_is_loading > 0) {\n",
       "        console.log(\"Bokeh: BokehJS is being loaded, scheduling callback at\", now());\n",
       "        return null;\n",
       "      }\n",
       "      if (js_urls == null || js_urls.length === 0) {\n",
       "        run_callbacks();\n",
       "        return null;\n",
       "      }\n",
       "      console.log(\"Bokeh: BokehJS not loaded, scheduling load and callback at\", now());\n",
       "      window._bokeh_is_loading = js_urls.length;\n",
       "      for (var i = 0; i < js_urls.length; i++) {\n",
       "        var url = js_urls[i];\n",
       "        var s = document.createElement('script');\n",
       "        s.src = url;\n",
       "        s.async = false;\n",
       "        s.onreadystatechange = s.onload = function() {\n",
       "          window._bokeh_is_loading--;\n",
       "          if (window._bokeh_is_loading === 0) {\n",
       "            console.log(\"Bokeh: all BokehJS libraries loaded\");\n",
       "            run_callbacks()\n",
       "          }\n",
       "        };\n",
       "        s.onerror = function() {\n",
       "          console.warn(\"failed to load library \" + url);\n",
       "        };\n",
       "        console.log(\"Bokeh: injecting script tag for BokehJS library: \", url);\n",
       "        document.getElementsByTagName(\"head\")[0].appendChild(s);\n",
       "      }\n",
       "    };var element = document.getElementById(\"301e8b35-891e-4376-a534-f67afee44c12\");\n",
       "    if (element == null) {\n",
       "      console.log(\"Bokeh: ERROR: autoload.js configured with elementid '301e8b35-891e-4376-a534-f67afee44c12' but no matching script tag was found. \")\n",
       "      return false;\n",
       "    }\n",
       "  \n",
       "    var js_urls = [];\n",
       "  \n",
       "    var inline_js = [\n",
       "      function(Bokeh) {\n",
       "        (function() {\n",
       "          var fn = function() {\n",
       "            var docs_json = {\"6173d5b5-ffb7-4d3b-8dc6-4794a2e723ad\":{\"roots\":{\"references\":[{\"attributes\":{\"data_source\":{\"id\":\"1e356a5d-ac5b-4d95-abfc-64961971199c\",\"type\":\"ColumnDataSource\"},\"glyph\":{\"id\":\"eeeee7fc-476a-4aff-82bf-29feea4743a6\",\"type\":\"Rect\"},\"hover_glyph\":null,\"nonselection_glyph\":null,\"selection_glyph\":null},\"id\":\"02396031-fb6e-491e-bad3-7977a0afddaf\",\"type\":\"GlyphRenderer\"},{\"attributes\":{\"fill_alpha\":{\"field\":\"fill_alpha\"},\"fill_color\":{\"field\":\"color\"},\"height\":{\"field\":\"height\",\"units\":\"data\"},\"line_color\":{\"field\":\"line_color\"},\"width\":{\"field\":\"width\",\"units\":\"data\"},\"x\":{\"field\":\"x\"},\"y\":{\"field\":\"y\"}},\"id\":\"8c48c786-7d67-4e9a-9d0f-20424ec13775\",\"type\":\"Rect\"},{\"attributes\":{\"plot\":{\"id\":\"3c1ed48d-079b-4c79-9805-1b75eec31caa\",\"subtype\":\"Chart\",\"type\":\"Plot\"}},\"id\":\"e3d41859-b1fe-4b5f-8b54-71e9d7dce77d\",\"type\":\"ResetTool\"},{\"attributes\":{\"axis_label\":\"Number of byte streams per dataset\",\"formatter\":{\"id\":\"ccb56f0f-0e94-481d-bb52-13d40283ab11\",\"type\":\"BasicTickFormatter\"},\"plot\":{\"id\":\"3c1ed48d-079b-4c79-9805-1b75eec31caa\",\"subtype\":\"Chart\",\"type\":\"Plot\"},\"ticker\":{\"id\":\"deadc663-8e4f-410f-8e03-ff655ea7cace\",\"type\":\"FixedTicker\"}},\"id\":\"ab49fc07-6a71-4118-9d4e-3cba647ad930\",\"type\":\"LinearAxis\"},{\"attributes\":{\"axis_label\":\"Count(Dataset per File)\",\"formatter\":{\"id\":\"b5c31e37-7cbc-4b65-aed5-0f7addf18c89\",\"type\":\"BasicTickFormatter\"},\"plot\":{\"id\":\"3c1ed48d-079b-4c79-9805-1b75eec31caa\",\"subtype\":\"Chart\",\"type\":\"Plot\"},\"ticker\":{\"id\":\"68a12781-b869-4778-a715-451f7a80b627\",\"type\":\"BasicTicker\"}},\"id\":\"84664a31-99f0-42b9-918d-8f6301ea4c5b\",\"type\":\"LinearAxis\"},{\"attributes\":{\"data_source\":{\"id\":\"1a9e66a0-b78c-444a-8377-300e407c9a43\",\"type\":\"ColumnDataSource\"},\"glyph\":{\"id\":\"8c48c786-7d67-4e9a-9d0f-20424ec13775\",\"type\":\"Rect\"},\"hover_glyph\":null,\"nonselection_glyph\":null,\"selection_glyph\":null},\"id\":\"aea0c523-bbb1-40f0-a2e1-6c2358b4a88b\",\"type\":\"GlyphRenderer\"},{\"attributes\":{\"bottom_units\":\"screen\",\"fill_alpha\":{\"value\":0.5},\"fill_color\":{\"value\":\"lightgrey\"},\"left_units\":\"screen\",\"level\":\"overlay\",\"line_alpha\":{\"value\":1.0},\"line_color\":{\"value\":\"black\"},\"line_dash\":[4,4],\"line_width\":{\"value\":2},\"plot\":null,\"render_mode\":\"css\",\"right_units\":\"screen\",\"top_units\":\"screen\"},\"id\":\"588b98ce-8d21-402f-9e6b-48572d27a7e6\",\"type\":\"BoxAnnotation\"},{\"attributes\":{\"callback\":null,\"column_names\":[\"x\",\"label\",\"height\",\"color\",\"line_alpha\",\"line_color\",\"y\",\"width\",\"fill_alpha\"],\"data\":{\"chart_index\":[\"(9.500000, 10.500000]\"],\"color\":[\"#f22c40\"],\"fill_alpha\":[0.8],\"height\":[0.0],\"label\":[\"(9.500000, 10.500000]\"],\"line_alpha\":[1.0],\"line_color\":[\"black\"],\"width\":[1.0],\"x\":[\"10.0\"],\"y\":[0.0]}},\"id\":\"554cc188-881d-4e88-a613-cfd042995a7c\",\"type\":\"ColumnDataSource\"},{\"attributes\":{\"callback\":null,\"column_names\":[\"x\",\"label\",\"height\",\"color\",\"line_alpha\",\"line_color\",\"y\",\"width\",\"fill_alpha\"],\"data\":{\"chart_index\":[\"(10.500000, 11.500000]\"],\"color\":[\"#f22c40\"],\"fill_alpha\":[0.8],\"height\":[0.0],\"label\":[\"(10.500000, 11.500000]\"],\"line_alpha\":[1.0],\"line_color\":[\"black\"],\"width\":[1.0],\"x\":[\"11.0\"],\"y\":[0.0]}},\"id\":\"12ccd09b-726f-4a91-86c1-4d08c0c3ad55\",\"type\":\"ColumnDataSource\"},{\"attributes\":{},\"id\":\"36c5df4c-0ddc-4520-b3af-e0a76b1a54c5\",\"type\":\"ToolEvents\"},{\"attributes\":{\"fill_alpha\":{\"field\":\"fill_alpha\"},\"fill_color\":{\"field\":\"color\"},\"height\":{\"field\":\"height\",\"units\":\"data\"},\"line_color\":{\"field\":\"line_color\"},\"width\":{\"field\":\"width\",\"units\":\"data\"},\"x\":{\"field\":\"x\"},\"y\":{\"field\":\"y\"}},\"id\":\"e1665f1c-d2e0-4c24-b6a3-347c57770ece\",\"type\":\"Rect\"},{\"attributes\":{\"overlay\":{\"id\":\"588b98ce-8d21-402f-9e6b-48572d27a7e6\",\"type\":\"BoxAnnotation\"},\"plot\":{\"id\":\"3c1ed48d-079b-4c79-9805-1b75eec31caa\",\"subtype\":\"Chart\",\"type\":\"Plot\"}},\"id\":\"bef0ad14-b04d-47d5-86cd-05a77cac8d26\",\"type\":\"BoxZoomTool\"},{\"attributes\":{\"callback\":null,\"column_names\":[\"x\",\"label\",\"height\",\"color\",\"line_alpha\",\"line_color\",\"y\",\"width\",\"fill_alpha\"],\"data\":{\"chart_index\":[\"(3.500000, 4.500000]\"],\"color\":[\"#f22c40\"],\"fill_alpha\":[0.8],\"height\":[0.0],\"label\":[\"(3.500000, 4.500000]\"],\"line_alpha\":[1.0],\"line_color\":[\"black\"],\"width\":[1.0],\"x\":[\"4.0\"],\"y\":[0.0]}},\"id\":\"3a51e117-30cc-4860-8bc8-10373b586208\",\"type\":\"ColumnDataSource\"},{\"attributes\":{\"below\":[{\"id\":\"ab49fc07-6a71-4118-9d4e-3cba647ad930\",\"type\":\"LinearAxis\"}],\"css_classes\":null,\"left\":[{\"id\":\"84664a31-99f0-42b9-918d-8f6301ea4c5b\",\"type\":\"LinearAxis\"}],\"renderers\":[{\"id\":\"588b98ce-8d21-402f-9e6b-48572d27a7e6\",\"type\":\"BoxAnnotation\"},{\"id\":\"f601aa84-affb-43ef-8633-19da439213b8\",\"type\":\"GlyphRenderer\"},{\"id\":\"11e23c1d-f689-4c7f-a307-05321ee985af\",\"type\":\"GlyphRenderer\"},{\"id\":\"07424fb3-5efe-4471-b583-254b2e388d27\",\"type\":\"GlyphRenderer\"},{\"id\":\"d426b477-e14e-4ae7-bed0-6bddcbe1d8d8\",\"type\":\"GlyphRenderer\"},{\"id\":\"7fa1d1af-e280-4048-b008-67983c65d011\",\"type\":\"GlyphRenderer\"},{\"id\":\"6dc0a6eb-687d-4e30-883b-6b0977604d6a\",\"type\":\"GlyphRenderer\"},{\"id\":\"3ee53670-6a69-417b-b220-88da7bef16ac\",\"type\":\"GlyphRenderer\"},{\"id\":\"fc4fe579-6e82-4526-807f-b1bc79f08076\",\"type\":\"GlyphRenderer\"},{\"id\":\"02396031-fb6e-491e-bad3-7977a0afddaf\",\"type\":\"GlyphRenderer\"},{\"id\":\"6325a644-74ab-4c70-adde-6d214b384597\",\"type\":\"GlyphRenderer\"},{\"id\":\"764ea5a7-b991-4fd1-999a-a694f7413012\",\"type\":\"GlyphRenderer\"},{\"id\":\"aea0c523-bbb1-40f0-a2e1-6c2358b4a88b\",\"type\":\"GlyphRenderer\"},{\"id\":\"4d8a9e6d-8af9-4353-9d48-3f42c5f6ef59\",\"type\":\"GlyphRenderer\"},{\"id\":\"9adf66dd-060b-40a0-b674-3d855039fe87\",\"type\":\"GlyphRenderer\"},{\"id\":\"964cde29-7581-4823-85b4-c76151b5427d\",\"type\":\"GlyphRenderer\"},{\"id\":\"36cd1331-c0b3-407c-b55c-c1cd4ae9e81d\",\"type\":\"GlyphRenderer\"},{\"id\":\"255d4821-6222-4c78-ba28-715d929f099d\",\"type\":\"Legend\"},{\"id\":\"ab49fc07-6a71-4118-9d4e-3cba647ad930\",\"type\":\"LinearAxis\"},{\"id\":\"84664a31-99f0-42b9-918d-8f6301ea4c5b\",\"type\":\"LinearAxis\"},{\"id\":\"c614bcfb-1658-4592-8d40-9428f3af9b91\",\"type\":\"Grid\"}],\"title\":{\"id\":\"cbd8ca12-e34b-4f0b-bee6-b6cdba16113d\",\"type\":\"Title\"},\"tool_events\":{\"id\":\"36c5df4c-0ddc-4520-b3af-e0a76b1a54c5\",\"type\":\"ToolEvents\"},\"toolbar\":{\"id\":\"50239f1d-3f86-4a9d-95ca-cd1a3df14a7e\",\"type\":\"Toolbar\"},\"x_mapper_type\":\"auto\",\"x_range\":{\"id\":\"7ec16a20-b18c-4e58-88bb-a7ae737462e1\",\"type\":\"Range1d\"},\"y_mapper_type\":\"auto\",\"y_range\":{\"id\":\"74292879-bd92-4573-bc42-1c1b0f1a566e\",\"type\":\"Range1d\"}},\"id\":\"3c1ed48d-079b-4c79-9805-1b75eec31caa\",\"subtype\":\"Chart\",\"type\":\"Plot\"},{\"attributes\":{},\"id\":\"68a12781-b869-4778-a715-451f7a80b627\",\"type\":\"BasicTicker\"},{\"attributes\":{\"callback\":null,\"column_names\":[\"x\",\"label\",\"height\",\"color\",\"line_alpha\",\"line_color\",\"y\",\"width\",\"fill_alpha\"],\"data\":{\"chart_index\":[\"(1.500000, 2.500000]\"],\"color\":[\"#f22c40\"],\"fill_alpha\":[0.8],\"height\":[0.0],\"label\":[\"(1.500000, 2.500000]\"],\"line_alpha\":[1.0],\"line_color\":[\"black\"],\"width\":[1.0],\"x\":[\"2.0\"],\"y\":[0.0]}},\"id\":\"2474f73f-ae2d-499e-b0a5-b8af45c77202\",\"type\":\"ColumnDataSource\"},{\"attributes\":{\"fill_alpha\":{\"field\":\"fill_alpha\"},\"fill_color\":{\"field\":\"color\"},\"height\":{\"field\":\"height\",\"units\":\"data\"},\"line_color\":{\"field\":\"line_color\"},\"width\":{\"field\":\"width\",\"units\":\"data\"},\"x\":{\"field\":\"x\"},\"y\":{\"field\":\"y\"}},\"id\":\"e3b86445-e7ba-4626-93ff-90616268410f\",\"type\":\"Rect\"},{\"attributes\":{\"data_source\":{\"id\":\"2474f73f-ae2d-499e-b0a5-b8af45c77202\",\"type\":\"ColumnDataSource\"},\"glyph\":{\"id\":\"689c5258-dce4-43cb-b477-ec59733e7e2a\",\"type\":\"Rect\"},\"hover_glyph\":null,\"nonselection_glyph\":null,\"selection_glyph\":null},\"id\":\"11e23c1d-f689-4c7f-a307-05321ee985af\",\"type\":\"GlyphRenderer\"},{\"attributes\":{\"fill_alpha\":{\"field\":\"fill_alpha\"},\"fill_color\":{\"field\":\"color\"},\"height\":{\"field\":\"height\",\"units\":\"data\"},\"line_color\":{\"field\":\"line_color\"},\"width\":{\"field\":\"width\",\"units\":\"data\"},\"x\":{\"field\":\"x\"},\"y\":{\"field\":\"y\"}},\"id\":\"11ebce19-da8d-4edf-873d-1dbca852d872\",\"type\":\"Rect\"},{\"attributes\":{\"data_source\":{\"id\":\"515d3ae7-8032-43c7-90ae-dfcc544bddd4\",\"type\":\"ColumnDataSource\"},\"glyph\":{\"id\":\"7a526fc8-b1fe-48a8-bb31-64671d85bbb7\",\"type\":\"Rect\"},\"hover_glyph\":null,\"nonselection_glyph\":null,\"selection_glyph\":null},\"id\":\"07424fb3-5efe-4471-b583-254b2e388d27\",\"type\":\"GlyphRenderer\"},{\"attributes\":{\"fill_alpha\":{\"field\":\"fill_alpha\"},\"fill_color\":{\"field\":\"color\"},\"height\":{\"field\":\"height\",\"units\":\"data\"},\"line_color\":{\"field\":\"line_color\"},\"width\":{\"field\":\"width\",\"units\":\"data\"},\"x\":{\"field\":\"x\"},\"y\":{\"field\":\"y\"}},\"id\":\"7a526fc8-b1fe-48a8-bb31-64671d85bbb7\",\"type\":\"Rect\"},{\"attributes\":{\"data_source\":{\"id\":\"12ccd09b-726f-4a91-86c1-4d08c0c3ad55\",\"type\":\"ColumnDataSource\"},\"glyph\":{\"id\":\"0b2d384d-c107-4a4b-a448-20055fd44430\",\"type\":\"Rect\"},\"hover_glyph\":null,\"nonselection_glyph\":null,\"selection_glyph\":null},\"id\":\"764ea5a7-b991-4fd1-999a-a694f7413012\",\"type\":\"GlyphRenderer\"},{\"attributes\":{\"data_source\":{\"id\":\"399a40ac-1707-438b-9931-b942b9f605a2\",\"type\":\"ColumnDataSource\"},\"glyph\":{\"id\":\"71046ab2-1e22-4077-bcb2-baf3b81ccf79\",\"type\":\"Rect\"},\"hover_glyph\":null,\"nonselection_glyph\":null,\"selection_glyph\":null},\"id\":\"36cd1331-c0b3-407c-b55c-c1cd4ae9e81d\",\"type\":\"GlyphRenderer\"},{\"attributes\":{\"active_drag\":\"auto\",\"active_scroll\":\"auto\",\"active_tap\":\"auto\",\"tools\":[{\"id\":\"731a3691-5695-4aaa-8b81-fa9cd4d89745\",\"type\":\"PanTool\"},{\"id\":\"0f39dac7-0b13-45ad-8a03-a96777bec5fb\",\"type\":\"WheelZoomTool\"},{\"id\":\"bef0ad14-b04d-47d5-86cd-05a77cac8d26\",\"type\":\"BoxZoomTool\"},{\"id\":\"c7ff6554-b078-4e5d-8cdc-e42dccf4bf16\",\"type\":\"SaveTool\"},{\"id\":\"e3d41859-b1fe-4b5f-8b54-71e9d7dce77d\",\"type\":\"ResetTool\"},{\"id\":\"1e92c64a-f858-40d6-9bbd-325f85651d28\",\"type\":\"HelpTool\"}]},\"id\":\"50239f1d-3f86-4a9d-95ca-cd1a3df14a7e\",\"type\":\"Toolbar\"},{\"attributes\":{\"data_source\":{\"id\":\"66ee52a6-b893-409a-ac12-a4c847028886\",\"type\":\"ColumnDataSource\"},\"glyph\":{\"id\":\"a36c8076-9ad9-44b0-9e8b-64c5cc31e91e\",\"type\":\"Rect\"},\"hover_glyph\":null,\"nonselection_glyph\":null,\"selection_glyph\":null},\"id\":\"3ee53670-6a69-417b-b220-88da7bef16ac\",\"type\":\"GlyphRenderer\"},{\"attributes\":{\"plot\":{\"id\":\"3c1ed48d-079b-4c79-9805-1b75eec31caa\",\"subtype\":\"Chart\",\"type\":\"Plot\"}},\"id\":\"731a3691-5695-4aaa-8b81-fa9cd4d89745\",\"type\":\"PanTool\"},{\"attributes\":{\"fill_alpha\":{\"field\":\"fill_alpha\"},\"fill_color\":{\"field\":\"color\"},\"height\":{\"field\":\"height\",\"units\":\"data\"},\"line_color\":{\"field\":\"line_color\"},\"width\":{\"field\":\"width\",\"units\":\"data\"},\"x\":{\"field\":\"x\"},\"y\":{\"field\":\"y\"}},\"id\":\"26d53b6e-4645-46e6-b04f-8ffbfdea01da\",\"type\":\"Rect\"},{\"attributes\":{\"fill_alpha\":{\"field\":\"fill_alpha\"},\"fill_color\":{\"field\":\"color\"},\"height\":{\"field\":\"height\",\"units\":\"data\"},\"line_color\":{\"field\":\"line_color\"},\"width\":{\"field\":\"width\",\"units\":\"data\"},\"x\":{\"field\":\"x\"},\"y\":{\"field\":\"y\"}},\"id\":\"a36c8076-9ad9-44b0-9e8b-64c5cc31e91e\",\"type\":\"Rect\"},{\"attributes\":{\"callback\":null,\"column_names\":[\"x\",\"label\",\"height\",\"color\",\"line_alpha\",\"line_color\",\"y\",\"width\",\"fill_alpha\"],\"data\":{\"chart_index\":[\"(8.500000, 9.500000]\"],\"color\":[\"#f22c40\"],\"fill_alpha\":[0.8],\"height\":[0.0],\"label\":[\"(8.500000, 9.500000]\"],\"line_alpha\":[1.0],\"line_color\":[\"black\"],\"width\":[1.0],\"x\":[\"9.0\"],\"y\":[0.0]}},\"id\":\"1e356a5d-ac5b-4d95-abfc-64961971199c\",\"type\":\"ColumnDataSource\"},{\"attributes\":{},\"id\":\"b5c31e37-7cbc-4b65-aed5-0f7addf18c89\",\"type\":\"BasicTickFormatter\"},{\"attributes\":{\"callback\":null,\"column_names\":[\"x\",\"label\",\"height\",\"color\",\"line_alpha\",\"line_color\",\"y\",\"width\",\"fill_alpha\"],\"data\":{\"chart_index\":[\"(11.500000, 12.500000]\"],\"color\":[\"#f22c40\"],\"fill_alpha\":[0.8],\"height\":[0.0],\"label\":[\"(11.500000, 12.500000]\"],\"line_alpha\":[1.0],\"line_color\":[\"black\"],\"width\":[1.0],\"x\":[\"12.0\"],\"y\":[0.0]}},\"id\":\"1a9e66a0-b78c-444a-8377-300e407c9a43\",\"type\":\"ColumnDataSource\"},{\"attributes\":{\"data_source\":{\"id\":\"3a51e117-30cc-4860-8bc8-10373b586208\",\"type\":\"ColumnDataSource\"},\"glyph\":{\"id\":\"91f5e582-9003-4b16-a9c1-74c94d55c212\",\"type\":\"Rect\"},\"hover_glyph\":null,\"nonselection_glyph\":null,\"selection_glyph\":null},\"id\":\"d426b477-e14e-4ae7-bed0-6bddcbe1d8d8\",\"type\":\"GlyphRenderer\"},{\"attributes\":{\"fill_alpha\":{\"field\":\"fill_alpha\"},\"fill_color\":{\"field\":\"color\"},\"height\":{\"field\":\"height\",\"units\":\"data\"},\"line_color\":{\"field\":\"line_color\"},\"width\":{\"field\":\"width\",\"units\":\"data\"},\"x\":{\"field\":\"x\"},\"y\":{\"field\":\"y\"}},\"id\":\"71046ab2-1e22-4077-bcb2-baf3b81ccf79\",\"type\":\"Rect\"},{\"attributes\":{\"fill_alpha\":{\"field\":\"fill_alpha\"},\"fill_color\":{\"field\":\"color\"},\"height\":{\"field\":\"height\",\"units\":\"data\"},\"line_color\":{\"field\":\"line_color\"},\"width\":{\"field\":\"width\",\"units\":\"data\"},\"x\":{\"field\":\"x\"},\"y\":{\"field\":\"y\"}},\"id\":\"08f7a2f5-6566-47c1-9a00-61075224a531\",\"type\":\"Rect\"},{\"attributes\":{\"fill_alpha\":{\"field\":\"fill_alpha\"},\"fill_color\":{\"field\":\"color\"},\"height\":{\"field\":\"height\",\"units\":\"data\"},\"line_color\":{\"field\":\"line_color\"},\"width\":{\"field\":\"width\",\"units\":\"data\"},\"x\":{\"field\":\"x\"},\"y\":{\"field\":\"y\"}},\"id\":\"345ddcf5-e90e-42f4-ad37-d4d39f4edb87\",\"type\":\"Rect\"},{\"attributes\":{\"callback\":null,\"end\":16.925,\"start\":0.07499999999999996},\"id\":\"7ec16a20-b18c-4e58-88bb-a7ae737462e1\",\"type\":\"Range1d\"},{\"attributes\":{\"data_source\":{\"id\":\"2404d5f3-c5bd-4a11-bf22-8ce99d8f3e8b\",\"type\":\"ColumnDataSource\"},\"glyph\":{\"id\":\"345ddcf5-e90e-42f4-ad37-d4d39f4edb87\",\"type\":\"Rect\"},\"hover_glyph\":null,\"nonselection_glyph\":null,\"selection_glyph\":null},\"id\":\"9adf66dd-060b-40a0-b674-3d855039fe87\",\"type\":\"GlyphRenderer\"},{\"attributes\":{\"fill_alpha\":{\"field\":\"fill_alpha\"},\"fill_color\":{\"field\":\"color\"},\"height\":{\"field\":\"height\",\"units\":\"data\"},\"line_color\":{\"field\":\"line_color\"},\"width\":{\"field\":\"width\",\"units\":\"data\"},\"x\":{\"field\":\"x\"},\"y\":{\"field\":\"y\"}},\"id\":\"f4777c6f-7bdf-437d-864b-23b5af74e503\",\"type\":\"Rect\"},{\"attributes\":{\"plot\":{\"id\":\"3c1ed48d-079b-4c79-9805-1b75eec31caa\",\"subtype\":\"Chart\",\"type\":\"Plot\"}},\"id\":\"0f39dac7-0b13-45ad-8a03-a96777bec5fb\",\"type\":\"WheelZoomTool\"},{\"attributes\":{\"callback\":null,\"end\":5583.6},\"id\":\"74292879-bd92-4573-bc42-1c1b0f1a566e\",\"type\":\"Range1d\"},{\"attributes\":{\"fill_alpha\":{\"field\":\"fill_alpha\"},\"fill_color\":{\"field\":\"color\"},\"height\":{\"field\":\"height\",\"units\":\"data\"},\"line_color\":{\"field\":\"line_color\"},\"width\":{\"field\":\"width\",\"units\":\"data\"},\"x\":{\"field\":\"x\"},\"y\":{\"field\":\"y\"}},\"id\":\"0b2d384d-c107-4a4b-a448-20055fd44430\",\"type\":\"Rect\"},{\"attributes\":{\"fill_alpha\":{\"field\":\"fill_alpha\"},\"fill_color\":{\"field\":\"color\"},\"height\":{\"field\":\"height\",\"units\":\"data\"},\"line_color\":{\"field\":\"line_color\"},\"width\":{\"field\":\"width\",\"units\":\"data\"},\"x\":{\"field\":\"x\"},\"y\":{\"field\":\"y\"}},\"id\":\"91f5e582-9003-4b16-a9c1-74c94d55c212\",\"type\":\"Rect\"},{\"attributes\":{\"data_source\":{\"id\":\"477fbce7-a0fa-4e85-beb1-2f0ae37f2c40\",\"type\":\"ColumnDataSource\"},\"glyph\":{\"id\":\"26d53b6e-4645-46e6-b04f-8ffbfdea01da\",\"type\":\"Rect\"},\"hover_glyph\":null,\"nonselection_glyph\":null,\"selection_glyph\":null},\"id\":\"f601aa84-affb-43ef-8633-19da439213b8\",\"type\":\"GlyphRenderer\"},{\"attributes\":{\"callback\":null,\"column_names\":[\"x\",\"label\",\"height\",\"color\",\"line_alpha\",\"line_color\",\"y\",\"width\",\"fill_alpha\"],\"data\":{\"chart_index\":[\"(7.500000, 8.500000]\"],\"color\":[\"#f22c40\"],\"fill_alpha\":[0.8],\"height\":[0.0],\"label\":[\"(7.500000, 8.500000]\"],\"line_alpha\":[1.0],\"line_color\":[\"black\"],\"width\":[1.0],\"x\":[\"8.0\"],\"y\":[0.0]}},\"id\":\"69525ab4-39f7-4706-9945-3bdf9932652c\",\"type\":\"ColumnDataSource\"},{\"attributes\":{\"ticks\":[0,1,2,3,4,5,6,7,8,9,10,11,12,13,14,15,16]},\"id\":\"deadc663-8e4f-410f-8e03-ff655ea7cace\",\"type\":\"FixedTicker\"},{\"attributes\":{\"location\":\"top_left\",\"plot\":{\"id\":\"3c1ed48d-079b-4c79-9805-1b75eec31caa\",\"subtype\":\"Chart\",\"type\":\"Plot\"}},\"id\":\"255d4821-6222-4c78-ba28-715d929f099d\",\"type\":\"Legend\"},{\"attributes\":{\"fill_alpha\":{\"field\":\"fill_alpha\"},\"fill_color\":{\"field\":\"color\"},\"height\":{\"field\":\"height\",\"units\":\"data\"},\"line_color\":{\"field\":\"line_color\"},\"width\":{\"field\":\"width\",\"units\":\"data\"},\"x\":{\"field\":\"x\"},\"y\":{\"field\":\"y\"}},\"id\":\"c0ae84ed-7687-4cf3-9605-ef7879d51e87\",\"type\":\"Rect\"},{\"attributes\":{\"data_source\":{\"id\":\"69525ab4-39f7-4706-9945-3bdf9932652c\",\"type\":\"ColumnDataSource\"},\"glyph\":{\"id\":\"08f7a2f5-6566-47c1-9a00-61075224a531\",\"type\":\"Rect\"},\"hover_glyph\":null,\"nonselection_glyph\":null,\"selection_glyph\":null},\"id\":\"fc4fe579-6e82-4526-807f-b1bc79f08076\",\"type\":\"GlyphRenderer\"},{\"attributes\":{\"callback\":null,\"column_names\":[\"x\",\"label\",\"height\",\"color\",\"line_alpha\",\"line_color\",\"y\",\"width\",\"fill_alpha\"],\"data\":{\"chart_index\":[\"(14.500000, 15.500000]\"],\"color\":[\"#f22c40\"],\"fill_alpha\":[0.8],\"height\":[0.0],\"label\":[\"(14.500000, 15.500000]\"],\"line_alpha\":[1.0],\"line_color\":[\"black\"],\"width\":[1.0],\"x\":[\"15.0\"],\"y\":[0.0]}},\"id\":\"3f172ee7-274a-425e-a941-86168a7e1dbe\",\"type\":\"ColumnDataSource\"},{\"attributes\":{},\"id\":\"ccb56f0f-0e94-481d-bb52-13d40283ab11\",\"type\":\"BasicTickFormatter\"},{\"attributes\":{\"callback\":null,\"column_names\":[\"x\",\"label\",\"height\",\"color\",\"line_alpha\",\"line_color\",\"y\",\"width\",\"fill_alpha\"],\"data\":{\"chart_index\":[\"(4.500000, 5.500000]\"],\"color\":[\"#f22c40\"],\"fill_alpha\":[0.8],\"height\":[0.0],\"label\":[\"(4.500000, 5.500000]\"],\"line_alpha\":[1.0],\"line_color\":[\"black\"],\"width\":[1.0],\"x\":[\"5.0\"],\"y\":[0.0]}},\"id\":\"3fc72af5-3e26-4755-b132-91c0bd8a89b7\",\"type\":\"ColumnDataSource\"},{\"attributes\":{\"plot\":null,\"text\":null},\"id\":\"cbd8ca12-e34b-4f0b-bee6-b6cdba16113d\",\"type\":\"Title\"},{\"attributes\":{\"callback\":null,\"column_names\":[\"x\",\"label\",\"height\",\"color\",\"line_alpha\",\"line_color\",\"y\",\"width\",\"fill_alpha\"],\"data\":{\"chart_index\":[\"(13.500000, 14.500000]\"],\"color\":[\"#f22c40\"],\"fill_alpha\":[0.8],\"height\":[0.0],\"label\":[\"(13.500000, 14.500000]\"],\"line_alpha\":[1.0],\"line_color\":[\"black\"],\"width\":[1.0],\"x\":[\"14.0\"],\"y\":[0.0]}},\"id\":\"2404d5f3-c5bd-4a11-bf22-8ce99d8f3e8b\",\"type\":\"ColumnDataSource\"},{\"attributes\":{\"data_source\":{\"id\":\"3fc72af5-3e26-4755-b132-91c0bd8a89b7\",\"type\":\"ColumnDataSource\"},\"glyph\":{\"id\":\"e3b86445-e7ba-4626-93ff-90616268410f\",\"type\":\"Rect\"},\"hover_glyph\":null,\"nonselection_glyph\":null,\"selection_glyph\":null},\"id\":\"7fa1d1af-e280-4048-b008-67983c65d011\",\"type\":\"GlyphRenderer\"},{\"attributes\":{\"data_source\":{\"id\":\"fcf98bfe-1772-40ba-a282-8bc16002e3aa\",\"type\":\"ColumnDataSource\"},\"glyph\":{\"id\":\"c0ae84ed-7687-4cf3-9605-ef7879d51e87\",\"type\":\"Rect\"},\"hover_glyph\":null,\"nonselection_glyph\":null,\"selection_glyph\":null},\"id\":\"6dc0a6eb-687d-4e30-883b-6b0977604d6a\",\"type\":\"GlyphRenderer\"},{\"attributes\":{\"callback\":null,\"column_names\":[\"x\",\"label\",\"height\",\"color\",\"line_alpha\",\"line_color\",\"y\",\"width\",\"fill_alpha\"],\"data\":{\"chart_index\":[\"(12.500000, 13.500000]\"],\"color\":[\"#f22c40\"],\"fill_alpha\":[0.8],\"height\":[0.0],\"label\":[\"(12.500000, 13.500000]\"],\"line_alpha\":[1.0],\"line_color\":[\"black\"],\"width\":[1.0],\"x\":[\"13.0\"],\"y\":[0.0]}},\"id\":\"81b630d6-d46e-4f11-884d-e15eb453163c\",\"type\":\"ColumnDataSource\"},{\"attributes\":{\"data_source\":{\"id\":\"81b630d6-d46e-4f11-884d-e15eb453163c\",\"type\":\"ColumnDataSource\"},\"glyph\":{\"id\":\"11ebce19-da8d-4edf-873d-1dbca852d872\",\"type\":\"Rect\"},\"hover_glyph\":null,\"nonselection_glyph\":null,\"selection_glyph\":null},\"id\":\"4d8a9e6d-8af9-4353-9d48-3f42c5f6ef59\",\"type\":\"GlyphRenderer\"},{\"attributes\":{\"plot\":{\"id\":\"3c1ed48d-079b-4c79-9805-1b75eec31caa\",\"subtype\":\"Chart\",\"type\":\"Plot\"}},\"id\":\"1e92c64a-f858-40d6-9bbd-325f85651d28\",\"type\":\"HelpTool\"},{\"attributes\":{\"fill_alpha\":{\"field\":\"fill_alpha\"},\"fill_color\":{\"field\":\"color\"},\"height\":{\"field\":\"height\",\"units\":\"data\"},\"line_color\":{\"field\":\"line_color\"},\"width\":{\"field\":\"width\",\"units\":\"data\"},\"x\":{\"field\":\"x\"},\"y\":{\"field\":\"y\"}},\"id\":\"eeeee7fc-476a-4aff-82bf-29feea4743a6\",\"type\":\"Rect\"},{\"attributes\":{\"callback\":null,\"column_names\":[\"x\",\"label\",\"height\",\"color\",\"line_alpha\",\"line_color\",\"y\",\"width\",\"fill_alpha\"],\"data\":{\"chart_index\":[\"(5.500000, 6.500000]\"],\"color\":[\"#f22c40\"],\"fill_alpha\":[0.8],\"height\":[0.0],\"label\":[\"(5.500000, 6.500000]\"],\"line_alpha\":[1.0],\"line_color\":[\"black\"],\"width\":[1.0],\"x\":[\"6.0\"],\"y\":[0.0]}},\"id\":\"fcf98bfe-1772-40ba-a282-8bc16002e3aa\",\"type\":\"ColumnDataSource\"},{\"attributes\":{\"callback\":null,\"column_names\":[\"x\",\"label\",\"height\",\"color\",\"line_alpha\",\"line_color\",\"y\",\"width\",\"fill_alpha\"],\"data\":{\"chart_index\":[\"(6.500000, 7.500000]\"],\"color\":[\"#f22c40\"],\"fill_alpha\":[0.8],\"height\":[0.0],\"label\":[\"(6.500000, 7.500000]\"],\"line_alpha\":[1.0],\"line_color\":[\"black\"],\"width\":[1.0],\"x\":[\"7.0\"],\"y\":[0.0]}},\"id\":\"66ee52a6-b893-409a-ac12-a4c847028886\",\"type\":\"ColumnDataSource\"},{\"attributes\":{\"fill_alpha\":{\"field\":\"fill_alpha\"},\"fill_color\":{\"field\":\"color\"},\"height\":{\"field\":\"height\",\"units\":\"data\"},\"line_color\":{\"field\":\"line_color\"},\"width\":{\"field\":\"width\",\"units\":\"data\"},\"x\":{\"field\":\"x\"},\"y\":{\"field\":\"y\"}},\"id\":\"689c5258-dce4-43cb-b477-ec59733e7e2a\",\"type\":\"Rect\"},{\"attributes\":{\"callback\":null,\"column_names\":[\"x\",\"label\",\"height\",\"color\",\"line_alpha\",\"line_color\",\"y\",\"width\",\"fill_alpha\"],\"data\":{\"chart_index\":[\"[0.500000, 1.500000]\"],\"color\":[\"#f22c40\"],\"fill_alpha\":[0.8],\"height\":[1423.0],\"label\":[\"[0.500000, 1.500000]\"],\"line_alpha\":[1.0],\"line_color\":[\"black\"],\"width\":[1.0],\"x\":[\"1.0\"],\"y\":[711.5]}},\"id\":\"477fbce7-a0fa-4e85-beb1-2f0ae37f2c40\",\"type\":\"ColumnDataSource\"},{\"attributes\":{\"data_source\":{\"id\":\"3f172ee7-274a-425e-a941-86168a7e1dbe\",\"type\":\"ColumnDataSource\"},\"glyph\":{\"id\":\"e1665f1c-d2e0-4c24-b6a3-347c57770ece\",\"type\":\"Rect\"},\"hover_glyph\":null,\"nonselection_glyph\":null,\"selection_glyph\":null},\"id\":\"964cde29-7581-4823-85b4-c76151b5427d\",\"type\":\"GlyphRenderer\"},{\"attributes\":{\"callback\":null,\"column_names\":[\"x\",\"label\",\"height\",\"color\",\"line_alpha\",\"line_color\",\"y\",\"width\",\"fill_alpha\"],\"data\":{\"chart_index\":[\"(15.500000, 16.500000]\"],\"color\":[\"#f22c40\"],\"fill_alpha\":[0.8],\"height\":[5076.0],\"label\":[\"(15.500000, 16.500000]\"],\"line_alpha\":[1.0],\"line_color\":[\"black\"],\"width\":[1.0],\"x\":[\"16.0\"],\"y\":[2538.0]}},\"id\":\"399a40ac-1707-438b-9931-b942b9f605a2\",\"type\":\"ColumnDataSource\"},{\"attributes\":{\"dimension\":1,\"plot\":{\"id\":\"3c1ed48d-079b-4c79-9805-1b75eec31caa\",\"subtype\":\"Chart\",\"type\":\"Plot\"},\"ticker\":{\"id\":\"68a12781-b869-4778-a715-451f7a80b627\",\"type\":\"BasicTicker\"}},\"id\":\"c614bcfb-1658-4592-8d40-9428f3af9b91\",\"type\":\"Grid\"},{\"attributes\":{\"plot\":{\"id\":\"3c1ed48d-079b-4c79-9805-1b75eec31caa\",\"subtype\":\"Chart\",\"type\":\"Plot\"}},\"id\":\"c7ff6554-b078-4e5d-8cdc-e42dccf4bf16\",\"type\":\"SaveTool\"},{\"attributes\":{\"callback\":null,\"column_names\":[\"x\",\"label\",\"height\",\"color\",\"line_alpha\",\"line_color\",\"y\",\"width\",\"fill_alpha\"],\"data\":{\"chart_index\":[\"(2.500000, 3.500000]\"],\"color\":[\"#f22c40\"],\"fill_alpha\":[0.8],\"height\":[0.0],\"label\":[\"(2.500000, 3.500000]\"],\"line_alpha\":[1.0],\"line_color\":[\"black\"],\"width\":[1.0],\"x\":[\"3.0\"],\"y\":[0.0]}},\"id\":\"515d3ae7-8032-43c7-90ae-dfcc544bddd4\",\"type\":\"ColumnDataSource\"},{\"attributes\":{\"data_source\":{\"id\":\"554cc188-881d-4e88-a613-cfd042995a7c\",\"type\":\"ColumnDataSource\"},\"glyph\":{\"id\":\"f4777c6f-7bdf-437d-864b-23b5af74e503\",\"type\":\"Rect\"},\"hover_glyph\":null,\"nonselection_glyph\":null,\"selection_glyph\":null},\"id\":\"6325a644-74ab-4c70-adde-6d214b384597\",\"type\":\"GlyphRenderer\"}],\"root_ids\":[\"3c1ed48d-079b-4c79-9805-1b75eec31caa\"]},\"title\":\"Bokeh Application\",\"version\":\"0.12.4\"}};\n",
       "            var render_items = [{\"docid\":\"6173d5b5-ffb7-4d3b-8dc6-4794a2e723ad\",\"elementid\":\"301e8b35-891e-4376-a534-f67afee44c12\",\"modelid\":\"3c1ed48d-079b-4c79-9805-1b75eec31caa\"}];\n",
       "            \n",
       "            Bokeh.embed.embed_items(docs_json, render_items);\n",
       "          };\n",
       "          if (document.readyState != \"loading\") fn();\n",
       "          else document.addEventListener(\"DOMContentLoaded\", fn);\n",
       "        })();\n",
       "      },\n",
       "      function(Bokeh) {\n",
       "      }\n",
       "    ];\n",
       "  \n",
       "    function run_inline_js() {\n",
       "      \n",
       "      if ((window.Bokeh !== undefined) || (force === true)) {\n",
       "        for (var i = 0; i < inline_js.length; i++) {\n",
       "          inline_js[i](window.Bokeh);\n",
       "        }if (force === true) {\n",
       "          display_loaded();\n",
       "        }} else if (Date.now() < window._bokeh_timeout) {\n",
       "        setTimeout(run_inline_js, 100);\n",
       "      } else if (!window._bokeh_failed_load) {\n",
       "        console.log(\"Bokeh: BokehJS failed to load within specified timeout.\");\n",
       "        window._bokeh_failed_load = true;\n",
       "      } else if (force !== true) {\n",
       "        var cell = $(document.getElementById(\"301e8b35-891e-4376-a534-f67afee44c12\")).parents('.cell').data().cell;\n",
       "        cell.output_area.append_execute_result(NB_LOAD_WARNING)\n",
       "      }\n",
       "  \n",
       "    }\n",
       "  \n",
       "    if (window._bokeh_is_loading === 0) {\n",
       "      console.log(\"Bokeh: BokehJS loaded, going straight to plotting\");\n",
       "      run_inline_js();\n",
       "    } else {\n",
       "      load_libs(js_urls, function() {\n",
       "        console.log(\"Bokeh: BokehJS plotting callback run at\", now());\n",
       "        run_inline_js();\n",
       "      });\n",
       "    }\n",
       "  }(this));\n",
       "</script>"
      ]
     },
     "metadata": {},
     "output_type": "display_data"
    }
   ],
   "source": [
    "max_num_chunk = 16\n",
    "p = Histogram(grp.UUID.count(), \n",
    "              bins=list(map(lambda x: x + 0.5, range(0, max_num_chunk+1))),\n",
    "              xlabel='Number of byte streams per dataset',\n",
    "              ylabel='Count(Dataset per File)')\n",
    "p.xaxis[0].ticker = FixedTicker(ticks=list(range(max_num_chunk+1)))\n",
    "show(p)"
   ]
  },
  {
   "cell_type": "markdown",
   "metadata": {},
   "source": [
    "## Analysis: `MERRA2_100.tavgM_2d_int_Nx`"
   ]
  },
  {
   "cell_type": "markdown",
   "metadata": {},
   "source": [
    "Select only DMR++ entries for these files:"
   ]
  },
  {
   "cell_type": "code",
   "execution_count": 55,
   "metadata": {
    "collapsed": false
   },
   "outputs": [],
   "source": [
    "merra2_tavg = dmrpp[dmrpp.File.str.contains('MERRA2_100.tavgM_2d_int_Nx')]"
   ]
  },
  {
   "cell_type": "code",
   "execution_count": 56,
   "metadata": {
    "collapsed": false
   },
   "outputs": [
    {
     "name": "stdout",
     "output_type": "stream",
     "text": [
      "<class 'pandas.core.frame.DataFrame'>\n",
      "Int64Index: 447408 entries, 1901864 to 2349271\n",
      "Data columns (total 8 columns):\n",
      "File          447408 non-null object\n",
      "Dataset       447408 non-null object\n",
      "Chunk_Flag    447408 non-null bool\n",
      "UUID          447408 non-null object\n",
      "Checksum      447408 non-null object\n",
      "Offset        447408 non-null int64\n",
      "Size          447408 non-null int64\n",
      "Type          447408 non-null object\n",
      "dtypes: bool(1), int64(2), object(5)\n",
      "memory usage: 27.7+ MB\n"
     ]
    }
   ],
   "source": [
    "merra2_tavg.info()"
   ]
  },
  {
   "cell_type": "markdown",
   "metadata": {},
   "source": [
    "### Byte Streams"
   ]
  },
  {
   "cell_type": "markdown",
   "metadata": {},
   "source": [
    "#### How many byte streams with unique content?"
   ]
  },
  {
   "cell_type": "code",
   "execution_count": 57,
   "metadata": {
    "collapsed": false
   },
   "outputs": [],
   "source": [
    "x = merra2_tavg.Checksum.value_counts()"
   ]
  },
  {
   "cell_type": "code",
   "execution_count": 58,
   "metadata": {
    "collapsed": false
   },
   "outputs": [
    {
     "data": {
      "text/plain": [
       "413946"
      ]
     },
     "execution_count": 58,
     "metadata": {},
     "output_type": "execute_result"
    }
   ],
   "source": [
    "len(x.index)"
   ]
  },
  {
   "cell_type": "markdown",
   "metadata": {},
   "source": [
    "#### Which are the Top 20 byte streams based on content?"
   ]
  },
  {
   "cell_type": "code",
   "execution_count": 59,
   "metadata": {
    "collapsed": false
   },
   "outputs": [
    {
     "data": {
      "text/plain": [
       "d57d72206d7fb5fad96714288dd86f29    11164\n",
       "f6c9ef6c28c5715b914e5d7194b9f131     3902\n",
       "6ed95e16d4b2f755e1ff226faedac1d1      144\n",
       "dc51ab56717a3cae07a2ef00aa155512      144\n",
       "196be26f3d971e3c37190636133fee49      144\n",
       "1927537cb4f692e21debf2486bbc9826        2\n",
       "b428ba31da08ceb36ee28fe89df1b127        2\n",
       "ea3529b4fec026d143ab83095431d4df        2\n",
       "19f71862af3ee04656e8d4b99aa8cf71        2\n",
       "a8e627af78e472a1fbf54fb083bf4194        2\n",
       "72a8fc2a38e7a0562ccdc0780ba980f3        2\n",
       "5e6d44e659873254af8c81e09b65ee21        2\n",
       "1bc7807f7dc4b4f66efb030399aadcd3        2\n",
       "8f987e521323df4cb2aa8d4a05fee55f        2\n",
       "93fe7058972097cffddd22d4b0e07899        2\n",
       "c6e8826b0ff13d7aca90339525a923d1        2\n",
       "7af80492bd4dfd4f86f33af1e66816f8        2\n",
       "d2d1cb2302be0e85a000f6d89e1bd9c1        2\n",
       "542ae7c2a697f0419bf622602a8b4687        2\n",
       "bbfd613088f75c73175268749406a4ce        2\n",
       "Name: Checksum, dtype: int64"
      ]
     },
     "execution_count": 59,
     "metadata": {},
     "output_type": "execute_result"
    }
   ],
   "source": [
    "x.sort_values(ascending=False).head(20)"
   ]
  },
  {
   "cell_type": "markdown",
   "metadata": {},
   "source": [
    "#### Where is the same byte stream stored?"
   ]
  },
  {
   "cell_type": "markdown",
   "metadata": {},
   "source": [
    "Byte stream we are looking for:"
   ]
  },
  {
   "cell_type": "code",
   "execution_count": 60,
   "metadata": {
    "collapsed": true
   },
   "outputs": [],
   "source": [
    "cksum = 'd57d72206d7fb5fad96714288dd86f29'"
   ]
  },
  {
   "cell_type": "code",
   "execution_count": 61,
   "metadata": {
    "collapsed": true
   },
   "outputs": [],
   "source": [
    "grp = merra2_tavg.groupby('Checksum')"
   ]
  },
  {
   "cell_type": "markdown",
   "metadata": {},
   "source": [
    "Per dataset across all the files that have it:"
   ]
  },
  {
   "cell_type": "code",
   "execution_count": 62,
   "metadata": {
    "collapsed": false
   },
   "outputs": [
    {
     "data": {
      "text/plain": [
       "/DQVDT_FIL        1728\n",
       "/Var_DQIDT_FIL    1728\n",
       "/Var_DOXDT_FIL    1728\n",
       "/DQIDT_FIL        1728\n",
       "/Var_DQVDT_FIL    1728\n",
       "/DOXDT_FIL        1728\n",
       "/PRECSN            160\n",
       "/Var_PRECSN        160\n",
       "/Var_QTFILL        119\n",
       "/QTFILL            119\n",
       "/DQLDT_FIL         119\n",
       "/Var_DQLDT_FIL     119\n",
       "Name: Dataset, dtype: int64"
      ]
     },
     "execution_count": 62,
     "metadata": {},
     "output_type": "execute_result"
    }
   ],
   "source": [
    "grp.get_group(cksum)['Dataset'].value_counts()"
   ]
  },
  {
   "cell_type": "markdown",
   "metadata": {},
   "source": [
    "Per file including all its datasets:"
   ]
  },
  {
   "cell_type": "code",
   "execution_count": 63,
   "metadata": {
    "collapsed": false
   },
   "outputs": [
    {
     "data": {
      "text/plain": [
       "MERRA2_100.tavgM_2d_int_Nx.198001.nc4    78\n",
       "MERRA2_100.tavgM_2d_int_Nx.198002.nc4    78\n",
       "MERRA2_100.tavgM_2d_int_Nx.198003.nc4    80\n",
       "MERRA2_100.tavgM_2d_int_Nx.198004.nc4    74\n",
       "MERRA2_100.tavgM_2d_int_Nx.198005.nc4    82\n",
       "MERRA2_100.tavgM_2d_int_Nx.198006.nc4    72\n",
       "MERRA2_100.tavgM_2d_int_Nx.198007.nc4    74\n",
       "MERRA2_100.tavgM_2d_int_Nx.198008.nc4    88\n",
       "MERRA2_100.tavgM_2d_int_Nx.198009.nc4    76\n",
       "MERRA2_100.tavgM_2d_int_Nx.198010.nc4    78\n",
       "MERRA2_100.tavgM_2d_int_Nx.198011.nc4    74\n",
       "MERRA2_100.tavgM_2d_int_Nx.198012.nc4    74\n",
       "MERRA2_100.tavgM_2d_int_Nx.198101.nc4    78\n",
       "MERRA2_100.tavgM_2d_int_Nx.198102.nc4    84\n",
       "MERRA2_100.tavgM_2d_int_Nx.198103.nc4    78\n",
       "MERRA2_100.tavgM_2d_int_Nx.198104.nc4    74\n",
       "MERRA2_100.tavgM_2d_int_Nx.198105.nc4    74\n",
       "MERRA2_100.tavgM_2d_int_Nx.198106.nc4    74\n",
       "MERRA2_100.tavgM_2d_int_Nx.198107.nc4    80\n",
       "MERRA2_100.tavgM_2d_int_Nx.198108.nc4    82\n",
       "MERRA2_100.tavgM_2d_int_Nx.198109.nc4    82\n",
       "MERRA2_100.tavgM_2d_int_Nx.198110.nc4    90\n",
       "MERRA2_100.tavgM_2d_int_Nx.198111.nc4    78\n",
       "MERRA2_100.tavgM_2d_int_Nx.198112.nc4    80\n",
       "MERRA2_100.tavgM_2d_int_Nx.198201.nc4    88\n",
       "MERRA2_100.tavgM_2d_int_Nx.198202.nc4    74\n",
       "MERRA2_100.tavgM_2d_int_Nx.198203.nc4    78\n",
       "MERRA2_100.tavgM_2d_int_Nx.198204.nc4    78\n",
       "MERRA2_100.tavgM_2d_int_Nx.198205.nc4    82\n",
       "MERRA2_100.tavgM_2d_int_Nx.198206.nc4    76\n",
       "                                         ..\n",
       "MERRA2_100.tavgM_2d_int_Nx.198907.nc4    86\n",
       "MERRA2_100.tavgM_2d_int_Nx.198908.nc4    74\n",
       "MERRA2_100.tavgM_2d_int_Nx.198909.nc4    72\n",
       "MERRA2_100.tavgM_2d_int_Nx.198910.nc4    72\n",
       "MERRA2_100.tavgM_2d_int_Nx.198911.nc4    74\n",
       "MERRA2_100.tavgM_2d_int_Nx.198912.nc4    74\n",
       "MERRA2_100.tavgM_2d_int_Nx.199001.nc4    88\n",
       "MERRA2_100.tavgM_2d_int_Nx.199002.nc4    78\n",
       "MERRA2_100.tavgM_2d_int_Nx.199003.nc4    80\n",
       "MERRA2_100.tavgM_2d_int_Nx.199004.nc4    74\n",
       "MERRA2_100.tavgM_2d_int_Nx.199005.nc4    78\n",
       "MERRA2_100.tavgM_2d_int_Nx.199006.nc4    78\n",
       "MERRA2_100.tavgM_2d_int_Nx.199007.nc4    78\n",
       "MERRA2_100.tavgM_2d_int_Nx.199008.nc4    82\n",
       "MERRA2_100.tavgM_2d_int_Nx.199009.nc4    82\n",
       "MERRA2_100.tavgM_2d_int_Nx.199010.nc4    76\n",
       "MERRA2_100.tavgM_2d_int_Nx.199011.nc4    78\n",
       "MERRA2_100.tavgM_2d_int_Nx.199012.nc4    74\n",
       "MERRA2_100.tavgM_2d_int_Nx.199101.nc4    84\n",
       "MERRA2_100.tavgM_2d_int_Nx.199102.nc4    78\n",
       "MERRA2_100.tavgM_2d_int_Nx.199103.nc4    88\n",
       "MERRA2_100.tavgM_2d_int_Nx.199104.nc4    78\n",
       "MERRA2_100.tavgM_2d_int_Nx.199105.nc4    78\n",
       "MERRA2_100.tavgM_2d_int_Nx.199106.nc4    78\n",
       "MERRA2_100.tavgM_2d_int_Nx.199107.nc4    76\n",
       "MERRA2_100.tavgM_2d_int_Nx.199108.nc4    84\n",
       "MERRA2_100.tavgM_2d_int_Nx.199109.nc4    80\n",
       "MERRA2_100.tavgM_2d_int_Nx.199110.nc4    78\n",
       "MERRA2_100.tavgM_2d_int_Nx.199111.nc4    82\n",
       "MERRA2_100.tavgM_2d_int_Nx.199112.nc4    74\n",
       "Name: File, dtype: int64"
      ]
     },
     "execution_count": 63,
     "metadata": {},
     "output_type": "execute_result"
    }
   ],
   "source": [
    "grp.get_group(cksum)['File'].value_counts().sort_index()"
   ]
  },
  {
   "cell_type": "markdown",
   "metadata": {},
   "source": [
    "#### What is the total number of byte streams in the files?"
   ]
  },
  {
   "cell_type": "code",
   "execution_count": 64,
   "metadata": {
    "collapsed": false
   },
   "outputs": [
    {
     "data": {
      "text/plain": [
       "447408"
      ]
     },
     "execution_count": 64,
     "metadata": {},
     "output_type": "execute_result"
    }
   ],
   "source": [
    "x.sum()"
   ]
  },
  {
   "cell_type": "markdown",
   "metadata": {},
   "source": [
    "#### What is the percentage reduction in number of S3 objects based on repeating checksums?"
   ]
  },
  {
   "cell_type": "code",
   "execution_count": 65,
   "metadata": {
    "collapsed": false
   },
   "outputs": [
    {
     "data": {
      "text/plain": [
       "-7.4790794979079482"
      ]
     },
     "execution_count": 65,
     "metadata": {},
     "output_type": "execute_result"
    }
   ],
   "source": [
    "100 * (len(x.index)/x.sum() - 1)"
   ]
  },
  {
   "cell_type": "markdown",
   "metadata": {},
   "source": [
    "#### What is the percentage reduction in bytes stored in S3 based on repeating checksums?"
   ]
  },
  {
   "cell_type": "code",
   "execution_count": 66,
   "metadata": {
    "collapsed": false
   },
   "outputs": [
    {
     "data": {
      "text/plain": [
       "16079193101"
      ]
     },
     "execution_count": 66,
     "metadata": {},
     "output_type": "execute_result"
    }
   ],
   "source": [
    "before = merra2_tavg.Size.sum()\n",
    "before"
   ]
  },
  {
   "cell_type": "code",
   "execution_count": 67,
   "metadata": {
    "collapsed": false
   },
   "outputs": [
    {
     "data": {
      "text/plain": [
       "15511764737"
      ]
     },
     "execution_count": 67,
     "metadata": {},
     "output_type": "execute_result"
    }
   ],
   "source": [
    "after = merra2_tavg.drop_duplicates('Checksum')['Size'].sum()\n",
    "after"
   ]
  },
  {
   "cell_type": "code",
   "execution_count": 68,
   "metadata": {
    "collapsed": false
   },
   "outputs": [
    {
     "data": {
      "text/plain": [
       "-3.5289604424534882"
      ]
     },
     "execution_count": 68,
     "metadata": {},
     "output_type": "execute_result"
    }
   ],
   "source": [
    "100 * (after/before - 1)"
   ]
  },
  {
   "cell_type": "markdown",
   "metadata": {},
   "source": [
    "#### What is the size statistics for unique byte streams?"
   ]
  },
  {
   "cell_type": "code",
   "execution_count": 69,
   "metadata": {
    "collapsed": false
   },
   "outputs": [
    {
     "data": {
      "text/html": [
       "\n",
       "\n",
       "    <div class=\"bk-root\">\n",
       "        <div class=\"bk-plotdiv\" id=\"b0bb5230-dbda-4d38-8e54-cbc2e9a58aec\"></div>\n",
       "    </div>\n",
       "<script type=\"text/javascript\">\n",
       "  \n",
       "  (function(global) {\n",
       "    function now() {\n",
       "      return new Date();\n",
       "    }\n",
       "  \n",
       "    var force = false;\n",
       "  \n",
       "    if (typeof (window._bokeh_onload_callbacks) === \"undefined\" || force === true) {\n",
       "      window._bokeh_onload_callbacks = [];\n",
       "      window._bokeh_is_loading = undefined;\n",
       "    }\n",
       "  \n",
       "  \n",
       "    \n",
       "    if (typeof (window._bokeh_timeout) === \"undefined\" || force === true) {\n",
       "      window._bokeh_timeout = Date.now() + 0;\n",
       "      window._bokeh_failed_load = false;\n",
       "    }\n",
       "  \n",
       "    var NB_LOAD_WARNING = {'data': {'text/html':\n",
       "       \"<div style='background-color: #fdd'>\\n\"+\n",
       "       \"<p>\\n\"+\n",
       "       \"BokehJS does not appear to have successfully loaded. If loading BokehJS from CDN, this \\n\"+\n",
       "       \"may be due to a slow or bad network connection. Possible fixes:\\n\"+\n",
       "       \"</p>\\n\"+\n",
       "       \"<ul>\\n\"+\n",
       "       \"<li>re-rerun `output_notebook()` to attempt to load from CDN again, or</li>\\n\"+\n",
       "       \"<li>use INLINE resources instead, as so:</li>\\n\"+\n",
       "       \"</ul>\\n\"+\n",
       "       \"<code>\\n\"+\n",
       "       \"from bokeh.resources import INLINE\\n\"+\n",
       "       \"output_notebook(resources=INLINE)\\n\"+\n",
       "       \"</code>\\n\"+\n",
       "       \"</div>\"}};\n",
       "  \n",
       "    function display_loaded() {\n",
       "      if (window.Bokeh !== undefined) {\n",
       "        document.getElementById(\"b0bb5230-dbda-4d38-8e54-cbc2e9a58aec\").textContent = \"BokehJS successfully loaded.\";\n",
       "      } else if (Date.now() < window._bokeh_timeout) {\n",
       "        setTimeout(display_loaded, 100)\n",
       "      }\n",
       "    }\n",
       "  \n",
       "    function run_callbacks() {\n",
       "      window._bokeh_onload_callbacks.forEach(function(callback) { callback() });\n",
       "      delete window._bokeh_onload_callbacks\n",
       "      console.info(\"Bokeh: all callbacks have finished\");\n",
       "    }\n",
       "  \n",
       "    function load_libs(js_urls, callback) {\n",
       "      window._bokeh_onload_callbacks.push(callback);\n",
       "      if (window._bokeh_is_loading > 0) {\n",
       "        console.log(\"Bokeh: BokehJS is being loaded, scheduling callback at\", now());\n",
       "        return null;\n",
       "      }\n",
       "      if (js_urls == null || js_urls.length === 0) {\n",
       "        run_callbacks();\n",
       "        return null;\n",
       "      }\n",
       "      console.log(\"Bokeh: BokehJS not loaded, scheduling load and callback at\", now());\n",
       "      window._bokeh_is_loading = js_urls.length;\n",
       "      for (var i = 0; i < js_urls.length; i++) {\n",
       "        var url = js_urls[i];\n",
       "        var s = document.createElement('script');\n",
       "        s.src = url;\n",
       "        s.async = false;\n",
       "        s.onreadystatechange = s.onload = function() {\n",
       "          window._bokeh_is_loading--;\n",
       "          if (window._bokeh_is_loading === 0) {\n",
       "            console.log(\"Bokeh: all BokehJS libraries loaded\");\n",
       "            run_callbacks()\n",
       "          }\n",
       "        };\n",
       "        s.onerror = function() {\n",
       "          console.warn(\"failed to load library \" + url);\n",
       "        };\n",
       "        console.log(\"Bokeh: injecting script tag for BokehJS library: \", url);\n",
       "        document.getElementsByTagName(\"head\")[0].appendChild(s);\n",
       "      }\n",
       "    };var element = document.getElementById(\"b0bb5230-dbda-4d38-8e54-cbc2e9a58aec\");\n",
       "    if (element == null) {\n",
       "      console.log(\"Bokeh: ERROR: autoload.js configured with elementid 'b0bb5230-dbda-4d38-8e54-cbc2e9a58aec' but no matching script tag was found. \")\n",
       "      return false;\n",
       "    }\n",
       "  \n",
       "    var js_urls = [];\n",
       "  \n",
       "    var inline_js = [\n",
       "      function(Bokeh) {\n",
       "        (function() {\n",
       "          var fn = function() {\n",
       "            var docs_json = {\"047e068c-7741-4982-818f-1ed445dc17b8\":{\"roots\":{\"references\":[{\"attributes\":{\"plot\":{\"id\":\"7f8356ca-f55f-4790-9d2c-1fc6f16b73b8\",\"subtype\":\"Chart\",\"type\":\"Plot\"}},\"id\":\"c32e9036-b42e-4ff9-9420-920e320ccf19\",\"type\":\"HelpTool\"},{\"attributes\":{\"data_source\":{\"id\":\"6f4692ec-56af-48cc-954a-eb3d22bd1f86\",\"type\":\"ColumnDataSource\"},\"glyph\":{\"id\":\"fcb6c007-db40-43c8-80ae-7f1b1b8cacf4\",\"type\":\"Rect\"},\"hover_glyph\":null,\"nonselection_glyph\":null,\"selection_glyph\":null},\"id\":\"08a134f0-a778-4008-b38e-1d168f0139c6\",\"type\":\"GlyphRenderer\"},{\"attributes\":{\"data_source\":{\"id\":\"e11f3434-9a2f-4522-9a38-d2d9bd0c7088\",\"type\":\"ColumnDataSource\"},\"glyph\":{\"id\":\"c96ea47e-9889-48e5-b422-9026cf1f5a77\",\"type\":\"Rect\"},\"hover_glyph\":null,\"nonselection_glyph\":null,\"selection_glyph\":null},\"id\":\"bb5814f2-1415-436c-87f2-2870917c170f\",\"type\":\"GlyphRenderer\"},{\"attributes\":{\"data_source\":{\"id\":\"435bee36-2644-4e11-b514-43b94e5b72f1\",\"type\":\"ColumnDataSource\"},\"glyph\":{\"id\":\"82aba4d2-1752-4559-8040-cbb445bba321\",\"type\":\"Rect\"},\"hover_glyph\":null,\"nonselection_glyph\":null,\"selection_glyph\":null},\"id\":\"a0198e42-d843-4840-888e-0e39c5bbb4b4\",\"type\":\"GlyphRenderer\"},{\"attributes\":{\"data_source\":{\"id\":\"c1d9713d-7048-4a07-9f04-8354ab190e7a\",\"type\":\"ColumnDataSource\"},\"glyph\":{\"id\":\"f83f717b-6937-4d35-8413-d2c148ff9901\",\"type\":\"Rect\"},\"hover_glyph\":null,\"nonselection_glyph\":null,\"selection_glyph\":null},\"id\":\"a829da9d-4b8c-4968-9397-915d8c940e8d\",\"type\":\"GlyphRenderer\"},{\"attributes\":{\"data_source\":{\"id\":\"f41b681f-0401-4f4a-8c6a-68e6e23108de\",\"type\":\"ColumnDataSource\"},\"glyph\":{\"id\":\"b7cc96d8-ecdc-42d8-b2f0-fb40111200eb\",\"type\":\"Rect\"},\"hover_glyph\":null,\"nonselection_glyph\":null,\"selection_glyph\":null},\"id\":\"ed21f31c-1fb3-4a68-8221-6c908da4795e\",\"type\":\"GlyphRenderer\"},{\"attributes\":{\"data_source\":{\"id\":\"12255626-4bc6-4b92-bd10-0618aa8be0ea\",\"type\":\"ColumnDataSource\"},\"glyph\":{\"id\":\"43a65fcc-e778-4d37-947e-5964638ab20b\",\"type\":\"Rect\"},\"hover_glyph\":null,\"nonselection_glyph\":null,\"selection_glyph\":null},\"id\":\"ba30b96f-3887-4cb6-b42f-e2c8951e4ad1\",\"type\":\"GlyphRenderer\"},{\"attributes\":{\"fill_alpha\":{\"field\":\"fill_alpha\"},\"fill_color\":{\"field\":\"color\"},\"height\":{\"field\":\"height\",\"units\":\"data\"},\"line_color\":{\"field\":\"line_color\"},\"width\":{\"field\":\"width\",\"units\":\"data\"},\"x\":{\"field\":\"x\"},\"y\":{\"field\":\"y\"}},\"id\":\"25485a26-8708-40b1-9237-d24a0383745f\",\"type\":\"Rect\"},{\"attributes\":{\"plot\":{\"id\":\"7f8356ca-f55f-4790-9d2c-1fc6f16b73b8\",\"subtype\":\"Chart\",\"type\":\"Plot\"}},\"id\":\"3f6055eb-5fdd-4b41-bdc6-bf4009fc131d\",\"type\":\"SaveTool\"},{\"attributes\":{\"fill_alpha\":{\"field\":\"fill_alpha\"},\"fill_color\":{\"field\":\"color\"},\"height\":{\"field\":\"height\",\"units\":\"data\"},\"line_color\":{\"field\":\"line_color\"},\"width\":{\"field\":\"width\",\"units\":\"data\"},\"x\":{\"field\":\"x\"},\"y\":{\"field\":\"y\"}},\"id\":\"17db51ad-d3aa-4281-a924-92f39bc57e26\",\"type\":\"Rect\"},{\"attributes\":{\"callback\":null,\"column_names\":[\"x\",\"label\",\"height\",\"color\",\"line_alpha\",\"line_color\",\"y\",\"width\",\"fill_alpha\"],\"data\":{\"chart_index\":[\"(40.094880, 41.027040]\"],\"color\":[\"#f22c40\"],\"fill_alpha\":[0.8],\"height\":[37358.0],\"label\":[\"(40.094880, 41.027040]\"],\"line_alpha\":[1.0],\"line_color\":[\"black\"],\"width\":[0.9321599999999961],\"x\":[\"40.56096\"],\"y\":[18679.0]}},\"id\":\"5648df30-4a6d-4616-a0a0-c70345e97141\",\"type\":\"ColumnDataSource\"},{\"attributes\":{\"data_source\":{\"id\":\"d7957d36-c233-4ac1-9565-9221acf81235\",\"type\":\"ColumnDataSource\"},\"glyph\":{\"id\":\"25485a26-8708-40b1-9237-d24a0383745f\",\"type\":\"Rect\"},\"hover_glyph\":null,\"nonselection_glyph\":null,\"selection_glyph\":null},\"id\":\"040149fe-07ba-4c04-847b-9bca883f5c28\",\"type\":\"GlyphRenderer\"},{\"attributes\":{\"callback\":null,\"column_names\":[\"x\",\"label\",\"height\",\"color\",\"line_alpha\",\"line_color\",\"y\",\"width\",\"fill_alpha\"],\"data\":{\"chart_index\":[\"(13.994400, 14.926560]\"],\"color\":[\"#f22c40\"],\"fill_alpha\":[0.8],\"height\":[652.0],\"label\":[\"(13.994400, 14.926560]\"],\"line_alpha\":[1.0],\"line_color\":[\"black\"],\"width\":[0.9321599999999997],\"x\":[\"14.46048\"],\"y\":[326.0]}},\"id\":\"4157d106-1ee0-44df-8efc-32a3abc61c5b\",\"type\":\"ColumnDataSource\"},{\"attributes\":{\"callback\":null,\"column_names\":[\"x\",\"label\",\"height\",\"color\",\"line_alpha\",\"line_color\",\"y\",\"width\",\"fill_alpha\"],\"data\":{\"chart_index\":[\"(5.604960, 6.537120]\"],\"color\":[\"#f22c40\"],\"fill_alpha\":[0.8],\"height\":[296.0],\"label\":[\"(5.604960, 6.537120]\"],\"line_alpha\":[1.0],\"line_color\":[\"black\"],\"width\":[0.9321600000000005],\"x\":[\"6.07104\"],\"y\":[148.0]}},\"id\":\"2d12e632-8612-4946-bce4-837f6f62b131\",\"type\":\"ColumnDataSource\"},{\"attributes\":{\"data_source\":{\"id\":\"28b1a798-2989-45ec-86db-cac262110361\",\"type\":\"ColumnDataSource\"},\"glyph\":{\"id\":\"b30c6d11-1e52-4439-a57b-398a47e7abee\",\"type\":\"Rect\"},\"hover_glyph\":null,\"nonselection_glyph\":null,\"selection_glyph\":null},\"id\":\"81557228-fb47-4ba5-9103-9131c8826638\",\"type\":\"GlyphRenderer\"},{\"attributes\":{\"fill_alpha\":{\"field\":\"fill_alpha\"},\"fill_color\":{\"field\":\"color\"},\"height\":{\"field\":\"height\",\"units\":\"data\"},\"line_color\":{\"field\":\"line_color\"},\"width\":{\"field\":\"width\",\"units\":\"data\"},\"x\":{\"field\":\"x\"},\"y\":{\"field\":\"y\"}},\"id\":\"5a668e27-51ad-4b8f-a724-fd9faeb5e144\",\"type\":\"Rect\"},{\"attributes\":{\"fill_alpha\":{\"field\":\"fill_alpha\"},\"fill_color\":{\"field\":\"color\"},\"height\":{\"field\":\"height\",\"units\":\"data\"},\"line_color\":{\"field\":\"line_color\"},\"width\":{\"field\":\"width\",\"units\":\"data\"},\"x\":{\"field\":\"x\"},\"y\":{\"field\":\"y\"}},\"id\":\"43a65fcc-e778-4d37-947e-5964638ab20b\",\"type\":\"Rect\"},{\"attributes\":{\"callback\":null,\"column_names\":[\"x\",\"label\",\"height\",\"color\",\"line_alpha\",\"line_color\",\"y\",\"width\",\"fill_alpha\"],\"data\":{\"chart_index\":[\"(42.891360, 43.823520]\"],\"color\":[\"#f22c40\"],\"fill_alpha\":[0.8],\"height\":[23467.0],\"label\":[\"(42.891360, 43.823520]\"],\"line_alpha\":[1.0],\"line_color\":[\"black\"],\"width\":[0.9321600000000032],\"x\":[\"43.35744\"],\"y\":[11733.5]}},\"id\":\"4ed76043-c5c3-4a73-b1dc-67f721d3ab39\",\"type\":\"ColumnDataSource\"},{\"attributes\":{\"callback\":null,\"column_names\":[\"x\",\"label\",\"height\",\"color\",\"line_alpha\",\"line_color\",\"y\",\"width\",\"fill_alpha\"],\"data\":{\"chart_index\":[\"(19.587360, 20.519520]\"],\"color\":[\"#f22c40\"],\"fill_alpha\":[0.8],\"height\":[893.0],\"label\":[\"(19.587360, 20.519520]\"],\"line_alpha\":[1.0],\"line_color\":[\"black\"],\"width\":[0.9321599999999997],\"x\":[\"20.053440000000002\"],\"y\":[446.5]}},\"id\":\"c1d9713d-7048-4a07-9f04-8354ab190e7a\",\"type\":\"ColumnDataSource\"},{\"attributes\":{\"callback\":null,\"column_names\":[\"x\",\"label\",\"height\",\"color\",\"line_alpha\",\"line_color\",\"y\",\"width\",\"fill_alpha\"],\"data\":{\"chart_index\":[\"(14.926560, 15.858720]\"],\"color\":[\"#f22c40\"],\"fill_alpha\":[0.8],\"height\":[522.0],\"label\":[\"(14.926560, 15.858720]\"],\"line_alpha\":[1.0],\"line_color\":[\"black\"],\"width\":[0.9321599999999997],\"x\":[\"15.39264\"],\"y\":[261.0]}},\"id\":\"622b98fd-33fa-47f8-a7e8-489c147bc036\",\"type\":\"ColumnDataSource\"},{\"attributes\":{\"fill_alpha\":{\"field\":\"fill_alpha\"},\"fill_color\":{\"field\":\"color\"},\"height\":{\"field\":\"height\",\"units\":\"data\"},\"line_color\":{\"field\":\"line_color\"},\"width\":{\"field\":\"width\",\"units\":\"data\"},\"x\":{\"field\":\"x\"},\"y\":{\"field\":\"y\"}},\"id\":\"833178a9-53b3-4278-9ce0-bfee2ddbc7ef\",\"type\":\"Rect\"},{\"attributes\":{\"fill_alpha\":{\"field\":\"fill_alpha\"},\"fill_color\":{\"field\":\"color\"},\"height\":{\"field\":\"height\",\"units\":\"data\"},\"line_color\":{\"field\":\"line_color\"},\"width\":{\"field\":\"width\",\"units\":\"data\"},\"x\":{\"field\":\"x\"},\"y\":{\"field\":\"y\"}},\"id\":\"89f42b10-d9fe-41cc-a3ac-6b320ee1dc06\",\"type\":\"Rect\"},{\"attributes\":{\"callback\":null,\"column_names\":[\"x\",\"label\",\"height\",\"color\",\"line_alpha\",\"line_color\",\"y\",\"width\",\"fill_alpha\"],\"data\":{\"chart_index\":[\"(29.841120, 30.773280]\"],\"color\":[\"#f22c40\"],\"fill_alpha\":[0.8],\"height\":[1874.0],\"label\":[\"(29.841120, 30.773280]\"],\"line_alpha\":[1.0],\"line_color\":[\"black\"],\"width\":[0.9321599999999997],\"x\":[\"30.3072\"],\"y\":[937.0]}},\"id\":\"f1567d30-10e8-4731-820c-bd99044e409d\",\"type\":\"ColumnDataSource\"},{\"attributes\":{\"callback\":null,\"column_names\":[\"x\",\"label\",\"height\",\"color\",\"line_alpha\",\"line_color\",\"y\",\"width\",\"fill_alpha\"],\"data\":{\"chart_index\":[\"(4.672800, 5.604960]\"],\"color\":[\"#f22c40\"],\"fill_alpha\":[0.8],\"height\":[395.0],\"label\":[\"(4.672800, 5.604960]\"],\"line_alpha\":[1.0],\"line_color\":[\"black\"],\"width\":[0.9321599999999997],\"x\":[\"5.13888\"],\"y\":[197.5]}},\"id\":\"c1416e8b-4129-4055-a558-c5f6b871598a\",\"type\":\"ColumnDataSource\"},{\"attributes\":{\"callback\":null,\"column_names\":[\"x\",\"label\",\"height\",\"color\",\"line_alpha\",\"line_color\",\"y\",\"width\",\"fill_alpha\"],\"data\":{\"chart_index\":[\"(2.808480, 3.740640]\"],\"color\":[\"#f22c40\"],\"fill_alpha\":[0.8],\"height\":[732.0],\"label\":[\"(2.808480, 3.740640]\"],\"line_alpha\":[1.0],\"line_color\":[\"black\"],\"width\":[0.9321600000000001],\"x\":[\"3.27456\"],\"y\":[366.0]}},\"id\":\"799d408d-9fc5-429b-abe1-9f934d13ffef\",\"type\":\"ColumnDataSource\"},{\"attributes\":{\"callback\":null,\"column_names\":[\"x\",\"label\",\"height\",\"color\",\"line_alpha\",\"line_color\",\"y\",\"width\",\"fill_alpha\"],\"data\":{\"chart_index\":[\"(10.265760, 11.197920]\"],\"color\":[\"#f22c40\"],\"fill_alpha\":[0.8],\"height\":[482.0],\"label\":[\"(10.265760, 11.197920]\"],\"line_alpha\":[1.0],\"line_color\":[\"black\"],\"width\":[0.9321599999999997],\"x\":[\"10.73184\"],\"y\":[241.0]}},\"id\":\"19fd43fd-2d3c-443b-b32e-80f45e0233aa\",\"type\":\"ColumnDataSource\"},{\"attributes\":{\"plot\":{\"id\":\"7f8356ca-f55f-4790-9d2c-1fc6f16b73b8\",\"subtype\":\"Chart\",\"type\":\"Plot\"}},\"id\":\"916a206d-08c5-45b4-9c46-b3b08a3bebbe\",\"type\":\"PanTool\"},{\"attributes\":{\"fill_alpha\":{\"field\":\"fill_alpha\"},\"fill_color\":{\"field\":\"color\"},\"height\":{\"field\":\"height\",\"units\":\"data\"},\"line_color\":{\"field\":\"line_color\"},\"width\":{\"field\":\"width\",\"units\":\"data\"},\"x\":{\"field\":\"x\"},\"y\":{\"field\":\"y\"}},\"id\":\"7d086f54-9761-4331-b820-e915d7a96fd6\",\"type\":\"Rect\"},{\"attributes\":{\"fill_alpha\":{\"field\":\"fill_alpha\"},\"fill_color\":{\"field\":\"color\"},\"height\":{\"field\":\"height\",\"units\":\"data\"},\"line_color\":{\"field\":\"line_color\"},\"width\":{\"field\":\"width\",\"units\":\"data\"},\"x\":{\"field\":\"x\"},\"y\":{\"field\":\"y\"}},\"id\":\"65ba13c7-0c3f-4452-8286-482259af2ce8\",\"type\":\"Rect\"},{\"attributes\":{\"axis_label\":\"Count( Size )\",\"formatter\":{\"id\":\"aae3c839-22e2-4f3d-b98e-898410c6fbdb\",\"type\":\"BasicTickFormatter\"},\"plot\":{\"id\":\"7f8356ca-f55f-4790-9d2c-1fc6f16b73b8\",\"subtype\":\"Chart\",\"type\":\"Plot\"},\"ticker\":{\"id\":\"c87c13df-c8ba-40d3-b9f4-f1db6b3dc421\",\"type\":\"BasicTicker\"}},\"id\":\"8c4950ff-e883-433e-b690-1380b056a0aa\",\"type\":\"LinearAxis\"},{\"attributes\":{\"callback\":null,\"column_names\":[\"x\",\"label\",\"height\",\"color\",\"line_alpha\",\"line_color\",\"y\",\"width\",\"fill_alpha\"],\"data\":{\"chart_index\":[\"(8.401440, 9.333600]\"],\"color\":[\"#f22c40\"],\"fill_alpha\":[0.8],\"height\":[159.0],\"label\":[\"(8.401440, 9.333600]\"],\"line_alpha\":[1.0],\"line_color\":[\"black\"],\"width\":[0.9321599999999997],\"x\":[\"8.867519999999999\"],\"y\":[79.5]}},\"id\":\"f41b681f-0401-4f4a-8c6a-68e6e23108de\",\"type\":\"ColumnDataSource\"},{\"attributes\":{\"data_source\":{\"id\":\"791e7d6f-3147-4020-87df-d233d8cf1587\",\"type\":\"ColumnDataSource\"},\"glyph\":{\"id\":\"bcb3fa46-8b4e-4ea9-ae7f-ff19b3ba672c\",\"type\":\"Rect\"},\"hover_glyph\":null,\"nonselection_glyph\":null,\"selection_glyph\":null},\"id\":\"d3d12ebb-42de-4af7-ae6e-c7c2c19c831f\",\"type\":\"GlyphRenderer\"},{\"attributes\":{\"callback\":null,\"column_names\":[\"x\",\"label\",\"height\",\"color\",\"line_alpha\",\"line_color\",\"y\",\"width\",\"fill_alpha\"],\"data\":{\"chart_index\":[\"(26.112480, 27.044640]\"],\"color\":[\"#f22c40\"],\"fill_alpha\":[0.8],\"height\":[1219.0],\"label\":[\"(26.112480, 27.044640]\"],\"line_alpha\":[1.0],\"line_color\":[\"black\"],\"width\":[0.9321599999999997],\"x\":[\"26.578560000000003\"],\"y\":[609.5]}},\"id\":\"d7957d36-c233-4ac1-9565-9221acf81235\",\"type\":\"ColumnDataSource\"},{\"attributes\":{\"callback\":null,\"column_names\":[\"x\",\"label\",\"height\",\"color\",\"line_alpha\",\"line_color\",\"y\",\"width\",\"fill_alpha\"],\"data\":{\"chart_index\":[\"[0.012000, 0.944160]\"],\"color\":[\"#f22c40\"],\"fill_alpha\":[0.8],\"height\":[5338.0],\"label\":[\"[0.012000, 0.944160]\"],\"line_alpha\":[1.0],\"line_color\":[\"black\"],\"width\":[0.93216],\"x\":[\"0.47808\"],\"y\":[2669.0]}},\"id\":\"6f4692ec-56af-48cc-954a-eb3d22bd1f86\",\"type\":\"ColumnDataSource\"},{\"attributes\":{\"axis_label\":\"Byte Stream Size (kilobytes)\",\"formatter\":{\"id\":\"b811c49f-3e57-471d-8944-58d56e2a04e4\",\"type\":\"BasicTickFormatter\"},\"plot\":{\"id\":\"7f8356ca-f55f-4790-9d2c-1fc6f16b73b8\",\"subtype\":\"Chart\",\"type\":\"Plot\"},\"ticker\":{\"id\":\"a3f73b92-7269-4600-9365-1f8fe968ee41\",\"type\":\"BasicTicker\"}},\"id\":\"3a6ecfa9-51be-4a81-a02f-12c1451e8263\",\"type\":\"LinearAxis\"},{\"attributes\":{\"callback\":null,\"column_names\":[\"x\",\"label\",\"height\",\"color\",\"line_alpha\",\"line_color\",\"y\",\"width\",\"fill_alpha\"],\"data\":{\"chart_index\":[\"(15.858720, 16.790880]\"],\"color\":[\"#f22c40\"],\"fill_alpha\":[0.8],\"height\":[1515.0],\"label\":[\"(15.858720, 16.790880]\"],\"line_alpha\":[1.0],\"line_color\":[\"black\"],\"width\":[0.9321600000000014],\"x\":[\"16.3248\"],\"y\":[757.5]}},\"id\":\"0dd0f9be-e780-487d-94f3-1bbc4d1220de\",\"type\":\"ColumnDataSource\"},{\"attributes\":{\"fill_alpha\":{\"field\":\"fill_alpha\"},\"fill_color\":{\"field\":\"color\"},\"height\":{\"field\":\"height\",\"units\":\"data\"},\"line_color\":{\"field\":\"line_color\"},\"width\":{\"field\":\"width\",\"units\":\"data\"},\"x\":{\"field\":\"x\"},\"y\":{\"field\":\"y\"}},\"id\":\"b3d65abe-4e54-450d-97f8-f71fcf91b1dc\",\"type\":\"Rect\"},{\"attributes\":{\"fill_alpha\":{\"field\":\"fill_alpha\"},\"fill_color\":{\"field\":\"color\"},\"height\":{\"field\":\"height\",\"units\":\"data\"},\"line_color\":{\"field\":\"line_color\"},\"width\":{\"field\":\"width\",\"units\":\"data\"},\"x\":{\"field\":\"x\"},\"y\":{\"field\":\"y\"}},\"id\":\"8b987f39-3221-4f74-8a31-885bf2735427\",\"type\":\"Rect\"},{\"attributes\":{\"data_source\":{\"id\":\"57ca515a-7087-4bcc-8413-22671c06eb80\",\"type\":\"ColumnDataSource\"},\"glyph\":{\"id\":\"6a99b8e4-c327-47b0-adb9-669ae3f4130c\",\"type\":\"Rect\"},\"hover_glyph\":null,\"nonselection_glyph\":null,\"selection_glyph\":null},\"id\":\"cb1fda54-bec9-44d0-bc6f-2657f999f235\",\"type\":\"GlyphRenderer\"},{\"attributes\":{\"fill_alpha\":{\"field\":\"fill_alpha\"},\"fill_color\":{\"field\":\"color\"},\"height\":{\"field\":\"height\",\"units\":\"data\"},\"line_color\":{\"field\":\"line_color\"},\"width\":{\"field\":\"width\",\"units\":\"data\"},\"x\":{\"field\":\"x\"},\"y\":{\"field\":\"y\"}},\"id\":\"136efbd0-587a-4167-b1f5-41568af4bea5\",\"type\":\"Rect\"},{\"attributes\":{\"data_source\":{\"id\":\"622b98fd-33fa-47f8-a7e8-489c147bc036\",\"type\":\"ColumnDataSource\"},\"glyph\":{\"id\":\"c101b47e-b7fb-4e1c-9f00-a3be62274679\",\"type\":\"Rect\"},\"hover_glyph\":null,\"nonselection_glyph\":null,\"selection_glyph\":null},\"id\":\"754dc2cc-688d-4b40-91c3-47a58b8cfe31\",\"type\":\"GlyphRenderer\"},{\"attributes\":{\"fill_alpha\":{\"field\":\"fill_alpha\"},\"fill_color\":{\"field\":\"color\"},\"height\":{\"field\":\"height\",\"units\":\"data\"},\"line_color\":{\"field\":\"line_color\"},\"width\":{\"field\":\"width\",\"units\":\"data\"},\"x\":{\"field\":\"x\"},\"y\":{\"field\":\"y\"}},\"id\":\"7f380cb9-c9df-4fb5-9fd8-aa779979a75d\",\"type\":\"Rect\"},{\"attributes\":{\"fill_alpha\":{\"field\":\"fill_alpha\"},\"fill_color\":{\"field\":\"color\"},\"height\":{\"field\":\"height\",\"units\":\"data\"},\"line_color\":{\"field\":\"line_color\"},\"width\":{\"field\":\"width\",\"units\":\"data\"},\"x\":{\"field\":\"x\"},\"y\":{\"field\":\"y\"}},\"id\":\"31048dbf-e47e-41d3-b134-f93bd5002b62\",\"type\":\"Rect\"},{\"attributes\":{\"callback\":null,\"column_names\":[\"x\",\"label\",\"height\",\"color\",\"line_alpha\",\"line_color\",\"y\",\"width\",\"fill_alpha\"],\"data\":{\"chart_index\":[\"(43.823520, 44.755680]\"],\"color\":[\"#f22c40\"],\"fill_alpha\":[0.8],\"height\":[7040.0],\"label\":[\"(43.823520, 44.755680]\"],\"line_alpha\":[1.0],\"line_color\":[\"black\"],\"width\":[0.9321599999999961],\"x\":[\"44.2896\"],\"y\":[3520.0]}},\"id\":\"40501e50-fee5-4dee-b0af-c1bb14b089b8\",\"type\":\"ColumnDataSource\"},{\"attributes\":{\"data_source\":{\"id\":\"4157d106-1ee0-44df-8efc-32a3abc61c5b\",\"type\":\"ColumnDataSource\"},\"glyph\":{\"id\":\"04ba6549-cca3-4507-8759-1063da12e9e9\",\"type\":\"Rect\"},\"hover_glyph\":null,\"nonselection_glyph\":null,\"selection_glyph\":null},\"id\":\"b4258796-c0f1-4b77-bcf2-7decb488ef05\",\"type\":\"GlyphRenderer\"},{\"attributes\":{},\"id\":\"b811c49f-3e57-471d-8944-58d56e2a04e4\",\"type\":\"BasicTickFormatter\"},{\"attributes\":{\"fill_alpha\":{\"field\":\"fill_alpha\"},\"fill_color\":{\"field\":\"color\"},\"height\":{\"field\":\"height\",\"units\":\"data\"},\"line_color\":{\"field\":\"line_color\"},\"width\":{\"field\":\"width\",\"units\":\"data\"},\"x\":{\"field\":\"x\"},\"y\":{\"field\":\"y\"}},\"id\":\"29fefd09-3eca-4344-aa85-4c1cbf796e2a\",\"type\":\"Rect\"},{\"attributes\":{\"plot\":{\"id\":\"7f8356ca-f55f-4790-9d2c-1fc6f16b73b8\",\"subtype\":\"Chart\",\"type\":\"Plot\"}},\"id\":\"57c03ba8-da17-461d-b9f1-0d7b85743eef\",\"type\":\"WheelZoomTool\"},{\"attributes\":{\"location\":\"top_left\",\"plot\":{\"id\":\"7f8356ca-f55f-4790-9d2c-1fc6f16b73b8\",\"subtype\":\"Chart\",\"type\":\"Plot\"}},\"id\":\"638673eb-4da5-45b6-b808-d93b6e974089\",\"type\":\"Legend\"},{\"attributes\":{\"callback\":null,\"column_names\":[\"x\",\"label\",\"height\",\"color\",\"line_alpha\",\"line_color\",\"y\",\"width\",\"fill_alpha\"],\"data\":{\"chart_index\":[\"(21.451680, 22.383840]\"],\"color\":[\"#f22c40\"],\"fill_alpha\":[0.8],\"height\":[1158.0],\"label\":[\"(21.451680, 22.383840]\"],\"line_alpha\":[1.0],\"line_color\":[\"black\"],\"width\":[0.9321599999999997],\"x\":[\"21.91776\"],\"y\":[579.0]}},\"id\":\"15231e65-acfa-4202-ae3f-9e72f0c5f269\",\"type\":\"ColumnDataSource\"},{\"attributes\":{\"fill_alpha\":{\"field\":\"fill_alpha\"},\"fill_color\":{\"field\":\"color\"},\"height\":{\"field\":\"height\",\"units\":\"data\"},\"line_color\":{\"field\":\"line_color\"},\"width\":{\"field\":\"width\",\"units\":\"data\"},\"x\":{\"field\":\"x\"},\"y\":{\"field\":\"y\"}},\"id\":\"f83f717b-6937-4d35-8413-d2c148ff9901\",\"type\":\"Rect\"},{\"attributes\":{\"callback\":null,\"column_names\":[\"x\",\"label\",\"height\",\"color\",\"line_alpha\",\"line_color\",\"y\",\"width\",\"fill_alpha\"],\"data\":{\"chart_index\":[\"(22.383840, 23.316000]\"],\"color\":[\"#f22c40\"],\"fill_alpha\":[0.8],\"height\":[1437.0],\"label\":[\"(22.383840, 23.316000]\"],\"line_alpha\":[1.0],\"line_color\":[\"black\"],\"width\":[0.9321599999999997],\"x\":[\"22.849919999999997\"],\"y\":[718.5]}},\"id\":\"40b27f4c-a83b-43db-bf74-11d99a888551\",\"type\":\"ColumnDataSource\"},{\"attributes\":{\"data_source\":{\"id\":\"f1567d30-10e8-4731-820c-bd99044e409d\",\"type\":\"ColumnDataSource\"},\"glyph\":{\"id\":\"cb1c7da3-d724-4c8d-b768-045d8f5fb439\",\"type\":\"Rect\"},\"hover_glyph\":null,\"nonselection_glyph\":null,\"selection_glyph\":null},\"id\":\"ca7702b7-7818-4e43-985a-1828ae4d9641\",\"type\":\"GlyphRenderer\"},{\"attributes\":{\"data_source\":{\"id\":\"9c8c4a3c-d047-4bc2-89a8-498f7ed8b297\",\"type\":\"ColumnDataSource\"},\"glyph\":{\"id\":\"5a668e27-51ad-4b8f-a724-fd9faeb5e144\",\"type\":\"Rect\"},\"hover_glyph\":null,\"nonselection_glyph\":null,\"selection_glyph\":null},\"id\":\"ac302ff5-60ec-4a16-9fcd-e1f1b9786dd4\",\"type\":\"GlyphRenderer\"},{\"attributes\":{\"callback\":null,\"column_names\":[\"x\",\"label\",\"height\",\"color\",\"line_alpha\",\"line_color\",\"y\",\"width\",\"fill_alpha\"],\"data\":{\"chart_index\":[\"(33.569760, 34.501920]\"],\"color\":[\"#f22c40\"],\"fill_alpha\":[0.8],\"height\":[4239.0],\"label\":[\"(33.569760, 34.501920]\"],\"line_alpha\":[1.0],\"line_color\":[\"black\"],\"width\":[0.9321599999999961],\"x\":[\"34.03584\"],\"y\":[2119.5]}},\"id\":\"2998137b-871e-412a-a26f-f4bb909376a9\",\"type\":\"ColumnDataSource\"},{\"attributes\":{\"callback\":null,\"column_names\":[\"x\",\"label\",\"height\",\"color\",\"line_alpha\",\"line_color\",\"y\",\"width\",\"fill_alpha\"],\"data\":{\"chart_index\":[\"(30.773280, 31.705440]\"],\"color\":[\"#f22c40\"],\"fill_alpha\":[0.8],\"height\":[2160.0],\"label\":[\"(30.773280, 31.705440]\"],\"line_alpha\":[1.0],\"line_color\":[\"black\"],\"width\":[0.9321599999999997],\"x\":[\"31.239359999999998\"],\"y\":[1080.0]}},\"id\":\"1e184f5c-7265-4dd5-870c-5dfc429dec8e\",\"type\":\"ColumnDataSource\"},{\"attributes\":{\"callback\":null,\"column_names\":[\"x\",\"label\",\"height\",\"color\",\"line_alpha\",\"line_color\",\"y\",\"width\",\"fill_alpha\"],\"data\":{\"chart_index\":[\"(23.316000, 24.248160]\"],\"color\":[\"#f22c40\"],\"fill_alpha\":[0.8],\"height\":[1544.0],\"label\":[\"(23.316000, 24.248160]\"],\"line_alpha\":[1.0],\"line_color\":[\"black\"],\"width\":[0.9321599999999997],\"x\":[\"23.78208\"],\"y\":[772.0]}},\"id\":\"f7d7d256-3501-4f1a-822c-583edb5f1a87\",\"type\":\"ColumnDataSource\"},{\"attributes\":{\"data_source\":{\"id\":\"e1d490d4-6a38-4010-acd6-78d52038dbc3\",\"type\":\"ColumnDataSource\"},\"glyph\":{\"id\":\"07b1df0c-662b-42cb-b34c-c87991899a40\",\"type\":\"Rect\"},\"hover_glyph\":null,\"nonselection_glyph\":null,\"selection_glyph\":null},\"id\":\"7d238027-683d-422c-a9c1-fe7238bc6a18\",\"type\":\"GlyphRenderer\"},{\"attributes\":{},\"id\":\"aae3c839-22e2-4f3d-b98e-898410c6fbdb\",\"type\":\"BasicTickFormatter\"},{\"attributes\":{\"data_source\":{\"id\":\"a2c09c9d-e8d2-4ca9-9901-153d86390fdb\",\"type\":\"ColumnDataSource\"},\"glyph\":{\"id\":\"44b00949-2889-49c3-b7aa-7c43c94fd4ad\",\"type\":\"Rect\"},\"hover_glyph\":null,\"nonselection_glyph\":null,\"selection_glyph\":null},\"id\":\"7aab860d-d882-4898-be69-f202949a69f6\",\"type\":\"GlyphRenderer\"},{\"attributes\":{\"callback\":null,\"column_names\":[\"x\",\"label\",\"height\",\"color\",\"line_alpha\",\"line_color\",\"y\",\"width\",\"fill_alpha\"],\"data\":{\"chart_index\":[\"(34.501920, 35.434080]\"],\"color\":[\"#f22c40\"],\"fill_alpha\":[0.8],\"height\":[7933.0],\"label\":[\"(34.501920, 35.434080]\"],\"line_alpha\":[1.0],\"line_color\":[\"black\"],\"width\":[0.9321600000000032],\"x\":[\"34.968\"],\"y\":[3966.5]}},\"id\":\"533bb238-448f-4ee9-9e86-eda095d44eeb\",\"type\":\"ColumnDataSource\"},{\"attributes\":{\"fill_alpha\":{\"field\":\"fill_alpha\"},\"fill_color\":{\"field\":\"color\"},\"height\":{\"field\":\"height\",\"units\":\"data\"},\"line_color\":{\"field\":\"line_color\"},\"width\":{\"field\":\"width\",\"units\":\"data\"},\"x\":{\"field\":\"x\"},\"y\":{\"field\":\"y\"}},\"id\":\"07b1df0c-662b-42cb-b34c-c87991899a40\",\"type\":\"Rect\"},{\"attributes\":{\"fill_alpha\":{\"field\":\"fill_alpha\"},\"fill_color\":{\"field\":\"color\"},\"height\":{\"field\":\"height\",\"units\":\"data\"},\"line_color\":{\"field\":\"line_color\"},\"width\":{\"field\":\"width\",\"units\":\"data\"},\"x\":{\"field\":\"x\"},\"y\":{\"field\":\"y\"}},\"id\":\"cccdfec2-82e1-49b3-aab4-3cccf36fc139\",\"type\":\"Rect\"},{\"attributes\":{\"data_source\":{\"id\":\"fefebb52-8d33-4968-84da-563777ffcf1c\",\"type\":\"ColumnDataSource\"},\"glyph\":{\"id\":\"b3d65abe-4e54-450d-97f8-f71fcf91b1dc\",\"type\":\"Rect\"},\"hover_glyph\":null,\"nonselection_glyph\":null,\"selection_glyph\":null},\"id\":\"16a006d7-eca3-4712-90a5-d105d762b0bb\",\"type\":\"GlyphRenderer\"},{\"attributes\":{\"fill_alpha\":{\"field\":\"fill_alpha\"},\"fill_color\":{\"field\":\"color\"},\"height\":{\"field\":\"height\",\"units\":\"data\"},\"line_color\":{\"field\":\"line_color\"},\"width\":{\"field\":\"width\",\"units\":\"data\"},\"x\":{\"field\":\"x\"},\"y\":{\"field\":\"y\"}},\"id\":\"f952a513-b790-40a3-9c5b-750e9f53ef9d\",\"type\":\"Rect\"},{\"attributes\":{\"fill_alpha\":{\"field\":\"fill_alpha\"},\"fill_color\":{\"field\":\"color\"},\"height\":{\"field\":\"height\",\"units\":\"data\"},\"line_color\":{\"field\":\"line_color\"},\"width\":{\"field\":\"width\",\"units\":\"data\"},\"x\":{\"field\":\"x\"},\"y\":{\"field\":\"y\"}},\"id\":\"d1b0afee-698b-4ade-8626-1942f22e3cc0\",\"type\":\"Rect\"},{\"attributes\":{\"fill_alpha\":{\"field\":\"fill_alpha\"},\"fill_color\":{\"field\":\"color\"},\"height\":{\"field\":\"height\",\"units\":\"data\"},\"line_color\":{\"field\":\"line_color\"},\"width\":{\"field\":\"width\",\"units\":\"data\"},\"x\":{\"field\":\"x\"},\"y\":{\"field\":\"y\"}},\"id\":\"fc4a3cc2-6374-416a-af01-fe4c7c7adb0e\",\"type\":\"Rect\"},{\"attributes\":{\"callback\":null,\"column_names\":[\"x\",\"label\",\"height\",\"color\",\"line_alpha\",\"line_color\",\"y\",\"width\",\"fill_alpha\"],\"data\":{\"chart_index\":[\"(41.027040, 41.959200]\"],\"color\":[\"#f22c40\"],\"fill_alpha\":[0.8],\"height\":[45548.0],\"label\":[\"(41.027040, 41.959200]\"],\"line_alpha\":[1.0],\"line_color\":[\"black\"],\"width\":[0.9321600000000032],\"x\":[\"41.493120000000005\"],\"y\":[22774.0]}},\"id\":\"27669553-6202-4b16-af03-0c629c20f6a9\",\"type\":\"ColumnDataSource\"},{\"attributes\":{\"data_source\":{\"id\":\"27669553-6202-4b16-af03-0c629c20f6a9\",\"type\":\"ColumnDataSource\"},\"glyph\":{\"id\":\"d1b0afee-698b-4ade-8626-1942f22e3cc0\",\"type\":\"Rect\"},\"hover_glyph\":null,\"nonselection_glyph\":null,\"selection_glyph\":null},\"id\":\"d3433af8-84b5-48ec-a698-03d44a45475e\",\"type\":\"GlyphRenderer\"},{\"attributes\":{},\"id\":\"a3f73b92-7269-4600-9365-1f8fe968ee41\",\"type\":\"BasicTicker\"},{\"attributes\":{\"data_source\":{\"id\":\"780ee802-0e6c-4e22-b6d1-c4703b7619b2\",\"type\":\"ColumnDataSource\"},\"glyph\":{\"id\":\"f952a513-b790-40a3-9c5b-750e9f53ef9d\",\"type\":\"Rect\"},\"hover_glyph\":null,\"nonselection_glyph\":null,\"selection_glyph\":null},\"id\":\"10d1c00b-c940-482e-8e98-b442fd29c29e\",\"type\":\"GlyphRenderer\"},{\"attributes\":{\"fill_alpha\":{\"field\":\"fill_alpha\"},\"fill_color\":{\"field\":\"color\"},\"height\":{\"field\":\"height\",\"units\":\"data\"},\"line_color\":{\"field\":\"line_color\"},\"width\":{\"field\":\"width\",\"units\":\"data\"},\"x\":{\"field\":\"x\"},\"y\":{\"field\":\"y\"}},\"id\":\"845a7c56-8725-4e6b-9133-e5e9d6f964f9\",\"type\":\"Rect\"},{\"attributes\":{\"data_source\":{\"id\":\"15231e65-acfa-4202-ae3f-9e72f0c5f269\",\"type\":\"ColumnDataSource\"},\"glyph\":{\"id\":\"63de631f-f90f-4c67-b15d-8a23141b920a\",\"type\":\"Rect\"},\"hover_glyph\":null,\"nonselection_glyph\":null,\"selection_glyph\":null},\"id\":\"eb4e64b5-db6f-4282-9499-df180c8bce3b\",\"type\":\"GlyphRenderer\"},{\"attributes\":{\"fill_alpha\":{\"field\":\"fill_alpha\"},\"fill_color\":{\"field\":\"color\"},\"height\":{\"field\":\"height\",\"units\":\"data\"},\"line_color\":{\"field\":\"line_color\"},\"width\":{\"field\":\"width\",\"units\":\"data\"},\"x\":{\"field\":\"x\"},\"y\":{\"field\":\"y\"}},\"id\":\"6a99b8e4-c327-47b0-adb9-669ae3f4130c\",\"type\":\"Rect\"},{\"attributes\":{\"fill_alpha\":{\"field\":\"fill_alpha\"},\"fill_color\":{\"field\":\"color\"},\"height\":{\"field\":\"height\",\"units\":\"data\"},\"line_color\":{\"field\":\"line_color\"},\"width\":{\"field\":\"width\",\"units\":\"data\"},\"x\":{\"field\":\"x\"},\"y\":{\"field\":\"y\"}},\"id\":\"3380851f-97ea-411a-8514-431164bd1567\",\"type\":\"Rect\"},{\"attributes\":{\"callback\":null,\"column_names\":[\"x\",\"label\",\"height\",\"color\",\"line_alpha\",\"line_color\",\"y\",\"width\",\"fill_alpha\"],\"data\":{\"chart_index\":[\"(45.687840, 46.620000]\"],\"color\":[\"#f22c40\"],\"fill_alpha\":[0.8],\"height\":[2383.0],\"label\":[\"(45.687840, 46.620000]\"],\"line_alpha\":[1.0],\"line_color\":[\"black\"],\"width\":[0.9321599999999961],\"x\":[\"46.15392\"],\"y\":[1191.5]}},\"id\":\"876b147d-ef07-47d8-ab1f-c88df45d59f1\",\"type\":\"ColumnDataSource\"},{\"attributes\":{\"callback\":null,\"column_names\":[\"x\",\"label\",\"height\",\"color\",\"line_alpha\",\"line_color\",\"y\",\"width\",\"fill_alpha\"],\"data\":{\"chart_index\":[\"(39.162720, 40.094880]\"],\"color\":[\"#f22c40\"],\"fill_alpha\":[0.8],\"height\":[47004.0],\"label\":[\"(39.162720, 40.094880]\"],\"line_alpha\":[1.0],\"line_color\":[\"black\"],\"width\":[0.9321600000000032],\"x\":[\"39.6288\"],\"y\":[23502.0]}},\"id\":\"57ca515a-7087-4bcc-8413-22671c06eb80\",\"type\":\"ColumnDataSource\"},{\"attributes\":{\"data_source\":{\"id\":\"876b147d-ef07-47d8-ab1f-c88df45d59f1\",\"type\":\"ColumnDataSource\"},\"glyph\":{\"id\":\"9666f0bf-d98f-4866-9bdc-5bc54b2411bc\",\"type\":\"Rect\"},\"hover_glyph\":null,\"nonselection_glyph\":null,\"selection_glyph\":null},\"id\":\"972d455d-ccda-402d-aa49-40db6bc680f5\",\"type\":\"GlyphRenderer\"},{\"attributes\":{\"data_source\":{\"id\":\"6c98c829-32e1-439b-bc90-d662b20d26e4\",\"type\":\"ColumnDataSource\"},\"glyph\":{\"id\":\"7d086f54-9761-4331-b820-e915d7a96fd6\",\"type\":\"Rect\"},\"hover_glyph\":null,\"nonselection_glyph\":null,\"selection_glyph\":null},\"id\":\"6e74aac5-5d49-4489-8bab-c4ec0819fdb6\",\"type\":\"GlyphRenderer\"},{\"attributes\":{},\"id\":\"e2e5d35c-e9bd-4638-8bb4-15486489dbe9\",\"type\":\"ToolEvents\"},{\"attributes\":{\"fill_alpha\":{\"field\":\"fill_alpha\"},\"fill_color\":{\"field\":\"color\"},\"height\":{\"field\":\"height\",\"units\":\"data\"},\"line_color\":{\"field\":\"line_color\"},\"width\":{\"field\":\"width\",\"units\":\"data\"},\"x\":{\"field\":\"x\"},\"y\":{\"field\":\"y\"}},\"id\":\"b7f21c35-5dc5-4b28-b4cf-9e2bb2a04818\",\"type\":\"Rect\"},{\"attributes\":{\"active_drag\":\"auto\",\"active_scroll\":\"auto\",\"active_tap\":\"auto\",\"tools\":[{\"id\":\"916a206d-08c5-45b4-9c46-b3b08a3bebbe\",\"type\":\"PanTool\"},{\"id\":\"57c03ba8-da17-461d-b9f1-0d7b85743eef\",\"type\":\"WheelZoomTool\"},{\"id\":\"13d35dc2-705a-4503-a7d8-4b09bb65f752\",\"type\":\"BoxZoomTool\"},{\"id\":\"3f6055eb-5fdd-4b41-bdc6-bf4009fc131d\",\"type\":\"SaveTool\"},{\"id\":\"8e4315e8-b893-408c-a3ae-57c148e62743\",\"type\":\"ResetTool\"},{\"id\":\"c32e9036-b42e-4ff9-9420-920e320ccf19\",\"type\":\"HelpTool\"}]},\"id\":\"209b020f-6018-43d6-9369-e9bb3b12fb7e\",\"type\":\"Toolbar\"},{\"attributes\":{\"callback\":null,\"column_names\":[\"x\",\"label\",\"height\",\"color\",\"line_alpha\",\"line_color\",\"y\",\"width\",\"fill_alpha\"],\"data\":{\"chart_index\":[\"(17.723040, 18.655200]\"],\"color\":[\"#f22c40\"],\"fill_alpha\":[0.8],\"height\":[1671.0],\"label\":[\"(17.723040, 18.655200]\"],\"line_alpha\":[1.0],\"line_color\":[\"black\"],\"width\":[0.9321599999999997],\"x\":[\"18.189120000000003\"],\"y\":[835.5]}},\"id\":\"9c8c4a3c-d047-4bc2-89a8-498f7ed8b297\",\"type\":\"ColumnDataSource\"},{\"attributes\":{\"fill_alpha\":{\"field\":\"fill_alpha\"},\"fill_color\":{\"field\":\"color\"},\"height\":{\"field\":\"height\",\"units\":\"data\"},\"line_color\":{\"field\":\"line_color\"},\"width\":{\"field\":\"width\",\"units\":\"data\"},\"x\":{\"field\":\"x\"},\"y\":{\"field\":\"y\"}},\"id\":\"4d76e3fd-87ec-44ec-876b-4cb95ae689a6\",\"type\":\"Rect\"},{\"attributes\":{\"callback\":null,\"column_names\":[\"x\",\"label\",\"height\",\"color\",\"line_alpha\",\"line_color\",\"y\",\"width\",\"fill_alpha\"],\"data\":{\"chart_index\":[\"(7.469280, 8.401440]\"],\"color\":[\"#f22c40\"],\"fill_alpha\":[0.8],\"height\":[211.0],\"label\":[\"(7.469280, 8.401440]\"],\"line_alpha\":[1.0],\"line_color\":[\"black\"],\"width\":[0.9321600000000014],\"x\":[\"7.935359999999999\"],\"y\":[105.5]}},\"id\":\"91f5812d-7fc7-4f60-81dd-0037de2b8fcb\",\"type\":\"ColumnDataSource\"},{\"attributes\":{\"data_source\":{\"id\":\"799d408d-9fc5-429b-abe1-9f934d13ffef\",\"type\":\"ColumnDataSource\"},\"glyph\":{\"id\":\"cd7f946a-f290-4d99-81cc-af5f784af339\",\"type\":\"Rect\"},\"hover_glyph\":null,\"nonselection_glyph\":null,\"selection_glyph\":null},\"id\":\"23ad39f2-b241-498b-9d33-e68da30d875f\",\"type\":\"GlyphRenderer\"},{\"attributes\":{\"data_source\":{\"id\":\"5648df30-4a6d-4616-a0a0-c70345e97141\",\"type\":\"ColumnDataSource\"},\"glyph\":{\"id\":\"4d76e3fd-87ec-44ec-876b-4cb95ae689a6\",\"type\":\"Rect\"},\"hover_glyph\":null,\"nonselection_glyph\":null,\"selection_glyph\":null},\"id\":\"68c2a38c-a34d-4565-b156-7764d338a827\",\"type\":\"GlyphRenderer\"},{\"attributes\":{\"data_source\":{\"id\":\"f1584e31-3922-4715-9559-e9999941d3e4\",\"type\":\"ColumnDataSource\"},\"glyph\":{\"id\":\"11436e8f-4066-4f44-9a62-10d740bd10d0\",\"type\":\"Rect\"},\"hover_glyph\":null,\"nonselection_glyph\":null,\"selection_glyph\":null},\"id\":\"8bf7bbab-6920-4443-8fe7-ef4a842f6413\",\"type\":\"GlyphRenderer\"},{\"attributes\":{\"fill_alpha\":{\"field\":\"fill_alpha\"},\"fill_color\":{\"field\":\"color\"},\"height\":{\"field\":\"height\",\"units\":\"data\"},\"line_color\":{\"field\":\"line_color\"},\"width\":{\"field\":\"width\",\"units\":\"data\"},\"x\":{\"field\":\"x\"},\"y\":{\"field\":\"y\"}},\"id\":\"65bac78a-c3fe-4f49-8dca-79219b76e8d4\",\"type\":\"Rect\"},{\"attributes\":{\"fill_alpha\":{\"field\":\"fill_alpha\"},\"fill_color\":{\"field\":\"color\"},\"height\":{\"field\":\"height\",\"units\":\"data\"},\"line_color\":{\"field\":\"line_color\"},\"width\":{\"field\":\"width\",\"units\":\"data\"},\"x\":{\"field\":\"x\"},\"y\":{\"field\":\"y\"}},\"id\":\"1268dbc8-000f-4259-aae2-c45d24f9a702\",\"type\":\"Rect\"},{\"attributes\":{\"data_source\":{\"id\":\"1e184f5c-7265-4dd5-870c-5dfc429dec8e\",\"type\":\"ColumnDataSource\"},\"glyph\":{\"id\":\"fc4a3cc2-6374-416a-af01-fe4c7c7adb0e\",\"type\":\"Rect\"},\"hover_glyph\":null,\"nonselection_glyph\":null,\"selection_glyph\":null},\"id\":\"881a4018-ae26-4405-ae47-e6d9b240e09e\",\"type\":\"GlyphRenderer\"},{\"attributes\":{\"data_source\":{\"id\":\"2d12e632-8612-4946-bce4-837f6f62b131\",\"type\":\"ColumnDataSource\"},\"glyph\":{\"id\":\"395c9705-417b-493c-a9a3-38948b3234db\",\"type\":\"Rect\"},\"hover_glyph\":null,\"nonselection_glyph\":null,\"selection_glyph\":null},\"id\":\"d1fb2b21-41a5-4e52-a5d4-6c2ce326f27a\",\"type\":\"GlyphRenderer\"},{\"attributes\":{\"data_source\":{\"id\":\"2998137b-871e-412a-a26f-f4bb909376a9\",\"type\":\"ColumnDataSource\"},\"glyph\":{\"id\":\"aa17c7f2-7ce5-4cc4-85b1-b704424906eb\",\"type\":\"Rect\"},\"hover_glyph\":null,\"nonselection_glyph\":null,\"selection_glyph\":null},\"id\":\"6b370ab2-07c2-4d83-82a3-d997439f624d\",\"type\":\"GlyphRenderer\"},{\"attributes\":{\"fill_alpha\":{\"field\":\"fill_alpha\"},\"fill_color\":{\"field\":\"color\"},\"height\":{\"field\":\"height\",\"units\":\"data\"},\"line_color\":{\"field\":\"line_color\"},\"width\":{\"field\":\"width\",\"units\":\"data\"},\"x\":{\"field\":\"x\"},\"y\":{\"field\":\"y\"}},\"id\":\"aa17c7f2-7ce5-4cc4-85b1-b704424906eb\",\"type\":\"Rect\"},{\"attributes\":{\"data_source\":{\"id\":\"533bb238-448f-4ee9-9e86-eda095d44eeb\",\"type\":\"ColumnDataSource\"},\"glyph\":{\"id\":\"d55729b6-fb94-402b-9573-03f93481d428\",\"type\":\"Rect\"},\"hover_glyph\":null,\"nonselection_glyph\":null,\"selection_glyph\":null},\"id\":\"035e4051-459d-4298-9845-b665e5533d06\",\"type\":\"GlyphRenderer\"},{\"attributes\":{\"callback\":null,\"column_names\":[\"x\",\"label\",\"height\",\"color\",\"line_alpha\",\"line_color\",\"y\",\"width\",\"fill_alpha\"],\"data\":{\"chart_index\":[\"(25.180320, 26.112480]\"],\"color\":[\"#f22c40\"],\"fill_alpha\":[0.8],\"height\":[1031.0],\"label\":[\"(25.180320, 26.112480]\"],\"line_alpha\":[1.0],\"line_color\":[\"black\"],\"width\":[0.9321599999999997],\"x\":[\"25.6464\"],\"y\":[515.5]}},\"id\":\"2e7f4306-fcb2-4d16-85ed-e158d8c2da82\",\"type\":\"ColumnDataSource\"},{\"attributes\":{\"callback\":null,\"column_names\":[\"x\",\"label\",\"height\",\"color\",\"line_alpha\",\"line_color\",\"y\",\"width\",\"fill_alpha\"],\"data\":{\"chart_index\":[\"(27.976800, 28.908960]\"],\"color\":[\"#f22c40\"],\"fill_alpha\":[0.8],\"height\":[542.0],\"label\":[\"(27.976800, 28.908960]\"],\"line_alpha\":[1.0],\"line_color\":[\"black\"],\"width\":[0.9321599999999997],\"x\":[\"28.442880000000002\"],\"y\":[271.0]}},\"id\":\"791e7d6f-3147-4020-87df-d233d8cf1587\",\"type\":\"ColumnDataSource\"},{\"attributes\":{\"data_source\":{\"id\":\"0dd0f9be-e780-487d-94f3-1bbc4d1220de\",\"type\":\"ColumnDataSource\"},\"glyph\":{\"id\":\"29fefd09-3eca-4344-aa85-4c1cbf796e2a\",\"type\":\"Rect\"},\"hover_glyph\":null,\"nonselection_glyph\":null,\"selection_glyph\":null},\"id\":\"c18dd720-bee2-4a6f-996b-9e788f0ae260\",\"type\":\"GlyphRenderer\"},{\"attributes\":{\"data_source\":{\"id\":\"2e7f4306-fcb2-4d16-85ed-e158d8c2da82\",\"type\":\"ColumnDataSource\"},\"glyph\":{\"id\":\"65ba13c7-0c3f-4452-8286-482259af2ce8\",\"type\":\"Rect\"},\"hover_glyph\":null,\"nonselection_glyph\":null,\"selection_glyph\":null},\"id\":\"70b09ae9-97dc-4e9f-bf51-9bbb6d2320e4\",\"type\":\"GlyphRenderer\"},{\"attributes\":{},\"id\":\"c87c13df-c8ba-40d3-b9f4-f1db6b3dc421\",\"type\":\"BasicTicker\"},{\"attributes\":{\"fill_alpha\":{\"field\":\"fill_alpha\"},\"fill_color\":{\"field\":\"color\"},\"height\":{\"field\":\"height\",\"units\":\"data\"},\"line_color\":{\"field\":\"line_color\"},\"width\":{\"field\":\"width\",\"units\":\"data\"},\"x\":{\"field\":\"x\"},\"y\":{\"field\":\"y\"}},\"id\":\"b7cc96d8-ecdc-42d8-b2f0-fb40111200eb\",\"type\":\"Rect\"},{\"attributes\":{\"callback\":null,\"column_names\":[\"x\",\"label\",\"height\",\"color\",\"line_alpha\",\"line_color\",\"y\",\"width\",\"fill_alpha\"],\"data\":{\"chart_index\":[\"(1.876320, 2.808480]\"],\"color\":[\"#f22c40\"],\"fill_alpha\":[0.8],\"height\":[731.0],\"label\":[\"(1.876320, 2.808480]\"],\"line_alpha\":[1.0],\"line_color\":[\"black\"],\"width\":[0.9321599999999999],\"x\":[\"2.3424\"],\"y\":[365.5]}},\"id\":\"fefebb52-8d33-4968-84da-563777ffcf1c\",\"type\":\"ColumnDataSource\"},{\"attributes\":{\"below\":[{\"id\":\"3a6ecfa9-51be-4a81-a02f-12c1451e8263\",\"type\":\"LinearAxis\"}],\"css_classes\":null,\"left\":[{\"id\":\"8c4950ff-e883-433e-b690-1380b056a0aa\",\"type\":\"LinearAxis\"}],\"renderers\":[{\"id\":\"606b0016-02fb-4062-b343-c9016cc2eafc\",\"type\":\"BoxAnnotation\"},{\"id\":\"08a134f0-a778-4008-b38e-1d168f0139c6\",\"type\":\"GlyphRenderer\"},{\"id\":\"50dec513-82a6-4284-ae8b-6f1d1c8f9ad1\",\"type\":\"GlyphRenderer\"},{\"id\":\"16a006d7-eca3-4712-90a5-d105d762b0bb\",\"type\":\"GlyphRenderer\"},{\"id\":\"23ad39f2-b241-498b-9d33-e68da30d875f\",\"type\":\"GlyphRenderer\"},{\"id\":\"6e74aac5-5d49-4489-8bab-c4ec0819fdb6\",\"type\":\"GlyphRenderer\"},{\"id\":\"2822f782-700d-4de8-8aa6-1609c9a4246d\",\"type\":\"GlyphRenderer\"},{\"id\":\"d1fb2b21-41a5-4e52-a5d4-6c2ce326f27a\",\"type\":\"GlyphRenderer\"},{\"id\":\"e643bdec-d888-445e-ac78-8b3f8f937250\",\"type\":\"GlyphRenderer\"},{\"id\":\"aea8d07f-fedd-45e1-b3d8-bd47b07ea6eb\",\"type\":\"GlyphRenderer\"},{\"id\":\"ed21f31c-1fb3-4a68-8221-6c908da4795e\",\"type\":\"GlyphRenderer\"},{\"id\":\"a181e129-4e02-4a1d-828c-06df87861000\",\"type\":\"GlyphRenderer\"},{\"id\":\"3a95ff40-0066-4fbb-b6cd-514377b0779f\",\"type\":\"GlyphRenderer\"},{\"id\":\"bf0c0176-05e0-47fc-a600-d4ad1f1ba1b2\",\"type\":\"GlyphRenderer\"},{\"id\":\"4e1626b6-5b10-4a2c-a856-bbbac1e38ce3\",\"type\":\"GlyphRenderer\"},{\"id\":\"51b0aabe-6f0a-4e93-9687-b62217d5c868\",\"type\":\"GlyphRenderer\"},{\"id\":\"b4258796-c0f1-4b77-bcf2-7decb488ef05\",\"type\":\"GlyphRenderer\"},{\"id\":\"754dc2cc-688d-4b40-91c3-47a58b8cfe31\",\"type\":\"GlyphRenderer\"},{\"id\":\"c18dd720-bee2-4a6f-996b-9e788f0ae260\",\"type\":\"GlyphRenderer\"},{\"id\":\"bb5814f2-1415-436c-87f2-2870917c170f\",\"type\":\"GlyphRenderer\"},{\"id\":\"ac302ff5-60ec-4a16-9fcd-e1f1b9786dd4\",\"type\":\"GlyphRenderer\"},{\"id\":\"81557228-fb47-4ba5-9103-9131c8826638\",\"type\":\"GlyphRenderer\"},{\"id\":\"a829da9d-4b8c-4968-9397-915d8c940e8d\",\"type\":\"GlyphRenderer\"},{\"id\":\"6646cc41-aa4b-4d3a-82ff-e59279917923\",\"type\":\"GlyphRenderer\"},{\"id\":\"eb4e64b5-db6f-4282-9499-df180c8bce3b\",\"type\":\"GlyphRenderer\"},{\"id\":\"e36157ce-c4f4-41a8-bbff-804790e6f40f\",\"type\":\"GlyphRenderer\"},{\"id\":\"28128eac-64da-4b65-bd9b-4d4d30bdc073\",\"type\":\"GlyphRenderer\"},{\"id\":\"8bf7bbab-6920-4443-8fe7-ef4a842f6413\",\"type\":\"GlyphRenderer\"},{\"id\":\"70b09ae9-97dc-4e9f-bf51-9bbb6d2320e4\",\"type\":\"GlyphRenderer\"},{\"id\":\"040149fe-07ba-4c04-847b-9bca883f5c28\",\"type\":\"GlyphRenderer\"},{\"id\":\"7aab860d-d882-4898-be69-f202949a69f6\",\"type\":\"GlyphRenderer\"},{\"id\":\"d3d12ebb-42de-4af7-ae6e-c7c2c19c831f\",\"type\":\"GlyphRenderer\"},{\"id\":\"ba30b96f-3887-4cb6-b42f-e2c8951e4ad1\",\"type\":\"GlyphRenderer\"},{\"id\":\"ca7702b7-7818-4e43-985a-1828ae4d9641\",\"type\":\"GlyphRenderer\"},{\"id\":\"881a4018-ae26-4405-ae47-e6d9b240e09e\",\"type\":\"GlyphRenderer\"},{\"id\":\"7d238027-683d-422c-a9c1-fe7238bc6a18\",\"type\":\"GlyphRenderer\"},{\"id\":\"a2a242cf-ffdf-41da-aac6-e3d05c50e2e0\",\"type\":\"GlyphRenderer\"},{\"id\":\"6b370ab2-07c2-4d83-82a3-d997439f624d\",\"type\":\"GlyphRenderer\"},{\"id\":\"035e4051-459d-4298-9845-b665e5533d06\",\"type\":\"GlyphRenderer\"},{\"id\":\"692e3b5c-7ae8-43ac-901f-c4c9cc90b29a\",\"type\":\"GlyphRenderer\"},{\"id\":\"a0198e42-d843-4840-888e-0e39c5bbb4b4\",\"type\":\"GlyphRenderer\"},{\"id\":\"5a06b542-0c63-40e1-909f-bf7c43cbdd42\",\"type\":\"GlyphRenderer\"},{\"id\":\"598d0a2f-1f2a-42b3-bde5-8c2bd955ce2d\",\"type\":\"GlyphRenderer\"},{\"id\":\"cb1fda54-bec9-44d0-bc6f-2657f999f235\",\"type\":\"GlyphRenderer\"},{\"id\":\"68c2a38c-a34d-4565-b156-7764d338a827\",\"type\":\"GlyphRenderer\"},{\"id\":\"d3433af8-84b5-48ec-a698-03d44a45475e\",\"type\":\"GlyphRenderer\"},{\"id\":\"10d1c00b-c940-482e-8e98-b442fd29c29e\",\"type\":\"GlyphRenderer\"},{\"id\":\"141a453c-d3ad-4ed6-b419-fa5141846b5e\",\"type\":\"GlyphRenderer\"},{\"id\":\"624e3954-3af3-4574-bf57-88cc0a39da48\",\"type\":\"GlyphRenderer\"},{\"id\":\"1d5d9bda-1efc-4e1f-90e7-76a2618a5dce\",\"type\":\"GlyphRenderer\"},{\"id\":\"972d455d-ccda-402d-aa49-40db6bc680f5\",\"type\":\"GlyphRenderer\"},{\"id\":\"638673eb-4da5-45b6-b808-d93b6e974089\",\"type\":\"Legend\"},{\"id\":\"3a6ecfa9-51be-4a81-a02f-12c1451e8263\",\"type\":\"LinearAxis\"},{\"id\":\"8c4950ff-e883-433e-b690-1380b056a0aa\",\"type\":\"LinearAxis\"},{\"id\":\"2d22e946-f98e-4cc9-9671-41fe7487a95c\",\"type\":\"Grid\"}],\"title\":{\"id\":\"caddf8e3-c0af-41cb-b5b8-7549768df560\",\"type\":\"Title\"},\"tool_events\":{\"id\":\"e2e5d35c-e9bd-4638-8bb4-15486489dbe9\",\"type\":\"ToolEvents\"},\"toolbar\":{\"id\":\"209b020f-6018-43d6-9369-e9bb3b12fb7e\",\"type\":\"Toolbar\"},\"x_mapper_type\":\"auto\",\"x_range\":{\"id\":\"bc53771d-d844-4aeb-96b7-7ab6b8353ad8\",\"type\":\"Range1d\"},\"y_mapper_type\":\"auto\",\"y_range\":{\"id\":\"1a63138c-9e31-4ae0-a4d8-4c3dc1eb0724\",\"type\":\"Range1d\"}},\"id\":\"7f8356ca-f55f-4790-9d2c-1fc6f16b73b8\",\"subtype\":\"Chart\",\"type\":\"Plot\"},{\"attributes\":{\"callback\":null,\"column_names\":[\"x\",\"label\",\"height\",\"color\",\"line_alpha\",\"line_color\",\"y\",\"width\",\"fill_alpha\"],\"data\":{\"chart_index\":[\"(18.655200, 19.587360]\"],\"color\":[\"#f22c40\"],\"fill_alpha\":[0.8],\"height\":[1192.0],\"label\":[\"(18.655200, 19.587360]\"],\"line_alpha\":[1.0],\"line_color\":[\"black\"],\"width\":[0.9321599999999997],\"x\":[\"19.12128\"],\"y\":[596.0]}},\"id\":\"28b1a798-2989-45ec-86db-cac262110361\",\"type\":\"ColumnDataSource\"},{\"attributes\":{\"callback\":null,\"column_names\":[\"x\",\"label\",\"height\",\"color\",\"line_alpha\",\"line_color\",\"y\",\"width\",\"fill_alpha\"],\"data\":{\"chart_index\":[\"(32.637600, 33.569760]\"],\"color\":[\"#f22c40\"],\"fill_alpha\":[0.8],\"height\":[3597.0],\"label\":[\"(32.637600, 33.569760]\"],\"line_alpha\":[1.0],\"line_color\":[\"black\"],\"width\":[0.9321600000000032],\"x\":[\"33.10368\"],\"y\":[1798.5]}},\"id\":\"a4129d46-deca-4b1f-b050-3505ab61ab45\",\"type\":\"ColumnDataSource\"},{\"attributes\":{\"data_source\":{\"id\":\"20f7c056-5d56-4ad3-9b1b-b20ed23e0854\",\"type\":\"ColumnDataSource\"},\"glyph\":{\"id\":\"506f0c50-c057-4eeb-a6d9-f4c630853460\",\"type\":\"Rect\"},\"hover_glyph\":null,\"nonselection_glyph\":null,\"selection_glyph\":null},\"id\":\"598d0a2f-1f2a-42b3-bde5-8c2bd955ce2d\",\"type\":\"GlyphRenderer\"},{\"attributes\":{\"callback\":null,\"end\":62950.8},\"id\":\"1a63138c-9e31-4ae0-a4d8-4c3dc1eb0724\",\"type\":\"Range1d\"},{\"attributes\":{\"fill_alpha\":{\"field\":\"fill_alpha\"},\"fill_color\":{\"field\":\"color\"},\"height\":{\"field\":\"height\",\"units\":\"data\"},\"line_color\":{\"field\":\"line_color\"},\"width\":{\"field\":\"width\",\"units\":\"data\"},\"x\":{\"field\":\"x\"},\"y\":{\"field\":\"y\"}},\"id\":\"bcb3fa46-8b4e-4ea9-ae7f-ff19b3ba672c\",\"type\":\"Rect\"},{\"attributes\":{\"data_source\":{\"id\":\"19fd43fd-2d3c-443b-b32e-80f45e0233aa\",\"type\":\"ColumnDataSource\"},\"glyph\":{\"id\":\"3380851f-97ea-411a-8514-431164bd1567\",\"type\":\"Rect\"},\"hover_glyph\":null,\"nonselection_glyph\":null,\"selection_glyph\":null},\"id\":\"3a95ff40-0066-4fbb-b6cd-514377b0779f\",\"type\":\"GlyphRenderer\"},{\"attributes\":{\"callback\":null,\"column_names\":[\"x\",\"label\",\"height\",\"color\",\"line_alpha\",\"line_color\",\"y\",\"width\",\"fill_alpha\"],\"data\":{\"chart_index\":[\"(36.366240, 37.298400]\"],\"color\":[\"#f22c40\"],\"fill_alpha\":[0.8],\"height\":[30852.0],\"label\":[\"(36.366240, 37.298400]\"],\"line_alpha\":[1.0],\"line_color\":[\"black\"],\"width\":[0.9321600000000032],\"x\":[\"36.832319999999996\"],\"y\":[15426.0]}},\"id\":\"435bee36-2644-4e11-b514-43b94e5b72f1\",\"type\":\"ColumnDataSource\"},{\"attributes\":{\"callback\":null,\"column_names\":[\"x\",\"label\",\"height\",\"color\",\"line_alpha\",\"line_color\",\"y\",\"width\",\"fill_alpha\"],\"data\":{\"chart_index\":[\"(0.944160, 1.876320]\"],\"color\":[\"#f22c40\"],\"fill_alpha\":[0.8],\"height\":[528.0],\"label\":[\"(0.944160, 1.876320]\"],\"line_alpha\":[1.0],\"line_color\":[\"black\"],\"width\":[0.93216],\"x\":[\"1.41024\"],\"y\":[264.0]}},\"id\":\"a2915f9a-f746-4f0b-b07b-406831fc829a\",\"type\":\"ColumnDataSource\"},{\"attributes\":{\"callback\":null,\"column_names\":[\"x\",\"label\",\"height\",\"color\",\"line_alpha\",\"line_color\",\"y\",\"width\",\"fill_alpha\"],\"data\":{\"chart_index\":[\"(12.130080, 13.062240]\"],\"color\":[\"#f22c40\"],\"fill_alpha\":[0.8],\"height\":[1788.0],\"label\":[\"(12.130080, 13.062240]\"],\"line_alpha\":[1.0],\"line_color\":[\"black\"],\"width\":[0.9321600000000014],\"x\":[\"12.59616\"],\"y\":[894.0]}},\"id\":\"c25879fb-96de-4092-b3e9-29608888337e\",\"type\":\"ColumnDataSource\"},{\"attributes\":{\"callback\":null,\"column_names\":[\"x\",\"label\",\"height\",\"color\",\"line_alpha\",\"line_color\",\"y\",\"width\",\"fill_alpha\"],\"data\":{\"chart_index\":[\"(41.959200, 42.891360]\"],\"color\":[\"#f22c40\"],\"fill_alpha\":[0.8],\"height\":[41309.0],\"label\":[\"(41.959200, 42.891360]\"],\"line_alpha\":[1.0],\"line_color\":[\"black\"],\"width\":[0.9321599999999961],\"x\":[\"42.42528\"],\"y\":[20654.5]}},\"id\":\"780ee802-0e6c-4e22-b6d1-c4703b7619b2\",\"type\":\"ColumnDataSource\"},{\"attributes\":{\"data_source\":{\"id\":\"40501e50-fee5-4dee-b0af-c1bb14b089b8\",\"type\":\"ColumnDataSource\"},\"glyph\":{\"id\":\"136efbd0-587a-4167-b1f5-41568af4bea5\",\"type\":\"Rect\"},\"hover_glyph\":null,\"nonselection_glyph\":null,\"selection_glyph\":null},\"id\":\"624e3954-3af3-4574-bf57-88cc0a39da48\",\"type\":\"GlyphRenderer\"},{\"attributes\":{\"fill_alpha\":{\"field\":\"fill_alpha\"},\"fill_color\":{\"field\":\"color\"},\"height\":{\"field\":\"height\",\"units\":\"data\"},\"line_color\":{\"field\":\"line_color\"},\"width\":{\"field\":\"width\",\"units\":\"data\"},\"x\":{\"field\":\"x\"},\"y\":{\"field\":\"y\"}},\"id\":\"d55729b6-fb94-402b-9573-03f93481d428\",\"type\":\"Rect\"},{\"attributes\":{\"callback\":null,\"end\":47.785799999999995,\"start\":-1.1538},\"id\":\"bc53771d-d844-4aeb-96b7-7ab6b8353ad8\",\"type\":\"Range1d\"},{\"attributes\":{\"fill_alpha\":{\"field\":\"fill_alpha\"},\"fill_color\":{\"field\":\"color\"},\"height\":{\"field\":\"height\",\"units\":\"data\"},\"line_color\":{\"field\":\"line_color\"},\"width\":{\"field\":\"width\",\"units\":\"data\"},\"x\":{\"field\":\"x\"},\"y\":{\"field\":\"y\"}},\"id\":\"44b00949-2889-49c3-b7aa-7c43c94fd4ad\",\"type\":\"Rect\"},{\"attributes\":{\"fill_alpha\":{\"field\":\"fill_alpha\"},\"fill_color\":{\"field\":\"color\"},\"height\":{\"field\":\"height\",\"units\":\"data\"},\"line_color\":{\"field\":\"line_color\"},\"width\":{\"field\":\"width\",\"units\":\"data\"},\"x\":{\"field\":\"x\"},\"y\":{\"field\":\"y\"}},\"id\":\"fcb6c007-db40-43c8-80ae-7f1b1b8cacf4\",\"type\":\"Rect\"},{\"attributes\":{\"data_source\":{\"id\":\"f8a6d995-8119-42b8-85ae-cb54f495b6e5\",\"type\":\"ColumnDataSource\"},\"glyph\":{\"id\":\"31048dbf-e47e-41d3-b134-f93bd5002b62\",\"type\":\"Rect\"},\"hover_glyph\":null,\"nonselection_glyph\":null,\"selection_glyph\":null},\"id\":\"5a06b542-0c63-40e1-909f-bf7c43cbdd42\",\"type\":\"GlyphRenderer\"},{\"attributes\":{\"data_source\":{\"id\":\"aaecb2e7-76fe-48c8-8526-3b6f8bec18e5\",\"type\":\"ColumnDataSource\"},\"glyph\":{\"id\":\"89f42b10-d9fe-41cc-a3ac-6b320ee1dc06\",\"type\":\"Rect\"},\"hover_glyph\":null,\"nonselection_glyph\":null,\"selection_glyph\":null},\"id\":\"a181e129-4e02-4a1d-828c-06df87861000\",\"type\":\"GlyphRenderer\"},{\"attributes\":{\"plot\":null,\"text\":null},\"id\":\"caddf8e3-c0af-41cb-b5b8-7549768df560\",\"type\":\"Title\"},{\"attributes\":{\"data_source\":{\"id\":\"063b51f2-e5cf-4578-8697-177c301ef5a7\",\"type\":\"ColumnDataSource\"},\"glyph\":{\"id\":\"17db51ad-d3aa-4281-a924-92f39bc57e26\",\"type\":\"Rect\"},\"hover_glyph\":null,\"nonselection_glyph\":null,\"selection_glyph\":null},\"id\":\"e643bdec-d888-445e-ac78-8b3f8f937250\",\"type\":\"GlyphRenderer\"},{\"attributes\":{\"data_source\":{\"id\":\"3ec7097d-2bde-4edc-95ed-5c6231fc01d6\",\"type\":\"ColumnDataSource\"},\"glyph\":{\"id\":\"77691af2-1ac0-414d-868e-9914cdcb8f22\",\"type\":\"Rect\"},\"hover_glyph\":null,\"nonselection_glyph\":null,\"selection_glyph\":null},\"id\":\"692e3b5c-7ae8-43ac-901f-c4c9cc90b29a\",\"type\":\"GlyphRenderer\"},{\"attributes\":{\"fill_alpha\":{\"field\":\"fill_alpha\"},\"fill_color\":{\"field\":\"color\"},\"height\":{\"field\":\"height\",\"units\":\"data\"},\"line_color\":{\"field\":\"line_color\"},\"width\":{\"field\":\"width\",\"units\":\"data\"},\"x\":{\"field\":\"x\"},\"y\":{\"field\":\"y\"}},\"id\":\"9666f0bf-d98f-4866-9bdc-5bc54b2411bc\",\"type\":\"Rect\"},{\"attributes\":{\"data_source\":{\"id\":\"a2915f9a-f746-4f0b-b07b-406831fc829a\",\"type\":\"ColumnDataSource\"},\"glyph\":{\"id\":\"cccdfec2-82e1-49b3-aab4-3cccf36fc139\",\"type\":\"Rect\"},\"hover_glyph\":null,\"nonselection_glyph\":null,\"selection_glyph\":null},\"id\":\"50dec513-82a6-4284-ae8b-6f1d1c8f9ad1\",\"type\":\"GlyphRenderer\"},{\"attributes\":{\"overlay\":{\"id\":\"606b0016-02fb-4062-b343-c9016cc2eafc\",\"type\":\"BoxAnnotation\"},\"plot\":{\"id\":\"7f8356ca-f55f-4790-9d2c-1fc6f16b73b8\",\"subtype\":\"Chart\",\"type\":\"Plot\"}},\"id\":\"13d35dc2-705a-4503-a7d8-4b09bb65f752\",\"type\":\"BoxZoomTool\"},{\"attributes\":{\"fill_alpha\":{\"field\":\"fill_alpha\"},\"fill_color\":{\"field\":\"color\"},\"height\":{\"field\":\"height\",\"units\":\"data\"},\"line_color\":{\"field\":\"line_color\"},\"width\":{\"field\":\"width\",\"units\":\"data\"},\"x\":{\"field\":\"x\"},\"y\":{\"field\":\"y\"}},\"id\":\"506f0c50-c057-4eeb-a6d9-f4c630853460\",\"type\":\"Rect\"},{\"attributes\":{\"fill_alpha\":{\"field\":\"fill_alpha\"},\"fill_color\":{\"field\":\"color\"},\"height\":{\"field\":\"height\",\"units\":\"data\"},\"line_color\":{\"field\":\"line_color\"},\"width\":{\"field\":\"width\",\"units\":\"data\"},\"x\":{\"field\":\"x\"},\"y\":{\"field\":\"y\"}},\"id\":\"395c9705-417b-493c-a9a3-38948b3234db\",\"type\":\"Rect\"},{\"attributes\":{\"fill_alpha\":{\"field\":\"fill_alpha\"},\"fill_color\":{\"field\":\"color\"},\"height\":{\"field\":\"height\",\"units\":\"data\"},\"line_color\":{\"field\":\"line_color\"},\"width\":{\"field\":\"width\",\"units\":\"data\"},\"x\":{\"field\":\"x\"},\"y\":{\"field\":\"y\"}},\"id\":\"cb1c7da3-d724-4c8d-b768-045d8f5fb439\",\"type\":\"Rect\"},{\"attributes\":{\"callback\":null,\"column_names\":[\"x\",\"label\",\"height\",\"color\",\"line_alpha\",\"line_color\",\"y\",\"width\",\"fill_alpha\"],\"data\":{\"chart_index\":[\"(13.062240, 13.994400]\"],\"color\":[\"#f22c40\"],\"fill_alpha\":[0.8],\"height\":[1680.0],\"label\":[\"(13.062240, 13.994400]\"],\"line_alpha\":[1.0],\"line_color\":[\"black\"],\"width\":[0.9321599999999997],\"x\":[\"13.52832\"],\"y\":[840.0]}},\"id\":\"8ed9d0ab-9a9e-478f-85dd-e7f31cb4636a\",\"type\":\"ColumnDataSource\"},{\"attributes\":{\"fill_alpha\":{\"field\":\"fill_alpha\"},\"fill_color\":{\"field\":\"color\"},\"height\":{\"field\":\"height\",\"units\":\"data\"},\"line_color\":{\"field\":\"line_color\"},\"width\":{\"field\":\"width\",\"units\":\"data\"},\"x\":{\"field\":\"x\"},\"y\":{\"field\":\"y\"}},\"id\":\"fc780c64-d931-4d24-ba79-7ea3de68e94c\",\"type\":\"Rect\"},{\"attributes\":{\"data_source\":{\"id\":\"91f5812d-7fc7-4f60-81dd-0037de2b8fcb\",\"type\":\"ColumnDataSource\"},\"glyph\":{\"id\":\"65bac78a-c3fe-4f49-8dca-79219b76e8d4\",\"type\":\"Rect\"},\"hover_glyph\":null,\"nonselection_glyph\":null,\"selection_glyph\":null},\"id\":\"aea8d07f-fedd-45e1-b3d8-bd47b07ea6eb\",\"type\":\"GlyphRenderer\"},{\"attributes\":{\"fill_alpha\":{\"field\":\"fill_alpha\"},\"fill_color\":{\"field\":\"color\"},\"height\":{\"field\":\"height\",\"units\":\"data\"},\"line_color\":{\"field\":\"line_color\"},\"width\":{\"field\":\"width\",\"units\":\"data\"},\"x\":{\"field\":\"x\"},\"y\":{\"field\":\"y\"}},\"id\":\"518e1452-aae9-437d-a98c-75ddd8708015\",\"type\":\"Rect\"},{\"attributes\":{\"data_source\":{\"id\":\"c1416e8b-4129-4055-a558-c5f6b871598a\",\"type\":\"ColumnDataSource\"},\"glyph\":{\"id\":\"518e1452-aae9-437d-a98c-75ddd8708015\",\"type\":\"Rect\"},\"hover_glyph\":null,\"nonselection_glyph\":null,\"selection_glyph\":null},\"id\":\"2822f782-700d-4de8-8aa6-1609c9a4246d\",\"type\":\"GlyphRenderer\"},{\"attributes\":{\"callback\":null,\"column_names\":[\"x\",\"label\",\"height\",\"color\",\"line_alpha\",\"line_color\",\"y\",\"width\",\"fill_alpha\"],\"data\":{\"chart_index\":[\"(31.705440, 32.637600]\"],\"color\":[\"#f22c40\"],\"fill_alpha\":[0.8],\"height\":[3025.0],\"label\":[\"(31.705440, 32.637600]\"],\"line_alpha\":[1.0],\"line_color\":[\"black\"],\"width\":[0.9321599999999997],\"x\":[\"32.17152\"],\"y\":[1512.5]}},\"id\":\"e1d490d4-6a38-4010-acd6-78d52038dbc3\",\"type\":\"ColumnDataSource\"},{\"attributes\":{\"fill_alpha\":{\"field\":\"fill_alpha\"},\"fill_color\":{\"field\":\"color\"},\"height\":{\"field\":\"height\",\"units\":\"data\"},\"line_color\":{\"field\":\"line_color\"},\"width\":{\"field\":\"width\",\"units\":\"data\"},\"x\":{\"field\":\"x\"},\"y\":{\"field\":\"y\"}},\"id\":\"04ba6549-cca3-4507-8759-1063da12e9e9\",\"type\":\"Rect\"},{\"attributes\":{\"data_source\":{\"id\":\"4ed76043-c5c3-4a73-b1dc-67f721d3ab39\",\"type\":\"ColumnDataSource\"},\"glyph\":{\"id\":\"833178a9-53b3-4278-9ce0-bfee2ddbc7ef\",\"type\":\"Rect\"},\"hover_glyph\":null,\"nonselection_glyph\":null,\"selection_glyph\":null},\"id\":\"141a453c-d3ad-4ed6-b419-fa5141846b5e\",\"type\":\"GlyphRenderer\"},{\"attributes\":{\"callback\":null,\"column_names\":[\"x\",\"label\",\"height\",\"color\",\"line_alpha\",\"line_color\",\"y\",\"width\",\"fill_alpha\"],\"data\":{\"chart_index\":[\"(16.790880, 17.723040]\"],\"color\":[\"#f22c40\"],\"fill_alpha\":[0.8],\"height\":[1436.0],\"label\":[\"(16.790880, 17.723040]\"],\"line_alpha\":[1.0],\"line_color\":[\"black\"],\"width\":[0.9321599999999997],\"x\":[\"17.25696\"],\"y\":[718.0]}},\"id\":\"e11f3434-9a2f-4522-9a38-d2d9bd0c7088\",\"type\":\"ColumnDataSource\"},{\"attributes\":{\"data_source\":{\"id\":\"8ed9d0ab-9a9e-478f-85dd-e7f31cb4636a\",\"type\":\"ColumnDataSource\"},\"glyph\":{\"id\":\"25fd7136-51e0-4faf-a67f-5dd34717b203\",\"type\":\"Rect\"},\"hover_glyph\":null,\"nonselection_glyph\":null,\"selection_glyph\":null},\"id\":\"51b0aabe-6f0a-4e93-9687-b62217d5c868\",\"type\":\"GlyphRenderer\"},{\"attributes\":{\"fill_alpha\":{\"field\":\"fill_alpha\"},\"fill_color\":{\"field\":\"color\"},\"height\":{\"field\":\"height\",\"units\":\"data\"},\"line_color\":{\"field\":\"line_color\"},\"width\":{\"field\":\"width\",\"units\":\"data\"},\"x\":{\"field\":\"x\"},\"y\":{\"field\":\"y\"}},\"id\":\"b30c6d11-1e52-4439-a57b-398a47e7abee\",\"type\":\"Rect\"},{\"attributes\":{\"callback\":null,\"column_names\":[\"x\",\"label\",\"height\",\"color\",\"line_alpha\",\"line_color\",\"y\",\"width\",\"fill_alpha\"],\"data\":{\"chart_index\":[\"(11.197920, 12.130080]\"],\"color\":[\"#f22c40\"],\"fill_alpha\":[0.8],\"height\":[460.0],\"label\":[\"(11.197920, 12.130080]\"],\"line_alpha\":[1.0],\"line_color\":[\"black\"],\"width\":[0.9321599999999997],\"x\":[\"11.664\"],\"y\":[230.0]}},\"id\":\"c547a6d7-5c0c-496f-ad02-54bddf16f32d\",\"type\":\"ColumnDataSource\"},{\"attributes\":{\"fill_alpha\":{\"field\":\"fill_alpha\"},\"fill_color\":{\"field\":\"color\"},\"height\":{\"field\":\"height\",\"units\":\"data\"},\"line_color\":{\"field\":\"line_color\"},\"width\":{\"field\":\"width\",\"units\":\"data\"},\"x\":{\"field\":\"x\"},\"y\":{\"field\":\"y\"}},\"id\":\"c101b47e-b7fb-4e1c-9f00-a3be62274679\",\"type\":\"Rect\"},{\"attributes\":{\"plot\":{\"id\":\"7f8356ca-f55f-4790-9d2c-1fc6f16b73b8\",\"subtype\":\"Chart\",\"type\":\"Plot\"}},\"id\":\"8e4315e8-b893-408c-a3ae-57c148e62743\",\"type\":\"ResetTool\"},{\"attributes\":{\"data_source\":{\"id\":\"40b27f4c-a83b-43db-bf74-11d99a888551\",\"type\":\"ColumnDataSource\"},\"glyph\":{\"id\":\"fc780c64-d931-4d24-ba79-7ea3de68e94c\",\"type\":\"Rect\"},\"hover_glyph\":null,\"nonselection_glyph\":null,\"selection_glyph\":null},\"id\":\"e36157ce-c4f4-41a8-bbff-804790e6f40f\",\"type\":\"GlyphRenderer\"},{\"attributes\":{\"data_source\":{\"id\":\"a4129d46-deca-4b1f-b050-3505ab61ab45\",\"type\":\"ColumnDataSource\"},\"glyph\":{\"id\":\"1268dbc8-000f-4259-aae2-c45d24f9a702\",\"type\":\"Rect\"},\"hover_glyph\":null,\"nonselection_glyph\":null,\"selection_glyph\":null},\"id\":\"a2a242cf-ffdf-41da-aac6-e3d05c50e2e0\",\"type\":\"GlyphRenderer\"},{\"attributes\":{\"fill_alpha\":{\"field\":\"fill_alpha\"},\"fill_color\":{\"field\":\"color\"},\"height\":{\"field\":\"height\",\"units\":\"data\"},\"line_color\":{\"field\":\"line_color\"},\"width\":{\"field\":\"width\",\"units\":\"data\"},\"x\":{\"field\":\"x\"},\"y\":{\"field\":\"y\"}},\"id\":\"c96ea47e-9889-48e5-b422-9026cf1f5a77\",\"type\":\"Rect\"},{\"attributes\":{\"callback\":null,\"column_names\":[\"x\",\"label\",\"height\",\"color\",\"line_alpha\",\"line_color\",\"y\",\"width\",\"fill_alpha\"],\"data\":{\"chart_index\":[\"(44.755680, 45.687840]\"],\"color\":[\"#f22c40\"],\"fill_alpha\":[0.8],\"height\":[2878.0],\"label\":[\"(44.755680, 45.687840]\"],\"line_alpha\":[1.0],\"line_color\":[\"black\"],\"width\":[0.9321600000000032],\"x\":[\"45.22176\"],\"y\":[1439.0]}},\"id\":\"cc3a59c7-fab1-4f8a-971a-edae02d3021a\",\"type\":\"ColumnDataSource\"},{\"attributes\":{\"fill_alpha\":{\"field\":\"fill_alpha\"},\"fill_color\":{\"field\":\"color\"},\"height\":{\"field\":\"height\",\"units\":\"data\"},\"line_color\":{\"field\":\"line_color\"},\"width\":{\"field\":\"width\",\"units\":\"data\"},\"x\":{\"field\":\"x\"},\"y\":{\"field\":\"y\"}},\"id\":\"82aba4d2-1752-4559-8040-cbb445bba321\",\"type\":\"Rect\"},{\"attributes\":{\"data_source\":{\"id\":\"cc3a59c7-fab1-4f8a-971a-edae02d3021a\",\"type\":\"ColumnDataSource\"},\"glyph\":{\"id\":\"b7f21c35-5dc5-4b28-b4cf-9e2bb2a04818\",\"type\":\"Rect\"},\"hover_glyph\":null,\"nonselection_glyph\":null,\"selection_glyph\":null},\"id\":\"1d5d9bda-1efc-4e1f-90e7-76a2618a5dce\",\"type\":\"GlyphRenderer\"},{\"attributes\":{\"callback\":null,\"column_names\":[\"x\",\"label\",\"height\",\"color\",\"line_alpha\",\"line_color\",\"y\",\"width\",\"fill_alpha\"],\"data\":{\"chart_index\":[\"(27.044640, 27.976800]\"],\"color\":[\"#f22c40\"],\"fill_alpha\":[0.8],\"height\":[711.0],\"label\":[\"(27.044640, 27.976800]\"],\"line_alpha\":[1.0],\"line_color\":[\"black\"],\"width\":[0.9321599999999997],\"x\":[\"27.51072\"],\"y\":[355.5]}},\"id\":\"a2c09c9d-e8d2-4ca9-9901-153d86390fdb\",\"type\":\"ColumnDataSource\"},{\"attributes\":{\"fill_alpha\":{\"field\":\"fill_alpha\"},\"fill_color\":{\"field\":\"color\"},\"height\":{\"field\":\"height\",\"units\":\"data\"},\"line_color\":{\"field\":\"line_color\"},\"width\":{\"field\":\"width\",\"units\":\"data\"},\"x\":{\"field\":\"x\"},\"y\":{\"field\":\"y\"}},\"id\":\"cd7f946a-f290-4d99-81cc-af5f784af339\",\"type\":\"Rect\"},{\"attributes\":{\"callback\":null,\"column_names\":[\"x\",\"label\",\"height\",\"color\",\"line_alpha\",\"line_color\",\"y\",\"width\",\"fill_alpha\"],\"data\":{\"chart_index\":[\"(37.298400, 38.230560]\"],\"color\":[\"#f22c40\"],\"fill_alpha\":[0.8],\"height\":[41463.0],\"label\":[\"(37.298400, 38.230560]\"],\"line_alpha\":[1.0],\"line_color\":[\"black\"],\"width\":[0.9321599999999961],\"x\":[\"37.76448\"],\"y\":[20731.5]}},\"id\":\"f8a6d995-8119-42b8-85ae-cb54f495b6e5\",\"type\":\"ColumnDataSource\"},{\"attributes\":{\"fill_alpha\":{\"field\":\"fill_alpha\"},\"fill_color\":{\"field\":\"color\"},\"height\":{\"field\":\"height\",\"units\":\"data\"},\"line_color\":{\"field\":\"line_color\"},\"width\":{\"field\":\"width\",\"units\":\"data\"},\"x\":{\"field\":\"x\"},\"y\":{\"field\":\"y\"}},\"id\":\"b28d3f66-2f33-4977-a210-d1dece27d684\",\"type\":\"Rect\"},{\"attributes\":{\"callback\":null,\"column_names\":[\"x\",\"label\",\"height\",\"color\",\"line_alpha\",\"line_color\",\"y\",\"width\",\"fill_alpha\"],\"data\":{\"chart_index\":[\"(24.248160, 25.180320]\"],\"color\":[\"#f22c40\"],\"fill_alpha\":[0.8],\"height\":[1650.0],\"label\":[\"(24.248160, 25.180320]\"],\"line_alpha\":[1.0],\"line_color\":[\"black\"],\"width\":[0.9321600000000032],\"x\":[\"24.714239999999997\"],\"y\":[825.0]}},\"id\":\"f1584e31-3922-4715-9559-e9999941d3e4\",\"type\":\"ColumnDataSource\"},{\"attributes\":{\"data_source\":{\"id\":\"c25879fb-96de-4092-b3e9-29608888337e\",\"type\":\"ColumnDataSource\"},\"glyph\":{\"id\":\"b28d3f66-2f33-4977-a210-d1dece27d684\",\"type\":\"Rect\"},\"hover_glyph\":null,\"nonselection_glyph\":null,\"selection_glyph\":null},\"id\":\"4e1626b6-5b10-4a2c-a856-bbbac1e38ce3\",\"type\":\"GlyphRenderer\"},{\"attributes\":{\"bottom_units\":\"screen\",\"fill_alpha\":{\"value\":0.5},\"fill_color\":{\"value\":\"lightgrey\"},\"left_units\":\"screen\",\"level\":\"overlay\",\"line_alpha\":{\"value\":1.0},\"line_color\":{\"value\":\"black\"},\"line_dash\":[4,4],\"line_width\":{\"value\":2},\"plot\":null,\"render_mode\":\"css\",\"right_units\":\"screen\",\"top_units\":\"screen\"},\"id\":\"606b0016-02fb-4062-b343-c9016cc2eafc\",\"type\":\"BoxAnnotation\"},{\"attributes\":{\"callback\":null,\"column_names\":[\"x\",\"label\",\"height\",\"color\",\"line_alpha\",\"line_color\",\"y\",\"width\",\"fill_alpha\"],\"data\":{\"chart_index\":[\"(38.230560, 39.162720]\"],\"color\":[\"#f22c40\"],\"fill_alpha\":[0.8],\"height\":[57228.0],\"label\":[\"(38.230560, 39.162720]\"],\"line_alpha\":[1.0],\"line_color\":[\"black\"],\"width\":[0.9321600000000032],\"x\":[\"38.69664\"],\"y\":[28614.0]}},\"id\":\"20f7c056-5d56-4ad3-9b1b-b20ed23e0854\",\"type\":\"ColumnDataSource\"},{\"attributes\":{\"callback\":null,\"column_names\":[\"x\",\"label\",\"height\",\"color\",\"line_alpha\",\"line_color\",\"y\",\"width\",\"fill_alpha\"],\"data\":{\"chart_index\":[\"(20.519520, 21.451680]\"],\"color\":[\"#f22c40\"],\"fill_alpha\":[0.8],\"height\":[1676.0],\"label\":[\"(20.519520, 21.451680]\"],\"line_alpha\":[1.0],\"line_color\":[\"black\"],\"width\":[0.9321599999999997],\"x\":[\"20.985599999999998\"],\"y\":[838.0]}},\"id\":\"d1e62f30-f437-4b00-bbda-f26a6dbc6f0d\",\"type\":\"ColumnDataSource\"},{\"attributes\":{\"callback\":null,\"column_names\":[\"x\",\"label\",\"height\",\"color\",\"line_alpha\",\"line_color\",\"y\",\"width\",\"fill_alpha\"],\"data\":{\"chart_index\":[\"(6.537120, 7.469280]\"],\"color\":[\"#f22c40\"],\"fill_alpha\":[0.8],\"height\":[270.0],\"label\":[\"(6.537120, 7.469280]\"],\"line_alpha\":[1.0],\"line_color\":[\"black\"],\"width\":[0.9321599999999997],\"x\":[\"7.0032\"],\"y\":[135.0]}},\"id\":\"063b51f2-e5cf-4578-8697-177c301ef5a7\",\"type\":\"ColumnDataSource\"},{\"attributes\":{\"dimension\":1,\"plot\":{\"id\":\"7f8356ca-f55f-4790-9d2c-1fc6f16b73b8\",\"subtype\":\"Chart\",\"type\":\"Plot\"},\"ticker\":{\"id\":\"c87c13df-c8ba-40d3-b9f4-f1db6b3dc421\",\"type\":\"BasicTicker\"}},\"id\":\"2d22e946-f98e-4cc9-9671-41fe7487a95c\",\"type\":\"Grid\"},{\"attributes\":{\"data_source\":{\"id\":\"f7d7d256-3501-4f1a-822c-583edb5f1a87\",\"type\":\"ColumnDataSource\"},\"glyph\":{\"id\":\"7f380cb9-c9df-4fb5-9fd8-aa779979a75d\",\"type\":\"Rect\"},\"hover_glyph\":null,\"nonselection_glyph\":null,\"selection_glyph\":null},\"id\":\"28128eac-64da-4b65-bd9b-4d4d30bdc073\",\"type\":\"GlyphRenderer\"},{\"attributes\":{\"callback\":null,\"column_names\":[\"x\",\"label\",\"height\",\"color\",\"line_alpha\",\"line_color\",\"y\",\"width\",\"fill_alpha\"],\"data\":{\"chart_index\":[\"(35.434080, 36.366240]\"],\"color\":[\"#f22c40\"],\"fill_alpha\":[0.8],\"height\":[20393.0],\"label\":[\"(35.434080, 36.366240]\"],\"line_alpha\":[1.0],\"line_color\":[\"black\"],\"width\":[0.9321599999999961],\"x\":[\"35.90016\"],\"y\":[10196.5]}},\"id\":\"3ec7097d-2bde-4edc-95ed-5c6231fc01d6\",\"type\":\"ColumnDataSource\"},{\"attributes\":{\"callback\":null,\"column_names\":[\"x\",\"label\",\"height\",\"color\",\"line_alpha\",\"line_color\",\"y\",\"width\",\"fill_alpha\"],\"data\":{\"chart_index\":[\"(28.908960, 29.841120]\"],\"color\":[\"#f22c40\"],\"fill_alpha\":[0.8],\"height\":[902.0],\"label\":[\"(28.908960, 29.841120]\"],\"line_alpha\":[1.0],\"line_color\":[\"black\"],\"width\":[0.9321599999999997],\"x\":[\"29.37504\"],\"y\":[451.0]}},\"id\":\"12255626-4bc6-4b92-bd10-0618aa8be0ea\",\"type\":\"ColumnDataSource\"},{\"attributes\":{\"data_source\":{\"id\":\"c547a6d7-5c0c-496f-ad02-54bddf16f32d\",\"type\":\"ColumnDataSource\"},\"glyph\":{\"id\":\"845a7c56-8725-4e6b-9133-e5e9d6f964f9\",\"type\":\"Rect\"},\"hover_glyph\":null,\"nonselection_glyph\":null,\"selection_glyph\":null},\"id\":\"bf0c0176-05e0-47fc-a600-d4ad1f1ba1b2\",\"type\":\"GlyphRenderer\"},{\"attributes\":{\"fill_alpha\":{\"field\":\"fill_alpha\"},\"fill_color\":{\"field\":\"color\"},\"height\":{\"field\":\"height\",\"units\":\"data\"},\"line_color\":{\"field\":\"line_color\"},\"width\":{\"field\":\"width\",\"units\":\"data\"},\"x\":{\"field\":\"x\"},\"y\":{\"field\":\"y\"}},\"id\":\"11436e8f-4066-4f44-9a62-10d740bd10d0\",\"type\":\"Rect\"},{\"attributes\":{\"fill_alpha\":{\"field\":\"fill_alpha\"},\"fill_color\":{\"field\":\"color\"},\"height\":{\"field\":\"height\",\"units\":\"data\"},\"line_color\":{\"field\":\"line_color\"},\"width\":{\"field\":\"width\",\"units\":\"data\"},\"x\":{\"field\":\"x\"},\"y\":{\"field\":\"y\"}},\"id\":\"25fd7136-51e0-4faf-a67f-5dd34717b203\",\"type\":\"Rect\"},{\"attributes\":{\"fill_alpha\":{\"field\":\"fill_alpha\"},\"fill_color\":{\"field\":\"color\"},\"height\":{\"field\":\"height\",\"units\":\"data\"},\"line_color\":{\"field\":\"line_color\"},\"width\":{\"field\":\"width\",\"units\":\"data\"},\"x\":{\"field\":\"x\"},\"y\":{\"field\":\"y\"}},\"id\":\"77691af2-1ac0-414d-868e-9914cdcb8f22\",\"type\":\"Rect\"},{\"attributes\":{\"data_source\":{\"id\":\"d1e62f30-f437-4b00-bbda-f26a6dbc6f0d\",\"type\":\"ColumnDataSource\"},\"glyph\":{\"id\":\"8b987f39-3221-4f74-8a31-885bf2735427\",\"type\":\"Rect\"},\"hover_glyph\":null,\"nonselection_glyph\":null,\"selection_glyph\":null},\"id\":\"6646cc41-aa4b-4d3a-82ff-e59279917923\",\"type\":\"GlyphRenderer\"},{\"attributes\":{\"fill_alpha\":{\"field\":\"fill_alpha\"},\"fill_color\":{\"field\":\"color\"},\"height\":{\"field\":\"height\",\"units\":\"data\"},\"line_color\":{\"field\":\"line_color\"},\"width\":{\"field\":\"width\",\"units\":\"data\"},\"x\":{\"field\":\"x\"},\"y\":{\"field\":\"y\"}},\"id\":\"63de631f-f90f-4c67-b15d-8a23141b920a\",\"type\":\"Rect\"},{\"attributes\":{\"callback\":null,\"column_names\":[\"x\",\"label\",\"height\",\"color\",\"line_alpha\",\"line_color\",\"y\",\"width\",\"fill_alpha\"],\"data\":{\"chart_index\":[\"(3.740640, 4.672800]\"],\"color\":[\"#f22c40\"],\"fill_alpha\":[0.8],\"height\":[704.0],\"label\":[\"(3.740640, 4.672800]\"],\"line_alpha\":[1.0],\"line_color\":[\"black\"],\"width\":[0.9321599999999997],\"x\":[\"4.20672\"],\"y\":[352.0]}},\"id\":\"6c98c829-32e1-439b-bc90-d662b20d26e4\",\"type\":\"ColumnDataSource\"},{\"attributes\":{\"callback\":null,\"column_names\":[\"x\",\"label\",\"height\",\"color\",\"line_alpha\",\"line_color\",\"y\",\"width\",\"fill_alpha\"],\"data\":{\"chart_index\":[\"(9.333600, 10.265760]\"],\"color\":[\"#f22c40\"],\"fill_alpha\":[0.8],\"height\":[670.0],\"label\":[\"(9.333600, 10.265760]\"],\"line_alpha\":[1.0],\"line_color\":[\"black\"],\"width\":[0.9321599999999997],\"x\":[\"9.79968\"],\"y\":[335.0]}},\"id\":\"aaecb2e7-76fe-48c8-8526-3b6f8bec18e5\",\"type\":\"ColumnDataSource\"}],\"root_ids\":[\"7f8356ca-f55f-4790-9d2c-1fc6f16b73b8\"]},\"title\":\"Bokeh Application\",\"version\":\"0.12.4\"}};\n",
       "            var render_items = [{\"docid\":\"047e068c-7741-4982-818f-1ed445dc17b8\",\"elementid\":\"b0bb5230-dbda-4d38-8e54-cbc2e9a58aec\",\"modelid\":\"7f8356ca-f55f-4790-9d2c-1fc6f16b73b8\"}];\n",
       "            \n",
       "            Bokeh.embed.embed_items(docs_json, render_items);\n",
       "          };\n",
       "          if (document.readyState != \"loading\") fn();\n",
       "          else document.addEventListener(\"DOMContentLoaded\", fn);\n",
       "        })();\n",
       "      },\n",
       "      function(Bokeh) {\n",
       "      }\n",
       "    ];\n",
       "  \n",
       "    function run_inline_js() {\n",
       "      \n",
       "      if ((window.Bokeh !== undefined) || (force === true)) {\n",
       "        for (var i = 0; i < inline_js.length; i++) {\n",
       "          inline_js[i](window.Bokeh);\n",
       "        }if (force === true) {\n",
       "          display_loaded();\n",
       "        }} else if (Date.now() < window._bokeh_timeout) {\n",
       "        setTimeout(run_inline_js, 100);\n",
       "      } else if (!window._bokeh_failed_load) {\n",
       "        console.log(\"Bokeh: BokehJS failed to load within specified timeout.\");\n",
       "        window._bokeh_failed_load = true;\n",
       "      } else if (force !== true) {\n",
       "        var cell = $(document.getElementById(\"b0bb5230-dbda-4d38-8e54-cbc2e9a58aec\")).parents('.cell').data().cell;\n",
       "        cell.output_area.append_execute_result(NB_LOAD_WARNING)\n",
       "      }\n",
       "  \n",
       "    }\n",
       "  \n",
       "    if (window._bokeh_is_loading === 0) {\n",
       "      console.log(\"Bokeh: BokehJS loaded, going straight to plotting\");\n",
       "      run_inline_js();\n",
       "    } else {\n",
       "      load_libs(js_urls, function() {\n",
       "        console.log(\"Bokeh: BokehJS plotting callback run at\", now());\n",
       "        run_inline_js();\n",
       "      });\n",
       "    }\n",
       "  }(this));\n",
       "</script>"
      ]
     },
     "metadata": {},
     "output_type": "display_data"
    }
   ],
   "source": [
    "p = Histogram(merra2_tavg.drop_duplicates('Checksum')['Size']/1000, bins=50,\n",
    "             xlabel='Byte Stream Size (kilobytes)')\n",
    "show(p)"
   ]
  },
  {
   "cell_type": "code",
   "execution_count": 70,
   "metadata": {
    "collapsed": false
   },
   "outputs": [
    {
     "data": {
      "text/plain": [
       "count    413946.000000\n",
       "mean      37472.918538\n",
       "std        7710.131963\n",
       "min          12.000000\n",
       "25%       37175.000000\n",
       "50%       39163.000000\n",
       "75%       41451.000000\n",
       "max       46620.000000\n",
       "Name: Size, dtype: float64"
      ]
     },
     "execution_count": 70,
     "metadata": {},
     "output_type": "execute_result"
    }
   ],
   "source": [
    "merra2_tavg.drop_duplicates('Checksum')['Size'].describe()"
   ]
  },
  {
   "cell_type": "markdown",
   "metadata": {
    "collapsed": true
   },
   "source": [
    "### Datasets"
   ]
  },
  {
   "cell_type": "markdown",
   "metadata": {},
   "source": [
    "#### How many datasets per file?"
   ]
  },
  {
   "cell_type": "code",
   "execution_count": 71,
   "metadata": {
    "collapsed": true
   },
   "outputs": [],
   "source": [
    "grp = merra2_tavg.groupby('File')"
   ]
  },
  {
   "cell_type": "code",
   "execution_count": 72,
   "metadata": {
    "collapsed": false
   },
   "outputs": [
    {
     "data": {
      "text/plain": [
       "count    144.0\n",
       "mean     197.0\n",
       "std        0.0\n",
       "min      197.0\n",
       "25%      197.0\n",
       "50%      197.0\n",
       "75%      197.0\n",
       "max      197.0\n",
       "Name: Dataset, dtype: float64"
      ]
     },
     "execution_count": 72,
     "metadata": {},
     "output_type": "execute_result"
    }
   ],
   "source": [
    "grp.Dataset.unique().apply(lambda l: len(l)).describe()"
   ]
  },
  {
   "cell_type": "markdown",
   "metadata": {},
   "source": [
    "#### Is every dataset in every file chunked?"
   ]
  },
  {
   "cell_type": "code",
   "execution_count": 73,
   "metadata": {
    "collapsed": true
   },
   "outputs": [],
   "source": [
    "grp = merra2_tavg.groupby(['File', 'Dataset'])"
   ]
  },
  {
   "cell_type": "code",
   "execution_count": 74,
   "metadata": {
    "collapsed": false
   },
   "outputs": [
    {
     "data": {
      "text/plain": [
       "True"
      ]
     },
     "execution_count": 74,
     "metadata": {},
     "output_type": "execute_result"
    }
   ],
   "source": [
    "grp.Chunk_Flag.agg(all).all()"
   ]
  },
  {
   "cell_type": "markdown",
   "metadata": {},
   "source": [
    "#### How many byte streams per dataset?"
   ]
  },
  {
   "cell_type": "code",
   "execution_count": 75,
   "metadata": {
    "collapsed": false
   },
   "outputs": [
    {
     "data": {
      "text/plain": [
       "count    28368.000000\n",
       "mean        15.771574\n",
       "std          1.836937\n",
       "min          1.000000\n",
       "25%         16.000000\n",
       "50%         16.000000\n",
       "75%         16.000000\n",
       "max         16.000000\n",
       "Name: UUID, dtype: float64"
      ]
     },
     "execution_count": 75,
     "metadata": {},
     "output_type": "execute_result"
    }
   ],
   "source": [
    "grp.UUID.count().describe()"
   ]
  },
  {
   "cell_type": "code",
   "execution_count": 76,
   "metadata": {
    "collapsed": false
   },
   "outputs": [
    {
     "data": {
      "text/html": [
       "\n",
       "\n",
       "    <div class=\"bk-root\">\n",
       "        <div class=\"bk-plotdiv\" id=\"3e6836d3-cb18-41cd-b7d0-f4ae37c1b64e\"></div>\n",
       "    </div>\n",
       "<script type=\"text/javascript\">\n",
       "  \n",
       "  (function(global) {\n",
       "    function now() {\n",
       "      return new Date();\n",
       "    }\n",
       "  \n",
       "    var force = false;\n",
       "  \n",
       "    if (typeof (window._bokeh_onload_callbacks) === \"undefined\" || force === true) {\n",
       "      window._bokeh_onload_callbacks = [];\n",
       "      window._bokeh_is_loading = undefined;\n",
       "    }\n",
       "  \n",
       "  \n",
       "    \n",
       "    if (typeof (window._bokeh_timeout) === \"undefined\" || force === true) {\n",
       "      window._bokeh_timeout = Date.now() + 0;\n",
       "      window._bokeh_failed_load = false;\n",
       "    }\n",
       "  \n",
       "    var NB_LOAD_WARNING = {'data': {'text/html':\n",
       "       \"<div style='background-color: #fdd'>\\n\"+\n",
       "       \"<p>\\n\"+\n",
       "       \"BokehJS does not appear to have successfully loaded. If loading BokehJS from CDN, this \\n\"+\n",
       "       \"may be due to a slow or bad network connection. Possible fixes:\\n\"+\n",
       "       \"</p>\\n\"+\n",
       "       \"<ul>\\n\"+\n",
       "       \"<li>re-rerun `output_notebook()` to attempt to load from CDN again, or</li>\\n\"+\n",
       "       \"<li>use INLINE resources instead, as so:</li>\\n\"+\n",
       "       \"</ul>\\n\"+\n",
       "       \"<code>\\n\"+\n",
       "       \"from bokeh.resources import INLINE\\n\"+\n",
       "       \"output_notebook(resources=INLINE)\\n\"+\n",
       "       \"</code>\\n\"+\n",
       "       \"</div>\"}};\n",
       "  \n",
       "    function display_loaded() {\n",
       "      if (window.Bokeh !== undefined) {\n",
       "        document.getElementById(\"3e6836d3-cb18-41cd-b7d0-f4ae37c1b64e\").textContent = \"BokehJS successfully loaded.\";\n",
       "      } else if (Date.now() < window._bokeh_timeout) {\n",
       "        setTimeout(display_loaded, 100)\n",
       "      }\n",
       "    }\n",
       "  \n",
       "    function run_callbacks() {\n",
       "      window._bokeh_onload_callbacks.forEach(function(callback) { callback() });\n",
       "      delete window._bokeh_onload_callbacks\n",
       "      console.info(\"Bokeh: all callbacks have finished\");\n",
       "    }\n",
       "  \n",
       "    function load_libs(js_urls, callback) {\n",
       "      window._bokeh_onload_callbacks.push(callback);\n",
       "      if (window._bokeh_is_loading > 0) {\n",
       "        console.log(\"Bokeh: BokehJS is being loaded, scheduling callback at\", now());\n",
       "        return null;\n",
       "      }\n",
       "      if (js_urls == null || js_urls.length === 0) {\n",
       "        run_callbacks();\n",
       "        return null;\n",
       "      }\n",
       "      console.log(\"Bokeh: BokehJS not loaded, scheduling load and callback at\", now());\n",
       "      window._bokeh_is_loading = js_urls.length;\n",
       "      for (var i = 0; i < js_urls.length; i++) {\n",
       "        var url = js_urls[i];\n",
       "        var s = document.createElement('script');\n",
       "        s.src = url;\n",
       "        s.async = false;\n",
       "        s.onreadystatechange = s.onload = function() {\n",
       "          window._bokeh_is_loading--;\n",
       "          if (window._bokeh_is_loading === 0) {\n",
       "            console.log(\"Bokeh: all BokehJS libraries loaded\");\n",
       "            run_callbacks()\n",
       "          }\n",
       "        };\n",
       "        s.onerror = function() {\n",
       "          console.warn(\"failed to load library \" + url);\n",
       "        };\n",
       "        console.log(\"Bokeh: injecting script tag for BokehJS library: \", url);\n",
       "        document.getElementsByTagName(\"head\")[0].appendChild(s);\n",
       "      }\n",
       "    };var element = document.getElementById(\"3e6836d3-cb18-41cd-b7d0-f4ae37c1b64e\");\n",
       "    if (element == null) {\n",
       "      console.log(\"Bokeh: ERROR: autoload.js configured with elementid '3e6836d3-cb18-41cd-b7d0-f4ae37c1b64e' but no matching script tag was found. \")\n",
       "      return false;\n",
       "    }\n",
       "  \n",
       "    var js_urls = [];\n",
       "  \n",
       "    var inline_js = [\n",
       "      function(Bokeh) {\n",
       "        (function() {\n",
       "          var fn = function() {\n",
       "            var docs_json = {\"3586c78e-0680-4384-af27-2c981a63ae65\":{\"roots\":{\"references\":[{\"attributes\":{\"callback\":null,\"column_names\":[\"x\",\"label\",\"height\",\"color\",\"line_alpha\",\"line_color\",\"y\",\"width\",\"fill_alpha\"],\"data\":{\"chart_index\":[\"(11.500000, 12.500000]\"],\"color\":[\"#f22c40\"],\"fill_alpha\":[0.8],\"height\":[0.0],\"label\":[\"(11.500000, 12.500000]\"],\"line_alpha\":[1.0],\"line_color\":[\"black\"],\"width\":[1.0],\"x\":[\"12.0\"],\"y\":[0.0]}},\"id\":\"f105a35d-4c1c-4325-81c8-354334e42fe6\",\"type\":\"ColumnDataSource\"},{\"attributes\":{\"plot\":{\"id\":\"8ca6c9b7-6504-4944-b6c9-d356398f9260\",\"subtype\":\"Chart\",\"type\":\"Plot\"}},\"id\":\"4d8d7763-585f-4908-8932-5fd3a9bc6e58\",\"type\":\"HelpTool\"},{\"attributes\":{\"data_source\":{\"id\":\"f3cbe647-34af-45c7-bb0e-dcfae39fa0a5\",\"type\":\"ColumnDataSource\"},\"glyph\":{\"id\":\"3d1b66db-3120-47e7-8d50-23c8f28112ef\",\"type\":\"Rect\"},\"hover_glyph\":null,\"nonselection_glyph\":null,\"selection_glyph\":null},\"id\":\"8d96fe54-fdcc-4fa2-a553-ac448621f747\",\"type\":\"GlyphRenderer\"},{\"attributes\":{\"data_source\":{\"id\":\"58841753-ab89-4909-8e83-83936572cb78\",\"type\":\"ColumnDataSource\"},\"glyph\":{\"id\":\"e0a239f2-ede9-4c30-99ef-5b8289357b93\",\"type\":\"Rect\"},\"hover_glyph\":null,\"nonselection_glyph\":null,\"selection_glyph\":null},\"id\":\"5ed96df7-b234-4080-99b1-a61dc27fad87\",\"type\":\"GlyphRenderer\"},{\"attributes\":{\"callback\":null,\"column_names\":[\"x\",\"label\",\"height\",\"color\",\"line_alpha\",\"line_color\",\"y\",\"width\",\"fill_alpha\"],\"data\":{\"chart_index\":[\"(6.500000, 7.500000]\"],\"color\":[\"#f22c40\"],\"fill_alpha\":[0.8],\"height\":[0.0],\"label\":[\"(6.500000, 7.500000]\"],\"line_alpha\":[1.0],\"line_color\":[\"black\"],\"width\":[1.0],\"x\":[\"7.0\"],\"y\":[0.0]}},\"id\":\"91b562ed-d6c8-4301-9b18-79aa48b47db5\",\"type\":\"ColumnDataSource\"},{\"attributes\":{},\"id\":\"5bfa9ce4-2ed3-4eea-ad2f-f530528d1106\",\"type\":\"ToolEvents\"},{\"attributes\":{\"fill_alpha\":{\"field\":\"fill_alpha\"},\"fill_color\":{\"field\":\"color\"},\"height\":{\"field\":\"height\",\"units\":\"data\"},\"line_color\":{\"field\":\"line_color\"},\"width\":{\"field\":\"width\",\"units\":\"data\"},\"x\":{\"field\":\"x\"},\"y\":{\"field\":\"y\"}},\"id\":\"90159e52-db4e-4d5f-8eb3-f0c02818b320\",\"type\":\"Rect\"},{\"attributes\":{\"data_source\":{\"id\":\"f1f48a87-e8a4-470b-859a-b048f4f6b008\",\"type\":\"ColumnDataSource\"},\"glyph\":{\"id\":\"d915365e-1c10-4729-9ea5-95f5a4929747\",\"type\":\"Rect\"},\"hover_glyph\":null,\"nonselection_glyph\":null,\"selection_glyph\":null},\"id\":\"ec36d29b-36d7-4bfa-b94a-de602ca0c4f1\",\"type\":\"GlyphRenderer\"},{\"attributes\":{\"plot\":{\"id\":\"8ca6c9b7-6504-4944-b6c9-d356398f9260\",\"subtype\":\"Chart\",\"type\":\"Plot\"}},\"id\":\"8ffd4457-f8c5-4015-889e-7e3568361438\",\"type\":\"ResetTool\"},{\"attributes\":{\"fill_alpha\":{\"field\":\"fill_alpha\"},\"fill_color\":{\"field\":\"color\"},\"height\":{\"field\":\"height\",\"units\":\"data\"},\"line_color\":{\"field\":\"line_color\"},\"width\":{\"field\":\"width\",\"units\":\"data\"},\"x\":{\"field\":\"x\"},\"y\":{\"field\":\"y\"}},\"id\":\"8268798e-9825-43c0-92a0-eb80815338ee\",\"type\":\"Rect\"},{\"attributes\":{\"fill_alpha\":{\"field\":\"fill_alpha\"},\"fill_color\":{\"field\":\"color\"},\"height\":{\"field\":\"height\",\"units\":\"data\"},\"line_color\":{\"field\":\"line_color\"},\"width\":{\"field\":\"width\",\"units\":\"data\"},\"x\":{\"field\":\"x\"},\"y\":{\"field\":\"y\"}},\"id\":\"d915365e-1c10-4729-9ea5-95f5a4929747\",\"type\":\"Rect\"},{\"attributes\":{\"data_source\":{\"id\":\"2fbe3423-692f-4c11-848d-65aa6f0a602c\",\"type\":\"ColumnDataSource\"},\"glyph\":{\"id\":\"65054abd-47a4-4fc2-b8f1-a1a44dc08b23\",\"type\":\"Rect\"},\"hover_glyph\":null,\"nonselection_glyph\":null,\"selection_glyph\":null},\"id\":\"cf1ed2c5-5c3e-4998-9217-1b0ac975e4f1\",\"type\":\"GlyphRenderer\"},{\"attributes\":{\"callback\":null,\"column_names\":[\"x\",\"label\",\"height\",\"color\",\"line_alpha\",\"line_color\",\"y\",\"width\",\"fill_alpha\"],\"data\":{\"chart_index\":[\"(7.500000, 8.500000]\"],\"color\":[\"#f22c40\"],\"fill_alpha\":[0.8],\"height\":[0.0],\"label\":[\"(7.500000, 8.500000]\"],\"line_alpha\":[1.0],\"line_color\":[\"black\"],\"width\":[1.0],\"x\":[\"8.0\"],\"y\":[0.0]}},\"id\":\"4e6e05f6-86c8-4f08-ae01-dac5f9e09545\",\"type\":\"ColumnDataSource\"},{\"attributes\":{\"data_source\":{\"id\":\"abecb481-c3f2-422f-b48a-e90d83570857\",\"type\":\"ColumnDataSource\"},\"glyph\":{\"id\":\"844eca21-e274-49dd-87d6-524b8314053a\",\"type\":\"Rect\"},\"hover_glyph\":null,\"nonselection_glyph\":null,\"selection_glyph\":null},\"id\":\"eacf27a4-06ce-4c46-bc8b-ec4376986420\",\"type\":\"GlyphRenderer\"},{\"attributes\":{\"callback\":null,\"end\":30729.600000000002},\"id\":\"c9e04202-dcf2-4aba-8544-1db033a44950\",\"type\":\"Range1d\"},{\"attributes\":{\"axis_label\":\"Count(Dataset per File)\",\"formatter\":{\"id\":\"5312dd51-0e54-406b-8970-f37a82f61678\",\"type\":\"BasicTickFormatter\"},\"plot\":{\"id\":\"8ca6c9b7-6504-4944-b6c9-d356398f9260\",\"subtype\":\"Chart\",\"type\":\"Plot\"},\"ticker\":{\"id\":\"4c2db5d5-b043-4205-9b69-e39bfa1d623d\",\"type\":\"BasicTicker\"}},\"id\":\"c962122a-5f37-4153-9ee3-9c8e1570c811\",\"type\":\"LinearAxis\"},{\"attributes\":{\"dimension\":1,\"plot\":{\"id\":\"8ca6c9b7-6504-4944-b6c9-d356398f9260\",\"subtype\":\"Chart\",\"type\":\"Plot\"},\"ticker\":{\"id\":\"4c2db5d5-b043-4205-9b69-e39bfa1d623d\",\"type\":\"BasicTicker\"}},\"id\":\"3573fb9e-f605-4232-996c-28821a7d682e\",\"type\":\"Grid\"},{\"attributes\":{\"data_source\":{\"id\":\"91b562ed-d6c8-4301-9b18-79aa48b47db5\",\"type\":\"ColumnDataSource\"},\"glyph\":{\"id\":\"0399a452-4452-4cac-a4b8-4122620c6b13\",\"type\":\"Rect\"},\"hover_glyph\":null,\"nonselection_glyph\":null,\"selection_glyph\":null},\"id\":\"990c2958-d86d-4bf3-835a-694e707d519b\",\"type\":\"GlyphRenderer\"},{\"attributes\":{\"fill_alpha\":{\"field\":\"fill_alpha\"},\"fill_color\":{\"field\":\"color\"},\"height\":{\"field\":\"height\",\"units\":\"data\"},\"line_color\":{\"field\":\"line_color\"},\"width\":{\"field\":\"width\",\"units\":\"data\"},\"x\":{\"field\":\"x\"},\"y\":{\"field\":\"y\"}},\"id\":\"3d1b66db-3120-47e7-8d50-23c8f28112ef\",\"type\":\"Rect\"},{\"attributes\":{\"plot\":{\"id\":\"8ca6c9b7-6504-4944-b6c9-d356398f9260\",\"subtype\":\"Chart\",\"type\":\"Plot\"}},\"id\":\"0a4b92c2-192a-47d0-896e-7170a8d6877d\",\"type\":\"WheelZoomTool\"},{\"attributes\":{\"axis_label\":\"Number of byte streams per dataset\",\"formatter\":{\"id\":\"96682749-25d4-4e36-bbff-38b7a2c3c464\",\"type\":\"BasicTickFormatter\"},\"plot\":{\"id\":\"8ca6c9b7-6504-4944-b6c9-d356398f9260\",\"subtype\":\"Chart\",\"type\":\"Plot\"},\"ticker\":{\"id\":\"7b94102e-528e-44f2-a073-62c888c3e6b5\",\"type\":\"FixedTicker\"}},\"id\":\"4c2c4f68-4401-432a-a88b-9d1c8f51756a\",\"type\":\"LinearAxis\"},{\"attributes\":{\"fill_alpha\":{\"field\":\"fill_alpha\"},\"fill_color\":{\"field\":\"color\"},\"height\":{\"field\":\"height\",\"units\":\"data\"},\"line_color\":{\"field\":\"line_color\"},\"width\":{\"field\":\"width\",\"units\":\"data\"},\"x\":{\"field\":\"x\"},\"y\":{\"field\":\"y\"}},\"id\":\"eaa02712-b018-4f13-b0e9-c7996d8a4218\",\"type\":\"Rect\"},{\"attributes\":{\"callback\":null,\"column_names\":[\"x\",\"label\",\"height\",\"color\",\"line_alpha\",\"line_color\",\"y\",\"width\",\"fill_alpha\"],\"data\":{\"chart_index\":[\"(14.500000, 15.500000]\"],\"color\":[\"#f22c40\"],\"fill_alpha\":[0.8],\"height\":[0.0],\"label\":[\"(14.500000, 15.500000]\"],\"line_alpha\":[1.0],\"line_color\":[\"black\"],\"width\":[1.0],\"x\":[\"15.0\"],\"y\":[0.0]}},\"id\":\"3381924b-0997-4c38-8bd1-7b6e9fd96312\",\"type\":\"ColumnDataSource\"},{\"attributes\":{\"location\":\"top_left\",\"plot\":{\"id\":\"8ca6c9b7-6504-4944-b6c9-d356398f9260\",\"subtype\":\"Chart\",\"type\":\"Plot\"}},\"id\":\"3835d479-87e1-4759-8435-2fac1f0b316d\",\"type\":\"Legend\"},{\"attributes\":{\"fill_alpha\":{\"field\":\"fill_alpha\"},\"fill_color\":{\"field\":\"color\"},\"height\":{\"field\":\"height\",\"units\":\"data\"},\"line_color\":{\"field\":\"line_color\"},\"width\":{\"field\":\"width\",\"units\":\"data\"},\"x\":{\"field\":\"x\"},\"y\":{\"field\":\"y\"}},\"id\":\"710dca2a-686b-4a39-93d7-8ac63d6e5fae\",\"type\":\"Rect\"},{\"attributes\":{\"data_source\":{\"id\":\"f6b99c95-62dc-41bc-9810-bb462ee519ef\",\"type\":\"ColumnDataSource\"},\"glyph\":{\"id\":\"710dca2a-686b-4a39-93d7-8ac63d6e5fae\",\"type\":\"Rect\"},\"hover_glyph\":null,\"nonselection_glyph\":null,\"selection_glyph\":null},\"id\":\"bd94a6f6-70a2-480c-8eab-e0000f87d50b\",\"type\":\"GlyphRenderer\"},{\"attributes\":{\"fill_alpha\":{\"field\":\"fill_alpha\"},\"fill_color\":{\"field\":\"color\"},\"height\":{\"field\":\"height\",\"units\":\"data\"},\"line_color\":{\"field\":\"line_color\"},\"width\":{\"field\":\"width\",\"units\":\"data\"},\"x\":{\"field\":\"x\"},\"y\":{\"field\":\"y\"}},\"id\":\"0399a452-4452-4cac-a4b8-4122620c6b13\",\"type\":\"Rect\"},{\"attributes\":{\"data_source\":{\"id\":\"f105a35d-4c1c-4325-81c8-354334e42fe6\",\"type\":\"ColumnDataSource\"},\"glyph\":{\"id\":\"90159e52-db4e-4d5f-8eb3-f0c02818b320\",\"type\":\"Rect\"},\"hover_glyph\":null,\"nonselection_glyph\":null,\"selection_glyph\":null},\"id\":\"b8dff515-5167-4a0b-abe2-59b6471ec6b9\",\"type\":\"GlyphRenderer\"},{\"attributes\":{\"data_source\":{\"id\":\"97d45802-b039-4290-9542-e64a9590afe4\",\"type\":\"ColumnDataSource\"},\"glyph\":{\"id\":\"a5f473bc-dee8-4dc3-a976-f9efcefa3642\",\"type\":\"Rect\"},\"hover_glyph\":null,\"nonselection_glyph\":null,\"selection_glyph\":null},\"id\":\"50d85099-87d0-415a-8717-9dea48828cea\",\"type\":\"GlyphRenderer\"},{\"attributes\":{},\"id\":\"96682749-25d4-4e36-bbff-38b7a2c3c464\",\"type\":\"BasicTickFormatter\"},{\"attributes\":{\"below\":[{\"id\":\"4c2c4f68-4401-432a-a88b-9d1c8f51756a\",\"type\":\"LinearAxis\"}],\"css_classes\":null,\"left\":[{\"id\":\"c962122a-5f37-4153-9ee3-9c8e1570c811\",\"type\":\"LinearAxis\"}],\"renderers\":[{\"id\":\"d74cef2d-9817-4de1-bc50-44b62c22bcdd\",\"type\":\"BoxAnnotation\"},{\"id\":\"ec36d29b-36d7-4bfa-b94a-de602ca0c4f1\",\"type\":\"GlyphRenderer\"},{\"id\":\"5ed96df7-b234-4080-99b1-a61dc27fad87\",\"type\":\"GlyphRenderer\"},{\"id\":\"50d85099-87d0-415a-8717-9dea48828cea\",\"type\":\"GlyphRenderer\"},{\"id\":\"0260df9f-f585-4672-b537-2339ae035155\",\"type\":\"GlyphRenderer\"},{\"id\":\"815721db-e86d-4c14-957a-82e81477939f\",\"type\":\"GlyphRenderer\"},{\"id\":\"bd94a6f6-70a2-480c-8eab-e0000f87d50b\",\"type\":\"GlyphRenderer\"},{\"id\":\"990c2958-d86d-4bf3-835a-694e707d519b\",\"type\":\"GlyphRenderer\"},{\"id\":\"94abaf27-81dd-4d69-ad25-5a782528e9c9\",\"type\":\"GlyphRenderer\"},{\"id\":\"eacf27a4-06ce-4c46-bc8b-ec4376986420\",\"type\":\"GlyphRenderer\"},{\"id\":\"f0075325-6ac4-4420-b693-763e4b4f7453\",\"type\":\"GlyphRenderer\"},{\"id\":\"4bafe398-a417-4833-bd45-9acadeb8d812\",\"type\":\"GlyphRenderer\"},{\"id\":\"b8dff515-5167-4a0b-abe2-59b6471ec6b9\",\"type\":\"GlyphRenderer\"},{\"id\":\"2849fc75-8cc2-40e7-a2f9-8d0692fb34df\",\"type\":\"GlyphRenderer\"},{\"id\":\"cf1ed2c5-5c3e-4998-9217-1b0ac975e4f1\",\"type\":\"GlyphRenderer\"},{\"id\":\"811f4e2e-d952-4932-acae-d65bd1dc3b0f\",\"type\":\"GlyphRenderer\"},{\"id\":\"8d96fe54-fdcc-4fa2-a553-ac448621f747\",\"type\":\"GlyphRenderer\"},{\"id\":\"3835d479-87e1-4759-8435-2fac1f0b316d\",\"type\":\"Legend\"},{\"id\":\"4c2c4f68-4401-432a-a88b-9d1c8f51756a\",\"type\":\"LinearAxis\"},{\"id\":\"c962122a-5f37-4153-9ee3-9c8e1570c811\",\"type\":\"LinearAxis\"},{\"id\":\"3573fb9e-f605-4232-996c-28821a7d682e\",\"type\":\"Grid\"}],\"title\":{\"id\":\"1ae77457-53e1-457f-b20b-634ba34c6e80\",\"type\":\"Title\"},\"tool_events\":{\"id\":\"5bfa9ce4-2ed3-4eea-ad2f-f530528d1106\",\"type\":\"ToolEvents\"},\"toolbar\":{\"id\":\"0c380fcf-ffdd-4d01-8bb7-0df7783827ef\",\"type\":\"Toolbar\"},\"x_mapper_type\":\"auto\",\"x_range\":{\"id\":\"24cc68d2-5bdb-4ff2-b712-0e1652e7d546\",\"type\":\"Range1d\"},\"y_mapper_type\":\"auto\",\"y_range\":{\"id\":\"c9e04202-dcf2-4aba-8544-1db033a44950\",\"type\":\"Range1d\"}},\"id\":\"8ca6c9b7-6504-4944-b6c9-d356398f9260\",\"subtype\":\"Chart\",\"type\":\"Plot\"},{\"attributes\":{},\"id\":\"5312dd51-0e54-406b-8970-f37a82f61678\",\"type\":\"BasicTickFormatter\"},{\"attributes\":{\"fill_alpha\":{\"field\":\"fill_alpha\"},\"fill_color\":{\"field\":\"color\"},\"height\":{\"field\":\"height\",\"units\":\"data\"},\"line_color\":{\"field\":\"line_color\"},\"width\":{\"field\":\"width\",\"units\":\"data\"},\"x\":{\"field\":\"x\"},\"y\":{\"field\":\"y\"}},\"id\":\"a5f473bc-dee8-4dc3-a976-f9efcefa3642\",\"type\":\"Rect\"},{\"attributes\":{\"plot\":{\"id\":\"8ca6c9b7-6504-4944-b6c9-d356398f9260\",\"subtype\":\"Chart\",\"type\":\"Plot\"}},\"id\":\"b0e64f5c-b2e9-4fee-ad08-cf56017ff6bf\",\"type\":\"SaveTool\"},{\"attributes\":{\"fill_alpha\":{\"field\":\"fill_alpha\"},\"fill_color\":{\"field\":\"color\"},\"height\":{\"field\":\"height\",\"units\":\"data\"},\"line_color\":{\"field\":\"line_color\"},\"width\":{\"field\":\"width\",\"units\":\"data\"},\"x\":{\"field\":\"x\"},\"y\":{\"field\":\"y\"}},\"id\":\"78ade5df-91a2-42c5-87ad-630de481314a\",\"type\":\"Rect\"},{\"attributes\":{\"fill_alpha\":{\"field\":\"fill_alpha\"},\"fill_color\":{\"field\":\"color\"},\"height\":{\"field\":\"height\",\"units\":\"data\"},\"line_color\":{\"field\":\"line_color\"},\"width\":{\"field\":\"width\",\"units\":\"data\"},\"x\":{\"field\":\"x\"},\"y\":{\"field\":\"y\"}},\"id\":\"86b1645f-df72-4612-a879-a9723e15ee16\",\"type\":\"Rect\"},{\"attributes\":{\"data_source\":{\"id\":\"3381924b-0997-4c38-8bd1-7b6e9fd96312\",\"type\":\"ColumnDataSource\"},\"glyph\":{\"id\":\"86b1645f-df72-4612-a879-a9723e15ee16\",\"type\":\"Rect\"},\"hover_glyph\":null,\"nonselection_glyph\":null,\"selection_glyph\":null},\"id\":\"811f4e2e-d952-4932-acae-d65bd1dc3b0f\",\"type\":\"GlyphRenderer\"},{\"attributes\":{\"data_source\":{\"id\":\"bde7d3be-6dde-4336-beee-fe2a07c604c9\",\"type\":\"ColumnDataSource\"},\"glyph\":{\"id\":\"7cb306a8-db0c-44cd-ab9c-2defefe929e4\",\"type\":\"Rect\"},\"hover_glyph\":null,\"nonselection_glyph\":null,\"selection_glyph\":null},\"id\":\"2849fc75-8cc2-40e7-a2f9-8d0692fb34df\",\"type\":\"GlyphRenderer\"},{\"attributes\":{\"callback\":null,\"column_names\":[\"x\",\"label\",\"height\",\"color\",\"line_alpha\",\"line_color\",\"y\",\"width\",\"fill_alpha\"],\"data\":{\"chart_index\":[\"(12.500000, 13.500000]\"],\"color\":[\"#f22c40\"],\"fill_alpha\":[0.8],\"height\":[0.0],\"label\":[\"(12.500000, 13.500000]\"],\"line_alpha\":[1.0],\"line_color\":[\"black\"],\"width\":[1.0],\"x\":[\"13.0\"],\"y\":[0.0]}},\"id\":\"bde7d3be-6dde-4336-beee-fe2a07c604c9\",\"type\":\"ColumnDataSource\"},{\"attributes\":{\"callback\":null,\"column_names\":[\"x\",\"label\",\"height\",\"color\",\"line_alpha\",\"line_color\",\"y\",\"width\",\"fill_alpha\"],\"data\":{\"chart_index\":[\"(5.500000, 6.500000]\"],\"color\":[\"#f22c40\"],\"fill_alpha\":[0.8],\"height\":[0.0],\"label\":[\"(5.500000, 6.500000]\"],\"line_alpha\":[1.0],\"line_color\":[\"black\"],\"width\":[1.0],\"x\":[\"6.0\"],\"y\":[0.0]}},\"id\":\"f6b99c95-62dc-41bc-9810-bb462ee519ef\",\"type\":\"ColumnDataSource\"},{\"attributes\":{\"bottom_units\":\"screen\",\"fill_alpha\":{\"value\":0.5},\"fill_color\":{\"value\":\"lightgrey\"},\"left_units\":\"screen\",\"level\":\"overlay\",\"line_alpha\":{\"value\":1.0},\"line_color\":{\"value\":\"black\"},\"line_dash\":[4,4],\"line_width\":{\"value\":2},\"plot\":null,\"render_mode\":\"css\",\"right_units\":\"screen\",\"top_units\":\"screen\"},\"id\":\"d74cef2d-9817-4de1-bc50-44b62c22bcdd\",\"type\":\"BoxAnnotation\"},{\"attributes\":{\"callback\":null,\"column_names\":[\"x\",\"label\",\"height\",\"color\",\"line_alpha\",\"line_color\",\"y\",\"width\",\"fill_alpha\"],\"data\":{\"chart_index\":[\"(1.500000, 2.500000]\"],\"color\":[\"#f22c40\"],\"fill_alpha\":[0.8],\"height\":[0.0],\"label\":[\"(1.500000, 2.500000]\"],\"line_alpha\":[1.0],\"line_color\":[\"black\"],\"width\":[1.0],\"x\":[\"2.0\"],\"y\":[0.0]}},\"id\":\"58841753-ab89-4909-8e83-83936572cb78\",\"type\":\"ColumnDataSource\"},{\"attributes\":{\"fill_alpha\":{\"field\":\"fill_alpha\"},\"fill_color\":{\"field\":\"color\"},\"height\":{\"field\":\"height\",\"units\":\"data\"},\"line_color\":{\"field\":\"line_color\"},\"width\":{\"field\":\"width\",\"units\":\"data\"},\"x\":{\"field\":\"x\"},\"y\":{\"field\":\"y\"}},\"id\":\"844eca21-e274-49dd-87d6-524b8314053a\",\"type\":\"Rect\"},{\"attributes\":{\"callback\":null,\"column_names\":[\"x\",\"label\",\"height\",\"color\",\"line_alpha\",\"line_color\",\"y\",\"width\",\"fill_alpha\"],\"data\":{\"chart_index\":[\"(3.500000, 4.500000]\"],\"color\":[\"#f22c40\"],\"fill_alpha\":[0.8],\"height\":[0.0],\"label\":[\"(3.500000, 4.500000]\"],\"line_alpha\":[1.0],\"line_color\":[\"black\"],\"width\":[1.0],\"x\":[\"4.0\"],\"y\":[0.0]}},\"id\":\"674915bd-ab10-4670-9e3d-0e1565631ae1\",\"type\":\"ColumnDataSource\"},{\"attributes\":{\"data_source\":{\"id\":\"4e6e05f6-86c8-4f08-ae01-dac5f9e09545\",\"type\":\"ColumnDataSource\"},\"glyph\":{\"id\":\"eaa02712-b018-4f13-b0e9-c7996d8a4218\",\"type\":\"Rect\"},\"hover_glyph\":null,\"nonselection_glyph\":null,\"selection_glyph\":null},\"id\":\"94abaf27-81dd-4d69-ad25-5a782528e9c9\",\"type\":\"GlyphRenderer\"},{\"attributes\":{\"fill_alpha\":{\"field\":\"fill_alpha\"},\"fill_color\":{\"field\":\"color\"},\"height\":{\"field\":\"height\",\"units\":\"data\"},\"line_color\":{\"field\":\"line_color\"},\"width\":{\"field\":\"width\",\"units\":\"data\"},\"x\":{\"field\":\"x\"},\"y\":{\"field\":\"y\"}},\"id\":\"9e67e970-6909-4738-b3d0-8f8439b84c90\",\"type\":\"Rect\"},{\"attributes\":{\"callback\":null,\"column_names\":[\"x\",\"label\",\"height\",\"color\",\"line_alpha\",\"line_color\",\"y\",\"width\",\"fill_alpha\"],\"data\":{\"chart_index\":[\"(8.500000, 9.500000]\"],\"color\":[\"#f22c40\"],\"fill_alpha\":[0.8],\"height\":[0.0],\"label\":[\"(8.500000, 9.500000]\"],\"line_alpha\":[1.0],\"line_color\":[\"black\"],\"width\":[1.0],\"x\":[\"9.0\"],\"y\":[0.0]}},\"id\":\"abecb481-c3f2-422f-b48a-e90d83570857\",\"type\":\"ColumnDataSource\"},{\"attributes\":{\"overlay\":{\"id\":\"d74cef2d-9817-4de1-bc50-44b62c22bcdd\",\"type\":\"BoxAnnotation\"},\"plot\":{\"id\":\"8ca6c9b7-6504-4944-b6c9-d356398f9260\",\"subtype\":\"Chart\",\"type\":\"Plot\"}},\"id\":\"7e0008aa-36e2-47f4-a4ca-e52c72ac3f72\",\"type\":\"BoxZoomTool\"},{\"attributes\":{\"callback\":null,\"column_names\":[\"x\",\"label\",\"height\",\"color\",\"line_alpha\",\"line_color\",\"y\",\"width\",\"fill_alpha\"],\"data\":{\"chart_index\":[\"(10.500000, 11.500000]\"],\"color\":[\"#f22c40\"],\"fill_alpha\":[0.8],\"height\":[0.0],\"label\":[\"(10.500000, 11.500000]\"],\"line_alpha\":[1.0],\"line_color\":[\"black\"],\"width\":[1.0],\"x\":[\"11.0\"],\"y\":[0.0]}},\"id\":\"f71d544f-e449-41dd-aaf5-8614d510a52a\",\"type\":\"ColumnDataSource\"},{\"attributes\":{\"data_source\":{\"id\":\"c3c10f09-8d51-4688-9931-18d548f076f1\",\"type\":\"ColumnDataSource\"},\"glyph\":{\"id\":\"8268798e-9825-43c0-92a0-eb80815338ee\",\"type\":\"Rect\"},\"hover_glyph\":null,\"nonselection_glyph\":null,\"selection_glyph\":null},\"id\":\"f0075325-6ac4-4420-b693-763e4b4f7453\",\"type\":\"GlyphRenderer\"},{\"attributes\":{\"data_source\":{\"id\":\"674915bd-ab10-4670-9e3d-0e1565631ae1\",\"type\":\"ColumnDataSource\"},\"glyph\":{\"id\":\"ca9c7f73-6233-45e0-9527-c98c09e49014\",\"type\":\"Rect\"},\"hover_glyph\":null,\"nonselection_glyph\":null,\"selection_glyph\":null},\"id\":\"0260df9f-f585-4672-b537-2339ae035155\",\"type\":\"GlyphRenderer\"},{\"attributes\":{\"data_source\":{\"id\":\"f71d544f-e449-41dd-aaf5-8614d510a52a\",\"type\":\"ColumnDataSource\"},\"glyph\":{\"id\":\"78ade5df-91a2-42c5-87ad-630de481314a\",\"type\":\"Rect\"},\"hover_glyph\":null,\"nonselection_glyph\":null,\"selection_glyph\":null},\"id\":\"4bafe398-a417-4833-bd45-9acadeb8d812\",\"type\":\"GlyphRenderer\"},{\"attributes\":{\"callback\":null,\"column_names\":[\"x\",\"label\",\"height\",\"color\",\"line_alpha\",\"line_color\",\"y\",\"width\",\"fill_alpha\"],\"data\":{\"chart_index\":[\"[0.500000, 1.500000]\"],\"color\":[\"#f22c40\"],\"fill_alpha\":[0.8],\"height\":[432.0],\"label\":[\"[0.500000, 1.500000]\"],\"line_alpha\":[1.0],\"line_color\":[\"black\"],\"width\":[1.0],\"x\":[\"1.0\"],\"y\":[216.0]}},\"id\":\"f1f48a87-e8a4-470b-859a-b048f4f6b008\",\"type\":\"ColumnDataSource\"},{\"attributes\":{\"fill_alpha\":{\"field\":\"fill_alpha\"},\"fill_color\":{\"field\":\"color\"},\"height\":{\"field\":\"height\",\"units\":\"data\"},\"line_color\":{\"field\":\"line_color\"},\"width\":{\"field\":\"width\",\"units\":\"data\"},\"x\":{\"field\":\"x\"},\"y\":{\"field\":\"y\"}},\"id\":\"7cb306a8-db0c-44cd-ab9c-2defefe929e4\",\"type\":\"Rect\"},{\"attributes\":{\"callback\":null,\"column_names\":[\"x\",\"label\",\"height\",\"color\",\"line_alpha\",\"line_color\",\"y\",\"width\",\"fill_alpha\"],\"data\":{\"chart_index\":[\"(15.500000, 16.500000]\"],\"color\":[\"#f22c40\"],\"fill_alpha\":[0.8],\"height\":[27936.0],\"label\":[\"(15.500000, 16.500000]\"],\"line_alpha\":[1.0],\"line_color\":[\"black\"],\"width\":[1.0],\"x\":[\"16.0\"],\"y\":[13968.0]}},\"id\":\"f3cbe647-34af-45c7-bb0e-dcfae39fa0a5\",\"type\":\"ColumnDataSource\"},{\"attributes\":{\"callback\":null,\"end\":16.925,\"start\":0.07499999999999996},\"id\":\"24cc68d2-5bdb-4ff2-b712-0e1652e7d546\",\"type\":\"Range1d\"},{\"attributes\":{\"fill_alpha\":{\"field\":\"fill_alpha\"},\"fill_color\":{\"field\":\"color\"},\"height\":{\"field\":\"height\",\"units\":\"data\"},\"line_color\":{\"field\":\"line_color\"},\"width\":{\"field\":\"width\",\"units\":\"data\"},\"x\":{\"field\":\"x\"},\"y\":{\"field\":\"y\"}},\"id\":\"e0a239f2-ede9-4c30-99ef-5b8289357b93\",\"type\":\"Rect\"},{\"attributes\":{\"ticks\":[0,1,2,3,4,5,6,7,8,9,10,11,12,13,14,15,16]},\"id\":\"7b94102e-528e-44f2-a073-62c888c3e6b5\",\"type\":\"FixedTicker\"},{\"attributes\":{},\"id\":\"4c2db5d5-b043-4205-9b69-e39bfa1d623d\",\"type\":\"BasicTicker\"},{\"attributes\":{\"callback\":null,\"column_names\":[\"x\",\"label\",\"height\",\"color\",\"line_alpha\",\"line_color\",\"y\",\"width\",\"fill_alpha\"],\"data\":{\"chart_index\":[\"(4.500000, 5.500000]\"],\"color\":[\"#f22c40\"],\"fill_alpha\":[0.8],\"height\":[0.0],\"label\":[\"(4.500000, 5.500000]\"],\"line_alpha\":[1.0],\"line_color\":[\"black\"],\"width\":[1.0],\"x\":[\"5.0\"],\"y\":[0.0]}},\"id\":\"03a16026-9802-4942-a1f1-e1d43a48c894\",\"type\":\"ColumnDataSource\"},{\"attributes\":{\"fill_alpha\":{\"field\":\"fill_alpha\"},\"fill_color\":{\"field\":\"color\"},\"height\":{\"field\":\"height\",\"units\":\"data\"},\"line_color\":{\"field\":\"line_color\"},\"width\":{\"field\":\"width\",\"units\":\"data\"},\"x\":{\"field\":\"x\"},\"y\":{\"field\":\"y\"}},\"id\":\"ca9c7f73-6233-45e0-9527-c98c09e49014\",\"type\":\"Rect\"},{\"attributes\":{\"fill_alpha\":{\"field\":\"fill_alpha\"},\"fill_color\":{\"field\":\"color\"},\"height\":{\"field\":\"height\",\"units\":\"data\"},\"line_color\":{\"field\":\"line_color\"},\"width\":{\"field\":\"width\",\"units\":\"data\"},\"x\":{\"field\":\"x\"},\"y\":{\"field\":\"y\"}},\"id\":\"65054abd-47a4-4fc2-b8f1-a1a44dc08b23\",\"type\":\"Rect\"},{\"attributes\":{\"plot\":{\"id\":\"8ca6c9b7-6504-4944-b6c9-d356398f9260\",\"subtype\":\"Chart\",\"type\":\"Plot\"}},\"id\":\"cbb16981-7f22-4259-a61d-b3c8fabecc61\",\"type\":\"PanTool\"},{\"attributes\":{\"plot\":null,\"text\":null},\"id\":\"1ae77457-53e1-457f-b20b-634ba34c6e80\",\"type\":\"Title\"},{\"attributes\":{\"callback\":null,\"column_names\":[\"x\",\"label\",\"height\",\"color\",\"line_alpha\",\"line_color\",\"y\",\"width\",\"fill_alpha\"],\"data\":{\"chart_index\":[\"(2.500000, 3.500000]\"],\"color\":[\"#f22c40\"],\"fill_alpha\":[0.8],\"height\":[0.0],\"label\":[\"(2.500000, 3.500000]\"],\"line_alpha\":[1.0],\"line_color\":[\"black\"],\"width\":[1.0],\"x\":[\"3.0\"],\"y\":[0.0]}},\"id\":\"97d45802-b039-4290-9542-e64a9590afe4\",\"type\":\"ColumnDataSource\"},{\"attributes\":{\"callback\":null,\"column_names\":[\"x\",\"label\",\"height\",\"color\",\"line_alpha\",\"line_color\",\"y\",\"width\",\"fill_alpha\"],\"data\":{\"chart_index\":[\"(13.500000, 14.500000]\"],\"color\":[\"#f22c40\"],\"fill_alpha\":[0.8],\"height\":[0.0],\"label\":[\"(13.500000, 14.500000]\"],\"line_alpha\":[1.0],\"line_color\":[\"black\"],\"width\":[1.0],\"x\":[\"14.0\"],\"y\":[0.0]}},\"id\":\"2fbe3423-692f-4c11-848d-65aa6f0a602c\",\"type\":\"ColumnDataSource\"},{\"attributes\":{\"data_source\":{\"id\":\"03a16026-9802-4942-a1f1-e1d43a48c894\",\"type\":\"ColumnDataSource\"},\"glyph\":{\"id\":\"9e67e970-6909-4738-b3d0-8f8439b84c90\",\"type\":\"Rect\"},\"hover_glyph\":null,\"nonselection_glyph\":null,\"selection_glyph\":null},\"id\":\"815721db-e86d-4c14-957a-82e81477939f\",\"type\":\"GlyphRenderer\"},{\"attributes\":{\"active_drag\":\"auto\",\"active_scroll\":\"auto\",\"active_tap\":\"auto\",\"tools\":[{\"id\":\"cbb16981-7f22-4259-a61d-b3c8fabecc61\",\"type\":\"PanTool\"},{\"id\":\"0a4b92c2-192a-47d0-896e-7170a8d6877d\",\"type\":\"WheelZoomTool\"},{\"id\":\"7e0008aa-36e2-47f4-a4ca-e52c72ac3f72\",\"type\":\"BoxZoomTool\"},{\"id\":\"b0e64f5c-b2e9-4fee-ad08-cf56017ff6bf\",\"type\":\"SaveTool\"},{\"id\":\"8ffd4457-f8c5-4015-889e-7e3568361438\",\"type\":\"ResetTool\"},{\"id\":\"4d8d7763-585f-4908-8932-5fd3a9bc6e58\",\"type\":\"HelpTool\"}]},\"id\":\"0c380fcf-ffdd-4d01-8bb7-0df7783827ef\",\"type\":\"Toolbar\"},{\"attributes\":{\"callback\":null,\"column_names\":[\"x\",\"label\",\"height\",\"color\",\"line_alpha\",\"line_color\",\"y\",\"width\",\"fill_alpha\"],\"data\":{\"chart_index\":[\"(9.500000, 10.500000]\"],\"color\":[\"#f22c40\"],\"fill_alpha\":[0.8],\"height\":[0.0],\"label\":[\"(9.500000, 10.500000]\"],\"line_alpha\":[1.0],\"line_color\":[\"black\"],\"width\":[1.0],\"x\":[\"10.0\"],\"y\":[0.0]}},\"id\":\"c3c10f09-8d51-4688-9931-18d548f076f1\",\"type\":\"ColumnDataSource\"}],\"root_ids\":[\"8ca6c9b7-6504-4944-b6c9-d356398f9260\"]},\"title\":\"Bokeh Application\",\"version\":\"0.12.4\"}};\n",
       "            var render_items = [{\"docid\":\"3586c78e-0680-4384-af27-2c981a63ae65\",\"elementid\":\"3e6836d3-cb18-41cd-b7d0-f4ae37c1b64e\",\"modelid\":\"8ca6c9b7-6504-4944-b6c9-d356398f9260\"}];\n",
       "            \n",
       "            Bokeh.embed.embed_items(docs_json, render_items);\n",
       "          };\n",
       "          if (document.readyState != \"loading\") fn();\n",
       "          else document.addEventListener(\"DOMContentLoaded\", fn);\n",
       "        })();\n",
       "      },\n",
       "      function(Bokeh) {\n",
       "      }\n",
       "    ];\n",
       "  \n",
       "    function run_inline_js() {\n",
       "      \n",
       "      if ((window.Bokeh !== undefined) || (force === true)) {\n",
       "        for (var i = 0; i < inline_js.length; i++) {\n",
       "          inline_js[i](window.Bokeh);\n",
       "        }if (force === true) {\n",
       "          display_loaded();\n",
       "        }} else if (Date.now() < window._bokeh_timeout) {\n",
       "        setTimeout(run_inline_js, 100);\n",
       "      } else if (!window._bokeh_failed_load) {\n",
       "        console.log(\"Bokeh: BokehJS failed to load within specified timeout.\");\n",
       "        window._bokeh_failed_load = true;\n",
       "      } else if (force !== true) {\n",
       "        var cell = $(document.getElementById(\"3e6836d3-cb18-41cd-b7d0-f4ae37c1b64e\")).parents('.cell').data().cell;\n",
       "        cell.output_area.append_execute_result(NB_LOAD_WARNING)\n",
       "      }\n",
       "  \n",
       "    }\n",
       "  \n",
       "    if (window._bokeh_is_loading === 0) {\n",
       "      console.log(\"Bokeh: BokehJS loaded, going straight to plotting\");\n",
       "      run_inline_js();\n",
       "    } else {\n",
       "      load_libs(js_urls, function() {\n",
       "        console.log(\"Bokeh: BokehJS plotting callback run at\", now());\n",
       "        run_inline_js();\n",
       "      });\n",
       "    }\n",
       "  }(this));\n",
       "</script>"
      ]
     },
     "metadata": {},
     "output_type": "display_data"
    }
   ],
   "source": [
    "max_num_chunk = 16\n",
    "p = Histogram(grp.UUID.count(), \n",
    "              bins=list(map(lambda x: x + 0.5, range(0, max_num_chunk+1))),\n",
    "              xlabel='Number of byte streams per dataset',\n",
    "              ylabel='Count(Dataset per File)')\n",
    "p.xaxis[0].ticker = FixedTicker(ticks=list(range(max_num_chunk+1)))\n",
    "show(p)"
   ]
  },
  {
   "cell_type": "markdown",
   "metadata": {},
   "source": [
    "## Analysis: `MERRA2_200.tavgM_2d_int_Nx`"
   ]
  },
  {
   "cell_type": "markdown",
   "metadata": {},
   "source": [
    "Select only DMR++ entries for these files:"
   ]
  },
  {
   "cell_type": "code",
   "execution_count": 77,
   "metadata": {
    "collapsed": false
   },
   "outputs": [],
   "source": [
    "merra2_tavg = dmrpp[dmrpp.File.str.contains('MERRA2_200.tavgM_2d_int_Nx')]"
   ]
  },
  {
   "cell_type": "code",
   "execution_count": 78,
   "metadata": {
    "collapsed": false
   },
   "outputs": [
    {
     "name": "stdout",
     "output_type": "stream",
     "text": [
      "<class 'pandas.core.frame.DataFrame'>\n",
      "Int64Index: 335556 entries, 4098085 to 4433640\n",
      "Data columns (total 8 columns):\n",
      "File          335556 non-null object\n",
      "Dataset       335556 non-null object\n",
      "Chunk_Flag    335556 non-null bool\n",
      "UUID          335556 non-null object\n",
      "Checksum      335556 non-null object\n",
      "Offset        335556 non-null int64\n",
      "Size          335556 non-null int64\n",
      "Type          335556 non-null object\n",
      "dtypes: bool(1), int64(2), object(5)\n",
      "memory usage: 20.8+ MB\n"
     ]
    }
   ],
   "source": [
    "merra2_tavg.info()"
   ]
  },
  {
   "cell_type": "markdown",
   "metadata": {},
   "source": [
    "### Byte Streams"
   ]
  },
  {
   "cell_type": "markdown",
   "metadata": {},
   "source": [
    "#### How many byte streams with unique content?"
   ]
  },
  {
   "cell_type": "code",
   "execution_count": 79,
   "metadata": {
    "collapsed": false
   },
   "outputs": [],
   "source": [
    "x = merra2_tavg.Checksum.value_counts()"
   ]
  },
  {
   "cell_type": "code",
   "execution_count": 80,
   "metadata": {
    "collapsed": false
   },
   "outputs": [
    {
     "data": {
      "text/plain": [
       "310419"
      ]
     },
     "execution_count": 80,
     "metadata": {},
     "output_type": "execute_result"
    }
   ],
   "source": [
    "len(x.index)"
   ]
  },
  {
   "cell_type": "markdown",
   "metadata": {},
   "source": [
    "#### Which are the Top 20 byte streams based on content?"
   ]
  },
  {
   "cell_type": "code",
   "execution_count": 81,
   "metadata": {
    "collapsed": false
   },
   "outputs": [
    {
     "data": {
      "text/plain": [
       "d57d72206d7fb5fad96714288dd86f29    8412\n",
       "f6c9ef6c28c5715b914e5d7194b9f131    2962\n",
       "196be26f3d971e3c37190636133fee49     108\n",
       "6ed95e16d4b2f755e1ff226faedac1d1     108\n",
       "dc51ab56717a3cae07a2ef00aa155512     108\n",
       "d5c95f4029f40a582961ae2413cb00cc       2\n",
       "83add3e22cbd4ec64888b30ee72f3794       2\n",
       "bd6e2de63e4de5e58521f6ac9fdae3ce       2\n",
       "5da1281d1f9205b3ccfbebc152b892c3       2\n",
       "c71d49d3513b7d388ade961dd0a3e61a       2\n",
       "5f063fa5c5e8f88f299f47cecae3228a       2\n",
       "9ccbbfa0de035a9d2c6c747eb0cc6f23       2\n",
       "8cf2d6d08dd8c73574e6567b8180ed57       2\n",
       "598e5fee7de733f1019bfd2374a8ead3       2\n",
       "e4947f154599717e2a8c4a1eab14c424       2\n",
       "24bc597205e3f4bf502685c01f2f3a8e       2\n",
       "832cf1045a941de28066714253a6ee2c       2\n",
       "9c53e04435ee429b14e69ea9ab5ca531       2\n",
       "3aee5e4922e8d27faabb881e19bf2ec5       2\n",
       "92e1a3376aeab08f8c3aac596e7fd88c       2\n",
       "Name: Checksum, dtype: int64"
      ]
     },
     "execution_count": 81,
     "metadata": {},
     "output_type": "execute_result"
    }
   ],
   "source": [
    "x.sort_values(ascending=False).head(20)"
   ]
  },
  {
   "cell_type": "markdown",
   "metadata": {},
   "source": [
    "#### Where is the same byte stream stored?"
   ]
  },
  {
   "cell_type": "markdown",
   "metadata": {},
   "source": [
    "Byte stream we are looking for:"
   ]
  },
  {
   "cell_type": "code",
   "execution_count": 82,
   "metadata": {
    "collapsed": true
   },
   "outputs": [],
   "source": [
    "cksum = 'd57d72206d7fb5fad96714288dd86f29'"
   ]
  },
  {
   "cell_type": "code",
   "execution_count": 83,
   "metadata": {
    "collapsed": true
   },
   "outputs": [],
   "source": [
    "grp = merra2_tavg.groupby('Checksum')"
   ]
  },
  {
   "cell_type": "markdown",
   "metadata": {},
   "source": [
    "Per dataset across all the files that have it:"
   ]
  },
  {
   "cell_type": "code",
   "execution_count": 84,
   "metadata": {
    "collapsed": false
   },
   "outputs": [
    {
     "data": {
      "text/plain": [
       "/DQVDT_FIL        1296\n",
       "/Var_DQIDT_FIL    1296\n",
       "/Var_DOXDT_FIL    1296\n",
       "/DQIDT_FIL        1296\n",
       "/Var_DQVDT_FIL    1296\n",
       "/DOXDT_FIL        1296\n",
       "/PRECSN            124\n",
       "/Var_PRECSN        124\n",
       "/DQLDT_FIL          97\n",
       "/Var_QTFILL         97\n",
       "/QTFILL             97\n",
       "/Var_DQLDT_FIL      97\n",
       "Name: Dataset, dtype: int64"
      ]
     },
     "execution_count": 84,
     "metadata": {},
     "output_type": "execute_result"
    }
   ],
   "source": [
    "grp.get_group(cksum)['Dataset'].value_counts()"
   ]
  },
  {
   "cell_type": "markdown",
   "metadata": {},
   "source": [
    "Per file including all its datasets:"
   ]
  },
  {
   "cell_type": "code",
   "execution_count": 85,
   "metadata": {
    "collapsed": false
   },
   "outputs": [
    {
     "data": {
      "text/plain": [
       "MERRA2_200.tavgM_2d_int_Nx.199201.nc4    80\n",
       "MERRA2_200.tavgM_2d_int_Nx.199202.nc4    74\n",
       "MERRA2_200.tavgM_2d_int_Nx.199203.nc4    74\n",
       "MERRA2_200.tavgM_2d_int_Nx.199204.nc4    82\n",
       "MERRA2_200.tavgM_2d_int_Nx.199205.nc4    80\n",
       "MERRA2_200.tavgM_2d_int_Nx.199206.nc4    72\n",
       "MERRA2_200.tavgM_2d_int_Nx.199207.nc4    78\n",
       "MERRA2_200.tavgM_2d_int_Nx.199208.nc4    80\n",
       "MERRA2_200.tavgM_2d_int_Nx.199209.nc4    78\n",
       "MERRA2_200.tavgM_2d_int_Nx.199210.nc4    76\n",
       "MERRA2_200.tavgM_2d_int_Nx.199211.nc4    74\n",
       "MERRA2_200.tavgM_2d_int_Nx.199212.nc4    84\n",
       "MERRA2_200.tavgM_2d_int_Nx.199301.nc4    92\n",
       "MERRA2_200.tavgM_2d_int_Nx.199302.nc4    82\n",
       "MERRA2_200.tavgM_2d_int_Nx.199303.nc4    76\n",
       "MERRA2_200.tavgM_2d_int_Nx.199304.nc4    74\n",
       "MERRA2_200.tavgM_2d_int_Nx.199305.nc4    78\n",
       "MERRA2_200.tavgM_2d_int_Nx.199306.nc4    74\n",
       "MERRA2_200.tavgM_2d_int_Nx.199307.nc4    80\n",
       "MERRA2_200.tavgM_2d_int_Nx.199308.nc4    74\n",
       "MERRA2_200.tavgM_2d_int_Nx.199309.nc4    76\n",
       "MERRA2_200.tavgM_2d_int_Nx.199310.nc4    74\n",
       "MERRA2_200.tavgM_2d_int_Nx.199311.nc4    82\n",
       "MERRA2_200.tavgM_2d_int_Nx.199312.nc4    86\n",
       "MERRA2_200.tavgM_2d_int_Nx.199401.nc4    82\n",
       "MERRA2_200.tavgM_2d_int_Nx.199402.nc4    74\n",
       "MERRA2_200.tavgM_2d_int_Nx.199403.nc4    82\n",
       "MERRA2_200.tavgM_2d_int_Nx.199404.nc4    74\n",
       "MERRA2_200.tavgM_2d_int_Nx.199405.nc4    74\n",
       "MERRA2_200.tavgM_2d_int_Nx.199406.nc4    86\n",
       "                                         ..\n",
       "MERRA2_200.tavgM_2d_int_Nx.199807.nc4    82\n",
       "MERRA2_200.tavgM_2d_int_Nx.199808.nc4    78\n",
       "MERRA2_200.tavgM_2d_int_Nx.199809.nc4    74\n",
       "MERRA2_200.tavgM_2d_int_Nx.199810.nc4    78\n",
       "MERRA2_200.tavgM_2d_int_Nx.199811.nc4    74\n",
       "MERRA2_200.tavgM_2d_int_Nx.199812.nc4    74\n",
       "MERRA2_200.tavgM_2d_int_Nx.199901.nc4    80\n",
       "MERRA2_200.tavgM_2d_int_Nx.199902.nc4    76\n",
       "MERRA2_200.tavgM_2d_int_Nx.199903.nc4    76\n",
       "MERRA2_200.tavgM_2d_int_Nx.199904.nc4    74\n",
       "MERRA2_200.tavgM_2d_int_Nx.199905.nc4    72\n",
       "MERRA2_200.tavgM_2d_int_Nx.199906.nc4    78\n",
       "MERRA2_200.tavgM_2d_int_Nx.199907.nc4    78\n",
       "MERRA2_200.tavgM_2d_int_Nx.199908.nc4    74\n",
       "MERRA2_200.tavgM_2d_int_Nx.199909.nc4    78\n",
       "MERRA2_200.tavgM_2d_int_Nx.199910.nc4    74\n",
       "MERRA2_200.tavgM_2d_int_Nx.199911.nc4    82\n",
       "MERRA2_200.tavgM_2d_int_Nx.199912.nc4    78\n",
       "MERRA2_200.tavgM_2d_int_Nx.200001.nc4    74\n",
       "MERRA2_200.tavgM_2d_int_Nx.200002.nc4    76\n",
       "MERRA2_200.tavgM_2d_int_Nx.200003.nc4    84\n",
       "MERRA2_200.tavgM_2d_int_Nx.200004.nc4    82\n",
       "MERRA2_200.tavgM_2d_int_Nx.200005.nc4    82\n",
       "MERRA2_200.tavgM_2d_int_Nx.200006.nc4    76\n",
       "MERRA2_200.tavgM_2d_int_Nx.200007.nc4    76\n",
       "MERRA2_200.tavgM_2d_int_Nx.200008.nc4    78\n",
       "MERRA2_200.tavgM_2d_int_Nx.200009.nc4    80\n",
       "MERRA2_200.tavgM_2d_int_Nx.200010.nc4    88\n",
       "MERRA2_200.tavgM_2d_int_Nx.200011.nc4    74\n",
       "MERRA2_200.tavgM_2d_int_Nx.200012.nc4    74\n",
       "Name: File, dtype: int64"
      ]
     },
     "execution_count": 85,
     "metadata": {},
     "output_type": "execute_result"
    }
   ],
   "source": [
    "grp.get_group(cksum)['File'].value_counts().sort_index()"
   ]
  },
  {
   "cell_type": "markdown",
   "metadata": {},
   "source": [
    "#### What is the total number of byte streams in the files?"
   ]
  },
  {
   "cell_type": "code",
   "execution_count": 86,
   "metadata": {
    "collapsed": false
   },
   "outputs": [
    {
     "data": {
      "text/plain": [
       "335556"
      ]
     },
     "execution_count": 86,
     "metadata": {},
     "output_type": "execute_result"
    }
   ],
   "source": [
    "x.sum()"
   ]
  },
  {
   "cell_type": "markdown",
   "metadata": {},
   "source": [
    "#### What is the percentage reduction in number of S3 objects based on repeating checksums?"
   ]
  },
  {
   "cell_type": "code",
   "execution_count": 87,
   "metadata": {
    "collapsed": false
   },
   "outputs": [
    {
     "data": {
      "text/plain": [
       "-7.4911490183456664"
      ]
     },
     "execution_count": 87,
     "metadata": {},
     "output_type": "execute_result"
    }
   ],
   "source": [
    "100 * (len(x.index)/x.sum() - 1)"
   ]
  },
  {
   "cell_type": "markdown",
   "metadata": {},
   "source": [
    "#### What is the percentage reduction in bytes stored in S3 based on repeating checksums?"
   ]
  },
  {
   "cell_type": "code",
   "execution_count": 88,
   "metadata": {
    "collapsed": false
   },
   "outputs": [
    {
     "data": {
      "text/plain": [
       "12057760738"
      ]
     },
     "execution_count": 88,
     "metadata": {},
     "output_type": "execute_result"
    }
   ],
   "source": [
    "before = merra2_tavg.Size.sum()\n",
    "before"
   ]
  },
  {
   "cell_type": "code",
   "execution_count": 89,
   "metadata": {
    "collapsed": false
   },
   "outputs": [
    {
     "data": {
      "text/plain": [
       "11630803129"
      ]
     },
     "execution_count": 89,
     "metadata": {},
     "output_type": "execute_result"
    }
   ],
   "source": [
    "after = merra2_tavg.drop_duplicates('Checksum')['Size'].sum()\n",
    "after"
   ]
  },
  {
   "cell_type": "code",
   "execution_count": 90,
   "metadata": {
    "collapsed": false
   },
   "outputs": [
    {
     "data": {
      "text/plain": [
       "-3.5409361512245274"
      ]
     },
     "execution_count": 90,
     "metadata": {},
     "output_type": "execute_result"
    }
   ],
   "source": [
    "100 * (after/before - 1)"
   ]
  },
  {
   "cell_type": "markdown",
   "metadata": {},
   "source": [
    "#### What is the size statistics for unique byte streams?"
   ]
  },
  {
   "cell_type": "code",
   "execution_count": 91,
   "metadata": {
    "collapsed": false
   },
   "outputs": [
    {
     "data": {
      "text/html": [
       "\n",
       "\n",
       "    <div class=\"bk-root\">\n",
       "        <div class=\"bk-plotdiv\" id=\"bd4d2a4f-def2-44e7-a323-322048bc6b88\"></div>\n",
       "    </div>\n",
       "<script type=\"text/javascript\">\n",
       "  \n",
       "  (function(global) {\n",
       "    function now() {\n",
       "      return new Date();\n",
       "    }\n",
       "  \n",
       "    var force = false;\n",
       "  \n",
       "    if (typeof (window._bokeh_onload_callbacks) === \"undefined\" || force === true) {\n",
       "      window._bokeh_onload_callbacks = [];\n",
       "      window._bokeh_is_loading = undefined;\n",
       "    }\n",
       "  \n",
       "  \n",
       "    \n",
       "    if (typeof (window._bokeh_timeout) === \"undefined\" || force === true) {\n",
       "      window._bokeh_timeout = Date.now() + 0;\n",
       "      window._bokeh_failed_load = false;\n",
       "    }\n",
       "  \n",
       "    var NB_LOAD_WARNING = {'data': {'text/html':\n",
       "       \"<div style='background-color: #fdd'>\\n\"+\n",
       "       \"<p>\\n\"+\n",
       "       \"BokehJS does not appear to have successfully loaded. If loading BokehJS from CDN, this \\n\"+\n",
       "       \"may be due to a slow or bad network connection. Possible fixes:\\n\"+\n",
       "       \"</p>\\n\"+\n",
       "       \"<ul>\\n\"+\n",
       "       \"<li>re-rerun `output_notebook()` to attempt to load from CDN again, or</li>\\n\"+\n",
       "       \"<li>use INLINE resources instead, as so:</li>\\n\"+\n",
       "       \"</ul>\\n\"+\n",
       "       \"<code>\\n\"+\n",
       "       \"from bokeh.resources import INLINE\\n\"+\n",
       "       \"output_notebook(resources=INLINE)\\n\"+\n",
       "       \"</code>\\n\"+\n",
       "       \"</div>\"}};\n",
       "  \n",
       "    function display_loaded() {\n",
       "      if (window.Bokeh !== undefined) {\n",
       "        document.getElementById(\"bd4d2a4f-def2-44e7-a323-322048bc6b88\").textContent = \"BokehJS successfully loaded.\";\n",
       "      } else if (Date.now() < window._bokeh_timeout) {\n",
       "        setTimeout(display_loaded, 100)\n",
       "      }\n",
       "    }\n",
       "  \n",
       "    function run_callbacks() {\n",
       "      window._bokeh_onload_callbacks.forEach(function(callback) { callback() });\n",
       "      delete window._bokeh_onload_callbacks\n",
       "      console.info(\"Bokeh: all callbacks have finished\");\n",
       "    }\n",
       "  \n",
       "    function load_libs(js_urls, callback) {\n",
       "      window._bokeh_onload_callbacks.push(callback);\n",
       "      if (window._bokeh_is_loading > 0) {\n",
       "        console.log(\"Bokeh: BokehJS is being loaded, scheduling callback at\", now());\n",
       "        return null;\n",
       "      }\n",
       "      if (js_urls == null || js_urls.length === 0) {\n",
       "        run_callbacks();\n",
       "        return null;\n",
       "      }\n",
       "      console.log(\"Bokeh: BokehJS not loaded, scheduling load and callback at\", now());\n",
       "      window._bokeh_is_loading = js_urls.length;\n",
       "      for (var i = 0; i < js_urls.length; i++) {\n",
       "        var url = js_urls[i];\n",
       "        var s = document.createElement('script');\n",
       "        s.src = url;\n",
       "        s.async = false;\n",
       "        s.onreadystatechange = s.onload = function() {\n",
       "          window._bokeh_is_loading--;\n",
       "          if (window._bokeh_is_loading === 0) {\n",
       "            console.log(\"Bokeh: all BokehJS libraries loaded\");\n",
       "            run_callbacks()\n",
       "          }\n",
       "        };\n",
       "        s.onerror = function() {\n",
       "          console.warn(\"failed to load library \" + url);\n",
       "        };\n",
       "        console.log(\"Bokeh: injecting script tag for BokehJS library: \", url);\n",
       "        document.getElementsByTagName(\"head\")[0].appendChild(s);\n",
       "      }\n",
       "    };var element = document.getElementById(\"bd4d2a4f-def2-44e7-a323-322048bc6b88\");\n",
       "    if (element == null) {\n",
       "      console.log(\"Bokeh: ERROR: autoload.js configured with elementid 'bd4d2a4f-def2-44e7-a323-322048bc6b88' but no matching script tag was found. \")\n",
       "      return false;\n",
       "    }\n",
       "  \n",
       "    var js_urls = [];\n",
       "  \n",
       "    var inline_js = [\n",
       "      function(Bokeh) {\n",
       "        (function() {\n",
       "          var fn = function() {\n",
       "            var docs_json = {\"dc34c9be-edd2-477e-9daa-1e9f268046ff\":{\"roots\":{\"references\":[{\"attributes\":{\"fill_alpha\":{\"field\":\"fill_alpha\"},\"fill_color\":{\"field\":\"color\"},\"height\":{\"field\":\"height\",\"units\":\"data\"},\"line_color\":{\"field\":\"line_color\"},\"width\":{\"field\":\"width\",\"units\":\"data\"},\"x\":{\"field\":\"x\"},\"y\":{\"field\":\"y\"}},\"id\":\"68e1ab2b-2147-4d29-8f7f-be8202ffd0f4\",\"type\":\"Rect\"},{\"attributes\":{\"data_source\":{\"id\":\"1b92b7c3-6b91-4307-859d-ebd3c17d529f\",\"type\":\"ColumnDataSource\"},\"glyph\":{\"id\":\"0a8e1687-ef7d-48a5-8c12-0415d08db650\",\"type\":\"Rect\"},\"hover_glyph\":null,\"nonselection_glyph\":null,\"selection_glyph\":null},\"id\":\"55ffea16-418b-4544-ac58-7b0ff7505ca9\",\"type\":\"GlyphRenderer\"},{\"attributes\":{\"plot\":{\"id\":\"df94ea79-aa3a-47b1-8a06-a12d5e19a935\",\"subtype\":\"Chart\",\"type\":\"Plot\"}},\"id\":\"07c51e45-3675-4f5f-bd72-536af9291ae8\",\"type\":\"ResetTool\"},{\"attributes\":{\"fill_alpha\":{\"field\":\"fill_alpha\"},\"fill_color\":{\"field\":\"color\"},\"height\":{\"field\":\"height\",\"units\":\"data\"},\"line_color\":{\"field\":\"line_color\"},\"width\":{\"field\":\"width\",\"units\":\"data\"},\"x\":{\"field\":\"x\"},\"y\":{\"field\":\"y\"}},\"id\":\"f3213b41-4aa7-4688-befb-2343d28d546d\",\"type\":\"Rect\"},{\"attributes\":{\"fill_alpha\":{\"field\":\"fill_alpha\"},\"fill_color\":{\"field\":\"color\"},\"height\":{\"field\":\"height\",\"units\":\"data\"},\"line_color\":{\"field\":\"line_color\"},\"width\":{\"field\":\"width\",\"units\":\"data\"},\"x\":{\"field\":\"x\"},\"y\":{\"field\":\"y\"}},\"id\":\"7ec41ddb-17e8-4f2c-a142-5bb05d1d4b33\",\"type\":\"Rect\"},{\"attributes\":{\"fill_alpha\":{\"field\":\"fill_alpha\"},\"fill_color\":{\"field\":\"color\"},\"height\":{\"field\":\"height\",\"units\":\"data\"},\"line_color\":{\"field\":\"line_color\"},\"width\":{\"field\":\"width\",\"units\":\"data\"},\"x\":{\"field\":\"x\"},\"y\":{\"field\":\"y\"}},\"id\":\"f6a7e26d-2116-4a44-b182-88cd4f7d0492\",\"type\":\"Rect\"},{\"attributes\":{\"fill_alpha\":{\"field\":\"fill_alpha\"},\"fill_color\":{\"field\":\"color\"},\"height\":{\"field\":\"height\",\"units\":\"data\"},\"line_color\":{\"field\":\"line_color\"},\"width\":{\"field\":\"width\",\"units\":\"data\"},\"x\":{\"field\":\"x\"},\"y\":{\"field\":\"y\"}},\"id\":\"34db6e52-db77-4213-a529-76c2345e4a64\",\"type\":\"Rect\"},{\"attributes\":{\"plot\":{\"id\":\"df94ea79-aa3a-47b1-8a06-a12d5e19a935\",\"subtype\":\"Chart\",\"type\":\"Plot\"}},\"id\":\"9f52d763-ef02-4101-8174-fe6da6f78a74\",\"type\":\"SaveTool\"},{\"attributes\":{\"fill_alpha\":{\"field\":\"fill_alpha\"},\"fill_color\":{\"field\":\"color\"},\"height\":{\"field\":\"height\",\"units\":\"data\"},\"line_color\":{\"field\":\"line_color\"},\"width\":{\"field\":\"width\",\"units\":\"data\"},\"x\":{\"field\":\"x\"},\"y\":{\"field\":\"y\"}},\"id\":\"0ea21eb0-b581-4d75-8d10-fa194facf9ca\",\"type\":\"Rect\"},{\"attributes\":{\"fill_alpha\":{\"field\":\"fill_alpha\"},\"fill_color\":{\"field\":\"color\"},\"height\":{\"field\":\"height\",\"units\":\"data\"},\"line_color\":{\"field\":\"line_color\"},\"width\":{\"field\":\"width\",\"units\":\"data\"},\"x\":{\"field\":\"x\"},\"y\":{\"field\":\"y\"}},\"id\":\"9dae4e79-1c5f-4125-8564-17bdd402b4c5\",\"type\":\"Rect\"},{\"attributes\":{\"callback\":null,\"column_names\":[\"x\",\"label\",\"height\",\"color\",\"line_alpha\",\"line_color\",\"y\",\"width\",\"fill_alpha\"],\"data\":{\"chart_index\":[\"(16.752720, 17.682760]\"],\"color\":[\"#f22c40\"],\"fill_alpha\":[0.8],\"height\":[1112.0],\"label\":[\"(16.752720, 17.682760]\"],\"line_alpha\":[1.0],\"line_color\":[\"black\"],\"width\":[0.9300399999999982],\"x\":[\"17.21774\"],\"y\":[556.0]}},\"id\":\"a1c9c670-3de2-4f25-bc80-d8c2add86eae\",\"type\":\"ColumnDataSource\"},{\"attributes\":{\"data_source\":{\"id\":\"1e4f2863-3ca3-4e95-8641-bd71a599f0d0\",\"type\":\"ColumnDataSource\"},\"glyph\":{\"id\":\"fc00c4dc-a0fa-4d23-8966-12c874faf29a\",\"type\":\"Rect\"},\"hover_glyph\":null,\"nonselection_glyph\":null,\"selection_glyph\":null},\"id\":\"74e0e1ec-4449-4770-a68e-9fc1c767dc5b\",\"type\":\"GlyphRenderer\"},{\"attributes\":{},\"id\":\"6c86c553-4516-48f3-a70e-8f440fe4f52f\",\"type\":\"BasicTicker\"},{\"attributes\":{\"callback\":null,\"column_names\":[\"x\",\"label\",\"height\",\"color\",\"line_alpha\",\"line_color\",\"y\",\"width\",\"fill_alpha\"],\"data\":{\"chart_index\":[\"(42.793840, 43.723880]\"],\"color\":[\"#f22c40\"],\"fill_alpha\":[0.8],\"height\":[18688.0],\"label\":[\"(42.793840, 43.723880]\"],\"line_alpha\":[1.0],\"line_color\":[\"black\"],\"width\":[0.9300399999999982],\"x\":[\"43.25886\"],\"y\":[9344.0]}},\"id\":\"1eda3393-7059-4281-ad4f-6d6316a90f3f\",\"type\":\"ColumnDataSource\"},{\"attributes\":{\"below\":[{\"id\":\"9910c41d-3fe9-4555-9aec-f89f5ff66286\",\"type\":\"LinearAxis\"}],\"css_classes\":null,\"left\":[{\"id\":\"379580a6-9a43-45a2-a52e-4df81e80c012\",\"type\":\"LinearAxis\"}],\"renderers\":[{\"id\":\"626a81fe-7e62-4009-a422-11972c34a983\",\"type\":\"BoxAnnotation\"},{\"id\":\"f67357a3-b69c-4e4c-a46d-b7a162f35f54\",\"type\":\"GlyphRenderer\"},{\"id\":\"35be1f1e-562c-427a-8423-dda3082c5eaa\",\"type\":\"GlyphRenderer\"},{\"id\":\"07dcfb22-853b-46f8-b5c1-9585f70cb365\",\"type\":\"GlyphRenderer\"},{\"id\":\"2ad65ca7-728f-4a57-b32b-f44cc30a504a\",\"type\":\"GlyphRenderer\"},{\"id\":\"68cbb460-5d48-43f8-9eb5-6e693e84b24d\",\"type\":\"GlyphRenderer\"},{\"id\":\"46624cf7-a074-4f51-b17b-e203b6635bf4\",\"type\":\"GlyphRenderer\"},{\"id\":\"ac35397c-8173-42bc-b222-eea5c4d4ea41\",\"type\":\"GlyphRenderer\"},{\"id\":\"edfc48d0-a023-4c98-bbc2-73f99eafbe82\",\"type\":\"GlyphRenderer\"},{\"id\":\"85ea344e-c7da-476e-b839-20b9aa1d5675\",\"type\":\"GlyphRenderer\"},{\"id\":\"1697b87c-dde8-4431-aa64-cd2c56def12d\",\"type\":\"GlyphRenderer\"},{\"id\":\"6eb8eaaf-f10f-4ee3-b674-87d421cf1857\",\"type\":\"GlyphRenderer\"},{\"id\":\"c3ff0ce5-62f8-47a7-9ba7-2cfbbf8ac2b1\",\"type\":\"GlyphRenderer\"},{\"id\":\"78924edb-7e1c-46e4-8515-04b0d5734c44\",\"type\":\"GlyphRenderer\"},{\"id\":\"108e26f8-18a2-42b9-9555-022aba8b0679\",\"type\":\"GlyphRenderer\"},{\"id\":\"397397ca-b03f-4ccd-84bf-778f061eb24d\",\"type\":\"GlyphRenderer\"},{\"id\":\"e81fb799-cbed-4ac0-b921-dd2e0aba29c5\",\"type\":\"GlyphRenderer\"},{\"id\":\"74e0e1ec-4449-4770-a68e-9fc1c767dc5b\",\"type\":\"GlyphRenderer\"},{\"id\":\"88cfa780-e4ee-4144-81f0-f96b2d7ab988\",\"type\":\"GlyphRenderer\"},{\"id\":\"b0743218-3387-475f-aed6-b90c19eafc8c\",\"type\":\"GlyphRenderer\"},{\"id\":\"95dc70a3-a587-49b9-868f-7ac520331157\",\"type\":\"GlyphRenderer\"},{\"id\":\"1cdf4a56-3537-4b10-b2d8-da3c0759f9d2\",\"type\":\"GlyphRenderer\"},{\"id\":\"ef5ff7ab-24bb-4d14-82d9-6d09f26e496f\",\"type\":\"GlyphRenderer\"},{\"id\":\"80f98d13-5cb5-4c7d-9c92-7e09afe5956e\",\"type\":\"GlyphRenderer\"},{\"id\":\"54a8e2df-de62-4e65-a9ad-af0b430e8821\",\"type\":\"GlyphRenderer\"},{\"id\":\"6a0f6325-9ae1-46ee-8ad2-edd424015ab9\",\"type\":\"GlyphRenderer\"},{\"id\":\"eeaf7ef8-58c6-48d4-ad5d-fa1be9ce520a\",\"type\":\"GlyphRenderer\"},{\"id\":\"8a4e1b37-f8f5-4c53-ab7f-ac5d4b451230\",\"type\":\"GlyphRenderer\"},{\"id\":\"55ffea16-418b-4544-ac58-7b0ff7505ca9\",\"type\":\"GlyphRenderer\"},{\"id\":\"a3c5dd8f-1354-4f23-81f7-1d911b8d0c26\",\"type\":\"GlyphRenderer\"},{\"id\":\"ff3b2373-7885-412c-980a-3c8745cbed21\",\"type\":\"GlyphRenderer\"},{\"id\":\"8cfb5bae-d737-431c-9bac-6518011c22ea\",\"type\":\"GlyphRenderer\"},{\"id\":\"143288e1-a542-48b0-a7cb-ccb8ed1e1f5e\",\"type\":\"GlyphRenderer\"},{\"id\":\"de843746-5263-4266-bdb7-48ac4ddbfad7\",\"type\":\"GlyphRenderer\"},{\"id\":\"16afba94-773e-4c0c-b3c2-9c46f19ab974\",\"type\":\"GlyphRenderer\"},{\"id\":\"25f82353-1261-4336-ab7c-c818b6be8f6a\",\"type\":\"GlyphRenderer\"},{\"id\":\"86b1e169-d775-45f8-86f8-fc074438bffa\",\"type\":\"GlyphRenderer\"},{\"id\":\"e7aad661-7b86-45ed-88ac-8ed70e507169\",\"type\":\"GlyphRenderer\"},{\"id\":\"6b6d1bfa-b198-4c5d-91be-2ba1c0e10064\",\"type\":\"GlyphRenderer\"},{\"id\":\"ad62115f-9116-4502-b8d3-1ea4bc885e53\",\"type\":\"GlyphRenderer\"},{\"id\":\"d96e1652-d9c9-408d-9c8f-0a03a840d605\",\"type\":\"GlyphRenderer\"},{\"id\":\"6c7a5681-4a3f-490b-9b93-fedaf14d4772\",\"type\":\"GlyphRenderer\"},{\"id\":\"26158b94-e6a0-4bb4-8028-fd89f3fb7567\",\"type\":\"GlyphRenderer\"},{\"id\":\"40f48b75-69be-4c2d-815f-ec852f5efdc5\",\"type\":\"GlyphRenderer\"},{\"id\":\"dd565852-9454-4fbe-96fa-fbf011791074\",\"type\":\"GlyphRenderer\"},{\"id\":\"7ce26b75-4ab4-4e34-8b6a-23a4c4c39917\",\"type\":\"GlyphRenderer\"},{\"id\":\"bebad5f1-ebca-43bb-9dcd-23d36983535b\",\"type\":\"GlyphRenderer\"},{\"id\":\"d980e9c5-2fd9-45f8-bb0e-7f09d4d0e177\",\"type\":\"GlyphRenderer\"},{\"id\":\"e59f0e66-98a3-4297-9aa2-7344e792d7cc\",\"type\":\"GlyphRenderer\"},{\"id\":\"aa0281f0-7854-452e-914d-55d631c122ef\",\"type\":\"GlyphRenderer\"},{\"id\":\"81c7df00-b5f0-498e-959e-27de2798046e\",\"type\":\"GlyphRenderer\"},{\"id\":\"85b7ac3f-011f-402e-9ae9-265e32aeaa5c\",\"type\":\"Legend\"},{\"id\":\"9910c41d-3fe9-4555-9aec-f89f5ff66286\",\"type\":\"LinearAxis\"},{\"id\":\"379580a6-9a43-45a2-a52e-4df81e80c012\",\"type\":\"LinearAxis\"},{\"id\":\"43306a23-e348-4af7-8746-8acd8e82aedf\",\"type\":\"Grid\"}],\"title\":{\"id\":\"2ff0ccc7-5a59-45ce-9006-4dbeaba98308\",\"type\":\"Title\"},\"tool_events\":{\"id\":\"d7b1e333-5daa-40bb-986b-efe6e5ba7baf\",\"type\":\"ToolEvents\"},\"toolbar\":{\"id\":\"c62dfb46-fe77-4f81-a735-782d6630d969\",\"type\":\"Toolbar\"},\"x_mapper_type\":\"auto\",\"x_range\":{\"id\":\"347d4899-09e1-4da5-a59c-43caf0e18043\",\"type\":\"Range1d\"},\"y_mapper_type\":\"auto\",\"y_range\":{\"id\":\"8bd69562-f443-44eb-9b0b-dd3f4d773122\",\"type\":\"Range1d\"}},\"id\":\"df94ea79-aa3a-47b1-8a06-a12d5e19a935\",\"subtype\":\"Chart\",\"type\":\"Plot\"},{\"attributes\":{\"data_source\":{\"id\":\"5ec761b2-a1d9-4f1b-b2b0-eba85d9aa900\",\"type\":\"ColumnDataSource\"},\"glyph\":{\"id\":\"cebd3f16-8075-4af0-b415-ee90eca25bd9\",\"type\":\"Rect\"},\"hover_glyph\":null,\"nonselection_glyph\":null,\"selection_glyph\":null},\"id\":\"d96e1652-d9c9-408d-9c8f-0a03a840d605\",\"type\":\"GlyphRenderer\"},{\"attributes\":{\"callback\":null,\"column_names\":[\"x\",\"label\",\"height\",\"color\",\"line_alpha\",\"line_color\",\"y\",\"width\",\"fill_alpha\"],\"data\":{\"chart_index\":[\"(44.653920, 45.583960]\"],\"color\":[\"#f22c40\"],\"fill_alpha\":[0.8],\"height\":[2146.0],\"label\":[\"(44.653920, 45.583960]\"],\"line_alpha\":[1.0],\"line_color\":[\"black\"],\"width\":[0.9300399999999982],\"x\":[\"45.118939999999995\"],\"y\":[1073.0]}},\"id\":\"889f1f1d-fef2-483a-a9f4-98fd84076fdc\",\"type\":\"ColumnDataSource\"},{\"attributes\":{\"callback\":null,\"column_names\":[\"x\",\"label\",\"height\",\"color\",\"line_alpha\",\"line_color\",\"y\",\"width\",\"fill_alpha\"],\"data\":{\"chart_index\":[\"(1.872080, 2.802120]\"],\"color\":[\"#f22c40\"],\"fill_alpha\":[0.8],\"height\":[535.0],\"label\":[\"(1.872080, 2.802120]\"],\"line_alpha\":[1.0],\"line_color\":[\"black\"],\"width\":[0.9300400000000002],\"x\":[\"2.3371\"],\"y\":[267.5]}},\"id\":\"70498185-7973-4414-ae26-a06c2f827978\",\"type\":\"ColumnDataSource\"},{\"attributes\":{\"callback\":null,\"column_names\":[\"x\",\"label\",\"height\",\"color\",\"line_alpha\",\"line_color\",\"y\",\"width\",\"fill_alpha\"],\"data\":{\"chart_index\":[\"(7.452320, 8.382360]\"],\"color\":[\"#f22c40\"],\"fill_alpha\":[0.8],\"height\":[147.0],\"label\":[\"(7.452320, 8.382360]\"],\"line_alpha\":[1.0],\"line_color\":[\"black\"],\"width\":[0.9300400000000018],\"x\":[\"7.91734\"],\"y\":[73.5]}},\"id\":\"593bb5da-76da-41cf-8a54-7741f26ef087\",\"type\":\"ColumnDataSource\"},{\"attributes\":{\"callback\":null,\"column_names\":[\"x\",\"label\",\"height\",\"color\",\"line_alpha\",\"line_color\",\"y\",\"width\",\"fill_alpha\"],\"data\":{\"chart_index\":[\"(29.773280, 30.703320]\"],\"color\":[\"#f22c40\"],\"fill_alpha\":[0.8],\"height\":[1343.0],\"label\":[\"(29.773280, 30.703320]\"],\"line_alpha\":[1.0],\"line_color\":[\"black\"],\"width\":[0.9300400000000018],\"x\":[\"30.238300000000002\"],\"y\":[671.5]}},\"id\":\"2aa4f2c6-b634-4397-84db-743334328318\",\"type\":\"ColumnDataSource\"},{\"attributes\":{\"data_source\":{\"id\":\"86e01eba-c758-4647-996b-8da6b04aaa08\",\"type\":\"ColumnDataSource\"},\"glyph\":{\"id\":\"fc3ca1c6-8020-4465-a81b-7a1f4fa77e18\",\"type\":\"Rect\"},\"hover_glyph\":null,\"nonselection_glyph\":null,\"selection_glyph\":null},\"id\":\"46624cf7-a074-4f51-b17b-e203b6635bf4\",\"type\":\"GlyphRenderer\"},{\"attributes\":{\"data_source\":{\"id\":\"9425e5ff-28b5-49ee-99e7-7aac5021084f\",\"type\":\"ColumnDataSource\"},\"glyph\":{\"id\":\"bcbf0ac6-ca49-4b63-8ec0-e86cf6d0c989\",\"type\":\"Rect\"},\"hover_glyph\":null,\"nonselection_glyph\":null,\"selection_glyph\":null},\"id\":\"78924edb-7e1c-46e4-8515-04b0d5734c44\",\"type\":\"GlyphRenderer\"},{\"attributes\":{\"callback\":null,\"column_names\":[\"x\",\"label\",\"height\",\"color\",\"line_alpha\",\"line_color\",\"y\",\"width\",\"fill_alpha\"],\"data\":{\"chart_index\":[\"(24.193040, 25.123080]\"],\"color\":[\"#f22c40\"],\"fill_alpha\":[0.8],\"height\":[1322.0],\"label\":[\"(24.193040, 25.123080]\"],\"line_alpha\":[1.0],\"line_color\":[\"black\"],\"width\":[0.9300399999999982],\"x\":[\"24.65806\"],\"y\":[661.0]}},\"id\":\"da4b7eec-b45c-45c5-9e8c-85b996bb9405\",\"type\":\"ColumnDataSource\"},{\"attributes\":{\"data_source\":{\"id\":\"5942cb44-e8af-4f94-801e-0adaefd34e8c\",\"type\":\"ColumnDataSource\"},\"glyph\":{\"id\":\"e7b5831c-23d2-4eb5-bcd5-2d094b435aac\",\"type\":\"Rect\"},\"hover_glyph\":null,\"nonselection_glyph\":null,\"selection_glyph\":null},\"id\":\"40f48b75-69be-4c2d-815f-ec852f5efdc5\",\"type\":\"GlyphRenderer\"},{\"attributes\":{\"callback\":null,\"column_names\":[\"x\",\"label\",\"height\",\"color\",\"line_alpha\",\"line_color\",\"y\",\"width\",\"fill_alpha\"],\"data\":{\"chart_index\":[\"(33.493440, 34.423480]\"],\"color\":[\"#f22c40\"],\"fill_alpha\":[0.8],\"height\":[3049.0],\"label\":[\"(33.493440, 34.423480]\"],\"line_alpha\":[1.0],\"line_color\":[\"black\"],\"width\":[0.9300399999999982],\"x\":[\"33.95846\"],\"y\":[1524.5]}},\"id\":\"723b4925-86b6-4cc7-90b3-05e99e3a3b64\",\"type\":\"ColumnDataSource\"},{\"attributes\":{\"data_source\":{\"id\":\"d188f780-994f-429c-8386-13a5e768ca11\",\"type\":\"ColumnDataSource\"},\"glyph\":{\"id\":\"3e98fe2d-7424-4d62-8a03-1a11279ecab2\",\"type\":\"Rect\"},\"hover_glyph\":null,\"nonselection_glyph\":null,\"selection_glyph\":null},\"id\":\"54a8e2df-de62-4e65-a9ad-af0b430e8821\",\"type\":\"GlyphRenderer\"},{\"attributes\":{\"fill_alpha\":{\"field\":\"fill_alpha\"},\"fill_color\":{\"field\":\"color\"},\"height\":{\"field\":\"height\",\"units\":\"data\"},\"line_color\":{\"field\":\"line_color\"},\"width\":{\"field\":\"width\",\"units\":\"data\"},\"x\":{\"field\":\"x\"},\"y\":{\"field\":\"y\"}},\"id\":\"3e98fe2d-7424-4d62-8a03-1a11279ecab2\",\"type\":\"Rect\"},{\"attributes\":{\"callback\":null,\"column_names\":[\"x\",\"label\",\"height\",\"color\",\"line_alpha\",\"line_color\",\"y\",\"width\",\"fill_alpha\"],\"data\":{\"chart_index\":[\"(40.003720, 40.933760]\"],\"color\":[\"#f22c40\"],\"fill_alpha\":[0.8],\"height\":[28227.0],\"label\":[\"(40.003720, 40.933760]\"],\"line_alpha\":[1.0],\"line_color\":[\"black\"],\"width\":[0.9300400000000053],\"x\":[\"40.46874\"],\"y\":[14113.5]}},\"id\":\"bc4d3124-c001-410a-8444-9d6b51b3a997\",\"type\":\"ColumnDataSource\"},{\"attributes\":{\"callback\":null,\"end\":47130.600000000006},\"id\":\"8bd69562-f443-44eb-9b0b-dd3f4d773122\",\"type\":\"Range1d\"},{\"attributes\":{\"callback\":null,\"column_names\":[\"x\",\"label\",\"height\",\"color\",\"line_alpha\",\"line_color\",\"y\",\"width\",\"fill_alpha\"],\"data\":{\"chart_index\":[\"(4.662200, 5.592240]\"],\"color\":[\"#f22c40\"],\"fill_alpha\":[0.8],\"height\":[282.0],\"label\":[\"(4.662200, 5.592240]\"],\"line_alpha\":[1.0],\"line_color\":[\"black\"],\"width\":[0.93004],\"x\":[\"5.12722\"],\"y\":[141.0]}},\"id\":\"86e01eba-c758-4647-996b-8da6b04aaa08\",\"type\":\"ColumnDataSource\"},{\"attributes\":{\"fill_alpha\":{\"field\":\"fill_alpha\"},\"fill_color\":{\"field\":\"color\"},\"height\":{\"field\":\"height\",\"units\":\"data\"},\"line_color\":{\"field\":\"line_color\"},\"width\":{\"field\":\"width\",\"units\":\"data\"},\"x\":{\"field\":\"x\"},\"y\":{\"field\":\"y\"}},\"id\":\"f3ac138a-123c-4b68-87eb-3fbd6e006df2\",\"type\":\"Rect\"},{\"attributes\":{\"callback\":null,\"column_names\":[\"x\",\"label\",\"height\",\"color\",\"line_alpha\",\"line_color\",\"y\",\"width\",\"fill_alpha\"],\"data\":{\"chart_index\":[\"(0.942040, 1.872080]\"],\"color\":[\"#f22c40\"],\"fill_alpha\":[0.8],\"height\":[463.0],\"label\":[\"(0.942040, 1.872080]\"],\"line_alpha\":[1.0],\"line_color\":[\"black\"],\"width\":[0.9300400000000001],\"x\":[\"1.40706\"],\"y\":[231.5]}},\"id\":\"16ef40f5-7362-484a-a45d-963a0bd383a8\",\"type\":\"ColumnDataSource\"},{\"attributes\":{\"callback\":null,\"column_names\":[\"x\",\"label\",\"height\",\"color\",\"line_alpha\",\"line_color\",\"y\",\"width\",\"fill_alpha\"],\"data\":{\"chart_index\":[\"(14.892640, 15.822680]\"],\"color\":[\"#f22c40\"],\"fill_alpha\":[0.8],\"height\":[402.0],\"label\":[\"(14.892640, 15.822680]\"],\"line_alpha\":[1.0],\"line_color\":[\"black\"],\"width\":[0.93004],\"x\":[\"15.35766\"],\"y\":[201.0]}},\"id\":\"1e4f2863-3ca3-4e95-8641-bd71a599f0d0\",\"type\":\"ColumnDataSource\"},{\"attributes\":{\"fill_alpha\":{\"field\":\"fill_alpha\"},\"fill_color\":{\"field\":\"color\"},\"height\":{\"field\":\"height\",\"units\":\"data\"},\"line_color\":{\"field\":\"line_color\"},\"width\":{\"field\":\"width\",\"units\":\"data\"},\"x\":{\"field\":\"x\"},\"y\":{\"field\":\"y\"}},\"id\":\"e7b5831c-23d2-4eb5-bcd5-2d094b435aac\",\"type\":\"Rect\"},{\"attributes\":{\"active_drag\":\"auto\",\"active_scroll\":\"auto\",\"active_tap\":\"auto\",\"tools\":[{\"id\":\"76619883-3a00-42b7-88e6-7144f077528c\",\"type\":\"PanTool\"},{\"id\":\"51fa7182-8d6a-4819-a2da-109607ca318a\",\"type\":\"WheelZoomTool\"},{\"id\":\"1df82be6-b8fe-457e-8d13-370d34d4b8f5\",\"type\":\"BoxZoomTool\"},{\"id\":\"9f52d763-ef02-4101-8174-fe6da6f78a74\",\"type\":\"SaveTool\"},{\"id\":\"07c51e45-3675-4f5f-bd72-536af9291ae8\",\"type\":\"ResetTool\"},{\"id\":\"cf774026-ab33-4a3f-b486-52ddaa3079f8\",\"type\":\"HelpTool\"}]},\"id\":\"c62dfb46-fe77-4f81-a735-782d6630d969\",\"type\":\"Toolbar\"},{\"attributes\":{\"callback\":null,\"column_names\":[\"x\",\"label\",\"height\",\"color\",\"line_alpha\",\"line_color\",\"y\",\"width\",\"fill_alpha\"],\"data\":{\"chart_index\":[\"(28.843240, 29.773280]\"],\"color\":[\"#f22c40\"],\"fill_alpha\":[0.8],\"height\":[629.0],\"label\":[\"(28.843240, 29.773280]\"],\"line_alpha\":[1.0],\"line_color\":[\"black\"],\"width\":[0.9300400000000018],\"x\":[\"29.30826\"],\"y\":[314.5]}},\"id\":\"95de3765-0618-4fd9-a8c5-bcbdb86e2c37\",\"type\":\"ColumnDataSource\"},{\"attributes\":{\"callback\":null,\"end\":47.67715,\"start\":-1.15115},\"id\":\"347d4899-09e1-4da5-a59c-43caf0e18043\",\"type\":\"Range1d\"},{\"attributes\":{\"data_source\":{\"id\":\"bc4d3124-c001-410a-8444-9d6b51b3a997\",\"type\":\"ColumnDataSource\"},\"glyph\":{\"id\":\"7ec41ddb-17e8-4f2c-a142-5bb05d1d4b33\",\"type\":\"Rect\"},\"hover_glyph\":null,\"nonselection_glyph\":null,\"selection_glyph\":null},\"id\":\"dd565852-9454-4fbe-96fa-fbf011791074\",\"type\":\"GlyphRenderer\"},{\"attributes\":{\"data_source\":{\"id\":\"dde33668-788f-48c6-a2dd-ab21b76cb33f\",\"type\":\"ColumnDataSource\"},\"glyph\":{\"id\":\"69021f1c-8955-4531-bf2c-5fd45bc81593\",\"type\":\"Rect\"},\"hover_glyph\":null,\"nonselection_glyph\":null,\"selection_glyph\":null},\"id\":\"ac35397c-8173-42bc-b222-eea5c4d4ea41\",\"type\":\"GlyphRenderer\"},{\"attributes\":{\"data_source\":{\"id\":\"1feda16f-03d8-40c6-a1a4-a7e22a3cd2d4\",\"type\":\"ColumnDataSource\"},\"glyph\":{\"id\":\"87bc37f0-80ac-4da8-9fe8-54bf8dce2502\",\"type\":\"Rect\"},\"hover_glyph\":null,\"nonselection_glyph\":null,\"selection_glyph\":null},\"id\":\"7ce26b75-4ab4-4e34-8b6a-23a4c4c39917\",\"type\":\"GlyphRenderer\"},{\"attributes\":{\"fill_alpha\":{\"field\":\"fill_alpha\"},\"fill_color\":{\"field\":\"color\"},\"height\":{\"field\":\"height\",\"units\":\"data\"},\"line_color\":{\"field\":\"line_color\"},\"width\":{\"field\":\"width\",\"units\":\"data\"},\"x\":{\"field\":\"x\"},\"y\":{\"field\":\"y\"}},\"id\":\"8afad802-7101-4240-b7b5-01da9b307f55\",\"type\":\"Rect\"},{\"attributes\":{\"data_source\":{\"id\":\"16ef40f5-7362-484a-a45d-963a0bd383a8\",\"type\":\"ColumnDataSource\"},\"glyph\":{\"id\":\"ec5e6497-0839-491d-ab4c-d589e88591a9\",\"type\":\"Rect\"},\"hover_glyph\":null,\"nonselection_glyph\":null,\"selection_glyph\":null},\"id\":\"35be1f1e-562c-427a-8423-dda3082c5eaa\",\"type\":\"GlyphRenderer\"},{\"attributes\":{\"data_source\":{\"id\":\"70498185-7973-4414-ae26-a06c2f827978\",\"type\":\"ColumnDataSource\"},\"glyph\":{\"id\":\"68e1ab2b-2147-4d29-8f7f-be8202ffd0f4\",\"type\":\"Rect\"},\"hover_glyph\":null,\"nonselection_glyph\":null,\"selection_glyph\":null},\"id\":\"07dcfb22-853b-46f8-b5c1-9585f70cb365\",\"type\":\"GlyphRenderer\"},{\"attributes\":{\"callback\":null,\"column_names\":[\"x\",\"label\",\"height\",\"color\",\"line_alpha\",\"line_color\",\"y\",\"width\",\"fill_alpha\"],\"data\":{\"chart_index\":[\"(3.732160, 4.662200]\"],\"color\":[\"#f22c40\"],\"fill_alpha\":[0.8],\"height\":[556.0],\"label\":[\"(3.732160, 4.662200]\"],\"line_alpha\":[1.0],\"line_color\":[\"black\"],\"width\":[0.93004],\"x\":[\"4.19718\"],\"y\":[278.0]}},\"id\":\"676ceedc-ea45-41ca-8a05-8be78b8d7ff5\",\"type\":\"ColumnDataSource\"},{\"attributes\":{\"callback\":null,\"column_names\":[\"x\",\"label\",\"height\",\"color\",\"line_alpha\",\"line_color\",\"y\",\"width\",\"fill_alpha\"],\"data\":{\"chart_index\":[\"(5.592240, 6.522280]\"],\"color\":[\"#f22c40\"],\"fill_alpha\":[0.8],\"height\":[227.0],\"label\":[\"(5.592240, 6.522280]\"],\"line_alpha\":[1.0],\"line_color\":[\"black\"],\"width\":[0.93004],\"x\":[\"6.05726\"],\"y\":[113.5]}},\"id\":\"dde33668-788f-48c6-a2dd-ab21b76cb33f\",\"type\":\"ColumnDataSource\"},{\"attributes\":{\"callback\":null,\"column_names\":[\"x\",\"label\",\"height\",\"color\",\"line_alpha\",\"line_color\",\"y\",\"width\",\"fill_alpha\"],\"data\":{\"chart_index\":[\"(23.263000, 24.193040]\"],\"color\":[\"#f22c40\"],\"fill_alpha\":[0.8],\"height\":[1145.0],\"label\":[\"(23.263000, 24.193040]\"],\"line_alpha\":[1.0],\"line_color\":[\"black\"],\"width\":[0.9300400000000018],\"x\":[\"23.72802\"],\"y\":[572.5]}},\"id\":\"1dbb447c-a533-4700-b0ff-de4b86561b76\",\"type\":\"ColumnDataSource\"},{\"attributes\":{\"fill_alpha\":{\"field\":\"fill_alpha\"},\"fill_color\":{\"field\":\"color\"},\"height\":{\"field\":\"height\",\"units\":\"data\"},\"line_color\":{\"field\":\"line_color\"},\"width\":{\"field\":\"width\",\"units\":\"data\"},\"x\":{\"field\":\"x\"},\"y\":{\"field\":\"y\"}},\"id\":\"1ca51dba-56e0-46fd-9c37-d76a6abf9a3f\",\"type\":\"Rect\"},{\"attributes\":{\"axis_label\":\"Byte Stream Size (kilobytes)\",\"formatter\":{\"id\":\"55f6bd00-49be-4524-97f7-9bca1e192571\",\"type\":\"BasicTickFormatter\"},\"plot\":{\"id\":\"df94ea79-aa3a-47b1-8a06-a12d5e19a935\",\"subtype\":\"Chart\",\"type\":\"Plot\"},\"ticker\":{\"id\":\"6c86c553-4516-48f3-a70e-8f440fe4f52f\",\"type\":\"BasicTicker\"}},\"id\":\"9910c41d-3fe9-4555-9aec-f89f5ff66286\",\"type\":\"LinearAxis\"},{\"attributes\":{\"callback\":null,\"column_names\":[\"x\",\"label\",\"height\",\"color\",\"line_alpha\",\"line_color\",\"y\",\"width\",\"fill_alpha\"],\"data\":{\"chart_index\":[\"(13.962600, 14.892640]\"],\"color\":[\"#f22c40\"],\"fill_alpha\":[0.8],\"height\":[473.0],\"label\":[\"(13.962600, 14.892640]\"],\"line_alpha\":[1.0],\"line_color\":[\"black\"],\"width\":[0.93004],\"x\":[\"14.427620000000001\"],\"y\":[236.5]}},\"id\":\"7dbf3c84-14d1-4806-9fe7-139df74b572d\",\"type\":\"ColumnDataSource\"},{\"attributes\":{\"callback\":null,\"column_names\":[\"x\",\"label\",\"height\",\"color\",\"line_alpha\",\"line_color\",\"y\",\"width\",\"fill_alpha\"],\"data\":{\"chart_index\":[\"[0.012000, 0.942040]\"],\"color\":[\"#f22c40\"],\"fill_alpha\":[0.8],\"height\":[3919.0],\"label\":[\"[0.012000, 0.942040]\"],\"line_alpha\":[1.0],\"line_color\":[\"black\"],\"width\":[0.9300400000000001],\"x\":[\"0.47702\"],\"y\":[1959.5]}},\"id\":\"67fc9a5d-079e-43e4-9291-54cc222077ec\",\"type\":\"ColumnDataSource\"},{\"attributes\":{\"fill_alpha\":{\"field\":\"fill_alpha\"},\"fill_color\":{\"field\":\"color\"},\"height\":{\"field\":\"height\",\"units\":\"data\"},\"line_color\":{\"field\":\"line_color\"},\"width\":{\"field\":\"width\",\"units\":\"data\"},\"x\":{\"field\":\"x\"},\"y\":{\"field\":\"y\"}},\"id\":\"21007ebd-27d9-4d6d-a349-c31d8ef0b3a8\",\"type\":\"Rect\"},{\"attributes\":{\"data_source\":{\"id\":\"676ceedc-ea45-41ca-8a05-8be78b8d7ff5\",\"type\":\"ColumnDataSource\"},\"glyph\":{\"id\":\"2c01a255-8c21-43a7-85db-695fbe50245f\",\"type\":\"Rect\"},\"hover_glyph\":null,\"nonselection_glyph\":null,\"selection_glyph\":null},\"id\":\"68cbb460-5d48-43f8-9eb5-6e693e84b24d\",\"type\":\"GlyphRenderer\"},{\"attributes\":{\"data_source\":{\"id\":\"2e1e350b-27a0-4262-a922-cf3a54341aff\",\"type\":\"ColumnDataSource\"},\"glyph\":{\"id\":\"8afad802-7101-4240-b7b5-01da9b307f55\",\"type\":\"Rect\"},\"hover_glyph\":null,\"nonselection_glyph\":null,\"selection_glyph\":null},\"id\":\"6eb8eaaf-f10f-4ee3-b674-87d421cf1857\",\"type\":\"GlyphRenderer\"},{\"attributes\":{\"fill_alpha\":{\"field\":\"fill_alpha\"},\"fill_color\":{\"field\":\"color\"},\"height\":{\"field\":\"height\",\"units\":\"data\"},\"line_color\":{\"field\":\"line_color\"},\"width\":{\"field\":\"width\",\"units\":\"data\"},\"x\":{\"field\":\"x\"},\"y\":{\"field\":\"y\"}},\"id\":\"46680b3a-fb0e-4626-995b-bda7b1814694\",\"type\":\"Rect\"},{\"attributes\":{\"fill_alpha\":{\"field\":\"fill_alpha\"},\"fill_color\":{\"field\":\"color\"},\"height\":{\"field\":\"height\",\"units\":\"data\"},\"line_color\":{\"field\":\"line_color\"},\"width\":{\"field\":\"width\",\"units\":\"data\"},\"x\":{\"field\":\"x\"},\"y\":{\"field\":\"y\"}},\"id\":\"b0917478-f9fa-4253-8981-59bfe02dcfd2\",\"type\":\"Rect\"},{\"attributes\":{\"data_source\":{\"id\":\"67df8f2a-c7f9-43d5-924a-924038e1d3e5\",\"type\":\"ColumnDataSource\"},\"glyph\":{\"id\":\"76217c99-3183-4106-a191-316e4f1518aa\",\"type\":\"Rect\"},\"hover_glyph\":null,\"nonselection_glyph\":null,\"selection_glyph\":null},\"id\":\"bebad5f1-ebca-43bb-9dcd-23d36983535b\",\"type\":\"GlyphRenderer\"},{\"attributes\":{\"data_source\":{\"id\":\"fa16d654-aba1-40fc-93bc-ab793aef4ee3\",\"type\":\"ColumnDataSource\"},\"glyph\":{\"id\":\"0ea21eb0-b581-4d75-8d10-fa194facf9ca\",\"type\":\"Rect\"},\"hover_glyph\":null,\"nonselection_glyph\":null,\"selection_glyph\":null},\"id\":\"8cfb5bae-d737-431c-9bac-6518011c22ea\",\"type\":\"GlyphRenderer\"},{\"attributes\":{\"data_source\":{\"id\":\"da4b7eec-b45c-45c5-9e8c-85b996bb9405\",\"type\":\"ColumnDataSource\"},\"glyph\":{\"id\":\"9682fbf0-9119-403c-8729-5911396d7a5b\",\"type\":\"Rect\"},\"hover_glyph\":null,\"nonselection_glyph\":null,\"selection_glyph\":null},\"id\":\"8a4e1b37-f8f5-4c53-ab7f-ac5d4b451230\",\"type\":\"GlyphRenderer\"},{\"attributes\":{\"data_source\":{\"id\":\"603cfad0-d629-475d-88a1-715dfe08f0c2\",\"type\":\"ColumnDataSource\"},\"glyph\":{\"id\":\"1ca51dba-56e0-46fd-9c37-d76a6abf9a3f\",\"type\":\"Rect\"},\"hover_glyph\":null,\"nonselection_glyph\":null,\"selection_glyph\":null},\"id\":\"16afba94-773e-4c0c-b3c2-9c46f19ab974\",\"type\":\"GlyphRenderer\"},{\"attributes\":{\"data_source\":{\"id\":\"0ba5f2fb-a3be-4bb5-a018-1ede0eee6b52\",\"type\":\"ColumnDataSource\"},\"glyph\":{\"id\":\"f3213b41-4aa7-4688-befb-2343d28d546d\",\"type\":\"Rect\"},\"hover_glyph\":null,\"nonselection_glyph\":null,\"selection_glyph\":null},\"id\":\"ff3b2373-7885-412c-980a-3c8745cbed21\",\"type\":\"GlyphRenderer\"},{\"attributes\":{\"fill_alpha\":{\"field\":\"fill_alpha\"},\"fill_color\":{\"field\":\"color\"},\"height\":{\"field\":\"height\",\"units\":\"data\"},\"line_color\":{\"field\":\"line_color\"},\"width\":{\"field\":\"width\",\"units\":\"data\"},\"x\":{\"field\":\"x\"},\"y\":{\"field\":\"y\"}},\"id\":\"0a8e1687-ef7d-48a5-8c12-0415d08db650\",\"type\":\"Rect\"},{\"attributes\":{\"callback\":null,\"column_names\":[\"x\",\"label\",\"height\",\"color\",\"line_alpha\",\"line_color\",\"y\",\"width\",\"fill_alpha\"],\"data\":{\"chart_index\":[\"(12.102520, 13.032560]\"],\"color\":[\"#f22c40\"],\"fill_alpha\":[0.8],\"height\":[1262.0],\"label\":[\"(12.102520, 13.032560]\"],\"line_alpha\":[1.0],\"line_color\":[\"black\"],\"width\":[0.93004],\"x\":[\"12.567540000000001\"],\"y\":[631.0]}},\"id\":\"7f18e525-df10-455f-9efc-3f0a069a0c3f\",\"type\":\"ColumnDataSource\"},{\"attributes\":{\"fill_alpha\":{\"field\":\"fill_alpha\"},\"fill_color\":{\"field\":\"color\"},\"height\":{\"field\":\"height\",\"units\":\"data\"},\"line_color\":{\"field\":\"line_color\"},\"width\":{\"field\":\"width\",\"units\":\"data\"},\"x\":{\"field\":\"x\"},\"y\":{\"field\":\"y\"}},\"id\":\"2bed3a91-3ffb-4dd7-8c25-ea8c490cbfb9\",\"type\":\"Rect\"},{\"attributes\":{\"fill_alpha\":{\"field\":\"fill_alpha\"},\"fill_color\":{\"field\":\"color\"},\"height\":{\"field\":\"height\",\"units\":\"data\"},\"line_color\":{\"field\":\"line_color\"},\"width\":{\"field\":\"width\",\"units\":\"data\"},\"x\":{\"field\":\"x\"},\"y\":{\"field\":\"y\"}},\"id\":\"2c01a255-8c21-43a7-85db-695fbe50245f\",\"type\":\"Rect\"},{\"attributes\":{\"dimension\":1,\"plot\":{\"id\":\"df94ea79-aa3a-47b1-8a06-a12d5e19a935\",\"subtype\":\"Chart\",\"type\":\"Plot\"},\"ticker\":{\"id\":\"8f30457b-b154-46a5-8bc3-fb54ecf98b83\",\"type\":\"BasicTicker\"}},\"id\":\"43306a23-e348-4af7-8746-8acd8e82aedf\",\"type\":\"Grid\"},{\"attributes\":{\"data_source\":{\"id\":\"723b4925-86b6-4cc7-90b3-05e99e3a3b64\",\"type\":\"ColumnDataSource\"},\"glyph\":{\"id\":\"b9b6e353-2a59-486e-b567-5021fa1af628\",\"type\":\"Rect\"},\"hover_glyph\":null,\"nonselection_glyph\":null,\"selection_glyph\":null},\"id\":\"e7aad661-7b86-45ed-88ac-8ed70e507169\",\"type\":\"GlyphRenderer\"},{\"attributes\":{\"fill_alpha\":{\"field\":\"fill_alpha\"},\"fill_color\":{\"field\":\"color\"},\"height\":{\"field\":\"height\",\"units\":\"data\"},\"line_color\":{\"field\":\"line_color\"},\"width\":{\"field\":\"width\",\"units\":\"data\"},\"x\":{\"field\":\"x\"},\"y\":{\"field\":\"y\"}},\"id\":\"05634b98-9d26-4672-a7ef-82fc191bc58c\",\"type\":\"Rect\"},{\"attributes\":{\"data_source\":{\"id\":\"12ce1fb0-f39d-4a2b-b886-6ddc359ecfc9\",\"type\":\"ColumnDataSource\"},\"glyph\":{\"id\":\"22a20bf0-a5ce-46e9-96f7-4b507c55b16d\",\"type\":\"Rect\"},\"hover_glyph\":null,\"nonselection_glyph\":null,\"selection_glyph\":null},\"id\":\"e59f0e66-98a3-4297-9aa2-7344e792d7cc\",\"type\":\"GlyphRenderer\"},{\"attributes\":{\"callback\":null,\"column_names\":[\"x\",\"label\",\"height\",\"color\",\"line_alpha\",\"line_color\",\"y\",\"width\",\"fill_alpha\"],\"data\":{\"chart_index\":[\"(18.612800, 19.542840]\"],\"color\":[\"#f22c40\"],\"fill_alpha\":[0.8],\"height\":[990.0],\"label\":[\"(18.612800, 19.542840]\"],\"line_alpha\":[1.0],\"line_color\":[\"black\"],\"width\":[0.9300399999999982],\"x\":[\"19.077820000000003\"],\"y\":[495.0]}},\"id\":\"9eecf563-05ed-4b87-8f35-ad3f2dc928b0\",\"type\":\"ColumnDataSource\"},{\"attributes\":{\"callback\":null,\"column_names\":[\"x\",\"label\",\"height\",\"color\",\"line_alpha\",\"line_color\",\"y\",\"width\",\"fill_alpha\"],\"data\":{\"chart_index\":[\"(21.402920, 22.332960]\"],\"color\":[\"#f22c40\"],\"fill_alpha\":[0.8],\"height\":[972.0],\"label\":[\"(21.402920, 22.332960]\"],\"line_alpha\":[1.0],\"line_color\":[\"black\"],\"width\":[0.9300400000000018],\"x\":[\"21.86794\"],\"y\":[486.0]}},\"id\":\"d188f780-994f-429c-8386-13a5e768ca11\",\"type\":\"ColumnDataSource\"},{\"attributes\":{\"location\":\"top_left\",\"plot\":{\"id\":\"df94ea79-aa3a-47b1-8a06-a12d5e19a935\",\"subtype\":\"Chart\",\"type\":\"Plot\"}},\"id\":\"85b7ac3f-011f-402e-9ae9-265e32aeaa5c\",\"type\":\"Legend\"},{\"attributes\":{\"fill_alpha\":{\"field\":\"fill_alpha\"},\"fill_color\":{\"field\":\"color\"},\"height\":{\"field\":\"height\",\"units\":\"data\"},\"line_color\":{\"field\":\"line_color\"},\"width\":{\"field\":\"width\",\"units\":\"data\"},\"x\":{\"field\":\"x\"},\"y\":{\"field\":\"y\"}},\"id\":\"ec5e6497-0839-491d-ab4c-d589e88591a9\",\"type\":\"Rect\"},{\"attributes\":{\"callback\":null,\"column_names\":[\"x\",\"label\",\"height\",\"color\",\"line_alpha\",\"line_color\",\"y\",\"width\",\"fill_alpha\"],\"data\":{\"chart_index\":[\"(22.332960, 23.263000]\"],\"color\":[\"#f22c40\"],\"fill_alpha\":[0.8],\"height\":[967.0],\"label\":[\"(22.332960, 23.263000]\"],\"line_alpha\":[1.0],\"line_color\":[\"black\"],\"width\":[0.9300399999999982],\"x\":[\"22.797980000000003\"],\"y\":[483.5]}},\"id\":\"b49f5a89-3b15-4f99-ba76-b944d1324f39\",\"type\":\"ColumnDataSource\"},{\"attributes\":{},\"id\":\"55f6bd00-49be-4524-97f7-9bca1e192571\",\"type\":\"BasicTickFormatter\"},{\"attributes\":{\"fill_alpha\":{\"field\":\"fill_alpha\"},\"fill_color\":{\"field\":\"color\"},\"height\":{\"field\":\"height\",\"units\":\"data\"},\"line_color\":{\"field\":\"line_color\"},\"width\":{\"field\":\"width\",\"units\":\"data\"},\"x\":{\"field\":\"x\"},\"y\":{\"field\":\"y\"}},\"id\":\"fb7b6ff6-305b-49c2-b1b5-9a181b97c03b\",\"type\":\"Rect\"},{\"attributes\":{\"callback\":null,\"column_names\":[\"x\",\"label\",\"height\",\"color\",\"line_alpha\",\"line_color\",\"y\",\"width\",\"fill_alpha\"],\"data\":{\"chart_index\":[\"(26.053120, 26.983160]\"],\"color\":[\"#f22c40\"],\"fill_alpha\":[0.8],\"height\":[864.0],\"label\":[\"(26.053120, 26.983160]\"],\"line_alpha\":[1.0],\"line_color\":[\"black\"],\"width\":[0.9300399999999982],\"x\":[\"26.518140000000002\"],\"y\":[432.0]}},\"id\":\"35667d8a-a848-437f-8e3a-fe5e0305efb2\",\"type\":\"ColumnDataSource\"},{\"attributes\":{\"fill_alpha\":{\"field\":\"fill_alpha\"},\"fill_color\":{\"field\":\"color\"},\"height\":{\"field\":\"height\",\"units\":\"data\"},\"line_color\":{\"field\":\"line_color\"},\"width\":{\"field\":\"width\",\"units\":\"data\"},\"x\":{\"field\":\"x\"},\"y\":{\"field\":\"y\"}},\"id\":\"69021f1c-8955-4531-bf2c-5fd45bc81593\",\"type\":\"Rect\"},{\"attributes\":{\"callback\":null,\"column_names\":[\"x\",\"label\",\"height\",\"color\",\"line_alpha\",\"line_color\",\"y\",\"width\",\"fill_alpha\"],\"data\":{\"chart_index\":[\"(20.472880, 21.402920]\"],\"color\":[\"#f22c40\"],\"fill_alpha\":[0.8],\"height\":[1201.0],\"label\":[\"(20.472880, 21.402920]\"],\"line_alpha\":[1.0],\"line_color\":[\"black\"],\"width\":[0.9300399999999982],\"x\":[\"20.9379\"],\"y\":[600.5]}},\"id\":\"d2096ac1-cfe4-4e41-a440-d983bceec7d3\",\"type\":\"ColumnDataSource\"},{\"attributes\":{\"data_source\":{\"id\":\"67fc9a5d-079e-43e4-9291-54cc222077ec\",\"type\":\"ColumnDataSource\"},\"glyph\":{\"id\":\"b0917478-f9fa-4253-8981-59bfe02dcfd2\",\"type\":\"Rect\"},\"hover_glyph\":null,\"nonselection_glyph\":null,\"selection_glyph\":null},\"id\":\"f67357a3-b69c-4e4c-a46d-b7a162f35f54\",\"type\":\"GlyphRenderer\"},{\"attributes\":{\"data_source\":{\"id\":\"54875d82-2670-4b92-84d8-4b11e6c81d59\",\"type\":\"ColumnDataSource\"},\"glyph\":{\"id\":\"438354b6-b1d6-4c3a-a1a5-81bca9eaf8e7\",\"type\":\"Rect\"},\"hover_glyph\":null,\"nonselection_glyph\":null,\"selection_glyph\":null},\"id\":\"ef5ff7ab-24bb-4d14-82d9-6d09f26e496f\",\"type\":\"GlyphRenderer\"},{\"attributes\":{\"fill_alpha\":{\"field\":\"fill_alpha\"},\"fill_color\":{\"field\":\"color\"},\"height\":{\"field\":\"height\",\"units\":\"data\"},\"line_color\":{\"field\":\"line_color\"},\"width\":{\"field\":\"width\",\"units\":\"data\"},\"x\":{\"field\":\"x\"},\"y\":{\"field\":\"y\"}},\"id\":\"fc00c4dc-a0fa-4d23-8966-12c874faf29a\",\"type\":\"Rect\"},{\"attributes\":{\"plot\":null,\"text\":null},\"id\":\"2ff0ccc7-5a59-45ce-9006-4dbeaba98308\",\"type\":\"Title\"},{\"attributes\":{\"callback\":null,\"column_names\":[\"x\",\"label\",\"height\",\"color\",\"line_alpha\",\"line_color\",\"y\",\"width\",\"fill_alpha\"],\"data\":{\"chart_index\":[\"(19.542840, 20.472880]\"],\"color\":[\"#f22c40\"],\"fill_alpha\":[0.8],\"height\":[657.0],\"label\":[\"(19.542840, 20.472880]\"],\"line_alpha\":[1.0],\"line_color\":[\"black\"],\"width\":[0.9300400000000018],\"x\":[\"20.00786\"],\"y\":[328.5]}},\"id\":\"54875d82-2670-4b92-84d8-4b11e6c81d59\",\"type\":\"ColumnDataSource\"},{\"attributes\":{\"callback\":null,\"column_names\":[\"x\",\"label\",\"height\",\"color\",\"line_alpha\",\"line_color\",\"y\",\"width\",\"fill_alpha\"],\"data\":{\"chart_index\":[\"(37.213600, 38.143640]\"],\"color\":[\"#f22c40\"],\"fill_alpha\":[0.8],\"height\":[29666.0],\"label\":[\"(37.213600, 38.143640]\"],\"line_alpha\":[1.0],\"line_color\":[\"black\"],\"width\":[0.9300399999999982],\"x\":[\"37.678619999999995\"],\"y\":[14833.0]}},\"id\":\"bb9510ad-78ff-4509-9278-5d90599190bc\",\"type\":\"ColumnDataSource\"},{\"attributes\":{\"fill_alpha\":{\"field\":\"fill_alpha\"},\"fill_color\":{\"field\":\"color\"},\"height\":{\"field\":\"height\",\"units\":\"data\"},\"line_color\":{\"field\":\"line_color\"},\"width\":{\"field\":\"width\",\"units\":\"data\"},\"x\":{\"field\":\"x\"},\"y\":{\"field\":\"y\"}},\"id\":\"b9b6e353-2a59-486e-b567-5021fa1af628\",\"type\":\"Rect\"},{\"attributes\":{\"fill_alpha\":{\"field\":\"fill_alpha\"},\"fill_color\":{\"field\":\"color\"},\"height\":{\"field\":\"height\",\"units\":\"data\"},\"line_color\":{\"field\":\"line_color\"},\"width\":{\"field\":\"width\",\"units\":\"data\"},\"x\":{\"field\":\"x\"},\"y\":{\"field\":\"y\"}},\"id\":\"497d99ed-2fc8-4e5f-8b96-06a7f34f8a19\",\"type\":\"Rect\"},{\"attributes\":{\"callback\":null,\"column_names\":[\"x\",\"label\",\"height\",\"color\",\"line_alpha\",\"line_color\",\"y\",\"width\",\"fill_alpha\"],\"data\":{\"chart_index\":[\"(9.312400, 10.242440]\"],\"color\":[\"#f22c40\"],\"fill_alpha\":[0.8],\"height\":[406.0],\"label\":[\"(9.312400, 10.242440]\"],\"line_alpha\":[1.0],\"line_color\":[\"black\"],\"width\":[0.93004],\"x\":[\"9.77742\"],\"y\":[203.0]}},\"id\":\"2e1e350b-27a0-4262-a922-cf3a54341aff\",\"type\":\"ColumnDataSource\"},{\"attributes\":{\"callback\":null,\"column_names\":[\"x\",\"label\",\"height\",\"color\",\"line_alpha\",\"line_color\",\"y\",\"width\",\"fill_alpha\"],\"data\":{\"chart_index\":[\"(38.143640, 39.073680]\"],\"color\":[\"#f22c40\"],\"fill_alpha\":[0.8],\"height\":[42846.0],\"label\":[\"(38.143640, 39.073680]\"],\"line_alpha\":[1.0],\"line_color\":[\"black\"],\"width\":[0.9300399999999982],\"x\":[\"38.60866\"],\"y\":[21423.0]}},\"id\":\"ed7d0f6c-5727-43c2-99b2-da2cf4ab3905\",\"type\":\"ColumnDataSource\"},{\"attributes\":{\"fill_alpha\":{\"field\":\"fill_alpha\"},\"fill_color\":{\"field\":\"color\"},\"height\":{\"field\":\"height\",\"units\":\"data\"},\"line_color\":{\"field\":\"line_color\"},\"width\":{\"field\":\"width\",\"units\":\"data\"},\"x\":{\"field\":\"x\"},\"y\":{\"field\":\"y\"}},\"id\":\"d75fa10f-7a8c-4462-872f-747dbcaa73d4\",\"type\":\"Rect\"},{\"attributes\":{\"callback\":null,\"column_names\":[\"x\",\"label\",\"height\",\"color\",\"line_alpha\",\"line_color\",\"y\",\"width\",\"fill_alpha\"],\"data\":{\"chart_index\":[\"(11.172480, 12.102520]\"],\"color\":[\"#f22c40\"],\"fill_alpha\":[0.8],\"height\":[318.0],\"label\":[\"(11.172480, 12.102520]\"],\"line_alpha\":[1.0],\"line_color\":[\"black\"],\"width\":[0.93004],\"x\":[\"11.6375\"],\"y\":[159.0]}},\"id\":\"9425e5ff-28b5-49ee-99e7-7aac5021084f\",\"type\":\"ColumnDataSource\"},{\"attributes\":{\"data_source\":{\"id\":\"87b9e825-988d-43f4-b142-c33f62403383\",\"type\":\"ColumnDataSource\"},\"glyph\":{\"id\":\"fdcf0e17-bc23-42c4-9e0d-15310954b938\",\"type\":\"Rect\"},\"hover_glyph\":null,\"nonselection_glyph\":null,\"selection_glyph\":null},\"id\":\"86b1e169-d775-45f8-86f8-fc074438bffa\",\"type\":\"GlyphRenderer\"},{\"attributes\":{\"callback\":null,\"column_names\":[\"x\",\"label\",\"height\",\"color\",\"line_alpha\",\"line_color\",\"y\",\"width\",\"fill_alpha\"],\"data\":{\"chart_index\":[\"(41.863800, 42.793840]\"],\"color\":[\"#f22c40\"],\"fill_alpha\":[0.8],\"height\":[31904.0],\"label\":[\"(41.863800, 42.793840]\"],\"line_alpha\":[1.0],\"line_color\":[\"black\"],\"width\":[0.9300399999999982],\"x\":[\"42.32882\"],\"y\":[15952.0]}},\"id\":\"67df8f2a-c7f9-43d5-924a-924038e1d3e5\",\"type\":\"ColumnDataSource\"},{\"attributes\":{\"data_source\":{\"id\":\"7f18e525-df10-455f-9efc-3f0a069a0c3f\",\"type\":\"ColumnDataSource\"},\"glyph\":{\"id\":\"46680b3a-fb0e-4626-995b-bda7b1814694\",\"type\":\"Rect\"},\"hover_glyph\":null,\"nonselection_glyph\":null,\"selection_glyph\":null},\"id\":\"108e26f8-18a2-42b9-9555-022aba8b0679\",\"type\":\"GlyphRenderer\"},{\"attributes\":{\"callback\":null,\"column_names\":[\"x\",\"label\",\"height\",\"color\",\"line_alpha\",\"line_color\",\"y\",\"width\",\"fill_alpha\"],\"data\":{\"chart_index\":[\"(43.723880, 44.653920]\"],\"color\":[\"#f22c40\"],\"fill_alpha\":[0.8],\"height\":[5960.0],\"label\":[\"(43.723880, 44.653920]\"],\"line_alpha\":[1.0],\"line_color\":[\"black\"],\"width\":[0.9300400000000053],\"x\":[\"44.188900000000004\"],\"y\":[2980.0]}},\"id\":\"12ce1fb0-f39d-4a2b-b886-6ddc359ecfc9\",\"type\":\"ColumnDataSource\"},{\"attributes\":{\"data_source\":{\"id\":\"a1c9c670-3de2-4f25-bc80-d8c2add86eae\",\"type\":\"ColumnDataSource\"},\"glyph\":{\"id\":\"9f95092b-9968-40fc-9367-1d50d2bf8f80\",\"type\":\"Rect\"},\"hover_glyph\":null,\"nonselection_glyph\":null,\"selection_glyph\":null},\"id\":\"b0743218-3387-475f-aed6-b90c19eafc8c\",\"type\":\"GlyphRenderer\"},{\"attributes\":{\"callback\":null,\"column_names\":[\"x\",\"label\",\"height\",\"color\",\"line_alpha\",\"line_color\",\"y\",\"width\",\"fill_alpha\"],\"data\":{\"chart_index\":[\"(13.032560, 13.962600]\"],\"color\":[\"#f22c40\"],\"fill_alpha\":[0.8],\"height\":[1312.0],\"label\":[\"(13.032560, 13.962600]\"],\"line_alpha\":[1.0],\"line_color\":[\"black\"],\"width\":[0.93004],\"x\":[\"13.49758\"],\"y\":[656.0]}},\"id\":\"dd0aec09-1195-4405-baec-6935da544e7e\",\"type\":\"ColumnDataSource\"},{\"attributes\":{\"fill_alpha\":{\"field\":\"fill_alpha\"},\"fill_color\":{\"field\":\"color\"},\"height\":{\"field\":\"height\",\"units\":\"data\"},\"line_color\":{\"field\":\"line_color\"},\"width\":{\"field\":\"width\",\"units\":\"data\"},\"x\":{\"field\":\"x\"},\"y\":{\"field\":\"y\"}},\"id\":\"fc3ca1c6-8020-4465-a81b-7a1f4fa77e18\",\"type\":\"Rect\"},{\"attributes\":{},\"id\":\"8f30457b-b154-46a5-8bc3-fb54ecf98b83\",\"type\":\"BasicTicker\"},{\"attributes\":{\"callback\":null,\"column_names\":[\"x\",\"label\",\"height\",\"color\",\"line_alpha\",\"line_color\",\"y\",\"width\",\"fill_alpha\"],\"data\":{\"chart_index\":[\"(34.423480, 35.353520]\"],\"color\":[\"#f22c40\"],\"fill_alpha\":[0.8],\"height\":[5722.0],\"label\":[\"(34.423480, 35.353520]\"],\"line_alpha\":[1.0],\"line_color\":[\"black\"],\"width\":[0.9300399999999982],\"x\":[\"34.8885\"],\"y\":[2861.0]}},\"id\":\"c2a3f0cb-4a70-4311-bbd5-7c1eae8cd6a6\",\"type\":\"ColumnDataSource\"},{\"attributes\":{\"data_source\":{\"id\":\"2aa4f2c6-b634-4397-84db-743334328318\",\"type\":\"ColumnDataSource\"},\"glyph\":{\"id\":\"94a6173a-f498-4bfc-9119-0c729e34d612\",\"type\":\"Rect\"},\"hover_glyph\":null,\"nonselection_glyph\":null,\"selection_glyph\":null},\"id\":\"de843746-5263-4266-bdb7-48ac4ddbfad7\",\"type\":\"GlyphRenderer\"},{\"attributes\":{\"data_source\":{\"id\":\"1eda3393-7059-4281-ad4f-6d6316a90f3f\",\"type\":\"ColumnDataSource\"},\"glyph\":{\"id\":\"34db6e52-db77-4213-a529-76c2345e4a64\",\"type\":\"Rect\"},\"hover_glyph\":null,\"nonselection_glyph\":null,\"selection_glyph\":null},\"id\":\"d980e9c5-2fd9-45f8-bb0e-7f09d4d0e177\",\"type\":\"GlyphRenderer\"},{\"attributes\":{\"callback\":null,\"column_names\":[\"x\",\"label\",\"height\",\"color\",\"line_alpha\",\"line_color\",\"y\",\"width\",\"fill_alpha\"],\"data\":{\"chart_index\":[\"(15.822680, 16.752720]\"],\"color\":[\"#f22c40\"],\"fill_alpha\":[0.8],\"height\":[1106.0],\"label\":[\"(15.822680, 16.752720]\"],\"line_alpha\":[1.0],\"line_color\":[\"black\"],\"width\":[0.9300400000000018],\"x\":[\"16.2877\"],\"y\":[553.0]}},\"id\":\"d552748f-9410-4d0c-949b-03db2f21af06\",\"type\":\"ColumnDataSource\"},{\"attributes\":{\"fill_alpha\":{\"field\":\"fill_alpha\"},\"fill_color\":{\"field\":\"color\"},\"height\":{\"field\":\"height\",\"units\":\"data\"},\"line_color\":{\"field\":\"line_color\"},\"width\":{\"field\":\"width\",\"units\":\"data\"},\"x\":{\"field\":\"x\"},\"y\":{\"field\":\"y\"}},\"id\":\"9f95092b-9968-40fc-9367-1d50d2bf8f80\",\"type\":\"Rect\"},{\"attributes\":{\"fill_alpha\":{\"field\":\"fill_alpha\"},\"fill_color\":{\"field\":\"color\"},\"height\":{\"field\":\"height\",\"units\":\"data\"},\"line_color\":{\"field\":\"line_color\"},\"width\":{\"field\":\"width\",\"units\":\"data\"},\"x\":{\"field\":\"x\"},\"y\":{\"field\":\"y\"}},\"id\":\"d4054c22-2f59-46d7-bf81-d42aa529f918\",\"type\":\"Rect\"},{\"attributes\":{\"data_source\":{\"id\":\"470c8e9d-ef7a-472f-b0f5-98b63401dbff\",\"type\":\"ColumnDataSource\"},\"glyph\":{\"id\":\"f6a7e26d-2116-4a44-b182-88cd4f7d0492\",\"type\":\"Rect\"},\"hover_glyph\":null,\"nonselection_glyph\":null,\"selection_glyph\":null},\"id\":\"1697b87c-dde8-4431-aa64-cd2c56def12d\",\"type\":\"GlyphRenderer\"},{\"attributes\":{\"data_source\":{\"id\":\"c2a3f0cb-4a70-4311-bbd5-7c1eae8cd6a6\",\"type\":\"ColumnDataSource\"},\"glyph\":{\"id\":\"05634b98-9d26-4672-a7ef-82fc191bc58c\",\"type\":\"Rect\"},\"hover_glyph\":null,\"nonselection_glyph\":null,\"selection_glyph\":null},\"id\":\"6b6d1bfa-b198-4c5d-91be-2ba1c0e10064\",\"type\":\"GlyphRenderer\"},{\"attributes\":{\"fill_alpha\":{\"field\":\"fill_alpha\"},\"fill_color\":{\"field\":\"color\"},\"height\":{\"field\":\"height\",\"units\":\"data\"},\"line_color\":{\"field\":\"line_color\"},\"width\":{\"field\":\"width\",\"units\":\"data\"},\"x\":{\"field\":\"x\"},\"y\":{\"field\":\"y\"}},\"id\":\"db97a976-4245-45d4-a859-084c38a8247f\",\"type\":\"Rect\"},{\"attributes\":{\"fill_alpha\":{\"field\":\"fill_alpha\"},\"fill_color\":{\"field\":\"color\"},\"height\":{\"field\":\"height\",\"units\":\"data\"},\"line_color\":{\"field\":\"line_color\"},\"width\":{\"field\":\"width\",\"units\":\"data\"},\"x\":{\"field\":\"x\"},\"y\":{\"field\":\"y\"}},\"id\":\"3232d475-911a-4abd-b711-dfd885a8112f\",\"type\":\"Rect\"},{\"attributes\":{\"data_source\":{\"id\":\"1520638c-d26e-42a5-b978-2ea6b8315480\",\"type\":\"ColumnDataSource\"},\"glyph\":{\"id\":\"9dae4e79-1c5f-4125-8564-17bdd402b4c5\",\"type\":\"Rect\"},\"hover_glyph\":null,\"nonselection_glyph\":null,\"selection_glyph\":null},\"id\":\"2ad65ca7-728f-4a57-b32b-f44cc30a504a\",\"type\":\"GlyphRenderer\"},{\"attributes\":{\"callback\":null,\"column_names\":[\"x\",\"label\",\"height\",\"color\",\"line_alpha\",\"line_color\",\"y\",\"width\",\"fill_alpha\"],\"data\":{\"chart_index\":[\"(26.983160, 27.913200]\"],\"color\":[\"#f22c40\"],\"fill_alpha\":[0.8],\"height\":[642.0],\"label\":[\"(26.983160, 27.913200]\"],\"line_alpha\":[1.0],\"line_color\":[\"black\"],\"width\":[0.9300400000000018],\"x\":[\"27.44818\"],\"y\":[321.0]}},\"id\":\"0ba5f2fb-a3be-4bb5-a018-1ede0eee6b52\",\"type\":\"ColumnDataSource\"},{\"attributes\":{\"bottom_units\":\"screen\",\"fill_alpha\":{\"value\":0.5},\"fill_color\":{\"value\":\"lightgrey\"},\"left_units\":\"screen\",\"level\":\"overlay\",\"line_alpha\":{\"value\":1.0},\"line_color\":{\"value\":\"black\"},\"line_dash\":[4,4],\"line_width\":{\"value\":2},\"plot\":null,\"render_mode\":\"css\",\"right_units\":\"screen\",\"top_units\":\"screen\"},\"id\":\"626a81fe-7e62-4009-a422-11972c34a983\",\"type\":\"BoxAnnotation\"},{\"attributes\":{\"data_source\":{\"id\":\"3d6c07b0-5627-417a-b1cf-bd65d3040419\",\"type\":\"ColumnDataSource\"},\"glyph\":{\"id\":\"544a4475-55da-4f4c-bd26-604123a7af65\",\"type\":\"Rect\"},\"hover_glyph\":null,\"nonselection_glyph\":null,\"selection_glyph\":null},\"id\":\"edfc48d0-a023-4c98-bbc2-73f99eafbe82\",\"type\":\"GlyphRenderer\"},{\"attributes\":{\"data_source\":{\"id\":\"d2096ac1-cfe4-4e41-a440-d983bceec7d3\",\"type\":\"ColumnDataSource\"},\"glyph\":{\"id\":\"69a7935a-b064-4116-9b8e-4a770ccc3405\",\"type\":\"Rect\"},\"hover_glyph\":null,\"nonselection_glyph\":null,\"selection_glyph\":null},\"id\":\"80f98d13-5cb5-4c7d-9c92-7e09afe5956e\",\"type\":\"GlyphRenderer\"},{\"attributes\":{\"fill_alpha\":{\"field\":\"fill_alpha\"},\"fill_color\":{\"field\":\"color\"},\"height\":{\"field\":\"height\",\"units\":\"data\"},\"line_color\":{\"field\":\"line_color\"},\"width\":{\"field\":\"width\",\"units\":\"data\"},\"x\":{\"field\":\"x\"},\"y\":{\"field\":\"y\"}},\"id\":\"87bc37f0-80ac-4da8-9fe8-54bf8dce2502\",\"type\":\"Rect\"},{\"attributes\":{\"callback\":null,\"column_names\":[\"x\",\"label\",\"height\",\"color\",\"line_alpha\",\"line_color\",\"y\",\"width\",\"fill_alpha\"],\"data\":{\"chart_index\":[\"(39.073680, 40.003720]\"],\"color\":[\"#f22c40\"],\"fill_alpha\":[0.8],\"height\":[36535.0],\"label\":[\"(39.073680, 40.003720]\"],\"line_alpha\":[1.0],\"line_color\":[\"black\"],\"width\":[0.9300399999999982],\"x\":[\"39.538700000000006\"],\"y\":[18267.5]}},\"id\":\"5942cb44-e8af-4f94-801e-0adaefd34e8c\",\"type\":\"ColumnDataSource\"},{\"attributes\":{\"callback\":null,\"column_names\":[\"x\",\"label\",\"height\",\"color\",\"line_alpha\",\"line_color\",\"y\",\"width\",\"fill_alpha\"],\"data\":{\"chart_index\":[\"(36.283560, 37.213600]\"],\"color\":[\"#f22c40\"],\"fill_alpha\":[0.8],\"height\":[22443.0],\"label\":[\"(36.283560, 37.213600]\"],\"line_alpha\":[1.0],\"line_color\":[\"black\"],\"width\":[0.9300400000000053],\"x\":[\"36.748580000000004\"],\"y\":[11221.5]}},\"id\":\"5ec761b2-a1d9-4f1b-b2b0-eba85d9aa900\",\"type\":\"ColumnDataSource\"},{\"attributes\":{\"fill_alpha\":{\"field\":\"fill_alpha\"},\"fill_color\":{\"field\":\"color\"},\"height\":{\"field\":\"height\",\"units\":\"data\"},\"line_color\":{\"field\":\"line_color\"},\"width\":{\"field\":\"width\",\"units\":\"data\"},\"x\":{\"field\":\"x\"},\"y\":{\"field\":\"y\"}},\"id\":\"e5456010-0064-4a30-8cf4-c2f1eee79459\",\"type\":\"Rect\"},{\"attributes\":{\"data_source\":{\"id\":\"7dbf3c84-14d1-4806-9fe7-139df74b572d\",\"type\":\"ColumnDataSource\"},\"glyph\":{\"id\":\"1a76f6df-4808-416b-86ec-ac22b0adca5b\",\"type\":\"Rect\"},\"hover_glyph\":null,\"nonselection_glyph\":null,\"selection_glyph\":null},\"id\":\"e81fb799-cbed-4ac0-b921-dd2e0aba29c5\",\"type\":\"GlyphRenderer\"},{\"attributes\":{\"callback\":null,\"column_names\":[\"x\",\"label\",\"height\",\"color\",\"line_alpha\",\"line_color\",\"y\",\"width\",\"fill_alpha\"],\"data\":{\"chart_index\":[\"(32.563400, 33.493440]\"],\"color\":[\"#f22c40\"],\"fill_alpha\":[0.8],\"height\":[2628.0],\"label\":[\"(32.563400, 33.493440]\"],\"line_alpha\":[1.0],\"line_color\":[\"black\"],\"width\":[0.9300400000000053],\"x\":[\"33.02842\"],\"y\":[1314.0]}},\"id\":\"87b9e825-988d-43f4-b142-c33f62403383\",\"type\":\"ColumnDataSource\"},{\"attributes\":{\"data_source\":{\"id\":\"35667d8a-a848-437f-8e3a-fe5e0305efb2\",\"type\":\"ColumnDataSource\"},\"glyph\":{\"id\":\"5c267f91-505a-4ff0-b75a-cddd7ca6df56\",\"type\":\"Rect\"},\"hover_glyph\":null,\"nonselection_glyph\":null,\"selection_glyph\":null},\"id\":\"a3c5dd8f-1354-4f23-81f7-1d911b8d0c26\",\"type\":\"GlyphRenderer\"},{\"attributes\":{\"data_source\":{\"id\":\"95de3765-0618-4fd9-a8c5-bcbdb86e2c37\",\"type\":\"ColumnDataSource\"},\"glyph\":{\"id\":\"21007ebd-27d9-4d6d-a349-c31d8ef0b3a8\",\"type\":\"Rect\"},\"hover_glyph\":null,\"nonselection_glyph\":null,\"selection_glyph\":null},\"id\":\"143288e1-a542-48b0-a7cb-ccb8ed1e1f5e\",\"type\":\"GlyphRenderer\"},{\"attributes\":{\"fill_alpha\":{\"field\":\"fill_alpha\"},\"fill_color\":{\"field\":\"color\"},\"height\":{\"field\":\"height\",\"units\":\"data\"},\"line_color\":{\"field\":\"line_color\"},\"width\":{\"field\":\"width\",\"units\":\"data\"},\"x\":{\"field\":\"x\"},\"y\":{\"field\":\"y\"}},\"id\":\"94a6173a-f498-4bfc-9119-0c729e34d612\",\"type\":\"Rect\"},{\"attributes\":{\"callback\":null,\"column_names\":[\"x\",\"label\",\"height\",\"color\",\"line_alpha\",\"line_color\",\"y\",\"width\",\"fill_alpha\"],\"data\":{\"chart_index\":[\"(2.802120, 3.732160]\"],\"color\":[\"#f22c40\"],\"fill_alpha\":[0.8],\"height\":[531.0],\"label\":[\"(2.802120, 3.732160]\"],\"line_alpha\":[1.0],\"line_color\":[\"black\"],\"width\":[0.93004],\"x\":[\"3.26714\"],\"y\":[265.5]}},\"id\":\"1520638c-d26e-42a5-b978-2ea6b8315480\",\"type\":\"ColumnDataSource\"},{\"attributes\":{\"data_source\":{\"id\":\"1dbb447c-a533-4700-b0ff-de4b86561b76\",\"type\":\"ColumnDataSource\"},\"glyph\":{\"id\":\"db97a976-4245-45d4-a859-084c38a8247f\",\"type\":\"Rect\"},\"hover_glyph\":null,\"nonselection_glyph\":null,\"selection_glyph\":null},\"id\":\"eeaf7ef8-58c6-48d4-ad5d-fa1be9ce520a\",\"type\":\"GlyphRenderer\"},{\"attributes\":{\"callback\":null,\"column_names\":[\"x\",\"label\",\"height\",\"color\",\"line_alpha\",\"line_color\",\"y\",\"width\",\"fill_alpha\"],\"data\":{\"chart_index\":[\"(31.633360, 32.563400]\"],\"color\":[\"#f22c40\"],\"fill_alpha\":[0.8],\"height\":[2181.0],\"label\":[\"(31.633360, 32.563400]\"],\"line_alpha\":[1.0],\"line_color\":[\"black\"],\"width\":[0.9300399999999982],\"x\":[\"32.09838\"],\"y\":[1090.5]}},\"id\":\"7b031005-3819-4e18-9624-08f6ffeac545\",\"type\":\"ColumnDataSource\"},{\"attributes\":{\"data_source\":{\"id\":\"70307111-984b-4ad0-b441-ed86fd00332a\",\"type\":\"ColumnDataSource\"},\"glyph\":{\"id\":\"f933c73c-ab75-441e-8f13-a071286f09ee\",\"type\":\"Rect\"},\"hover_glyph\":null,\"nonselection_glyph\":null,\"selection_glyph\":null},\"id\":\"81c7df00-b5f0-498e-959e-27de2798046e\",\"type\":\"GlyphRenderer\"},{\"attributes\":{\"fill_alpha\":{\"field\":\"fill_alpha\"},\"fill_color\":{\"field\":\"color\"},\"height\":{\"field\":\"height\",\"units\":\"data\"},\"line_color\":{\"field\":\"line_color\"},\"width\":{\"field\":\"width\",\"units\":\"data\"},\"x\":{\"field\":\"x\"},\"y\":{\"field\":\"y\"}},\"id\":\"c486badb-9a9d-42ff-ab30-32a8054bc15b\",\"type\":\"Rect\"},{\"attributes\":{\"data_source\":{\"id\":\"bb9510ad-78ff-4509-9278-5d90599190bc\",\"type\":\"ColumnDataSource\"},\"glyph\":{\"id\":\"d4054c22-2f59-46d7-bf81-d42aa529f918\",\"type\":\"Rect\"},\"hover_glyph\":null,\"nonselection_glyph\":null,\"selection_glyph\":null},\"id\":\"6c7a5681-4a3f-490b-9b93-fedaf14d4772\",\"type\":\"GlyphRenderer\"},{\"attributes\":{\"callback\":null,\"column_names\":[\"x\",\"label\",\"height\",\"color\",\"line_alpha\",\"line_color\",\"y\",\"width\",\"fill_alpha\"],\"data\":{\"chart_index\":[\"(25.123080, 26.053120]\"],\"color\":[\"#f22c40\"],\"fill_alpha\":[0.8],\"height\":[777.0],\"label\":[\"(25.123080, 26.053120]\"],\"line_alpha\":[1.0],\"line_color\":[\"black\"],\"width\":[0.9300400000000018],\"x\":[\"25.5881\"],\"y\":[388.5]}},\"id\":\"1b92b7c3-6b91-4307-859d-ebd3c17d529f\",\"type\":\"ColumnDataSource\"},{\"attributes\":{\"plot\":{\"id\":\"df94ea79-aa3a-47b1-8a06-a12d5e19a935\",\"subtype\":\"Chart\",\"type\":\"Plot\"}},\"id\":\"cf774026-ab33-4a3f-b486-52ddaa3079f8\",\"type\":\"HelpTool\"},{\"attributes\":{\"callback\":null,\"column_names\":[\"x\",\"label\",\"height\",\"color\",\"line_alpha\",\"line_color\",\"y\",\"width\",\"fill_alpha\"],\"data\":{\"chart_index\":[\"(30.703320, 31.633360]\"],\"color\":[\"#f22c40\"],\"fill_alpha\":[0.8],\"height\":[1635.0],\"label\":[\"(30.703320, 31.633360]\"],\"line_alpha\":[1.0],\"line_color\":[\"black\"],\"width\":[0.9300399999999982],\"x\":[\"31.16834\"],\"y\":[817.5]}},\"id\":\"603cfad0-d629-475d-88a1-715dfe08f0c2\",\"type\":\"ColumnDataSource\"},{\"attributes\":{\"data_source\":{\"id\":\"dd0aec09-1195-4405-baec-6935da544e7e\",\"type\":\"ColumnDataSource\"},\"glyph\":{\"id\":\"c486badb-9a9d-42ff-ab30-32a8054bc15b\",\"type\":\"Rect\"},\"hover_glyph\":null,\"nonselection_glyph\":null,\"selection_glyph\":null},\"id\":\"397397ca-b03f-4ccd-84bf-778f061eb24d\",\"type\":\"GlyphRenderer\"},{\"attributes\":{\"fill_alpha\":{\"field\":\"fill_alpha\"},\"fill_color\":{\"field\":\"color\"},\"height\":{\"field\":\"height\",\"units\":\"data\"},\"line_color\":{\"field\":\"line_color\"},\"width\":{\"field\":\"width\",\"units\":\"data\"},\"x\":{\"field\":\"x\"},\"y\":{\"field\":\"y\"}},\"id\":\"8a994fcb-2e36-426f-be99-bc10d72847ce\",\"type\":\"Rect\"},{\"attributes\":{\"data_source\":{\"id\":\"889f1f1d-fef2-483a-a9f4-98fd84076fdc\",\"type\":\"ColumnDataSource\"},\"glyph\":{\"id\":\"3232d475-911a-4abd-b711-dfd885a8112f\",\"type\":\"Rect\"},\"hover_glyph\":null,\"nonselection_glyph\":null,\"selection_glyph\":null},\"id\":\"aa0281f0-7854-452e-914d-55d631c122ef\",\"type\":\"GlyphRenderer\"},{\"attributes\":{\"fill_alpha\":{\"field\":\"fill_alpha\"},\"fill_color\":{\"field\":\"color\"},\"height\":{\"field\":\"height\",\"units\":\"data\"},\"line_color\":{\"field\":\"line_color\"},\"width\":{\"field\":\"width\",\"units\":\"data\"},\"x\":{\"field\":\"x\"},\"y\":{\"field\":\"y\"}},\"id\":\"22a20bf0-a5ce-46e9-96f7-4b507c55b16d\",\"type\":\"Rect\"},{\"attributes\":{\"data_source\":{\"id\":\"7b031005-3819-4e18-9624-08f6ffeac545\",\"type\":\"ColumnDataSource\"},\"glyph\":{\"id\":\"f3ac138a-123c-4b68-87eb-3fbd6e006df2\",\"type\":\"Rect\"},\"hover_glyph\":null,\"nonselection_glyph\":null,\"selection_glyph\":null},\"id\":\"25f82353-1261-4336-ab7c-c818b6be8f6a\",\"type\":\"GlyphRenderer\"},{\"attributes\":{\"callback\":null,\"column_names\":[\"x\",\"label\",\"height\",\"color\",\"line_alpha\",\"line_color\",\"y\",\"width\",\"fill_alpha\"],\"data\":{\"chart_index\":[\"(27.913200, 28.843240]\"],\"color\":[\"#f22c40\"],\"fill_alpha\":[0.8],\"height\":[436.0],\"label\":[\"(27.913200, 28.843240]\"],\"line_alpha\":[1.0],\"line_color\":[\"black\"],\"width\":[0.9300399999999982],\"x\":[\"28.37822\"],\"y\":[218.0]}},\"id\":\"fa16d654-aba1-40fc-93bc-ab793aef4ee3\",\"type\":\"ColumnDataSource\"},{\"attributes\":{\"data_source\":{\"id\":\"650cb78f-bdf5-4325-842d-090a2fa31b16\",\"type\":\"ColumnDataSource\"},\"glyph\":{\"id\":\"f55a0fb0-1eee-4706-a912-791efd476e63\",\"type\":\"Rect\"},\"hover_glyph\":null,\"nonselection_glyph\":null,\"selection_glyph\":null},\"id\":\"95dc70a3-a587-49b9-868f-7ac520331157\",\"type\":\"GlyphRenderer\"},{\"attributes\":{\"plot\":{\"id\":\"df94ea79-aa3a-47b1-8a06-a12d5e19a935\",\"subtype\":\"Chart\",\"type\":\"Plot\"}},\"id\":\"76619883-3a00-42b7-88e6-7144f077528c\",\"type\":\"PanTool\"},{\"attributes\":{\"callback\":null,\"column_names\":[\"x\",\"label\",\"height\",\"color\",\"line_alpha\",\"line_color\",\"y\",\"width\",\"fill_alpha\"],\"data\":{\"chart_index\":[\"(6.522280, 7.452320]\"],\"color\":[\"#f22c40\"],\"fill_alpha\":[0.8],\"height\":[213.0],\"label\":[\"(6.522280, 7.452320]\"],\"line_alpha\":[1.0],\"line_color\":[\"black\"],\"width\":[0.93004],\"x\":[\"6.9873\"],\"y\":[106.5]}},\"id\":\"3d6c07b0-5627-417a-b1cf-bd65d3040419\",\"type\":\"ColumnDataSource\"},{\"attributes\":{\"callback\":null,\"column_names\":[\"x\",\"label\",\"height\",\"color\",\"line_alpha\",\"line_color\",\"y\",\"width\",\"fill_alpha\"],\"data\":{\"chart_index\":[\"(8.382360, 9.312400]\"],\"color\":[\"#f22c40\"],\"fill_alpha\":[0.8],\"height\":[119.0],\"label\":[\"(8.382360, 9.312400]\"],\"line_alpha\":[1.0],\"line_color\":[\"black\"],\"width\":[0.93004],\"x\":[\"8.847380000000001\"],\"y\":[59.5]}},\"id\":\"470c8e9d-ef7a-472f-b0f5-98b63401dbff\",\"type\":\"ColumnDataSource\"},{\"attributes\":{\"fill_alpha\":{\"field\":\"fill_alpha\"},\"fill_color\":{\"field\":\"color\"},\"height\":{\"field\":\"height\",\"units\":\"data\"},\"line_color\":{\"field\":\"line_color\"},\"width\":{\"field\":\"width\",\"units\":\"data\"},\"x\":{\"field\":\"x\"},\"y\":{\"field\":\"y\"}},\"id\":\"f55a0fb0-1eee-4706-a912-791efd476e63\",\"type\":\"Rect\"},{\"attributes\":{\"fill_alpha\":{\"field\":\"fill_alpha\"},\"fill_color\":{\"field\":\"color\"},\"height\":{\"field\":\"height\",\"units\":\"data\"},\"line_color\":{\"field\":\"line_color\"},\"width\":{\"field\":\"width\",\"units\":\"data\"},\"x\":{\"field\":\"x\"},\"y\":{\"field\":\"y\"}},\"id\":\"438354b6-b1d6-4c3a-a1a5-81bca9eaf8e7\",\"type\":\"Rect\"},{\"attributes\":{\"data_source\":{\"id\":\"d552748f-9410-4d0c-949b-03db2f21af06\",\"type\":\"ColumnDataSource\"},\"glyph\":{\"id\":\"497d99ed-2fc8-4e5f-8b96-06a7f34f8a19\",\"type\":\"Rect\"},\"hover_glyph\":null,\"nonselection_glyph\":null,\"selection_glyph\":null},\"id\":\"88cfa780-e4ee-4144-81f0-f96b2d7ab988\",\"type\":\"GlyphRenderer\"},{\"attributes\":{\"callback\":null,\"column_names\":[\"x\",\"label\",\"height\",\"color\",\"line_alpha\",\"line_color\",\"y\",\"width\",\"fill_alpha\"],\"data\":{\"chart_index\":[\"(10.242440, 11.172480]\"],\"color\":[\"#f22c40\"],\"fill_alpha\":[0.8],\"height\":[435.0],\"label\":[\"(10.242440, 11.172480]\"],\"line_alpha\":[1.0],\"line_color\":[\"black\"],\"width\":[0.93004],\"x\":[\"10.707460000000001\"],\"y\":[217.5]}},\"id\":\"23ec0063-17c2-4387-ace1-1f474b2be9ce\",\"type\":\"ColumnDataSource\"},{\"attributes\":{\"fill_alpha\":{\"field\":\"fill_alpha\"},\"fill_color\":{\"field\":\"color\"},\"height\":{\"field\":\"height\",\"units\":\"data\"},\"line_color\":{\"field\":\"line_color\"},\"width\":{\"field\":\"width\",\"units\":\"data\"},\"x\":{\"field\":\"x\"},\"y\":{\"field\":\"y\"}},\"id\":\"bcbf0ac6-ca49-4b63-8ec0-e86cf6d0c989\",\"type\":\"Rect\"},{\"attributes\":{\"fill_alpha\":{\"field\":\"fill_alpha\"},\"fill_color\":{\"field\":\"color\"},\"height\":{\"field\":\"height\",\"units\":\"data\"},\"line_color\":{\"field\":\"line_color\"},\"width\":{\"field\":\"width\",\"units\":\"data\"},\"x\":{\"field\":\"x\"},\"y\":{\"field\":\"y\"}},\"id\":\"40aa836d-5cdd-4d0a-9739-57a925154cdc\",\"type\":\"Rect\"},{\"attributes\":{\"fill_alpha\":{\"field\":\"fill_alpha\"},\"fill_color\":{\"field\":\"color\"},\"height\":{\"field\":\"height\",\"units\":\"data\"},\"line_color\":{\"field\":\"line_color\"},\"width\":{\"field\":\"width\",\"units\":\"data\"},\"x\":{\"field\":\"x\"},\"y\":{\"field\":\"y\"}},\"id\":\"cebd3f16-8075-4af0-b415-ee90eca25bd9\",\"type\":\"Rect\"},{\"attributes\":{\"callback\":null,\"column_names\":[\"x\",\"label\",\"height\",\"color\",\"line_alpha\",\"line_color\",\"y\",\"width\",\"fill_alpha\"],\"data\":{\"chart_index\":[\"(17.682760, 18.612800]\"],\"color\":[\"#f22c40\"],\"fill_alpha\":[0.8],\"height\":[1208.0],\"label\":[\"(17.682760, 18.612800]\"],\"line_alpha\":[1.0],\"line_color\":[\"black\"],\"width\":[0.9300400000000018],\"x\":[\"18.147779999999997\"],\"y\":[604.0]}},\"id\":\"650cb78f-bdf5-4325-842d-090a2fa31b16\",\"type\":\"ColumnDataSource\"},{\"attributes\":{\"data_source\":{\"id\":\"23ec0063-17c2-4387-ace1-1f474b2be9ce\",\"type\":\"ColumnDataSource\"},\"glyph\":{\"id\":\"fb7b6ff6-305b-49c2-b1b5-9a181b97c03b\",\"type\":\"Rect\"},\"hover_glyph\":null,\"nonselection_glyph\":null,\"selection_glyph\":null},\"id\":\"c3ff0ce5-62f8-47a7-9ba7-2cfbbf8ac2b1\",\"type\":\"GlyphRenderer\"},{\"attributes\":{\"fill_alpha\":{\"field\":\"fill_alpha\"},\"fill_color\":{\"field\":\"color\"},\"height\":{\"field\":\"height\",\"units\":\"data\"},\"line_color\":{\"field\":\"line_color\"},\"width\":{\"field\":\"width\",\"units\":\"data\"},\"x\":{\"field\":\"x\"},\"y\":{\"field\":\"y\"}},\"id\":\"5c267f91-505a-4ff0-b75a-cddd7ca6df56\",\"type\":\"Rect\"},{\"attributes\":{\"callback\":null,\"column_names\":[\"x\",\"label\",\"height\",\"color\",\"line_alpha\",\"line_color\",\"y\",\"width\",\"fill_alpha\"],\"data\":{\"chart_index\":[\"(40.933760, 41.863800]\"],\"color\":[\"#f22c40\"],\"fill_alpha\":[0.8],\"height\":[33567.0],\"label\":[\"(40.933760, 41.863800]\"],\"line_alpha\":[1.0],\"line_color\":[\"black\"],\"width\":[0.9300399999999982],\"x\":[\"41.39878\"],\"y\":[16783.5]}},\"id\":\"1feda16f-03d8-40c6-a1a4-a7e22a3cd2d4\",\"type\":\"ColumnDataSource\"},{\"attributes\":{\"data_source\":{\"id\":\"9eecf563-05ed-4b87-8f35-ad3f2dc928b0\",\"type\":\"ColumnDataSource\"},\"glyph\":{\"id\":\"8a994fcb-2e36-426f-be99-bc10d72847ce\",\"type\":\"Rect\"},\"hover_glyph\":null,\"nonselection_glyph\":null,\"selection_glyph\":null},\"id\":\"1cdf4a56-3537-4b10-b2d8-da3c0759f9d2\",\"type\":\"GlyphRenderer\"},{\"attributes\":{\"fill_alpha\":{\"field\":\"fill_alpha\"},\"fill_color\":{\"field\":\"color\"},\"height\":{\"field\":\"height\",\"units\":\"data\"},\"line_color\":{\"field\":\"line_color\"},\"width\":{\"field\":\"width\",\"units\":\"data\"},\"x\":{\"field\":\"x\"},\"y\":{\"field\":\"y\"}},\"id\":\"69a7935a-b064-4116-9b8e-4a770ccc3405\",\"type\":\"Rect\"},{\"attributes\":{\"data_source\":{\"id\":\"b49f5a89-3b15-4f99-ba76-b944d1324f39\",\"type\":\"ColumnDataSource\"},\"glyph\":{\"id\":\"d75fa10f-7a8c-4462-872f-747dbcaa73d4\",\"type\":\"Rect\"},\"hover_glyph\":null,\"nonselection_glyph\":null,\"selection_glyph\":null},\"id\":\"6a0f6325-9ae1-46ee-8ad2-edd424015ab9\",\"type\":\"GlyphRenderer\"},{\"attributes\":{\"axis_label\":\"Count( Size )\",\"formatter\":{\"id\":\"218c469a-3c9d-4def-84f3-efdce1e33094\",\"type\":\"BasicTickFormatter\"},\"plot\":{\"id\":\"df94ea79-aa3a-47b1-8a06-a12d5e19a935\",\"subtype\":\"Chart\",\"type\":\"Plot\"},\"ticker\":{\"id\":\"8f30457b-b154-46a5-8bc3-fb54ecf98b83\",\"type\":\"BasicTicker\"}},\"id\":\"379580a6-9a43-45a2-a52e-4df81e80c012\",\"type\":\"LinearAxis\"},{\"attributes\":{},\"id\":\"d7b1e333-5daa-40bb-986b-efe6e5ba7baf\",\"type\":\"ToolEvents\"},{\"attributes\":{},\"id\":\"218c469a-3c9d-4def-84f3-efdce1e33094\",\"type\":\"BasicTickFormatter\"},{\"attributes\":{\"fill_alpha\":{\"field\":\"fill_alpha\"},\"fill_color\":{\"field\":\"color\"},\"height\":{\"field\":\"height\",\"units\":\"data\"},\"line_color\":{\"field\":\"line_color\"},\"width\":{\"field\":\"width\",\"units\":\"data\"},\"x\":{\"field\":\"x\"},\"y\":{\"field\":\"y\"}},\"id\":\"f933c73c-ab75-441e-8f13-a071286f09ee\",\"type\":\"Rect\"},{\"attributes\":{\"overlay\":{\"id\":\"626a81fe-7e62-4009-a422-11972c34a983\",\"type\":\"BoxAnnotation\"},\"plot\":{\"id\":\"df94ea79-aa3a-47b1-8a06-a12d5e19a935\",\"subtype\":\"Chart\",\"type\":\"Plot\"}},\"id\":\"1df82be6-b8fe-457e-8d13-370d34d4b8f5\",\"type\":\"BoxZoomTool\"},{\"attributes\":{\"plot\":{\"id\":\"df94ea79-aa3a-47b1-8a06-a12d5e19a935\",\"subtype\":\"Chart\",\"type\":\"Plot\"}},\"id\":\"51fa7182-8d6a-4819-a2da-109607ca318a\",\"type\":\"WheelZoomTool\"},{\"attributes\":{\"data_source\":{\"id\":\"ed7d0f6c-5727-43c2-99b2-da2cf4ab3905\",\"type\":\"ColumnDataSource\"},\"glyph\":{\"id\":\"2bed3a91-3ffb-4dd7-8c25-ea8c490cbfb9\",\"type\":\"Rect\"},\"hover_glyph\":null,\"nonselection_glyph\":null,\"selection_glyph\":null},\"id\":\"26158b94-e6a0-4bb4-8028-fd89f3fb7567\",\"type\":\"GlyphRenderer\"},{\"attributes\":{\"data_source\":{\"id\":\"593bb5da-76da-41cf-8a54-7741f26ef087\",\"type\":\"ColumnDataSource\"},\"glyph\":{\"id\":\"e5456010-0064-4a30-8cf4-c2f1eee79459\",\"type\":\"Rect\"},\"hover_glyph\":null,\"nonselection_glyph\":null,\"selection_glyph\":null},\"id\":\"85ea344e-c7da-476e-b839-20b9aa1d5675\",\"type\":\"GlyphRenderer\"},{\"attributes\":{\"callback\":null,\"column_names\":[\"x\",\"label\",\"height\",\"color\",\"line_alpha\",\"line_color\",\"y\",\"width\",\"fill_alpha\"],\"data\":{\"chart_index\":[\"(35.353520, 36.283560]\"],\"color\":[\"#f22c40\"],\"fill_alpha\":[0.8],\"height\":[14195.0],\"label\":[\"(35.353520, 36.283560]\"],\"line_alpha\":[1.0],\"line_color\":[\"black\"],\"width\":[0.9300399999999982],\"x\":[\"35.81854\"],\"y\":[7097.5]}},\"id\":\"667ceeaa-648a-4f82-b4df-a6af6fff0619\",\"type\":\"ColumnDataSource\"},{\"attributes\":{\"fill_alpha\":{\"field\":\"fill_alpha\"},\"fill_color\":{\"field\":\"color\"},\"height\":{\"field\":\"height\",\"units\":\"data\"},\"line_color\":{\"field\":\"line_color\"},\"width\":{\"field\":\"width\",\"units\":\"data\"},\"x\":{\"field\":\"x\"},\"y\":{\"field\":\"y\"}},\"id\":\"76217c99-3183-4106-a191-316e4f1518aa\",\"type\":\"Rect\"},{\"attributes\":{\"callback\":null,\"column_names\":[\"x\",\"label\",\"height\",\"color\",\"line_alpha\",\"line_color\",\"y\",\"width\",\"fill_alpha\"],\"data\":{\"chart_index\":[\"(45.583960, 46.514000]\"],\"color\":[\"#f22c40\"],\"fill_alpha\":[0.8],\"height\":[2056.0],\"label\":[\"(45.583960, 46.514000]\"],\"line_alpha\":[1.0],\"line_color\":[\"black\"],\"width\":[0.9300399999999982],\"x\":[\"46.04898\"],\"y\":[1028.0]}},\"id\":\"70307111-984b-4ad0-b441-ed86fd00332a\",\"type\":\"ColumnDataSource\"},{\"attributes\":{\"fill_alpha\":{\"field\":\"fill_alpha\"},\"fill_color\":{\"field\":\"color\"},\"height\":{\"field\":\"height\",\"units\":\"data\"},\"line_color\":{\"field\":\"line_color\"},\"width\":{\"field\":\"width\",\"units\":\"data\"},\"x\":{\"field\":\"x\"},\"y\":{\"field\":\"y\"}},\"id\":\"1a76f6df-4808-416b-86ec-ac22b0adca5b\",\"type\":\"Rect\"},{\"attributes\":{\"fill_alpha\":{\"field\":\"fill_alpha\"},\"fill_color\":{\"field\":\"color\"},\"height\":{\"field\":\"height\",\"units\":\"data\"},\"line_color\":{\"field\":\"line_color\"},\"width\":{\"field\":\"width\",\"units\":\"data\"},\"x\":{\"field\":\"x\"},\"y\":{\"field\":\"y\"}},\"id\":\"544a4475-55da-4f4c-bd26-604123a7af65\",\"type\":\"Rect\"},{\"attributes\":{\"fill_alpha\":{\"field\":\"fill_alpha\"},\"fill_color\":{\"field\":\"color\"},\"height\":{\"field\":\"height\",\"units\":\"data\"},\"line_color\":{\"field\":\"line_color\"},\"width\":{\"field\":\"width\",\"units\":\"data\"},\"x\":{\"field\":\"x\"},\"y\":{\"field\":\"y\"}},\"id\":\"9682fbf0-9119-403c-8729-5911396d7a5b\",\"type\":\"Rect\"},{\"attributes\":{\"data_source\":{\"id\":\"667ceeaa-648a-4f82-b4df-a6af6fff0619\",\"type\":\"ColumnDataSource\"},\"glyph\":{\"id\":\"40aa836d-5cdd-4d0a-9739-57a925154cdc\",\"type\":\"Rect\"},\"hover_glyph\":null,\"nonselection_glyph\":null,\"selection_glyph\":null},\"id\":\"ad62115f-9116-4502-b8d3-1ea4bc885e53\",\"type\":\"GlyphRenderer\"},{\"attributes\":{\"fill_alpha\":{\"field\":\"fill_alpha\"},\"fill_color\":{\"field\":\"color\"},\"height\":{\"field\":\"height\",\"units\":\"data\"},\"line_color\":{\"field\":\"line_color\"},\"width\":{\"field\":\"width\",\"units\":\"data\"},\"x\":{\"field\":\"x\"},\"y\":{\"field\":\"y\"}},\"id\":\"fdcf0e17-bc23-42c4-9e0d-15310954b938\",\"type\":\"Rect\"}],\"root_ids\":[\"df94ea79-aa3a-47b1-8a06-a12d5e19a935\"]},\"title\":\"Bokeh Application\",\"version\":\"0.12.4\"}};\n",
       "            var render_items = [{\"docid\":\"dc34c9be-edd2-477e-9daa-1e9f268046ff\",\"elementid\":\"bd4d2a4f-def2-44e7-a323-322048bc6b88\",\"modelid\":\"df94ea79-aa3a-47b1-8a06-a12d5e19a935\"}];\n",
       "            \n",
       "            Bokeh.embed.embed_items(docs_json, render_items);\n",
       "          };\n",
       "          if (document.readyState != \"loading\") fn();\n",
       "          else document.addEventListener(\"DOMContentLoaded\", fn);\n",
       "        })();\n",
       "      },\n",
       "      function(Bokeh) {\n",
       "      }\n",
       "    ];\n",
       "  \n",
       "    function run_inline_js() {\n",
       "      \n",
       "      if ((window.Bokeh !== undefined) || (force === true)) {\n",
       "        for (var i = 0; i < inline_js.length; i++) {\n",
       "          inline_js[i](window.Bokeh);\n",
       "        }if (force === true) {\n",
       "          display_loaded();\n",
       "        }} else if (Date.now() < window._bokeh_timeout) {\n",
       "        setTimeout(run_inline_js, 100);\n",
       "      } else if (!window._bokeh_failed_load) {\n",
       "        console.log(\"Bokeh: BokehJS failed to load within specified timeout.\");\n",
       "        window._bokeh_failed_load = true;\n",
       "      } else if (force !== true) {\n",
       "        var cell = $(document.getElementById(\"bd4d2a4f-def2-44e7-a323-322048bc6b88\")).parents('.cell').data().cell;\n",
       "        cell.output_area.append_execute_result(NB_LOAD_WARNING)\n",
       "      }\n",
       "  \n",
       "    }\n",
       "  \n",
       "    if (window._bokeh_is_loading === 0) {\n",
       "      console.log(\"Bokeh: BokehJS loaded, going straight to plotting\");\n",
       "      run_inline_js();\n",
       "    } else {\n",
       "      load_libs(js_urls, function() {\n",
       "        console.log(\"Bokeh: BokehJS plotting callback run at\", now());\n",
       "        run_inline_js();\n",
       "      });\n",
       "    }\n",
       "  }(this));\n",
       "</script>"
      ]
     },
     "metadata": {},
     "output_type": "display_data"
    }
   ],
   "source": [
    "p = Histogram(merra2_tavg.drop_duplicates('Checksum')['Size']/1000, bins=50,\n",
    "             xlabel='Byte Stream Size (kilobytes)')\n",
    "show(p)"
   ]
  },
  {
   "cell_type": "code",
   "execution_count": 92,
   "metadata": {
    "collapsed": false
   },
   "outputs": [
    {
     "data": {
      "text/plain": [
       "count    310419.000000\n",
       "mean      37468.077434\n",
       "std        7695.430475\n",
       "min          12.000000\n",
       "25%       37168.000000\n",
       "50%       39165.000000\n",
       "75%       41436.000000\n",
       "max       46514.000000\n",
       "Name: Size, dtype: float64"
      ]
     },
     "execution_count": 92,
     "metadata": {},
     "output_type": "execute_result"
    }
   ],
   "source": [
    "merra2_tavg.drop_duplicates('Checksum')['Size'].describe()"
   ]
  },
  {
   "cell_type": "markdown",
   "metadata": {
    "collapsed": true
   },
   "source": [
    "### Datasets"
   ]
  },
  {
   "cell_type": "markdown",
   "metadata": {},
   "source": [
    "#### How many datasets per file?"
   ]
  },
  {
   "cell_type": "code",
   "execution_count": 93,
   "metadata": {
    "collapsed": true
   },
   "outputs": [],
   "source": [
    "grp = merra2_tavg.groupby('File')"
   ]
  },
  {
   "cell_type": "code",
   "execution_count": 94,
   "metadata": {
    "collapsed": false
   },
   "outputs": [
    {
     "data": {
      "text/plain": [
       "count    108.0\n",
       "mean     197.0\n",
       "std        0.0\n",
       "min      197.0\n",
       "25%      197.0\n",
       "50%      197.0\n",
       "75%      197.0\n",
       "max      197.0\n",
       "Name: Dataset, dtype: float64"
      ]
     },
     "execution_count": 94,
     "metadata": {},
     "output_type": "execute_result"
    }
   ],
   "source": [
    "grp.Dataset.unique().apply(lambda l: len(l)).describe()"
   ]
  },
  {
   "cell_type": "markdown",
   "metadata": {},
   "source": [
    "#### Is every dataset in every file chunked?"
   ]
  },
  {
   "cell_type": "code",
   "execution_count": 95,
   "metadata": {
    "collapsed": true
   },
   "outputs": [],
   "source": [
    "grp = merra2_tavg.groupby(['File', 'Dataset'])"
   ]
  },
  {
   "cell_type": "code",
   "execution_count": 96,
   "metadata": {
    "collapsed": false
   },
   "outputs": [
    {
     "data": {
      "text/plain": [
       "True"
      ]
     },
     "execution_count": 96,
     "metadata": {},
     "output_type": "execute_result"
    }
   ],
   "source": [
    "grp.Chunk_Flag.agg(all).all()"
   ]
  },
  {
   "cell_type": "markdown",
   "metadata": {},
   "source": [
    "#### How many byte streams per dataset?"
   ]
  },
  {
   "cell_type": "code",
   "execution_count": 97,
   "metadata": {
    "collapsed": false
   },
   "outputs": [
    {
     "data": {
      "text/plain": [
       "count    21276.000000\n",
       "mean        15.771574\n",
       "std          1.836947\n",
       "min          1.000000\n",
       "25%         16.000000\n",
       "50%         16.000000\n",
       "75%         16.000000\n",
       "max         16.000000\n",
       "Name: UUID, dtype: float64"
      ]
     },
     "execution_count": 97,
     "metadata": {},
     "output_type": "execute_result"
    }
   ],
   "source": [
    "grp.UUID.count().describe()"
   ]
  },
  {
   "cell_type": "code",
   "execution_count": 98,
   "metadata": {
    "collapsed": false
   },
   "outputs": [
    {
     "data": {
      "text/html": [
       "\n",
       "\n",
       "    <div class=\"bk-root\">\n",
       "        <div class=\"bk-plotdiv\" id=\"e213ed17-b053-4aa9-b0b3-058972c3f7a8\"></div>\n",
       "    </div>\n",
       "<script type=\"text/javascript\">\n",
       "  \n",
       "  (function(global) {\n",
       "    function now() {\n",
       "      return new Date();\n",
       "    }\n",
       "  \n",
       "    var force = false;\n",
       "  \n",
       "    if (typeof (window._bokeh_onload_callbacks) === \"undefined\" || force === true) {\n",
       "      window._bokeh_onload_callbacks = [];\n",
       "      window._bokeh_is_loading = undefined;\n",
       "    }\n",
       "  \n",
       "  \n",
       "    \n",
       "    if (typeof (window._bokeh_timeout) === \"undefined\" || force === true) {\n",
       "      window._bokeh_timeout = Date.now() + 0;\n",
       "      window._bokeh_failed_load = false;\n",
       "    }\n",
       "  \n",
       "    var NB_LOAD_WARNING = {'data': {'text/html':\n",
       "       \"<div style='background-color: #fdd'>\\n\"+\n",
       "       \"<p>\\n\"+\n",
       "       \"BokehJS does not appear to have successfully loaded. If loading BokehJS from CDN, this \\n\"+\n",
       "       \"may be due to a slow or bad network connection. Possible fixes:\\n\"+\n",
       "       \"</p>\\n\"+\n",
       "       \"<ul>\\n\"+\n",
       "       \"<li>re-rerun `output_notebook()` to attempt to load from CDN again, or</li>\\n\"+\n",
       "       \"<li>use INLINE resources instead, as so:</li>\\n\"+\n",
       "       \"</ul>\\n\"+\n",
       "       \"<code>\\n\"+\n",
       "       \"from bokeh.resources import INLINE\\n\"+\n",
       "       \"output_notebook(resources=INLINE)\\n\"+\n",
       "       \"</code>\\n\"+\n",
       "       \"</div>\"}};\n",
       "  \n",
       "    function display_loaded() {\n",
       "      if (window.Bokeh !== undefined) {\n",
       "        document.getElementById(\"e213ed17-b053-4aa9-b0b3-058972c3f7a8\").textContent = \"BokehJS successfully loaded.\";\n",
       "      } else if (Date.now() < window._bokeh_timeout) {\n",
       "        setTimeout(display_loaded, 100)\n",
       "      }\n",
       "    }\n",
       "  \n",
       "    function run_callbacks() {\n",
       "      window._bokeh_onload_callbacks.forEach(function(callback) { callback() });\n",
       "      delete window._bokeh_onload_callbacks\n",
       "      console.info(\"Bokeh: all callbacks have finished\");\n",
       "    }\n",
       "  \n",
       "    function load_libs(js_urls, callback) {\n",
       "      window._bokeh_onload_callbacks.push(callback);\n",
       "      if (window._bokeh_is_loading > 0) {\n",
       "        console.log(\"Bokeh: BokehJS is being loaded, scheduling callback at\", now());\n",
       "        return null;\n",
       "      }\n",
       "      if (js_urls == null || js_urls.length === 0) {\n",
       "        run_callbacks();\n",
       "        return null;\n",
       "      }\n",
       "      console.log(\"Bokeh: BokehJS not loaded, scheduling load and callback at\", now());\n",
       "      window._bokeh_is_loading = js_urls.length;\n",
       "      for (var i = 0; i < js_urls.length; i++) {\n",
       "        var url = js_urls[i];\n",
       "        var s = document.createElement('script');\n",
       "        s.src = url;\n",
       "        s.async = false;\n",
       "        s.onreadystatechange = s.onload = function() {\n",
       "          window._bokeh_is_loading--;\n",
       "          if (window._bokeh_is_loading === 0) {\n",
       "            console.log(\"Bokeh: all BokehJS libraries loaded\");\n",
       "            run_callbacks()\n",
       "          }\n",
       "        };\n",
       "        s.onerror = function() {\n",
       "          console.warn(\"failed to load library \" + url);\n",
       "        };\n",
       "        console.log(\"Bokeh: injecting script tag for BokehJS library: \", url);\n",
       "        document.getElementsByTagName(\"head\")[0].appendChild(s);\n",
       "      }\n",
       "    };var element = document.getElementById(\"e213ed17-b053-4aa9-b0b3-058972c3f7a8\");\n",
       "    if (element == null) {\n",
       "      console.log(\"Bokeh: ERROR: autoload.js configured with elementid 'e213ed17-b053-4aa9-b0b3-058972c3f7a8' but no matching script tag was found. \")\n",
       "      return false;\n",
       "    }\n",
       "  \n",
       "    var js_urls = [];\n",
       "  \n",
       "    var inline_js = [\n",
       "      function(Bokeh) {\n",
       "        (function() {\n",
       "          var fn = function() {\n",
       "            var docs_json = {\"5d9a983c-2f1f-4199-9ef6-ffda8c59d602\":{\"roots\":{\"references\":[{\"attributes\":{\"fill_alpha\":{\"field\":\"fill_alpha\"},\"fill_color\":{\"field\":\"color\"},\"height\":{\"field\":\"height\",\"units\":\"data\"},\"line_color\":{\"field\":\"line_color\"},\"width\":{\"field\":\"width\",\"units\":\"data\"},\"x\":{\"field\":\"x\"},\"y\":{\"field\":\"y\"}},\"id\":\"37f49607-4687-4c9b-943b-d6505db5ff9c\",\"type\":\"Rect\"},{\"attributes\":{\"fill_alpha\":{\"field\":\"fill_alpha\"},\"fill_color\":{\"field\":\"color\"},\"height\":{\"field\":\"height\",\"units\":\"data\"},\"line_color\":{\"field\":\"line_color\"},\"width\":{\"field\":\"width\",\"units\":\"data\"},\"x\":{\"field\":\"x\"},\"y\":{\"field\":\"y\"}},\"id\":\"796f098d-485c-47aa-b7c4-005ded216ac9\",\"type\":\"Rect\"},{\"attributes\":{\"callback\":null,\"end\":23047.2},\"id\":\"1a418710-6020-4bcf-b674-ae2d3ba2be46\",\"type\":\"Range1d\"},{\"attributes\":{\"data_source\":{\"id\":\"ff3d6b57-9a27-41c3-8624-edc7a1bdd5d6\",\"type\":\"ColumnDataSource\"},\"glyph\":{\"id\":\"5310af98-da68-41ea-80a5-63c54076fad8\",\"type\":\"Rect\"},\"hover_glyph\":null,\"nonselection_glyph\":null,\"selection_glyph\":null},\"id\":\"f61daadf-d073-48b6-b293-a51b740544ac\",\"type\":\"GlyphRenderer\"},{\"attributes\":{\"fill_alpha\":{\"field\":\"fill_alpha\"},\"fill_color\":{\"field\":\"color\"},\"height\":{\"field\":\"height\",\"units\":\"data\"},\"line_color\":{\"field\":\"line_color\"},\"width\":{\"field\":\"width\",\"units\":\"data\"},\"x\":{\"field\":\"x\"},\"y\":{\"field\":\"y\"}},\"id\":\"d48cab2a-83ef-46de-a0ba-08618626d2a2\",\"type\":\"Rect\"},{\"attributes\":{\"fill_alpha\":{\"field\":\"fill_alpha\"},\"fill_color\":{\"field\":\"color\"},\"height\":{\"field\":\"height\",\"units\":\"data\"},\"line_color\":{\"field\":\"line_color\"},\"width\":{\"field\":\"width\",\"units\":\"data\"},\"x\":{\"field\":\"x\"},\"y\":{\"field\":\"y\"}},\"id\":\"210cd9d7-49e2-4ca0-ab52-612cec40ab41\",\"type\":\"Rect\"},{\"attributes\":{\"data_source\":{\"id\":\"1e4bb1ab-0352-4379-80a8-f3926e23e118\",\"type\":\"ColumnDataSource\"},\"glyph\":{\"id\":\"2cc46bb7-1df4-4aa5-9901-a8dd7a00f487\",\"type\":\"Rect\"},\"hover_glyph\":null,\"nonselection_glyph\":null,\"selection_glyph\":null},\"id\":\"f436a176-83da-419d-922b-aef7b3abc436\",\"type\":\"GlyphRenderer\"},{\"attributes\":{\"callback\":null,\"column_names\":[\"x\",\"label\",\"height\",\"color\",\"line_alpha\",\"line_color\",\"y\",\"width\",\"fill_alpha\"],\"data\":{\"chart_index\":[\"(14.500000, 15.500000]\"],\"color\":[\"#f22c40\"],\"fill_alpha\":[0.8],\"height\":[0.0],\"label\":[\"(14.500000, 15.500000]\"],\"line_alpha\":[1.0],\"line_color\":[\"black\"],\"width\":[1.0],\"x\":[\"15.0\"],\"y\":[0.0]}},\"id\":\"ff3d6b57-9a27-41c3-8624-edc7a1bdd5d6\",\"type\":\"ColumnDataSource\"},{\"attributes\":{\"fill_alpha\":{\"field\":\"fill_alpha\"},\"fill_color\":{\"field\":\"color\"},\"height\":{\"field\":\"height\",\"units\":\"data\"},\"line_color\":{\"field\":\"line_color\"},\"width\":{\"field\":\"width\",\"units\":\"data\"},\"x\":{\"field\":\"x\"},\"y\":{\"field\":\"y\"}},\"id\":\"7fe4b4c6-d2b1-4276-a8cb-9a9965100198\",\"type\":\"Rect\"},{\"attributes\":{\"callback\":null,\"column_names\":[\"x\",\"label\",\"height\",\"color\",\"line_alpha\",\"line_color\",\"y\",\"width\",\"fill_alpha\"],\"data\":{\"chart_index\":[\"(10.500000, 11.500000]\"],\"color\":[\"#f22c40\"],\"fill_alpha\":[0.8],\"height\":[0.0],\"label\":[\"(10.500000, 11.500000]\"],\"line_alpha\":[1.0],\"line_color\":[\"black\"],\"width\":[1.0],\"x\":[\"11.0\"],\"y\":[0.0]}},\"id\":\"f942fb8b-18e5-45bf-a6e9-5d417a150d72\",\"type\":\"ColumnDataSource\"},{\"attributes\":{\"callback\":null,\"column_names\":[\"x\",\"label\",\"height\",\"color\",\"line_alpha\",\"line_color\",\"y\",\"width\",\"fill_alpha\"],\"data\":{\"chart_index\":[\"(13.500000, 14.500000]\"],\"color\":[\"#f22c40\"],\"fill_alpha\":[0.8],\"height\":[0.0],\"label\":[\"(13.500000, 14.500000]\"],\"line_alpha\":[1.0],\"line_color\":[\"black\"],\"width\":[1.0],\"x\":[\"14.0\"],\"y\":[0.0]}},\"id\":\"82bbd6fb-98e2-4e62-87eb-09baa2d14744\",\"type\":\"ColumnDataSource\"},{\"attributes\":{\"location\":\"top_left\",\"plot\":{\"id\":\"76bea56e-d782-48c2-a5b1-d2a3387bcb6d\",\"subtype\":\"Chart\",\"type\":\"Plot\"}},\"id\":\"965d40fd-4671-4ded-ae09-2542cba8eaed\",\"type\":\"Legend\"},{\"attributes\":{\"fill_alpha\":{\"field\":\"fill_alpha\"},\"fill_color\":{\"field\":\"color\"},\"height\":{\"field\":\"height\",\"units\":\"data\"},\"line_color\":{\"field\":\"line_color\"},\"width\":{\"field\":\"width\",\"units\":\"data\"},\"x\":{\"field\":\"x\"},\"y\":{\"field\":\"y\"}},\"id\":\"88cebef4-6474-4adc-b9ae-412ba211eeab\",\"type\":\"Rect\"},{\"attributes\":{\"data_source\":{\"id\":\"57e5f498-e2bd-46df-9253-f4aae1091bde\",\"type\":\"ColumnDataSource\"},\"glyph\":{\"id\":\"c7e8f3e3-08d6-4321-b288-4f4b0204ba67\",\"type\":\"Rect\"},\"hover_glyph\":null,\"nonselection_glyph\":null,\"selection_glyph\":null},\"id\":\"37498f47-6651-450b-b90f-7a0b3fc0c818\",\"type\":\"GlyphRenderer\"},{\"attributes\":{\"fill_alpha\":{\"field\":\"fill_alpha\"},\"fill_color\":{\"field\":\"color\"},\"height\":{\"field\":\"height\",\"units\":\"data\"},\"line_color\":{\"field\":\"line_color\"},\"width\":{\"field\":\"width\",\"units\":\"data\"},\"x\":{\"field\":\"x\"},\"y\":{\"field\":\"y\"}},\"id\":\"9f20c975-e183-4642-86b2-07cbfedeb038\",\"type\":\"Rect\"},{\"attributes\":{\"data_source\":{\"id\":\"db34c06f-9b0a-4e05-a560-884c43c345a8\",\"type\":\"ColumnDataSource\"},\"glyph\":{\"id\":\"84155f1a-c38b-4cad-99ec-1b974b1ca9a1\",\"type\":\"Rect\"},\"hover_glyph\":null,\"nonselection_glyph\":null,\"selection_glyph\":null},\"id\":\"ff00d055-59f3-4f69-b60e-564160bb53f9\",\"type\":\"GlyphRenderer\"},{\"attributes\":{\"data_source\":{\"id\":\"6ed19b39-0bb9-4e98-b5d4-aadd08ab65a4\",\"type\":\"ColumnDataSource\"},\"glyph\":{\"id\":\"fbc71783-027e-484a-852a-29fff83c60f2\",\"type\":\"Rect\"},\"hover_glyph\":null,\"nonselection_glyph\":null,\"selection_glyph\":null},\"id\":\"2e0e52fa-93e6-47d9-97e4-23390c09c6a8\",\"type\":\"GlyphRenderer\"},{\"attributes\":{\"fill_alpha\":{\"field\":\"fill_alpha\"},\"fill_color\":{\"field\":\"color\"},\"height\":{\"field\":\"height\",\"units\":\"data\"},\"line_color\":{\"field\":\"line_color\"},\"width\":{\"field\":\"width\",\"units\":\"data\"},\"x\":{\"field\":\"x\"},\"y\":{\"field\":\"y\"}},\"id\":\"84155f1a-c38b-4cad-99ec-1b974b1ca9a1\",\"type\":\"Rect\"},{\"attributes\":{\"data_source\":{\"id\":\"383ccf47-ee13-413d-b30e-e2cbbb7bb854\",\"type\":\"ColumnDataSource\"},\"glyph\":{\"id\":\"e97eb6d5-2964-4b44-a029-f1c1b98f6e74\",\"type\":\"Rect\"},\"hover_glyph\":null,\"nonselection_glyph\":null,\"selection_glyph\":null},\"id\":\"852e7b4a-171a-4484-a8d7-02fe8c79c2e7\",\"type\":\"GlyphRenderer\"},{\"attributes\":{\"callback\":null,\"column_names\":[\"x\",\"label\",\"height\",\"color\",\"line_alpha\",\"line_color\",\"y\",\"width\",\"fill_alpha\"],\"data\":{\"chart_index\":[\"(12.500000, 13.500000]\"],\"color\":[\"#f22c40\"],\"fill_alpha\":[0.8],\"height\":[0.0],\"label\":[\"(12.500000, 13.500000]\"],\"line_alpha\":[1.0],\"line_color\":[\"black\"],\"width\":[1.0],\"x\":[\"13.0\"],\"y\":[0.0]}},\"id\":\"383ccf47-ee13-413d-b30e-e2cbbb7bb854\",\"type\":\"ColumnDataSource\"},{\"attributes\":{\"data_source\":{\"id\":\"f942fb8b-18e5-45bf-a6e9-5d417a150d72\",\"type\":\"ColumnDataSource\"},\"glyph\":{\"id\":\"bd119dcb-e558-4ad0-882f-4737ff5e3095\",\"type\":\"Rect\"},\"hover_glyph\":null,\"nonselection_glyph\":null,\"selection_glyph\":null},\"id\":\"bff451f5-0a7e-416a-b419-751efe8419f6\",\"type\":\"GlyphRenderer\"},{\"attributes\":{\"callback\":null,\"column_names\":[\"x\",\"label\",\"height\",\"color\",\"line_alpha\",\"line_color\",\"y\",\"width\",\"fill_alpha\"],\"data\":{\"chart_index\":[\"[0.500000, 1.500000]\"],\"color\":[\"#f22c40\"],\"fill_alpha\":[0.8],\"height\":[324.0],\"label\":[\"[0.500000, 1.500000]\"],\"line_alpha\":[1.0],\"line_color\":[\"black\"],\"width\":[1.0],\"x\":[\"1.0\"],\"y\":[162.0]}},\"id\":\"e12c3028-1f4e-465d-9475-752c5ff4bf2e\",\"type\":\"ColumnDataSource\"},{\"attributes\":{},\"id\":\"e0f519a8-a362-4de8-aed4-93a3643b97a5\",\"type\":\"BasicTicker\"},{\"attributes\":{\"data_source\":{\"id\":\"ed5825d3-56c2-4de4-bea0-a91477f6232b\",\"type\":\"ColumnDataSource\"},\"glyph\":{\"id\":\"8db4f0b0-a985-4a62-9b64-e9b7297697a0\",\"type\":\"Rect\"},\"hover_glyph\":null,\"nonselection_glyph\":null,\"selection_glyph\":null},\"id\":\"b01f30a7-2970-45ff-adcc-1b56af2a7779\",\"type\":\"GlyphRenderer\"},{\"attributes\":{\"fill_alpha\":{\"field\":\"fill_alpha\"},\"fill_color\":{\"field\":\"color\"},\"height\":{\"field\":\"height\",\"units\":\"data\"},\"line_color\":{\"field\":\"line_color\"},\"width\":{\"field\":\"width\",\"units\":\"data\"},\"x\":{\"field\":\"x\"},\"y\":{\"field\":\"y\"}},\"id\":\"33abfb9a-f27e-4208-978b-29d5a0bdc4b1\",\"type\":\"Rect\"},{\"attributes\":{\"callback\":null,\"column_names\":[\"x\",\"label\",\"height\",\"color\",\"line_alpha\",\"line_color\",\"y\",\"width\",\"fill_alpha\"],\"data\":{\"chart_index\":[\"(6.500000, 7.500000]\"],\"color\":[\"#f22c40\"],\"fill_alpha\":[0.8],\"height\":[0.0],\"label\":[\"(6.500000, 7.500000]\"],\"line_alpha\":[1.0],\"line_color\":[\"black\"],\"width\":[1.0],\"x\":[\"7.0\"],\"y\":[0.0]}},\"id\":\"57e5f498-e2bd-46df-9253-f4aae1091bde\",\"type\":\"ColumnDataSource\"},{\"attributes\":{\"plot\":{\"id\":\"76bea56e-d782-48c2-a5b1-d2a3387bcb6d\",\"subtype\":\"Chart\",\"type\":\"Plot\"}},\"id\":\"72a0e673-2b78-46ac-ab58-caff0357c800\",\"type\":\"ResetTool\"},{\"attributes\":{\"callback\":null,\"column_names\":[\"x\",\"label\",\"height\",\"color\",\"line_alpha\",\"line_color\",\"y\",\"width\",\"fill_alpha\"],\"data\":{\"chart_index\":[\"(8.500000, 9.500000]\"],\"color\":[\"#f22c40\"],\"fill_alpha\":[0.8],\"height\":[0.0],\"label\":[\"(8.500000, 9.500000]\"],\"line_alpha\":[1.0],\"line_color\":[\"black\"],\"width\":[1.0],\"x\":[\"9.0\"],\"y\":[0.0]}},\"id\":\"db34c06f-9b0a-4e05-a560-884c43c345a8\",\"type\":\"ColumnDataSource\"},{\"attributes\":{\"plot\":{\"id\":\"76bea56e-d782-48c2-a5b1-d2a3387bcb6d\",\"subtype\":\"Chart\",\"type\":\"Plot\"}},\"id\":\"6c5fc5c3-da9b-47f2-8a4b-ef7644320630\",\"type\":\"WheelZoomTool\"},{\"attributes\":{\"callback\":null,\"column_names\":[\"x\",\"label\",\"height\",\"color\",\"line_alpha\",\"line_color\",\"y\",\"width\",\"fill_alpha\"],\"data\":{\"chart_index\":[\"(5.500000, 6.500000]\"],\"color\":[\"#f22c40\"],\"fill_alpha\":[0.8],\"height\":[0.0],\"label\":[\"(5.500000, 6.500000]\"],\"line_alpha\":[1.0],\"line_color\":[\"black\"],\"width\":[1.0],\"x\":[\"6.0\"],\"y\":[0.0]}},\"id\":\"a20016f1-8eda-4a80-98d2-144e6a99e9a3\",\"type\":\"ColumnDataSource\"},{\"attributes\":{\"data_source\":{\"id\":\"806474c0-162a-4211-b92a-781334d8a695\",\"type\":\"ColumnDataSource\"},\"glyph\":{\"id\":\"210cd9d7-49e2-4ca0-ab52-612cec40ab41\",\"type\":\"Rect\"},\"hover_glyph\":null,\"nonselection_glyph\":null,\"selection_glyph\":null},\"id\":\"175f83ed-6ad1-4d11-b4fd-9181b01762fc\",\"type\":\"GlyphRenderer\"},{\"attributes\":{\"axis_label\":\"Number of byte streams per dataset\",\"formatter\":{\"id\":\"fc0fb2f1-6ee5-440e-b0ea-18cd94fdaa4a\",\"type\":\"BasicTickFormatter\"},\"plot\":{\"id\":\"76bea56e-d782-48c2-a5b1-d2a3387bcb6d\",\"subtype\":\"Chart\",\"type\":\"Plot\"},\"ticker\":{\"id\":\"c1adb378-9b15-4ade-917f-9826486e7819\",\"type\":\"FixedTicker\"}},\"id\":\"42e277a7-ff44-4a0d-aedb-24d57a77ab41\",\"type\":\"LinearAxis\"},{\"attributes\":{\"callback\":null,\"column_names\":[\"x\",\"label\",\"height\",\"color\",\"line_alpha\",\"line_color\",\"y\",\"width\",\"fill_alpha\"],\"data\":{\"chart_index\":[\"(4.500000, 5.500000]\"],\"color\":[\"#f22c40\"],\"fill_alpha\":[0.8],\"height\":[0.0],\"label\":[\"(4.500000, 5.500000]\"],\"line_alpha\":[1.0],\"line_color\":[\"black\"],\"width\":[1.0],\"x\":[\"5.0\"],\"y\":[0.0]}},\"id\":\"ed5825d3-56c2-4de4-bea0-a91477f6232b\",\"type\":\"ColumnDataSource\"},{\"attributes\":{\"data_source\":{\"id\":\"1329f38a-a817-4f3a-9c6f-67d5db52c32f\",\"type\":\"ColumnDataSource\"},\"glyph\":{\"id\":\"d48cab2a-83ef-46de-a0ba-08618626d2a2\",\"type\":\"Rect\"},\"hover_glyph\":null,\"nonselection_glyph\":null,\"selection_glyph\":null},\"id\":\"9f5ec0f6-53fb-459f-8145-cbf7ae3d7972\",\"type\":\"GlyphRenderer\"},{\"attributes\":{\"data_source\":{\"id\":\"1b9dc3f4-dfb1-42ae-b3ca-bd746db9a5c0\",\"type\":\"ColumnDataSource\"},\"glyph\":{\"id\":\"7fe4b4c6-d2b1-4276-a8cb-9a9965100198\",\"type\":\"Rect\"},\"hover_glyph\":null,\"nonselection_glyph\":null,\"selection_glyph\":null},\"id\":\"04f8b6a6-d9e3-4c4a-8cc8-8c25cda8e89c\",\"type\":\"GlyphRenderer\"},{\"attributes\":{\"callback\":null,\"column_names\":[\"x\",\"label\",\"height\",\"color\",\"line_alpha\",\"line_color\",\"y\",\"width\",\"fill_alpha\"],\"data\":{\"chart_index\":[\"(3.500000, 4.500000]\"],\"color\":[\"#f22c40\"],\"fill_alpha\":[0.8],\"height\":[0.0],\"label\":[\"(3.500000, 4.500000]\"],\"line_alpha\":[1.0],\"line_color\":[\"black\"],\"width\":[1.0],\"x\":[\"4.0\"],\"y\":[0.0]}},\"id\":\"1b9dc3f4-dfb1-42ae-b3ca-bd746db9a5c0\",\"type\":\"ColumnDataSource\"},{\"attributes\":{},\"id\":\"a3e89da3-3aed-4e0b-8ef6-5119367fa927\",\"type\":\"BasicTickFormatter\"},{\"attributes\":{\"callback\":null,\"end\":16.925,\"start\":0.07499999999999996},\"id\":\"a98be1a5-b994-48e2-8385-2b46b5ee35d2\",\"type\":\"Range1d\"},{\"attributes\":{\"fill_alpha\":{\"field\":\"fill_alpha\"},\"fill_color\":{\"field\":\"color\"},\"height\":{\"field\":\"height\",\"units\":\"data\"},\"line_color\":{\"field\":\"line_color\"},\"width\":{\"field\":\"width\",\"units\":\"data\"},\"x\":{\"field\":\"x\"},\"y\":{\"field\":\"y\"}},\"id\":\"2cc46bb7-1df4-4aa5-9901-a8dd7a00f487\",\"type\":\"Rect\"},{\"attributes\":{\"callback\":null,\"column_names\":[\"x\",\"label\",\"height\",\"color\",\"line_alpha\",\"line_color\",\"y\",\"width\",\"fill_alpha\"],\"data\":{\"chart_index\":[\"(7.500000, 8.500000]\"],\"color\":[\"#f22c40\"],\"fill_alpha\":[0.8],\"height\":[0.0],\"label\":[\"(7.500000, 8.500000]\"],\"line_alpha\":[1.0],\"line_color\":[\"black\"],\"width\":[1.0],\"x\":[\"8.0\"],\"y\":[0.0]}},\"id\":\"12bcd623-dbef-4663-ae1b-3fa455230594\",\"type\":\"ColumnDataSource\"},{\"attributes\":{\"axis_label\":\"Count(Dataset per File)\",\"formatter\":{\"id\":\"a3e89da3-3aed-4e0b-8ef6-5119367fa927\",\"type\":\"BasicTickFormatter\"},\"plot\":{\"id\":\"76bea56e-d782-48c2-a5b1-d2a3387bcb6d\",\"subtype\":\"Chart\",\"type\":\"Plot\"},\"ticker\":{\"id\":\"e0f519a8-a362-4de8-aed4-93a3643b97a5\",\"type\":\"BasicTicker\"}},\"id\":\"14465815-0428-4770-a2d4-57664014935a\",\"type\":\"LinearAxis\"},{\"attributes\":{\"fill_alpha\":{\"field\":\"fill_alpha\"},\"fill_color\":{\"field\":\"color\"},\"height\":{\"field\":\"height\",\"units\":\"data\"},\"line_color\":{\"field\":\"line_color\"},\"width\":{\"field\":\"width\",\"units\":\"data\"},\"x\":{\"field\":\"x\"},\"y\":{\"field\":\"y\"}},\"id\":\"8db4f0b0-a985-4a62-9b64-e9b7297697a0\",\"type\":\"Rect\"},{\"attributes\":{\"below\":[{\"id\":\"42e277a7-ff44-4a0d-aedb-24d57a77ab41\",\"type\":\"LinearAxis\"}],\"css_classes\":null,\"left\":[{\"id\":\"14465815-0428-4770-a2d4-57664014935a\",\"type\":\"LinearAxis\"}],\"renderers\":[{\"id\":\"73de1e55-472e-4adf-b226-47ac6b46128d\",\"type\":\"BoxAnnotation\"},{\"id\":\"d6e02422-b36b-4eb6-a0dd-253f08f92cb1\",\"type\":\"GlyphRenderer\"},{\"id\":\"175f83ed-6ad1-4d11-b4fd-9181b01762fc\",\"type\":\"GlyphRenderer\"},{\"id\":\"9f5ec0f6-53fb-459f-8145-cbf7ae3d7972\",\"type\":\"GlyphRenderer\"},{\"id\":\"04f8b6a6-d9e3-4c4a-8cc8-8c25cda8e89c\",\"type\":\"GlyphRenderer\"},{\"id\":\"b01f30a7-2970-45ff-adcc-1b56af2a7779\",\"type\":\"GlyphRenderer\"},{\"id\":\"9cc2dbe9-a39f-4769-8c16-873179b935f0\",\"type\":\"GlyphRenderer\"},{\"id\":\"37498f47-6651-450b-b90f-7a0b3fc0c818\",\"type\":\"GlyphRenderer\"},{\"id\":\"a672661d-32ae-4251-9d05-2177095cd556\",\"type\":\"GlyphRenderer\"},{\"id\":\"ff00d055-59f3-4f69-b60e-564160bb53f9\",\"type\":\"GlyphRenderer\"},{\"id\":\"f436a176-83da-419d-922b-aef7b3abc436\",\"type\":\"GlyphRenderer\"},{\"id\":\"bff451f5-0a7e-416a-b419-751efe8419f6\",\"type\":\"GlyphRenderer\"},{\"id\":\"3e78ac1f-93b2-404e-81c1-7e99166f4a0e\",\"type\":\"GlyphRenderer\"},{\"id\":\"852e7b4a-171a-4484-a8d7-02fe8c79c2e7\",\"type\":\"GlyphRenderer\"},{\"id\":\"f9e39b1a-80eb-481d-bdf7-7da228f90cef\",\"type\":\"GlyphRenderer\"},{\"id\":\"f61daadf-d073-48b6-b293-a51b740544ac\",\"type\":\"GlyphRenderer\"},{\"id\":\"2e0e52fa-93e6-47d9-97e4-23390c09c6a8\",\"type\":\"GlyphRenderer\"},{\"id\":\"965d40fd-4671-4ded-ae09-2542cba8eaed\",\"type\":\"Legend\"},{\"id\":\"42e277a7-ff44-4a0d-aedb-24d57a77ab41\",\"type\":\"LinearAxis\"},{\"id\":\"14465815-0428-4770-a2d4-57664014935a\",\"type\":\"LinearAxis\"},{\"id\":\"3aeee3ac-e1f8-4e66-b377-18136cc65d20\",\"type\":\"Grid\"}],\"title\":{\"id\":\"a53f2f2b-d4c8-460f-8dd3-1deaf32facd5\",\"type\":\"Title\"},\"tool_events\":{\"id\":\"70e2bf55-5b5d-49fd-84b4-c88e57a686f8\",\"type\":\"ToolEvents\"},\"toolbar\":{\"id\":\"e3d13614-6c52-42bd-bf09-02243c854aeb\",\"type\":\"Toolbar\"},\"x_mapper_type\":\"auto\",\"x_range\":{\"id\":\"a98be1a5-b994-48e2-8385-2b46b5ee35d2\",\"type\":\"Range1d\"},\"y_mapper_type\":\"auto\",\"y_range\":{\"id\":\"1a418710-6020-4bcf-b674-ae2d3ba2be46\",\"type\":\"Range1d\"}},\"id\":\"76bea56e-d782-48c2-a5b1-d2a3387bcb6d\",\"subtype\":\"Chart\",\"type\":\"Plot\"},{\"attributes\":{\"bottom_units\":\"screen\",\"fill_alpha\":{\"value\":0.5},\"fill_color\":{\"value\":\"lightgrey\"},\"left_units\":\"screen\",\"level\":\"overlay\",\"line_alpha\":{\"value\":1.0},\"line_color\":{\"value\":\"black\"},\"line_dash\":[4,4],\"line_width\":{\"value\":2},\"plot\":null,\"render_mode\":\"css\",\"right_units\":\"screen\",\"top_units\":\"screen\"},\"id\":\"73de1e55-472e-4adf-b226-47ac6b46128d\",\"type\":\"BoxAnnotation\"},{\"attributes\":{\"callback\":null,\"column_names\":[\"x\",\"label\",\"height\",\"color\",\"line_alpha\",\"line_color\",\"y\",\"width\",\"fill_alpha\"],\"data\":{\"chart_index\":[\"(1.500000, 2.500000]\"],\"color\":[\"#f22c40\"],\"fill_alpha\":[0.8],\"height\":[0.0],\"label\":[\"(1.500000, 2.500000]\"],\"line_alpha\":[1.0],\"line_color\":[\"black\"],\"width\":[1.0],\"x\":[\"2.0\"],\"y\":[0.0]}},\"id\":\"806474c0-162a-4211-b92a-781334d8a695\",\"type\":\"ColumnDataSource\"},{\"attributes\":{\"callback\":null,\"column_names\":[\"x\",\"label\",\"height\",\"color\",\"line_alpha\",\"line_color\",\"y\",\"width\",\"fill_alpha\"],\"data\":{\"chart_index\":[\"(2.500000, 3.500000]\"],\"color\":[\"#f22c40\"],\"fill_alpha\":[0.8],\"height\":[0.0],\"label\":[\"(2.500000, 3.500000]\"],\"line_alpha\":[1.0],\"line_color\":[\"black\"],\"width\":[1.0],\"x\":[\"3.0\"],\"y\":[0.0]}},\"id\":\"1329f38a-a817-4f3a-9c6f-67d5db52c32f\",\"type\":\"ColumnDataSource\"},{\"attributes\":{\"data_source\":{\"id\":\"c27a4307-c230-4fbf-b16c-242eaeef5052\",\"type\":\"ColumnDataSource\"},\"glyph\":{\"id\":\"9f20c975-e183-4642-86b2-07cbfedeb038\",\"type\":\"Rect\"},\"hover_glyph\":null,\"nonselection_glyph\":null,\"selection_glyph\":null},\"id\":\"3e78ac1f-93b2-404e-81c1-7e99166f4a0e\",\"type\":\"GlyphRenderer\"},{\"attributes\":{\"data_source\":{\"id\":\"e12c3028-1f4e-465d-9475-752c5ff4bf2e\",\"type\":\"ColumnDataSource\"},\"glyph\":{\"id\":\"37f49607-4687-4c9b-943b-d6505db5ff9c\",\"type\":\"Rect\"},\"hover_glyph\":null,\"nonselection_glyph\":null,\"selection_glyph\":null},\"id\":\"d6e02422-b36b-4eb6-a0dd-253f08f92cb1\",\"type\":\"GlyphRenderer\"},{\"attributes\":{\"callback\":null,\"column_names\":[\"x\",\"label\",\"height\",\"color\",\"line_alpha\",\"line_color\",\"y\",\"width\",\"fill_alpha\"],\"data\":{\"chart_index\":[\"(11.500000, 12.500000]\"],\"color\":[\"#f22c40\"],\"fill_alpha\":[0.8],\"height\":[0.0],\"label\":[\"(11.500000, 12.500000]\"],\"line_alpha\":[1.0],\"line_color\":[\"black\"],\"width\":[1.0],\"x\":[\"12.0\"],\"y\":[0.0]}},\"id\":\"c27a4307-c230-4fbf-b16c-242eaeef5052\",\"type\":\"ColumnDataSource\"},{\"attributes\":{\"plot\":{\"id\":\"76bea56e-d782-48c2-a5b1-d2a3387bcb6d\",\"subtype\":\"Chart\",\"type\":\"Plot\"}},\"id\":\"c531744f-c0c7-4990-9c64-993d4abef5ad\",\"type\":\"PanTool\"},{\"attributes\":{\"dimension\":1,\"plot\":{\"id\":\"76bea56e-d782-48c2-a5b1-d2a3387bcb6d\",\"subtype\":\"Chart\",\"type\":\"Plot\"},\"ticker\":{\"id\":\"e0f519a8-a362-4de8-aed4-93a3643b97a5\",\"type\":\"BasicTicker\"}},\"id\":\"3aeee3ac-e1f8-4e66-b377-18136cc65d20\",\"type\":\"Grid\"},{\"attributes\":{},\"id\":\"fc0fb2f1-6ee5-440e-b0ea-18cd94fdaa4a\",\"type\":\"BasicTickFormatter\"},{\"attributes\":{\"fill_alpha\":{\"field\":\"fill_alpha\"},\"fill_color\":{\"field\":\"color\"},\"height\":{\"field\":\"height\",\"units\":\"data\"},\"line_color\":{\"field\":\"line_color\"},\"width\":{\"field\":\"width\",\"units\":\"data\"},\"x\":{\"field\":\"x\"},\"y\":{\"field\":\"y\"}},\"id\":\"e97eb6d5-2964-4b44-a029-f1c1b98f6e74\",\"type\":\"Rect\"},{\"attributes\":{\"fill_alpha\":{\"field\":\"fill_alpha\"},\"fill_color\":{\"field\":\"color\"},\"height\":{\"field\":\"height\",\"units\":\"data\"},\"line_color\":{\"field\":\"line_color\"},\"width\":{\"field\":\"width\",\"units\":\"data\"},\"x\":{\"field\":\"x\"},\"y\":{\"field\":\"y\"}},\"id\":\"c7e8f3e3-08d6-4321-b288-4f4b0204ba67\",\"type\":\"Rect\"},{\"attributes\":{\"overlay\":{\"id\":\"73de1e55-472e-4adf-b226-47ac6b46128d\",\"type\":\"BoxAnnotation\"},\"plot\":{\"id\":\"76bea56e-d782-48c2-a5b1-d2a3387bcb6d\",\"subtype\":\"Chart\",\"type\":\"Plot\"}},\"id\":\"e1b30c1e-35b0-4e8d-b78f-f5b20b1f5773\",\"type\":\"BoxZoomTool\"},{\"attributes\":{\"callback\":null,\"column_names\":[\"x\",\"label\",\"height\",\"color\",\"line_alpha\",\"line_color\",\"y\",\"width\",\"fill_alpha\"],\"data\":{\"chart_index\":[\"(9.500000, 10.500000]\"],\"color\":[\"#f22c40\"],\"fill_alpha\":[0.8],\"height\":[0.0],\"label\":[\"(9.500000, 10.500000]\"],\"line_alpha\":[1.0],\"line_color\":[\"black\"],\"width\":[1.0],\"x\":[\"10.0\"],\"y\":[0.0]}},\"id\":\"1e4bb1ab-0352-4379-80a8-f3926e23e118\",\"type\":\"ColumnDataSource\"},{\"attributes\":{\"plot\":null,\"text\":null},\"id\":\"a53f2f2b-d4c8-460f-8dd3-1deaf32facd5\",\"type\":\"Title\"},{\"attributes\":{\"plot\":{\"id\":\"76bea56e-d782-48c2-a5b1-d2a3387bcb6d\",\"subtype\":\"Chart\",\"type\":\"Plot\"}},\"id\":\"d615fc96-fdac-465e-b591-29d3565a9744\",\"type\":\"HelpTool\"},{\"attributes\":{\"data_source\":{\"id\":\"a20016f1-8eda-4a80-98d2-144e6a99e9a3\",\"type\":\"ColumnDataSource\"},\"glyph\":{\"id\":\"33abfb9a-f27e-4208-978b-29d5a0bdc4b1\",\"type\":\"Rect\"},\"hover_glyph\":null,\"nonselection_glyph\":null,\"selection_glyph\":null},\"id\":\"9cc2dbe9-a39f-4769-8c16-873179b935f0\",\"type\":\"GlyphRenderer\"},{\"attributes\":{\"callback\":null,\"column_names\":[\"x\",\"label\",\"height\",\"color\",\"line_alpha\",\"line_color\",\"y\",\"width\",\"fill_alpha\"],\"data\":{\"chart_index\":[\"(15.500000, 16.500000]\"],\"color\":[\"#f22c40\"],\"fill_alpha\":[0.8],\"height\":[20952.0],\"label\":[\"(15.500000, 16.500000]\"],\"line_alpha\":[1.0],\"line_color\":[\"black\"],\"width\":[1.0],\"x\":[\"16.0\"],\"y\":[10476.0]}},\"id\":\"6ed19b39-0bb9-4e98-b5d4-aadd08ab65a4\",\"type\":\"ColumnDataSource\"},{\"attributes\":{\"fill_alpha\":{\"field\":\"fill_alpha\"},\"fill_color\":{\"field\":\"color\"},\"height\":{\"field\":\"height\",\"units\":\"data\"},\"line_color\":{\"field\":\"line_color\"},\"width\":{\"field\":\"width\",\"units\":\"data\"},\"x\":{\"field\":\"x\"},\"y\":{\"field\":\"y\"}},\"id\":\"5310af98-da68-41ea-80a5-63c54076fad8\",\"type\":\"Rect\"},{\"attributes\":{\"fill_alpha\":{\"field\":\"fill_alpha\"},\"fill_color\":{\"field\":\"color\"},\"height\":{\"field\":\"height\",\"units\":\"data\"},\"line_color\":{\"field\":\"line_color\"},\"width\":{\"field\":\"width\",\"units\":\"data\"},\"x\":{\"field\":\"x\"},\"y\":{\"field\":\"y\"}},\"id\":\"fbc71783-027e-484a-852a-29fff83c60f2\",\"type\":\"Rect\"},{\"attributes\":{\"plot\":{\"id\":\"76bea56e-d782-48c2-a5b1-d2a3387bcb6d\",\"subtype\":\"Chart\",\"type\":\"Plot\"}},\"id\":\"1c6ef237-dde7-41ac-8532-9b40c722b0b7\",\"type\":\"SaveTool\"},{\"attributes\":{\"fill_alpha\":{\"field\":\"fill_alpha\"},\"fill_color\":{\"field\":\"color\"},\"height\":{\"field\":\"height\",\"units\":\"data\"},\"line_color\":{\"field\":\"line_color\"},\"width\":{\"field\":\"width\",\"units\":\"data\"},\"x\":{\"field\":\"x\"},\"y\":{\"field\":\"y\"}},\"id\":\"bd119dcb-e558-4ad0-882f-4737ff5e3095\",\"type\":\"Rect\"},{\"attributes\":{},\"id\":\"70e2bf55-5b5d-49fd-84b4-c88e57a686f8\",\"type\":\"ToolEvents\"},{\"attributes\":{\"ticks\":[0,1,2,3,4,5,6,7,8,9,10,11,12,13,14,15,16]},\"id\":\"c1adb378-9b15-4ade-917f-9826486e7819\",\"type\":\"FixedTicker\"},{\"attributes\":{\"active_drag\":\"auto\",\"active_scroll\":\"auto\",\"active_tap\":\"auto\",\"tools\":[{\"id\":\"c531744f-c0c7-4990-9c64-993d4abef5ad\",\"type\":\"PanTool\"},{\"id\":\"6c5fc5c3-da9b-47f2-8a4b-ef7644320630\",\"type\":\"WheelZoomTool\"},{\"id\":\"e1b30c1e-35b0-4e8d-b78f-f5b20b1f5773\",\"type\":\"BoxZoomTool\"},{\"id\":\"1c6ef237-dde7-41ac-8532-9b40c722b0b7\",\"type\":\"SaveTool\"},{\"id\":\"72a0e673-2b78-46ac-ab58-caff0357c800\",\"type\":\"ResetTool\"},{\"id\":\"d615fc96-fdac-465e-b591-29d3565a9744\",\"type\":\"HelpTool\"}]},\"id\":\"e3d13614-6c52-42bd-bf09-02243c854aeb\",\"type\":\"Toolbar\"},{\"attributes\":{\"data_source\":{\"id\":\"12bcd623-dbef-4663-ae1b-3fa455230594\",\"type\":\"ColumnDataSource\"},\"glyph\":{\"id\":\"88cebef4-6474-4adc-b9ae-412ba211eeab\",\"type\":\"Rect\"},\"hover_glyph\":null,\"nonselection_glyph\":null,\"selection_glyph\":null},\"id\":\"a672661d-32ae-4251-9d05-2177095cd556\",\"type\":\"GlyphRenderer\"},{\"attributes\":{\"data_source\":{\"id\":\"82bbd6fb-98e2-4e62-87eb-09baa2d14744\",\"type\":\"ColumnDataSource\"},\"glyph\":{\"id\":\"796f098d-485c-47aa-b7c4-005ded216ac9\",\"type\":\"Rect\"},\"hover_glyph\":null,\"nonselection_glyph\":null,\"selection_glyph\":null},\"id\":\"f9e39b1a-80eb-481d-bdf7-7da228f90cef\",\"type\":\"GlyphRenderer\"}],\"root_ids\":[\"76bea56e-d782-48c2-a5b1-d2a3387bcb6d\"]},\"title\":\"Bokeh Application\",\"version\":\"0.12.4\"}};\n",
       "            var render_items = [{\"docid\":\"5d9a983c-2f1f-4199-9ef6-ffda8c59d602\",\"elementid\":\"e213ed17-b053-4aa9-b0b3-058972c3f7a8\",\"modelid\":\"76bea56e-d782-48c2-a5b1-d2a3387bcb6d\"}];\n",
       "            \n",
       "            Bokeh.embed.embed_items(docs_json, render_items);\n",
       "          };\n",
       "          if (document.readyState != \"loading\") fn();\n",
       "          else document.addEventListener(\"DOMContentLoaded\", fn);\n",
       "        })();\n",
       "      },\n",
       "      function(Bokeh) {\n",
       "      }\n",
       "    ];\n",
       "  \n",
       "    function run_inline_js() {\n",
       "      \n",
       "      if ((window.Bokeh !== undefined) || (force === true)) {\n",
       "        for (var i = 0; i < inline_js.length; i++) {\n",
       "          inline_js[i](window.Bokeh);\n",
       "        }if (force === true) {\n",
       "          display_loaded();\n",
       "        }} else if (Date.now() < window._bokeh_timeout) {\n",
       "        setTimeout(run_inline_js, 100);\n",
       "      } else if (!window._bokeh_failed_load) {\n",
       "        console.log(\"Bokeh: BokehJS failed to load within specified timeout.\");\n",
       "        window._bokeh_failed_load = true;\n",
       "      } else if (force !== true) {\n",
       "        var cell = $(document.getElementById(\"e213ed17-b053-4aa9-b0b3-058972c3f7a8\")).parents('.cell').data().cell;\n",
       "        cell.output_area.append_execute_result(NB_LOAD_WARNING)\n",
       "      }\n",
       "  \n",
       "    }\n",
       "  \n",
       "    if (window._bokeh_is_loading === 0) {\n",
       "      console.log(\"Bokeh: BokehJS loaded, going straight to plotting\");\n",
       "      run_inline_js();\n",
       "    } else {\n",
       "      load_libs(js_urls, function() {\n",
       "        console.log(\"Bokeh: BokehJS plotting callback run at\", now());\n",
       "        run_inline_js();\n",
       "      });\n",
       "    }\n",
       "  }(this));\n",
       "</script>"
      ]
     },
     "metadata": {},
     "output_type": "display_data"
    }
   ],
   "source": [
    "max_num_chunk = 16\n",
    "p = Histogram(grp.UUID.count(), \n",
    "              bins=list(map(lambda x: x + 0.5, range(0, max_num_chunk+1))),\n",
    "              xlabel='Number of byte streams per dataset',\n",
    "              ylabel='Count(Dataset per File)')\n",
    "p.xaxis[0].ticker = FixedTicker(ticks=list(range(max_num_chunk+1)))\n",
    "show(p)"
   ]
  },
  {
   "cell_type": "markdown",
   "metadata": {},
   "source": [
    "## Analysis: `MERRA2_300.tavgM_2d_int_Nx`"
   ]
  },
  {
   "cell_type": "markdown",
   "metadata": {},
   "source": [
    "Select only DMR++ entries for these files:"
   ]
  },
  {
   "cell_type": "code",
   "execution_count": 99,
   "metadata": {
    "collapsed": false
   },
   "outputs": [],
   "source": [
    "merra2_tavg = dmrpp[dmrpp.File.str.contains('MERRA2_300.tavgM_2d_int_Nx')]"
   ]
  },
  {
   "cell_type": "code",
   "execution_count": 100,
   "metadata": {
    "collapsed": false
   },
   "outputs": [
    {
     "name": "stdout",
     "output_type": "stream",
     "text": [
      "<class 'pandas.core.frame.DataFrame'>\n",
      "Int64Index: 372840 entries, 6105013 to 6477852\n",
      "Data columns (total 8 columns):\n",
      "File          372840 non-null object\n",
      "Dataset       372840 non-null object\n",
      "Chunk_Flag    372840 non-null bool\n",
      "UUID          372840 non-null object\n",
      "Checksum      372840 non-null object\n",
      "Offset        372840 non-null int64\n",
      "Size          372840 non-null int64\n",
      "Type          372840 non-null object\n",
      "dtypes: bool(1), int64(2), object(5)\n",
      "memory usage: 23.1+ MB\n"
     ]
    }
   ],
   "source": [
    "merra2_tavg.info()"
   ]
  },
  {
   "cell_type": "markdown",
   "metadata": {},
   "source": [
    "### Byte Streams"
   ]
  },
  {
   "cell_type": "markdown",
   "metadata": {},
   "source": [
    "#### How many byte streams with unique content?"
   ]
  },
  {
   "cell_type": "code",
   "execution_count": 101,
   "metadata": {
    "collapsed": false
   },
   "outputs": [],
   "source": [
    "x = merra2_tavg.Checksum.value_counts()"
   ]
  },
  {
   "cell_type": "code",
   "execution_count": 102,
   "metadata": {
    "collapsed": false
   },
   "outputs": [
    {
     "data": {
      "text/plain": [
       "344840"
      ]
     },
     "execution_count": 102,
     "metadata": {},
     "output_type": "execute_result"
    }
   ],
   "source": [
    "len(x.index)"
   ]
  },
  {
   "cell_type": "markdown",
   "metadata": {},
   "source": [
    "#### Which are the Top 20 byte streams based on content?"
   ]
  },
  {
   "cell_type": "code",
   "execution_count": 103,
   "metadata": {
    "collapsed": false
   },
   "outputs": [
    {
     "data": {
      "text/plain": [
       "d57d72206d7fb5fad96714288dd86f29    9416\n",
       "f6c9ef6c28c5715b914e5d7194b9f131    3354\n",
       "196be26f3d971e3c37190636133fee49     120\n",
       "dc51ab56717a3cae07a2ef00aa155512     120\n",
       "6ed95e16d4b2f755e1ff226faedac1d1     120\n",
       "ff58f5edc4d8a12de78dce452753632b       2\n",
       "07de15dacd21c6f6b4926295d2931e62       2\n",
       "1e80903059f254d6deb3fa7783b9c870       2\n",
       "f52477bcb5cbf066f3e55a98def1b90e       2\n",
       "f49e56bc46443023207af1bd6cfae879       2\n",
       "de5e2b1667e0038f405e003185293c99       2\n",
       "4a520d9ca23bae5ac74c69f07bd2026c       2\n",
       "b6416c47fe40797984a6592b53bd74f2       2\n",
       "4572b6dfe3d1de533a1e1a38b65ebc8a       2\n",
       "dd357a04441158de3139f929a03172e9       2\n",
       "7218cfb1cf90eceef72ad828b9124ac6       2\n",
       "6b16bd6fadd818ea889f08eda71d65e9       2\n",
       "e6c69cad32367bbf63de44350d6fb170       2\n",
       "f109dc657be4f6684927ef9be540379c       2\n",
       "b7121463ed8a78611ee65b15edc99783       2\n",
       "Name: Checksum, dtype: int64"
      ]
     },
     "execution_count": 103,
     "metadata": {},
     "output_type": "execute_result"
    }
   ],
   "source": [
    "x.sort_values(ascending=False).head(20)"
   ]
  },
  {
   "cell_type": "markdown",
   "metadata": {},
   "source": [
    "#### Where is the same byte stream stored?"
   ]
  },
  {
   "cell_type": "markdown",
   "metadata": {},
   "source": [
    "Byte stream we are looking for:"
   ]
  },
  {
   "cell_type": "code",
   "execution_count": 104,
   "metadata": {
    "collapsed": true
   },
   "outputs": [],
   "source": [
    "cksum = 'd57d72206d7fb5fad96714288dd86f29'"
   ]
  },
  {
   "cell_type": "code",
   "execution_count": 105,
   "metadata": {
    "collapsed": true
   },
   "outputs": [],
   "source": [
    "grp = merra2_tavg.groupby('Checksum')"
   ]
  },
  {
   "cell_type": "markdown",
   "metadata": {},
   "source": [
    "Per dataset across all the files that have it:"
   ]
  },
  {
   "cell_type": "code",
   "execution_count": 106,
   "metadata": {
    "collapsed": false
   },
   "outputs": [
    {
     "data": {
      "text/plain": [
       "/DQVDT_FIL        1440\n",
       "/Var_DQIDT_FIL    1440\n",
       "/Var_DOXDT_FIL    1440\n",
       "/DQIDT_FIL        1440\n",
       "/Var_DQVDT_FIL    1440\n",
       "/DOXDT_FIL        1440\n",
       "/PRECSN            138\n",
       "/Var_PRECSN        138\n",
       "/DQLDT_FIL         125\n",
       "/Var_QTFILL        125\n",
       "/QTFILL            125\n",
       "/Var_DQLDT_FIL     125\n",
       "Name: Dataset, dtype: int64"
      ]
     },
     "execution_count": 106,
     "metadata": {},
     "output_type": "execute_result"
    }
   ],
   "source": [
    "grp.get_group(cksum)['Dataset'].value_counts()"
   ]
  },
  {
   "cell_type": "markdown",
   "metadata": {},
   "source": [
    "Per file including all its datasets:"
   ]
  },
  {
   "cell_type": "code",
   "execution_count": 107,
   "metadata": {
    "collapsed": false
   },
   "outputs": [
    {
     "data": {
      "text/plain": [
       "MERRA2_300.tavgM_2d_int_Nx.200101.nc4    82\n",
       "MERRA2_300.tavgM_2d_int_Nx.200102.nc4    88\n",
       "MERRA2_300.tavgM_2d_int_Nx.200103.nc4    82\n",
       "MERRA2_300.tavgM_2d_int_Nx.200104.nc4    78\n",
       "MERRA2_300.tavgM_2d_int_Nx.200105.nc4    74\n",
       "MERRA2_300.tavgM_2d_int_Nx.200106.nc4    74\n",
       "MERRA2_300.tavgM_2d_int_Nx.200107.nc4    78\n",
       "MERRA2_300.tavgM_2d_int_Nx.200108.nc4    82\n",
       "MERRA2_300.tavgM_2d_int_Nx.200109.nc4    74\n",
       "MERRA2_300.tavgM_2d_int_Nx.200110.nc4    74\n",
       "MERRA2_300.tavgM_2d_int_Nx.200111.nc4    74\n",
       "MERRA2_300.tavgM_2d_int_Nx.200112.nc4    80\n",
       "MERRA2_300.tavgM_2d_int_Nx.200201.nc4    80\n",
       "MERRA2_300.tavgM_2d_int_Nx.200202.nc4    78\n",
       "MERRA2_300.tavgM_2d_int_Nx.200203.nc4    78\n",
       "MERRA2_300.tavgM_2d_int_Nx.200204.nc4    74\n",
       "MERRA2_300.tavgM_2d_int_Nx.200205.nc4    76\n",
       "MERRA2_300.tavgM_2d_int_Nx.200206.nc4    86\n",
       "MERRA2_300.tavgM_2d_int_Nx.200207.nc4    84\n",
       "MERRA2_300.tavgM_2d_int_Nx.200208.nc4    76\n",
       "MERRA2_300.tavgM_2d_int_Nx.200209.nc4    84\n",
       "MERRA2_300.tavgM_2d_int_Nx.200210.nc4    74\n",
       "MERRA2_300.tavgM_2d_int_Nx.200211.nc4    78\n",
       "MERRA2_300.tavgM_2d_int_Nx.200212.nc4    74\n",
       "MERRA2_300.tavgM_2d_int_Nx.200301.nc4    88\n",
       "MERRA2_300.tavgM_2d_int_Nx.200302.nc4    76\n",
       "MERRA2_300.tavgM_2d_int_Nx.200303.nc4    74\n",
       "MERRA2_300.tavgM_2d_int_Nx.200304.nc4    74\n",
       "MERRA2_300.tavgM_2d_int_Nx.200305.nc4    82\n",
       "MERRA2_300.tavgM_2d_int_Nx.200306.nc4    88\n",
       "                                         ..\n",
       "MERRA2_300.tavgM_2d_int_Nx.200807.nc4    84\n",
       "MERRA2_300.tavgM_2d_int_Nx.200808.nc4    74\n",
       "MERRA2_300.tavgM_2d_int_Nx.200809.nc4    76\n",
       "MERRA2_300.tavgM_2d_int_Nx.200810.nc4    78\n",
       "MERRA2_300.tavgM_2d_int_Nx.200811.nc4    78\n",
       "MERRA2_300.tavgM_2d_int_Nx.200812.nc4    78\n",
       "MERRA2_300.tavgM_2d_int_Nx.200901.nc4    82\n",
       "MERRA2_300.tavgM_2d_int_Nx.200902.nc4    80\n",
       "MERRA2_300.tavgM_2d_int_Nx.200903.nc4    78\n",
       "MERRA2_300.tavgM_2d_int_Nx.200904.nc4    78\n",
       "MERRA2_300.tavgM_2d_int_Nx.200905.nc4    74\n",
       "MERRA2_300.tavgM_2d_int_Nx.200906.nc4    76\n",
       "MERRA2_300.tavgM_2d_int_Nx.200907.nc4    78\n",
       "MERRA2_300.tavgM_2d_int_Nx.200908.nc4    78\n",
       "MERRA2_300.tavgM_2d_int_Nx.200909.nc4    82\n",
       "MERRA2_300.tavgM_2d_int_Nx.200910.nc4    82\n",
       "MERRA2_300.tavgM_2d_int_Nx.200911.nc4    74\n",
       "MERRA2_300.tavgM_2d_int_Nx.200912.nc4    88\n",
       "MERRA2_300.tavgM_2d_int_Nx.201001.nc4    74\n",
       "MERRA2_300.tavgM_2d_int_Nx.201002.nc4    92\n",
       "MERRA2_300.tavgM_2d_int_Nx.201003.nc4    86\n",
       "MERRA2_300.tavgM_2d_int_Nx.201004.nc4    78\n",
       "MERRA2_300.tavgM_2d_int_Nx.201005.nc4    82\n",
       "MERRA2_300.tavgM_2d_int_Nx.201006.nc4    78\n",
       "MERRA2_300.tavgM_2d_int_Nx.201007.nc4    76\n",
       "MERRA2_300.tavgM_2d_int_Nx.201008.nc4    86\n",
       "MERRA2_300.tavgM_2d_int_Nx.201009.nc4    76\n",
       "MERRA2_300.tavgM_2d_int_Nx.201010.nc4    74\n",
       "MERRA2_300.tavgM_2d_int_Nx.201011.nc4    78\n",
       "MERRA2_300.tavgM_2d_int_Nx.201012.nc4    78\n",
       "Name: File, dtype: int64"
      ]
     },
     "execution_count": 107,
     "metadata": {},
     "output_type": "execute_result"
    }
   ],
   "source": [
    "grp.get_group(cksum)['File'].value_counts().sort_index()"
   ]
  },
  {
   "cell_type": "markdown",
   "metadata": {},
   "source": [
    "#### What is the total number of byte streams in the files?"
   ]
  },
  {
   "cell_type": "code",
   "execution_count": 108,
   "metadata": {
    "collapsed": false
   },
   "outputs": [
    {
     "data": {
      "text/plain": [
       "372840"
      ]
     },
     "execution_count": 108,
     "metadata": {},
     "output_type": "execute_result"
    }
   ],
   "source": [
    "x.sum()"
   ]
  },
  {
   "cell_type": "markdown",
   "metadata": {},
   "source": [
    "#### What is the percentage reduction in number of S3 objects based on repeating checksums?"
   ]
  },
  {
   "cell_type": "code",
   "execution_count": 109,
   "metadata": {
    "collapsed": false
   },
   "outputs": [
    {
     "data": {
      "text/plain": [
       "-7.5099238279154541"
      ]
     },
     "execution_count": 109,
     "metadata": {},
     "output_type": "execute_result"
    }
   ],
   "source": [
    "100 * (len(x.index)/x.sum() - 1)"
   ]
  },
  {
   "cell_type": "markdown",
   "metadata": {},
   "source": [
    "#### What is the percentage reduction in bytes stored in S3 based on repeating checksums?"
   ]
  },
  {
   "cell_type": "code",
   "execution_count": 110,
   "metadata": {
    "collapsed": false
   },
   "outputs": [
    {
     "data": {
      "text/plain": [
       "13391794899"
      ]
     },
     "execution_count": 110,
     "metadata": {},
     "output_type": "execute_result"
    }
   ],
   "source": [
    "before = merra2_tavg.Size.sum()\n",
    "before"
   ]
  },
  {
   "cell_type": "code",
   "execution_count": 111,
   "metadata": {
    "collapsed": false
   },
   "outputs": [
    {
     "data": {
      "text/plain": [
       "12918375774"
      ]
     },
     "execution_count": 111,
     "metadata": {},
     "output_type": "execute_result"
    }
   ],
   "source": [
    "after = merra2_tavg.drop_duplicates('Checksum')['Size'].sum()\n",
    "after"
   ]
  },
  {
   "cell_type": "code",
   "execution_count": 112,
   "metadata": {
    "collapsed": false
   },
   "outputs": [
    {
     "data": {
      "text/plain": [
       "-3.535143187082046"
      ]
     },
     "execution_count": 112,
     "metadata": {},
     "output_type": "execute_result"
    }
   ],
   "source": [
    "100 * (after/before - 1)"
   ]
  },
  {
   "cell_type": "markdown",
   "metadata": {},
   "source": [
    "#### What is the size statistics for unique byte streams?"
   ]
  },
  {
   "cell_type": "code",
   "execution_count": 113,
   "metadata": {
    "collapsed": false
   },
   "outputs": [
    {
     "data": {
      "text/html": [
       "\n",
       "\n",
       "    <div class=\"bk-root\">\n",
       "        <div class=\"bk-plotdiv\" id=\"ad75f1fd-96fd-47b8-b4fe-bbfab5b9cdcf\"></div>\n",
       "    </div>\n",
       "<script type=\"text/javascript\">\n",
       "  \n",
       "  (function(global) {\n",
       "    function now() {\n",
       "      return new Date();\n",
       "    }\n",
       "  \n",
       "    var force = false;\n",
       "  \n",
       "    if (typeof (window._bokeh_onload_callbacks) === \"undefined\" || force === true) {\n",
       "      window._bokeh_onload_callbacks = [];\n",
       "      window._bokeh_is_loading = undefined;\n",
       "    }\n",
       "  \n",
       "  \n",
       "    \n",
       "    if (typeof (window._bokeh_timeout) === \"undefined\" || force === true) {\n",
       "      window._bokeh_timeout = Date.now() + 0;\n",
       "      window._bokeh_failed_load = false;\n",
       "    }\n",
       "  \n",
       "    var NB_LOAD_WARNING = {'data': {'text/html':\n",
       "       \"<div style='background-color: #fdd'>\\n\"+\n",
       "       \"<p>\\n\"+\n",
       "       \"BokehJS does not appear to have successfully loaded. If loading BokehJS from CDN, this \\n\"+\n",
       "       \"may be due to a slow or bad network connection. Possible fixes:\\n\"+\n",
       "       \"</p>\\n\"+\n",
       "       \"<ul>\\n\"+\n",
       "       \"<li>re-rerun `output_notebook()` to attempt to load from CDN again, or</li>\\n\"+\n",
       "       \"<li>use INLINE resources instead, as so:</li>\\n\"+\n",
       "       \"</ul>\\n\"+\n",
       "       \"<code>\\n\"+\n",
       "       \"from bokeh.resources import INLINE\\n\"+\n",
       "       \"output_notebook(resources=INLINE)\\n\"+\n",
       "       \"</code>\\n\"+\n",
       "       \"</div>\"}};\n",
       "  \n",
       "    function display_loaded() {\n",
       "      if (window.Bokeh !== undefined) {\n",
       "        document.getElementById(\"ad75f1fd-96fd-47b8-b4fe-bbfab5b9cdcf\").textContent = \"BokehJS successfully loaded.\";\n",
       "      } else if (Date.now() < window._bokeh_timeout) {\n",
       "        setTimeout(display_loaded, 100)\n",
       "      }\n",
       "    }\n",
       "  \n",
       "    function run_callbacks() {\n",
       "      window._bokeh_onload_callbacks.forEach(function(callback) { callback() });\n",
       "      delete window._bokeh_onload_callbacks\n",
       "      console.info(\"Bokeh: all callbacks have finished\");\n",
       "    }\n",
       "  \n",
       "    function load_libs(js_urls, callback) {\n",
       "      window._bokeh_onload_callbacks.push(callback);\n",
       "      if (window._bokeh_is_loading > 0) {\n",
       "        console.log(\"Bokeh: BokehJS is being loaded, scheduling callback at\", now());\n",
       "        return null;\n",
       "      }\n",
       "      if (js_urls == null || js_urls.length === 0) {\n",
       "        run_callbacks();\n",
       "        return null;\n",
       "      }\n",
       "      console.log(\"Bokeh: BokehJS not loaded, scheduling load and callback at\", now());\n",
       "      window._bokeh_is_loading = js_urls.length;\n",
       "      for (var i = 0; i < js_urls.length; i++) {\n",
       "        var url = js_urls[i];\n",
       "        var s = document.createElement('script');\n",
       "        s.src = url;\n",
       "        s.async = false;\n",
       "        s.onreadystatechange = s.onload = function() {\n",
       "          window._bokeh_is_loading--;\n",
       "          if (window._bokeh_is_loading === 0) {\n",
       "            console.log(\"Bokeh: all BokehJS libraries loaded\");\n",
       "            run_callbacks()\n",
       "          }\n",
       "        };\n",
       "        s.onerror = function() {\n",
       "          console.warn(\"failed to load library \" + url);\n",
       "        };\n",
       "        console.log(\"Bokeh: injecting script tag for BokehJS library: \", url);\n",
       "        document.getElementsByTagName(\"head\")[0].appendChild(s);\n",
       "      }\n",
       "    };var element = document.getElementById(\"ad75f1fd-96fd-47b8-b4fe-bbfab5b9cdcf\");\n",
       "    if (element == null) {\n",
       "      console.log(\"Bokeh: ERROR: autoload.js configured with elementid 'ad75f1fd-96fd-47b8-b4fe-bbfab5b9cdcf' but no matching script tag was found. \")\n",
       "      return false;\n",
       "    }\n",
       "  \n",
       "    var js_urls = [];\n",
       "  \n",
       "    var inline_js = [\n",
       "      function(Bokeh) {\n",
       "        (function() {\n",
       "          var fn = function() {\n",
       "            var docs_json = {\"53142c3c-f7d1-48a5-b572-461eeec1228e\":{\"roots\":{\"references\":[{\"attributes\":{\"data_source\":{\"id\":\"fcbde362-2a95-4d3c-9cb7-54ad8d70709b\",\"type\":\"ColumnDataSource\"},\"glyph\":{\"id\":\"77ed5d4b-c326-4579-994c-29a08b7c5617\",\"type\":\"Rect\"},\"hover_glyph\":null,\"nonselection_glyph\":null,\"selection_glyph\":null},\"id\":\"d48967d8-eb1d-47a4-90f2-6a4cb370a0ac\",\"type\":\"GlyphRenderer\"},{\"attributes\":{\"callback\":null,\"column_names\":[\"x\",\"label\",\"height\",\"color\",\"line_alpha\",\"line_color\",\"y\",\"width\",\"fill_alpha\"],\"data\":{\"chart_index\":[\"(12.148280, 13.081840]\"],\"color\":[\"#f22c40\"],\"fill_alpha\":[0.8],\"height\":[1588.0],\"label\":[\"(12.148280, 13.081840]\"],\"line_alpha\":[1.0],\"line_color\":[\"black\"],\"width\":[0.93356],\"x\":[\"12.61506\"],\"y\":[794.0]}},\"id\":\"06270232-9857-4f6c-9c4f-60d6276e4764\",\"type\":\"ColumnDataSource\"},{\"attributes\":{\"callback\":null,\"column_names\":[\"x\",\"label\",\"height\",\"color\",\"line_alpha\",\"line_color\",\"y\",\"width\",\"fill_alpha\"],\"data\":{\"chart_index\":[\"(2.812680, 3.746240]\"],\"color\":[\"#f22c40\"],\"fill_alpha\":[0.8],\"height\":[566.0],\"label\":[\"(2.812680, 3.746240]\"],\"line_alpha\":[1.0],\"line_color\":[\"black\"],\"width\":[0.93356],\"x\":[\"3.27946\"],\"y\":[283.0]}},\"id\":\"55b839e1-bf0b-493c-83a2-f6396dc32c86\",\"type\":\"ColumnDataSource\"},{\"attributes\":{\"callback\":null,\"column_names\":[\"x\",\"label\",\"height\",\"color\",\"line_alpha\",\"line_color\",\"y\",\"width\",\"fill_alpha\"],\"data\":{\"chart_index\":[\"(25.218120, 26.151680]\"],\"color\":[\"#f22c40\"],\"fill_alpha\":[0.8],\"height\":[848.0],\"label\":[\"(25.218120, 26.151680]\"],\"line_alpha\":[1.0],\"line_color\":[\"black\"],\"width\":[0.93356],\"x\":[\"25.6849\"],\"y\":[424.0]}},\"id\":\"4280fdab-9774-4d77-99ba-d666342aae62\",\"type\":\"ColumnDataSource\"},{\"attributes\":{\"fill_alpha\":{\"field\":\"fill_alpha\"},\"fill_color\":{\"field\":\"color\"},\"height\":{\"field\":\"height\",\"units\":\"data\"},\"line_color\":{\"field\":\"line_color\"},\"width\":{\"field\":\"width\",\"units\":\"data\"},\"x\":{\"field\":\"x\"},\"y\":{\"field\":\"y\"}},\"id\":\"acbf6636-ab00-4c5b-ab6b-ec351c4340b2\",\"type\":\"Rect\"},{\"attributes\":{\"callback\":null,\"column_names\":[\"x\",\"label\",\"height\",\"color\",\"line_alpha\",\"line_color\",\"y\",\"width\",\"fill_alpha\"],\"data\":{\"chart_index\":[\"(7.480480, 8.414040]\"],\"color\":[\"#f22c40\"],\"fill_alpha\":[0.8],\"height\":[165.0],\"label\":[\"(7.480480, 8.414040]\"],\"line_alpha\":[1.0],\"line_color\":[\"black\"],\"width\":[0.9335600000000008],\"x\":[\"7.94726\"],\"y\":[82.5]}},\"id\":\"8297a7a3-d31b-4b41-a5dc-3e77971ed443\",\"type\":\"ColumnDataSource\"},{\"attributes\":{\"data_source\":{\"id\":\"787fc6b5-661a-47a7-92c6-264c9755ea7d\",\"type\":\"ColumnDataSource\"},\"glyph\":{\"id\":\"f9873a30-fff1-42c0-890e-673b60ad625d\",\"type\":\"Rect\"},\"hover_glyph\":null,\"nonselection_glyph\":null,\"selection_glyph\":null},\"id\":\"17f4c7e8-a081-4a84-9fd9-5e7dc5b574ea\",\"type\":\"GlyphRenderer\"},{\"attributes\":{\"fill_alpha\":{\"field\":\"fill_alpha\"},\"fill_color\":{\"field\":\"color\"},\"height\":{\"field\":\"height\",\"units\":\"data\"},\"line_color\":{\"field\":\"line_color\"},\"width\":{\"field\":\"width\",\"units\":\"data\"},\"x\":{\"field\":\"x\"},\"y\":{\"field\":\"y\"}},\"id\":\"4e414244-ba8b-43f9-ac04-8925a6ca4905\",\"type\":\"Rect\"},{\"attributes\":{\"data_source\":{\"id\":\"5bc7643b-382d-4d50-8782-baba3d7de08c\",\"type\":\"ColumnDataSource\"},\"glyph\":{\"id\":\"cd22fee2-3516-4cc0-940e-d2fb82603c8e\",\"type\":\"Rect\"},\"hover_glyph\":null,\"nonselection_glyph\":null,\"selection_glyph\":null},\"id\":\"ebaa5835-cfe8-4fee-bfd4-4fd685394037\",\"type\":\"GlyphRenderer\"},{\"attributes\":{\"data_source\":{\"id\":\"e11bacc4-9e16-4c63-8210-4506a452b0e5\",\"type\":\"ColumnDataSource\"},\"glyph\":{\"id\":\"938074d9-3a9b-479b-a586-9c73d12a1509\",\"type\":\"Rect\"},\"hover_glyph\":null,\"nonselection_glyph\":null,\"selection_glyph\":null},\"id\":\"5988352b-0ef3-4580-864a-4b26cdd6b781\",\"type\":\"GlyphRenderer\"},{\"attributes\":{\"data_source\":{\"id\":\"3019a265-0dd4-49a0-b00b-ef6e6b6360e3\",\"type\":\"ColumnDataSource\"},\"glyph\":{\"id\":\"8c90bb50-518d-4afd-8571-9cfb3b5a187b\",\"type\":\"Rect\"},\"hover_glyph\":null,\"nonselection_glyph\":null,\"selection_glyph\":null},\"id\":\"16de7f00-d667-4207-8d87-ac59e9d05899\",\"type\":\"GlyphRenderer\"},{\"attributes\":{\"callback\":null,\"end\":47.857549999999996,\"start\":-1.15555},\"id\":\"ab86730d-f405-4569-bac4-34f80c1b360c\",\"type\":\"Range1d\"},{\"attributes\":{\"fill_alpha\":{\"field\":\"fill_alpha\"},\"fill_color\":{\"field\":\"color\"},\"height\":{\"field\":\"height\",\"units\":\"data\"},\"line_color\":{\"field\":\"line_color\"},\"width\":{\"field\":\"width\",\"units\":\"data\"},\"x\":{\"field\":\"x\"},\"y\":{\"field\":\"y\"}},\"id\":\"19e9c1b8-671d-49bc-a6ba-089c83637038\",\"type\":\"Rect\"},{\"attributes\":{\"data_source\":{\"id\":\"06270232-9857-4f6c-9c4f-60d6276e4764\",\"type\":\"ColumnDataSource\"},\"glyph\":{\"id\":\"a1dfb631-e81e-44a1-8e49-7808a04a1a1e\",\"type\":\"Rect\"},\"hover_glyph\":null,\"nonselection_glyph\":null,\"selection_glyph\":null},\"id\":\"52843564-44e9-4fd2-ba74-0d0afd843455\",\"type\":\"GlyphRenderer\"},{\"attributes\":{\"fill_alpha\":{\"field\":\"fill_alpha\"},\"fill_color\":{\"field\":\"color\"},\"height\":{\"field\":\"height\",\"units\":\"data\"},\"line_color\":{\"field\":\"line_color\"},\"width\":{\"field\":\"width\",\"units\":\"data\"},\"x\":{\"field\":\"x\"},\"y\":{\"field\":\"y\"}},\"id\":\"2318a100-86d4-4b3e-baef-93ed389605bf\",\"type\":\"Rect\"},{\"attributes\":{\"callback\":null,\"column_names\":[\"x\",\"label\",\"height\",\"color\",\"line_alpha\",\"line_color\",\"y\",\"width\",\"fill_alpha\"],\"data\":{\"chart_index\":[\"(16.816080, 17.749640]\"],\"color\":[\"#f22c40\"],\"fill_alpha\":[0.8],\"height\":[1177.0],\"label\":[\"(16.816080, 17.749640]\"],\"line_alpha\":[1.0],\"line_color\":[\"black\"],\"width\":[0.93356],\"x\":[\"17.28286\"],\"y\":[588.5]}},\"id\":\"0dc72af8-e035-4ba5-89e5-5b8e2bddabeb\",\"type\":\"ColumnDataSource\"},{\"attributes\":{\"fill_alpha\":{\"field\":\"fill_alpha\"},\"fill_color\":{\"field\":\"color\"},\"height\":{\"field\":\"height\",\"units\":\"data\"},\"line_color\":{\"field\":\"line_color\"},\"width\":{\"field\":\"width\",\"units\":\"data\"},\"x\":{\"field\":\"x\"},\"y\":{\"field\":\"y\"}},\"id\":\"83e87bfc-ebc3-4be7-9934-1b80e2443cc6\",\"type\":\"Rect\"},{\"attributes\":{\"dimension\":1,\"plot\":{\"id\":\"bcdbfb10-683f-4b0c-bd50-bd03a75c2c0c\",\"subtype\":\"Chart\",\"type\":\"Plot\"},\"ticker\":{\"id\":\"8ed0948a-a32c-4223-bcca-d2ce90bac303\",\"type\":\"BasicTicker\"}},\"id\":\"dbece5db-7a5f-45d4-83b9-829e90b74be0\",\"type\":\"Grid\"},{\"attributes\":{\"data_source\":{\"id\":\"76c3dd95-3981-49ca-a61f-6533c12ed2c0\",\"type\":\"ColumnDataSource\"},\"glyph\":{\"id\":\"25d22d80-6fe4-4484-8ec7-068062778abe\",\"type\":\"Rect\"},\"hover_glyph\":null,\"nonselection_glyph\":null,\"selection_glyph\":null},\"id\":\"e1bda9e0-7e08-4a7a-82c4-68192e2d601d\",\"type\":\"GlyphRenderer\"},{\"attributes\":{\"fill_alpha\":{\"field\":\"fill_alpha\"},\"fill_color\":{\"field\":\"color\"},\"height\":{\"field\":\"height\",\"units\":\"data\"},\"line_color\":{\"field\":\"line_color\"},\"width\":{\"field\":\"width\",\"units\":\"data\"},\"x\":{\"field\":\"x\"},\"y\":{\"field\":\"y\"}},\"id\":\"8613c145-f6ca-4113-ba4a-3a31783f8432\",\"type\":\"Rect\"},{\"attributes\":{\"data_source\":{\"id\":\"55b839e1-bf0b-493c-83a2-f6396dc32c86\",\"type\":\"ColumnDataSource\"},\"glyph\":{\"id\":\"acbf6636-ab00-4c5b-ab6b-ec351c4340b2\",\"type\":\"Rect\"},\"hover_glyph\":null,\"nonselection_glyph\":null,\"selection_glyph\":null},\"id\":\"9261ec00-8334-49a9-a8f8-ab84055929a3\",\"type\":\"GlyphRenderer\"},{\"attributes\":{\"callback\":null,\"column_names\":[\"x\",\"label\",\"height\",\"color\",\"line_alpha\",\"line_color\",\"y\",\"width\",\"fill_alpha\"],\"data\":{\"chart_index\":[\"(42.955760, 43.889320]\"],\"color\":[\"#f22c40\"],\"fill_alpha\":[0.8],\"height\":[17365.0],\"label\":[\"(42.955760, 43.889320]\"],\"line_alpha\":[1.0],\"line_color\":[\"black\"],\"width\":[0.93356],\"x\":[\"43.42254\"],\"y\":[8682.5]}},\"id\":\"0b5d3460-5aa7-4e1d-8cfb-8a504c01a6c2\",\"type\":\"ColumnDataSource\"},{\"attributes\":{\"fill_alpha\":{\"field\":\"fill_alpha\"},\"fill_color\":{\"field\":\"color\"},\"height\":{\"field\":\"height\",\"units\":\"data\"},\"line_color\":{\"field\":\"line_color\"},\"width\":{\"field\":\"width\",\"units\":\"data\"},\"x\":{\"field\":\"x\"},\"y\":{\"field\":\"y\"}},\"id\":\"0f8486af-cb2f-40c2-95f9-6dc8c2edfdb2\",\"type\":\"Rect\"},{\"attributes\":{\"fill_alpha\":{\"field\":\"fill_alpha\"},\"fill_color\":{\"field\":\"color\"},\"height\":{\"field\":\"height\",\"units\":\"data\"},\"line_color\":{\"field\":\"line_color\"},\"width\":{\"field\":\"width\",\"units\":\"data\"},\"x\":{\"field\":\"x\"},\"y\":{\"field\":\"y\"}},\"id\":\"25d22d80-6fe4-4484-8ec7-068062778abe\",\"type\":\"Rect\"},{\"attributes\":{\"data_source\":{\"id\":\"956264af-7260-4233-975a-275c1a4c427e\",\"type\":\"ColumnDataSource\"},\"glyph\":{\"id\":\"3ee31a8d-64ae-4f57-a1ea-b12f9f1dd720\",\"type\":\"Rect\"},\"hover_glyph\":null,\"nonselection_glyph\":null,\"selection_glyph\":null},\"id\":\"ef27a370-3b7b-4626-a6f5-71573268ecc6\",\"type\":\"GlyphRenderer\"},{\"attributes\":{\"fill_alpha\":{\"field\":\"fill_alpha\"},\"fill_color\":{\"field\":\"color\"},\"height\":{\"field\":\"height\",\"units\":\"data\"},\"line_color\":{\"field\":\"line_color\"},\"width\":{\"field\":\"width\",\"units\":\"data\"},\"x\":{\"field\":\"x\"},\"y\":{\"field\":\"y\"}},\"id\":\"a1dfb631-e81e-44a1-8e49-7808a04a1a1e\",\"type\":\"Rect\"},{\"attributes\":{\"plot\":null,\"text\":null},\"id\":\"85166a07-8b27-4ece-a297-8b0d1ebe3099\",\"type\":\"Title\"},{\"attributes\":{\"fill_alpha\":{\"field\":\"fill_alpha\"},\"fill_color\":{\"field\":\"color\"},\"height\":{\"field\":\"height\",\"units\":\"data\"},\"line_color\":{\"field\":\"line_color\"},\"width\":{\"field\":\"width\",\"units\":\"data\"},\"x\":{\"field\":\"x\"},\"y\":{\"field\":\"y\"}},\"id\":\"909f67b4-4cdf-44ac-84e5-9c72ac850338\",\"type\":\"Rect\"},{\"attributes\":{\"data_source\":{\"id\":\"9f81c001-69ba-4d2e-8501-22a9557624cf\",\"type\":\"ColumnDataSource\"},\"glyph\":{\"id\":\"f9ad7174-7171-42e5-b6b5-db18f3f1208b\",\"type\":\"Rect\"},\"hover_glyph\":null,\"nonselection_glyph\":null,\"selection_glyph\":null},\"id\":\"dcfa693c-3f0b-4d0b-a28a-883da68a23aa\",\"type\":\"GlyphRenderer\"},{\"attributes\":{\"data_source\":{\"id\":\"305c6bc0-44b9-4b3e-8c6a-cbcdfc00859d\",\"type\":\"ColumnDataSource\"},\"glyph\":{\"id\":\"ff6963b3-6ba6-4acd-b789-cea3c5158e12\",\"type\":\"Rect\"},\"hover_glyph\":null,\"nonselection_glyph\":null,\"selection_glyph\":null},\"id\":\"ed2f85a5-2cc3-446d-90b9-7a449f4fef83\",\"type\":\"GlyphRenderer\"},{\"attributes\":{\"callback\":null,\"column_names\":[\"x\",\"label\",\"height\",\"color\",\"line_alpha\",\"line_color\",\"y\",\"width\",\"fill_alpha\"],\"data\":{\"chart_index\":[\"(26.151680, 27.085240]\"],\"color\":[\"#f22c40\"],\"fill_alpha\":[0.8],\"height\":[1079.0],\"label\":[\"(26.151680, 27.085240]\"],\"line_alpha\":[1.0],\"line_color\":[\"black\"],\"width\":[0.93356],\"x\":[\"26.61846\"],\"y\":[539.5]}},\"id\":\"9d026149-8bbb-4cb2-9f52-b2f6e4e3926f\",\"type\":\"ColumnDataSource\"},{\"attributes\":{\"fill_alpha\":{\"field\":\"fill_alpha\"},\"fill_color\":{\"field\":\"color\"},\"height\":{\"field\":\"height\",\"units\":\"data\"},\"line_color\":{\"field\":\"line_color\"},\"width\":{\"field\":\"width\",\"units\":\"data\"},\"x\":{\"field\":\"x\"},\"y\":{\"field\":\"y\"}},\"id\":\"a12c4b77-db55-4a91-a75f-1b810d1e3fdd\",\"type\":\"Rect\"},{\"attributes\":{\"fill_alpha\":{\"field\":\"fill_alpha\"},\"fill_color\":{\"field\":\"color\"},\"height\":{\"field\":\"height\",\"units\":\"data\"},\"line_color\":{\"field\":\"line_color\"},\"width\":{\"field\":\"width\",\"units\":\"data\"},\"x\":{\"field\":\"x\"},\"y\":{\"field\":\"y\"}},\"id\":\"3ee31a8d-64ae-4f57-a1ea-b12f9f1dd720\",\"type\":\"Rect\"},{\"attributes\":{\"data_source\":{\"id\":\"3564fdae-d9da-459c-ad3f-309bc7106c90\",\"type\":\"ColumnDataSource\"},\"glyph\":{\"id\":\"6b3fb012-04b1-4735-bcb6-a83f5748c0b3\",\"type\":\"Rect\"},\"hover_glyph\":null,\"nonselection_glyph\":null,\"selection_glyph\":null},\"id\":\"099a5dd9-2e78-47c2-a5be-f3e4833278d6\",\"type\":\"GlyphRenderer\"},{\"attributes\":{\"data_source\":{\"id\":\"62fd3782-7bd2-4082-9a5b-57460d14fad3\",\"type\":\"ColumnDataSource\"},\"glyph\":{\"id\":\"f9948b55-65a6-474e-ac1e-ddde7f913517\",\"type\":\"Rect\"},\"hover_glyph\":null,\"nonselection_glyph\":null,\"selection_glyph\":null},\"id\":\"773020c1-30d7-4f97-8849-cbb63478d911\",\"type\":\"GlyphRenderer\"},{\"attributes\":{\"data_source\":{\"id\":\"dbae4f51-fd30-46f1-8644-ca294bda316a\",\"type\":\"ColumnDataSource\"},\"glyph\":{\"id\":\"a2a9cb1b-50f8-4c08-ab7c-35d62a6db90e\",\"type\":\"Rect\"},\"hover_glyph\":null,\"nonselection_glyph\":null,\"selection_glyph\":null},\"id\":\"e17750aa-13f5-4a9e-b18b-33f768be64a4\",\"type\":\"GlyphRenderer\"},{\"attributes\":{\"fill_alpha\":{\"field\":\"fill_alpha\"},\"fill_color\":{\"field\":\"color\"},\"height\":{\"field\":\"height\",\"units\":\"data\"},\"line_color\":{\"field\":\"line_color\"},\"width\":{\"field\":\"width\",\"units\":\"data\"},\"x\":{\"field\":\"x\"},\"y\":{\"field\":\"y\"}},\"id\":\"6880ccf9-3220-4812-8776-be449c38b0cd\",\"type\":\"Rect\"},{\"attributes\":{\"callback\":null,\"column_names\":[\"x\",\"label\",\"height\",\"color\",\"line_alpha\",\"line_color\",\"y\",\"width\",\"fill_alpha\"],\"data\":{\"chart_index\":[\"(20.550320, 21.483880]\"],\"color\":[\"#f22c40\"],\"fill_alpha\":[0.8],\"height\":[1418.0],\"label\":[\"(20.550320, 21.483880]\"],\"line_alpha\":[1.0],\"line_color\":[\"black\"],\"width\":[0.93356],\"x\":[\"21.0171\"],\"y\":[709.0]}},\"id\":\"75734cc1-16a2-40dd-8965-8867e56720ac\",\"type\":\"ColumnDataSource\"},{\"attributes\":{\"callback\":null,\"column_names\":[\"x\",\"label\",\"height\",\"color\",\"line_alpha\",\"line_color\",\"y\",\"width\",\"fill_alpha\"],\"data\":{\"chart_index\":[\"[0.012000, 0.945560]\"],\"color\":[\"#f22c40\"],\"fill_alpha\":[0.8],\"height\":[4337.0],\"label\":[\"[0.012000, 0.945560]\"],\"line_alpha\":[1.0],\"line_color\":[\"black\"],\"width\":[0.93356],\"x\":[\"0.47878\"],\"y\":[2168.5]}},\"id\":\"2e0ef2bb-6db0-4bab-a64c-1a6864a2b9ea\",\"type\":\"ColumnDataSource\"},{\"attributes\":{\"fill_alpha\":{\"field\":\"fill_alpha\"},\"fill_color\":{\"field\":\"color\"},\"height\":{\"field\":\"height\",\"units\":\"data\"},\"line_color\":{\"field\":\"line_color\"},\"width\":{\"field\":\"width\",\"units\":\"data\"},\"x\":{\"field\":\"x\"},\"y\":{\"field\":\"y\"}},\"id\":\"77ed5d4b-c326-4579-994c-29a08b7c5617\",\"type\":\"Rect\"},{\"attributes\":{\"axis_label\":\"Byte Stream Size (kilobytes)\",\"formatter\":{\"id\":\"a3bb9ca6-3bcd-403d-bc1c-3a179d01a5a9\",\"type\":\"BasicTickFormatter\"},\"plot\":{\"id\":\"bcdbfb10-683f-4b0c-bd50-bd03a75c2c0c\",\"subtype\":\"Chart\",\"type\":\"Plot\"},\"ticker\":{\"id\":\"ea51c5c8-eda5-4294-a10b-3708633c8e8b\",\"type\":\"BasicTicker\"}},\"id\":\"7a2e04fb-0d9d-4acd-b525-259aa80148d3\",\"type\":\"LinearAxis\"},{\"attributes\":{\"fill_alpha\":{\"field\":\"fill_alpha\"},\"fill_color\":{\"field\":\"color\"},\"height\":{\"field\":\"height\",\"units\":\"data\"},\"line_color\":{\"field\":\"line_color\"},\"width\":{\"field\":\"width\",\"units\":\"data\"},\"x\":{\"field\":\"x\"},\"y\":{\"field\":\"y\"}},\"id\":\"f31b6f8c-8107-4e38-b465-e618b1553359\",\"type\":\"Rect\"},{\"attributes\":{\"callback\":null,\"column_names\":[\"x\",\"label\",\"height\",\"color\",\"line_alpha\",\"line_color\",\"y\",\"width\",\"fill_alpha\"],\"data\":{\"chart_index\":[\"(23.351000, 24.284560]\"],\"color\":[\"#f22c40\"],\"fill_alpha\":[0.8],\"height\":[1245.0],\"label\":[\"(23.351000, 24.284560]\"],\"line_alpha\":[1.0],\"line_color\":[\"black\"],\"width\":[0.93356],\"x\":[\"23.81778\"],\"y\":[622.5]}},\"id\":\"0a3c1309-3af0-4d3d-b4a7-6106d26be284\",\"type\":\"ColumnDataSource\"},{\"attributes\":{\"callback\":null,\"column_names\":[\"x\",\"label\",\"height\",\"color\",\"line_alpha\",\"line_color\",\"y\",\"width\",\"fill_alpha\"],\"data\":{\"chart_index\":[\"(8.414040, 9.347600]\"],\"color\":[\"#f22c40\"],\"fill_alpha\":[0.8],\"height\":[120.0],\"label\":[\"(8.414040, 9.347600]\"],\"line_alpha\":[1.0],\"line_color\":[\"black\"],\"width\":[0.93356],\"x\":[\"8.88082\"],\"y\":[60.0]}},\"id\":\"d740e496-d836-4787-9886-0081c16a5bd4\",\"type\":\"ColumnDataSource\"},{\"attributes\":{\"active_drag\":\"auto\",\"active_scroll\":\"auto\",\"active_tap\":\"auto\",\"tools\":[{\"id\":\"df42c6f0-d4db-4391-99f6-2dd9988cd0e2\",\"type\":\"PanTool\"},{\"id\":\"571a6b0b-b5f1-48ed-b4da-5fad443cd67b\",\"type\":\"WheelZoomTool\"},{\"id\":\"298bbce8-57d3-4a4d-8f18-96a7e8fcb7a9\",\"type\":\"BoxZoomTool\"},{\"id\":\"68cd5abc-72a2-41ea-a912-ac1719abf56d\",\"type\":\"SaveTool\"},{\"id\":\"319bad82-7708-46bf-a2de-d6534106efd9\",\"type\":\"ResetTool\"},{\"id\":\"5fa63f42-d627-4b0f-ac72-3a908c2e6b91\",\"type\":\"HelpTool\"}]},\"id\":\"cb0a5d42-16e3-42b3-9290-ff5c04eac5be\",\"type\":\"Toolbar\"},{\"attributes\":{\"data_source\":{\"id\":\"412fd1e6-8de3-4020-9da4-c62c48c276d2\",\"type\":\"ColumnDataSource\"},\"glyph\":{\"id\":\"aecc9c70-6e8e-4f97-8f70-a98d1e02dee9\",\"type\":\"Rect\"},\"hover_glyph\":null,\"nonselection_glyph\":null,\"selection_glyph\":null},\"id\":\"7e11bbcb-ff41-4e03-b633-8f499a265e1b\",\"type\":\"GlyphRenderer\"},{\"attributes\":{\"callback\":null,\"column_names\":[\"x\",\"label\",\"height\",\"color\",\"line_alpha\",\"line_color\",\"y\",\"width\",\"fill_alpha\"],\"data\":{\"chart_index\":[\"(43.889320, 44.822880]\"],\"color\":[\"#f22c40\"],\"fill_alpha\":[0.8],\"height\":[5078.0],\"label\":[\"(43.889320, 44.822880]\"],\"line_alpha\":[1.0],\"line_color\":[\"black\"],\"width\":[0.93356],\"x\":[\"44.3561\"],\"y\":[2539.0]}},\"id\":\"d7ebf380-8f53-4b94-bea5-290e0c62e0c9\",\"type\":\"ColumnDataSource\"},{\"attributes\":{\"callback\":null,\"column_names\":[\"x\",\"label\",\"height\",\"color\",\"line_alpha\",\"line_color\",\"y\",\"width\",\"fill_alpha\"],\"data\":{\"chart_index\":[\"(24.284560, 25.218120]\"],\"color\":[\"#f22c40\"],\"fill_alpha\":[0.8],\"height\":[1268.0],\"label\":[\"(24.284560, 25.218120]\"],\"line_alpha\":[1.0],\"line_color\":[\"black\"],\"width\":[0.93356],\"x\":[\"24.75134\"],\"y\":[634.0]}},\"id\":\"dbae4f51-fd30-46f1-8644-ca294bda316a\",\"type\":\"ColumnDataSource\"},{\"attributes\":{\"callback\":null,\"column_names\":[\"x\",\"label\",\"height\",\"color\",\"line_alpha\",\"line_color\",\"y\",\"width\",\"fill_alpha\"],\"data\":{\"chart_index\":[\"(5.613360, 6.546920]\"],\"color\":[\"#f22c40\"],\"fill_alpha\":[0.8],\"height\":[236.0],\"label\":[\"(5.613360, 6.546920]\"],\"line_alpha\":[1.0],\"line_color\":[\"black\"],\"width\":[0.93356],\"x\":[\"6.08014\"],\"y\":[118.0]}},\"id\":\"e11bacc4-9e16-4c63-8210-4506a452b0e5\",\"type\":\"ColumnDataSource\"},{\"attributes\":{\"fill_alpha\":{\"field\":\"fill_alpha\"},\"fill_color\":{\"field\":\"color\"},\"height\":{\"field\":\"height\",\"units\":\"data\"},\"line_color\":{\"field\":\"line_color\"},\"width\":{\"field\":\"width\",\"units\":\"data\"},\"x\":{\"field\":\"x\"},\"y\":{\"field\":\"y\"}},\"id\":\"fbc9d569-9bec-4cba-a691-1aca1593a057\",\"type\":\"Rect\"},{\"attributes\":{\"data_source\":{\"id\":\"4d6cc358-7045-4e8a-ad93-af316cf240fc\",\"type\":\"ColumnDataSource\"},\"glyph\":{\"id\":\"fbc9d569-9bec-4cba-a691-1aca1593a057\",\"type\":\"Rect\"},\"hover_glyph\":null,\"nonselection_glyph\":null,\"selection_glyph\":null},\"id\":\"72f6417d-dee8-4295-988d-c1ca57f1a29d\",\"type\":\"GlyphRenderer\"},{\"attributes\":{\"bottom_units\":\"screen\",\"fill_alpha\":{\"value\":0.5},\"fill_color\":{\"value\":\"lightgrey\"},\"left_units\":\"screen\",\"level\":\"overlay\",\"line_alpha\":{\"value\":1.0},\"line_color\":{\"value\":\"black\"},\"line_dash\":[4,4],\"line_width\":{\"value\":2},\"plot\":null,\"render_mode\":\"css\",\"right_units\":\"screen\",\"top_units\":\"screen\"},\"id\":\"fd708322-62d7-4220-bfb8-cda7f9bfec8b\",\"type\":\"BoxAnnotation\"},{\"attributes\":{\"callback\":null,\"column_names\":[\"x\",\"label\",\"height\",\"color\",\"line_alpha\",\"line_color\",\"y\",\"width\",\"fill_alpha\"],\"data\":{\"chart_index\":[\"(1.879120, 2.812680]\"],\"color\":[\"#f22c40\"],\"fill_alpha\":[0.8],\"height\":[653.0],\"label\":[\"(1.879120, 2.812680]\"],\"line_alpha\":[1.0],\"line_color\":[\"black\"],\"width\":[0.93356],\"x\":[\"2.3459\"],\"y\":[326.5]}},\"id\":\"4955820b-0879-4320-a14f-0617622dceab\",\"type\":\"ColumnDataSource\"},{\"attributes\":{\"callback\":null,\"column_names\":[\"x\",\"label\",\"height\",\"color\",\"line_alpha\",\"line_color\",\"y\",\"width\",\"fill_alpha\"],\"data\":{\"chart_index\":[\"(45.756440, 46.690000]\"],\"color\":[\"#f22c40\"],\"fill_alpha\":[0.8],\"height\":[1605.0],\"label\":[\"(45.756440, 46.690000]\"],\"line_alpha\":[1.0],\"line_color\":[\"black\"],\"width\":[0.93356],\"x\":[\"46.22322\"],\"y\":[802.5]}},\"id\":\"4d6cc358-7045-4e8a-ad93-af316cf240fc\",\"type\":\"ColumnDataSource\"},{\"attributes\":{\"data_source\":{\"id\":\"ef72821e-afa0-4c63-a0ee-888a2112d96a\",\"type\":\"ColumnDataSource\"},\"glyph\":{\"id\":\"3c35636f-8a34-4a7c-b09d-3beb629549ba\",\"type\":\"Rect\"},\"hover_glyph\":null,\"nonselection_glyph\":null,\"selection_glyph\":null},\"id\":\"bb20b223-9ee2-4ada-9b07-9ba21f0ec594\",\"type\":\"GlyphRenderer\"},{\"attributes\":{\"callback\":null,\"column_names\":[\"x\",\"label\",\"height\",\"color\",\"line_alpha\",\"line_color\",\"y\",\"width\",\"fill_alpha\"],\"data\":{\"chart_index\":[\"(17.749640, 18.683200]\"],\"color\":[\"#f22c40\"],\"fill_alpha\":[0.8],\"height\":[1446.0],\"label\":[\"(17.749640, 18.683200]\"],\"line_alpha\":[1.0],\"line_color\":[\"black\"],\"width\":[0.93356],\"x\":[\"18.21642\"],\"y\":[723.0]}},\"id\":\"1169d9cb-0625-4b5e-999b-19a4ac414c40\",\"type\":\"ColumnDataSource\"},{\"attributes\":{\"data_source\":{\"id\":\"a12dad84-1d19-4207-a63e-998f72b397f8\",\"type\":\"ColumnDataSource\"},\"glyph\":{\"id\":\"0f8486af-cb2f-40c2-95f9-6dc8c2edfdb2\",\"type\":\"Rect\"},\"hover_glyph\":null,\"nonselection_glyph\":null,\"selection_glyph\":null},\"id\":\"fcb1d191-2192-4b56-bc59-26cc3579114b\",\"type\":\"GlyphRenderer\"},{\"attributes\":{\"callback\":null,\"column_names\":[\"x\",\"label\",\"height\",\"color\",\"line_alpha\",\"line_color\",\"y\",\"width\",\"fill_alpha\"],\"data\":{\"chart_index\":[\"(34.553720, 35.487280]\"],\"color\":[\"#f22c40\"],\"fill_alpha\":[0.8],\"height\":[6881.0],\"label\":[\"(34.553720, 35.487280]\"],\"line_alpha\":[1.0],\"line_color\":[\"black\"],\"width\":[0.93356],\"x\":[\"35.0205\"],\"y\":[3440.5]}},\"id\":\"1542cd52-4ca2-4664-a244-8f6fdd8763c1\",\"type\":\"ColumnDataSource\"},{\"attributes\":{\"callback\":null,\"column_names\":[\"x\",\"label\",\"height\",\"color\",\"line_alpha\",\"line_color\",\"y\",\"width\",\"fill_alpha\"],\"data\":{\"chart_index\":[\"(31.753040, 32.686600]\"],\"color\":[\"#f22c40\"],\"fill_alpha\":[0.8],\"height\":[2470.0],\"label\":[\"(31.753040, 32.686600]\"],\"line_alpha\":[1.0],\"line_color\":[\"black\"],\"width\":[0.93356],\"x\":[\"32.21982\"],\"y\":[1235.0]}},\"id\":\"7397a06f-a73b-4b0f-9274-ab3602ae6cdd\",\"type\":\"ColumnDataSource\"},{\"attributes\":{\"data_source\":{\"id\":\"7397a06f-a73b-4b0f-9274-ab3602ae6cdd\",\"type\":\"ColumnDataSource\"},\"glyph\":{\"id\":\"4b4be018-a914-417f-8149-e50ded6d5b76\",\"type\":\"Rect\"},\"hover_glyph\":null,\"nonselection_glyph\":null,\"selection_glyph\":null},\"id\":\"39cff073-385e-4ee2-acd3-5ac35563f2e8\",\"type\":\"GlyphRenderer\"},{\"attributes\":{\"axis_label\":\"Count( Size )\",\"formatter\":{\"id\":\"26cce59c-41d0-4b60-bfb4-0bccc3e46245\",\"type\":\"BasicTickFormatter\"},\"plot\":{\"id\":\"bcdbfb10-683f-4b0c-bd50-bd03a75c2c0c\",\"subtype\":\"Chart\",\"type\":\"Plot\"},\"ticker\":{\"id\":\"8ed0948a-a32c-4223-bcca-d2ce90bac303\",\"type\":\"BasicTicker\"}},\"id\":\"27acf522-efeb-4f78-8769-cdc7d240d234\",\"type\":\"LinearAxis\"},{\"attributes\":{\"callback\":null,\"column_names\":[\"x\",\"label\",\"height\",\"color\",\"line_alpha\",\"line_color\",\"y\",\"width\",\"fill_alpha\"],\"data\":{\"chart_index\":[\"(21.483880, 22.417440]\"],\"color\":[\"#f22c40\"],\"fill_alpha\":[0.8],\"height\":[949.0],\"label\":[\"(21.483880, 22.417440]\"],\"line_alpha\":[1.0],\"line_color\":[\"black\"],\"width\":[0.93356],\"x\":[\"21.95066\"],\"y\":[474.5]}},\"id\":\"ef72821e-afa0-4c63-a0ee-888a2112d96a\",\"type\":\"ColumnDataSource\"},{\"attributes\":{\"callback\":null,\"column_names\":[\"x\",\"label\",\"height\",\"color\",\"line_alpha\",\"line_color\",\"y\",\"width\",\"fill_alpha\"],\"data\":{\"chart_index\":[\"(15.882520, 16.816080]\"],\"color\":[\"#f22c40\"],\"fill_alpha\":[0.8],\"height\":[1315.0],\"label\":[\"(15.882520, 16.816080]\"],\"line_alpha\":[1.0],\"line_color\":[\"black\"],\"width\":[0.93356],\"x\":[\"16.3493\"],\"y\":[657.5]}},\"id\":\"929e786e-3316-4739-8c84-152b8bf6a8ea\",\"type\":\"ColumnDataSource\"},{\"attributes\":{\"fill_alpha\":{\"field\":\"fill_alpha\"},\"fill_color\":{\"field\":\"color\"},\"height\":{\"field\":\"height\",\"units\":\"data\"},\"line_color\":{\"field\":\"line_color\"},\"width\":{\"field\":\"width\",\"units\":\"data\"},\"x\":{\"field\":\"x\"},\"y\":{\"field\":\"y\"}},\"id\":\"44ce5fb7-7ff9-4141-99a1-fac00e9dd1e1\",\"type\":\"Rect\"},{\"attributes\":{\"data_source\":{\"id\":\"8297a7a3-d31b-4b41-a5dc-3e77971ed443\",\"type\":\"ColumnDataSource\"},\"glyph\":{\"id\":\"0f52611e-e2ff-4eaf-a87c-d89c3f046983\",\"type\":\"Rect\"},\"hover_glyph\":null,\"nonselection_glyph\":null,\"selection_glyph\":null},\"id\":\"197c1ff7-63e3-45ec-bf46-c916ff1bbbbc\",\"type\":\"GlyphRenderer\"},{\"attributes\":{\"callback\":null,\"column_names\":[\"x\",\"label\",\"height\",\"color\",\"line_alpha\",\"line_color\",\"y\",\"width\",\"fill_alpha\"],\"data\":{\"chart_index\":[\"(37.354400, 38.287960]\"],\"color\":[\"#f22c40\"],\"fill_alpha\":[0.8],\"height\":[36371.0],\"label\":[\"(37.354400, 38.287960]\"],\"line_alpha\":[1.0],\"line_color\":[\"black\"],\"width\":[0.93356],\"x\":[\"37.82118\"],\"y\":[18185.5]}},\"id\":\"923aa453-2690-4b36-a5a0-bfcc26b168d1\",\"type\":\"ColumnDataSource\"},{\"attributes\":{\"data_source\":{\"id\":\"42c74fdf-45a5-4728-8d28-973117704bb3\",\"type\":\"ColumnDataSource\"},\"glyph\":{\"id\":\"1ff4f737-72a1-4d5e-a2e1-78a431aa3cf9\",\"type\":\"Rect\"},\"hover_glyph\":null,\"nonselection_glyph\":null,\"selection_glyph\":null},\"id\":\"3c09ebab-a2c0-4413-ab64-7543eb10bcfe\",\"type\":\"GlyphRenderer\"},{\"attributes\":{\"data_source\":{\"id\":\"2e5e2a8d-bde2-47da-bee8-0aef2b5e883d\",\"type\":\"ColumnDataSource\"},\"glyph\":{\"id\":\"a34d0ac1-44c9-47eb-8894-888671cb9451\",\"type\":\"Rect\"},\"hover_glyph\":null,\"nonselection_glyph\":null,\"selection_glyph\":null},\"id\":\"302f15c5-8378-4627-afc8-bb524b3598b7\",\"type\":\"GlyphRenderer\"},{\"attributes\":{\"fill_alpha\":{\"field\":\"fill_alpha\"},\"fill_color\":{\"field\":\"color\"},\"height\":{\"field\":\"height\",\"units\":\"data\"},\"line_color\":{\"field\":\"line_color\"},\"width\":{\"field\":\"width\",\"units\":\"data\"},\"x\":{\"field\":\"x\"},\"y\":{\"field\":\"y\"}},\"id\":\"3c35636f-8a34-4a7c-b09d-3beb629549ba\",\"type\":\"Rect\"},{\"attributes\":{\"fill_alpha\":{\"field\":\"fill_alpha\"},\"fill_color\":{\"field\":\"color\"},\"height\":{\"field\":\"height\",\"units\":\"data\"},\"line_color\":{\"field\":\"line_color\"},\"width\":{\"field\":\"width\",\"units\":\"data\"},\"x\":{\"field\":\"x\"},\"y\":{\"field\":\"y\"}},\"id\":\"93af429d-b504-4549-873d-f76ec2037f3e\",\"type\":\"Rect\"},{\"attributes\":{\"fill_alpha\":{\"field\":\"fill_alpha\"},\"fill_color\":{\"field\":\"color\"},\"height\":{\"field\":\"height\",\"units\":\"data\"},\"line_color\":{\"field\":\"line_color\"},\"width\":{\"field\":\"width\",\"units\":\"data\"},\"x\":{\"field\":\"x\"},\"y\":{\"field\":\"y\"}},\"id\":\"f9948b55-65a6-474e-ac1e-ddde7f913517\",\"type\":\"Rect\"},{\"attributes\":{\"callback\":null,\"column_names\":[\"x\",\"label\",\"height\",\"color\",\"line_alpha\",\"line_color\",\"y\",\"width\",\"fill_alpha\"],\"data\":{\"chart_index\":[\"(6.546920, 7.480480]\"],\"color\":[\"#f22c40\"],\"fill_alpha\":[0.8],\"height\":[188.0],\"label\":[\"(6.546920, 7.480480]\"],\"line_alpha\":[1.0],\"line_color\":[\"black\"],\"width\":[0.93356],\"x\":[\"7.0137\"],\"y\":[94.0]}},\"id\":\"5bc7643b-382d-4d50-8782-baba3d7de08c\",\"type\":\"ColumnDataSource\"},{\"attributes\":{\"callback\":null,\"column_names\":[\"x\",\"label\",\"height\",\"color\",\"line_alpha\",\"line_color\",\"y\",\"width\",\"fill_alpha\"],\"data\":{\"chart_index\":[\"(18.683200, 19.616760]\"],\"color\":[\"#f22c40\"],\"fill_alpha\":[0.8],\"height\":[975.0],\"label\":[\"(18.683200, 19.616760]\"],\"line_alpha\":[1.0],\"line_color\":[\"black\"],\"width\":[0.93356],\"x\":[\"19.14998\"],\"y\":[487.5]}},\"id\":\"848cfa48-8613-4dc5-92ec-f3743187a9ec\",\"type\":\"ColumnDataSource\"},{\"attributes\":{\"data_source\":{\"id\":\"84e07736-e0a3-40e0-b64a-8cf8770f1b72\",\"type\":\"ColumnDataSource\"},\"glyph\":{\"id\":\"44ce5fb7-7ff9-4141-99a1-fac00e9dd1e1\",\"type\":\"Rect\"},\"hover_glyph\":null,\"nonselection_glyph\":null,\"selection_glyph\":null},\"id\":\"2bde72ca-f3a6-4e24-9b71-c8c7c10911fa\",\"type\":\"GlyphRenderer\"},{\"attributes\":{\"callback\":null,\"column_names\":[\"x\",\"label\",\"height\",\"color\",\"line_alpha\",\"line_color\",\"y\",\"width\",\"fill_alpha\"],\"data\":{\"chart_index\":[\"(28.952360, 29.885920]\"],\"color\":[\"#f22c40\"],\"fill_alpha\":[0.8],\"height\":[790.0],\"label\":[\"(28.952360, 29.885920]\"],\"line_alpha\":[1.0],\"line_color\":[\"black\"],\"width\":[0.93356],\"x\":[\"29.41914\"],\"y\":[395.0]}},\"id\":\"84e07736-e0a3-40e0-b64a-8cf8770f1b72\",\"type\":\"ColumnDataSource\"},{\"attributes\":{\"fill_alpha\":{\"field\":\"fill_alpha\"},\"fill_color\":{\"field\":\"color\"},\"height\":{\"field\":\"height\",\"units\":\"data\"},\"line_color\":{\"field\":\"line_color\"},\"width\":{\"field\":\"width\",\"units\":\"data\"},\"x\":{\"field\":\"x\"},\"y\":{\"field\":\"y\"}},\"id\":\"e11fc6e5-7db6-4bb4-82c3-f0b57e22a47b\",\"type\":\"Rect\"},{\"attributes\":{\"fill_alpha\":{\"field\":\"fill_alpha\"},\"fill_color\":{\"field\":\"color\"},\"height\":{\"field\":\"height\",\"units\":\"data\"},\"line_color\":{\"field\":\"line_color\"},\"width\":{\"field\":\"width\",\"units\":\"data\"},\"x\":{\"field\":\"x\"},\"y\":{\"field\":\"y\"}},\"id\":\"8c90bb50-518d-4afd-8571-9cfb3b5a187b\",\"type\":\"Rect\"},{\"attributes\":{\"fill_alpha\":{\"field\":\"fill_alpha\"},\"fill_color\":{\"field\":\"color\"},\"height\":{\"field\":\"height\",\"units\":\"data\"},\"line_color\":{\"field\":\"line_color\"},\"width\":{\"field\":\"width\",\"units\":\"data\"},\"x\":{\"field\":\"x\"},\"y\":{\"field\":\"y\"}},\"id\":\"92d52d52-2d49-4685-be0a-f7ebfd8c0900\",\"type\":\"Rect\"},{\"attributes\":{\"callback\":null,\"column_names\":[\"x\",\"label\",\"height\",\"color\",\"line_alpha\",\"line_color\",\"y\",\"width\",\"fill_alpha\"],\"data\":{\"chart_index\":[\"(19.616760, 20.550320]\"],\"color\":[\"#f22c40\"],\"fill_alpha\":[0.8],\"height\":[813.0],\"label\":[\"(19.616760, 20.550320]\"],\"line_alpha\":[1.0],\"line_color\":[\"black\"],\"width\":[0.93356],\"x\":[\"20.08354\"],\"y\":[406.5]}},\"id\":\"305c6bc0-44b9-4b3e-8c6a-cbcdfc00859d\",\"type\":\"ColumnDataSource\"},{\"attributes\":{\"fill_alpha\":{\"field\":\"fill_alpha\"},\"fill_color\":{\"field\":\"color\"},\"height\":{\"field\":\"height\",\"units\":\"data\"},\"line_color\":{\"field\":\"line_color\"},\"width\":{\"field\":\"width\",\"units\":\"data\"},\"x\":{\"field\":\"x\"},\"y\":{\"field\":\"y\"}},\"id\":\"ab1533d9-0e30-489d-846b-8225ef9a1246\",\"type\":\"Rect\"},{\"attributes\":{\"data_source\":{\"id\":\"4280fdab-9774-4d77-99ba-d666342aae62\",\"type\":\"ColumnDataSource\"},\"glyph\":{\"id\":\"617de944-37fe-4315-a326-8337194b23eb\",\"type\":\"Rect\"},\"hover_glyph\":null,\"nonselection_glyph\":null,\"selection_glyph\":null},\"id\":\"75110351-a43a-45aa-aa42-f49580f8d669\",\"type\":\"GlyphRenderer\"},{\"attributes\":{\"data_source\":{\"id\":\"af88ca02-03d1-45cf-a48d-fa7ccdba5e3e\",\"type\":\"ColumnDataSource\"},\"glyph\":{\"id\":\"1e1a1fea-4cb5-4580-91e5-d466313320db\",\"type\":\"Rect\"},\"hover_glyph\":null,\"nonselection_glyph\":null,\"selection_glyph\":null},\"id\":\"42bc2dd3-c89d-4492-83be-31aaf2fdd50c\",\"type\":\"GlyphRenderer\"},{\"attributes\":{\"fill_alpha\":{\"field\":\"fill_alpha\"},\"fill_color\":{\"field\":\"color\"},\"height\":{\"field\":\"height\",\"units\":\"data\"},\"line_color\":{\"field\":\"line_color\"},\"width\":{\"field\":\"width\",\"units\":\"data\"},\"x\":{\"field\":\"x\"},\"y\":{\"field\":\"y\"}},\"id\":\"bde43320-c7fa-4e62-a900-d8c7036110bd\",\"type\":\"Rect\"},{\"attributes\":{\"data_source\":{\"id\":\"dee7238b-f218-44cc-b450-4fb99735a9d1\",\"type\":\"ColumnDataSource\"},\"glyph\":{\"id\":\"bde43320-c7fa-4e62-a900-d8c7036110bd\",\"type\":\"Rect\"},\"hover_glyph\":null,\"nonselection_glyph\":null,\"selection_glyph\":null},\"id\":\"3e86f48f-b0aa-4550-8f01-c6ed4ad93af8\",\"type\":\"GlyphRenderer\"},{\"attributes\":{\"plot\":{\"id\":\"bcdbfb10-683f-4b0c-bd50-bd03a75c2c0c\",\"subtype\":\"Chart\",\"type\":\"Plot\"}},\"id\":\"df42c6f0-d4db-4391-99f6-2dd9988cd0e2\",\"type\":\"PanTool\"},{\"attributes\":{\"data_source\":{\"id\":\"929e786e-3316-4739-8c84-152b8bf6a8ea\",\"type\":\"ColumnDataSource\"},\"glyph\":{\"id\":\"006997a9-2aa3-45d1-aef6-c42aef41cc47\",\"type\":\"Rect\"},\"hover_glyph\":null,\"nonselection_glyph\":null,\"selection_glyph\":null},\"id\":\"a0851af0-a9fe-4337-b4fb-e5fc3531bd46\",\"type\":\"GlyphRenderer\"},{\"attributes\":{\"callback\":null,\"column_names\":[\"x\",\"label\",\"height\",\"color\",\"line_alpha\",\"line_color\",\"y\",\"width\",\"fill_alpha\"],\"data\":{\"chart_index\":[\"(27.085240, 28.018800]\"],\"color\":[\"#f22c40\"],\"fill_alpha\":[0.8],\"height\":[554.0],\"label\":[\"(27.085240, 28.018800]\"],\"line_alpha\":[1.0],\"line_color\":[\"black\"],\"width\":[0.93356],\"x\":[\"27.55202\"],\"y\":[277.0]}},\"id\":\"412fd1e6-8de3-4020-9da4-c62c48c276d2\",\"type\":\"ColumnDataSource\"},{\"attributes\":{\"callback\":null,\"column_names\":[\"x\",\"label\",\"height\",\"color\",\"line_alpha\",\"line_color\",\"y\",\"width\",\"fill_alpha\"],\"data\":{\"chart_index\":[\"(29.885920, 30.819480]\"],\"color\":[\"#f22c40\"],\"fill_alpha\":[0.8],\"height\":[1530.0],\"label\":[\"(29.885920, 30.819480]\"],\"line_alpha\":[1.0],\"line_color\":[\"black\"],\"width\":[0.93356],\"x\":[\"30.3527\"],\"y\":[765.0]}},\"id\":\"787fc6b5-661a-47a7-92c6-264c9755ea7d\",\"type\":\"ColumnDataSource\"},{\"attributes\":{\"data_source\":{\"id\":\"d740e496-d836-4787-9886-0081c16a5bd4\",\"type\":\"ColumnDataSource\"},\"glyph\":{\"id\":\"8613c145-f6ca-4113-ba4a-3a31783f8432\",\"type\":\"Rect\"},\"hover_glyph\":null,\"nonselection_glyph\":null,\"selection_glyph\":null},\"id\":\"0f33ad5c-5bc9-4ecb-be81-8909f3a43388\",\"type\":\"GlyphRenderer\"},{\"attributes\":{\"fill_alpha\":{\"field\":\"fill_alpha\"},\"fill_color\":{\"field\":\"color\"},\"height\":{\"field\":\"height\",\"units\":\"data\"},\"line_color\":{\"field\":\"line_color\"},\"width\":{\"field\":\"width\",\"units\":\"data\"},\"x\":{\"field\":\"x\"},\"y\":{\"field\":\"y\"}},\"id\":\"938074d9-3a9b-479b-a586-9c73d12a1509\",\"type\":\"Rect\"},{\"attributes\":{\"data_source\":{\"id\":\"1169d9cb-0625-4b5e-999b-19a4ac414c40\",\"type\":\"ColumnDataSource\"},\"glyph\":{\"id\":\"75849d37-b273-4096-bfa6-73ef17cfafd5\",\"type\":\"Rect\"},\"hover_glyph\":null,\"nonselection_glyph\":null,\"selection_glyph\":null},\"id\":\"539b7c3b-64ca-4f10-8e59-502cb59e6063\",\"type\":\"GlyphRenderer\"},{\"attributes\":{\"fill_alpha\":{\"field\":\"fill_alpha\"},\"fill_color\":{\"field\":\"color\"},\"height\":{\"field\":\"height\",\"units\":\"data\"},\"line_color\":{\"field\":\"line_color\"},\"width\":{\"field\":\"width\",\"units\":\"data\"},\"x\":{\"field\":\"x\"},\"y\":{\"field\":\"y\"}},\"id\":\"75849d37-b273-4096-bfa6-73ef17cfafd5\",\"type\":\"Rect\"},{\"attributes\":{\"callback\":null,\"column_names\":[\"x\",\"label\",\"height\",\"color\",\"line_alpha\",\"line_color\",\"y\",\"width\",\"fill_alpha\"],\"data\":{\"chart_index\":[\"(38.287960, 39.221520]\"],\"color\":[\"#f22c40\"],\"fill_alpha\":[0.8],\"height\":[48387.0],\"label\":[\"(38.287960, 39.221520]\"],\"line_alpha\":[1.0],\"line_color\":[\"black\"],\"width\":[0.93356],\"x\":[\"38.75474\"],\"y\":[24193.5]}},\"id\":\"af88ca02-03d1-45cf-a48d-fa7ccdba5e3e\",\"type\":\"ColumnDataSource\"},{\"attributes\":{\"plot\":{\"id\":\"bcdbfb10-683f-4b0c-bd50-bd03a75c2c0c\",\"subtype\":\"Chart\",\"type\":\"Plot\"}},\"id\":\"319bad82-7708-46bf-a2de-d6534106efd9\",\"type\":\"ResetTool\"},{\"attributes\":{\"fill_alpha\":{\"field\":\"fill_alpha\"},\"fill_color\":{\"field\":\"color\"},\"height\":{\"field\":\"height\",\"units\":\"data\"},\"line_color\":{\"field\":\"line_color\"},\"width\":{\"field\":\"width\",\"units\":\"data\"},\"x\":{\"field\":\"x\"},\"y\":{\"field\":\"y\"}},\"id\":\"8a848cf0-928b-4625-bfad-369293c84d66\",\"type\":\"Rect\"},{\"attributes\":{\"callback\":null,\"column_names\":[\"x\",\"label\",\"height\",\"color\",\"line_alpha\",\"line_color\",\"y\",\"width\",\"fill_alpha\"],\"data\":{\"chart_index\":[\"(28.018800, 28.952360]\"],\"color\":[\"#f22c40\"],\"fill_alpha\":[0.8],\"height\":[505.0],\"label\":[\"(28.018800, 28.952360]\"],\"line_alpha\":[1.0],\"line_color\":[\"black\"],\"width\":[0.93356],\"x\":[\"28.48558\"],\"y\":[252.5]}},\"id\":\"fcbde362-2a95-4d3c-9cb7-54ad8d70709b\",\"type\":\"ColumnDataSource\"},{\"attributes\":{\"callback\":null,\"column_names\":[\"x\",\"label\",\"height\",\"color\",\"line_alpha\",\"line_color\",\"y\",\"width\",\"fill_alpha\"],\"data\":{\"chart_index\":[\"(3.746240, 4.679800]\"],\"color\":[\"#f22c40\"],\"fill_alpha\":[0.8],\"height\":[634.0],\"label\":[\"(3.746240, 4.679800]\"],\"line_alpha\":[1.0],\"line_color\":[\"black\"],\"width\":[0.9335599999999995],\"x\":[\"4.21302\"],\"y\":[317.0]}},\"id\":\"4a685b74-f152-49cb-b3b2-079f863c4e74\",\"type\":\"ColumnDataSource\"},{\"attributes\":{\"fill_alpha\":{\"field\":\"fill_alpha\"},\"fill_color\":{\"field\":\"color\"},\"height\":{\"field\":\"height\",\"units\":\"data\"},\"line_color\":{\"field\":\"line_color\"},\"width\":{\"field\":\"width\",\"units\":\"data\"},\"x\":{\"field\":\"x\"},\"y\":{\"field\":\"y\"}},\"id\":\"f9873a30-fff1-42c0-890e-673b60ad625d\",\"type\":\"Rect\"},{\"attributes\":{},\"id\":\"a3bb9ca6-3bcd-403d-bc1c-3a179d01a5a9\",\"type\":\"BasicTickFormatter\"},{\"attributes\":{\"fill_alpha\":{\"field\":\"fill_alpha\"},\"fill_color\":{\"field\":\"color\"},\"height\":{\"field\":\"height\",\"units\":\"data\"},\"line_color\":{\"field\":\"line_color\"},\"width\":{\"field\":\"width\",\"units\":\"data\"},\"x\":{\"field\":\"x\"},\"y\":{\"field\":\"y\"}},\"id\":\"be26ce29-070c-4b85-b8ba-434275abfd64\",\"type\":\"Rect\"},{\"attributes\":{\"fill_alpha\":{\"field\":\"fill_alpha\"},\"fill_color\":{\"field\":\"color\"},\"height\":{\"field\":\"height\",\"units\":\"data\"},\"line_color\":{\"field\":\"line_color\"},\"width\":{\"field\":\"width\",\"units\":\"data\"},\"x\":{\"field\":\"x\"},\"y\":{\"field\":\"y\"}},\"id\":\"1e1a1fea-4cb5-4580-91e5-d466313320db\",\"type\":\"Rect\"},{\"attributes\":{\"callback\":null,\"column_names\":[\"x\",\"label\",\"height\",\"color\",\"line_alpha\",\"line_color\",\"y\",\"width\",\"fill_alpha\"],\"data\":{\"chart_index\":[\"(4.679800, 5.613360]\"],\"color\":[\"#f22c40\"],\"fill_alpha\":[0.8],\"height\":[314.0],\"label\":[\"(4.679800, 5.613360]\"],\"line_alpha\":[1.0],\"line_color\":[\"black\"],\"width\":[0.93356],\"x\":[\"5.14658\"],\"y\":[157.0]}},\"id\":\"3019a265-0dd4-49a0-b00b-ef6e6b6360e3\",\"type\":\"ColumnDataSource\"},{\"attributes\":{\"overlay\":{\"id\":\"fd708322-62d7-4220-bfb8-cda7f9bfec8b\",\"type\":\"BoxAnnotation\"},\"plot\":{\"id\":\"bcdbfb10-683f-4b0c-bd50-bd03a75c2c0c\",\"subtype\":\"Chart\",\"type\":\"Plot\"}},\"id\":\"298bbce8-57d3-4a4d-8f18-96a7e8fcb7a9\",\"type\":\"BoxZoomTool\"},{\"attributes\":{\"data_source\":{\"id\":\"75734cc1-16a2-40dd-8965-8867e56720ac\",\"type\":\"ColumnDataSource\"},\"glyph\":{\"id\":\"93af429d-b504-4549-873d-f76ec2037f3e\",\"type\":\"Rect\"},\"hover_glyph\":null,\"nonselection_glyph\":null,\"selection_glyph\":null},\"id\":\"fbb8bac3-803f-47ba-9320-f442595f8f44\",\"type\":\"GlyphRenderer\"},{\"attributes\":{\"callback\":null,\"column_names\":[\"x\",\"label\",\"height\",\"color\",\"line_alpha\",\"line_color\",\"y\",\"width\",\"fill_alpha\"],\"data\":{\"chart_index\":[\"(14.015400, 14.948960]\"],\"color\":[\"#f22c40\"],\"fill_alpha\":[0.8],\"height\":[555.0],\"label\":[\"(14.015400, 14.948960]\"],\"line_alpha\":[1.0],\"line_color\":[\"black\"],\"width\":[0.93356],\"x\":[\"14.48218\"],\"y\":[277.5]}},\"id\":\"62fd3782-7bd2-4082-9a5b-57460d14fad3\",\"type\":\"ColumnDataSource\"},{\"attributes\":{\"fill_alpha\":{\"field\":\"fill_alpha\"},\"fill_color\":{\"field\":\"color\"},\"height\":{\"field\":\"height\",\"units\":\"data\"},\"line_color\":{\"field\":\"line_color\"},\"width\":{\"field\":\"width\",\"units\":\"data\"},\"x\":{\"field\":\"x\"},\"y\":{\"field\":\"y\"}},\"id\":\"f9ad7174-7171-42e5-b6b5-db18f3f1208b\",\"type\":\"Rect\"},{\"attributes\":{\"callback\":null,\"column_names\":[\"x\",\"label\",\"height\",\"color\",\"line_alpha\",\"line_color\",\"y\",\"width\",\"fill_alpha\"],\"data\":{\"chart_index\":[\"(30.819480, 31.753040]\"],\"color\":[\"#f22c40\"],\"fill_alpha\":[0.8],\"height\":[1804.0],\"label\":[\"(30.819480, 31.753040]\"],\"line_alpha\":[1.0],\"line_color\":[\"black\"],\"width\":[0.93356],\"x\":[\"31.28626\"],\"y\":[902.0]}},\"id\":\"a12dad84-1d19-4207-a63e-998f72b397f8\",\"type\":\"ColumnDataSource\"},{\"attributes\":{\"data_source\":{\"id\":\"0b5d3460-5aa7-4e1d-8cfb-8a504c01a6c2\",\"type\":\"ColumnDataSource\"},\"glyph\":{\"id\":\"ab1533d9-0e30-489d-846b-8225ef9a1246\",\"type\":\"Rect\"},\"hover_glyph\":null,\"nonselection_glyph\":null,\"selection_glyph\":null},\"id\":\"f8928a99-f008-47ea-812f-93d7ce689e4f\",\"type\":\"GlyphRenderer\"},{\"attributes\":{\"callback\":null,\"column_names\":[\"x\",\"label\",\"height\",\"color\",\"line_alpha\",\"line_color\",\"y\",\"width\",\"fill_alpha\"],\"data\":{\"chart_index\":[\"(14.948960, 15.882520]\"],\"color\":[\"#f22c40\"],\"fill_alpha\":[0.8],\"height\":[392.0],\"label\":[\"(14.948960, 15.882520]\"],\"line_alpha\":[1.0],\"line_color\":[\"black\"],\"width\":[0.93356],\"x\":[\"15.41574\"],\"y\":[196.0]}},\"id\":\"425e61c1-c2d1-4fcd-8334-b31da6fe5fb1\",\"type\":\"ColumnDataSource\"},{\"attributes\":{},\"id\":\"ea51c5c8-eda5-4294-a10b-3708633c8e8b\",\"type\":\"BasicTicker\"},{\"attributes\":{},\"id\":\"26cce59c-41d0-4b60-bfb4-0bccc3e46245\",\"type\":\"BasicTickFormatter\"},{\"attributes\":{\"data_source\":{\"id\":\"0dc72af8-e035-4ba5-89e5-5b8e2bddabeb\",\"type\":\"ColumnDataSource\"},\"glyph\":{\"id\":\"e11fc6e5-7db6-4bb4-82c3-f0b57e22a47b\",\"type\":\"Rect\"},\"hover_glyph\":null,\"nonselection_glyph\":null,\"selection_glyph\":null},\"id\":\"dc6dbd78-c181-4df2-82d1-82568d7a3396\",\"type\":\"GlyphRenderer\"},{\"attributes\":{\"plot\":{\"id\":\"bcdbfb10-683f-4b0c-bd50-bd03a75c2c0c\",\"subtype\":\"Chart\",\"type\":\"Plot\"}},\"id\":\"571a6b0b-b5f1-48ed-b4da-5fad443cd67b\",\"type\":\"WheelZoomTool\"},{\"attributes\":{\"callback\":null,\"column_names\":[\"x\",\"label\",\"height\",\"color\",\"line_alpha\",\"line_color\",\"y\",\"width\",\"fill_alpha\"],\"data\":{\"chart_index\":[\"(11.214720, 12.148280]\"],\"color\":[\"#f22c40\"],\"fill_alpha\":[0.8],\"height\":[368.0],\"label\":[\"(11.214720, 12.148280]\"],\"line_alpha\":[1.0],\"line_color\":[\"black\"],\"width\":[0.93356],\"x\":[\"11.6815\"],\"y\":[184.0]}},\"id\":\"76c3dd95-3981-49ca-a61f-6533c12ed2c0\",\"type\":\"ColumnDataSource\"},{\"attributes\":{\"data_source\":{\"id\":\"425e61c1-c2d1-4fcd-8334-b31da6fe5fb1\",\"type\":\"ColumnDataSource\"},\"glyph\":{\"id\":\"19e9c1b8-671d-49bc-a6ba-089c83637038\",\"type\":\"Rect\"},\"hover_glyph\":null,\"nonselection_glyph\":null,\"selection_glyph\":null},\"id\":\"e9cee37e-e1e7-4ec0-a12b-51534c60da59\",\"type\":\"GlyphRenderer\"},{\"attributes\":{\"data_source\":{\"id\":\"2e0ef2bb-6db0-4bab-a64c-1a6864a2b9ea\",\"type\":\"ColumnDataSource\"},\"glyph\":{\"id\":\"2318a100-86d4-4b3e-baef-93ed389605bf\",\"type\":\"Rect\"},\"hover_glyph\":null,\"nonselection_glyph\":null,\"selection_glyph\":null},\"id\":\"ba195349-40b9-47f2-953d-f2017a66ff6b\",\"type\":\"GlyphRenderer\"},{\"attributes\":{\"data_source\":{\"id\":\"f757c9bb-924b-4ff9-bcd8-6f26e0e4143d\",\"type\":\"ColumnDataSource\"},\"glyph\":{\"id\":\"f5ad3a8f-9b5c-4030-bf3f-852434ada6a6\",\"type\":\"Rect\"},\"hover_glyph\":null,\"nonselection_glyph\":null,\"selection_glyph\":null},\"id\":\"f0070c79-ac44-4118-812a-f22b8c7bb00e\",\"type\":\"GlyphRenderer\"},{\"attributes\":{\"callback\":null,\"end\":53225.700000000004},\"id\":\"8cb83638-04e5-4af8-a017-cfff28bb4414\",\"type\":\"Range1d\"},{\"attributes\":{\"fill_alpha\":{\"field\":\"fill_alpha\"},\"fill_color\":{\"field\":\"color\"},\"height\":{\"field\":\"height\",\"units\":\"data\"},\"line_color\":{\"field\":\"line_color\"},\"width\":{\"field\":\"width\",\"units\":\"data\"},\"x\":{\"field\":\"x\"},\"y\":{\"field\":\"y\"}},\"id\":\"ac1e0aa8-b625-4f96-a355-f4f46f2de10a\",\"type\":\"Rect\"},{\"attributes\":{\"fill_alpha\":{\"field\":\"fill_alpha\"},\"fill_color\":{\"field\":\"color\"},\"height\":{\"field\":\"height\",\"units\":\"data\"},\"line_color\":{\"field\":\"line_color\"},\"width\":{\"field\":\"width\",\"units\":\"data\"},\"x\":{\"field\":\"x\"},\"y\":{\"field\":\"y\"}},\"id\":\"4ec88262-c21e-4093-86f1-82e4eb56b399\",\"type\":\"Rect\"},{\"attributes\":{\"callback\":null,\"column_names\":[\"x\",\"label\",\"height\",\"color\",\"line_alpha\",\"line_color\",\"y\",\"width\",\"fill_alpha\"],\"data\":{\"chart_index\":[\"(35.487280, 36.420840]\"],\"color\":[\"#f22c40\"],\"fill_alpha\":[0.8],\"height\":[17314.0],\"label\":[\"(35.487280, 36.420840]\"],\"line_alpha\":[1.0],\"line_color\":[\"black\"],\"width\":[0.93356],\"x\":[\"35.95406\"],\"y\":[8657.0]}},\"id\":\"f757c9bb-924b-4ff9-bcd8-6f26e0e4143d\",\"type\":\"ColumnDataSource\"},{\"attributes\":{\"fill_alpha\":{\"field\":\"fill_alpha\"},\"fill_color\":{\"field\":\"color\"},\"height\":{\"field\":\"height\",\"units\":\"data\"},\"line_color\":{\"field\":\"line_color\"},\"width\":{\"field\":\"width\",\"units\":\"data\"},\"x\":{\"field\":\"x\"},\"y\":{\"field\":\"y\"}},\"id\":\"9ca9f517-37a0-4afe-87d7-dbd425ce8d42\",\"type\":\"Rect\"},{\"attributes\":{\"location\":\"top_left\",\"plot\":{\"id\":\"bcdbfb10-683f-4b0c-bd50-bd03a75c2c0c\",\"subtype\":\"Chart\",\"type\":\"Plot\"}},\"id\":\"1d4a4515-a046-4fbc-a44d-91cada1f0328\",\"type\":\"Legend\"},{\"attributes\":{\"data_source\":{\"id\":\"923aa453-2690-4b36-a5a0-bfcc26b168d1\",\"type\":\"ColumnDataSource\"},\"glyph\":{\"id\":\"be26ce29-070c-4b85-b8ba-434275abfd64\",\"type\":\"Rect\"},\"hover_glyph\":null,\"nonselection_glyph\":null,\"selection_glyph\":null},\"id\":\"70b7da11-26cd-498d-9731-f99e6db72a64\",\"type\":\"GlyphRenderer\"},{\"attributes\":{\"callback\":null,\"column_names\":[\"x\",\"label\",\"height\",\"color\",\"line_alpha\",\"line_color\",\"y\",\"width\",\"fill_alpha\"],\"data\":{\"chart_index\":[\"(42.022200, 42.955760]\"],\"color\":[\"#f22c40\"],\"fill_alpha\":[0.8],\"height\":[32892.0],\"label\":[\"(42.022200, 42.955760]\"],\"line_alpha\":[1.0],\"line_color\":[\"black\"],\"width\":[0.93356],\"x\":[\"42.48898\"],\"y\":[16446.0]}},\"id\":\"5cf91332-fb3f-4df4-8b5a-46bd81ebf357\",\"type\":\"ColumnDataSource\"},{\"attributes\":{\"callback\":null,\"column_names\":[\"x\",\"label\",\"height\",\"color\",\"line_alpha\",\"line_color\",\"y\",\"width\",\"fill_alpha\"],\"data\":{\"chart_index\":[\"(22.417440, 23.351000]\"],\"color\":[\"#f22c40\"],\"fill_alpha\":[0.8],\"height\":[1278.0],\"label\":[\"(22.417440, 23.351000]\"],\"line_alpha\":[1.0],\"line_color\":[\"black\"],\"width\":[0.93356],\"x\":[\"22.88422\"],\"y\":[639.0]}},\"id\":\"f515dfcf-b906-4e07-beed-a95486450d6d\",\"type\":\"ColumnDataSource\"},{\"attributes\":{\"data_source\":{\"id\":\"d7ebf380-8f53-4b94-bea5-290e0c62e0c9\",\"type\":\"ColumnDataSource\"},\"glyph\":{\"id\":\"909f67b4-4cdf-44ac-84e5-9c72ac850338\",\"type\":\"Rect\"},\"hover_glyph\":null,\"nonselection_glyph\":null,\"selection_glyph\":null},\"id\":\"f9d7b565-87c6-462e-9324-0a019b0ab8ca\",\"type\":\"GlyphRenderer\"},{\"attributes\":{\"callback\":null,\"column_names\":[\"x\",\"label\",\"height\",\"color\",\"line_alpha\",\"line_color\",\"y\",\"width\",\"fill_alpha\"],\"data\":{\"chart_index\":[\"(40.155080, 41.088640]\"],\"color\":[\"#f22c40\"],\"fill_alpha\":[0.8],\"height\":[31768.0],\"label\":[\"(40.155080, 41.088640]\"],\"line_alpha\":[1.0],\"line_color\":[\"black\"],\"width\":[0.93356],\"x\":[\"40.62186\"],\"y\":[15884.0]}},\"id\":\"2e5e2a8d-bde2-47da-bee8-0aef2b5e883d\",\"type\":\"ColumnDataSource\"},{\"attributes\":{\"data_source\":{\"id\":\"6d50693a-31d3-4f86-ad4c-bfec7e72c99e\",\"type\":\"ColumnDataSource\"},\"glyph\":{\"id\":\"8a848cf0-928b-4625-bfad-369293c84d66\",\"type\":\"Rect\"},\"hover_glyph\":null,\"nonselection_glyph\":null,\"selection_glyph\":null},\"id\":\"460e8cf3-545b-4911-b400-95e2cb30269a\",\"type\":\"GlyphRenderer\"},{\"attributes\":{\"plot\":{\"id\":\"bcdbfb10-683f-4b0c-bd50-bd03a75c2c0c\",\"subtype\":\"Chart\",\"type\":\"Plot\"}},\"id\":\"5fa63f42-d627-4b0f-ac72-3a908c2e6b91\",\"type\":\"HelpTool\"},{\"attributes\":{\"callback\":null,\"column_names\":[\"x\",\"label\",\"height\",\"color\",\"line_alpha\",\"line_color\",\"y\",\"width\",\"fill_alpha\"],\"data\":{\"chart_index\":[\"(41.088640, 42.022200]\"],\"color\":[\"#f22c40\"],\"fill_alpha\":[0.8],\"height\":[39335.0],\"label\":[\"(41.088640, 42.022200]\"],\"line_alpha\":[1.0],\"line_color\":[\"black\"],\"width\":[0.93356],\"x\":[\"41.55542\"],\"y\":[19667.5]}},\"id\":\"fb041f9a-5234-47c1-92ed-11658032f7d7\",\"type\":\"ColumnDataSource\"},{\"attributes\":{\"data_source\":{\"id\":\"1542cd52-4ca2-4664-a244-8f6fdd8763c1\",\"type\":\"ColumnDataSource\"},\"glyph\":{\"id\":\"4ec88262-c21e-4093-86f1-82e4eb56b399\",\"type\":\"Rect\"},\"hover_glyph\":null,\"nonselection_glyph\":null,\"selection_glyph\":null},\"id\":\"ccbf3363-58ff-4771-bb8e-003444fa87e4\",\"type\":\"GlyphRenderer\"},{\"attributes\":{\"fill_alpha\":{\"field\":\"fill_alpha\"},\"fill_color\":{\"field\":\"color\"},\"height\":{\"field\":\"height\",\"units\":\"data\"},\"line_color\":{\"field\":\"line_color\"},\"width\":{\"field\":\"width\",\"units\":\"data\"},\"x\":{\"field\":\"x\"},\"y\":{\"field\":\"y\"}},\"id\":\"aecc9c70-6e8e-4f97-8f70-a98d1e02dee9\",\"type\":\"Rect\"},{\"attributes\":{\"callback\":null,\"column_names\":[\"x\",\"label\",\"height\",\"color\",\"line_alpha\",\"line_color\",\"y\",\"width\",\"fill_alpha\"],\"data\":{\"chart_index\":[\"(44.822880, 45.756440]\"],\"color\":[\"#f22c40\"],\"fill_alpha\":[0.8],\"height\":[2681.0],\"label\":[\"(44.822880, 45.756440]\"],\"line_alpha\":[1.0],\"line_color\":[\"black\"],\"width\":[0.93356],\"x\":[\"45.28966\"],\"y\":[1340.5]}},\"id\":\"9f81c001-69ba-4d2e-8501-22a9557624cf\",\"type\":\"ColumnDataSource\"},{\"attributes\":{\"callback\":null,\"column_names\":[\"x\",\"label\",\"height\",\"color\",\"line_alpha\",\"line_color\",\"y\",\"width\",\"fill_alpha\"],\"data\":{\"chart_index\":[\"(13.081840, 14.015400]\"],\"color\":[\"#f22c40\"],\"fill_alpha\":[0.8],\"height\":[1417.0],\"label\":[\"(13.081840, 14.015400]\"],\"line_alpha\":[1.0],\"line_color\":[\"black\"],\"width\":[0.93356],\"x\":[\"13.54862\"],\"y\":[708.5]}},\"id\":\"28384b96-706e-4297-b3fc-dfb786cefab2\",\"type\":\"ColumnDataSource\"},{\"attributes\":{\"data_source\":{\"id\":\"848cfa48-8613-4dc5-92ec-f3743187a9ec\",\"type\":\"ColumnDataSource\"},\"glyph\":{\"id\":\"92d52d52-2d49-4685-be0a-f7ebfd8c0900\",\"type\":\"Rect\"},\"hover_glyph\":null,\"nonselection_glyph\":null,\"selection_glyph\":null},\"id\":\"773bb5cf-c3ff-4cb9-8db3-deda3425b0bd\",\"type\":\"GlyphRenderer\"},{\"attributes\":{\"callback\":null,\"column_names\":[\"x\",\"label\",\"height\",\"color\",\"line_alpha\",\"line_color\",\"y\",\"width\",\"fill_alpha\"],\"data\":{\"chart_index\":[\"(32.686600, 33.620160]\"],\"color\":[\"#f22c40\"],\"fill_alpha\":[0.8],\"height\":[3104.0],\"label\":[\"(32.686600, 33.620160]\"],\"line_alpha\":[1.0],\"line_color\":[\"black\"],\"width\":[0.93356],\"x\":[\"33.15338\"],\"y\":[1552.0]}},\"id\":\"e0a15e0b-82ec-4f77-8f3c-f7e392a4dc82\",\"type\":\"ColumnDataSource\"},{\"attributes\":{\"callback\":null,\"column_names\":[\"x\",\"label\",\"height\",\"color\",\"line_alpha\",\"line_color\",\"y\",\"width\",\"fill_alpha\"],\"data\":{\"chart_index\":[\"(39.221520, 40.155080]\"],\"color\":[\"#f22c40\"],\"fill_alpha\":[0.8],\"height\":[37762.0],\"label\":[\"(39.221520, 40.155080]\"],\"line_alpha\":[1.0],\"line_color\":[\"black\"],\"width\":[0.93356],\"x\":[\"39.6883\"],\"y\":[18881.0]}},\"id\":\"3564fdae-d9da-459c-ad3f-309bc7106c90\",\"type\":\"ColumnDataSource\"},{\"attributes\":{\"data_source\":{\"id\":\"0a3c1309-3af0-4d3d-b4a7-6106d26be284\",\"type\":\"ColumnDataSource\"},\"glyph\":{\"id\":\"7f6a6754-def1-4b6c-aa81-c9a19198ca7b\",\"type\":\"Rect\"},\"hover_glyph\":null,\"nonselection_glyph\":null,\"selection_glyph\":null},\"id\":\"5604713b-c8b3-4645-89ac-34cb057f42cd\",\"type\":\"GlyphRenderer\"},{\"attributes\":{\"callback\":null,\"column_names\":[\"x\",\"label\",\"height\",\"color\",\"line_alpha\",\"line_color\",\"y\",\"width\",\"fill_alpha\"],\"data\":{\"chart_index\":[\"(33.620160, 34.553720]\"],\"color\":[\"#f22c40\"],\"fill_alpha\":[0.8],\"height\":[3783.0],\"label\":[\"(33.620160, 34.553720]\"],\"line_alpha\":[1.0],\"line_color\":[\"black\"],\"width\":[0.93356],\"x\":[\"34.08694\"],\"y\":[1891.5]}},\"id\":\"956264af-7260-4233-975a-275c1a4c427e\",\"type\":\"ColumnDataSource\"},{\"attributes\":{\"fill_alpha\":{\"field\":\"fill_alpha\"},\"fill_color\":{\"field\":\"color\"},\"height\":{\"field\":\"height\",\"units\":\"data\"},\"line_color\":{\"field\":\"line_color\"},\"width\":{\"field\":\"width\",\"units\":\"data\"},\"x\":{\"field\":\"x\"},\"y\":{\"field\":\"y\"}},\"id\":\"1ff4f737-72a1-4d5e-a2e1-78a431aa3cf9\",\"type\":\"Rect\"},{\"attributes\":{\"callback\":null,\"column_names\":[\"x\",\"label\",\"height\",\"color\",\"line_alpha\",\"line_color\",\"y\",\"width\",\"fill_alpha\"],\"data\":{\"chart_index\":[\"(36.420840, 37.354400]\"],\"color\":[\"#f22c40\"],\"fill_alpha\":[0.8],\"height\":[26116.0],\"label\":[\"(36.420840, 37.354400]\"],\"line_alpha\":[1.0],\"line_color\":[\"black\"],\"width\":[0.93356],\"x\":[\"36.88762\"],\"y\":[13058.0]}},\"id\":\"42c74fdf-45a5-4728-8d28-973117704bb3\",\"type\":\"ColumnDataSource\"},{\"attributes\":{},\"id\":\"8ed0948a-a32c-4223-bcca-d2ce90bac303\",\"type\":\"BasicTicker\"},{\"attributes\":{\"plot\":{\"id\":\"bcdbfb10-683f-4b0c-bd50-bd03a75c2c0c\",\"subtype\":\"Chart\",\"type\":\"Plot\"}},\"id\":\"68cd5abc-72a2-41ea-a912-ac1719abf56d\",\"type\":\"SaveTool\"},{\"attributes\":{\"fill_alpha\":{\"field\":\"fill_alpha\"},\"fill_color\":{\"field\":\"color\"},\"height\":{\"field\":\"height\",\"units\":\"data\"},\"line_color\":{\"field\":\"line_color\"},\"width\":{\"field\":\"width\",\"units\":\"data\"},\"x\":{\"field\":\"x\"},\"y\":{\"field\":\"y\"}},\"id\":\"006997a9-2aa3-45d1-aef6-c42aef41cc47\",\"type\":\"Rect\"},{\"attributes\":{},\"id\":\"5d1ed6f6-b16a-407d-bebb-c959c98e19f5\",\"type\":\"ToolEvents\"},{\"attributes\":{\"data_source\":{\"id\":\"9d026149-8bbb-4cb2-9f52-b2f6e4e3926f\",\"type\":\"ColumnDataSource\"},\"glyph\":{\"id\":\"83e87bfc-ebc3-4be7-9934-1b80e2443cc6\",\"type\":\"Rect\"},\"hover_glyph\":null,\"nonselection_glyph\":null,\"selection_glyph\":null},\"id\":\"7c889464-3a98-4f15-ae7e-52cb4107e1de\",\"type\":\"GlyphRenderer\"},{\"attributes\":{\"fill_alpha\":{\"field\":\"fill_alpha\"},\"fill_color\":{\"field\":\"color\"},\"height\":{\"field\":\"height\",\"units\":\"data\"},\"line_color\":{\"field\":\"line_color\"},\"width\":{\"field\":\"width\",\"units\":\"data\"},\"x\":{\"field\":\"x\"},\"y\":{\"field\":\"y\"}},\"id\":\"f5ad3a8f-9b5c-4030-bf3f-852434ada6a6\",\"type\":\"Rect\"},{\"attributes\":{\"fill_alpha\":{\"field\":\"fill_alpha\"},\"fill_color\":{\"field\":\"color\"},\"height\":{\"field\":\"height\",\"units\":\"data\"},\"line_color\":{\"field\":\"line_color\"},\"width\":{\"field\":\"width\",\"units\":\"data\"},\"x\":{\"field\":\"x\"},\"y\":{\"field\":\"y\"}},\"id\":\"7f6a6754-def1-4b6c-aa81-c9a19198ca7b\",\"type\":\"Rect\"},{\"attributes\":{\"fill_alpha\":{\"field\":\"fill_alpha\"},\"fill_color\":{\"field\":\"color\"},\"height\":{\"field\":\"height\",\"units\":\"data\"},\"line_color\":{\"field\":\"line_color\"},\"width\":{\"field\":\"width\",\"units\":\"data\"},\"x\":{\"field\":\"x\"},\"y\":{\"field\":\"y\"}},\"id\":\"4b4be018-a914-417f-8149-e50ded6d5b76\",\"type\":\"Rect\"},{\"attributes\":{\"fill_alpha\":{\"field\":\"fill_alpha\"},\"fill_color\":{\"field\":\"color\"},\"height\":{\"field\":\"height\",\"units\":\"data\"},\"line_color\":{\"field\":\"line_color\"},\"width\":{\"field\":\"width\",\"units\":\"data\"},\"x\":{\"field\":\"x\"},\"y\":{\"field\":\"y\"}},\"id\":\"cdb7410f-64e0-4be9-a2d4-16df9ac5b78a\",\"type\":\"Rect\"},{\"attributes\":{\"data_source\":{\"id\":\"f515dfcf-b906-4e07-beed-a95486450d6d\",\"type\":\"ColumnDataSource\"},\"glyph\":{\"id\":\"ac1e0aa8-b625-4f96-a355-f4f46f2de10a\",\"type\":\"Rect\"},\"hover_glyph\":null,\"nonselection_glyph\":null,\"selection_glyph\":null},\"id\":\"90a611ee-9095-4bb0-9132-982ad0981bf5\",\"type\":\"GlyphRenderer\"},{\"attributes\":{\"callback\":null,\"column_names\":[\"x\",\"label\",\"height\",\"color\",\"line_alpha\",\"line_color\",\"y\",\"width\",\"fill_alpha\"],\"data\":{\"chart_index\":[\"(9.347600, 10.281160]\"],\"color\":[\"#f22c40\"],\"fill_alpha\":[0.8],\"height\":[544.0],\"label\":[\"(9.347600, 10.281160]\"],\"line_alpha\":[1.0],\"line_color\":[\"black\"],\"width\":[0.93356],\"x\":[\"9.81438\"],\"y\":[272.0]}},\"id\":\"6d50693a-31d3-4f86-ad4c-bfec7e72c99e\",\"type\":\"ColumnDataSource\"},{\"attributes\":{\"data_source\":{\"id\":\"4955820b-0879-4320-a14f-0617622dceab\",\"type\":\"ColumnDataSource\"},\"glyph\":{\"id\":\"a12c4b77-db55-4a91-a75f-1b810d1e3fdd\",\"type\":\"Rect\"},\"hover_glyph\":null,\"nonselection_glyph\":null,\"selection_glyph\":null},\"id\":\"755b9b91-8038-41aa-835d-626315939a7a\",\"type\":\"GlyphRenderer\"},{\"attributes\":{\"data_source\":{\"id\":\"fb041f9a-5234-47c1-92ed-11658032f7d7\",\"type\":\"ColumnDataSource\"},\"glyph\":{\"id\":\"cdb7410f-64e0-4be9-a2d4-16df9ac5b78a\",\"type\":\"Rect\"},\"hover_glyph\":null,\"nonselection_glyph\":null,\"selection_glyph\":null},\"id\":\"8650e06d-5ee5-4172-880e-a1f5db6ef48d\",\"type\":\"GlyphRenderer\"},{\"attributes\":{\"fill_alpha\":{\"field\":\"fill_alpha\"},\"fill_color\":{\"field\":\"color\"},\"height\":{\"field\":\"height\",\"units\":\"data\"},\"line_color\":{\"field\":\"line_color\"},\"width\":{\"field\":\"width\",\"units\":\"data\"},\"x\":{\"field\":\"x\"},\"y\":{\"field\":\"y\"}},\"id\":\"3c4d5976-d37b-47f0-a1e9-b13e0ed6b0fa\",\"type\":\"Rect\"},{\"attributes\":{\"fill_alpha\":{\"field\":\"fill_alpha\"},\"fill_color\":{\"field\":\"color\"},\"height\":{\"field\":\"height\",\"units\":\"data\"},\"line_color\":{\"field\":\"line_color\"},\"width\":{\"field\":\"width\",\"units\":\"data\"},\"x\":{\"field\":\"x\"},\"y\":{\"field\":\"y\"}},\"id\":\"cd22fee2-3516-4cc0-940e-d2fb82603c8e\",\"type\":\"Rect\"},{\"attributes\":{\"data_source\":{\"id\":\"28384b96-706e-4297-b3fc-dfb786cefab2\",\"type\":\"ColumnDataSource\"},\"glyph\":{\"id\":\"3c4d5976-d37b-47f0-a1e9-b13e0ed6b0fa\",\"type\":\"Rect\"},\"hover_glyph\":null,\"nonselection_glyph\":null,\"selection_glyph\":null},\"id\":\"5d2b680c-057e-4573-b0b8-fa312afeb34e\",\"type\":\"GlyphRenderer\"},{\"attributes\":{\"fill_alpha\":{\"field\":\"fill_alpha\"},\"fill_color\":{\"field\":\"color\"},\"height\":{\"field\":\"height\",\"units\":\"data\"},\"line_color\":{\"field\":\"line_color\"},\"width\":{\"field\":\"width\",\"units\":\"data\"},\"x\":{\"field\":\"x\"},\"y\":{\"field\":\"y\"}},\"id\":\"6b3fb012-04b1-4735-bcb6-a83f5748c0b3\",\"type\":\"Rect\"},{\"attributes\":{\"callback\":null,\"column_names\":[\"x\",\"label\",\"height\",\"color\",\"line_alpha\",\"line_color\",\"y\",\"width\",\"fill_alpha\"],\"data\":{\"chart_index\":[\"(10.281160, 11.214720]\"],\"color\":[\"#f22c40\"],\"fill_alpha\":[0.8],\"height\":[350.0],\"label\":[\"(10.281160, 11.214720]\"],\"line_alpha\":[1.0],\"line_color\":[\"black\"],\"width\":[0.93356],\"x\":[\"10.74794\"],\"y\":[175.0]}},\"id\":\"dee7238b-f218-44cc-b450-4fb99735a9d1\",\"type\":\"ColumnDataSource\"},{\"attributes\":{\"fill_alpha\":{\"field\":\"fill_alpha\"},\"fill_color\":{\"field\":\"color\"},\"height\":{\"field\":\"height\",\"units\":\"data\"},\"line_color\":{\"field\":\"line_color\"},\"width\":{\"field\":\"width\",\"units\":\"data\"},\"x\":{\"field\":\"x\"},\"y\":{\"field\":\"y\"}},\"id\":\"ff6963b3-6ba6-4acd-b789-cea3c5158e12\",\"type\":\"Rect\"},{\"attributes\":{\"data_source\":{\"id\":\"1106b979-2955-4ff3-ba3b-eade0c7063f7\",\"type\":\"ColumnDataSource\"},\"glyph\":{\"id\":\"4e414244-ba8b-43f9-ac04-8925a6ca4905\",\"type\":\"Rect\"},\"hover_glyph\":null,\"nonselection_glyph\":null,\"selection_glyph\":null},\"id\":\"d9330659-35e3-4f15-b585-50227ddd1884\",\"type\":\"GlyphRenderer\"},{\"attributes\":{\"fill_alpha\":{\"field\":\"fill_alpha\"},\"fill_color\":{\"field\":\"color\"},\"height\":{\"field\":\"height\",\"units\":\"data\"},\"line_color\":{\"field\":\"line_color\"},\"width\":{\"field\":\"width\",\"units\":\"data\"},\"x\":{\"field\":\"x\"},\"y\":{\"field\":\"y\"}},\"id\":\"a34d0ac1-44c9-47eb-8894-888671cb9451\",\"type\":\"Rect\"},{\"attributes\":{\"data_source\":{\"id\":\"e0a15e0b-82ec-4f77-8f3c-f7e392a4dc82\",\"type\":\"ColumnDataSource\"},\"glyph\":{\"id\":\"9ca9f517-37a0-4afe-87d7-dbd425ce8d42\",\"type\":\"Rect\"},\"hover_glyph\":null,\"nonselection_glyph\":null,\"selection_glyph\":null},\"id\":\"f1ca2d9e-dc1a-4232-96d0-e0b75b0c53f6\",\"type\":\"GlyphRenderer\"},{\"attributes\":{\"fill_alpha\":{\"field\":\"fill_alpha\"},\"fill_color\":{\"field\":\"color\"},\"height\":{\"field\":\"height\",\"units\":\"data\"},\"line_color\":{\"field\":\"line_color\"},\"width\":{\"field\":\"width\",\"units\":\"data\"},\"x\":{\"field\":\"x\"},\"y\":{\"field\":\"y\"}},\"id\":\"617de944-37fe-4315-a326-8337194b23eb\",\"type\":\"Rect\"},{\"attributes\":{\"data_source\":{\"id\":\"4a685b74-f152-49cb-b3b2-079f863c4e74\",\"type\":\"ColumnDataSource\"},\"glyph\":{\"id\":\"f31b6f8c-8107-4e38-b465-e618b1553359\",\"type\":\"Rect\"},\"hover_glyph\":null,\"nonselection_glyph\":null,\"selection_glyph\":null},\"id\":\"047988e3-251c-47d1-a370-59ee55595ba2\",\"type\":\"GlyphRenderer\"},{\"attributes\":{\"fill_alpha\":{\"field\":\"fill_alpha\"},\"fill_color\":{\"field\":\"color\"},\"height\":{\"field\":\"height\",\"units\":\"data\"},\"line_color\":{\"field\":\"line_color\"},\"width\":{\"field\":\"width\",\"units\":\"data\"},\"x\":{\"field\":\"x\"},\"y\":{\"field\":\"y\"}},\"id\":\"a2a9cb1b-50f8-4c08-ab7c-35d62a6db90e\",\"type\":\"Rect\"},{\"attributes\":{\"data_source\":{\"id\":\"5cf91332-fb3f-4df4-8b5a-46bd81ebf357\",\"type\":\"ColumnDataSource\"},\"glyph\":{\"id\":\"6880ccf9-3220-4812-8776-be449c38b0cd\",\"type\":\"Rect\"},\"hover_glyph\":null,\"nonselection_glyph\":null,\"selection_glyph\":null},\"id\":\"6cca5f8e-9ec1-474e-a006-eff10e5a3a1e\",\"type\":\"GlyphRenderer\"},{\"attributes\":{\"callback\":null,\"column_names\":[\"x\",\"label\",\"height\",\"color\",\"line_alpha\",\"line_color\",\"y\",\"width\",\"fill_alpha\"],\"data\":{\"chart_index\":[\"(0.945560, 1.879120]\"],\"color\":[\"#f22c40\"],\"fill_alpha\":[0.8],\"height\":[507.0],\"label\":[\"(0.945560, 1.879120]\"],\"line_alpha\":[1.0],\"line_color\":[\"black\"],\"width\":[0.93356],\"x\":[\"1.41234\"],\"y\":[253.5]}},\"id\":\"1106b979-2955-4ff3-ba3b-eade0c7063f7\",\"type\":\"ColumnDataSource\"},{\"attributes\":{\"below\":[{\"id\":\"7a2e04fb-0d9d-4acd-b525-259aa80148d3\",\"type\":\"LinearAxis\"}],\"css_classes\":null,\"left\":[{\"id\":\"27acf522-efeb-4f78-8769-cdc7d240d234\",\"type\":\"LinearAxis\"}],\"renderers\":[{\"id\":\"fd708322-62d7-4220-bfb8-cda7f9bfec8b\",\"type\":\"BoxAnnotation\"},{\"id\":\"ba195349-40b9-47f2-953d-f2017a66ff6b\",\"type\":\"GlyphRenderer\"},{\"id\":\"d9330659-35e3-4f15-b585-50227ddd1884\",\"type\":\"GlyphRenderer\"},{\"id\":\"755b9b91-8038-41aa-835d-626315939a7a\",\"type\":\"GlyphRenderer\"},{\"id\":\"9261ec00-8334-49a9-a8f8-ab84055929a3\",\"type\":\"GlyphRenderer\"},{\"id\":\"047988e3-251c-47d1-a370-59ee55595ba2\",\"type\":\"GlyphRenderer\"},{\"id\":\"16de7f00-d667-4207-8d87-ac59e9d05899\",\"type\":\"GlyphRenderer\"},{\"id\":\"5988352b-0ef3-4580-864a-4b26cdd6b781\",\"type\":\"GlyphRenderer\"},{\"id\":\"ebaa5835-cfe8-4fee-bfd4-4fd685394037\",\"type\":\"GlyphRenderer\"},{\"id\":\"197c1ff7-63e3-45ec-bf46-c916ff1bbbbc\",\"type\":\"GlyphRenderer\"},{\"id\":\"0f33ad5c-5bc9-4ecb-be81-8909f3a43388\",\"type\":\"GlyphRenderer\"},{\"id\":\"460e8cf3-545b-4911-b400-95e2cb30269a\",\"type\":\"GlyphRenderer\"},{\"id\":\"3e86f48f-b0aa-4550-8f01-c6ed4ad93af8\",\"type\":\"GlyphRenderer\"},{\"id\":\"e1bda9e0-7e08-4a7a-82c4-68192e2d601d\",\"type\":\"GlyphRenderer\"},{\"id\":\"52843564-44e9-4fd2-ba74-0d0afd843455\",\"type\":\"GlyphRenderer\"},{\"id\":\"5d2b680c-057e-4573-b0b8-fa312afeb34e\",\"type\":\"GlyphRenderer\"},{\"id\":\"773020c1-30d7-4f97-8849-cbb63478d911\",\"type\":\"GlyphRenderer\"},{\"id\":\"e9cee37e-e1e7-4ec0-a12b-51534c60da59\",\"type\":\"GlyphRenderer\"},{\"id\":\"a0851af0-a9fe-4337-b4fb-e5fc3531bd46\",\"type\":\"GlyphRenderer\"},{\"id\":\"dc6dbd78-c181-4df2-82d1-82568d7a3396\",\"type\":\"GlyphRenderer\"},{\"id\":\"539b7c3b-64ca-4f10-8e59-502cb59e6063\",\"type\":\"GlyphRenderer\"},{\"id\":\"773bb5cf-c3ff-4cb9-8db3-deda3425b0bd\",\"type\":\"GlyphRenderer\"},{\"id\":\"ed2f85a5-2cc3-446d-90b9-7a449f4fef83\",\"type\":\"GlyphRenderer\"},{\"id\":\"fbb8bac3-803f-47ba-9320-f442595f8f44\",\"type\":\"GlyphRenderer\"},{\"id\":\"bb20b223-9ee2-4ada-9b07-9ba21f0ec594\",\"type\":\"GlyphRenderer\"},{\"id\":\"90a611ee-9095-4bb0-9132-982ad0981bf5\",\"type\":\"GlyphRenderer\"},{\"id\":\"5604713b-c8b3-4645-89ac-34cb057f42cd\",\"type\":\"GlyphRenderer\"},{\"id\":\"e17750aa-13f5-4a9e-b18b-33f768be64a4\",\"type\":\"GlyphRenderer\"},{\"id\":\"75110351-a43a-45aa-aa42-f49580f8d669\",\"type\":\"GlyphRenderer\"},{\"id\":\"7c889464-3a98-4f15-ae7e-52cb4107e1de\",\"type\":\"GlyphRenderer\"},{\"id\":\"7e11bbcb-ff41-4e03-b633-8f499a265e1b\",\"type\":\"GlyphRenderer\"},{\"id\":\"d48967d8-eb1d-47a4-90f2-6a4cb370a0ac\",\"type\":\"GlyphRenderer\"},{\"id\":\"2bde72ca-f3a6-4e24-9b71-c8c7c10911fa\",\"type\":\"GlyphRenderer\"},{\"id\":\"17f4c7e8-a081-4a84-9fd9-5e7dc5b574ea\",\"type\":\"GlyphRenderer\"},{\"id\":\"fcb1d191-2192-4b56-bc59-26cc3579114b\",\"type\":\"GlyphRenderer\"},{\"id\":\"39cff073-385e-4ee2-acd3-5ac35563f2e8\",\"type\":\"GlyphRenderer\"},{\"id\":\"f1ca2d9e-dc1a-4232-96d0-e0b75b0c53f6\",\"type\":\"GlyphRenderer\"},{\"id\":\"ef27a370-3b7b-4626-a6f5-71573268ecc6\",\"type\":\"GlyphRenderer\"},{\"id\":\"ccbf3363-58ff-4771-bb8e-003444fa87e4\",\"type\":\"GlyphRenderer\"},{\"id\":\"f0070c79-ac44-4118-812a-f22b8c7bb00e\",\"type\":\"GlyphRenderer\"},{\"id\":\"3c09ebab-a2c0-4413-ab64-7543eb10bcfe\",\"type\":\"GlyphRenderer\"},{\"id\":\"70b7da11-26cd-498d-9731-f99e6db72a64\",\"type\":\"GlyphRenderer\"},{\"id\":\"42bc2dd3-c89d-4492-83be-31aaf2fdd50c\",\"type\":\"GlyphRenderer\"},{\"id\":\"099a5dd9-2e78-47c2-a5be-f3e4833278d6\",\"type\":\"GlyphRenderer\"},{\"id\":\"302f15c5-8378-4627-afc8-bb524b3598b7\",\"type\":\"GlyphRenderer\"},{\"id\":\"8650e06d-5ee5-4172-880e-a1f5db6ef48d\",\"type\":\"GlyphRenderer\"},{\"id\":\"6cca5f8e-9ec1-474e-a006-eff10e5a3a1e\",\"type\":\"GlyphRenderer\"},{\"id\":\"f8928a99-f008-47ea-812f-93d7ce689e4f\",\"type\":\"GlyphRenderer\"},{\"id\":\"f9d7b565-87c6-462e-9324-0a019b0ab8ca\",\"type\":\"GlyphRenderer\"},{\"id\":\"dcfa693c-3f0b-4d0b-a28a-883da68a23aa\",\"type\":\"GlyphRenderer\"},{\"id\":\"72f6417d-dee8-4295-988d-c1ca57f1a29d\",\"type\":\"GlyphRenderer\"},{\"id\":\"1d4a4515-a046-4fbc-a44d-91cada1f0328\",\"type\":\"Legend\"},{\"id\":\"7a2e04fb-0d9d-4acd-b525-259aa80148d3\",\"type\":\"LinearAxis\"},{\"id\":\"27acf522-efeb-4f78-8769-cdc7d240d234\",\"type\":\"LinearAxis\"},{\"id\":\"dbece5db-7a5f-45d4-83b9-829e90b74be0\",\"type\":\"Grid\"}],\"title\":{\"id\":\"85166a07-8b27-4ece-a297-8b0d1ebe3099\",\"type\":\"Title\"},\"tool_events\":{\"id\":\"5d1ed6f6-b16a-407d-bebb-c959c98e19f5\",\"type\":\"ToolEvents\"},\"toolbar\":{\"id\":\"cb0a5d42-16e3-42b3-9290-ff5c04eac5be\",\"type\":\"Toolbar\"},\"x_mapper_type\":\"auto\",\"x_range\":{\"id\":\"ab86730d-f405-4569-bac4-34f80c1b360c\",\"type\":\"Range1d\"},\"y_mapper_type\":\"auto\",\"y_range\":{\"id\":\"8cb83638-04e5-4af8-a017-cfff28bb4414\",\"type\":\"Range1d\"}},\"id\":\"bcdbfb10-683f-4b0c-bd50-bd03a75c2c0c\",\"subtype\":\"Chart\",\"type\":\"Plot\"},{\"attributes\":{\"fill_alpha\":{\"field\":\"fill_alpha\"},\"fill_color\":{\"field\":\"color\"},\"height\":{\"field\":\"height\",\"units\":\"data\"},\"line_color\":{\"field\":\"line_color\"},\"width\":{\"field\":\"width\",\"units\":\"data\"},\"x\":{\"field\":\"x\"},\"y\":{\"field\":\"y\"}},\"id\":\"0f52611e-e2ff-4eaf-a87c-d89c3f046983\",\"type\":\"Rect\"}],\"root_ids\":[\"bcdbfb10-683f-4b0c-bd50-bd03a75c2c0c\"]},\"title\":\"Bokeh Application\",\"version\":\"0.12.4\"}};\n",
       "            var render_items = [{\"docid\":\"53142c3c-f7d1-48a5-b572-461eeec1228e\",\"elementid\":\"ad75f1fd-96fd-47b8-b4fe-bbfab5b9cdcf\",\"modelid\":\"bcdbfb10-683f-4b0c-bd50-bd03a75c2c0c\"}];\n",
       "            \n",
       "            Bokeh.embed.embed_items(docs_json, render_items);\n",
       "          };\n",
       "          if (document.readyState != \"loading\") fn();\n",
       "          else document.addEventListener(\"DOMContentLoaded\", fn);\n",
       "        })();\n",
       "      },\n",
       "      function(Bokeh) {\n",
       "      }\n",
       "    ];\n",
       "  \n",
       "    function run_inline_js() {\n",
       "      \n",
       "      if ((window.Bokeh !== undefined) || (force === true)) {\n",
       "        for (var i = 0; i < inline_js.length; i++) {\n",
       "          inline_js[i](window.Bokeh);\n",
       "        }if (force === true) {\n",
       "          display_loaded();\n",
       "        }} else if (Date.now() < window._bokeh_timeout) {\n",
       "        setTimeout(run_inline_js, 100);\n",
       "      } else if (!window._bokeh_failed_load) {\n",
       "        console.log(\"Bokeh: BokehJS failed to load within specified timeout.\");\n",
       "        window._bokeh_failed_load = true;\n",
       "      } else if (force !== true) {\n",
       "        var cell = $(document.getElementById(\"ad75f1fd-96fd-47b8-b4fe-bbfab5b9cdcf\")).parents('.cell').data().cell;\n",
       "        cell.output_area.append_execute_result(NB_LOAD_WARNING)\n",
       "      }\n",
       "  \n",
       "    }\n",
       "  \n",
       "    if (window._bokeh_is_loading === 0) {\n",
       "      console.log(\"Bokeh: BokehJS loaded, going straight to plotting\");\n",
       "      run_inline_js();\n",
       "    } else {\n",
       "      load_libs(js_urls, function() {\n",
       "        console.log(\"Bokeh: BokehJS plotting callback run at\", now());\n",
       "        run_inline_js();\n",
       "      });\n",
       "    }\n",
       "  }(this));\n",
       "</script>"
      ]
     },
     "metadata": {},
     "output_type": "display_data"
    }
   ],
   "source": [
    "p = Histogram(merra2_tavg.drop_duplicates('Checksum')['Size']/1000, bins=50,\n",
    "             xlabel='Byte Stream Size (kilobytes)')\n",
    "show(p)"
   ]
  },
  {
   "cell_type": "code",
   "execution_count": 114,
   "metadata": {
    "collapsed": false
   },
   "outputs": [
    {
     "data": {
      "text/plain": [
       "count    344840.000000\n",
       "mean      37461.941115\n",
       "std        7690.765428\n",
       "min          12.000000\n",
       "25%       37184.000000\n",
       "50%       39138.000000\n",
       "75%       41427.000000\n",
       "max       46690.000000\n",
       "Name: Size, dtype: float64"
      ]
     },
     "execution_count": 114,
     "metadata": {},
     "output_type": "execute_result"
    }
   ],
   "source": [
    "merra2_tavg.drop_duplicates('Checksum')['Size'].describe()"
   ]
  },
  {
   "cell_type": "markdown",
   "metadata": {
    "collapsed": true
   },
   "source": [
    "### Datasets"
   ]
  },
  {
   "cell_type": "markdown",
   "metadata": {},
   "source": [
    "#### How many datasets per file?"
   ]
  },
  {
   "cell_type": "code",
   "execution_count": 115,
   "metadata": {
    "collapsed": true
   },
   "outputs": [],
   "source": [
    "grp = merra2_tavg.groupby('File')"
   ]
  },
  {
   "cell_type": "code",
   "execution_count": 116,
   "metadata": {
    "collapsed": false
   },
   "outputs": [
    {
     "data": {
      "text/plain": [
       "count    120.0\n",
       "mean     197.0\n",
       "std        0.0\n",
       "min      197.0\n",
       "25%      197.0\n",
       "50%      197.0\n",
       "75%      197.0\n",
       "max      197.0\n",
       "Name: Dataset, dtype: float64"
      ]
     },
     "execution_count": 116,
     "metadata": {},
     "output_type": "execute_result"
    }
   ],
   "source": [
    "grp.Dataset.unique().apply(lambda l: len(l)).describe()"
   ]
  },
  {
   "cell_type": "markdown",
   "metadata": {},
   "source": [
    "#### Is every dataset in every file chunked?"
   ]
  },
  {
   "cell_type": "code",
   "execution_count": 117,
   "metadata": {
    "collapsed": true
   },
   "outputs": [],
   "source": [
    "grp = merra2_tavg.groupby(['File', 'Dataset'])"
   ]
  },
  {
   "cell_type": "code",
   "execution_count": 118,
   "metadata": {
    "collapsed": false
   },
   "outputs": [
    {
     "data": {
      "text/plain": [
       "True"
      ]
     },
     "execution_count": 118,
     "metadata": {},
     "output_type": "execute_result"
    }
   ],
   "source": [
    "grp.Chunk_Flag.agg(all).all()"
   ]
  },
  {
   "cell_type": "markdown",
   "metadata": {},
   "source": [
    "#### How many byte streams per dataset?"
   ]
  },
  {
   "cell_type": "code",
   "execution_count": 119,
   "metadata": {
    "collapsed": false
   },
   "outputs": [
    {
     "data": {
      "text/plain": [
       "count    23640.000000\n",
       "mean        15.771574\n",
       "std          1.836943\n",
       "min          1.000000\n",
       "25%         16.000000\n",
       "50%         16.000000\n",
       "75%         16.000000\n",
       "max         16.000000\n",
       "Name: UUID, dtype: float64"
      ]
     },
     "execution_count": 119,
     "metadata": {},
     "output_type": "execute_result"
    }
   ],
   "source": [
    "grp.UUID.count().describe()"
   ]
  },
  {
   "cell_type": "code",
   "execution_count": 120,
   "metadata": {
    "collapsed": false
   },
   "outputs": [
    {
     "data": {
      "text/html": [
       "\n",
       "\n",
       "    <div class=\"bk-root\">\n",
       "        <div class=\"bk-plotdiv\" id=\"a91509c2-3e92-4030-908b-ec06260993f8\"></div>\n",
       "    </div>\n",
       "<script type=\"text/javascript\">\n",
       "  \n",
       "  (function(global) {\n",
       "    function now() {\n",
       "      return new Date();\n",
       "    }\n",
       "  \n",
       "    var force = false;\n",
       "  \n",
       "    if (typeof (window._bokeh_onload_callbacks) === \"undefined\" || force === true) {\n",
       "      window._bokeh_onload_callbacks = [];\n",
       "      window._bokeh_is_loading = undefined;\n",
       "    }\n",
       "  \n",
       "  \n",
       "    \n",
       "    if (typeof (window._bokeh_timeout) === \"undefined\" || force === true) {\n",
       "      window._bokeh_timeout = Date.now() + 0;\n",
       "      window._bokeh_failed_load = false;\n",
       "    }\n",
       "  \n",
       "    var NB_LOAD_WARNING = {'data': {'text/html':\n",
       "       \"<div style='background-color: #fdd'>\\n\"+\n",
       "       \"<p>\\n\"+\n",
       "       \"BokehJS does not appear to have successfully loaded. If loading BokehJS from CDN, this \\n\"+\n",
       "       \"may be due to a slow or bad network connection. Possible fixes:\\n\"+\n",
       "       \"</p>\\n\"+\n",
       "       \"<ul>\\n\"+\n",
       "       \"<li>re-rerun `output_notebook()` to attempt to load from CDN again, or</li>\\n\"+\n",
       "       \"<li>use INLINE resources instead, as so:</li>\\n\"+\n",
       "       \"</ul>\\n\"+\n",
       "       \"<code>\\n\"+\n",
       "       \"from bokeh.resources import INLINE\\n\"+\n",
       "       \"output_notebook(resources=INLINE)\\n\"+\n",
       "       \"</code>\\n\"+\n",
       "       \"</div>\"}};\n",
       "  \n",
       "    function display_loaded() {\n",
       "      if (window.Bokeh !== undefined) {\n",
       "        document.getElementById(\"a91509c2-3e92-4030-908b-ec06260993f8\").textContent = \"BokehJS successfully loaded.\";\n",
       "      } else if (Date.now() < window._bokeh_timeout) {\n",
       "        setTimeout(display_loaded, 100)\n",
       "      }\n",
       "    }\n",
       "  \n",
       "    function run_callbacks() {\n",
       "      window._bokeh_onload_callbacks.forEach(function(callback) { callback() });\n",
       "      delete window._bokeh_onload_callbacks\n",
       "      console.info(\"Bokeh: all callbacks have finished\");\n",
       "    }\n",
       "  \n",
       "    function load_libs(js_urls, callback) {\n",
       "      window._bokeh_onload_callbacks.push(callback);\n",
       "      if (window._bokeh_is_loading > 0) {\n",
       "        console.log(\"Bokeh: BokehJS is being loaded, scheduling callback at\", now());\n",
       "        return null;\n",
       "      }\n",
       "      if (js_urls == null || js_urls.length === 0) {\n",
       "        run_callbacks();\n",
       "        return null;\n",
       "      }\n",
       "      console.log(\"Bokeh: BokehJS not loaded, scheduling load and callback at\", now());\n",
       "      window._bokeh_is_loading = js_urls.length;\n",
       "      for (var i = 0; i < js_urls.length; i++) {\n",
       "        var url = js_urls[i];\n",
       "        var s = document.createElement('script');\n",
       "        s.src = url;\n",
       "        s.async = false;\n",
       "        s.onreadystatechange = s.onload = function() {\n",
       "          window._bokeh_is_loading--;\n",
       "          if (window._bokeh_is_loading === 0) {\n",
       "            console.log(\"Bokeh: all BokehJS libraries loaded\");\n",
       "            run_callbacks()\n",
       "          }\n",
       "        };\n",
       "        s.onerror = function() {\n",
       "          console.warn(\"failed to load library \" + url);\n",
       "        };\n",
       "        console.log(\"Bokeh: injecting script tag for BokehJS library: \", url);\n",
       "        document.getElementsByTagName(\"head\")[0].appendChild(s);\n",
       "      }\n",
       "    };var element = document.getElementById(\"a91509c2-3e92-4030-908b-ec06260993f8\");\n",
       "    if (element == null) {\n",
       "      console.log(\"Bokeh: ERROR: autoload.js configured with elementid 'a91509c2-3e92-4030-908b-ec06260993f8' but no matching script tag was found. \")\n",
       "      return false;\n",
       "    }\n",
       "  \n",
       "    var js_urls = [];\n",
       "  \n",
       "    var inline_js = [\n",
       "      function(Bokeh) {\n",
       "        (function() {\n",
       "          var fn = function() {\n",
       "            var docs_json = {\"44dd6943-6cad-4a8c-91b0-f59dfd060c8d\":{\"roots\":{\"references\":[{\"attributes\":{\"callback\":null,\"end\":16.925,\"start\":0.07499999999999996},\"id\":\"5379d4d4-59f3-46f3-bda3-11e31e42b1f0\",\"type\":\"Range1d\"},{\"attributes\":{\"callback\":null,\"column_names\":[\"x\",\"label\",\"height\",\"color\",\"line_alpha\",\"line_color\",\"y\",\"width\",\"fill_alpha\"],\"data\":{\"chart_index\":[\"(12.500000, 13.500000]\"],\"color\":[\"#f22c40\"],\"fill_alpha\":[0.8],\"height\":[0.0],\"label\":[\"(12.500000, 13.500000]\"],\"line_alpha\":[1.0],\"line_color\":[\"black\"],\"width\":[1.0],\"x\":[\"13.0\"],\"y\":[0.0]}},\"id\":\"c8f01bc1-3b56-4e66-8c69-3cf32fbdb36e\",\"type\":\"ColumnDataSource\"},{\"attributes\":{\"callback\":null,\"column_names\":[\"x\",\"label\",\"height\",\"color\",\"line_alpha\",\"line_color\",\"y\",\"width\",\"fill_alpha\"],\"data\":{\"chart_index\":[\"(11.500000, 12.500000]\"],\"color\":[\"#f22c40\"],\"fill_alpha\":[0.8],\"height\":[0.0],\"label\":[\"(11.500000, 12.500000]\"],\"line_alpha\":[1.0],\"line_color\":[\"black\"],\"width\":[1.0],\"x\":[\"12.0\"],\"y\":[0.0]}},\"id\":\"7131cbb7-1a6d-47ec-b2a7-192172ebed71\",\"type\":\"ColumnDataSource\"},{\"attributes\":{\"callback\":null,\"column_names\":[\"x\",\"label\",\"height\",\"color\",\"line_alpha\",\"line_color\",\"y\",\"width\",\"fill_alpha\"],\"data\":{\"chart_index\":[\"(1.500000, 2.500000]\"],\"color\":[\"#f22c40\"],\"fill_alpha\":[0.8],\"height\":[0.0],\"label\":[\"(1.500000, 2.500000]\"],\"line_alpha\":[1.0],\"line_color\":[\"black\"],\"width\":[1.0],\"x\":[\"2.0\"],\"y\":[0.0]}},\"id\":\"817318e8-4ad9-4efb-93c7-deeca5abcfb9\",\"type\":\"ColumnDataSource\"},{\"attributes\":{\"fill_alpha\":{\"field\":\"fill_alpha\"},\"fill_color\":{\"field\":\"color\"},\"height\":{\"field\":\"height\",\"units\":\"data\"},\"line_color\":{\"field\":\"line_color\"},\"width\":{\"field\":\"width\",\"units\":\"data\"},\"x\":{\"field\":\"x\"},\"y\":{\"field\":\"y\"}},\"id\":\"03101882-bceb-42d4-b2f2-311fa5215540\",\"type\":\"Rect\"},{\"attributes\":{\"data_source\":{\"id\":\"e4d0d75b-03d3-4e09-85ad-ec2449e0a50e\",\"type\":\"ColumnDataSource\"},\"glyph\":{\"id\":\"1a23a67f-aa6c-420e-9124-9328f7add379\",\"type\":\"Rect\"},\"hover_glyph\":null,\"nonselection_glyph\":null,\"selection_glyph\":null},\"id\":\"c4170ce2-9fbf-44c9-9d9c-a68cea47ed47\",\"type\":\"GlyphRenderer\"},{\"attributes\":{\"plot\":{\"id\":\"fb2d4e4b-2eba-4d96-a773-b93de33c187d\",\"subtype\":\"Chart\",\"type\":\"Plot\"}},\"id\":\"13ce46f9-4c39-4e62-a2ae-b111a4db72f1\",\"type\":\"SaveTool\"},{\"attributes\":{\"callback\":null,\"column_names\":[\"x\",\"label\",\"height\",\"color\",\"line_alpha\",\"line_color\",\"y\",\"width\",\"fill_alpha\"],\"data\":{\"chart_index\":[\"(6.500000, 7.500000]\"],\"color\":[\"#f22c40\"],\"fill_alpha\":[0.8],\"height\":[0.0],\"label\":[\"(6.500000, 7.500000]\"],\"line_alpha\":[1.0],\"line_color\":[\"black\"],\"width\":[1.0],\"x\":[\"7.0\"],\"y\":[0.0]}},\"id\":\"7a943f30-c74d-4914-9454-3fd0266767a7\",\"type\":\"ColumnDataSource\"},{\"attributes\":{\"data_source\":{\"id\":\"c8f01bc1-3b56-4e66-8c69-3cf32fbdb36e\",\"type\":\"ColumnDataSource\"},\"glyph\":{\"id\":\"91c48231-0461-4b50-a0ce-e6e2f8808f68\",\"type\":\"Rect\"},\"hover_glyph\":null,\"nonselection_glyph\":null,\"selection_glyph\":null},\"id\":\"631a693c-d312-4317-8e17-96d252d99b79\",\"type\":\"GlyphRenderer\"},{\"attributes\":{},\"id\":\"62676377-6679-4a0b-8a33-5a9ba0a9cb52\",\"type\":\"ToolEvents\"},{\"attributes\":{\"callback\":null,\"column_names\":[\"x\",\"label\",\"height\",\"color\",\"line_alpha\",\"line_color\",\"y\",\"width\",\"fill_alpha\"],\"data\":{\"chart_index\":[\"(5.500000, 6.500000]\"],\"color\":[\"#f22c40\"],\"fill_alpha\":[0.8],\"height\":[0.0],\"label\":[\"(5.500000, 6.500000]\"],\"line_alpha\":[1.0],\"line_color\":[\"black\"],\"width\":[1.0],\"x\":[\"6.0\"],\"y\":[0.0]}},\"id\":\"bec13551-9bdf-4a1f-bf33-23ce986ef0e6\",\"type\":\"ColumnDataSource\"},{\"attributes\":{\"callback\":null,\"column_names\":[\"x\",\"label\",\"height\",\"color\",\"line_alpha\",\"line_color\",\"y\",\"width\",\"fill_alpha\"],\"data\":{\"chart_index\":[\"(2.500000, 3.500000]\"],\"color\":[\"#f22c40\"],\"fill_alpha\":[0.8],\"height\":[0.0],\"label\":[\"(2.500000, 3.500000]\"],\"line_alpha\":[1.0],\"line_color\":[\"black\"],\"width\":[1.0],\"x\":[\"3.0\"],\"y\":[0.0]}},\"id\":\"1555bc4c-eaa5-46df-9f75-9c053c862039\",\"type\":\"ColumnDataSource\"},{\"attributes\":{\"plot\":{\"id\":\"fb2d4e4b-2eba-4d96-a773-b93de33c187d\",\"subtype\":\"Chart\",\"type\":\"Plot\"}},\"id\":\"9c4f7dac-ca05-4823-848f-05cf33b08f2b\",\"type\":\"PanTool\"},{\"attributes\":{\"callback\":null,\"column_names\":[\"x\",\"label\",\"height\",\"color\",\"line_alpha\",\"line_color\",\"y\",\"width\",\"fill_alpha\"],\"data\":{\"chart_index\":[\"[0.500000, 1.500000]\"],\"color\":[\"#f22c40\"],\"fill_alpha\":[0.8],\"height\":[360.0],\"label\":[\"[0.500000, 1.500000]\"],\"line_alpha\":[1.0],\"line_color\":[\"black\"],\"width\":[1.0],\"x\":[\"1.0\"],\"y\":[180.0]}},\"id\":\"0a4c5936-7a22-4bd3-b8d2-e2ccacaea7fc\",\"type\":\"ColumnDataSource\"},{\"attributes\":{\"callback\":null,\"column_names\":[\"x\",\"label\",\"height\",\"color\",\"line_alpha\",\"line_color\",\"y\",\"width\",\"fill_alpha\"],\"data\":{\"chart_index\":[\"(7.500000, 8.500000]\"],\"color\":[\"#f22c40\"],\"fill_alpha\":[0.8],\"height\":[0.0],\"label\":[\"(7.500000, 8.500000]\"],\"line_alpha\":[1.0],\"line_color\":[\"black\"],\"width\":[1.0],\"x\":[\"8.0\"],\"y\":[0.0]}},\"id\":\"6880e7ce-c9aa-4679-8177-5c1f61c492be\",\"type\":\"ColumnDataSource\"},{\"attributes\":{\"data_source\":{\"id\":\"7a943f30-c74d-4914-9454-3fd0266767a7\",\"type\":\"ColumnDataSource\"},\"glyph\":{\"id\":\"03101882-bceb-42d4-b2f2-311fa5215540\",\"type\":\"Rect\"},\"hover_glyph\":null,\"nonselection_glyph\":null,\"selection_glyph\":null},\"id\":\"0345f0f6-2d9e-4137-a4ab-6ed529e7c465\",\"type\":\"GlyphRenderer\"},{\"attributes\":{},\"id\":\"9c968228-151a-42c7-be92-a40ed19238e5\",\"type\":\"BasicTickFormatter\"},{\"attributes\":{\"callback\":null,\"column_names\":[\"x\",\"label\",\"height\",\"color\",\"line_alpha\",\"line_color\",\"y\",\"width\",\"fill_alpha\"],\"data\":{\"chart_index\":[\"(14.500000, 15.500000]\"],\"color\":[\"#f22c40\"],\"fill_alpha\":[0.8],\"height\":[0.0],\"label\":[\"(14.500000, 15.500000]\"],\"line_alpha\":[1.0],\"line_color\":[\"black\"],\"width\":[1.0],\"x\":[\"15.0\"],\"y\":[0.0]}},\"id\":\"e4d0d75b-03d3-4e09-85ad-ec2449e0a50e\",\"type\":\"ColumnDataSource\"},{\"attributes\":{\"data_source\":{\"id\":\"82f006da-9c75-4502-a6e5-a234be710475\",\"type\":\"ColumnDataSource\"},\"glyph\":{\"id\":\"958209ff-b7d1-4b3c-be96-bc579f2b6d76\",\"type\":\"Rect\"},\"hover_glyph\":null,\"nonselection_glyph\":null,\"selection_glyph\":null},\"id\":\"8c4ce282-b02d-487e-af11-4e2659a4abb2\",\"type\":\"GlyphRenderer\"},{\"attributes\":{\"fill_alpha\":{\"field\":\"fill_alpha\"},\"fill_color\":{\"field\":\"color\"},\"height\":{\"field\":\"height\",\"units\":\"data\"},\"line_color\":{\"field\":\"line_color\"},\"width\":{\"field\":\"width\",\"units\":\"data\"},\"x\":{\"field\":\"x\"},\"y\":{\"field\":\"y\"}},\"id\":\"8e0e1d20-bf41-4c94-b840-b9cd3eb011d5\",\"type\":\"Rect\"},{\"attributes\":{\"axis_label\":\"Number of byte streams per dataset\",\"formatter\":{\"id\":\"9f6d8cea-b47a-4429-8de8-7be313a725c8\",\"type\":\"BasicTickFormatter\"},\"plot\":{\"id\":\"fb2d4e4b-2eba-4d96-a773-b93de33c187d\",\"subtype\":\"Chart\",\"type\":\"Plot\"},\"ticker\":{\"id\":\"a8b2c445-644f-437d-84ac-4df1427d4107\",\"type\":\"FixedTicker\"}},\"id\":\"89a9f2fe-1fdf-4bba-94f2-d0fbc89d5c17\",\"type\":\"LinearAxis\"},{\"attributes\":{},\"id\":\"750c35bd-2ac6-4796-b6b6-d6c835aa41f5\",\"type\":\"BasicTicker\"},{\"attributes\":{\"fill_alpha\":{\"field\":\"fill_alpha\"},\"fill_color\":{\"field\":\"color\"},\"height\":{\"field\":\"height\",\"units\":\"data\"},\"line_color\":{\"field\":\"line_color\"},\"width\":{\"field\":\"width\",\"units\":\"data\"},\"x\":{\"field\":\"x\"},\"y\":{\"field\":\"y\"}},\"id\":\"25fa499b-9456-4455-9201-f97b13a532bb\",\"type\":\"Rect\"},{\"attributes\":{\"bottom_units\":\"screen\",\"fill_alpha\":{\"value\":0.5},\"fill_color\":{\"value\":\"lightgrey\"},\"left_units\":\"screen\",\"level\":\"overlay\",\"line_alpha\":{\"value\":1.0},\"line_color\":{\"value\":\"black\"},\"line_dash\":[4,4],\"line_width\":{\"value\":2},\"plot\":null,\"render_mode\":\"css\",\"right_units\":\"screen\",\"top_units\":\"screen\"},\"id\":\"a2cd7ddc-beff-4fd3-b80a-6250b9381257\",\"type\":\"BoxAnnotation\"},{\"attributes\":{\"fill_alpha\":{\"field\":\"fill_alpha\"},\"fill_color\":{\"field\":\"color\"},\"height\":{\"field\":\"height\",\"units\":\"data\"},\"line_color\":{\"field\":\"line_color\"},\"width\":{\"field\":\"width\",\"units\":\"data\"},\"x\":{\"field\":\"x\"},\"y\":{\"field\":\"y\"}},\"id\":\"cede00b5-986c-4f92-9bed-803f09c12a30\",\"type\":\"Rect\"},{\"attributes\":{\"fill_alpha\":{\"field\":\"fill_alpha\"},\"fill_color\":{\"field\":\"color\"},\"height\":{\"field\":\"height\",\"units\":\"data\"},\"line_color\":{\"field\":\"line_color\"},\"width\":{\"field\":\"width\",\"units\":\"data\"},\"x\":{\"field\":\"x\"},\"y\":{\"field\":\"y\"}},\"id\":\"0b2154ae-4d3e-4eab-b720-98d167db9cab\",\"type\":\"Rect\"},{\"attributes\":{\"fill_alpha\":{\"field\":\"fill_alpha\"},\"fill_color\":{\"field\":\"color\"},\"height\":{\"field\":\"height\",\"units\":\"data\"},\"line_color\":{\"field\":\"line_color\"},\"width\":{\"field\":\"width\",\"units\":\"data\"},\"x\":{\"field\":\"x\"},\"y\":{\"field\":\"y\"}},\"id\":\"526207d6-0c19-45af-b98f-5e01f17fa6ff\",\"type\":\"Rect\"},{\"attributes\":{\"fill_alpha\":{\"field\":\"fill_alpha\"},\"fill_color\":{\"field\":\"color\"},\"height\":{\"field\":\"height\",\"units\":\"data\"},\"line_color\":{\"field\":\"line_color\"},\"width\":{\"field\":\"width\",\"units\":\"data\"},\"x\":{\"field\":\"x\"},\"y\":{\"field\":\"y\"}},\"id\":\"1a23a67f-aa6c-420e-9124-9328f7add379\",\"type\":\"Rect\"},{\"attributes\":{\"overlay\":{\"id\":\"a2cd7ddc-beff-4fd3-b80a-6250b9381257\",\"type\":\"BoxAnnotation\"},\"plot\":{\"id\":\"fb2d4e4b-2eba-4d96-a773-b93de33c187d\",\"subtype\":\"Chart\",\"type\":\"Plot\"}},\"id\":\"17e59273-c692-47f6-b101-be454d5db03a\",\"type\":\"BoxZoomTool\"},{\"attributes\":{\"fill_alpha\":{\"field\":\"fill_alpha\"},\"fill_color\":{\"field\":\"color\"},\"height\":{\"field\":\"height\",\"units\":\"data\"},\"line_color\":{\"field\":\"line_color\"},\"width\":{\"field\":\"width\",\"units\":\"data\"},\"x\":{\"field\":\"x\"},\"y\":{\"field\":\"y\"}},\"id\":\"112f6645-26f4-4c18-a8de-7b26d3128975\",\"type\":\"Rect\"},{\"attributes\":{\"fill_alpha\":{\"field\":\"fill_alpha\"},\"fill_color\":{\"field\":\"color\"},\"height\":{\"field\":\"height\",\"units\":\"data\"},\"line_color\":{\"field\":\"line_color\"},\"width\":{\"field\":\"width\",\"units\":\"data\"},\"x\":{\"field\":\"x\"},\"y\":{\"field\":\"y\"}},\"id\":\"3f9764f8-467e-4397-8833-403393ec792c\",\"type\":\"Rect\"},{\"attributes\":{\"callback\":null,\"column_names\":[\"x\",\"label\",\"height\",\"color\",\"line_alpha\",\"line_color\",\"y\",\"width\",\"fill_alpha\"],\"data\":{\"chart_index\":[\"(13.500000, 14.500000]\"],\"color\":[\"#f22c40\"],\"fill_alpha\":[0.8],\"height\":[0.0],\"label\":[\"(13.500000, 14.500000]\"],\"line_alpha\":[1.0],\"line_color\":[\"black\"],\"width\":[1.0],\"x\":[\"14.0\"],\"y\":[0.0]}},\"id\":\"3d55c578-4816-40fa-aab8-9dea7a190ea0\",\"type\":\"ColumnDataSource\"},{\"attributes\":{\"data_source\":{\"id\":\"7d40b81d-3f7d-463d-815d-0b40ebd4422e\",\"type\":\"ColumnDataSource\"},\"glyph\":{\"id\":\"84149b87-928a-4e33-8d00-d15e810fe753\",\"type\":\"Rect\"},\"hover_glyph\":null,\"nonselection_glyph\":null,\"selection_glyph\":null},\"id\":\"ce06db8d-327c-49f8-8447-8beac95d0392\",\"type\":\"GlyphRenderer\"},{\"attributes\":{\"data_source\":{\"id\":\"a60375e9-bb0a-49fc-b41d-82452b277208\",\"type\":\"ColumnDataSource\"},\"glyph\":{\"id\":\"25fa499b-9456-4455-9201-f97b13a532bb\",\"type\":\"Rect\"},\"hover_glyph\":null,\"nonselection_glyph\":null,\"selection_glyph\":null},\"id\":\"a8d9696f-e9d3-4059-bcd7-d5a5ad71d601\",\"type\":\"GlyphRenderer\"},{\"attributes\":{\"callback\":null,\"column_names\":[\"x\",\"label\",\"height\",\"color\",\"line_alpha\",\"line_color\",\"y\",\"width\",\"fill_alpha\"],\"data\":{\"chart_index\":[\"(10.500000, 11.500000]\"],\"color\":[\"#f22c40\"],\"fill_alpha\":[0.8],\"height\":[0.0],\"label\":[\"(10.500000, 11.500000]\"],\"line_alpha\":[1.0],\"line_color\":[\"black\"],\"width\":[1.0],\"x\":[\"11.0\"],\"y\":[0.0]}},\"id\":\"7d40b81d-3f7d-463d-815d-0b40ebd4422e\",\"type\":\"ColumnDataSource\"},{\"attributes\":{\"data_source\":{\"id\":\"bec13551-9bdf-4a1f-bf33-23ce986ef0e6\",\"type\":\"ColumnDataSource\"},\"glyph\":{\"id\":\"8e0e1d20-bf41-4c94-b840-b9cd3eb011d5\",\"type\":\"Rect\"},\"hover_glyph\":null,\"nonselection_glyph\":null,\"selection_glyph\":null},\"id\":\"d70f75f9-3769-48a3-9568-0fa2290023dd\",\"type\":\"GlyphRenderer\"},{\"attributes\":{\"fill_alpha\":{\"field\":\"fill_alpha\"},\"fill_color\":{\"field\":\"color\"},\"height\":{\"field\":\"height\",\"units\":\"data\"},\"line_color\":{\"field\":\"line_color\"},\"width\":{\"field\":\"width\",\"units\":\"data\"},\"x\":{\"field\":\"x\"},\"y\":{\"field\":\"y\"}},\"id\":\"f3013cf5-a911-453c-91fc-362bd65486ba\",\"type\":\"Rect\"},{\"attributes\":{\"data_source\":{\"id\":\"7131cbb7-1a6d-47ec-b2a7-192172ebed71\",\"type\":\"ColumnDataSource\"},\"glyph\":{\"id\":\"fb1b0169-f10f-4851-9ca2-3f8b79b0c9a9\",\"type\":\"Rect\"},\"hover_glyph\":null,\"nonselection_glyph\":null,\"selection_glyph\":null},\"id\":\"ba1c0723-8929-40cd-9163-46c54987521b\",\"type\":\"GlyphRenderer\"},{\"attributes\":{\"fill_alpha\":{\"field\":\"fill_alpha\"},\"fill_color\":{\"field\":\"color\"},\"height\":{\"field\":\"height\",\"units\":\"data\"},\"line_color\":{\"field\":\"line_color\"},\"width\":{\"field\":\"width\",\"units\":\"data\"},\"x\":{\"field\":\"x\"},\"y\":{\"field\":\"y\"}},\"id\":\"958209ff-b7d1-4b3c-be96-bc579f2b6d76\",\"type\":\"Rect\"},{\"attributes\":{\"fill_alpha\":{\"field\":\"fill_alpha\"},\"fill_color\":{\"field\":\"color\"},\"height\":{\"field\":\"height\",\"units\":\"data\"},\"line_color\":{\"field\":\"line_color\"},\"width\":{\"field\":\"width\",\"units\":\"data\"},\"x\":{\"field\":\"x\"},\"y\":{\"field\":\"y\"}},\"id\":\"84149b87-928a-4e33-8d00-d15e810fe753\",\"type\":\"Rect\"},{\"attributes\":{\"fill_alpha\":{\"field\":\"fill_alpha\"},\"fill_color\":{\"field\":\"color\"},\"height\":{\"field\":\"height\",\"units\":\"data\"},\"line_color\":{\"field\":\"line_color\"},\"width\":{\"field\":\"width\",\"units\":\"data\"},\"x\":{\"field\":\"x\"},\"y\":{\"field\":\"y\"}},\"id\":\"dee28417-4f86-4b15-b73c-5403ff4186f9\",\"type\":\"Rect\"},{\"attributes\":{\"callback\":null,\"column_names\":[\"x\",\"label\",\"height\",\"color\",\"line_alpha\",\"line_color\",\"y\",\"width\",\"fill_alpha\"],\"data\":{\"chart_index\":[\"(3.500000, 4.500000]\"],\"color\":[\"#f22c40\"],\"fill_alpha\":[0.8],\"height\":[0.0],\"label\":[\"(3.500000, 4.500000]\"],\"line_alpha\":[1.0],\"line_color\":[\"black\"],\"width\":[1.0],\"x\":[\"4.0\"],\"y\":[0.0]}},\"id\":\"30634bf5-4bbd-4092-a7c6-b124d19667c4\",\"type\":\"ColumnDataSource\"},{\"attributes\":{\"callback\":null,\"end\":25608.000000000004},\"id\":\"aa5f7642-a7f7-4de4-9cd9-ad799cedc56d\",\"type\":\"Range1d\"},{\"attributes\":{\"callback\":null,\"column_names\":[\"x\",\"label\",\"height\",\"color\",\"line_alpha\",\"line_color\",\"y\",\"width\",\"fill_alpha\"],\"data\":{\"chart_index\":[\"(15.500000, 16.500000]\"],\"color\":[\"#f22c40\"],\"fill_alpha\":[0.8],\"height\":[23280.0],\"label\":[\"(15.500000, 16.500000]\"],\"line_alpha\":[1.0],\"line_color\":[\"black\"],\"width\":[1.0],\"x\":[\"16.0\"],\"y\":[11640.0]}},\"id\":\"320dac32-b983-4591-8004-f8f7789e4ebc\",\"type\":\"ColumnDataSource\"},{\"attributes\":{\"plot\":{\"id\":\"fb2d4e4b-2eba-4d96-a773-b93de33c187d\",\"subtype\":\"Chart\",\"type\":\"Plot\"}},\"id\":\"10d8a91e-5849-4e11-805b-0fc4c14762b7\",\"type\":\"WheelZoomTool\"},{\"attributes\":{},\"id\":\"9f6d8cea-b47a-4429-8de8-7be313a725c8\",\"type\":\"BasicTickFormatter\"},{\"attributes\":{\"dimension\":1,\"plot\":{\"id\":\"fb2d4e4b-2eba-4d96-a773-b93de33c187d\",\"subtype\":\"Chart\",\"type\":\"Plot\"},\"ticker\":{\"id\":\"750c35bd-2ac6-4796-b6b6-d6c835aa41f5\",\"type\":\"BasicTicker\"}},\"id\":\"be494eeb-119d-4e04-ba09-a0cdf6e4960f\",\"type\":\"Grid\"},{\"attributes\":{\"plot\":{\"id\":\"fb2d4e4b-2eba-4d96-a773-b93de33c187d\",\"subtype\":\"Chart\",\"type\":\"Plot\"}},\"id\":\"c802673f-a696-4af3-bb4c-f012b9ffc598\",\"type\":\"ResetTool\"},{\"attributes\":{\"callback\":null,\"column_names\":[\"x\",\"label\",\"height\",\"color\",\"line_alpha\",\"line_color\",\"y\",\"width\",\"fill_alpha\"],\"data\":{\"chart_index\":[\"(8.500000, 9.500000]\"],\"color\":[\"#f22c40\"],\"fill_alpha\":[0.8],\"height\":[0.0],\"label\":[\"(8.500000, 9.500000]\"],\"line_alpha\":[1.0],\"line_color\":[\"black\"],\"width\":[1.0],\"x\":[\"9.0\"],\"y\":[0.0]}},\"id\":\"a60375e9-bb0a-49fc-b41d-82452b277208\",\"type\":\"ColumnDataSource\"},{\"attributes\":{\"data_source\":{\"id\":\"817318e8-4ad9-4efb-93c7-deeca5abcfb9\",\"type\":\"ColumnDataSource\"},\"glyph\":{\"id\":\"f3013cf5-a911-453c-91fc-362bd65486ba\",\"type\":\"Rect\"},\"hover_glyph\":null,\"nonselection_glyph\":null,\"selection_glyph\":null},\"id\":\"883cc2ec-001e-4863-b9dd-3b7a274edbf8\",\"type\":\"GlyphRenderer\"},{\"attributes\":{\"active_drag\":\"auto\",\"active_scroll\":\"auto\",\"active_tap\":\"auto\",\"tools\":[{\"id\":\"9c4f7dac-ca05-4823-848f-05cf33b08f2b\",\"type\":\"PanTool\"},{\"id\":\"10d8a91e-5849-4e11-805b-0fc4c14762b7\",\"type\":\"WheelZoomTool\"},{\"id\":\"17e59273-c692-47f6-b101-be454d5db03a\",\"type\":\"BoxZoomTool\"},{\"id\":\"13ce46f9-4c39-4e62-a2ae-b111a4db72f1\",\"type\":\"SaveTool\"},{\"id\":\"c802673f-a696-4af3-bb4c-f012b9ffc598\",\"type\":\"ResetTool\"},{\"id\":\"09cc8a8c-5939-493e-8295-ccf2a3cf2f9f\",\"type\":\"HelpTool\"}]},\"id\":\"87d145e5-2709-4a23-91af-aab8cad4bf7f\",\"type\":\"Toolbar\"},{\"attributes\":{\"ticks\":[0,1,2,3,4,5,6,7,8,9,10,11,12,13,14,15,16]},\"id\":\"a8b2c445-644f-437d-84ac-4df1427d4107\",\"type\":\"FixedTicker\"},{\"attributes\":{\"location\":\"top_left\",\"plot\":{\"id\":\"fb2d4e4b-2eba-4d96-a773-b93de33c187d\",\"subtype\":\"Chart\",\"type\":\"Plot\"}},\"id\":\"1010a7cd-166b-4c63-88bb-48d89fb9b8b7\",\"type\":\"Legend\"},{\"attributes\":{\"callback\":null,\"column_names\":[\"x\",\"label\",\"height\",\"color\",\"line_alpha\",\"line_color\",\"y\",\"width\",\"fill_alpha\"],\"data\":{\"chart_index\":[\"(4.500000, 5.500000]\"],\"color\":[\"#f22c40\"],\"fill_alpha\":[0.8],\"height\":[0.0],\"label\":[\"(4.500000, 5.500000]\"],\"line_alpha\":[1.0],\"line_color\":[\"black\"],\"width\":[1.0],\"x\":[\"5.0\"],\"y\":[0.0]}},\"id\":\"a5a9ac19-777f-48b1-b473-ca94a7348ae3\",\"type\":\"ColumnDataSource\"},{\"attributes\":{\"plot\":{\"id\":\"fb2d4e4b-2eba-4d96-a773-b93de33c187d\",\"subtype\":\"Chart\",\"type\":\"Plot\"}},\"id\":\"09cc8a8c-5939-493e-8295-ccf2a3cf2f9f\",\"type\":\"HelpTool\"},{\"attributes\":{\"plot\":null,\"text\":null},\"id\":\"81e12aa4-532e-44b8-9e4a-347650f3c2d1\",\"type\":\"Title\"},{\"attributes\":{\"data_source\":{\"id\":\"320dac32-b983-4591-8004-f8f7789e4ebc\",\"type\":\"ColumnDataSource\"},\"glyph\":{\"id\":\"526207d6-0c19-45af-b98f-5e01f17fa6ff\",\"type\":\"Rect\"},\"hover_glyph\":null,\"nonselection_glyph\":null,\"selection_glyph\":null},\"id\":\"8d2c1ab0-d69b-469d-a9f5-31effad9267f\",\"type\":\"GlyphRenderer\"},{\"attributes\":{\"axis_label\":\"Count(Dataset per File)\",\"formatter\":{\"id\":\"9c968228-151a-42c7-be92-a40ed19238e5\",\"type\":\"BasicTickFormatter\"},\"plot\":{\"id\":\"fb2d4e4b-2eba-4d96-a773-b93de33c187d\",\"subtype\":\"Chart\",\"type\":\"Plot\"},\"ticker\":{\"id\":\"750c35bd-2ac6-4796-b6b6-d6c835aa41f5\",\"type\":\"BasicTicker\"}},\"id\":\"44c08298-117b-49eb-856b-fa285bb1349d\",\"type\":\"LinearAxis\"},{\"attributes\":{\"callback\":null,\"column_names\":[\"x\",\"label\",\"height\",\"color\",\"line_alpha\",\"line_color\",\"y\",\"width\",\"fill_alpha\"],\"data\":{\"chart_index\":[\"(9.500000, 10.500000]\"],\"color\":[\"#f22c40\"],\"fill_alpha\":[0.8],\"height\":[0.0],\"label\":[\"(9.500000, 10.500000]\"],\"line_alpha\":[1.0],\"line_color\":[\"black\"],\"width\":[1.0],\"x\":[\"10.0\"],\"y\":[0.0]}},\"id\":\"82f006da-9c75-4502-a6e5-a234be710475\",\"type\":\"ColumnDataSource\"},{\"attributes\":{\"data_source\":{\"id\":\"a5a9ac19-777f-48b1-b473-ca94a7348ae3\",\"type\":\"ColumnDataSource\"},\"glyph\":{\"id\":\"0b2154ae-4d3e-4eab-b720-98d167db9cab\",\"type\":\"Rect\"},\"hover_glyph\":null,\"nonselection_glyph\":null,\"selection_glyph\":null},\"id\":\"68eb83d1-3264-49fd-bcc7-4179c2bebf4b\",\"type\":\"GlyphRenderer\"},{\"attributes\":{\"data_source\":{\"id\":\"3d55c578-4816-40fa-aab8-9dea7a190ea0\",\"type\":\"ColumnDataSource\"},\"glyph\":{\"id\":\"db7103b4-7a40-4476-b722-82821308a6e5\",\"type\":\"Rect\"},\"hover_glyph\":null,\"nonselection_glyph\":null,\"selection_glyph\":null},\"id\":\"a4c61e41-3de6-4da8-9434-8c550d01bdda\",\"type\":\"GlyphRenderer\"},{\"attributes\":{\"data_source\":{\"id\":\"6880e7ce-c9aa-4679-8177-5c1f61c492be\",\"type\":\"ColumnDataSource\"},\"glyph\":{\"id\":\"112f6645-26f4-4c18-a8de-7b26d3128975\",\"type\":\"Rect\"},\"hover_glyph\":null,\"nonselection_glyph\":null,\"selection_glyph\":null},\"id\":\"41e024ef-5048-4ef1-ad82-455efdd78b07\",\"type\":\"GlyphRenderer\"},{\"attributes\":{\"below\":[{\"id\":\"89a9f2fe-1fdf-4bba-94f2-d0fbc89d5c17\",\"type\":\"LinearAxis\"}],\"css_classes\":null,\"left\":[{\"id\":\"44c08298-117b-49eb-856b-fa285bb1349d\",\"type\":\"LinearAxis\"}],\"renderers\":[{\"id\":\"a2cd7ddc-beff-4fd3-b80a-6250b9381257\",\"type\":\"BoxAnnotation\"},{\"id\":\"8334bdf0-b0c9-4de9-babf-e0693444a599\",\"type\":\"GlyphRenderer\"},{\"id\":\"883cc2ec-001e-4863-b9dd-3b7a274edbf8\",\"type\":\"GlyphRenderer\"},{\"id\":\"6d066a33-c015-4303-8ca6-f4d1158a0678\",\"type\":\"GlyphRenderer\"},{\"id\":\"9a9d7db9-4a42-4f0e-819b-0c5b41d6d910\",\"type\":\"GlyphRenderer\"},{\"id\":\"68eb83d1-3264-49fd-bcc7-4179c2bebf4b\",\"type\":\"GlyphRenderer\"},{\"id\":\"d70f75f9-3769-48a3-9568-0fa2290023dd\",\"type\":\"GlyphRenderer\"},{\"id\":\"0345f0f6-2d9e-4137-a4ab-6ed529e7c465\",\"type\":\"GlyphRenderer\"},{\"id\":\"41e024ef-5048-4ef1-ad82-455efdd78b07\",\"type\":\"GlyphRenderer\"},{\"id\":\"a8d9696f-e9d3-4059-bcd7-d5a5ad71d601\",\"type\":\"GlyphRenderer\"},{\"id\":\"8c4ce282-b02d-487e-af11-4e2659a4abb2\",\"type\":\"GlyphRenderer\"},{\"id\":\"ce06db8d-327c-49f8-8447-8beac95d0392\",\"type\":\"GlyphRenderer\"},{\"id\":\"ba1c0723-8929-40cd-9163-46c54987521b\",\"type\":\"GlyphRenderer\"},{\"id\":\"631a693c-d312-4317-8e17-96d252d99b79\",\"type\":\"GlyphRenderer\"},{\"id\":\"a4c61e41-3de6-4da8-9434-8c550d01bdda\",\"type\":\"GlyphRenderer\"},{\"id\":\"c4170ce2-9fbf-44c9-9d9c-a68cea47ed47\",\"type\":\"GlyphRenderer\"},{\"id\":\"8d2c1ab0-d69b-469d-a9f5-31effad9267f\",\"type\":\"GlyphRenderer\"},{\"id\":\"1010a7cd-166b-4c63-88bb-48d89fb9b8b7\",\"type\":\"Legend\"},{\"id\":\"89a9f2fe-1fdf-4bba-94f2-d0fbc89d5c17\",\"type\":\"LinearAxis\"},{\"id\":\"44c08298-117b-49eb-856b-fa285bb1349d\",\"type\":\"LinearAxis\"},{\"id\":\"be494eeb-119d-4e04-ba09-a0cdf6e4960f\",\"type\":\"Grid\"}],\"title\":{\"id\":\"81e12aa4-532e-44b8-9e4a-347650f3c2d1\",\"type\":\"Title\"},\"tool_events\":{\"id\":\"62676377-6679-4a0b-8a33-5a9ba0a9cb52\",\"type\":\"ToolEvents\"},\"toolbar\":{\"id\":\"87d145e5-2709-4a23-91af-aab8cad4bf7f\",\"type\":\"Toolbar\"},\"x_mapper_type\":\"auto\",\"x_range\":{\"id\":\"5379d4d4-59f3-46f3-bda3-11e31e42b1f0\",\"type\":\"Range1d\"},\"y_mapper_type\":\"auto\",\"y_range\":{\"id\":\"aa5f7642-a7f7-4de4-9cd9-ad799cedc56d\",\"type\":\"Range1d\"}},\"id\":\"fb2d4e4b-2eba-4d96-a773-b93de33c187d\",\"subtype\":\"Chart\",\"type\":\"Plot\"},{\"attributes\":{\"data_source\":{\"id\":\"30634bf5-4bbd-4092-a7c6-b124d19667c4\",\"type\":\"ColumnDataSource\"},\"glyph\":{\"id\":\"cede00b5-986c-4f92-9bed-803f09c12a30\",\"type\":\"Rect\"},\"hover_glyph\":null,\"nonselection_glyph\":null,\"selection_glyph\":null},\"id\":\"9a9d7db9-4a42-4f0e-819b-0c5b41d6d910\",\"type\":\"GlyphRenderer\"},{\"attributes\":{\"fill_alpha\":{\"field\":\"fill_alpha\"},\"fill_color\":{\"field\":\"color\"},\"height\":{\"field\":\"height\",\"units\":\"data\"},\"line_color\":{\"field\":\"line_color\"},\"width\":{\"field\":\"width\",\"units\":\"data\"},\"x\":{\"field\":\"x\"},\"y\":{\"field\":\"y\"}},\"id\":\"fb1b0169-f10f-4851-9ca2-3f8b79b0c9a9\",\"type\":\"Rect\"},{\"attributes\":{\"fill_alpha\":{\"field\":\"fill_alpha\"},\"fill_color\":{\"field\":\"color\"},\"height\":{\"field\":\"height\",\"units\":\"data\"},\"line_color\":{\"field\":\"line_color\"},\"width\":{\"field\":\"width\",\"units\":\"data\"},\"x\":{\"field\":\"x\"},\"y\":{\"field\":\"y\"}},\"id\":\"91c48231-0461-4b50-a0ce-e6e2f8808f68\",\"type\":\"Rect\"},{\"attributes\":{\"data_source\":{\"id\":\"1555bc4c-eaa5-46df-9f75-9c053c862039\",\"type\":\"ColumnDataSource\"},\"glyph\":{\"id\":\"dee28417-4f86-4b15-b73c-5403ff4186f9\",\"type\":\"Rect\"},\"hover_glyph\":null,\"nonselection_glyph\":null,\"selection_glyph\":null},\"id\":\"6d066a33-c015-4303-8ca6-f4d1158a0678\",\"type\":\"GlyphRenderer\"},{\"attributes\":{\"fill_alpha\":{\"field\":\"fill_alpha\"},\"fill_color\":{\"field\":\"color\"},\"height\":{\"field\":\"height\",\"units\":\"data\"},\"line_color\":{\"field\":\"line_color\"},\"width\":{\"field\":\"width\",\"units\":\"data\"},\"x\":{\"field\":\"x\"},\"y\":{\"field\":\"y\"}},\"id\":\"db7103b4-7a40-4476-b722-82821308a6e5\",\"type\":\"Rect\"},{\"attributes\":{\"data_source\":{\"id\":\"0a4c5936-7a22-4bd3-b8d2-e2ccacaea7fc\",\"type\":\"ColumnDataSource\"},\"glyph\":{\"id\":\"3f9764f8-467e-4397-8833-403393ec792c\",\"type\":\"Rect\"},\"hover_glyph\":null,\"nonselection_glyph\":null,\"selection_glyph\":null},\"id\":\"8334bdf0-b0c9-4de9-babf-e0693444a599\",\"type\":\"GlyphRenderer\"}],\"root_ids\":[\"fb2d4e4b-2eba-4d96-a773-b93de33c187d\"]},\"title\":\"Bokeh Application\",\"version\":\"0.12.4\"}};\n",
       "            var render_items = [{\"docid\":\"44dd6943-6cad-4a8c-91b0-f59dfd060c8d\",\"elementid\":\"a91509c2-3e92-4030-908b-ec06260993f8\",\"modelid\":\"fb2d4e4b-2eba-4d96-a773-b93de33c187d\"}];\n",
       "            \n",
       "            Bokeh.embed.embed_items(docs_json, render_items);\n",
       "          };\n",
       "          if (document.readyState != \"loading\") fn();\n",
       "          else document.addEventListener(\"DOMContentLoaded\", fn);\n",
       "        })();\n",
       "      },\n",
       "      function(Bokeh) {\n",
       "      }\n",
       "    ];\n",
       "  \n",
       "    function run_inline_js() {\n",
       "      \n",
       "      if ((window.Bokeh !== undefined) || (force === true)) {\n",
       "        for (var i = 0; i < inline_js.length; i++) {\n",
       "          inline_js[i](window.Bokeh);\n",
       "        }if (force === true) {\n",
       "          display_loaded();\n",
       "        }} else if (Date.now() < window._bokeh_timeout) {\n",
       "        setTimeout(run_inline_js, 100);\n",
       "      } else if (!window._bokeh_failed_load) {\n",
       "        console.log(\"Bokeh: BokehJS failed to load within specified timeout.\");\n",
       "        window._bokeh_failed_load = true;\n",
       "      } else if (force !== true) {\n",
       "        var cell = $(document.getElementById(\"a91509c2-3e92-4030-908b-ec06260993f8\")).parents('.cell').data().cell;\n",
       "        cell.output_area.append_execute_result(NB_LOAD_WARNING)\n",
       "      }\n",
       "  \n",
       "    }\n",
       "  \n",
       "    if (window._bokeh_is_loading === 0) {\n",
       "      console.log(\"Bokeh: BokehJS loaded, going straight to plotting\");\n",
       "      run_inline_js();\n",
       "    } else {\n",
       "      load_libs(js_urls, function() {\n",
       "        console.log(\"Bokeh: BokehJS plotting callback run at\", now());\n",
       "        run_inline_js();\n",
       "      });\n",
       "    }\n",
       "  }(this));\n",
       "</script>"
      ]
     },
     "metadata": {},
     "output_type": "display_data"
    }
   ],
   "source": [
    "max_num_chunk = 16\n",
    "p = Histogram(grp.UUID.count(), \n",
    "              bins=list(map(lambda x: x + 0.5, range(0, max_num_chunk+1))),\n",
    "              xlabel='Number of byte streams per dataset',\n",
    "              ylabel='Count(Dataset per File)')\n",
    "p.xaxis[0].ticker = FixedTicker(ticks=list(range(max_num_chunk+1)))\n",
    "show(p)"
   ]
  }
 ],
 "metadata": {
  "kernelspec": {
   "display_name": "Python 3",
   "language": "python",
   "name": "python3"
  },
  "language_info": {
   "codemirror_mode": {
    "name": "ipython",
    "version": 3
   },
   "file_extension": ".py",
   "mimetype": "text/x-python",
   "name": "python",
   "nbconvert_exporter": "python",
   "pygments_lexer": "ipython3",
   "version": "3.5.1"
  }
 },
 "nbformat": 4,
 "nbformat_minor": 2
}
