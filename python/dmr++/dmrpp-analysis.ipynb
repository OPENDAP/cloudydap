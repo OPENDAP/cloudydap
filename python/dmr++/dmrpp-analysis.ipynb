{
 "cells": [
  {
   "cell_type": "code",
   "execution_count": 43,
   "metadata": {
    "collapsed": false
   },
   "outputs": [
    {
     "data": {
      "text/html": [
       "\n",
       "    <div class=\"bk-root\">\n",
       "        <a href=\"http://bokeh.pydata.org\" target=\"_blank\" class=\"bk-logo bk-logo-small bk-logo-notebook\"></a>\n",
       "        <span id=\"418531bf-68ce-47c8-a45e-a65247551dd7\">Loading BokehJS ...</span>\n",
       "    </div>"
      ]
     },
     "metadata": {},
     "output_type": "display_data"
    },
    {
     "data": {
      "application/javascript": [
       "\n",
       "(function(global) {\n",
       "  function now() {\n",
       "    return new Date();\n",
       "  }\n",
       "\n",
       "  var force = true;\n",
       "\n",
       "  if (typeof (window._bokeh_onload_callbacks) === \"undefined\" || force === true) {\n",
       "    window._bokeh_onload_callbacks = [];\n",
       "    window._bokeh_is_loading = undefined;\n",
       "  }\n",
       "\n",
       "\n",
       "  \n",
       "  if (typeof (window._bokeh_timeout) === \"undefined\" || force === true) {\n",
       "    window._bokeh_timeout = Date.now() + 5000;\n",
       "    window._bokeh_failed_load = false;\n",
       "  }\n",
       "\n",
       "  var NB_LOAD_WARNING = {'data': {'text/html':\n",
       "     \"<div style='background-color: #fdd'>\\n\"+\n",
       "     \"<p>\\n\"+\n",
       "     \"BokehJS does not appear to have successfully loaded. If loading BokehJS from CDN, this \\n\"+\n",
       "     \"may be due to a slow or bad network connection. Possible fixes:\\n\"+\n",
       "     \"</p>\\n\"+\n",
       "     \"<ul>\\n\"+\n",
       "     \"<li>re-rerun `output_notebook()` to attempt to load from CDN again, or</li>\\n\"+\n",
       "     \"<li>use INLINE resources instead, as so:</li>\\n\"+\n",
       "     \"</ul>\\n\"+\n",
       "     \"<code>\\n\"+\n",
       "     \"from bokeh.resources import INLINE\\n\"+\n",
       "     \"output_notebook(resources=INLINE)\\n\"+\n",
       "     \"</code>\\n\"+\n",
       "     \"</div>\"}};\n",
       "\n",
       "  function display_loaded() {\n",
       "    if (window.Bokeh !== undefined) {\n",
       "      document.getElementById(\"418531bf-68ce-47c8-a45e-a65247551dd7\").textContent = \"BokehJS successfully loaded.\";\n",
       "    } else if (Date.now() < window._bokeh_timeout) {\n",
       "      setTimeout(display_loaded, 100)\n",
       "    }\n",
       "  }\n",
       "\n",
       "  function run_callbacks() {\n",
       "    window._bokeh_onload_callbacks.forEach(function(callback) { callback() });\n",
       "    delete window._bokeh_onload_callbacks\n",
       "    console.info(\"Bokeh: all callbacks have finished\");\n",
       "  }\n",
       "\n",
       "  function load_libs(js_urls, callback) {\n",
       "    window._bokeh_onload_callbacks.push(callback);\n",
       "    if (window._bokeh_is_loading > 0) {\n",
       "      console.log(\"Bokeh: BokehJS is being loaded, scheduling callback at\", now());\n",
       "      return null;\n",
       "    }\n",
       "    if (js_urls == null || js_urls.length === 0) {\n",
       "      run_callbacks();\n",
       "      return null;\n",
       "    }\n",
       "    console.log(\"Bokeh: BokehJS not loaded, scheduling load and callback at\", now());\n",
       "    window._bokeh_is_loading = js_urls.length;\n",
       "    for (var i = 0; i < js_urls.length; i++) {\n",
       "      var url = js_urls[i];\n",
       "      var s = document.createElement('script');\n",
       "      s.src = url;\n",
       "      s.async = false;\n",
       "      s.onreadystatechange = s.onload = function() {\n",
       "        window._bokeh_is_loading--;\n",
       "        if (window._bokeh_is_loading === 0) {\n",
       "          console.log(\"Bokeh: all BokehJS libraries loaded\");\n",
       "          run_callbacks()\n",
       "        }\n",
       "      };\n",
       "      s.onerror = function() {\n",
       "        console.warn(\"failed to load library \" + url);\n",
       "      };\n",
       "      console.log(\"Bokeh: injecting script tag for BokehJS library: \", url);\n",
       "      document.getElementsByTagName(\"head\")[0].appendChild(s);\n",
       "    }\n",
       "  };var element = document.getElementById(\"418531bf-68ce-47c8-a45e-a65247551dd7\");\n",
       "  if (element == null) {\n",
       "    console.log(\"Bokeh: ERROR: autoload.js configured with elementid '418531bf-68ce-47c8-a45e-a65247551dd7' but no matching script tag was found. \")\n",
       "    return false;\n",
       "  }\n",
       "\n",
       "  var js_urls = [\"https://cdn.pydata.org/bokeh/release/bokeh-0.12.4.min.js\", \"https://cdn.pydata.org/bokeh/release/bokeh-widgets-0.12.4.min.js\"];\n",
       "\n",
       "  var inline_js = [\n",
       "    function(Bokeh) {\n",
       "      Bokeh.set_log_level(\"info\");\n",
       "    },\n",
       "    \n",
       "    function(Bokeh) {\n",
       "      \n",
       "      document.getElementById(\"418531bf-68ce-47c8-a45e-a65247551dd7\").textContent = \"BokehJS is loading...\";\n",
       "    },\n",
       "    function(Bokeh) {\n",
       "      console.log(\"Bokeh: injecting CSS: https://cdn.pydata.org/bokeh/release/bokeh-0.12.4.min.css\");\n",
       "      Bokeh.embed.inject_css(\"https://cdn.pydata.org/bokeh/release/bokeh-0.12.4.min.css\");\n",
       "      console.log(\"Bokeh: injecting CSS: https://cdn.pydata.org/bokeh/release/bokeh-widgets-0.12.4.min.css\");\n",
       "      Bokeh.embed.inject_css(\"https://cdn.pydata.org/bokeh/release/bokeh-widgets-0.12.4.min.css\");\n",
       "    }\n",
       "  ];\n",
       "\n",
       "  function run_inline_js() {\n",
       "    \n",
       "    if ((window.Bokeh !== undefined) || (force === true)) {\n",
       "      for (var i = 0; i < inline_js.length; i++) {\n",
       "        inline_js[i](window.Bokeh);\n",
       "      }if (force === true) {\n",
       "        display_loaded();\n",
       "      }} else if (Date.now() < window._bokeh_timeout) {\n",
       "      setTimeout(run_inline_js, 100);\n",
       "    } else if (!window._bokeh_failed_load) {\n",
       "      console.log(\"Bokeh: BokehJS failed to load within specified timeout.\");\n",
       "      window._bokeh_failed_load = true;\n",
       "    } else if (force !== true) {\n",
       "      var cell = $(document.getElementById(\"418531bf-68ce-47c8-a45e-a65247551dd7\")).parents('.cell').data().cell;\n",
       "      cell.output_area.append_execute_result(NB_LOAD_WARNING)\n",
       "    }\n",
       "\n",
       "  }\n",
       "\n",
       "  if (window._bokeh_is_loading === 0) {\n",
       "    console.log(\"Bokeh: BokehJS loaded, going straight to plotting\");\n",
       "    run_inline_js();\n",
       "  } else {\n",
       "    load_libs(js_urls, function() {\n",
       "      console.log(\"Bokeh: BokehJS plotting callback run at\", now());\n",
       "      run_inline_js();\n",
       "    });\n",
       "  }\n",
       "}(this));"
      ]
     },
     "metadata": {},
     "output_type": "display_data"
    }
   ],
   "source": [
    "import pandas as pd\n",
    "from bokeh.charts import output_notebook, output_file, show, Scatter, Histogram, TimeSeries\n",
    "from bokeh.plotting import figure, ColumnDataSource\n",
    "from bokeh.models import Range1d, HoverTool, ResizeTool, FixedTicker\n",
    "output_notebook()"
   ]
  },
  {
   "cell_type": "code",
   "execution_count": 44,
   "metadata": {
    "collapsed": true
   },
   "outputs": [],
   "source": [
    "dmrpp = pd.read_csv('../../../dmrpp_stats.csv')"
   ]
  },
  {
   "cell_type": "code",
   "execution_count": 45,
   "metadata": {
    "collapsed": false
   },
   "outputs": [
    {
     "name": "stdout",
     "output_type": "stream",
     "text": [
      "<class 'pandas.core.frame.DataFrame'>\n",
      "RangeIndex: 8120478 entries, 0 to 8120477\n",
      "Data columns (total 7 columns):\n",
      "File          object\n",
      "Dataset       object\n",
      "Chunk_Flag    bool\n",
      "UUID          object\n",
      "Checksum      object\n",
      "Offset        int64\n",
      "Size          int64\n",
      "dtypes: bool(1), int64(2), object(4)\n",
      "memory usage: 379.5+ MB\n"
     ]
    }
   ],
   "source": [
    "dmrpp.info()"
   ]
  },
  {
   "cell_type": "code",
   "execution_count": 46,
   "metadata": {
    "collapsed": false
   },
   "outputs": [
    {
     "data": {
      "text/html": [
       "<div>\n",
       "<table border=\"1\" class=\"dataframe\">\n",
       "  <thead>\n",
       "    <tr style=\"text-align: right;\">\n",
       "      <th></th>\n",
       "      <th>File</th>\n",
       "      <th>Dataset</th>\n",
       "      <th>Chunk_Flag</th>\n",
       "      <th>UUID</th>\n",
       "      <th>Checksum</th>\n",
       "      <th>Offset</th>\n",
       "      <th>Size</th>\n",
       "    </tr>\n",
       "  </thead>\n",
       "  <tbody>\n",
       "    <tr>\n",
       "      <th>0</th>\n",
       "      <td>AIRS.2015.01.01.L3.RetStd_IR001.v6.0.11.0.G150...</td>\n",
       "      <td>/TropHeight_TqJ_D_max</td>\n",
       "      <td>True</td>\n",
       "      <td>8c3b0087-973a-4073-8215-8490fd26065c</td>\n",
       "      <td>d4a492ad98ae783145c9286cf69e5b8a</td>\n",
       "      <td>283428105</td>\n",
       "      <td>149944</td>\n",
       "    </tr>\n",
       "    <tr>\n",
       "      <th>1</th>\n",
       "      <td>AIRS.2015.01.01.L3.RetStd_IR001.v6.0.11.0.G150...</td>\n",
       "      <td>/CoarseCloudFrc_TqJ_D_ct</td>\n",
       "      <td>True</td>\n",
       "      <td>065860ce-ebd0-465a-8512-bf7d56557a58</td>\n",
       "      <td>0555723dc275296109273ecf6bb8fe64</td>\n",
       "      <td>294468920</td>\n",
       "      <td>112388</td>\n",
       "    </tr>\n",
       "    <tr>\n",
       "      <th>2</th>\n",
       "      <td>AIRS.2015.01.01.L3.RetStd_IR001.v6.0.11.0.G150...</td>\n",
       "      <td>/O3_VMR_TqJ_D_min</td>\n",
       "      <td>True</td>\n",
       "      <td>9752def8-fd3a-462f-9f86-700a2790b89d</td>\n",
       "      <td>bcaf632733e1ef9ad9a281589c02c4dc</td>\n",
       "      <td>301573840</td>\n",
       "      <td>233452</td>\n",
       "    </tr>\n",
       "  </tbody>\n",
       "</table>\n",
       "</div>"
      ],
      "text/plain": [
       "                                                File  \\\n",
       "0  AIRS.2015.01.01.L3.RetStd_IR001.v6.0.11.0.G150...   \n",
       "1  AIRS.2015.01.01.L3.RetStd_IR001.v6.0.11.0.G150...   \n",
       "2  AIRS.2015.01.01.L3.RetStd_IR001.v6.0.11.0.G150...   \n",
       "\n",
       "                    Dataset Chunk_Flag                                  UUID  \\\n",
       "0     /TropHeight_TqJ_D_max       True  8c3b0087-973a-4073-8215-8490fd26065c   \n",
       "1  /CoarseCloudFrc_TqJ_D_ct       True  065860ce-ebd0-465a-8512-bf7d56557a58   \n",
       "2         /O3_VMR_TqJ_D_min       True  9752def8-fd3a-462f-9f86-700a2790b89d   \n",
       "\n",
       "                           Checksum     Offset    Size  \n",
       "0  d4a492ad98ae783145c9286cf69e5b8a  283428105  149944  \n",
       "1  0555723dc275296109273ecf6bb8fe64  294468920  112388  \n",
       "2  bcaf632733e1ef9ad9a281589c02c4dc  301573840  233452  "
      ]
     },
     "execution_count": 46,
     "metadata": {},
     "output_type": "execute_result"
    }
   ],
   "source": [
    "dmrpp.head(3)"
   ]
  },
  {
   "cell_type": "code",
   "execution_count": 47,
   "metadata": {
    "collapsed": false
   },
   "outputs": [
    {
     "data": {
      "text/html": [
       "<div>\n",
       "<table border=\"1\" class=\"dataframe\">\n",
       "  <thead>\n",
       "    <tr style=\"text-align: right;\">\n",
       "      <th></th>\n",
       "      <th>File</th>\n",
       "      <th>Dataset</th>\n",
       "      <th>Chunk_Flag</th>\n",
       "      <th>UUID</th>\n",
       "      <th>Checksum</th>\n",
       "      <th>Offset</th>\n",
       "      <th>Size</th>\n",
       "    </tr>\n",
       "  </thead>\n",
       "  <tbody>\n",
       "    <tr>\n",
       "      <th>8120475</th>\n",
       "      <td>za_2_2d_yz.h5</td>\n",
       "      <td>/HDFEOS/ZAS/ZA1/Data Fields/Temperature</td>\n",
       "      <td>False</td>\n",
       "      <td>38c4ac4b-8f4e-414e-a6c3-5342bacd0a60</td>\n",
       "      <td>ac971f91f30b76bc1b481501b0a53542</td>\n",
       "      <td>40696</td>\n",
       "      <td>32</td>\n",
       "    </tr>\n",
       "    <tr>\n",
       "      <th>8120476</th>\n",
       "      <td>za_2_2d_yz.h5</td>\n",
       "      <td>/HDFEOS/ZAS/ZA2/Data Fields/Temperature</td>\n",
       "      <td>False</td>\n",
       "      <td>1c73591f-e26c-402a-8429-0941e78a9708</td>\n",
       "      <td>d709add9a8fd30f7432e76d43def1494</td>\n",
       "      <td>40776</td>\n",
       "      <td>128</td>\n",
       "    </tr>\n",
       "    <tr>\n",
       "      <th>8120477</th>\n",
       "      <td>za_2_2d_yz.h5</td>\n",
       "      <td>/HDFEOS/ZAS/ZA1/Data Fields/Latitude</td>\n",
       "      <td>False</td>\n",
       "      <td>cf98febc-e0ea-4cac-ad5c-423e91ddbca8</td>\n",
       "      <td>6d8ca9f67d9914dd04b31533021b7e17</td>\n",
       "      <td>40680</td>\n",
       "      <td>16</td>\n",
       "    </tr>\n",
       "  </tbody>\n",
       "</table>\n",
       "</div>"
      ],
      "text/plain": [
       "                  File                                  Dataset Chunk_Flag  \\\n",
       "8120475  za_2_2d_yz.h5  /HDFEOS/ZAS/ZA1/Data Fields/Temperature      False   \n",
       "8120476  za_2_2d_yz.h5  /HDFEOS/ZAS/ZA2/Data Fields/Temperature      False   \n",
       "8120477  za_2_2d_yz.h5     /HDFEOS/ZAS/ZA1/Data Fields/Latitude      False   \n",
       "\n",
       "                                         UUID  \\\n",
       "8120475  38c4ac4b-8f4e-414e-a6c3-5342bacd0a60   \n",
       "8120476  1c73591f-e26c-402a-8429-0941e78a9708   \n",
       "8120477  cf98febc-e0ea-4cac-ad5c-423e91ddbca8   \n",
       "\n",
       "                                 Checksum  Offset  Size  \n",
       "8120475  ac971f91f30b76bc1b481501b0a53542   40696    32  \n",
       "8120476  d709add9a8fd30f7432e76d43def1494   40776   128  \n",
       "8120477  6d8ca9f67d9914dd04b31533021b7e17   40680    16  "
      ]
     },
     "execution_count": 47,
     "metadata": {},
     "output_type": "execute_result"
    }
   ],
   "source": [
    "dmrpp.tail(3)"
   ]
  },
  {
   "cell_type": "markdown",
   "metadata": {},
   "source": [
    "Create a new column for file types:"
   ]
  },
  {
   "cell_type": "code",
   "execution_count": 48,
   "metadata": {
    "collapsed": true
   },
   "outputs": [],
   "source": [
    "def file_type(v):\n",
    "    if v.startswith('AIRS'):\n",
    "        return 'airs'\n",
    "    elif v.startswith('MERRA2'):\n",
    "        return 'merra'\n",
    "    else:\n",
    "        return 'sample'"
   ]
  },
  {
   "cell_type": "code",
   "execution_count": 49,
   "metadata": {
    "collapsed": true
   },
   "outputs": [],
   "source": [
    "dmrpp['Type'] = dmrpp['File'].map(file_type)"
   ]
  },
  {
   "cell_type": "markdown",
   "metadata": {},
   "source": [
    "What we have now?"
   ]
  },
  {
   "cell_type": "code",
   "execution_count": 50,
   "metadata": {
    "collapsed": false
   },
   "outputs": [
    {
     "name": "stdout",
     "output_type": "stream",
     "text": [
      "<class 'pandas.core.frame.DataFrame'>\n",
      "RangeIndex: 8120478 entries, 0 to 8120477\n",
      "Data columns (total 8 columns):\n",
      "File          object\n",
      "Dataset       object\n",
      "Chunk_Flag    bool\n",
      "UUID          object\n",
      "Checksum      object\n",
      "Offset        int64\n",
      "Size          int64\n",
      "Type          object\n",
      "dtypes: bool(1), int64(2), object(5)\n",
      "memory usage: 441.4+ MB\n"
     ]
    }
   ],
   "source": [
    "dmrpp.info()"
   ]
  },
  {
   "cell_type": "markdown",
   "metadata": {},
   "source": [
    "## How many records for each file type?"
   ]
  },
  {
   "cell_type": "code",
   "execution_count": 51,
   "metadata": {
    "collapsed": true
   },
   "outputs": [],
   "source": [
    "grp = dmrpp.groupby('Type')"
   ]
  },
  {
   "cell_type": "code",
   "execution_count": 52,
   "metadata": {
    "collapsed": false
   },
   "outputs": [
    {
     "data": {
      "text/plain": [
       "Type\n",
       "airs       569765\n",
       "merra     7494823\n",
       "sample      55890\n",
       "dtype: int64"
      ]
     },
     "execution_count": 52,
     "metadata": {},
     "output_type": "execute_result"
    }
   ],
   "source": [
    "grp.size()"
   ]
  },
  {
   "cell_type": "markdown",
   "metadata": {},
   "source": [
    "## Analysis: AIRS"
   ]
  },
  {
   "cell_type": "markdown",
   "metadata": {},
   "source": [
    "Select only the AIRS data:"
   ]
  },
  {
   "cell_type": "code",
   "execution_count": 53,
   "metadata": {
    "collapsed": true
   },
   "outputs": [],
   "source": [
    "airs = dmrpp[dmrpp.Type == 'airs']"
   ]
  },
  {
   "cell_type": "code",
   "execution_count": 54,
   "metadata": {
    "collapsed": false
   },
   "outputs": [
    {
     "name": "stdout",
     "output_type": "stream",
     "text": [
      "<class 'pandas.core.frame.DataFrame'>\n",
      "Int64Index: 569765 entries, 0 to 569764\n",
      "Data columns (total 8 columns):\n",
      "File          569765 non-null object\n",
      "Dataset       569765 non-null object\n",
      "Chunk_Flag    569765 non-null bool\n",
      "UUID          569765 non-null object\n",
      "Checksum      569765 non-null object\n",
      "Offset        569765 non-null int64\n",
      "Size          569765 non-null int64\n",
      "Type          569765 non-null object\n",
      "dtypes: bool(1), int64(2), object(5)\n",
      "memory usage: 35.3+ MB\n"
     ]
    }
   ],
   "source": [
    "airs.info()"
   ]
  },
  {
   "cell_type": "markdown",
   "metadata": {},
   "source": [
    "### Byte Streams"
   ]
  },
  {
   "cell_type": "markdown",
   "metadata": {},
   "source": [
    "#### How many byte streams with unique content?"
   ]
  },
  {
   "cell_type": "code",
   "execution_count": 55,
   "metadata": {
    "collapsed": false
   },
   "outputs": [],
   "source": [
    "x = airs.Checksum.value_counts()"
   ]
  },
  {
   "cell_type": "code",
   "execution_count": 56,
   "metadata": {
    "collapsed": false
   },
   "outputs": [
    {
     "data": {
      "text/plain": [
       "330353"
      ]
     },
     "execution_count": 56,
     "metadata": {},
     "output_type": "execute_result"
    }
   ],
   "source": [
    "len(x.index)"
   ]
  },
  {
   "cell_type": "markdown",
   "metadata": {},
   "source": [
    "#### Which are the most frequent byte streams based on content?"
   ]
  },
  {
   "cell_type": "code",
   "execution_count": 57,
   "metadata": {
    "collapsed": false
   },
   "outputs": [
    {
     "data": {
      "text/plain": [
       "c55324594a0787856d9b908fc7a7a201    49640\n",
       "a43f0ca2084e297f3aa9763a828dcb0f     6570\n",
       "7c90147b4fcb72404dd36c4b0d82051d     1460\n",
       "13194f25768e29a4921fa9f6ba022342     1460\n",
       "7b744463b12501af7f1b66dece5e41b4      730\n",
       "61f33d4ee48f21fef8b6ce240dbf12c2      365\n",
       "cce9f79f6073bdaf715f1a5a07bf72ec      365\n",
       "19c03d94e619f2f3d8ad1428c6c1389c      365\n",
       "f6da25808f22177cef49588cc08740ca      365\n",
       "a71f8216cff7fca9d2c00e768589efdd      365\n",
       "cd581cc833cabac662ad43499330bed6      365\n",
       "e03cc92919bb584379ea825173440b1c      365\n",
       "0b2396e0349f169f6f5e16650f4063c5      365\n",
       "6c9db2946c92fcf6e0d9f8c3bb49d1ff      365\n",
       "08676799dc49855f9d71198e0c49d1ec      365\n",
       "5bbb0bd53711bae49dc9e3c6b37bebd6      365\n",
       "4db7b39b740cd3f1ccec16a08015fdc3       15\n",
       "4a43fcbd965c31d5d53f914568186e80       15\n",
       "895b446d6200a12138b94b5e7eaa5e8b       15\n",
       "6b476e480140f1a8dae02bf74653c238       15\n",
       "d3f1e0985027c33be35851f75ec078d8       15\n",
       "d722ddf83cd616de0a3ad763e8d2bfaa       15\n",
       "5c496ceecf57bbbc31ec6f89ba67f172       15\n",
       "2c05eeea67bc2452e063d8d74f680d62       15\n",
       "d6ab0156ecade7dfdb348aef31a9bf1c       15\n",
       "263043745c0a0f429731da1c93d947df       15\n",
       "11759a435200f0d17cb11981572d97a5       15\n",
       "ae474ddffa1d03aa512a465955566824       15\n",
       "3a81fa91107d46c54c37a547daebe497       15\n",
       "1aeaac4b54257bfd9c359ddd756793a2       15\n",
       "                                    ...  \n",
       "9e432275cbb48b47458a2abf6c6b5665        1\n",
       "6f3a804df26e74006b50dc9cf35eff60        1\n",
       "2bd8ebbeab5cca6005523e34b4b1e775        1\n",
       "26d0e8aa420697500ff68cea5e02b839        1\n",
       "c11d352a0a9eecfe2363d886eb9b5d9f        1\n",
       "3a796d59be066ddd9f6a4894a24cfcb2        1\n",
       "657e69c5b9c450a36db60ed4afe3baf5        1\n",
       "ed8d26191cb76f287d8e51e8abc8aea0        1\n",
       "a51fbe28047ee3ed8d8f84161440f6d7        1\n",
       "01a1e83c3a873cd328606a18b371d3eb        1\n",
       "b3aba8fa8b0b0b5caec7a5a9b855719e        1\n",
       "9d7b1e05e73e501d8f6d657b7cdf7dde        1\n",
       "700b39e586ef88c36d50c6da69c46f0e        1\n",
       "616cb77b883ece6be96539b96542e840        1\n",
       "3e31e29916597a8f9494dc07f9d9c358        1\n",
       "e22d1d17b148cb986043f49389e47c4c        1\n",
       "553da27125e383133190c94d67ff8fac        1\n",
       "cb0c7258536fccbe09b94fd91e9615e0        1\n",
       "a94b5b845e50a4b0584b0814b9d90ce2        1\n",
       "4d5e941fbb33f22146fb611c2ec3e516        1\n",
       "10c269083afc162a3339bbcef666f1c3        1\n",
       "b12e88a113742189f0e98743e54f5ce1        1\n",
       "5a3bc2ff54c04d9592c969c97558ad3d        1\n",
       "7ca522736997f5a375583aa0507d56ff        1\n",
       "5024e8110d448690f049f759dede7920        1\n",
       "1bb1343f13bca7f1a7f367ba4ccdf9cb        1\n",
       "ca02be7b47d100f2ccf9821782625c88        1\n",
       "770353541642f397f83dbbb2267ad7c6        1\n",
       "8f7a5a0a0bb389ff68468681029453b9        1\n",
       "3841c1d8a551a25d8977316da51bc56e        1\n",
       "Name: Checksum, dtype: int64"
      ]
     },
     "execution_count": 57,
     "metadata": {},
     "output_type": "execute_result"
    }
   ],
   "source": [
    "x.sort_values(ascending=False)"
   ]
  },
  {
   "cell_type": "markdown",
   "metadata": {},
   "source": [
    "#### Where is the same byte stream stored?"
   ]
  },
  {
   "cell_type": "markdown",
   "metadata": {},
   "source": [
    "Byte stream we are looking for:"
   ]
  },
  {
   "cell_type": "code",
   "execution_count": 58,
   "metadata": {
    "collapsed": true
   },
   "outputs": [],
   "source": [
    "cksum = 'c55324594a0787856d9b908fc7a7a201'"
   ]
  },
  {
   "cell_type": "code",
   "execution_count": 59,
   "metadata": {
    "collapsed": true
   },
   "outputs": [],
   "source": [
    "grp = airs.groupby('Checksum')"
   ]
  },
  {
   "cell_type": "markdown",
   "metadata": {},
   "source": [
    "Per dataset across all AIRS files that have it:"
   ]
  },
  {
   "cell_type": "code",
   "execution_count": 60,
   "metadata": {
    "collapsed": false
   },
   "outputs": [
    {
     "data": {
      "text/plain": [
       "/Temperature_MW_D_sdev    2920\n",
       "/Temperature_MW_A         2920\n",
       "/GPHeight_MW_D_min        2920\n",
       "/Temperature_MW_D_max     2920\n",
       "/GPHeight_MW_A_min        2920\n",
       "/GPHeight_MW_A_max        2920\n",
       "/Temperature_MW_A_max     2920\n",
       "/Temperature_MW_D_min     2920\n",
       "/GPHeight_MW_A_sdev       2920\n",
       "/GPHeight_MW_D            2920\n",
       "/GPHeight_MW_D_sdev       2920\n",
       "/Temperature_MW_A_min     2920\n",
       "/GPHeight_MW_A            2920\n",
       "/Temperature_MW_D         2920\n",
       "/GPHeight_MW_D_max        2920\n",
       "/Temperature_MW_A_sdev    2920\n",
       "/Emis_MW_D                 365\n",
       "/Emis_MW_A                 365\n",
       "/Emis_MW_D_sdev            365\n",
       "/Emis_MW_D_max             365\n",
       "/Emis_MW_A_sdev            365\n",
       "/Emis_MW_A_max             365\n",
       "/Emis_MW_D_min             365\n",
       "/Emis_MW_A_min             365\n",
       "Name: Dataset, dtype: int64"
      ]
     },
     "execution_count": 60,
     "metadata": {},
     "output_type": "execute_result"
    }
   ],
   "source": [
    "grp.get_group(cksum)['Dataset'].value_counts()"
   ]
  },
  {
   "cell_type": "markdown",
   "metadata": {},
   "source": [
    "Per file including all its datasets:"
   ]
  },
  {
   "cell_type": "code",
   "execution_count": 61,
   "metadata": {
    "collapsed": false
   },
   "outputs": [
    {
     "data": {
      "text/plain": [
       "AIRS.2015.09.23.L3.RetStd_IR001.v6.0.31.0.G15281123841.nc.h5    136\n",
       "AIRS.2015.08.03.L3.RetStd_IR001.v6.0.31.0.G15216225225.nc.h5    136\n",
       "AIRS.2015.11.13.L3.RetStd_IR001.v6.0.31.0.G15318181838.nc.h5    136\n",
       "AIRS.2015.12.06.L3.RetStd_IR001.v6.0.31.0.G15341175309.nc.h5    136\n",
       "AIRS.2015.04.28.L3.RetStd_IR001.v6.0.31.0.G15201121931.nc.h5    136\n",
       "AIRS.2015.05.18.L3.RetStd_IR001.v6.0.31.0.G15214034207.nc.h5    136\n",
       "AIRS.2015.05.22.L3.RetStd_IR001.v6.0.31.0.G15225112057.nc.h5    136\n",
       "AIRS.2015.08.25.L3.RetStd_IR001.v6.0.31.0.G15240170412.nc.h5    136\n",
       "AIRS.2015.01.07.L3.RetStd_IR001.v6.0.11.0.G15008175227.nc.h5    136\n",
       "AIRS.2015.03.12.L3.RetStd_IR001.v6.0.11.0.G15075113344.nc.h5    136\n",
       "AIRS.2015.03.01.L3.RetStd_IR001.v6.0.11.0.G15075145757.nc.h5    136\n",
       "AIRS.2015.06.13.L3.RetStd_IR001.v6.0.31.0.G15207022701.nc.h5    136\n",
       "AIRS.2015.10.29.L3.RetStd_IR001.v6.0.31.0.G15303183201.nc.h5    136\n",
       "AIRS.2015.03.30.L3.RetStd_IR001.v6.0.31.0.G15187110506.nc.h5    136\n",
       "AIRS.2015.12.27.L3.RetStd_IR001.v6.0.31.0.G15363023350.nc.h5    136\n",
       "AIRS.2015.01.11.L3.RetStd_IR001.v6.0.11.0.G15012165225.nc.h5    136\n",
       "AIRS.2015.10.17.L3.RetStd_IR001.v6.0.31.0.G15291213341.nc.h5    136\n",
       "AIRS.2015.06.20.L3.RetStd_IR001.v6.0.31.0.G15215201033.nc.h5    136\n",
       "AIRS.2015.04.29.L3.RetStd_IR001.v6.0.31.0.G15200163343.nc.h5    136\n",
       "AIRS.2015.03.21.L3.RetStd_IR001.v6.0.11.0.G15082204057.nc.h5    136\n",
       "AIRS.2015.04.07.L3.RetStd_IR001.v6.0.31.0.G15189061953.nc.h5    136\n",
       "AIRS.2015.03.06.L3.RetStd_IR001.v6.0.11.0.G15066191432.nc.h5    136\n",
       "AIRS.2015.10.12.L3.RetStd_IR001.v6.0.31.0.G15286201628.nc.h5    136\n",
       "AIRS.2015.10.05.L3.RetStd_IR001.v6.0.31.0.G15280122741.nc.h5    136\n",
       "AIRS.2015.12.28.L3.RetStd_IR001.v6.0.31.0.G15363170846.nc.h5    136\n",
       "AIRS.2015.06.02.L3.RetStd_IR001.v6.0.31.0.G15199070943.nc.h5    136\n",
       "AIRS.2015.10.10.L3.RetStd_IR001.v6.0.31.0.G15284180331.nc.h5    136\n",
       "AIRS.2015.02.24.L3.RetStd_IR001.v6.0.11.0.G15056184735.nc.h5    136\n",
       "AIRS.2015.06.12.L3.RetStd_IR001.v6.0.31.0.G15203042847.nc.h5    136\n",
       "AIRS.2015.01.13.L3.RetStd_IR001.v6.0.11.0.G15021125153.nc.h5    136\n",
       "                                                               ... \n",
       "AIRS.2015.07.18.L3.RetStd_IR001.v6.0.31.0.G15200234455.nc.h5    136\n",
       "AIRS.2015.09.30.L3.RetStd_IR001.v6.0.31.0.G15279132236.nc.h5    136\n",
       "AIRS.2015.09.03.L3.RetStd_IR001.v6.0.31.0.G15251121607.nc.h5    136\n",
       "AIRS.2015.01.29.L3.RetStd_IR001.v6.0.11.0.G15033123447.nc.h5    136\n",
       "AIRS.2015.01.06.L3.RetStd_IR001.v6.0.11.0.G15007171215.nc.h5    136\n",
       "AIRS.2015.07.05.L3.RetStd_IR001.v6.0.31.0.G15188014955.nc.h5    136\n",
       "AIRS.2015.08.16.L3.RetStd_IR001.v6.0.31.0.G15229181146.nc.h5    136\n",
       "AIRS.2015.11.02.L3.RetStd_IR001.v6.0.31.0.G15307173725.nc.h5    136\n",
       "AIRS.2015.10.15.L3.RetStd_IR001.v6.0.31.0.G15292105844.nc.h5    136\n",
       "AIRS.2015.01.15.L3.RetStd_IR001.v6.0.11.0.G15016175121.nc.h5    136\n",
       "AIRS.2015.09.24.L3.RetStd_IR001.v6.0.31.0.G15280122823.nc.h5    136\n",
       "AIRS.2015.01.04.L3.RetStd_IR001.v6.0.11.0.G15006043115.nc.h5    136\n",
       "AIRS.2015.07.03.L3.RetStd_IR001.v6.0.31.0.G15226110506.nc.h5    136\n",
       "AIRS.2015.12.22.L3.RetStd_IR001.v6.0.31.0.G15357171531.nc.h5    136\n",
       "AIRS.2015.11.25.L3.RetStd_IR001.v6.0.31.0.G15338133714.nc.h5    136\n",
       "AIRS.2015.03.07.L3.RetStd_IR001.v6.0.11.0.G15067195418.nc.h5    136\n",
       "AIRS.2015.02.03.L3.RetStd_IR001.v6.0.11.0.G15036141942.nc.h5    136\n",
       "AIRS.2015.09.29.L3.RetStd_IR001.v6.0.31.0.G15279133600.nc.h5    136\n",
       "AIRS.2015.04.04.L3.RetStd_IR001.v6.0.31.0.G15188134210.nc.h5    136\n",
       "AIRS.2015.06.25.L3.RetStd_IR001.v6.0.31.0.G15218202528.nc.h5    136\n",
       "AIRS.2015.02.17.L3.RetStd_IR001.v6.0.11.0.G15075134502.nc.h5    136\n",
       "AIRS.2015.11.08.L3.RetStd_IR001.v6.0.31.0.G15313181728.nc.h5    136\n",
       "AIRS.2015.08.10.L3.RetStd_IR001.v6.0.31.0.G15224103409.nc.h5    136\n",
       "AIRS.2015.05.07.L3.RetStd_IR001.v6.0.31.0.G15206003719.nc.h5    136\n",
       "AIRS.2015.01.25.L3.RetStd_IR001.v6.0.11.0.G15026174547.nc.h5    136\n",
       "AIRS.2015.08.15.L3.RetStd_IR001.v6.0.31.0.G15229091004.nc.h5    136\n",
       "AIRS.2015.02.11.L3.RetStd_IR001.v6.0.11.0.G15043174648.nc.h5    136\n",
       "AIRS.2015.12.16.L3.RetStd_IR001.v6.0.31.0.G15351172052.nc.h5    136\n",
       "AIRS.2015.04.25.L3.RetStd_IR001.v6.0.31.0.G15199033539.nc.h5    136\n",
       "AIRS.2015.01.27.L3.RetStd_IR001.v6.0.11.0.G15028191220.nc.h5    136\n",
       "Name: File, dtype: int64"
      ]
     },
     "execution_count": 61,
     "metadata": {},
     "output_type": "execute_result"
    }
   ],
   "source": [
    "grp.get_group(cksum)['File'].value_counts()"
   ]
  },
  {
   "cell_type": "markdown",
   "metadata": {},
   "source": [
    "#### What is the total number of byte streams in the AIRS files?"
   ]
  },
  {
   "cell_type": "code",
   "execution_count": 62,
   "metadata": {
    "collapsed": false
   },
   "outputs": [
    {
     "data": {
      "text/plain": [
       "569765"
      ]
     },
     "execution_count": 62,
     "metadata": {},
     "output_type": "execute_result"
    }
   ],
   "source": [
    "x.sum()"
   ]
  },
  {
   "cell_type": "markdown",
   "metadata": {},
   "source": [
    "#### What is the percentage reduction in number of S3 objects based on repeating checksums?"
   ]
  },
  {
   "cell_type": "code",
   "execution_count": 63,
   "metadata": {
    "collapsed": false
   },
   "outputs": [
    {
     "data": {
      "text/plain": [
       "-42.019429062859246"
      ]
     },
     "execution_count": 63,
     "metadata": {},
     "output_type": "execute_result"
    }
   ],
   "source": [
    "100 * (len(x.index)/x.sum() - 1)"
   ]
  },
  {
   "cell_type": "markdown",
   "metadata": {},
   "source": [
    "#### What is the percentage reduction in bytes stored in S3 based on repeating checksums?"
   ]
  },
  {
   "cell_type": "code",
   "execution_count": 64,
   "metadata": {
    "collapsed": false
   },
   "outputs": [
    {
     "data": {
      "text/plain": [
       "114762412036"
      ]
     },
     "execution_count": 64,
     "metadata": {},
     "output_type": "execute_result"
    }
   ],
   "source": [
    "before = airs.Size.sum()\n",
    "before"
   ]
  },
  {
   "cell_type": "code",
   "execution_count": 65,
   "metadata": {
    "collapsed": false
   },
   "outputs": [
    {
     "data": {
      "text/plain": [
       "80984748175"
      ]
     },
     "execution_count": 65,
     "metadata": {},
     "output_type": "execute_result"
    }
   ],
   "source": [
    "after = airs.drop_duplicates('Checksum')['Size'].sum()\n",
    "after"
   ]
  },
  {
   "cell_type": "code",
   "execution_count": 66,
   "metadata": {
    "collapsed": false
   },
   "outputs": [
    {
     "data": {
      "text/plain": [
       "-29.432689032715899"
      ]
     },
     "execution_count": 66,
     "metadata": {},
     "output_type": "execute_result"
    }
   ],
   "source": [
    "100 * (after/before - 1)"
   ]
  },
  {
   "cell_type": "markdown",
   "metadata": {},
   "source": [
    "#### What is the size statistics for unique byte streams?"
   ]
  },
  {
   "cell_type": "code",
   "execution_count": 67,
   "metadata": {
    "collapsed": false
   },
   "outputs": [
    {
     "data": {
      "text/html": [
       "\n",
       "\n",
       "    <div class=\"bk-root\">\n",
       "        <div class=\"bk-plotdiv\" id=\"50a1d390-6399-43bb-b59c-29d92ae68928\"></div>\n",
       "    </div>\n",
       "<script type=\"text/javascript\">\n",
       "  \n",
       "  (function(global) {\n",
       "    function now() {\n",
       "      return new Date();\n",
       "    }\n",
       "  \n",
       "    var force = false;\n",
       "  \n",
       "    if (typeof (window._bokeh_onload_callbacks) === \"undefined\" || force === true) {\n",
       "      window._bokeh_onload_callbacks = [];\n",
       "      window._bokeh_is_loading = undefined;\n",
       "    }\n",
       "  \n",
       "  \n",
       "    \n",
       "    if (typeof (window._bokeh_timeout) === \"undefined\" || force === true) {\n",
       "      window._bokeh_timeout = Date.now() + 0;\n",
       "      window._bokeh_failed_load = false;\n",
       "    }\n",
       "  \n",
       "    var NB_LOAD_WARNING = {'data': {'text/html':\n",
       "       \"<div style='background-color: #fdd'>\\n\"+\n",
       "       \"<p>\\n\"+\n",
       "       \"BokehJS does not appear to have successfully loaded. If loading BokehJS from CDN, this \\n\"+\n",
       "       \"may be due to a slow or bad network connection. Possible fixes:\\n\"+\n",
       "       \"</p>\\n\"+\n",
       "       \"<ul>\\n\"+\n",
       "       \"<li>re-rerun `output_notebook()` to attempt to load from CDN again, or</li>\\n\"+\n",
       "       \"<li>use INLINE resources instead, as so:</li>\\n\"+\n",
       "       \"</ul>\\n\"+\n",
       "       \"<code>\\n\"+\n",
       "       \"from bokeh.resources import INLINE\\n\"+\n",
       "       \"output_notebook(resources=INLINE)\\n\"+\n",
       "       \"</code>\\n\"+\n",
       "       \"</div>\"}};\n",
       "  \n",
       "    function display_loaded() {\n",
       "      if (window.Bokeh !== undefined) {\n",
       "        document.getElementById(\"50a1d390-6399-43bb-b59c-29d92ae68928\").textContent = \"BokehJS successfully loaded.\";\n",
       "      } else if (Date.now() < window._bokeh_timeout) {\n",
       "        setTimeout(display_loaded, 100)\n",
       "      }\n",
       "    }\n",
       "  \n",
       "    function run_callbacks() {\n",
       "      window._bokeh_onload_callbacks.forEach(function(callback) { callback() });\n",
       "      delete window._bokeh_onload_callbacks\n",
       "      console.info(\"Bokeh: all callbacks have finished\");\n",
       "    }\n",
       "  \n",
       "    function load_libs(js_urls, callback) {\n",
       "      window._bokeh_onload_callbacks.push(callback);\n",
       "      if (window._bokeh_is_loading > 0) {\n",
       "        console.log(\"Bokeh: BokehJS is being loaded, scheduling callback at\", now());\n",
       "        return null;\n",
       "      }\n",
       "      if (js_urls == null || js_urls.length === 0) {\n",
       "        run_callbacks();\n",
       "        return null;\n",
       "      }\n",
       "      console.log(\"Bokeh: BokehJS not loaded, scheduling load and callback at\", now());\n",
       "      window._bokeh_is_loading = js_urls.length;\n",
       "      for (var i = 0; i < js_urls.length; i++) {\n",
       "        var url = js_urls[i];\n",
       "        var s = document.createElement('script');\n",
       "        s.src = url;\n",
       "        s.async = false;\n",
       "        s.onreadystatechange = s.onload = function() {\n",
       "          window._bokeh_is_loading--;\n",
       "          if (window._bokeh_is_loading === 0) {\n",
       "            console.log(\"Bokeh: all BokehJS libraries loaded\");\n",
       "            run_callbacks()\n",
       "          }\n",
       "        };\n",
       "        s.onerror = function() {\n",
       "          console.warn(\"failed to load library \" + url);\n",
       "        };\n",
       "        console.log(\"Bokeh: injecting script tag for BokehJS library: \", url);\n",
       "        document.getElementsByTagName(\"head\")[0].appendChild(s);\n",
       "      }\n",
       "    };var element = document.getElementById(\"50a1d390-6399-43bb-b59c-29d92ae68928\");\n",
       "    if (element == null) {\n",
       "      console.log(\"Bokeh: ERROR: autoload.js configured with elementid '50a1d390-6399-43bb-b59c-29d92ae68928' but no matching script tag was found. \")\n",
       "      return false;\n",
       "    }\n",
       "  \n",
       "    var js_urls = [];\n",
       "  \n",
       "    var inline_js = [\n",
       "      function(Bokeh) {\n",
       "        (function() {\n",
       "          var fn = function() {\n",
       "            var docs_json = {\"4801d249-c401-49bf-b0fc-d49a13f6eb8d\":{\"roots\":{\"references\":[{\"attributes\":{\"data_source\":{\"id\":\"ed91616a-56b8-4a21-b8b6-90487e601099\",\"type\":\"ColumnDataSource\"},\"glyph\":{\"id\":\"fd1a6ee8-453f-4ce5-af24-656234fe487b\",\"type\":\"Rect\"},\"hover_glyph\":null,\"nonselection_glyph\":null,\"selection_glyph\":null},\"id\":\"ddd09347-3b97-4a1b-81eb-a5eaabbd1a34\",\"type\":\"GlyphRenderer\"},{\"attributes\":{\"data_source\":{\"id\":\"d13ca730-ecbb-463a-a7f5-86e623230ce2\",\"type\":\"ColumnDataSource\"},\"glyph\":{\"id\":\"bd48f6bc-c5ad-46a3-b958-264240974b8e\",\"type\":\"Rect\"},\"hover_glyph\":null,\"nonselection_glyph\":null,\"selection_glyph\":null},\"id\":\"138807da-ee3a-46b7-9e16-dd3c17dcf3ba\",\"type\":\"GlyphRenderer\"},{\"attributes\":{\"callback\":null,\"column_names\":[\"line_alpha\",\"line_color\",\"height\",\"y\",\"label\",\"width\",\"fill_alpha\",\"color\",\"x\"],\"data\":{\"chart_index\":[\"(112.249100, 134.694920]\"],\"color\":[\"#f22c40\"],\"fill_alpha\":[0.8],\"height\":[2396.0],\"label\":[\"(112.249100, 134.694920]\"],\"line_alpha\":[1.0],\"line_color\":[\"black\"],\"width\":[22.445820000000012],\"x\":[\"123.47201\"],\"y\":[1198.0]}},\"id\":\"925c30f4-908a-4cee-84b5-dc82f0c7653d\",\"type\":\"ColumnDataSource\"},{\"attributes\":{\"data_source\":{\"id\":\"3dff4603-32d8-40ef-ae2b-55b7a11f29a9\",\"type\":\"ColumnDataSource\"},\"glyph\":{\"id\":\"af39e65e-c17e-4660-aa0e-6d87314abef8\",\"type\":\"Rect\"},\"hover_glyph\":null,\"nonselection_glyph\":null,\"selection_glyph\":null},\"id\":\"48fafaeb-eb72-477f-ae6b-2cd40a31dbee\",\"type\":\"GlyphRenderer\"},{\"attributes\":{\"data_source\":{\"id\":\"9a399b2f-39bd-4e07-8287-97bc37980559\",\"type\":\"ColumnDataSource\"},\"glyph\":{\"id\":\"8abbc83c-7cae-4e8f-ba24-81d6a6042b83\",\"type\":\"Rect\"},\"hover_glyph\":null,\"nonselection_glyph\":null,\"selection_glyph\":null},\"id\":\"74a2aa4d-21f9-4a27-993e-8bfd37d9b194\",\"type\":\"GlyphRenderer\"},{\"attributes\":{\"callback\":null,\"column_names\":[\"line_alpha\",\"line_color\",\"height\",\"y\",\"label\",\"width\",\"fill_alpha\",\"color\",\"x\"],\"data\":{\"chart_index\":[\"(448.936400, 471.382220]\"],\"color\":[\"#f22c40\"],\"fill_alpha\":[0.8],\"height\":[621.0],\"label\":[\"(448.936400, 471.382220]\"],\"line_alpha\":[1.0],\"line_color\":[\"black\"],\"width\":[22.445820000000026],\"x\":[\"460.15931\"],\"y\":[310.5]}},\"id\":\"61cc7602-1913-428d-b4aa-1f4f1546e943\",\"type\":\"ColumnDataSource\"},{\"attributes\":{\"fill_alpha\":{\"field\":\"fill_alpha\"},\"fill_color\":{\"field\":\"color\"},\"height\":{\"field\":\"height\",\"units\":\"data\"},\"line_color\":{\"field\":\"line_color\"},\"width\":{\"field\":\"width\",\"units\":\"data\"},\"x\":{\"field\":\"x\"},\"y\":{\"field\":\"y\"}},\"id\":\"09fae645-730a-4bfc-a242-6976533d3148\",\"type\":\"Rect\"},{\"attributes\":{\"data_source\":{\"id\":\"b5dbc76c-99e1-48f2-a5a6-478692a4d0f2\",\"type\":\"ColumnDataSource\"},\"glyph\":{\"id\":\"5b8853b7-b222-42ca-98f8-bede53549512\",\"type\":\"Rect\"},\"hover_glyph\":null,\"nonselection_glyph\":null,\"selection_glyph\":null},\"id\":\"001b1230-b94c-4bae-9b33-838da9dc53e1\",\"type\":\"GlyphRenderer\"},{\"attributes\":{\"fill_alpha\":{\"field\":\"fill_alpha\"},\"fill_color\":{\"field\":\"color\"},\"height\":{\"field\":\"height\",\"units\":\"data\"},\"line_color\":{\"field\":\"line_color\"},\"width\":{\"field\":\"width\",\"units\":\"data\"},\"x\":{\"field\":\"x\"},\"y\":{\"field\":\"y\"}},\"id\":\"303345e0-9c05-4944-b1f9-45b71d414125\",\"type\":\"Rect\"},{\"attributes\":{\"fill_alpha\":{\"field\":\"fill_alpha\"},\"fill_color\":{\"field\":\"color\"},\"height\":{\"field\":\"height\",\"units\":\"data\"},\"line_color\":{\"field\":\"line_color\"},\"width\":{\"field\":\"width\",\"units\":\"data\"},\"x\":{\"field\":\"x\"},\"y\":{\"field\":\"y\"}},\"id\":\"76901bab-8ce3-4b7d-8ee7-f3c776026d20\",\"type\":\"Rect\"},{\"attributes\":{\"callback\":null,\"column_names\":[\"line_alpha\",\"line_color\",\"height\",\"y\",\"label\",\"width\",\"fill_alpha\",\"color\",\"x\"],\"data\":{\"chart_index\":[\"(1099.865180, 1122.311000]\"],\"color\":[\"#f22c40\"],\"fill_alpha\":[0.8],\"height\":[1852.0],\"label\":[\"(1099.865180, 1122.311000]\"],\"line_alpha\":[1.0],\"line_color\":[\"black\"],\"width\":[22.44582000000014],\"x\":[\"1111.08809\"],\"y\":[926.0]}},\"id\":\"f605e659-d9e6-4b5e-a42b-97c4c317fd57\",\"type\":\"ColumnDataSource\"},{\"attributes\":{\"data_source\":{\"id\":\"696b495e-405c-40d9-8fcb-250958ca5ea4\",\"type\":\"ColumnDataSource\"},\"glyph\":{\"id\":\"94b668cf-7990-4ed6-81d8-8d61acc20124\",\"type\":\"Rect\"},\"hover_glyph\":null,\"nonselection_glyph\":null,\"selection_glyph\":null},\"id\":\"c961c369-8e94-4e7d-9e11-0cb9c53a6d04\",\"type\":\"GlyphRenderer\"},{\"attributes\":{\"fill_alpha\":{\"field\":\"fill_alpha\"},\"fill_color\":{\"field\":\"color\"},\"height\":{\"field\":\"height\",\"units\":\"data\"},\"line_color\":{\"field\":\"line_color\"},\"width\":{\"field\":\"width\",\"units\":\"data\"},\"x\":{\"field\":\"x\"},\"y\":{\"field\":\"y\"}},\"id\":\"b103ddca-6095-47a9-a9a5-cc674d2f79e7\",\"type\":\"Rect\"},{\"attributes\":{\"fill_alpha\":{\"field\":\"fill_alpha\"},\"fill_color\":{\"field\":\"color\"},\"height\":{\"field\":\"height\",\"units\":\"data\"},\"line_color\":{\"field\":\"line_color\"},\"width\":{\"field\":\"width\",\"units\":\"data\"},\"x\":{\"field\":\"x\"},\"y\":{\"field\":\"y\"}},\"id\":\"80b3a0b1-8223-454a-a617-7e7119242f76\",\"type\":\"Rect\"},{\"attributes\":{\"callback\":null,\"column_names\":[\"line_alpha\",\"line_color\",\"height\",\"y\",\"label\",\"width\",\"fill_alpha\",\"color\",\"x\"],\"data\":{\"chart_index\":[\"(965.190260, 987.636080]\"],\"color\":[\"#f22c40\"],\"fill_alpha\":[0.8],\"height\":[107.0],\"label\":[\"(965.190260, 987.636080]\"],\"line_alpha\":[1.0],\"line_color\":[\"black\"],\"width\":[22.445820000000026],\"x\":[\"976.41317\"],\"y\":[53.5]}},\"id\":\"85f2e7dd-3c80-4f53-a732-e122c5c6f5a3\",\"type\":\"ColumnDataSource\"},{\"attributes\":{\"data_source\":{\"id\":\"9d34323e-74d2-45a8-99fb-1d1e80d69ce3\",\"type\":\"ColumnDataSource\"},\"glyph\":{\"id\":\"baba2894-22cb-4417-abba-4f633c082b5e\",\"type\":\"Rect\"},\"hover_glyph\":null,\"nonselection_glyph\":null,\"selection_glyph\":null},\"id\":\"36a8cf33-99c0-4182-82ca-9c7afab81e97\",\"type\":\"GlyphRenderer\"},{\"attributes\":{\"data_source\":{\"id\":\"78021a56-5dc9-4b02-89d9-983edc9d6128\",\"type\":\"ColumnDataSource\"},\"glyph\":{\"id\":\"a218ccac-ce8b-42e2-99e1-070e983851f3\",\"type\":\"Rect\"},\"hover_glyph\":null,\"nonselection_glyph\":null,\"selection_glyph\":null},\"id\":\"416a0865-29d0-4e6e-9eb7-3c556d9fd783\",\"type\":\"GlyphRenderer\"},{\"attributes\":{\"data_source\":{\"id\":\"b964e526-6c67-4696-bdf1-bbe9d0da016d\",\"type\":\"ColumnDataSource\"},\"glyph\":{\"id\":\"220af003-1ceb-4664-ba54-d87587cefcb0\",\"type\":\"Rect\"},\"hover_glyph\":null,\"nonselection_glyph\":null,\"selection_glyph\":null},\"id\":\"16923e8b-365e-47f1-b3ef-43d6c876934e\",\"type\":\"GlyphRenderer\"},{\"attributes\":{\"callback\":null,\"column_names\":[\"line_alpha\",\"line_color\",\"height\",\"y\",\"label\",\"width\",\"fill_alpha\",\"color\",\"x\"],\"data\":{\"chart_index\":[\"(740.732060, 763.177880]\"],\"color\":[\"#f22c40\"],\"fill_alpha\":[0.8],\"height\":[229.0],\"label\":[\"(740.732060, 763.177880]\"],\"line_alpha\":[1.0],\"line_color\":[\"black\"],\"width\":[22.445820000000026],\"x\":[\"751.95497\"],\"y\":[114.5]}},\"id\":\"ca989296-d7d3-4469-90b1-41bf8d7fb8ad\",\"type\":\"ColumnDataSource\"},{\"attributes\":{\"data_source\":{\"id\":\"d89f6fda-d8c0-475c-8802-ef9e78f490f3\",\"type\":\"ColumnDataSource\"},\"glyph\":{\"id\":\"76901bab-8ce3-4b7d-8ee7-f3c776026d20\",\"type\":\"Rect\"},\"hover_glyph\":null,\"nonselection_glyph\":null,\"selection_glyph\":null},\"id\":\"45731c52-ee57-4af1-8211-4f6b64c35caf\",\"type\":\"GlyphRenderer\"},{\"attributes\":{\"data_source\":{\"id\":\"300eff2b-55f6-4e5b-9bfa-c0dc1ec0a20c\",\"type\":\"ColumnDataSource\"},\"glyph\":{\"id\":\"303345e0-9c05-4944-b1f9-45b71d414125\",\"type\":\"Rect\"},\"hover_glyph\":null,\"nonselection_glyph\":null,\"selection_glyph\":null},\"id\":\"3ffd922f-fddb-4f6e-a58c-280faf29a616\",\"type\":\"GlyphRenderer\"},{\"attributes\":{\"data_source\":{\"id\":\"380150c4-e45b-43fd-adf5-7e75b094c19e\",\"type\":\"ColumnDataSource\"},\"glyph\":{\"id\":\"cd9a568e-56ba-467d-8e0a-2ad7f8939fdb\",\"type\":\"Rect\"},\"hover_glyph\":null,\"nonselection_glyph\":null,\"selection_glyph\":null},\"id\":\"460eb2f6-a346-4196-9336-575d3905b1bb\",\"type\":\"GlyphRenderer\"},{\"attributes\":{\"data_source\":{\"id\":\"e16590cc-d835-41d1-8ca7-6657eaffb61f\",\"type\":\"ColumnDataSource\"},\"glyph\":{\"id\":\"8bfbf9c7-898c-47f8-a153-eb76e6264aa3\",\"type\":\"Rect\"},\"hover_glyph\":null,\"nonselection_glyph\":null,\"selection_glyph\":null},\"id\":\"22c08810-3293-4ed1-a946-719c31527907\",\"type\":\"GlyphRenderer\"},{\"attributes\":{\"callback\":null,\"column_names\":[\"line_alpha\",\"line_color\",\"height\",\"y\",\"label\",\"width\",\"fill_alpha\",\"color\",\"x\"],\"data\":{\"chart_index\":[\"(1032.527720, 1054.973540]\"],\"color\":[\"#f22c40\"],\"fill_alpha\":[0.8],\"height\":[1397.0],\"label\":[\"(1032.527720, 1054.973540]\"],\"line_alpha\":[1.0],\"line_color\":[\"black\"],\"width\":[22.44582000000014],\"x\":[\"1043.75063\"],\"y\":[698.5]}},\"id\":\"af423a93-2a86-4555-841a-cb39b97d8f9f\",\"type\":\"ColumnDataSource\"},{\"attributes\":{\"callback\":null,\"column_names\":[\"line_alpha\",\"line_color\",\"height\",\"y\",\"label\",\"width\",\"fill_alpha\",\"color\",\"x\"],\"data\":{\"chart_index\":[\"(673.394600, 695.840420]\"],\"color\":[\"#f22c40\"],\"fill_alpha\":[0.8],\"height\":[1248.0],\"label\":[\"(673.394600, 695.840420]\"],\"line_alpha\":[1.0],\"line_color\":[\"black\"],\"width\":[22.445820000000026],\"x\":[\"684.61751\"],\"y\":[624.0]}},\"id\":\"380150c4-e45b-43fd-adf5-7e75b094c19e\",\"type\":\"ColumnDataSource\"},{\"attributes\":{\"callback\":null,\"column_names\":[\"line_alpha\",\"line_color\",\"height\",\"y\",\"label\",\"width\",\"fill_alpha\",\"color\",\"x\"],\"data\":{\"chart_index\":[\"(628.502960, 650.948780]\"],\"color\":[\"#f22c40\"],\"fill_alpha\":[0.8],\"height\":[870.0],\"label\":[\"(628.502960, 650.948780]\"],\"line_alpha\":[1.0],\"line_color\":[\"black\"],\"width\":[22.445820000000026],\"x\":[\"639.72587\"],\"y\":[435.0]}},\"id\":\"4d9bba9e-a207-40d3-850d-723ab0cf99eb\",\"type\":\"ColumnDataSource\"},{\"attributes\":{\"data_source\":{\"id\":\"925c30f4-908a-4cee-84b5-dc82f0c7653d\",\"type\":\"ColumnDataSource\"},\"glyph\":{\"id\":\"00ce07e6-a6cc-4eda-acbd-89701b106207\",\"type\":\"Rect\"},\"hover_glyph\":null,\"nonselection_glyph\":null,\"selection_glyph\":null},\"id\":\"2c5b349c-8bdb-40f8-a782-954feaecf089\",\"type\":\"GlyphRenderer\"},{\"attributes\":{\"data_source\":{\"id\":\"9f57be19-e9b7-4b43-8706-f1d2cce90ce2\",\"type\":\"ColumnDataSource\"},\"glyph\":{\"id\":\"c53cc0b4-599f-4cd4-86d9-11ab404ffb6f\",\"type\":\"Rect\"},\"hover_glyph\":null,\"nonselection_glyph\":null,\"selection_glyph\":null},\"id\":\"221fea44-b51c-46eb-8969-1ac36e77e388\",\"type\":\"GlyphRenderer\"},{\"attributes\":{\"data_source\":{\"id\":\"d6d8c290-a935-4b6b-9317-30a76b0d2b13\",\"type\":\"ColumnDataSource\"},\"glyph\":{\"id\":\"eb245e0d-c29e-4280-a4f8-09b0c38bdaa6\",\"type\":\"Rect\"},\"hover_glyph\":null,\"nonselection_glyph\":null,\"selection_glyph\":null},\"id\":\"14924bdd-40b8-45f7-860d-81c08b1691d4\",\"type\":\"GlyphRenderer\"},{\"attributes\":{\"data_source\":{\"id\":\"d71e545d-731d-4fca-a67e-f36a2ada1ab7\",\"type\":\"ColumnDataSource\"},\"glyph\":{\"id\":\"6223ef00-a682-4b4e-9afe-67da39b09035\",\"type\":\"Rect\"},\"hover_glyph\":null,\"nonselection_glyph\":null,\"selection_glyph\":null},\"id\":\"36a3c6ab-9334-419c-b617-e7eaac0dd33e\",\"type\":\"GlyphRenderer\"},{\"attributes\":{\"callback\":null,\"column_names\":[\"line_alpha\",\"line_color\",\"height\",\"y\",\"label\",\"width\",\"fill_alpha\",\"color\",\"x\"],\"data\":{\"chart_index\":[\"(493.828040, 516.273860]\"],\"color\":[\"#f22c40\"],\"fill_alpha\":[0.8],\"height\":[0.0],\"label\":[\"(493.828040, 516.273860]\"],\"line_alpha\":[1.0],\"line_color\":[\"black\"],\"width\":[22.44581999999997],\"x\":[\"505.05095\"],\"y\":[0.0]}},\"id\":\"2cb87c67-8dba-471b-abb8-ff46612762fb\",\"type\":\"ColumnDataSource\"},{\"attributes\":{\"data_source\":{\"id\":\"39b0d7f7-2787-4013-9d30-b4cd16c7941c\",\"type\":\"ColumnDataSource\"},\"glyph\":{\"id\":\"fd52e60a-84a9-426a-8c8e-0ff5cf3b88f1\",\"type\":\"Rect\"},\"hover_glyph\":null,\"nonselection_glyph\":null,\"selection_glyph\":null},\"id\":\"fe145c17-f2a3-4fae-85c4-762ba458b5e9\",\"type\":\"GlyphRenderer\"},{\"attributes\":{\"data_source\":{\"id\":\"2cb87c67-8dba-471b-abb8-ff46612762fb\",\"type\":\"ColumnDataSource\"},\"glyph\":{\"id\":\"380f46e9-94e3-45b8-bfcf-b656518e4187\",\"type\":\"Rect\"},\"hover_glyph\":null,\"nonselection_glyph\":null,\"selection_glyph\":null},\"id\":\"3f17ad44-ad90-4876-b7f0-d847013134c7\",\"type\":\"GlyphRenderer\"},{\"attributes\":{\"callback\":null,\"column_names\":[\"line_alpha\",\"line_color\",\"height\",\"y\",\"label\",\"width\",\"fill_alpha\",\"color\",\"x\"],\"data\":{\"chart_index\":[\"(830.515340, 852.961160]\"],\"color\":[\"#f22c40\"],\"fill_alpha\":[0.8],\"height\":[2681.0],\"label\":[\"(830.515340, 852.961160]\"],\"line_alpha\":[1.0],\"line_color\":[\"black\"],\"width\":[22.445819999999912],\"x\":[\"841.73825\"],\"y\":[1340.5]}},\"id\":\"2da43712-43d6-4fc6-8649-4d6bdf2576d2\",\"type\":\"ColumnDataSource\"},{\"attributes\":{\"callback\":null,\"column_names\":[\"line_alpha\",\"line_color\",\"height\",\"y\",\"label\",\"width\",\"fill_alpha\",\"color\",\"x\"],\"data\":{\"chart_index\":[\"(359.153120, 381.598940]\"],\"color\":[\"#f22c40\"],\"fill_alpha\":[0.8],\"height\":[2788.0],\"label\":[\"(359.153120, 381.598940]\"],\"line_alpha\":[1.0],\"line_color\":[\"black\"],\"width\":[22.445820000000026],\"x\":[\"370.37603\"],\"y\":[1394.0]}},\"id\":\"9d34323e-74d2-45a8-99fb-1d1e80d69ce3\",\"type\":\"ColumnDataSource\"},{\"attributes\":{\"fill_alpha\":{\"field\":\"fill_alpha\"},\"fill_color\":{\"field\":\"color\"},\"height\":{\"field\":\"height\",\"units\":\"data\"},\"line_color\":{\"field\":\"line_color\"},\"width\":{\"field\":\"width\",\"units\":\"data\"},\"x\":{\"field\":\"x\"},\"y\":{\"field\":\"y\"}},\"id\":\"2569558e-ae63-4c53-bf8f-dd21f1b10e66\",\"type\":\"Rect\"},{\"attributes\":{\"callback\":null,\"column_names\":[\"line_alpha\",\"line_color\",\"height\",\"y\",\"label\",\"width\",\"fill_alpha\",\"color\",\"x\"],\"data\":{\"chart_index\":[\"[0.020000, 22.465820]\"],\"color\":[\"#f22c40\"],\"fill_alpha\":[0.8],\"height\":[2243.0],\"label\":[\"[0.020000, 22.465820]\"],\"line_alpha\":[1.0],\"line_color\":[\"black\"],\"width\":[22.445819999999998],\"x\":[\"11.24291\"],\"y\":[1121.5]}},\"id\":\"39b0d7f7-2787-4013-9d30-b4cd16c7941c\",\"type\":\"ColumnDataSource\"},{\"attributes\":{\"callback\":null,\"column_names\":[\"line_alpha\",\"line_color\",\"height\",\"y\",\"label\",\"width\",\"fill_alpha\",\"color\",\"x\"],\"data\":{\"chart_index\":[\"(291.815660, 314.261480]\"],\"color\":[\"#f22c40\"],\"fill_alpha\":[0.8],\"height\":[421.0],\"label\":[\"(291.815660, 314.261480]\"],\"line_alpha\":[1.0],\"line_color\":[\"black\"],\"width\":[22.44581999999997],\"x\":[\"303.03857\"],\"y\":[210.5]}},\"id\":\"6d75dd0c-54d1-424b-a53a-1a9f7468ee7f\",\"type\":\"ColumnDataSource\"},{\"attributes\":{\"active_drag\":\"auto\",\"active_scroll\":\"auto\",\"active_tap\":\"auto\",\"tools\":[{\"id\":\"680da408-5d1b-4502-bf36-91ae676a3e10\",\"type\":\"PanTool\"},{\"id\":\"dfd0efd2-dd84-4927-b85c-5563fe28821b\",\"type\":\"WheelZoomTool\"},{\"id\":\"c4a75df4-eddf-4045-b562-1edb5bde7be1\",\"type\":\"BoxZoomTool\"},{\"id\":\"fb37f625-78bf-4871-84a8-7899c29c49b9\",\"type\":\"SaveTool\"},{\"id\":\"ac58e8ee-f5e9-4805-80a3-e020520767c0\",\"type\":\"ResetTool\"},{\"id\":\"d3c9c127-8a27-48e2-82be-18230fac4884\",\"type\":\"HelpTool\"}]},\"id\":\"6647a155-d3b1-4f25-ade6-037e79d458da\",\"type\":\"Toolbar\"},{\"attributes\":{},\"id\":\"e7dbc18d-7e1e-44cb-b070-d28da876c080\",\"type\":\"BasicTicker\"},{\"attributes\":{\"plot\":{\"id\":\"29d700dc-bcbb-4150-a7f3-553d1143b77e\",\"subtype\":\"Chart\",\"type\":\"Plot\"}},\"id\":\"ac58e8ee-f5e9-4805-80a3-e020520767c0\",\"type\":\"ResetTool\"},{\"attributes\":{\"axis_label\":\"Count( Size )\",\"formatter\":{\"id\":\"40a6b5d0-9476-4d3f-b07f-3a3ee74688ed\",\"type\":\"BasicTickFormatter\"},\"plot\":{\"id\":\"29d700dc-bcbb-4150-a7f3-553d1143b77e\",\"subtype\":\"Chart\",\"type\":\"Plot\"},\"ticker\":{\"id\":\"1f60ba54-1da1-4a61-acd2-344bda027357\",\"type\":\"BasicTicker\"}},\"id\":\"1f3541d3-498e-4a7c-b9ab-efb059475af4\",\"type\":\"LinearAxis\"},{\"attributes\":{\"fill_alpha\":{\"field\":\"fill_alpha\"},\"fill_color\":{\"field\":\"color\"},\"height\":{\"field\":\"height\",\"units\":\"data\"},\"line_color\":{\"field\":\"line_color\"},\"width\":{\"field\":\"width\",\"units\":\"data\"},\"x\":{\"field\":\"x\"},\"y\":{\"field\":\"y\"}},\"id\":\"8bfbf9c7-898c-47f8-a153-eb76e6264aa3\",\"type\":\"Rect\"},{\"attributes\":{\"data_source\":{\"id\":\"79f7c0f5-fbb8-4b56-841e-dde1065ac65c\",\"type\":\"ColumnDataSource\"},\"glyph\":{\"id\":\"8d0958d3-37b7-4ac4-b360-1b1a1f6e3bf6\",\"type\":\"Rect\"},\"hover_glyph\":null,\"nonselection_glyph\":null,\"selection_glyph\":null},\"id\":\"fa1c0b9f-4886-4b50-98d7-ab4b625fc56b\",\"type\":\"GlyphRenderer\"},{\"attributes\":{\"data_source\":{\"id\":\"088ec86d-e692-42b9-96df-d29b7f0e08eb\",\"type\":\"ColumnDataSource\"},\"glyph\":{\"id\":\"48472d91-06eb-4325-9b0c-733800040d25\",\"type\":\"Rect\"},\"hover_glyph\":null,\"nonselection_glyph\":null,\"selection_glyph\":null},\"id\":\"3d293aee-3135-4581-a4f4-3be73b355c94\",\"type\":\"GlyphRenderer\"},{\"attributes\":{\"data_source\":{\"id\":\"2da43712-43d6-4fc6-8649-4d6bdf2576d2\",\"type\":\"ColumnDataSource\"},\"glyph\":{\"id\":\"b103ddca-6095-47a9-a9a5-cc674d2f79e7\",\"type\":\"Rect\"},\"hover_glyph\":null,\"nonselection_glyph\":null,\"selection_glyph\":null},\"id\":\"b05a31bf-d908-419c-bd5a-bf97414d3ce2\",\"type\":\"GlyphRenderer\"},{\"attributes\":{\"data_source\":{\"id\":\"9777a5c6-dc6f-452b-88cc-6c360a89979c\",\"type\":\"ColumnDataSource\"},\"glyph\":{\"id\":\"a0444180-2319-439e-95bf-4d8c66ab7882\",\"type\":\"Rect\"},\"hover_glyph\":null,\"nonselection_glyph\":null,\"selection_glyph\":null},\"id\":\"6d1176c7-5b0e-4895-b016-698a6c11fa0a\",\"type\":\"GlyphRenderer\"},{\"attributes\":{\"data_source\":{\"id\":\"7fb9d880-2c21-4932-b9a5-9f5c607dfcfa\",\"type\":\"ColumnDataSource\"},\"glyph\":{\"id\":\"2569558e-ae63-4c53-bf8f-dd21f1b10e66\",\"type\":\"Rect\"},\"hover_glyph\":null,\"nonselection_glyph\":null,\"selection_glyph\":null},\"id\":\"f4d84c2b-93e2-4eec-af48-00be1772ff7e\",\"type\":\"GlyphRenderer\"},{\"attributes\":{\"fill_alpha\":{\"field\":\"fill_alpha\"},\"fill_color\":{\"field\":\"color\"},\"height\":{\"field\":\"height\",\"units\":\"data\"},\"line_color\":{\"field\":\"line_color\"},\"width\":{\"field\":\"width\",\"units\":\"data\"},\"x\":{\"field\":\"x\"},\"y\":{\"field\":\"y\"}},\"id\":\"82d3db63-1650-4afb-ba3e-be8220cee542\",\"type\":\"Rect\"},{\"attributes\":{\"callback\":null,\"column_names\":[\"line_alpha\",\"line_color\",\"height\",\"y\",\"label\",\"width\",\"fill_alpha\",\"color\",\"x\"],\"data\":{\"chart_index\":[\"(269.369840, 291.815660]\"],\"color\":[\"#f22c40\"],\"fill_alpha\":[0.8],\"height\":[329.0],\"label\":[\"(269.369840, 291.815660]\"],\"line_alpha\":[1.0],\"line_color\":[\"black\"],\"width\":[22.445820000000026],\"x\":[\"280.59275\"],\"y\":[164.5]}},\"id\":\"ed91616a-56b8-4a21-b8b6-90487e601099\",\"type\":\"ColumnDataSource\"},{\"attributes\":{\"fill_alpha\":{\"field\":\"fill_alpha\"},\"fill_color\":{\"field\":\"color\"},\"height\":{\"field\":\"height\",\"units\":\"data\"},\"line_color\":{\"field\":\"line_color\"},\"width\":{\"field\":\"width\",\"units\":\"data\"},\"x\":{\"field\":\"x\"},\"y\":{\"field\":\"y\"}},\"id\":\"a6b57493-7392-4548-8e2a-7d9c4fc7866f\",\"type\":\"Rect\"},{\"attributes\":{\"callback\":null,\"column_names\":[\"line_alpha\",\"line_color\",\"height\",\"y\",\"label\",\"width\",\"fill_alpha\",\"color\",\"x\"],\"data\":{\"chart_index\":[\"(538.719680, 561.165500]\"],\"color\":[\"#f22c40\"],\"fill_alpha\":[0.8],\"height\":[6.0],\"label\":[\"(538.719680, 561.165500]\"],\"line_alpha\":[1.0],\"line_color\":[\"black\"],\"width\":[22.445820000000026],\"x\":[\"549.94259\"],\"y\":[3.0]}},\"id\":\"cf82dc32-2c40-4602-a809-ab9215b4c90d\",\"type\":\"ColumnDataSource\"},{\"attributes\":{\"fill_alpha\":{\"field\":\"fill_alpha\"},\"fill_color\":{\"field\":\"color\"},\"height\":{\"field\":\"height\",\"units\":\"data\"},\"line_color\":{\"field\":\"line_color\"},\"width\":{\"field\":\"width\",\"units\":\"data\"},\"x\":{\"field\":\"x\"},\"y\":{\"field\":\"y\"}},\"id\":\"09635269-bcb4-436a-a3e3-5cf2a34bec4d\",\"type\":\"Rect\"},{\"attributes\":{\"callback\":null,\"column_names\":[\"line_alpha\",\"line_color\",\"height\",\"y\",\"label\",\"width\",\"fill_alpha\",\"color\",\"x\"],\"data\":{\"chart_index\":[\"(987.636080, 1010.081900]\"],\"color\":[\"#f22c40\"],\"fill_alpha\":[0.8],\"height\":[97.0],\"label\":[\"(987.636080, 1010.081900]\"],\"line_alpha\":[1.0],\"line_color\":[\"black\"],\"width\":[22.445820000000026],\"x\":[\"998.85899\"],\"y\":[48.5]}},\"id\":\"b5dbc76c-99e1-48f2-a5a6-478692a4d0f2\",\"type\":\"ColumnDataSource\"},{\"attributes\":{\"data_source\":{\"id\":\"96ab7961-c6a0-4814-9341-defdb2adb1d1\",\"type\":\"ColumnDataSource\"},\"glyph\":{\"id\":\"394e5eaa-108b-40b8-ae6c-ad44176ae771\",\"type\":\"Rect\"},\"hover_glyph\":null,\"nonselection_glyph\":null,\"selection_glyph\":null},\"id\":\"25869cb2-50b5-483a-b907-c2220542909b\",\"type\":\"GlyphRenderer\"},{\"attributes\":{\"callback\":null,\"column_names\":[\"line_alpha\",\"line_color\",\"height\",\"y\",\"label\",\"width\",\"fill_alpha\",\"color\",\"x\"],\"data\":{\"chart_index\":[\"(89.803280, 112.249100]\"],\"color\":[\"#f22c40\"],\"fill_alpha\":[0.8],\"height\":[7485.0],\"label\":[\"(89.803280, 112.249100]\"],\"line_alpha\":[1.0],\"line_color\":[\"black\"],\"width\":[22.445819999999998],\"x\":[\"101.02619\"],\"y\":[3742.5]}},\"id\":\"78021a56-5dc9-4b02-89d9-983edc9d6128\",\"type\":\"ColumnDataSource\"},{\"attributes\":{\"overlay\":{\"id\":\"30c7345e-dfbc-4684-882e-aa3a7627c8c1\",\"type\":\"BoxAnnotation\"},\"plot\":{\"id\":\"29d700dc-bcbb-4150-a7f3-553d1143b77e\",\"subtype\":\"Chart\",\"type\":\"Plot\"}},\"id\":\"c4a75df4-eddf-4045-b562-1edb5bde7be1\",\"type\":\"BoxZoomTool\"},{\"attributes\":{\"fill_alpha\":{\"field\":\"fill_alpha\"},\"fill_color\":{\"field\":\"color\"},\"height\":{\"field\":\"height\",\"units\":\"data\"},\"line_color\":{\"field\":\"line_color\"},\"width\":{\"field\":\"width\",\"units\":\"data\"},\"x\":{\"field\":\"x\"},\"y\":{\"field\":\"y\"}},\"id\":\"f4bb7bed-a901-4be3-97c0-83d64540502c\",\"type\":\"Rect\"},{\"attributes\":{\"fill_alpha\":{\"field\":\"fill_alpha\"},\"fill_color\":{\"field\":\"color\"},\"height\":{\"field\":\"height\",\"units\":\"data\"},\"line_color\":{\"field\":\"line_color\"},\"width\":{\"field\":\"width\",\"units\":\"data\"},\"x\":{\"field\":\"x\"},\"y\":{\"field\":\"y\"}},\"id\":\"8d0958d3-37b7-4ac4-b360-1b1a1f6e3bf6\",\"type\":\"Rect\"},{\"attributes\":{\"callback\":null,\"column_names\":[\"line_alpha\",\"line_color\",\"height\",\"y\",\"label\",\"width\",\"fill_alpha\",\"color\",\"x\"],\"data\":{\"chart_index\":[\"(920.298620, 942.744440]\"],\"color\":[\"#f22c40\"],\"fill_alpha\":[0.8],\"height\":[1879.0],\"label\":[\"(920.298620, 942.744440]\"],\"line_alpha\":[1.0],\"line_color\":[\"black\"],\"width\":[22.445820000000026],\"x\":[\"931.52153\"],\"y\":[939.5]}},\"id\":\"9a399b2f-39bd-4e07-8287-97bc37980559\",\"type\":\"ColumnDataSource\"},{\"attributes\":{\"data_source\":{\"id\":\"4d9bba9e-a207-40d3-850d-723ab0cf99eb\",\"type\":\"ColumnDataSource\"},\"glyph\":{\"id\":\"109b0382-a9aa-4860-b777-295bda85895a\",\"type\":\"Rect\"},\"hover_glyph\":null,\"nonselection_glyph\":null,\"selection_glyph\":null},\"id\":\"21f7bbb3-e811-4a00-80fe-a17e22fdc79a\",\"type\":\"GlyphRenderer\"},{\"attributes\":{\"fill_alpha\":{\"field\":\"fill_alpha\"},\"fill_color\":{\"field\":\"color\"},\"height\":{\"field\":\"height\",\"units\":\"data\"},\"line_color\":{\"field\":\"line_color\"},\"width\":{\"field\":\"width\",\"units\":\"data\"},\"x\":{\"field\":\"x\"},\"y\":{\"field\":\"y\"}},\"id\":\"394e5eaa-108b-40b8-ae6c-ad44176ae771\",\"type\":\"Rect\"},{\"attributes\":{\"fill_alpha\":{\"field\":\"fill_alpha\"},\"fill_color\":{\"field\":\"color\"},\"height\":{\"field\":\"height\",\"units\":\"data\"},\"line_color\":{\"field\":\"line_color\"},\"width\":{\"field\":\"width\",\"units\":\"data\"},\"x\":{\"field\":\"x\"},\"y\":{\"field\":\"y\"}},\"id\":\"00ce07e6-a6cc-4eda-acbd-89701b106207\",\"type\":\"Rect\"},{\"attributes\":{\"callback\":null,\"column_names\":[\"line_alpha\",\"line_color\",\"height\",\"y\",\"label\",\"width\",\"fill_alpha\",\"color\",\"x\"],\"data\":{\"chart_index\":[\"(763.177880, 785.623700]\"],\"color\":[\"#f22c40\"],\"fill_alpha\":[0.8],\"height\":[1884.0],\"label\":[\"(763.177880, 785.623700]\"],\"line_alpha\":[1.0],\"line_color\":[\"black\"],\"width\":[22.445819999999912],\"x\":[\"774.4007899999999\"],\"y\":[942.0]}},\"id\":\"3dff4603-32d8-40ef-ae2b-55b7a11f29a9\",\"type\":\"ColumnDataSource\"},{\"attributes\":{},\"id\":\"199b681a-dcd2-4580-9f9e-3b615fd5cb54\",\"type\":\"ToolEvents\"},{\"attributes\":{\"callback\":null,\"column_names\":[\"line_alpha\",\"line_color\",\"height\",\"y\",\"label\",\"width\",\"fill_alpha\",\"color\",\"x\"],\"data\":{\"chart_index\":[\"(695.840420, 718.286240]\"],\"color\":[\"#f22c40\"],\"fill_alpha\":[0.8],\"height\":[351.0],\"label\":[\"(695.840420, 718.286240]\"],\"line_alpha\":[1.0],\"line_color\":[\"black\"],\"width\":[22.445820000000026],\"x\":[\"707.06333\"],\"y\":[175.5]}},\"id\":\"7fb9d880-2c21-4932-b9a5-9f5c607dfcfa\",\"type\":\"ColumnDataSource\"},{\"attributes\":{\"fill_alpha\":{\"field\":\"fill_alpha\"},\"fill_color\":{\"field\":\"color\"},\"height\":{\"field\":\"height\",\"units\":\"data\"},\"line_color\":{\"field\":\"line_color\"},\"width\":{\"field\":\"width\",\"units\":\"data\"},\"x\":{\"field\":\"x\"},\"y\":{\"field\":\"y\"}},\"id\":\"5e0197ca-30f8-4786-b734-17963affadd4\",\"type\":\"Rect\"},{\"attributes\":{\"plot\":{\"id\":\"29d700dc-bcbb-4150-a7f3-553d1143b77e\",\"subtype\":\"Chart\",\"type\":\"Plot\"}},\"id\":\"d3c9c127-8a27-48e2-82be-18230fac4884\",\"type\":\"HelpTool\"},{\"attributes\":{\"data_source\":{\"id\":\"cf82dc32-2c40-4602-a809-ab9215b4c90d\",\"type\":\"ColumnDataSource\"},\"glyph\":{\"id\":\"09fae645-730a-4bfc-a242-6976533d3148\",\"type\":\"Rect\"},\"hover_glyph\":null,\"nonselection_glyph\":null,\"selection_glyph\":null},\"id\":\"d059e487-4229-4645-9772-b4880d3c5a90\",\"type\":\"GlyphRenderer\"},{\"attributes\":{\"callback\":null,\"column_names\":[\"line_alpha\",\"line_color\",\"height\",\"y\",\"label\",\"width\",\"fill_alpha\",\"color\",\"x\"],\"data\":{\"chart_index\":[\"(650.948780, 673.394600]\"],\"color\":[\"#f22c40\"],\"fill_alpha\":[0.8],\"height\":[1432.0],\"label\":[\"(650.948780, 673.394600]\"],\"line_alpha\":[1.0],\"line_color\":[\"black\"],\"width\":[22.445819999999912],\"x\":[\"662.17169\"],\"y\":[716.0]}},\"id\":\"e28f2e4f-de0e-46fb-965f-badbdf82e66f\",\"type\":\"ColumnDataSource\"},{\"attributes\":{\"callback\":null,\"column_names\":[\"line_alpha\",\"line_color\",\"height\",\"y\",\"label\",\"width\",\"fill_alpha\",\"color\",\"x\"],\"data\":{\"chart_index\":[\"(44.911640, 67.357460]\"],\"color\":[\"#f22c40\"],\"fill_alpha\":[0.8],\"height\":[16716.0],\"label\":[\"(44.911640, 67.357460]\"],\"line_alpha\":[1.0],\"line_color\":[\"black\"],\"width\":[22.44581999999999],\"x\":[\"56.134550000000004\"],\"y\":[8358.0]}},\"id\":\"696b495e-405c-40d9-8fcb-250958ca5ea4\",\"type\":\"ColumnDataSource\"},{\"attributes\":{\"fill_alpha\":{\"field\":\"fill_alpha\"},\"fill_color\":{\"field\":\"color\"},\"height\":{\"field\":\"height\",\"units\":\"data\"},\"line_color\":{\"field\":\"line_color\"},\"width\":{\"field\":\"width\",\"units\":\"data\"},\"x\":{\"field\":\"x\"},\"y\":{\"field\":\"y\"}},\"id\":\"6223ef00-a682-4b4e-9afe-67da39b09035\",\"type\":\"Rect\"},{\"attributes\":{\"callback\":null,\"column_names\":[\"line_alpha\",\"line_color\",\"height\",\"y\",\"label\",\"width\",\"fill_alpha\",\"color\",\"x\"],\"data\":{\"chart_index\":[\"(67.357460, 89.803280]\"],\"color\":[\"#f22c40\"],\"fill_alpha\":[0.8],\"height\":[61677.0],\"label\":[\"(67.357460, 89.803280]\"],\"line_alpha\":[1.0],\"line_color\":[\"black\"],\"width\":[22.445819999999998],\"x\":[\"78.58037\"],\"y\":[30838.5]}},\"id\":\"79f7c0f5-fbb8-4b56-841e-dde1065ac65c\",\"type\":\"ColumnDataSource\"},{\"attributes\":{\"fill_alpha\":{\"field\":\"fill_alpha\"},\"fill_color\":{\"field\":\"color\"},\"height\":{\"field\":\"height\",\"units\":\"data\"},\"line_color\":{\"field\":\"line_color\"},\"width\":{\"field\":\"width\",\"units\":\"data\"},\"x\":{\"field\":\"x\"},\"y\":{\"field\":\"y\"}},\"id\":\"48472d91-06eb-4325-9b0c-733800040d25\",\"type\":\"Rect\"},{\"attributes\":{\"plot\":{\"id\":\"29d700dc-bcbb-4150-a7f3-553d1143b77e\",\"subtype\":\"Chart\",\"type\":\"Plot\"}},\"id\":\"fb37f625-78bf-4871-84a8-7899c29c49b9\",\"type\":\"SaveTool\"},{\"attributes\":{\"fill_alpha\":{\"field\":\"fill_alpha\"},\"fill_color\":{\"field\":\"color\"},\"height\":{\"field\":\"height\",\"units\":\"data\"},\"line_color\":{\"field\":\"line_color\"},\"width\":{\"field\":\"width\",\"units\":\"data\"},\"x\":{\"field\":\"x\"},\"y\":{\"field\":\"y\"}},\"id\":\"8abbc83c-7cae-4e8f-ba24-81d6a6042b83\",\"type\":\"Rect\"},{\"attributes\":{\"data_source\":{\"id\":\"bdaf132a-ffa8-4c8f-b853-4b390b5644f1\",\"type\":\"ColumnDataSource\"},\"glyph\":{\"id\":\"585bda9c-aaaf-4ddc-9be0-bf5ca35c7aac\",\"type\":\"Rect\"},\"hover_glyph\":null,\"nonselection_glyph\":null,\"selection_glyph\":null},\"id\":\"ec7e7401-da6c-49fc-8aa4-65c70aa72f57\",\"type\":\"GlyphRenderer\"},{\"attributes\":{\"callback\":null,\"end\":1150.3692750000002,\"start\":-28.038275000000006},\"id\":\"37e19794-3138-4d5f-a55b-e62310ec31d6\",\"type\":\"Range1d\"},{\"attributes\":{\"callback\":null,\"column_names\":[\"line_alpha\",\"line_color\",\"height\",\"y\",\"label\",\"width\",\"fill_alpha\",\"color\",\"x\"],\"data\":{\"chart_index\":[\"(404.044760, 426.490580]\"],\"color\":[\"#f22c40\"],\"fill_alpha\":[0.8],\"height\":[5227.0],\"label\":[\"(404.044760, 426.490580]\"],\"line_alpha\":[1.0],\"line_color\":[\"black\"],\"width\":[22.44581999999997],\"x\":[\"415.26767\"],\"y\":[2613.5]}},\"id\":\"d6d8c290-a935-4b6b-9317-30a76b0d2b13\",\"type\":\"ColumnDataSource\"},{\"attributes\":{\"data_source\":{\"id\":\"6d75dd0c-54d1-424b-a53a-1a9f7468ee7f\",\"type\":\"ColumnDataSource\"},\"glyph\":{\"id\":\"a6b57493-7392-4548-8e2a-7d9c4fc7866f\",\"type\":\"Rect\"},\"hover_glyph\":null,\"nonselection_glyph\":null,\"selection_glyph\":null},\"id\":\"6e2144a4-ae82-4157-bc17-40ae476a5b39\",\"type\":\"GlyphRenderer\"},{\"attributes\":{\"callback\":null,\"column_names\":[\"line_alpha\",\"line_color\",\"height\",\"y\",\"label\",\"width\",\"fill_alpha\",\"color\",\"x\"],\"data\":{\"chart_index\":[\"(852.961160, 875.406980]\"],\"color\":[\"#f22c40\"],\"fill_alpha\":[0.8],\"height\":[1294.0],\"label\":[\"(852.961160, 875.406980]\"],\"line_alpha\":[1.0],\"line_color\":[\"black\"],\"width\":[22.445820000000026],\"x\":[\"864.18407\"],\"y\":[647.0]}},\"id\":\"5580a32b-247c-4f0d-9017-f245d4630885\",\"type\":\"ColumnDataSource\"},{\"attributes\":{\"callback\":null,\"column_names\":[\"line_alpha\",\"line_color\",\"height\",\"y\",\"label\",\"width\",\"fill_alpha\",\"color\",\"x\"],\"data\":{\"chart_index\":[\"(718.286240, 740.732060]\"],\"color\":[\"#f22c40\"],\"fill_alpha\":[0.8],\"height\":[131.0],\"label\":[\"(718.286240, 740.732060]\"],\"line_alpha\":[1.0],\"line_color\":[\"black\"],\"width\":[22.445820000000026],\"x\":[\"729.5091500000001\"],\"y\":[65.5]}},\"id\":\"b964e526-6c67-4696-bdf1-bbe9d0da016d\",\"type\":\"ColumnDataSource\"},{\"attributes\":{},\"id\":\"1f60ba54-1da1-4a61-acd2-344bda027357\",\"type\":\"BasicTicker\"},{\"attributes\":{\"callback\":null,\"column_names\":[\"line_alpha\",\"line_color\",\"height\",\"y\",\"label\",\"width\",\"fill_alpha\",\"color\",\"x\"],\"data\":{\"chart_index\":[\"(426.490580, 448.936400]\"],\"color\":[\"#f22c40\"],\"fill_alpha\":[0.8],\"height\":[1371.0],\"label\":[\"(426.490580, 448.936400]\"],\"line_alpha\":[1.0],\"line_color\":[\"black\"],\"width\":[22.445820000000026],\"x\":[\"437.71349\"],\"y\":[685.5]}},\"id\":\"300eff2b-55f6-4e5b-9bfa-c0dc1ec0a20c\",\"type\":\"ColumnDataSource\"},{\"attributes\":{\"callback\":null,\"column_names\":[\"line_alpha\",\"line_color\",\"height\",\"y\",\"label\",\"width\",\"fill_alpha\",\"color\",\"x\"],\"data\":{\"chart_index\":[\"(583.611320, 606.057140]\"],\"color\":[\"#f22c40\"],\"fill_alpha\":[0.8],\"height\":[57.0],\"label\":[\"(583.611320, 606.057140]\"],\"line_alpha\":[1.0],\"line_color\":[\"black\"],\"width\":[22.445819999999912],\"x\":[\"594.8342299999999\"],\"y\":[28.5]}},\"id\":\"fe1b50cb-1f81-40d2-a79f-0b7e587cf0dd\",\"type\":\"ColumnDataSource\"},{\"attributes\":{\"fill_alpha\":{\"field\":\"fill_alpha\"},\"fill_color\":{\"field\":\"color\"},\"height\":{\"field\":\"height\",\"units\":\"data\"},\"line_color\":{\"field\":\"line_color\"},\"width\":{\"field\":\"width\",\"units\":\"data\"},\"x\":{\"field\":\"x\"},\"y\":{\"field\":\"y\"}},\"id\":\"09d479ea-a008-4a95-ae03-dd87276c8b72\",\"type\":\"Rect\"},{\"attributes\":{\"data_source\":{\"id\":\"5580a32b-247c-4f0d-9017-f245d4630885\",\"type\":\"ColumnDataSource\"},\"glyph\":{\"id\":\"09635269-bcb4-436a-a3e3-5cf2a34bec4d\",\"type\":\"Rect\"},\"hover_glyph\":null,\"nonselection_glyph\":null,\"selection_glyph\":null},\"id\":\"1aa61ff2-30a6-4e04-8f27-c87875bad156\",\"type\":\"GlyphRenderer\"},{\"attributes\":{\"fill_alpha\":{\"field\":\"fill_alpha\"},\"fill_color\":{\"field\":\"color\"},\"height\":{\"field\":\"height\",\"units\":\"data\"},\"line_color\":{\"field\":\"line_color\"},\"width\":{\"field\":\"width\",\"units\":\"data\"},\"x\":{\"field\":\"x\"},\"y\":{\"field\":\"y\"}},\"id\":\"6ecd32ee-0014-49c4-af38-147c6ad54ca9\",\"type\":\"Rect\"},{\"attributes\":{\"data_source\":{\"id\":\"a0ab4679-56a1-42e8-a5d9-fbf12d742444\",\"type\":\"ColumnDataSource\"},\"glyph\":{\"id\":\"afa5f71b-254c-4800-b9d1-1e200fff3aac\",\"type\":\"Rect\"},\"hover_glyph\":null,\"nonselection_glyph\":null,\"selection_glyph\":null},\"id\":\"9da14335-a957-44bf-b56b-c4a349af713a\",\"type\":\"GlyphRenderer\"},{\"attributes\":{\"callback\":null,\"column_names\":[\"line_alpha\",\"line_color\",\"height\",\"y\",\"label\",\"width\",\"fill_alpha\",\"color\",\"x\"],\"data\":{\"chart_index\":[\"(134.694920, 157.140740]\"],\"color\":[\"#f22c40\"],\"fill_alpha\":[0.8],\"height\":[6436.0],\"label\":[\"(134.694920, 157.140740]\"],\"line_alpha\":[1.0],\"line_color\":[\"black\"],\"width\":[22.445819999999998],\"x\":[\"145.91782999999998\"],\"y\":[3218.0]}},\"id\":\"a0ab4679-56a1-42e8-a5d9-fbf12d742444\",\"type\":\"ColumnDataSource\"},{\"attributes\":{\"callback\":null,\"column_names\":[\"line_alpha\",\"line_color\",\"height\",\"y\",\"label\",\"width\",\"fill_alpha\",\"color\",\"x\"],\"data\":{\"chart_index\":[\"(314.261480, 336.707300]\"],\"color\":[\"#f22c40\"],\"fill_alpha\":[0.8],\"height\":[130.0],\"label\":[\"(314.261480, 336.707300]\"],\"line_alpha\":[1.0],\"line_color\":[\"black\"],\"width\":[22.44581999999997],\"x\":[\"325.48438999999996\"],\"y\":[65.0]}},\"id\":\"19b79586-1348-4374-99bf-fcb985ce9e4b\",\"type\":\"ColumnDataSource\"},{\"attributes\":{\"data_source\":{\"id\":\"f605e659-d9e6-4b5e-a42b-97c4c317fd57\",\"type\":\"ColumnDataSource\"},\"glyph\":{\"id\":\"09d479ea-a008-4a95-ae03-dd87276c8b72\",\"type\":\"Rect\"},\"hover_glyph\":null,\"nonselection_glyph\":null,\"selection_glyph\":null},\"id\":\"4a8ca651-1761-40a9-bc5a-f1f5c4c88fdc\",\"type\":\"GlyphRenderer\"},{\"attributes\":{\"fill_alpha\":{\"field\":\"fill_alpha\"},\"fill_color\":{\"field\":\"color\"},\"height\":{\"field\":\"height\",\"units\":\"data\"},\"line_color\":{\"field\":\"line_color\"},\"width\":{\"field\":\"width\",\"units\":\"data\"},\"x\":{\"field\":\"x\"},\"y\":{\"field\":\"y\"}},\"id\":\"a3359aee-17e7-489c-9a21-342da31b6ab4\",\"type\":\"Rect\"},{\"attributes\":{\"callback\":null,\"column_names\":[\"line_alpha\",\"line_color\",\"height\",\"y\",\"label\",\"width\",\"fill_alpha\",\"color\",\"x\"],\"data\":{\"chart_index\":[\"(179.586560, 202.032380]\"],\"color\":[\"#f22c40\"],\"fill_alpha\":[0.8],\"height\":[59955.0],\"label\":[\"(179.586560, 202.032380]\"],\"line_alpha\":[1.0],\"line_color\":[\"black\"],\"width\":[22.445819999999998],\"x\":[\"190.80946999999998\"],\"y\":[29977.5]}},\"id\":\"9f57be19-e9b7-4b43-8706-f1d2cce90ce2\",\"type\":\"ColumnDataSource\"},{\"attributes\":{\"fill_alpha\":{\"field\":\"fill_alpha\"},\"fill_color\":{\"field\":\"color\"},\"height\":{\"field\":\"height\",\"units\":\"data\"},\"line_color\":{\"field\":\"line_color\"},\"width\":{\"field\":\"width\",\"units\":\"data\"},\"x\":{\"field\":\"x\"},\"y\":{\"field\":\"y\"}},\"id\":\"bd48f6bc-c5ad-46a3-b958-264240974b8e\",\"type\":\"Rect\"},{\"attributes\":{\"fill_alpha\":{\"field\":\"fill_alpha\"},\"fill_color\":{\"field\":\"color\"},\"height\":{\"field\":\"height\",\"units\":\"data\"},\"line_color\":{\"field\":\"line_color\"},\"width\":{\"field\":\"width\",\"units\":\"data\"},\"x\":{\"field\":\"x\"},\"y\":{\"field\":\"y\"}},\"id\":\"afa5f71b-254c-4800-b9d1-1e200fff3aac\",\"type\":\"Rect\"},{\"attributes\":{\"fill_alpha\":{\"field\":\"fill_alpha\"},\"fill_color\":{\"field\":\"color\"},\"height\":{\"field\":\"height\",\"units\":\"data\"},\"line_color\":{\"field\":\"line_color\"},\"width\":{\"field\":\"width\",\"units\":\"data\"},\"x\":{\"field\":\"x\"},\"y\":{\"field\":\"y\"}},\"id\":\"109b0382-a9aa-4860-b777-295bda85895a\",\"type\":\"Rect\"},{\"attributes\":{\"callback\":null,\"column_names\":[\"line_alpha\",\"line_color\",\"height\",\"y\",\"label\",\"width\",\"fill_alpha\",\"color\",\"x\"],\"data\":{\"chart_index\":[\"(897.852800, 920.298620]\"],\"color\":[\"#f22c40\"],\"fill_alpha\":[0.8],\"height\":[3574.0],\"label\":[\"(897.852800, 920.298620]\"],\"line_alpha\":[1.0],\"line_color\":[\"black\"],\"width\":[22.445820000000026],\"x\":[\"909.0757100000001\"],\"y\":[1787.0]}},\"id\":\"a5458739-566a-44b0-ad59-2ec35cc2d949\",\"type\":\"ColumnDataSource\"},{\"attributes\":{\"fill_alpha\":{\"field\":\"fill_alpha\"},\"fill_color\":{\"field\":\"color\"},\"height\":{\"field\":\"height\",\"units\":\"data\"},\"line_color\":{\"field\":\"line_color\"},\"width\":{\"field\":\"width\",\"units\":\"data\"},\"x\":{\"field\":\"x\"},\"y\":{\"field\":\"y\"}},\"id\":\"25ad9022-1c50-4cc7-a239-acf597fa2207\",\"type\":\"Rect\"},{\"attributes\":{\"fill_alpha\":{\"field\":\"fill_alpha\"},\"fill_color\":{\"field\":\"color\"},\"height\":{\"field\":\"height\",\"units\":\"data\"},\"line_color\":{\"field\":\"line_color\"},\"width\":{\"field\":\"width\",\"units\":\"data\"},\"x\":{\"field\":\"x\"},\"y\":{\"field\":\"y\"}},\"id\":\"7b696687-f1d7-452f-9c94-25b50a75d778\",\"type\":\"Rect\"},{\"attributes\":{\"data_source\":{\"id\":\"fe1b50cb-1f81-40d2-a79f-0b7e587cf0dd\",\"type\":\"ColumnDataSource\"},\"glyph\":{\"id\":\"82d3db63-1650-4afb-ba3e-be8220cee542\",\"type\":\"Rect\"},\"hover_glyph\":null,\"nonselection_glyph\":null,\"selection_glyph\":null},\"id\":\"45aad33e-6164-4d21-a6b9-c446a257b88f\",\"type\":\"GlyphRenderer\"},{\"attributes\":{\"fill_alpha\":{\"field\":\"fill_alpha\"},\"fill_color\":{\"field\":\"color\"},\"height\":{\"field\":\"height\",\"units\":\"data\"},\"line_color\":{\"field\":\"line_color\"},\"width\":{\"field\":\"width\",\"units\":\"data\"},\"x\":{\"field\":\"x\"},\"y\":{\"field\":\"y\"}},\"id\":\"07ec1570-a3b7-4b7c-856d-c41dd1851614\",\"type\":\"Rect\"},{\"attributes\":{\"fill_alpha\":{\"field\":\"fill_alpha\"},\"fill_color\":{\"field\":\"color\"},\"height\":{\"field\":\"height\",\"units\":\"data\"},\"line_color\":{\"field\":\"line_color\"},\"width\":{\"field\":\"width\",\"units\":\"data\"},\"x\":{\"field\":\"x\"},\"y\":{\"field\":\"y\"}},\"id\":\"eb245e0d-c29e-4280-a4f8-09b0c38bdaa6\",\"type\":\"Rect\"},{\"attributes\":{},\"id\":\"d3f8db71-cd8d-4f88-9d89-2e349a6244b8\",\"type\":\"BasicTickFormatter\"},{\"attributes\":{\"callback\":null,\"column_names\":[\"line_alpha\",\"line_color\",\"height\",\"y\",\"label\",\"width\",\"fill_alpha\",\"color\",\"x\"],\"data\":{\"chart_index\":[\"(336.707300, 359.153120]\"],\"color\":[\"#f22c40\"],\"fill_alpha\":[0.8],\"height\":[158.0],\"label\":[\"(336.707300, 359.153120]\"],\"line_alpha\":[1.0],\"line_color\":[\"black\"],\"width\":[22.445820000000026],\"x\":[\"347.93021\"],\"y\":[79.0]}},\"id\":\"7bd587c6-35de-4a4c-a59d-aaf119f09d61\",\"type\":\"ColumnDataSource\"},{\"attributes\":{\"fill_alpha\":{\"field\":\"fill_alpha\"},\"fill_color\":{\"field\":\"color\"},\"height\":{\"field\":\"height\",\"units\":\"data\"},\"line_color\":{\"field\":\"line_color\"},\"width\":{\"field\":\"width\",\"units\":\"data\"},\"x\":{\"field\":\"x\"},\"y\":{\"field\":\"y\"}},\"id\":\"fd1a6ee8-453f-4ce5-af24-656234fe487b\",\"type\":\"Rect\"},{\"attributes\":{\"data_source\":{\"id\":\"e28f2e4f-de0e-46fb-965f-badbdf82e66f\",\"type\":\"ColumnDataSource\"},\"glyph\":{\"id\":\"f4bb7bed-a901-4be3-97c0-83d64540502c\",\"type\":\"Rect\"},\"hover_glyph\":null,\"nonselection_glyph\":null,\"selection_glyph\":null},\"id\":\"d19cc06d-e45c-4524-9f42-21267ec080cf\",\"type\":\"GlyphRenderer\"},{\"attributes\":{\"data_source\":{\"id\":\"af423a93-2a86-4555-841a-cb39b97d8f9f\",\"type\":\"ColumnDataSource\"},\"glyph\":{\"id\":\"5f40d070-2a38-4d5a-abec-24986c5c32f9\",\"type\":\"Rect\"},\"hover_glyph\":null,\"nonselection_glyph\":null,\"selection_glyph\":null},\"id\":\"fa703e84-bee7-4909-8e9c-b3c3fe03706e\",\"type\":\"GlyphRenderer\"},{\"attributes\":{\"callback\":null,\"column_names\":[\"line_alpha\",\"line_color\",\"height\",\"y\",\"label\",\"width\",\"fill_alpha\",\"color\",\"x\"],\"data\":{\"chart_index\":[\"(875.406980, 897.852800]\"],\"color\":[\"#f22c40\"],\"fill_alpha\":[0.8],\"height\":[1320.0],\"label\":[\"(875.406980, 897.852800]\"],\"line_alpha\":[1.0],\"line_color\":[\"black\"],\"width\":[22.445820000000026],\"x\":[\"886.6298899999999\"],\"y\":[660.0]}},\"id\":\"8fb85e5d-f91a-44cf-831c-928cea19606a\",\"type\":\"ColumnDataSource\"},{\"attributes\":{\"data_source\":{\"id\":\"0e43bd9a-a502-44d3-83d0-19263ddbf57b\",\"type\":\"ColumnDataSource\"},\"glyph\":{\"id\":\"80b3a0b1-8223-454a-a617-7e7119242f76\",\"type\":\"Rect\"},\"hover_glyph\":null,\"nonselection_glyph\":null,\"selection_glyph\":null},\"id\":\"0a7ccc90-0636-451c-80ad-fb6e67dd89be\",\"type\":\"GlyphRenderer\"},{\"attributes\":{\"callback\":null,\"column_names\":[\"line_alpha\",\"line_color\",\"height\",\"y\",\"label\",\"width\",\"fill_alpha\",\"color\",\"x\"],\"data\":{\"chart_index\":[\"(22.465820, 44.911640]\"],\"color\":[\"#f22c40\"],\"fill_alpha\":[0.8],\"height\":[8265.0],\"label\":[\"(22.465820, 44.911640]\"],\"line_alpha\":[1.0],\"line_color\":[\"black\"],\"width\":[22.44582],\"x\":[\"33.68873\"],\"y\":[4132.5]}},\"id\":\"bdaf132a-ffa8-4c8f-b853-4b390b5644f1\",\"type\":\"ColumnDataSource\"},{\"attributes\":{\"data_source\":{\"id\":\"8fb85e5d-f91a-44cf-831c-928cea19606a\",\"type\":\"ColumnDataSource\"},\"glyph\":{\"id\":\"97efe58a-4e10-492e-a973-c8752806cf98\",\"type\":\"Rect\"},\"hover_glyph\":null,\"nonselection_glyph\":null,\"selection_glyph\":null},\"id\":\"058a1bc4-f63f-48a3-8229-4748724a1cce\",\"type\":\"GlyphRenderer\"},{\"attributes\":{\"fill_alpha\":{\"field\":\"fill_alpha\"},\"fill_color\":{\"field\":\"color\"},\"height\":{\"field\":\"height\",\"units\":\"data\"},\"line_color\":{\"field\":\"line_color\"},\"width\":{\"field\":\"width\",\"units\":\"data\"},\"x\":{\"field\":\"x\"},\"y\":{\"field\":\"y\"}},\"id\":\"8163bc0a-1408-4d4a-88b1-5c0b15edede0\",\"type\":\"Rect\"},{\"attributes\":{\"bottom_units\":\"screen\",\"fill_alpha\":{\"value\":0.5},\"fill_color\":{\"value\":\"lightgrey\"},\"left_units\":\"screen\",\"level\":\"overlay\",\"line_alpha\":{\"value\":1.0},\"line_color\":{\"value\":\"black\"},\"line_dash\":[4,4],\"line_width\":{\"value\":2},\"plot\":null,\"render_mode\":\"css\",\"right_units\":\"screen\",\"top_units\":\"screen\"},\"id\":\"30c7345e-dfbc-4684-882e-aa3a7627c8c1\",\"type\":\"BoxAnnotation\"},{\"attributes\":{\"data_source\":{\"id\":\"61cc7602-1913-428d-b4aa-1f4f1546e943\",\"type\":\"ColumnDataSource\"},\"glyph\":{\"id\":\"09d16fa4-1bea-44c4-be68-6d8420e3aa02\",\"type\":\"Rect\"},\"hover_glyph\":null,\"nonselection_glyph\":null,\"selection_glyph\":null},\"id\":\"72b47af8-167f-48c2-b0a4-54117821262c\",\"type\":\"GlyphRenderer\"},{\"attributes\":{\"callback\":null,\"column_names\":[\"line_alpha\",\"line_color\",\"height\",\"y\",\"label\",\"width\",\"fill_alpha\",\"color\",\"x\"],\"data\":{\"chart_index\":[\"(942.744440, 965.190260]\"],\"color\":[\"#f22c40\"],\"fill_alpha\":[0.8],\"height\":[54.0],\"label\":[\"(942.744440, 965.190260]\"],\"line_alpha\":[1.0],\"line_color\":[\"black\"],\"width\":[22.445819999999912],\"x\":[\"953.96735\"],\"y\":[27.0]}},\"id\":\"8dee8dba-194d-49ae-bb6e-945ac5c432ac\",\"type\":\"ColumnDataSource\"},{\"attributes\":{\"callback\":null,\"column_names\":[\"line_alpha\",\"line_color\",\"height\",\"y\",\"label\",\"width\",\"fill_alpha\",\"color\",\"x\"],\"data\":{\"chart_index\":[\"(202.032380, 224.478200]\"],\"color\":[\"#f22c40\"],\"fill_alpha\":[0.8],\"height\":[37052.0],\"label\":[\"(202.032380, 224.478200]\"],\"line_alpha\":[1.0],\"line_color\":[\"black\"],\"width\":[22.445819999999998],\"x\":[\"213.25529\"],\"y\":[18526.0]}},\"id\":\"d71e545d-731d-4fca-a67e-f36a2ada1ab7\",\"type\":\"ColumnDataSource\"},{\"attributes\":{\"fill_alpha\":{\"field\":\"fill_alpha\"},\"fill_color\":{\"field\":\"color\"},\"height\":{\"field\":\"height\",\"units\":\"data\"},\"line_color\":{\"field\":\"line_color\"},\"width\":{\"field\":\"width\",\"units\":\"data\"},\"x\":{\"field\":\"x\"},\"y\":{\"field\":\"y\"}},\"id\":\"97efe58a-4e10-492e-a973-c8752806cf98\",\"type\":\"Rect\"},{\"attributes\":{\"data_source\":{\"id\":\"84ac89eb-3f70-45d1-a645-aa1c322e867a\",\"type\":\"ColumnDataSource\"},\"glyph\":{\"id\":\"bd5db9d8-9b91-4400-ac69-3e4b055b4011\",\"type\":\"Rect\"},\"hover_glyph\":null,\"nonselection_glyph\":null,\"selection_glyph\":null},\"id\":\"fdf9ac78-90b9-4d13-847d-a0f29d0978eb\",\"type\":\"GlyphRenderer\"},{\"attributes\":{\"data_source\":{\"id\":\"21c46ef6-f4de-4e44-942b-ca55b566c799\",\"type\":\"ColumnDataSource\"},\"glyph\":{\"id\":\"7b696687-f1d7-452f-9c94-25b50a75d778\",\"type\":\"Rect\"},\"hover_glyph\":null,\"nonselection_glyph\":null,\"selection_glyph\":null},\"id\":\"709dca3c-2e27-4465-a2b7-e14953db575a\",\"type\":\"GlyphRenderer\"},{\"attributes\":{\"fill_alpha\":{\"field\":\"fill_alpha\"},\"fill_color\":{\"field\":\"color\"},\"height\":{\"field\":\"height\",\"units\":\"data\"},\"line_color\":{\"field\":\"line_color\"},\"width\":{\"field\":\"width\",\"units\":\"data\"},\"x\":{\"field\":\"x\"},\"y\":{\"field\":\"y\"}},\"id\":\"af39e65e-c17e-4660-aa0e-6d87314abef8\",\"type\":\"Rect\"},{\"attributes\":{\"plot\":{\"id\":\"29d700dc-bcbb-4150-a7f3-553d1143b77e\",\"subtype\":\"Chart\",\"type\":\"Plot\"}},\"id\":\"dfd0efd2-dd84-4927-b85c-5563fe28821b\",\"type\":\"WheelZoomTool\"},{\"attributes\":{\"data_source\":{\"id\":\"a5458739-566a-44b0-ad59-2ec35cc2d949\",\"type\":\"ColumnDataSource\"},\"glyph\":{\"id\":\"8163bc0a-1408-4d4a-88b1-5c0b15edede0\",\"type\":\"Rect\"},\"hover_glyph\":null,\"nonselection_glyph\":null,\"selection_glyph\":null},\"id\":\"e2b200d0-4bfe-47ee-90a9-940b78b61ed7\",\"type\":\"GlyphRenderer\"},{\"attributes\":{\"callback\":null,\"column_names\":[\"line_alpha\",\"line_color\",\"height\",\"y\",\"label\",\"width\",\"fill_alpha\",\"color\",\"x\"],\"data\":{\"chart_index\":[\"(246.924020, 269.369840]\"],\"color\":[\"#f22c40\"],\"fill_alpha\":[0.8],\"height\":[6019.0],\"label\":[\"(246.924020, 269.369840]\"],\"line_alpha\":[1.0],\"line_color\":[\"black\"],\"width\":[22.44581999999997],\"x\":[\"258.14693\"],\"y\":[3009.5]}},\"id\":\"0e43bd9a-a502-44d3-83d0-19263ddbf57b\",\"type\":\"ColumnDataSource\"},{\"attributes\":{\"callback\":null,\"column_names\":[\"line_alpha\",\"line_color\",\"height\",\"y\",\"label\",\"width\",\"fill_alpha\",\"color\",\"x\"],\"data\":{\"chart_index\":[\"(785.623700, 808.069520]\"],\"color\":[\"#f22c40\"],\"fill_alpha\":[0.8],\"height\":[3834.0],\"label\":[\"(785.623700, 808.069520]\"],\"line_alpha\":[1.0],\"line_color\":[\"black\"],\"width\":[22.445820000000026],\"x\":[\"796.84661\"],\"y\":[1917.0]}},\"id\":\"9777a5c6-dc6f-452b-88cc-6c360a89979c\",\"type\":\"ColumnDataSource\"},{\"attributes\":{\"data_source\":{\"id\":\"49ca8207-729e-4053-b531-35cb0d1cadeb\",\"type\":\"ColumnDataSource\"},\"glyph\":{\"id\":\"81e95774-e593-4843-8f13-b025d021fd83\",\"type\":\"Rect\"},\"hover_glyph\":null,\"nonselection_glyph\":null,\"selection_glyph\":null},\"id\":\"fc7e460a-77e4-4e22-a502-40413a1f8132\",\"type\":\"GlyphRenderer\"},{\"attributes\":{\"callback\":null,\"column_names\":[\"line_alpha\",\"line_color\",\"height\",\"y\",\"label\",\"width\",\"fill_alpha\",\"color\",\"x\"],\"data\":{\"chart_index\":[\"(606.057140, 628.502960]\"],\"color\":[\"#f22c40\"],\"fill_alpha\":[0.8],\"height\":[466.0],\"label\":[\"(606.057140, 628.502960]\"],\"line_alpha\":[1.0],\"line_color\":[\"black\"],\"width\":[22.445820000000026],\"x\":[\"617.2800500000001\"],\"y\":[233.0]}},\"id\":\"96ab7961-c6a0-4814-9341-defdb2adb1d1\",\"type\":\"ColumnDataSource\"},{\"attributes\":{\"data_source\":{\"id\":\"85f2e7dd-3c80-4f53-a732-e122c5c6f5a3\",\"type\":\"ColumnDataSource\"},\"glyph\":{\"id\":\"7137d4f1-bbfb-4294-9763-420c114a83b2\",\"type\":\"Rect\"},\"hover_glyph\":null,\"nonselection_glyph\":null,\"selection_glyph\":null},\"id\":\"f1c3e031-b057-49d1-9620-5941a106e2f6\",\"type\":\"GlyphRenderer\"},{\"attributes\":{\"data_source\":{\"id\":\"7bd587c6-35de-4a4c-a59d-aaf119f09d61\",\"type\":\"ColumnDataSource\"},\"glyph\":{\"id\":\"bffe9502-e10f-4a82-ab42-b7667be43561\",\"type\":\"Rect\"},\"hover_glyph\":null,\"nonselection_glyph\":null,\"selection_glyph\":null},\"id\":\"496462c1-762b-48a3-aead-61f36b534137\",\"type\":\"GlyphRenderer\"},{\"attributes\":{\"fill_alpha\":{\"field\":\"fill_alpha\"},\"fill_color\":{\"field\":\"color\"},\"height\":{\"field\":\"height\",\"units\":\"data\"},\"line_color\":{\"field\":\"line_color\"},\"width\":{\"field\":\"width\",\"units\":\"data\"},\"x\":{\"field\":\"x\"},\"y\":{\"field\":\"y\"}},\"id\":\"94b668cf-7990-4ed6-81d8-8d61acc20124\",\"type\":\"Rect\"},{\"attributes\":{\"below\":[{\"id\":\"ab768888-5106-484b-94d4-1906301937e5\",\"type\":\"LinearAxis\"}],\"css_classes\":null,\"left\":[{\"id\":\"1f3541d3-498e-4a7c-b9ab-efb059475af4\",\"type\":\"LinearAxis\"}],\"renderers\":[{\"id\":\"30c7345e-dfbc-4684-882e-aa3a7627c8c1\",\"type\":\"BoxAnnotation\"},{\"id\":\"fe145c17-f2a3-4fae-85c4-762ba458b5e9\",\"type\":\"GlyphRenderer\"},{\"id\":\"ec7e7401-da6c-49fc-8aa4-65c70aa72f57\",\"type\":\"GlyphRenderer\"},{\"id\":\"c961c369-8e94-4e7d-9e11-0cb9c53a6d04\",\"type\":\"GlyphRenderer\"},{\"id\":\"fa1c0b9f-4886-4b50-98d7-ab4b625fc56b\",\"type\":\"GlyphRenderer\"},{\"id\":\"416a0865-29d0-4e6e-9eb7-3c556d9fd783\",\"type\":\"GlyphRenderer\"},{\"id\":\"2c5b349c-8bdb-40f8-a782-954feaecf089\",\"type\":\"GlyphRenderer\"},{\"id\":\"9da14335-a957-44bf-b56b-c4a349af713a\",\"type\":\"GlyphRenderer\"},{\"id\":\"ec1ec4ab-d2f4-4047-b80a-fa4e2bbf7b2d\",\"type\":\"GlyphRenderer\"},{\"id\":\"221fea44-b51c-46eb-8969-1ac36e77e388\",\"type\":\"GlyphRenderer\"},{\"id\":\"36a3c6ab-9334-419c-b617-e7eaac0dd33e\",\"type\":\"GlyphRenderer\"},{\"id\":\"fc7e460a-77e4-4e22-a502-40413a1f8132\",\"type\":\"GlyphRenderer\"},{\"id\":\"0a7ccc90-0636-451c-80ad-fb6e67dd89be\",\"type\":\"GlyphRenderer\"},{\"id\":\"ddd09347-3b97-4a1b-81eb-a5eaabbd1a34\",\"type\":\"GlyphRenderer\"},{\"id\":\"6e2144a4-ae82-4157-bc17-40ae476a5b39\",\"type\":\"GlyphRenderer\"},{\"id\":\"60a54369-3e64-48e7-8bcd-57d51a502c4a\",\"type\":\"GlyphRenderer\"},{\"id\":\"496462c1-762b-48a3-aead-61f36b534137\",\"type\":\"GlyphRenderer\"},{\"id\":\"36a8cf33-99c0-4182-82ca-9c7afab81e97\",\"type\":\"GlyphRenderer\"},{\"id\":\"22c08810-3293-4ed1-a946-719c31527907\",\"type\":\"GlyphRenderer\"},{\"id\":\"14924bdd-40b8-45f7-860d-81c08b1691d4\",\"type\":\"GlyphRenderer\"},{\"id\":\"3ffd922f-fddb-4f6e-a58c-280faf29a616\",\"type\":\"GlyphRenderer\"},{\"id\":\"72b47af8-167f-48c2-b0a4-54117821262c\",\"type\":\"GlyphRenderer\"},{\"id\":\"e713b42e-ecb9-4698-a6eb-4fceeae73c0c\",\"type\":\"GlyphRenderer\"},{\"id\":\"3f17ad44-ad90-4876-b7f0-d847013134c7\",\"type\":\"GlyphRenderer\"},{\"id\":\"fdf9ac78-90b9-4d13-847d-a0f29d0978eb\",\"type\":\"GlyphRenderer\"},{\"id\":\"d059e487-4229-4645-9772-b4880d3c5a90\",\"type\":\"GlyphRenderer\"},{\"id\":\"138807da-ee3a-46b7-9e16-dd3c17dcf3ba\",\"type\":\"GlyphRenderer\"},{\"id\":\"45aad33e-6164-4d21-a6b9-c446a257b88f\",\"type\":\"GlyphRenderer\"},{\"id\":\"25869cb2-50b5-483a-b907-c2220542909b\",\"type\":\"GlyphRenderer\"},{\"id\":\"21f7bbb3-e811-4a00-80fe-a17e22fdc79a\",\"type\":\"GlyphRenderer\"},{\"id\":\"d19cc06d-e45c-4524-9f42-21267ec080cf\",\"type\":\"GlyphRenderer\"},{\"id\":\"460eb2f6-a346-4196-9336-575d3905b1bb\",\"type\":\"GlyphRenderer\"},{\"id\":\"f4d84c2b-93e2-4eec-af48-00be1772ff7e\",\"type\":\"GlyphRenderer\"},{\"id\":\"16923e8b-365e-47f1-b3ef-43d6c876934e\",\"type\":\"GlyphRenderer\"},{\"id\":\"b9363e07-4361-4f3e-8cc8-7099222de93c\",\"type\":\"GlyphRenderer\"},{\"id\":\"48fafaeb-eb72-477f-ae6b-2cd40a31dbee\",\"type\":\"GlyphRenderer\"},{\"id\":\"6d1176c7-5b0e-4895-b016-698a6c11fa0a\",\"type\":\"GlyphRenderer\"},{\"id\":\"3d293aee-3135-4581-a4f4-3be73b355c94\",\"type\":\"GlyphRenderer\"},{\"id\":\"b05a31bf-d908-419c-bd5a-bf97414d3ce2\",\"type\":\"GlyphRenderer\"},{\"id\":\"1aa61ff2-30a6-4e04-8f27-c87875bad156\",\"type\":\"GlyphRenderer\"},{\"id\":\"058a1bc4-f63f-48a3-8229-4748724a1cce\",\"type\":\"GlyphRenderer\"},{\"id\":\"e2b200d0-4bfe-47ee-90a9-940b78b61ed7\",\"type\":\"GlyphRenderer\"},{\"id\":\"74a2aa4d-21f9-4a27-993e-8bfd37d9b194\",\"type\":\"GlyphRenderer\"},{\"id\":\"f3025dbd-a47b-44d2-afd7-bb95859fbce6\",\"type\":\"GlyphRenderer\"},{\"id\":\"f1c3e031-b057-49d1-9620-5941a106e2f6\",\"type\":\"GlyphRenderer\"},{\"id\":\"001b1230-b94c-4bae-9b33-838da9dc53e1\",\"type\":\"GlyphRenderer\"},{\"id\":\"709dca3c-2e27-4465-a2b7-e14953db575a\",\"type\":\"GlyphRenderer\"},{\"id\":\"fa703e84-bee7-4909-8e9c-b3c3fe03706e\",\"type\":\"GlyphRenderer\"},{\"id\":\"45731c52-ee57-4af1-8211-4f6b64c35caf\",\"type\":\"GlyphRenderer\"},{\"id\":\"6a134e5c-cc06-4a02-a256-71de5107ddb2\",\"type\":\"GlyphRenderer\"},{\"id\":\"4a8ca651-1761-40a9-bc5a-f1f5c4c88fdc\",\"type\":\"GlyphRenderer\"},{\"id\":\"3a726119-5ef6-43ea-9878-1b8f93de29c9\",\"type\":\"Legend\"},{\"id\":\"ab768888-5106-484b-94d4-1906301937e5\",\"type\":\"LinearAxis\"},{\"id\":\"1f3541d3-498e-4a7c-b9ab-efb059475af4\",\"type\":\"LinearAxis\"},{\"id\":\"57484317-1525-4b7a-bd69-ed4b137d8413\",\"type\":\"Grid\"}],\"title\":{\"id\":\"b7408e77-a3a0-4705-b923-29636cef87bc\",\"type\":\"Title\"},\"tool_events\":{\"id\":\"199b681a-dcd2-4580-9f9e-3b615fd5cb54\",\"type\":\"ToolEvents\"},\"toolbar\":{\"id\":\"6647a155-d3b1-4f25-ade6-037e79d458da\",\"type\":\"Toolbar\"},\"x_mapper_type\":\"auto\",\"x_range\":{\"id\":\"37e19794-3138-4d5f-a55b-e62310ec31d6\",\"type\":\"Range1d\"},\"y_mapper_type\":\"auto\",\"y_range\":{\"id\":\"27d021de-b30b-4a51-bf99-ea90a6398fe4\",\"type\":\"Range1d\"}},\"id\":\"29d700dc-bcbb-4150-a7f3-553d1143b77e\",\"subtype\":\"Chart\",\"type\":\"Plot\"},{\"attributes\":{\"callback\":null,\"column_names\":[\"line_alpha\",\"line_color\",\"height\",\"y\",\"label\",\"width\",\"fill_alpha\",\"color\",\"x\"],\"data\":{\"chart_index\":[\"(157.140740, 179.586560]\"],\"color\":[\"#f22c40\"],\"fill_alpha\":[0.8],\"height\":[21028.0],\"label\":[\"(157.140740, 179.586560]\"],\"line_alpha\":[1.0],\"line_color\":[\"black\"],\"width\":[22.445819999999998],\"x\":[\"168.36365\"],\"y\":[10514.0]}},\"id\":\"32275c50-59bf-4d69-bd30-34c307ea0d86\",\"type\":\"ColumnDataSource\"},{\"attributes\":{\"callback\":null,\"column_names\":[\"line_alpha\",\"line_color\",\"height\",\"y\",\"label\",\"width\",\"fill_alpha\",\"color\",\"x\"],\"data\":{\"chart_index\":[\"(224.478200, 246.924020]\"],\"color\":[\"#f22c40\"],\"fill_alpha\":[0.8],\"height\":[50171.0],\"label\":[\"(224.478200, 246.924020]\"],\"line_alpha\":[1.0],\"line_color\":[\"black\"],\"width\":[22.445819999999998],\"x\":[\"235.70111\"],\"y\":[25085.5]}},\"id\":\"49ca8207-729e-4053-b531-35cb0d1cadeb\",\"type\":\"ColumnDataSource\"},{\"attributes\":{\"data_source\":{\"id\":\"9512e1e7-4329-46a2-9060-2f723453bc78\",\"type\":\"ColumnDataSource\"},\"glyph\":{\"id\":\"07ec1570-a3b7-4b7c-856d-c41dd1851614\",\"type\":\"Rect\"},\"hover_glyph\":null,\"nonselection_glyph\":null,\"selection_glyph\":null},\"id\":\"e713b42e-ecb9-4698-a6eb-4fceeae73c0c\",\"type\":\"GlyphRenderer\"},{\"attributes\":{\"callback\":null,\"column_names\":[\"line_alpha\",\"line_color\",\"height\",\"y\",\"label\",\"width\",\"fill_alpha\",\"color\",\"x\"],\"data\":{\"chart_index\":[\"(381.598940, 404.044760]\"],\"color\":[\"#f22c40\"],\"fill_alpha\":[0.8],\"height\":[5731.0],\"label\":[\"(381.598940, 404.044760]\"],\"line_alpha\":[1.0],\"line_color\":[\"black\"],\"width\":[22.44581999999997],\"x\":[\"392.82185000000004\"],\"y\":[2865.5]}},\"id\":\"e16590cc-d835-41d1-8ca7-6657eaffb61f\",\"type\":\"ColumnDataSource\"},{\"attributes\":{\"axis_label\":\"Byte Stream Size (kilobytes)\",\"formatter\":{\"id\":\"d3f8db71-cd8d-4f88-9d89-2e349a6244b8\",\"type\":\"BasicTickFormatter\"},\"plot\":{\"id\":\"29d700dc-bcbb-4150-a7f3-553d1143b77e\",\"subtype\":\"Chart\",\"type\":\"Plot\"},\"ticker\":{\"id\":\"e7dbc18d-7e1e-44cb-b070-d28da876c080\",\"type\":\"BasicTicker\"}},\"id\":\"ab768888-5106-484b-94d4-1906301937e5\",\"type\":\"LinearAxis\"},{\"attributes\":{\"fill_alpha\":{\"field\":\"fill_alpha\"},\"fill_color\":{\"field\":\"color\"},\"height\":{\"field\":\"height\",\"units\":\"data\"},\"line_color\":{\"field\":\"line_color\"},\"width\":{\"field\":\"width\",\"units\":\"data\"},\"x\":{\"field\":\"x\"},\"y\":{\"field\":\"y\"}},\"id\":\"380f46e9-94e3-45b8-bfcf-b656518e4187\",\"type\":\"Rect\"},{\"attributes\":{\"callback\":null,\"column_names\":[\"line_alpha\",\"line_color\",\"height\",\"y\",\"label\",\"width\",\"fill_alpha\",\"color\",\"x\"],\"data\":{\"chart_index\":[\"(471.382220, 493.828040]\"],\"color\":[\"#f22c40\"],\"fill_alpha\":[0.8],\"height\":[0.0],\"label\":[\"(471.382220, 493.828040]\"],\"line_alpha\":[1.0],\"line_color\":[\"black\"],\"width\":[22.44581999999997],\"x\":[\"482.60513000000003\"],\"y\":[0.0]}},\"id\":\"9512e1e7-4329-46a2-9060-2f723453bc78\",\"type\":\"ColumnDataSource\"},{\"attributes\":{\"callback\":null,\"column_names\":[\"line_alpha\",\"line_color\",\"height\",\"y\",\"label\",\"width\",\"fill_alpha\",\"color\",\"x\"],\"data\":{\"chart_index\":[\"(808.069520, 830.515340]\"],\"color\":[\"#f22c40\"],\"fill_alpha\":[0.8],\"height\":[4133.0],\"label\":[\"(808.069520, 830.515340]\"],\"line_alpha\":[1.0],\"line_color\":[\"black\"],\"width\":[22.445820000000026],\"x\":[\"819.29243\"],\"y\":[2066.5]}},\"id\":\"088ec86d-e692-42b9-96df-d29b7f0e08eb\",\"type\":\"ColumnDataSource\"},{\"attributes\":{\"fill_alpha\":{\"field\":\"fill_alpha\"},\"fill_color\":{\"field\":\"color\"},\"height\":{\"field\":\"height\",\"units\":\"data\"},\"line_color\":{\"field\":\"line_color\"},\"width\":{\"field\":\"width\",\"units\":\"data\"},\"x\":{\"field\":\"x\"},\"y\":{\"field\":\"y\"}},\"id\":\"bd5db9d8-9b91-4400-ac69-3e4b055b4011\",\"type\":\"Rect\"},{\"attributes\":{\"fill_alpha\":{\"field\":\"fill_alpha\"},\"fill_color\":{\"field\":\"color\"},\"height\":{\"field\":\"height\",\"units\":\"data\"},\"line_color\":{\"field\":\"line_color\"},\"width\":{\"field\":\"width\",\"units\":\"data\"},\"x\":{\"field\":\"x\"},\"y\":{\"field\":\"y\"}},\"id\":\"bffe9502-e10f-4a82-ab42-b7667be43561\",\"type\":\"Rect\"},{\"attributes\":{\"callback\":null,\"column_names\":[\"line_alpha\",\"line_color\",\"height\",\"y\",\"label\",\"width\",\"fill_alpha\",\"color\",\"x\"],\"data\":{\"chart_index\":[\"(561.165500, 583.611320]\"],\"color\":[\"#f22c40\"],\"fill_alpha\":[0.8],\"height\":[19.0],\"label\":[\"(561.165500, 583.611320]\"],\"line_alpha\":[1.0],\"line_color\":[\"black\"],\"width\":[22.445820000000026],\"x\":[\"572.38841\"],\"y\":[9.5]}},\"id\":\"d13ca730-ecbb-463a-a7f5-86e623230ce2\",\"type\":\"ColumnDataSource\"},{\"attributes\":{\"plot\":{\"id\":\"29d700dc-bcbb-4150-a7f3-553d1143b77e\",\"subtype\":\"Chart\",\"type\":\"Plot\"}},\"id\":\"680da408-5d1b-4502-bf36-91ae676a3e10\",\"type\":\"PanTool\"},{\"attributes\":{\"fill_alpha\":{\"field\":\"fill_alpha\"},\"fill_color\":{\"field\":\"color\"},\"height\":{\"field\":\"height\",\"units\":\"data\"},\"line_color\":{\"field\":\"line_color\"},\"width\":{\"field\":\"width\",\"units\":\"data\"},\"x\":{\"field\":\"x\"},\"y\":{\"field\":\"y\"}},\"id\":\"a218ccac-ce8b-42e2-99e1-070e983851f3\",\"type\":\"Rect\"},{\"attributes\":{\"callback\":null,\"column_names\":[\"line_alpha\",\"line_color\",\"height\",\"y\",\"label\",\"width\",\"fill_alpha\",\"color\",\"x\"],\"data\":{\"chart_index\":[\"(516.273860, 538.719680]\"],\"color\":[\"#f22c40\"],\"fill_alpha\":[0.8],\"height\":[0.0],\"label\":[\"(516.273860, 538.719680]\"],\"line_alpha\":[1.0],\"line_color\":[\"black\"],\"width\":[22.445820000000026],\"x\":[\"527.49677\"],\"y\":[0.0]}},\"id\":\"84ac89eb-3f70-45d1-a645-aa1c322e867a\",\"type\":\"ColumnDataSource\"},{\"attributes\":{\"data_source\":{\"id\":\"ca989296-d7d3-4469-90b1-41bf8d7fb8ad\",\"type\":\"ColumnDataSource\"},\"glyph\":{\"id\":\"25ad9022-1c50-4cc7-a239-acf597fa2207\",\"type\":\"Rect\"},\"hover_glyph\":null,\"nonselection_glyph\":null,\"selection_glyph\":null},\"id\":\"b9363e07-4361-4f3e-8cc8-7099222de93c\",\"type\":\"GlyphRenderer\"},{\"attributes\":{\"fill_alpha\":{\"field\":\"fill_alpha\"},\"fill_color\":{\"field\":\"color\"},\"height\":{\"field\":\"height\",\"units\":\"data\"},\"line_color\":{\"field\":\"line_color\"},\"width\":{\"field\":\"width\",\"units\":\"data\"},\"x\":{\"field\":\"x\"},\"y\":{\"field\":\"y\"}},\"id\":\"fd52e60a-84a9-426a-8c8e-0ff5cf3b88f1\",\"type\":\"Rect\"},{\"attributes\":{\"dimension\":1,\"plot\":{\"id\":\"29d700dc-bcbb-4150-a7f3-553d1143b77e\",\"subtype\":\"Chart\",\"type\":\"Plot\"},\"ticker\":{\"id\":\"1f60ba54-1da1-4a61-acd2-344bda027357\",\"type\":\"BasicTicker\"}},\"id\":\"57484317-1525-4b7a-bd69-ed4b137d8413\",\"type\":\"Grid\"},{\"attributes\":{\"callback\":null,\"column_names\":[\"line_alpha\",\"line_color\",\"height\",\"y\",\"label\",\"width\",\"fill_alpha\",\"color\",\"x\"],\"data\":{\"chart_index\":[\"(1054.973540, 1077.419360]\"],\"color\":[\"#f22c40\"],\"fill_alpha\":[0.8],\"height\":[3789.0],\"label\":[\"(1054.973540, 1077.419360]\"],\"line_alpha\":[1.0],\"line_color\":[\"black\"],\"width\":[22.445819999999912],\"x\":[\"1066.19645\"],\"y\":[1894.5]}},\"id\":\"d89f6fda-d8c0-475c-8802-ef9e78f490f3\",\"type\":\"ColumnDataSource\"},{\"attributes\":{\"callback\":null,\"end\":67844.70000000001},\"id\":\"27d021de-b30b-4a51-bf99-ea90a6398fe4\",\"type\":\"Range1d\"},{\"attributes\":{\"fill_alpha\":{\"field\":\"fill_alpha\"},\"fill_color\":{\"field\":\"color\"},\"height\":{\"field\":\"height\",\"units\":\"data\"},\"line_color\":{\"field\":\"line_color\"},\"width\":{\"field\":\"width\",\"units\":\"data\"},\"x\":{\"field\":\"x\"},\"y\":{\"field\":\"y\"}},\"id\":\"09d16fa4-1bea-44c4-be68-6d8420e3aa02\",\"type\":\"Rect\"},{\"attributes\":{\"fill_alpha\":{\"field\":\"fill_alpha\"},\"fill_color\":{\"field\":\"color\"},\"height\":{\"field\":\"height\",\"units\":\"data\"},\"line_color\":{\"field\":\"line_color\"},\"width\":{\"field\":\"width\",\"units\":\"data\"},\"x\":{\"field\":\"x\"},\"y\":{\"field\":\"y\"}},\"id\":\"cd9a568e-56ba-467d-8e0a-2ad7f8939fdb\",\"type\":\"Rect\"},{\"attributes\":{\"data_source\":{\"id\":\"19b79586-1348-4374-99bf-fcb985ce9e4b\",\"type\":\"ColumnDataSource\"},\"glyph\":{\"id\":\"a3359aee-17e7-489c-9a21-342da31b6ab4\",\"type\":\"Rect\"},\"hover_glyph\":null,\"nonselection_glyph\":null,\"selection_glyph\":null},\"id\":\"60a54369-3e64-48e7-8bcd-57d51a502c4a\",\"type\":\"GlyphRenderer\"},{\"attributes\":{\"data_source\":{\"id\":\"59c0bddf-4fdc-4ed1-b094-a6044460a690\",\"type\":\"ColumnDataSource\"},\"glyph\":{\"id\":\"5e0197ca-30f8-4786-b734-17963affadd4\",\"type\":\"Rect\"},\"hover_glyph\":null,\"nonselection_glyph\":null,\"selection_glyph\":null},\"id\":\"6a134e5c-cc06-4a02-a256-71de5107ddb2\",\"type\":\"GlyphRenderer\"},{\"attributes\":{\"fill_alpha\":{\"field\":\"fill_alpha\"},\"fill_color\":{\"field\":\"color\"},\"height\":{\"field\":\"height\",\"units\":\"data\"},\"line_color\":{\"field\":\"line_color\"},\"width\":{\"field\":\"width\",\"units\":\"data\"},\"x\":{\"field\":\"x\"},\"y\":{\"field\":\"y\"}},\"id\":\"a2048bfa-ca99-495c-ba26-36b19e0891dd\",\"type\":\"Rect\"},{\"attributes\":{\"fill_alpha\":{\"field\":\"fill_alpha\"},\"fill_color\":{\"field\":\"color\"},\"height\":{\"field\":\"height\",\"units\":\"data\"},\"line_color\":{\"field\":\"line_color\"},\"width\":{\"field\":\"width\",\"units\":\"data\"},\"x\":{\"field\":\"x\"},\"y\":{\"field\":\"y\"}},\"id\":\"c53cc0b4-599f-4cd4-86d9-11ab404ffb6f\",\"type\":\"Rect\"},{\"attributes\":{\"data_source\":{\"id\":\"32275c50-59bf-4d69-bd30-34c307ea0d86\",\"type\":\"ColumnDataSource\"},\"glyph\":{\"id\":\"6ecd32ee-0014-49c4-af38-147c6ad54ca9\",\"type\":\"Rect\"},\"hover_glyph\":null,\"nonselection_glyph\":null,\"selection_glyph\":null},\"id\":\"ec1ec4ab-d2f4-4047-b80a-fa4e2bbf7b2d\",\"type\":\"GlyphRenderer\"},{\"attributes\":{\"callback\":null,\"column_names\":[\"line_alpha\",\"line_color\",\"height\",\"y\",\"label\",\"width\",\"fill_alpha\",\"color\",\"x\"],\"data\":{\"chart_index\":[\"(1010.081900, 1032.527720]\"],\"color\":[\"#f22c40\"],\"fill_alpha\":[0.8],\"height\":[206.0],\"label\":[\"(1010.081900, 1032.527720]\"],\"line_alpha\":[1.0],\"line_color\":[\"black\"],\"width\":[22.445819999999912],\"x\":[\"1021.3048100000001\"],\"y\":[103.0]}},\"id\":\"21c46ef6-f4de-4e44-942b-ca55b566c799\",\"type\":\"ColumnDataSource\"},{\"attributes\":{\"fill_alpha\":{\"field\":\"fill_alpha\"},\"fill_color\":{\"field\":\"color\"},\"height\":{\"field\":\"height\",\"units\":\"data\"},\"line_color\":{\"field\":\"line_color\"},\"width\":{\"field\":\"width\",\"units\":\"data\"},\"x\":{\"field\":\"x\"},\"y\":{\"field\":\"y\"}},\"id\":\"220af003-1ceb-4664-ba54-d87587cefcb0\",\"type\":\"Rect\"},{\"attributes\":{},\"id\":\"40a6b5d0-9476-4d3f-b07f-3a3ee74688ed\",\"type\":\"BasicTickFormatter\"},{\"attributes\":{\"fill_alpha\":{\"field\":\"fill_alpha\"},\"fill_color\":{\"field\":\"color\"},\"height\":{\"field\":\"height\",\"units\":\"data\"},\"line_color\":{\"field\":\"line_color\"},\"width\":{\"field\":\"width\",\"units\":\"data\"},\"x\":{\"field\":\"x\"},\"y\":{\"field\":\"y\"}},\"id\":\"baba2894-22cb-4417-abba-4f633c082b5e\",\"type\":\"Rect\"},{\"attributes\":{\"fill_alpha\":{\"field\":\"fill_alpha\"},\"fill_color\":{\"field\":\"color\"},\"height\":{\"field\":\"height\",\"units\":\"data\"},\"line_color\":{\"field\":\"line_color\"},\"width\":{\"field\":\"width\",\"units\":\"data\"},\"x\":{\"field\":\"x\"},\"y\":{\"field\":\"y\"}},\"id\":\"a0444180-2319-439e-95bf-4d8c66ab7882\",\"type\":\"Rect\"},{\"attributes\":{\"fill_alpha\":{\"field\":\"fill_alpha\"},\"fill_color\":{\"field\":\"color\"},\"height\":{\"field\":\"height\",\"units\":\"data\"},\"line_color\":{\"field\":\"line_color\"},\"width\":{\"field\":\"width\",\"units\":\"data\"},\"x\":{\"field\":\"x\"},\"y\":{\"field\":\"y\"}},\"id\":\"5f40d070-2a38-4d5a-abec-24986c5c32f9\",\"type\":\"Rect\"},{\"attributes\":{\"data_source\":{\"id\":\"8dee8dba-194d-49ae-bb6e-945ac5c432ac\",\"type\":\"ColumnDataSource\"},\"glyph\":{\"id\":\"a2048bfa-ca99-495c-ba26-36b19e0891dd\",\"type\":\"Rect\"},\"hover_glyph\":null,\"nonselection_glyph\":null,\"selection_glyph\":null},\"id\":\"f3025dbd-a47b-44d2-afd7-bb95859fbce6\",\"type\":\"GlyphRenderer\"},{\"attributes\":{\"fill_alpha\":{\"field\":\"fill_alpha\"},\"fill_color\":{\"field\":\"color\"},\"height\":{\"field\":\"height\",\"units\":\"data\"},\"line_color\":{\"field\":\"line_color\"},\"width\":{\"field\":\"width\",\"units\":\"data\"},\"x\":{\"field\":\"x\"},\"y\":{\"field\":\"y\"}},\"id\":\"81e95774-e593-4843-8f13-b025d021fd83\",\"type\":\"Rect\"},{\"attributes\":{\"location\":\"top_left\",\"plot\":{\"id\":\"29d700dc-bcbb-4150-a7f3-553d1143b77e\",\"subtype\":\"Chart\",\"type\":\"Plot\"}},\"id\":\"3a726119-5ef6-43ea-9878-1b8f93de29c9\",\"type\":\"Legend\"},{\"attributes\":{\"fill_alpha\":{\"field\":\"fill_alpha\"},\"fill_color\":{\"field\":\"color\"},\"height\":{\"field\":\"height\",\"units\":\"data\"},\"line_color\":{\"field\":\"line_color\"},\"width\":{\"field\":\"width\",\"units\":\"data\"},\"x\":{\"field\":\"x\"},\"y\":{\"field\":\"y\"}},\"id\":\"7137d4f1-bbfb-4294-9763-420c114a83b2\",\"type\":\"Rect\"},{\"attributes\":{\"callback\":null,\"column_names\":[\"line_alpha\",\"line_color\",\"height\",\"y\",\"label\",\"width\",\"fill_alpha\",\"color\",\"x\"],\"data\":{\"chart_index\":[\"(1077.419360, 1099.865180]\"],\"color\":[\"#f22c40\"],\"fill_alpha\":[0.8],\"height\":[1224.0],\"label\":[\"(1077.419360, 1099.865180]\"],\"line_alpha\":[1.0],\"line_color\":[\"black\"],\"width\":[22.445819999999912],\"x\":[\"1088.64227\"],\"y\":[612.0]}},\"id\":\"59c0bddf-4fdc-4ed1-b094-a6044460a690\",\"type\":\"ColumnDataSource\"},{\"attributes\":{\"plot\":null,\"text\":null},\"id\":\"b7408e77-a3a0-4705-b923-29636cef87bc\",\"type\":\"Title\"},{\"attributes\":{\"fill_alpha\":{\"field\":\"fill_alpha\"},\"fill_color\":{\"field\":\"color\"},\"height\":{\"field\":\"height\",\"units\":\"data\"},\"line_color\":{\"field\":\"line_color\"},\"width\":{\"field\":\"width\",\"units\":\"data\"},\"x\":{\"field\":\"x\"},\"y\":{\"field\":\"y\"}},\"id\":\"585bda9c-aaaf-4ddc-9be0-bf5ca35c7aac\",\"type\":\"Rect\"},{\"attributes\":{\"fill_alpha\":{\"field\":\"fill_alpha\"},\"fill_color\":{\"field\":\"color\"},\"height\":{\"field\":\"height\",\"units\":\"data\"},\"line_color\":{\"field\":\"line_color\"},\"width\":{\"field\":\"width\",\"units\":\"data\"},\"x\":{\"field\":\"x\"},\"y\":{\"field\":\"y\"}},\"id\":\"5b8853b7-b222-42ca-98f8-bede53549512\",\"type\":\"Rect\"}],\"root_ids\":[\"29d700dc-bcbb-4150-a7f3-553d1143b77e\"]},\"title\":\"Bokeh Application\",\"version\":\"0.12.4\"}};\n",
       "            var render_items = [{\"docid\":\"4801d249-c401-49bf-b0fc-d49a13f6eb8d\",\"elementid\":\"50a1d390-6399-43bb-b59c-29d92ae68928\",\"modelid\":\"29d700dc-bcbb-4150-a7f3-553d1143b77e\"}];\n",
       "            \n",
       "            Bokeh.embed.embed_items(docs_json, render_items);\n",
       "          };\n",
       "          if (document.readyState != \"loading\") fn();\n",
       "          else document.addEventListener(\"DOMContentLoaded\", fn);\n",
       "        })();\n",
       "      },\n",
       "      function(Bokeh) {\n",
       "      }\n",
       "    ];\n",
       "  \n",
       "    function run_inline_js() {\n",
       "      \n",
       "      if ((window.Bokeh !== undefined) || (force === true)) {\n",
       "        for (var i = 0; i < inline_js.length; i++) {\n",
       "          inline_js[i](window.Bokeh);\n",
       "        }if (force === true) {\n",
       "          display_loaded();\n",
       "        }} else if (Date.now() < window._bokeh_timeout) {\n",
       "        setTimeout(run_inline_js, 100);\n",
       "      } else if (!window._bokeh_failed_load) {\n",
       "        console.log(\"Bokeh: BokehJS failed to load within specified timeout.\");\n",
       "        window._bokeh_failed_load = true;\n",
       "      } else if (force !== true) {\n",
       "        var cell = $(document.getElementById(\"50a1d390-6399-43bb-b59c-29d92ae68928\")).parents('.cell').data().cell;\n",
       "        cell.output_area.append_execute_result(NB_LOAD_WARNING)\n",
       "      }\n",
       "  \n",
       "    }\n",
       "  \n",
       "    if (window._bokeh_is_loading === 0) {\n",
       "      console.log(\"Bokeh: BokehJS loaded, going straight to plotting\");\n",
       "      run_inline_js();\n",
       "    } else {\n",
       "      load_libs(js_urls, function() {\n",
       "        console.log(\"Bokeh: BokehJS plotting callback run at\", now());\n",
       "        run_inline_js();\n",
       "      });\n",
       "    }\n",
       "  }(this));\n",
       "</script>"
      ]
     },
     "metadata": {},
     "output_type": "display_data"
    }
   ],
   "source": [
    "p = Histogram(airs.drop_duplicates('Checksum')['Size']/1000, bins=50,\n",
    "             xlabel='Byte Stream Size (kilobytes)')\n",
    "show(p)"
   ]
  },
  {
   "cell_type": "code",
   "execution_count": 68,
   "metadata": {
    "collapsed": false
   },
   "outputs": [
    {
     "data": {
      "text/plain": [
       "count    3.303530e+05\n",
       "mean     2.451461e+05\n",
       "std      2.341771e+05\n",
       "min      2.000000e+01\n",
       "25%      8.419200e+04\n",
       "50%      1.922770e+05\n",
       "75%      2.363170e+05\n",
       "max      1.122311e+06\n",
       "Name: Size, dtype: float64"
      ]
     },
     "execution_count": 68,
     "metadata": {},
     "output_type": "execute_result"
    }
   ],
   "source": [
    "airs.drop_duplicates('Checksum')['Size'].describe()"
   ]
  },
  {
   "cell_type": "markdown",
   "metadata": {
    "collapsed": true
   },
   "source": [
    "### Datasets"
   ]
  },
  {
   "cell_type": "markdown",
   "metadata": {},
   "source": [
    "#### How many datasets per file?"
   ]
  },
  {
   "cell_type": "code",
   "execution_count": 69,
   "metadata": {
    "collapsed": true
   },
   "outputs": [],
   "source": [
    "grp = airs.groupby('File')"
   ]
  },
  {
   "cell_type": "code",
   "execution_count": 70,
   "metadata": {
    "collapsed": false
   },
   "outputs": [
    {
     "data": {
      "text/plain": [
       "count    365.0\n",
       "mean     777.0\n",
       "std        0.0\n",
       "min      777.0\n",
       "25%      777.0\n",
       "50%      777.0\n",
       "75%      777.0\n",
       "max      777.0\n",
       "Name: Dataset, dtype: float64"
      ]
     },
     "execution_count": 70,
     "metadata": {},
     "output_type": "execute_result"
    }
   ],
   "source": [
    "grp.Dataset.unique().apply(lambda l: len(l)).describe()"
   ]
  },
  {
   "cell_type": "markdown",
   "metadata": {},
   "source": [
    "#### Is every dataset in every AIRS file chunked?"
   ]
  },
  {
   "cell_type": "code",
   "execution_count": 71,
   "metadata": {
    "collapsed": true
   },
   "outputs": [],
   "source": [
    "grp = airs.groupby(['File', 'Dataset'])"
   ]
  },
  {
   "cell_type": "code",
   "execution_count": 72,
   "metadata": {
    "collapsed": false
   },
   "outputs": [
    {
     "data": {
      "text/plain": [
       "True"
      ]
     },
     "execution_count": 72,
     "metadata": {},
     "output_type": "execute_result"
    }
   ],
   "source": [
    "grp.Chunk_Flag.agg(all).all()"
   ]
  },
  {
   "cell_type": "markdown",
   "metadata": {},
   "source": [
    "#### How many byte streams per dataset?"
   ]
  },
  {
   "cell_type": "code",
   "execution_count": 73,
   "metadata": {
    "collapsed": false
   },
   "outputs": [
    {
     "data": {
      "text/plain": [
       "count    283605.000000\n",
       "mean          2.009009\n",
       "std           2.458655\n",
       "min           1.000000\n",
       "25%           1.000000\n",
       "50%           1.000000\n",
       "75%           1.000000\n",
       "max           8.000000\n",
       "Name: UUID, dtype: float64"
      ]
     },
     "execution_count": 73,
     "metadata": {},
     "output_type": "execute_result"
    }
   ],
   "source": [
    "grp.UUID.count().describe()"
   ]
  },
  {
   "cell_type": "code",
   "execution_count": 74,
   "metadata": {
    "collapsed": false
   },
   "outputs": [
    {
     "data": {
      "text/html": [
       "\n",
       "\n",
       "    <div class=\"bk-root\">\n",
       "        <div class=\"bk-plotdiv\" id=\"3044b6a1-d2cf-4a4b-b138-6af8d962ec76\"></div>\n",
       "    </div>\n",
       "<script type=\"text/javascript\">\n",
       "  \n",
       "  (function(global) {\n",
       "    function now() {\n",
       "      return new Date();\n",
       "    }\n",
       "  \n",
       "    var force = false;\n",
       "  \n",
       "    if (typeof (window._bokeh_onload_callbacks) === \"undefined\" || force === true) {\n",
       "      window._bokeh_onload_callbacks = [];\n",
       "      window._bokeh_is_loading = undefined;\n",
       "    }\n",
       "  \n",
       "  \n",
       "    \n",
       "    if (typeof (window._bokeh_timeout) === \"undefined\" || force === true) {\n",
       "      window._bokeh_timeout = Date.now() + 0;\n",
       "      window._bokeh_failed_load = false;\n",
       "    }\n",
       "  \n",
       "    var NB_LOAD_WARNING = {'data': {'text/html':\n",
       "       \"<div style='background-color: #fdd'>\\n\"+\n",
       "       \"<p>\\n\"+\n",
       "       \"BokehJS does not appear to have successfully loaded. If loading BokehJS from CDN, this \\n\"+\n",
       "       \"may be due to a slow or bad network connection. Possible fixes:\\n\"+\n",
       "       \"</p>\\n\"+\n",
       "       \"<ul>\\n\"+\n",
       "       \"<li>re-rerun `output_notebook()` to attempt to load from CDN again, or</li>\\n\"+\n",
       "       \"<li>use INLINE resources instead, as so:</li>\\n\"+\n",
       "       \"</ul>\\n\"+\n",
       "       \"<code>\\n\"+\n",
       "       \"from bokeh.resources import INLINE\\n\"+\n",
       "       \"output_notebook(resources=INLINE)\\n\"+\n",
       "       \"</code>\\n\"+\n",
       "       \"</div>\"}};\n",
       "  \n",
       "    function display_loaded() {\n",
       "      if (window.Bokeh !== undefined) {\n",
       "        document.getElementById(\"3044b6a1-d2cf-4a4b-b138-6af8d962ec76\").textContent = \"BokehJS successfully loaded.\";\n",
       "      } else if (Date.now() < window._bokeh_timeout) {\n",
       "        setTimeout(display_loaded, 100)\n",
       "      }\n",
       "    }\n",
       "  \n",
       "    function run_callbacks() {\n",
       "      window._bokeh_onload_callbacks.forEach(function(callback) { callback() });\n",
       "      delete window._bokeh_onload_callbacks\n",
       "      console.info(\"Bokeh: all callbacks have finished\");\n",
       "    }\n",
       "  \n",
       "    function load_libs(js_urls, callback) {\n",
       "      window._bokeh_onload_callbacks.push(callback);\n",
       "      if (window._bokeh_is_loading > 0) {\n",
       "        console.log(\"Bokeh: BokehJS is being loaded, scheduling callback at\", now());\n",
       "        return null;\n",
       "      }\n",
       "      if (js_urls == null || js_urls.length === 0) {\n",
       "        run_callbacks();\n",
       "        return null;\n",
       "      }\n",
       "      console.log(\"Bokeh: BokehJS not loaded, scheduling load and callback at\", now());\n",
       "      window._bokeh_is_loading = js_urls.length;\n",
       "      for (var i = 0; i < js_urls.length; i++) {\n",
       "        var url = js_urls[i];\n",
       "        var s = document.createElement('script');\n",
       "        s.src = url;\n",
       "        s.async = false;\n",
       "        s.onreadystatechange = s.onload = function() {\n",
       "          window._bokeh_is_loading--;\n",
       "          if (window._bokeh_is_loading === 0) {\n",
       "            console.log(\"Bokeh: all BokehJS libraries loaded\");\n",
       "            run_callbacks()\n",
       "          }\n",
       "        };\n",
       "        s.onerror = function() {\n",
       "          console.warn(\"failed to load library \" + url);\n",
       "        };\n",
       "        console.log(\"Bokeh: injecting script tag for BokehJS library: \", url);\n",
       "        document.getElementsByTagName(\"head\")[0].appendChild(s);\n",
       "      }\n",
       "    };var element = document.getElementById(\"3044b6a1-d2cf-4a4b-b138-6af8d962ec76\");\n",
       "    if (element == null) {\n",
       "      console.log(\"Bokeh: ERROR: autoload.js configured with elementid '3044b6a1-d2cf-4a4b-b138-6af8d962ec76' but no matching script tag was found. \")\n",
       "      return false;\n",
       "    }\n",
       "  \n",
       "    var js_urls = [];\n",
       "  \n",
       "    var inline_js = [\n",
       "      function(Bokeh) {\n",
       "        (function() {\n",
       "          var fn = function() {\n",
       "            var docs_json = {\"d8997e35-d6ca-427c-bf04-42048436774a\":{\"roots\":{\"references\":[{\"attributes\":{\"fill_alpha\":{\"field\":\"fill_alpha\"},\"fill_color\":{\"field\":\"color\"},\"height\":{\"field\":\"height\",\"units\":\"data\"},\"line_color\":{\"field\":\"line_color\"},\"width\":{\"field\":\"width\",\"units\":\"data\"},\"x\":{\"field\":\"x\"},\"y\":{\"field\":\"y\"}},\"id\":\"c97d087e-c8c5-4db2-973b-5566ccb2a97a\",\"type\":\"Rect\"},{\"attributes\":{\"fill_alpha\":{\"field\":\"fill_alpha\"},\"fill_color\":{\"field\":\"color\"},\"height\":{\"field\":\"height\",\"units\":\"data\"},\"line_color\":{\"field\":\"line_color\"},\"width\":{\"field\":\"width\",\"units\":\"data\"},\"x\":{\"field\":\"x\"},\"y\":{\"field\":\"y\"}},\"id\":\"425bf6fe-24e4-4186-ba29-de984d6c8132\",\"type\":\"Rect\"},{\"attributes\":{\"callback\":null,\"column_names\":[\"line_alpha\",\"line_color\",\"height\",\"y\",\"label\",\"width\",\"fill_alpha\",\"color\",\"x\"],\"data\":{\"chart_index\":[\"(2.500000, 3.500000]\"],\"color\":[\"#f22c40\"],\"fill_alpha\":[0.8],\"height\":[0.0],\"label\":[\"(2.500000, 3.500000]\"],\"line_alpha\":[1.0],\"line_color\":[\"black\"],\"width\":[1.0],\"x\":[\"3.0\"],\"y\":[0.0]}},\"id\":\"90fbcceb-cc8b-4506-afd7-0c8d181d621a\",\"type\":\"ColumnDataSource\"},{\"attributes\":{\"data_source\":{\"id\":\"926364f1-0325-43f1-9a79-2cd7eae1654d\",\"type\":\"ColumnDataSource\"},\"glyph\":{\"id\":\"de328192-9a3c-4d1a-8db9-cdaf1f3782b9\",\"type\":\"Rect\"},\"hover_glyph\":null,\"nonselection_glyph\":null,\"selection_glyph\":null},\"id\":\"77cd7d1c-1897-47b7-bdc4-68efde58516d\",\"type\":\"GlyphRenderer\"},{\"attributes\":{\"data_source\":{\"id\":\"91d2d4fa-049a-4853-ab03-9d44305d8279\",\"type\":\"ColumnDataSource\"},\"glyph\":{\"id\":\"c97d087e-c8c5-4db2-973b-5566ccb2a97a\",\"type\":\"Rect\"},\"hover_glyph\":null,\"nonselection_glyph\":null,\"selection_glyph\":null},\"id\":\"633fc612-5c0a-449c-b562-da38cb5260ca\",\"type\":\"GlyphRenderer\"},{\"attributes\":{},\"id\":\"296cdfe2-ad03-41bf-8363-55439ea46165\",\"type\":\"BasicTickFormatter\"},{\"attributes\":{\"fill_alpha\":{\"field\":\"fill_alpha\"},\"fill_color\":{\"field\":\"color\"},\"height\":{\"field\":\"height\",\"units\":\"data\"},\"line_color\":{\"field\":\"line_color\"},\"width\":{\"field\":\"width\",\"units\":\"data\"},\"x\":{\"field\":\"x\"},\"y\":{\"field\":\"y\"}},\"id\":\"de328192-9a3c-4d1a-8db9-cdaf1f3782b9\",\"type\":\"Rect\"},{\"attributes\":{\"location\":\"top_left\",\"plot\":{\"id\":\"a63eb5ef-3ce5-42ba-af35-f281999bf66c\",\"subtype\":\"Chart\",\"type\":\"Plot\"}},\"id\":\"acfa8883-be2a-4a3f-b61a-8312524ea930\",\"type\":\"Legend\"},{\"attributes\":{\"callback\":null,\"end\":8.725,\"start\":0.275},\"id\":\"25702196-c57e-463b-963c-d2223d0479cb\",\"type\":\"Range1d\"},{\"attributes\":{\"ticks\":[0,1,2,3,4,5,6,7,8]},\"id\":\"6fb9f940-8bbf-4f6a-b76c-70fd5132d5dd\",\"type\":\"FixedTicker\"},{\"attributes\":{\"callback\":null,\"column_names\":[\"line_alpha\",\"line_color\",\"height\",\"y\",\"label\",\"width\",\"fill_alpha\",\"color\",\"x\"],\"data\":{\"chart_index\":[\"[0.500000, 1.500000]\"],\"color\":[\"#f22c40\"],\"fill_alpha\":[0.8],\"height\":[242725.0],\"label\":[\"[0.500000, 1.500000]\"],\"line_alpha\":[1.0],\"line_color\":[\"black\"],\"width\":[1.0],\"x\":[\"1.0\"],\"y\":[121362.5]}},\"id\":\"30656a89-3ce8-4441-bdaa-460ada8b6feb\",\"type\":\"ColumnDataSource\"},{\"attributes\":{\"fill_alpha\":{\"field\":\"fill_alpha\"},\"fill_color\":{\"field\":\"color\"},\"height\":{\"field\":\"height\",\"units\":\"data\"},\"line_color\":{\"field\":\"line_color\"},\"width\":{\"field\":\"width\",\"units\":\"data\"},\"x\":{\"field\":\"x\"},\"y\":{\"field\":\"y\"}},\"id\":\"dca4df7b-d4aa-4ced-af70-80a3bc56c6eb\",\"type\":\"Rect\"},{\"attributes\":{\"data_source\":{\"id\":\"61b5cfd5-6fb3-4f8f-80f5-05a5c5113ea5\",\"type\":\"ColumnDataSource\"},\"glyph\":{\"id\":\"61daf481-fe9e-4db1-90ba-714fd894cdf6\",\"type\":\"Rect\"},\"hover_glyph\":null,\"nonselection_glyph\":null,\"selection_glyph\":null},\"id\":\"74eee14b-42ed-4238-94e1-79d15a2a0bc1\",\"type\":\"GlyphRenderer\"},{\"attributes\":{\"plot\":{\"id\":\"a63eb5ef-3ce5-42ba-af35-f281999bf66c\",\"subtype\":\"Chart\",\"type\":\"Plot\"}},\"id\":\"cfb11945-3615-4297-8bc0-5e30043a5c39\",\"type\":\"SaveTool\"},{\"attributes\":{},\"id\":\"16fd4307-afcb-4778-937f-8c0e38e63caf\",\"type\":\"BasicTickFormatter\"},{\"attributes\":{},\"id\":\"c5301449-e93f-4bd7-8d5b-2b395a0978d1\",\"type\":\"ToolEvents\"},{\"attributes\":{\"plot\":{\"id\":\"a63eb5ef-3ce5-42ba-af35-f281999bf66c\",\"subtype\":\"Chart\",\"type\":\"Plot\"}},\"id\":\"9ba7301a-5798-4bc4-869c-85927a3dc5ac\",\"type\":\"ResetTool\"},{\"attributes\":{\"overlay\":{\"id\":\"ebf958a5-ea62-4b00-8b20-c24c4500ec10\",\"type\":\"BoxAnnotation\"},\"plot\":{\"id\":\"a63eb5ef-3ce5-42ba-af35-f281999bf66c\",\"subtype\":\"Chart\",\"type\":\"Plot\"}},\"id\":\"ede9ad3e-7405-422e-8039-cb19f2cf00c8\",\"type\":\"BoxZoomTool\"},{\"attributes\":{\"below\":[{\"id\":\"a0e61bf8-aafc-488e-a4fa-89d12018834f\",\"type\":\"LinearAxis\"}],\"css_classes\":null,\"left\":[{\"id\":\"e4894b36-b715-4e3d-b0a9-09d32f19dfab\",\"type\":\"LinearAxis\"}],\"renderers\":[{\"id\":\"ebf958a5-ea62-4b00-8b20-c24c4500ec10\",\"type\":\"BoxAnnotation\"},{\"id\":\"601f8096-68e0-4874-8737-d10af663eacf\",\"type\":\"GlyphRenderer\"},{\"id\":\"74eee14b-42ed-4238-94e1-79d15a2a0bc1\",\"type\":\"GlyphRenderer\"},{\"id\":\"963cd149-e9ff-4638-9101-6870427f25dc\",\"type\":\"GlyphRenderer\"},{\"id\":\"633fc612-5c0a-449c-b562-da38cb5260ca\",\"type\":\"GlyphRenderer\"},{\"id\":\"8e434c0a-5fd4-4656-90e3-097ce34c92c9\",\"type\":\"GlyphRenderer\"},{\"id\":\"e9248c5a-59a6-45bf-adbe-c80da2a32186\",\"type\":\"GlyphRenderer\"},{\"id\":\"77cd7d1c-1897-47b7-bdc4-68efde58516d\",\"type\":\"GlyphRenderer\"},{\"id\":\"2d8f5ba3-b2d9-4e70-b7b3-fdbc1171ed4c\",\"type\":\"GlyphRenderer\"},{\"id\":\"acfa8883-be2a-4a3f-b61a-8312524ea930\",\"type\":\"Legend\"},{\"id\":\"a0e61bf8-aafc-488e-a4fa-89d12018834f\",\"type\":\"LinearAxis\"},{\"id\":\"e4894b36-b715-4e3d-b0a9-09d32f19dfab\",\"type\":\"LinearAxis\"},{\"id\":\"fae8da5b-5d21-4df6-acd8-94f1e237b309\",\"type\":\"Grid\"}],\"title\":{\"id\":\"ca4de8f5-735b-4f03-8f45-dff1a91a2900\",\"type\":\"Title\"},\"tool_events\":{\"id\":\"c5301449-e93f-4bd7-8d5b-2b395a0978d1\",\"type\":\"ToolEvents\"},\"toolbar\":{\"id\":\"b044db4f-b728-4d8d-b666-98a3a86bc8b7\",\"type\":\"Toolbar\"},\"x_mapper_type\":\"auto\",\"x_range\":{\"id\":\"25702196-c57e-463b-963c-d2223d0479cb\",\"type\":\"Range1d\"},\"y_mapper_type\":\"auto\",\"y_range\":{\"id\":\"ad74d589-52f2-4f0f-acae-f5330ecfa434\",\"type\":\"Range1d\"}},\"id\":\"a63eb5ef-3ce5-42ba-af35-f281999bf66c\",\"subtype\":\"Chart\",\"type\":\"Plot\"},{\"attributes\":{\"data_source\":{\"id\":\"43d86dfc-332b-4246-8144-411603142908\",\"type\":\"ColumnDataSource\"},\"glyph\":{\"id\":\"425bf6fe-24e4-4186-ba29-de984d6c8132\",\"type\":\"Rect\"},\"hover_glyph\":null,\"nonselection_glyph\":null,\"selection_glyph\":null},\"id\":\"8e434c0a-5fd4-4656-90e3-097ce34c92c9\",\"type\":\"GlyphRenderer\"},{\"attributes\":{\"callback\":null,\"column_names\":[\"line_alpha\",\"line_color\",\"height\",\"y\",\"label\",\"width\",\"fill_alpha\",\"color\",\"x\"],\"data\":{\"chart_index\":[\"(4.500000, 5.500000]\"],\"color\":[\"#f22c40\"],\"fill_alpha\":[0.8],\"height\":[0.0],\"label\":[\"(4.500000, 5.500000]\"],\"line_alpha\":[1.0],\"line_color\":[\"black\"],\"width\":[1.0],\"x\":[\"5.0\"],\"y\":[0.0]}},\"id\":\"43d86dfc-332b-4246-8144-411603142908\",\"type\":\"ColumnDataSource\"},{\"attributes\":{\"plot\":{\"id\":\"a63eb5ef-3ce5-42ba-af35-f281999bf66c\",\"subtype\":\"Chart\",\"type\":\"Plot\"}},\"id\":\"d7b2426e-61d3-4a18-8eaa-a117ed1a722f\",\"type\":\"PanTool\"},{\"attributes\":{\"plot\":{\"id\":\"a63eb5ef-3ce5-42ba-af35-f281999bf66c\",\"subtype\":\"Chart\",\"type\":\"Plot\"}},\"id\":\"ddcda7dd-38a2-422e-b796-a8d9909594ba\",\"type\":\"HelpTool\"},{\"attributes\":{\"dimension\":1,\"plot\":{\"id\":\"a63eb5ef-3ce5-42ba-af35-f281999bf66c\",\"subtype\":\"Chart\",\"type\":\"Plot\"},\"ticker\":{\"id\":\"abdd4483-5c60-495f-bde7-f73dd15d616a\",\"type\":\"BasicTicker\"}},\"id\":\"fae8da5b-5d21-4df6-acd8-94f1e237b309\",\"type\":\"Grid\"},{\"attributes\":{\"data_source\":{\"id\":\"90fbcceb-cc8b-4506-afd7-0c8d181d621a\",\"type\":\"ColumnDataSource\"},\"glyph\":{\"id\":\"32e0e500-dc62-493d-96c1-1bd45220ce3c\",\"type\":\"Rect\"},\"hover_glyph\":null,\"nonselection_glyph\":null,\"selection_glyph\":null},\"id\":\"963cd149-e9ff-4638-9101-6870427f25dc\",\"type\":\"GlyphRenderer\"},{\"attributes\":{\"plot\":null,\"text\":null},\"id\":\"ca4de8f5-735b-4f03-8f45-dff1a91a2900\",\"type\":\"Title\"},{\"attributes\":{\"callback\":null,\"end\":266997.5},\"id\":\"ad74d589-52f2-4f0f-acae-f5330ecfa434\",\"type\":\"Range1d\"},{\"attributes\":{},\"id\":\"abdd4483-5c60-495f-bde7-f73dd15d616a\",\"type\":\"BasicTicker\"},{\"attributes\":{\"fill_alpha\":{\"field\":\"fill_alpha\"},\"fill_color\":{\"field\":\"color\"},\"height\":{\"field\":\"height\",\"units\":\"data\"},\"line_color\":{\"field\":\"line_color\"},\"width\":{\"field\":\"width\",\"units\":\"data\"},\"x\":{\"field\":\"x\"},\"y\":{\"field\":\"y\"}},\"id\":\"61daf481-fe9e-4db1-90ba-714fd894cdf6\",\"type\":\"Rect\"},{\"attributes\":{\"fill_alpha\":{\"field\":\"fill_alpha\"},\"fill_color\":{\"field\":\"color\"},\"height\":{\"field\":\"height\",\"units\":\"data\"},\"line_color\":{\"field\":\"line_color\"},\"width\":{\"field\":\"width\",\"units\":\"data\"},\"x\":{\"field\":\"x\"},\"y\":{\"field\":\"y\"}},\"id\":\"32e0e500-dc62-493d-96c1-1bd45220ce3c\",\"type\":\"Rect\"},{\"attributes\":{\"data_source\":{\"id\":\"30656a89-3ce8-4441-bdaa-460ada8b6feb\",\"type\":\"ColumnDataSource\"},\"glyph\":{\"id\":\"e5258f0d-945d-412e-bea2-7209c8cc88c7\",\"type\":\"Rect\"},\"hover_glyph\":null,\"nonselection_glyph\":null,\"selection_glyph\":null},\"id\":\"601f8096-68e0-4874-8737-d10af663eacf\",\"type\":\"GlyphRenderer\"},{\"attributes\":{\"active_drag\":\"auto\",\"active_scroll\":\"auto\",\"active_tap\":\"auto\",\"tools\":[{\"id\":\"d7b2426e-61d3-4a18-8eaa-a117ed1a722f\",\"type\":\"PanTool\"},{\"id\":\"6ca27bff-8811-45fb-8bae-90483658634e\",\"type\":\"WheelZoomTool\"},{\"id\":\"ede9ad3e-7405-422e-8039-cb19f2cf00c8\",\"type\":\"BoxZoomTool\"},{\"id\":\"cfb11945-3615-4297-8bc0-5e30043a5c39\",\"type\":\"SaveTool\"},{\"id\":\"9ba7301a-5798-4bc4-869c-85927a3dc5ac\",\"type\":\"ResetTool\"},{\"id\":\"ddcda7dd-38a2-422e-b796-a8d9909594ba\",\"type\":\"HelpTool\"}]},\"id\":\"b044db4f-b728-4d8d-b666-98a3a86bc8b7\",\"type\":\"Toolbar\"},{\"attributes\":{\"axis_label\":\"Number of byte streams per dataset\",\"formatter\":{\"id\":\"16fd4307-afcb-4778-937f-8c0e38e63caf\",\"type\":\"BasicTickFormatter\"},\"plot\":{\"id\":\"a63eb5ef-3ce5-42ba-af35-f281999bf66c\",\"subtype\":\"Chart\",\"type\":\"Plot\"},\"ticker\":{\"id\":\"6fb9f940-8bbf-4f6a-b76c-70fd5132d5dd\",\"type\":\"FixedTicker\"}},\"id\":\"a0e61bf8-aafc-488e-a4fa-89d12018834f\",\"type\":\"LinearAxis\"},{\"attributes\":{\"bottom_units\":\"screen\",\"fill_alpha\":{\"value\":0.5},\"fill_color\":{\"value\":\"lightgrey\"},\"left_units\":\"screen\",\"level\":\"overlay\",\"line_alpha\":{\"value\":1.0},\"line_color\":{\"value\":\"black\"},\"line_dash\":[4,4],\"line_width\":{\"value\":2},\"plot\":null,\"render_mode\":\"css\",\"right_units\":\"screen\",\"top_units\":\"screen\"},\"id\":\"ebf958a5-ea62-4b00-8b20-c24c4500ec10\",\"type\":\"BoxAnnotation\"},{\"attributes\":{\"fill_alpha\":{\"field\":\"fill_alpha\"},\"fill_color\":{\"field\":\"color\"},\"height\":{\"field\":\"height\",\"units\":\"data\"},\"line_color\":{\"field\":\"line_color\"},\"width\":{\"field\":\"width\",\"units\":\"data\"},\"x\":{\"field\":\"x\"},\"y\":{\"field\":\"y\"}},\"id\":\"7d5b13d2-d884-4f5e-b676-29716b3376c6\",\"type\":\"Rect\"},{\"attributes\":{\"data_source\":{\"id\":\"8bc61e33-9b38-4cf0-84f4-b9c34bd12547\",\"type\":\"ColumnDataSource\"},\"glyph\":{\"id\":\"7d5b13d2-d884-4f5e-b676-29716b3376c6\",\"type\":\"Rect\"},\"hover_glyph\":null,\"nonselection_glyph\":null,\"selection_glyph\":null},\"id\":\"e9248c5a-59a6-45bf-adbe-c80da2a32186\",\"type\":\"GlyphRenderer\"},{\"attributes\":{\"callback\":null,\"column_names\":[\"line_alpha\",\"line_color\",\"height\",\"y\",\"label\",\"width\",\"fill_alpha\",\"color\",\"x\"],\"data\":{\"chart_index\":[\"(5.500000, 6.500000]\"],\"color\":[\"#f22c40\"],\"fill_alpha\":[0.8],\"height\":[0.0],\"label\":[\"(5.500000, 6.500000]\"],\"line_alpha\":[1.0],\"line_color\":[\"black\"],\"width\":[1.0],\"x\":[\"6.0\"],\"y\":[0.0]}},\"id\":\"8bc61e33-9b38-4cf0-84f4-b9c34bd12547\",\"type\":\"ColumnDataSource\"},{\"attributes\":{\"axis_label\":\"Count(Dataset per File)\",\"formatter\":{\"id\":\"296cdfe2-ad03-41bf-8363-55439ea46165\",\"type\":\"BasicTickFormatter\"},\"plot\":{\"id\":\"a63eb5ef-3ce5-42ba-af35-f281999bf66c\",\"subtype\":\"Chart\",\"type\":\"Plot\"},\"ticker\":{\"id\":\"abdd4483-5c60-495f-bde7-f73dd15d616a\",\"type\":\"BasicTicker\"}},\"id\":\"e4894b36-b715-4e3d-b0a9-09d32f19dfab\",\"type\":\"LinearAxis\"},{\"attributes\":{\"plot\":{\"id\":\"a63eb5ef-3ce5-42ba-af35-f281999bf66c\",\"subtype\":\"Chart\",\"type\":\"Plot\"}},\"id\":\"6ca27bff-8811-45fb-8bae-90483658634e\",\"type\":\"WheelZoomTool\"},{\"attributes\":{\"callback\":null,\"column_names\":[\"line_alpha\",\"line_color\",\"height\",\"y\",\"label\",\"width\",\"fill_alpha\",\"color\",\"x\"],\"data\":{\"chart_index\":[\"(3.500000, 4.500000]\"],\"color\":[\"#f22c40\"],\"fill_alpha\":[0.8],\"height\":[0.0],\"label\":[\"(3.500000, 4.500000]\"],\"line_alpha\":[1.0],\"line_color\":[\"black\"],\"width\":[1.0],\"x\":[\"4.0\"],\"y\":[0.0]}},\"id\":\"91d2d4fa-049a-4853-ab03-9d44305d8279\",\"type\":\"ColumnDataSource\"},{\"attributes\":{\"data_source\":{\"id\":\"bbc3551a-9edc-44d0-981f-0778c46dcea2\",\"type\":\"ColumnDataSource\"},\"glyph\":{\"id\":\"dca4df7b-d4aa-4ced-af70-80a3bc56c6eb\",\"type\":\"Rect\"},\"hover_glyph\":null,\"nonselection_glyph\":null,\"selection_glyph\":null},\"id\":\"2d8f5ba3-b2d9-4e70-b7b3-fdbc1171ed4c\",\"type\":\"GlyphRenderer\"},{\"attributes\":{\"callback\":null,\"column_names\":[\"line_alpha\",\"line_color\",\"height\",\"y\",\"label\",\"width\",\"fill_alpha\",\"color\",\"x\"],\"data\":{\"chart_index\":[\"(7.500000, 8.500000]\"],\"color\":[\"#f22c40\"],\"fill_alpha\":[0.8],\"height\":[40880.0],\"label\":[\"(7.500000, 8.500000]\"],\"line_alpha\":[1.0],\"line_color\":[\"black\"],\"width\":[1.0],\"x\":[\"8.0\"],\"y\":[20440.0]}},\"id\":\"bbc3551a-9edc-44d0-981f-0778c46dcea2\",\"type\":\"ColumnDataSource\"},{\"attributes\":{\"callback\":null,\"column_names\":[\"line_alpha\",\"line_color\",\"height\",\"y\",\"label\",\"width\",\"fill_alpha\",\"color\",\"x\"],\"data\":{\"chart_index\":[\"(6.500000, 7.500000]\"],\"color\":[\"#f22c40\"],\"fill_alpha\":[0.8],\"height\":[0.0],\"label\":[\"(6.500000, 7.500000]\"],\"line_alpha\":[1.0],\"line_color\":[\"black\"],\"width\":[1.0],\"x\":[\"7.0\"],\"y\":[0.0]}},\"id\":\"926364f1-0325-43f1-9a79-2cd7eae1654d\",\"type\":\"ColumnDataSource\"},{\"attributes\":{\"callback\":null,\"column_names\":[\"line_alpha\",\"line_color\",\"height\",\"y\",\"label\",\"width\",\"fill_alpha\",\"color\",\"x\"],\"data\":{\"chart_index\":[\"(1.500000, 2.500000]\"],\"color\":[\"#f22c40\"],\"fill_alpha\":[0.8],\"height\":[0.0],\"label\":[\"(1.500000, 2.500000]\"],\"line_alpha\":[1.0],\"line_color\":[\"black\"],\"width\":[1.0],\"x\":[\"2.0\"],\"y\":[0.0]}},\"id\":\"61b5cfd5-6fb3-4f8f-80f5-05a5c5113ea5\",\"type\":\"ColumnDataSource\"},{\"attributes\":{\"fill_alpha\":{\"field\":\"fill_alpha\"},\"fill_color\":{\"field\":\"color\"},\"height\":{\"field\":\"height\",\"units\":\"data\"},\"line_color\":{\"field\":\"line_color\"},\"width\":{\"field\":\"width\",\"units\":\"data\"},\"x\":{\"field\":\"x\"},\"y\":{\"field\":\"y\"}},\"id\":\"e5258f0d-945d-412e-bea2-7209c8cc88c7\",\"type\":\"Rect\"}],\"root_ids\":[\"a63eb5ef-3ce5-42ba-af35-f281999bf66c\"]},\"title\":\"Bokeh Application\",\"version\":\"0.12.4\"}};\n",
       "            var render_items = [{\"docid\":\"d8997e35-d6ca-427c-bf04-42048436774a\",\"elementid\":\"3044b6a1-d2cf-4a4b-b138-6af8d962ec76\",\"modelid\":\"a63eb5ef-3ce5-42ba-af35-f281999bf66c\"}];\n",
       "            \n",
       "            Bokeh.embed.embed_items(docs_json, render_items);\n",
       "          };\n",
       "          if (document.readyState != \"loading\") fn();\n",
       "          else document.addEventListener(\"DOMContentLoaded\", fn);\n",
       "        })();\n",
       "      },\n",
       "      function(Bokeh) {\n",
       "      }\n",
       "    ];\n",
       "  \n",
       "    function run_inline_js() {\n",
       "      \n",
       "      if ((window.Bokeh !== undefined) || (force === true)) {\n",
       "        for (var i = 0; i < inline_js.length; i++) {\n",
       "          inline_js[i](window.Bokeh);\n",
       "        }if (force === true) {\n",
       "          display_loaded();\n",
       "        }} else if (Date.now() < window._bokeh_timeout) {\n",
       "        setTimeout(run_inline_js, 100);\n",
       "      } else if (!window._bokeh_failed_load) {\n",
       "        console.log(\"Bokeh: BokehJS failed to load within specified timeout.\");\n",
       "        window._bokeh_failed_load = true;\n",
       "      } else if (force !== true) {\n",
       "        var cell = $(document.getElementById(\"3044b6a1-d2cf-4a4b-b138-6af8d962ec76\")).parents('.cell').data().cell;\n",
       "        cell.output_area.append_execute_result(NB_LOAD_WARNING)\n",
       "      }\n",
       "  \n",
       "    }\n",
       "  \n",
       "    if (window._bokeh_is_loading === 0) {\n",
       "      console.log(\"Bokeh: BokehJS loaded, going straight to plotting\");\n",
       "      run_inline_js();\n",
       "    } else {\n",
       "      load_libs(js_urls, function() {\n",
       "        console.log(\"Bokeh: BokehJS plotting callback run at\", now());\n",
       "        run_inline_js();\n",
       "      });\n",
       "    }\n",
       "  }(this));\n",
       "</script>"
      ]
     },
     "metadata": {},
     "output_type": "display_data"
    }
   ],
   "source": [
    "p = Histogram(grp.UUID.count(), bins=[.5, 1.5, 2.5, 3.5, 4.5, 5.5, 6.5, 7.5, 8.5],\n",
    "              xlabel='Number of byte streams per dataset',\n",
    "              ylabel='Count(Dataset per File)')\n",
    "p.xaxis[0].ticker = FixedTicker(ticks=list(range(9)))\n",
    "show(p)"
   ]
  },
  {
   "cell_type": "code",
   "execution_count": null,
   "metadata": {
    "collapsed": true
   },
   "outputs": [],
   "source": []
  }
 ],
 "metadata": {
  "kernelspec": {
   "display_name": "Python 3",
   "language": "python",
   "name": "python3"
  },
  "language_info": {
   "codemirror_mode": {
    "name": "ipython",
    "version": 3
   },
   "file_extension": ".py",
   "mimetype": "text/x-python",
   "name": "python",
   "nbconvert_exporter": "python",
   "pygments_lexer": "ipython3",
   "version": "3.5.1"
  }
 },
 "nbformat": 4,
 "nbformat_minor": 2
}
