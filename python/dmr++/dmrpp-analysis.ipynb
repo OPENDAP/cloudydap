{
 "cells": [
  {
   "cell_type": "markdown",
   "metadata": {},
   "source": [
    "# Analysis of DMR++ Information"
   ]
  },
  {
   "cell_type": "code",
   "execution_count": 1,
   "metadata": {
    "collapsed": false
   },
   "outputs": [
    {
     "data": {
      "text/html": [
       "\n",
       "    <div class=\"bk-root\">\n",
       "        <a href=\"http://bokeh.pydata.org\" target=\"_blank\" class=\"bk-logo bk-logo-small bk-logo-notebook\"></a>\n",
       "        <span id=\"39df229d-6968-4c5f-ac46-9b39e7dd5536\">Loading BokehJS ...</span>\n",
       "    </div>"
      ]
     },
     "metadata": {},
     "output_type": "display_data"
    },
    {
     "data": {
      "application/javascript": [
       "\n",
       "(function(global) {\n",
       "  function now() {\n",
       "    return new Date();\n",
       "  }\n",
       "\n",
       "  var force = true;\n",
       "\n",
       "  if (typeof (window._bokeh_onload_callbacks) === \"undefined\" || force === true) {\n",
       "    window._bokeh_onload_callbacks = [];\n",
       "    window._bokeh_is_loading = undefined;\n",
       "  }\n",
       "\n",
       "\n",
       "  \n",
       "  if (typeof (window._bokeh_timeout) === \"undefined\" || force === true) {\n",
       "    window._bokeh_timeout = Date.now() + 5000;\n",
       "    window._bokeh_failed_load = false;\n",
       "  }\n",
       "\n",
       "  var NB_LOAD_WARNING = {'data': {'text/html':\n",
       "     \"<div style='background-color: #fdd'>\\n\"+\n",
       "     \"<p>\\n\"+\n",
       "     \"BokehJS does not appear to have successfully loaded. If loading BokehJS from CDN, this \\n\"+\n",
       "     \"may be due to a slow or bad network connection. Possible fixes:\\n\"+\n",
       "     \"</p>\\n\"+\n",
       "     \"<ul>\\n\"+\n",
       "     \"<li>re-rerun `output_notebook()` to attempt to load from CDN again, or</li>\\n\"+\n",
       "     \"<li>use INLINE resources instead, as so:</li>\\n\"+\n",
       "     \"</ul>\\n\"+\n",
       "     \"<code>\\n\"+\n",
       "     \"from bokeh.resources import INLINE\\n\"+\n",
       "     \"output_notebook(resources=INLINE)\\n\"+\n",
       "     \"</code>\\n\"+\n",
       "     \"</div>\"}};\n",
       "\n",
       "  function display_loaded() {\n",
       "    if (window.Bokeh !== undefined) {\n",
       "      document.getElementById(\"39df229d-6968-4c5f-ac46-9b39e7dd5536\").textContent = \"BokehJS successfully loaded.\";\n",
       "    } else if (Date.now() < window._bokeh_timeout) {\n",
       "      setTimeout(display_loaded, 100)\n",
       "    }\n",
       "  }\n",
       "\n",
       "  function run_callbacks() {\n",
       "    window._bokeh_onload_callbacks.forEach(function(callback) { callback() });\n",
       "    delete window._bokeh_onload_callbacks\n",
       "    console.info(\"Bokeh: all callbacks have finished\");\n",
       "  }\n",
       "\n",
       "  function load_libs(js_urls, callback) {\n",
       "    window._bokeh_onload_callbacks.push(callback);\n",
       "    if (window._bokeh_is_loading > 0) {\n",
       "      console.log(\"Bokeh: BokehJS is being loaded, scheduling callback at\", now());\n",
       "      return null;\n",
       "    }\n",
       "    if (js_urls == null || js_urls.length === 0) {\n",
       "      run_callbacks();\n",
       "      return null;\n",
       "    }\n",
       "    console.log(\"Bokeh: BokehJS not loaded, scheduling load and callback at\", now());\n",
       "    window._bokeh_is_loading = js_urls.length;\n",
       "    for (var i = 0; i < js_urls.length; i++) {\n",
       "      var url = js_urls[i];\n",
       "      var s = document.createElement('script');\n",
       "      s.src = url;\n",
       "      s.async = false;\n",
       "      s.onreadystatechange = s.onload = function() {\n",
       "        window._bokeh_is_loading--;\n",
       "        if (window._bokeh_is_loading === 0) {\n",
       "          console.log(\"Bokeh: all BokehJS libraries loaded\");\n",
       "          run_callbacks()\n",
       "        }\n",
       "      };\n",
       "      s.onerror = function() {\n",
       "        console.warn(\"failed to load library \" + url);\n",
       "      };\n",
       "      console.log(\"Bokeh: injecting script tag for BokehJS library: \", url);\n",
       "      document.getElementsByTagName(\"head\")[0].appendChild(s);\n",
       "    }\n",
       "  };var element = document.getElementById(\"39df229d-6968-4c5f-ac46-9b39e7dd5536\");\n",
       "  if (element == null) {\n",
       "    console.log(\"Bokeh: ERROR: autoload.js configured with elementid '39df229d-6968-4c5f-ac46-9b39e7dd5536' but no matching script tag was found. \")\n",
       "    return false;\n",
       "  }\n",
       "\n",
       "  var js_urls = [\"https://cdn.pydata.org/bokeh/release/bokeh-0.12.4.min.js\", \"https://cdn.pydata.org/bokeh/release/bokeh-widgets-0.12.4.min.js\"];\n",
       "\n",
       "  var inline_js = [\n",
       "    function(Bokeh) {\n",
       "      Bokeh.set_log_level(\"info\");\n",
       "    },\n",
       "    \n",
       "    function(Bokeh) {\n",
       "      \n",
       "      document.getElementById(\"39df229d-6968-4c5f-ac46-9b39e7dd5536\").textContent = \"BokehJS is loading...\";\n",
       "    },\n",
       "    function(Bokeh) {\n",
       "      console.log(\"Bokeh: injecting CSS: https://cdn.pydata.org/bokeh/release/bokeh-0.12.4.min.css\");\n",
       "      Bokeh.embed.inject_css(\"https://cdn.pydata.org/bokeh/release/bokeh-0.12.4.min.css\");\n",
       "      console.log(\"Bokeh: injecting CSS: https://cdn.pydata.org/bokeh/release/bokeh-widgets-0.12.4.min.css\");\n",
       "      Bokeh.embed.inject_css(\"https://cdn.pydata.org/bokeh/release/bokeh-widgets-0.12.4.min.css\");\n",
       "    }\n",
       "  ];\n",
       "\n",
       "  function run_inline_js() {\n",
       "    \n",
       "    if ((window.Bokeh !== undefined) || (force === true)) {\n",
       "      for (var i = 0; i < inline_js.length; i++) {\n",
       "        inline_js[i](window.Bokeh);\n",
       "      }if (force === true) {\n",
       "        display_loaded();\n",
       "      }} else if (Date.now() < window._bokeh_timeout) {\n",
       "      setTimeout(run_inline_js, 100);\n",
       "    } else if (!window._bokeh_failed_load) {\n",
       "      console.log(\"Bokeh: BokehJS failed to load within specified timeout.\");\n",
       "      window._bokeh_failed_load = true;\n",
       "    } else if (force !== true) {\n",
       "      var cell = $(document.getElementById(\"39df229d-6968-4c5f-ac46-9b39e7dd5536\")).parents('.cell').data().cell;\n",
       "      cell.output_area.append_execute_result(NB_LOAD_WARNING)\n",
       "    }\n",
       "\n",
       "  }\n",
       "\n",
       "  if (window._bokeh_is_loading === 0) {\n",
       "    console.log(\"Bokeh: BokehJS loaded, going straight to plotting\");\n",
       "    run_inline_js();\n",
       "  } else {\n",
       "    load_libs(js_urls, function() {\n",
       "      console.log(\"Bokeh: BokehJS plotting callback run at\", now());\n",
       "      run_inline_js();\n",
       "    });\n",
       "  }\n",
       "}(this));"
      ]
     },
     "metadata": {},
     "output_type": "display_data"
    }
   ],
   "source": [
    "import pandas as pd\n",
    "from bokeh.charts import output_notebook, output_file, show, Scatter, Histogram, TimeSeries\n",
    "from bokeh.plotting import figure, ColumnDataSource\n",
    "from bokeh.models import Range1d, HoverTool, ResizeTool, FixedTicker\n",
    "output_notebook()"
   ]
  },
  {
   "cell_type": "code",
   "execution_count": 2,
   "metadata": {
    "collapsed": true
   },
   "outputs": [],
   "source": [
    "dmrpp = pd.read_csv('../../../dmrpp_stats.csv')"
   ]
  },
  {
   "cell_type": "code",
   "execution_count": 3,
   "metadata": {
    "collapsed": false
   },
   "outputs": [
    {
     "name": "stdout",
     "output_type": "stream",
     "text": [
      "<class 'pandas.core.frame.DataFrame'>\n",
      "RangeIndex: 8120478 entries, 0 to 8120477\n",
      "Data columns (total 7 columns):\n",
      "File          object\n",
      "Dataset       object\n",
      "Chunk_Flag    bool\n",
      "UUID          object\n",
      "Checksum      object\n",
      "Offset        int64\n",
      "Size          int64\n",
      "dtypes: bool(1), int64(2), object(4)\n",
      "memory usage: 379.5+ MB\n"
     ]
    }
   ],
   "source": [
    "dmrpp.info()"
   ]
  },
  {
   "cell_type": "code",
   "execution_count": 4,
   "metadata": {
    "collapsed": false
   },
   "outputs": [
    {
     "data": {
      "text/html": [
       "<div>\n",
       "<table border=\"1\" class=\"dataframe\">\n",
       "  <thead>\n",
       "    <tr style=\"text-align: right;\">\n",
       "      <th></th>\n",
       "      <th>File</th>\n",
       "      <th>Dataset</th>\n",
       "      <th>Chunk_Flag</th>\n",
       "      <th>UUID</th>\n",
       "      <th>Checksum</th>\n",
       "      <th>Offset</th>\n",
       "      <th>Size</th>\n",
       "    </tr>\n",
       "  </thead>\n",
       "  <tbody>\n",
       "    <tr>\n",
       "      <th>0</th>\n",
       "      <td>AIRS.2015.01.01.L3.RetStd_IR001.v6.0.11.0.G150...</td>\n",
       "      <td>/TropHeight_TqJ_D_max</td>\n",
       "      <td>True</td>\n",
       "      <td>8c3b0087-973a-4073-8215-8490fd26065c</td>\n",
       "      <td>d4a492ad98ae783145c9286cf69e5b8a</td>\n",
       "      <td>283428105</td>\n",
       "      <td>149944</td>\n",
       "    </tr>\n",
       "    <tr>\n",
       "      <th>1</th>\n",
       "      <td>AIRS.2015.01.01.L3.RetStd_IR001.v6.0.11.0.G150...</td>\n",
       "      <td>/CoarseCloudFrc_TqJ_D_ct</td>\n",
       "      <td>True</td>\n",
       "      <td>065860ce-ebd0-465a-8512-bf7d56557a58</td>\n",
       "      <td>0555723dc275296109273ecf6bb8fe64</td>\n",
       "      <td>294468920</td>\n",
       "      <td>112388</td>\n",
       "    </tr>\n",
       "    <tr>\n",
       "      <th>2</th>\n",
       "      <td>AIRS.2015.01.01.L3.RetStd_IR001.v6.0.11.0.G150...</td>\n",
       "      <td>/O3_VMR_TqJ_D_min</td>\n",
       "      <td>True</td>\n",
       "      <td>9752def8-fd3a-462f-9f86-700a2790b89d</td>\n",
       "      <td>bcaf632733e1ef9ad9a281589c02c4dc</td>\n",
       "      <td>301573840</td>\n",
       "      <td>233452</td>\n",
       "    </tr>\n",
       "  </tbody>\n",
       "</table>\n",
       "</div>"
      ],
      "text/plain": [
       "                                                File  \\\n",
       "0  AIRS.2015.01.01.L3.RetStd_IR001.v6.0.11.0.G150...   \n",
       "1  AIRS.2015.01.01.L3.RetStd_IR001.v6.0.11.0.G150...   \n",
       "2  AIRS.2015.01.01.L3.RetStd_IR001.v6.0.11.0.G150...   \n",
       "\n",
       "                    Dataset Chunk_Flag                                  UUID  \\\n",
       "0     /TropHeight_TqJ_D_max       True  8c3b0087-973a-4073-8215-8490fd26065c   \n",
       "1  /CoarseCloudFrc_TqJ_D_ct       True  065860ce-ebd0-465a-8512-bf7d56557a58   \n",
       "2         /O3_VMR_TqJ_D_min       True  9752def8-fd3a-462f-9f86-700a2790b89d   \n",
       "\n",
       "                           Checksum     Offset    Size  \n",
       "0  d4a492ad98ae783145c9286cf69e5b8a  283428105  149944  \n",
       "1  0555723dc275296109273ecf6bb8fe64  294468920  112388  \n",
       "2  bcaf632733e1ef9ad9a281589c02c4dc  301573840  233452  "
      ]
     },
     "execution_count": 4,
     "metadata": {},
     "output_type": "execute_result"
    }
   ],
   "source": [
    "dmrpp.head(3)"
   ]
  },
  {
   "cell_type": "code",
   "execution_count": 5,
   "metadata": {
    "collapsed": false
   },
   "outputs": [
    {
     "data": {
      "text/html": [
       "<div>\n",
       "<table border=\"1\" class=\"dataframe\">\n",
       "  <thead>\n",
       "    <tr style=\"text-align: right;\">\n",
       "      <th></th>\n",
       "      <th>File</th>\n",
       "      <th>Dataset</th>\n",
       "      <th>Chunk_Flag</th>\n",
       "      <th>UUID</th>\n",
       "      <th>Checksum</th>\n",
       "      <th>Offset</th>\n",
       "      <th>Size</th>\n",
       "    </tr>\n",
       "  </thead>\n",
       "  <tbody>\n",
       "    <tr>\n",
       "      <th>8120475</th>\n",
       "      <td>za_2_2d_yz.h5</td>\n",
       "      <td>/HDFEOS/ZAS/ZA1/Data Fields/Temperature</td>\n",
       "      <td>False</td>\n",
       "      <td>38c4ac4b-8f4e-414e-a6c3-5342bacd0a60</td>\n",
       "      <td>ac971f91f30b76bc1b481501b0a53542</td>\n",
       "      <td>40696</td>\n",
       "      <td>32</td>\n",
       "    </tr>\n",
       "    <tr>\n",
       "      <th>8120476</th>\n",
       "      <td>za_2_2d_yz.h5</td>\n",
       "      <td>/HDFEOS/ZAS/ZA2/Data Fields/Temperature</td>\n",
       "      <td>False</td>\n",
       "      <td>1c73591f-e26c-402a-8429-0941e78a9708</td>\n",
       "      <td>d709add9a8fd30f7432e76d43def1494</td>\n",
       "      <td>40776</td>\n",
       "      <td>128</td>\n",
       "    </tr>\n",
       "    <tr>\n",
       "      <th>8120477</th>\n",
       "      <td>za_2_2d_yz.h5</td>\n",
       "      <td>/HDFEOS/ZAS/ZA1/Data Fields/Latitude</td>\n",
       "      <td>False</td>\n",
       "      <td>cf98febc-e0ea-4cac-ad5c-423e91ddbca8</td>\n",
       "      <td>6d8ca9f67d9914dd04b31533021b7e17</td>\n",
       "      <td>40680</td>\n",
       "      <td>16</td>\n",
       "    </tr>\n",
       "  </tbody>\n",
       "</table>\n",
       "</div>"
      ],
      "text/plain": [
       "                  File                                  Dataset Chunk_Flag  \\\n",
       "8120475  za_2_2d_yz.h5  /HDFEOS/ZAS/ZA1/Data Fields/Temperature      False   \n",
       "8120476  za_2_2d_yz.h5  /HDFEOS/ZAS/ZA2/Data Fields/Temperature      False   \n",
       "8120477  za_2_2d_yz.h5     /HDFEOS/ZAS/ZA1/Data Fields/Latitude      False   \n",
       "\n",
       "                                         UUID  \\\n",
       "8120475  38c4ac4b-8f4e-414e-a6c3-5342bacd0a60   \n",
       "8120476  1c73591f-e26c-402a-8429-0941e78a9708   \n",
       "8120477  cf98febc-e0ea-4cac-ad5c-423e91ddbca8   \n",
       "\n",
       "                                 Checksum  Offset  Size  \n",
       "8120475  ac971f91f30b76bc1b481501b0a53542   40696    32  \n",
       "8120476  d709add9a8fd30f7432e76d43def1494   40776   128  \n",
       "8120477  6d8ca9f67d9914dd04b31533021b7e17   40680    16  "
      ]
     },
     "execution_count": 5,
     "metadata": {},
     "output_type": "execute_result"
    }
   ],
   "source": [
    "dmrpp.tail(3)"
   ]
  },
  {
   "cell_type": "markdown",
   "metadata": {},
   "source": [
    "Create a new column for file types:"
   ]
  },
  {
   "cell_type": "code",
   "execution_count": 6,
   "metadata": {
    "collapsed": true
   },
   "outputs": [],
   "source": [
    "def file_type(v):\n",
    "    if v.startswith('AIRS'):\n",
    "        return 'airs'\n",
    "    elif v.startswith('MERRA2'):\n",
    "        return 'merra'\n",
    "    else:\n",
    "        return 'sample'"
   ]
  },
  {
   "cell_type": "code",
   "execution_count": 7,
   "metadata": {
    "collapsed": true
   },
   "outputs": [],
   "source": [
    "dmrpp['Type'] = dmrpp['File'].map(file_type)"
   ]
  },
  {
   "cell_type": "markdown",
   "metadata": {},
   "source": [
    "What we have now?"
   ]
  },
  {
   "cell_type": "code",
   "execution_count": 8,
   "metadata": {
    "collapsed": false
   },
   "outputs": [
    {
     "name": "stdout",
     "output_type": "stream",
     "text": [
      "<class 'pandas.core.frame.DataFrame'>\n",
      "RangeIndex: 8120478 entries, 0 to 8120477\n",
      "Data columns (total 8 columns):\n",
      "File          object\n",
      "Dataset       object\n",
      "Chunk_Flag    bool\n",
      "UUID          object\n",
      "Checksum      object\n",
      "Offset        int64\n",
      "Size          int64\n",
      "Type          object\n",
      "dtypes: bool(1), int64(2), object(5)\n",
      "memory usage: 441.4+ MB\n"
     ]
    }
   ],
   "source": [
    "dmrpp.info()"
   ]
  },
  {
   "cell_type": "markdown",
   "metadata": {},
   "source": [
    "## How many records for each file type?"
   ]
  },
  {
   "cell_type": "code",
   "execution_count": 9,
   "metadata": {
    "collapsed": true
   },
   "outputs": [],
   "source": [
    "grp = dmrpp.groupby('Type')"
   ]
  },
  {
   "cell_type": "code",
   "execution_count": 10,
   "metadata": {
    "collapsed": false
   },
   "outputs": [
    {
     "data": {
      "text/plain": [
       "Type\n",
       "airs       569765\n",
       "merra     7494823\n",
       "sample      55890\n",
       "dtype: int64"
      ]
     },
     "execution_count": 10,
     "metadata": {},
     "output_type": "execute_result"
    }
   ],
   "source": [
    "grp.size()"
   ]
  },
  {
   "cell_type": "markdown",
   "metadata": {},
   "source": [
    "## Analysis: AIRS"
   ]
  },
  {
   "cell_type": "markdown",
   "metadata": {},
   "source": [
    "Select only the AIRS data:"
   ]
  },
  {
   "cell_type": "code",
   "execution_count": 11,
   "metadata": {
    "collapsed": true
   },
   "outputs": [],
   "source": [
    "airs = dmrpp[dmrpp.Type == 'airs']"
   ]
  },
  {
   "cell_type": "code",
   "execution_count": 12,
   "metadata": {
    "collapsed": false
   },
   "outputs": [
    {
     "name": "stdout",
     "output_type": "stream",
     "text": [
      "<class 'pandas.core.frame.DataFrame'>\n",
      "Int64Index: 569765 entries, 0 to 569764\n",
      "Data columns (total 8 columns):\n",
      "File          569765 non-null object\n",
      "Dataset       569765 non-null object\n",
      "Chunk_Flag    569765 non-null bool\n",
      "UUID          569765 non-null object\n",
      "Checksum      569765 non-null object\n",
      "Offset        569765 non-null int64\n",
      "Size          569765 non-null int64\n",
      "Type          569765 non-null object\n",
      "dtypes: bool(1), int64(2), object(5)\n",
      "memory usage: 35.3+ MB\n"
     ]
    }
   ],
   "source": [
    "airs.info()"
   ]
  },
  {
   "cell_type": "markdown",
   "metadata": {},
   "source": [
    "### Byte Streams"
   ]
  },
  {
   "cell_type": "markdown",
   "metadata": {},
   "source": [
    "#### How many byte streams with unique content?"
   ]
  },
  {
   "cell_type": "code",
   "execution_count": 13,
   "metadata": {
    "collapsed": false
   },
   "outputs": [],
   "source": [
    "x = airs.Checksum.value_counts()"
   ]
  },
  {
   "cell_type": "code",
   "execution_count": 14,
   "metadata": {
    "collapsed": false
   },
   "outputs": [
    {
     "data": {
      "text/plain": [
       "330353"
      ]
     },
     "execution_count": 14,
     "metadata": {},
     "output_type": "execute_result"
    }
   ],
   "source": [
    "len(x.index)"
   ]
  },
  {
   "cell_type": "markdown",
   "metadata": {},
   "source": [
    "#### Which are the Top 20 byte streams based on content?"
   ]
  },
  {
   "cell_type": "code",
   "execution_count": 15,
   "metadata": {
    "collapsed": false
   },
   "outputs": [
    {
     "data": {
      "text/plain": [
       "c55324594a0787856d9b908fc7a7a201    49640\n",
       "a43f0ca2084e297f3aa9763a828dcb0f     6570\n",
       "13194f25768e29a4921fa9f6ba022342     1460\n",
       "7c90147b4fcb72404dd36c4b0d82051d     1460\n",
       "7b744463b12501af7f1b66dece5e41b4      730\n",
       "6c9db2946c92fcf6e0d9f8c3bb49d1ff      365\n",
       "19c03d94e619f2f3d8ad1428c6c1389c      365\n",
       "cce9f79f6073bdaf715f1a5a07bf72ec      365\n",
       "5bbb0bd53711bae49dc9e3c6b37bebd6      365\n",
       "f6da25808f22177cef49588cc08740ca      365\n",
       "cd581cc833cabac662ad43499330bed6      365\n",
       "e03cc92919bb584379ea825173440b1c      365\n",
       "a71f8216cff7fca9d2c00e768589efdd      365\n",
       "0b2396e0349f169f6f5e16650f4063c5      365\n",
       "61f33d4ee48f21fef8b6ce240dbf12c2      365\n",
       "08676799dc49855f9d71198e0c49d1ec      365\n",
       "9cb1ca22f2c372217dd18cd55f0f1e4f       15\n",
       "c1c4bba0373b08baee01c39774c97d42       15\n",
       "445c789e45bf87283f4b443bbe22e8f1       15\n",
       "0b35945a25e243ca38a2eb89d4ccc002       15\n",
       "Name: Checksum, dtype: int64"
      ]
     },
     "execution_count": 15,
     "metadata": {},
     "output_type": "execute_result"
    }
   ],
   "source": [
    "x.sort_values(ascending=False).head(20)"
   ]
  },
  {
   "cell_type": "markdown",
   "metadata": {},
   "source": [
    "#### Where is the same byte stream stored?"
   ]
  },
  {
   "cell_type": "markdown",
   "metadata": {},
   "source": [
    "Byte stream we are looking for:"
   ]
  },
  {
   "cell_type": "code",
   "execution_count": 16,
   "metadata": {
    "collapsed": true
   },
   "outputs": [],
   "source": [
    "cksum = 'c55324594a0787856d9b908fc7a7a201'"
   ]
  },
  {
   "cell_type": "code",
   "execution_count": 17,
   "metadata": {
    "collapsed": true
   },
   "outputs": [],
   "source": [
    "grp = airs.groupby('Checksum')"
   ]
  },
  {
   "cell_type": "markdown",
   "metadata": {},
   "source": [
    "Per dataset across all AIRS files that have it:"
   ]
  },
  {
   "cell_type": "code",
   "execution_count": 18,
   "metadata": {
    "collapsed": false
   },
   "outputs": [
    {
     "data": {
      "text/plain": [
       "/Temperature_MW_D_sdev    2920\n",
       "/GPHeight_MW_A_sdev       2920\n",
       "/GPHeight_MW_D            2920\n",
       "/Temperature_MW_D_min     2920\n",
       "/GPHeight_MW_D_max        2920\n",
       "/Temperature_MW_D_max     2920\n",
       "/Temperature_MW_A_sdev    2920\n",
       "/GPHeight_MW_D_sdev       2920\n",
       "/GPHeight_MW_A            2920\n",
       "/GPHeight_MW_D_min        2920\n",
       "/Temperature_MW_A_max     2920\n",
       "/GPHeight_MW_A_max        2920\n",
       "/Temperature_MW_A_min     2920\n",
       "/Temperature_MW_D         2920\n",
       "/GPHeight_MW_A_min        2920\n",
       "/Temperature_MW_A         2920\n",
       "/Emis_MW_D_max             365\n",
       "/Emis_MW_A                 365\n",
       "/Emis_MW_D_sdev            365\n",
       "/Emis_MW_A_max             365\n",
       "/Emis_MW_A_min             365\n",
       "/Emis_MW_D_min             365\n",
       "/Emis_MW_D                 365\n",
       "/Emis_MW_A_sdev            365\n",
       "Name: Dataset, dtype: int64"
      ]
     },
     "execution_count": 18,
     "metadata": {},
     "output_type": "execute_result"
    }
   ],
   "source": [
    "grp.get_group(cksum)['Dataset'].value_counts()"
   ]
  },
  {
   "cell_type": "markdown",
   "metadata": {},
   "source": [
    "Per file including all its datasets:"
   ]
  },
  {
   "cell_type": "code",
   "execution_count": 19,
   "metadata": {
    "collapsed": false
   },
   "outputs": [
    {
     "data": {
      "text/plain": [
       "AIRS.2015.09.23.L3.RetStd_IR001.v6.0.31.0.G15281123841.nc.h5    136\n",
       "AIRS.2015.03.16.L3.RetStd_IR001.v6.0.11.0.G15076184035.nc.h5    136\n",
       "AIRS.2015.09.17.L3.RetStd_IR001.v6.0.31.0.G15265195548.nc.h5    136\n",
       "AIRS.2015.05.15.L3.RetStd_IR001.v6.0.31.0.G15213005119.nc.h5    136\n",
       "AIRS.2015.12.15.L3.RetStd_IR001.v6.0.31.0.G15350164838.nc.h5    136\n",
       "AIRS.2015.07.10.L3.RetStd_IR001.v6.0.31.0.G15192172639.nc.h5    136\n",
       "AIRS.2015.12.25.L3.RetStd_IR001.v6.0.31.0.G15362153615.nc.h5    136\n",
       "AIRS.2015.05.23.L3.RetStd_IR001.v6.0.31.0.G15225104912.nc.h5    136\n",
       "AIRS.2015.04.13.L3.RetStd_IR001.v6.0.31.0.G15190185721.nc.h5    136\n",
       "AIRS.2015.04.21.L3.RetStd_IR001.v6.0.31.0.G15197132455.nc.h5    136\n",
       "AIRS.2015.06.16.L3.RetStd_IR001.v6.0.31.0.G15208195104.nc.h5    136\n",
       "AIRS.2015.06.19.L3.RetStd_IR001.v6.0.31.0.G15211041208.nc.h5    136\n",
       "AIRS.2015.03.26.L3.RetStd_IR001.v6.0.31.0.G15187102922.nc.h5    136\n",
       "AIRS.2015.11.18.L3.RetStd_IR001.v6.0.31.0.G15323173646.nc.h5    136\n",
       "AIRS.2015.07.22.L3.RetStd_IR001.v6.0.31.0.G15205034133.nc.h5    136\n",
       "AIRS.2015.11.04.L3.RetStd_IR001.v6.0.31.0.G15309175722.nc.h5    136\n",
       "AIRS.2015.05.03.L3.RetStd_IR001.v6.0.31.0.G15204151052.nc.h5    136\n",
       "AIRS.2015.05.25.L3.RetStd_IR001.v6.0.31.0.G15221133012.nc.h5    136\n",
       "AIRS.2015.01.17.L3.RetStd_IR001.v6.0.11.0.G15018164040.nc.h5    136\n",
       "AIRS.2015.07.07.L3.RetStd_IR001.v6.0.31.0.G15190070030.nc.h5    136\n",
       "AIRS.2015.04.03.L3.RetStd_IR001.v6.0.31.0.G15188110828.nc.h5    136\n",
       "AIRS.2015.08.05.L3.RetStd_IR001.v6.0.31.0.G15218212447.nc.h5    136\n",
       "AIRS.2015.10.02.L3.RetStd_IR001.v6.0.31.0.G15276183800.nc.h5    136\n",
       "AIRS.2015.02.06.L3.RetStd_IR001.v6.0.11.0.G15040125632.nc.h5    136\n",
       "AIRS.2015.05.20.L3.RetStd_IR001.v6.0.31.0.G15219212804.nc.h5    136\n",
       "AIRS.2015.10.03.L3.RetStd_IR001.v6.0.31.0.G15277183928.nc.h5    136\n",
       "AIRS.2015.07.03.L3.RetStd_IR001.v6.0.31.0.G15226110506.nc.h5    136\n",
       "AIRS.2015.05.19.L3.RetStd_IR001.v6.0.31.0.G15215112758.nc.h5    136\n",
       "AIRS.2015.07.14.L3.RetStd_IR001.v6.0.31.0.G15197075159.nc.h5    136\n",
       "AIRS.2015.04.04.L3.RetStd_IR001.v6.0.31.0.G15188134210.nc.h5    136\n",
       "                                                               ... \n",
       "AIRS.2015.10.26.L3.RetStd_IR001.v6.0.31.0.G15300185045.nc.h5    136\n",
       "AIRS.2015.09.22.L3.RetStd_IR001.v6.0.31.0.G15281123620.nc.h5    136\n",
       "AIRS.2015.06.20.L3.RetStd_IR001.v6.0.31.0.G15215201033.nc.h5    136\n",
       "AIRS.2015.09.08.L3.RetStd_IR001.v6.0.31.0.G15252181912.nc.h5    136\n",
       "AIRS.2015.11.08.L3.RetStd_IR001.v6.0.31.0.G15313181728.nc.h5    136\n",
       "AIRS.2015.09.04.L3.RetStd_IR001.v6.0.31.0.G15251123039.nc.h5    136\n",
       "AIRS.2015.02.03.L3.RetStd_IR001.v6.0.11.0.G15036141942.nc.h5    136\n",
       "AIRS.2015.07.21.L3.RetStd_IR001.v6.0.31.0.G15204035156.nc.h5    136\n",
       "AIRS.2015.07.20.L3.RetStd_IR001.v6.0.31.0.G15203034310.nc.h5    136\n",
       "AIRS.2015.12.03.L3.RetStd_IR001.v6.0.31.0.G15338200027.nc.h5    136\n",
       "AIRS.2015.09.01.L3.RetStd_IR001.v6.0.31.0.G15246055428.nc.h5    136\n",
       "AIRS.2015.02.08.L3.RetStd_IR001.v6.0.11.0.G15040190512.nc.h5    136\n",
       "AIRS.2015.08.01.L3.RetStd_IR001.v6.0.31.0.G15214230515.nc.h5    136\n",
       "AIRS.2015.09.14.L3.RetStd_IR001.v6.0.31.0.G15259120757.nc.h5    136\n",
       "AIRS.2015.12.12.L3.RetStd_IR001.v6.0.31.0.G15347173750.nc.h5    136\n",
       "AIRS.2015.05.26.L3.RetStd_IR001.v6.0.31.0.G15225113048.nc.h5    136\n",
       "AIRS.2015.12.17.L3.RetStd_IR001.v6.0.31.0.G15355185144.nc.h5    136\n",
       "AIRS.2015.02.13.L3.RetStd_IR001.v6.0.11.0.G15049142314.nc.h5    136\n",
       "AIRS.2015.03.22.L3.RetStd_IR001.v6.0.11.0.G15082210050.nc.h5    136\n",
       "AIRS.2015.11.13.L3.RetStd_IR001.v6.0.31.0.G15318181838.nc.h5    136\n",
       "AIRS.2015.07.06.L3.RetStd_IR001.v6.0.31.0.G15190051959.nc.h5    136\n",
       "AIRS.2015.11.27.L3.RetStd_IR001.v6.0.31.0.G15341130700.nc.h5    136\n",
       "AIRS.2015.04.06.L3.RetStd_IR001.v6.0.31.0.G15189011837.nc.h5    136\n",
       "AIRS.2015.10.14.L3.RetStd_IR001.v6.0.31.0.G15288181532.nc.h5    136\n",
       "AIRS.2015.05.14.L3.RetStd_IR001.v6.0.31.0.G15212191403.nc.h5    136\n",
       "AIRS.2015.08.16.L3.RetStd_IR001.v6.0.31.0.G15229181146.nc.h5    136\n",
       "AIRS.2015.08.03.L3.RetStd_IR001.v6.0.31.0.G15216225225.nc.h5    136\n",
       "AIRS.2015.10.08.L3.RetStd_IR001.v6.0.31.0.G15282181604.nc.h5    136\n",
       "AIRS.2015.10.01.L3.RetStd_IR001.v6.0.31.0.G15275180621.nc.h5    136\n",
       "AIRS.2015.07.15.L3.RetStd_IR001.v6.0.31.0.G15198034817.nc.h5    136\n",
       "Name: File, dtype: int64"
      ]
     },
     "execution_count": 19,
     "metadata": {},
     "output_type": "execute_result"
    }
   ],
   "source": [
    "grp.get_group(cksum)['File'].value_counts()"
   ]
  },
  {
   "cell_type": "markdown",
   "metadata": {},
   "source": [
    "#### What is the total number of byte streams in the AIRS files?"
   ]
  },
  {
   "cell_type": "code",
   "execution_count": 20,
   "metadata": {
    "collapsed": false
   },
   "outputs": [
    {
     "data": {
      "text/plain": [
       "569765"
      ]
     },
     "execution_count": 20,
     "metadata": {},
     "output_type": "execute_result"
    }
   ],
   "source": [
    "x.sum()"
   ]
  },
  {
   "cell_type": "markdown",
   "metadata": {},
   "source": [
    "#### What is the percentage reduction in number of S3 objects based on repeating checksums?"
   ]
  },
  {
   "cell_type": "code",
   "execution_count": 21,
   "metadata": {
    "collapsed": false
   },
   "outputs": [
    {
     "data": {
      "text/plain": [
       "-42.019429062859246"
      ]
     },
     "execution_count": 21,
     "metadata": {},
     "output_type": "execute_result"
    }
   ],
   "source": [
    "100 * (len(x.index)/x.sum() - 1)"
   ]
  },
  {
   "cell_type": "markdown",
   "metadata": {},
   "source": [
    "#### What is the percentage reduction in bytes stored in S3 based on repeating checksums?"
   ]
  },
  {
   "cell_type": "code",
   "execution_count": 22,
   "metadata": {
    "collapsed": false
   },
   "outputs": [
    {
     "data": {
      "text/plain": [
       "114762412036"
      ]
     },
     "execution_count": 22,
     "metadata": {},
     "output_type": "execute_result"
    }
   ],
   "source": [
    "before = airs.Size.sum()\n",
    "before"
   ]
  },
  {
   "cell_type": "code",
   "execution_count": 23,
   "metadata": {
    "collapsed": false
   },
   "outputs": [
    {
     "data": {
      "text/plain": [
       "80984748175"
      ]
     },
     "execution_count": 23,
     "metadata": {},
     "output_type": "execute_result"
    }
   ],
   "source": [
    "after = airs.drop_duplicates('Checksum')['Size'].sum()\n",
    "after"
   ]
  },
  {
   "cell_type": "code",
   "execution_count": 24,
   "metadata": {
    "collapsed": false
   },
   "outputs": [
    {
     "data": {
      "text/plain": [
       "-29.432689032715899"
      ]
     },
     "execution_count": 24,
     "metadata": {},
     "output_type": "execute_result"
    }
   ],
   "source": [
    "100 * (after/before - 1)"
   ]
  },
  {
   "cell_type": "markdown",
   "metadata": {},
   "source": [
    "#### What is the size statistics for unique byte streams?"
   ]
  },
  {
   "cell_type": "code",
   "execution_count": 25,
   "metadata": {
    "collapsed": false
   },
   "outputs": [
    {
     "data": {
      "text/html": [
       "\n",
       "\n",
       "    <div class=\"bk-root\">\n",
       "        <div class=\"bk-plotdiv\" id=\"96e97e5c-aa5e-4978-b95c-5b0db0ddbddd\"></div>\n",
       "    </div>\n",
       "<script type=\"text/javascript\">\n",
       "  \n",
       "  (function(global) {\n",
       "    function now() {\n",
       "      return new Date();\n",
       "    }\n",
       "  \n",
       "    var force = false;\n",
       "  \n",
       "    if (typeof (window._bokeh_onload_callbacks) === \"undefined\" || force === true) {\n",
       "      window._bokeh_onload_callbacks = [];\n",
       "      window._bokeh_is_loading = undefined;\n",
       "    }\n",
       "  \n",
       "  \n",
       "    \n",
       "    if (typeof (window._bokeh_timeout) === \"undefined\" || force === true) {\n",
       "      window._bokeh_timeout = Date.now() + 0;\n",
       "      window._bokeh_failed_load = false;\n",
       "    }\n",
       "  \n",
       "    var NB_LOAD_WARNING = {'data': {'text/html':\n",
       "       \"<div style='background-color: #fdd'>\\n\"+\n",
       "       \"<p>\\n\"+\n",
       "       \"BokehJS does not appear to have successfully loaded. If loading BokehJS from CDN, this \\n\"+\n",
       "       \"may be due to a slow or bad network connection. Possible fixes:\\n\"+\n",
       "       \"</p>\\n\"+\n",
       "       \"<ul>\\n\"+\n",
       "       \"<li>re-rerun `output_notebook()` to attempt to load from CDN again, or</li>\\n\"+\n",
       "       \"<li>use INLINE resources instead, as so:</li>\\n\"+\n",
       "       \"</ul>\\n\"+\n",
       "       \"<code>\\n\"+\n",
       "       \"from bokeh.resources import INLINE\\n\"+\n",
       "       \"output_notebook(resources=INLINE)\\n\"+\n",
       "       \"</code>\\n\"+\n",
       "       \"</div>\"}};\n",
       "  \n",
       "    function display_loaded() {\n",
       "      if (window.Bokeh !== undefined) {\n",
       "        document.getElementById(\"96e97e5c-aa5e-4978-b95c-5b0db0ddbddd\").textContent = \"BokehJS successfully loaded.\";\n",
       "      } else if (Date.now() < window._bokeh_timeout) {\n",
       "        setTimeout(display_loaded, 100)\n",
       "      }\n",
       "    }\n",
       "  \n",
       "    function run_callbacks() {\n",
       "      window._bokeh_onload_callbacks.forEach(function(callback) { callback() });\n",
       "      delete window._bokeh_onload_callbacks\n",
       "      console.info(\"Bokeh: all callbacks have finished\");\n",
       "    }\n",
       "  \n",
       "    function load_libs(js_urls, callback) {\n",
       "      window._bokeh_onload_callbacks.push(callback);\n",
       "      if (window._bokeh_is_loading > 0) {\n",
       "        console.log(\"Bokeh: BokehJS is being loaded, scheduling callback at\", now());\n",
       "        return null;\n",
       "      }\n",
       "      if (js_urls == null || js_urls.length === 0) {\n",
       "        run_callbacks();\n",
       "        return null;\n",
       "      }\n",
       "      console.log(\"Bokeh: BokehJS not loaded, scheduling load and callback at\", now());\n",
       "      window._bokeh_is_loading = js_urls.length;\n",
       "      for (var i = 0; i < js_urls.length; i++) {\n",
       "        var url = js_urls[i];\n",
       "        var s = document.createElement('script');\n",
       "        s.src = url;\n",
       "        s.async = false;\n",
       "        s.onreadystatechange = s.onload = function() {\n",
       "          window._bokeh_is_loading--;\n",
       "          if (window._bokeh_is_loading === 0) {\n",
       "            console.log(\"Bokeh: all BokehJS libraries loaded\");\n",
       "            run_callbacks()\n",
       "          }\n",
       "        };\n",
       "        s.onerror = function() {\n",
       "          console.warn(\"failed to load library \" + url);\n",
       "        };\n",
       "        console.log(\"Bokeh: injecting script tag for BokehJS library: \", url);\n",
       "        document.getElementsByTagName(\"head\")[0].appendChild(s);\n",
       "      }\n",
       "    };var element = document.getElementById(\"96e97e5c-aa5e-4978-b95c-5b0db0ddbddd\");\n",
       "    if (element == null) {\n",
       "      console.log(\"Bokeh: ERROR: autoload.js configured with elementid '96e97e5c-aa5e-4978-b95c-5b0db0ddbddd' but no matching script tag was found. \")\n",
       "      return false;\n",
       "    }\n",
       "  \n",
       "    var js_urls = [];\n",
       "  \n",
       "    var inline_js = [\n",
       "      function(Bokeh) {\n",
       "        (function() {\n",
       "          var fn = function() {\n",
       "            var docs_json = {\"b4b3edd5-9fa0-4517-ac35-911eec7e6832\":{\"roots\":{\"references\":[{\"attributes\":{\"data_source\":{\"id\":\"01ca9d4b-d879-4aee-a62b-bc5911d5cbe3\",\"type\":\"ColumnDataSource\"},\"glyph\":{\"id\":\"c519ecb9-da8c-417b-b201-340eecad46f6\",\"type\":\"Rect\"},\"hover_glyph\":null,\"nonselection_glyph\":null,\"selection_glyph\":null},\"id\":\"e4fe9b9f-ae0c-4d7f-9f5e-00d229a5a902\",\"type\":\"GlyphRenderer\"},{\"attributes\":{\"callback\":null,\"column_names\":[\"color\",\"fill_alpha\",\"x\",\"label\",\"y\",\"height\",\"line_alpha\",\"width\",\"line_color\"],\"data\":{\"chart_index\":[\"(157.140740, 179.586560]\"],\"color\":[\"#f22c40\"],\"fill_alpha\":[0.8],\"height\":[21028.0],\"label\":[\"(157.140740, 179.586560]\"],\"line_alpha\":[1.0],\"line_color\":[\"black\"],\"width\":[22.445819999999998],\"x\":[\"168.36365\"],\"y\":[10514.0]}},\"id\":\"714d25c6-d903-4db7-8e6c-40fe47a9315d\",\"type\":\"ColumnDataSource\"},{\"attributes\":{\"callback\":null,\"column_names\":[\"color\",\"fill_alpha\",\"x\",\"label\",\"y\",\"height\",\"line_alpha\",\"width\",\"line_color\"],\"data\":{\"chart_index\":[\"(448.936400, 471.382220]\"],\"color\":[\"#f22c40\"],\"fill_alpha\":[0.8],\"height\":[621.0],\"label\":[\"(448.936400, 471.382220]\"],\"line_alpha\":[1.0],\"line_color\":[\"black\"],\"width\":[22.445820000000026],\"x\":[\"460.15931\"],\"y\":[310.5]}},\"id\":\"38ee9480-062c-4dc1-a2db-fbae78bf14fd\",\"type\":\"ColumnDataSource\"},{\"attributes\":{\"overlay\":{\"id\":\"513abc6d-aba1-478f-a3c2-c6111c3bccce\",\"type\":\"BoxAnnotation\"},\"plot\":{\"id\":\"ea714d3a-1f0d-44e5-8718-8c54af17ea3a\",\"subtype\":\"Chart\",\"type\":\"Plot\"}},\"id\":\"5770497d-5edc-4f19-baea-326e535c8de7\",\"type\":\"BoxZoomTool\"},{\"attributes\":{\"data_source\":{\"id\":\"619d0d4c-0ad2-4e26-b234-06f7111bf826\",\"type\":\"ColumnDataSource\"},\"glyph\":{\"id\":\"64fc6ea3-2fe5-4e3d-abec-d70222b1426b\",\"type\":\"Rect\"},\"hover_glyph\":null,\"nonselection_glyph\":null,\"selection_glyph\":null},\"id\":\"23cc5cd9-6587-4eda-a62e-52e1c72b81f4\",\"type\":\"GlyphRenderer\"},{\"attributes\":{\"fill_alpha\":{\"field\":\"fill_alpha\"},\"fill_color\":{\"field\":\"color\"},\"height\":{\"field\":\"height\",\"units\":\"data\"},\"line_color\":{\"field\":\"line_color\"},\"width\":{\"field\":\"width\",\"units\":\"data\"},\"x\":{\"field\":\"x\"},\"y\":{\"field\":\"y\"}},\"id\":\"ed645e7b-c778-4e42-94a3-9efe2bc72e7d\",\"type\":\"Rect\"},{\"attributes\":{\"fill_alpha\":{\"field\":\"fill_alpha\"},\"fill_color\":{\"field\":\"color\"},\"height\":{\"field\":\"height\",\"units\":\"data\"},\"line_color\":{\"field\":\"line_color\"},\"width\":{\"field\":\"width\",\"units\":\"data\"},\"x\":{\"field\":\"x\"},\"y\":{\"field\":\"y\"}},\"id\":\"353eaf61-6437-49b2-be59-f3c8d209fff6\",\"type\":\"Rect\"},{\"attributes\":{\"callback\":null,\"column_names\":[\"color\",\"fill_alpha\",\"x\",\"label\",\"y\",\"height\",\"line_alpha\",\"width\",\"line_color\"],\"data\":{\"chart_index\":[\"(583.611320, 606.057140]\"],\"color\":[\"#f22c40\"],\"fill_alpha\":[0.8],\"height\":[57.0],\"label\":[\"(583.611320, 606.057140]\"],\"line_alpha\":[1.0],\"line_color\":[\"black\"],\"width\":[22.445819999999912],\"x\":[\"594.8342299999999\"],\"y\":[28.5]}},\"id\":\"bc354d76-ff2a-4e54-96e9-e758231d9a1a\",\"type\":\"ColumnDataSource\"},{\"attributes\":{\"callback\":null,\"end\":67844.70000000001},\"id\":\"c9bfd104-f2e1-460b-baec-4cbacf2c0faf\",\"type\":\"Range1d\"},{\"attributes\":{\"bottom_units\":\"screen\",\"fill_alpha\":{\"value\":0.5},\"fill_color\":{\"value\":\"lightgrey\"},\"left_units\":\"screen\",\"level\":\"overlay\",\"line_alpha\":{\"value\":1.0},\"line_color\":{\"value\":\"black\"},\"line_dash\":[4,4],\"line_width\":{\"value\":2},\"plot\":null,\"render_mode\":\"css\",\"right_units\":\"screen\",\"top_units\":\"screen\"},\"id\":\"513abc6d-aba1-478f-a3c2-c6111c3bccce\",\"type\":\"BoxAnnotation\"},{\"attributes\":{\"fill_alpha\":{\"field\":\"fill_alpha\"},\"fill_color\":{\"field\":\"color\"},\"height\":{\"field\":\"height\",\"units\":\"data\"},\"line_color\":{\"field\":\"line_color\"},\"width\":{\"field\":\"width\",\"units\":\"data\"},\"x\":{\"field\":\"x\"},\"y\":{\"field\":\"y\"}},\"id\":\"9d58da42-d993-4d0c-a2a5-eebc48c626e7\",\"type\":\"Rect\"},{\"attributes\":{\"fill_alpha\":{\"field\":\"fill_alpha\"},\"fill_color\":{\"field\":\"color\"},\"height\":{\"field\":\"height\",\"units\":\"data\"},\"line_color\":{\"field\":\"line_color\"},\"width\":{\"field\":\"width\",\"units\":\"data\"},\"x\":{\"field\":\"x\"},\"y\":{\"field\":\"y\"}},\"id\":\"05b719a7-f96f-4857-8458-8996a42787fd\",\"type\":\"Rect\"},{\"attributes\":{\"data_source\":{\"id\":\"c15742df-56e4-4157-a032-a95ce0869852\",\"type\":\"ColumnDataSource\"},\"glyph\":{\"id\":\"1cdec2a7-bd9c-4ee0-942c-66959e75d4ad\",\"type\":\"Rect\"},\"hover_glyph\":null,\"nonselection_glyph\":null,\"selection_glyph\":null},\"id\":\"e4ccfe8a-e24b-4025-a8e3-4ec71a9168de\",\"type\":\"GlyphRenderer\"},{\"attributes\":{\"data_source\":{\"id\":\"1dcf3909-f424-4999-8dfb-7039850cd985\",\"type\":\"ColumnDataSource\"},\"glyph\":{\"id\":\"ed645e7b-c778-4e42-94a3-9efe2bc72e7d\",\"type\":\"Rect\"},\"hover_glyph\":null,\"nonselection_glyph\":null,\"selection_glyph\":null},\"id\":\"045aa0e7-5aa9-41b5-8081-01b4801549d0\",\"type\":\"GlyphRenderer\"},{\"attributes\":{\"callback\":null,\"column_names\":[\"color\",\"fill_alpha\",\"x\",\"label\",\"y\",\"height\",\"line_alpha\",\"width\",\"line_color\"],\"data\":{\"chart_index\":[\"(875.406980, 897.852800]\"],\"color\":[\"#f22c40\"],\"fill_alpha\":[0.8],\"height\":[1320.0],\"label\":[\"(875.406980, 897.852800]\"],\"line_alpha\":[1.0],\"line_color\":[\"black\"],\"width\":[22.445820000000026],\"x\":[\"886.6298899999999\"],\"y\":[660.0]}},\"id\":\"62cde433-11a6-49d6-9140-deba11e920d5\",\"type\":\"ColumnDataSource\"},{\"attributes\":{\"callback\":null,\"column_names\":[\"color\",\"fill_alpha\",\"x\",\"label\",\"y\",\"height\",\"line_alpha\",\"width\",\"line_color\"],\"data\":{\"chart_index\":[\"(740.732060, 763.177880]\"],\"color\":[\"#f22c40\"],\"fill_alpha\":[0.8],\"height\":[229.0],\"label\":[\"(740.732060, 763.177880]\"],\"line_alpha\":[1.0],\"line_color\":[\"black\"],\"width\":[22.445820000000026],\"x\":[\"751.95497\"],\"y\":[114.5]}},\"id\":\"2a0b3ffa-5cd7-47e2-86c8-a1e87daa8f7f\",\"type\":\"ColumnDataSource\"},{\"attributes\":{\"fill_alpha\":{\"field\":\"fill_alpha\"},\"fill_color\":{\"field\":\"color\"},\"height\":{\"field\":\"height\",\"units\":\"data\"},\"line_color\":{\"field\":\"line_color\"},\"width\":{\"field\":\"width\",\"units\":\"data\"},\"x\":{\"field\":\"x\"},\"y\":{\"field\":\"y\"}},\"id\":\"8020c82a-b714-4a57-9dc6-756cffa5e739\",\"type\":\"Rect\"},{\"attributes\":{\"data_source\":{\"id\":\"bc354d76-ff2a-4e54-96e9-e758231d9a1a\",\"type\":\"ColumnDataSource\"},\"glyph\":{\"id\":\"c9dfcc0e-acd2-41ea-aef5-57c0b4d38e25\",\"type\":\"Rect\"},\"hover_glyph\":null,\"nonselection_glyph\":null,\"selection_glyph\":null},\"id\":\"98655de6-e6bc-4ea9-8620-389c74477bad\",\"type\":\"GlyphRenderer\"},{\"attributes\":{\"callback\":null,\"column_names\":[\"color\",\"fill_alpha\",\"x\",\"label\",\"y\",\"height\",\"line_alpha\",\"width\",\"line_color\"],\"data\":{\"chart_index\":[\"(179.586560, 202.032380]\"],\"color\":[\"#f22c40\"],\"fill_alpha\":[0.8],\"height\":[59955.0],\"label\":[\"(179.586560, 202.032380]\"],\"line_alpha\":[1.0],\"line_color\":[\"black\"],\"width\":[22.445819999999998],\"x\":[\"190.80946999999998\"],\"y\":[29977.5]}},\"id\":\"fe55e42b-8fe7-4c8f-8f42-c5abf1fc49d4\",\"type\":\"ColumnDataSource\"},{\"attributes\":{\"data_source\":{\"id\":\"b5264005-ca0e-4105-a4f5-a802460db1d1\",\"type\":\"ColumnDataSource\"},\"glyph\":{\"id\":\"745bc537-4a19-4ba2-99a7-b1cfe2de454a\",\"type\":\"Rect\"},\"hover_glyph\":null,\"nonselection_glyph\":null,\"selection_glyph\":null},\"id\":\"12793de3-dd2d-433f-b121-58fb122d045f\",\"type\":\"GlyphRenderer\"},{\"attributes\":{\"fill_alpha\":{\"field\":\"fill_alpha\"},\"fill_color\":{\"field\":\"color\"},\"height\":{\"field\":\"height\",\"units\":\"data\"},\"line_color\":{\"field\":\"line_color\"},\"width\":{\"field\":\"width\",\"units\":\"data\"},\"x\":{\"field\":\"x\"},\"y\":{\"field\":\"y\"}},\"id\":\"dd90f951-482b-469e-859d-905a4288e350\",\"type\":\"Rect\"},{\"attributes\":{\"fill_alpha\":{\"field\":\"fill_alpha\"},\"fill_color\":{\"field\":\"color\"},\"height\":{\"field\":\"height\",\"units\":\"data\"},\"line_color\":{\"field\":\"line_color\"},\"width\":{\"field\":\"width\",\"units\":\"data\"},\"x\":{\"field\":\"x\"},\"y\":{\"field\":\"y\"}},\"id\":\"c519ecb9-da8c-417b-b201-340eecad46f6\",\"type\":\"Rect\"},{\"attributes\":{\"data_source\":{\"id\":\"e44c9bd7-55ba-4909-9092-49678bdf12a9\",\"type\":\"ColumnDataSource\"},\"glyph\":{\"id\":\"285352f9-dfe3-4025-99ad-bcf915af6160\",\"type\":\"Rect\"},\"hover_glyph\":null,\"nonselection_glyph\":null,\"selection_glyph\":null},\"id\":\"ce531f94-9e9c-45f5-ad9d-bff557127e37\",\"type\":\"GlyphRenderer\"},{\"attributes\":{\"plot\":{\"id\":\"ea714d3a-1f0d-44e5-8718-8c54af17ea3a\",\"subtype\":\"Chart\",\"type\":\"Plot\"}},\"id\":\"2290fd7c-940e-4be9-a6a4-1228a05cc090\",\"type\":\"ResetTool\"},{\"attributes\":{\"callback\":null,\"column_names\":[\"color\",\"fill_alpha\",\"x\",\"label\",\"y\",\"height\",\"line_alpha\",\"width\",\"line_color\"],\"data\":{\"chart_index\":[\"(718.286240, 740.732060]\"],\"color\":[\"#f22c40\"],\"fill_alpha\":[0.8],\"height\":[131.0],\"label\":[\"(718.286240, 740.732060]\"],\"line_alpha\":[1.0],\"line_color\":[\"black\"],\"width\":[22.445820000000026],\"x\":[\"729.5091500000001\"],\"y\":[65.5]}},\"id\":\"b5264005-ca0e-4105-a4f5-a802460db1d1\",\"type\":\"ColumnDataSource\"},{\"attributes\":{\"callback\":null,\"column_names\":[\"color\",\"fill_alpha\",\"x\",\"label\",\"y\",\"height\",\"line_alpha\",\"width\",\"line_color\"],\"data\":{\"chart_index\":[\"(314.261480, 336.707300]\"],\"color\":[\"#f22c40\"],\"fill_alpha\":[0.8],\"height\":[130.0],\"label\":[\"(314.261480, 336.707300]\"],\"line_alpha\":[1.0],\"line_color\":[\"black\"],\"width\":[22.44581999999997],\"x\":[\"325.48438999999996\"],\"y\":[65.0]}},\"id\":\"5d6c5fd9-99c5-4e41-b9f2-62af7c60e053\",\"type\":\"ColumnDataSource\"},{\"attributes\":{\"data_source\":{\"id\":\"71ca86fe-1a82-4b7c-ae17-e8b65633effc\",\"type\":\"ColumnDataSource\"},\"glyph\":{\"id\":\"5ffdc3cd-4206-4e3d-b380-3cbd5503ff4d\",\"type\":\"Rect\"},\"hover_glyph\":null,\"nonselection_glyph\":null,\"selection_glyph\":null},\"id\":\"e79f863b-37b8-4bd5-9328-9bbb4eb65842\",\"type\":\"GlyphRenderer\"},{\"attributes\":{\"fill_alpha\":{\"field\":\"fill_alpha\"},\"fill_color\":{\"field\":\"color\"},\"height\":{\"field\":\"height\",\"units\":\"data\"},\"line_color\":{\"field\":\"line_color\"},\"width\":{\"field\":\"width\",\"units\":\"data\"},\"x\":{\"field\":\"x\"},\"y\":{\"field\":\"y\"}},\"id\":\"c6e866fc-577c-42c1-8462-319351f63b9a\",\"type\":\"Rect\"},{\"attributes\":{\"fill_alpha\":{\"field\":\"fill_alpha\"},\"fill_color\":{\"field\":\"color\"},\"height\":{\"field\":\"height\",\"units\":\"data\"},\"line_color\":{\"field\":\"line_color\"},\"width\":{\"field\":\"width\",\"units\":\"data\"},\"x\":{\"field\":\"x\"},\"y\":{\"field\":\"y\"}},\"id\":\"74d55b72-4bba-431f-988b-99a9dbead634\",\"type\":\"Rect\"},{\"attributes\":{\"data_source\":{\"id\":\"de5ef964-1732-4dc6-87ee-c2320f87b088\",\"type\":\"ColumnDataSource\"},\"glyph\":{\"id\":\"be3a795c-c8d0-4b90-acc1-78edffbed975\",\"type\":\"Rect\"},\"hover_glyph\":null,\"nonselection_glyph\":null,\"selection_glyph\":null},\"id\":\"746c8af3-d6f2-462e-9a23-b5c6f65ed2b7\",\"type\":\"GlyphRenderer\"},{\"attributes\":{\"fill_alpha\":{\"field\":\"fill_alpha\"},\"fill_color\":{\"field\":\"color\"},\"height\":{\"field\":\"height\",\"units\":\"data\"},\"line_color\":{\"field\":\"line_color\"},\"width\":{\"field\":\"width\",\"units\":\"data\"},\"x\":{\"field\":\"x\"},\"y\":{\"field\":\"y\"}},\"id\":\"285352f9-dfe3-4025-99ad-bcf915af6160\",\"type\":\"Rect\"},{\"attributes\":{\"location\":\"top_left\",\"plot\":{\"id\":\"ea714d3a-1f0d-44e5-8718-8c54af17ea3a\",\"subtype\":\"Chart\",\"type\":\"Plot\"}},\"id\":\"e72440f1-4c16-4e19-afc1-17edcb75943a\",\"type\":\"Legend\"},{\"attributes\":{\"fill_alpha\":{\"field\":\"fill_alpha\"},\"fill_color\":{\"field\":\"color\"},\"height\":{\"field\":\"height\",\"units\":\"data\"},\"line_color\":{\"field\":\"line_color\"},\"width\":{\"field\":\"width\",\"units\":\"data\"},\"x\":{\"field\":\"x\"},\"y\":{\"field\":\"y\"}},\"id\":\"f8746ddd-ee69-42bd-817f-036776e7621f\",\"type\":\"Rect\"},{\"attributes\":{\"fill_alpha\":{\"field\":\"fill_alpha\"},\"fill_color\":{\"field\":\"color\"},\"height\":{\"field\":\"height\",\"units\":\"data\"},\"line_color\":{\"field\":\"line_color\"},\"width\":{\"field\":\"width\",\"units\":\"data\"},\"x\":{\"field\":\"x\"},\"y\":{\"field\":\"y\"}},\"id\":\"1b7985d0-1ac1-4ef5-a3c2-a1dccec0d60b\",\"type\":\"Rect\"},{\"attributes\":{\"plot\":null,\"text\":null},\"id\":\"63b2a729-aa73-4ae4-ac29-8c9f8de66e70\",\"type\":\"Title\"},{\"attributes\":{\"callback\":null,\"column_names\":[\"color\",\"fill_alpha\",\"x\",\"label\",\"y\",\"height\",\"line_alpha\",\"width\",\"line_color\"],\"data\":{\"chart_index\":[\"(538.719680, 561.165500]\"],\"color\":[\"#f22c40\"],\"fill_alpha\":[0.8],\"height\":[6.0],\"label\":[\"(538.719680, 561.165500]\"],\"line_alpha\":[1.0],\"line_color\":[\"black\"],\"width\":[22.445820000000026],\"x\":[\"549.94259\"],\"y\":[3.0]}},\"id\":\"9be9e815-4a81-46a2-9605-d345d5b136b0\",\"type\":\"ColumnDataSource\"},{\"attributes\":{\"plot\":{\"id\":\"ea714d3a-1f0d-44e5-8718-8c54af17ea3a\",\"subtype\":\"Chart\",\"type\":\"Plot\"}},\"id\":\"e4c55df5-4ce6-4334-89fb-c039149cc201\",\"type\":\"SaveTool\"},{\"attributes\":{\"data_source\":{\"id\":\"9381b146-ac73-4aff-8409-42056db1f00e\",\"type\":\"ColumnDataSource\"},\"glyph\":{\"id\":\"c5b1cd06-f2b0-45ef-8356-4d6ab9f9170d\",\"type\":\"Rect\"},\"hover_glyph\":null,\"nonselection_glyph\":null,\"selection_glyph\":null},\"id\":\"ce19718d-8c01-4129-82e4-fb665bcb814a\",\"type\":\"GlyphRenderer\"},{\"attributes\":{\"callback\":null,\"column_names\":[\"color\",\"fill_alpha\",\"x\",\"label\",\"y\",\"height\",\"line_alpha\",\"width\",\"line_color\"],\"data\":{\"chart_index\":[\"(650.948780, 673.394600]\"],\"color\":[\"#f22c40\"],\"fill_alpha\":[0.8],\"height\":[1432.0],\"label\":[\"(650.948780, 673.394600]\"],\"line_alpha\":[1.0],\"line_color\":[\"black\"],\"width\":[22.445819999999912],\"x\":[\"662.17169\"],\"y\":[716.0]}},\"id\":\"94293302-8f8a-4d1d-8efe-9ceb7d2dc37d\",\"type\":\"ColumnDataSource\"},{\"attributes\":{\"data_source\":{\"id\":\"7d2acbdb-bed7-4488-bf4c-b92e3a7aabc9\",\"type\":\"ColumnDataSource\"},\"glyph\":{\"id\":\"71a4e4a6-b385-4d4c-87bb-07e68e13acf3\",\"type\":\"Rect\"},\"hover_glyph\":null,\"nonselection_glyph\":null,\"selection_glyph\":null},\"id\":\"578543b2-25c8-4bf9-be06-bfaadf0558db\",\"type\":\"GlyphRenderer\"},{\"attributes\":{\"data_source\":{\"id\":\"e2ba313a-5d33-47c4-a339-e672ee9c5889\",\"type\":\"ColumnDataSource\"},\"glyph\":{\"id\":\"38e55666-1ee6-43fb-b3c6-52297f82020e\",\"type\":\"Rect\"},\"hover_glyph\":null,\"nonselection_glyph\":null,\"selection_glyph\":null},\"id\":\"b016cef8-a37c-4b18-91bb-b6067ab7c173\",\"type\":\"GlyphRenderer\"},{\"attributes\":{\"fill_alpha\":{\"field\":\"fill_alpha\"},\"fill_color\":{\"field\":\"color\"},\"height\":{\"field\":\"height\",\"units\":\"data\"},\"line_color\":{\"field\":\"line_color\"},\"width\":{\"field\":\"width\",\"units\":\"data\"},\"x\":{\"field\":\"x\"},\"y\":{\"field\":\"y\"}},\"id\":\"c5b1cd06-f2b0-45ef-8356-4d6ab9f9170d\",\"type\":\"Rect\"},{\"attributes\":{\"fill_alpha\":{\"field\":\"fill_alpha\"},\"fill_color\":{\"field\":\"color\"},\"height\":{\"field\":\"height\",\"units\":\"data\"},\"line_color\":{\"field\":\"line_color\"},\"width\":{\"field\":\"width\",\"units\":\"data\"},\"x\":{\"field\":\"x\"},\"y\":{\"field\":\"y\"}},\"id\":\"830d1239-fe6d-4c2c-8f94-bf365333823f\",\"type\":\"Rect\"},{\"attributes\":{\"callback\":null,\"column_names\":[\"color\",\"fill_alpha\",\"x\",\"label\",\"y\",\"height\",\"line_alpha\",\"width\",\"line_color\"],\"data\":{\"chart_index\":[\"(269.369840, 291.815660]\"],\"color\":[\"#f22c40\"],\"fill_alpha\":[0.8],\"height\":[329.0],\"label\":[\"(269.369840, 291.815660]\"],\"line_alpha\":[1.0],\"line_color\":[\"black\"],\"width\":[22.445820000000026],\"x\":[\"280.59275\"],\"y\":[164.5]}},\"id\":\"977ea06c-18ce-417d-a1b6-a6fddb6ea06a\",\"type\":\"ColumnDataSource\"},{\"attributes\":{\"fill_alpha\":{\"field\":\"fill_alpha\"},\"fill_color\":{\"field\":\"color\"},\"height\":{\"field\":\"height\",\"units\":\"data\"},\"line_color\":{\"field\":\"line_color\"},\"width\":{\"field\":\"width\",\"units\":\"data\"},\"x\":{\"field\":\"x\"},\"y\":{\"field\":\"y\"}},\"id\":\"310237e8-ea7b-45ee-84c2-a1c0ab8e5041\",\"type\":\"Rect\"},{\"attributes\":{\"data_source\":{\"id\":\"5d6c5fd9-99c5-4e41-b9f2-62af7c60e053\",\"type\":\"ColumnDataSource\"},\"glyph\":{\"id\":\"353eaf61-6437-49b2-be59-f3c8d209fff6\",\"type\":\"Rect\"},\"hover_glyph\":null,\"nonselection_glyph\":null,\"selection_glyph\":null},\"id\":\"d96aec95-7505-4fc8-88ca-b3aa4ff41850\",\"type\":\"GlyphRenderer\"},{\"attributes\":{\"fill_alpha\":{\"field\":\"fill_alpha\"},\"fill_color\":{\"field\":\"color\"},\"height\":{\"field\":\"height\",\"units\":\"data\"},\"line_color\":{\"field\":\"line_color\"},\"width\":{\"field\":\"width\",\"units\":\"data\"},\"x\":{\"field\":\"x\"},\"y\":{\"field\":\"y\"}},\"id\":\"5ffdc3cd-4206-4e3d-b380-3cbd5503ff4d\",\"type\":\"Rect\"},{\"attributes\":{\"data_source\":{\"id\":\"231ee3a9-ee3d-41d8-b265-a44648290557\",\"type\":\"ColumnDataSource\"},\"glyph\":{\"id\":\"ce8cc9e8-8a68-47ef-b0c1-5aa2e92ad64b\",\"type\":\"Rect\"},\"hover_glyph\":null,\"nonselection_glyph\":null,\"selection_glyph\":null},\"id\":\"467f52fa-25f4-43b0-b500-304fff173dc8\",\"type\":\"GlyphRenderer\"},{\"attributes\":{\"data_source\":{\"id\":\"ee4c66d1-8cd1-429b-85b5-7da4f65978d7\",\"type\":\"ColumnDataSource\"},\"glyph\":{\"id\":\"f8746ddd-ee69-42bd-817f-036776e7621f\",\"type\":\"Rect\"},\"hover_glyph\":null,\"nonselection_glyph\":null,\"selection_glyph\":null},\"id\":\"85d93935-8316-417a-95cb-814c69151847\",\"type\":\"GlyphRenderer\"},{\"attributes\":{\"callback\":null,\"column_names\":[\"color\",\"fill_alpha\",\"x\",\"label\",\"y\",\"height\",\"line_alpha\",\"width\",\"line_color\"],\"data\":{\"chart_index\":[\"(359.153120, 381.598940]\"],\"color\":[\"#f22c40\"],\"fill_alpha\":[0.8],\"height\":[2788.0],\"label\":[\"(359.153120, 381.598940]\"],\"line_alpha\":[1.0],\"line_color\":[\"black\"],\"width\":[22.445820000000026],\"x\":[\"370.37603\"],\"y\":[1394.0]}},\"id\":\"7e1e9934-3fd7-474b-b8e2-0cfd9d897f6b\",\"type\":\"ColumnDataSource\"},{\"attributes\":{\"callback\":null,\"column_names\":[\"color\",\"fill_alpha\",\"x\",\"label\",\"y\",\"height\",\"line_alpha\",\"width\",\"line_color\"],\"data\":{\"chart_index\":[\"(67.357460, 89.803280]\"],\"color\":[\"#f22c40\"],\"fill_alpha\":[0.8],\"height\":[61677.0],\"label\":[\"(67.357460, 89.803280]\"],\"line_alpha\":[1.0],\"line_color\":[\"black\"],\"width\":[22.445819999999998],\"x\":[\"78.58037\"],\"y\":[30838.5]}},\"id\":\"584ffc5c-61ed-4438-b5d0-b2aea6b0f893\",\"type\":\"ColumnDataSource\"},{\"attributes\":{\"callback\":null,\"column_names\":[\"color\",\"fill_alpha\",\"x\",\"label\",\"y\",\"height\",\"line_alpha\",\"width\",\"line_color\"],\"data\":{\"chart_index\":[\"(1010.081900, 1032.527720]\"],\"color\":[\"#f22c40\"],\"fill_alpha\":[0.8],\"height\":[206.0],\"label\":[\"(1010.081900, 1032.527720]\"],\"line_alpha\":[1.0],\"line_color\":[\"black\"],\"width\":[22.445819999999912],\"x\":[\"1021.3048100000001\"],\"y\":[103.0]}},\"id\":\"71fbd6fd-6a2f-4426-9b8e-78389a7694e1\",\"type\":\"ColumnDataSource\"},{\"attributes\":{\"fill_alpha\":{\"field\":\"fill_alpha\"},\"fill_color\":{\"field\":\"color\"},\"height\":{\"field\":\"height\",\"units\":\"data\"},\"line_color\":{\"field\":\"line_color\"},\"width\":{\"field\":\"width\",\"units\":\"data\"},\"x\":{\"field\":\"x\"},\"y\":{\"field\":\"y\"}},\"id\":\"53b85aa7-3d78-4e42-b05f-19a223da57f2\",\"type\":\"Rect\"},{\"attributes\":{\"callback\":null,\"column_names\":[\"color\",\"fill_alpha\",\"x\",\"label\",\"y\",\"height\",\"line_alpha\",\"width\",\"line_color\"],\"data\":{\"chart_index\":[\"(785.623700, 808.069520]\"],\"color\":[\"#f22c40\"],\"fill_alpha\":[0.8],\"height\":[3834.0],\"label\":[\"(785.623700, 808.069520]\"],\"line_alpha\":[1.0],\"line_color\":[\"black\"],\"width\":[22.445820000000026],\"x\":[\"796.84661\"],\"y\":[1917.0]}},\"id\":\"de5ef964-1732-4dc6-87ee-c2320f87b088\",\"type\":\"ColumnDataSource\"},{\"attributes\":{\"data_source\":{\"id\":\"9be9e815-4a81-46a2-9605-d345d5b136b0\",\"type\":\"ColumnDataSource\"},\"glyph\":{\"id\":\"df6064d6-2f31-4a1a-905c-9da44bdb91a6\",\"type\":\"Rect\"},\"hover_glyph\":null,\"nonselection_glyph\":null,\"selection_glyph\":null},\"id\":\"016bb8df-ed28-4137-a01c-69712d96acc4\",\"type\":\"GlyphRenderer\"},{\"attributes\":{\"callback\":null,\"column_names\":[\"color\",\"fill_alpha\",\"x\",\"label\",\"y\",\"height\",\"line_alpha\",\"width\",\"line_color\"],\"data\":{\"chart_index\":[\"(897.852800, 920.298620]\"],\"color\":[\"#f22c40\"],\"fill_alpha\":[0.8],\"height\":[3574.0],\"label\":[\"(897.852800, 920.298620]\"],\"line_alpha\":[1.0],\"line_color\":[\"black\"],\"width\":[22.445820000000026],\"x\":[\"909.0757100000001\"],\"y\":[1787.0]}},\"id\":\"619d0d4c-0ad2-4e26-b234-06f7111bf826\",\"type\":\"ColumnDataSource\"},{\"attributes\":{\"data_source\":{\"id\":\"49380b22-24e0-41bd-878e-b0a439565248\",\"type\":\"ColumnDataSource\"},\"glyph\":{\"id\":\"8020c82a-b714-4a57-9dc6-756cffa5e739\",\"type\":\"Rect\"},\"hover_glyph\":null,\"nonselection_glyph\":null,\"selection_glyph\":null},\"id\":\"ac4ec1a8-08a3-4183-b031-ea68da08e373\",\"type\":\"GlyphRenderer\"},{\"attributes\":{\"data_source\":{\"id\":\"92f6e83a-189d-40b0-8842-ea8e093296c0\",\"type\":\"ColumnDataSource\"},\"glyph\":{\"id\":\"c4afe2b1-ce31-4bcf-bcc1-94f5d62c6c94\",\"type\":\"Rect\"},\"hover_glyph\":null,\"nonselection_glyph\":null,\"selection_glyph\":null},\"id\":\"99c13d3e-8bc9-4d1b-902c-a203cbe697a1\",\"type\":\"GlyphRenderer\"},{\"attributes\":{\"fill_alpha\":{\"field\":\"fill_alpha\"},\"fill_color\":{\"field\":\"color\"},\"height\":{\"field\":\"height\",\"units\":\"data\"},\"line_color\":{\"field\":\"line_color\"},\"width\":{\"field\":\"width\",\"units\":\"data\"},\"x\":{\"field\":\"x\"},\"y\":{\"field\":\"y\"}},\"id\":\"1c7a4c85-1c57-46a1-aa63-f53750098c8b\",\"type\":\"Rect\"},{\"attributes\":{\"fill_alpha\":{\"field\":\"fill_alpha\"},\"fill_color\":{\"field\":\"color\"},\"height\":{\"field\":\"height\",\"units\":\"data\"},\"line_color\":{\"field\":\"line_color\"},\"width\":{\"field\":\"width\",\"units\":\"data\"},\"x\":{\"field\":\"x\"},\"y\":{\"field\":\"y\"}},\"id\":\"b96ae0a5-6743-42d4-af34-7214d37625ed\",\"type\":\"Rect\"},{\"attributes\":{\"fill_alpha\":{\"field\":\"fill_alpha\"},\"fill_color\":{\"field\":\"color\"},\"height\":{\"field\":\"height\",\"units\":\"data\"},\"line_color\":{\"field\":\"line_color\"},\"width\":{\"field\":\"width\",\"units\":\"data\"},\"x\":{\"field\":\"x\"},\"y\":{\"field\":\"y\"}},\"id\":\"273b16b9-db62-445c-abdd-030fce1799a0\",\"type\":\"Rect\"},{\"attributes\":{\"data_source\":{\"id\":\"017a50db-9a5b-4cd2-97a0-b6d48ef18619\",\"type\":\"ColumnDataSource\"},\"glyph\":{\"id\":\"53b85aa7-3d78-4e42-b05f-19a223da57f2\",\"type\":\"Rect\"},\"hover_glyph\":null,\"nonselection_glyph\":null,\"selection_glyph\":null},\"id\":\"a0cce361-51d8-4b0c-ab71-147b8c9b7075\",\"type\":\"GlyphRenderer\"},{\"attributes\":{\"fill_alpha\":{\"field\":\"fill_alpha\"},\"fill_color\":{\"field\":\"color\"},\"height\":{\"field\":\"height\",\"units\":\"data\"},\"line_color\":{\"field\":\"line_color\"},\"width\":{\"field\":\"width\",\"units\":\"data\"},\"x\":{\"field\":\"x\"},\"y\":{\"field\":\"y\"}},\"id\":\"da06838a-ff07-42a5-9f17-5433e3b5b634\",\"type\":\"Rect\"},{\"attributes\":{\"data_source\":{\"id\":\"68ab759d-401f-4523-9385-d48219e042a7\",\"type\":\"ColumnDataSource\"},\"glyph\":{\"id\":\"f2c4e3d7-f2db-4068-ada0-a0faa7089b71\",\"type\":\"Rect\"},\"hover_glyph\":null,\"nonselection_glyph\":null,\"selection_glyph\":null},\"id\":\"eebc5ca7-f9cc-4826-991d-779bc13a8fe9\",\"type\":\"GlyphRenderer\"},{\"attributes\":{\"callback\":null,\"column_names\":[\"color\",\"fill_alpha\",\"x\",\"label\",\"y\",\"height\",\"line_alpha\",\"width\",\"line_color\"],\"data\":{\"chart_index\":[\"(89.803280, 112.249100]\"],\"color\":[\"#f22c40\"],\"fill_alpha\":[0.8],\"height\":[7485.0],\"label\":[\"(89.803280, 112.249100]\"],\"line_alpha\":[1.0],\"line_color\":[\"black\"],\"width\":[22.445819999999998],\"x\":[\"101.02619\"],\"y\":[3742.5]}},\"id\":\"2d2d1520-1ea4-44ca-aeeb-432442270142\",\"type\":\"ColumnDataSource\"},{\"attributes\":{\"fill_alpha\":{\"field\":\"fill_alpha\"},\"fill_color\":{\"field\":\"color\"},\"height\":{\"field\":\"height\",\"units\":\"data\"},\"line_color\":{\"field\":\"line_color\"},\"width\":{\"field\":\"width\",\"units\":\"data\"},\"x\":{\"field\":\"x\"},\"y\":{\"field\":\"y\"}},\"id\":\"c3ba4b16-dfa5-4b86-b6c6-4f1c86ddc342\",\"type\":\"Rect\"},{\"attributes\":{\"fill_alpha\":{\"field\":\"fill_alpha\"},\"fill_color\":{\"field\":\"color\"},\"height\":{\"field\":\"height\",\"units\":\"data\"},\"line_color\":{\"field\":\"line_color\"},\"width\":{\"field\":\"width\",\"units\":\"data\"},\"x\":{\"field\":\"x\"},\"y\":{\"field\":\"y\"}},\"id\":\"745bc537-4a19-4ba2-99a7-b1cfe2de454a\",\"type\":\"Rect\"},{\"attributes\":{\"data_source\":{\"id\":\"62cde433-11a6-49d6-9140-deba11e920d5\",\"type\":\"ColumnDataSource\"},\"glyph\":{\"id\":\"4fc5acc4-f881-4ae9-b740-1381e4529e2d\",\"type\":\"Rect\"},\"hover_glyph\":null,\"nonselection_glyph\":null,\"selection_glyph\":null},\"id\":\"9896f947-7bf2-473b-8b79-b3ebd543879c\",\"type\":\"GlyphRenderer\"},{\"attributes\":{\"data_source\":{\"id\":\"a492d362-d7e6-4b8d-95a1-e01fe8bf61e1\",\"type\":\"ColumnDataSource\"},\"glyph\":{\"id\":\"310237e8-ea7b-45ee-84c2-a1c0ab8e5041\",\"type\":\"Rect\"},\"hover_glyph\":null,\"nonselection_glyph\":null,\"selection_glyph\":null},\"id\":\"82f7eb60-712f-4fa8-99ed-c82f07da4587\",\"type\":\"GlyphRenderer\"},{\"attributes\":{\"data_source\":{\"id\":\"977ea06c-18ce-417d-a1b6-a6fddb6ea06a\",\"type\":\"ColumnDataSource\"},\"glyph\":{\"id\":\"50f8f6c4-539a-4263-85a9-cf4743a255b2\",\"type\":\"Rect\"},\"hover_glyph\":null,\"nonselection_glyph\":null,\"selection_glyph\":null},\"id\":\"e3de1a2d-263e-40a4-8377-60cfb6a32f66\",\"type\":\"GlyphRenderer\"},{\"attributes\":{\"data_source\":{\"id\":\"2a0b3ffa-5cd7-47e2-86c8-a1e87daa8f7f\",\"type\":\"ColumnDataSource\"},\"glyph\":{\"id\":\"c3ba4b16-dfa5-4b86-b6c6-4f1c86ddc342\",\"type\":\"Rect\"},\"hover_glyph\":null,\"nonselection_glyph\":null,\"selection_glyph\":null},\"id\":\"ff0caedf-a5b6-48e7-a81f-b3e4077c50a1\",\"type\":\"GlyphRenderer\"},{\"attributes\":{\"callback\":null,\"column_names\":[\"color\",\"fill_alpha\",\"x\",\"label\",\"y\",\"height\",\"line_alpha\",\"width\",\"line_color\"],\"data\":{\"chart_index\":[\"(404.044760, 426.490580]\"],\"color\":[\"#f22c40\"],\"fill_alpha\":[0.8],\"height\":[5227.0],\"label\":[\"(404.044760, 426.490580]\"],\"line_alpha\":[1.0],\"line_color\":[\"black\"],\"width\":[22.44581999999997],\"x\":[\"415.26767\"],\"y\":[2613.5]}},\"id\":\"623486ff-709b-4e7b-be44-0e4b7ada355b\",\"type\":\"ColumnDataSource\"},{\"attributes\":{\"fill_alpha\":{\"field\":\"fill_alpha\"},\"fill_color\":{\"field\":\"color\"},\"height\":{\"field\":\"height\",\"units\":\"data\"},\"line_color\":{\"field\":\"line_color\"},\"width\":{\"field\":\"width\",\"units\":\"data\"},\"x\":{\"field\":\"x\"},\"y\":{\"field\":\"y\"}},\"id\":\"0222cb59-6ff5-4087-b9cf-16e428d14b77\",\"type\":\"Rect\"},{\"attributes\":{\"callback\":null,\"column_names\":[\"color\",\"fill_alpha\",\"x\",\"label\",\"y\",\"height\",\"line_alpha\",\"width\",\"line_color\"],\"data\":{\"chart_index\":[\"(22.465820, 44.911640]\"],\"color\":[\"#f22c40\"],\"fill_alpha\":[0.8],\"height\":[8265.0],\"label\":[\"(22.465820, 44.911640]\"],\"line_alpha\":[1.0],\"line_color\":[\"black\"],\"width\":[22.44582],\"x\":[\"33.68873\"],\"y\":[4132.5]}},\"id\":\"a492d362-d7e6-4b8d-95a1-e01fe8bf61e1\",\"type\":\"ColumnDataSource\"},{\"attributes\":{\"data_source\":{\"id\":\"6330140e-4862-4c6e-867b-ad2f09898564\",\"type\":\"ColumnDataSource\"},\"glyph\":{\"id\":\"0230c9b0-7ea6-4362-8739-29bd50ca6596\",\"type\":\"Rect\"},\"hover_glyph\":null,\"nonselection_glyph\":null,\"selection_glyph\":null},\"id\":\"4a711eb0-781a-49fa-aef1-c271c19bdc55\",\"type\":\"GlyphRenderer\"},{\"attributes\":{\"fill_alpha\":{\"field\":\"fill_alpha\"},\"fill_color\":{\"field\":\"color\"},\"height\":{\"field\":\"height\",\"units\":\"data\"},\"line_color\":{\"field\":\"line_color\"},\"width\":{\"field\":\"width\",\"units\":\"data\"},\"x\":{\"field\":\"x\"},\"y\":{\"field\":\"y\"}},\"id\":\"c9dfcc0e-acd2-41ea-aef5-57c0b4d38e25\",\"type\":\"Rect\"},{\"attributes\":{\"callback\":null,\"column_names\":[\"color\",\"fill_alpha\",\"x\",\"label\",\"y\",\"height\",\"line_alpha\",\"width\",\"line_color\"],\"data\":{\"chart_index\":[\"(808.069520, 830.515340]\"],\"color\":[\"#f22c40\"],\"fill_alpha\":[0.8],\"height\":[4133.0],\"label\":[\"(808.069520, 830.515340]\"],\"line_alpha\":[1.0],\"line_color\":[\"black\"],\"width\":[22.445820000000026],\"x\":[\"819.29243\"],\"y\":[2066.5]}},\"id\":\"f7c128a6-5251-4578-9744-5063267b6176\",\"type\":\"ColumnDataSource\"},{\"attributes\":{\"data_source\":{\"id\":\"0b10c290-93d9-4c82-9dc5-475d7be4e791\",\"type\":\"ColumnDataSource\"},\"glyph\":{\"id\":\"6f2ec965-9acd-436d-8e1f-b73aba42cd10\",\"type\":\"Rect\"},\"hover_glyph\":null,\"nonselection_glyph\":null,\"selection_glyph\":null},\"id\":\"79e23383-d320-44a4-aaae-c130d745e04f\",\"type\":\"GlyphRenderer\"},{\"attributes\":{\"fill_alpha\":{\"field\":\"fill_alpha\"},\"fill_color\":{\"field\":\"color\"},\"height\":{\"field\":\"height\",\"units\":\"data\"},\"line_color\":{\"field\":\"line_color\"},\"width\":{\"field\":\"width\",\"units\":\"data\"},\"x\":{\"field\":\"x\"},\"y\":{\"field\":\"y\"}},\"id\":\"cc00d011-06a5-4ec5-b7bb-72b806ac879c\",\"type\":\"Rect\"},{\"attributes\":{\"callback\":null,\"column_names\":[\"color\",\"fill_alpha\",\"x\",\"label\",\"y\",\"height\",\"line_alpha\",\"width\",\"line_color\"],\"data\":{\"chart_index\":[\"(493.828040, 516.273860]\"],\"color\":[\"#f22c40\"],\"fill_alpha\":[0.8],\"height\":[0.0],\"label\":[\"(493.828040, 516.273860]\"],\"line_alpha\":[1.0],\"line_color\":[\"black\"],\"width\":[22.44581999999997],\"x\":[\"505.05095\"],\"y\":[0.0]}},\"id\":\"6330140e-4862-4c6e-867b-ad2f09898564\",\"type\":\"ColumnDataSource\"},{\"attributes\":{\"callback\":null,\"column_names\":[\"color\",\"fill_alpha\",\"x\",\"label\",\"y\",\"height\",\"line_alpha\",\"width\",\"line_color\"],\"data\":{\"chart_index\":[\"(246.924020, 269.369840]\"],\"color\":[\"#f22c40\"],\"fill_alpha\":[0.8],\"height\":[6019.0],\"label\":[\"(246.924020, 269.369840]\"],\"line_alpha\":[1.0],\"line_color\":[\"black\"],\"width\":[22.44581999999997],\"x\":[\"258.14693\"],\"y\":[3009.5]}},\"id\":\"e44c9bd7-55ba-4909-9092-49678bdf12a9\",\"type\":\"ColumnDataSource\"},{\"attributes\":{\"fill_alpha\":{\"field\":\"fill_alpha\"},\"fill_color\":{\"field\":\"color\"},\"height\":{\"field\":\"height\",\"units\":\"data\"},\"line_color\":{\"field\":\"line_color\"},\"width\":{\"field\":\"width\",\"units\":\"data\"},\"x\":{\"field\":\"x\"},\"y\":{\"field\":\"y\"}},\"id\":\"fde98e50-d5ca-4b54-b36b-c93bb99ddad0\",\"type\":\"Rect\"},{\"attributes\":{\"data_source\":{\"id\":\"617d83b5-a3fb-4547-ad0f-577fb39b42c8\",\"type\":\"ColumnDataSource\"},\"glyph\":{\"id\":\"fde98e50-d5ca-4b54-b36b-c93bb99ddad0\",\"type\":\"Rect\"},\"hover_glyph\":null,\"nonselection_glyph\":null,\"selection_glyph\":null},\"id\":\"0b076826-031c-4c31-8a7e-ca0a3cb5b177\",\"type\":\"GlyphRenderer\"},{\"attributes\":{},\"id\":\"0ffd828e-1396-48cc-836b-0c2b73a769f2\",\"type\":\"BasicTicker\"},{\"attributes\":{\"callback\":null,\"column_names\":[\"color\",\"fill_alpha\",\"x\",\"label\",\"y\",\"height\",\"line_alpha\",\"width\",\"line_color\"],\"data\":{\"chart_index\":[\"(1099.865180, 1122.311000]\"],\"color\":[\"#f22c40\"],\"fill_alpha\":[0.8],\"height\":[1852.0],\"label\":[\"(1099.865180, 1122.311000]\"],\"line_alpha\":[1.0],\"line_color\":[\"black\"],\"width\":[22.44582000000014],\"x\":[\"1111.08809\"],\"y\":[926.0]}},\"id\":\"7d2acbdb-bed7-4488-bf4c-b92e3a7aabc9\",\"type\":\"ColumnDataSource\"},{\"attributes\":{\"callback\":null,\"column_names\":[\"color\",\"fill_alpha\",\"x\",\"label\",\"y\",\"height\",\"line_alpha\",\"width\",\"line_color\"],\"data\":{\"chart_index\":[\"(561.165500, 583.611320]\"],\"color\":[\"#f22c40\"],\"fill_alpha\":[0.8],\"height\":[19.0],\"label\":[\"(561.165500, 583.611320]\"],\"line_alpha\":[1.0],\"line_color\":[\"black\"],\"width\":[22.445820000000026],\"x\":[\"572.38841\"],\"y\":[9.5]}},\"id\":\"017a50db-9a5b-4cd2-97a0-b6d48ef18619\",\"type\":\"ColumnDataSource\"},{\"attributes\":{\"callback\":null,\"column_names\":[\"color\",\"fill_alpha\",\"x\",\"label\",\"y\",\"height\",\"line_alpha\",\"width\",\"line_color\"],\"data\":{\"chart_index\":[\"(942.744440, 965.190260]\"],\"color\":[\"#f22c40\"],\"fill_alpha\":[0.8],\"height\":[54.0],\"label\":[\"(942.744440, 965.190260]\"],\"line_alpha\":[1.0],\"line_color\":[\"black\"],\"width\":[22.445819999999912],\"x\":[\"953.96735\"],\"y\":[27.0]}},\"id\":\"01ca9d4b-d879-4aee-a62b-bc5911d5cbe3\",\"type\":\"ColumnDataSource\"},{\"attributes\":{},\"id\":\"c5a653d8-b21e-44ef-8573-485cf48ceec7\",\"type\":\"ToolEvents\"},{\"attributes\":{\"callback\":null,\"column_names\":[\"color\",\"fill_alpha\",\"x\",\"label\",\"y\",\"height\",\"line_alpha\",\"width\",\"line_color\"],\"data\":{\"chart_index\":[\"(695.840420, 718.286240]\"],\"color\":[\"#f22c40\"],\"fill_alpha\":[0.8],\"height\":[351.0],\"label\":[\"(695.840420, 718.286240]\"],\"line_alpha\":[1.0],\"line_color\":[\"black\"],\"width\":[22.445820000000026],\"x\":[\"707.06333\"],\"y\":[175.5]}},\"id\":\"a1d0b1c5-91cf-4333-a1a1-d0bdfb63cfa9\",\"type\":\"ColumnDataSource\"},{\"attributes\":{},\"id\":\"eadf601d-20c4-4d3c-a48a-d22c981ebcf8\",\"type\":\"BasicTickFormatter\"},{\"attributes\":{\"data_source\":{\"id\":\"584ffc5c-61ed-4438-b5d0-b2aea6b0f893\",\"type\":\"ColumnDataSource\"},\"glyph\":{\"id\":\"da06838a-ff07-42a5-9f17-5433e3b5b634\",\"type\":\"Rect\"},\"hover_glyph\":null,\"nonselection_glyph\":null,\"selection_glyph\":null},\"id\":\"a74bfb60-6a61-42b8-8640-cceac021ad9d\",\"type\":\"GlyphRenderer\"},{\"attributes\":{\"fill_alpha\":{\"field\":\"fill_alpha\"},\"fill_color\":{\"field\":\"color\"},\"height\":{\"field\":\"height\",\"units\":\"data\"},\"line_color\":{\"field\":\"line_color\"},\"width\":{\"field\":\"width\",\"units\":\"data\"},\"x\":{\"field\":\"x\"},\"y\":{\"field\":\"y\"}},\"id\":\"4ed777a6-bebd-41dc-8e3c-935c2e1b32c5\",\"type\":\"Rect\"},{\"attributes\":{\"data_source\":{\"id\":\"623486ff-709b-4e7b-be44-0e4b7ada355b\",\"type\":\"ColumnDataSource\"},\"glyph\":{\"id\":\"0222cb59-6ff5-4087-b9cf-16e428d14b77\",\"type\":\"Rect\"},\"hover_glyph\":null,\"nonselection_glyph\":null,\"selection_glyph\":null},\"id\":\"5b6167e3-134a-47fa-aab4-6bcd258f4d66\",\"type\":\"GlyphRenderer\"},{\"attributes\":{\"fill_alpha\":{\"field\":\"fill_alpha\"},\"fill_color\":{\"field\":\"color\"},\"height\":{\"field\":\"height\",\"units\":\"data\"},\"line_color\":{\"field\":\"line_color\"},\"width\":{\"field\":\"width\",\"units\":\"data\"},\"x\":{\"field\":\"x\"},\"y\":{\"field\":\"y\"}},\"id\":\"1cdec2a7-bd9c-4ee0-942c-66959e75d4ad\",\"type\":\"Rect\"},{\"attributes\":{\"fill_alpha\":{\"field\":\"fill_alpha\"},\"fill_color\":{\"field\":\"color\"},\"height\":{\"field\":\"height\",\"units\":\"data\"},\"line_color\":{\"field\":\"line_color\"},\"width\":{\"field\":\"width\",\"units\":\"data\"},\"x\":{\"field\":\"x\"},\"y\":{\"field\":\"y\"}},\"id\":\"df6064d6-2f31-4a1a-905c-9da44bdb91a6\",\"type\":\"Rect\"},{\"attributes\":{\"data_source\":{\"id\":\"4c2f9862-d4bb-41b7-8670-3ccecd287796\",\"type\":\"ColumnDataSource\"},\"glyph\":{\"id\":\"831535dc-5efe-4ad9-8eb1-971c2a7642b1\",\"type\":\"Rect\"},\"hover_glyph\":null,\"nonselection_glyph\":null,\"selection_glyph\":null},\"id\":\"771a79fd-81da-41c3-baa3-126b9450451c\",\"type\":\"GlyphRenderer\"},{\"attributes\":{\"callback\":null,\"column_names\":[\"color\",\"fill_alpha\",\"x\",\"label\",\"y\",\"height\",\"line_alpha\",\"width\",\"line_color\"],\"data\":{\"chart_index\":[\"(628.502960, 650.948780]\"],\"color\":[\"#f22c40\"],\"fill_alpha\":[0.8],\"height\":[870.0],\"label\":[\"(628.502960, 650.948780]\"],\"line_alpha\":[1.0],\"line_color\":[\"black\"],\"width\":[22.445820000000026],\"x\":[\"639.72587\"],\"y\":[435.0]}},\"id\":\"1c10ec88-6573-4d37-9a71-8f051269eceb\",\"type\":\"ColumnDataSource\"},{\"attributes\":{\"plot\":{\"id\":\"ea714d3a-1f0d-44e5-8718-8c54af17ea3a\",\"subtype\":\"Chart\",\"type\":\"Plot\"}},\"id\":\"1049b7c5-9da8-4836-a4ad-b1a067fed6af\",\"type\":\"WheelZoomTool\"},{\"attributes\":{\"callback\":null,\"column_names\":[\"color\",\"fill_alpha\",\"x\",\"label\",\"y\",\"height\",\"line_alpha\",\"width\",\"line_color\"],\"data\":{\"chart_index\":[\"(471.382220, 493.828040]\"],\"color\":[\"#f22c40\"],\"fill_alpha\":[0.8],\"height\":[0.0],\"label\":[\"(471.382220, 493.828040]\"],\"line_alpha\":[1.0],\"line_color\":[\"black\"],\"width\":[22.44581999999997],\"x\":[\"482.60513000000003\"],\"y\":[0.0]}},\"id\":\"ee4c66d1-8cd1-429b-85b5-7da4f65978d7\",\"type\":\"ColumnDataSource\"},{\"attributes\":{\"callback\":null,\"column_names\":[\"color\",\"fill_alpha\",\"x\",\"label\",\"y\",\"height\",\"line_alpha\",\"width\",\"line_color\"],\"data\":{\"chart_index\":[\"(1077.419360, 1099.865180]\"],\"color\":[\"#f22c40\"],\"fill_alpha\":[0.8],\"height\":[1224.0],\"label\":[\"(1077.419360, 1099.865180]\"],\"line_alpha\":[1.0],\"line_color\":[\"black\"],\"width\":[22.445819999999912],\"x\":[\"1088.64227\"],\"y\":[612.0]}},\"id\":\"0696d241-f832-4fcd-8b68-e119db4720d3\",\"type\":\"ColumnDataSource\"},{\"attributes\":{\"data_source\":{\"id\":\"f7c128a6-5251-4578-9744-5063267b6176\",\"type\":\"ColumnDataSource\"},\"glyph\":{\"id\":\"ec5c4260-161c-4e62-9958-6ac40cc0e65b\",\"type\":\"Rect\"},\"hover_glyph\":null,\"nonselection_glyph\":null,\"selection_glyph\":null},\"id\":\"0f3e656a-a2b1-4e33-9ea3-415f8f7ea0c1\",\"type\":\"GlyphRenderer\"},{\"attributes\":{\"fill_alpha\":{\"field\":\"fill_alpha\"},\"fill_color\":{\"field\":\"color\"},\"height\":{\"field\":\"height\",\"units\":\"data\"},\"line_color\":{\"field\":\"line_color\"},\"width\":{\"field\":\"width\",\"units\":\"data\"},\"x\":{\"field\":\"x\"},\"y\":{\"field\":\"y\"}},\"id\":\"44530546-5bf6-4fdc-b3cb-41fc5e8d8c41\",\"type\":\"Rect\"},{\"attributes\":{\"callback\":null,\"column_names\":[\"color\",\"fill_alpha\",\"x\",\"label\",\"y\",\"height\",\"line_alpha\",\"width\",\"line_color\"],\"data\":{\"chart_index\":[\"[0.020000, 22.465820]\"],\"color\":[\"#f22c40\"],\"fill_alpha\":[0.8],\"height\":[2243.0],\"label\":[\"[0.020000, 22.465820]\"],\"line_alpha\":[1.0],\"line_color\":[\"black\"],\"width\":[22.445819999999998],\"x\":[\"11.24291\"],\"y\":[1121.5]}},\"id\":\"16633cca-3d3c-44f0-a257-5a8888b8ea0c\",\"type\":\"ColumnDataSource\"},{\"attributes\":{\"data_source\":{\"id\":\"0696d241-f832-4fcd-8b68-e119db4720d3\",\"type\":\"ColumnDataSource\"},\"glyph\":{\"id\":\"05b719a7-f96f-4857-8458-8996a42787fd\",\"type\":\"Rect\"},\"hover_glyph\":null,\"nonselection_glyph\":null,\"selection_glyph\":null},\"id\":\"6f01c158-06d3-47ee-9748-3f2e0bd933d4\",\"type\":\"GlyphRenderer\"},{\"attributes\":{\"fill_alpha\":{\"field\":\"fill_alpha\"},\"fill_color\":{\"field\":\"color\"},\"height\":{\"field\":\"height\",\"units\":\"data\"},\"line_color\":{\"field\":\"line_color\"},\"width\":{\"field\":\"width\",\"units\":\"data\"},\"x\":{\"field\":\"x\"},\"y\":{\"field\":\"y\"}},\"id\":\"64fc6ea3-2fe5-4e3d-abec-d70222b1426b\",\"type\":\"Rect\"},{\"attributes\":{\"callback\":null,\"column_names\":[\"color\",\"fill_alpha\",\"x\",\"label\",\"y\",\"height\",\"line_alpha\",\"width\",\"line_color\"],\"data\":{\"chart_index\":[\"(381.598940, 404.044760]\"],\"color\":[\"#f22c40\"],\"fill_alpha\":[0.8],\"height\":[5731.0],\"label\":[\"(381.598940, 404.044760]\"],\"line_alpha\":[1.0],\"line_color\":[\"black\"],\"width\":[22.44581999999997],\"x\":[\"392.82185000000004\"],\"y\":[2865.5]}},\"id\":\"0b10c290-93d9-4c82-9dc5-475d7be4e791\",\"type\":\"ColumnDataSource\"},{\"attributes\":{\"fill_alpha\":{\"field\":\"fill_alpha\"},\"fill_color\":{\"field\":\"color\"},\"height\":{\"field\":\"height\",\"units\":\"data\"},\"line_color\":{\"field\":\"line_color\"},\"width\":{\"field\":\"width\",\"units\":\"data\"},\"x\":{\"field\":\"x\"},\"y\":{\"field\":\"y\"}},\"id\":\"50f8f6c4-539a-4263-85a9-cf4743a255b2\",\"type\":\"Rect\"},{\"attributes\":{\"fill_alpha\":{\"field\":\"fill_alpha\"},\"fill_color\":{\"field\":\"color\"},\"height\":{\"field\":\"height\",\"units\":\"data\"},\"line_color\":{\"field\":\"line_color\"},\"width\":{\"field\":\"width\",\"units\":\"data\"},\"x\":{\"field\":\"x\"},\"y\":{\"field\":\"y\"}},\"id\":\"6f2ec965-9acd-436d-8e1f-b73aba42cd10\",\"type\":\"Rect\"},{\"attributes\":{\"fill_alpha\":{\"field\":\"fill_alpha\"},\"fill_color\":{\"field\":\"color\"},\"height\":{\"field\":\"height\",\"units\":\"data\"},\"line_color\":{\"field\":\"line_color\"},\"width\":{\"field\":\"width\",\"units\":\"data\"},\"x\":{\"field\":\"x\"},\"y\":{\"field\":\"y\"}},\"id\":\"d7c5d8e5-7c7a-449d-9638-5f575060ad30\",\"type\":\"Rect\"},{\"attributes\":{\"callback\":null,\"column_names\":[\"color\",\"fill_alpha\",\"x\",\"label\",\"y\",\"height\",\"line_alpha\",\"width\",\"line_color\"],\"data\":{\"chart_index\":[\"(1054.973540, 1077.419360]\"],\"color\":[\"#f22c40\"],\"fill_alpha\":[0.8],\"height\":[3789.0],\"label\":[\"(1054.973540, 1077.419360]\"],\"line_alpha\":[1.0],\"line_color\":[\"black\"],\"width\":[22.445819999999912],\"x\":[\"1066.19645\"],\"y\":[1894.5]}},\"id\":\"71ca86fe-1a82-4b7c-ae17-e8b65633effc\",\"type\":\"ColumnDataSource\"},{\"attributes\":{\"data_source\":{\"id\":\"94293302-8f8a-4d1d-8efe-9ceb7d2dc37d\",\"type\":\"ColumnDataSource\"},\"glyph\":{\"id\":\"38ba7e27-1655-421c-bd05-5ff7ab6d5820\",\"type\":\"Rect\"},\"hover_glyph\":null,\"nonselection_glyph\":null,\"selection_glyph\":null},\"id\":\"0aff6fac-ae1c-4fd7-ac40-1130510fd48a\",\"type\":\"GlyphRenderer\"},{\"attributes\":{\"data_source\":{\"id\":\"d00cf103-6f39-4eab-adaf-5414f82d999a\",\"type\":\"ColumnDataSource\"},\"glyph\":{\"id\":\"74d55b72-4bba-431f-988b-99a9dbead634\",\"type\":\"Rect\"},\"hover_glyph\":null,\"nonselection_glyph\":null,\"selection_glyph\":null},\"id\":\"17b4dacc-ee80-4557-a0a8-916c0e03d3bd\",\"type\":\"GlyphRenderer\"},{\"attributes\":{\"data_source\":{\"id\":\"2d2d1520-1ea4-44ca-aeeb-432442270142\",\"type\":\"ColumnDataSource\"},\"glyph\":{\"id\":\"44530546-5bf6-4fdc-b3cb-41fc5e8d8c41\",\"type\":\"Rect\"},\"hover_glyph\":null,\"nonselection_glyph\":null,\"selection_glyph\":null},\"id\":\"641c409b-9fc5-4b48-af05-9f13bf64f53d\",\"type\":\"GlyphRenderer\"},{\"attributes\":{\"data_source\":{\"id\":\"714d25c6-d903-4db7-8e6c-40fe47a9315d\",\"type\":\"ColumnDataSource\"},\"glyph\":{\"id\":\"830d1239-fe6d-4c2c-8f94-bf365333823f\",\"type\":\"Rect\"},\"hover_glyph\":null,\"nonselection_glyph\":null,\"selection_glyph\":null},\"id\":\"5e21729e-22c2-4a0c-9e22-3a4d98240603\",\"type\":\"GlyphRenderer\"},{\"attributes\":{\"fill_alpha\":{\"field\":\"fill_alpha\"},\"fill_color\":{\"field\":\"color\"},\"height\":{\"field\":\"height\",\"units\":\"data\"},\"line_color\":{\"field\":\"line_color\"},\"width\":{\"field\":\"width\",\"units\":\"data\"},\"x\":{\"field\":\"x\"},\"y\":{\"field\":\"y\"}},\"id\":\"38e55666-1ee6-43fb-b3c6-52297f82020e\",\"type\":\"Rect\"},{\"attributes\":{},\"id\":\"48df8041-681e-4e41-b5a4-35ad3bdcda8c\",\"type\":\"BasicTickFormatter\"},{\"attributes\":{\"callback\":null,\"column_names\":[\"color\",\"fill_alpha\",\"x\",\"label\",\"y\",\"height\",\"line_alpha\",\"width\",\"line_color\"],\"data\":{\"chart_index\":[\"(44.911640, 67.357460]\"],\"color\":[\"#f22c40\"],\"fill_alpha\":[0.8],\"height\":[16716.0],\"label\":[\"(44.911640, 67.357460]\"],\"line_alpha\":[1.0],\"line_color\":[\"black\"],\"width\":[22.44581999999999],\"x\":[\"56.134550000000004\"],\"y\":[8358.0]}},\"id\":\"92f6e83a-189d-40b0-8842-ea8e093296c0\",\"type\":\"ColumnDataSource\"},{\"attributes\":{\"data_source\":{\"id\":\"2c2f16b1-117d-4be8-9d05-bada4882d892\",\"type\":\"ColumnDataSource\"},\"glyph\":{\"id\":\"b96ae0a5-6743-42d4-af34-7214d37625ed\",\"type\":\"Rect\"},\"hover_glyph\":null,\"nonselection_glyph\":null,\"selection_glyph\":null},\"id\":\"afc9f529-fece-4fd1-aa19-2904292ba820\",\"type\":\"GlyphRenderer\"},{\"attributes\":{\"data_source\":{\"id\":\"a80a4641-9505-4eb0-bb6f-efc3216ffd9e\",\"type\":\"ColumnDataSource\"},\"glyph\":{\"id\":\"de12b405-c63e-4571-bcfa-87245129433a\",\"type\":\"Rect\"},\"hover_glyph\":null,\"nonselection_glyph\":null,\"selection_glyph\":null},\"id\":\"3d7952ba-a424-4cbc-bdd1-16dd30106320\",\"type\":\"GlyphRenderer\"},{\"attributes\":{\"callback\":null,\"column_names\":[\"color\",\"fill_alpha\",\"x\",\"label\",\"y\",\"height\",\"line_alpha\",\"width\",\"line_color\"],\"data\":{\"chart_index\":[\"(920.298620, 942.744440]\"],\"color\":[\"#f22c40\"],\"fill_alpha\":[0.8],\"height\":[1879.0],\"label\":[\"(920.298620, 942.744440]\"],\"line_alpha\":[1.0],\"line_color\":[\"black\"],\"width\":[22.445820000000026],\"x\":[\"931.52153\"],\"y\":[939.5]}},\"id\":\"abdfc166-b00d-4052-a0df-e1dcbed29ea7\",\"type\":\"ColumnDataSource\"},{\"attributes\":{\"plot\":{\"id\":\"ea714d3a-1f0d-44e5-8718-8c54af17ea3a\",\"subtype\":\"Chart\",\"type\":\"Plot\"}},\"id\":\"193e4615-6afb-461e-bf42-22d660cf0361\",\"type\":\"HelpTool\"},{\"attributes\":{\"callback\":null,\"column_names\":[\"color\",\"fill_alpha\",\"x\",\"label\",\"y\",\"height\",\"line_alpha\",\"width\",\"line_color\"],\"data\":{\"chart_index\":[\"(516.273860, 538.719680]\"],\"color\":[\"#f22c40\"],\"fill_alpha\":[0.8],\"height\":[0.0],\"label\":[\"(516.273860, 538.719680]\"],\"line_alpha\":[1.0],\"line_color\":[\"black\"],\"width\":[22.445820000000026],\"x\":[\"527.49677\"],\"y\":[0.0]}},\"id\":\"5356c653-cc88-43fd-8bbc-18ae95bf9ce0\",\"type\":\"ColumnDataSource\"},{\"attributes\":{\"plot\":{\"id\":\"ea714d3a-1f0d-44e5-8718-8c54af17ea3a\",\"subtype\":\"Chart\",\"type\":\"Plot\"}},\"id\":\"4de537cd-cb7e-409b-9818-f8bcc45e5c48\",\"type\":\"PanTool\"},{\"attributes\":{\"fill_alpha\":{\"field\":\"fill_alpha\"},\"fill_color\":{\"field\":\"color\"},\"height\":{\"field\":\"height\",\"units\":\"data\"},\"line_color\":{\"field\":\"line_color\"},\"width\":{\"field\":\"width\",\"units\":\"data\"},\"x\":{\"field\":\"x\"},\"y\":{\"field\":\"y\"}},\"id\":\"f2c4e3d7-f2db-4068-ada0-a0faa7089b71\",\"type\":\"Rect\"},{\"attributes\":{\"callback\":null,\"column_names\":[\"color\",\"fill_alpha\",\"x\",\"label\",\"y\",\"height\",\"line_alpha\",\"width\",\"line_color\"],\"data\":{\"chart_index\":[\"(224.478200, 246.924020]\"],\"color\":[\"#f22c40\"],\"fill_alpha\":[0.8],\"height\":[50171.0],\"label\":[\"(224.478200, 246.924020]\"],\"line_alpha\":[1.0],\"line_color\":[\"black\"],\"width\":[22.445819999999998],\"x\":[\"235.70111\"],\"y\":[25085.5]}},\"id\":\"49380b22-24e0-41bd-878e-b0a439565248\",\"type\":\"ColumnDataSource\"},{\"attributes\":{\"axis_label\":\"Count( Size )\",\"formatter\":{\"id\":\"48df8041-681e-4e41-b5a4-35ad3bdcda8c\",\"type\":\"BasicTickFormatter\"},\"plot\":{\"id\":\"ea714d3a-1f0d-44e5-8718-8c54af17ea3a\",\"subtype\":\"Chart\",\"type\":\"Plot\"},\"ticker\":{\"id\":\"0ffd828e-1396-48cc-836b-0c2b73a769f2\",\"type\":\"BasicTicker\"}},\"id\":\"1ba1991e-fc21-48d5-b68d-0f6107c0ba30\",\"type\":\"LinearAxis\"},{\"attributes\":{\"callback\":null,\"column_names\":[\"color\",\"fill_alpha\",\"x\",\"label\",\"y\",\"height\",\"line_alpha\",\"width\",\"line_color\"],\"data\":{\"chart_index\":[\"(1032.527720, 1054.973540]\"],\"color\":[\"#f22c40\"],\"fill_alpha\":[0.8],\"height\":[1397.0],\"label\":[\"(1032.527720, 1054.973540]\"],\"line_alpha\":[1.0],\"line_color\":[\"black\"],\"width\":[22.44582000000014],\"x\":[\"1043.75063\"],\"y\":[698.5]}},\"id\":\"2c2f16b1-117d-4be8-9d05-bada4882d892\",\"type\":\"ColumnDataSource\"},{\"attributes\":{\"fill_alpha\":{\"field\":\"fill_alpha\"},\"fill_color\":{\"field\":\"color\"},\"height\":{\"field\":\"height\",\"units\":\"data\"},\"line_color\":{\"field\":\"line_color\"},\"width\":{\"field\":\"width\",\"units\":\"data\"},\"x\":{\"field\":\"x\"},\"y\":{\"field\":\"y\"}},\"id\":\"c4afe2b1-ce31-4bcf-bcc1-94f5d62c6c94\",\"type\":\"Rect\"},{\"attributes\":{\"data_source\":{\"id\":\"1c10ec88-6573-4d37-9a71-8f051269eceb\",\"type\":\"ColumnDataSource\"},\"glyph\":{\"id\":\"2b4be9f9-f784-41b6-bddc-65d36a17adae\",\"type\":\"Rect\"},\"hover_glyph\":null,\"nonselection_glyph\":null,\"selection_glyph\":null},\"id\":\"c2f85f38-5551-4e86-9a40-818eea6d95f6\",\"type\":\"GlyphRenderer\"},{\"attributes\":{\"fill_alpha\":{\"field\":\"fill_alpha\"},\"fill_color\":{\"field\":\"color\"},\"height\":{\"field\":\"height\",\"units\":\"data\"},\"line_color\":{\"field\":\"line_color\"},\"width\":{\"field\":\"width\",\"units\":\"data\"},\"x\":{\"field\":\"x\"},\"y\":{\"field\":\"y\"}},\"id\":\"31cd40cd-64a3-42d3-96e7-e58c95d10675\",\"type\":\"Rect\"},{\"attributes\":{\"data_source\":{\"id\":\"fe55e42b-8fe7-4c8f-8f42-c5abf1fc49d4\",\"type\":\"ColumnDataSource\"},\"glyph\":{\"id\":\"dd90f951-482b-469e-859d-905a4288e350\",\"type\":\"Rect\"},\"hover_glyph\":null,\"nonselection_glyph\":null,\"selection_glyph\":null},\"id\":\"1754ffb6-d94f-4b5d-b483-5805119157b0\",\"type\":\"GlyphRenderer\"},{\"attributes\":{\"callback\":null,\"column_names\":[\"color\",\"fill_alpha\",\"x\",\"label\",\"y\",\"height\",\"line_alpha\",\"width\",\"line_color\"],\"data\":{\"chart_index\":[\"(965.190260, 987.636080]\"],\"color\":[\"#f22c40\"],\"fill_alpha\":[0.8],\"height\":[107.0],\"label\":[\"(965.190260, 987.636080]\"],\"line_alpha\":[1.0],\"line_color\":[\"black\"],\"width\":[22.445820000000026],\"x\":[\"976.41317\"],\"y\":[53.5]}},\"id\":\"68ab759d-401f-4523-9385-d48219e042a7\",\"type\":\"ColumnDataSource\"},{\"attributes\":{\"callback\":null,\"column_names\":[\"color\",\"fill_alpha\",\"x\",\"label\",\"y\",\"height\",\"line_alpha\",\"width\",\"line_color\"],\"data\":{\"chart_index\":[\"(202.032380, 224.478200]\"],\"color\":[\"#f22c40\"],\"fill_alpha\":[0.8],\"height\":[37052.0],\"label\":[\"(202.032380, 224.478200]\"],\"line_alpha\":[1.0],\"line_color\":[\"black\"],\"width\":[22.445819999999998],\"x\":[\"213.25529\"],\"y\":[18526.0]}},\"id\":\"c15742df-56e4-4157-a032-a95ce0869852\",\"type\":\"ColumnDataSource\"},{\"attributes\":{\"data_source\":{\"id\":\"7e1e9934-3fd7-474b-b8e2-0cfd9d897f6b\",\"type\":\"ColumnDataSource\"},\"glyph\":{\"id\":\"1b7985d0-1ac1-4ef5-a3c2-a1dccec0d60b\",\"type\":\"Rect\"},\"hover_glyph\":null,\"nonselection_glyph\":null,\"selection_glyph\":null},\"id\":\"d0530e79-0f5f-4da0-9559-d4c99d51016a\",\"type\":\"GlyphRenderer\"},{\"attributes\":{\"callback\":null,\"column_names\":[\"color\",\"fill_alpha\",\"x\",\"label\",\"y\",\"height\",\"line_alpha\",\"width\",\"line_color\"],\"data\":{\"chart_index\":[\"(134.694920, 157.140740]\"],\"color\":[\"#f22c40\"],\"fill_alpha\":[0.8],\"height\":[6436.0],\"label\":[\"(134.694920, 157.140740]\"],\"line_alpha\":[1.0],\"line_color\":[\"black\"],\"width\":[22.445819999999998],\"x\":[\"145.91782999999998\"],\"y\":[3218.0]}},\"id\":\"d00cf103-6f39-4eab-adaf-5414f82d999a\",\"type\":\"ColumnDataSource\"},{\"attributes\":{\"fill_alpha\":{\"field\":\"fill_alpha\"},\"fill_color\":{\"field\":\"color\"},\"height\":{\"field\":\"height\",\"units\":\"data\"},\"line_color\":{\"field\":\"line_color\"},\"width\":{\"field\":\"width\",\"units\":\"data\"},\"x\":{\"field\":\"x\"},\"y\":{\"field\":\"y\"}},\"id\":\"ce8cc9e8-8a68-47ef-b0c1-5aa2e92ad64b\",\"type\":\"Rect\"},{\"attributes\":{\"callback\":null,\"column_names\":[\"color\",\"fill_alpha\",\"x\",\"label\",\"y\",\"height\",\"line_alpha\",\"width\",\"line_color\"],\"data\":{\"chart_index\":[\"(830.515340, 852.961160]\"],\"color\":[\"#f22c40\"],\"fill_alpha\":[0.8],\"height\":[2681.0],\"label\":[\"(830.515340, 852.961160]\"],\"line_alpha\":[1.0],\"line_color\":[\"black\"],\"width\":[22.445819999999912],\"x\":[\"841.73825\"],\"y\":[1340.5]}},\"id\":\"26d20da1-ef63-4c8a-a170-21c20bf972d7\",\"type\":\"ColumnDataSource\"},{\"attributes\":{\"fill_alpha\":{\"field\":\"fill_alpha\"},\"fill_color\":{\"field\":\"color\"},\"height\":{\"field\":\"height\",\"units\":\"data\"},\"line_color\":{\"field\":\"line_color\"},\"width\":{\"field\":\"width\",\"units\":\"data\"},\"x\":{\"field\":\"x\"},\"y\":{\"field\":\"y\"}},\"id\":\"de12b405-c63e-4571-bcfa-87245129433a\",\"type\":\"Rect\"},{\"attributes\":{\"callback\":null,\"column_names\":[\"color\",\"fill_alpha\",\"x\",\"label\",\"y\",\"height\",\"line_alpha\",\"width\",\"line_color\"],\"data\":{\"chart_index\":[\"(112.249100, 134.694920]\"],\"color\":[\"#f22c40\"],\"fill_alpha\":[0.8],\"height\":[2396.0],\"label\":[\"(112.249100, 134.694920]\"],\"line_alpha\":[1.0],\"line_color\":[\"black\"],\"width\":[22.445820000000012],\"x\":[\"123.47201\"],\"y\":[1198.0]}},\"id\":\"9381b146-ac73-4aff-8409-42056db1f00e\",\"type\":\"ColumnDataSource\"},{\"attributes\":{\"data_source\":{\"id\":\"26d20da1-ef63-4c8a-a170-21c20bf972d7\",\"type\":\"ColumnDataSource\"},\"glyph\":{\"id\":\"97480d2f-b305-4cd1-88c7-57d0d06dabfe\",\"type\":\"Rect\"},\"hover_glyph\":null,\"nonselection_glyph\":null,\"selection_glyph\":null},\"id\":\"f3580445-0972-410d-95ed-0e68e5ed663d\",\"type\":\"GlyphRenderer\"},{\"attributes\":{\"fill_alpha\":{\"field\":\"fill_alpha\"},\"fill_color\":{\"field\":\"color\"},\"height\":{\"field\":\"height\",\"units\":\"data\"},\"line_color\":{\"field\":\"line_color\"},\"width\":{\"field\":\"width\",\"units\":\"data\"},\"x\":{\"field\":\"x\"},\"y\":{\"field\":\"y\"}},\"id\":\"71a4e4a6-b385-4d4c-87bb-07e68e13acf3\",\"type\":\"Rect\"},{\"attributes\":{\"fill_alpha\":{\"field\":\"fill_alpha\"},\"fill_color\":{\"field\":\"color\"},\"height\":{\"field\":\"height\",\"units\":\"data\"},\"line_color\":{\"field\":\"line_color\"},\"width\":{\"field\":\"width\",\"units\":\"data\"},\"x\":{\"field\":\"x\"},\"y\":{\"field\":\"y\"}},\"id\":\"831535dc-5efe-4ad9-8eb1-971c2a7642b1\",\"type\":\"Rect\"},{\"attributes\":{\"fill_alpha\":{\"field\":\"fill_alpha\"},\"fill_color\":{\"field\":\"color\"},\"height\":{\"field\":\"height\",\"units\":\"data\"},\"line_color\":{\"field\":\"line_color\"},\"width\":{\"field\":\"width\",\"units\":\"data\"},\"x\":{\"field\":\"x\"},\"y\":{\"field\":\"y\"}},\"id\":\"97480d2f-b305-4cd1-88c7-57d0d06dabfe\",\"type\":\"Rect\"},{\"attributes\":{\"callback\":null,\"column_names\":[\"color\",\"fill_alpha\",\"x\",\"label\",\"y\",\"height\",\"line_alpha\",\"width\",\"line_color\"],\"data\":{\"chart_index\":[\"(606.057140, 628.502960]\"],\"color\":[\"#f22c40\"],\"fill_alpha\":[0.8],\"height\":[466.0],\"label\":[\"(606.057140, 628.502960]\"],\"line_alpha\":[1.0],\"line_color\":[\"black\"],\"width\":[22.445820000000026],\"x\":[\"617.2800500000001\"],\"y\":[233.0]}},\"id\":\"a59b8091-75a9-4f0d-9730-773a28181d85\",\"type\":\"ColumnDataSource\"},{\"attributes\":{\"below\":[{\"id\":\"578d99cf-f4a3-4b2d-97a8-6e2c54dd8124\",\"type\":\"LinearAxis\"}],\"css_classes\":null,\"left\":[{\"id\":\"1ba1991e-fc21-48d5-b68d-0f6107c0ba30\",\"type\":\"LinearAxis\"}],\"renderers\":[{\"id\":\"513abc6d-aba1-478f-a3c2-c6111c3bccce\",\"type\":\"BoxAnnotation\"},{\"id\":\"944a4e5c-02af-40e2-a843-0cfce9894b42\",\"type\":\"GlyphRenderer\"},{\"id\":\"82f7eb60-712f-4fa8-99ed-c82f07da4587\",\"type\":\"GlyphRenderer\"},{\"id\":\"99c13d3e-8bc9-4d1b-902c-a203cbe697a1\",\"type\":\"GlyphRenderer\"},{\"id\":\"a74bfb60-6a61-42b8-8640-cceac021ad9d\",\"type\":\"GlyphRenderer\"},{\"id\":\"641c409b-9fc5-4b48-af05-9f13bf64f53d\",\"type\":\"GlyphRenderer\"},{\"id\":\"ce19718d-8c01-4129-82e4-fb665bcb814a\",\"type\":\"GlyphRenderer\"},{\"id\":\"17b4dacc-ee80-4557-a0a8-916c0e03d3bd\",\"type\":\"GlyphRenderer\"},{\"id\":\"5e21729e-22c2-4a0c-9e22-3a4d98240603\",\"type\":\"GlyphRenderer\"},{\"id\":\"1754ffb6-d94f-4b5d-b483-5805119157b0\",\"type\":\"GlyphRenderer\"},{\"id\":\"e4ccfe8a-e24b-4025-a8e3-4ec71a9168de\",\"type\":\"GlyphRenderer\"},{\"id\":\"ac4ec1a8-08a3-4183-b031-ea68da08e373\",\"type\":\"GlyphRenderer\"},{\"id\":\"ce531f94-9e9c-45f5-ad9d-bff557127e37\",\"type\":\"GlyphRenderer\"},{\"id\":\"e3de1a2d-263e-40a4-8377-60cfb6a32f66\",\"type\":\"GlyphRenderer\"},{\"id\":\"b016cef8-a37c-4b18-91bb-b6067ab7c173\",\"type\":\"GlyphRenderer\"},{\"id\":\"d96aec95-7505-4fc8-88ca-b3aa4ff41850\",\"type\":\"GlyphRenderer\"},{\"id\":\"3d7952ba-a424-4cbc-bdd1-16dd30106320\",\"type\":\"GlyphRenderer\"},{\"id\":\"d0530e79-0f5f-4da0-9559-d4c99d51016a\",\"type\":\"GlyphRenderer\"},{\"id\":\"79e23383-d320-44a4-aaae-c130d745e04f\",\"type\":\"GlyphRenderer\"},{\"id\":\"5b6167e3-134a-47fa-aab4-6bcd258f4d66\",\"type\":\"GlyphRenderer\"},{\"id\":\"045aa0e7-5aa9-41b5-8081-01b4801549d0\",\"type\":\"GlyphRenderer\"},{\"id\":\"111a2e4f-dce7-4a90-928a-7ee5d8dae3f3\",\"type\":\"GlyphRenderer\"},{\"id\":\"85d93935-8316-417a-95cb-814c69151847\",\"type\":\"GlyphRenderer\"},{\"id\":\"4a711eb0-781a-49fa-aef1-c271c19bdc55\",\"type\":\"GlyphRenderer\"},{\"id\":\"b4cd0d4f-8956-4ff5-9ad4-0e84e734a2ec\",\"type\":\"GlyphRenderer\"},{\"id\":\"016bb8df-ed28-4137-a01c-69712d96acc4\",\"type\":\"GlyphRenderer\"},{\"id\":\"a0cce361-51d8-4b0c-ab71-147b8c9b7075\",\"type\":\"GlyphRenderer\"},{\"id\":\"98655de6-e6bc-4ea9-8620-389c74477bad\",\"type\":\"GlyphRenderer\"},{\"id\":\"17d38e16-9f27-464a-a48e-978a668a6d8b\",\"type\":\"GlyphRenderer\"},{\"id\":\"c2f85f38-5551-4e86-9a40-818eea6d95f6\",\"type\":\"GlyphRenderer\"},{\"id\":\"0aff6fac-ae1c-4fd7-ac40-1130510fd48a\",\"type\":\"GlyphRenderer\"},{\"id\":\"3a16745a-502f-4f15-86c1-361627e4d7ad\",\"type\":\"GlyphRenderer\"},{\"id\":\"2a05d271-bbf6-4875-9195-f75d14ef2ef4\",\"type\":\"GlyphRenderer\"},{\"id\":\"12793de3-dd2d-433f-b121-58fb122d045f\",\"type\":\"GlyphRenderer\"},{\"id\":\"ff0caedf-a5b6-48e7-a81f-b3e4077c50a1\",\"type\":\"GlyphRenderer\"},{\"id\":\"771a79fd-81da-41c3-baa3-126b9450451c\",\"type\":\"GlyphRenderer\"},{\"id\":\"746c8af3-d6f2-462e-9a23-b5c6f65ed2b7\",\"type\":\"GlyphRenderer\"},{\"id\":\"0f3e656a-a2b1-4e33-9ea3-415f8f7ea0c1\",\"type\":\"GlyphRenderer\"},{\"id\":\"f3580445-0972-410d-95ed-0e68e5ed663d\",\"type\":\"GlyphRenderer\"},{\"id\":\"467f52fa-25f4-43b0-b500-304fff173dc8\",\"type\":\"GlyphRenderer\"},{\"id\":\"9896f947-7bf2-473b-8b79-b3ebd543879c\",\"type\":\"GlyphRenderer\"},{\"id\":\"23cc5cd9-6587-4eda-a62e-52e1c72b81f4\",\"type\":\"GlyphRenderer\"},{\"id\":\"de8f614b-8912-44b3-a8d1-c1c971c639f7\",\"type\":\"GlyphRenderer\"},{\"id\":\"e4fe9b9f-ae0c-4d7f-9f5e-00d229a5a902\",\"type\":\"GlyphRenderer\"},{\"id\":\"eebc5ca7-f9cc-4826-991d-779bc13a8fe9\",\"type\":\"GlyphRenderer\"},{\"id\":\"0b076826-031c-4c31-8a7e-ca0a3cb5b177\",\"type\":\"GlyphRenderer\"},{\"id\":\"4eafa019-b453-4023-a42d-9fb16c587f9a\",\"type\":\"GlyphRenderer\"},{\"id\":\"afc9f529-fece-4fd1-aa19-2904292ba820\",\"type\":\"GlyphRenderer\"},{\"id\":\"e79f863b-37b8-4bd5-9328-9bbb4eb65842\",\"type\":\"GlyphRenderer\"},{\"id\":\"6f01c158-06d3-47ee-9748-3f2e0bd933d4\",\"type\":\"GlyphRenderer\"},{\"id\":\"578543b2-25c8-4bf9-be06-bfaadf0558db\",\"type\":\"GlyphRenderer\"},{\"id\":\"e72440f1-4c16-4e19-afc1-17edcb75943a\",\"type\":\"Legend\"},{\"id\":\"578d99cf-f4a3-4b2d-97a8-6e2c54dd8124\",\"type\":\"LinearAxis\"},{\"id\":\"1ba1991e-fc21-48d5-b68d-0f6107c0ba30\",\"type\":\"LinearAxis\"},{\"id\":\"9db26f11-430e-4c29-af21-4b9cbef1e804\",\"type\":\"Grid\"}],\"title\":{\"id\":\"63b2a729-aa73-4ae4-ac29-8c9f8de66e70\",\"type\":\"Title\"},\"tool_events\":{\"id\":\"c5a653d8-b21e-44ef-8573-485cf48ceec7\",\"type\":\"ToolEvents\"},\"toolbar\":{\"id\":\"8cbe194b-97d4-4279-b201-3f22ff35ef15\",\"type\":\"Toolbar\"},\"x_mapper_type\":\"auto\",\"x_range\":{\"id\":\"7f6a3fe1-271e-4fc4-9fc5-0ba1a8dc5710\",\"type\":\"Range1d\"},\"y_mapper_type\":\"auto\",\"y_range\":{\"id\":\"c9bfd104-f2e1-460b-baec-4cbacf2c0faf\",\"type\":\"Range1d\"}},\"id\":\"ea714d3a-1f0d-44e5-8718-8c54af17ea3a\",\"subtype\":\"Chart\",\"type\":\"Plot\"},{\"attributes\":{\"callback\":null,\"column_names\":[\"color\",\"fill_alpha\",\"x\",\"label\",\"y\",\"height\",\"line_alpha\",\"width\",\"line_color\"],\"data\":{\"chart_index\":[\"(673.394600, 695.840420]\"],\"color\":[\"#f22c40\"],\"fill_alpha\":[0.8],\"height\":[1248.0],\"label\":[\"(673.394600, 695.840420]\"],\"line_alpha\":[1.0],\"line_color\":[\"black\"],\"width\":[22.445820000000026],\"x\":[\"684.61751\"],\"y\":[624.0]}},\"id\":\"7cbce66d-3f17-470b-9545-b9f73c61248e\",\"type\":\"ColumnDataSource\"},{\"attributes\":{\"fill_alpha\":{\"field\":\"fill_alpha\"},\"fill_color\":{\"field\":\"color\"},\"height\":{\"field\":\"height\",\"units\":\"data\"},\"line_color\":{\"field\":\"line_color\"},\"width\":{\"field\":\"width\",\"units\":\"data\"},\"x\":{\"field\":\"x\"},\"y\":{\"field\":\"y\"}},\"id\":\"ec5c4260-161c-4e62-9958-6ac40cc0e65b\",\"type\":\"Rect\"},{\"attributes\":{\"callback\":null,\"column_names\":[\"color\",\"fill_alpha\",\"x\",\"label\",\"y\",\"height\",\"line_alpha\",\"width\",\"line_color\"],\"data\":{\"chart_index\":[\"(291.815660, 314.261480]\"],\"color\":[\"#f22c40\"],\"fill_alpha\":[0.8],\"height\":[421.0],\"label\":[\"(291.815660, 314.261480]\"],\"line_alpha\":[1.0],\"line_color\":[\"black\"],\"width\":[22.44581999999997],\"x\":[\"303.03857\"],\"y\":[210.5]}},\"id\":\"e2ba313a-5d33-47c4-a339-e672ee9c5889\",\"type\":\"ColumnDataSource\"},{\"attributes\":{\"data_source\":{\"id\":\"a1d0b1c5-91cf-4333-a1a1-d0bdfb63cfa9\",\"type\":\"ColumnDataSource\"},\"glyph\":{\"id\":\"9d58da42-d993-4d0c-a2a5-eebc48c626e7\",\"type\":\"Rect\"},\"hover_glyph\":null,\"nonselection_glyph\":null,\"selection_glyph\":null},\"id\":\"2a05d271-bbf6-4875-9195-f75d14ef2ef4\",\"type\":\"GlyphRenderer\"},{\"attributes\":{\"data_source\":{\"id\":\"a59b8091-75a9-4f0d-9730-773a28181d85\",\"type\":\"ColumnDataSource\"},\"glyph\":{\"id\":\"cc00d011-06a5-4ec5-b7bb-72b806ac879c\",\"type\":\"Rect\"},\"hover_glyph\":null,\"nonselection_glyph\":null,\"selection_glyph\":null},\"id\":\"17d38e16-9f27-464a-a48e-978a668a6d8b\",\"type\":\"GlyphRenderer\"},{\"attributes\":{\"active_drag\":\"auto\",\"active_scroll\":\"auto\",\"active_tap\":\"auto\",\"tools\":[{\"id\":\"4de537cd-cb7e-409b-9818-f8bcc45e5c48\",\"type\":\"PanTool\"},{\"id\":\"1049b7c5-9da8-4836-a4ad-b1a067fed6af\",\"type\":\"WheelZoomTool\"},{\"id\":\"5770497d-5edc-4f19-baea-326e535c8de7\",\"type\":\"BoxZoomTool\"},{\"id\":\"e4c55df5-4ce6-4334-89fb-c039149cc201\",\"type\":\"SaveTool\"},{\"id\":\"2290fd7c-940e-4be9-a6a4-1228a05cc090\",\"type\":\"ResetTool\"},{\"id\":\"193e4615-6afb-461e-bf42-22d660cf0361\",\"type\":\"HelpTool\"}]},\"id\":\"8cbe194b-97d4-4279-b201-3f22ff35ef15\",\"type\":\"Toolbar\"},{\"attributes\":{\"callback\":null,\"column_names\":[\"color\",\"fill_alpha\",\"x\",\"label\",\"y\",\"height\",\"line_alpha\",\"width\",\"line_color\"],\"data\":{\"chart_index\":[\"(763.177880, 785.623700]\"],\"color\":[\"#f22c40\"],\"fill_alpha\":[0.8],\"height\":[1884.0],\"label\":[\"(763.177880, 785.623700]\"],\"line_alpha\":[1.0],\"line_color\":[\"black\"],\"width\":[22.445819999999912],\"x\":[\"774.4007899999999\"],\"y\":[942.0]}},\"id\":\"4c2f9862-d4bb-41b7-8670-3ccecd287796\",\"type\":\"ColumnDataSource\"},{\"attributes\":{\"axis_label\":\"Byte Stream Size (kilobytes)\",\"formatter\":{\"id\":\"eadf601d-20c4-4d3c-a48a-d22c981ebcf8\",\"type\":\"BasicTickFormatter\"},\"plot\":{\"id\":\"ea714d3a-1f0d-44e5-8718-8c54af17ea3a\",\"subtype\":\"Chart\",\"type\":\"Plot\"},\"ticker\":{\"id\":\"8a1498ba-93a5-46cc-8708-7997290e9194\",\"type\":\"BasicTicker\"}},\"id\":\"578d99cf-f4a3-4b2d-97a8-6e2c54dd8124\",\"type\":\"LinearAxis\"},{\"attributes\":{\"fill_alpha\":{\"field\":\"fill_alpha\"},\"fill_color\":{\"field\":\"color\"},\"height\":{\"field\":\"height\",\"units\":\"data\"},\"line_color\":{\"field\":\"line_color\"},\"width\":{\"field\":\"width\",\"units\":\"data\"},\"x\":{\"field\":\"x\"},\"y\":{\"field\":\"y\"}},\"id\":\"38ba7e27-1655-421c-bd05-5ff7ab6d5820\",\"type\":\"Rect\"},{\"attributes\":{\"callback\":null,\"column_names\":[\"color\",\"fill_alpha\",\"x\",\"label\",\"y\",\"height\",\"line_alpha\",\"width\",\"line_color\"],\"data\":{\"chart_index\":[\"(852.961160, 875.406980]\"],\"color\":[\"#f22c40\"],\"fill_alpha\":[0.8],\"height\":[1294.0],\"label\":[\"(852.961160, 875.406980]\"],\"line_alpha\":[1.0],\"line_color\":[\"black\"],\"width\":[22.445820000000026],\"x\":[\"864.18407\"],\"y\":[647.0]}},\"id\":\"231ee3a9-ee3d-41d8-b265-a44648290557\",\"type\":\"ColumnDataSource\"},{\"attributes\":{\"data_source\":{\"id\":\"abdfc166-b00d-4052-a0df-e1dcbed29ea7\",\"type\":\"ColumnDataSource\"},\"glyph\":{\"id\":\"d7c5d8e5-7c7a-449d-9638-5f575060ad30\",\"type\":\"Rect\"},\"hover_glyph\":null,\"nonselection_glyph\":null,\"selection_glyph\":null},\"id\":\"de8f614b-8912-44b3-a8d1-c1c971c639f7\",\"type\":\"GlyphRenderer\"},{\"attributes\":{\"callback\":null,\"column_names\":[\"color\",\"fill_alpha\",\"x\",\"label\",\"y\",\"height\",\"line_alpha\",\"width\",\"line_color\"],\"data\":{\"chart_index\":[\"(336.707300, 359.153120]\"],\"color\":[\"#f22c40\"],\"fill_alpha\":[0.8],\"height\":[158.0],\"label\":[\"(336.707300, 359.153120]\"],\"line_alpha\":[1.0],\"line_color\":[\"black\"],\"width\":[22.445820000000026],\"x\":[\"347.93021\"],\"y\":[79.0]}},\"id\":\"a80a4641-9505-4eb0-bb6f-efc3216ffd9e\",\"type\":\"ColumnDataSource\"},{\"attributes\":{\"data_source\":{\"id\":\"71fbd6fd-6a2f-4426-9b8e-78389a7694e1\",\"type\":\"ColumnDataSource\"},\"glyph\":{\"id\":\"273b16b9-db62-445c-abdd-030fce1799a0\",\"type\":\"Rect\"},\"hover_glyph\":null,\"nonselection_glyph\":null,\"selection_glyph\":null},\"id\":\"4eafa019-b453-4023-a42d-9fb16c587f9a\",\"type\":\"GlyphRenderer\"},{\"attributes\":{\"fill_alpha\":{\"field\":\"fill_alpha\"},\"fill_color\":{\"field\":\"color\"},\"height\":{\"field\":\"height\",\"units\":\"data\"},\"line_color\":{\"field\":\"line_color\"},\"width\":{\"field\":\"width\",\"units\":\"data\"},\"x\":{\"field\":\"x\"},\"y\":{\"field\":\"y\"}},\"id\":\"4fc5acc4-f881-4ae9-b740-1381e4529e2d\",\"type\":\"Rect\"},{\"attributes\":{\"data_source\":{\"id\":\"5356c653-cc88-43fd-8bbc-18ae95bf9ce0\",\"type\":\"ColumnDataSource\"},\"glyph\":{\"id\":\"31cd40cd-64a3-42d3-96e7-e58c95d10675\",\"type\":\"Rect\"},\"hover_glyph\":null,\"nonselection_glyph\":null,\"selection_glyph\":null},\"id\":\"b4cd0d4f-8956-4ff5-9ad4-0e84e734a2ec\",\"type\":\"GlyphRenderer\"},{\"attributes\":{\"dimension\":1,\"plot\":{\"id\":\"ea714d3a-1f0d-44e5-8718-8c54af17ea3a\",\"subtype\":\"Chart\",\"type\":\"Plot\"},\"ticker\":{\"id\":\"0ffd828e-1396-48cc-836b-0c2b73a769f2\",\"type\":\"BasicTicker\"}},\"id\":\"9db26f11-430e-4c29-af21-4b9cbef1e804\",\"type\":\"Grid\"},{\"attributes\":{\"data_source\":{\"id\":\"38ee9480-062c-4dc1-a2db-fbae78bf14fd\",\"type\":\"ColumnDataSource\"},\"glyph\":{\"id\":\"c6e866fc-577c-42c1-8462-319351f63b9a\",\"type\":\"Rect\"},\"hover_glyph\":null,\"nonselection_glyph\":null,\"selection_glyph\":null},\"id\":\"111a2e4f-dce7-4a90-928a-7ee5d8dae3f3\",\"type\":\"GlyphRenderer\"},{\"attributes\":{},\"id\":\"8a1498ba-93a5-46cc-8708-7997290e9194\",\"type\":\"BasicTicker\"},{\"attributes\":{\"fill_alpha\":{\"field\":\"fill_alpha\"},\"fill_color\":{\"field\":\"color\"},\"height\":{\"field\":\"height\",\"units\":\"data\"},\"line_color\":{\"field\":\"line_color\"},\"width\":{\"field\":\"width\",\"units\":\"data\"},\"x\":{\"field\":\"x\"},\"y\":{\"field\":\"y\"}},\"id\":\"be3a795c-c8d0-4b90-acc1-78edffbed975\",\"type\":\"Rect\"},{\"attributes\":{\"callback\":null,\"column_names\":[\"color\",\"fill_alpha\",\"x\",\"label\",\"y\",\"height\",\"line_alpha\",\"width\",\"line_color\"],\"data\":{\"chart_index\":[\"(987.636080, 1010.081900]\"],\"color\":[\"#f22c40\"],\"fill_alpha\":[0.8],\"height\":[97.0],\"label\":[\"(987.636080, 1010.081900]\"],\"line_alpha\":[1.0],\"line_color\":[\"black\"],\"width\":[22.445820000000026],\"x\":[\"998.85899\"],\"y\":[48.5]}},\"id\":\"617d83b5-a3fb-4547-ad0f-577fb39b42c8\",\"type\":\"ColumnDataSource\"},{\"attributes\":{\"callback\":null,\"column_names\":[\"color\",\"fill_alpha\",\"x\",\"label\",\"y\",\"height\",\"line_alpha\",\"width\",\"line_color\"],\"data\":{\"chart_index\":[\"(426.490580, 448.936400]\"],\"color\":[\"#f22c40\"],\"fill_alpha\":[0.8],\"height\":[1371.0],\"label\":[\"(426.490580, 448.936400]\"],\"line_alpha\":[1.0],\"line_color\":[\"black\"],\"width\":[22.445820000000026],\"x\":[\"437.71349\"],\"y\":[685.5]}},\"id\":\"1dcf3909-f424-4999-8dfb-7039850cd985\",\"type\":\"ColumnDataSource\"},{\"attributes\":{\"data_source\":{\"id\":\"16633cca-3d3c-44f0-a257-5a8888b8ea0c\",\"type\":\"ColumnDataSource\"},\"glyph\":{\"id\":\"4ed777a6-bebd-41dc-8e3c-935c2e1b32c5\",\"type\":\"Rect\"},\"hover_glyph\":null,\"nonselection_glyph\":null,\"selection_glyph\":null},\"id\":\"944a4e5c-02af-40e2-a843-0cfce9894b42\",\"type\":\"GlyphRenderer\"},{\"attributes\":{\"fill_alpha\":{\"field\":\"fill_alpha\"},\"fill_color\":{\"field\":\"color\"},\"height\":{\"field\":\"height\",\"units\":\"data\"},\"line_color\":{\"field\":\"line_color\"},\"width\":{\"field\":\"width\",\"units\":\"data\"},\"x\":{\"field\":\"x\"},\"y\":{\"field\":\"y\"}},\"id\":\"0230c9b0-7ea6-4362-8739-29bd50ca6596\",\"type\":\"Rect\"},{\"attributes\":{\"callback\":null,\"end\":1150.3692750000002,\"start\":-28.038275000000006},\"id\":\"7f6a3fe1-271e-4fc4-9fc5-0ba1a8dc5710\",\"type\":\"Range1d\"},{\"attributes\":{\"data_source\":{\"id\":\"7cbce66d-3f17-470b-9545-b9f73c61248e\",\"type\":\"ColumnDataSource\"},\"glyph\":{\"id\":\"1c7a4c85-1c57-46a1-aa63-f53750098c8b\",\"type\":\"Rect\"},\"hover_glyph\":null,\"nonselection_glyph\":null,\"selection_glyph\":null},\"id\":\"3a16745a-502f-4f15-86c1-361627e4d7ad\",\"type\":\"GlyphRenderer\"},{\"attributes\":{\"fill_alpha\":{\"field\":\"fill_alpha\"},\"fill_color\":{\"field\":\"color\"},\"height\":{\"field\":\"height\",\"units\":\"data\"},\"line_color\":{\"field\":\"line_color\"},\"width\":{\"field\":\"width\",\"units\":\"data\"},\"x\":{\"field\":\"x\"},\"y\":{\"field\":\"y\"}},\"id\":\"2b4be9f9-f784-41b6-bddc-65d36a17adae\",\"type\":\"Rect\"}],\"root_ids\":[\"ea714d3a-1f0d-44e5-8718-8c54af17ea3a\"]},\"title\":\"Bokeh Application\",\"version\":\"0.12.4\"}};\n",
       "            var render_items = [{\"docid\":\"b4b3edd5-9fa0-4517-ac35-911eec7e6832\",\"elementid\":\"96e97e5c-aa5e-4978-b95c-5b0db0ddbddd\",\"modelid\":\"ea714d3a-1f0d-44e5-8718-8c54af17ea3a\"}];\n",
       "            \n",
       "            Bokeh.embed.embed_items(docs_json, render_items);\n",
       "          };\n",
       "          if (document.readyState != \"loading\") fn();\n",
       "          else document.addEventListener(\"DOMContentLoaded\", fn);\n",
       "        })();\n",
       "      },\n",
       "      function(Bokeh) {\n",
       "      }\n",
       "    ];\n",
       "  \n",
       "    function run_inline_js() {\n",
       "      \n",
       "      if ((window.Bokeh !== undefined) || (force === true)) {\n",
       "        for (var i = 0; i < inline_js.length; i++) {\n",
       "          inline_js[i](window.Bokeh);\n",
       "        }if (force === true) {\n",
       "          display_loaded();\n",
       "        }} else if (Date.now() < window._bokeh_timeout) {\n",
       "        setTimeout(run_inline_js, 100);\n",
       "      } else if (!window._bokeh_failed_load) {\n",
       "        console.log(\"Bokeh: BokehJS failed to load within specified timeout.\");\n",
       "        window._bokeh_failed_load = true;\n",
       "      } else if (force !== true) {\n",
       "        var cell = $(document.getElementById(\"96e97e5c-aa5e-4978-b95c-5b0db0ddbddd\")).parents('.cell').data().cell;\n",
       "        cell.output_area.append_execute_result(NB_LOAD_WARNING)\n",
       "      }\n",
       "  \n",
       "    }\n",
       "  \n",
       "    if (window._bokeh_is_loading === 0) {\n",
       "      console.log(\"Bokeh: BokehJS loaded, going straight to plotting\");\n",
       "      run_inline_js();\n",
       "    } else {\n",
       "      load_libs(js_urls, function() {\n",
       "        console.log(\"Bokeh: BokehJS plotting callback run at\", now());\n",
       "        run_inline_js();\n",
       "      });\n",
       "    }\n",
       "  }(this));\n",
       "</script>"
      ]
     },
     "metadata": {},
     "output_type": "display_data"
    }
   ],
   "source": [
    "p = Histogram(airs.drop_duplicates('Checksum')['Size']/1000, bins=50,\n",
    "             xlabel='Byte Stream Size (kilobytes)')\n",
    "show(p)"
   ]
  },
  {
   "cell_type": "code",
   "execution_count": 26,
   "metadata": {
    "collapsed": false
   },
   "outputs": [
    {
     "data": {
      "text/plain": [
       "count    3.303530e+05\n",
       "mean     2.451461e+05\n",
       "std      2.341771e+05\n",
       "min      2.000000e+01\n",
       "25%      8.419200e+04\n",
       "50%      1.922770e+05\n",
       "75%      2.363170e+05\n",
       "max      1.122311e+06\n",
       "Name: Size, dtype: float64"
      ]
     },
     "execution_count": 26,
     "metadata": {},
     "output_type": "execute_result"
    }
   ],
   "source": [
    "airs.drop_duplicates('Checksum')['Size'].describe()"
   ]
  },
  {
   "cell_type": "markdown",
   "metadata": {
    "collapsed": true
   },
   "source": [
    "### Datasets"
   ]
  },
  {
   "cell_type": "markdown",
   "metadata": {},
   "source": [
    "#### How many datasets per file?"
   ]
  },
  {
   "cell_type": "code",
   "execution_count": 27,
   "metadata": {
    "collapsed": true
   },
   "outputs": [],
   "source": [
    "grp = airs.groupby('File')"
   ]
  },
  {
   "cell_type": "code",
   "execution_count": 28,
   "metadata": {
    "collapsed": false
   },
   "outputs": [
    {
     "data": {
      "text/plain": [
       "count    365.0\n",
       "mean     777.0\n",
       "std        0.0\n",
       "min      777.0\n",
       "25%      777.0\n",
       "50%      777.0\n",
       "75%      777.0\n",
       "max      777.0\n",
       "Name: Dataset, dtype: float64"
      ]
     },
     "execution_count": 28,
     "metadata": {},
     "output_type": "execute_result"
    }
   ],
   "source": [
    "grp.Dataset.unique().apply(lambda l: len(l)).describe()"
   ]
  },
  {
   "cell_type": "markdown",
   "metadata": {},
   "source": [
    "#### Is every dataset in every AIRS file chunked?"
   ]
  },
  {
   "cell_type": "code",
   "execution_count": 29,
   "metadata": {
    "collapsed": true
   },
   "outputs": [],
   "source": [
    "grp = airs.groupby(['File', 'Dataset'])"
   ]
  },
  {
   "cell_type": "code",
   "execution_count": 30,
   "metadata": {
    "collapsed": false
   },
   "outputs": [
    {
     "data": {
      "text/plain": [
       "True"
      ]
     },
     "execution_count": 30,
     "metadata": {},
     "output_type": "execute_result"
    }
   ],
   "source": [
    "grp.Chunk_Flag.agg(all).all()"
   ]
  },
  {
   "cell_type": "markdown",
   "metadata": {},
   "source": [
    "#### How many byte streams per dataset?"
   ]
  },
  {
   "cell_type": "code",
   "execution_count": 31,
   "metadata": {
    "collapsed": false
   },
   "outputs": [
    {
     "data": {
      "text/plain": [
       "count    283605.000000\n",
       "mean          2.009009\n",
       "std           2.458655\n",
       "min           1.000000\n",
       "25%           1.000000\n",
       "50%           1.000000\n",
       "75%           1.000000\n",
       "max           8.000000\n",
       "Name: UUID, dtype: float64"
      ]
     },
     "execution_count": 31,
     "metadata": {},
     "output_type": "execute_result"
    }
   ],
   "source": [
    "grp.UUID.count().describe()"
   ]
  },
  {
   "cell_type": "code",
   "execution_count": 32,
   "metadata": {
    "collapsed": false
   },
   "outputs": [
    {
     "data": {
      "text/html": [
       "\n",
       "\n",
       "    <div class=\"bk-root\">\n",
       "        <div class=\"bk-plotdiv\" id=\"2cd81865-9f60-474d-ab41-84ca48b6f03e\"></div>\n",
       "    </div>\n",
       "<script type=\"text/javascript\">\n",
       "  \n",
       "  (function(global) {\n",
       "    function now() {\n",
       "      return new Date();\n",
       "    }\n",
       "  \n",
       "    var force = false;\n",
       "  \n",
       "    if (typeof (window._bokeh_onload_callbacks) === \"undefined\" || force === true) {\n",
       "      window._bokeh_onload_callbacks = [];\n",
       "      window._bokeh_is_loading = undefined;\n",
       "    }\n",
       "  \n",
       "  \n",
       "    \n",
       "    if (typeof (window._bokeh_timeout) === \"undefined\" || force === true) {\n",
       "      window._bokeh_timeout = Date.now() + 0;\n",
       "      window._bokeh_failed_load = false;\n",
       "    }\n",
       "  \n",
       "    var NB_LOAD_WARNING = {'data': {'text/html':\n",
       "       \"<div style='background-color: #fdd'>\\n\"+\n",
       "       \"<p>\\n\"+\n",
       "       \"BokehJS does not appear to have successfully loaded. If loading BokehJS from CDN, this \\n\"+\n",
       "       \"may be due to a slow or bad network connection. Possible fixes:\\n\"+\n",
       "       \"</p>\\n\"+\n",
       "       \"<ul>\\n\"+\n",
       "       \"<li>re-rerun `output_notebook()` to attempt to load from CDN again, or</li>\\n\"+\n",
       "       \"<li>use INLINE resources instead, as so:</li>\\n\"+\n",
       "       \"</ul>\\n\"+\n",
       "       \"<code>\\n\"+\n",
       "       \"from bokeh.resources import INLINE\\n\"+\n",
       "       \"output_notebook(resources=INLINE)\\n\"+\n",
       "       \"</code>\\n\"+\n",
       "       \"</div>\"}};\n",
       "  \n",
       "    function display_loaded() {\n",
       "      if (window.Bokeh !== undefined) {\n",
       "        document.getElementById(\"2cd81865-9f60-474d-ab41-84ca48b6f03e\").textContent = \"BokehJS successfully loaded.\";\n",
       "      } else if (Date.now() < window._bokeh_timeout) {\n",
       "        setTimeout(display_loaded, 100)\n",
       "      }\n",
       "    }\n",
       "  \n",
       "    function run_callbacks() {\n",
       "      window._bokeh_onload_callbacks.forEach(function(callback) { callback() });\n",
       "      delete window._bokeh_onload_callbacks\n",
       "      console.info(\"Bokeh: all callbacks have finished\");\n",
       "    }\n",
       "  \n",
       "    function load_libs(js_urls, callback) {\n",
       "      window._bokeh_onload_callbacks.push(callback);\n",
       "      if (window._bokeh_is_loading > 0) {\n",
       "        console.log(\"Bokeh: BokehJS is being loaded, scheduling callback at\", now());\n",
       "        return null;\n",
       "      }\n",
       "      if (js_urls == null || js_urls.length === 0) {\n",
       "        run_callbacks();\n",
       "        return null;\n",
       "      }\n",
       "      console.log(\"Bokeh: BokehJS not loaded, scheduling load and callback at\", now());\n",
       "      window._bokeh_is_loading = js_urls.length;\n",
       "      for (var i = 0; i < js_urls.length; i++) {\n",
       "        var url = js_urls[i];\n",
       "        var s = document.createElement('script');\n",
       "        s.src = url;\n",
       "        s.async = false;\n",
       "        s.onreadystatechange = s.onload = function() {\n",
       "          window._bokeh_is_loading--;\n",
       "          if (window._bokeh_is_loading === 0) {\n",
       "            console.log(\"Bokeh: all BokehJS libraries loaded\");\n",
       "            run_callbacks()\n",
       "          }\n",
       "        };\n",
       "        s.onerror = function() {\n",
       "          console.warn(\"failed to load library \" + url);\n",
       "        };\n",
       "        console.log(\"Bokeh: injecting script tag for BokehJS library: \", url);\n",
       "        document.getElementsByTagName(\"head\")[0].appendChild(s);\n",
       "      }\n",
       "    };var element = document.getElementById(\"2cd81865-9f60-474d-ab41-84ca48b6f03e\");\n",
       "    if (element == null) {\n",
       "      console.log(\"Bokeh: ERROR: autoload.js configured with elementid '2cd81865-9f60-474d-ab41-84ca48b6f03e' but no matching script tag was found. \")\n",
       "      return false;\n",
       "    }\n",
       "  \n",
       "    var js_urls = [];\n",
       "  \n",
       "    var inline_js = [\n",
       "      function(Bokeh) {\n",
       "        (function() {\n",
       "          var fn = function() {\n",
       "            var docs_json = {\"f7ca3b55-e860-4254-bd62-799f574a3671\":{\"roots\":{\"references\":[{\"attributes\":{\"axis_label\":\"Count(Dataset per File)\",\"formatter\":{\"id\":\"71ca22fd-ad4f-4e32-9f9c-1b2d5a232903\",\"type\":\"BasicTickFormatter\"},\"plot\":{\"id\":\"c178e6e8-418d-4fd7-a9c9-67995921411c\",\"subtype\":\"Chart\",\"type\":\"Plot\"},\"ticker\":{\"id\":\"a13b84f0-e56c-4caf-af33-12caad68b118\",\"type\":\"BasicTicker\"}},\"id\":\"b0a2d1a9-5c65-4ddc-894d-b9533a505f58\",\"type\":\"LinearAxis\"},{\"attributes\":{\"data_source\":{\"id\":\"977711be-5530-4801-a35d-be537d67a211\",\"type\":\"ColumnDataSource\"},\"glyph\":{\"id\":\"f6479638-7428-4001-94ee-0c57abc5132f\",\"type\":\"Rect\"},\"hover_glyph\":null,\"nonselection_glyph\":null,\"selection_glyph\":null},\"id\":\"84a9b7db-e38f-4d0f-8a8f-c8b5d016358f\",\"type\":\"GlyphRenderer\"},{\"attributes\":{\"callback\":null,\"column_names\":[\"color\",\"fill_alpha\",\"x\",\"label\",\"y\",\"height\",\"line_alpha\",\"width\",\"line_color\"],\"data\":{\"chart_index\":[\"(1.500000, 2.500000]\"],\"color\":[\"#f22c40\"],\"fill_alpha\":[0.8],\"height\":[0.0],\"label\":[\"(1.500000, 2.500000]\"],\"line_alpha\":[1.0],\"line_color\":[\"black\"],\"width\":[1.0],\"x\":[\"2.0\"],\"y\":[0.0]}},\"id\":\"53d2a59c-c5f3-47dc-b128-72a615863018\",\"type\":\"ColumnDataSource\"},{\"attributes\":{\"fill_alpha\":{\"field\":\"fill_alpha\"},\"fill_color\":{\"field\":\"color\"},\"height\":{\"field\":\"height\",\"units\":\"data\"},\"line_color\":{\"field\":\"line_color\"},\"width\":{\"field\":\"width\",\"units\":\"data\"},\"x\":{\"field\":\"x\"},\"y\":{\"field\":\"y\"}},\"id\":\"f6479638-7428-4001-94ee-0c57abc5132f\",\"type\":\"Rect\"},{\"attributes\":{\"plot\":{\"id\":\"c178e6e8-418d-4fd7-a9c9-67995921411c\",\"subtype\":\"Chart\",\"type\":\"Plot\"}},\"id\":\"5c30b83c-b051-4495-af17-8f303c602161\",\"type\":\"HelpTool\"},{\"attributes\":{\"callback\":null,\"column_names\":[\"color\",\"fill_alpha\",\"x\",\"label\",\"y\",\"height\",\"line_alpha\",\"width\",\"line_color\"],\"data\":{\"chart_index\":[\"(7.500000, 8.500000]\"],\"color\":[\"#f22c40\"],\"fill_alpha\":[0.8],\"height\":[40880.0],\"label\":[\"(7.500000, 8.500000]\"],\"line_alpha\":[1.0],\"line_color\":[\"black\"],\"width\":[1.0],\"x\":[\"8.0\"],\"y\":[20440.0]}},\"id\":\"8a502507-a524-4d25-8c56-dd1cb290b690\",\"type\":\"ColumnDataSource\"},{\"attributes\":{\"plot\":{\"id\":\"c178e6e8-418d-4fd7-a9c9-67995921411c\",\"subtype\":\"Chart\",\"type\":\"Plot\"}},\"id\":\"02422d8b-ea0b-49f4-a943-117bfcd7310a\",\"type\":\"PanTool\"},{\"attributes\":{\"ticks\":[0,1,2,3,4,5,6,7,8]},\"id\":\"77ecc7a9-c0b3-4419-aeb7-908ab411def6\",\"type\":\"FixedTicker\"},{\"attributes\":{\"data_source\":{\"id\":\"53d2a59c-c5f3-47dc-b128-72a615863018\",\"type\":\"ColumnDataSource\"},\"glyph\":{\"id\":\"4ad4ee79-d2b2-4e44-8f7c-d39ff2c9892c\",\"type\":\"Rect\"},\"hover_glyph\":null,\"nonselection_glyph\":null,\"selection_glyph\":null},\"id\":\"048b36f1-9aff-458e-82e9-58a885d18bb8\",\"type\":\"GlyphRenderer\"},{\"attributes\":{\"plot\":{\"id\":\"c178e6e8-418d-4fd7-a9c9-67995921411c\",\"subtype\":\"Chart\",\"type\":\"Plot\"}},\"id\":\"2acd5106-873a-4a0b-b5a8-b27e1ab32b8e\",\"type\":\"SaveTool\"},{\"attributes\":{\"axis_label\":\"Number of byte streams per dataset\",\"formatter\":{\"id\":\"403b72b9-e147-488b-a8af-298911276123\",\"type\":\"BasicTickFormatter\"},\"plot\":{\"id\":\"c178e6e8-418d-4fd7-a9c9-67995921411c\",\"subtype\":\"Chart\",\"type\":\"Plot\"},\"ticker\":{\"id\":\"77ecc7a9-c0b3-4419-aeb7-908ab411def6\",\"type\":\"FixedTicker\"}},\"id\":\"3b7c4280-b3f2-4db0-a6e9-78618fef7365\",\"type\":\"LinearAxis\"},{\"attributes\":{\"fill_alpha\":{\"field\":\"fill_alpha\"},\"fill_color\":{\"field\":\"color\"},\"height\":{\"field\":\"height\",\"units\":\"data\"},\"line_color\":{\"field\":\"line_color\"},\"width\":{\"field\":\"width\",\"units\":\"data\"},\"x\":{\"field\":\"x\"},\"y\":{\"field\":\"y\"}},\"id\":\"4ad4ee79-d2b2-4e44-8f7c-d39ff2c9892c\",\"type\":\"Rect\"},{\"attributes\":{},\"id\":\"cc1e9b04-b0c9-44a2-8d22-a748f7fa7934\",\"type\":\"ToolEvents\"},{\"attributes\":{\"plot\":{\"id\":\"c178e6e8-418d-4fd7-a9c9-67995921411c\",\"subtype\":\"Chart\",\"type\":\"Plot\"}},\"id\":\"7e56c9ab-e931-4d24-8b17-9acb11441449\",\"type\":\"ResetTool\"},{\"attributes\":{\"callback\":null,\"column_names\":[\"color\",\"fill_alpha\",\"x\",\"label\",\"y\",\"height\",\"line_alpha\",\"width\",\"line_color\"],\"data\":{\"chart_index\":[\"(2.500000, 3.500000]\"],\"color\":[\"#f22c40\"],\"fill_alpha\":[0.8],\"height\":[0.0],\"label\":[\"(2.500000, 3.500000]\"],\"line_alpha\":[1.0],\"line_color\":[\"black\"],\"width\":[1.0],\"x\":[\"3.0\"],\"y\":[0.0]}},\"id\":\"4f16bfd7-365d-41f8-a597-2ad880f66dc5\",\"type\":\"ColumnDataSource\"},{\"attributes\":{\"callback\":null,\"column_names\":[\"color\",\"fill_alpha\",\"x\",\"label\",\"y\",\"height\",\"line_alpha\",\"width\",\"line_color\"],\"data\":{\"chart_index\":[\"(6.500000, 7.500000]\"],\"color\":[\"#f22c40\"],\"fill_alpha\":[0.8],\"height\":[0.0],\"label\":[\"(6.500000, 7.500000]\"],\"line_alpha\":[1.0],\"line_color\":[\"black\"],\"width\":[1.0],\"x\":[\"7.0\"],\"y\":[0.0]}},\"id\":\"8c18e54b-d26b-4e0c-9a20-c3d6af86d3c3\",\"type\":\"ColumnDataSource\"},{\"attributes\":{\"data_source\":{\"id\":\"def309f7-31d2-4bc1-83ec-d5b68b6c4321\",\"type\":\"ColumnDataSource\"},\"glyph\":{\"id\":\"b24af661-43d7-45ee-952b-5f1c9a439c20\",\"type\":\"Rect\"},\"hover_glyph\":null,\"nonselection_glyph\":null,\"selection_glyph\":null},\"id\":\"5159d93f-aeda-411b-9d61-522be9901379\",\"type\":\"GlyphRenderer\"},{\"attributes\":{\"fill_alpha\":{\"field\":\"fill_alpha\"},\"fill_color\":{\"field\":\"color\"},\"height\":{\"field\":\"height\",\"units\":\"data\"},\"line_color\":{\"field\":\"line_color\"},\"width\":{\"field\":\"width\",\"units\":\"data\"},\"x\":{\"field\":\"x\"},\"y\":{\"field\":\"y\"}},\"id\":\"b24af661-43d7-45ee-952b-5f1c9a439c20\",\"type\":\"Rect\"},{\"attributes\":{\"data_source\":{\"id\":\"c7f30944-f87a-4fc4-ad18-83d7e8bb63ee\",\"type\":\"ColumnDataSource\"},\"glyph\":{\"id\":\"1a472684-cbed-4cbd-b90e-aa73e84a6d78\",\"type\":\"Rect\"},\"hover_glyph\":null,\"nonselection_glyph\":null,\"selection_glyph\":null},\"id\":\"dd8b319e-a4ca-4fe9-bc76-d3d25c99a65b\",\"type\":\"GlyphRenderer\"},{\"attributes\":{\"callback\":null,\"end\":266997.5},\"id\":\"eb14d0f0-63f0-4f74-a86c-8daeab06d59f\",\"type\":\"Range1d\"},{\"attributes\":{\"data_source\":{\"id\":\"8c18e54b-d26b-4e0c-9a20-c3d6af86d3c3\",\"type\":\"ColumnDataSource\"},\"glyph\":{\"id\":\"45ff550f-9cf3-487f-9edf-82a26fc489cd\",\"type\":\"Rect\"},\"hover_glyph\":null,\"nonselection_glyph\":null,\"selection_glyph\":null},\"id\":\"858f5831-69fe-4e01-8826-fca83180489d\",\"type\":\"GlyphRenderer\"},{\"attributes\":{\"fill_alpha\":{\"field\":\"fill_alpha\"},\"fill_color\":{\"field\":\"color\"},\"height\":{\"field\":\"height\",\"units\":\"data\"},\"line_color\":{\"field\":\"line_color\"},\"width\":{\"field\":\"width\",\"units\":\"data\"},\"x\":{\"field\":\"x\"},\"y\":{\"field\":\"y\"}},\"id\":\"50c954c3-c6cd-4e5e-bba1-6272caad257a\",\"type\":\"Rect\"},{\"attributes\":{\"callback\":null,\"column_names\":[\"color\",\"fill_alpha\",\"x\",\"label\",\"y\",\"height\",\"line_alpha\",\"width\",\"line_color\"],\"data\":{\"chart_index\":[\"[0.500000, 1.500000]\"],\"color\":[\"#f22c40\"],\"fill_alpha\":[0.8],\"height\":[242725.0],\"label\":[\"[0.500000, 1.500000]\"],\"line_alpha\":[1.0],\"line_color\":[\"black\"],\"width\":[1.0],\"x\":[\"1.0\"],\"y\":[121362.5]}},\"id\":\"def309f7-31d2-4bc1-83ec-d5b68b6c4321\",\"type\":\"ColumnDataSource\"},{\"attributes\":{\"location\":\"top_left\",\"plot\":{\"id\":\"c178e6e8-418d-4fd7-a9c9-67995921411c\",\"subtype\":\"Chart\",\"type\":\"Plot\"}},\"id\":\"13ff1a1c-0e1d-44bc-aea0-c93fe802b191\",\"type\":\"Legend\"},{\"attributes\":{\"plot\":null,\"text\":null},\"id\":\"d6ce1d43-01d6-4933-8d40-e9c5d2b986ea\",\"type\":\"Title\"},{\"attributes\":{\"callback\":null,\"end\":8.725,\"start\":0.275},\"id\":\"2d47ab6a-cfc0-4436-bfd0-6579bd0ded4a\",\"type\":\"Range1d\"},{\"attributes\":{\"data_source\":{\"id\":\"0105e31d-4f7d-42ce-9b7e-904185d67339\",\"type\":\"ColumnDataSource\"},\"glyph\":{\"id\":\"093f88f6-269b-4272-97f0-42bb59b4f3a6\",\"type\":\"Rect\"},\"hover_glyph\":null,\"nonselection_glyph\":null,\"selection_glyph\":null},\"id\":\"0de64ecf-7493-43c4-be95-647f16879271\",\"type\":\"GlyphRenderer\"},{\"attributes\":{\"bottom_units\":\"screen\",\"fill_alpha\":{\"value\":0.5},\"fill_color\":{\"value\":\"lightgrey\"},\"left_units\":\"screen\",\"level\":\"overlay\",\"line_alpha\":{\"value\":1.0},\"line_color\":{\"value\":\"black\"},\"line_dash\":[4,4],\"line_width\":{\"value\":2},\"plot\":null,\"render_mode\":\"css\",\"right_units\":\"screen\",\"top_units\":\"screen\"},\"id\":\"3bd4b63f-d323-45e4-b038-806bb2e1443c\",\"type\":\"BoxAnnotation\"},{\"attributes\":{\"callback\":null,\"column_names\":[\"color\",\"fill_alpha\",\"x\",\"label\",\"y\",\"height\",\"line_alpha\",\"width\",\"line_color\"],\"data\":{\"chart_index\":[\"(4.500000, 5.500000]\"],\"color\":[\"#f22c40\"],\"fill_alpha\":[0.8],\"height\":[0.0],\"label\":[\"(4.500000, 5.500000]\"],\"line_alpha\":[1.0],\"line_color\":[\"black\"],\"width\":[1.0],\"x\":[\"5.0\"],\"y\":[0.0]}},\"id\":\"0105e31d-4f7d-42ce-9b7e-904185d67339\",\"type\":\"ColumnDataSource\"},{\"attributes\":{\"data_source\":{\"id\":\"8a502507-a524-4d25-8c56-dd1cb290b690\",\"type\":\"ColumnDataSource\"},\"glyph\":{\"id\":\"e8fc9d2c-6687-4ddf-8ae7-1db18fef56bf\",\"type\":\"Rect\"},\"hover_glyph\":null,\"nonselection_glyph\":null,\"selection_glyph\":null},\"id\":\"82a30ec6-11b6-4882-9af9-9f64b07c2464\",\"type\":\"GlyphRenderer\"},{\"attributes\":{\"fill_alpha\":{\"field\":\"fill_alpha\"},\"fill_color\":{\"field\":\"color\"},\"height\":{\"field\":\"height\",\"units\":\"data\"},\"line_color\":{\"field\":\"line_color\"},\"width\":{\"field\":\"width\",\"units\":\"data\"},\"x\":{\"field\":\"x\"},\"y\":{\"field\":\"y\"}},\"id\":\"1a472684-cbed-4cbd-b90e-aa73e84a6d78\",\"type\":\"Rect\"},{\"attributes\":{},\"id\":\"a13b84f0-e56c-4caf-af33-12caad68b118\",\"type\":\"BasicTicker\"},{\"attributes\":{\"below\":[{\"id\":\"3b7c4280-b3f2-4db0-a6e9-78618fef7365\",\"type\":\"LinearAxis\"}],\"css_classes\":null,\"left\":[{\"id\":\"b0a2d1a9-5c65-4ddc-894d-b9533a505f58\",\"type\":\"LinearAxis\"}],\"renderers\":[{\"id\":\"3bd4b63f-d323-45e4-b038-806bb2e1443c\",\"type\":\"BoxAnnotation\"},{\"id\":\"5159d93f-aeda-411b-9d61-522be9901379\",\"type\":\"GlyphRenderer\"},{\"id\":\"048b36f1-9aff-458e-82e9-58a885d18bb8\",\"type\":\"GlyphRenderer\"},{\"id\":\"c0f9e277-582e-46d9-b132-4fe985c9beaf\",\"type\":\"GlyphRenderer\"},{\"id\":\"84a9b7db-e38f-4d0f-8a8f-c8b5d016358f\",\"type\":\"GlyphRenderer\"},{\"id\":\"0de64ecf-7493-43c4-be95-647f16879271\",\"type\":\"GlyphRenderer\"},{\"id\":\"dd8b319e-a4ca-4fe9-bc76-d3d25c99a65b\",\"type\":\"GlyphRenderer\"},{\"id\":\"858f5831-69fe-4e01-8826-fca83180489d\",\"type\":\"GlyphRenderer\"},{\"id\":\"82a30ec6-11b6-4882-9af9-9f64b07c2464\",\"type\":\"GlyphRenderer\"},{\"id\":\"13ff1a1c-0e1d-44bc-aea0-c93fe802b191\",\"type\":\"Legend\"},{\"id\":\"3b7c4280-b3f2-4db0-a6e9-78618fef7365\",\"type\":\"LinearAxis\"},{\"id\":\"b0a2d1a9-5c65-4ddc-894d-b9533a505f58\",\"type\":\"LinearAxis\"},{\"id\":\"6f67edef-2806-43bd-afca-77a18966f3d0\",\"type\":\"Grid\"}],\"title\":{\"id\":\"d6ce1d43-01d6-4933-8d40-e9c5d2b986ea\",\"type\":\"Title\"},\"tool_events\":{\"id\":\"cc1e9b04-b0c9-44a2-8d22-a748f7fa7934\",\"type\":\"ToolEvents\"},\"toolbar\":{\"id\":\"7fa78d51-54eb-4b6f-85be-875e5ad3b3d2\",\"type\":\"Toolbar\"},\"x_mapper_type\":\"auto\",\"x_range\":{\"id\":\"2d47ab6a-cfc0-4436-bfd0-6579bd0ded4a\",\"type\":\"Range1d\"},\"y_mapper_type\":\"auto\",\"y_range\":{\"id\":\"eb14d0f0-63f0-4f74-a86c-8daeab06d59f\",\"type\":\"Range1d\"}},\"id\":\"c178e6e8-418d-4fd7-a9c9-67995921411c\",\"subtype\":\"Chart\",\"type\":\"Plot\"},{\"attributes\":{\"data_source\":{\"id\":\"4f16bfd7-365d-41f8-a597-2ad880f66dc5\",\"type\":\"ColumnDataSource\"},\"glyph\":{\"id\":\"50c954c3-c6cd-4e5e-bba1-6272caad257a\",\"type\":\"Rect\"},\"hover_glyph\":null,\"nonselection_glyph\":null,\"selection_glyph\":null},\"id\":\"c0f9e277-582e-46d9-b132-4fe985c9beaf\",\"type\":\"GlyphRenderer\"},{\"attributes\":{\"active_drag\":\"auto\",\"active_scroll\":\"auto\",\"active_tap\":\"auto\",\"tools\":[{\"id\":\"02422d8b-ea0b-49f4-a943-117bfcd7310a\",\"type\":\"PanTool\"},{\"id\":\"ba92d7f5-2ada-43d6-a516-577fad511729\",\"type\":\"WheelZoomTool\"},{\"id\":\"33e90620-ffd3-4375-9188-1019829866c9\",\"type\":\"BoxZoomTool\"},{\"id\":\"2acd5106-873a-4a0b-b5a8-b27e1ab32b8e\",\"type\":\"SaveTool\"},{\"id\":\"7e56c9ab-e931-4d24-8b17-9acb11441449\",\"type\":\"ResetTool\"},{\"id\":\"5c30b83c-b051-4495-af17-8f303c602161\",\"type\":\"HelpTool\"}]},\"id\":\"7fa78d51-54eb-4b6f-85be-875e5ad3b3d2\",\"type\":\"Toolbar\"},{\"attributes\":{\"callback\":null,\"column_names\":[\"color\",\"fill_alpha\",\"x\",\"label\",\"y\",\"height\",\"line_alpha\",\"width\",\"line_color\"],\"data\":{\"chart_index\":[\"(5.500000, 6.500000]\"],\"color\":[\"#f22c40\"],\"fill_alpha\":[0.8],\"height\":[0.0],\"label\":[\"(5.500000, 6.500000]\"],\"line_alpha\":[1.0],\"line_color\":[\"black\"],\"width\":[1.0],\"x\":[\"6.0\"],\"y\":[0.0]}},\"id\":\"c7f30944-f87a-4fc4-ad18-83d7e8bb63ee\",\"type\":\"ColumnDataSource\"},{\"attributes\":{\"fill_alpha\":{\"field\":\"fill_alpha\"},\"fill_color\":{\"field\":\"color\"},\"height\":{\"field\":\"height\",\"units\":\"data\"},\"line_color\":{\"field\":\"line_color\"},\"width\":{\"field\":\"width\",\"units\":\"data\"},\"x\":{\"field\":\"x\"},\"y\":{\"field\":\"y\"}},\"id\":\"45ff550f-9cf3-487f-9edf-82a26fc489cd\",\"type\":\"Rect\"},{\"attributes\":{\"fill_alpha\":{\"field\":\"fill_alpha\"},\"fill_color\":{\"field\":\"color\"},\"height\":{\"field\":\"height\",\"units\":\"data\"},\"line_color\":{\"field\":\"line_color\"},\"width\":{\"field\":\"width\",\"units\":\"data\"},\"x\":{\"field\":\"x\"},\"y\":{\"field\":\"y\"}},\"id\":\"e8fc9d2c-6687-4ddf-8ae7-1db18fef56bf\",\"type\":\"Rect\"},{\"attributes\":{\"dimension\":1,\"plot\":{\"id\":\"c178e6e8-418d-4fd7-a9c9-67995921411c\",\"subtype\":\"Chart\",\"type\":\"Plot\"},\"ticker\":{\"id\":\"a13b84f0-e56c-4caf-af33-12caad68b118\",\"type\":\"BasicTicker\"}},\"id\":\"6f67edef-2806-43bd-afca-77a18966f3d0\",\"type\":\"Grid\"},{\"attributes\":{\"callback\":null,\"column_names\":[\"color\",\"fill_alpha\",\"x\",\"label\",\"y\",\"height\",\"line_alpha\",\"width\",\"line_color\"],\"data\":{\"chart_index\":[\"(3.500000, 4.500000]\"],\"color\":[\"#f22c40\"],\"fill_alpha\":[0.8],\"height\":[0.0],\"label\":[\"(3.500000, 4.500000]\"],\"line_alpha\":[1.0],\"line_color\":[\"black\"],\"width\":[1.0],\"x\":[\"4.0\"],\"y\":[0.0]}},\"id\":\"977711be-5530-4801-a35d-be537d67a211\",\"type\":\"ColumnDataSource\"},{\"attributes\":{},\"id\":\"403b72b9-e147-488b-a8af-298911276123\",\"type\":\"BasicTickFormatter\"},{\"attributes\":{\"overlay\":{\"id\":\"3bd4b63f-d323-45e4-b038-806bb2e1443c\",\"type\":\"BoxAnnotation\"},\"plot\":{\"id\":\"c178e6e8-418d-4fd7-a9c9-67995921411c\",\"subtype\":\"Chart\",\"type\":\"Plot\"}},\"id\":\"33e90620-ffd3-4375-9188-1019829866c9\",\"type\":\"BoxZoomTool\"},{\"attributes\":{\"fill_alpha\":{\"field\":\"fill_alpha\"},\"fill_color\":{\"field\":\"color\"},\"height\":{\"field\":\"height\",\"units\":\"data\"},\"line_color\":{\"field\":\"line_color\"},\"width\":{\"field\":\"width\",\"units\":\"data\"},\"x\":{\"field\":\"x\"},\"y\":{\"field\":\"y\"}},\"id\":\"093f88f6-269b-4272-97f0-42bb59b4f3a6\",\"type\":\"Rect\"},{\"attributes\":{\"plot\":{\"id\":\"c178e6e8-418d-4fd7-a9c9-67995921411c\",\"subtype\":\"Chart\",\"type\":\"Plot\"}},\"id\":\"ba92d7f5-2ada-43d6-a516-577fad511729\",\"type\":\"WheelZoomTool\"},{\"attributes\":{},\"id\":\"71ca22fd-ad4f-4e32-9f9c-1b2d5a232903\",\"type\":\"BasicTickFormatter\"}],\"root_ids\":[\"c178e6e8-418d-4fd7-a9c9-67995921411c\"]},\"title\":\"Bokeh Application\",\"version\":\"0.12.4\"}};\n",
       "            var render_items = [{\"docid\":\"f7ca3b55-e860-4254-bd62-799f574a3671\",\"elementid\":\"2cd81865-9f60-474d-ab41-84ca48b6f03e\",\"modelid\":\"c178e6e8-418d-4fd7-a9c9-67995921411c\"}];\n",
       "            \n",
       "            Bokeh.embed.embed_items(docs_json, render_items);\n",
       "          };\n",
       "          if (document.readyState != \"loading\") fn();\n",
       "          else document.addEventListener(\"DOMContentLoaded\", fn);\n",
       "        })();\n",
       "      },\n",
       "      function(Bokeh) {\n",
       "      }\n",
       "    ];\n",
       "  \n",
       "    function run_inline_js() {\n",
       "      \n",
       "      if ((window.Bokeh !== undefined) || (force === true)) {\n",
       "        for (var i = 0; i < inline_js.length; i++) {\n",
       "          inline_js[i](window.Bokeh);\n",
       "        }if (force === true) {\n",
       "          display_loaded();\n",
       "        }} else if (Date.now() < window._bokeh_timeout) {\n",
       "        setTimeout(run_inline_js, 100);\n",
       "      } else if (!window._bokeh_failed_load) {\n",
       "        console.log(\"Bokeh: BokehJS failed to load within specified timeout.\");\n",
       "        window._bokeh_failed_load = true;\n",
       "      } else if (force !== true) {\n",
       "        var cell = $(document.getElementById(\"2cd81865-9f60-474d-ab41-84ca48b6f03e\")).parents('.cell').data().cell;\n",
       "        cell.output_area.append_execute_result(NB_LOAD_WARNING)\n",
       "      }\n",
       "  \n",
       "    }\n",
       "  \n",
       "    if (window._bokeh_is_loading === 0) {\n",
       "      console.log(\"Bokeh: BokehJS loaded, going straight to plotting\");\n",
       "      run_inline_js();\n",
       "    } else {\n",
       "      load_libs(js_urls, function() {\n",
       "        console.log(\"Bokeh: BokehJS plotting callback run at\", now());\n",
       "        run_inline_js();\n",
       "      });\n",
       "    }\n",
       "  }(this));\n",
       "</script>"
      ]
     },
     "metadata": {},
     "output_type": "display_data"
    }
   ],
   "source": [
    "p = Histogram(grp.UUID.count(), bins=[.5, 1.5, 2.5, 3.5, 4.5, 5.5, 6.5, 7.5, 8.5],\n",
    "              xlabel='Number of byte streams per dataset',\n",
    "              ylabel='Count(Dataset per File)')\n",
    "p.xaxis[0].ticker = FixedTicker(ticks=list(range(9)))\n",
    "show(p)"
   ]
  },
  {
   "cell_type": "markdown",
   "metadata": {},
   "source": [
    "## Analysis: `MERRA2_400.tavgM_2d_slv_Nx`"
   ]
  },
  {
   "cell_type": "markdown",
   "metadata": {},
   "source": [
    "Select only DMR++ entries for these files:"
   ]
  },
  {
   "cell_type": "code",
   "execution_count": 33,
   "metadata": {
    "collapsed": true
   },
   "outputs": [],
   "source": [
    "merra2_tavg = dmrpp[dmrpp.File.str.contains('MERRA2_400.tavgM_2d_slv_Nx')]"
   ]
  },
  {
   "cell_type": "code",
   "execution_count": 34,
   "metadata": {
    "collapsed": false
   },
   "outputs": [
    {
     "name": "stdout",
     "output_type": "stream",
     "text": [
      "<class 'pandas.core.frame.DataFrame'>\n",
      "Int64Index: 82639 entries, 7981949 to 8064587\n",
      "Data columns (total 8 columns):\n",
      "File          82639 non-null object\n",
      "Dataset       82639 non-null object\n",
      "Chunk_Flag    82639 non-null bool\n",
      "UUID          82639 non-null object\n",
      "Checksum      82639 non-null object\n",
      "Offset        82639 non-null int64\n",
      "Size          82639 non-null int64\n",
      "Type          82639 non-null object\n",
      "dtypes: bool(1), int64(2), object(5)\n",
      "memory usage: 5.1+ MB\n"
     ]
    }
   ],
   "source": [
    "merra2_tavg.info()"
   ]
  },
  {
   "cell_type": "markdown",
   "metadata": {},
   "source": [
    "### Byte Streams"
   ]
  },
  {
   "cell_type": "markdown",
   "metadata": {},
   "source": [
    "#### How many byte streams with unique content?"
   ]
  },
  {
   "cell_type": "code",
   "execution_count": 35,
   "metadata": {
    "collapsed": false
   },
   "outputs": [],
   "source": [
    "x = merra2_tavg.Checksum.value_counts()"
   ]
  },
  {
   "cell_type": "code",
   "execution_count": 36,
   "metadata": {
    "collapsed": false
   },
   "outputs": [
    {
     "data": {
      "text/plain": [
       "81057"
      ]
     },
     "execution_count": 36,
     "metadata": {},
     "output_type": "execute_result"
    }
   ],
   "source": [
    "len(x.index)"
   ]
  },
  {
   "cell_type": "markdown",
   "metadata": {},
   "source": [
    "#### Which are the Top 20 byte streams based on content?"
   ]
  },
  {
   "cell_type": "code",
   "execution_count": 37,
   "metadata": {
    "collapsed": false
   },
   "outputs": [
    {
     "data": {
      "text/plain": [
       "d57d72206d7fb5fad96714288dd86f29    108\n",
       "6ed95e16d4b2f755e1ff226faedac1d1     54\n",
       "dc51ab56717a3cae07a2ef00aa155512     54\n",
       "08044720030d15a8aa892941bdf6a40e     54\n",
       "3a862ab7992a90ec1f5e7999717f7c7d     54\n",
       "196be26f3d971e3c37190636133fee49     54\n",
       "14fcc6e1b10445175cd974c68f575a86     54\n",
       "88ccb77821816d00ce02b679bd54523f     54\n",
       "f1d3ff8443297732862df21dc4e57262     13\n",
       "03e10d25b09a490f92d2b279c0340d4c     13\n",
       "adb99ec2a68b1d16fc9cd2f1d33e983d     13\n",
       "7e9dc3be25b28304a270e09e299364d5      5\n",
       "fda0be3e6ff2d01c17c367cf6e83617d      5\n",
       "99208f172d6213168d67872b8f861a5e      5\n",
       "99ca2a29675d2c7c4212ff393f2b2ee5      5\n",
       "4da191da9a03cbb2e34811a25be48775      5\n",
       "11b1ae795c90919ee50a56e9ed59b3b6      5\n",
       "c05bcc42545eb9d4c54b02eeff44da8d      5\n",
       "4cdf7ae7885489f9acec788b61f666b6      5\n",
       "76dd3d52a5f347523dc4222f7e3d9497      5\n",
       "Name: Checksum, dtype: int64"
      ]
     },
     "execution_count": 37,
     "metadata": {},
     "output_type": "execute_result"
    }
   ],
   "source": [
    "x.sort_values(ascending=False).head(20)"
   ]
  },
  {
   "cell_type": "markdown",
   "metadata": {},
   "source": [
    "#### Where is the same byte stream stored?"
   ]
  },
  {
   "cell_type": "markdown",
   "metadata": {},
   "source": [
    "Byte stream we are looking for:"
   ]
  },
  {
   "cell_type": "code",
   "execution_count": 38,
   "metadata": {
    "collapsed": true
   },
   "outputs": [],
   "source": [
    "cksum = 'd57d72206d7fb5fad96714288dd86f29'"
   ]
  },
  {
   "cell_type": "code",
   "execution_count": 39,
   "metadata": {
    "collapsed": true
   },
   "outputs": [],
   "source": [
    "grp = merra2_tavg.groupby('Checksum')"
   ]
  },
  {
   "cell_type": "markdown",
   "metadata": {},
   "source": [
    "Per dataset across all the files that have it:"
   ]
  },
  {
   "cell_type": "code",
   "execution_count": 40,
   "metadata": {
    "collapsed": false
   },
   "outputs": [
    {
     "data": {
      "text/plain": [
       "/DISPH        54\n",
       "/Var_DISPH    54\n",
       "Name: Dataset, dtype: int64"
      ]
     },
     "execution_count": 40,
     "metadata": {},
     "output_type": "execute_result"
    }
   ],
   "source": [
    "grp.get_group(cksum)['Dataset'].value_counts()"
   ]
  },
  {
   "cell_type": "markdown",
   "metadata": {},
   "source": [
    "Per file including all its datasets:"
   ]
  },
  {
   "cell_type": "code",
   "execution_count": 41,
   "metadata": {
    "collapsed": false
   },
   "outputs": [
    {
     "data": {
      "text/plain": [
       "MERRA2_400.tavgM_2d_slv_Nx.201101.nc4    2\n",
       "MERRA2_400.tavgM_2d_slv_Nx.201102.nc4    2\n",
       "MERRA2_400.tavgM_2d_slv_Nx.201103.nc4    2\n",
       "MERRA2_400.tavgM_2d_slv_Nx.201104.nc4    2\n",
       "MERRA2_400.tavgM_2d_slv_Nx.201105.nc4    2\n",
       "MERRA2_400.tavgM_2d_slv_Nx.201106.nc4    2\n",
       "MERRA2_400.tavgM_2d_slv_Nx.201107.nc4    2\n",
       "MERRA2_400.tavgM_2d_slv_Nx.201108.nc4    2\n",
       "MERRA2_400.tavgM_2d_slv_Nx.201109.nc4    2\n",
       "MERRA2_400.tavgM_2d_slv_Nx.201110.nc4    2\n",
       "MERRA2_400.tavgM_2d_slv_Nx.201111.nc4    2\n",
       "MERRA2_400.tavgM_2d_slv_Nx.201112.nc4    2\n",
       "MERRA2_400.tavgM_2d_slv_Nx.201201.nc4    2\n",
       "MERRA2_400.tavgM_2d_slv_Nx.201202.nc4    2\n",
       "MERRA2_400.tavgM_2d_slv_Nx.201203.nc4    2\n",
       "MERRA2_400.tavgM_2d_slv_Nx.201204.nc4    2\n",
       "MERRA2_400.tavgM_2d_slv_Nx.201205.nc4    2\n",
       "MERRA2_400.tavgM_2d_slv_Nx.201206.nc4    2\n",
       "MERRA2_400.tavgM_2d_slv_Nx.201207.nc4    2\n",
       "MERRA2_400.tavgM_2d_slv_Nx.201208.nc4    2\n",
       "MERRA2_400.tavgM_2d_slv_Nx.201209.nc4    2\n",
       "MERRA2_400.tavgM_2d_slv_Nx.201210.nc4    2\n",
       "MERRA2_400.tavgM_2d_slv_Nx.201211.nc4    2\n",
       "MERRA2_400.tavgM_2d_slv_Nx.201212.nc4    2\n",
       "MERRA2_400.tavgM_2d_slv_Nx.201301.nc4    2\n",
       "MERRA2_400.tavgM_2d_slv_Nx.201302.nc4    2\n",
       "MERRA2_400.tavgM_2d_slv_Nx.201303.nc4    2\n",
       "MERRA2_400.tavgM_2d_slv_Nx.201304.nc4    2\n",
       "MERRA2_400.tavgM_2d_slv_Nx.201305.nc4    2\n",
       "MERRA2_400.tavgM_2d_slv_Nx.201306.nc4    2\n",
       "MERRA2_400.tavgM_2d_slv_Nx.201307.nc4    2\n",
       "MERRA2_400.tavgM_2d_slv_Nx.201308.nc4    2\n",
       "MERRA2_400.tavgM_2d_slv_Nx.201309.nc4    2\n",
       "MERRA2_400.tavgM_2d_slv_Nx.201310.nc4    2\n",
       "MERRA2_400.tavgM_2d_slv_Nx.201311.nc4    2\n",
       "MERRA2_400.tavgM_2d_slv_Nx.201312.nc4    2\n",
       "MERRA2_400.tavgM_2d_slv_Nx.201401.nc4    2\n",
       "MERRA2_400.tavgM_2d_slv_Nx.201402.nc4    2\n",
       "MERRA2_400.tavgM_2d_slv_Nx.201403.nc4    2\n",
       "MERRA2_400.tavgM_2d_slv_Nx.201404.nc4    2\n",
       "MERRA2_400.tavgM_2d_slv_Nx.201405.nc4    2\n",
       "MERRA2_400.tavgM_2d_slv_Nx.201406.nc4    2\n",
       "MERRA2_400.tavgM_2d_slv_Nx.201407.nc4    2\n",
       "MERRA2_400.tavgM_2d_slv_Nx.201408.nc4    2\n",
       "MERRA2_400.tavgM_2d_slv_Nx.201409.nc4    2\n",
       "MERRA2_400.tavgM_2d_slv_Nx.201410.nc4    2\n",
       "MERRA2_400.tavgM_2d_slv_Nx.201411.nc4    2\n",
       "MERRA2_400.tavgM_2d_slv_Nx.201412.nc4    2\n",
       "MERRA2_400.tavgM_2d_slv_Nx.201501.nc4    2\n",
       "MERRA2_400.tavgM_2d_slv_Nx.201502.nc4    2\n",
       "MERRA2_400.tavgM_2d_slv_Nx.201503.nc4    2\n",
       "MERRA2_400.tavgM_2d_slv_Nx.201504.nc4    2\n",
       "MERRA2_400.tavgM_2d_slv_Nx.201505.nc4    2\n",
       "MERRA2_400.tavgM_2d_slv_Nx.201506.nc4    2\n",
       "Name: File, dtype: int64"
      ]
     },
     "execution_count": 41,
     "metadata": {},
     "output_type": "execute_result"
    }
   ],
   "source": [
    "grp.get_group(cksum)['File'].value_counts().sort_index()"
   ]
  },
  {
   "cell_type": "markdown",
   "metadata": {},
   "source": [
    "#### What is the total number of byte streams in the files?"
   ]
  },
  {
   "cell_type": "code",
   "execution_count": 42,
   "metadata": {
    "collapsed": false
   },
   "outputs": [
    {
     "data": {
      "text/plain": [
       "82639"
      ]
     },
     "execution_count": 42,
     "metadata": {},
     "output_type": "execute_result"
    }
   ],
   "source": [
    "x.sum()"
   ]
  },
  {
   "cell_type": "markdown",
   "metadata": {},
   "source": [
    "#### What is the percentage reduction in number of S3 objects based on repeating checksums?"
   ]
  },
  {
   "cell_type": "code",
   "execution_count": 43,
   "metadata": {
    "collapsed": false
   },
   "outputs": [
    {
     "data": {
      "text/plain": [
       "-1.9143503672600093"
      ]
     },
     "execution_count": 43,
     "metadata": {},
     "output_type": "execute_result"
    }
   ],
   "source": [
    "100 * (len(x.index)/x.sum() - 1)"
   ]
  },
  {
   "cell_type": "markdown",
   "metadata": {},
   "source": [
    "#### What is the percentage reduction in bytes stored in S3 based on repeating checksums?"
   ]
  },
  {
   "cell_type": "code",
   "execution_count": 44,
   "metadata": {
    "collapsed": false
   },
   "outputs": [
    {
     "data": {
      "text/plain": [
       "3912188540"
      ]
     },
     "execution_count": 44,
     "metadata": {},
     "output_type": "execute_result"
    }
   ],
   "source": [
    "before = merra2_tavg.Size.sum()\n",
    "before"
   ]
  },
  {
   "cell_type": "code",
   "execution_count": 45,
   "metadata": {
    "collapsed": false
   },
   "outputs": [
    {
     "data": {
      "text/plain": [
       "3891337556"
      ]
     },
     "execution_count": 45,
     "metadata": {},
     "output_type": "execute_result"
    }
   ],
   "source": [
    "after = merra2_tavg.drop_duplicates('Checksum')['Size'].sum()\n",
    "after"
   ]
  },
  {
   "cell_type": "code",
   "execution_count": 46,
   "metadata": {
    "collapsed": false
   },
   "outputs": [
    {
     "data": {
      "text/plain": [
       "-0.53297492661230628"
      ]
     },
     "execution_count": 46,
     "metadata": {},
     "output_type": "execute_result"
    }
   ],
   "source": [
    "100 * (after/before - 1)"
   ]
  },
  {
   "cell_type": "markdown",
   "metadata": {},
   "source": [
    "#### What is the size statistics for unique byte streams?"
   ]
  },
  {
   "cell_type": "code",
   "execution_count": 47,
   "metadata": {
    "collapsed": false
   },
   "outputs": [
    {
     "data": {
      "text/html": [
       "\n",
       "\n",
       "    <div class=\"bk-root\">\n",
       "        <div class=\"bk-plotdiv\" id=\"09fd6fd2-c8c9-4b93-b0c6-5e227f2d2c88\"></div>\n",
       "    </div>\n",
       "<script type=\"text/javascript\">\n",
       "  \n",
       "  (function(global) {\n",
       "    function now() {\n",
       "      return new Date();\n",
       "    }\n",
       "  \n",
       "    var force = false;\n",
       "  \n",
       "    if (typeof (window._bokeh_onload_callbacks) === \"undefined\" || force === true) {\n",
       "      window._bokeh_onload_callbacks = [];\n",
       "      window._bokeh_is_loading = undefined;\n",
       "    }\n",
       "  \n",
       "  \n",
       "    \n",
       "    if (typeof (window._bokeh_timeout) === \"undefined\" || force === true) {\n",
       "      window._bokeh_timeout = Date.now() + 0;\n",
       "      window._bokeh_failed_load = false;\n",
       "    }\n",
       "  \n",
       "    var NB_LOAD_WARNING = {'data': {'text/html':\n",
       "       \"<div style='background-color: #fdd'>\\n\"+\n",
       "       \"<p>\\n\"+\n",
       "       \"BokehJS does not appear to have successfully loaded. If loading BokehJS from CDN, this \\n\"+\n",
       "       \"may be due to a slow or bad network connection. Possible fixes:\\n\"+\n",
       "       \"</p>\\n\"+\n",
       "       \"<ul>\\n\"+\n",
       "       \"<li>re-rerun `output_notebook()` to attempt to load from CDN again, or</li>\\n\"+\n",
       "       \"<li>use INLINE resources instead, as so:</li>\\n\"+\n",
       "       \"</ul>\\n\"+\n",
       "       \"<code>\\n\"+\n",
       "       \"from bokeh.resources import INLINE\\n\"+\n",
       "       \"output_notebook(resources=INLINE)\\n\"+\n",
       "       \"</code>\\n\"+\n",
       "       \"</div>\"}};\n",
       "  \n",
       "    function display_loaded() {\n",
       "      if (window.Bokeh !== undefined) {\n",
       "        document.getElementById(\"09fd6fd2-c8c9-4b93-b0c6-5e227f2d2c88\").textContent = \"BokehJS successfully loaded.\";\n",
       "      } else if (Date.now() < window._bokeh_timeout) {\n",
       "        setTimeout(display_loaded, 100)\n",
       "      }\n",
       "    }\n",
       "  \n",
       "    function run_callbacks() {\n",
       "      window._bokeh_onload_callbacks.forEach(function(callback) { callback() });\n",
       "      delete window._bokeh_onload_callbacks\n",
       "      console.info(\"Bokeh: all callbacks have finished\");\n",
       "    }\n",
       "  \n",
       "    function load_libs(js_urls, callback) {\n",
       "      window._bokeh_onload_callbacks.push(callback);\n",
       "      if (window._bokeh_is_loading > 0) {\n",
       "        console.log(\"Bokeh: BokehJS is being loaded, scheduling callback at\", now());\n",
       "        return null;\n",
       "      }\n",
       "      if (js_urls == null || js_urls.length === 0) {\n",
       "        run_callbacks();\n",
       "        return null;\n",
       "      }\n",
       "      console.log(\"Bokeh: BokehJS not loaded, scheduling load and callback at\", now());\n",
       "      window._bokeh_is_loading = js_urls.length;\n",
       "      for (var i = 0; i < js_urls.length; i++) {\n",
       "        var url = js_urls[i];\n",
       "        var s = document.createElement('script');\n",
       "        s.src = url;\n",
       "        s.async = false;\n",
       "        s.onreadystatechange = s.onload = function() {\n",
       "          window._bokeh_is_loading--;\n",
       "          if (window._bokeh_is_loading === 0) {\n",
       "            console.log(\"Bokeh: all BokehJS libraries loaded\");\n",
       "            run_callbacks()\n",
       "          }\n",
       "        };\n",
       "        s.onerror = function() {\n",
       "          console.warn(\"failed to load library \" + url);\n",
       "        };\n",
       "        console.log(\"Bokeh: injecting script tag for BokehJS library: \", url);\n",
       "        document.getElementsByTagName(\"head\")[0].appendChild(s);\n",
       "      }\n",
       "    };var element = document.getElementById(\"09fd6fd2-c8c9-4b93-b0c6-5e227f2d2c88\");\n",
       "    if (element == null) {\n",
       "      console.log(\"Bokeh: ERROR: autoload.js configured with elementid '09fd6fd2-c8c9-4b93-b0c6-5e227f2d2c88' but no matching script tag was found. \")\n",
       "      return false;\n",
       "    }\n",
       "  \n",
       "    var js_urls = [];\n",
       "  \n",
       "    var inline_js = [\n",
       "      function(Bokeh) {\n",
       "        (function() {\n",
       "          var fn = function() {\n",
       "            var docs_json = {\"4480c4e4-31bd-4ae0-96b3-8bfd0daf0231\":{\"roots\":{\"references\":[{\"attributes\":{\"data_source\":{\"id\":\"117df19b-fd35-465f-99a6-7d0af6ed0af3\",\"type\":\"ColumnDataSource\"},\"glyph\":{\"id\":\"53769ae6-a8b0-4ddc-8a2d-bfc6536d7aa2\",\"type\":\"Rect\"},\"hover_glyph\":null,\"nonselection_glyph\":null,\"selection_glyph\":null},\"id\":\"a00a2b0c-a423-4017-b5ff-42b216276e97\",\"type\":\"GlyphRenderer\"},{\"attributes\":{\"callback\":null,\"column_names\":[\"color\",\"fill_alpha\",\"x\",\"label\",\"y\",\"height\",\"line_alpha\",\"width\",\"line_color\"],\"data\":{\"chart_index\":[\"(166.352000, 182.986800]\"],\"color\":[\"#f22c40\"],\"fill_alpha\":[0.8],\"height\":[0.0],\"label\":[\"(166.352000, 182.986800]\"],\"line_alpha\":[1.0],\"line_color\":[\"black\"],\"width\":[16.634800000000013],\"x\":[\"174.6694\"],\"y\":[0.0]}},\"id\":\"117df19b-fd35-465f-99a6-7d0af6ed0af3\",\"type\":\"ColumnDataSource\"},{\"attributes\":{\"callback\":null,\"column_names\":[\"color\",\"fill_alpha\",\"x\",\"label\",\"y\",\"height\",\"line_alpha\",\"width\",\"line_color\"],\"data\":{\"chart_index\":[\"(83.178000, 99.812800]\"],\"color\":[\"#f22c40\"],\"fill_alpha\":[0.8],\"height\":[0.0],\"label\":[\"(83.178000, 99.812800]\"],\"line_alpha\":[1.0],\"line_color\":[\"black\"],\"width\":[16.6348],\"x\":[\"91.49539999999999\"],\"y\":[0.0]}},\"id\":\"3ea62601-6392-4a41-b6c0-24b156f3b224\",\"type\":\"ColumnDataSource\"},{\"attributes\":{\"fill_alpha\":{\"field\":\"fill_alpha\"},\"fill_color\":{\"field\":\"color\"},\"height\":{\"field\":\"height\",\"units\":\"data\"},\"line_color\":{\"field\":\"line_color\"},\"width\":{\"field\":\"width\",\"units\":\"data\"},\"x\":{\"field\":\"x\"},\"y\":{\"field\":\"y\"}},\"id\":\"c4193536-fe53-4a55-ba16-f36176d8ff63\",\"type\":\"Rect\"},{\"attributes\":{\"fill_alpha\":{\"field\":\"fill_alpha\"},\"fill_color\":{\"field\":\"color\"},\"height\":{\"field\":\"height\",\"units\":\"data\"},\"line_color\":{\"field\":\"line_color\"},\"width\":{\"field\":\"width\",\"units\":\"data\"},\"x\":{\"field\":\"x\"},\"y\":{\"field\":\"y\"}},\"id\":\"849f45c7-37f0-402c-94ea-8d56cee4c2ab\",\"type\":\"Rect\"},{\"attributes\":{\"fill_alpha\":{\"field\":\"fill_alpha\"},\"fill_color\":{\"field\":\"color\"},\"height\":{\"field\":\"height\",\"units\":\"data\"},\"line_color\":{\"field\":\"line_color\"},\"width\":{\"field\":\"width\",\"units\":\"data\"},\"x\":{\"field\":\"x\"},\"y\":{\"field\":\"y\"}},\"id\":\"5f73122c-354c-43d7-8884-0cba2182efcf\",\"type\":\"Rect\"},{\"attributes\":{\"fill_alpha\":{\"field\":\"fill_alpha\"},\"fill_color\":{\"field\":\"color\"},\"height\":{\"field\":\"height\",\"units\":\"data\"},\"line_color\":{\"field\":\"line_color\"},\"width\":{\"field\":\"width\",\"units\":\"data\"},\"x\":{\"field\":\"x\"},\"y\":{\"field\":\"y\"}},\"id\":\"03958c6e-bcaf-42af-aef8-211fe0f9c99e\",\"type\":\"Rect\"},{\"attributes\":{\"data_source\":{\"id\":\"324f76c4-7f6c-40eb-9599-12cde0e018af\",\"type\":\"ColumnDataSource\"},\"glyph\":{\"id\":\"5f73122c-354c-43d7-8884-0cba2182efcf\",\"type\":\"Rect\"},\"hover_glyph\":null,\"nonselection_glyph\":null,\"selection_glyph\":null},\"id\":\"bd49ff61-a82b-4668-8a55-0ff73033efcf\",\"type\":\"GlyphRenderer\"},{\"attributes\":{\"data_source\":{\"id\":\"075991e2-5d1c-4627-9e44-b85cd6cf071a\",\"type\":\"ColumnDataSource\"},\"glyph\":{\"id\":\"d41b8307-cf0c-4edb-8799-cd6af5042bd4\",\"type\":\"Rect\"},\"hover_glyph\":null,\"nonselection_glyph\":null,\"selection_glyph\":null},\"id\":\"296b203b-93aa-4174-9e66-f15c4ae59aaf\",\"type\":\"GlyphRenderer\"},{\"attributes\":{\"callback\":null,\"column_names\":[\"color\",\"fill_alpha\",\"x\",\"label\",\"y\",\"height\",\"line_alpha\",\"width\",\"line_color\"],\"data\":{\"chart_index\":[\"(548.952400, 565.587200]\"],\"color\":[\"#f22c40\"],\"fill_alpha\":[0.8],\"height\":[0.0],\"label\":[\"(548.952400, 565.587200]\"],\"line_alpha\":[1.0],\"line_color\":[\"black\"],\"width\":[16.634799999999927],\"x\":[\"557.2698\"],\"y\":[0.0]}},\"id\":\"075991e2-5d1c-4627-9e44-b85cd6cf071a\",\"type\":\"ColumnDataSource\"},{\"attributes\":{\"data_source\":{\"id\":\"0aeff0f9-c329-4e5e-a585-468e05515963\",\"type\":\"ColumnDataSource\"},\"glyph\":{\"id\":\"2947035d-1011-4038-881a-5147ed628c60\",\"type\":\"Rect\"},\"hover_glyph\":null,\"nonselection_glyph\":null,\"selection_glyph\":null},\"id\":\"31cb1441-e671-4068-b1d1-b33b1e03de38\",\"type\":\"GlyphRenderer\"},{\"attributes\":{\"fill_alpha\":{\"field\":\"fill_alpha\"},\"fill_color\":{\"field\":\"color\"},\"height\":{\"field\":\"height\",\"units\":\"data\"},\"line_color\":{\"field\":\"line_color\"},\"width\":{\"field\":\"width\",\"units\":\"data\"},\"x\":{\"field\":\"x\"},\"y\":{\"field\":\"y\"}},\"id\":\"a517443f-adcf-45a8-a914-e3512fd8c7ca\",\"type\":\"Rect\"},{\"attributes\":{\"data_source\":{\"id\":\"75c1eac6-6ad3-4188-b3d2-14a80a4a32ee\",\"type\":\"ColumnDataSource\"},\"glyph\":{\"id\":\"bec560c0-1dd2-4118-8dbd-ab44413ff446\",\"type\":\"Rect\"},\"hover_glyph\":null,\"nonselection_glyph\":null,\"selection_glyph\":null},\"id\":\"42dfc432-459b-4bb2-8d44-429d66cb8868\",\"type\":\"GlyphRenderer\"},{\"attributes\":{\"callback\":null,\"column_names\":[\"color\",\"fill_alpha\",\"x\",\"label\",\"y\",\"height\",\"line_alpha\",\"width\",\"line_color\"],\"data\":{\"chart_index\":[\"(815.109200, 831.744000]\"],\"color\":[\"#f22c40\"],\"fill_alpha\":[0.8],\"height\":[1220.0],\"label\":[\"(815.109200, 831.744000]\"],\"line_alpha\":[1.0],\"line_color\":[\"black\"],\"width\":[16.63480000000004],\"x\":[\"823.4266\"],\"y\":[610.0]}},\"id\":\"f637e041-38dc-40c6-a62d-be25d11ec699\",\"type\":\"ColumnDataSource\"},{\"attributes\":{\"data_source\":{\"id\":\"a6b8bba6-5727-4707-811e-0477b4143d19\",\"type\":\"ColumnDataSource\"},\"glyph\":{\"id\":\"30eab2c3-adbe-44fa-b247-9e67496162d5\",\"type\":\"Rect\"},\"hover_glyph\":null,\"nonselection_glyph\":null,\"selection_glyph\":null},\"id\":\"c2caae7a-1a66-41ce-81db-a51515597b76\",\"type\":\"GlyphRenderer\"},{\"attributes\":{\"callback\":null,\"column_names\":[\"color\",\"fill_alpha\",\"x\",\"label\",\"y\",\"height\",\"line_alpha\",\"width\",\"line_color\"],\"data\":{\"chart_index\":[\"(798.474400, 815.109200]\"],\"color\":[\"#f22c40\"],\"fill_alpha\":[0.8],\"height\":[0.0],\"label\":[\"(798.474400, 815.109200]\"],\"line_alpha\":[1.0],\"line_color\":[\"black\"],\"width\":[16.63480000000004],\"x\":[\"806.7918\"],\"y\":[0.0]}},\"id\":\"04e2760d-caff-45cb-88a7-6000922f56dd\",\"type\":\"ColumnDataSource\"},{\"attributes\":{\"fill_alpha\":{\"field\":\"fill_alpha\"},\"fill_color\":{\"field\":\"color\"},\"height\":{\"field\":\"height\",\"units\":\"data\"},\"line_color\":{\"field\":\"line_color\"},\"width\":{\"field\":\"width\",\"units\":\"data\"},\"x\":{\"field\":\"x\"},\"y\":{\"field\":\"y\"}},\"id\":\"bec560c0-1dd2-4118-8dbd-ab44413ff446\",\"type\":\"Rect\"},{\"attributes\":{\"data_source\":{\"id\":\"730d02c4-8573-4f94-94b5-c62c905dee35\",\"type\":\"ColumnDataSource\"},\"glyph\":{\"id\":\"b43d0531-48e2-4d9a-8379-150d9e687c18\",\"type\":\"Rect\"},\"hover_glyph\":null,\"nonselection_glyph\":null,\"selection_glyph\":null},\"id\":\"f8638126-0ae3-447d-9168-1086665bfcbe\",\"type\":\"GlyphRenderer\"},{\"attributes\":{\"data_source\":{\"id\":\"51cf2a67-806e-4f54-addc-18699329f4f1\",\"type\":\"ColumnDataSource\"},\"glyph\":{\"id\":\"bbf55f04-44e6-4888-9f45-09c6304437a3\",\"type\":\"Rect\"},\"hover_glyph\":null,\"nonselection_glyph\":null,\"selection_glyph\":null},\"id\":\"7b925321-94ef-4be9-bfcd-eee51bd11c43\",\"type\":\"GlyphRenderer\"},{\"attributes\":{\"active_drag\":\"auto\",\"active_scroll\":\"auto\",\"active_tap\":\"auto\",\"tools\":[{\"id\":\"08763650-10f2-4f7e-8c3e-88d5ced6d492\",\"type\":\"PanTool\"},{\"id\":\"345566f6-956b-4519-b40d-5c8fd59c9a8d\",\"type\":\"WheelZoomTool\"},{\"id\":\"67a20037-2241-4101-91b4-241d00c4fea6\",\"type\":\"BoxZoomTool\"},{\"id\":\"49b4cc48-2cae-4ab2-9de0-a70854b47e79\",\"type\":\"SaveTool\"},{\"id\":\"f22a7360-88c1-4d48-a21d-239712225993\",\"type\":\"ResetTool\"},{\"id\":\"a728aa1e-3689-4db2-a15b-0a90dde8ce3a\",\"type\":\"HelpTool\"}]},\"id\":\"0804fe3f-fcb5-445b-a33f-a6ac85c87afa\",\"type\":\"Toolbar\"},{\"attributes\":{\"callback\":null,\"column_names\":[\"color\",\"fill_alpha\",\"x\",\"label\",\"y\",\"height\",\"line_alpha\",\"width\",\"line_color\"],\"data\":{\"chart_index\":[\"(232.891200, 249.526000]\"],\"color\":[\"#f22c40\"],\"fill_alpha\":[0.8],\"height\":[0.0],\"label\":[\"(232.891200, 249.526000]\"],\"line_alpha\":[1.0],\"line_color\":[\"black\"],\"width\":[16.634800000000013],\"x\":[\"241.2086\"],\"y\":[0.0]}},\"id\":\"4b88a37a-c7d7-4188-972f-b25a065e57b1\",\"type\":\"ColumnDataSource\"},{\"attributes\":{\"data_source\":{\"id\":\"9e8cd5c1-db39-4729-aa1f-acc8b1b7ab8b\",\"type\":\"ColumnDataSource\"},\"glyph\":{\"id\":\"cc885cfb-d313-482e-9b7d-6e1bb454bb10\",\"type\":\"Rect\"},\"hover_glyph\":null,\"nonselection_glyph\":null,\"selection_glyph\":null},\"id\":\"555bad9f-d86a-4d60-bfd5-17eb1482ca05\",\"type\":\"GlyphRenderer\"},{\"attributes\":{\"fill_alpha\":{\"field\":\"fill_alpha\"},\"fill_color\":{\"field\":\"color\"},\"height\":{\"field\":\"height\",\"units\":\"data\"},\"line_color\":{\"field\":\"line_color\"},\"width\":{\"field\":\"width\",\"units\":\"data\"},\"x\":{\"field\":\"x\"},\"y\":{\"field\":\"y\"}},\"id\":\"68bfcb23-d005-4899-9454-5c89a618d0f3\",\"type\":\"Rect\"},{\"attributes\":{\"fill_alpha\":{\"field\":\"fill_alpha\"},\"fill_color\":{\"field\":\"color\"},\"height\":{\"field\":\"height\",\"units\":\"data\"},\"line_color\":{\"field\":\"line_color\"},\"width\":{\"field\":\"width\",\"units\":\"data\"},\"x\":{\"field\":\"x\"},\"y\":{\"field\":\"y\"}},\"id\":\"2cac6712-4b26-4d34-bd02-9ed3b265b371\",\"type\":\"Rect\"},{\"attributes\":{\"fill_alpha\":{\"field\":\"fill_alpha\"},\"fill_color\":{\"field\":\"color\"},\"height\":{\"field\":\"height\",\"units\":\"data\"},\"line_color\":{\"field\":\"line_color\"},\"width\":{\"field\":\"width\",\"units\":\"data\"},\"x\":{\"field\":\"x\"},\"y\":{\"field\":\"y\"}},\"id\":\"cc885cfb-d313-482e-9b7d-6e1bb454bb10\",\"type\":\"Rect\"},{\"attributes\":{\"data_source\":{\"id\":\"0ef2636e-cb71-4f38-8449-6f7d93b1cc0f\",\"type\":\"ColumnDataSource\"},\"glyph\":{\"id\":\"d4ecd9fe-41e9-4ebb-a398-2656526e1b7b\",\"type\":\"Rect\"},\"hover_glyph\":null,\"nonselection_glyph\":null,\"selection_glyph\":null},\"id\":\"9bc87d05-f771-4c09-b63d-6f94b817337a\",\"type\":\"GlyphRenderer\"},{\"attributes\":{\"fill_alpha\":{\"field\":\"fill_alpha\"},\"fill_color\":{\"field\":\"color\"},\"height\":{\"field\":\"height\",\"units\":\"data\"},\"line_color\":{\"field\":\"line_color\"},\"width\":{\"field\":\"width\",\"units\":\"data\"},\"x\":{\"field\":\"x\"},\"y\":{\"field\":\"y\"}},\"id\":\"dd2a4ba3-f386-43ba-8424-e1ea3e606b7f\",\"type\":\"Rect\"},{\"attributes\":{\"fill_alpha\":{\"field\":\"fill_alpha\"},\"fill_color\":{\"field\":\"color\"},\"height\":{\"field\":\"height\",\"units\":\"data\"},\"line_color\":{\"field\":\"line_color\"},\"width\":{\"field\":\"width\",\"units\":\"data\"},\"x\":{\"field\":\"x\"},\"y\":{\"field\":\"y\"}},\"id\":\"5eeda6d2-58a2-40d0-8952-8f3304faf345\",\"type\":\"Rect\"},{\"attributes\":{\"data_source\":{\"id\":\"dd2f09c4-660a-43f5-980d-adea4ce412af\",\"type\":\"ColumnDataSource\"},\"glyph\":{\"id\":\"626007d4-6e03-4568-bea5-cb483ff5a975\",\"type\":\"Rect\"},\"hover_glyph\":null,\"nonselection_glyph\":null,\"selection_glyph\":null},\"id\":\"ef23dece-a833-41f9-a190-ca9ae9660084\",\"type\":\"GlyphRenderer\"},{\"attributes\":{\"fill_alpha\":{\"field\":\"fill_alpha\"},\"fill_color\":{\"field\":\"color\"},\"height\":{\"field\":\"height\",\"units\":\"data\"},\"line_color\":{\"field\":\"line_color\"},\"width\":{\"field\":\"width\",\"units\":\"data\"},\"x\":{\"field\":\"x\"},\"y\":{\"field\":\"y\"}},\"id\":\"3e732ac7-e6f5-4703-899b-5215307b6d5f\",\"type\":\"Rect\"},{\"attributes\":{\"callback\":null,\"column_names\":[\"color\",\"fill_alpha\",\"x\",\"label\",\"y\",\"height\",\"line_alpha\",\"width\",\"line_color\"],\"data\":{\"chart_index\":[\"(482.413200, 499.048000]\"],\"color\":[\"#f22c40\"],\"fill_alpha\":[0.8],\"height\":[0.0],\"label\":[\"(482.413200, 499.048000]\"],\"line_alpha\":[1.0],\"line_color\":[\"black\"],\"width\":[16.63480000000004],\"x\":[\"490.7306\"],\"y\":[0.0]}},\"id\":\"730d02c4-8573-4f94-94b5-c62c905dee35\",\"type\":\"ColumnDataSource\"},{\"attributes\":{\"fill_alpha\":{\"field\":\"fill_alpha\"},\"fill_color\":{\"field\":\"color\"},\"height\":{\"field\":\"height\",\"units\":\"data\"},\"line_color\":{\"field\":\"line_color\"},\"width\":{\"field\":\"width\",\"units\":\"data\"},\"x\":{\"field\":\"x\"},\"y\":{\"field\":\"y\"}},\"id\":\"7acccac1-0392-4083-8b0a-ca384b1f615b\",\"type\":\"Rect\"},{\"attributes\":{\"plot\":{\"id\":\"2e7f76a2-c578-4462-992a-f6e087373475\",\"subtype\":\"Chart\",\"type\":\"Plot\"}},\"id\":\"f22a7360-88c1-4d48-a21d-239712225993\",\"type\":\"ResetTool\"},{\"attributes\":{\"data_source\":{\"id\":\"86d5081a-7b58-47bf-97c3-ccb790c0b139\",\"type\":\"ColumnDataSource\"},\"glyph\":{\"id\":\"caa22d3a-9813-492d-8481-dc4dd4d1ca60\",\"type\":\"Rect\"},\"hover_glyph\":null,\"nonselection_glyph\":null,\"selection_glyph\":null},\"id\":\"db7df6d0-fc4b-480e-b0e7-7d5a9f311a48\",\"type\":\"GlyphRenderer\"},{\"attributes\":{\"fill_alpha\":{\"field\":\"fill_alpha\"},\"fill_color\":{\"field\":\"color\"},\"height\":{\"field\":\"height\",\"units\":\"data\"},\"line_color\":{\"field\":\"line_color\"},\"width\":{\"field\":\"width\",\"units\":\"data\"},\"x\":{\"field\":\"x\"},\"y\":{\"field\":\"y\"}},\"id\":\"dea966fa-e76f-4423-8469-452da9e42cba\",\"type\":\"Rect\"},{\"attributes\":{\"callback\":null,\"column_names\":[\"color\",\"fill_alpha\",\"x\",\"label\",\"y\",\"height\",\"line_alpha\",\"width\",\"line_color\"],\"data\":{\"chart_index\":[\"[0.004000, 16.638800]\"],\"color\":[\"#f22c40\"],\"fill_alpha\":[0.8],\"height\":[174.0],\"label\":[\"[0.004000, 16.638800]\"],\"line_alpha\":[1.0],\"line_color\":[\"black\"],\"width\":[16.6348],\"x\":[\"8.3214\"],\"y\":[87.0]}},\"id\":\"41f90aab-227c-4b24-afb9-c616e67571d0\",\"type\":\"ColumnDataSource\"},{\"attributes\":{\"callback\":null,\"column_names\":[\"color\",\"fill_alpha\",\"x\",\"label\",\"y\",\"height\",\"line_alpha\",\"width\",\"line_color\"],\"data\":{\"chart_index\":[\"(432.508800, 449.143600]\"],\"color\":[\"#f22c40\"],\"fill_alpha\":[0.8],\"height\":[0.0],\"label\":[\"(432.508800, 449.143600]\"],\"line_alpha\":[1.0],\"line_color\":[\"black\"],\"width\":[16.63480000000004],\"x\":[\"440.8262\"],\"y\":[0.0]}},\"id\":\"d1f480f2-6388-424a-a380-3b0a740ab589\",\"type\":\"ColumnDataSource\"},{\"attributes\":{\"fill_alpha\":{\"field\":\"fill_alpha\"},\"fill_color\":{\"field\":\"color\"},\"height\":{\"field\":\"height\",\"units\":\"data\"},\"line_color\":{\"field\":\"line_color\"},\"width\":{\"field\":\"width\",\"units\":\"data\"},\"x\":{\"field\":\"x\"},\"y\":{\"field\":\"y\"}},\"id\":\"451bb5e4-dc63-4c2f-a5b9-020a14feb256\",\"type\":\"Rect\"},{\"attributes\":{\"data_source\":{\"id\":\"ebd6c53c-30e3-4313-a6df-d2c8af74c361\",\"type\":\"ColumnDataSource\"},\"glyph\":{\"id\":\"42fa0eb6-5ad1-4e3d-affb-9bc9a61ab43b\",\"type\":\"Rect\"},\"hover_glyph\":null,\"nonselection_glyph\":null,\"selection_glyph\":null},\"id\":\"2690c8c8-ea25-44d2-9fab-34f4e3c9a206\",\"type\":\"GlyphRenderer\"},{\"attributes\":{\"fill_alpha\":{\"field\":\"fill_alpha\"},\"fill_color\":{\"field\":\"color\"},\"height\":{\"field\":\"height\",\"units\":\"data\"},\"line_color\":{\"field\":\"line_color\"},\"width\":{\"field\":\"width\",\"units\":\"data\"},\"x\":{\"field\":\"x\"},\"y\":{\"field\":\"y\"}},\"id\":\"39450a41-df26-4ae2-ac2e-7ac58220a3e2\",\"type\":\"Rect\"},{\"attributes\":{\"data_source\":{\"id\":\"3468bf57-1602-4795-a2f5-589e33d7f481\",\"type\":\"ColumnDataSource\"},\"glyph\":{\"id\":\"03958c6e-bcaf-42af-aef8-211fe0f9c99e\",\"type\":\"Rect\"},\"hover_glyph\":null,\"nonselection_glyph\":null,\"selection_glyph\":null},\"id\":\"d3e5a922-9162-4fba-ac17-41bf04d69af5\",\"type\":\"GlyphRenderer\"},{\"attributes\":{\"axis_label\":\"Count( Size )\",\"formatter\":{\"id\":\"f182755c-8f31-4136-bb85-388510b0dc84\",\"type\":\"BasicTickFormatter\"},\"plot\":{\"id\":\"2e7f76a2-c578-4462-992a-f6e087373475\",\"subtype\":\"Chart\",\"type\":\"Plot\"},\"ticker\":{\"id\":\"1e05118e-6ee1-472e-9589-7d1ec101681f\",\"type\":\"BasicTicker\"}},\"id\":\"07f1c56e-3e1f-4cc7-aadd-38029b221218\",\"type\":\"LinearAxis\"},{\"attributes\":{\"fill_alpha\":{\"field\":\"fill_alpha\"},\"fill_color\":{\"field\":\"color\"},\"height\":{\"field\":\"height\",\"units\":\"data\"},\"line_color\":{\"field\":\"line_color\"},\"width\":{\"field\":\"width\",\"units\":\"data\"},\"x\":{\"field\":\"x\"},\"y\":{\"field\":\"y\"}},\"id\":\"626007d4-6e03-4568-bea5-cb483ff5a975\",\"type\":\"Rect\"},{\"attributes\":{\"callback\":null,\"column_names\":[\"color\",\"fill_alpha\",\"x\",\"label\",\"y\",\"height\",\"line_alpha\",\"width\",\"line_color\"],\"data\":{\"chart_index\":[\"(648.761200, 665.396000]\"],\"color\":[\"#f22c40\"],\"fill_alpha\":[0.8],\"height\":[0.0],\"label\":[\"(648.761200, 665.396000]\"],\"line_alpha\":[1.0],\"line_color\":[\"black\"],\"width\":[16.63480000000004],\"x\":[\"657.0786\"],\"y\":[0.0]}},\"id\":\"0ef2636e-cb71-4f38-8449-6f7d93b1cc0f\",\"type\":\"ColumnDataSource\"},{\"attributes\":{\"data_source\":{\"id\":\"0e9ee620-3613-46f6-94fc-0ab3e560fc3e\",\"type\":\"ColumnDataSource\"},\"glyph\":{\"id\":\"54531c52-af18-441c-aaec-3b13e4f91759\",\"type\":\"Rect\"},\"hover_glyph\":null,\"nonselection_glyph\":null,\"selection_glyph\":null},\"id\":\"fe0436f4-3915-4025-bc90-418c2ebc5a9e\",\"type\":\"GlyphRenderer\"},{\"attributes\":{\"callback\":null,\"column_names\":[\"color\",\"fill_alpha\",\"x\",\"label\",\"y\",\"height\",\"line_alpha\",\"width\",\"line_color\"],\"data\":{\"chart_index\":[\"(332.700000, 349.334800]\"],\"color\":[\"#f22c40\"],\"fill_alpha\":[0.8],\"height\":[0.0],\"label\":[\"(332.700000, 349.334800]\"],\"line_alpha\":[1.0],\"line_color\":[\"black\"],\"width\":[16.634799999999984],\"x\":[\"341.01739999999995\"],\"y\":[0.0]}},\"id\":\"94da741d-b894-45e0-8d23-3f0764fc8c6e\",\"type\":\"ColumnDataSource\"},{\"attributes\":{\"data_source\":{\"id\":\"d1f480f2-6388-424a-a380-3b0a740ab589\",\"type\":\"ColumnDataSource\"},\"glyph\":{\"id\":\"ec91b24c-695f-4e5b-8af2-56734146f574\",\"type\":\"Rect\"},\"hover_glyph\":null,\"nonselection_glyph\":null,\"selection_glyph\":null},\"id\":\"3113b85e-054a-4c25-849f-082a24586b17\",\"type\":\"GlyphRenderer\"},{\"attributes\":{\"location\":\"top_left\",\"plot\":{\"id\":\"2e7f76a2-c578-4462-992a-f6e087373475\",\"subtype\":\"Chart\",\"type\":\"Plot\"}},\"id\":\"db37b42c-30fc-4dd8-b538-8be66266ab0f\",\"type\":\"Legend\"},{\"attributes\":{\"data_source\":{\"id\":\"643098a3-1dee-449c-945f-571e499fe6f0\",\"type\":\"ColumnDataSource\"},\"glyph\":{\"id\":\"1ec93b51-b3e8-4189-9b07-6459c776cde0\",\"type\":\"Rect\"},\"hover_glyph\":null,\"nonselection_glyph\":null,\"selection_glyph\":null},\"id\":\"e0f50df7-d0a7-4d86-b37d-fcc29158ea12\",\"type\":\"GlyphRenderer\"},{\"attributes\":{\"callback\":null,\"end\":852.5377000000001,\"start\":-20.7897},\"id\":\"a536819e-902b-42ef-b7ef-aba986165180\",\"type\":\"Range1d\"},{\"attributes\":{\"fill_alpha\":{\"field\":\"fill_alpha\"},\"fill_color\":{\"field\":\"color\"},\"height\":{\"field\":\"height\",\"units\":\"data\"},\"line_color\":{\"field\":\"line_color\"},\"width\":{\"field\":\"width\",\"units\":\"data\"},\"x\":{\"field\":\"x\"},\"y\":{\"field\":\"y\"}},\"id\":\"b25805ad-00fe-45b2-a611-4a8075fc1557\",\"type\":\"Rect\"},{\"attributes\":{\"fill_alpha\":{\"field\":\"fill_alpha\"},\"fill_color\":{\"field\":\"color\"},\"height\":{\"field\":\"height\",\"units\":\"data\"},\"line_color\":{\"field\":\"line_color\"},\"width\":{\"field\":\"width\",\"units\":\"data\"},\"x\":{\"field\":\"x\"},\"y\":{\"field\":\"y\"}},\"id\":\"ec91b24c-695f-4e5b-8af2-56734146f574\",\"type\":\"Rect\"},{\"attributes\":{\"plot\":{\"id\":\"2e7f76a2-c578-4462-992a-f6e087373475\",\"subtype\":\"Chart\",\"type\":\"Plot\"}},\"id\":\"08763650-10f2-4f7e-8c3e-88d5ced6d492\",\"type\":\"PanTool\"},{\"attributes\":{\"callback\":null,\"column_names\":[\"color\",\"fill_alpha\",\"x\",\"label\",\"y\",\"height\",\"line_alpha\",\"width\",\"line_color\"],\"data\":{\"chart_index\":[\"(565.587200, 582.222000]\"],\"color\":[\"#f22c40\"],\"fill_alpha\":[0.8],\"height\":[0.0],\"label\":[\"(565.587200, 582.222000]\"],\"line_alpha\":[1.0],\"line_color\":[\"black\"],\"width\":[16.63480000000004],\"x\":[\"573.9046000000001\"],\"y\":[0.0]}},\"id\":\"0aeff0f9-c329-4e5e-a585-468e05515963\",\"type\":\"ColumnDataSource\"},{\"attributes\":{\"data_source\":{\"id\":\"02e126c1-b5b0-4782-a7bf-5f7889e3d638\",\"type\":\"ColumnDataSource\"},\"glyph\":{\"id\":\"7acccac1-0392-4083-8b0a-ca384b1f615b\",\"type\":\"Rect\"},\"hover_glyph\":null,\"nonselection_glyph\":null,\"selection_glyph\":null},\"id\":\"ef98949d-69b2-4fa8-8511-1c1cf7877d7e\",\"type\":\"GlyphRenderer\"},{\"attributes\":{\"fill_alpha\":{\"field\":\"fill_alpha\"},\"fill_color\":{\"field\":\"color\"},\"height\":{\"field\":\"height\",\"units\":\"data\"},\"line_color\":{\"field\":\"line_color\"},\"width\":{\"field\":\"width\",\"units\":\"data\"},\"x\":{\"field\":\"x\"},\"y\":{\"field\":\"y\"}},\"id\":\"b3b00d83-2675-48f4-a9ef-b0e34622a8d1\",\"type\":\"Rect\"},{\"attributes\":{\"callback\":null,\"column_names\":[\"color\",\"fill_alpha\",\"x\",\"label\",\"y\",\"height\",\"line_alpha\",\"width\",\"line_color\"],\"data\":{\"chart_index\":[\"(382.604400, 399.239200]\"],\"color\":[\"#f22c40\"],\"fill_alpha\":[0.8],\"height\":[0.0],\"label\":[\"(382.604400, 399.239200]\"],\"line_alpha\":[1.0],\"line_color\":[\"black\"],\"width\":[16.634799999999984],\"x\":[\"390.92179999999996\"],\"y\":[0.0]}},\"id\":\"be11dca7-4fd7-4445-8275-e03a2c0a67b6\",\"type\":\"ColumnDataSource\"},{\"attributes\":{\"data_source\":{\"id\":\"0809da26-5d96-4dcf-a10c-931011516a9f\",\"type\":\"ColumnDataSource\"},\"glyph\":{\"id\":\"7e899abc-6bde-436c-bee7-e825d6c87773\",\"type\":\"Rect\"},\"hover_glyph\":null,\"nonselection_glyph\":null,\"selection_glyph\":null},\"id\":\"3923b176-0049-43c1-8f8e-cfbcbad046a8\",\"type\":\"GlyphRenderer\"},{\"attributes\":{\"callback\":null,\"column_names\":[\"color\",\"fill_alpha\",\"x\",\"label\",\"y\",\"height\",\"line_alpha\",\"width\",\"line_color\"],\"data\":{\"chart_index\":[\"(532.317600, 548.952400]\"],\"color\":[\"#f22c40\"],\"fill_alpha\":[0.8],\"height\":[0.0],\"label\":[\"(532.317600, 548.952400]\"],\"line_alpha\":[1.0],\"line_color\":[\"black\"],\"width\":[16.63480000000004],\"x\":[\"540.635\"],\"y\":[0.0]}},\"id\":\"dd2f09c4-660a-43f5-980d-adea4ce412af\",\"type\":\"ColumnDataSource\"},{\"attributes\":{\"fill_alpha\":{\"field\":\"fill_alpha\"},\"fill_color\":{\"field\":\"color\"},\"height\":{\"field\":\"height\",\"units\":\"data\"},\"line_color\":{\"field\":\"line_color\"},\"width\":{\"field\":\"width\",\"units\":\"data\"},\"x\":{\"field\":\"x\"},\"y\":{\"field\":\"y\"}},\"id\":\"7e899abc-6bde-436c-bee7-e825d6c87773\",\"type\":\"Rect\"},{\"attributes\":{\"callback\":null,\"column_names\":[\"color\",\"fill_alpha\",\"x\",\"label\",\"y\",\"height\",\"line_alpha\",\"width\",\"line_color\"],\"data\":{\"chart_index\":[\"(365.969600, 382.604400]\"],\"color\":[\"#f22c40\"],\"fill_alpha\":[0.8],\"height\":[0.0],\"label\":[\"(365.969600, 382.604400]\"],\"line_alpha\":[1.0],\"line_color\":[\"black\"],\"width\":[16.634799999999984],\"x\":[\"374.28700000000003\"],\"y\":[0.0]}},\"id\":\"cdb8faaa-a922-4013-ac32-f67f8238e3f9\",\"type\":\"ColumnDataSource\"},{\"attributes\":{\"callback\":null,\"column_names\":[\"color\",\"fill_alpha\",\"x\",\"label\",\"y\",\"height\",\"line_alpha\",\"width\",\"line_color\"],\"data\":{\"chart_index\":[\"(781.839600, 798.474400]\"],\"color\":[\"#f22c40\"],\"fill_alpha\":[0.8],\"height\":[0.0],\"label\":[\"(781.839600, 798.474400]\"],\"line_alpha\":[1.0],\"line_color\":[\"black\"],\"width\":[16.63480000000004],\"x\":[\"790.1569999999999\"],\"y\":[0.0]}},\"id\":\"9e8cd5c1-db39-4729-aa1f-acc8b1b7ab8b\",\"type\":\"ColumnDataSource\"},{\"attributes\":{\"callback\":null,\"column_names\":[\"color\",\"fill_alpha\",\"x\",\"label\",\"y\",\"height\",\"line_alpha\",\"width\",\"line_color\"],\"data\":{\"chart_index\":[\"(515.682800, 532.317600]\"],\"color\":[\"#f22c40\"],\"fill_alpha\":[0.8],\"height\":[0.0],\"label\":[\"(515.682800, 532.317600]\"],\"line_alpha\":[1.0],\"line_color\":[\"black\"],\"width\":[16.63480000000004],\"x\":[\"524.0002\"],\"y\":[0.0]}},\"id\":\"02e126c1-b5b0-4782-a7bf-5f7889e3d638\",\"type\":\"ColumnDataSource\"},{\"attributes\":{\"data_source\":{\"id\":\"f637e041-38dc-40c6-a62d-be25d11ec699\",\"type\":\"ColumnDataSource\"},\"glyph\":{\"id\":\"4aea8924-a48c-47ab-aa07-2e025fb319af\",\"type\":\"Rect\"},\"hover_glyph\":null,\"nonselection_glyph\":null,\"selection_glyph\":null},\"id\":\"4b8c0e49-cf61-4c29-9dc3-a9cf1f926bf0\",\"type\":\"GlyphRenderer\"},{\"attributes\":{\"callback\":null,\"column_names\":[\"color\",\"fill_alpha\",\"x\",\"label\",\"y\",\"height\",\"line_alpha\",\"width\",\"line_color\"],\"data\":{\"chart_index\":[\"(465.778400, 482.413200]\"],\"color\":[\"#f22c40\"],\"fill_alpha\":[0.8],\"height\":[0.0],\"label\":[\"(465.778400, 482.413200]\"],\"line_alpha\":[1.0],\"line_color\":[\"black\"],\"width\":[16.634799999999984],\"x\":[\"474.0958\"],\"y\":[0.0]}},\"id\":\"0e0055bd-6b80-4ddd-96ed-a39fa55abe09\",\"type\":\"ColumnDataSource\"},{\"attributes\":{\"fill_alpha\":{\"field\":\"fill_alpha\"},\"fill_color\":{\"field\":\"color\"},\"height\":{\"field\":\"height\",\"units\":\"data\"},\"line_color\":{\"field\":\"line_color\"},\"width\":{\"field\":\"width\",\"units\":\"data\"},\"x\":{\"field\":\"x\"},\"y\":{\"field\":\"y\"}},\"id\":\"e3e7f15d-a22f-444c-8016-9e358c2b859e\",\"type\":\"Rect\"},{\"attributes\":{\"data_source\":{\"id\":\"cdb8faaa-a922-4013-ac32-f67f8238e3f9\",\"type\":\"ColumnDataSource\"},\"glyph\":{\"id\":\"346bffac-fc72-4bdd-a833-2acd2c866848\",\"type\":\"Rect\"},\"hover_glyph\":null,\"nonselection_glyph\":null,\"selection_glyph\":null},\"id\":\"d641bc0b-3670-4ba8-a4c3-9f48f2ec7338\",\"type\":\"GlyphRenderer\"},{\"attributes\":{\"data_source\":{\"id\":\"0e0055bd-6b80-4ddd-96ed-a39fa55abe09\",\"type\":\"ColumnDataSource\"},\"glyph\":{\"id\":\"dea966fa-e76f-4423-8469-452da9e42cba\",\"type\":\"Rect\"},\"hover_glyph\":null,\"nonselection_glyph\":null,\"selection_glyph\":null},\"id\":\"10c37853-7532-4042-aceb-0b7efb13836f\",\"type\":\"GlyphRenderer\"},{\"attributes\":{\"fill_alpha\":{\"field\":\"fill_alpha\"},\"fill_color\":{\"field\":\"color\"},\"height\":{\"field\":\"height\",\"units\":\"data\"},\"line_color\":{\"field\":\"line_color\"},\"width\":{\"field\":\"width\",\"units\":\"data\"},\"x\":{\"field\":\"x\"},\"y\":{\"field\":\"y\"}},\"id\":\"29badda9-6e03-4bd7-9e4e-509be2873a9a\",\"type\":\"Rect\"},{\"attributes\":{\"fill_alpha\":{\"field\":\"fill_alpha\"},\"fill_color\":{\"field\":\"color\"},\"height\":{\"field\":\"height\",\"units\":\"data\"},\"line_color\":{\"field\":\"line_color\"},\"width\":{\"field\":\"width\",\"units\":\"data\"},\"x\":{\"field\":\"x\"},\"y\":{\"field\":\"y\"}},\"id\":\"82d9c5d3-bc4f-4a85-8660-c64f0bfdc996\",\"type\":\"Rect\"},{\"attributes\":{\"fill_alpha\":{\"field\":\"fill_alpha\"},\"fill_color\":{\"field\":\"color\"},\"height\":{\"field\":\"height\",\"units\":\"data\"},\"line_color\":{\"field\":\"line_color\"},\"width\":{\"field\":\"width\",\"units\":\"data\"},\"x\":{\"field\":\"x\"},\"y\":{\"field\":\"y\"}},\"id\":\"2947035d-1011-4038-881a-5147ed628c60\",\"type\":\"Rect\"},{\"attributes\":{\"callback\":null,\"column_names\":[\"color\",\"fill_alpha\",\"x\",\"label\",\"y\",\"height\",\"line_alpha\",\"width\",\"line_color\"],\"data\":{\"chart_index\":[\"(582.222000, 598.856800]\"],\"color\":[\"#f22c40\"],\"fill_alpha\":[0.8],\"height\":[0.0],\"label\":[\"(582.222000, 598.856800]\"],\"line_alpha\":[1.0],\"line_color\":[\"black\"],\"width\":[16.634799999999927],\"x\":[\"590.5394\"],\"y\":[0.0]}},\"id\":\"89bb30fa-2d30-4a0b-aa35-c4a9e6101395\",\"type\":\"ColumnDataSource\"},{\"attributes\":{\"callback\":null,\"column_names\":[\"color\",\"fill_alpha\",\"x\",\"label\",\"y\",\"height\",\"line_alpha\",\"width\",\"line_color\"],\"data\":{\"chart_index\":[\"(349.334800, 365.969600]\"],\"color\":[\"#f22c40\"],\"fill_alpha\":[0.8],\"height\":[0.0],\"label\":[\"(349.334800, 365.969600]\"],\"line_alpha\":[1.0],\"line_color\":[\"black\"],\"width\":[16.63480000000004],\"x\":[\"357.6522\"],\"y\":[0.0]}},\"id\":\"418ee9db-6136-4943-a799-79feacded002\",\"type\":\"ColumnDataSource\"},{\"attributes\":{\"callback\":null,\"column_names\":[\"color\",\"fill_alpha\",\"x\",\"label\",\"y\",\"height\",\"line_alpha\",\"width\",\"line_color\"],\"data\":{\"chart_index\":[\"(715.300400, 731.935200]\"],\"color\":[\"#f22c40\"],\"fill_alpha\":[0.8],\"height\":[0.0],\"label\":[\"(715.300400, 731.935200]\"],\"line_alpha\":[1.0],\"line_color\":[\"black\"],\"width\":[16.63480000000004],\"x\":[\"723.6178\"],\"y\":[0.0]}},\"id\":\"b1a43d2c-1c13-4c66-8295-364775b61b11\",\"type\":\"ColumnDataSource\"},{\"attributes\":{\"overlay\":{\"id\":\"850a7578-8f96-45fc-9d26-0cf05f309a28\",\"type\":\"BoxAnnotation\"},\"plot\":{\"id\":\"2e7f76a2-c578-4462-992a-f6e087373475\",\"subtype\":\"Chart\",\"type\":\"Plot\"}},\"id\":\"67a20037-2241-4101-91b4-241d00c4fea6\",\"type\":\"BoxZoomTool\"},{\"attributes\":{\"fill_alpha\":{\"field\":\"fill_alpha\"},\"fill_color\":{\"field\":\"color\"},\"height\":{\"field\":\"height\",\"units\":\"data\"},\"line_color\":{\"field\":\"line_color\"},\"width\":{\"field\":\"width\",\"units\":\"data\"},\"x\":{\"field\":\"x\"},\"y\":{\"field\":\"y\"}},\"id\":\"69880990-35d5-47d5-b5de-22dadd4ed387\",\"type\":\"Rect\"},{\"attributes\":{\"data_source\":{\"id\":\"38155597-2d24-4167-8496-aba279bd25a6\",\"type\":\"ColumnDataSource\"},\"glyph\":{\"id\":\"b25805ad-00fe-45b2-a611-4a8075fc1557\",\"type\":\"Rect\"},\"hover_glyph\":null,\"nonselection_glyph\":null,\"selection_glyph\":null},\"id\":\"62e04917-4ae4-4bae-a4f5-316199785105\",\"type\":\"GlyphRenderer\"},{\"attributes\":{\"data_source\":{\"id\":\"c1816d88-d1b0-4290-b0ad-65735c380514\",\"type\":\"ColumnDataSource\"},\"glyph\":{\"id\":\"8537f9df-1e64-4e62-b193-ec58b13639f0\",\"type\":\"Rect\"},\"hover_glyph\":null,\"nonselection_glyph\":null,\"selection_glyph\":null},\"id\":\"b37be0db-6bad-40ad-a4cd-88560ff03ba1\",\"type\":\"GlyphRenderer\"},{\"attributes\":{\"data_source\":{\"id\":\"89483f28-878d-46f1-b876-c2e1785864bd\",\"type\":\"ColumnDataSource\"},\"glyph\":{\"id\":\"d6a6e8d7-e805-471f-996d-631eefb9cc20\",\"type\":\"Rect\"},\"hover_glyph\":null,\"nonselection_glyph\":null,\"selection_glyph\":null},\"id\":\"0a4ea312-d307-4f0c-9432-e687f15169f5\",\"type\":\"GlyphRenderer\"},{\"attributes\":{\"axis_label\":\"Byte Stream Size (kilobytes)\",\"formatter\":{\"id\":\"7798ec97-0907-449c-8ebe-d6347633e0a3\",\"type\":\"BasicTickFormatter\"},\"plot\":{\"id\":\"2e7f76a2-c578-4462-992a-f6e087373475\",\"subtype\":\"Chart\",\"type\":\"Plot\"},\"ticker\":{\"id\":\"34fda941-ba91-4199-a49b-9390f501124a\",\"type\":\"BasicTicker\"}},\"id\":\"318f05a5-2f4c-42e6-bbd2-0c4a40f84312\",\"type\":\"LinearAxis\"},{\"attributes\":{\"data_source\":{\"id\":\"04e2760d-caff-45cb-88a7-6000922f56dd\",\"type\":\"ColumnDataSource\"},\"glyph\":{\"id\":\"34f96b29-f1da-4d1f-a9b9-f5333f9c6554\",\"type\":\"Rect\"},\"hover_glyph\":null,\"nonselection_glyph\":null,\"selection_glyph\":null},\"id\":\"7acedc21-8625-4160-b6ce-f3612d06a213\",\"type\":\"GlyphRenderer\"},{\"attributes\":{\"fill_alpha\":{\"field\":\"fill_alpha\"},\"fill_color\":{\"field\":\"color\"},\"height\":{\"field\":\"height\",\"units\":\"data\"},\"line_color\":{\"field\":\"line_color\"},\"width\":{\"field\":\"width\",\"units\":\"data\"},\"x\":{\"field\":\"x\"},\"y\":{\"field\":\"y\"}},\"id\":\"34f96b29-f1da-4d1f-a9b9-f5333f9c6554\",\"type\":\"Rect\"},{\"attributes\":{\"fill_alpha\":{\"field\":\"fill_alpha\"},\"fill_color\":{\"field\":\"color\"},\"height\":{\"field\":\"height\",\"units\":\"data\"},\"line_color\":{\"field\":\"line_color\"},\"width\":{\"field\":\"width\",\"units\":\"data\"},\"x\":{\"field\":\"x\"},\"y\":{\"field\":\"y\"}},\"id\":\"caa22d3a-9813-492d-8481-dc4dd4d1ca60\",\"type\":\"Rect\"},{\"attributes\":{\"callback\":null,\"column_names\":[\"color\",\"fill_alpha\",\"x\",\"label\",\"y\",\"height\",\"line_alpha\",\"width\",\"line_color\"],\"data\":{\"chart_index\":[\"(216.256400, 232.891200]\"],\"color\":[\"#f22c40\"],\"fill_alpha\":[0.8],\"height\":[0.0],\"label\":[\"(216.256400, 232.891200]\"],\"line_alpha\":[1.0],\"line_color\":[\"black\"],\"width\":[16.634800000000013],\"x\":[\"224.5738\"],\"y\":[0.0]}},\"id\":\"51cf2a67-806e-4f54-addc-18699329f4f1\",\"type\":\"ColumnDataSource\"},{\"attributes\":{\"callback\":null,\"column_names\":[\"color\",\"fill_alpha\",\"x\",\"label\",\"y\",\"height\",\"line_alpha\",\"width\",\"line_color\"],\"data\":{\"chart_index\":[\"(49.908400, 66.543200]\"],\"color\":[\"#f22c40\"],\"fill_alpha\":[0.8],\"height\":[0.0],\"label\":[\"(49.908400, 66.543200]\"],\"line_alpha\":[1.0],\"line_color\":[\"black\"],\"width\":[16.634800000000006],\"x\":[\"58.2258\"],\"y\":[0.0]}},\"id\":\"ba1e7bce-cc4f-41fd-b15d-6887c3f34b76\",\"type\":\"ColumnDataSource\"},{\"attributes\":{},\"id\":\"47282925-ccc3-4d4d-98d6-de310fafffcb\",\"type\":\"ToolEvents\"},{\"attributes\":{\"data_source\":{\"id\":\"be11dca7-4fd7-4445-8275-e03a2c0a67b6\",\"type\":\"ColumnDataSource\"},\"glyph\":{\"id\":\"849f45c7-37f0-402c-94ea-8d56cee4c2ab\",\"type\":\"Rect\"},\"hover_glyph\":null,\"nonselection_glyph\":null,\"selection_glyph\":null},\"id\":\"ecb576eb-1b0b-44b5-a2ce-340cfc987174\",\"type\":\"GlyphRenderer\"},{\"attributes\":{\"callback\":null,\"column_names\":[\"color\",\"fill_alpha\",\"x\",\"label\",\"y\",\"height\",\"line_alpha\",\"width\",\"line_color\"],\"data\":{\"chart_index\":[\"(748.570000, 765.204800]\"],\"color\":[\"#f22c40\"],\"fill_alpha\":[0.8],\"height\":[0.0],\"label\":[\"(748.570000, 765.204800]\"],\"line_alpha\":[1.0],\"line_color\":[\"black\"],\"width\":[16.63480000000004],\"x\":[\"756.8874000000001\"],\"y\":[0.0]}},\"id\":\"ebd6c53c-30e3-4313-a6df-d2c8af74c361\",\"type\":\"ColumnDataSource\"},{\"attributes\":{\"fill_alpha\":{\"field\":\"fill_alpha\"},\"fill_color\":{\"field\":\"color\"},\"height\":{\"field\":\"height\",\"units\":\"data\"},\"line_color\":{\"field\":\"line_color\"},\"width\":{\"field\":\"width\",\"units\":\"data\"},\"x\":{\"field\":\"x\"},\"y\":{\"field\":\"y\"}},\"id\":\"42fa0eb6-5ad1-4e3d-affb-9bc9a61ab43b\",\"type\":\"Rect\"},{\"attributes\":{\"fill_alpha\":{\"field\":\"fill_alpha\"},\"fill_color\":{\"field\":\"color\"},\"height\":{\"field\":\"height\",\"units\":\"data\"},\"line_color\":{\"field\":\"line_color\"},\"width\":{\"field\":\"width\",\"units\":\"data\"},\"x\":{\"field\":\"x\"},\"y\":{\"field\":\"y\"}},\"id\":\"d4ecd9fe-41e9-4ebb-a398-2656526e1b7b\",\"type\":\"Rect\"},{\"attributes\":{\"callback\":null,\"column_names\":[\"color\",\"fill_alpha\",\"x\",\"label\",\"y\",\"height\",\"line_alpha\",\"width\",\"line_color\"],\"data\":{\"chart_index\":[\"(682.030800, 698.665600]\"],\"color\":[\"#f22c40\"],\"fill_alpha\":[0.8],\"height\":[0.0],\"label\":[\"(682.030800, 698.665600]\"],\"line_alpha\":[1.0],\"line_color\":[\"black\"],\"width\":[16.634799999999927],\"x\":[\"690.3482\"],\"y\":[0.0]}},\"id\":\"6c0db7c3-82ef-48c4-bab5-f7607ad96e5e\",\"type\":\"ColumnDataSource\"},{\"attributes\":{\"data_source\":{\"id\":\"41f90aab-227c-4b24-afb9-c616e67571d0\",\"type\":\"ColumnDataSource\"},\"glyph\":{\"id\":\"3e732ac7-e6f5-4703-899b-5215307b6d5f\",\"type\":\"Rect\"},\"hover_glyph\":null,\"nonselection_glyph\":null,\"selection_glyph\":null},\"id\":\"ab2c41a5-698a-49f7-9b01-0735b0f30903\",\"type\":\"GlyphRenderer\"},{\"attributes\":{\"callback\":null,\"column_names\":[\"color\",\"fill_alpha\",\"x\",\"label\",\"y\",\"height\",\"line_alpha\",\"width\",\"line_color\"],\"data\":{\"chart_index\":[\"(66.543200, 83.178000]\"],\"color\":[\"#f22c40\"],\"fill_alpha\":[0.8],\"height\":[0.0],\"label\":[\"(66.543200, 83.178000]\"],\"line_alpha\":[1.0],\"line_color\":[\"black\"],\"width\":[16.6348],\"x\":[\"74.8606\"],\"y\":[0.0]}},\"id\":\"38155597-2d24-4167-8496-aba279bd25a6\",\"type\":\"ColumnDataSource\"},{\"attributes\":{\"callback\":null,\"column_names\":[\"color\",\"fill_alpha\",\"x\",\"label\",\"y\",\"height\",\"line_alpha\",\"width\",\"line_color\"],\"data\":{\"chart_index\":[\"(266.160800, 282.795600]\"],\"color\":[\"#f22c40\"],\"fill_alpha\":[0.8],\"height\":[0.0],\"label\":[\"(266.160800, 282.795600]\"],\"line_alpha\":[1.0],\"line_color\":[\"black\"],\"width\":[16.634799999999984],\"x\":[\"274.4782\"],\"y\":[0.0]}},\"id\":\"bfae4de4-c475-4aea-8407-6c17f2aefd3f\",\"type\":\"ColumnDataSource\"},{\"attributes\":{\"fill_alpha\":{\"field\":\"fill_alpha\"},\"fill_color\":{\"field\":\"color\"},\"height\":{\"field\":\"height\",\"units\":\"data\"},\"line_color\":{\"field\":\"line_color\"},\"width\":{\"field\":\"width\",\"units\":\"data\"},\"x\":{\"field\":\"x\"},\"y\":{\"field\":\"y\"}},\"id\":\"a9425a2e-1e74-4e84-aad2-384acf6d6623\",\"type\":\"Rect\"},{\"attributes\":{\"callback\":null,\"column_names\":[\"color\",\"fill_alpha\",\"x\",\"label\",\"y\",\"height\",\"line_alpha\",\"width\",\"line_color\"],\"data\":{\"chart_index\":[\"(316.065200, 332.700000]\"],\"color\":[\"#f22c40\"],\"fill_alpha\":[0.8],\"height\":[0.0],\"label\":[\"(316.065200, 332.700000]\"],\"line_alpha\":[1.0],\"line_color\":[\"black\"],\"width\":[16.634799999999984],\"x\":[\"324.3826\"],\"y\":[0.0]}},\"id\":\"0809da26-5d96-4dcf-a10c-931011516a9f\",\"type\":\"ColumnDataSource\"},{\"attributes\":{\"data_source\":{\"id\":\"3976e54d-7e2c-4621-81a7-a62cfa5b6e87\",\"type\":\"ColumnDataSource\"},\"glyph\":{\"id\":\"dd2a4ba3-f386-43ba-8424-e1ea3e606b7f\",\"type\":\"Rect\"},\"hover_glyph\":null,\"nonselection_glyph\":null,\"selection_glyph\":null},\"id\":\"92c47952-9f95-4086-940e-f864cc9d3a18\",\"type\":\"GlyphRenderer\"},{\"attributes\":{\"callback\":null,\"column_names\":[\"color\",\"fill_alpha\",\"x\",\"label\",\"y\",\"height\",\"line_alpha\",\"width\",\"line_color\"],\"data\":{\"chart_index\":[\"(598.856800, 615.491600]\"],\"color\":[\"#f22c40\"],\"fill_alpha\":[0.8],\"height\":[0.0],\"label\":[\"(598.856800, 615.491600]\"],\"line_alpha\":[1.0],\"line_color\":[\"black\"],\"width\":[16.63480000000004],\"x\":[\"607.1741999999999\"],\"y\":[0.0]}},\"id\":\"c1816d88-d1b0-4290-b0ad-65735c380514\",\"type\":\"ColumnDataSource\"},{\"attributes\":{\"data_source\":{\"id\":\"94da741d-b894-45e0-8d23-3f0764fc8c6e\",\"type\":\"ColumnDataSource\"},\"glyph\":{\"id\":\"ec9a86a6-83d1-4b73-b6ed-9450965c0090\",\"type\":\"Rect\"},\"hover_glyph\":null,\"nonselection_glyph\":null,\"selection_glyph\":null},\"id\":\"cfc6db96-3b24-49f4-b3e2-9168d914636b\",\"type\":\"GlyphRenderer\"},{\"attributes\":{\"callback\":null,\"column_names\":[\"color\",\"fill_alpha\",\"x\",\"label\",\"y\",\"height\",\"line_alpha\",\"width\",\"line_color\"],\"data\":{\"chart_index\":[\"(698.665600, 715.300400]\"],\"color\":[\"#f22c40\"],\"fill_alpha\":[0.8],\"height\":[0.0],\"label\":[\"(698.665600, 715.300400]\"],\"line_alpha\":[1.0],\"line_color\":[\"black\"],\"width\":[16.63480000000004],\"x\":[\"706.983\"],\"y\":[0.0]}},\"id\":\"324f76c4-7f6c-40eb-9599-12cde0e018af\",\"type\":\"ColumnDataSource\"},{\"attributes\":{\"data_source\":{\"id\":\"418ee9db-6136-4943-a799-79feacded002\",\"type\":\"ColumnDataSource\"},\"glyph\":{\"id\":\"29badda9-6e03-4bd7-9e4e-509be2873a9a\",\"type\":\"Rect\"},\"hover_glyph\":null,\"nonselection_glyph\":null,\"selection_glyph\":null},\"id\":\"fba2bc7a-2ba8-49cc-998a-b726db6a6f42\",\"type\":\"GlyphRenderer\"},{\"attributes\":{\"callback\":null,\"column_names\":[\"color\",\"fill_alpha\",\"x\",\"label\",\"y\",\"height\",\"line_alpha\",\"width\",\"line_color\"],\"data\":{\"chart_index\":[\"(615.491600, 632.126400]\"],\"color\":[\"#f22c40\"],\"fill_alpha\":[0.8],\"height\":[0.0],\"label\":[\"(615.491600, 632.126400]\"],\"line_alpha\":[1.0],\"line_color\":[\"black\"],\"width\":[16.63480000000004],\"x\":[\"623.809\"],\"y\":[0.0]}},\"id\":\"89483f28-878d-46f1-b876-c2e1785864bd\",\"type\":\"ColumnDataSource\"},{\"attributes\":{\"fill_alpha\":{\"field\":\"fill_alpha\"},\"fill_color\":{\"field\":\"color\"},\"height\":{\"field\":\"height\",\"units\":\"data\"},\"line_color\":{\"field\":\"line_color\"},\"width\":{\"field\":\"width\",\"units\":\"data\"},\"x\":{\"field\":\"x\"},\"y\":{\"field\":\"y\"}},\"id\":\"dba84c01-5620-4a6b-a5a9-b1b9f9899862\",\"type\":\"Rect\"},{\"attributes\":{\"plot\":{\"id\":\"2e7f76a2-c578-4462-992a-f6e087373475\",\"subtype\":\"Chart\",\"type\":\"Plot\"}},\"id\":\"49b4cc48-2cae-4ab2-9de0-a70854b47e79\",\"type\":\"SaveTool\"},{\"attributes\":{\"plot\":null,\"text\":null},\"id\":\"cc18d5f0-3ae3-4120-80ce-7f28489dd878\",\"type\":\"Title\"},{\"attributes\":{\"data_source\":{\"id\":\"89bb30fa-2d30-4a0b-aa35-c4a9e6101395\",\"type\":\"ColumnDataSource\"},\"glyph\":{\"id\":\"396d57b7-5c16-4411-9e5c-3cdfb4a86fd4\",\"type\":\"Rect\"},\"hover_glyph\":null,\"nonselection_glyph\":null,\"selection_glyph\":null},\"id\":\"11f92b7f-9d8a-44db-b5de-0c72ecfdfb64\",\"type\":\"GlyphRenderer\"},{\"attributes\":{\"fill_alpha\":{\"field\":\"fill_alpha\"},\"fill_color\":{\"field\":\"color\"},\"height\":{\"field\":\"height\",\"units\":\"data\"},\"line_color\":{\"field\":\"line_color\"},\"width\":{\"field\":\"width\",\"units\":\"data\"},\"x\":{\"field\":\"x\"},\"y\":{\"field\":\"y\"}},\"id\":\"8537f9df-1e64-4e62-b193-ec58b13639f0\",\"type\":\"Rect\"},{\"attributes\":{\"callback\":null,\"column_names\":[\"color\",\"fill_alpha\",\"x\",\"label\",\"y\",\"height\",\"line_alpha\",\"width\",\"line_color\"],\"data\":{\"chart_index\":[\"(33.273600, 49.908400]\"],\"color\":[\"#f22c40\"],\"fill_alpha\":[0.8],\"height\":[59356.0],\"label\":[\"(33.273600, 49.908400]\"],\"line_alpha\":[1.0],\"line_color\":[\"black\"],\"width\":[16.6348],\"x\":[\"41.591\"],\"y\":[29678.0]}},\"id\":\"bce8a99e-2d60-449f-8e29-8ea34f57e439\",\"type\":\"ColumnDataSource\"},{\"attributes\":{\"fill_alpha\":{\"field\":\"fill_alpha\"},\"fill_color\":{\"field\":\"color\"},\"height\":{\"field\":\"height\",\"units\":\"data\"},\"line_color\":{\"field\":\"line_color\"},\"width\":{\"field\":\"width\",\"units\":\"data\"},\"x\":{\"field\":\"x\"},\"y\":{\"field\":\"y\"}},\"id\":\"396d57b7-5c16-4411-9e5c-3cdfb4a86fd4\",\"type\":\"Rect\"},{\"attributes\":{\"callback\":null,\"column_names\":[\"color\",\"fill_alpha\",\"x\",\"label\",\"y\",\"height\",\"line_alpha\",\"width\",\"line_color\"],\"data\":{\"chart_index\":[\"(632.126400, 648.761200]\"],\"color\":[\"#f22c40\"],\"fill_alpha\":[0.8],\"height\":[0.0],\"label\":[\"(632.126400, 648.761200]\"],\"line_alpha\":[1.0],\"line_color\":[\"black\"],\"width\":[16.634799999999927],\"x\":[\"640.4438\"],\"y\":[0.0]}},\"id\":\"d858c48c-ae1a-4a43-9dc3-831a1175367b\",\"type\":\"ColumnDataSource\"},{\"attributes\":{\"data_source\":{\"id\":\"b1a43d2c-1c13-4c66-8295-364775b61b11\",\"type\":\"ColumnDataSource\"},\"glyph\":{\"id\":\"851e2f8b-9679-41e5-bf0f-140fe6e8a613\",\"type\":\"Rect\"},\"hover_glyph\":null,\"nonselection_glyph\":null,\"selection_glyph\":null},\"id\":\"dd8722fa-fb4d-4d5c-8ca9-dbcf8ef4b2a1\",\"type\":\"GlyphRenderer\"},{\"attributes\":{\"callback\":null,\"column_names\":[\"color\",\"fill_alpha\",\"x\",\"label\",\"y\",\"height\",\"line_alpha\",\"width\",\"line_color\"],\"data\":{\"chart_index\":[\"(731.935200, 748.570000]\"],\"color\":[\"#f22c40\"],\"fill_alpha\":[0.8],\"height\":[0.0],\"label\":[\"(731.935200, 748.570000]\"],\"line_alpha\":[1.0],\"line_color\":[\"black\"],\"width\":[16.634799999999927],\"x\":[\"740.2526\"],\"y\":[0.0]}},\"id\":\"640b5bb2-cf2f-48fc-8048-097c7b30afc3\",\"type\":\"ColumnDataSource\"},{\"attributes\":{\"data_source\":{\"id\":\"d858c48c-ae1a-4a43-9dc3-831a1175367b\",\"type\":\"ColumnDataSource\"},\"glyph\":{\"id\":\"a9425a2e-1e74-4e84-aad2-384acf6d6623\",\"type\":\"Rect\"},\"hover_glyph\":null,\"nonselection_glyph\":null,\"selection_glyph\":null},\"id\":\"777c832d-1075-4180-8491-ea33a7c10486\",\"type\":\"GlyphRenderer\"},{\"attributes\":{\"fill_alpha\":{\"field\":\"fill_alpha\"},\"fill_color\":{\"field\":\"color\"},\"height\":{\"field\":\"height\",\"units\":\"data\"},\"line_color\":{\"field\":\"line_color\"},\"width\":{\"field\":\"width\",\"units\":\"data\"},\"x\":{\"field\":\"x\"},\"y\":{\"field\":\"y\"}},\"id\":\"b00ada56-d563-4864-b222-c3ef5abece35\",\"type\":\"Rect\"},{\"attributes\":{\"data_source\":{\"id\":\"ed605327-1e5b-4be2-9774-9128d569c488\",\"type\":\"ColumnDataSource\"},\"glyph\":{\"id\":\"462b0710-bbca-4273-9ae8-ea41686ea4ce\",\"type\":\"Rect\"},\"hover_glyph\":null,\"nonselection_glyph\":null,\"selection_glyph\":null},\"id\":\"9fb6851a-d750-426f-a662-48b21bbea284\",\"type\":\"GlyphRenderer\"},{\"attributes\":{\"data_source\":{\"id\":\"324001b1-f75b-46b4-9b15-c03acd735e2d\",\"type\":\"ColumnDataSource\"},\"glyph\":{\"id\":\"b00ada56-d563-4864-b222-c3ef5abece35\",\"type\":\"Rect\"},\"hover_glyph\":null,\"nonselection_glyph\":null,\"selection_glyph\":null},\"id\":\"b7d9ed61-a3e6-4f21-8bd5-6831f50a1d38\",\"type\":\"GlyphRenderer\"},{\"attributes\":{\"fill_alpha\":{\"field\":\"fill_alpha\"},\"fill_color\":{\"field\":\"color\"},\"height\":{\"field\":\"height\",\"units\":\"data\"},\"line_color\":{\"field\":\"line_color\"},\"width\":{\"field\":\"width\",\"units\":\"data\"},\"x\":{\"field\":\"x\"},\"y\":{\"field\":\"y\"}},\"id\":\"54531c52-af18-441c-aaec-3b13e4f91759\",\"type\":\"Rect\"},{\"attributes\":{\"callback\":null,\"column_names\":[\"color\",\"fill_alpha\",\"x\",\"label\",\"y\",\"height\",\"line_alpha\",\"width\",\"line_color\"],\"data\":{\"chart_index\":[\"(765.204800, 781.839600]\"],\"color\":[\"#f22c40\"],\"fill_alpha\":[0.8],\"height\":[0.0],\"label\":[\"(765.204800, 781.839600]\"],\"line_alpha\":[1.0],\"line_color\":[\"black\"],\"width\":[16.634799999999927],\"x\":[\"773.5222\"],\"y\":[0.0]}},\"id\":\"ea8d1392-f9c5-4ec7-9294-b2b6c2c06d3c\",\"type\":\"ColumnDataSource\"},{\"attributes\":{\"data_source\":{\"id\":\"b1a3d9bd-c359-4a3c-9d4e-3fcf9aaa4d66\",\"type\":\"ColumnDataSource\"},\"glyph\":{\"id\":\"68bfcb23-d005-4899-9454-5c89a618d0f3\",\"type\":\"Rect\"},\"hover_glyph\":null,\"nonselection_glyph\":null,\"selection_glyph\":null},\"id\":\"179dcc93-7503-4da7-aeea-6f96371134d7\",\"type\":\"GlyphRenderer\"},{\"attributes\":{},\"id\":\"34fda941-ba91-4199-a49b-9390f501124a\",\"type\":\"BasicTicker\"},{\"attributes\":{\"callback\":null,\"column_names\":[\"color\",\"fill_alpha\",\"x\",\"label\",\"y\",\"height\",\"line_alpha\",\"width\",\"line_color\"],\"data\":{\"chart_index\":[\"(282.795600, 299.430400]\"],\"color\":[\"#f22c40\"],\"fill_alpha\":[0.8],\"height\":[0.0],\"label\":[\"(282.795600, 299.430400]\"],\"line_alpha\":[1.0],\"line_color\":[\"black\"],\"width\":[16.634799999999984],\"x\":[\"291.113\"],\"y\":[0.0]}},\"id\":\"3468bf57-1602-4795-a2f5-589e33d7f481\",\"type\":\"ColumnDataSource\"},{\"attributes\":{\"data_source\":{\"id\":\"d22d1b5d-654c-458b-99ee-743edc96242e\",\"type\":\"ColumnDataSource\"},\"glyph\":{\"id\":\"39450a41-df26-4ae2-ac2e-7ac58220a3e2\",\"type\":\"Rect\"},\"hover_glyph\":null,\"nonselection_glyph\":null,\"selection_glyph\":null},\"id\":\"afaca777-c76c-4a20-9c31-85471aa0eb2b\",\"type\":\"GlyphRenderer\"},{\"attributes\":{\"bottom_units\":\"screen\",\"fill_alpha\":{\"value\":0.5},\"fill_color\":{\"value\":\"lightgrey\"},\"left_units\":\"screen\",\"level\":\"overlay\",\"line_alpha\":{\"value\":1.0},\"line_color\":{\"value\":\"black\"},\"line_dash\":[4,4],\"line_width\":{\"value\":2},\"plot\":null,\"render_mode\":\"css\",\"right_units\":\"screen\",\"top_units\":\"screen\"},\"id\":\"850a7578-8f96-45fc-9d26-0cf05f309a28\",\"type\":\"BoxAnnotation\"},{\"attributes\":{\"data_source\":{\"id\":\"640b5bb2-cf2f-48fc-8048-097c7b30afc3\",\"type\":\"ColumnDataSource\"},\"glyph\":{\"id\":\"8a7001c4-fa43-4b09-b286-5843f1245a49\",\"type\":\"Rect\"},\"hover_glyph\":null,\"nonselection_glyph\":null,\"selection_glyph\":null},\"id\":\"a660f247-0bd6-487f-8ca5-bf27857f793c\",\"type\":\"GlyphRenderer\"},{\"attributes\":{\"fill_alpha\":{\"field\":\"fill_alpha\"},\"fill_color\":{\"field\":\"color\"},\"height\":{\"field\":\"height\",\"units\":\"data\"},\"line_color\":{\"field\":\"line_color\"},\"width\":{\"field\":\"width\",\"units\":\"data\"},\"x\":{\"field\":\"x\"},\"y\":{\"field\":\"y\"}},\"id\":\"ec9a86a6-83d1-4b73-b6ed-9450965c0090\",\"type\":\"Rect\"},{\"attributes\":{\"data_source\":{\"id\":\"bfae4de4-c475-4aea-8407-6c17f2aefd3f\",\"type\":\"ColumnDataSource\"},\"glyph\":{\"id\":\"82d9c5d3-bc4f-4a85-8660-c64f0bfdc996\",\"type\":\"Rect\"},\"hover_glyph\":null,\"nonselection_glyph\":null,\"selection_glyph\":null},\"id\":\"cf03745a-d7b2-49c9-b87d-1d787a5f74a9\",\"type\":\"GlyphRenderer\"},{\"attributes\":{\"fill_alpha\":{\"field\":\"fill_alpha\"},\"fill_color\":{\"field\":\"color\"},\"height\":{\"field\":\"height\",\"units\":\"data\"},\"line_color\":{\"field\":\"line_color\"},\"width\":{\"field\":\"width\",\"units\":\"data\"},\"x\":{\"field\":\"x\"},\"y\":{\"field\":\"y\"}},\"id\":\"851e2f8b-9679-41e5-bf0f-140fe6e8a613\",\"type\":\"Rect\"},{\"attributes\":{\"data_source\":{\"id\":\"5c1f3d0d-6dba-445a-8bfd-2680cc493bbb\",\"type\":\"ColumnDataSource\"},\"glyph\":{\"id\":\"dba84c01-5620-4a6b-a5a9-b1b9f9899862\",\"type\":\"Rect\"},\"hover_glyph\":null,\"nonselection_glyph\":null,\"selection_glyph\":null},\"id\":\"e0da7bb1-1df0-4829-9036-42da93e40a45\",\"type\":\"GlyphRenderer\"},{\"attributes\":{\"below\":[{\"id\":\"318f05a5-2f4c-42e6-bbd2-0c4a40f84312\",\"type\":\"LinearAxis\"}],\"css_classes\":null,\"left\":[{\"id\":\"07f1c56e-3e1f-4cc7-aadd-38029b221218\",\"type\":\"LinearAxis\"}],\"renderers\":[{\"id\":\"850a7578-8f96-45fc-9d26-0cf05f309a28\",\"type\":\"BoxAnnotation\"},{\"id\":\"ab2c41a5-698a-49f7-9b01-0735b0f30903\",\"type\":\"GlyphRenderer\"},{\"id\":\"afaca777-c76c-4a20-9c31-85471aa0eb2b\",\"type\":\"GlyphRenderer\"},{\"id\":\"6ea464c5-4cca-4a09-84ad-68345e8992de\",\"type\":\"GlyphRenderer\"},{\"id\":\"c74d16a2-aefd-41b4-903a-45f83787b6e5\",\"type\":\"GlyphRenderer\"},{\"id\":\"62e04917-4ae4-4bae-a4f5-316199785105\",\"type\":\"GlyphRenderer\"},{\"id\":\"7dc2c6bc-6a54-473e-afe1-fa2e5ebd789a\",\"type\":\"GlyphRenderer\"},{\"id\":\"b7d9ed61-a3e6-4f21-8bd5-6831f50a1d38\",\"type\":\"GlyphRenderer\"},{\"id\":\"e0da7bb1-1df0-4829-9036-42da93e40a45\",\"type\":\"GlyphRenderer\"},{\"id\":\"42dfc432-459b-4bb2-8d44-429d66cb8868\",\"type\":\"GlyphRenderer\"},{\"id\":\"9fb6851a-d750-426f-a662-48b21bbea284\",\"type\":\"GlyphRenderer\"},{\"id\":\"a00a2b0c-a423-4017-b5ff-42b216276e97\",\"type\":\"GlyphRenderer\"},{\"id\":\"c2caae7a-1a66-41ce-81db-a51515597b76\",\"type\":\"GlyphRenderer\"},{\"id\":\"fe0436f4-3915-4025-bc90-418c2ebc5a9e\",\"type\":\"GlyphRenderer\"},{\"id\":\"7b925321-94ef-4be9-bfcd-eee51bd11c43\",\"type\":\"GlyphRenderer\"},{\"id\":\"0e4449cf-4474-4fff-85d6-eb2a4563eb80\",\"type\":\"GlyphRenderer\"},{\"id\":\"9a9da326-f1ff-4f41-99f3-d5773c6552ce\",\"type\":\"GlyphRenderer\"},{\"id\":\"cf03745a-d7b2-49c9-b87d-1d787a5f74a9\",\"type\":\"GlyphRenderer\"},{\"id\":\"d3e5a922-9162-4fba-ac17-41bf04d69af5\",\"type\":\"GlyphRenderer\"},{\"id\":\"e0f50df7-d0a7-4d86-b37d-fcc29158ea12\",\"type\":\"GlyphRenderer\"},{\"id\":\"3923b176-0049-43c1-8f8e-cfbcbad046a8\",\"type\":\"GlyphRenderer\"},{\"id\":\"cfc6db96-3b24-49f4-b3e2-9168d914636b\",\"type\":\"GlyphRenderer\"},{\"id\":\"fba2bc7a-2ba8-49cc-998a-b726db6a6f42\",\"type\":\"GlyphRenderer\"},{\"id\":\"d641bc0b-3670-4ba8-a4c3-9f48f2ec7338\",\"type\":\"GlyphRenderer\"},{\"id\":\"ecb576eb-1b0b-44b5-a2ce-340cfc987174\",\"type\":\"GlyphRenderer\"},{\"id\":\"5243bb7f-323f-482d-ae3c-67ced60248c4\",\"type\":\"GlyphRenderer\"},{\"id\":\"179dcc93-7503-4da7-aeea-6f96371134d7\",\"type\":\"GlyphRenderer\"},{\"id\":\"3113b85e-054a-4c25-849f-082a24586b17\",\"type\":\"GlyphRenderer\"},{\"id\":\"db7df6d0-fc4b-480e-b0e7-7d5a9f311a48\",\"type\":\"GlyphRenderer\"},{\"id\":\"10c37853-7532-4042-aceb-0b7efb13836f\",\"type\":\"GlyphRenderer\"},{\"id\":\"f8638126-0ae3-447d-9168-1086665bfcbe\",\"type\":\"GlyphRenderer\"},{\"id\":\"a62a7c9a-b317-4a7a-aa11-61ca2bc9cce6\",\"type\":\"GlyphRenderer\"},{\"id\":\"ef98949d-69b2-4fa8-8511-1c1cf7877d7e\",\"type\":\"GlyphRenderer\"},{\"id\":\"ef23dece-a833-41f9-a190-ca9ae9660084\",\"type\":\"GlyphRenderer\"},{\"id\":\"296b203b-93aa-4174-9e66-f15c4ae59aaf\",\"type\":\"GlyphRenderer\"},{\"id\":\"31cb1441-e671-4068-b1d1-b33b1e03de38\",\"type\":\"GlyphRenderer\"},{\"id\":\"11f92b7f-9d8a-44db-b5de-0c72ecfdfb64\",\"type\":\"GlyphRenderer\"},{\"id\":\"b37be0db-6bad-40ad-a4cd-88560ff03ba1\",\"type\":\"GlyphRenderer\"},{\"id\":\"0a4ea312-d307-4f0c-9432-e687f15169f5\",\"type\":\"GlyphRenderer\"},{\"id\":\"777c832d-1075-4180-8491-ea33a7c10486\",\"type\":\"GlyphRenderer\"},{\"id\":\"9bc87d05-f771-4c09-b63d-6f94b817337a\",\"type\":\"GlyphRenderer\"},{\"id\":\"92c47952-9f95-4086-940e-f864cc9d3a18\",\"type\":\"GlyphRenderer\"},{\"id\":\"f0326388-22d4-406d-ac53-a8577788687b\",\"type\":\"GlyphRenderer\"},{\"id\":\"bd49ff61-a82b-4668-8a55-0ff73033efcf\",\"type\":\"GlyphRenderer\"},{\"id\":\"dd8722fa-fb4d-4d5c-8ca9-dbcf8ef4b2a1\",\"type\":\"GlyphRenderer\"},{\"id\":\"a660f247-0bd6-487f-8ca5-bf27857f793c\",\"type\":\"GlyphRenderer\"},{\"id\":\"2690c8c8-ea25-44d2-9fab-34f4e3c9a206\",\"type\":\"GlyphRenderer\"},{\"id\":\"47648ef4-1e6d-450a-bd69-d12f2c295841\",\"type\":\"GlyphRenderer\"},{\"id\":\"555bad9f-d86a-4d60-bfd5-17eb1482ca05\",\"type\":\"GlyphRenderer\"},{\"id\":\"7acedc21-8625-4160-b6ce-f3612d06a213\",\"type\":\"GlyphRenderer\"},{\"id\":\"4b8c0e49-cf61-4c29-9dc3-a9cf1f926bf0\",\"type\":\"GlyphRenderer\"},{\"id\":\"db37b42c-30fc-4dd8-b538-8be66266ab0f\",\"type\":\"Legend\"},{\"id\":\"318f05a5-2f4c-42e6-bbd2-0c4a40f84312\",\"type\":\"LinearAxis\"},{\"id\":\"07f1c56e-3e1f-4cc7-aadd-38029b221218\",\"type\":\"LinearAxis\"},{\"id\":\"c726fa86-c81f-4eae-a0c6-48236a9a2dbf\",\"type\":\"Grid\"}],\"title\":{\"id\":\"cc18d5f0-3ae3-4120-80ce-7f28489dd878\",\"type\":\"Title\"},\"tool_events\":{\"id\":\"47282925-ccc3-4d4d-98d6-de310fafffcb\",\"type\":\"ToolEvents\"},\"toolbar\":{\"id\":\"0804fe3f-fcb5-445b-a33f-a6ac85c87afa\",\"type\":\"Toolbar\"},\"x_mapper_type\":\"auto\",\"x_range\":{\"id\":\"a536819e-902b-42ef-b7ef-aba986165180\",\"type\":\"Range1d\"},\"y_mapper_type\":\"auto\",\"y_range\":{\"id\":\"da4f7484-ee66-49ed-b8ba-ec205359e6ba\",\"type\":\"Range1d\"}},\"id\":\"2e7f76a2-c578-4462-992a-f6e087373475\",\"subtype\":\"Chart\",\"type\":\"Plot\"},{\"attributes\":{\"data_source\":{\"id\":\"3ea62601-6392-4a41-b6c0-24b156f3b224\",\"type\":\"ColumnDataSource\"},\"glyph\":{\"id\":\"2cac6712-4b26-4d34-bd02-9ed3b265b371\",\"type\":\"Rect\"},\"hover_glyph\":null,\"nonselection_glyph\":null,\"selection_glyph\":null},\"id\":\"7dc2c6bc-6a54-473e-afe1-fa2e5ebd789a\",\"type\":\"GlyphRenderer\"},{\"attributes\":{\"callback\":null,\"column_names\":[\"color\",\"fill_alpha\",\"x\",\"label\",\"y\",\"height\",\"line_alpha\",\"width\",\"line_color\"],\"data\":{\"chart_index\":[\"(16.638800, 33.273600]\"],\"color\":[\"#f22c40\"],\"fill_alpha\":[0.8],\"height\":[20307.0],\"label\":[\"(16.638800, 33.273600]\"],\"line_alpha\":[1.0],\"line_color\":[\"black\"],\"width\":[16.634799999999995],\"x\":[\"24.956200000000003\"],\"y\":[10153.5]}},\"id\":\"d22d1b5d-654c-458b-99ee-743edc96242e\",\"type\":\"ColumnDataSource\"},{\"attributes\":{\"fill_alpha\":{\"field\":\"fill_alpha\"},\"fill_color\":{\"field\":\"color\"},\"height\":{\"field\":\"height\",\"units\":\"data\"},\"line_color\":{\"field\":\"line_color\"},\"width\":{\"field\":\"width\",\"units\":\"data\"},\"x\":{\"field\":\"x\"},\"y\":{\"field\":\"y\"}},\"id\":\"d41b8307-cf0c-4edb-8799-cd6af5042bd4\",\"type\":\"Rect\"},{\"attributes\":{\"fill_alpha\":{\"field\":\"fill_alpha\"},\"fill_color\":{\"field\":\"color\"},\"height\":{\"field\":\"height\",\"units\":\"data\"},\"line_color\":{\"field\":\"line_color\"},\"width\":{\"field\":\"width\",\"units\":\"data\"},\"x\":{\"field\":\"x\"},\"y\":{\"field\":\"y\"}},\"id\":\"8a7001c4-fa43-4b09-b286-5843f1245a49\",\"type\":\"Rect\"},{\"attributes\":{\"callback\":null,\"end\":65291.600000000006},\"id\":\"da4f7484-ee66-49ed-b8ba-ec205359e6ba\",\"type\":\"Range1d\"},{\"attributes\":{\"callback\":null,\"column_names\":[\"color\",\"fill_alpha\",\"x\",\"label\",\"y\",\"height\",\"line_alpha\",\"width\",\"line_color\"],\"data\":{\"chart_index\":[\"(199.621600, 216.256400]\"],\"color\":[\"#f22c40\"],\"fill_alpha\":[0.8],\"height\":[0.0],\"label\":[\"(199.621600, 216.256400]\"],\"line_alpha\":[1.0],\"line_color\":[\"black\"],\"width\":[16.634799999999984],\"x\":[\"207.93900000000002\"],\"y\":[0.0]}},\"id\":\"0e9ee620-3613-46f6-94fc-0ab3e560fc3e\",\"type\":\"ColumnDataSource\"},{\"attributes\":{\"dimension\":1,\"plot\":{\"id\":\"2e7f76a2-c578-4462-992a-f6e087373475\",\"subtype\":\"Chart\",\"type\":\"Plot\"},\"ticker\":{\"id\":\"1e05118e-6ee1-472e-9589-7d1ec101681f\",\"type\":\"BasicTicker\"}},\"id\":\"c726fa86-c81f-4eae-a0c6-48236a9a2dbf\",\"type\":\"Grid\"},{\"attributes\":{\"callback\":null,\"column_names\":[\"color\",\"fill_alpha\",\"x\",\"label\",\"y\",\"height\",\"line_alpha\",\"width\",\"line_color\"],\"data\":{\"chart_index\":[\"(665.396000, 682.030800]\"],\"color\":[\"#f22c40\"],\"fill_alpha\":[0.8],\"height\":[0.0],\"label\":[\"(665.396000, 682.030800]\"],\"line_alpha\":[1.0],\"line_color\":[\"black\"],\"width\":[16.63480000000004],\"x\":[\"673.7134\"],\"y\":[0.0]}},\"id\":\"3976e54d-7e2c-4621-81a7-a62cfa5b6e87\",\"type\":\"ColumnDataSource\"},{\"attributes\":{\"fill_alpha\":{\"field\":\"fill_alpha\"},\"fill_color\":{\"field\":\"color\"},\"height\":{\"field\":\"height\",\"units\":\"data\"},\"line_color\":{\"field\":\"line_color\"},\"width\":{\"field\":\"width\",\"units\":\"data\"},\"x\":{\"field\":\"x\"},\"y\":{\"field\":\"y\"}},\"id\":\"69f22591-6206-40d0-a7a7-be2e4d5d3232\",\"type\":\"Rect\"},{\"attributes\":{\"plot\":{\"id\":\"2e7f76a2-c578-4462-992a-f6e087373475\",\"subtype\":\"Chart\",\"type\":\"Plot\"}},\"id\":\"345566f6-956b-4519-b40d-5c8fd59c9a8d\",\"type\":\"WheelZoomTool\"},{\"attributes\":{\"fill_alpha\":{\"field\":\"fill_alpha\"},\"fill_color\":{\"field\":\"color\"},\"height\":{\"field\":\"height\",\"units\":\"data\"},\"line_color\":{\"field\":\"line_color\"},\"width\":{\"field\":\"width\",\"units\":\"data\"},\"x\":{\"field\":\"x\"},\"y\":{\"field\":\"y\"}},\"id\":\"462b0710-bbca-4273-9ae8-ea41686ea4ce\",\"type\":\"Rect\"},{\"attributes\":{\"fill_alpha\":{\"field\":\"fill_alpha\"},\"fill_color\":{\"field\":\"color\"},\"height\":{\"field\":\"height\",\"units\":\"data\"},\"line_color\":{\"field\":\"line_color\"},\"width\":{\"field\":\"width\",\"units\":\"data\"},\"x\":{\"field\":\"x\"},\"y\":{\"field\":\"y\"}},\"id\":\"30eab2c3-adbe-44fa-b247-9e67496162d5\",\"type\":\"Rect\"},{\"attributes\":{\"fill_alpha\":{\"field\":\"fill_alpha\"},\"fill_color\":{\"field\":\"color\"},\"height\":{\"field\":\"height\",\"units\":\"data\"},\"line_color\":{\"field\":\"line_color\"},\"width\":{\"field\":\"width\",\"units\":\"data\"},\"x\":{\"field\":\"x\"},\"y\":{\"field\":\"y\"}},\"id\":\"bbf55f04-44e6-4888-9f45-09c6304437a3\",\"type\":\"Rect\"},{\"attributes\":{\"data_source\":{\"id\":\"bce8a99e-2d60-449f-8e29-8ea34f57e439\",\"type\":\"ColumnDataSource\"},\"glyph\":{\"id\":\"69880990-35d5-47d5-b5de-22dadd4ed387\",\"type\":\"Rect\"},\"hover_glyph\":null,\"nonselection_glyph\":null,\"selection_glyph\":null},\"id\":\"6ea464c5-4cca-4a09-84ad-68345e8992de\",\"type\":\"GlyphRenderer\"},{\"attributes\":{\"fill_alpha\":{\"field\":\"fill_alpha\"},\"fill_color\":{\"field\":\"color\"},\"height\":{\"field\":\"height\",\"units\":\"data\"},\"line_color\":{\"field\":\"line_color\"},\"width\":{\"field\":\"width\",\"units\":\"data\"},\"x\":{\"field\":\"x\"},\"y\":{\"field\":\"y\"}},\"id\":\"4aea8924-a48c-47ab-aa07-2e025fb319af\",\"type\":\"Rect\"},{\"attributes\":{\"data_source\":{\"id\":\"db947052-3038-419b-91af-4e95768c95c4\",\"type\":\"ColumnDataSource\"},\"glyph\":{\"id\":\"69f22591-6206-40d0-a7a7-be2e4d5d3232\",\"type\":\"Rect\"},\"hover_glyph\":null,\"nonselection_glyph\":null,\"selection_glyph\":null},\"id\":\"5243bb7f-323f-482d-ae3c-67ced60248c4\",\"type\":\"GlyphRenderer\"},{\"attributes\":{\"callback\":null,\"column_names\":[\"color\",\"fill_alpha\",\"x\",\"label\",\"y\",\"height\",\"line_alpha\",\"width\",\"line_color\"],\"data\":{\"chart_index\":[\"(499.048000, 515.682800]\"],\"color\":[\"#f22c40\"],\"fill_alpha\":[0.8],\"height\":[0.0],\"label\":[\"(499.048000, 515.682800]\"],\"line_alpha\":[1.0],\"line_color\":[\"black\"],\"width\":[16.634799999999927],\"x\":[\"507.3654\"],\"y\":[0.0]}},\"id\":\"5c43f0fb-711f-4496-9c3f-be02f91d49cc\",\"type\":\"ColumnDataSource\"},{\"attributes\":{\"callback\":null,\"column_names\":[\"color\",\"fill_alpha\",\"x\",\"label\",\"y\",\"height\",\"line_alpha\",\"width\",\"line_color\"],\"data\":{\"chart_index\":[\"(399.239200, 415.874000]\"],\"color\":[\"#f22c40\"],\"fill_alpha\":[0.8],\"height\":[0.0],\"label\":[\"(399.239200, 415.874000]\"],\"line_alpha\":[1.0],\"line_color\":[\"black\"],\"width\":[16.634799999999984],\"x\":[\"407.5566\"],\"y\":[0.0]}},\"id\":\"db947052-3038-419b-91af-4e95768c95c4\",\"type\":\"ColumnDataSource\"},{\"attributes\":{\"callback\":null,\"column_names\":[\"color\",\"fill_alpha\",\"x\",\"label\",\"y\",\"height\",\"line_alpha\",\"width\",\"line_color\"],\"data\":{\"chart_index\":[\"(299.430400, 316.065200]\"],\"color\":[\"#f22c40\"],\"fill_alpha\":[0.8],\"height\":[0.0],\"label\":[\"(299.430400, 316.065200]\"],\"line_alpha\":[1.0],\"line_color\":[\"black\"],\"width\":[16.63480000000004],\"x\":[\"307.7478\"],\"y\":[0.0]}},\"id\":\"643098a3-1dee-449c-945f-571e499fe6f0\",\"type\":\"ColumnDataSource\"},{\"attributes\":{\"fill_alpha\":{\"field\":\"fill_alpha\"},\"fill_color\":{\"field\":\"color\"},\"height\":{\"field\":\"height\",\"units\":\"data\"},\"line_color\":{\"field\":\"line_color\"},\"width\":{\"field\":\"width\",\"units\":\"data\"},\"x\":{\"field\":\"x\"},\"y\":{\"field\":\"y\"}},\"id\":\"1ec93b51-b3e8-4189-9b07-6459c776cde0\",\"type\":\"Rect\"},{\"attributes\":{\"callback\":null,\"column_names\":[\"color\",\"fill_alpha\",\"x\",\"label\",\"y\",\"height\",\"line_alpha\",\"width\",\"line_color\"],\"data\":{\"chart_index\":[\"(415.874000, 432.508800]\"],\"color\":[\"#f22c40\"],\"fill_alpha\":[0.8],\"height\":[0.0],\"label\":[\"(415.874000, 432.508800]\"],\"line_alpha\":[1.0],\"line_color\":[\"black\"],\"width\":[16.634799999999984],\"x\":[\"424.19140000000004\"],\"y\":[0.0]}},\"id\":\"b1a3d9bd-c359-4a3c-9d4e-3fcf9aaa4d66\",\"type\":\"ColumnDataSource\"},{\"attributes\":{\"data_source\":{\"id\":\"677116e8-3316-4950-bf21-2018ab1f62d1\",\"type\":\"ColumnDataSource\"},\"glyph\":{\"id\":\"b3b00d83-2675-48f4-a9ef-b0e34622a8d1\",\"type\":\"Rect\"},\"hover_glyph\":null,\"nonselection_glyph\":null,\"selection_glyph\":null},\"id\":\"9a9da326-f1ff-4f41-99f3-d5773c6552ce\",\"type\":\"GlyphRenderer\"},{\"attributes\":{\"data_source\":{\"id\":\"ea8d1392-f9c5-4ec7-9294-b2b6c2c06d3c\",\"type\":\"ColumnDataSource\"},\"glyph\":{\"id\":\"c4193536-fe53-4a55-ba16-f36176d8ff63\",\"type\":\"Rect\"},\"hover_glyph\":null,\"nonselection_glyph\":null,\"selection_glyph\":null},\"id\":\"47648ef4-1e6d-450a-bd69-d12f2c295841\",\"type\":\"GlyphRenderer\"},{\"attributes\":{\"data_source\":{\"id\":\"5c43f0fb-711f-4496-9c3f-be02f91d49cc\",\"type\":\"ColumnDataSource\"},\"glyph\":{\"id\":\"e3e7f15d-a22f-444c-8016-9e358c2b859e\",\"type\":\"Rect\"},\"hover_glyph\":null,\"nonselection_glyph\":null,\"selection_glyph\":null},\"id\":\"a62a7c9a-b317-4a7a-aa11-61ca2bc9cce6\",\"type\":\"GlyphRenderer\"},{\"attributes\":{\"fill_alpha\":{\"field\":\"fill_alpha\"},\"fill_color\":{\"field\":\"color\"},\"height\":{\"field\":\"height\",\"units\":\"data\"},\"line_color\":{\"field\":\"line_color\"},\"width\":{\"field\":\"width\",\"units\":\"data\"},\"x\":{\"field\":\"x\"},\"y\":{\"field\":\"y\"}},\"id\":\"d6a6e8d7-e805-471f-996d-631eefb9cc20\",\"type\":\"Rect\"},{\"attributes\":{\"data_source\":{\"id\":\"ba1e7bce-cc4f-41fd-b15d-6887c3f34b76\",\"type\":\"ColumnDataSource\"},\"glyph\":{\"id\":\"5eeda6d2-58a2-40d0-8952-8f3304faf345\",\"type\":\"Rect\"},\"hover_glyph\":null,\"nonselection_glyph\":null,\"selection_glyph\":null},\"id\":\"c74d16a2-aefd-41b4-903a-45f83787b6e5\",\"type\":\"GlyphRenderer\"},{\"attributes\":{\"callback\":null,\"column_names\":[\"color\",\"fill_alpha\",\"x\",\"label\",\"y\",\"height\",\"line_alpha\",\"width\",\"line_color\"],\"data\":{\"chart_index\":[\"(149.717200, 166.352000]\"],\"color\":[\"#f22c40\"],\"fill_alpha\":[0.8],\"height\":[0.0],\"label\":[\"(149.717200, 166.352000]\"],\"line_alpha\":[1.0],\"line_color\":[\"black\"],\"width\":[16.634800000000013],\"x\":[\"158.0346\"],\"y\":[0.0]}},\"id\":\"ed605327-1e5b-4be2-9774-9128d569c488\",\"type\":\"ColumnDataSource\"},{\"attributes\":{\"plot\":{\"id\":\"2e7f76a2-c578-4462-992a-f6e087373475\",\"subtype\":\"Chart\",\"type\":\"Plot\"}},\"id\":\"a728aa1e-3689-4db2-a15b-0a90dde8ce3a\",\"type\":\"HelpTool\"},{\"attributes\":{\"callback\":null,\"column_names\":[\"color\",\"fill_alpha\",\"x\",\"label\",\"y\",\"height\",\"line_alpha\",\"width\",\"line_color\"],\"data\":{\"chart_index\":[\"(99.812800, 116.447600]\"],\"color\":[\"#f22c40\"],\"fill_alpha\":[0.8],\"height\":[0.0],\"label\":[\"(99.812800, 116.447600]\"],\"line_alpha\":[1.0],\"line_color\":[\"black\"],\"width\":[16.6348],\"x\":[\"108.1302\"],\"y\":[0.0]}},\"id\":\"324001b1-f75b-46b4-9b15-c03acd735e2d\",\"type\":\"ColumnDataSource\"},{\"attributes\":{\"callback\":null,\"column_names\":[\"color\",\"fill_alpha\",\"x\",\"label\",\"y\",\"height\",\"line_alpha\",\"width\",\"line_color\"],\"data\":{\"chart_index\":[\"(449.143600, 465.778400]\"],\"color\":[\"#f22c40\"],\"fill_alpha\":[0.8],\"height\":[0.0],\"label\":[\"(449.143600, 465.778400]\"],\"line_alpha\":[1.0],\"line_color\":[\"black\"],\"width\":[16.634799999999984],\"x\":[\"457.461\"],\"y\":[0.0]}},\"id\":\"86d5081a-7b58-47bf-97c3-ccb790c0b139\",\"type\":\"ColumnDataSource\"},{\"attributes\":{},\"id\":\"f182755c-8f31-4136-bb85-388510b0dc84\",\"type\":\"BasicTickFormatter\"},{\"attributes\":{\"callback\":null,\"column_names\":[\"color\",\"fill_alpha\",\"x\",\"label\",\"y\",\"height\",\"line_alpha\",\"width\",\"line_color\"],\"data\":{\"chart_index\":[\"(133.082400, 149.717200]\"],\"color\":[\"#f22c40\"],\"fill_alpha\":[0.8],\"height\":[0.0],\"label\":[\"(133.082400, 149.717200]\"],\"line_alpha\":[1.0],\"line_color\":[\"black\"],\"width\":[16.634799999999984],\"x\":[\"141.3998\"],\"y\":[0.0]}},\"id\":\"75c1eac6-6ad3-4188-b3d2-14a80a4a32ee\",\"type\":\"ColumnDataSource\"},{\"attributes\":{\"callback\":null,\"column_names\":[\"color\",\"fill_alpha\",\"x\",\"label\",\"y\",\"height\",\"line_alpha\",\"width\",\"line_color\"],\"data\":{\"chart_index\":[\"(116.447600, 133.082400]\"],\"color\":[\"#f22c40\"],\"fill_alpha\":[0.8],\"height\":[0.0],\"label\":[\"(116.447600, 133.082400]\"],\"line_alpha\":[1.0],\"line_color\":[\"black\"],\"width\":[16.634799999999984],\"x\":[\"124.765\"],\"y\":[0.0]}},\"id\":\"5c1f3d0d-6dba-445a-8bfd-2680cc493bbb\",\"type\":\"ColumnDataSource\"},{\"attributes\":{},\"id\":\"7798ec97-0907-449c-8ebe-d6347633e0a3\",\"type\":\"BasicTickFormatter\"},{\"attributes\":{\"callback\":null,\"column_names\":[\"color\",\"fill_alpha\",\"x\",\"label\",\"y\",\"height\",\"line_alpha\",\"width\",\"line_color\"],\"data\":{\"chart_index\":[\"(182.986800, 199.621600]\"],\"color\":[\"#f22c40\"],\"fill_alpha\":[0.8],\"height\":[0.0],\"label\":[\"(182.986800, 199.621600]\"],\"line_alpha\":[1.0],\"line_color\":[\"black\"],\"width\":[16.634799999999984],\"x\":[\"191.30419999999998\"],\"y\":[0.0]}},\"id\":\"a6b8bba6-5727-4707-811e-0477b4143d19\",\"type\":\"ColumnDataSource\"},{\"attributes\":{\"fill_alpha\":{\"field\":\"fill_alpha\"},\"fill_color\":{\"field\":\"color\"},\"height\":{\"field\":\"height\",\"units\":\"data\"},\"line_color\":{\"field\":\"line_color\"},\"width\":{\"field\":\"width\",\"units\":\"data\"},\"x\":{\"field\":\"x\"},\"y\":{\"field\":\"y\"}},\"id\":\"346bffac-fc72-4bdd-a833-2acd2c866848\",\"type\":\"Rect\"},{\"attributes\":{},\"id\":\"1e05118e-6ee1-472e-9589-7d1ec101681f\",\"type\":\"BasicTicker\"},{\"attributes\":{\"data_source\":{\"id\":\"4b88a37a-c7d7-4188-972f-b25a065e57b1\",\"type\":\"ColumnDataSource\"},\"glyph\":{\"id\":\"a517443f-adcf-45a8-a914-e3512fd8c7ca\",\"type\":\"Rect\"},\"hover_glyph\":null,\"nonselection_glyph\":null,\"selection_glyph\":null},\"id\":\"0e4449cf-4474-4fff-85d6-eb2a4563eb80\",\"type\":\"GlyphRenderer\"},{\"attributes\":{\"fill_alpha\":{\"field\":\"fill_alpha\"},\"fill_color\":{\"field\":\"color\"},\"height\":{\"field\":\"height\",\"units\":\"data\"},\"line_color\":{\"field\":\"line_color\"},\"width\":{\"field\":\"width\",\"units\":\"data\"},\"x\":{\"field\":\"x\"},\"y\":{\"field\":\"y\"}},\"id\":\"b43d0531-48e2-4d9a-8379-150d9e687c18\",\"type\":\"Rect\"},{\"attributes\":{\"callback\":null,\"column_names\":[\"color\",\"fill_alpha\",\"x\",\"label\",\"y\",\"height\",\"line_alpha\",\"width\",\"line_color\"],\"data\":{\"chart_index\":[\"(249.526000, 266.160800]\"],\"color\":[\"#f22c40\"],\"fill_alpha\":[0.8],\"height\":[0.0],\"label\":[\"(249.526000, 266.160800]\"],\"line_alpha\":[1.0],\"line_color\":[\"black\"],\"width\":[16.634800000000013],\"x\":[\"257.8434\"],\"y\":[0.0]}},\"id\":\"677116e8-3316-4950-bf21-2018ab1f62d1\",\"type\":\"ColumnDataSource\"},{\"attributes\":{\"data_source\":{\"id\":\"6c0db7c3-82ef-48c4-bab5-f7607ad96e5e\",\"type\":\"ColumnDataSource\"},\"glyph\":{\"id\":\"451bb5e4-dc63-4c2f-a5b9-020a14feb256\",\"type\":\"Rect\"},\"hover_glyph\":null,\"nonselection_glyph\":null,\"selection_glyph\":null},\"id\":\"f0326388-22d4-406d-ac53-a8577788687b\",\"type\":\"GlyphRenderer\"},{\"attributes\":{\"fill_alpha\":{\"field\":\"fill_alpha\"},\"fill_color\":{\"field\":\"color\"},\"height\":{\"field\":\"height\",\"units\":\"data\"},\"line_color\":{\"field\":\"line_color\"},\"width\":{\"field\":\"width\",\"units\":\"data\"},\"x\":{\"field\":\"x\"},\"y\":{\"field\":\"y\"}},\"id\":\"53769ae6-a8b0-4ddc-8a2d-bfc6536d7aa2\",\"type\":\"Rect\"}],\"root_ids\":[\"2e7f76a2-c578-4462-992a-f6e087373475\"]},\"title\":\"Bokeh Application\",\"version\":\"0.12.4\"}};\n",
       "            var render_items = [{\"docid\":\"4480c4e4-31bd-4ae0-96b3-8bfd0daf0231\",\"elementid\":\"09fd6fd2-c8c9-4b93-b0c6-5e227f2d2c88\",\"modelid\":\"2e7f76a2-c578-4462-992a-f6e087373475\"}];\n",
       "            \n",
       "            Bokeh.embed.embed_items(docs_json, render_items);\n",
       "          };\n",
       "          if (document.readyState != \"loading\") fn();\n",
       "          else document.addEventListener(\"DOMContentLoaded\", fn);\n",
       "        })();\n",
       "      },\n",
       "      function(Bokeh) {\n",
       "      }\n",
       "    ];\n",
       "  \n",
       "    function run_inline_js() {\n",
       "      \n",
       "      if ((window.Bokeh !== undefined) || (force === true)) {\n",
       "        for (var i = 0; i < inline_js.length; i++) {\n",
       "          inline_js[i](window.Bokeh);\n",
       "        }if (force === true) {\n",
       "          display_loaded();\n",
       "        }} else if (Date.now() < window._bokeh_timeout) {\n",
       "        setTimeout(run_inline_js, 100);\n",
       "      } else if (!window._bokeh_failed_load) {\n",
       "        console.log(\"Bokeh: BokehJS failed to load within specified timeout.\");\n",
       "        window._bokeh_failed_load = true;\n",
       "      } else if (force !== true) {\n",
       "        var cell = $(document.getElementById(\"09fd6fd2-c8c9-4b93-b0c6-5e227f2d2c88\")).parents('.cell').data().cell;\n",
       "        cell.output_area.append_execute_result(NB_LOAD_WARNING)\n",
       "      }\n",
       "  \n",
       "    }\n",
       "  \n",
       "    if (window._bokeh_is_loading === 0) {\n",
       "      console.log(\"Bokeh: BokehJS loaded, going straight to plotting\");\n",
       "      run_inline_js();\n",
       "    } else {\n",
       "      load_libs(js_urls, function() {\n",
       "        console.log(\"Bokeh: BokehJS plotting callback run at\", now());\n",
       "        run_inline_js();\n",
       "      });\n",
       "    }\n",
       "  }(this));\n",
       "</script>"
      ]
     },
     "metadata": {},
     "output_type": "display_data"
    }
   ],
   "source": [
    "p = Histogram(merra2_tavg.drop_duplicates('Checksum')['Size']/1000, bins=50,\n",
    "             xlabel='Byte Stream Size (kilobytes)')\n",
    "show(p)"
   ]
  },
  {
   "cell_type": "code",
   "execution_count": 48,
   "metadata": {
    "collapsed": false
   },
   "outputs": [
    {
     "data": {
      "text/plain": [
       "count     81057.000000\n",
       "mean      48007.421395\n",
       "std       97027.972354\n",
       "min           4.000000\n",
       "25%       33161.000000\n",
       "50%       37944.000000\n",
       "75%       40204.000000\n",
       "max      831744.000000\n",
       "Name: Size, dtype: float64"
      ]
     },
     "execution_count": 48,
     "metadata": {},
     "output_type": "execute_result"
    }
   ],
   "source": [
    "merra2_tavg.drop_duplicates('Checksum')['Size'].describe()"
   ]
  },
  {
   "cell_type": "markdown",
   "metadata": {
    "collapsed": true
   },
   "source": [
    "### Datasets"
   ]
  },
  {
   "cell_type": "markdown",
   "metadata": {},
   "source": [
    "#### How many datasets per file?"
   ]
  },
  {
   "cell_type": "code",
   "execution_count": 49,
   "metadata": {
    "collapsed": true
   },
   "outputs": [],
   "source": [
    "grp = merra2_tavg.groupby('File')"
   ]
  },
  {
   "cell_type": "code",
   "execution_count": 50,
   "metadata": {
    "collapsed": false
   },
   "outputs": [
    {
     "data": {
      "text/plain": [
       "count    67.0\n",
       "mean     97.0\n",
       "std       0.0\n",
       "min      97.0\n",
       "25%      97.0\n",
       "50%      97.0\n",
       "75%      97.0\n",
       "max      97.0\n",
       "Name: Dataset, dtype: float64"
      ]
     },
     "execution_count": 50,
     "metadata": {},
     "output_type": "execute_result"
    }
   ],
   "source": [
    "grp.Dataset.unique().apply(lambda l: len(l)).describe()"
   ]
  },
  {
   "cell_type": "markdown",
   "metadata": {},
   "source": [
    "#### Is every dataset in every file chunked?"
   ]
  },
  {
   "cell_type": "code",
   "execution_count": 51,
   "metadata": {
    "collapsed": true
   },
   "outputs": [],
   "source": [
    "grp = merra2_tavg.groupby(['File', 'Dataset'])"
   ]
  },
  {
   "cell_type": "code",
   "execution_count": 52,
   "metadata": {
    "collapsed": false
   },
   "outputs": [
    {
     "data": {
      "text/plain": [
       "False"
      ]
     },
     "execution_count": 52,
     "metadata": {},
     "output_type": "execute_result"
    }
   ],
   "source": [
    "grp.Chunk_Flag.agg(all).all()"
   ]
  },
  {
   "cell_type": "markdown",
   "metadata": {},
   "source": [
    "#### How many byte streams per dataset?"
   ]
  },
  {
   "cell_type": "code",
   "execution_count": 53,
   "metadata": {
    "collapsed": false
   },
   "outputs": [
    {
     "data": {
      "text/plain": [
       "count    6499.000000\n",
       "mean       12.715649\n",
       "std         6.203566\n",
       "min         1.000000\n",
       "25%        16.000000\n",
       "50%        16.000000\n",
       "75%        16.000000\n",
       "max        16.000000\n",
       "Name: UUID, dtype: float64"
      ]
     },
     "execution_count": 53,
     "metadata": {},
     "output_type": "execute_result"
    }
   ],
   "source": [
    "grp.UUID.count().describe()"
   ]
  },
  {
   "cell_type": "code",
   "execution_count": 54,
   "metadata": {
    "collapsed": false
   },
   "outputs": [
    {
     "data": {
      "text/html": [
       "\n",
       "\n",
       "    <div class=\"bk-root\">\n",
       "        <div class=\"bk-plotdiv\" id=\"c4ef0d16-d447-487b-93b9-3b76d26095e3\"></div>\n",
       "    </div>\n",
       "<script type=\"text/javascript\">\n",
       "  \n",
       "  (function(global) {\n",
       "    function now() {\n",
       "      return new Date();\n",
       "    }\n",
       "  \n",
       "    var force = false;\n",
       "  \n",
       "    if (typeof (window._bokeh_onload_callbacks) === \"undefined\" || force === true) {\n",
       "      window._bokeh_onload_callbacks = [];\n",
       "      window._bokeh_is_loading = undefined;\n",
       "    }\n",
       "  \n",
       "  \n",
       "    \n",
       "    if (typeof (window._bokeh_timeout) === \"undefined\" || force === true) {\n",
       "      window._bokeh_timeout = Date.now() + 0;\n",
       "      window._bokeh_failed_load = false;\n",
       "    }\n",
       "  \n",
       "    var NB_LOAD_WARNING = {'data': {'text/html':\n",
       "       \"<div style='background-color: #fdd'>\\n\"+\n",
       "       \"<p>\\n\"+\n",
       "       \"BokehJS does not appear to have successfully loaded. If loading BokehJS from CDN, this \\n\"+\n",
       "       \"may be due to a slow or bad network connection. Possible fixes:\\n\"+\n",
       "       \"</p>\\n\"+\n",
       "       \"<ul>\\n\"+\n",
       "       \"<li>re-rerun `output_notebook()` to attempt to load from CDN again, or</li>\\n\"+\n",
       "       \"<li>use INLINE resources instead, as so:</li>\\n\"+\n",
       "       \"</ul>\\n\"+\n",
       "       \"<code>\\n\"+\n",
       "       \"from bokeh.resources import INLINE\\n\"+\n",
       "       \"output_notebook(resources=INLINE)\\n\"+\n",
       "       \"</code>\\n\"+\n",
       "       \"</div>\"}};\n",
       "  \n",
       "    function display_loaded() {\n",
       "      if (window.Bokeh !== undefined) {\n",
       "        document.getElementById(\"c4ef0d16-d447-487b-93b9-3b76d26095e3\").textContent = \"BokehJS successfully loaded.\";\n",
       "      } else if (Date.now() < window._bokeh_timeout) {\n",
       "        setTimeout(display_loaded, 100)\n",
       "      }\n",
       "    }\n",
       "  \n",
       "    function run_callbacks() {\n",
       "      window._bokeh_onload_callbacks.forEach(function(callback) { callback() });\n",
       "      delete window._bokeh_onload_callbacks\n",
       "      console.info(\"Bokeh: all callbacks have finished\");\n",
       "    }\n",
       "  \n",
       "    function load_libs(js_urls, callback) {\n",
       "      window._bokeh_onload_callbacks.push(callback);\n",
       "      if (window._bokeh_is_loading > 0) {\n",
       "        console.log(\"Bokeh: BokehJS is being loaded, scheduling callback at\", now());\n",
       "        return null;\n",
       "      }\n",
       "      if (js_urls == null || js_urls.length === 0) {\n",
       "        run_callbacks();\n",
       "        return null;\n",
       "      }\n",
       "      console.log(\"Bokeh: BokehJS not loaded, scheduling load and callback at\", now());\n",
       "      window._bokeh_is_loading = js_urls.length;\n",
       "      for (var i = 0; i < js_urls.length; i++) {\n",
       "        var url = js_urls[i];\n",
       "        var s = document.createElement('script');\n",
       "        s.src = url;\n",
       "        s.async = false;\n",
       "        s.onreadystatechange = s.onload = function() {\n",
       "          window._bokeh_is_loading--;\n",
       "          if (window._bokeh_is_loading === 0) {\n",
       "            console.log(\"Bokeh: all BokehJS libraries loaded\");\n",
       "            run_callbacks()\n",
       "          }\n",
       "        };\n",
       "        s.onerror = function() {\n",
       "          console.warn(\"failed to load library \" + url);\n",
       "        };\n",
       "        console.log(\"Bokeh: injecting script tag for BokehJS library: \", url);\n",
       "        document.getElementsByTagName(\"head\")[0].appendChild(s);\n",
       "      }\n",
       "    };var element = document.getElementById(\"c4ef0d16-d447-487b-93b9-3b76d26095e3\");\n",
       "    if (element == null) {\n",
       "      console.log(\"Bokeh: ERROR: autoload.js configured with elementid 'c4ef0d16-d447-487b-93b9-3b76d26095e3' but no matching script tag was found. \")\n",
       "      return false;\n",
       "    }\n",
       "  \n",
       "    var js_urls = [];\n",
       "  \n",
       "    var inline_js = [\n",
       "      function(Bokeh) {\n",
       "        (function() {\n",
       "          var fn = function() {\n",
       "            var docs_json = {\"2b41aa47-d3ba-4cce-af39-00b282a5c6ee\":{\"roots\":{\"references\":[{\"attributes\":{\"below\":[{\"id\":\"0dd0949c-5ecb-45e9-9040-3d3607fb982f\",\"type\":\"LinearAxis\"}],\"css_classes\":null,\"left\":[{\"id\":\"ef2726f8-6c8d-407b-9609-b2dd4eb557ec\",\"type\":\"LinearAxis\"}],\"renderers\":[{\"id\":\"6c8cf43f-8b86-4801-bdf7-ac9767c2f875\",\"type\":\"BoxAnnotation\"},{\"id\":\"3c3e5dc1-bb54-4316-bd52-8877380429b9\",\"type\":\"GlyphRenderer\"},{\"id\":\"b4f3028a-b87c-4794-8bcc-0199bfb0c395\",\"type\":\"GlyphRenderer\"},{\"id\":\"1131254d-8208-4a66-8266-5443aac4d445\",\"type\":\"GlyphRenderer\"},{\"id\":\"dc8f3cdf-9366-4f98-a9c5-640700629514\",\"type\":\"GlyphRenderer\"},{\"id\":\"8be8b28b-d3a8-4289-8980-a62b0d82999b\",\"type\":\"GlyphRenderer\"},{\"id\":\"26acfaed-203c-45e2-a19c-64f88501233a\",\"type\":\"GlyphRenderer\"},{\"id\":\"8b0eec4d-55b5-44c4-8722-1aad98e9ae96\",\"type\":\"GlyphRenderer\"},{\"id\":\"eebd282b-8dd0-456e-96d8-c56cc61cfc0c\",\"type\":\"GlyphRenderer\"},{\"id\":\"32c19dc9-bccc-45e5-89de-febfd4948d2d\",\"type\":\"GlyphRenderer\"},{\"id\":\"33cd66a9-1af5-4cc4-b83d-0d380d3ea1f5\",\"type\":\"GlyphRenderer\"},{\"id\":\"708edee6-0a08-47c0-9ff6-9602a3901bbf\",\"type\":\"GlyphRenderer\"},{\"id\":\"d272c651-a688-4709-8696-93f7b096c39a\",\"type\":\"GlyphRenderer\"},{\"id\":\"0e8c7a05-3045-4afc-aad4-60d7dec9ddda\",\"type\":\"GlyphRenderer\"},{\"id\":\"36f39551-c38e-4153-aebb-e7d7702b7cbf\",\"type\":\"GlyphRenderer\"},{\"id\":\"8516ca9f-58b0-43c0-b1fe-48422e9af16a\",\"type\":\"GlyphRenderer\"},{\"id\":\"8c63c60a-20ed-4662-976d-962f968ccff3\",\"type\":\"GlyphRenderer\"},{\"id\":\"362b8b11-020d-48c4-857a-7d512e2133d1\",\"type\":\"Legend\"},{\"id\":\"0dd0949c-5ecb-45e9-9040-3d3607fb982f\",\"type\":\"LinearAxis\"},{\"id\":\"ef2726f8-6c8d-407b-9609-b2dd4eb557ec\",\"type\":\"LinearAxis\"},{\"id\":\"d240300e-ba1c-4596-8722-16f05696f54d\",\"type\":\"Grid\"}],\"title\":{\"id\":\"779a7c82-1057-48ae-857e-cbe36650c1d0\",\"type\":\"Title\"},\"tool_events\":{\"id\":\"1e496510-68bd-4ded-8989-03081cccda36\",\"type\":\"ToolEvents\"},\"toolbar\":{\"id\":\"77af97c4-68fc-4897-a2b0-995bbafe5af6\",\"type\":\"Toolbar\"},\"x_mapper_type\":\"auto\",\"x_range\":{\"id\":\"a1669d18-b888-4bae-a3bd-364c95391e8a\",\"type\":\"Range1d\"},\"y_mapper_type\":\"auto\",\"y_range\":{\"id\":\"fea096f5-df97-4b47-9a4d-4f9e7ab5f8de\",\"type\":\"Range1d\"}},\"id\":\"6e547517-996c-41e9-9fa4-b56a5681767d\",\"subtype\":\"Chart\",\"type\":\"Plot\"},{\"attributes\":{\"overlay\":{\"id\":\"6c8cf43f-8b86-4801-bdf7-ac9767c2f875\",\"type\":\"BoxAnnotation\"},\"plot\":{\"id\":\"6e547517-996c-41e9-9fa4-b56a5681767d\",\"subtype\":\"Chart\",\"type\":\"Plot\"}},\"id\":\"24fd6472-b86a-4178-a9b2-1dcd074a0af8\",\"type\":\"BoxZoomTool\"},{\"attributes\":{\"callback\":null,\"column_names\":[\"color\",\"fill_alpha\",\"x\",\"label\",\"y\",\"height\",\"line_alpha\",\"width\",\"line_color\"],\"data\":{\"chart_index\":[\"(9.500000, 10.500000]\"],\"color\":[\"#f22c40\"],\"fill_alpha\":[0.8],\"height\":[0.0],\"label\":[\"(9.500000, 10.500000]\"],\"line_alpha\":[1.0],\"line_color\":[\"black\"],\"width\":[1.0],\"x\":[\"10.0\"],\"y\":[0.0]}},\"id\":\"6c427042-a7a9-46f6-ba8d-440ed8d4aa35\",\"type\":\"ColumnDataSource\"},{\"attributes\":{\"plot\":{\"id\":\"6e547517-996c-41e9-9fa4-b56a5681767d\",\"subtype\":\"Chart\",\"type\":\"Plot\"}},\"id\":\"03e80db9-d973-44ed-80f8-090bd2007eb7\",\"type\":\"ResetTool\"},{\"attributes\":{\"callback\":null,\"column_names\":[\"color\",\"fill_alpha\",\"x\",\"label\",\"y\",\"height\",\"line_alpha\",\"width\",\"line_color\"],\"data\":{\"chart_index\":[\"(10.500000, 11.500000]\"],\"color\":[\"#f22c40\"],\"fill_alpha\":[0.8],\"height\":[0.0],\"label\":[\"(10.500000, 11.500000]\"],\"line_alpha\":[1.0],\"line_color\":[\"black\"],\"width\":[1.0],\"x\":[\"11.0\"],\"y\":[0.0]}},\"id\":\"df159d4c-25c5-41a2-8beb-9ea3677e72a9\",\"type\":\"ColumnDataSource\"},{\"attributes\":{\"ticks\":[0,1,2,3,4,5,6,7,8,9,10,11,12,13,14,15,16]},\"id\":\"44cc2733-ee34-4b3f-b0d2-673cadd63c7e\",\"type\":\"FixedTicker\"},{\"attributes\":{\"fill_alpha\":{\"field\":\"fill_alpha\"},\"fill_color\":{\"field\":\"color\"},\"height\":{\"field\":\"height\",\"units\":\"data\"},\"line_color\":{\"field\":\"line_color\"},\"width\":{\"field\":\"width\",\"units\":\"data\"},\"x\":{\"field\":\"x\"},\"y\":{\"field\":\"y\"}},\"id\":\"9cbd100b-357c-4708-9ee7-c1567f67e59c\",\"type\":\"Rect\"},{\"attributes\":{\"callback\":null,\"column_names\":[\"color\",\"fill_alpha\",\"x\",\"label\",\"y\",\"height\",\"line_alpha\",\"width\",\"line_color\"],\"data\":{\"chart_index\":[\"(7.500000, 8.500000]\"],\"color\":[\"#f22c40\"],\"fill_alpha\":[0.8],\"height\":[0.0],\"label\":[\"(7.500000, 8.500000]\"],\"line_alpha\":[1.0],\"line_color\":[\"black\"],\"width\":[1.0],\"x\":[\"8.0\"],\"y\":[0.0]}},\"id\":\"e404923d-4902-4552-abad-804239b94175\",\"type\":\"ColumnDataSource\"},{\"attributes\":{\"callback\":null,\"column_names\":[\"color\",\"fill_alpha\",\"x\",\"label\",\"y\",\"height\",\"line_alpha\",\"width\",\"line_color\"],\"data\":{\"chart_index\":[\"[0.500000, 1.500000]\"],\"color\":[\"#f22c40\"],\"fill_alpha\":[0.8],\"height\":[1423.0],\"label\":[\"[0.500000, 1.500000]\"],\"line_alpha\":[1.0],\"line_color\":[\"black\"],\"width\":[1.0],\"x\":[\"1.0\"],\"y\":[711.5]}},\"id\":\"ddb4141c-74bd-4a09-813e-e7fdb885657c\",\"type\":\"ColumnDataSource\"},{\"attributes\":{\"fill_alpha\":{\"field\":\"fill_alpha\"},\"fill_color\":{\"field\":\"color\"},\"height\":{\"field\":\"height\",\"units\":\"data\"},\"line_color\":{\"field\":\"line_color\"},\"width\":{\"field\":\"width\",\"units\":\"data\"},\"x\":{\"field\":\"x\"},\"y\":{\"field\":\"y\"}},\"id\":\"01a8182c-0202-4e2f-8e8d-02358c114c7b\",\"type\":\"Rect\"},{\"attributes\":{\"callback\":null,\"column_names\":[\"color\",\"fill_alpha\",\"x\",\"label\",\"y\",\"height\",\"line_alpha\",\"width\",\"line_color\"],\"data\":{\"chart_index\":[\"(13.500000, 14.500000]\"],\"color\":[\"#f22c40\"],\"fill_alpha\":[0.8],\"height\":[0.0],\"label\":[\"(13.500000, 14.500000]\"],\"line_alpha\":[1.0],\"line_color\":[\"black\"],\"width\":[1.0],\"x\":[\"14.0\"],\"y\":[0.0]}},\"id\":\"0c55e2c9-0808-439b-ad04-43aa7af94739\",\"type\":\"ColumnDataSource\"},{\"attributes\":{\"callback\":null,\"column_names\":[\"color\",\"fill_alpha\",\"x\",\"label\",\"y\",\"height\",\"line_alpha\",\"width\",\"line_color\"],\"data\":{\"chart_index\":[\"(12.500000, 13.500000]\"],\"color\":[\"#f22c40\"],\"fill_alpha\":[0.8],\"height\":[0.0],\"label\":[\"(12.500000, 13.500000]\"],\"line_alpha\":[1.0],\"line_color\":[\"black\"],\"width\":[1.0],\"x\":[\"13.0\"],\"y\":[0.0]}},\"id\":\"020777ae-d801-449c-a3eb-46c37fa680fb\",\"type\":\"ColumnDataSource\"},{\"attributes\":{\"fill_alpha\":{\"field\":\"fill_alpha\"},\"fill_color\":{\"field\":\"color\"},\"height\":{\"field\":\"height\",\"units\":\"data\"},\"line_color\":{\"field\":\"line_color\"},\"width\":{\"field\":\"width\",\"units\":\"data\"},\"x\":{\"field\":\"x\"},\"y\":{\"field\":\"y\"}},\"id\":\"2bf4fc89-6f67-4846-a422-bffc08fdd5b7\",\"type\":\"Rect\"},{\"attributes\":{\"fill_alpha\":{\"field\":\"fill_alpha\"},\"fill_color\":{\"field\":\"color\"},\"height\":{\"field\":\"height\",\"units\":\"data\"},\"line_color\":{\"field\":\"line_color\"},\"width\":{\"field\":\"width\",\"units\":\"data\"},\"x\":{\"field\":\"x\"},\"y\":{\"field\":\"y\"}},\"id\":\"deee7cf5-e77f-4dbb-9ab8-4cb83d2331e9\",\"type\":\"Rect\"},{\"attributes\":{},\"id\":\"0f7a5706-c2cc-4f86-a483-d50567824a96\",\"type\":\"BasicTickFormatter\"},{\"attributes\":{},\"id\":\"b7dcc5b0-add9-4bf6-be1b-e3c2ed85d206\",\"type\":\"BasicTickFormatter\"},{\"attributes\":{\"data_source\":{\"id\":\"47613900-efe8-4868-a96d-d34fdfa2152f\",\"type\":\"ColumnDataSource\"},\"glyph\":{\"id\":\"a8ae33e0-c5c7-4161-9f17-481f2157f237\",\"type\":\"Rect\"},\"hover_glyph\":null,\"nonselection_glyph\":null,\"selection_glyph\":null},\"id\":\"8c63c60a-20ed-4662-976d-962f968ccff3\",\"type\":\"GlyphRenderer\"},{\"attributes\":{\"fill_alpha\":{\"field\":\"fill_alpha\"},\"fill_color\":{\"field\":\"color\"},\"height\":{\"field\":\"height\",\"units\":\"data\"},\"line_color\":{\"field\":\"line_color\"},\"width\":{\"field\":\"width\",\"units\":\"data\"},\"x\":{\"field\":\"x\"},\"y\":{\"field\":\"y\"}},\"id\":\"a25ef817-34d3-462e-aa32-db607b64ba3b\",\"type\":\"Rect\"},{\"attributes\":{\"dimension\":1,\"plot\":{\"id\":\"6e547517-996c-41e9-9fa4-b56a5681767d\",\"subtype\":\"Chart\",\"type\":\"Plot\"},\"ticker\":{\"id\":\"69a84793-dd3e-4182-a857-459bb52167ee\",\"type\":\"BasicTicker\"}},\"id\":\"d240300e-ba1c-4596-8722-16f05696f54d\",\"type\":\"Grid\"},{\"attributes\":{\"fill_alpha\":{\"field\":\"fill_alpha\"},\"fill_color\":{\"field\":\"color\"},\"height\":{\"field\":\"height\",\"units\":\"data\"},\"line_color\":{\"field\":\"line_color\"},\"width\":{\"field\":\"width\",\"units\":\"data\"},\"x\":{\"field\":\"x\"},\"y\":{\"field\":\"y\"}},\"id\":\"899fcae9-72b8-4207-a476-46bd206d6059\",\"type\":\"Rect\"},{\"attributes\":{\"callback\":null,\"column_names\":[\"color\",\"fill_alpha\",\"x\",\"label\",\"y\",\"height\",\"line_alpha\",\"width\",\"line_color\"],\"data\":{\"chart_index\":[\"(8.500000, 9.500000]\"],\"color\":[\"#f22c40\"],\"fill_alpha\":[0.8],\"height\":[0.0],\"label\":[\"(8.500000, 9.500000]\"],\"line_alpha\":[1.0],\"line_color\":[\"black\"],\"width\":[1.0],\"x\":[\"9.0\"],\"y\":[0.0]}},\"id\":\"9cad32fd-0895-4d1a-ba68-3809f3c5fc05\",\"type\":\"ColumnDataSource\"},{\"attributes\":{\"data_source\":{\"id\":\"df159d4c-25c5-41a2-8beb-9ea3677e72a9\",\"type\":\"ColumnDataSource\"},\"glyph\":{\"id\":\"d7070abe-9461-45f9-8dfd-d440409c1bc6\",\"type\":\"Rect\"},\"hover_glyph\":null,\"nonselection_glyph\":null,\"selection_glyph\":null},\"id\":\"708edee6-0a08-47c0-9ff6-9602a3901bbf\",\"type\":\"GlyphRenderer\"},{\"attributes\":{\"fill_alpha\":{\"field\":\"fill_alpha\"},\"fill_color\":{\"field\":\"color\"},\"height\":{\"field\":\"height\",\"units\":\"data\"},\"line_color\":{\"field\":\"line_color\"},\"width\":{\"field\":\"width\",\"units\":\"data\"},\"x\":{\"field\":\"x\"},\"y\":{\"field\":\"y\"}},\"id\":\"be83b87c-2445-40ed-9d01-cb09042442f8\",\"type\":\"Rect\"},{\"attributes\":{\"data_source\":{\"id\":\"7caaab5b-b0af-479c-813d-352134743ae0\",\"type\":\"ColumnDataSource\"},\"glyph\":{\"id\":\"01a8182c-0202-4e2f-8e8d-02358c114c7b\",\"type\":\"Rect\"},\"hover_glyph\":null,\"nonselection_glyph\":null,\"selection_glyph\":null},\"id\":\"8be8b28b-d3a8-4289-8980-a62b0d82999b\",\"type\":\"GlyphRenderer\"},{\"attributes\":{\"fill_alpha\":{\"field\":\"fill_alpha\"},\"fill_color\":{\"field\":\"color\"},\"height\":{\"field\":\"height\",\"units\":\"data\"},\"line_color\":{\"field\":\"line_color\"},\"width\":{\"field\":\"width\",\"units\":\"data\"},\"x\":{\"field\":\"x\"},\"y\":{\"field\":\"y\"}},\"id\":\"914367ba-04e4-4880-9830-e9e598a388f5\",\"type\":\"Rect\"},{\"attributes\":{\"axis_label\":\"Number of byte streams per dataset\",\"formatter\":{\"id\":\"b7dcc5b0-add9-4bf6-be1b-e3c2ed85d206\",\"type\":\"BasicTickFormatter\"},\"plot\":{\"id\":\"6e547517-996c-41e9-9fa4-b56a5681767d\",\"subtype\":\"Chart\",\"type\":\"Plot\"},\"ticker\":{\"id\":\"44cc2733-ee34-4b3f-b0d2-673cadd63c7e\",\"type\":\"FixedTicker\"}},\"id\":\"0dd0949c-5ecb-45e9-9040-3d3607fb982f\",\"type\":\"LinearAxis\"},{\"attributes\":{\"data_source\":{\"id\":\"e404923d-4902-4552-abad-804239b94175\",\"type\":\"ColumnDataSource\"},\"glyph\":{\"id\":\"2bf4fc89-6f67-4846-a422-bffc08fdd5b7\",\"type\":\"Rect\"},\"hover_glyph\":null,\"nonselection_glyph\":null,\"selection_glyph\":null},\"id\":\"eebd282b-8dd0-456e-96d8-c56cc61cfc0c\",\"type\":\"GlyphRenderer\"},{\"attributes\":{\"data_source\":{\"id\":\"13bb0dfb-692c-43fa-b946-19a460fef019\",\"type\":\"ColumnDataSource\"},\"glyph\":{\"id\":\"59ade18c-1c1f-48fc-873c-ebcba6b058a0\",\"type\":\"Rect\"},\"hover_glyph\":null,\"nonselection_glyph\":null,\"selection_glyph\":null},\"id\":\"b4f3028a-b87c-4794-8bcc-0199bfb0c395\",\"type\":\"GlyphRenderer\"},{\"attributes\":{\"fill_alpha\":{\"field\":\"fill_alpha\"},\"fill_color\":{\"field\":\"color\"},\"height\":{\"field\":\"height\",\"units\":\"data\"},\"line_color\":{\"field\":\"line_color\"},\"width\":{\"field\":\"width\",\"units\":\"data\"},\"x\":{\"field\":\"x\"},\"y\":{\"field\":\"y\"}},\"id\":\"de689092-6176-4b64-970c-9a37e883d4d4\",\"type\":\"Rect\"},{\"attributes\":{\"data_source\":{\"id\":\"0c55e2c9-0808-439b-ad04-43aa7af94739\",\"type\":\"ColumnDataSource\"},\"glyph\":{\"id\":\"9cbd100b-357c-4708-9ee7-c1567f67e59c\",\"type\":\"Rect\"},\"hover_glyph\":null,\"nonselection_glyph\":null,\"selection_glyph\":null},\"id\":\"36f39551-c38e-4153-aebb-e7d7702b7cbf\",\"type\":\"GlyphRenderer\"},{\"attributes\":{\"location\":\"top_left\",\"plot\":{\"id\":\"6e547517-996c-41e9-9fa4-b56a5681767d\",\"subtype\":\"Chart\",\"type\":\"Plot\"}},\"id\":\"362b8b11-020d-48c4-857a-7d512e2133d1\",\"type\":\"Legend\"},{\"attributes\":{\"data_source\":{\"id\":\"fcf5b28d-9213-4bab-8231-1c44acc9ad89\",\"type\":\"ColumnDataSource\"},\"glyph\":{\"id\":\"de689092-6176-4b64-970c-9a37e883d4d4\",\"type\":\"Rect\"},\"hover_glyph\":null,\"nonselection_glyph\":null,\"selection_glyph\":null},\"id\":\"26acfaed-203c-45e2-a19c-64f88501233a\",\"type\":\"GlyphRenderer\"},{\"attributes\":{\"callback\":null,\"column_names\":[\"color\",\"fill_alpha\",\"x\",\"label\",\"y\",\"height\",\"line_alpha\",\"width\",\"line_color\"],\"data\":{\"chart_index\":[\"(5.500000, 6.500000]\"],\"color\":[\"#f22c40\"],\"fill_alpha\":[0.8],\"height\":[0.0],\"label\":[\"(5.500000, 6.500000]\"],\"line_alpha\":[1.0],\"line_color\":[\"black\"],\"width\":[1.0],\"x\":[\"6.0\"],\"y\":[0.0]}},\"id\":\"fcf5b28d-9213-4bab-8231-1c44acc9ad89\",\"type\":\"ColumnDataSource\"},{\"attributes\":{\"callback\":null,\"column_names\":[\"color\",\"fill_alpha\",\"x\",\"label\",\"y\",\"height\",\"line_alpha\",\"width\",\"line_color\"],\"data\":{\"chart_index\":[\"(4.500000, 5.500000]\"],\"color\":[\"#f22c40\"],\"fill_alpha\":[0.8],\"height\":[0.0],\"label\":[\"(4.500000, 5.500000]\"],\"line_alpha\":[1.0],\"line_color\":[\"black\"],\"width\":[1.0],\"x\":[\"5.0\"],\"y\":[0.0]}},\"id\":\"7caaab5b-b0af-479c-813d-352134743ae0\",\"type\":\"ColumnDataSource\"},{\"attributes\":{\"data_source\":{\"id\":\"9cad32fd-0895-4d1a-ba68-3809f3c5fc05\",\"type\":\"ColumnDataSource\"},\"glyph\":{\"id\":\"fbff00f8-5b28-46c3-9bfc-402e4cb0ab07\",\"type\":\"Rect\"},\"hover_glyph\":null,\"nonselection_glyph\":null,\"selection_glyph\":null},\"id\":\"32c19dc9-bccc-45e5-89de-febfd4948d2d\",\"type\":\"GlyphRenderer\"},{\"attributes\":{\"plot\":null,\"text\":null},\"id\":\"779a7c82-1057-48ae-857e-cbe36650c1d0\",\"type\":\"Title\"},{\"attributes\":{\"plot\":{\"id\":\"6e547517-996c-41e9-9fa4-b56a5681767d\",\"subtype\":\"Chart\",\"type\":\"Plot\"}},\"id\":\"02e93081-ea2a-4f40-82ea-961b13427543\",\"type\":\"PanTool\"},{\"attributes\":{\"axis_label\":\"Count(Dataset per File)\",\"formatter\":{\"id\":\"0f7a5706-c2cc-4f86-a483-d50567824a96\",\"type\":\"BasicTickFormatter\"},\"plot\":{\"id\":\"6e547517-996c-41e9-9fa4-b56a5681767d\",\"subtype\":\"Chart\",\"type\":\"Plot\"},\"ticker\":{\"id\":\"69a84793-dd3e-4182-a857-459bb52167ee\",\"type\":\"BasicTicker\"}},\"id\":\"ef2726f8-6c8d-407b-9609-b2dd4eb557ec\",\"type\":\"LinearAxis\"},{\"attributes\":{\"fill_alpha\":{\"field\":\"fill_alpha\"},\"fill_color\":{\"field\":\"color\"},\"height\":{\"field\":\"height\",\"units\":\"data\"},\"line_color\":{\"field\":\"line_color\"},\"width\":{\"field\":\"width\",\"units\":\"data\"},\"x\":{\"field\":\"x\"},\"y\":{\"field\":\"y\"}},\"id\":\"0b29dda6-8fdd-41ef-92e7-072a203cb139\",\"type\":\"Rect\"},{\"attributes\":{\"data_source\":{\"id\":\"17c5919e-c4b0-42cf-8098-3e4a8e6f49b0\",\"type\":\"ColumnDataSource\"},\"glyph\":{\"id\":\"914367ba-04e4-4880-9830-e9e598a388f5\",\"type\":\"Rect\"},\"hover_glyph\":null,\"nonselection_glyph\":null,\"selection_glyph\":null},\"id\":\"1131254d-8208-4a66-8266-5443aac4d445\",\"type\":\"GlyphRenderer\"},{\"attributes\":{\"fill_alpha\":{\"field\":\"fill_alpha\"},\"fill_color\":{\"field\":\"color\"},\"height\":{\"field\":\"height\",\"units\":\"data\"},\"line_color\":{\"field\":\"line_color\"},\"width\":{\"field\":\"width\",\"units\":\"data\"},\"x\":{\"field\":\"x\"},\"y\":{\"field\":\"y\"}},\"id\":\"fbff00f8-5b28-46c3-9bfc-402e4cb0ab07\",\"type\":\"Rect\"},{\"attributes\":{\"fill_alpha\":{\"field\":\"fill_alpha\"},\"fill_color\":{\"field\":\"color\"},\"height\":{\"field\":\"height\",\"units\":\"data\"},\"line_color\":{\"field\":\"line_color\"},\"width\":{\"field\":\"width\",\"units\":\"data\"},\"x\":{\"field\":\"x\"},\"y\":{\"field\":\"y\"}},\"id\":\"d7070abe-9461-45f9-8dfd-d440409c1bc6\",\"type\":\"Rect\"},{\"attributes\":{},\"id\":\"1e496510-68bd-4ded-8989-03081cccda36\",\"type\":\"ToolEvents\"},{\"attributes\":{\"data_source\":{\"id\":\"ff5a3fc9-aa8d-43c3-805a-bc7ed061a24e\",\"type\":\"ColumnDataSource\"},\"glyph\":{\"id\":\"deee7cf5-e77f-4dbb-9ab8-4cb83d2331e9\",\"type\":\"Rect\"},\"hover_glyph\":null,\"nonselection_glyph\":null,\"selection_glyph\":null},\"id\":\"8b0eec4d-55b5-44c4-8722-1aad98e9ae96\",\"type\":\"GlyphRenderer\"},{\"attributes\":{\"data_source\":{\"id\":\"ddb4141c-74bd-4a09-813e-e7fdb885657c\",\"type\":\"ColumnDataSource\"},\"glyph\":{\"id\":\"be83b87c-2445-40ed-9d01-cb09042442f8\",\"type\":\"Rect\"},\"hover_glyph\":null,\"nonselection_glyph\":null,\"selection_glyph\":null},\"id\":\"3c3e5dc1-bb54-4316-bd52-8877380429b9\",\"type\":\"GlyphRenderer\"},{\"attributes\":{\"plot\":{\"id\":\"6e547517-996c-41e9-9fa4-b56a5681767d\",\"subtype\":\"Chart\",\"type\":\"Plot\"}},\"id\":\"b2c3765a-b380-4a01-8c30-4278c3fae31d\",\"type\":\"HelpTool\"},{\"attributes\":{\"data_source\":{\"id\":\"ba42abca-85aa-4390-852a-51d904da956f\",\"type\":\"ColumnDataSource\"},\"glyph\":{\"id\":\"899fcae9-72b8-4207-a476-46bd206d6059\",\"type\":\"Rect\"},\"hover_glyph\":null,\"nonselection_glyph\":null,\"selection_glyph\":null},\"id\":\"8516ca9f-58b0-43c0-b1fe-48422e9af16a\",\"type\":\"GlyphRenderer\"},{\"attributes\":{\"data_source\":{\"id\":\"020777ae-d801-449c-a3eb-46c37fa680fb\",\"type\":\"ColumnDataSource\"},\"glyph\":{\"id\":\"29c76858-2a80-4e15-b6f0-8af3b36a81fc\",\"type\":\"Rect\"},\"hover_glyph\":null,\"nonselection_glyph\":null,\"selection_glyph\":null},\"id\":\"0e8c7a05-3045-4afc-aad4-60d7dec9ddda\",\"type\":\"GlyphRenderer\"},{\"attributes\":{\"callback\":null,\"column_names\":[\"color\",\"fill_alpha\",\"x\",\"label\",\"y\",\"height\",\"line_alpha\",\"width\",\"line_color\"],\"data\":{\"chart_index\":[\"(1.500000, 2.500000]\"],\"color\":[\"#f22c40\"],\"fill_alpha\":[0.8],\"height\":[0.0],\"label\":[\"(1.500000, 2.500000]\"],\"line_alpha\":[1.0],\"line_color\":[\"black\"],\"width\":[1.0],\"x\":[\"2.0\"],\"y\":[0.0]}},\"id\":\"13bb0dfb-692c-43fa-b946-19a460fef019\",\"type\":\"ColumnDataSource\"},{\"attributes\":{\"data_source\":{\"id\":\"301c455c-3a14-476a-b81e-110b189aa114\",\"type\":\"ColumnDataSource\"},\"glyph\":{\"id\":\"0b29dda6-8fdd-41ef-92e7-072a203cb139\",\"type\":\"Rect\"},\"hover_glyph\":null,\"nonselection_glyph\":null,\"selection_glyph\":null},\"id\":\"dc8f3cdf-9366-4f98-a9c5-640700629514\",\"type\":\"GlyphRenderer\"},{\"attributes\":{\"active_drag\":\"auto\",\"active_scroll\":\"auto\",\"active_tap\":\"auto\",\"tools\":[{\"id\":\"02e93081-ea2a-4f40-82ea-961b13427543\",\"type\":\"PanTool\"},{\"id\":\"29a97741-d05c-4847-a331-956fa1c476b8\",\"type\":\"WheelZoomTool\"},{\"id\":\"24fd6472-b86a-4178-a9b2-1dcd074a0af8\",\"type\":\"BoxZoomTool\"},{\"id\":\"e3a7db2a-3482-4c35-8a72-f645373a21c2\",\"type\":\"SaveTool\"},{\"id\":\"03e80db9-d973-44ed-80f8-090bd2007eb7\",\"type\":\"ResetTool\"},{\"id\":\"b2c3765a-b380-4a01-8c30-4278c3fae31d\",\"type\":\"HelpTool\"}]},\"id\":\"77af97c4-68fc-4897-a2b0-995bbafe5af6\",\"type\":\"Toolbar\"},{\"attributes\":{},\"id\":\"69a84793-dd3e-4182-a857-459bb52167ee\",\"type\":\"BasicTicker\"},{\"attributes\":{\"data_source\":{\"id\":\"6c427042-a7a9-46f6-ba8d-440ed8d4aa35\",\"type\":\"ColumnDataSource\"},\"glyph\":{\"id\":\"a25ef817-34d3-462e-aa32-db607b64ba3b\",\"type\":\"Rect\"},\"hover_glyph\":null,\"nonselection_glyph\":null,\"selection_glyph\":null},\"id\":\"33cd66a9-1af5-4cc4-b83d-0d380d3ea1f5\",\"type\":\"GlyphRenderer\"},{\"attributes\":{\"callback\":null,\"end\":5583.6},\"id\":\"fea096f5-df97-4b47-9a4d-4f9e7ab5f8de\",\"type\":\"Range1d\"},{\"attributes\":{\"fill_alpha\":{\"field\":\"fill_alpha\"},\"fill_color\":{\"field\":\"color\"},\"height\":{\"field\":\"height\",\"units\":\"data\"},\"line_color\":{\"field\":\"line_color\"},\"width\":{\"field\":\"width\",\"units\":\"data\"},\"x\":{\"field\":\"x\"},\"y\":{\"field\":\"y\"}},\"id\":\"29c76858-2a80-4e15-b6f0-8af3b36a81fc\",\"type\":\"Rect\"},{\"attributes\":{\"plot\":{\"id\":\"6e547517-996c-41e9-9fa4-b56a5681767d\",\"subtype\":\"Chart\",\"type\":\"Plot\"}},\"id\":\"29a97741-d05c-4847-a331-956fa1c476b8\",\"type\":\"WheelZoomTool\"},{\"attributes\":{\"callback\":null,\"column_names\":[\"color\",\"fill_alpha\",\"x\",\"label\",\"y\",\"height\",\"line_alpha\",\"width\",\"line_color\"],\"data\":{\"chart_index\":[\"(15.500000, 16.500000]\"],\"color\":[\"#f22c40\"],\"fill_alpha\":[0.8],\"height\":[5076.0],\"label\":[\"(15.500000, 16.500000]\"],\"line_alpha\":[1.0],\"line_color\":[\"black\"],\"width\":[1.0],\"x\":[\"16.0\"],\"y\":[2538.0]}},\"id\":\"47613900-efe8-4868-a96d-d34fdfa2152f\",\"type\":\"ColumnDataSource\"},{\"attributes\":{\"fill_alpha\":{\"field\":\"fill_alpha\"},\"fill_color\":{\"field\":\"color\"},\"height\":{\"field\":\"height\",\"units\":\"data\"},\"line_color\":{\"field\":\"line_color\"},\"width\":{\"field\":\"width\",\"units\":\"data\"},\"x\":{\"field\":\"x\"},\"y\":{\"field\":\"y\"}},\"id\":\"59ade18c-1c1f-48fc-873c-ebcba6b058a0\",\"type\":\"Rect\"},{\"attributes\":{\"callback\":null,\"column_names\":[\"color\",\"fill_alpha\",\"x\",\"label\",\"y\",\"height\",\"line_alpha\",\"width\",\"line_color\"],\"data\":{\"chart_index\":[\"(11.500000, 12.500000]\"],\"color\":[\"#f22c40\"],\"fill_alpha\":[0.8],\"height\":[0.0],\"label\":[\"(11.500000, 12.500000]\"],\"line_alpha\":[1.0],\"line_color\":[\"black\"],\"width\":[1.0],\"x\":[\"12.0\"],\"y\":[0.0]}},\"id\":\"d3623b0e-9d6f-46e0-95d1-d47ee1c76168\",\"type\":\"ColumnDataSource\"},{\"attributes\":{\"fill_alpha\":{\"field\":\"fill_alpha\"},\"fill_color\":{\"field\":\"color\"},\"height\":{\"field\":\"height\",\"units\":\"data\"},\"line_color\":{\"field\":\"line_color\"},\"width\":{\"field\":\"width\",\"units\":\"data\"},\"x\":{\"field\":\"x\"},\"y\":{\"field\":\"y\"}},\"id\":\"1321c4d8-2081-403a-a97e-748d35d895a5\",\"type\":\"Rect\"},{\"attributes\":{\"callback\":null,\"column_names\":[\"color\",\"fill_alpha\",\"x\",\"label\",\"y\",\"height\",\"line_alpha\",\"width\",\"line_color\"],\"data\":{\"chart_index\":[\"(2.500000, 3.500000]\"],\"color\":[\"#f22c40\"],\"fill_alpha\":[0.8],\"height\":[0.0],\"label\":[\"(2.500000, 3.500000]\"],\"line_alpha\":[1.0],\"line_color\":[\"black\"],\"width\":[1.0],\"x\":[\"3.0\"],\"y\":[0.0]}},\"id\":\"17c5919e-c4b0-42cf-8098-3e4a8e6f49b0\",\"type\":\"ColumnDataSource\"},{\"attributes\":{\"callback\":null,\"column_names\":[\"color\",\"fill_alpha\",\"x\",\"label\",\"y\",\"height\",\"line_alpha\",\"width\",\"line_color\"],\"data\":{\"chart_index\":[\"(6.500000, 7.500000]\"],\"color\":[\"#f22c40\"],\"fill_alpha\":[0.8],\"height\":[0.0],\"label\":[\"(6.500000, 7.500000]\"],\"line_alpha\":[1.0],\"line_color\":[\"black\"],\"width\":[1.0],\"x\":[\"7.0\"],\"y\":[0.0]}},\"id\":\"ff5a3fc9-aa8d-43c3-805a-bc7ed061a24e\",\"type\":\"ColumnDataSource\"},{\"attributes\":{\"callback\":null,\"end\":16.925,\"start\":0.07499999999999996},\"id\":\"a1669d18-b888-4bae-a3bd-364c95391e8a\",\"type\":\"Range1d\"},{\"attributes\":{\"bottom_units\":\"screen\",\"fill_alpha\":{\"value\":0.5},\"fill_color\":{\"value\":\"lightgrey\"},\"left_units\":\"screen\",\"level\":\"overlay\",\"line_alpha\":{\"value\":1.0},\"line_color\":{\"value\":\"black\"},\"line_dash\":[4,4],\"line_width\":{\"value\":2},\"plot\":null,\"render_mode\":\"css\",\"right_units\":\"screen\",\"top_units\":\"screen\"},\"id\":\"6c8cf43f-8b86-4801-bdf7-ac9767c2f875\",\"type\":\"BoxAnnotation\"},{\"attributes\":{\"fill_alpha\":{\"field\":\"fill_alpha\"},\"fill_color\":{\"field\":\"color\"},\"height\":{\"field\":\"height\",\"units\":\"data\"},\"line_color\":{\"field\":\"line_color\"},\"width\":{\"field\":\"width\",\"units\":\"data\"},\"x\":{\"field\":\"x\"},\"y\":{\"field\":\"y\"}},\"id\":\"a8ae33e0-c5c7-4161-9f17-481f2157f237\",\"type\":\"Rect\"},{\"attributes\":{\"data_source\":{\"id\":\"d3623b0e-9d6f-46e0-95d1-d47ee1c76168\",\"type\":\"ColumnDataSource\"},\"glyph\":{\"id\":\"1321c4d8-2081-403a-a97e-748d35d895a5\",\"type\":\"Rect\"},\"hover_glyph\":null,\"nonselection_glyph\":null,\"selection_glyph\":null},\"id\":\"d272c651-a688-4709-8696-93f7b096c39a\",\"type\":\"GlyphRenderer\"},{\"attributes\":{\"callback\":null,\"column_names\":[\"color\",\"fill_alpha\",\"x\",\"label\",\"y\",\"height\",\"line_alpha\",\"width\",\"line_color\"],\"data\":{\"chart_index\":[\"(14.500000, 15.500000]\"],\"color\":[\"#f22c40\"],\"fill_alpha\":[0.8],\"height\":[0.0],\"label\":[\"(14.500000, 15.500000]\"],\"line_alpha\":[1.0],\"line_color\":[\"black\"],\"width\":[1.0],\"x\":[\"15.0\"],\"y\":[0.0]}},\"id\":\"ba42abca-85aa-4390-852a-51d904da956f\",\"type\":\"ColumnDataSource\"},{\"attributes\":{\"callback\":null,\"column_names\":[\"color\",\"fill_alpha\",\"x\",\"label\",\"y\",\"height\",\"line_alpha\",\"width\",\"line_color\"],\"data\":{\"chart_index\":[\"(3.500000, 4.500000]\"],\"color\":[\"#f22c40\"],\"fill_alpha\":[0.8],\"height\":[0.0],\"label\":[\"(3.500000, 4.500000]\"],\"line_alpha\":[1.0],\"line_color\":[\"black\"],\"width\":[1.0],\"x\":[\"4.0\"],\"y\":[0.0]}},\"id\":\"301c455c-3a14-476a-b81e-110b189aa114\",\"type\":\"ColumnDataSource\"},{\"attributes\":{\"plot\":{\"id\":\"6e547517-996c-41e9-9fa4-b56a5681767d\",\"subtype\":\"Chart\",\"type\":\"Plot\"}},\"id\":\"e3a7db2a-3482-4c35-8a72-f645373a21c2\",\"type\":\"SaveTool\"}],\"root_ids\":[\"6e547517-996c-41e9-9fa4-b56a5681767d\"]},\"title\":\"Bokeh Application\",\"version\":\"0.12.4\"}};\n",
       "            var render_items = [{\"docid\":\"2b41aa47-d3ba-4cce-af39-00b282a5c6ee\",\"elementid\":\"c4ef0d16-d447-487b-93b9-3b76d26095e3\",\"modelid\":\"6e547517-996c-41e9-9fa4-b56a5681767d\"}];\n",
       "            \n",
       "            Bokeh.embed.embed_items(docs_json, render_items);\n",
       "          };\n",
       "          if (document.readyState != \"loading\") fn();\n",
       "          else document.addEventListener(\"DOMContentLoaded\", fn);\n",
       "        })();\n",
       "      },\n",
       "      function(Bokeh) {\n",
       "      }\n",
       "    ];\n",
       "  \n",
       "    function run_inline_js() {\n",
       "      \n",
       "      if ((window.Bokeh !== undefined) || (force === true)) {\n",
       "        for (var i = 0; i < inline_js.length; i++) {\n",
       "          inline_js[i](window.Bokeh);\n",
       "        }if (force === true) {\n",
       "          display_loaded();\n",
       "        }} else if (Date.now() < window._bokeh_timeout) {\n",
       "        setTimeout(run_inline_js, 100);\n",
       "      } else if (!window._bokeh_failed_load) {\n",
       "        console.log(\"Bokeh: BokehJS failed to load within specified timeout.\");\n",
       "        window._bokeh_failed_load = true;\n",
       "      } else if (force !== true) {\n",
       "        var cell = $(document.getElementById(\"c4ef0d16-d447-487b-93b9-3b76d26095e3\")).parents('.cell').data().cell;\n",
       "        cell.output_area.append_execute_result(NB_LOAD_WARNING)\n",
       "      }\n",
       "  \n",
       "    }\n",
       "  \n",
       "    if (window._bokeh_is_loading === 0) {\n",
       "      console.log(\"Bokeh: BokehJS loaded, going straight to plotting\");\n",
       "      run_inline_js();\n",
       "    } else {\n",
       "      load_libs(js_urls, function() {\n",
       "        console.log(\"Bokeh: BokehJS plotting callback run at\", now());\n",
       "        run_inline_js();\n",
       "      });\n",
       "    }\n",
       "  }(this));\n",
       "</script>"
      ]
     },
     "metadata": {},
     "output_type": "display_data"
    }
   ],
   "source": [
    "max_num_chunk = 16\n",
    "p = Histogram(grp.UUID.count(), \n",
    "              bins=list(map(lambda x: x + 0.5, range(0, max_num_chunk+1))),\n",
    "              xlabel='Number of byte streams per dataset',\n",
    "              ylabel='Count(Dataset per File)')\n",
    "p.xaxis[0].ticker = FixedTicker(ticks=list(range(max_num_chunk+1)))\n",
    "show(p)"
   ]
  },
  {
   "cell_type": "code",
   "execution_count": null,
   "metadata": {
    "collapsed": true
   },
   "outputs": [],
   "source": []
  }
 ],
 "metadata": {
  "kernelspec": {
   "display_name": "Python 3",
   "language": "python",
   "name": "python3"
  },
  "language_info": {
   "codemirror_mode": {
    "name": "ipython",
    "version": 3
   },
   "file_extension": ".py",
   "mimetype": "text/x-python",
   "name": "python",
   "nbconvert_exporter": "python",
   "pygments_lexer": "ipython3",
   "version": "3.5.1"
  }
 },
 "nbformat": 4,
 "nbformat_minor": 2
}
