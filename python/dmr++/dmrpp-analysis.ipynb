{
 "cells": [
  {
   "cell_type": "markdown",
   "metadata": {},
   "source": [
    "# Analysis of DMR++ Information"
   ]
  },
  {
   "cell_type": "code",
   "execution_count": 1,
   "metadata": {
    "collapsed": false
   },
   "outputs": [
    {
     "data": {
      "text/html": [
       "\n",
       "    <div class=\"bk-root\">\n",
       "        <a href=\"http://bokeh.pydata.org\" target=\"_blank\" class=\"bk-logo bk-logo-small bk-logo-notebook\"></a>\n",
       "        <span id=\"889e198a-1a55-414a-93a6-140bcf78595f\">Loading BokehJS ...</span>\n",
       "    </div>"
      ]
     },
     "metadata": {},
     "output_type": "display_data"
    },
    {
     "data": {
      "application/javascript": [
       "\n",
       "(function(global) {\n",
       "  function now() {\n",
       "    return new Date();\n",
       "  }\n",
       "\n",
       "  var force = true;\n",
       "\n",
       "  if (typeof (window._bokeh_onload_callbacks) === \"undefined\" || force === true) {\n",
       "    window._bokeh_onload_callbacks = [];\n",
       "    window._bokeh_is_loading = undefined;\n",
       "  }\n",
       "\n",
       "\n",
       "  \n",
       "  if (typeof (window._bokeh_timeout) === \"undefined\" || force === true) {\n",
       "    window._bokeh_timeout = Date.now() + 5000;\n",
       "    window._bokeh_failed_load = false;\n",
       "  }\n",
       "\n",
       "  var NB_LOAD_WARNING = {'data': {'text/html':\n",
       "     \"<div style='background-color: #fdd'>\\n\"+\n",
       "     \"<p>\\n\"+\n",
       "     \"BokehJS does not appear to have successfully loaded. If loading BokehJS from CDN, this \\n\"+\n",
       "     \"may be due to a slow or bad network connection. Possible fixes:\\n\"+\n",
       "     \"</p>\\n\"+\n",
       "     \"<ul>\\n\"+\n",
       "     \"<li>re-rerun `output_notebook()` to attempt to load from CDN again, or</li>\\n\"+\n",
       "     \"<li>use INLINE resources instead, as so:</li>\\n\"+\n",
       "     \"</ul>\\n\"+\n",
       "     \"<code>\\n\"+\n",
       "     \"from bokeh.resources import INLINE\\n\"+\n",
       "     \"output_notebook(resources=INLINE)\\n\"+\n",
       "     \"</code>\\n\"+\n",
       "     \"</div>\"}};\n",
       "\n",
       "  function display_loaded() {\n",
       "    if (window.Bokeh !== undefined) {\n",
       "      document.getElementById(\"889e198a-1a55-414a-93a6-140bcf78595f\").textContent = \"BokehJS successfully loaded.\";\n",
       "    } else if (Date.now() < window._bokeh_timeout) {\n",
       "      setTimeout(display_loaded, 100)\n",
       "    }\n",
       "  }\n",
       "\n",
       "  function run_callbacks() {\n",
       "    window._bokeh_onload_callbacks.forEach(function(callback) { callback() });\n",
       "    delete window._bokeh_onload_callbacks\n",
       "    console.info(\"Bokeh: all callbacks have finished\");\n",
       "  }\n",
       "\n",
       "  function load_libs(js_urls, callback) {\n",
       "    window._bokeh_onload_callbacks.push(callback);\n",
       "    if (window._bokeh_is_loading > 0) {\n",
       "      console.log(\"Bokeh: BokehJS is being loaded, scheduling callback at\", now());\n",
       "      return null;\n",
       "    }\n",
       "    if (js_urls == null || js_urls.length === 0) {\n",
       "      run_callbacks();\n",
       "      return null;\n",
       "    }\n",
       "    console.log(\"Bokeh: BokehJS not loaded, scheduling load and callback at\", now());\n",
       "    window._bokeh_is_loading = js_urls.length;\n",
       "    for (var i = 0; i < js_urls.length; i++) {\n",
       "      var url = js_urls[i];\n",
       "      var s = document.createElement('script');\n",
       "      s.src = url;\n",
       "      s.async = false;\n",
       "      s.onreadystatechange = s.onload = function() {\n",
       "        window._bokeh_is_loading--;\n",
       "        if (window._bokeh_is_loading === 0) {\n",
       "          console.log(\"Bokeh: all BokehJS libraries loaded\");\n",
       "          run_callbacks()\n",
       "        }\n",
       "      };\n",
       "      s.onerror = function() {\n",
       "        console.warn(\"failed to load library \" + url);\n",
       "      };\n",
       "      console.log(\"Bokeh: injecting script tag for BokehJS library: \", url);\n",
       "      document.getElementsByTagName(\"head\")[0].appendChild(s);\n",
       "    }\n",
       "  };var element = document.getElementById(\"889e198a-1a55-414a-93a6-140bcf78595f\");\n",
       "  if (element == null) {\n",
       "    console.log(\"Bokeh: ERROR: autoload.js configured with elementid '889e198a-1a55-414a-93a6-140bcf78595f' but no matching script tag was found. \")\n",
       "    return false;\n",
       "  }\n",
       "\n",
       "  var js_urls = [\"https://cdn.pydata.org/bokeh/release/bokeh-0.12.4.min.js\", \"https://cdn.pydata.org/bokeh/release/bokeh-widgets-0.12.4.min.js\"];\n",
       "\n",
       "  var inline_js = [\n",
       "    function(Bokeh) {\n",
       "      Bokeh.set_log_level(\"info\");\n",
       "    },\n",
       "    \n",
       "    function(Bokeh) {\n",
       "      \n",
       "      document.getElementById(\"889e198a-1a55-414a-93a6-140bcf78595f\").textContent = \"BokehJS is loading...\";\n",
       "    },\n",
       "    function(Bokeh) {\n",
       "      console.log(\"Bokeh: injecting CSS: https://cdn.pydata.org/bokeh/release/bokeh-0.12.4.min.css\");\n",
       "      Bokeh.embed.inject_css(\"https://cdn.pydata.org/bokeh/release/bokeh-0.12.4.min.css\");\n",
       "      console.log(\"Bokeh: injecting CSS: https://cdn.pydata.org/bokeh/release/bokeh-widgets-0.12.4.min.css\");\n",
       "      Bokeh.embed.inject_css(\"https://cdn.pydata.org/bokeh/release/bokeh-widgets-0.12.4.min.css\");\n",
       "    }\n",
       "  ];\n",
       "\n",
       "  function run_inline_js() {\n",
       "    \n",
       "    if ((window.Bokeh !== undefined) || (force === true)) {\n",
       "      for (var i = 0; i < inline_js.length; i++) {\n",
       "        inline_js[i](window.Bokeh);\n",
       "      }if (force === true) {\n",
       "        display_loaded();\n",
       "      }} else if (Date.now() < window._bokeh_timeout) {\n",
       "      setTimeout(run_inline_js, 100);\n",
       "    } else if (!window._bokeh_failed_load) {\n",
       "      console.log(\"Bokeh: BokehJS failed to load within specified timeout.\");\n",
       "      window._bokeh_failed_load = true;\n",
       "    } else if (force !== true) {\n",
       "      var cell = $(document.getElementById(\"889e198a-1a55-414a-93a6-140bcf78595f\")).parents('.cell').data().cell;\n",
       "      cell.output_area.append_execute_result(NB_LOAD_WARNING)\n",
       "    }\n",
       "\n",
       "  }\n",
       "\n",
       "  if (window._bokeh_is_loading === 0) {\n",
       "    console.log(\"Bokeh: BokehJS loaded, going straight to plotting\");\n",
       "    run_inline_js();\n",
       "  } else {\n",
       "    load_libs(js_urls, function() {\n",
       "      console.log(\"Bokeh: BokehJS plotting callback run at\", now());\n",
       "      run_inline_js();\n",
       "    });\n",
       "  }\n",
       "}(this));"
      ]
     },
     "metadata": {},
     "output_type": "display_data"
    }
   ],
   "source": [
    "import pandas as pd\n",
    "from bokeh.charts import output_notebook, output_file, show, Scatter, Histogram, TimeSeries\n",
    "from bokeh.plotting import figure, ColumnDataSource\n",
    "from bokeh.models import Range1d, HoverTool, ResizeTool, FixedTicker\n",
    "output_notebook()"
   ]
  },
  {
   "cell_type": "code",
   "execution_count": 2,
   "metadata": {
    "collapsed": true
   },
   "outputs": [],
   "source": [
    "dmrpp = pd.read_csv('../../../dmrpp_stats.csv')"
   ]
  },
  {
   "cell_type": "code",
   "execution_count": 3,
   "metadata": {
    "collapsed": false
   },
   "outputs": [
    {
     "name": "stdout",
     "output_type": "stream",
     "text": [
      "<class 'pandas.core.frame.DataFrame'>\n",
      "RangeIndex: 8120478 entries, 0 to 8120477\n",
      "Data columns (total 7 columns):\n",
      "File          object\n",
      "Dataset       object\n",
      "Chunk_Flag    bool\n",
      "UUID          object\n",
      "Checksum      object\n",
      "Offset        int64\n",
      "Size          int64\n",
      "dtypes: bool(1), int64(2), object(4)\n",
      "memory usage: 379.5+ MB\n"
     ]
    }
   ],
   "source": [
    "dmrpp.info()"
   ]
  },
  {
   "cell_type": "code",
   "execution_count": 4,
   "metadata": {
    "collapsed": false
   },
   "outputs": [
    {
     "data": {
      "text/html": [
       "<div>\n",
       "<table border=\"1\" class=\"dataframe\">\n",
       "  <thead>\n",
       "    <tr style=\"text-align: right;\">\n",
       "      <th></th>\n",
       "      <th>File</th>\n",
       "      <th>Dataset</th>\n",
       "      <th>Chunk_Flag</th>\n",
       "      <th>UUID</th>\n",
       "      <th>Checksum</th>\n",
       "      <th>Offset</th>\n",
       "      <th>Size</th>\n",
       "    </tr>\n",
       "  </thead>\n",
       "  <tbody>\n",
       "    <tr>\n",
       "      <th>0</th>\n",
       "      <td>AIRS.2015.01.01.L3.RetStd_IR001.v6.0.11.0.G150...</td>\n",
       "      <td>/TropHeight_TqJ_D_max</td>\n",
       "      <td>True</td>\n",
       "      <td>8c3b0087-973a-4073-8215-8490fd26065c</td>\n",
       "      <td>d4a492ad98ae783145c9286cf69e5b8a</td>\n",
       "      <td>283428105</td>\n",
       "      <td>149944</td>\n",
       "    </tr>\n",
       "    <tr>\n",
       "      <th>1</th>\n",
       "      <td>AIRS.2015.01.01.L3.RetStd_IR001.v6.0.11.0.G150...</td>\n",
       "      <td>/CoarseCloudFrc_TqJ_D_ct</td>\n",
       "      <td>True</td>\n",
       "      <td>065860ce-ebd0-465a-8512-bf7d56557a58</td>\n",
       "      <td>0555723dc275296109273ecf6bb8fe64</td>\n",
       "      <td>294468920</td>\n",
       "      <td>112388</td>\n",
       "    </tr>\n",
       "    <tr>\n",
       "      <th>2</th>\n",
       "      <td>AIRS.2015.01.01.L3.RetStd_IR001.v6.0.11.0.G150...</td>\n",
       "      <td>/O3_VMR_TqJ_D_min</td>\n",
       "      <td>True</td>\n",
       "      <td>9752def8-fd3a-462f-9f86-700a2790b89d</td>\n",
       "      <td>bcaf632733e1ef9ad9a281589c02c4dc</td>\n",
       "      <td>301573840</td>\n",
       "      <td>233452</td>\n",
       "    </tr>\n",
       "  </tbody>\n",
       "</table>\n",
       "</div>"
      ],
      "text/plain": [
       "                                                File  \\\n",
       "0  AIRS.2015.01.01.L3.RetStd_IR001.v6.0.11.0.G150...   \n",
       "1  AIRS.2015.01.01.L3.RetStd_IR001.v6.0.11.0.G150...   \n",
       "2  AIRS.2015.01.01.L3.RetStd_IR001.v6.0.11.0.G150...   \n",
       "\n",
       "                    Dataset Chunk_Flag                                  UUID  \\\n",
       "0     /TropHeight_TqJ_D_max       True  8c3b0087-973a-4073-8215-8490fd26065c   \n",
       "1  /CoarseCloudFrc_TqJ_D_ct       True  065860ce-ebd0-465a-8512-bf7d56557a58   \n",
       "2         /O3_VMR_TqJ_D_min       True  9752def8-fd3a-462f-9f86-700a2790b89d   \n",
       "\n",
       "                           Checksum     Offset    Size  \n",
       "0  d4a492ad98ae783145c9286cf69e5b8a  283428105  149944  \n",
       "1  0555723dc275296109273ecf6bb8fe64  294468920  112388  \n",
       "2  bcaf632733e1ef9ad9a281589c02c4dc  301573840  233452  "
      ]
     },
     "execution_count": 4,
     "metadata": {},
     "output_type": "execute_result"
    }
   ],
   "source": [
    "dmrpp.head(3)"
   ]
  },
  {
   "cell_type": "code",
   "execution_count": 5,
   "metadata": {
    "collapsed": false
   },
   "outputs": [
    {
     "data": {
      "text/html": [
       "<div>\n",
       "<table border=\"1\" class=\"dataframe\">\n",
       "  <thead>\n",
       "    <tr style=\"text-align: right;\">\n",
       "      <th></th>\n",
       "      <th>File</th>\n",
       "      <th>Dataset</th>\n",
       "      <th>Chunk_Flag</th>\n",
       "      <th>UUID</th>\n",
       "      <th>Checksum</th>\n",
       "      <th>Offset</th>\n",
       "      <th>Size</th>\n",
       "    </tr>\n",
       "  </thead>\n",
       "  <tbody>\n",
       "    <tr>\n",
       "      <th>8120475</th>\n",
       "      <td>za_2_2d_yz.h5</td>\n",
       "      <td>/HDFEOS/ZAS/ZA1/Data Fields/Temperature</td>\n",
       "      <td>False</td>\n",
       "      <td>38c4ac4b-8f4e-414e-a6c3-5342bacd0a60</td>\n",
       "      <td>ac971f91f30b76bc1b481501b0a53542</td>\n",
       "      <td>40696</td>\n",
       "      <td>32</td>\n",
       "    </tr>\n",
       "    <tr>\n",
       "      <th>8120476</th>\n",
       "      <td>za_2_2d_yz.h5</td>\n",
       "      <td>/HDFEOS/ZAS/ZA2/Data Fields/Temperature</td>\n",
       "      <td>False</td>\n",
       "      <td>1c73591f-e26c-402a-8429-0941e78a9708</td>\n",
       "      <td>d709add9a8fd30f7432e76d43def1494</td>\n",
       "      <td>40776</td>\n",
       "      <td>128</td>\n",
       "    </tr>\n",
       "    <tr>\n",
       "      <th>8120477</th>\n",
       "      <td>za_2_2d_yz.h5</td>\n",
       "      <td>/HDFEOS/ZAS/ZA1/Data Fields/Latitude</td>\n",
       "      <td>False</td>\n",
       "      <td>cf98febc-e0ea-4cac-ad5c-423e91ddbca8</td>\n",
       "      <td>6d8ca9f67d9914dd04b31533021b7e17</td>\n",
       "      <td>40680</td>\n",
       "      <td>16</td>\n",
       "    </tr>\n",
       "  </tbody>\n",
       "</table>\n",
       "</div>"
      ],
      "text/plain": [
       "                  File                                  Dataset Chunk_Flag  \\\n",
       "8120475  za_2_2d_yz.h5  /HDFEOS/ZAS/ZA1/Data Fields/Temperature      False   \n",
       "8120476  za_2_2d_yz.h5  /HDFEOS/ZAS/ZA2/Data Fields/Temperature      False   \n",
       "8120477  za_2_2d_yz.h5     /HDFEOS/ZAS/ZA1/Data Fields/Latitude      False   \n",
       "\n",
       "                                         UUID  \\\n",
       "8120475  38c4ac4b-8f4e-414e-a6c3-5342bacd0a60   \n",
       "8120476  1c73591f-e26c-402a-8429-0941e78a9708   \n",
       "8120477  cf98febc-e0ea-4cac-ad5c-423e91ddbca8   \n",
       "\n",
       "                                 Checksum  Offset  Size  \n",
       "8120475  ac971f91f30b76bc1b481501b0a53542   40696    32  \n",
       "8120476  d709add9a8fd30f7432e76d43def1494   40776   128  \n",
       "8120477  6d8ca9f67d9914dd04b31533021b7e17   40680    16  "
      ]
     },
     "execution_count": 5,
     "metadata": {},
     "output_type": "execute_result"
    }
   ],
   "source": [
    "dmrpp.tail(3)"
   ]
  },
  {
   "cell_type": "markdown",
   "metadata": {},
   "source": [
    "Create a new column for file types:"
   ]
  },
  {
   "cell_type": "code",
   "execution_count": 6,
   "metadata": {
    "collapsed": true
   },
   "outputs": [],
   "source": [
    "def file_type(v):\n",
    "    if v.startswith('AIRS'):\n",
    "        return 'airs'\n",
    "    elif v.startswith('MERRA2'):\n",
    "        return 'merra'\n",
    "    else:\n",
    "        return 'sample'"
   ]
  },
  {
   "cell_type": "code",
   "execution_count": 7,
   "metadata": {
    "collapsed": true
   },
   "outputs": [],
   "source": [
    "dmrpp['Type'] = dmrpp['File'].map(file_type)"
   ]
  },
  {
   "cell_type": "markdown",
   "metadata": {},
   "source": [
    "What we have now?"
   ]
  },
  {
   "cell_type": "code",
   "execution_count": 8,
   "metadata": {
    "collapsed": false
   },
   "outputs": [
    {
     "name": "stdout",
     "output_type": "stream",
     "text": [
      "<class 'pandas.core.frame.DataFrame'>\n",
      "RangeIndex: 8120478 entries, 0 to 8120477\n",
      "Data columns (total 8 columns):\n",
      "File          object\n",
      "Dataset       object\n",
      "Chunk_Flag    bool\n",
      "UUID          object\n",
      "Checksum      object\n",
      "Offset        int64\n",
      "Size          int64\n",
      "Type          object\n",
      "dtypes: bool(1), int64(2), object(5)\n",
      "memory usage: 441.4+ MB\n"
     ]
    }
   ],
   "source": [
    "dmrpp.info()"
   ]
  },
  {
   "cell_type": "markdown",
   "metadata": {},
   "source": [
    "## How many records for each file type?"
   ]
  },
  {
   "cell_type": "code",
   "execution_count": 9,
   "metadata": {
    "collapsed": true
   },
   "outputs": [],
   "source": [
    "grp = dmrpp.groupby('Type')"
   ]
  },
  {
   "cell_type": "code",
   "execution_count": 10,
   "metadata": {
    "collapsed": false
   },
   "outputs": [
    {
     "data": {
      "text/plain": [
       "Type\n",
       "airs       569765\n",
       "merra     7494823\n",
       "sample      55890\n",
       "dtype: int64"
      ]
     },
     "execution_count": 10,
     "metadata": {},
     "output_type": "execute_result"
    }
   ],
   "source": [
    "grp.size()"
   ]
  },
  {
   "cell_type": "markdown",
   "metadata": {},
   "source": [
    "## Analysis: AIRS"
   ]
  },
  {
   "cell_type": "markdown",
   "metadata": {},
   "source": [
    "Select only the AIRS data:"
   ]
  },
  {
   "cell_type": "code",
   "execution_count": 11,
   "metadata": {
    "collapsed": true
   },
   "outputs": [],
   "source": [
    "airs = dmrpp[dmrpp.Type == 'airs']"
   ]
  },
  {
   "cell_type": "code",
   "execution_count": 12,
   "metadata": {
    "collapsed": false
   },
   "outputs": [
    {
     "name": "stdout",
     "output_type": "stream",
     "text": [
      "<class 'pandas.core.frame.DataFrame'>\n",
      "Int64Index: 569765 entries, 0 to 569764\n",
      "Data columns (total 8 columns):\n",
      "File          569765 non-null object\n",
      "Dataset       569765 non-null object\n",
      "Chunk_Flag    569765 non-null bool\n",
      "UUID          569765 non-null object\n",
      "Checksum      569765 non-null object\n",
      "Offset        569765 non-null int64\n",
      "Size          569765 non-null int64\n",
      "Type          569765 non-null object\n",
      "dtypes: bool(1), int64(2), object(5)\n",
      "memory usage: 35.3+ MB\n"
     ]
    }
   ],
   "source": [
    "airs.info()"
   ]
  },
  {
   "cell_type": "markdown",
   "metadata": {},
   "source": [
    "### Byte Streams"
   ]
  },
  {
   "cell_type": "markdown",
   "metadata": {},
   "source": [
    "#### How many byte streams with unique content?"
   ]
  },
  {
   "cell_type": "code",
   "execution_count": 13,
   "metadata": {
    "collapsed": false
   },
   "outputs": [],
   "source": [
    "x = airs.Checksum.value_counts()"
   ]
  },
  {
   "cell_type": "code",
   "execution_count": 14,
   "metadata": {
    "collapsed": false
   },
   "outputs": [
    {
     "data": {
      "text/plain": [
       "330353"
      ]
     },
     "execution_count": 14,
     "metadata": {},
     "output_type": "execute_result"
    }
   ],
   "source": [
    "len(x.index)"
   ]
  },
  {
   "cell_type": "markdown",
   "metadata": {},
   "source": [
    "#### Which are the most frequent byte streams based on content?"
   ]
  },
  {
   "cell_type": "code",
   "execution_count": 15,
   "metadata": {
    "collapsed": false
   },
   "outputs": [
    {
     "data": {
      "text/plain": [
       "c55324594a0787856d9b908fc7a7a201    49640\n",
       "a43f0ca2084e297f3aa9763a828dcb0f     6570\n",
       "13194f25768e29a4921fa9f6ba022342     1460\n",
       "7c90147b4fcb72404dd36c4b0d82051d     1460\n",
       "7b744463b12501af7f1b66dece5e41b4      730\n",
       "6c9db2946c92fcf6e0d9f8c3bb49d1ff      365\n",
       "61f33d4ee48f21fef8b6ce240dbf12c2      365\n",
       "a71f8216cff7fca9d2c00e768589efdd      365\n",
       "cd581cc833cabac662ad43499330bed6      365\n",
       "19c03d94e619f2f3d8ad1428c6c1389c      365\n",
       "cce9f79f6073bdaf715f1a5a07bf72ec      365\n",
       "f6da25808f22177cef49588cc08740ca      365\n",
       "e03cc92919bb584379ea825173440b1c      365\n",
       "5bbb0bd53711bae49dc9e3c6b37bebd6      365\n",
       "08676799dc49855f9d71198e0c49d1ec      365\n",
       "0b2396e0349f169f6f5e16650f4063c5      365\n",
       "5bc7774e2f1d504550305b15d8e85def       15\n",
       "29269997ffd6cd9f65c7ccabfe61ac71       15\n",
       "a8b4f67637572054c79a78fab91d4524       15\n",
       "2ee81b6eacea4b1ebdcda06b840a41e9       15\n",
       "e8188378175722934e79060c3ca993c5       15\n",
       "f9c9b72c6e16f8bcef0abe371a8a5750       15\n",
       "998a80af7b5025e8854efb8fc72aef99       15\n",
       "071aa22774a7d2f010beab08ee786039       15\n",
       "7e4db6a808062a080bdfa2678d82d996       15\n",
       "0e758468c6522eae09374b4a76ced520       15\n",
       "86ddeec2d30c8b82168bccc99949cadb       15\n",
       "9aaba3ad47c74453f0c4da8f51b0c4fa       15\n",
       "53491997d9bea760f1c1d96111d95c4f       15\n",
       "4608177b98ca2dee27ee3f501fa60b95       15\n",
       "                                    ...  \n",
       "c455cdc07652e01c7947589d336a798d        1\n",
       "89874d04c35707248ef580b7d15b6132        1\n",
       "1e5b6c7d92cd9ebc684b16a7f2c37345        1\n",
       "ca6ed10af0c6fc3e6e9dac6fbd58081e        1\n",
       "bb57a3826c39077554261acd3cc8eb80        1\n",
       "ee8ad3b28ab3a4094582dcc1f499f223        1\n",
       "f984d90b8dfc32ec6da8aef399ed5950        1\n",
       "f35702fa7f71a7d92685ed4105aeb779        1\n",
       "8531c1064ddfd6814d986bf4378eb753        1\n",
       "feca2a3e72563794e7db06aa819cb0af        1\n",
       "07b0958752d980845fe73ec947ee479f        1\n",
       "4372c558731b5d4f41de3adefa91d05a        1\n",
       "f994693087f5c340f2fabcea5ec61a32        1\n",
       "e93b4b50c4552242c340d7f0ff5e4dec        1\n",
       "e39c3568f9298f18f0b2e7b015781548        1\n",
       "94c12ddbf04d8b388908ba95ae4c7a09        1\n",
       "fd7279a55515921355fe31a4e7a80ea7        1\n",
       "165d7400512cf1a899160b04c5c81201        1\n",
       "74ce63ed01cedc009b9d204bf1513799        1\n",
       "128572ae4272f559d637ae43f20c50a9        1\n",
       "695eb4a38c7a8b61b39d2874f7d42416        1\n",
       "1e9472438b8d1cae22f1595c2ed047f2        1\n",
       "70d7f46e183beeb1b1563a47e88e7b77        1\n",
       "b109dc90b7421d03ac8e401c8baf453b        1\n",
       "d6aa75338d436684edf1a1d207b9e1d1        1\n",
       "15ef74e042bd7ace8fb2ad2bd90b4f1d        1\n",
       "1feeec57e19637b4617d7c2f89ae20b2        1\n",
       "8757825d7d554e437b9f7873439104d9        1\n",
       "7e1e79935bb527115d55d4799e0dbee0        1\n",
       "59f48956cf7baa2f9b0a5d1ce3385865        1\n",
       "Name: Checksum, dtype: int64"
      ]
     },
     "execution_count": 15,
     "metadata": {},
     "output_type": "execute_result"
    }
   ],
   "source": [
    "x.sort_values(ascending=False)"
   ]
  },
  {
   "cell_type": "markdown",
   "metadata": {},
   "source": [
    "#### Where is the same byte stream stored?"
   ]
  },
  {
   "cell_type": "markdown",
   "metadata": {},
   "source": [
    "Byte stream we are looking for:"
   ]
  },
  {
   "cell_type": "code",
   "execution_count": 16,
   "metadata": {
    "collapsed": true
   },
   "outputs": [],
   "source": [
    "cksum = 'c55324594a0787856d9b908fc7a7a201'"
   ]
  },
  {
   "cell_type": "code",
   "execution_count": 17,
   "metadata": {
    "collapsed": true
   },
   "outputs": [],
   "source": [
    "grp = airs.groupby('Checksum')"
   ]
  },
  {
   "cell_type": "markdown",
   "metadata": {},
   "source": [
    "Per dataset across all AIRS files that have it:"
   ]
  },
  {
   "cell_type": "code",
   "execution_count": 18,
   "metadata": {
    "collapsed": false
   },
   "outputs": [
    {
     "data": {
      "text/plain": [
       "/Temperature_MW_D_sdev    2920\n",
       "/GPHeight_MW_A_min        2920\n",
       "/GPHeight_MW_D_min        2920\n",
       "/GPHeight_MW_D_sdev       2920\n",
       "/Temperature_MW_A         2920\n",
       "/GPHeight_MW_A_max        2920\n",
       "/Temperature_MW_D_min     2920\n",
       "/Temperature_MW_A_min     2920\n",
       "/GPHeight_MW_D_max        2920\n",
       "/Temperature_MW_D         2920\n",
       "/GPHeight_MW_D            2920\n",
       "/Temperature_MW_A_max     2920\n",
       "/GPHeight_MW_A_sdev       2920\n",
       "/Temperature_MW_A_sdev    2920\n",
       "/GPHeight_MW_A            2920\n",
       "/Temperature_MW_D_max     2920\n",
       "/Emis_MW_A_sdev            365\n",
       "/Emis_MW_A_min             365\n",
       "/Emis_MW_A                 365\n",
       "/Emis_MW_D_min             365\n",
       "/Emis_MW_D                 365\n",
       "/Emis_MW_A_max             365\n",
       "/Emis_MW_D_sdev            365\n",
       "/Emis_MW_D_max             365\n",
       "Name: Dataset, dtype: int64"
      ]
     },
     "execution_count": 18,
     "metadata": {},
     "output_type": "execute_result"
    }
   ],
   "source": [
    "grp.get_group(cksum)['Dataset'].value_counts()"
   ]
  },
  {
   "cell_type": "markdown",
   "metadata": {},
   "source": [
    "Per file including all its datasets:"
   ]
  },
  {
   "cell_type": "code",
   "execution_count": 19,
   "metadata": {
    "collapsed": false
   },
   "outputs": [
    {
     "data": {
      "text/plain": [
       "AIRS.2015.04.03.L3.RetStd_IR001.v6.0.31.0.G15188110828.nc.h5    136\n",
       "AIRS.2015.06.11.L3.RetStd_IR001.v6.0.31.0.G15203000739.nc.h5    136\n",
       "AIRS.2015.01.18.L3.RetStd_IR001.v6.0.11.0.G15019172037.nc.h5    136\n",
       "AIRS.2015.08.27.L3.RetStd_IR001.v6.0.31.0.G15240181026.nc.h5    136\n",
       "AIRS.2015.07.30.L3.RetStd_IR001.v6.0.31.0.G15231110946.nc.h5    136\n",
       "AIRS.2015.09.25.L3.RetStd_IR001.v6.0.31.0.G15280125816.nc.h5    136\n",
       "AIRS.2015.10.09.L3.RetStd_IR001.v6.0.31.0.G15283180208.nc.h5    136\n",
       "AIRS.2015.03.21.L3.RetStd_IR001.v6.0.11.0.G15082204057.nc.h5    136\n",
       "AIRS.2015.02.11.L3.RetStd_IR001.v6.0.11.0.G15043174648.nc.h5    136\n",
       "AIRS.2015.01.08.L3.RetStd_IR001.v6.0.11.0.G15009164045.nc.h5    136\n",
       "AIRS.2015.11.19.L3.RetStd_IR001.v6.0.31.0.G15327171246.nc.h5    136\n",
       "AIRS.2015.11.14.L3.RetStd_IR001.v6.0.31.0.G15319171913.nc.h5    136\n",
       "AIRS.2015.10.15.L3.RetStd_IR001.v6.0.31.0.G15292105844.nc.h5    136\n",
       "AIRS.2015.01.31.L3.RetStd_IR001.v6.0.11.0.G15033002627.nc.h5    136\n",
       "AIRS.2015.09.28.L3.RetStd_IR001.v6.0.31.0.G15272182749.nc.h5    136\n",
       "AIRS.2015.03.12.L3.RetStd_IR001.v6.0.11.0.G15075113344.nc.h5    136\n",
       "AIRS.2015.09.19.L3.RetStd_IR001.v6.0.31.0.G15286123632.nc.h5    136\n",
       "AIRS.2015.10.11.L3.RetStd_IR001.v6.0.31.0.G15286170440.nc.h5    136\n",
       "AIRS.2015.11.06.L3.RetStd_IR001.v6.0.31.0.G15311174328.nc.h5    136\n",
       "AIRS.2015.06.20.L3.RetStd_IR001.v6.0.31.0.G15215201033.nc.h5    136\n",
       "AIRS.2015.03.19.L3.RetStd_IR001.v6.0.11.0.G15086135823.nc.h5    136\n",
       "AIRS.2015.03.25.L3.RetStd_IR001.v6.0.31.0.G15187110451.nc.h5    136\n",
       "AIRS.2015.09.14.L3.RetStd_IR001.v6.0.31.0.G15259120757.nc.h5    136\n",
       "AIRS.2015.07.08.L3.RetStd_IR001.v6.0.31.0.G15191040651.nc.h5    136\n",
       "AIRS.2015.02.20.L3.RetStd_IR001.v6.0.11.0.G15052190632.nc.h5    136\n",
       "AIRS.2015.09.02.L3.RetStd_IR001.v6.0.31.0.G15246185957.nc.h5    136\n",
       "AIRS.2015.08.13.L3.RetStd_IR001.v6.0.31.0.G15226183747.nc.h5    136\n",
       "AIRS.2015.04.30.L3.RetStd_IR001.v6.0.31.0.G15205024531.nc.h5    136\n",
       "AIRS.2015.05.09.L3.RetStd_IR001.v6.0.31.0.G15206170855.nc.h5    136\n",
       "AIRS.2015.02.16.L3.RetStd_IR001.v6.0.11.0.G15075141321.nc.h5    136\n",
       "                                                               ... \n",
       "AIRS.2015.09.03.L3.RetStd_IR001.v6.0.31.0.G15251121607.nc.h5    136\n",
       "AIRS.2015.01.28.L3.RetStd_IR001.v6.0.11.0.G15029200444.nc.h5    136\n",
       "AIRS.2015.10.17.L3.RetStd_IR001.v6.0.31.0.G15291213341.nc.h5    136\n",
       "AIRS.2015.08.14.L3.RetStd_IR001.v6.0.31.0.G15229090959.nc.h5    136\n",
       "AIRS.2015.06.19.L3.RetStd_IR001.v6.0.31.0.G15211041208.nc.h5    136\n",
       "AIRS.2015.11.07.L3.RetStd_IR001.v6.0.31.0.G15313022554.nc.h5    136\n",
       "AIRS.2015.09.21.L3.RetStd_IR001.v6.0.31.0.G15281122640.nc.h5    136\n",
       "AIRS.2015.04.10.L3.RetStd_IR001.v6.0.31.0.G15190021354.nc.h5    136\n",
       "AIRS.2015.04.04.L3.RetStd_IR001.v6.0.31.0.G15188134210.nc.h5    136\n",
       "AIRS.2015.10.27.L3.RetStd_IR001.v6.0.31.0.G15301185928.nc.h5    136\n",
       "AIRS.2015.01.10.L3.RetStd_IR001.v6.0.11.0.G15011162002.nc.h5    136\n",
       "AIRS.2015.03.06.L3.RetStd_IR001.v6.0.11.0.G15066191432.nc.h5    136\n",
       "AIRS.2015.09.06.L3.RetStd_IR001.v6.0.31.0.G15250191403.nc.h5    136\n",
       "AIRS.2015.10.25.L3.RetStd_IR001.v6.0.31.0.G15299190428.nc.h5    136\n",
       "AIRS.2015.07.18.L3.RetStd_IR001.v6.0.31.0.G15200234455.nc.h5    136\n",
       "AIRS.2015.03.11.L3.RetStd_IR001.v6.0.11.0.G15071181425.nc.h5    136\n",
       "AIRS.2015.08.01.L3.RetStd_IR001.v6.0.31.0.G15214230515.nc.h5    136\n",
       "AIRS.2015.11.24.L3.RetStd_IR001.v6.0.31.0.G15329174949.nc.h5    136\n",
       "AIRS.2015.01.09.L3.RetStd_IR001.v6.0.11.0.G15010163004.nc.h5    136\n",
       "AIRS.2015.09.15.L3.RetStd_IR001.v6.0.31.0.G15259183006.nc.h5    136\n",
       "AIRS.2015.12.10.L3.RetStd_IR001.v6.0.31.0.G15345173547.nc.h5    136\n",
       "AIRS.2015.08.10.L3.RetStd_IR001.v6.0.31.0.G15224103409.nc.h5    136\n",
       "AIRS.2015.05.28.L3.RetStd_IR001.v6.0.31.0.G15225114613.nc.h5    136\n",
       "AIRS.2015.11.30.L3.RetStd_IR001.v6.0.31.0.G15335173247.nc.h5    136\n",
       "AIRS.2015.03.20.L3.RetStd_IR001.v6.0.11.0.G15082202212.nc.h5    136\n",
       "AIRS.2015.12.03.L3.RetStd_IR001.v6.0.31.0.G15338200027.nc.h5    136\n",
       "AIRS.2015.06.13.L3.RetStd_IR001.v6.0.31.0.G15207022701.nc.h5    136\n",
       "AIRS.2015.12.05.L3.RetStd_IR001.v6.0.31.0.G15340172926.nc.h5    136\n",
       "AIRS.2015.06.09.L3.RetStd_IR001.v6.0.31.0.G15202125530.nc.h5    136\n",
       "AIRS.2015.08.28.L3.RetStd_IR001.v6.0.31.0.G15241175425.nc.h5    136\n",
       "Name: File, dtype: int64"
      ]
     },
     "execution_count": 19,
     "metadata": {},
     "output_type": "execute_result"
    }
   ],
   "source": [
    "grp.get_group(cksum)['File'].value_counts()"
   ]
  },
  {
   "cell_type": "markdown",
   "metadata": {},
   "source": [
    "#### What is the total number of byte streams in the AIRS files?"
   ]
  },
  {
   "cell_type": "code",
   "execution_count": 20,
   "metadata": {
    "collapsed": false
   },
   "outputs": [
    {
     "data": {
      "text/plain": [
       "569765"
      ]
     },
     "execution_count": 20,
     "metadata": {},
     "output_type": "execute_result"
    }
   ],
   "source": [
    "x.sum()"
   ]
  },
  {
   "cell_type": "markdown",
   "metadata": {},
   "source": [
    "#### What is the percentage reduction in number of S3 objects based on repeating checksums?"
   ]
  },
  {
   "cell_type": "code",
   "execution_count": 21,
   "metadata": {
    "collapsed": false
   },
   "outputs": [
    {
     "data": {
      "text/plain": [
       "-42.019429062859246"
      ]
     },
     "execution_count": 21,
     "metadata": {},
     "output_type": "execute_result"
    }
   ],
   "source": [
    "100 * (len(x.index)/x.sum() - 1)"
   ]
  },
  {
   "cell_type": "markdown",
   "metadata": {},
   "source": [
    "#### What is the percentage reduction in bytes stored in S3 based on repeating checksums?"
   ]
  },
  {
   "cell_type": "code",
   "execution_count": 22,
   "metadata": {
    "collapsed": false
   },
   "outputs": [
    {
     "data": {
      "text/plain": [
       "114762412036"
      ]
     },
     "execution_count": 22,
     "metadata": {},
     "output_type": "execute_result"
    }
   ],
   "source": [
    "before = airs.Size.sum()\n",
    "before"
   ]
  },
  {
   "cell_type": "code",
   "execution_count": 23,
   "metadata": {
    "collapsed": false
   },
   "outputs": [
    {
     "data": {
      "text/plain": [
       "80984748175"
      ]
     },
     "execution_count": 23,
     "metadata": {},
     "output_type": "execute_result"
    }
   ],
   "source": [
    "after = airs.drop_duplicates('Checksum')['Size'].sum()\n",
    "after"
   ]
  },
  {
   "cell_type": "code",
   "execution_count": 24,
   "metadata": {
    "collapsed": false
   },
   "outputs": [
    {
     "data": {
      "text/plain": [
       "-29.432689032715899"
      ]
     },
     "execution_count": 24,
     "metadata": {},
     "output_type": "execute_result"
    }
   ],
   "source": [
    "100 * (after/before - 1)"
   ]
  },
  {
   "cell_type": "markdown",
   "metadata": {},
   "source": [
    "#### What is the size statistics for unique byte streams?"
   ]
  },
  {
   "cell_type": "code",
   "execution_count": 25,
   "metadata": {
    "collapsed": false
   },
   "outputs": [
    {
     "data": {
      "text/html": [
       "\n",
       "\n",
       "    <div class=\"bk-root\">\n",
       "        <div class=\"bk-plotdiv\" id=\"13e3b41e-6f85-4f18-9883-f9d3429a0678\"></div>\n",
       "    </div>\n",
       "<script type=\"text/javascript\">\n",
       "  \n",
       "  (function(global) {\n",
       "    function now() {\n",
       "      return new Date();\n",
       "    }\n",
       "  \n",
       "    var force = false;\n",
       "  \n",
       "    if (typeof (window._bokeh_onload_callbacks) === \"undefined\" || force === true) {\n",
       "      window._bokeh_onload_callbacks = [];\n",
       "      window._bokeh_is_loading = undefined;\n",
       "    }\n",
       "  \n",
       "  \n",
       "    \n",
       "    if (typeof (window._bokeh_timeout) === \"undefined\" || force === true) {\n",
       "      window._bokeh_timeout = Date.now() + 0;\n",
       "      window._bokeh_failed_load = false;\n",
       "    }\n",
       "  \n",
       "    var NB_LOAD_WARNING = {'data': {'text/html':\n",
       "       \"<div style='background-color: #fdd'>\\n\"+\n",
       "       \"<p>\\n\"+\n",
       "       \"BokehJS does not appear to have successfully loaded. If loading BokehJS from CDN, this \\n\"+\n",
       "       \"may be due to a slow or bad network connection. Possible fixes:\\n\"+\n",
       "       \"</p>\\n\"+\n",
       "       \"<ul>\\n\"+\n",
       "       \"<li>re-rerun `output_notebook()` to attempt to load from CDN again, or</li>\\n\"+\n",
       "       \"<li>use INLINE resources instead, as so:</li>\\n\"+\n",
       "       \"</ul>\\n\"+\n",
       "       \"<code>\\n\"+\n",
       "       \"from bokeh.resources import INLINE\\n\"+\n",
       "       \"output_notebook(resources=INLINE)\\n\"+\n",
       "       \"</code>\\n\"+\n",
       "       \"</div>\"}};\n",
       "  \n",
       "    function display_loaded() {\n",
       "      if (window.Bokeh !== undefined) {\n",
       "        document.getElementById(\"13e3b41e-6f85-4f18-9883-f9d3429a0678\").textContent = \"BokehJS successfully loaded.\";\n",
       "      } else if (Date.now() < window._bokeh_timeout) {\n",
       "        setTimeout(display_loaded, 100)\n",
       "      }\n",
       "    }\n",
       "  \n",
       "    function run_callbacks() {\n",
       "      window._bokeh_onload_callbacks.forEach(function(callback) { callback() });\n",
       "      delete window._bokeh_onload_callbacks\n",
       "      console.info(\"Bokeh: all callbacks have finished\");\n",
       "    }\n",
       "  \n",
       "    function load_libs(js_urls, callback) {\n",
       "      window._bokeh_onload_callbacks.push(callback);\n",
       "      if (window._bokeh_is_loading > 0) {\n",
       "        console.log(\"Bokeh: BokehJS is being loaded, scheduling callback at\", now());\n",
       "        return null;\n",
       "      }\n",
       "      if (js_urls == null || js_urls.length === 0) {\n",
       "        run_callbacks();\n",
       "        return null;\n",
       "      }\n",
       "      console.log(\"Bokeh: BokehJS not loaded, scheduling load and callback at\", now());\n",
       "      window._bokeh_is_loading = js_urls.length;\n",
       "      for (var i = 0; i < js_urls.length; i++) {\n",
       "        var url = js_urls[i];\n",
       "        var s = document.createElement('script');\n",
       "        s.src = url;\n",
       "        s.async = false;\n",
       "        s.onreadystatechange = s.onload = function() {\n",
       "          window._bokeh_is_loading--;\n",
       "          if (window._bokeh_is_loading === 0) {\n",
       "            console.log(\"Bokeh: all BokehJS libraries loaded\");\n",
       "            run_callbacks()\n",
       "          }\n",
       "        };\n",
       "        s.onerror = function() {\n",
       "          console.warn(\"failed to load library \" + url);\n",
       "        };\n",
       "        console.log(\"Bokeh: injecting script tag for BokehJS library: \", url);\n",
       "        document.getElementsByTagName(\"head\")[0].appendChild(s);\n",
       "      }\n",
       "    };var element = document.getElementById(\"13e3b41e-6f85-4f18-9883-f9d3429a0678\");\n",
       "    if (element == null) {\n",
       "      console.log(\"Bokeh: ERROR: autoload.js configured with elementid '13e3b41e-6f85-4f18-9883-f9d3429a0678' but no matching script tag was found. \")\n",
       "      return false;\n",
       "    }\n",
       "  \n",
       "    var js_urls = [];\n",
       "  \n",
       "    var inline_js = [\n",
       "      function(Bokeh) {\n",
       "        (function() {\n",
       "          var fn = function() {\n",
       "            var docs_json = {\"ad06f86c-6c7f-4b48-91c6-b2d380ae6aed\":{\"roots\":{\"references\":[{\"attributes\":{\"data_source\":{\"id\":\"8b21e01b-9e9e-4dc0-b79e-3492dd9765c2\",\"type\":\"ColumnDataSource\"},\"glyph\":{\"id\":\"73d83dfe-9fd5-4492-9f4d-60a4df3b3db5\",\"type\":\"Rect\"},\"hover_glyph\":null,\"nonselection_glyph\":null,\"selection_glyph\":null},\"id\":\"5351d4b9-d78c-43f0-a96c-d29ee333610f\",\"type\":\"GlyphRenderer\"},{\"attributes\":{\"data_source\":{\"id\":\"8e98e987-a59f-496b-827c-ec646a98fadc\",\"type\":\"ColumnDataSource\"},\"glyph\":{\"id\":\"a88f557c-2ea0-4c6d-96cb-a45f21fe6301\",\"type\":\"Rect\"},\"hover_glyph\":null,\"nonselection_glyph\":null,\"selection_glyph\":null},\"id\":\"1b571c7e-c117-46dd-a39e-fc8b19418fd6\",\"type\":\"GlyphRenderer\"},{\"attributes\":{},\"id\":\"325c9d8d-8a2e-4f60-9151-5f1660e9425d\",\"type\":\"ToolEvents\"},{\"attributes\":{\"callback\":null,\"column_names\":[\"y\",\"line_color\",\"x\",\"fill_alpha\",\"width\",\"color\",\"height\",\"label\",\"line_alpha\"],\"data\":{\"chart_index\":[\"[0.020000, 22.465820]\"],\"color\":[\"#f22c40\"],\"fill_alpha\":[0.8],\"height\":[2243.0],\"label\":[\"[0.020000, 22.465820]\"],\"line_alpha\":[1.0],\"line_color\":[\"black\"],\"width\":[22.445819999999998],\"x\":[\"11.24291\"],\"y\":[1121.5]}},\"id\":\"c9e88ff5-c080-4504-a4d6-0d95d1cc327c\",\"type\":\"ColumnDataSource\"},{\"attributes\":{\"fill_alpha\":{\"field\":\"fill_alpha\"},\"fill_color\":{\"field\":\"color\"},\"height\":{\"field\":\"height\",\"units\":\"data\"},\"line_color\":{\"field\":\"line_color\"},\"width\":{\"field\":\"width\",\"units\":\"data\"},\"x\":{\"field\":\"x\"},\"y\":{\"field\":\"y\"}},\"id\":\"94e3bb94-ce72-4d7e-800e-a6992cb53ac0\",\"type\":\"Rect\"},{\"attributes\":{\"data_source\":{\"id\":\"fa7bca19-100b-49c1-8df3-367c74e39ed2\",\"type\":\"ColumnDataSource\"},\"glyph\":{\"id\":\"b52714ff-ffda-40de-9215-7bccb44a18c0\",\"type\":\"Rect\"},\"hover_glyph\":null,\"nonselection_glyph\":null,\"selection_glyph\":null},\"id\":\"5198fc98-c5c4-4616-8c6f-fa732e663ad3\",\"type\":\"GlyphRenderer\"},{\"attributes\":{\"data_source\":{\"id\":\"bf0399d6-0309-46e7-bbb5-c2e3891834bf\",\"type\":\"ColumnDataSource\"},\"glyph\":{\"id\":\"bbe7961a-8faf-4cca-a877-af9ac8f8d3c7\",\"type\":\"Rect\"},\"hover_glyph\":null,\"nonselection_glyph\":null,\"selection_glyph\":null},\"id\":\"9ae59bd9-2434-40ad-a72f-aa4b1d58fae6\",\"type\":\"GlyphRenderer\"},{\"attributes\":{\"data_source\":{\"id\":\"4377d544-1977-4a68-958d-2d312f0c1b71\",\"type\":\"ColumnDataSource\"},\"glyph\":{\"id\":\"5762ddc8-c85a-4122-9ed8-6e9cd55da4a5\",\"type\":\"Rect\"},\"hover_glyph\":null,\"nonselection_glyph\":null,\"selection_glyph\":null},\"id\":\"38650a55-5e39-4d56-aab1-59970674d4d4\",\"type\":\"GlyphRenderer\"},{\"attributes\":{\"data_source\":{\"id\":\"d18015be-6227-475b-a69c-a781add24113\",\"type\":\"ColumnDataSource\"},\"glyph\":{\"id\":\"00b24043-b0c8-444c-92b7-43acbd141cdc\",\"type\":\"Rect\"},\"hover_glyph\":null,\"nonselection_glyph\":null,\"selection_glyph\":null},\"id\":\"4f5e8445-3761-438a-b9f9-4ba9e1f8dd40\",\"type\":\"GlyphRenderer\"},{\"attributes\":{\"data_source\":{\"id\":\"52b151c5-1844-4e85-a749-5f08928130d6\",\"type\":\"ColumnDataSource\"},\"glyph\":{\"id\":\"085653bb-50b1-4f95-90d7-f49410bed055\",\"type\":\"Rect\"},\"hover_glyph\":null,\"nonselection_glyph\":null,\"selection_glyph\":null},\"id\":\"9ca5ea4f-a9e7-4fcd-a01c-76d659b1f476\",\"type\":\"GlyphRenderer\"},{\"attributes\":{\"fill_alpha\":{\"field\":\"fill_alpha\"},\"fill_color\":{\"field\":\"color\"},\"height\":{\"field\":\"height\",\"units\":\"data\"},\"line_color\":{\"field\":\"line_color\"},\"width\":{\"field\":\"width\",\"units\":\"data\"},\"x\":{\"field\":\"x\"},\"y\":{\"field\":\"y\"}},\"id\":\"28f0de2d-b2f6-4b19-aab3-3532332b46e1\",\"type\":\"Rect\"},{\"attributes\":{\"callback\":null,\"column_names\":[\"y\",\"line_color\",\"x\",\"fill_alpha\",\"width\",\"color\",\"height\",\"label\",\"line_alpha\"],\"data\":{\"chart_index\":[\"(44.911640, 67.357460]\"],\"color\":[\"#f22c40\"],\"fill_alpha\":[0.8],\"height\":[16716.0],\"label\":[\"(44.911640, 67.357460]\"],\"line_alpha\":[1.0],\"line_color\":[\"black\"],\"width\":[22.44581999999999],\"x\":[\"56.134550000000004\"],\"y\":[8358.0]}},\"id\":\"fc9b74f6-1e19-49b3-9c15-e66b5696b743\",\"type\":\"ColumnDataSource\"},{\"attributes\":{\"data_source\":{\"id\":\"6b5dc0f6-8c49-47ab-a2be-ae7553437caf\",\"type\":\"ColumnDataSource\"},\"glyph\":{\"id\":\"91bfdc7f-12d5-45f9-90a6-53e9f7cf0376\",\"type\":\"Rect\"},\"hover_glyph\":null,\"nonselection_glyph\":null,\"selection_glyph\":null},\"id\":\"5770bc50-2a8e-4a12-b708-a3b23830eb70\",\"type\":\"GlyphRenderer\"},{\"attributes\":{\"data_source\":{\"id\":\"c733c56b-88ef-4dfb-856e-f1a729dbcbed\",\"type\":\"ColumnDataSource\"},\"glyph\":{\"id\":\"94e3bb94-ce72-4d7e-800e-a6992cb53ac0\",\"type\":\"Rect\"},\"hover_glyph\":null,\"nonselection_glyph\":null,\"selection_glyph\":null},\"id\":\"4309c091-2272-4149-92e1-21dff44ccfce\",\"type\":\"GlyphRenderer\"},{\"attributes\":{},\"id\":\"bb858acc-558b-4f54-8249-407a285422dd\",\"type\":\"BasicTickFormatter\"},{\"attributes\":{\"data_source\":{\"id\":\"bddca1a3-881e-4e18-adc0-127f20baba1b\",\"type\":\"ColumnDataSource\"},\"glyph\":{\"id\":\"f84703bd-80f3-4311-84dd-ff01ba7d55e6\",\"type\":\"Rect\"},\"hover_glyph\":null,\"nonselection_glyph\":null,\"selection_glyph\":null},\"id\":\"4c30e91f-af97-4457-9a06-321422a58101\",\"type\":\"GlyphRenderer\"},{\"attributes\":{\"plot\":{\"id\":\"1e65405e-34d7-42fb-ad18-a0b8df015c0a\",\"subtype\":\"Chart\",\"type\":\"Plot\"}},\"id\":\"863528ca-2b37-4825-bf7e-b37cf870a0bc\",\"type\":\"WheelZoomTool\"},{\"attributes\":{\"data_source\":{\"id\":\"349e1abb-dc0d-4bbc-81a5-aeb45113b409\",\"type\":\"ColumnDataSource\"},\"glyph\":{\"id\":\"68e0a126-30ba-44b3-a4d7-6396c4576ff0\",\"type\":\"Rect\"},\"hover_glyph\":null,\"nonselection_glyph\":null,\"selection_glyph\":null},\"id\":\"5d9d9dad-e07a-4890-9d48-3ae5ab17100b\",\"type\":\"GlyphRenderer\"},{\"attributes\":{\"fill_alpha\":{\"field\":\"fill_alpha\"},\"fill_color\":{\"field\":\"color\"},\"height\":{\"field\":\"height\",\"units\":\"data\"},\"line_color\":{\"field\":\"line_color\"},\"width\":{\"field\":\"width\",\"units\":\"data\"},\"x\":{\"field\":\"x\"},\"y\":{\"field\":\"y\"}},\"id\":\"7ee6f2a9-bcac-4759-bdfd-794ad3560135\",\"type\":\"Rect\"},{\"attributes\":{\"fill_alpha\":{\"field\":\"fill_alpha\"},\"fill_color\":{\"field\":\"color\"},\"height\":{\"field\":\"height\",\"units\":\"data\"},\"line_color\":{\"field\":\"line_color\"},\"width\":{\"field\":\"width\",\"units\":\"data\"},\"x\":{\"field\":\"x\"},\"y\":{\"field\":\"y\"}},\"id\":\"b52714ff-ffda-40de-9215-7bccb44a18c0\",\"type\":\"Rect\"},{\"attributes\":{\"plot\":null,\"text\":null},\"id\":\"cf731811-ec14-463d-9236-12acd0d3e206\",\"type\":\"Title\"},{\"attributes\":{\"callback\":null,\"column_names\":[\"y\",\"line_color\",\"x\",\"fill_alpha\",\"width\",\"color\",\"height\",\"label\",\"line_alpha\"],\"data\":{\"chart_index\":[\"(404.044760, 426.490580]\"],\"color\":[\"#f22c40\"],\"fill_alpha\":[0.8],\"height\":[5227.0],\"label\":[\"(404.044760, 426.490580]\"],\"line_alpha\":[1.0],\"line_color\":[\"black\"],\"width\":[22.44581999999997],\"x\":[\"415.26767\"],\"y\":[2613.5]}},\"id\":\"fa7bca19-100b-49c1-8df3-367c74e39ed2\",\"type\":\"ColumnDataSource\"},{\"attributes\":{\"callback\":null,\"column_names\":[\"y\",\"line_color\",\"x\",\"fill_alpha\",\"width\",\"color\",\"height\",\"label\",\"line_alpha\"],\"data\":{\"chart_index\":[\"(920.298620, 942.744440]\"],\"color\":[\"#f22c40\"],\"fill_alpha\":[0.8],\"height\":[1879.0],\"label\":[\"(920.298620, 942.744440]\"],\"line_alpha\":[1.0],\"line_color\":[\"black\"],\"width\":[22.445820000000026],\"x\":[\"931.52153\"],\"y\":[939.5]}},\"id\":\"c4d42860-8b49-4f30-96bf-98e429731d91\",\"type\":\"ColumnDataSource\"},{\"attributes\":{\"data_source\":{\"id\":\"0fcaee67-9b88-4ff7-a15a-5f4018d16113\",\"type\":\"ColumnDataSource\"},\"glyph\":{\"id\":\"f93bfe3d-0384-4e96-9d94-b680ca7ab5a0\",\"type\":\"Rect\"},\"hover_glyph\":null,\"nonselection_glyph\":null,\"selection_glyph\":null},\"id\":\"539afe1d-14db-4fa5-90a4-c44151dae947\",\"type\":\"GlyphRenderer\"},{\"attributes\":{\"fill_alpha\":{\"field\":\"fill_alpha\"},\"fill_color\":{\"field\":\"color\"},\"height\":{\"field\":\"height\",\"units\":\"data\"},\"line_color\":{\"field\":\"line_color\"},\"width\":{\"field\":\"width\",\"units\":\"data\"},\"x\":{\"field\":\"x\"},\"y\":{\"field\":\"y\"}},\"id\":\"1e3d72a3-e738-47aa-a660-586cda69dd11\",\"type\":\"Rect\"},{\"attributes\":{\"data_source\":{\"id\":\"e863aaab-b983-4bb2-8968-e707a3373171\",\"type\":\"ColumnDataSource\"},\"glyph\":{\"id\":\"a5b08d67-d7bc-49f6-9b6a-438d2ae1d678\",\"type\":\"Rect\"},\"hover_glyph\":null,\"nonselection_glyph\":null,\"selection_glyph\":null},\"id\":\"4945056a-a915-4d59-bce0-b2f33456496e\",\"type\":\"GlyphRenderer\"},{\"attributes\":{\"axis_label\":\"Byte Stream Size (kilobytes)\",\"formatter\":{\"id\":\"bb858acc-558b-4f54-8249-407a285422dd\",\"type\":\"BasicTickFormatter\"},\"plot\":{\"id\":\"1e65405e-34d7-42fb-ad18-a0b8df015c0a\",\"subtype\":\"Chart\",\"type\":\"Plot\"},\"ticker\":{\"id\":\"804a52c0-8500-4f3c-ac7e-0efdcd013912\",\"type\":\"BasicTicker\"}},\"id\":\"5eecccd8-e3a3-4334-bd5d-de472d46f38b\",\"type\":\"LinearAxis\"},{\"attributes\":{\"fill_alpha\":{\"field\":\"fill_alpha\"},\"fill_color\":{\"field\":\"color\"},\"height\":{\"field\":\"height\",\"units\":\"data\"},\"line_color\":{\"field\":\"line_color\"},\"width\":{\"field\":\"width\",\"units\":\"data\"},\"x\":{\"field\":\"x\"},\"y\":{\"field\":\"y\"}},\"id\":\"3ac352f4-97a0-4971-abc6-a975bb65191b\",\"type\":\"Rect\"},{\"attributes\":{\"fill_alpha\":{\"field\":\"fill_alpha\"},\"fill_color\":{\"field\":\"color\"},\"height\":{\"field\":\"height\",\"units\":\"data\"},\"line_color\":{\"field\":\"line_color\"},\"width\":{\"field\":\"width\",\"units\":\"data\"},\"x\":{\"field\":\"x\"},\"y\":{\"field\":\"y\"}},\"id\":\"f93bfe3d-0384-4e96-9d94-b680ca7ab5a0\",\"type\":\"Rect\"},{\"attributes\":{\"axis_label\":\"Count( Size )\",\"formatter\":{\"id\":\"2beba3ba-fd5d-4a07-91d0-63c77b5becda\",\"type\":\"BasicTickFormatter\"},\"plot\":{\"id\":\"1e65405e-34d7-42fb-ad18-a0b8df015c0a\",\"subtype\":\"Chart\",\"type\":\"Plot\"},\"ticker\":{\"id\":\"5b8008f7-fa99-42a1-ae11-9b6a47aba1a9\",\"type\":\"BasicTicker\"}},\"id\":\"3bf2919d-20eb-4109-8afd-ec27966d41c7\",\"type\":\"LinearAxis\"},{\"attributes\":{\"fill_alpha\":{\"field\":\"fill_alpha\"},\"fill_color\":{\"field\":\"color\"},\"height\":{\"field\":\"height\",\"units\":\"data\"},\"line_color\":{\"field\":\"line_color\"},\"width\":{\"field\":\"width\",\"units\":\"data\"},\"x\":{\"field\":\"x\"},\"y\":{\"field\":\"y\"}},\"id\":\"a5b08d67-d7bc-49f6-9b6a-438d2ae1d678\",\"type\":\"Rect\"},{\"attributes\":{\"fill_alpha\":{\"field\":\"fill_alpha\"},\"fill_color\":{\"field\":\"color\"},\"height\":{\"field\":\"height\",\"units\":\"data\"},\"line_color\":{\"field\":\"line_color\"},\"width\":{\"field\":\"width\",\"units\":\"data\"},\"x\":{\"field\":\"x\"},\"y\":{\"field\":\"y\"}},\"id\":\"7a5f4429-9c61-4127-8b75-5af0e661d8ae\",\"type\":\"Rect\"},{\"attributes\":{\"callback\":null,\"column_names\":[\"y\",\"line_color\",\"x\",\"fill_alpha\",\"width\",\"color\",\"height\",\"label\",\"line_alpha\"],\"data\":{\"chart_index\":[\"(875.406980, 897.852800]\"],\"color\":[\"#f22c40\"],\"fill_alpha\":[0.8],\"height\":[1320.0],\"label\":[\"(875.406980, 897.852800]\"],\"line_alpha\":[1.0],\"line_color\":[\"black\"],\"width\":[22.445820000000026],\"x\":[\"886.6298899999999\"],\"y\":[660.0]}},\"id\":\"1745e2d7-620e-4fd3-9747-c3b478b82d77\",\"type\":\"ColumnDataSource\"},{\"attributes\":{\"data_source\":{\"id\":\"491d2aec-6df1-4623-9505-8650d7906bbb\",\"type\":\"ColumnDataSource\"},\"glyph\":{\"id\":\"3ac352f4-97a0-4971-abc6-a975bb65191b\",\"type\":\"Rect\"},\"hover_glyph\":null,\"nonselection_glyph\":null,\"selection_glyph\":null},\"id\":\"87b27f1b-894e-44e5-abe4-a2e85f56fbdd\",\"type\":\"GlyphRenderer\"},{\"attributes\":{\"fill_alpha\":{\"field\":\"fill_alpha\"},\"fill_color\":{\"field\":\"color\"},\"height\":{\"field\":\"height\",\"units\":\"data\"},\"line_color\":{\"field\":\"line_color\"},\"width\":{\"field\":\"width\",\"units\":\"data\"},\"x\":{\"field\":\"x\"},\"y\":{\"field\":\"y\"}},\"id\":\"f4413c29-be1a-4daf-aa01-1aa973256257\",\"type\":\"Rect\"},{\"attributes\":{\"callback\":null,\"column_names\":[\"y\",\"line_color\",\"x\",\"fill_alpha\",\"width\",\"color\",\"height\",\"label\",\"line_alpha\"],\"data\":{\"chart_index\":[\"(808.069520, 830.515340]\"],\"color\":[\"#f22c40\"],\"fill_alpha\":[0.8],\"height\":[4133.0],\"label\":[\"(808.069520, 830.515340]\"],\"line_alpha\":[1.0],\"line_color\":[\"black\"],\"width\":[22.445820000000026],\"x\":[\"819.29243\"],\"y\":[2066.5]}},\"id\":\"2e7340ca-e87e-46be-923e-27ac461d74e8\",\"type\":\"ColumnDataSource\"},{\"attributes\":{\"callback\":null,\"column_names\":[\"y\",\"line_color\",\"x\",\"fill_alpha\",\"width\",\"color\",\"height\",\"label\",\"line_alpha\"],\"data\":{\"chart_index\":[\"(785.623700, 808.069520]\"],\"color\":[\"#f22c40\"],\"fill_alpha\":[0.8],\"height\":[3834.0],\"label\":[\"(785.623700, 808.069520]\"],\"line_alpha\":[1.0],\"line_color\":[\"black\"],\"width\":[22.445820000000026],\"x\":[\"796.84661\"],\"y\":[1917.0]}},\"id\":\"cb1d10c0-fc15-436a-ba1c-3c0393d1dba6\",\"type\":\"ColumnDataSource\"},{\"attributes\":{\"callback\":null,\"column_names\":[\"y\",\"line_color\",\"x\",\"fill_alpha\",\"width\",\"color\",\"height\",\"label\",\"line_alpha\"],\"data\":{\"chart_index\":[\"(561.165500, 583.611320]\"],\"color\":[\"#f22c40\"],\"fill_alpha\":[0.8],\"height\":[19.0],\"label\":[\"(561.165500, 583.611320]\"],\"line_alpha\":[1.0],\"line_color\":[\"black\"],\"width\":[22.445820000000026],\"x\":[\"572.38841\"],\"y\":[9.5]}},\"id\":\"349e1abb-dc0d-4bbc-81a5-aeb45113b409\",\"type\":\"ColumnDataSource\"},{\"attributes\":{\"data_source\":{\"id\":\"8fe47552-ea03-45a1-b9c8-ad42d76ad70d\",\"type\":\"ColumnDataSource\"},\"glyph\":{\"id\":\"20a2dbd4-07aa-4448-8aa3-c7deab70f9e4\",\"type\":\"Rect\"},\"hover_glyph\":null,\"nonselection_glyph\":null,\"selection_glyph\":null},\"id\":\"9d05599c-8993-44b8-b4f4-157dd3f65f9e\",\"type\":\"GlyphRenderer\"},{\"attributes\":{\"data_source\":{\"id\":\"1fcbabd1-c14f-4904-9da6-eaa2e5ade6bb\",\"type\":\"ColumnDataSource\"},\"glyph\":{\"id\":\"7a5f4429-9c61-4127-8b75-5af0e661d8ae\",\"type\":\"Rect\"},\"hover_glyph\":null,\"nonselection_glyph\":null,\"selection_glyph\":null},\"id\":\"5440ff34-1d9c-4ad7-9404-7547f4760110\",\"type\":\"GlyphRenderer\"},{\"attributes\":{\"data_source\":{\"id\":\"ab545d75-330e-4772-ba1e-e24342aad74f\",\"type\":\"ColumnDataSource\"},\"glyph\":{\"id\":\"28f0de2d-b2f6-4b19-aab3-3532332b46e1\",\"type\":\"Rect\"},\"hover_glyph\":null,\"nonselection_glyph\":null,\"selection_glyph\":null},\"id\":\"ba6bbe55-2c75-4ad3-8a67-6fcb9636ebcd\",\"type\":\"GlyphRenderer\"},{\"attributes\":{\"fill_alpha\":{\"field\":\"fill_alpha\"},\"fill_color\":{\"field\":\"color\"},\"height\":{\"field\":\"height\",\"units\":\"data\"},\"line_color\":{\"field\":\"line_color\"},\"width\":{\"field\":\"width\",\"units\":\"data\"},\"x\":{\"field\":\"x\"},\"y\":{\"field\":\"y\"}},\"id\":\"085653bb-50b1-4f95-90d7-f49410bed055\",\"type\":\"Rect\"},{\"attributes\":{\"fill_alpha\":{\"field\":\"fill_alpha\"},\"fill_color\":{\"field\":\"color\"},\"height\":{\"field\":\"height\",\"units\":\"data\"},\"line_color\":{\"field\":\"line_color\"},\"width\":{\"field\":\"width\",\"units\":\"data\"},\"x\":{\"field\":\"x\"},\"y\":{\"field\":\"y\"}},\"id\":\"7924918b-4512-4e5d-ba6d-0f7885126609\",\"type\":\"Rect\"},{\"attributes\":{\"fill_alpha\":{\"field\":\"fill_alpha\"},\"fill_color\":{\"field\":\"color\"},\"height\":{\"field\":\"height\",\"units\":\"data\"},\"line_color\":{\"field\":\"line_color\"},\"width\":{\"field\":\"width\",\"units\":\"data\"},\"x\":{\"field\":\"x\"},\"y\":{\"field\":\"y\"}},\"id\":\"2cd5c0ed-a479-4d4c-bad5-725e0a8f6c2d\",\"type\":\"Rect\"},{\"attributes\":{\"data_source\":{\"id\":\"d8ea14f9-21f6-49f1-9f42-16c1eba44452\",\"type\":\"ColumnDataSource\"},\"glyph\":{\"id\":\"1e3d72a3-e738-47aa-a660-586cda69dd11\",\"type\":\"Rect\"},\"hover_glyph\":null,\"nonselection_glyph\":null,\"selection_glyph\":null},\"id\":\"92b0ffb9-65e2-4265-af44-7cbb9055317e\",\"type\":\"GlyphRenderer\"},{\"attributes\":{\"callback\":null,\"column_names\":[\"y\",\"line_color\",\"x\",\"fill_alpha\",\"width\",\"color\",\"height\",\"label\",\"line_alpha\"],\"data\":{\"chart_index\":[\"(965.190260, 987.636080]\"],\"color\":[\"#f22c40\"],\"fill_alpha\":[0.8],\"height\":[107.0],\"label\":[\"(965.190260, 987.636080]\"],\"line_alpha\":[1.0],\"line_color\":[\"black\"],\"width\":[22.445820000000026],\"x\":[\"976.41317\"],\"y\":[53.5]}},\"id\":\"4ee6c050-1dc5-418a-bcdb-dde73219d075\",\"type\":\"ColumnDataSource\"},{\"attributes\":{},\"id\":\"804a52c0-8500-4f3c-ac7e-0efdcd013912\",\"type\":\"BasicTicker\"},{\"attributes\":{\"fill_alpha\":{\"field\":\"fill_alpha\"},\"fill_color\":{\"field\":\"color\"},\"height\":{\"field\":\"height\",\"units\":\"data\"},\"line_color\":{\"field\":\"line_color\"},\"width\":{\"field\":\"width\",\"units\":\"data\"},\"x\":{\"field\":\"x\"},\"y\":{\"field\":\"y\"}},\"id\":\"9657a228-f951-4120-a992-da3f04476690\",\"type\":\"Rect\"},{\"attributes\":{\"callback\":null,\"column_names\":[\"y\",\"line_color\",\"x\",\"fill_alpha\",\"width\",\"color\",\"height\",\"label\",\"line_alpha\"],\"data\":{\"chart_index\":[\"(336.707300, 359.153120]\"],\"color\":[\"#f22c40\"],\"fill_alpha\":[0.8],\"height\":[158.0],\"label\":[\"(336.707300, 359.153120]\"],\"line_alpha\":[1.0],\"line_color\":[\"black\"],\"width\":[22.445820000000026],\"x\":[\"347.93021\"],\"y\":[79.0]}},\"id\":\"1fcbabd1-c14f-4904-9da6-eaa2e5ade6bb\",\"type\":\"ColumnDataSource\"},{\"attributes\":{\"callback\":null,\"column_names\":[\"y\",\"line_color\",\"x\",\"fill_alpha\",\"width\",\"color\",\"height\",\"label\",\"line_alpha\"],\"data\":{\"chart_index\":[\"(448.936400, 471.382220]\"],\"color\":[\"#f22c40\"],\"fill_alpha\":[0.8],\"height\":[621.0],\"label\":[\"(448.936400, 471.382220]\"],\"line_alpha\":[1.0],\"line_color\":[\"black\"],\"width\":[22.445820000000026],\"x\":[\"460.15931\"],\"y\":[310.5]}},\"id\":\"d8ea14f9-21f6-49f1-9f42-16c1eba44452\",\"type\":\"ColumnDataSource\"},{\"attributes\":{\"fill_alpha\":{\"field\":\"fill_alpha\"},\"fill_color\":{\"field\":\"color\"},\"height\":{\"field\":\"height\",\"units\":\"data\"},\"line_color\":{\"field\":\"line_color\"},\"width\":{\"field\":\"width\",\"units\":\"data\"},\"x\":{\"field\":\"x\"},\"y\":{\"field\":\"y\"}},\"id\":\"e7b81ba1-9947-4264-949c-31d4c5278c83\",\"type\":\"Rect\"},{\"attributes\":{\"overlay\":{\"id\":\"5c0350d3-7723-4623-ad6c-347a4cb27fb5\",\"type\":\"BoxAnnotation\"},\"plot\":{\"id\":\"1e65405e-34d7-42fb-ad18-a0b8df015c0a\",\"subtype\":\"Chart\",\"type\":\"Plot\"}},\"id\":\"3b9f8d3a-94f1-4a5b-bd3f-73a9e90b3ed4\",\"type\":\"BoxZoomTool\"},{\"attributes\":{\"fill_alpha\":{\"field\":\"fill_alpha\"},\"fill_color\":{\"field\":\"color\"},\"height\":{\"field\":\"height\",\"units\":\"data\"},\"line_color\":{\"field\":\"line_color\"},\"width\":{\"field\":\"width\",\"units\":\"data\"},\"x\":{\"field\":\"x\"},\"y\":{\"field\":\"y\"}},\"id\":\"de9e0021-81e6-49cf-9f39-0480b1e4e827\",\"type\":\"Rect\"},{\"attributes\":{\"plot\":{\"id\":\"1e65405e-34d7-42fb-ad18-a0b8df015c0a\",\"subtype\":\"Chart\",\"type\":\"Plot\"}},\"id\":\"cb747c6d-2682-45cc-a597-ae0b65ddd269\",\"type\":\"PanTool\"},{\"attributes\":{\"callback\":null,\"column_names\":[\"y\",\"line_color\",\"x\",\"fill_alpha\",\"width\",\"color\",\"height\",\"label\",\"line_alpha\"],\"data\":{\"chart_index\":[\"(718.286240, 740.732060]\"],\"color\":[\"#f22c40\"],\"fill_alpha\":[0.8],\"height\":[131.0],\"label\":[\"(718.286240, 740.732060]\"],\"line_alpha\":[1.0],\"line_color\":[\"black\"],\"width\":[22.445820000000026],\"x\":[\"729.5091500000001\"],\"y\":[65.5]}},\"id\":\"eeb44e79-8933-41dd-8109-e6e798879ff9\",\"type\":\"ColumnDataSource\"},{\"attributes\":{\"fill_alpha\":{\"field\":\"fill_alpha\"},\"fill_color\":{\"field\":\"color\"},\"height\":{\"field\":\"height\",\"units\":\"data\"},\"line_color\":{\"field\":\"line_color\"},\"width\":{\"field\":\"width\",\"units\":\"data\"},\"x\":{\"field\":\"x\"},\"y\":{\"field\":\"y\"}},\"id\":\"91bfdc7f-12d5-45f9-90a6-53e9f7cf0376\",\"type\":\"Rect\"},{\"attributes\":{},\"id\":\"2beba3ba-fd5d-4a07-91d0-63c77b5becda\",\"type\":\"BasicTickFormatter\"},{\"attributes\":{\"data_source\":{\"id\":\"c9e88ff5-c080-4504-a4d6-0d95d1cc327c\",\"type\":\"ColumnDataSource\"},\"glyph\":{\"id\":\"ac2d7b51-dbb1-4bad-bfa6-fa5f702319af\",\"type\":\"Rect\"},\"hover_glyph\":null,\"nonselection_glyph\":null,\"selection_glyph\":null},\"id\":\"dc386536-8479-4800-b971-b8701648a541\",\"type\":\"GlyphRenderer\"},{\"attributes\":{\"fill_alpha\":{\"field\":\"fill_alpha\"},\"fill_color\":{\"field\":\"color\"},\"height\":{\"field\":\"height\",\"units\":\"data\"},\"line_color\":{\"field\":\"line_color\"},\"width\":{\"field\":\"width\",\"units\":\"data\"},\"x\":{\"field\":\"x\"},\"y\":{\"field\":\"y\"}},\"id\":\"a2612cc8-f984-4400-9a69-46cacbad79ff\",\"type\":\"Rect\"},{\"attributes\":{\"data_source\":{\"id\":\"c0e38a67-f393-417e-b0b8-6002038d62d6\",\"type\":\"ColumnDataSource\"},\"glyph\":{\"id\":\"9a03542d-663b-4188-a7f8-724c43ab33b1\",\"type\":\"Rect\"},\"hover_glyph\":null,\"nonselection_glyph\":null,\"selection_glyph\":null},\"id\":\"cc9de696-dd19-4c5c-8008-0d0d3f3a14c2\",\"type\":\"GlyphRenderer\"},{\"attributes\":{\"callback\":null,\"column_names\":[\"y\",\"line_color\",\"x\",\"fill_alpha\",\"width\",\"color\",\"height\",\"label\",\"line_alpha\"],\"data\":{\"chart_index\":[\"(987.636080, 1010.081900]\"],\"color\":[\"#f22c40\"],\"fill_alpha\":[0.8],\"height\":[97.0],\"label\":[\"(987.636080, 1010.081900]\"],\"line_alpha\":[1.0],\"line_color\":[\"black\"],\"width\":[22.445820000000026],\"x\":[\"998.85899\"],\"y\":[48.5]}},\"id\":\"f9628cbb-cd68-45f1-872d-0ef7a168757d\",\"type\":\"ColumnDataSource\"},{\"attributes\":{\"fill_alpha\":{\"field\":\"fill_alpha\"},\"fill_color\":{\"field\":\"color\"},\"height\":{\"field\":\"height\",\"units\":\"data\"},\"line_color\":{\"field\":\"line_color\"},\"width\":{\"field\":\"width\",\"units\":\"data\"},\"x\":{\"field\":\"x\"},\"y\":{\"field\":\"y\"}},\"id\":\"ac2d7b51-dbb1-4bad-bfa6-fa5f702319af\",\"type\":\"Rect\"},{\"attributes\":{\"callback\":null,\"column_names\":[\"y\",\"line_color\",\"x\",\"fill_alpha\",\"width\",\"color\",\"height\",\"label\",\"line_alpha\"],\"data\":{\"chart_index\":[\"(695.840420, 718.286240]\"],\"color\":[\"#f22c40\"],\"fill_alpha\":[0.8],\"height\":[351.0],\"label\":[\"(695.840420, 718.286240]\"],\"line_alpha\":[1.0],\"line_color\":[\"black\"],\"width\":[22.445820000000026],\"x\":[\"707.06333\"],\"y\":[175.5]}},\"id\":\"bf0399d6-0309-46e7-bbb5-c2e3891834bf\",\"type\":\"ColumnDataSource\"},{\"attributes\":{\"callback\":null,\"column_names\":[\"y\",\"line_color\",\"x\",\"fill_alpha\",\"width\",\"color\",\"height\",\"label\",\"line_alpha\"],\"data\":{\"chart_index\":[\"(516.273860, 538.719680]\"],\"color\":[\"#f22c40\"],\"fill_alpha\":[0.8],\"height\":[0.0],\"label\":[\"(516.273860, 538.719680]\"],\"line_alpha\":[1.0],\"line_color\":[\"black\"],\"width\":[22.445820000000026],\"x\":[\"527.49677\"],\"y\":[0.0]}},\"id\":\"5429b5ab-e013-44fa-bb38-873fa2ceba24\",\"type\":\"ColumnDataSource\"},{\"attributes\":{\"fill_alpha\":{\"field\":\"fill_alpha\"},\"fill_color\":{\"field\":\"color\"},\"height\":{\"field\":\"height\",\"units\":\"data\"},\"line_color\":{\"field\":\"line_color\"},\"width\":{\"field\":\"width\",\"units\":\"data\"},\"x\":{\"field\":\"x\"},\"y\":{\"field\":\"y\"}},\"id\":\"1861a577-8428-4c42-85de-452e60f65711\",\"type\":\"Rect\"},{\"attributes\":{\"fill_alpha\":{\"field\":\"fill_alpha\"},\"fill_color\":{\"field\":\"color\"},\"height\":{\"field\":\"height\",\"units\":\"data\"},\"line_color\":{\"field\":\"line_color\"},\"width\":{\"field\":\"width\",\"units\":\"data\"},\"x\":{\"field\":\"x\"},\"y\":{\"field\":\"y\"}},\"id\":\"211f3a25-f964-40a5-b360-9c69d3e8d1d3\",\"type\":\"Rect\"},{\"attributes\":{\"fill_alpha\":{\"field\":\"fill_alpha\"},\"fill_color\":{\"field\":\"color\"},\"height\":{\"field\":\"height\",\"units\":\"data\"},\"line_color\":{\"field\":\"line_color\"},\"width\":{\"field\":\"width\",\"units\":\"data\"},\"x\":{\"field\":\"x\"},\"y\":{\"field\":\"y\"}},\"id\":\"bbe7961a-8faf-4cca-a877-af9ac8f8d3c7\",\"type\":\"Rect\"},{\"attributes\":{\"data_source\":{\"id\":\"4ee6c050-1dc5-418a-bcdb-dde73219d075\",\"type\":\"ColumnDataSource\"},\"glyph\":{\"id\":\"a2612cc8-f984-4400-9a69-46cacbad79ff\",\"type\":\"Rect\"},\"hover_glyph\":null,\"nonselection_glyph\":null,\"selection_glyph\":null},\"id\":\"37247775-eac2-4e5e-9bda-97ddde40a949\",\"type\":\"GlyphRenderer\"},{\"attributes\":{\"data_source\":{\"id\":\"c4d42860-8b49-4f30-96bf-98e429731d91\",\"type\":\"ColumnDataSource\"},\"glyph\":{\"id\":\"23f6e37b-3915-494a-ab8e-632b0ce36e6e\",\"type\":\"Rect\"},\"hover_glyph\":null,\"nonselection_glyph\":null,\"selection_glyph\":null},\"id\":\"3ca41ee2-488e-4506-972d-291fa71d813d\",\"type\":\"GlyphRenderer\"},{\"attributes\":{\"callback\":null,\"column_names\":[\"y\",\"line_color\",\"x\",\"fill_alpha\",\"width\",\"color\",\"height\",\"label\",\"line_alpha\"],\"data\":{\"chart_index\":[\"(22.465820, 44.911640]\"],\"color\":[\"#f22c40\"],\"fill_alpha\":[0.8],\"height\":[8265.0],\"label\":[\"(22.465820, 44.911640]\"],\"line_alpha\":[1.0],\"line_color\":[\"black\"],\"width\":[22.44582],\"x\":[\"33.68873\"],\"y\":[4132.5]}},\"id\":\"fa4cbdc5-bedf-4b89-9e0b-64812ad0ccb9\",\"type\":\"ColumnDataSource\"},{\"attributes\":{\"fill_alpha\":{\"field\":\"fill_alpha\"},\"fill_color\":{\"field\":\"color\"},\"height\":{\"field\":\"height\",\"units\":\"data\"},\"line_color\":{\"field\":\"line_color\"},\"width\":{\"field\":\"width\",\"units\":\"data\"},\"x\":{\"field\":\"x\"},\"y\":{\"field\":\"y\"}},\"id\":\"f84703bd-80f3-4311-84dd-ff01ba7d55e6\",\"type\":\"Rect\"},{\"attributes\":{\"callback\":null,\"column_names\":[\"y\",\"line_color\",\"x\",\"fill_alpha\",\"width\",\"color\",\"height\",\"label\",\"line_alpha\"],\"data\":{\"chart_index\":[\"(179.586560, 202.032380]\"],\"color\":[\"#f22c40\"],\"fill_alpha\":[0.8],\"height\":[59955.0],\"label\":[\"(179.586560, 202.032380]\"],\"line_alpha\":[1.0],\"line_color\":[\"black\"],\"width\":[22.445819999999998],\"x\":[\"190.80946999999998\"],\"y\":[29977.5]}},\"id\":\"a3cc5906-a823-4211-b810-296f2f4a7c84\",\"type\":\"ColumnDataSource\"},{\"attributes\":{\"callback\":null,\"column_names\":[\"y\",\"line_color\",\"x\",\"fill_alpha\",\"width\",\"color\",\"height\",\"label\",\"line_alpha\"],\"data\":{\"chart_index\":[\"(471.382220, 493.828040]\"],\"color\":[\"#f22c40\"],\"fill_alpha\":[0.8],\"height\":[0.0],\"label\":[\"(471.382220, 493.828040]\"],\"line_alpha\":[1.0],\"line_color\":[\"black\"],\"width\":[22.44581999999997],\"x\":[\"482.60513000000003\"],\"y\":[0.0]}},\"id\":\"8fe47552-ea03-45a1-b9c8-ad42d76ad70d\",\"type\":\"ColumnDataSource\"},{\"attributes\":{\"callback\":null,\"column_names\":[\"y\",\"line_color\",\"x\",\"fill_alpha\",\"width\",\"color\",\"height\",\"label\",\"line_alpha\"],\"data\":{\"chart_index\":[\"(583.611320, 606.057140]\"],\"color\":[\"#f22c40\"],\"fill_alpha\":[0.8],\"height\":[57.0],\"label\":[\"(583.611320, 606.057140]\"],\"line_alpha\":[1.0],\"line_color\":[\"black\"],\"width\":[22.445819999999912],\"x\":[\"594.8342299999999\"],\"y\":[28.5]}},\"id\":\"6c2d733a-d875-406b-813b-a5023995be1e\",\"type\":\"ColumnDataSource\"},{\"attributes\":{\"callback\":null,\"column_names\":[\"y\",\"line_color\",\"x\",\"fill_alpha\",\"width\",\"color\",\"height\",\"label\",\"line_alpha\"],\"data\":{\"chart_index\":[\"(291.815660, 314.261480]\"],\"color\":[\"#f22c40\"],\"fill_alpha\":[0.8],\"height\":[421.0],\"label\":[\"(291.815660, 314.261480]\"],\"line_alpha\":[1.0],\"line_color\":[\"black\"],\"width\":[22.44581999999997],\"x\":[\"303.03857\"],\"y\":[210.5]}},\"id\":\"7584f639-d5e2-4967-9eea-354375057815\",\"type\":\"ColumnDataSource\"},{\"attributes\":{\"fill_alpha\":{\"field\":\"fill_alpha\"},\"fill_color\":{\"field\":\"color\"},\"height\":{\"field\":\"height\",\"units\":\"data\"},\"line_color\":{\"field\":\"line_color\"},\"width\":{\"field\":\"width\",\"units\":\"data\"},\"x\":{\"field\":\"x\"},\"y\":{\"field\":\"y\"}},\"id\":\"20a2dbd4-07aa-4448-8aa3-c7deab70f9e4\",\"type\":\"Rect\"},{\"attributes\":{\"fill_alpha\":{\"field\":\"fill_alpha\"},\"fill_color\":{\"field\":\"color\"},\"height\":{\"field\":\"height\",\"units\":\"data\"},\"line_color\":{\"field\":\"line_color\"},\"width\":{\"field\":\"width\",\"units\":\"data\"},\"x\":{\"field\":\"x\"},\"y\":{\"field\":\"y\"}},\"id\":\"adf8e605-dccc-4f72-a39b-82f71c512c97\",\"type\":\"Rect\"},{\"attributes\":{\"fill_alpha\":{\"field\":\"fill_alpha\"},\"fill_color\":{\"field\":\"color\"},\"height\":{\"field\":\"height\",\"units\":\"data\"},\"line_color\":{\"field\":\"line_color\"},\"width\":{\"field\":\"width\",\"units\":\"data\"},\"x\":{\"field\":\"x\"},\"y\":{\"field\":\"y\"}},\"id\":\"03423694-0c5a-426d-8e94-1435fe9b89ce\",\"type\":\"Rect\"},{\"attributes\":{\"plot\":{\"id\":\"1e65405e-34d7-42fb-ad18-a0b8df015c0a\",\"subtype\":\"Chart\",\"type\":\"Plot\"}},\"id\":\"1139614c-251c-41c1-98b0-37606d5aaad8\",\"type\":\"HelpTool\"},{\"attributes\":{\"fill_alpha\":{\"field\":\"fill_alpha\"},\"fill_color\":{\"field\":\"color\"},\"height\":{\"field\":\"height\",\"units\":\"data\"},\"line_color\":{\"field\":\"line_color\"},\"width\":{\"field\":\"width\",\"units\":\"data\"},\"x\":{\"field\":\"x\"},\"y\":{\"field\":\"y\"}},\"id\":\"3a3b6dee-303e-44d4-aa89-3603b315bcdf\",\"type\":\"Rect\"},{\"attributes\":{\"data_source\":{\"id\":\"6c2d733a-d875-406b-813b-a5023995be1e\",\"type\":\"ColumnDataSource\"},\"glyph\":{\"id\":\"efdfdae8-51e8-4e76-b968-65f0b072d7e5\",\"type\":\"Rect\"},\"hover_glyph\":null,\"nonselection_glyph\":null,\"selection_glyph\":null},\"id\":\"5c527197-7679-431b-9f4c-8c5d305d79a4\",\"type\":\"GlyphRenderer\"},{\"attributes\":{\"data_source\":{\"id\":\"9e85df42-efa1-43f7-9789-a3306105cd9c\",\"type\":\"ColumnDataSource\"},\"glyph\":{\"id\":\"7cc7922e-9605-40f2-bb93-5806ca70f469\",\"type\":\"Rect\"},\"hover_glyph\":null,\"nonselection_glyph\":null,\"selection_glyph\":null},\"id\":\"e09d4c8d-01f6-47dc-814c-c4556c8a8e9d\",\"type\":\"GlyphRenderer\"},{\"attributes\":{\"data_source\":{\"id\":\"cd459051-985c-4976-b9ca-eee421ae58ae\",\"type\":\"ColumnDataSource\"},\"glyph\":{\"id\":\"de9e0021-81e6-49cf-9f39-0480b1e4e827\",\"type\":\"Rect\"},\"hover_glyph\":null,\"nonselection_glyph\":null,\"selection_glyph\":null},\"id\":\"ec672412-d0cd-48b4-8246-aaaccd43b5c3\",\"type\":\"GlyphRenderer\"},{\"attributes\":{\"data_source\":{\"id\":\"1578062c-8839-4b97-a61b-22553f23d53b\",\"type\":\"ColumnDataSource\"},\"glyph\":{\"id\":\"f4413c29-be1a-4daf-aa01-1aa973256257\",\"type\":\"Rect\"},\"hover_glyph\":null,\"nonselection_glyph\":null,\"selection_glyph\":null},\"id\":\"a9df2455-d670-4c62-99e0-38c45ebee90c\",\"type\":\"GlyphRenderer\"},{\"attributes\":{\"fill_alpha\":{\"field\":\"fill_alpha\"},\"fill_color\":{\"field\":\"color\"},\"height\":{\"field\":\"height\",\"units\":\"data\"},\"line_color\":{\"field\":\"line_color\"},\"width\":{\"field\":\"width\",\"units\":\"data\"},\"x\":{\"field\":\"x\"},\"y\":{\"field\":\"y\"}},\"id\":\"5a16c465-3778-49cb-807d-5f783df0fd08\",\"type\":\"Rect\"},{\"attributes\":{\"callback\":null,\"column_names\":[\"y\",\"line_color\",\"x\",\"fill_alpha\",\"width\",\"color\",\"height\",\"label\",\"line_alpha\"],\"data\":{\"chart_index\":[\"(157.140740, 179.586560]\"],\"color\":[\"#f22c40\"],\"fill_alpha\":[0.8],\"height\":[21028.0],\"label\":[\"(157.140740, 179.586560]\"],\"line_alpha\":[1.0],\"line_color\":[\"black\"],\"width\":[22.445819999999998],\"x\":[\"168.36365\"],\"y\":[10514.0]}},\"id\":\"e17e14ec-27a1-4296-a198-e0dfafff3ba9\",\"type\":\"ColumnDataSource\"},{\"attributes\":{\"data_source\":{\"id\":\"fa4cbdc5-bedf-4b89-9e0b-64812ad0ccb9\",\"type\":\"ColumnDataSource\"},\"glyph\":{\"id\":\"211f3a25-f964-40a5-b360-9c69d3e8d1d3\",\"type\":\"Rect\"},\"hover_glyph\":null,\"nonselection_glyph\":null,\"selection_glyph\":null},\"id\":\"1e7247ef-832d-4e4e-819e-2cbc4dde5299\",\"type\":\"GlyphRenderer\"},{\"attributes\":{\"data_source\":{\"id\":\"eeb44e79-8933-41dd-8109-e6e798879ff9\",\"type\":\"ColumnDataSource\"},\"glyph\":{\"id\":\"7924918b-4512-4e5d-ba6d-0f7885126609\",\"type\":\"Rect\"},\"hover_glyph\":null,\"nonselection_glyph\":null,\"selection_glyph\":null},\"id\":\"b26e8cf8-ad5e-423a-976f-b32b02eae8f5\",\"type\":\"GlyphRenderer\"},{\"attributes\":{\"data_source\":{\"id\":\"cb1d10c0-fc15-436a-ba1c-3c0393d1dba6\",\"type\":\"ColumnDataSource\"},\"glyph\":{\"id\":\"e7b81ba1-9947-4264-949c-31d4c5278c83\",\"type\":\"Rect\"},\"hover_glyph\":null,\"nonselection_glyph\":null,\"selection_glyph\":null},\"id\":\"c8b03bc6-9dd4-4634-b4bf-4c34c9ae8e19\",\"type\":\"GlyphRenderer\"},{\"attributes\":{\"data_source\":{\"id\":\"2e7340ca-e87e-46be-923e-27ac461d74e8\",\"type\":\"ColumnDataSource\"},\"glyph\":{\"id\":\"25fd2789-1985-4db1-9126-06bcd36500bf\",\"type\":\"Rect\"},\"hover_glyph\":null,\"nonselection_glyph\":null,\"selection_glyph\":null},\"id\":\"2cde5b27-5d73-4695-a172-ce6d0dc524cb\",\"type\":\"GlyphRenderer\"},{\"attributes\":{\"dimension\":1,\"plot\":{\"id\":\"1e65405e-34d7-42fb-ad18-a0b8df015c0a\",\"subtype\":\"Chart\",\"type\":\"Plot\"},\"ticker\":{\"id\":\"5b8008f7-fa99-42a1-ae11-9b6a47aba1a9\",\"type\":\"BasicTicker\"}},\"id\":\"ced02f5f-76a9-4e2c-946c-3375152504ab\",\"type\":\"Grid\"},{\"attributes\":{\"callback\":null,\"column_names\":[\"y\",\"line_color\",\"x\",\"fill_alpha\",\"width\",\"color\",\"height\",\"label\",\"line_alpha\"],\"data\":{\"chart_index\":[\"(830.515340, 852.961160]\"],\"color\":[\"#f22c40\"],\"fill_alpha\":[0.8],\"height\":[2681.0],\"label\":[\"(830.515340, 852.961160]\"],\"line_alpha\":[1.0],\"line_color\":[\"black\"],\"width\":[22.445819999999912],\"x\":[\"841.73825\"],\"y\":[1340.5]}},\"id\":\"c0e38a67-f393-417e-b0b8-6002038d62d6\",\"type\":\"ColumnDataSource\"},{\"attributes\":{\"callback\":null,\"column_names\":[\"y\",\"line_color\",\"x\",\"fill_alpha\",\"width\",\"color\",\"height\",\"label\",\"line_alpha\"],\"data\":{\"chart_index\":[\"(628.502960, 650.948780]\"],\"color\":[\"#f22c40\"],\"fill_alpha\":[0.8],\"height\":[870.0],\"label\":[\"(628.502960, 650.948780]\"],\"line_alpha\":[1.0],\"line_color\":[\"black\"],\"width\":[22.445820000000026],\"x\":[\"639.72587\"],\"y\":[435.0]}},\"id\":\"0fcaee67-9b88-4ff7-a15a-5f4018d16113\",\"type\":\"ColumnDataSource\"},{\"attributes\":{\"fill_alpha\":{\"field\":\"fill_alpha\"},\"fill_color\":{\"field\":\"color\"},\"height\":{\"field\":\"height\",\"units\":\"data\"},\"line_color\":{\"field\":\"line_color\"},\"width\":{\"field\":\"width\",\"units\":\"data\"},\"x\":{\"field\":\"x\"},\"y\":{\"field\":\"y\"}},\"id\":\"603a3a75-335e-4fa6-b549-5fcefefeaf03\",\"type\":\"Rect\"},{\"attributes\":{\"callback\":null,\"column_names\":[\"y\",\"line_color\",\"x\",\"fill_alpha\",\"width\",\"color\",\"height\",\"label\",\"line_alpha\"],\"data\":{\"chart_index\":[\"(314.261480, 336.707300]\"],\"color\":[\"#f22c40\"],\"fill_alpha\":[0.8],\"height\":[130.0],\"label\":[\"(314.261480, 336.707300]\"],\"line_alpha\":[1.0],\"line_color\":[\"black\"],\"width\":[22.44581999999997],\"x\":[\"325.48438999999996\"],\"y\":[65.0]}},\"id\":\"6e1003e6-39d0-423e-9777-465878722388\",\"type\":\"ColumnDataSource\"},{\"attributes\":{\"callback\":null,\"column_names\":[\"y\",\"line_color\",\"x\",\"fill_alpha\",\"width\",\"color\",\"height\",\"label\",\"line_alpha\"],\"data\":{\"chart_index\":[\"(89.803280, 112.249100]\"],\"color\":[\"#f22c40\"],\"fill_alpha\":[0.8],\"height\":[7485.0],\"label\":[\"(89.803280, 112.249100]\"],\"line_alpha\":[1.0],\"line_color\":[\"black\"],\"width\":[22.445819999999998],\"x\":[\"101.02619\"],\"y\":[3742.5]}},\"id\":\"9e85df42-efa1-43f7-9789-a3306105cd9c\",\"type\":\"ColumnDataSource\"},{\"attributes\":{\"data_source\":{\"id\":\"c425e498-572c-4bf6-9e3a-b7575fc96bfb\",\"type\":\"ColumnDataSource\"},\"glyph\":{\"id\":\"3a3b6dee-303e-44d4-aa89-3603b315bcdf\",\"type\":\"Rect\"},\"hover_glyph\":null,\"nonselection_glyph\":null,\"selection_glyph\":null},\"id\":\"7c8eb698-d687-4f4a-9197-1a9c1565a2fc\",\"type\":\"GlyphRenderer\"},{\"attributes\":{\"fill_alpha\":{\"field\":\"fill_alpha\"},\"fill_color\":{\"field\":\"color\"},\"height\":{\"field\":\"height\",\"units\":\"data\"},\"line_color\":{\"field\":\"line_color\"},\"width\":{\"field\":\"width\",\"units\":\"data\"},\"x\":{\"field\":\"x\"},\"y\":{\"field\":\"y\"}},\"id\":\"47d7ece4-62fc-4a11-9f19-007fcb1768b5\",\"type\":\"Rect\"},{\"attributes\":{\"data_source\":{\"id\":\"25f24726-ecca-4378-ab9e-faa0e43f3423\",\"type\":\"ColumnDataSource\"},\"glyph\":{\"id\":\"0d5b2445-cb26-4026-8350-3198d57dc10a\",\"type\":\"Rect\"},\"hover_glyph\":null,\"nonselection_glyph\":null,\"selection_glyph\":null},\"id\":\"5b3590fe-b9b1-4f13-a4a7-9766800502c4\",\"type\":\"GlyphRenderer\"},{\"attributes\":{},\"id\":\"5b8008f7-fa99-42a1-ae11-9b6a47aba1a9\",\"type\":\"BasicTicker\"},{\"attributes\":{\"fill_alpha\":{\"field\":\"fill_alpha\"},\"fill_color\":{\"field\":\"color\"},\"height\":{\"field\":\"height\",\"units\":\"data\"},\"line_color\":{\"field\":\"line_color\"},\"width\":{\"field\":\"width\",\"units\":\"data\"},\"x\":{\"field\":\"x\"},\"y\":{\"field\":\"y\"}},\"id\":\"73d83dfe-9fd5-4492-9f4d-60a4df3b3db5\",\"type\":\"Rect\"},{\"attributes\":{\"fill_alpha\":{\"field\":\"fill_alpha\"},\"fill_color\":{\"field\":\"color\"},\"height\":{\"field\":\"height\",\"units\":\"data\"},\"line_color\":{\"field\":\"line_color\"},\"width\":{\"field\":\"width\",\"units\":\"data\"},\"x\":{\"field\":\"x\"},\"y\":{\"field\":\"y\"}},\"id\":\"23f6e37b-3915-494a-ab8e-632b0ce36e6e\",\"type\":\"Rect\"},{\"attributes\":{\"data_source\":{\"id\":\"4fd8b84b-b1ec-47ab-b2b3-488ea940c1df\",\"type\":\"ColumnDataSource\"},\"glyph\":{\"id\":\"2cd5c0ed-a479-4d4c-bad5-725e0a8f6c2d\",\"type\":\"Rect\"},\"hover_glyph\":null,\"nonselection_glyph\":null,\"selection_glyph\":null},\"id\":\"0a2dbb32-b1b7-4e35-a397-6d9d80daeeb2\",\"type\":\"GlyphRenderer\"},{\"attributes\":{\"callback\":null,\"column_names\":[\"y\",\"line_color\",\"x\",\"fill_alpha\",\"width\",\"color\",\"height\",\"label\",\"line_alpha\"],\"data\":{\"chart_index\":[\"(112.249100, 134.694920]\"],\"color\":[\"#f22c40\"],\"fill_alpha\":[0.8],\"height\":[2396.0],\"label\":[\"(112.249100, 134.694920]\"],\"line_alpha\":[1.0],\"line_color\":[\"black\"],\"width\":[22.445820000000012],\"x\":[\"123.47201\"],\"y\":[1198.0]}},\"id\":\"45c30d56-f4b0-4769-91ba-3d5f4dad85ee\",\"type\":\"ColumnDataSource\"},{\"attributes\":{\"data_source\":{\"id\":\"b2ecf28e-2857-4298-9a5b-7ec992386dad\",\"type\":\"ColumnDataSource\"},\"glyph\":{\"id\":\"03423694-0c5a-426d-8e94-1435fe9b89ce\",\"type\":\"Rect\"},\"hover_glyph\":null,\"nonselection_glyph\":null,\"selection_glyph\":null},\"id\":\"bb2da776-5cc0-4b8e-a699-578c62d837c1\",\"type\":\"GlyphRenderer\"},{\"attributes\":{\"fill_alpha\":{\"field\":\"fill_alpha\"},\"fill_color\":{\"field\":\"color\"},\"height\":{\"field\":\"height\",\"units\":\"data\"},\"line_color\":{\"field\":\"line_color\"},\"width\":{\"field\":\"width\",\"units\":\"data\"},\"x\":{\"field\":\"x\"},\"y\":{\"field\":\"y\"}},\"id\":\"0d5b2445-cb26-4026-8350-3198d57dc10a\",\"type\":\"Rect\"},{\"attributes\":{\"callback\":null,\"column_names\":[\"y\",\"line_color\",\"x\",\"fill_alpha\",\"width\",\"color\",\"height\",\"label\",\"line_alpha\"],\"data\":{\"chart_index\":[\"(1010.081900, 1032.527720]\"],\"color\":[\"#f22c40\"],\"fill_alpha\":[0.8],\"height\":[206.0],\"label\":[\"(1010.081900, 1032.527720]\"],\"line_alpha\":[1.0],\"line_color\":[\"black\"],\"width\":[22.445819999999912],\"x\":[\"1021.3048100000001\"],\"y\":[103.0]}},\"id\":\"4377d544-1977-4a68-958d-2d312f0c1b71\",\"type\":\"ColumnDataSource\"},{\"attributes\":{\"callback\":null,\"column_names\":[\"y\",\"line_color\",\"x\",\"fill_alpha\",\"width\",\"color\",\"height\",\"label\",\"line_alpha\"],\"data\":{\"chart_index\":[\"(269.369840, 291.815660]\"],\"color\":[\"#f22c40\"],\"fill_alpha\":[0.8],\"height\":[329.0],\"label\":[\"(269.369840, 291.815660]\"],\"line_alpha\":[1.0],\"line_color\":[\"black\"],\"width\":[22.445820000000026],\"x\":[\"280.59275\"],\"y\":[164.5]}},\"id\":\"25f24726-ecca-4378-ab9e-faa0e43f3423\",\"type\":\"ColumnDataSource\"},{\"attributes\":{\"callback\":null,\"column_names\":[\"y\",\"line_color\",\"x\",\"fill_alpha\",\"width\",\"color\",\"height\",\"label\",\"line_alpha\"],\"data\":{\"chart_index\":[\"(852.961160, 875.406980]\"],\"color\":[\"#f22c40\"],\"fill_alpha\":[0.8],\"height\":[1294.0],\"label\":[\"(852.961160, 875.406980]\"],\"line_alpha\":[1.0],\"line_color\":[\"black\"],\"width\":[22.445820000000026],\"x\":[\"864.18407\"],\"y\":[647.0]}},\"id\":\"677cfe8c-fcd8-47b2-b6b0-d5a5f363d6af\",\"type\":\"ColumnDataSource\"},{\"attributes\":{\"data_source\":{\"id\":\"45c30d56-f4b0-4769-91ba-3d5f4dad85ee\",\"type\":\"ColumnDataSource\"},\"glyph\":{\"id\":\"e644b8c2-a9fa-49c6-b5bc-abcd4498b3eb\",\"type\":\"Rect\"},\"hover_glyph\":null,\"nonselection_glyph\":null,\"selection_glyph\":null},\"id\":\"267454a0-58bf-4219-b4af-daeb090eb41f\",\"type\":\"GlyphRenderer\"},{\"attributes\":{\"data_source\":{\"id\":\"f57f98ce-3cdb-4549-9fd8-99ff33c2ec05\",\"type\":\"ColumnDataSource\"},\"glyph\":{\"id\":\"603a3a75-335e-4fa6-b549-5fcefefeaf03\",\"type\":\"Rect\"},\"hover_glyph\":null,\"nonselection_glyph\":null,\"selection_glyph\":null},\"id\":\"495757c3-f771-4777-abee-ff4ac6b7a04c\",\"type\":\"GlyphRenderer\"},{\"attributes\":{\"fill_alpha\":{\"field\":\"fill_alpha\"},\"fill_color\":{\"field\":\"color\"},\"height\":{\"field\":\"height\",\"units\":\"data\"},\"line_color\":{\"field\":\"line_color\"},\"width\":{\"field\":\"width\",\"units\":\"data\"},\"x\":{\"field\":\"x\"},\"y\":{\"field\":\"y\"}},\"id\":\"45bdfc9e-8b96-4dc2-8b1c-a6647502c1fc\",\"type\":\"Rect\"},{\"attributes\":{\"plot\":{\"id\":\"1e65405e-34d7-42fb-ad18-a0b8df015c0a\",\"subtype\":\"Chart\",\"type\":\"Plot\"}},\"id\":\"1ee865d5-cca8-4111-a857-5ae0c58f0f88\",\"type\":\"SaveTool\"},{\"attributes\":{\"fill_alpha\":{\"field\":\"fill_alpha\"},\"fill_color\":{\"field\":\"color\"},\"height\":{\"field\":\"height\",\"units\":\"data\"},\"line_color\":{\"field\":\"line_color\"},\"width\":{\"field\":\"width\",\"units\":\"data\"},\"x\":{\"field\":\"x\"},\"y\":{\"field\":\"y\"}},\"id\":\"119a2493-32b0-43e0-a2ac-960e97a944db\",\"type\":\"Rect\"},{\"attributes\":{\"fill_alpha\":{\"field\":\"fill_alpha\"},\"fill_color\":{\"field\":\"color\"},\"height\":{\"field\":\"height\",\"units\":\"data\"},\"line_color\":{\"field\":\"line_color\"},\"width\":{\"field\":\"width\",\"units\":\"data\"},\"x\":{\"field\":\"x\"},\"y\":{\"field\":\"y\"}},\"id\":\"e644b8c2-a9fa-49c6-b5bc-abcd4498b3eb\",\"type\":\"Rect\"},{\"attributes\":{\"callback\":null,\"column_names\":[\"y\",\"line_color\",\"x\",\"fill_alpha\",\"width\",\"color\",\"height\",\"label\",\"line_alpha\"],\"data\":{\"chart_index\":[\"(381.598940, 404.044760]\"],\"color\":[\"#f22c40\"],\"fill_alpha\":[0.8],\"height\":[5731.0],\"label\":[\"(381.598940, 404.044760]\"],\"line_alpha\":[1.0],\"line_color\":[\"black\"],\"width\":[22.44581999999997],\"x\":[\"392.82185000000004\"],\"y\":[2865.5]}},\"id\":\"aec1c151-29e2-41a2-b15d-4776ebab56dd\",\"type\":\"ColumnDataSource\"},{\"attributes\":{\"plot\":{\"id\":\"1e65405e-34d7-42fb-ad18-a0b8df015c0a\",\"subtype\":\"Chart\",\"type\":\"Plot\"}},\"id\":\"ad4cb977-e2ff-487c-b415-a1a24349d48c\",\"type\":\"ResetTool\"},{\"attributes\":{\"fill_alpha\":{\"field\":\"fill_alpha\"},\"fill_color\":{\"field\":\"color\"},\"height\":{\"field\":\"height\",\"units\":\"data\"},\"line_color\":{\"field\":\"line_color\"},\"width\":{\"field\":\"width\",\"units\":\"data\"},\"x\":{\"field\":\"x\"},\"y\":{\"field\":\"y\"}},\"id\":\"7cc7922e-9605-40f2-bb93-5806ca70f469\",\"type\":\"Rect\"},{\"attributes\":{\"fill_alpha\":{\"field\":\"fill_alpha\"},\"fill_color\":{\"field\":\"color\"},\"height\":{\"field\":\"height\",\"units\":\"data\"},\"line_color\":{\"field\":\"line_color\"},\"width\":{\"field\":\"width\",\"units\":\"data\"},\"x\":{\"field\":\"x\"},\"y\":{\"field\":\"y\"}},\"id\":\"a88f557c-2ea0-4c6d-96cb-a45f21fe6301\",\"type\":\"Rect\"},{\"attributes\":{\"callback\":null,\"column_names\":[\"y\",\"line_color\",\"x\",\"fill_alpha\",\"width\",\"color\",\"height\",\"label\",\"line_alpha\"],\"data\":{\"chart_index\":[\"(740.732060, 763.177880]\"],\"color\":[\"#f22c40\"],\"fill_alpha\":[0.8],\"height\":[229.0],\"label\":[\"(740.732060, 763.177880]\"],\"line_alpha\":[1.0],\"line_color\":[\"black\"],\"width\":[22.445820000000026],\"x\":[\"751.95497\"],\"y\":[114.5]}},\"id\":\"63d722ac-77a4-42a0-963f-c6a3831e45c8\",\"type\":\"ColumnDataSource\"},{\"attributes\":{\"fill_alpha\":{\"field\":\"fill_alpha\"},\"fill_color\":{\"field\":\"color\"},\"height\":{\"field\":\"height\",\"units\":\"data\"},\"line_color\":{\"field\":\"line_color\"},\"width\":{\"field\":\"width\",\"units\":\"data\"},\"x\":{\"field\":\"x\"},\"y\":{\"field\":\"y\"}},\"id\":\"74330317-245c-4d5f-9b09-dab7632e6aba\",\"type\":\"Rect\"},{\"attributes\":{\"callback\":null,\"column_names\":[\"y\",\"line_color\",\"x\",\"fill_alpha\",\"width\",\"color\",\"height\",\"label\",\"line_alpha\"],\"data\":{\"chart_index\":[\"(202.032380, 224.478200]\"],\"color\":[\"#f22c40\"],\"fill_alpha\":[0.8],\"height\":[37052.0],\"label\":[\"(202.032380, 224.478200]\"],\"line_alpha\":[1.0],\"line_color\":[\"black\"],\"width\":[22.445819999999998],\"x\":[\"213.25529\"],\"y\":[18526.0]}},\"id\":\"491d2aec-6df1-4623-9505-8650d7906bbb\",\"type\":\"ColumnDataSource\"},{\"attributes\":{\"callback\":null,\"column_names\":[\"y\",\"line_color\",\"x\",\"fill_alpha\",\"width\",\"color\",\"height\",\"label\",\"line_alpha\"],\"data\":{\"chart_index\":[\"(134.694920, 157.140740]\"],\"color\":[\"#f22c40\"],\"fill_alpha\":[0.8],\"height\":[6436.0],\"label\":[\"(134.694920, 157.140740]\"],\"line_alpha\":[1.0],\"line_color\":[\"black\"],\"width\":[22.445819999999998],\"x\":[\"145.91782999999998\"],\"y\":[3218.0]}},\"id\":\"cd459051-985c-4976-b9ca-eee421ae58ae\",\"type\":\"ColumnDataSource\"},{\"attributes\":{\"callback\":null,\"column_names\":[\"y\",\"line_color\",\"x\",\"fill_alpha\",\"width\",\"color\",\"height\",\"label\",\"line_alpha\"],\"data\":{\"chart_index\":[\"(673.394600, 695.840420]\"],\"color\":[\"#f22c40\"],\"fill_alpha\":[0.8],\"height\":[1248.0],\"label\":[\"(673.394600, 695.840420]\"],\"line_alpha\":[1.0],\"line_color\":[\"black\"],\"width\":[22.445820000000026],\"x\":[\"684.61751\"],\"y\":[624.0]}},\"id\":\"8e98e987-a59f-496b-827c-ec646a98fadc\",\"type\":\"ColumnDataSource\"},{\"attributes\":{\"callback\":null,\"column_names\":[\"y\",\"line_color\",\"x\",\"fill_alpha\",\"width\",\"color\",\"height\",\"label\",\"line_alpha\"],\"data\":{\"chart_index\":[\"(606.057140, 628.502960]\"],\"color\":[\"#f22c40\"],\"fill_alpha\":[0.8],\"height\":[466.0],\"label\":[\"(606.057140, 628.502960]\"],\"line_alpha\":[1.0],\"line_color\":[\"black\"],\"width\":[22.445820000000026],\"x\":[\"617.2800500000001\"],\"y\":[233.0]}},\"id\":\"d18015be-6227-475b-a69c-a781add24113\",\"type\":\"ColumnDataSource\"},{\"attributes\":{\"data_source\":{\"id\":\"677cfe8c-fcd8-47b2-b6b0-d5a5f363d6af\",\"type\":\"ColumnDataSource\"},\"glyph\":{\"id\":\"adf8e605-dccc-4f72-a39b-82f71c512c97\",\"type\":\"Rect\"},\"hover_glyph\":null,\"nonselection_glyph\":null,\"selection_glyph\":null},\"id\":\"45adc023-7442-4d46-9247-f59673b7cad6\",\"type\":\"GlyphRenderer\"},{\"attributes\":{\"callback\":null,\"column_names\":[\"y\",\"line_color\",\"x\",\"fill_alpha\",\"width\",\"color\",\"height\",\"label\",\"line_alpha\"],\"data\":{\"chart_index\":[\"(1054.973540, 1077.419360]\"],\"color\":[\"#f22c40\"],\"fill_alpha\":[0.8],\"height\":[3789.0],\"label\":[\"(1054.973540, 1077.419360]\"],\"line_alpha\":[1.0],\"line_color\":[\"black\"],\"width\":[22.445819999999912],\"x\":[\"1066.19645\"],\"y\":[1894.5]}},\"id\":\"b2ecf28e-2857-4298-9a5b-7ec992386dad\",\"type\":\"ColumnDataSource\"},{\"attributes\":{\"callback\":null,\"end\":1150.3692750000002,\"start\":-28.038275000000006},\"id\":\"b93af41d-d24f-4548-9b9a-702cfa177733\",\"type\":\"Range1d\"},{\"attributes\":{\"data_source\":{\"id\":\"20820ded-3571-42cb-8764-c1c23b62cd64\",\"type\":\"ColumnDataSource\"},\"glyph\":{\"id\":\"45bdfc9e-8b96-4dc2-8b1c-a6647502c1fc\",\"type\":\"Rect\"},\"hover_glyph\":null,\"nonselection_glyph\":null,\"selection_glyph\":null},\"id\":\"c7e87e40-2a00-45a1-97ab-e314d78d8a55\",\"type\":\"GlyphRenderer\"},{\"attributes\":{\"bottom_units\":\"screen\",\"fill_alpha\":{\"value\":0.5},\"fill_color\":{\"value\":\"lightgrey\"},\"left_units\":\"screen\",\"level\":\"overlay\",\"line_alpha\":{\"value\":1.0},\"line_color\":{\"value\":\"black\"},\"line_dash\":[4,4],\"line_width\":{\"value\":2},\"plot\":null,\"render_mode\":\"css\",\"right_units\":\"screen\",\"top_units\":\"screen\"},\"id\":\"5c0350d3-7723-4623-ad6c-347a4cb27fb5\",\"type\":\"BoxAnnotation\"},{\"attributes\":{\"data_source\":{\"id\":\"a3cc5906-a823-4211-b810-296f2f4a7c84\",\"type\":\"ColumnDataSource\"},\"glyph\":{\"id\":\"1861a577-8428-4c42-85de-452e60f65711\",\"type\":\"Rect\"},\"hover_glyph\":null,\"nonselection_glyph\":null,\"selection_glyph\":null},\"id\":\"89e91a88-e222-4e48-a6bc-10e86ceebfc8\",\"type\":\"GlyphRenderer\"},{\"attributes\":{\"callback\":null,\"column_names\":[\"y\",\"line_color\",\"x\",\"fill_alpha\",\"width\",\"color\",\"height\",\"label\",\"line_alpha\"],\"data\":{\"chart_index\":[\"(897.852800, 920.298620]\"],\"color\":[\"#f22c40\"],\"fill_alpha\":[0.8],\"height\":[3574.0],\"label\":[\"(897.852800, 920.298620]\"],\"line_alpha\":[1.0],\"line_color\":[\"black\"],\"width\":[22.445820000000026],\"x\":[\"909.0757100000001\"],\"y\":[1787.0]}},\"id\":\"4fd8b84b-b1ec-47ab-b2b3-488ea940c1df\",\"type\":\"ColumnDataSource\"},{\"attributes\":{\"callback\":null,\"column_names\":[\"y\",\"line_color\",\"x\",\"fill_alpha\",\"width\",\"color\",\"height\",\"label\",\"line_alpha\"],\"data\":{\"chart_index\":[\"(1032.527720, 1054.973540]\"],\"color\":[\"#f22c40\"],\"fill_alpha\":[0.8],\"height\":[1397.0],\"label\":[\"(1032.527720, 1054.973540]\"],\"line_alpha\":[1.0],\"line_color\":[\"black\"],\"width\":[22.44582000000014],\"x\":[\"1043.75063\"],\"y\":[698.5]}},\"id\":\"c733c56b-88ef-4dfb-856e-f1a729dbcbed\",\"type\":\"ColumnDataSource\"},{\"attributes\":{\"callback\":null,\"column_names\":[\"y\",\"line_color\",\"x\",\"fill_alpha\",\"width\",\"color\",\"height\",\"label\",\"line_alpha\"],\"data\":{\"chart_index\":[\"(67.357460, 89.803280]\"],\"color\":[\"#f22c40\"],\"fill_alpha\":[0.8],\"height\":[61677.0],\"label\":[\"(67.357460, 89.803280]\"],\"line_alpha\":[1.0],\"line_color\":[\"black\"],\"width\":[22.445819999999998],\"x\":[\"78.58037\"],\"y\":[30838.5]}},\"id\":\"e863aaab-b983-4bb2-8968-e707a3373171\",\"type\":\"ColumnDataSource\"},{\"attributes\":{\"data_source\":{\"id\":\"63d722ac-77a4-42a0-963f-c6a3831e45c8\",\"type\":\"ColumnDataSource\"},\"glyph\":{\"id\":\"74f0066c-6b6c-4af2-9aca-facd197f04e5\",\"type\":\"Rect\"},\"hover_glyph\":null,\"nonselection_glyph\":null,\"selection_glyph\":null},\"id\":\"86f76a20-4190-4f97-93ed-a36e77fc7820\",\"type\":\"GlyphRenderer\"},{\"attributes\":{\"fill_alpha\":{\"field\":\"fill_alpha\"},\"fill_color\":{\"field\":\"color\"},\"height\":{\"field\":\"height\",\"units\":\"data\"},\"line_color\":{\"field\":\"line_color\"},\"width\":{\"field\":\"width\",\"units\":\"data\"},\"x\":{\"field\":\"x\"},\"y\":{\"field\":\"y\"}},\"id\":\"1bedf769-9a64-4d1d-8499-4209fda8ec96\",\"type\":\"Rect\"},{\"attributes\":{\"fill_alpha\":{\"field\":\"fill_alpha\"},\"fill_color\":{\"field\":\"color\"},\"height\":{\"field\":\"height\",\"units\":\"data\"},\"line_color\":{\"field\":\"line_color\"},\"width\":{\"field\":\"width\",\"units\":\"data\"},\"x\":{\"field\":\"x\"},\"y\":{\"field\":\"y\"}},\"id\":\"25fd2789-1985-4db1-9126-06bcd36500bf\",\"type\":\"Rect\"},{\"attributes\":{\"data_source\":{\"id\":\"7584f639-d5e2-4967-9eea-354375057815\",\"type\":\"ColumnDataSource\"},\"glyph\":{\"id\":\"119a2493-32b0-43e0-a2ac-960e97a944db\",\"type\":\"Rect\"},\"hover_glyph\":null,\"nonselection_glyph\":null,\"selection_glyph\":null},\"id\":\"5cf70325-21a4-4bf0-93e2-1a63b7978ab7\",\"type\":\"GlyphRenderer\"},{\"attributes\":{\"data_source\":{\"id\":\"fc9b74f6-1e19-49b3-9c15-e66b5696b743\",\"type\":\"ColumnDataSource\"},\"glyph\":{\"id\":\"47d7ece4-62fc-4a11-9f19-007fcb1768b5\",\"type\":\"Rect\"},\"hover_glyph\":null,\"nonselection_glyph\":null,\"selection_glyph\":null},\"id\":\"e8c58237-a1da-48e3-bce7-6dbf1e2e51b8\",\"type\":\"GlyphRenderer\"},{\"attributes\":{\"callback\":null,\"column_names\":[\"y\",\"line_color\",\"x\",\"fill_alpha\",\"width\",\"color\",\"height\",\"label\",\"line_alpha\"],\"data\":{\"chart_index\":[\"(763.177880, 785.623700]\"],\"color\":[\"#f22c40\"],\"fill_alpha\":[0.8],\"height\":[1884.0],\"label\":[\"(763.177880, 785.623700]\"],\"line_alpha\":[1.0],\"line_color\":[\"black\"],\"width\":[22.445819999999912],\"x\":[\"774.4007899999999\"],\"y\":[942.0]}},\"id\":\"6b5dc0f6-8c49-47ab-a2be-ae7553437caf\",\"type\":\"ColumnDataSource\"},{\"attributes\":{\"fill_alpha\":{\"field\":\"fill_alpha\"},\"fill_color\":{\"field\":\"color\"},\"height\":{\"field\":\"height\",\"units\":\"data\"},\"line_color\":{\"field\":\"line_color\"},\"width\":{\"field\":\"width\",\"units\":\"data\"},\"x\":{\"field\":\"x\"},\"y\":{\"field\":\"y\"}},\"id\":\"1cafdc23-8f65-46c9-b1e8-ba15ef2927be\",\"type\":\"Rect\"},{\"attributes\":{\"data_source\":{\"id\":\"f9628cbb-cd68-45f1-872d-0ef7a168757d\",\"type\":\"ColumnDataSource\"},\"glyph\":{\"id\":\"1bedf769-9a64-4d1d-8499-4209fda8ec96\",\"type\":\"Rect\"},\"hover_glyph\":null,\"nonselection_glyph\":null,\"selection_glyph\":null},\"id\":\"f8c184f4-d775-472c-90de-1e9013baf339\",\"type\":\"GlyphRenderer\"},{\"attributes\":{\"data_source\":{\"id\":\"74981448-94e9-4935-90fc-079f5107fb49\",\"type\":\"ColumnDataSource\"},\"glyph\":{\"id\":\"7ee6f2a9-bcac-4759-bdfd-794ad3560135\",\"type\":\"Rect\"},\"hover_glyph\":null,\"nonselection_glyph\":null,\"selection_glyph\":null},\"id\":\"80b8b33b-acb0-49ab-9b3b-ce379743e087\",\"type\":\"GlyphRenderer\"},{\"attributes\":{\"data_source\":{\"id\":\"e4eba719-2425-439f-81c8-6fd09278507c\",\"type\":\"ColumnDataSource\"},\"glyph\":{\"id\":\"74330317-245c-4d5f-9b09-dab7632e6aba\",\"type\":\"Rect\"},\"hover_glyph\":null,\"nonselection_glyph\":null,\"selection_glyph\":null},\"id\":\"16515c53-879a-49fb-b393-0fd32409c995\",\"type\":\"GlyphRenderer\"},{\"attributes\":{\"data_source\":{\"id\":\"6e1003e6-39d0-423e-9777-465878722388\",\"type\":\"ColumnDataSource\"},\"glyph\":{\"id\":\"1cafdc23-8f65-46c9-b1e8-ba15ef2927be\",\"type\":\"Rect\"},\"hover_glyph\":null,\"nonselection_glyph\":null,\"selection_glyph\":null},\"id\":\"fbd42f52-3d1b-476e-a4d1-69ed6f8293f6\",\"type\":\"GlyphRenderer\"},{\"attributes\":{\"callback\":null,\"column_names\":[\"y\",\"line_color\",\"x\",\"fill_alpha\",\"width\",\"color\",\"height\",\"label\",\"line_alpha\"],\"data\":{\"chart_index\":[\"(1077.419360, 1099.865180]\"],\"color\":[\"#f22c40\"],\"fill_alpha\":[0.8],\"height\":[1224.0],\"label\":[\"(1077.419360, 1099.865180]\"],\"line_alpha\":[1.0],\"line_color\":[\"black\"],\"width\":[22.445819999999912],\"x\":[\"1088.64227\"],\"y\":[612.0]}},\"id\":\"c425e498-572c-4bf6-9e3a-b7575fc96bfb\",\"type\":\"ColumnDataSource\"},{\"attributes\":{\"callback\":null,\"column_names\":[\"y\",\"line_color\",\"x\",\"fill_alpha\",\"width\",\"color\",\"height\",\"label\",\"line_alpha\"],\"data\":{\"chart_index\":[\"(493.828040, 516.273860]\"],\"color\":[\"#f22c40\"],\"fill_alpha\":[0.8],\"height\":[0.0],\"label\":[\"(493.828040, 516.273860]\"],\"line_alpha\":[1.0],\"line_color\":[\"black\"],\"width\":[22.44581999999997],\"x\":[\"505.05095\"],\"y\":[0.0]}},\"id\":\"f57f98ce-3cdb-4549-9fd8-99ff33c2ec05\",\"type\":\"ColumnDataSource\"},{\"attributes\":{\"data_source\":{\"id\":\"e17e14ec-27a1-4296-a198-e0dfafff3ba9\",\"type\":\"ColumnDataSource\"},\"glyph\":{\"id\":\"d15fd346-5c63-46dc-9c12-35700e091906\",\"type\":\"Rect\"},\"hover_glyph\":null,\"nonselection_glyph\":null,\"selection_glyph\":null},\"id\":\"05e08a51-bc8e-4996-a02c-8743f4e5ff0a\",\"type\":\"GlyphRenderer\"},{\"attributes\":{\"fill_alpha\":{\"field\":\"fill_alpha\"},\"fill_color\":{\"field\":\"color\"},\"height\":{\"field\":\"height\",\"units\":\"data\"},\"line_color\":{\"field\":\"line_color\"},\"width\":{\"field\":\"width\",\"units\":\"data\"},\"x\":{\"field\":\"x\"},\"y\":{\"field\":\"y\"}},\"id\":\"5762ddc8-c85a-4122-9ed8-6e9cd55da4a5\",\"type\":\"Rect\"},{\"attributes\":{\"data_source\":{\"id\":\"5429b5ab-e013-44fa-bb38-873fa2ceba24\",\"type\":\"ColumnDataSource\"},\"glyph\":{\"id\":\"5a16c465-3778-49cb-807d-5f783df0fd08\",\"type\":\"Rect\"},\"hover_glyph\":null,\"nonselection_glyph\":null,\"selection_glyph\":null},\"id\":\"2432bf47-058a-4ffe-8f01-40e0c524cd42\",\"type\":\"GlyphRenderer\"},{\"attributes\":{\"callback\":null,\"column_names\":[\"y\",\"line_color\",\"x\",\"fill_alpha\",\"width\",\"color\",\"height\",\"label\",\"line_alpha\"],\"data\":{\"chart_index\":[\"(359.153120, 381.598940]\"],\"color\":[\"#f22c40\"],\"fill_alpha\":[0.8],\"height\":[2788.0],\"label\":[\"(359.153120, 381.598940]\"],\"line_alpha\":[1.0],\"line_color\":[\"black\"],\"width\":[22.445820000000026],\"x\":[\"370.37603\"],\"y\":[1394.0]}},\"id\":\"20820ded-3571-42cb-8764-c1c23b62cd64\",\"type\":\"ColumnDataSource\"},{\"attributes\":{\"fill_alpha\":{\"field\":\"fill_alpha\"},\"fill_color\":{\"field\":\"color\"},\"height\":{\"field\":\"height\",\"units\":\"data\"},\"line_color\":{\"field\":\"line_color\"},\"width\":{\"field\":\"width\",\"units\":\"data\"},\"x\":{\"field\":\"x\"},\"y\":{\"field\":\"y\"}},\"id\":\"efdfdae8-51e8-4e76-b968-65f0b072d7e5\",\"type\":\"Rect\"},{\"attributes\":{\"fill_alpha\":{\"field\":\"fill_alpha\"},\"fill_color\":{\"field\":\"color\"},\"height\":{\"field\":\"height\",\"units\":\"data\"},\"line_color\":{\"field\":\"line_color\"},\"width\":{\"field\":\"width\",\"units\":\"data\"},\"x\":{\"field\":\"x\"},\"y\":{\"field\":\"y\"}},\"id\":\"9a03542d-663b-4188-a7f8-724c43ab33b1\",\"type\":\"Rect\"},{\"attributes\":{\"callback\":null,\"end\":67844.70000000001},\"id\":\"6c06ebc0-ed49-47aa-97cb-aad0dcda0de7\",\"type\":\"Range1d\"},{\"attributes\":{\"fill_alpha\":{\"field\":\"fill_alpha\"},\"fill_color\":{\"field\":\"color\"},\"height\":{\"field\":\"height\",\"units\":\"data\"},\"line_color\":{\"field\":\"line_color\"},\"width\":{\"field\":\"width\",\"units\":\"data\"},\"x\":{\"field\":\"x\"},\"y\":{\"field\":\"y\"}},\"id\":\"68e0a126-30ba-44b3-a4d7-6396c4576ff0\",\"type\":\"Rect\"},{\"attributes\":{\"fill_alpha\":{\"field\":\"fill_alpha\"},\"fill_color\":{\"field\":\"color\"},\"height\":{\"field\":\"height\",\"units\":\"data\"},\"line_color\":{\"field\":\"line_color\"},\"width\":{\"field\":\"width\",\"units\":\"data\"},\"x\":{\"field\":\"x\"},\"y\":{\"field\":\"y\"}},\"id\":\"00b24043-b0c8-444c-92b7-43acbd141cdc\",\"type\":\"Rect\"},{\"attributes\":{\"below\":[{\"id\":\"5eecccd8-e3a3-4334-bd5d-de472d46f38b\",\"type\":\"LinearAxis\"}],\"css_classes\":null,\"left\":[{\"id\":\"3bf2919d-20eb-4109-8afd-ec27966d41c7\",\"type\":\"LinearAxis\"}],\"renderers\":[{\"id\":\"5c0350d3-7723-4623-ad6c-347a4cb27fb5\",\"type\":\"BoxAnnotation\"},{\"id\":\"dc386536-8479-4800-b971-b8701648a541\",\"type\":\"GlyphRenderer\"},{\"id\":\"1e7247ef-832d-4e4e-819e-2cbc4dde5299\",\"type\":\"GlyphRenderer\"},{\"id\":\"e8c58237-a1da-48e3-bce7-6dbf1e2e51b8\",\"type\":\"GlyphRenderer\"},{\"id\":\"4945056a-a915-4d59-bce0-b2f33456496e\",\"type\":\"GlyphRenderer\"},{\"id\":\"e09d4c8d-01f6-47dc-814c-c4556c8a8e9d\",\"type\":\"GlyphRenderer\"},{\"id\":\"267454a0-58bf-4219-b4af-daeb090eb41f\",\"type\":\"GlyphRenderer\"},{\"id\":\"ec672412-d0cd-48b4-8246-aaaccd43b5c3\",\"type\":\"GlyphRenderer\"},{\"id\":\"05e08a51-bc8e-4996-a02c-8743f4e5ff0a\",\"type\":\"GlyphRenderer\"},{\"id\":\"89e91a88-e222-4e48-a6bc-10e86ceebfc8\",\"type\":\"GlyphRenderer\"},{\"id\":\"87b27f1b-894e-44e5-abe4-a2e85f56fbdd\",\"type\":\"GlyphRenderer\"},{\"id\":\"ba6bbe55-2c75-4ad3-8a67-6fcb9636ebcd\",\"type\":\"GlyphRenderer\"},{\"id\":\"a9df2455-d670-4c62-99e0-38c45ebee90c\",\"type\":\"GlyphRenderer\"},{\"id\":\"5b3590fe-b9b1-4f13-a4a7-9766800502c4\",\"type\":\"GlyphRenderer\"},{\"id\":\"5cf70325-21a4-4bf0-93e2-1a63b7978ab7\",\"type\":\"GlyphRenderer\"},{\"id\":\"fbd42f52-3d1b-476e-a4d1-69ed6f8293f6\",\"type\":\"GlyphRenderer\"},{\"id\":\"5440ff34-1d9c-4ad7-9404-7547f4760110\",\"type\":\"GlyphRenderer\"},{\"id\":\"c7e87e40-2a00-45a1-97ab-e314d78d8a55\",\"type\":\"GlyphRenderer\"},{\"id\":\"aecc3020-1b18-4f8c-9857-6581c0efb508\",\"type\":\"GlyphRenderer\"},{\"id\":\"5198fc98-c5c4-4616-8c6f-fa732e663ad3\",\"type\":\"GlyphRenderer\"},{\"id\":\"16515c53-879a-49fb-b393-0fd32409c995\",\"type\":\"GlyphRenderer\"},{\"id\":\"92b0ffb9-65e2-4265-af44-7cbb9055317e\",\"type\":\"GlyphRenderer\"},{\"id\":\"9d05599c-8993-44b8-b4f4-157dd3f65f9e\",\"type\":\"GlyphRenderer\"},{\"id\":\"495757c3-f771-4777-abee-ff4ac6b7a04c\",\"type\":\"GlyphRenderer\"},{\"id\":\"2432bf47-058a-4ffe-8f01-40e0c524cd42\",\"type\":\"GlyphRenderer\"},{\"id\":\"5351d4b9-d78c-43f0-a96c-d29ee333610f\",\"type\":\"GlyphRenderer\"},{\"id\":\"5d9d9dad-e07a-4890-9d48-3ae5ab17100b\",\"type\":\"GlyphRenderer\"},{\"id\":\"5c527197-7679-431b-9f4c-8c5d305d79a4\",\"type\":\"GlyphRenderer\"},{\"id\":\"4f5e8445-3761-438a-b9f9-4ba9e1f8dd40\",\"type\":\"GlyphRenderer\"},{\"id\":\"539afe1d-14db-4fa5-90a4-c44151dae947\",\"type\":\"GlyphRenderer\"},{\"id\":\"80b8b33b-acb0-49ab-9b3b-ce379743e087\",\"type\":\"GlyphRenderer\"},{\"id\":\"1b571c7e-c117-46dd-a39e-fc8b19418fd6\",\"type\":\"GlyphRenderer\"},{\"id\":\"9ae59bd9-2434-40ad-a72f-aa4b1d58fae6\",\"type\":\"GlyphRenderer\"},{\"id\":\"b26e8cf8-ad5e-423a-976f-b32b02eae8f5\",\"type\":\"GlyphRenderer\"},{\"id\":\"86f76a20-4190-4f97-93ed-a36e77fc7820\",\"type\":\"GlyphRenderer\"},{\"id\":\"5770bc50-2a8e-4a12-b708-a3b23830eb70\",\"type\":\"GlyphRenderer\"},{\"id\":\"c8b03bc6-9dd4-4634-b4bf-4c34c9ae8e19\",\"type\":\"GlyphRenderer\"},{\"id\":\"2cde5b27-5d73-4695-a172-ce6d0dc524cb\",\"type\":\"GlyphRenderer\"},{\"id\":\"cc9de696-dd19-4c5c-8008-0d0d3f3a14c2\",\"type\":\"GlyphRenderer\"},{\"id\":\"45adc023-7442-4d46-9247-f59673b7cad6\",\"type\":\"GlyphRenderer\"},{\"id\":\"6d22734a-204c-4140-9fe3-bd952c782e3c\",\"type\":\"GlyphRenderer\"},{\"id\":\"0a2dbb32-b1b7-4e35-a397-6d9d80daeeb2\",\"type\":\"GlyphRenderer\"},{\"id\":\"3ca41ee2-488e-4506-972d-291fa71d813d\",\"type\":\"GlyphRenderer\"},{\"id\":\"4c30e91f-af97-4457-9a06-321422a58101\",\"type\":\"GlyphRenderer\"},{\"id\":\"37247775-eac2-4e5e-9bda-97ddde40a949\",\"type\":\"GlyphRenderer\"},{\"id\":\"f8c184f4-d775-472c-90de-1e9013baf339\",\"type\":\"GlyphRenderer\"},{\"id\":\"38650a55-5e39-4d56-aab1-59970674d4d4\",\"type\":\"GlyphRenderer\"},{\"id\":\"4309c091-2272-4149-92e1-21dff44ccfce\",\"type\":\"GlyphRenderer\"},{\"id\":\"bb2da776-5cc0-4b8e-a699-578c62d837c1\",\"type\":\"GlyphRenderer\"},{\"id\":\"7c8eb698-d687-4f4a-9197-1a9c1565a2fc\",\"type\":\"GlyphRenderer\"},{\"id\":\"9ca5ea4f-a9e7-4fcd-a01c-76d659b1f476\",\"type\":\"GlyphRenderer\"},{\"id\":\"6901daee-3343-4067-b3f6-4fbd5cafc27e\",\"type\":\"Legend\"},{\"id\":\"5eecccd8-e3a3-4334-bd5d-de472d46f38b\",\"type\":\"LinearAxis\"},{\"id\":\"3bf2919d-20eb-4109-8afd-ec27966d41c7\",\"type\":\"LinearAxis\"},{\"id\":\"ced02f5f-76a9-4e2c-946c-3375152504ab\",\"type\":\"Grid\"}],\"title\":{\"id\":\"cf731811-ec14-463d-9236-12acd0d3e206\",\"type\":\"Title\"},\"tool_events\":{\"id\":\"325c9d8d-8a2e-4f60-9151-5f1660e9425d\",\"type\":\"ToolEvents\"},\"toolbar\":{\"id\":\"76945458-eb3f-47c4-b960-f9952ec5a2cb\",\"type\":\"Toolbar\"},\"x_mapper_type\":\"auto\",\"x_range\":{\"id\":\"b93af41d-d24f-4548-9b9a-702cfa177733\",\"type\":\"Range1d\"},\"y_mapper_type\":\"auto\",\"y_range\":{\"id\":\"6c06ebc0-ed49-47aa-97cb-aad0dcda0de7\",\"type\":\"Range1d\"}},\"id\":\"1e65405e-34d7-42fb-ad18-a0b8df015c0a\",\"subtype\":\"Chart\",\"type\":\"Plot\"},{\"attributes\":{\"data_source\":{\"id\":\"1745e2d7-620e-4fd3-9747-c3b478b82d77\",\"type\":\"ColumnDataSource\"},\"glyph\":{\"id\":\"f13789db-1746-479d-814e-a99aef82c96b\",\"type\":\"Rect\"},\"hover_glyph\":null,\"nonselection_glyph\":null,\"selection_glyph\":null},\"id\":\"6d22734a-204c-4140-9fe3-bd952c782e3c\",\"type\":\"GlyphRenderer\"},{\"attributes\":{\"callback\":null,\"column_names\":[\"y\",\"line_color\",\"x\",\"fill_alpha\",\"width\",\"color\",\"height\",\"label\",\"line_alpha\"],\"data\":{\"chart_index\":[\"(538.719680, 561.165500]\"],\"color\":[\"#f22c40\"],\"fill_alpha\":[0.8],\"height\":[6.0],\"label\":[\"(538.719680, 561.165500]\"],\"line_alpha\":[1.0],\"line_color\":[\"black\"],\"width\":[22.445820000000026],\"x\":[\"549.94259\"],\"y\":[3.0]}},\"id\":\"8b21e01b-9e9e-4dc0-b79e-3492dd9765c2\",\"type\":\"ColumnDataSource\"},{\"attributes\":{\"location\":\"top_left\",\"plot\":{\"id\":\"1e65405e-34d7-42fb-ad18-a0b8df015c0a\",\"subtype\":\"Chart\",\"type\":\"Plot\"}},\"id\":\"6901daee-3343-4067-b3f6-4fbd5cafc27e\",\"type\":\"Legend\"},{\"attributes\":{\"data_source\":{\"id\":\"aec1c151-29e2-41a2-b15d-4776ebab56dd\",\"type\":\"ColumnDataSource\"},\"glyph\":{\"id\":\"9657a228-f951-4120-a992-da3f04476690\",\"type\":\"Rect\"},\"hover_glyph\":null,\"nonselection_glyph\":null,\"selection_glyph\":null},\"id\":\"aecc3020-1b18-4f8c-9857-6581c0efb508\",\"type\":\"GlyphRenderer\"},{\"attributes\":{\"callback\":null,\"column_names\":[\"y\",\"line_color\",\"x\",\"fill_alpha\",\"width\",\"color\",\"height\",\"label\",\"line_alpha\"],\"data\":{\"chart_index\":[\"(246.924020, 269.369840]\"],\"color\":[\"#f22c40\"],\"fill_alpha\":[0.8],\"height\":[6019.0],\"label\":[\"(246.924020, 269.369840]\"],\"line_alpha\":[1.0],\"line_color\":[\"black\"],\"width\":[22.44581999999997],\"x\":[\"258.14693\"],\"y\":[3009.5]}},\"id\":\"1578062c-8839-4b97-a61b-22553f23d53b\",\"type\":\"ColumnDataSource\"},{\"attributes\":{\"fill_alpha\":{\"field\":\"fill_alpha\"},\"fill_color\":{\"field\":\"color\"},\"height\":{\"field\":\"height\",\"units\":\"data\"},\"line_color\":{\"field\":\"line_color\"},\"width\":{\"field\":\"width\",\"units\":\"data\"},\"x\":{\"field\":\"x\"},\"y\":{\"field\":\"y\"}},\"id\":\"f13789db-1746-479d-814e-a99aef82c96b\",\"type\":\"Rect\"},{\"attributes\":{\"callback\":null,\"column_names\":[\"y\",\"line_color\",\"x\",\"fill_alpha\",\"width\",\"color\",\"height\",\"label\",\"line_alpha\"],\"data\":{\"chart_index\":[\"(224.478200, 246.924020]\"],\"color\":[\"#f22c40\"],\"fill_alpha\":[0.8],\"height\":[50171.0],\"label\":[\"(224.478200, 246.924020]\"],\"line_alpha\":[1.0],\"line_color\":[\"black\"],\"width\":[22.445819999999998],\"x\":[\"235.70111\"],\"y\":[25085.5]}},\"id\":\"ab545d75-330e-4772-ba1e-e24342aad74f\",\"type\":\"ColumnDataSource\"},{\"attributes\":{\"fill_alpha\":{\"field\":\"fill_alpha\"},\"fill_color\":{\"field\":\"color\"},\"height\":{\"field\":\"height\",\"units\":\"data\"},\"line_color\":{\"field\":\"line_color\"},\"width\":{\"field\":\"width\",\"units\":\"data\"},\"x\":{\"field\":\"x\"},\"y\":{\"field\":\"y\"}},\"id\":\"d15fd346-5c63-46dc-9c12-35700e091906\",\"type\":\"Rect\"},{\"attributes\":{\"callback\":null,\"column_names\":[\"y\",\"line_color\",\"x\",\"fill_alpha\",\"width\",\"color\",\"height\",\"label\",\"line_alpha\"],\"data\":{\"chart_index\":[\"(1099.865180, 1122.311000]\"],\"color\":[\"#f22c40\"],\"fill_alpha\":[0.8],\"height\":[1852.0],\"label\":[\"(1099.865180, 1122.311000]\"],\"line_alpha\":[1.0],\"line_color\":[\"black\"],\"width\":[22.44582000000014],\"x\":[\"1111.08809\"],\"y\":[926.0]}},\"id\":\"52b151c5-1844-4e85-a749-5f08928130d6\",\"type\":\"ColumnDataSource\"},{\"attributes\":{\"fill_alpha\":{\"field\":\"fill_alpha\"},\"fill_color\":{\"field\":\"color\"},\"height\":{\"field\":\"height\",\"units\":\"data\"},\"line_color\":{\"field\":\"line_color\"},\"width\":{\"field\":\"width\",\"units\":\"data\"},\"x\":{\"field\":\"x\"},\"y\":{\"field\":\"y\"}},\"id\":\"74f0066c-6b6c-4af2-9aca-facd197f04e5\",\"type\":\"Rect\"},{\"attributes\":{\"callback\":null,\"column_names\":[\"y\",\"line_color\",\"x\",\"fill_alpha\",\"width\",\"color\",\"height\",\"label\",\"line_alpha\"],\"data\":{\"chart_index\":[\"(942.744440, 965.190260]\"],\"color\":[\"#f22c40\"],\"fill_alpha\":[0.8],\"height\":[54.0],\"label\":[\"(942.744440, 965.190260]\"],\"line_alpha\":[1.0],\"line_color\":[\"black\"],\"width\":[22.445819999999912],\"x\":[\"953.96735\"],\"y\":[27.0]}},\"id\":\"bddca1a3-881e-4e18-adc0-127f20baba1b\",\"type\":\"ColumnDataSource\"},{\"attributes\":{\"active_drag\":\"auto\",\"active_scroll\":\"auto\",\"active_tap\":\"auto\",\"tools\":[{\"id\":\"cb747c6d-2682-45cc-a597-ae0b65ddd269\",\"type\":\"PanTool\"},{\"id\":\"863528ca-2b37-4825-bf7e-b37cf870a0bc\",\"type\":\"WheelZoomTool\"},{\"id\":\"3b9f8d3a-94f1-4a5b-bd3f-73a9e90b3ed4\",\"type\":\"BoxZoomTool\"},{\"id\":\"1ee865d5-cca8-4111-a857-5ae0c58f0f88\",\"type\":\"SaveTool\"},{\"id\":\"ad4cb977-e2ff-487c-b415-a1a24349d48c\",\"type\":\"ResetTool\"},{\"id\":\"1139614c-251c-41c1-98b0-37606d5aaad8\",\"type\":\"HelpTool\"}]},\"id\":\"76945458-eb3f-47c4-b960-f9952ec5a2cb\",\"type\":\"Toolbar\"},{\"attributes\":{\"callback\":null,\"column_names\":[\"y\",\"line_color\",\"x\",\"fill_alpha\",\"width\",\"color\",\"height\",\"label\",\"line_alpha\"],\"data\":{\"chart_index\":[\"(426.490580, 448.936400]\"],\"color\":[\"#f22c40\"],\"fill_alpha\":[0.8],\"height\":[1371.0],\"label\":[\"(426.490580, 448.936400]\"],\"line_alpha\":[1.0],\"line_color\":[\"black\"],\"width\":[22.445820000000026],\"x\":[\"437.71349\"],\"y\":[685.5]}},\"id\":\"e4eba719-2425-439f-81c8-6fd09278507c\",\"type\":\"ColumnDataSource\"},{\"attributes\":{\"callback\":null,\"column_names\":[\"y\",\"line_color\",\"x\",\"fill_alpha\",\"width\",\"color\",\"height\",\"label\",\"line_alpha\"],\"data\":{\"chart_index\":[\"(650.948780, 673.394600]\"],\"color\":[\"#f22c40\"],\"fill_alpha\":[0.8],\"height\":[1432.0],\"label\":[\"(650.948780, 673.394600]\"],\"line_alpha\":[1.0],\"line_color\":[\"black\"],\"width\":[22.445819999999912],\"x\":[\"662.17169\"],\"y\":[716.0]}},\"id\":\"74981448-94e9-4935-90fc-079f5107fb49\",\"type\":\"ColumnDataSource\"}],\"root_ids\":[\"1e65405e-34d7-42fb-ad18-a0b8df015c0a\"]},\"title\":\"Bokeh Application\",\"version\":\"0.12.4\"}};\n",
       "            var render_items = [{\"docid\":\"ad06f86c-6c7f-4b48-91c6-b2d380ae6aed\",\"elementid\":\"13e3b41e-6f85-4f18-9883-f9d3429a0678\",\"modelid\":\"1e65405e-34d7-42fb-ad18-a0b8df015c0a\"}];\n",
       "            \n",
       "            Bokeh.embed.embed_items(docs_json, render_items);\n",
       "          };\n",
       "          if (document.readyState != \"loading\") fn();\n",
       "          else document.addEventListener(\"DOMContentLoaded\", fn);\n",
       "        })();\n",
       "      },\n",
       "      function(Bokeh) {\n",
       "      }\n",
       "    ];\n",
       "  \n",
       "    function run_inline_js() {\n",
       "      \n",
       "      if ((window.Bokeh !== undefined) || (force === true)) {\n",
       "        for (var i = 0; i < inline_js.length; i++) {\n",
       "          inline_js[i](window.Bokeh);\n",
       "        }if (force === true) {\n",
       "          display_loaded();\n",
       "        }} else if (Date.now() < window._bokeh_timeout) {\n",
       "        setTimeout(run_inline_js, 100);\n",
       "      } else if (!window._bokeh_failed_load) {\n",
       "        console.log(\"Bokeh: BokehJS failed to load within specified timeout.\");\n",
       "        window._bokeh_failed_load = true;\n",
       "      } else if (force !== true) {\n",
       "        var cell = $(document.getElementById(\"13e3b41e-6f85-4f18-9883-f9d3429a0678\")).parents('.cell').data().cell;\n",
       "        cell.output_area.append_execute_result(NB_LOAD_WARNING)\n",
       "      }\n",
       "  \n",
       "    }\n",
       "  \n",
       "    if (window._bokeh_is_loading === 0) {\n",
       "      console.log(\"Bokeh: BokehJS loaded, going straight to plotting\");\n",
       "      run_inline_js();\n",
       "    } else {\n",
       "      load_libs(js_urls, function() {\n",
       "        console.log(\"Bokeh: BokehJS plotting callback run at\", now());\n",
       "        run_inline_js();\n",
       "      });\n",
       "    }\n",
       "  }(this));\n",
       "</script>"
      ]
     },
     "metadata": {},
     "output_type": "display_data"
    }
   ],
   "source": [
    "p = Histogram(airs.drop_duplicates('Checksum')['Size']/1000, bins=50,\n",
    "             xlabel='Byte Stream Size (kilobytes)')\n",
    "show(p)"
   ]
  },
  {
   "cell_type": "code",
   "execution_count": 26,
   "metadata": {
    "collapsed": false
   },
   "outputs": [
    {
     "data": {
      "text/plain": [
       "count    3.303530e+05\n",
       "mean     2.451461e+05\n",
       "std      2.341771e+05\n",
       "min      2.000000e+01\n",
       "25%      8.419200e+04\n",
       "50%      1.922770e+05\n",
       "75%      2.363170e+05\n",
       "max      1.122311e+06\n",
       "Name: Size, dtype: float64"
      ]
     },
     "execution_count": 26,
     "metadata": {},
     "output_type": "execute_result"
    }
   ],
   "source": [
    "airs.drop_duplicates('Checksum')['Size'].describe()"
   ]
  },
  {
   "cell_type": "markdown",
   "metadata": {
    "collapsed": true
   },
   "source": [
    "### Datasets"
   ]
  },
  {
   "cell_type": "markdown",
   "metadata": {},
   "source": [
    "#### How many datasets per file?"
   ]
  },
  {
   "cell_type": "code",
   "execution_count": 27,
   "metadata": {
    "collapsed": true
   },
   "outputs": [],
   "source": [
    "grp = airs.groupby('File')"
   ]
  },
  {
   "cell_type": "code",
   "execution_count": 28,
   "metadata": {
    "collapsed": false
   },
   "outputs": [
    {
     "data": {
      "text/plain": [
       "count    365.0\n",
       "mean     777.0\n",
       "std        0.0\n",
       "min      777.0\n",
       "25%      777.0\n",
       "50%      777.0\n",
       "75%      777.0\n",
       "max      777.0\n",
       "Name: Dataset, dtype: float64"
      ]
     },
     "execution_count": 28,
     "metadata": {},
     "output_type": "execute_result"
    }
   ],
   "source": [
    "grp.Dataset.unique().apply(lambda l: len(l)).describe()"
   ]
  },
  {
   "cell_type": "markdown",
   "metadata": {},
   "source": [
    "#### Is every dataset in every AIRS file chunked?"
   ]
  },
  {
   "cell_type": "code",
   "execution_count": 29,
   "metadata": {
    "collapsed": true
   },
   "outputs": [],
   "source": [
    "grp = airs.groupby(['File', 'Dataset'])"
   ]
  },
  {
   "cell_type": "code",
   "execution_count": 30,
   "metadata": {
    "collapsed": false
   },
   "outputs": [
    {
     "data": {
      "text/plain": [
       "True"
      ]
     },
     "execution_count": 30,
     "metadata": {},
     "output_type": "execute_result"
    }
   ],
   "source": [
    "grp.Chunk_Flag.agg(all).all()"
   ]
  },
  {
   "cell_type": "markdown",
   "metadata": {},
   "source": [
    "#### How many byte streams per dataset?"
   ]
  },
  {
   "cell_type": "code",
   "execution_count": 31,
   "metadata": {
    "collapsed": false
   },
   "outputs": [
    {
     "data": {
      "text/plain": [
       "count    283605.000000\n",
       "mean          2.009009\n",
       "std           2.458655\n",
       "min           1.000000\n",
       "25%           1.000000\n",
       "50%           1.000000\n",
       "75%           1.000000\n",
       "max           8.000000\n",
       "Name: UUID, dtype: float64"
      ]
     },
     "execution_count": 31,
     "metadata": {},
     "output_type": "execute_result"
    }
   ],
   "source": [
    "grp.UUID.count().describe()"
   ]
  },
  {
   "cell_type": "code",
   "execution_count": 32,
   "metadata": {
    "collapsed": false
   },
   "outputs": [
    {
     "data": {
      "text/html": [
       "\n",
       "\n",
       "    <div class=\"bk-root\">\n",
       "        <div class=\"bk-plotdiv\" id=\"4ecf4609-c54f-4b02-a0d5-63d1601267f6\"></div>\n",
       "    </div>\n",
       "<script type=\"text/javascript\">\n",
       "  \n",
       "  (function(global) {\n",
       "    function now() {\n",
       "      return new Date();\n",
       "    }\n",
       "  \n",
       "    var force = false;\n",
       "  \n",
       "    if (typeof (window._bokeh_onload_callbacks) === \"undefined\" || force === true) {\n",
       "      window._bokeh_onload_callbacks = [];\n",
       "      window._bokeh_is_loading = undefined;\n",
       "    }\n",
       "  \n",
       "  \n",
       "    \n",
       "    if (typeof (window._bokeh_timeout) === \"undefined\" || force === true) {\n",
       "      window._bokeh_timeout = Date.now() + 0;\n",
       "      window._bokeh_failed_load = false;\n",
       "    }\n",
       "  \n",
       "    var NB_LOAD_WARNING = {'data': {'text/html':\n",
       "       \"<div style='background-color: #fdd'>\\n\"+\n",
       "       \"<p>\\n\"+\n",
       "       \"BokehJS does not appear to have successfully loaded. If loading BokehJS from CDN, this \\n\"+\n",
       "       \"may be due to a slow or bad network connection. Possible fixes:\\n\"+\n",
       "       \"</p>\\n\"+\n",
       "       \"<ul>\\n\"+\n",
       "       \"<li>re-rerun `output_notebook()` to attempt to load from CDN again, or</li>\\n\"+\n",
       "       \"<li>use INLINE resources instead, as so:</li>\\n\"+\n",
       "       \"</ul>\\n\"+\n",
       "       \"<code>\\n\"+\n",
       "       \"from bokeh.resources import INLINE\\n\"+\n",
       "       \"output_notebook(resources=INLINE)\\n\"+\n",
       "       \"</code>\\n\"+\n",
       "       \"</div>\"}};\n",
       "  \n",
       "    function display_loaded() {\n",
       "      if (window.Bokeh !== undefined) {\n",
       "        document.getElementById(\"4ecf4609-c54f-4b02-a0d5-63d1601267f6\").textContent = \"BokehJS successfully loaded.\";\n",
       "      } else if (Date.now() < window._bokeh_timeout) {\n",
       "        setTimeout(display_loaded, 100)\n",
       "      }\n",
       "    }\n",
       "  \n",
       "    function run_callbacks() {\n",
       "      window._bokeh_onload_callbacks.forEach(function(callback) { callback() });\n",
       "      delete window._bokeh_onload_callbacks\n",
       "      console.info(\"Bokeh: all callbacks have finished\");\n",
       "    }\n",
       "  \n",
       "    function load_libs(js_urls, callback) {\n",
       "      window._bokeh_onload_callbacks.push(callback);\n",
       "      if (window._bokeh_is_loading > 0) {\n",
       "        console.log(\"Bokeh: BokehJS is being loaded, scheduling callback at\", now());\n",
       "        return null;\n",
       "      }\n",
       "      if (js_urls == null || js_urls.length === 0) {\n",
       "        run_callbacks();\n",
       "        return null;\n",
       "      }\n",
       "      console.log(\"Bokeh: BokehJS not loaded, scheduling load and callback at\", now());\n",
       "      window._bokeh_is_loading = js_urls.length;\n",
       "      for (var i = 0; i < js_urls.length; i++) {\n",
       "        var url = js_urls[i];\n",
       "        var s = document.createElement('script');\n",
       "        s.src = url;\n",
       "        s.async = false;\n",
       "        s.onreadystatechange = s.onload = function() {\n",
       "          window._bokeh_is_loading--;\n",
       "          if (window._bokeh_is_loading === 0) {\n",
       "            console.log(\"Bokeh: all BokehJS libraries loaded\");\n",
       "            run_callbacks()\n",
       "          }\n",
       "        };\n",
       "        s.onerror = function() {\n",
       "          console.warn(\"failed to load library \" + url);\n",
       "        };\n",
       "        console.log(\"Bokeh: injecting script tag for BokehJS library: \", url);\n",
       "        document.getElementsByTagName(\"head\")[0].appendChild(s);\n",
       "      }\n",
       "    };var element = document.getElementById(\"4ecf4609-c54f-4b02-a0d5-63d1601267f6\");\n",
       "    if (element == null) {\n",
       "      console.log(\"Bokeh: ERROR: autoload.js configured with elementid '4ecf4609-c54f-4b02-a0d5-63d1601267f6' but no matching script tag was found. \")\n",
       "      return false;\n",
       "    }\n",
       "  \n",
       "    var js_urls = [];\n",
       "  \n",
       "    var inline_js = [\n",
       "      function(Bokeh) {\n",
       "        (function() {\n",
       "          var fn = function() {\n",
       "            var docs_json = {\"0e70821e-e1b3-4819-aaef-b3ab23ba9147\":{\"roots\":{\"references\":[{\"attributes\":{\"data_source\":{\"id\":\"46487133-3d48-44f3-b41d-1a4f1acdeeee\",\"type\":\"ColumnDataSource\"},\"glyph\":{\"id\":\"982e8def-b55a-4373-a241-86c606fd6838\",\"type\":\"Rect\"},\"hover_glyph\":null,\"nonselection_glyph\":null,\"selection_glyph\":null},\"id\":\"6cd76fb4-f91f-4b33-89d9-dc03f4f6bbce\",\"type\":\"GlyphRenderer\"},{\"attributes\":{\"plot\":{\"id\":\"f60581d5-e756-4be4-854e-c0023e2c2da4\",\"subtype\":\"Chart\",\"type\":\"Plot\"}},\"id\":\"7e8780ba-9794-4979-96ab-86d3fab14748\",\"type\":\"PanTool\"},{\"attributes\":{\"data_source\":{\"id\":\"2e9630fa-a96a-4b53-9b14-f44f2c1be71b\",\"type\":\"ColumnDataSource\"},\"glyph\":{\"id\":\"32286761-0732-4006-b770-dc93de3d8710\",\"type\":\"Rect\"},\"hover_glyph\":null,\"nonselection_glyph\":null,\"selection_glyph\":null},\"id\":\"caee1d6a-08da-4c13-820e-818f04d70298\",\"type\":\"GlyphRenderer\"},{\"attributes\":{\"callback\":null,\"column_names\":[\"y\",\"line_color\",\"x\",\"fill_alpha\",\"width\",\"color\",\"height\",\"label\",\"line_alpha\"],\"data\":{\"chart_index\":[\"(6.500000, 7.500000]\"],\"color\":[\"#f22c40\"],\"fill_alpha\":[0.8],\"height\":[0.0],\"label\":[\"(6.500000, 7.500000]\"],\"line_alpha\":[1.0],\"line_color\":[\"black\"],\"width\":[1.0],\"x\":[\"7.0\"],\"y\":[0.0]}},\"id\":\"4c7feb8f-edfe-412a-95d3-7343dbfb4604\",\"type\":\"ColumnDataSource\"},{\"attributes\":{\"axis_label\":\"Number of byte streams per dataset\",\"formatter\":{\"id\":\"a35d921b-da18-4959-af7d-e1e7264957ba\",\"type\":\"BasicTickFormatter\"},\"plot\":{\"id\":\"f60581d5-e756-4be4-854e-c0023e2c2da4\",\"subtype\":\"Chart\",\"type\":\"Plot\"},\"ticker\":{\"id\":\"296f9300-ba98-420e-9f41-7c9454d88888\",\"type\":\"FixedTicker\"}},\"id\":\"271710f8-7d35-4d97-89d2-78a4ca6c3c6a\",\"type\":\"LinearAxis\"},{\"attributes\":{\"axis_label\":\"Count(Dataset per File)\",\"formatter\":{\"id\":\"3eb0fd13-d4a2-46fc-b680-18ab6681a78a\",\"type\":\"BasicTickFormatter\"},\"plot\":{\"id\":\"f60581d5-e756-4be4-854e-c0023e2c2da4\",\"subtype\":\"Chart\",\"type\":\"Plot\"},\"ticker\":{\"id\":\"db92c7d7-d3e1-4190-870f-b203f1e8aaa5\",\"type\":\"BasicTicker\"}},\"id\":\"c236558b-f0ec-4a5d-8529-56dc8729419a\",\"type\":\"LinearAxis\"},{\"attributes\":{\"dimension\":1,\"plot\":{\"id\":\"f60581d5-e756-4be4-854e-c0023e2c2da4\",\"subtype\":\"Chart\",\"type\":\"Plot\"},\"ticker\":{\"id\":\"db92c7d7-d3e1-4190-870f-b203f1e8aaa5\",\"type\":\"BasicTicker\"}},\"id\":\"fab11fdc-32f5-4eaf-9c6d-2676b33067a5\",\"type\":\"Grid\"},{\"attributes\":{\"data_source\":{\"id\":\"9d68c027-3b03-4273-a25a-7be7db33e426\",\"type\":\"ColumnDataSource\"},\"glyph\":{\"id\":\"00758c43-a6af-41c7-8905-a2863420d0be\",\"type\":\"Rect\"},\"hover_glyph\":null,\"nonselection_glyph\":null,\"selection_glyph\":null},\"id\":\"4e0059a3-8c4d-43f3-95a4-54674e8e3372\",\"type\":\"GlyphRenderer\"},{\"attributes\":{\"fill_alpha\":{\"field\":\"fill_alpha\"},\"fill_color\":{\"field\":\"color\"},\"height\":{\"field\":\"height\",\"units\":\"data\"},\"line_color\":{\"field\":\"line_color\"},\"width\":{\"field\":\"width\",\"units\":\"data\"},\"x\":{\"field\":\"x\"},\"y\":{\"field\":\"y\"}},\"id\":\"a49de277-a3f6-41f1-8611-2001b0dd71ad\",\"type\":\"Rect\"},{\"attributes\":{},\"id\":\"a35d921b-da18-4959-af7d-e1e7264957ba\",\"type\":\"BasicTickFormatter\"},{\"attributes\":{\"data_source\":{\"id\":\"099499d3-6936-4b0e-b609-80f6e96f5f74\",\"type\":\"ColumnDataSource\"},\"glyph\":{\"id\":\"8f2df943-6ba6-4296-9ee4-b08942cfd516\",\"type\":\"Rect\"},\"hover_glyph\":null,\"nonselection_glyph\":null,\"selection_glyph\":null},\"id\":\"585b2995-e866-4d29-bff2-8b16d9e3dc22\",\"type\":\"GlyphRenderer\"},{\"attributes\":{\"ticks\":[0,1,2,3,4,5,6,7,8]},\"id\":\"296f9300-ba98-420e-9f41-7c9454d88888\",\"type\":\"FixedTicker\"},{\"attributes\":{\"data_source\":{\"id\":\"2d483a10-a9c0-428d-9fd4-79be6386bbaa\",\"type\":\"ColumnDataSource\"},\"glyph\":{\"id\":\"0faaa0b5-7029-4309-98e4-3134792a695e\",\"type\":\"Rect\"},\"hover_glyph\":null,\"nonselection_glyph\":null,\"selection_glyph\":null},\"id\":\"775f58a3-d591-4157-9b55-ff82ff415580\",\"type\":\"GlyphRenderer\"},{\"attributes\":{\"fill_alpha\":{\"field\":\"fill_alpha\"},\"fill_color\":{\"field\":\"color\"},\"height\":{\"field\":\"height\",\"units\":\"data\"},\"line_color\":{\"field\":\"line_color\"},\"width\":{\"field\":\"width\",\"units\":\"data\"},\"x\":{\"field\":\"x\"},\"y\":{\"field\":\"y\"}},\"id\":\"32286761-0732-4006-b770-dc93de3d8710\",\"type\":\"Rect\"},{\"attributes\":{\"callback\":null,\"column_names\":[\"y\",\"line_color\",\"x\",\"fill_alpha\",\"width\",\"color\",\"height\",\"label\",\"line_alpha\"],\"data\":{\"chart_index\":[\"(5.500000, 6.500000]\"],\"color\":[\"#f22c40\"],\"fill_alpha\":[0.8],\"height\":[0.0],\"label\":[\"(5.500000, 6.500000]\"],\"line_alpha\":[1.0],\"line_color\":[\"black\"],\"width\":[1.0],\"x\":[\"6.0\"],\"y\":[0.0]}},\"id\":\"46487133-3d48-44f3-b41d-1a4f1acdeeee\",\"type\":\"ColumnDataSource\"},{\"attributes\":{},\"id\":\"96c23e13-50fa-4444-9421-cb23e731ee94\",\"type\":\"ToolEvents\"},{\"attributes\":{},\"id\":\"3eb0fd13-d4a2-46fc-b680-18ab6681a78a\",\"type\":\"BasicTickFormatter\"},{\"attributes\":{\"overlay\":{\"id\":\"59773c2a-62c4-48ec-9953-0aa4d2cc9928\",\"type\":\"BoxAnnotation\"},\"plot\":{\"id\":\"f60581d5-e756-4be4-854e-c0023e2c2da4\",\"subtype\":\"Chart\",\"type\":\"Plot\"}},\"id\":\"026ccd97-5f0e-4df2-8b3d-19cd3c5ddceb\",\"type\":\"BoxZoomTool\"},{\"attributes\":{\"fill_alpha\":{\"field\":\"fill_alpha\"},\"fill_color\":{\"field\":\"color\"},\"height\":{\"field\":\"height\",\"units\":\"data\"},\"line_color\":{\"field\":\"line_color\"},\"width\":{\"field\":\"width\",\"units\":\"data\"},\"x\":{\"field\":\"x\"},\"y\":{\"field\":\"y\"}},\"id\":\"8f2df943-6ba6-4296-9ee4-b08942cfd516\",\"type\":\"Rect\"},{\"attributes\":{\"plot\":{\"id\":\"f60581d5-e756-4be4-854e-c0023e2c2da4\",\"subtype\":\"Chart\",\"type\":\"Plot\"}},\"id\":\"2b2b9359-c796-4dce-9a4b-4b0ccdc9a184\",\"type\":\"SaveTool\"},{\"attributes\":{\"plot\":{\"id\":\"f60581d5-e756-4be4-854e-c0023e2c2da4\",\"subtype\":\"Chart\",\"type\":\"Plot\"}},\"id\":\"6dbd25b8-d12a-4c73-8995-73c9fbfa3495\",\"type\":\"ResetTool\"},{\"attributes\":{\"bottom_units\":\"screen\",\"fill_alpha\":{\"value\":0.5},\"fill_color\":{\"value\":\"lightgrey\"},\"left_units\":\"screen\",\"level\":\"overlay\",\"line_alpha\":{\"value\":1.0},\"line_color\":{\"value\":\"black\"},\"line_dash\":[4,4],\"line_width\":{\"value\":2},\"plot\":null,\"render_mode\":\"css\",\"right_units\":\"screen\",\"top_units\":\"screen\"},\"id\":\"59773c2a-62c4-48ec-9953-0aa4d2cc9928\",\"type\":\"BoxAnnotation\"},{\"attributes\":{\"callback\":null,\"column_names\":[\"y\",\"line_color\",\"x\",\"fill_alpha\",\"width\",\"color\",\"height\",\"label\",\"line_alpha\"],\"data\":{\"chart_index\":[\"(7.500000, 8.500000]\"],\"color\":[\"#f22c40\"],\"fill_alpha\":[0.8],\"height\":[40880.0],\"label\":[\"(7.500000, 8.500000]\"],\"line_alpha\":[1.0],\"line_color\":[\"black\"],\"width\":[1.0],\"x\":[\"8.0\"],\"y\":[20440.0]}},\"id\":\"466cb66c-d2ea-4edf-8210-38473ac3fa36\",\"type\":\"ColumnDataSource\"},{\"attributes\":{\"plot\":{\"id\":\"f60581d5-e756-4be4-854e-c0023e2c2da4\",\"subtype\":\"Chart\",\"type\":\"Plot\"}},\"id\":\"9c18f8c1-c1c2-421f-97f0-cb56af5b5daa\",\"type\":\"WheelZoomTool\"},{\"attributes\":{\"data_source\":{\"id\":\"4c7feb8f-edfe-412a-95d3-7343dbfb4604\",\"type\":\"ColumnDataSource\"},\"glyph\":{\"id\":\"46ab4565-955c-43c3-8057-3a8a45d91e77\",\"type\":\"Rect\"},\"hover_glyph\":null,\"nonselection_glyph\":null,\"selection_glyph\":null},\"id\":\"b8bfbb00-161e-4512-9b07-d032fffe38e3\",\"type\":\"GlyphRenderer\"},{\"attributes\":{\"callback\":null,\"end\":8.725,\"start\":0.275},\"id\":\"fe7e7c2e-2e83-4cf3-a82a-afc10bb0fbdf\",\"type\":\"Range1d\"},{\"attributes\":{\"fill_alpha\":{\"field\":\"fill_alpha\"},\"fill_color\":{\"field\":\"color\"},\"height\":{\"field\":\"height\",\"units\":\"data\"},\"line_color\":{\"field\":\"line_color\"},\"width\":{\"field\":\"width\",\"units\":\"data\"},\"x\":{\"field\":\"x\"},\"y\":{\"field\":\"y\"}},\"id\":\"9e01155a-c025-4dc3-bdb8-49bbc9b6b8ab\",\"type\":\"Rect\"},{\"attributes\":{\"location\":\"top_left\",\"plot\":{\"id\":\"f60581d5-e756-4be4-854e-c0023e2c2da4\",\"subtype\":\"Chart\",\"type\":\"Plot\"}},\"id\":\"0117dcdd-f32e-4a48-9b73-fa8984644b6f\",\"type\":\"Legend\"},{\"attributes\":{\"callback\":null,\"column_names\":[\"y\",\"line_color\",\"x\",\"fill_alpha\",\"width\",\"color\",\"height\",\"label\",\"line_alpha\"],\"data\":{\"chart_index\":[\"(1.500000, 2.500000]\"],\"color\":[\"#f22c40\"],\"fill_alpha\":[0.8],\"height\":[0.0],\"label\":[\"(1.500000, 2.500000]\"],\"line_alpha\":[1.0],\"line_color\":[\"black\"],\"width\":[1.0],\"x\":[\"2.0\"],\"y\":[0.0]}},\"id\":\"ba3856a7-84ba-4031-9cad-d4660e729149\",\"type\":\"ColumnDataSource\"},{\"attributes\":{\"fill_alpha\":{\"field\":\"fill_alpha\"},\"fill_color\":{\"field\":\"color\"},\"height\":{\"field\":\"height\",\"units\":\"data\"},\"line_color\":{\"field\":\"line_color\"},\"width\":{\"field\":\"width\",\"units\":\"data\"},\"x\":{\"field\":\"x\"},\"y\":{\"field\":\"y\"}},\"id\":\"0faaa0b5-7029-4309-98e4-3134792a695e\",\"type\":\"Rect\"},{\"attributes\":{\"callback\":null,\"column_names\":[\"y\",\"line_color\",\"x\",\"fill_alpha\",\"width\",\"color\",\"height\",\"label\",\"line_alpha\"],\"data\":{\"chart_index\":[\"(4.500000, 5.500000]\"],\"color\":[\"#f22c40\"],\"fill_alpha\":[0.8],\"height\":[0.0],\"label\":[\"(4.500000, 5.500000]\"],\"line_alpha\":[1.0],\"line_color\":[\"black\"],\"width\":[1.0],\"x\":[\"5.0\"],\"y\":[0.0]}},\"id\":\"2d483a10-a9c0-428d-9fd4-79be6386bbaa\",\"type\":\"ColumnDataSource\"},{\"attributes\":{\"below\":[{\"id\":\"271710f8-7d35-4d97-89d2-78a4ca6c3c6a\",\"type\":\"LinearAxis\"}],\"css_classes\":null,\"left\":[{\"id\":\"c236558b-f0ec-4a5d-8529-56dc8729419a\",\"type\":\"LinearAxis\"}],\"renderers\":[{\"id\":\"59773c2a-62c4-48ec-9953-0aa4d2cc9928\",\"type\":\"BoxAnnotation\"},{\"id\":\"caee1d6a-08da-4c13-820e-818f04d70298\",\"type\":\"GlyphRenderer\"},{\"id\":\"0e2cf24e-d677-431b-9c83-fba5eb0a3eed\",\"type\":\"GlyphRenderer\"},{\"id\":\"585b2995-e866-4d29-bff2-8b16d9e3dc22\",\"type\":\"GlyphRenderer\"},{\"id\":\"4e0059a3-8c4d-43f3-95a4-54674e8e3372\",\"type\":\"GlyphRenderer\"},{\"id\":\"775f58a3-d591-4157-9b55-ff82ff415580\",\"type\":\"GlyphRenderer\"},{\"id\":\"6cd76fb4-f91f-4b33-89d9-dc03f4f6bbce\",\"type\":\"GlyphRenderer\"},{\"id\":\"b8bfbb00-161e-4512-9b07-d032fffe38e3\",\"type\":\"GlyphRenderer\"},{\"id\":\"33905823-a66f-4966-b46c-2cdf169b21bc\",\"type\":\"GlyphRenderer\"},{\"id\":\"0117dcdd-f32e-4a48-9b73-fa8984644b6f\",\"type\":\"Legend\"},{\"id\":\"271710f8-7d35-4d97-89d2-78a4ca6c3c6a\",\"type\":\"LinearAxis\"},{\"id\":\"c236558b-f0ec-4a5d-8529-56dc8729419a\",\"type\":\"LinearAxis\"},{\"id\":\"fab11fdc-32f5-4eaf-9c6d-2676b33067a5\",\"type\":\"Grid\"}],\"title\":{\"id\":\"0828e0d0-0a57-4e4a-bf1f-3748339db46f\",\"type\":\"Title\"},\"tool_events\":{\"id\":\"96c23e13-50fa-4444-9421-cb23e731ee94\",\"type\":\"ToolEvents\"},\"toolbar\":{\"id\":\"1a2777e7-e054-4100-adda-0b624db9f6ba\",\"type\":\"Toolbar\"},\"x_mapper_type\":\"auto\",\"x_range\":{\"id\":\"fe7e7c2e-2e83-4cf3-a82a-afc10bb0fbdf\",\"type\":\"Range1d\"},\"y_mapper_type\":\"auto\",\"y_range\":{\"id\":\"9068f55b-d9f5-483a-be46-ffafb0b84a2d\",\"type\":\"Range1d\"}},\"id\":\"f60581d5-e756-4be4-854e-c0023e2c2da4\",\"subtype\":\"Chart\",\"type\":\"Plot\"},{\"attributes\":{\"callback\":null,\"column_names\":[\"y\",\"line_color\",\"x\",\"fill_alpha\",\"width\",\"color\",\"height\",\"label\",\"line_alpha\"],\"data\":{\"chart_index\":[\"(2.500000, 3.500000]\"],\"color\":[\"#f22c40\"],\"fill_alpha\":[0.8],\"height\":[0.0],\"label\":[\"(2.500000, 3.500000]\"],\"line_alpha\":[1.0],\"line_color\":[\"black\"],\"width\":[1.0],\"x\":[\"3.0\"],\"y\":[0.0]}},\"id\":\"099499d3-6936-4b0e-b609-80f6e96f5f74\",\"type\":\"ColumnDataSource\"},{\"attributes\":{\"plot\":{\"id\":\"f60581d5-e756-4be4-854e-c0023e2c2da4\",\"subtype\":\"Chart\",\"type\":\"Plot\"}},\"id\":\"c9742bac-d711-4ea8-922d-5feaa79eae9c\",\"type\":\"HelpTool\"},{\"attributes\":{\"data_source\":{\"id\":\"ba3856a7-84ba-4031-9cad-d4660e729149\",\"type\":\"ColumnDataSource\"},\"glyph\":{\"id\":\"9e01155a-c025-4dc3-bdb8-49bbc9b6b8ab\",\"type\":\"Rect\"},\"hover_glyph\":null,\"nonselection_glyph\":null,\"selection_glyph\":null},\"id\":\"0e2cf24e-d677-431b-9c83-fba5eb0a3eed\",\"type\":\"GlyphRenderer\"},{\"attributes\":{\"fill_alpha\":{\"field\":\"fill_alpha\"},\"fill_color\":{\"field\":\"color\"},\"height\":{\"field\":\"height\",\"units\":\"data\"},\"line_color\":{\"field\":\"line_color\"},\"width\":{\"field\":\"width\",\"units\":\"data\"},\"x\":{\"field\":\"x\"},\"y\":{\"field\":\"y\"}},\"id\":\"46ab4565-955c-43c3-8057-3a8a45d91e77\",\"type\":\"Rect\"},{\"attributes\":{\"callback\":null,\"column_names\":[\"y\",\"line_color\",\"x\",\"fill_alpha\",\"width\",\"color\",\"height\",\"label\",\"line_alpha\"],\"data\":{\"chart_index\":[\"(3.500000, 4.500000]\"],\"color\":[\"#f22c40\"],\"fill_alpha\":[0.8],\"height\":[0.0],\"label\":[\"(3.500000, 4.500000]\"],\"line_alpha\":[1.0],\"line_color\":[\"black\"],\"width\":[1.0],\"x\":[\"4.0\"],\"y\":[0.0]}},\"id\":\"9d68c027-3b03-4273-a25a-7be7db33e426\",\"type\":\"ColumnDataSource\"},{\"attributes\":{\"data_source\":{\"id\":\"466cb66c-d2ea-4edf-8210-38473ac3fa36\",\"type\":\"ColumnDataSource\"},\"glyph\":{\"id\":\"a49de277-a3f6-41f1-8611-2001b0dd71ad\",\"type\":\"Rect\"},\"hover_glyph\":null,\"nonselection_glyph\":null,\"selection_glyph\":null},\"id\":\"33905823-a66f-4966-b46c-2cdf169b21bc\",\"type\":\"GlyphRenderer\"},{\"attributes\":{\"plot\":null,\"text\":null},\"id\":\"0828e0d0-0a57-4e4a-bf1f-3748339db46f\",\"type\":\"Title\"},{\"attributes\":{},\"id\":\"db92c7d7-d3e1-4190-870f-b203f1e8aaa5\",\"type\":\"BasicTicker\"},{\"attributes\":{\"callback\":null,\"end\":266997.5},\"id\":\"9068f55b-d9f5-483a-be46-ffafb0b84a2d\",\"type\":\"Range1d\"},{\"attributes\":{\"active_drag\":\"auto\",\"active_scroll\":\"auto\",\"active_tap\":\"auto\",\"tools\":[{\"id\":\"7e8780ba-9794-4979-96ab-86d3fab14748\",\"type\":\"PanTool\"},{\"id\":\"9c18f8c1-c1c2-421f-97f0-cb56af5b5daa\",\"type\":\"WheelZoomTool\"},{\"id\":\"026ccd97-5f0e-4df2-8b3d-19cd3c5ddceb\",\"type\":\"BoxZoomTool\"},{\"id\":\"2b2b9359-c796-4dce-9a4b-4b0ccdc9a184\",\"type\":\"SaveTool\"},{\"id\":\"6dbd25b8-d12a-4c73-8995-73c9fbfa3495\",\"type\":\"ResetTool\"},{\"id\":\"c9742bac-d711-4ea8-922d-5feaa79eae9c\",\"type\":\"HelpTool\"}]},\"id\":\"1a2777e7-e054-4100-adda-0b624db9f6ba\",\"type\":\"Toolbar\"},{\"attributes\":{\"fill_alpha\":{\"field\":\"fill_alpha\"},\"fill_color\":{\"field\":\"color\"},\"height\":{\"field\":\"height\",\"units\":\"data\"},\"line_color\":{\"field\":\"line_color\"},\"width\":{\"field\":\"width\",\"units\":\"data\"},\"x\":{\"field\":\"x\"},\"y\":{\"field\":\"y\"}},\"id\":\"982e8def-b55a-4373-a241-86c606fd6838\",\"type\":\"Rect\"},{\"attributes\":{\"fill_alpha\":{\"field\":\"fill_alpha\"},\"fill_color\":{\"field\":\"color\"},\"height\":{\"field\":\"height\",\"units\":\"data\"},\"line_color\":{\"field\":\"line_color\"},\"width\":{\"field\":\"width\",\"units\":\"data\"},\"x\":{\"field\":\"x\"},\"y\":{\"field\":\"y\"}},\"id\":\"00758c43-a6af-41c7-8905-a2863420d0be\",\"type\":\"Rect\"},{\"attributes\":{\"callback\":null,\"column_names\":[\"y\",\"line_color\",\"x\",\"fill_alpha\",\"width\",\"color\",\"height\",\"label\",\"line_alpha\"],\"data\":{\"chart_index\":[\"[0.500000, 1.500000]\"],\"color\":[\"#f22c40\"],\"fill_alpha\":[0.8],\"height\":[242725.0],\"label\":[\"[0.500000, 1.500000]\"],\"line_alpha\":[1.0],\"line_color\":[\"black\"],\"width\":[1.0],\"x\":[\"1.0\"],\"y\":[121362.5]}},\"id\":\"2e9630fa-a96a-4b53-9b14-f44f2c1be71b\",\"type\":\"ColumnDataSource\"}],\"root_ids\":[\"f60581d5-e756-4be4-854e-c0023e2c2da4\"]},\"title\":\"Bokeh Application\",\"version\":\"0.12.4\"}};\n",
       "            var render_items = [{\"docid\":\"0e70821e-e1b3-4819-aaef-b3ab23ba9147\",\"elementid\":\"4ecf4609-c54f-4b02-a0d5-63d1601267f6\",\"modelid\":\"f60581d5-e756-4be4-854e-c0023e2c2da4\"}];\n",
       "            \n",
       "            Bokeh.embed.embed_items(docs_json, render_items);\n",
       "          };\n",
       "          if (document.readyState != \"loading\") fn();\n",
       "          else document.addEventListener(\"DOMContentLoaded\", fn);\n",
       "        })();\n",
       "      },\n",
       "      function(Bokeh) {\n",
       "      }\n",
       "    ];\n",
       "  \n",
       "    function run_inline_js() {\n",
       "      \n",
       "      if ((window.Bokeh !== undefined) || (force === true)) {\n",
       "        for (var i = 0; i < inline_js.length; i++) {\n",
       "          inline_js[i](window.Bokeh);\n",
       "        }if (force === true) {\n",
       "          display_loaded();\n",
       "        }} else if (Date.now() < window._bokeh_timeout) {\n",
       "        setTimeout(run_inline_js, 100);\n",
       "      } else if (!window._bokeh_failed_load) {\n",
       "        console.log(\"Bokeh: BokehJS failed to load within specified timeout.\");\n",
       "        window._bokeh_failed_load = true;\n",
       "      } else if (force !== true) {\n",
       "        var cell = $(document.getElementById(\"4ecf4609-c54f-4b02-a0d5-63d1601267f6\")).parents('.cell').data().cell;\n",
       "        cell.output_area.append_execute_result(NB_LOAD_WARNING)\n",
       "      }\n",
       "  \n",
       "    }\n",
       "  \n",
       "    if (window._bokeh_is_loading === 0) {\n",
       "      console.log(\"Bokeh: BokehJS loaded, going straight to plotting\");\n",
       "      run_inline_js();\n",
       "    } else {\n",
       "      load_libs(js_urls, function() {\n",
       "        console.log(\"Bokeh: BokehJS plotting callback run at\", now());\n",
       "        run_inline_js();\n",
       "      });\n",
       "    }\n",
       "  }(this));\n",
       "</script>"
      ]
     },
     "metadata": {},
     "output_type": "display_data"
    }
   ],
   "source": [
    "p = Histogram(grp.UUID.count(), bins=[.5, 1.5, 2.5, 3.5, 4.5, 5.5, 6.5, 7.5, 8.5],\n",
    "              xlabel='Number of byte streams per dataset',\n",
    "              ylabel='Count(Dataset per File)')\n",
    "p.xaxis[0].ticker = FixedTicker(ticks=list(range(9)))\n",
    "show(p)"
   ]
  },
  {
   "cell_type": "code",
   "execution_count": null,
   "metadata": {
    "collapsed": true
   },
   "outputs": [],
   "source": []
  }
 ],
 "metadata": {
  "kernelspec": {
   "display_name": "Python 3",
   "language": "python",
   "name": "python3"
  },
  "language_info": {
   "codemirror_mode": {
    "name": "ipython",
    "version": 3
   },
   "file_extension": ".py",
   "mimetype": "text/x-python",
   "name": "python",
   "nbconvert_exporter": "python",
   "pygments_lexer": "ipython3",
   "version": "3.5.1"
  }
 },
 "nbformat": 4,
 "nbformat_minor": 2
}
