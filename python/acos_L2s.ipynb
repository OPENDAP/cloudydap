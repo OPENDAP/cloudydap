{
 "cells": [
  {
   "cell_type": "markdown",
   "metadata": {},
   "source": [
    "\n",
    "Copyright (C) 2017 The HDF Group  \n",
    "All rights reserved\n",
    "\n",
    "This example code illustrates how to access and visualize a GES DISC ACOS\n",
    "Swath HDF5 file in Python.\n",
    "\n",
    "If you have any questions, suggestions, or comments on this example, please use\n",
    "the HDF-EOS Forum (http://hdfeos.org/forums).  If you would like to see an\n",
    "example of any other NASA HDF/HDF-EOS data product that is not listed in the\n",
    "HDF-EOS Comprehensive Examples page (http://hdfeos.org/zoo), feel free to\n",
    "contact us at eoshelp@hdfgroup.org or post it at the HDF-EOS Forum\n",
    "(http://hdfeos.org/forums).\n",
    "\n",
    "# Access ACOS data from GES DISC via OPeNDAP\n",
    "\n",
    " If you try to access ACOS OPeNDAP data with Panoply or IDV, you will get an error message *URI Too Large* like below. \n",
    " \n",
    " ![png](acos_L2s_panoply_error.png)\n",
    " \n",
    " This example will illustrate how to subset and download data from ACOS OPeNDAP data and save it as netCDF4. Then, we will augment the downloaded data so that visualization tool can understand and visualize data as shown below.\n",
    " \n",
    " ![png](acos_L2s_IDV_animation.gif)\n",
    " \n",
    " The first step is to make sure that your NASA Earthdata Login username and password works with OPeNDAP server.\n",
    "\n"
   ]
  },
  {
   "cell_type": "code",
   "execution_count": null,
   "metadata": {
    "collapsed": true
   },
   "outputs": [],
   "source": []
  }
 ],
 "metadata": {
  "kernelspec": {
   "display_name": "Python 2",
   "language": "python",
   "name": "python2"
  },
  "language_info": {
   "codemirror_mode": {
    "name": "ipython",
    "version": 2
   },
   "file_extension": ".py",
   "mimetype": "text/x-python",
   "name": "python",
   "nbconvert_exporter": "python",
   "pygments_lexer": "ipython2",
   "version": "2.7.13"
  }
 },
 "nbformat": 4,
 "nbformat_minor": 2
}
