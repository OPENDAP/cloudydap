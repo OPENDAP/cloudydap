{
 "cells": [
  {
   "cell_type": "code",
   "execution_count": null,
   "metadata": {
    "collapsed": false
   },
   "outputs": [],
   "source": [
    "from pydap.client import open_url, open_dods\n",
    "from pydap.cas.urs import setup_session\n",
    "\n",
    "import os\n",
    "import datetime\n",
    "import matplotlib as mpl\n",
    "import matplotlib.pyplot as plt"
   ]
  },
  {
   "cell_type": "markdown",
   "metadata": {},
   "source": [
    "The simplest notebook. Markdown cells are embedded in comments, \n",
    "so the file is a valid `python` script. \n",
    "Be sure to **leave a space** after the comment character!"
   ]
  },
  {
   "cell_type": "code",
   "execution_count": null,
   "metadata": {
    "collapsed": false
   },
   "outputs": [],
   "source": [
    "from mpl_toolkits.basemap import Basemap\n",
    "session = setup_session('hyoklee', '********')\n",
    "# Make sure you use https.\n",
    "FILE_NAME = 'MLS-Aura_L2GP-BrO_v04-23-c03_2016d302.he5'\n",
    "url = 'https://acdisc.gesdisc.eosdis.nasa.gov/opendap/HDF-EOS5/Aura_MLS_Level2/ML2BRO.004/2016/'+FILE_NAME\n",
    "dataset = open_url(url, session=session)\n",
    "print dataset\n",
    "data = dataset['BrO_L2gpValue'][399,:].squeeze()\n",
    "print dataset['BrO_L2gpValue'].attributes\n",
    "title = dataset['BrO_L2gpValue'].attributes['title']\n",
    "units = dataset['BrO_L2gpValue'].attributes['units']\n",
    "print data\n",
    "pressure =  dataset['BrO_Pressure'][:]\n",
    "print pressure\n",
    "pres_units = dataset['BrO_Pressure'].attributes['units']\n",
    "time = dataset['BrO_Time'][:]\n",
    "\n",
    "# Read MLS Data Quality Document [2] for useful range in BrO data, which is\n",
    "# 3.2hPa - 10hPa\n",
    "plt.plot(data[12:16], pressure[12:16])\n",
    "plt.ylabel('Pressure ({0})'.format(pres_units))\n",
    "plt.xlabel('{0} ({1})'.format(title, units))\n",
    "    \n",
    "basename = os.path.basename(FILE_NAME)\n",
    "timebase = datetime.datetime(1993, 1, 1, 0, 0, 0) + datetime.timedelta(seconds=time[399])\n",
    "timedatum = timebase.strftime('%Y-%m-%d %H:%M:%S')\n",
    "plt.title('{0}\\n{1} at Time = {2}'.format(basename, title, timedatum))\n",
    "fig = plt.gcf()\n",
    "pngfile = \"{0}.py.png\".format(basename)\n",
    "fig.savefig(pngfile)"
   ]
  }
 ],
 "metadata": {},
 "nbformat": 4,
 "nbformat_minor": 1
}
