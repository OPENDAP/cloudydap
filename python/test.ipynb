{
 "cells": [
  {
   "cell_type": "markdown",
   "metadata": {},
   "source": [
    "Copyright (C) 2016 The HDF Group\n",
    "This example code illustrates how to access and visualize a GES DISC MLS \n",
    "v4 [1] Swath HDF-EOS5 file in Python.\n",
    "\n",
    "If you have any questions, suggestions, or comments on this example, please use\n",
    "the HDF-EOS Forum (http://hdfeos.org/forums).  If you would like to see an\n",
    "example of any other NASA HDF/HDF-EOS data product that is not listed in the\n",
    "HDF-EOS Comprehensive Examples page (http://hdfeos.org/zoo), feel free to\n",
    "contact us at eoshelp@hdfgroup.org or post it at the HDF-EOS Forum\n",
    "(http://hdfeos.org/forums)."
   ]
  },
  {
   "cell_type": "code",
   "execution_count": null,
   "metadata": {
    "collapsed": false
   },
   "outputs": [],
   "source": [
    "import os\n",
    "import datetime\n",
    "import matplotlib as mpl\n",
    "import matplotlib.pyplot as plt\n",
    "\n",
    "from pydap.client import open_url, open_dods\n",
    "from pydap.cas.urs import setup_session\n",
    "from mpl_toolkits.basemap import Basemap\n",
    "\n",
    "session = setup_session('hyoklee', '01Lance$')\n",
    "# Make sure you use https.\n",
    "FILE_NAME = 'MLS-Aura_L2GP-BrO_v04-23-c03_2016d302.he5'\n",
    "url = 'https://acdisc.gesdisc.eosdis.nasa.gov/opendap/HDF-EOS5/Aura_MLS_Level2/ML2BRO.004/2016/'+FILE_NAME\n",
    "dataset = open_url(url, session=session)\n",
    "print dataset\n",
    "data = dataset['BrO_L2gpValue'][399,:].squeeze()\n",
    "print dataset['BrO_L2gpValue'].attributes\n",
    "title = dataset['BrO_L2gpValue'].attributes['title']\n",
    "units = dataset['BrO_L2gpValue'].attributes['units']\n",
    "print data\n",
    "pressure =  dataset['BrO_Pressure'][:]\n",
    "print pressure\n",
    "pres_units = dataset['BrO_Pressure'].attributes['units']\n",
    "time = dataset['BrO_Time'][:]\n",
    "\n",
    "# Read MLS Data Quality Document [2] for useful range in BrO data, which is\n",
    "# 3.2hPa - 10hPa\n",
    "plt.plot(data[12:16], pressure[12:16])\n",
    "plt.ylabel('Pressure ({0})'.format(pres_units))\n",
    "plt.xlabel('{0} ({1})'.format(title, units))\n",
    "    \n",
    "basename = os.path.basename(FILE_NAME)\n",
    "timebase = datetime.datetime(1993, 1, 1, 0, 0, 0) + datetime.timedelta(seconds=time[399])\n",
    "timedatum = timebase.strftime('%Y-%m-%d %H:%M:%S')\n",
    "plt.title('{0}\\n{1} at Time = {2}'.format(basename, title, timedatum))\n",
    "fig = plt.gcf()\n",
    "pngfile = \"{0}.py.png\".format(basename)\n",
    "fig.savefig(pngfile)"
   ]
  }
 ],
 "metadata": {},
 "nbformat": 4,
 "nbformat_minor": 1
}
