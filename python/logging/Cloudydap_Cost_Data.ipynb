{
 "cells": [
  {
   "cell_type": "markdown",
   "metadata": {},
   "source": [
    "# Selecting Cloudydap Cost and Usage Data\n",
    "\n",
    "In this notebook:\n",
    "\n",
    "* Read in AWS Cost and Usage Report data from a CSV file into a `pandas` DataFrame\n",
    "* Specify use case run periods for each of the Cloudydap Architectures\n",
    "* Create a new column, named \"Arch\", for storing Cloudydap architecture identifiers\n",
    "* Select cost and usage data based on use case run periods and assign corresponding architecture identifiers (`A1`, `A2`, and `A3`)\n",
    "* Remove all the other cost and usage data\n",
    "* Save the use case cost and usage data into a CSV file"
   ]
  },
  {
   "cell_type": "code",
   "execution_count": 1,
   "metadata": {
    "collapsed": false
   },
   "outputs": [],
   "source": [
    "from pathlib import Path\n",
    "import datetime as dt\n",
    "import numpy as np\n",
    "import pytz\n",
    "import pandas as pd"
   ]
  },
  {
   "cell_type": "markdown",
   "metadata": {},
   "source": [
    "## Raw Cost and Usage Data"
   ]
  },
  {
   "cell_type": "code",
   "execution_count": 2,
   "metadata": {
    "collapsed": true
   },
   "outputs": [],
   "source": [
    "r = pd.read_csv('../../../Arch1-20170201-20170301-1.csv')"
   ]
  },
  {
   "cell_type": "code",
   "execution_count": 3,
   "metadata": {
    "collapsed": false
   },
   "outputs": [
    {
     "name": "stdout",
     "output_type": "stream",
     "text": [
      "<class 'pandas.core.frame.DataFrame'>\n",
      "RangeIndex: 13292 entries, 0 to 13291\n",
      "Data columns (total 73 columns):\n",
      "identity/LineItemId                    13292 non-null object\n",
      "identity/TimeInterval                  13292 non-null object\n",
      "bill/InvoiceId                         0 non-null float64\n",
      "bill/BillingEntity                     13292 non-null object\n",
      "bill/BillType                          13292 non-null object\n",
      "bill/PayerAccountId                    13292 non-null int64\n",
      "bill/BillingPeriodStartDate            13292 non-null object\n",
      "bill/BillingPeriodEndDate              13292 non-null object\n",
      "lineItem/UsageAccountId                13292 non-null int64\n",
      "lineItem/LineItemType                  13292 non-null object\n",
      "lineItem/UsageStartDate                13292 non-null object\n",
      "lineItem/UsageEndDate                  13292 non-null object\n",
      "lineItem/ProductCode                   13292 non-null object\n",
      "lineItem/UsageType                     13292 non-null object\n",
      "lineItem/Operation                     13292 non-null object\n",
      "lineItem/AvailabilityZone              3651 non-null object\n",
      "lineItem/ResourceId                    13266 non-null object\n",
      "lineItem/UsageAmount                   13292 non-null float64\n",
      "lineItem/CurrencyCode                  13292 non-null object\n",
      "lineItem/UnblendedRate                 13292 non-null float64\n",
      "lineItem/UnblendedCost                 13292 non-null float64\n",
      "lineItem/BlendedRate                   13292 non-null float64\n",
      "lineItem/BlendedCost                   13292 non-null float64\n",
      "lineItem/LineItemDescription           13292 non-null object\n",
      "lineItem/TaxType                       0 non-null float64\n",
      "product/ProductName                    13292 non-null object\n",
      "product/availability                   26 non-null object\n",
      "product/clockSpeed                     3651 non-null object\n",
      "product/currentGeneration              3651 non-null object\n",
      "product/dedicatedEbsThroughput         3651 non-null object\n",
      "product/durability                     26 non-null object\n",
      "product/ebsOptimized                   1825 non-null object\n",
      "product/enhancedNetworkingSupported    3651 non-null object\n",
      "product/fromLocation                   5725 non-null object\n",
      "product/fromLocationType               5725 non-null object\n",
      "product/group                          2029 non-null object\n",
      "product/groupDescription               2029 non-null object\n",
      "product/instanceFamily                 3651 non-null object\n",
      "product/instanceType                   3651 non-null object\n",
      "product/licenseModel                   1826 non-null object\n",
      "product/location                       7567 non-null object\n",
      "product/locationType                   7567 non-null object\n",
      "product/maxIopsBurstPerformance        1837 non-null object\n",
      "product/maxIopsvolume                  1837 non-null float64\n",
      "product/maxThroughputvolume            1837 non-null object\n",
      "product/maxVolumeSize                  1837 non-null object\n",
      "product/memory                         3651 non-null object\n",
      "product/networkPerformance             3651 non-null object\n",
      "product/operatingSystem                1826 non-null object\n",
      "product/operation                      3651 non-null object\n",
      "product/physicalProcessor              3651 non-null object\n",
      "product/preInstalledSw                 0 non-null float64\n",
      "product/processorArchitecture          3651 non-null object\n",
      "product/processorFeatures              3651 non-null object\n",
      "product/productFamily                  13292 non-null object\n",
      "product/servicecode                    13292 non-null object\n",
      "product/sku                            13292 non-null object\n",
      "product/storage                        3651 non-null object\n",
      "product/storageClass                   26 non-null object\n",
      "product/storageMedia                   1861 non-null object\n",
      "product/tenancy                        3651 non-null object\n",
      "product/toLocation                     5725 non-null object\n",
      "product/toLocationType                 5725 non-null object\n",
      "product/transferType                   5725 non-null object\n",
      "product/usagetype                      13292 non-null object\n",
      "product/vcpu                           3651 non-null float64\n",
      "product/volumeType                     1863 non-null object\n",
      "pricing/publicOnDemandCost             13292 non-null float64\n",
      "pricing/publicOnDemandRate             13292 non-null float64\n",
      "pricing/term                           10863 non-null object\n",
      "pricing/unit                           10863 non-null object\n",
      "reservation/TotalReservedUnits         0 non-null float64\n",
      "reservation/UnitsPerReservation        0 non-null float64\n",
      "dtypes: float64(14), int64(2), object(57)\n",
      "memory usage: 7.4+ MB\n"
     ]
    }
   ],
   "source": [
    "r.info()"
   ]
  },
  {
   "cell_type": "markdown",
   "metadata": {},
   "source": [
    "Convert two columns to datetime, and sort all entries by time:"
   ]
  },
  {
   "cell_type": "code",
   "execution_count": 4,
   "metadata": {
    "collapsed": true
   },
   "outputs": [],
   "source": [
    "r['lineItem/UsageStartDate'] = pd.to_datetime(r['lineItem/UsageStartDate'])\n",
    "r['lineItem/UsageEndDate'] = pd.to_datetime(r['lineItem/UsageEndDate'])\n",
    "r.sort_values('lineItem/UsageStartDate', inplace=True)"
   ]
  },
  {
   "cell_type": "code",
   "execution_count": 5,
   "metadata": {
    "collapsed": false
   },
   "outputs": [
    {
     "name": "stdout",
     "output_type": "stream",
     "text": [
      "<class 'pandas.core.frame.DataFrame'>\n",
      "Int64Index: 13292 entries, 0 to 13291\n",
      "Data columns (total 73 columns):\n",
      "identity/LineItemId                    13292 non-null object\n",
      "identity/TimeInterval                  13292 non-null object\n",
      "bill/InvoiceId                         0 non-null float64\n",
      "bill/BillingEntity                     13292 non-null object\n",
      "bill/BillType                          13292 non-null object\n",
      "bill/PayerAccountId                    13292 non-null int64\n",
      "bill/BillingPeriodStartDate            13292 non-null object\n",
      "bill/BillingPeriodEndDate              13292 non-null object\n",
      "lineItem/UsageAccountId                13292 non-null int64\n",
      "lineItem/LineItemType                  13292 non-null object\n",
      "lineItem/UsageStartDate                13292 non-null datetime64[ns]\n",
      "lineItem/UsageEndDate                  13292 non-null datetime64[ns]\n",
      "lineItem/ProductCode                   13292 non-null object\n",
      "lineItem/UsageType                     13292 non-null object\n",
      "lineItem/Operation                     13292 non-null object\n",
      "lineItem/AvailabilityZone              3651 non-null object\n",
      "lineItem/ResourceId                    13266 non-null object\n",
      "lineItem/UsageAmount                   13292 non-null float64\n",
      "lineItem/CurrencyCode                  13292 non-null object\n",
      "lineItem/UnblendedRate                 13292 non-null float64\n",
      "lineItem/UnblendedCost                 13292 non-null float64\n",
      "lineItem/BlendedRate                   13292 non-null float64\n",
      "lineItem/BlendedCost                   13292 non-null float64\n",
      "lineItem/LineItemDescription           13292 non-null object\n",
      "lineItem/TaxType                       0 non-null float64\n",
      "product/ProductName                    13292 non-null object\n",
      "product/availability                   26 non-null object\n",
      "product/clockSpeed                     3651 non-null object\n",
      "product/currentGeneration              3651 non-null object\n",
      "product/dedicatedEbsThroughput         3651 non-null object\n",
      "product/durability                     26 non-null object\n",
      "product/ebsOptimized                   1825 non-null object\n",
      "product/enhancedNetworkingSupported    3651 non-null object\n",
      "product/fromLocation                   5725 non-null object\n",
      "product/fromLocationType               5725 non-null object\n",
      "product/group                          2029 non-null object\n",
      "product/groupDescription               2029 non-null object\n",
      "product/instanceFamily                 3651 non-null object\n",
      "product/instanceType                   3651 non-null object\n",
      "product/licenseModel                   1826 non-null object\n",
      "product/location                       7567 non-null object\n",
      "product/locationType                   7567 non-null object\n",
      "product/maxIopsBurstPerformance        1837 non-null object\n",
      "product/maxIopsvolume                  1837 non-null float64\n",
      "product/maxThroughputvolume            1837 non-null object\n",
      "product/maxVolumeSize                  1837 non-null object\n",
      "product/memory                         3651 non-null object\n",
      "product/networkPerformance             3651 non-null object\n",
      "product/operatingSystem                1826 non-null object\n",
      "product/operation                      3651 non-null object\n",
      "product/physicalProcessor              3651 non-null object\n",
      "product/preInstalledSw                 0 non-null float64\n",
      "product/processorArchitecture          3651 non-null object\n",
      "product/processorFeatures              3651 non-null object\n",
      "product/productFamily                  13292 non-null object\n",
      "product/servicecode                    13292 non-null object\n",
      "product/sku                            13292 non-null object\n",
      "product/storage                        3651 non-null object\n",
      "product/storageClass                   26 non-null object\n",
      "product/storageMedia                   1861 non-null object\n",
      "product/tenancy                        3651 non-null object\n",
      "product/toLocation                     5725 non-null object\n",
      "product/toLocationType                 5725 non-null object\n",
      "product/transferType                   5725 non-null object\n",
      "product/usagetype                      13292 non-null object\n",
      "product/vcpu                           3651 non-null float64\n",
      "product/volumeType                     1863 non-null object\n",
      "pricing/publicOnDemandCost             13292 non-null float64\n",
      "pricing/publicOnDemandRate             13292 non-null float64\n",
      "pricing/term                           10863 non-null object\n",
      "pricing/unit                           10863 non-null object\n",
      "reservation/TotalReservedUnits         0 non-null float64\n",
      "reservation/UnitsPerReservation        0 non-null float64\n",
      "dtypes: datetime64[ns](2), float64(14), int64(2), object(55)\n",
      "memory usage: 7.5+ MB\n"
     ]
    }
   ],
   "source": [
    "r.info()"
   ]
  },
  {
   "cell_type": "markdown",
   "metadata": {},
   "source": [
    "## Use Case Run Times\n",
    "\n",
    "Because AWS cost and usage information is reported for each hour it is not possible to precisely correlate use cases with their costs. Below are listed time periods when the use cases for various Cloudydap architectures were run.\n",
    "\n",
    "Each use case run period is a tuple with the start and end time in the US Central Time Zone."
   ]
  },
  {
   "cell_type": "code",
   "execution_count": 6,
   "metadata": {
    "collapsed": true
   },
   "outputs": [],
   "source": [
    "def set_time(year, month, day, hour, tzname='America/Chicago'):\n",
    "    ctz = pytz.timezone(tzname)\n",
    "    return ctz.localize(dt.datetime(year, month, day, hour), is_dst=None)"
   ]
  },
  {
   "cell_type": "code",
   "execution_count": 7,
   "metadata": {
    "collapsed": true
   },
   "outputs": [],
   "source": [
    "arch1_runs = [(set_time(2017, 2, 23, 4), set_time(2017, 2, 23, 23))]\n",
    "arch2_runs = [(set_time(2017, 2, 24, 4), set_time(2017, 2, 24, 6))]\n",
    "arch3_runs = [(set_time(2017, 2, 25, 4), set_time(2017, 2, 25, 6))]"
   ]
  },
  {
   "cell_type": "markdown",
   "metadata": {},
   "source": [
    "## Assign Use Case Cost and Usage Data to Architectures"
   ]
  },
  {
   "cell_type": "markdown",
   "metadata": {},
   "source": [
    "Create a new column `Arch` to hold architecture identifiers and fill it with `NaN`s:"
   ]
  },
  {
   "cell_type": "code",
   "execution_count": 8,
   "metadata": {
    "collapsed": true
   },
   "outputs": [],
   "source": [
    "r['Arch'] = np.nan"
   ]
  },
  {
   "cell_type": "code",
   "execution_count": 9,
   "metadata": {
    "collapsed": false
   },
   "outputs": [],
   "source": [
    "def assign_arch(df, arch_times, arch_name):\n",
    "    utc = pytz.timezone('UTC')\n",
    "    for rt in arch_times:\n",
    "        arch_start = rt[0].astimezone(utc).isoformat()\n",
    "        arch_end = rt[1].astimezone(utc).isoformat()\n",
    "        mask = ((df['lineItem/UsageStartDate'] < arch_end) &\n",
    "                (df['lineItem/UsageEndDate'] > arch_start))\n",
    "        df.loc[mask, 'Arch'] = arch_name"
   ]
  },
  {
   "cell_type": "code",
   "execution_count": 10,
   "metadata": {
    "collapsed": false
   },
   "outputs": [],
   "source": [
    "assign_arch(r, arch1_runs, 'A1')\n",
    "assign_arch(r, arch2_runs, 'A2')\n",
    "assign_arch(r, arch3_runs, 'A3')"
   ]
  },
  {
   "cell_type": "code",
   "execution_count": 11,
   "metadata": {
    "collapsed": false
   },
   "outputs": [
    {
     "data": {
      "text/plain": [
       "A1    437\n",
       "A3     61\n",
       "A2     55\n",
       "Name: Arch, dtype: int64"
      ]
     },
     "execution_count": 11,
     "metadata": {},
     "output_type": "execute_result"
    }
   ],
   "source": [
    "r.Arch.value_counts()"
   ]
  },
  {
   "cell_type": "markdown",
   "metadata": {},
   "source": [
    "Remove all the cost entries that do not belong to the Architecture use case runs:"
   ]
  },
  {
   "cell_type": "code",
   "execution_count": 12,
   "metadata": {
    "collapsed": true
   },
   "outputs": [],
   "source": [
    "r.dropna(subset=['Arch'], inplace=True)"
   ]
  },
  {
   "cell_type": "code",
   "execution_count": 13,
   "metadata": {
    "collapsed": false
   },
   "outputs": [
    {
     "data": {
      "text/plain": [
       "(553, 74)"
      ]
     },
     "execution_count": 13,
     "metadata": {},
     "output_type": "execute_result"
    }
   ],
   "source": [
    "r.shape"
   ]
  },
  {
   "cell_type": "markdown",
   "metadata": {},
   "source": [
    "## Save Use Case Cost Data to a File"
   ]
  },
  {
   "cell_type": "markdown",
   "metadata": {},
   "source": [
    "CSV file where to save the use case cost data:"
   ]
  },
  {
   "cell_type": "code",
   "execution_count": 14,
   "metadata": {
    "collapsed": false
   },
   "outputs": [],
   "source": [
    "outfile = Path('cloudydap_costs.csv')"
   ]
  },
  {
   "cell_type": "code",
   "execution_count": 15,
   "metadata": {
    "collapsed": true
   },
   "outputs": [],
   "source": [
    "if outfile.suffix != '.csv':\n",
    "    raise ValueError('The file name must end with \".csv\"')"
   ]
  },
  {
   "cell_type": "markdown",
   "metadata": {},
   "source": [
    "If the file already exsits, just append the new data:"
   ]
  },
  {
   "cell_type": "code",
   "execution_count": 16,
   "metadata": {
    "collapsed": false
   },
   "outputs": [],
   "source": [
    "if outfile.exists():\n",
    "    mode = 'a'\n",
    "    header = False\n",
    "else:\n",
    "    mode = 'w'\n",
    "    header=True\n",
    "r.to_csv(str(outfile), mode=mode, header=header, index=False, \n",
    "         date_format='%Y-%m-%dT%H:%M:%S+00:00')"
   ]
  }
 ],
 "metadata": {
  "kernelspec": {
   "display_name": "Python 3",
   "language": "python",
   "name": "python3"
  },
  "language_info": {
   "codemirror_mode": {
    "name": "ipython",
    "version": 3
   },
   "file_extension": ".py",
   "mimetype": "text/x-python",
   "name": "python",
   "nbconvert_exporter": "python",
   "pygments_lexer": "ipython3",
   "version": "3.5.1"
  }
 },
 "nbformat": 4,
 "nbformat_minor": 2
}
