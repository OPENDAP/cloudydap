{
 "cells": [
  {
   "cell_type": "markdown",
   "metadata": {},
   "source": [
    "# S3 Access Log Cleanup\n",
    "\n",
    "This notebook should be used to clean up S3 log access CSV files created from the original downloaded S3 access logs."
   ]
  },
  {
   "cell_type": "code",
   "execution_count": 1,
   "metadata": {},
   "outputs": [],
   "source": [
    "import pandas as pd"
   ]
  },
  {
   "cell_type": "markdown",
   "metadata": {},
   "source": [
    "The CSV file with S3 access log records:"
   ]
  },
  {
   "cell_type": "code",
   "execution_count": 2,
   "metadata": {},
   "outputs": [],
   "source": [
    "s3log_in_csv = 's3log-201809.csv'"
   ]
  },
  {
   "cell_type": "markdown",
   "metadata": {},
   "source": [
    "Read the CSV into a pandas DataFrame and replace any column value of `-` with `None`."
   ]
  },
  {
   "cell_type": "code",
   "execution_count": 3,
   "metadata": {},
   "outputs": [],
   "source": [
    "s3l = pd.read_csv(s3log_in_csv)\n",
    "s3l.replace(['-'], [None]);"
   ]
  },
  {
   "cell_type": "markdown",
   "metadata": {},
   "source": [
    "DataFrame overview:"
   ]
  },
  {
   "cell_type": "code",
   "execution_count": 4,
   "metadata": {},
   "outputs": [
    {
     "name": "stdout",
     "output_type": "stream",
     "text": [
      "<class 'pandas.core.frame.DataFrame'>\n",
      "RangeIndex: 292275 entries, 0 to 292274\n",
      "Data columns (total 19 columns):\n",
      "Bucket_Owner           292275 non-null object\n",
      "Bucket                 292275 non-null object\n",
      "Time                   292275 non-null object\n",
      "Remote_IP              292275 non-null object\n",
      "Requester              292275 non-null object\n",
      "Request_ID             292275 non-null object\n",
      "Operation              292275 non-null object\n",
      "Key                    292275 non-null object\n",
      "HTTP_method            292275 non-null object\n",
      "Request_URI            292275 non-null object\n",
      "HTTP_status            292275 non-null int64\n",
      "Error_Code             292275 non-null object\n",
      "Bytes_Sent             292275 non-null object\n",
      "Object_Size            292275 non-null object\n",
      "Total_Time_ms          292275 non-null int64\n",
      "Turn_Around_Time_ms    292275 non-null object\n",
      "Referrer               292275 non-null object\n",
      "User_Agent             292275 non-null object\n",
      "Version_Id             292275 non-null object\n",
      "dtypes: int64(2), object(17)\n",
      "memory usage: 42.4+ MB\n"
     ]
    }
   ],
   "source": [
    "s3l.info()"
   ]
  },
  {
   "cell_type": "markdown",
   "metadata": {},
   "source": [
    "Convert the `Time` column to `datetime` objects:"
   ]
  },
  {
   "cell_type": "code",
   "execution_count": 5,
   "metadata": {},
   "outputs": [],
   "source": [
    "s3l['Time'] = pd.to_datetime(s3l['Time'])"
   ]
  },
  {
   "cell_type": "markdown",
   "metadata": {},
   "source": [
    "## Row Selection Section\n",
    "\n",
    "Code in this section selects the desired rows..."
   ]
  },
  {
   "cell_type": "code",
   "execution_count": 6,
   "metadata": {},
   "outputs": [
    {
     "data": {
      "text/plain": [
       "array([9])"
      ]
     },
     "execution_count": 6,
     "metadata": {},
     "output_type": "execute_result"
    }
   ],
   "source": [
    "s3l.Time.dt.month.unique()"
   ]
  },
  {
   "cell_type": "code",
   "execution_count": 7,
   "metadata": {},
   "outputs": [],
   "source": [
    "s3l = s3l[s3l['Time'].dt.month == 9]"
   ]
  },
  {
   "cell_type": "code",
   "execution_count": 8,
   "metadata": {},
   "outputs": [],
   "source": [
    "s3l = s3l[s3l.Request_URI.str.contains('[?&]cloudydap=')]"
   ]
  },
  {
   "cell_type": "code",
   "execution_count": 9,
   "metadata": {},
   "outputs": [
    {
     "name": "stdout",
     "output_type": "stream",
     "text": [
      "<class 'pandas.core.frame.DataFrame'>\n",
      "Int64Index: 34539 entries, 183685 to 286621\n",
      "Data columns (total 19 columns):\n",
      "Bucket_Owner           34539 non-null object\n",
      "Bucket                 34539 non-null object\n",
      "Time                   34539 non-null datetime64[ns]\n",
      "Remote_IP              34539 non-null object\n",
      "Requester              34539 non-null object\n",
      "Request_ID             34539 non-null object\n",
      "Operation              34539 non-null object\n",
      "Key                    34539 non-null object\n",
      "HTTP_method            34539 non-null object\n",
      "Request_URI            34539 non-null object\n",
      "HTTP_status            34539 non-null int64\n",
      "Error_Code             34539 non-null object\n",
      "Bytes_Sent             34539 non-null object\n",
      "Object_Size            34539 non-null object\n",
      "Total_Time_ms          34539 non-null int64\n",
      "Turn_Around_Time_ms    34539 non-null object\n",
      "Referrer               34539 non-null object\n",
      "User_Agent             34539 non-null object\n",
      "Version_Id             34539 non-null object\n",
      "dtypes: datetime64[ns](1), int64(2), object(16)\n",
      "memory usage: 5.3+ MB\n"
     ]
    }
   ],
   "source": [
    "s3l.info()"
   ]
  },
  {
   "cell_type": "code",
   "execution_count": 10,
   "metadata": {},
   "outputs": [
    {
     "data": {
      "text/plain": [
       "183685   2018-09-21 18:45:37\n",
       "183686   2018-09-21 18:45:45\n",
       "183687   2018-09-21 18:54:03\n",
       "183688   2018-09-21 18:54:04\n",
       "183689   2018-09-21 18:54:04\n",
       "Name: Time, dtype: datetime64[ns]"
      ]
     },
     "execution_count": 10,
     "metadata": {},
     "output_type": "execute_result"
    }
   ],
   "source": [
    "s3l.Time.head() "
   ]
  },
  {
   "cell_type": "markdown",
   "metadata": {},
   "source": [
    "## Test Parsing of the `cloudydap` URL Parameter"
   ]
  },
  {
   "cell_type": "code",
   "execution_count": 11,
   "metadata": {},
   "outputs": [
    {
     "data": {
      "text/plain": [
       "'/cloudydap/merra2/MERRA2_200.tavgM_2d_int_Nx.199301.nc4?cloudydap=EFYZgp8U0Y_UC6_A2CFT_STARTED_1537555462.h5'"
      ]
     },
     "execution_count": 11,
     "metadata": {},
     "output_type": "execute_result"
    }
   ],
   "source": [
    "s3l.Request_URI.iloc[0]"
   ]
  },
  {
   "cell_type": "code",
   "execution_count": 12,
   "metadata": {},
   "outputs": [],
   "source": [
    "import re"
   ]
  },
  {
   "cell_type": "markdown",
   "metadata": {},
   "source": [
    "The regular expression for the `cloudydap` URL parameter:"
   ]
  },
  {
   "cell_type": "code",
   "execution_count": 13,
   "metadata": {},
   "outputs": [],
   "source": [
    "regexp = '[?&]cloudydap=(?P<dap_id>[^_]+)_(?P<use_case>.+)_(?P<arch>A[^_]+)_STARTED_(?P<uc_run_id>.+)\\.h5&?'"
   ]
  },
  {
   "cell_type": "code",
   "execution_count": 14,
   "metadata": {},
   "outputs": [
    {
     "data": {
      "text/plain": [
       "('W7hDl1ELmp', 'UNKNOWN_USE_CASE', 'A2CFT', '1537562999')"
      ]
     },
     "execution_count": 14,
     "metadata": {},
     "output_type": "execute_result"
    }
   ],
   "source": [
    "re.search(regexp,\n",
    "         '?cloudydap=W7hDl1ELmp_UNKNOWN_USE_CASE_A2CFT_STARTED_1537562999.h5').groups()"
   ]
  },
  {
   "cell_type": "markdown",
   "metadata": {},
   "source": [
    "Let's see if it's working:"
   ]
  },
  {
   "cell_type": "code",
   "execution_count": 15,
   "metadata": {},
   "outputs": [
    {
     "data": {
      "text/html": [
       "<div>\n",
       "<style scoped>\n",
       "    .dataframe tbody tr th:only-of-type {\n",
       "        vertical-align: middle;\n",
       "    }\n",
       "\n",
       "    .dataframe tbody tr th {\n",
       "        vertical-align: top;\n",
       "    }\n",
       "\n",
       "    .dataframe thead th {\n",
       "        text-align: right;\n",
       "    }\n",
       "</style>\n",
       "<table border=\"1\" class=\"dataframe\">\n",
       "  <thead>\n",
       "    <tr style=\"text-align: right;\">\n",
       "      <th></th>\n",
       "      <th>dap_id</th>\n",
       "      <th>use_case</th>\n",
       "      <th>arch</th>\n",
       "      <th>uc_run_id</th>\n",
       "    </tr>\n",
       "  </thead>\n",
       "  <tbody>\n",
       "    <tr>\n",
       "      <th>183685</th>\n",
       "      <td>EFYZgp8U0Y</td>\n",
       "      <td>UC6</td>\n",
       "      <td>A2CFT</td>\n",
       "      <td>1537555462</td>\n",
       "    </tr>\n",
       "    <tr>\n",
       "      <th>183686</th>\n",
       "      <td>HnNDuPmkll</td>\n",
       "      <td>UC6</td>\n",
       "      <td>A2CFT</td>\n",
       "      <td>1537555462</td>\n",
       "    </tr>\n",
       "    <tr>\n",
       "      <th>183687</th>\n",
       "      <td>zhUkS6ScIz</td>\n",
       "      <td>UC11</td>\n",
       "      <td>A2CFT</td>\n",
       "      <td>1537556009</td>\n",
       "    </tr>\n",
       "    <tr>\n",
       "      <th>183688</th>\n",
       "      <td>ZH92J0gGyF</td>\n",
       "      <td>UC11</td>\n",
       "      <td>A2CFT</td>\n",
       "      <td>1537556009</td>\n",
       "    </tr>\n",
       "    <tr>\n",
       "      <th>183689</th>\n",
       "      <td>ZH92J0gGyF</td>\n",
       "      <td>UC11</td>\n",
       "      <td>A2CFT</td>\n",
       "      <td>1537556009</td>\n",
       "    </tr>\n",
       "  </tbody>\n",
       "</table>\n",
       "</div>"
      ],
      "text/plain": [
       "            dap_id use_case   arch   uc_run_id\n",
       "183685  EFYZgp8U0Y      UC6  A2CFT  1537555462\n",
       "183686  HnNDuPmkll      UC6  A2CFT  1537555462\n",
       "183687  zhUkS6ScIz     UC11  A2CFT  1537556009\n",
       "183688  ZH92J0gGyF     UC11  A2CFT  1537556009\n",
       "183689  ZH92J0gGyF     UC11  A2CFT  1537556009"
      ]
     },
     "execution_count": 15,
     "metadata": {},
     "output_type": "execute_result"
    }
   ],
   "source": [
    "s3l.Request_URI.str.extract(\n",
    "    '[?&]cloudydap=(?P<dap_id>[^_]+)_(?P<use_case>.+)_(?P<arch>A[^_]+)_STARTED_(?P<uc_run_id>.+)\\.h5&?', \n",
    "    expand=True).head()"
   ]
  },
  {
   "cell_type": "markdown",
   "metadata": {},
   "source": [
    "## Save the Desired S3 Log Records"
   ]
  },
  {
   "cell_type": "code",
   "execution_count": 16,
   "metadata": {},
   "outputs": [],
   "source": [
    "from pathlib import Path\n",
    "outfile = Path('s3log-cloudydap-201809.csv')\n",
    "if outfile.exists():\n",
    "    mode = 'a'\n",
    "    header = False\n",
    "else:\n",
    "    mode = 'w'\n",
    "    header=True\n",
    "s3l.to_csv(str(outfile), mode=mode, header=header, index=False, \n",
    "           date_format='%Y-%m-%dT%H:%M:%S+00:00')"
   ]
  }
 ],
 "metadata": {
  "kernelspec": {
   "display_name": "Python 3",
   "language": "python",
   "name": "python3"
  },
  "language_info": {
   "codemirror_mode": {
    "name": "ipython",
    "version": 3
   },
   "file_extension": ".py",
   "mimetype": "text/x-python",
   "name": "python",
   "nbconvert_exporter": "python",
   "pygments_lexer": "ipython3",
   "version": "3.6.6"
  }
 },
 "nbformat": 4,
 "nbformat_minor": 1
}
