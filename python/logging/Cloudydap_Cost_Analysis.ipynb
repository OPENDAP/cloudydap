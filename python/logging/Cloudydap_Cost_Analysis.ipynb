{
 "cells": [
  {
   "cell_type": "markdown",
   "metadata": {},
   "source": [
    "# Cloudydap Cost Analysis"
   ]
  },
  {
   "cell_type": "code",
   "execution_count": 1,
   "metadata": {
    "collapsed": false
   },
   "outputs": [
    {
     "data": {
      "text/html": [
       "\n",
       "    <div class=\"bk-root\">\n",
       "        <a href=\"http://bokeh.pydata.org\" target=\"_blank\" class=\"bk-logo bk-logo-small bk-logo-notebook\"></a>\n",
       "        <span id=\"572d4616-5d76-4196-b0b8-6c1f6aefa4dd\">Loading BokehJS ...</span>\n",
       "    </div>"
      ]
     },
     "metadata": {},
     "output_type": "display_data"
    },
    {
     "data": {
      "application/javascript": [
       "\n",
       "(function(global) {\n",
       "  function now() {\n",
       "    return new Date();\n",
       "  }\n",
       "\n",
       "  var force = true;\n",
       "\n",
       "  if (typeof (window._bokeh_onload_callbacks) === \"undefined\" || force === true) {\n",
       "    window._bokeh_onload_callbacks = [];\n",
       "    window._bokeh_is_loading = undefined;\n",
       "  }\n",
       "\n",
       "\n",
       "  \n",
       "  if (typeof (window._bokeh_timeout) === \"undefined\" || force === true) {\n",
       "    window._bokeh_timeout = Date.now() + 5000;\n",
       "    window._bokeh_failed_load = false;\n",
       "  }\n",
       "\n",
       "  var NB_LOAD_WARNING = {'data': {'text/html':\n",
       "     \"<div style='background-color: #fdd'>\\n\"+\n",
       "     \"<p>\\n\"+\n",
       "     \"BokehJS does not appear to have successfully loaded. If loading BokehJS from CDN, this \\n\"+\n",
       "     \"may be due to a slow or bad network connection. Possible fixes:\\n\"+\n",
       "     \"</p>\\n\"+\n",
       "     \"<ul>\\n\"+\n",
       "     \"<li>re-rerun `output_notebook()` to attempt to load from CDN again, or</li>\\n\"+\n",
       "     \"<li>use INLINE resources instead, as so:</li>\\n\"+\n",
       "     \"</ul>\\n\"+\n",
       "     \"<code>\\n\"+\n",
       "     \"from bokeh.resources import INLINE\\n\"+\n",
       "     \"output_notebook(resources=INLINE)\\n\"+\n",
       "     \"</code>\\n\"+\n",
       "     \"</div>\"}};\n",
       "\n",
       "  function display_loaded() {\n",
       "    if (window.Bokeh !== undefined) {\n",
       "      document.getElementById(\"572d4616-5d76-4196-b0b8-6c1f6aefa4dd\").textContent = \"BokehJS successfully loaded.\";\n",
       "    } else if (Date.now() < window._bokeh_timeout) {\n",
       "      setTimeout(display_loaded, 100)\n",
       "    }\n",
       "  }\n",
       "\n",
       "  function run_callbacks() {\n",
       "    window._bokeh_onload_callbacks.forEach(function(callback) { callback() });\n",
       "    delete window._bokeh_onload_callbacks\n",
       "    console.info(\"Bokeh: all callbacks have finished\");\n",
       "  }\n",
       "\n",
       "  function load_libs(js_urls, callback) {\n",
       "    window._bokeh_onload_callbacks.push(callback);\n",
       "    if (window._bokeh_is_loading > 0) {\n",
       "      console.log(\"Bokeh: BokehJS is being loaded, scheduling callback at\", now());\n",
       "      return null;\n",
       "    }\n",
       "    if (js_urls == null || js_urls.length === 0) {\n",
       "      run_callbacks();\n",
       "      return null;\n",
       "    }\n",
       "    console.log(\"Bokeh: BokehJS not loaded, scheduling load and callback at\", now());\n",
       "    window._bokeh_is_loading = js_urls.length;\n",
       "    for (var i = 0; i < js_urls.length; i++) {\n",
       "      var url = js_urls[i];\n",
       "      var s = document.createElement('script');\n",
       "      s.src = url;\n",
       "      s.async = false;\n",
       "      s.onreadystatechange = s.onload = function() {\n",
       "        window._bokeh_is_loading--;\n",
       "        if (window._bokeh_is_loading === 0) {\n",
       "          console.log(\"Bokeh: all BokehJS libraries loaded\");\n",
       "          run_callbacks()\n",
       "        }\n",
       "      };\n",
       "      s.onerror = function() {\n",
       "        console.warn(\"failed to load library \" + url);\n",
       "      };\n",
       "      console.log(\"Bokeh: injecting script tag for BokehJS library: \", url);\n",
       "      document.getElementsByTagName(\"head\")[0].appendChild(s);\n",
       "    }\n",
       "  };var element = document.getElementById(\"572d4616-5d76-4196-b0b8-6c1f6aefa4dd\");\n",
       "  if (element == null) {\n",
       "    console.log(\"Bokeh: ERROR: autoload.js configured with elementid '572d4616-5d76-4196-b0b8-6c1f6aefa4dd' but no matching script tag was found. \")\n",
       "    return false;\n",
       "  }\n",
       "\n",
       "  var js_urls = [\"https://cdn.pydata.org/bokeh/release/bokeh-0.12.4.min.js\", \"https://cdn.pydata.org/bokeh/release/bokeh-widgets-0.12.4.min.js\"];\n",
       "\n",
       "  var inline_js = [\n",
       "    function(Bokeh) {\n",
       "      Bokeh.set_log_level(\"info\");\n",
       "    },\n",
       "    \n",
       "    function(Bokeh) {\n",
       "      \n",
       "      document.getElementById(\"572d4616-5d76-4196-b0b8-6c1f6aefa4dd\").textContent = \"BokehJS is loading...\";\n",
       "    },\n",
       "    function(Bokeh) {\n",
       "      console.log(\"Bokeh: injecting CSS: https://cdn.pydata.org/bokeh/release/bokeh-0.12.4.min.css\");\n",
       "      Bokeh.embed.inject_css(\"https://cdn.pydata.org/bokeh/release/bokeh-0.12.4.min.css\");\n",
       "      console.log(\"Bokeh: injecting CSS: https://cdn.pydata.org/bokeh/release/bokeh-widgets-0.12.4.min.css\");\n",
       "      Bokeh.embed.inject_css(\"https://cdn.pydata.org/bokeh/release/bokeh-widgets-0.12.4.min.css\");\n",
       "    }\n",
       "  ];\n",
       "\n",
       "  function run_inline_js() {\n",
       "    \n",
       "    if ((window.Bokeh !== undefined) || (force === true)) {\n",
       "      for (var i = 0; i < inline_js.length; i++) {\n",
       "        inline_js[i](window.Bokeh);\n",
       "      }if (force === true) {\n",
       "        display_loaded();\n",
       "      }} else if (Date.now() < window._bokeh_timeout) {\n",
       "      setTimeout(run_inline_js, 100);\n",
       "    } else if (!window._bokeh_failed_load) {\n",
       "      console.log(\"Bokeh: BokehJS failed to load within specified timeout.\");\n",
       "      window._bokeh_failed_load = true;\n",
       "    } else if (force !== true) {\n",
       "      var cell = $(document.getElementById(\"572d4616-5d76-4196-b0b8-6c1f6aefa4dd\")).parents('.cell').data().cell;\n",
       "      cell.output_area.append_execute_result(NB_LOAD_WARNING)\n",
       "    }\n",
       "\n",
       "  }\n",
       "\n",
       "  if (window._bokeh_is_loading === 0) {\n",
       "    console.log(\"Bokeh: BokehJS loaded, going straight to plotting\");\n",
       "    run_inline_js();\n",
       "  } else {\n",
       "    load_libs(js_urls, function() {\n",
       "      console.log(\"Bokeh: BokehJS plotting callback run at\", now());\n",
       "      run_inline_js();\n",
       "    });\n",
       "  }\n",
       "}(this));"
      ]
     },
     "metadata": {},
     "output_type": "display_data"
    }
   ],
   "source": [
    "import numpy as np\n",
    "import pandas as pd\n",
    "from aws_price_list import AWSOffersIndex\n",
    "from bokeh.charts import (output_notebook, output_file, show, \n",
    "                          Scatter, Histogram, TimeSeries, Donut, Step, Bar)\n",
    "from bokeh.plotting import figure, ColumnDataSource\n",
    "from bokeh.models import Range1d, HoverTool, ResizeTool\n",
    "\n",
    "\n",
    "output_notebook()"
   ]
  },
  {
   "cell_type": "code",
   "execution_count": 2,
   "metadata": {
    "collapsed": true
   },
   "outputs": [],
   "source": [
    "def percent_change(before, after):\n",
    "    return 100 * (after/before - 1).dropna(how='all')"
   ]
  },
  {
   "cell_type": "markdown",
   "metadata": {},
   "source": [
    "# Input Cloudydap Cost Data"
   ]
  },
  {
   "cell_type": "code",
   "execution_count": 3,
   "metadata": {
    "collapsed": false
   },
   "outputs": [],
   "source": [
    "r = pd.read_csv('../../logs/cloudydap_costs.csv')"
   ]
  },
  {
   "cell_type": "markdown",
   "metadata": {},
   "source": [
    "Check if there is a column named \"Arch\" (indicates these are indeed Cloudydap cost data):"
   ]
  },
  {
   "cell_type": "code",
   "execution_count": 4,
   "metadata": {
    "collapsed": true
   },
   "outputs": [],
   "source": [
    "if 'Arch' not in r:\n",
    "    raise RuntimeError('Missing \"Arch\" column')"
   ]
  },
  {
   "cell_type": "markdown",
   "metadata": {},
   "source": [
    "Are there any null values in the `Arch` column:"
   ]
  },
  {
   "cell_type": "code",
   "execution_count": 5,
   "metadata": {
    "collapsed": true
   },
   "outputs": [],
   "source": [
    "if r.Arch.isnull().any():\n",
    "    raise ValueError('Null values detected in the \"Arch\" column')"
   ]
  },
  {
   "cell_type": "markdown",
   "metadata": {},
   "source": [
    "What do we have?"
   ]
  },
  {
   "cell_type": "code",
   "execution_count": 6,
   "metadata": {
    "collapsed": false
   },
   "outputs": [
    {
     "name": "stdout",
     "output_type": "stream",
     "text": [
      "<class 'pandas.core.frame.DataFrame'>\n",
      "RangeIndex: 553 entries, 0 to 552\n",
      "Data columns (total 74 columns):\n",
      "identity/LineItemId                    553 non-null object\n",
      "identity/TimeInterval                  553 non-null object\n",
      "bill/InvoiceId                         0 non-null float64\n",
      "bill/BillingEntity                     553 non-null object\n",
      "bill/BillType                          553 non-null object\n",
      "bill/PayerAccountId                    553 non-null int64\n",
      "bill/BillingPeriodStartDate            553 non-null object\n",
      "bill/BillingPeriodEndDate              553 non-null object\n",
      "lineItem/UsageAccountId                553 non-null int64\n",
      "lineItem/LineItemType                  553 non-null object\n",
      "lineItem/UsageStartDate                553 non-null object\n",
      "lineItem/UsageEndDate                  553 non-null object\n",
      "lineItem/ProductCode                   553 non-null object\n",
      "lineItem/UsageType                     553 non-null object\n",
      "lineItem/Operation                     553 non-null object\n",
      "lineItem/AvailabilityZone              150 non-null object\n",
      "lineItem/ResourceId                    551 non-null object\n",
      "lineItem/UsageAmount                   553 non-null float64\n",
      "lineItem/CurrencyCode                  553 non-null object\n",
      "lineItem/UnblendedRate                 553 non-null float64\n",
      "lineItem/UnblendedCost                 553 non-null float64\n",
      "lineItem/BlendedRate                   553 non-null float64\n",
      "lineItem/BlendedCost                   553 non-null float64\n",
      "lineItem/LineItemDescription           553 non-null object\n",
      "lineItem/TaxType                       0 non-null float64\n",
      "product/ProductName                    553 non-null object\n",
      "product/availability                   3 non-null object\n",
      "product/clockSpeed                     150 non-null object\n",
      "product/currentGeneration              150 non-null object\n",
      "product/dedicatedEbsThroughput         150 non-null object\n",
      "product/durability                     3 non-null object\n",
      "product/ebsOptimized                   75 non-null object\n",
      "product/enhancedNetworkingSupported    150 non-null object\n",
      "product/fromLocation                   246 non-null object\n",
      "product/fromLocationType               246 non-null object\n",
      "product/group                          76 non-null object\n",
      "product/groupDescription               76 non-null object\n",
      "product/instanceFamily                 150 non-null object\n",
      "product/instanceType                   150 non-null object\n",
      "product/licenseModel                   75 non-null object\n",
      "product/location                       307 non-null object\n",
      "product/locationType                   307 non-null object\n",
      "product/maxIopsBurstPerformance        77 non-null object\n",
      "product/maxIopsvolume                  77 non-null float64\n",
      "product/maxThroughputvolume            77 non-null object\n",
      "product/maxVolumeSize                  77 non-null object\n",
      "product/memory                         150 non-null object\n",
      "product/networkPerformance             150 non-null object\n",
      "product/operatingSystem                75 non-null object\n",
      "product/operation                      150 non-null object\n",
      "product/physicalProcessor              150 non-null object\n",
      "product/preInstalledSw                 0 non-null float64\n",
      "product/processorArchitecture          150 non-null object\n",
      "product/processorFeatures              150 non-null object\n",
      "product/productFamily                  553 non-null object\n",
      "product/servicecode                    553 non-null object\n",
      "product/sku                            553 non-null object\n",
      "product/storage                        150 non-null object\n",
      "product/storageClass                   3 non-null object\n",
      "product/storageMedia                   78 non-null object\n",
      "product/tenancy                        150 non-null object\n",
      "product/toLocation                     246 non-null object\n",
      "product/toLocationType                 246 non-null object\n",
      "product/transferType                   246 non-null object\n",
      "product/usagetype                      553 non-null object\n",
      "product/vcpu                           150 non-null float64\n",
      "product/volumeType                     80 non-null object\n",
      "pricing/publicOnDemandCost             553 non-null float64\n",
      "pricing/publicOnDemandRate             553 non-null float64\n",
      "pricing/term                           461 non-null object\n",
      "pricing/unit                           461 non-null object\n",
      "reservation/TotalReservedUnits         0 non-null float64\n",
      "reservation/UnitsPerReservation        0 non-null float64\n",
      "Arch                                   553 non-null object\n",
      "dtypes: float64(14), int64(2), object(58)\n",
      "memory usage: 319.8+ KB\n"
     ]
    }
   ],
   "source": [
    "r.info()"
   ]
  },
  {
   "cell_type": "markdown",
   "metadata": {},
   "source": [
    "## Analysis"
   ]
  },
  {
   "cell_type": "markdown",
   "metadata": {},
   "source": [
    "Breakdown on the entries per architecture (and what their identifiers are):"
   ]
  },
  {
   "cell_type": "code",
   "execution_count": 7,
   "metadata": {
    "collapsed": false
   },
   "outputs": [
    {
     "data": {
      "text/plain": [
       "A1    437\n",
       "A2     55\n",
       "A3     61\n",
       "Name: Arch, dtype: int64"
      ]
     },
     "execution_count": 7,
     "metadata": {},
     "output_type": "execute_result"
    }
   ],
   "source": [
    "r.Arch.value_counts().sort_index()"
   ]
  },
  {
   "cell_type": "markdown",
   "metadata": {},
   "source": [
    "Time span for each architecture's cost data:"
   ]
  },
  {
   "cell_type": "code",
   "execution_count": 8,
   "metadata": {
    "collapsed": true
   },
   "outputs": [],
   "source": [
    "grp = r.groupby('Arch')"
   ]
  },
  {
   "cell_type": "markdown",
   "metadata": {},
   "source": [
    "Architecture \\#1:"
   ]
  },
  {
   "cell_type": "code",
   "execution_count": 9,
   "metadata": {
    "collapsed": false
   },
   "outputs": [
    {
     "data": {
      "text/plain": [
       "'2017-02-23T10:00:00+00:00'"
      ]
     },
     "execution_count": 9,
     "metadata": {},
     "output_type": "execute_result"
    }
   ],
   "source": [
    "grp.get_group('A1')['lineItem/UsageStartDate'].min()"
   ]
  },
  {
   "cell_type": "code",
   "execution_count": 10,
   "metadata": {
    "collapsed": false
   },
   "outputs": [
    {
     "data": {
      "text/plain": [
       "'2017-02-24T05:00:00+00:00'"
      ]
     },
     "execution_count": 10,
     "metadata": {},
     "output_type": "execute_result"
    }
   ],
   "source": [
    "grp.get_group('A1')['lineItem/UsageEndDate'].max()"
   ]
  },
  {
   "cell_type": "markdown",
   "metadata": {},
   "source": [
    "Architecture \\#2:"
   ]
  },
  {
   "cell_type": "code",
   "execution_count": 11,
   "metadata": {
    "collapsed": false
   },
   "outputs": [
    {
     "data": {
      "text/plain": [
       "'2017-02-24T10:00:00+00:00'"
      ]
     },
     "execution_count": 11,
     "metadata": {},
     "output_type": "execute_result"
    }
   ],
   "source": [
    "grp.get_group('A2')['lineItem/UsageStartDate'].min()"
   ]
  },
  {
   "cell_type": "code",
   "execution_count": 12,
   "metadata": {
    "collapsed": false
   },
   "outputs": [
    {
     "data": {
      "text/plain": [
       "'2017-02-24T12:00:00+00:00'"
      ]
     },
     "execution_count": 12,
     "metadata": {},
     "output_type": "execute_result"
    }
   ],
   "source": [
    "grp.get_group('A2')['lineItem/UsageEndDate'].max()"
   ]
  },
  {
   "cell_type": "markdown",
   "metadata": {},
   "source": [
    "Architecture \\#3:"
   ]
  },
  {
   "cell_type": "code",
   "execution_count": 13,
   "metadata": {
    "collapsed": false
   },
   "outputs": [
    {
     "data": {
      "text/plain": [
       "'2017-02-25T10:00:00+00:00'"
      ]
     },
     "execution_count": 13,
     "metadata": {},
     "output_type": "execute_result"
    }
   ],
   "source": [
    "grp.get_group('A3')['lineItem/UsageStartDate'].min()"
   ]
  },
  {
   "cell_type": "code",
   "execution_count": 14,
   "metadata": {
    "collapsed": false
   },
   "outputs": [
    {
     "data": {
      "text/plain": [
       "'2017-02-25T12:00:00+00:00'"
      ]
     },
     "execution_count": 14,
     "metadata": {},
     "output_type": "execute_result"
    }
   ],
   "source": [
    "grp.get_group('A3')['lineItem/UsageEndDate'].max()"
   ]
  },
  {
   "cell_type": "markdown",
   "metadata": {},
   "source": [
    "### Cost"
   ]
  },
  {
   "cell_type": "markdown",
   "metadata": {},
   "source": [
    "Total cost per architecture in US$:"
   ]
  },
  {
   "cell_type": "code",
   "execution_count": 15,
   "metadata": {
    "collapsed": false
   },
   "outputs": [
    {
     "data": {
      "text/plain": [
       "Arch\n",
       "A1    14.027309\n",
       "A2     2.232738\n",
       "A3     2.264586\n",
       "Name: lineItem/BlendedCost, dtype: float64"
      ]
     },
     "execution_count": 15,
     "metadata": {},
     "output_type": "execute_result"
    }
   ],
   "source": [
    "tot_cost = grp['lineItem/BlendedCost'].sum()\n",
    "tot_cost"
   ]
  },
  {
   "cell_type": "code",
   "execution_count": 16,
   "metadata": {
    "collapsed": false
   },
   "outputs": [
    {
     "data": {
      "text/html": [
       "\n",
       "\n",
       "    <div class=\"bk-root\">\n",
       "        <div class=\"bk-plotdiv\" id=\"d20be682-3c61-465a-bd5f-630295445290\"></div>\n",
       "    </div>\n",
       "<script type=\"text/javascript\">\n",
       "  \n",
       "  (function(global) {\n",
       "    function now() {\n",
       "      return new Date();\n",
       "    }\n",
       "  \n",
       "    var force = false;\n",
       "  \n",
       "    if (typeof (window._bokeh_onload_callbacks) === \"undefined\" || force === true) {\n",
       "      window._bokeh_onload_callbacks = [];\n",
       "      window._bokeh_is_loading = undefined;\n",
       "    }\n",
       "  \n",
       "  \n",
       "    \n",
       "    if (typeof (window._bokeh_timeout) === \"undefined\" || force === true) {\n",
       "      window._bokeh_timeout = Date.now() + 0;\n",
       "      window._bokeh_failed_load = false;\n",
       "    }\n",
       "  \n",
       "    var NB_LOAD_WARNING = {'data': {'text/html':\n",
       "       \"<div style='background-color: #fdd'>\\n\"+\n",
       "       \"<p>\\n\"+\n",
       "       \"BokehJS does not appear to have successfully loaded. If loading BokehJS from CDN, this \\n\"+\n",
       "       \"may be due to a slow or bad network connection. Possible fixes:\\n\"+\n",
       "       \"</p>\\n\"+\n",
       "       \"<ul>\\n\"+\n",
       "       \"<li>re-rerun `output_notebook()` to attempt to load from CDN again, or</li>\\n\"+\n",
       "       \"<li>use INLINE resources instead, as so:</li>\\n\"+\n",
       "       \"</ul>\\n\"+\n",
       "       \"<code>\\n\"+\n",
       "       \"from bokeh.resources import INLINE\\n\"+\n",
       "       \"output_notebook(resources=INLINE)\\n\"+\n",
       "       \"</code>\\n\"+\n",
       "       \"</div>\"}};\n",
       "  \n",
       "    function display_loaded() {\n",
       "      if (window.Bokeh !== undefined) {\n",
       "        document.getElementById(\"d20be682-3c61-465a-bd5f-630295445290\").textContent = \"BokehJS successfully loaded.\";\n",
       "      } else if (Date.now() < window._bokeh_timeout) {\n",
       "        setTimeout(display_loaded, 100)\n",
       "      }\n",
       "    }\n",
       "  \n",
       "    function run_callbacks() {\n",
       "      window._bokeh_onload_callbacks.forEach(function(callback) { callback() });\n",
       "      delete window._bokeh_onload_callbacks\n",
       "      console.info(\"Bokeh: all callbacks have finished\");\n",
       "    }\n",
       "  \n",
       "    function load_libs(js_urls, callback) {\n",
       "      window._bokeh_onload_callbacks.push(callback);\n",
       "      if (window._bokeh_is_loading > 0) {\n",
       "        console.log(\"Bokeh: BokehJS is being loaded, scheduling callback at\", now());\n",
       "        return null;\n",
       "      }\n",
       "      if (js_urls == null || js_urls.length === 0) {\n",
       "        run_callbacks();\n",
       "        return null;\n",
       "      }\n",
       "      console.log(\"Bokeh: BokehJS not loaded, scheduling load and callback at\", now());\n",
       "      window._bokeh_is_loading = js_urls.length;\n",
       "      for (var i = 0; i < js_urls.length; i++) {\n",
       "        var url = js_urls[i];\n",
       "        var s = document.createElement('script');\n",
       "        s.src = url;\n",
       "        s.async = false;\n",
       "        s.onreadystatechange = s.onload = function() {\n",
       "          window._bokeh_is_loading--;\n",
       "          if (window._bokeh_is_loading === 0) {\n",
       "            console.log(\"Bokeh: all BokehJS libraries loaded\");\n",
       "            run_callbacks()\n",
       "          }\n",
       "        };\n",
       "        s.onerror = function() {\n",
       "          console.warn(\"failed to load library \" + url);\n",
       "        };\n",
       "        console.log(\"Bokeh: injecting script tag for BokehJS library: \", url);\n",
       "        document.getElementsByTagName(\"head\")[0].appendChild(s);\n",
       "      }\n",
       "    };var element = document.getElementById(\"d20be682-3c61-465a-bd5f-630295445290\");\n",
       "    if (element == null) {\n",
       "      console.log(\"Bokeh: ERROR: autoload.js configured with elementid 'd20be682-3c61-465a-bd5f-630295445290' but no matching script tag was found. \")\n",
       "      return false;\n",
       "    }\n",
       "  \n",
       "    var js_urls = [];\n",
       "  \n",
       "    var inline_js = [\n",
       "      function(Bokeh) {\n",
       "        (function() {\n",
       "          var fn = function() {\n",
       "            var docs_json = {\"6862f82c-2f48-4ad5-9d5b-a7a235e3e956\":{\"roots\":{\"references\":[{\"attributes\":{\"callback\":null,\"column_names\":[\"values\",\"Arch\",\"level\",\"end\",\"outers\",\"start\",\"color\",\"centers\",\"inners\"],\"data\":{\"Arch\":[\"A1\",\"A2\",\"A3\"],\"centers\":[1.125,1.125,1.125],\"color\":[\"#f22c40\",\"#5ab738\",\"#407ee7\"],\"end\":[4.757783049918663,5.515083043618101,6.283185307179586],\"inners\":[0.0,0.0,0.0],\"level\":[0.0,0.0,0.0],\"outers\":[1.5,1.5,1.5],\"start\":[0.0,4.757783049918663,5.515083043618101],\"values\":[14.027309120000004,2.2327376,2.26458579]}},\"id\":\"9c0d9836-0749-41ce-87c1-01d524dddd1d\",\"type\":\"ColumnDataSource\"},{\"attributes\":{},\"id\":\"baf98705-df1d-45a0-8c42-f6b9e1c37a0f\",\"type\":\"BasicTickFormatter\"},{\"attributes\":{\"below\":[{\"id\":\"87672df2-ffdd-4596-bf73-213dfa0ecf51\",\"type\":\"LinearAxis\"}],\"css_classes\":null,\"left\":[{\"id\":\"74670ec9-3ff8-4ac2-bd29-61021e6dd13c\",\"type\":\"LinearAxis\"}],\"plot_height\":400,\"plot_width\":400,\"renderers\":[{\"id\":\"6594b563-c709-49bb-bfbe-de3fc7bfa425\",\"type\":\"BoxAnnotation\"},{\"id\":\"68ccb71e-b708-4918-876e-0c5b9f7fe0df\",\"type\":\"GlyphRenderer\"},{\"id\":\"26b50fc3-84a2-41a4-9955-82afa1419548\",\"type\":\"GlyphRenderer\"},{\"id\":\"2c95cdbd-555d-4961-a9e4-07063ab35d12\",\"type\":\"Legend\"},{\"id\":\"87672df2-ffdd-4596-bf73-213dfa0ecf51\",\"type\":\"LinearAxis\"},{\"id\":\"74670ec9-3ff8-4ac2-bd29-61021e6dd13c\",\"type\":\"LinearAxis\"}],\"title\":{\"id\":\"d668db03-e589-424c-bb21-42e50f61102b\",\"type\":\"Title\"},\"tool_events\":{\"id\":\"e3081a0d-e844-43bf-96b3-c39cc3ebd1c3\",\"type\":\"ToolEvents\"},\"toolbar\":{\"id\":\"54e56b3e-811c-492c-a582-515c51e0d694\",\"type\":\"Toolbar\"},\"x_mapper_type\":\"auto\",\"x_range\":{\"id\":\"760c281d-e1c8-4b66-a58c-8c217cffbc40\",\"type\":\"Range1d\"},\"y_mapper_type\":\"auto\",\"y_range\":{\"id\":\"ed0aaf85-953b-440c-8835-09b937e3c8b5\",\"type\":\"Range1d\"}},\"id\":\"a3564eed-61dc-4ea5-8eb1-bf1a01874422\",\"subtype\":\"Chart\",\"type\":\"Plot\"},{\"attributes\":{},\"id\":\"1fb447bc-47a1-49d4-ab88-95053cba7995\",\"type\":\"BasicTickFormatter\"},{\"attributes\":{\"callback\":null,\"end\":1.6500000000000001,\"start\":-1.6500000000000001},\"id\":\"ed0aaf85-953b-440c-8835-09b937e3c8b5\",\"type\":\"Range1d\"},{\"attributes\":{\"active_drag\":\"auto\",\"active_scroll\":\"auto\",\"active_tap\":\"auto\",\"tools\":[{\"id\":\"5a28fd06-d08c-4517-9603-36a17f9ac93f\",\"type\":\"PanTool\"},{\"id\":\"7cd1beeb-5a94-464b-b33d-a10d10f16238\",\"type\":\"WheelZoomTool\"},{\"id\":\"526cd7e3-774a-427e-976f-24546eaa7c8e\",\"type\":\"BoxZoomTool\"},{\"id\":\"2e11dc16-cc11-4e15-92f1-3c492bed2763\",\"type\":\"SaveTool\"},{\"id\":\"84babc1b-59d2-4126-8de9-1315c78534c1\",\"type\":\"ResetTool\"},{\"id\":\"122d812f-3f47-4f5e-9f0d-4870fbfb9aab\",\"type\":\"HelpTool\"}]},\"id\":\"54e56b3e-811c-492c-a582-515c51e0d694\",\"type\":\"Toolbar\"},{\"attributes\":{\"data_source\":{\"id\":\"9c0d9836-0749-41ce-87c1-01d524dddd1d\",\"type\":\"ColumnDataSource\"},\"glyph\":{\"id\":\"213ec1bb-5baa-4ade-ac0f-2d137fbb7112\",\"type\":\"AnnularWedge\"},\"hover_glyph\":null,\"nonselection_glyph\":null,\"selection_glyph\":null},\"id\":\"68ccb71e-b708-4918-876e-0c5b9f7fe0df\",\"type\":\"GlyphRenderer\"},{\"attributes\":{\"callback\":null,\"column_names\":[\"y\",\"text_angle\",\"text\",\"x\"],\"data\":{\"text\":[\"A1\",\"A2\",\"A3\"],\"text_angle\":{\"__ndarray__\":\"AAAAAAAAAAAAAAAAAAAAAAAAAAAAAAAA\",\"dtype\":\"float64\",\"shape\":[3]},\"x\":[-0.8133440662454757,0.46288091355103206,1.043048667968047],\"y\":[0.7772364054155436,-1.0253615264238083,-0.4215145030127466]}},\"id\":\"13298a6d-25e7-4256-812f-37ee27ea4836\",\"type\":\"ColumnDataSource\"},{\"attributes\":{\"axis_label\":null,\"formatter\":{\"id\":\"1fb447bc-47a1-49d4-ab88-95053cba7995\",\"type\":\"BasicTickFormatter\"},\"plot\":{\"id\":\"a3564eed-61dc-4ea5-8eb1-bf1a01874422\",\"subtype\":\"Chart\",\"type\":\"Plot\"},\"ticker\":{\"id\":\"646e9e6a-f522-4fcd-a9da-3c47bdad654f\",\"type\":\"BasicTicker\"},\"visible\":false},\"id\":\"74670ec9-3ff8-4ac2-bd29-61021e6dd13c\",\"type\":\"LinearAxis\"},{\"attributes\":{},\"id\":\"e3081a0d-e844-43bf-96b3-c39cc3ebd1c3\",\"type\":\"ToolEvents\"},{\"attributes\":{\"axis_label\":null,\"formatter\":{\"id\":\"baf98705-df1d-45a0-8c42-f6b9e1c37a0f\",\"type\":\"BasicTickFormatter\"},\"plot\":{\"id\":\"a3564eed-61dc-4ea5-8eb1-bf1a01874422\",\"subtype\":\"Chart\",\"type\":\"Plot\"},\"ticker\":{\"id\":\"ba0280ff-b8b9-40cf-89b7-e54b1cc7b02b\",\"type\":\"BasicTicker\"},\"visible\":false},\"id\":\"87672df2-ffdd-4596-bf73-213dfa0ecf51\",\"type\":\"LinearAxis\"},{\"attributes\":{\"plot\":{\"id\":\"a3564eed-61dc-4ea5-8eb1-bf1a01874422\",\"subtype\":\"Chart\",\"type\":\"Plot\"}},\"id\":\"2e11dc16-cc11-4e15-92f1-3c492bed2763\",\"type\":\"SaveTool\"},{\"attributes\":{\"end_angle\":{\"field\":\"end\",\"units\":\"rad\"},\"fill_alpha\":{\"value\":0.8},\"fill_color\":{\"field\":\"color\"},\"inner_radius\":{\"field\":\"inners\",\"units\":\"data\"},\"line_color\":{\"value\":\"White\"},\"outer_radius\":{\"field\":\"outers\",\"units\":\"data\"},\"start_angle\":{\"field\":\"start\",\"units\":\"rad\"},\"x\":{\"value\":0},\"y\":{\"value\":0}},\"id\":\"213ec1bb-5baa-4ade-ac0f-2d137fbb7112\",\"type\":\"AnnularWedge\"},{\"attributes\":{\"plot\":{\"id\":\"a3564eed-61dc-4ea5-8eb1-bf1a01874422\",\"subtype\":\"Chart\",\"type\":\"Plot\"}},\"id\":\"122d812f-3f47-4f5e-9f0d-4870fbfb9aab\",\"type\":\"HelpTool\"},{\"attributes\":{\"data_source\":{\"id\":\"13298a6d-25e7-4256-812f-37ee27ea4836\",\"type\":\"ColumnDataSource\"},\"glyph\":{\"id\":\"b7a96947-f61d-459a-988a-b6729ffa8c0d\",\"type\":\"Text\"},\"hover_glyph\":null,\"nonselection_glyph\":null,\"selection_glyph\":null},\"id\":\"26b50fc3-84a2-41a4-9955-82afa1419548\",\"type\":\"GlyphRenderer\"},{\"attributes\":{\"callback\":null,\"end\":1.6500000000000001,\"start\":-1.6500000000000001},\"id\":\"760c281d-e1c8-4b66-a58c-8c217cffbc40\",\"type\":\"Range1d\"},{\"attributes\":{\"plot\":null,\"text\":\"Total AWS Cost per Architecture\"},\"id\":\"d668db03-e589-424c-bb21-42e50f61102b\",\"type\":\"Title\"},{\"attributes\":{\"plot\":{\"id\":\"a3564eed-61dc-4ea5-8eb1-bf1a01874422\",\"subtype\":\"Chart\",\"type\":\"Plot\"}},\"id\":\"84babc1b-59d2-4126-8de9-1315c78534c1\",\"type\":\"ResetTool\"},{\"attributes\":{\"overlay\":{\"id\":\"6594b563-c709-49bb-bfbe-de3fc7bfa425\",\"type\":\"BoxAnnotation\"},\"plot\":{\"id\":\"a3564eed-61dc-4ea5-8eb1-bf1a01874422\",\"subtype\":\"Chart\",\"type\":\"Plot\"}},\"id\":\"526cd7e3-774a-427e-976f-24546eaa7c8e\",\"type\":\"BoxZoomTool\"},{\"attributes\":{\"location\":\"top_left\",\"plot\":{\"id\":\"a3564eed-61dc-4ea5-8eb1-bf1a01874422\",\"subtype\":\"Chart\",\"type\":\"Plot\"}},\"id\":\"2c95cdbd-555d-4961-a9e4-07063ab35d12\",\"type\":\"Legend\"},{\"attributes\":{\"plot\":{\"id\":\"a3564eed-61dc-4ea5-8eb1-bf1a01874422\",\"subtype\":\"Chart\",\"type\":\"Plot\"}},\"id\":\"7cd1beeb-5a94-464b-b33d-a10d10f16238\",\"type\":\"WheelZoomTool\"},{\"attributes\":{\"bottom_units\":\"screen\",\"fill_alpha\":{\"value\":0.5},\"fill_color\":{\"value\":\"lightgrey\"},\"left_units\":\"screen\",\"level\":\"overlay\",\"line_alpha\":{\"value\":1.0},\"line_color\":{\"value\":\"black\"},\"line_dash\":[4,4],\"line_width\":{\"value\":2},\"plot\":null,\"render_mode\":\"css\",\"right_units\":\"screen\",\"top_units\":\"screen\"},\"id\":\"6594b563-c709-49bb-bfbe-de3fc7bfa425\",\"type\":\"BoxAnnotation\"},{\"attributes\":{\"plot\":{\"id\":\"a3564eed-61dc-4ea5-8eb1-bf1a01874422\",\"subtype\":\"Chart\",\"type\":\"Plot\"}},\"id\":\"5a28fd06-d08c-4517-9603-36a17f9ac93f\",\"type\":\"PanTool\"},{\"attributes\":{},\"id\":\"646e9e6a-f522-4fcd-a9da-3c47bdad654f\",\"type\":\"BasicTicker\"},{\"attributes\":{\"angle\":{\"field\":\"text_angle\",\"units\":\"rad\"},\"text_align\":\"center\",\"text_baseline\":\"middle\",\"text_font_size\":{\"value\":\"10pt\"},\"x\":{\"field\":\"x\"},\"y\":{\"field\":\"y\"}},\"id\":\"b7a96947-f61d-459a-988a-b6729ffa8c0d\",\"type\":\"Text\"},{\"attributes\":{},\"id\":\"ba0280ff-b8b9-40cf-89b7-e54b1cc7b02b\",\"type\":\"BasicTicker\"}],\"root_ids\":[\"a3564eed-61dc-4ea5-8eb1-bf1a01874422\"]},\"title\":\"Bokeh Application\",\"version\":\"0.12.4\"}};\n",
       "            var render_items = [{\"docid\":\"6862f82c-2f48-4ad5-9d5b-a7a235e3e956\",\"elementid\":\"d20be682-3c61-465a-bd5f-630295445290\",\"modelid\":\"a3564eed-61dc-4ea5-8eb1-bf1a01874422\"}];\n",
       "            \n",
       "            Bokeh.embed.embed_items(docs_json, render_items);\n",
       "          };\n",
       "          if (document.readyState != \"loading\") fn();\n",
       "          else document.addEventListener(\"DOMContentLoaded\", fn);\n",
       "        })();\n",
       "      },\n",
       "      function(Bokeh) {\n",
       "      }\n",
       "    ];\n",
       "  \n",
       "    function run_inline_js() {\n",
       "      \n",
       "      if ((window.Bokeh !== undefined) || (force === true)) {\n",
       "        for (var i = 0; i < inline_js.length; i++) {\n",
       "          inline_js[i](window.Bokeh);\n",
       "        }if (force === true) {\n",
       "          display_loaded();\n",
       "        }} else if (Date.now() < window._bokeh_timeout) {\n",
       "        setTimeout(run_inline_js, 100);\n",
       "      } else if (!window._bokeh_failed_load) {\n",
       "        console.log(\"Bokeh: BokehJS failed to load within specified timeout.\");\n",
       "        window._bokeh_failed_load = true;\n",
       "      } else if (force !== true) {\n",
       "        var cell = $(document.getElementById(\"d20be682-3c61-465a-bd5f-630295445290\")).parents('.cell').data().cell;\n",
       "        cell.output_area.append_execute_result(NB_LOAD_WARNING)\n",
       "      }\n",
       "  \n",
       "    }\n",
       "  \n",
       "    if (window._bokeh_is_loading === 0) {\n",
       "      console.log(\"Bokeh: BokehJS loaded, going straight to plotting\");\n",
       "      run_inline_js();\n",
       "    } else {\n",
       "      load_libs(js_urls, function() {\n",
       "        console.log(\"Bokeh: BokehJS plotting callback run at\", now());\n",
       "        run_inline_js();\n",
       "      });\n",
       "    }\n",
       "  }(this));\n",
       "</script>"
      ]
     },
     "metadata": {},
     "output_type": "display_data"
    }
   ],
   "source": [
    "f = Donut(tot_cost, title='Total AWS Cost per Architecture')\n",
    "show(f)"
   ]
  },
  {
   "cell_type": "markdown",
   "metadata": {},
   "source": [
    "Total cost as a percentage of the total's total:"
   ]
  },
  {
   "cell_type": "code",
   "execution_count": 17,
   "metadata": {
    "collapsed": false
   },
   "outputs": [
    {
     "data": {
      "text/plain": [
       "Arch\n",
       "A1    75.722469\n",
       "A2    12.052804\n",
       "A3    12.224727\n",
       "Name: lineItem/BlendedCost, dtype: float64"
      ]
     },
     "execution_count": 17,
     "metadata": {},
     "output_type": "execute_result"
    }
   ],
   "source": [
    "100 * tot_cost/tot_cost.sum()"
   ]
  },
  {
   "cell_type": "markdown",
   "metadata": {},
   "source": [
    "Cost percentage change when compared to Architecture \\#1:"
   ]
  },
  {
   "cell_type": "code",
   "execution_count": 18,
   "metadata": {
    "collapsed": false
   },
   "outputs": [
    {
     "data": {
      "text/plain": [
       "Arch\n",
       "A1     0.000000\n",
       "A2   -84.082923\n",
       "A3   -83.855879\n",
       "Name: lineItem/BlendedCost, dtype: float64"
      ]
     },
     "execution_count": 18,
     "metadata": {},
     "output_type": "execute_result"
    }
   ],
   "source": [
    "percent_change(tot_cost['A1'], tot_cost)"
   ]
  },
  {
   "cell_type": "markdown",
   "metadata": {},
   "source": [
    "Group the data by architecture, AWS service, and AWS service's operation:"
   ]
  },
  {
   "cell_type": "code",
   "execution_count": 19,
   "metadata": {
    "collapsed": true
   },
   "outputs": [],
   "source": [
    "grp = r.groupby(['Arch', 'lineItem/ProductCode', 'lineItem/UsageType', 'lineItem/Operation'])"
   ]
  },
  {
   "cell_type": "markdown",
   "metadata": {},
   "source": [
    "#### Blended Costs"
   ]
  },
  {
   "cell_type": "markdown",
   "metadata": {},
   "source": [
    "Blended cost totals per the above groups:"
   ]
  },
  {
   "cell_type": "code",
   "execution_count": 20,
   "metadata": {
    "collapsed": false
   },
   "outputs": [
    {
     "data": {
      "text/plain": [
       "Arch  lineItem/ProductCode  lineItem/UsageType           lineItem/Operation\n",
       "A1    AmazonEC2             BoxUsage:m4.xlarge           RunInstances          1.268500e+01\n",
       "                            DataTransfer-In-Bytes        RunInstances          0.000000e+00\n",
       "                            DataTransfer-Out-Bytes       RunInstances          0.000000e+00\n",
       "                            DataTransfer-Regional-Bytes  PublicIP-In           0.000000e+00\n",
       "                                                         PublicIP-Out          8.723100e-04\n",
       "                            EBS:SnapshotUsage            CreateSnapshot        6.504439e-02\n",
       "                            EBS:VolumeUsage.gp2          CreateVolume-Gp2      8.214284e-01\n",
       "                            EBSOptimized:m4.xlarge       Hourly                0.000000e+00\n",
       "      AmazonS3              DataTransfer-Out-Bytes       GetObject             0.000000e+00\n",
       "                            Requests-Tier1               ListBucketVersions    2.751000e-02\n",
       "                                                         PutObject             5.000000e-05\n",
       "                            Requests-Tier2               GetObject             7.883600e-03\n",
       "                                                         HeadBucket            2.576000e-04\n",
       "                                                         ReadACL               1.600000e-06\n",
       "                            TimedStorage-ByteHrs         StandardStorage       3.767701e-01\n",
       "                            USE1-USW2-AWS-Out-Bytes      GetObject             2.723400e-04\n",
       "                                                         HeadBucket            5.220000e-06\n",
       "                                                         ListBucketVersions    4.221354e-02\n",
       "      awskms                us-east-1-KMS-Requests       ListAliases           0.000000e+00\n",
       "A2    AmazonEC2             BoxUsage:m4.xlarge           RunInstances          1.720000e+00\n",
       "                            DataTransfer-In-Bytes        RunInstances          0.000000e+00\n",
       "                            DataTransfer-Out-Bytes       RunInstances          0.000000e+00\n",
       "                            DataTransfer-Regional-Bytes  PublicIP-In           0.000000e+00\n",
       "                                                         PublicIP-Out          1.326420e-03\n",
       "                            EBS:VolumeUsage.gp2          CreateVolume-Gp2      1.130952e-01\n",
       "                            EBSOptimized:m4.xlarge       Hourly                0.000000e+00\n",
       "      AmazonS3              Requests-Tier1               ListBucketVersions    2.565000e-03\n",
       "                            Requests-Tier2               GetObject             1.486080e-02\n",
       "                                                         HeadBucket            2.480000e-05\n",
       "                            TimedStorage-ByteHrs         StandardStorage       3.767822e-01\n",
       "                            USE1-USW2-AWS-Out-Bytes      GetObject             1.336600e-04\n",
       "                                                         HeadBucket            5.100000e-07\n",
       "                                                         ListBucketVersions    3.948970e-03\n",
       "A3    AmazonEC2             BoxUsage:m4.xlarge           RunInstances          1.720000e+00\n",
       "                            DataTransfer-In-Bytes        RunInstances          0.000000e+00\n",
       "                            DataTransfer-Out-Bytes       RunInstances          0.000000e+00\n",
       "                            DataTransfer-Regional-Bytes  PublicIP-In           1.326290e-03\n",
       "                                                         PublicIP-Out          1.326290e-03\n",
       "                            EBS:VolumeUsage.gp2          CreateVolume-Gp2      1.428571e-01\n",
       "                            EBSOptimized:m4.xlarge       Hourly                0.000000e+00\n",
       "                            USE1-USW2-AWS-In-Bytes       PublicIP-In           0.000000e+00\n",
       "                            USE1-USW2-AWS-Out-Bytes      PublicIP-Out          0.000000e+00\n",
       "      AmazonS3              Requests-Tier1               ListBucketVersions    3.265000e-03\n",
       "                            Requests-Tier2               GetObject             1.383680e-02\n",
       "                                                         HeadBucket            2.360000e-05\n",
       "                            TimedStorage-ByteHrs         StandardStorage       3.768043e-01\n",
       "                            USE1-USW2-AWS-Out-Bytes      GetObject             1.241300e-04\n",
       "                                                         HeadBucket            4.800000e-07\n",
       "                                                         ListBucketVersions    5.021760e-03\n",
       "Name: lineItem/BlendedCost, dtype: float64"
      ]
     },
     "execution_count": 20,
     "metadata": {},
     "output_type": "execute_result"
    }
   ],
   "source": [
    "blend_cost = grp['lineItem/BlendedCost'].sum()\n",
    "blend_cost"
   ]
  },
  {
   "cell_type": "markdown",
   "metadata": {},
   "source": [
    "Remove the zero costs for easier calculations later:"
   ]
  },
  {
   "cell_type": "code",
   "execution_count": 21,
   "metadata": {
    "collapsed": true
   },
   "outputs": [],
   "source": [
    "blend_cost = blend_cost[blend_cost != 0]"
   ]
  },
  {
   "cell_type": "code",
   "execution_count": 22,
   "metadata": {
    "collapsed": false
   },
   "outputs": [
    {
     "data": {
      "text/html": [
       "\n",
       "\n",
       "    <div class=\"bk-root\">\n",
       "        <div class=\"bk-plotdiv\" id=\"762b5547-03c3-4e32-930f-d27d3fb8cf3e\"></div>\n",
       "    </div>\n",
       "<script type=\"text/javascript\">\n",
       "  \n",
       "  (function(global) {\n",
       "    function now() {\n",
       "      return new Date();\n",
       "    }\n",
       "  \n",
       "    var force = false;\n",
       "  \n",
       "    if (typeof (window._bokeh_onload_callbacks) === \"undefined\" || force === true) {\n",
       "      window._bokeh_onload_callbacks = [];\n",
       "      window._bokeh_is_loading = undefined;\n",
       "    }\n",
       "  \n",
       "  \n",
       "    \n",
       "    if (typeof (window._bokeh_timeout) === \"undefined\" || force === true) {\n",
       "      window._bokeh_timeout = Date.now() + 0;\n",
       "      window._bokeh_failed_load = false;\n",
       "    }\n",
       "  \n",
       "    var NB_LOAD_WARNING = {'data': {'text/html':\n",
       "       \"<div style='background-color: #fdd'>\\n\"+\n",
       "       \"<p>\\n\"+\n",
       "       \"BokehJS does not appear to have successfully loaded. If loading BokehJS from CDN, this \\n\"+\n",
       "       \"may be due to a slow or bad network connection. Possible fixes:\\n\"+\n",
       "       \"</p>\\n\"+\n",
       "       \"<ul>\\n\"+\n",
       "       \"<li>re-rerun `output_notebook()` to attempt to load from CDN again, or</li>\\n\"+\n",
       "       \"<li>use INLINE resources instead, as so:</li>\\n\"+\n",
       "       \"</ul>\\n\"+\n",
       "       \"<code>\\n\"+\n",
       "       \"from bokeh.resources import INLINE\\n\"+\n",
       "       \"output_notebook(resources=INLINE)\\n\"+\n",
       "       \"</code>\\n\"+\n",
       "       \"</div>\"}};\n",
       "  \n",
       "    function display_loaded() {\n",
       "      if (window.Bokeh !== undefined) {\n",
       "        document.getElementById(\"762b5547-03c3-4e32-930f-d27d3fb8cf3e\").textContent = \"BokehJS successfully loaded.\";\n",
       "      } else if (Date.now() < window._bokeh_timeout) {\n",
       "        setTimeout(display_loaded, 100)\n",
       "      }\n",
       "    }\n",
       "  \n",
       "    function run_callbacks() {\n",
       "      window._bokeh_onload_callbacks.forEach(function(callback) { callback() });\n",
       "      delete window._bokeh_onload_callbacks\n",
       "      console.info(\"Bokeh: all callbacks have finished\");\n",
       "    }\n",
       "  \n",
       "    function load_libs(js_urls, callback) {\n",
       "      window._bokeh_onload_callbacks.push(callback);\n",
       "      if (window._bokeh_is_loading > 0) {\n",
       "        console.log(\"Bokeh: BokehJS is being loaded, scheduling callback at\", now());\n",
       "        return null;\n",
       "      }\n",
       "      if (js_urls == null || js_urls.length === 0) {\n",
       "        run_callbacks();\n",
       "        return null;\n",
       "      }\n",
       "      console.log(\"Bokeh: BokehJS not loaded, scheduling load and callback at\", now());\n",
       "      window._bokeh_is_loading = js_urls.length;\n",
       "      for (var i = 0; i < js_urls.length; i++) {\n",
       "        var url = js_urls[i];\n",
       "        var s = document.createElement('script');\n",
       "        s.src = url;\n",
       "        s.async = false;\n",
       "        s.onreadystatechange = s.onload = function() {\n",
       "          window._bokeh_is_loading--;\n",
       "          if (window._bokeh_is_loading === 0) {\n",
       "            console.log(\"Bokeh: all BokehJS libraries loaded\");\n",
       "            run_callbacks()\n",
       "          }\n",
       "        };\n",
       "        s.onerror = function() {\n",
       "          console.warn(\"failed to load library \" + url);\n",
       "        };\n",
       "        console.log(\"Bokeh: injecting script tag for BokehJS library: \", url);\n",
       "        document.getElementsByTagName(\"head\")[0].appendChild(s);\n",
       "      }\n",
       "    };var element = document.getElementById(\"762b5547-03c3-4e32-930f-d27d3fb8cf3e\");\n",
       "    if (element == null) {\n",
       "      console.log(\"Bokeh: ERROR: autoload.js configured with elementid '762b5547-03c3-4e32-930f-d27d3fb8cf3e' but no matching script tag was found. \")\n",
       "      return false;\n",
       "    }\n",
       "  \n",
       "    var js_urls = [];\n",
       "  \n",
       "    var inline_js = [\n",
       "      function(Bokeh) {\n",
       "        (function() {\n",
       "          var fn = function() {\n",
       "            var docs_json = {\"3e7a955d-3700-4a21-84f6-a4cb319379d6\":{\"roots\":{\"references\":[{\"attributes\":{\"bottom_units\":\"screen\",\"fill_alpha\":{\"value\":0.5},\"fill_color\":{\"value\":\"lightgrey\"},\"left_units\":\"screen\",\"level\":\"overlay\",\"line_alpha\":{\"value\":1.0},\"line_color\":{\"value\":\"black\"},\"line_dash\":[4,4],\"line_width\":{\"value\":2},\"plot\":null,\"render_mode\":\"css\",\"right_units\":\"screen\",\"top_units\":\"screen\"},\"id\":\"e72d13bb-1568-486c-9d56-3c07366affd3\",\"type\":\"BoxAnnotation\"},{\"attributes\":{\"below\":[{\"id\":\"453882f3-e051-4f30-be4c-5cd3d8831d88\",\"type\":\"LinearAxis\"}],\"css_classes\":null,\"left\":[{\"id\":\"952fe96c-6c30-4c6d-99bc-3c994e45dfbd\",\"type\":\"LinearAxis\"}],\"plot_height\":400,\"plot_width\":400,\"renderers\":[{\"id\":\"e72d13bb-1568-486c-9d56-3c07366affd3\",\"type\":\"BoxAnnotation\"},{\"id\":\"88dfdc8e-c029-498e-94fb-6a47d6256ffe\",\"type\":\"GlyphRenderer\"},{\"id\":\"fab054b4-72f3-409d-9b2b-cc26c0ee9ce9\",\"type\":\"GlyphRenderer\"},{\"id\":\"d53c4ac9-848a-47ca-a3fa-2b765a8d0482\",\"type\":\"Legend\"},{\"id\":\"453882f3-e051-4f30-be4c-5cd3d8831d88\",\"type\":\"LinearAxis\"},{\"id\":\"952fe96c-6c30-4c6d-99bc-3c994e45dfbd\",\"type\":\"LinearAxis\"}],\"title\":{\"id\":\"ca2c87db-941b-4554-a4f1-f2a4984c454a\",\"type\":\"Title\"},\"tool_events\":{\"id\":\"1867286d-4e7b-4a96-937e-141c8d5d5016\",\"type\":\"ToolEvents\"},\"toolbar\":{\"id\":\"500eebde-664a-4701-9002-ee7887b15ad1\",\"type\":\"Toolbar\"},\"x_mapper_type\":\"auto\",\"x_range\":{\"id\":\"6808eff9-59fc-49d3-83b7-06232f6c0ce0\",\"type\":\"Range1d\"},\"y_mapper_type\":\"auto\",\"y_range\":{\"id\":\"cb01d9e9-62df-4e5f-a942-d5494045233b\",\"type\":\"Range1d\"}},\"id\":\"4a0a5640-9a96-428a-8f0b-59db120ee2ab\",\"subtype\":\"Chart\",\"type\":\"Plot\"},{\"attributes\":{},\"id\":\"4cdb8c75-a442-45bd-9141-33bf8158d8f5\",\"type\":\"BasicTicker\"},{\"attributes\":{\"plot\":{\"id\":\"4a0a5640-9a96-428a-8f0b-59db120ee2ab\",\"subtype\":\"Chart\",\"type\":\"Plot\"}},\"id\":\"f68f84f4-e8b7-4bce-920e-1b1d82cb8ae4\",\"type\":\"HelpTool\"},{\"attributes\":{},\"id\":\"1867286d-4e7b-4a96-937e-141c8d5d5016\",\"type\":\"ToolEvents\"},{\"attributes\":{\"plot\":{\"id\":\"4a0a5640-9a96-428a-8f0b-59db120ee2ab\",\"subtype\":\"Chart\",\"type\":\"Plot\"}},\"id\":\"d45ae0c5-8e23-4825-8cc0-e755bdf85c3a\",\"type\":\"SaveTool\"},{\"attributes\":{},\"id\":\"0aadc02e-340e-41d3-b91b-d47587139b5f\",\"type\":\"BasicTicker\"},{\"attributes\":{\"location\":\"top_left\",\"plot\":{\"id\":\"4a0a5640-9a96-428a-8f0b-59db120ee2ab\",\"subtype\":\"Chart\",\"type\":\"Plot\"}},\"id\":\"d53c4ac9-848a-47ca-a3fa-2b765a8d0482\",\"type\":\"Legend\"},{\"attributes\":{\"data_source\":{\"id\":\"a1e0fc8d-b41f-47f1-85ba-81215bb1a91c\",\"type\":\"ColumnDataSource\"},\"glyph\":{\"id\":\"448c21e5-ef36-4514-962b-ffeb5017f869\",\"type\":\"AnnularWedge\"},\"hover_glyph\":null,\"nonselection_glyph\":null,\"selection_glyph\":null},\"id\":\"88dfdc8e-c029-498e-94fb-6a47d6256ffe\",\"type\":\"GlyphRenderer\"},{\"attributes\":{\"callback\":null,\"end\":3.1500000000000004,\"start\":-3.1500000000000004},\"id\":\"6808eff9-59fc-49d3-83b7-06232f6c0ce0\",\"type\":\"Range1d\"},{\"attributes\":{\"plot\":{\"id\":\"4a0a5640-9a96-428a-8f0b-59db120ee2ab\",\"subtype\":\"Chart\",\"type\":\"Plot\"}},\"id\":\"a0aff1b0-4ab9-4544-a787-459e5713368c\",\"type\":\"WheelZoomTool\"},{\"attributes\":{\"end_angle\":{\"field\":\"end\",\"units\":\"rad\"},\"fill_alpha\":{\"value\":0.8},\"fill_color\":{\"field\":\"color\"},\"inner_radius\":{\"field\":\"inners\",\"units\":\"data\"},\"line_color\":{\"value\":\"White\"},\"outer_radius\":{\"field\":\"outers\",\"units\":\"data\"},\"start_angle\":{\"field\":\"start\",\"units\":\"rad\"},\"x\":{\"value\":0},\"y\":{\"value\":0}},\"id\":\"448c21e5-ef36-4514-962b-ffeb5017f869\",\"type\":\"AnnularWedge\"},{\"attributes\":{\"callback\":null,\"column_names\":[\"y\",\"text_angle\",\"text\",\"x\"],\"data\":{\"text\":[\"BoxUsage:m4.xlarge\",\"RunInstances\",\"DataTransfer-Regional-Bytes\",\"PublicIP-Out\",\"EBS:SnapshotUsage\",\"CreateSnapshot\",\"EBS:VolumeUsage.gp2\",\"CreateVolume-Gp2\"],\"text_angle\":{\"__ndarray__\":\"AAAAAAAAAAB+H5uMqE8YQAAAAAAAAAAA3Fols4p9F0AAAAAAAAAAAOo0Rm0qjRdAAAAAAAAAAACK+btGSF8YQA==\",\"dtype\":\"float64\",\"shape\":[8]},\"x\":[-1.1013533126691328,-2.2027066253382657,1.0314980115954273,2.0629960231908546,1.038229020243875,2.07645804048775,1.104725825402066,2.209451650804132],\"y\":[0.22944690164115789,0.45889380328231577,-0.44903992258448416,-0.8980798451689683,-0.4332499296288957,-0.8664998592577914,-0.21261667547425328,-0.42523335094850656]}},\"id\":\"232347b2-df98-4e7b-88ae-b09b532df9c8\",\"type\":\"ColumnDataSource\"},{\"attributes\":{\"callback\":null,\"column_names\":[\"values\",\"level\",\"end\",\"outers\",\"start\",\"color\",\"centers\",\"inners\",\"lineItem/UsageType_lineItem/Operation\"],\"data\":{\"centers\":[1.125,2.25,1.125,2.25,1.125,2.25,1.125,2.25],\"color\":[\"#f22c40\",\"#f22c40\",\"#5ab738\",\"#5ab738\",\"#407ee7\",\"#407ee7\",\"#df5320\",\"#df5320\"],\"end\":[5.872397496485493,5.872397496485493,5.872801323924213,5.872801323924213,5.902912992272374,5.902912992272374,6.283185307179586,6.283185307179586],\"inners\":[0.0,1.5,0.0,1.5,0.0,1.5,0.0,1.5],\"level\":[0.0,1.0,0.0,1.0,0.0,1.0,0.0,1.0],\"lineItem/UsageType_lineItem/Operation\":[[\"BoxUsage:m4.xlarge\",\"\"],[\"BoxUsage:m4.xlarge\",\"RunInstances\"],[\"DataTransfer-Regional-Bytes\",\"\"],[\"DataTransfer-Regional-Bytes\",\"PublicIP-Out\"],[\"EBS:SnapshotUsage\",\"\"],[\"EBS:SnapshotUsage\",\"CreateSnapshot\"],[\"EBS:VolumeUsage.gp2\",\"\"],[\"EBS:VolumeUsage.gp2\",\"CreateVolume-Gp2\"]],\"outers\":[1.5,3.0,1.5,3.0,1.5,3.0,1.5,3.0],\"start\":[0.0,0.0,5.872397496485493,5.872397496485493,5.872801323924213,5.872801323924213,5.902912992272374,5.902912992272374],\"values\":[12.684999999999993,12.684999999999993,0.0008723100000000002,0.0008723100000000002,0.06504439,0.06504439,0.82142844,0.82142844]}},\"id\":\"a1e0fc8d-b41f-47f1-85ba-81215bb1a91c\",\"type\":\"ColumnDataSource\"},{\"attributes\":{\"plot\":{\"id\":\"4a0a5640-9a96-428a-8f0b-59db120ee2ab\",\"subtype\":\"Chart\",\"type\":\"Plot\"}},\"id\":\"9245e227-d1a3-441c-8843-cfec827040fd\",\"type\":\"PanTool\"},{\"attributes\":{\"overlay\":{\"id\":\"e72d13bb-1568-486c-9d56-3c07366affd3\",\"type\":\"BoxAnnotation\"},\"plot\":{\"id\":\"4a0a5640-9a96-428a-8f0b-59db120ee2ab\",\"subtype\":\"Chart\",\"type\":\"Plot\"}},\"id\":\"0bbeb3e6-56c4-45de-ad19-784bd6d0f50f\",\"type\":\"BoxZoomTool\"},{\"attributes\":{\"callback\":null,\"end\":3.1500000000000004,\"start\":-3.1500000000000004},\"id\":\"cb01d9e9-62df-4e5f-a942-d5494045233b\",\"type\":\"Range1d\"},{\"attributes\":{\"plot\":null,\"text\":\"Cloudydap AWS Cost Breakdown for Architecture #1\"},\"id\":\"ca2c87db-941b-4554-a4f1-f2a4984c454a\",\"type\":\"Title\"},{\"attributes\":{\"axis_label\":null,\"formatter\":{\"id\":\"88548d14-4f48-4277-a131-4cc76795f76f\",\"type\":\"BasicTickFormatter\"},\"plot\":{\"id\":\"4a0a5640-9a96-428a-8f0b-59db120ee2ab\",\"subtype\":\"Chart\",\"type\":\"Plot\"},\"ticker\":{\"id\":\"0aadc02e-340e-41d3-b91b-d47587139b5f\",\"type\":\"BasicTicker\"},\"visible\":false},\"id\":\"952fe96c-6c30-4c6d-99bc-3c994e45dfbd\",\"type\":\"LinearAxis\"},{\"attributes\":{\"data_source\":{\"id\":\"232347b2-df98-4e7b-88ae-b09b532df9c8\",\"type\":\"ColumnDataSource\"},\"glyph\":{\"id\":\"3c041f5f-34a8-4bbf-9928-79865ce6c8f9\",\"type\":\"Text\"},\"hover_glyph\":null,\"nonselection_glyph\":null,\"selection_glyph\":null},\"id\":\"fab054b4-72f3-409d-9b2b-cc26c0ee9ce9\",\"type\":\"GlyphRenderer\"},{\"attributes\":{\"plot\":{\"id\":\"4a0a5640-9a96-428a-8f0b-59db120ee2ab\",\"subtype\":\"Chart\",\"type\":\"Plot\"}},\"id\":\"3630f058-1494-4f6f-8504-5f20ba0d29ea\",\"type\":\"ResetTool\"},{\"attributes\":{\"angle\":{\"field\":\"text_angle\",\"units\":\"rad\"},\"text_align\":\"center\",\"text_baseline\":\"middle\",\"text_font_size\":{\"value\":\"10pt\"},\"x\":{\"field\":\"x\"},\"y\":{\"field\":\"y\"}},\"id\":\"3c041f5f-34a8-4bbf-9928-79865ce6c8f9\",\"type\":\"Text\"},{\"attributes\":{\"active_drag\":\"auto\",\"active_scroll\":\"auto\",\"active_tap\":\"auto\",\"tools\":[{\"id\":\"9245e227-d1a3-441c-8843-cfec827040fd\",\"type\":\"PanTool\"},{\"id\":\"a0aff1b0-4ab9-4544-a787-459e5713368c\",\"type\":\"WheelZoomTool\"},{\"id\":\"0bbeb3e6-56c4-45de-ad19-784bd6d0f50f\",\"type\":\"BoxZoomTool\"},{\"id\":\"d45ae0c5-8e23-4825-8cc0-e755bdf85c3a\",\"type\":\"SaveTool\"},{\"id\":\"3630f058-1494-4f6f-8504-5f20ba0d29ea\",\"type\":\"ResetTool\"},{\"id\":\"f68f84f4-e8b7-4bce-920e-1b1d82cb8ae4\",\"type\":\"HelpTool\"}]},\"id\":\"500eebde-664a-4701-9002-ee7887b15ad1\",\"type\":\"Toolbar\"},{\"attributes\":{},\"id\":\"fe18b46d-da10-4c54-bd9e-af96d30012d1\",\"type\":\"BasicTickFormatter\"},{\"attributes\":{},\"id\":\"88548d14-4f48-4277-a131-4cc76795f76f\",\"type\":\"BasicTickFormatter\"},{\"attributes\":{\"axis_label\":null,\"formatter\":{\"id\":\"fe18b46d-da10-4c54-bd9e-af96d30012d1\",\"type\":\"BasicTickFormatter\"},\"plot\":{\"id\":\"4a0a5640-9a96-428a-8f0b-59db120ee2ab\",\"subtype\":\"Chart\",\"type\":\"Plot\"},\"ticker\":{\"id\":\"4cdb8c75-a442-45bd-9141-33bf8158d8f5\",\"type\":\"BasicTicker\"},\"visible\":false},\"id\":\"453882f3-e051-4f30-be4c-5cd3d8831d88\",\"type\":\"LinearAxis\"}],\"root_ids\":[\"4a0a5640-9a96-428a-8f0b-59db120ee2ab\"]},\"title\":\"Bokeh Application\",\"version\":\"0.12.4\"}};\n",
       "            var render_items = [{\"docid\":\"3e7a955d-3700-4a21-84f6-a4cb319379d6\",\"elementid\":\"762b5547-03c3-4e32-930f-d27d3fb8cf3e\",\"modelid\":\"4a0a5640-9a96-428a-8f0b-59db120ee2ab\"}];\n",
       "            \n",
       "            Bokeh.embed.embed_items(docs_json, render_items);\n",
       "          };\n",
       "          if (document.readyState != \"loading\") fn();\n",
       "          else document.addEventListener(\"DOMContentLoaded\", fn);\n",
       "        })();\n",
       "      },\n",
       "      function(Bokeh) {\n",
       "      }\n",
       "    ];\n",
       "  \n",
       "    function run_inline_js() {\n",
       "      \n",
       "      if ((window.Bokeh !== undefined) || (force === true)) {\n",
       "        for (var i = 0; i < inline_js.length; i++) {\n",
       "          inline_js[i](window.Bokeh);\n",
       "        }if (force === true) {\n",
       "          display_loaded();\n",
       "        }} else if (Date.now() < window._bokeh_timeout) {\n",
       "        setTimeout(run_inline_js, 100);\n",
       "      } else if (!window._bokeh_failed_load) {\n",
       "        console.log(\"Bokeh: BokehJS failed to load within specified timeout.\");\n",
       "        window._bokeh_failed_load = true;\n",
       "      } else if (force !== true) {\n",
       "        var cell = $(document.getElementById(\"762b5547-03c3-4e32-930f-d27d3fb8cf3e\")).parents('.cell').data().cell;\n",
       "        cell.output_area.append_execute_result(NB_LOAD_WARNING)\n",
       "      }\n",
       "  \n",
       "    }\n",
       "  \n",
       "    if (window._bokeh_is_loading === 0) {\n",
       "      console.log(\"Bokeh: BokehJS loaded, going straight to plotting\");\n",
       "      run_inline_js();\n",
       "    } else {\n",
       "      load_libs(js_urls, function() {\n",
       "        console.log(\"Bokeh: BokehJS plotting callback run at\", now());\n",
       "        run_inline_js();\n",
       "      });\n",
       "    }\n",
       "  }(this));\n",
       "</script>"
      ]
     },
     "metadata": {},
     "output_type": "display_data"
    }
   ],
   "source": [
    "f = Donut(blend_cost['A1']['AmazonEC2'], title='Cloudydap AWS Cost Breakdown for Architecture #1',\n",
    "          plot_height=400, plot_width=400)\n",
    "show(f)"
   ]
  },
  {
   "cell_type": "markdown",
   "metadata": {},
   "source": [
    "##### Blended Cost Percent Changes between Two Architectures"
   ]
  },
  {
   "cell_type": "markdown",
   "metadata": {},
   "source": [
    "Cost percentage change between Arch. \\#2 and \\#1:"
   ]
  },
  {
   "cell_type": "code",
   "execution_count": 23,
   "metadata": {
    "collapsed": false
   },
   "outputs": [
    {
     "data": {
      "text/plain": [
       "lineItem/ProductCode  lineItem/UsageType           lineItem/Operation\n",
       "AmazonEC2             BoxUsage:m4.xlarge           RunInstances         -86.440678\n",
       "                      DataTransfer-Regional-Bytes  PublicIP-Out          52.058328\n",
       "                      EBS:VolumeUsage.gp2          CreateVolume-Gp2     -86.231884\n",
       "AmazonS3              Requests-Tier1               ListBucketVersions   -90.676118\n",
       "                      Requests-Tier2               GetObject             88.502714\n",
       "                                                   HeadBucket           -90.372671\n",
       "                      TimedStorage-ByteHrs         StandardStorage        0.003222\n",
       "                      USE1-USW2-AWS-Out-Bytes      GetObject            -50.921642\n",
       "                                                   HeadBucket           -90.229885\n",
       "                                                   ListBucketVersions   -90.645253\n",
       "Name: lineItem/BlendedCost, dtype: float64"
      ]
     },
     "execution_count": 23,
     "metadata": {},
     "output_type": "execute_result"
    }
   ],
   "source": [
    "percent_change(blend_cost['A1'], blend_cost['A2'])"
   ]
  },
  {
   "cell_type": "markdown",
   "metadata": {},
   "source": [
    "Cost percentage change between Arch. \\#3 and \\#1:"
   ]
  },
  {
   "cell_type": "code",
   "execution_count": 24,
   "metadata": {
    "collapsed": false
   },
   "outputs": [
    {
     "data": {
      "text/plain": [
       "lineItem/ProductCode  lineItem/UsageType           lineItem/Operation\n",
       "AmazonEC2             BoxUsage:m4.xlarge           RunInstances         -86.440678\n",
       "                      DataTransfer-Regional-Bytes  PublicIP-Out          52.043425\n",
       "                      EBS:VolumeUsage.gp2          CreateVolume-Gp2     -82.608696\n",
       "AmazonS3              Requests-Tier1               ListBucketVersions   -88.131589\n",
       "                      Requests-Tier2               GetObject             75.513725\n",
       "                                                   HeadBucket           -90.838509\n",
       "                      TimedStorage-ByteHrs         StandardStorage        0.009088\n",
       "                      USE1-USW2-AWS-Out-Bytes      GetObject            -54.420944\n",
       "                                                   HeadBucket           -90.804598\n",
       "                                                   ListBucketVersions   -88.103912\n",
       "Name: lineItem/BlendedCost, dtype: float64"
      ]
     },
     "execution_count": 24,
     "metadata": {},
     "output_type": "execute_result"
    }
   ],
   "source": [
    "percent_change(blend_cost['A1'], blend_cost['A3'])"
   ]
  },
  {
   "cell_type": "markdown",
   "metadata": {},
   "source": [
    "Cost percentage change between Arch. \\#3 and \\#2:"
   ]
  },
  {
   "cell_type": "code",
   "execution_count": 25,
   "metadata": {
    "collapsed": false
   },
   "outputs": [
    {
     "data": {
      "text/plain": [
       "lineItem/ProductCode  lineItem/UsageType           lineItem/Operation\n",
       "AmazonEC2             BoxUsage:m4.xlarge           RunInstances           0.000000\n",
       "                      DataTransfer-Regional-Bytes  PublicIP-Out          -0.009801\n",
       "                      EBS:VolumeUsage.gp2          CreateVolume-Gp2      26.315789\n",
       "AmazonS3              Requests-Tier1               ListBucketVersions    27.290448\n",
       "                      Requests-Tier2               GetObject             -6.890612\n",
       "                                                   HeadBucket            -4.838710\n",
       "                      TimedStorage-ByteHrs         StandardStorage        0.005865\n",
       "                      USE1-USW2-AWS-Out-Bytes      GetObject             -7.130031\n",
       "                                                   HeadBucket            -5.882353\n",
       "                                                   ListBucketVersions    27.166324\n",
       "Name: lineItem/BlendedCost, dtype: float64"
      ]
     },
     "execution_count": 25,
     "metadata": {},
     "output_type": "execute_result"
    }
   ],
   "source": [
    "percent_change(blend_cost['A2'], blend_cost['A3'])"
   ]
  },
  {
   "cell_type": "markdown",
   "metadata": {},
   "source": [
    "##### Blended Cost as Percentage of the Total per Architecture"
   ]
  },
  {
   "cell_type": "markdown",
   "metadata": {},
   "source": [
    "Architecture \\#1:"
   ]
  },
  {
   "cell_type": "code",
   "execution_count": 26,
   "metadata": {
    "collapsed": false
   },
   "outputs": [
    {
     "data": {
      "text/plain": [
       "lineItem/ProductCode  lineItem/UsageType           lineItem/Operation\n",
       "AmazonEC2             BoxUsage:m4.xlarge           RunInstances          90.430744\n",
       "                      DataTransfer-Regional-Bytes  PublicIP-Out           0.006219\n",
       "                      EBS:SnapshotUsage            CreateSnapshot         0.463698\n",
       "                      EBS:VolumeUsage.gp2          CreateVolume-Gp2       5.855923\n",
       "AmazonS3              Requests-Tier1               ListBucketVersions     0.196117\n",
       "                                                   PutObject              0.000356\n",
       "                      Requests-Tier2               GetObject              0.056202\n",
       "                                                   HeadBucket             0.001836\n",
       "                                                   ReadACL                0.000011\n",
       "                      TimedStorage-ByteHrs         StandardStorage        2.685975\n",
       "                      USE1-USW2-AWS-Out-Bytes      GetObject              0.001941\n",
       "                                                   HeadBucket             0.000037\n",
       "                                                   ListBucketVersions     0.300938\n",
       "Name: lineItem/BlendedCost, dtype: float64"
      ]
     },
     "execution_count": 26,
     "metadata": {},
     "output_type": "execute_result"
    }
   ],
   "source": [
    "blend_cost['A1']/blend_cost['A1'].sum() * 100"
   ]
  },
  {
   "cell_type": "markdown",
   "metadata": {},
   "source": [
    "Architecture \\#2:"
   ]
  },
  {
   "cell_type": "code",
   "execution_count": 27,
   "metadata": {
    "collapsed": false
   },
   "outputs": [
    {
     "data": {
      "text/plain": [
       "lineItem/ProductCode  lineItem/UsageType           lineItem/Operation\n",
       "AmazonEC2             BoxUsage:m4.xlarge           RunInstances          77.035474\n",
       "                      DataTransfer-Regional-Bytes  PublicIP-Out           0.059408\n",
       "                      EBS:VolumeUsage.gp2          CreateVolume-Gp2       5.065316\n",
       "AmazonS3              Requests-Tier1               ListBucketVersions     0.114881\n",
       "                      Requests-Tier2               GetObject              0.665586\n",
       "                                                   HeadBucket             0.001111\n",
       "                      TimedStorage-ByteHrs         StandardStorage       16.875347\n",
       "                      USE1-USW2-AWS-Out-Bytes      GetObject              0.005986\n",
       "                                                   HeadBucket             0.000023\n",
       "                                                   ListBucketVersions     0.176867\n",
       "Name: lineItem/BlendedCost, dtype: float64"
      ]
     },
     "execution_count": 27,
     "metadata": {},
     "output_type": "execute_result"
    }
   ],
   "source": [
    "blend_cost['A2']/blend_cost['A2'].sum() * 100"
   ]
  },
  {
   "cell_type": "markdown",
   "metadata": {},
   "source": [
    "Architecture \\#3:"
   ]
  },
  {
   "cell_type": "code",
   "execution_count": 28,
   "metadata": {
    "collapsed": false
   },
   "outputs": [
    {
     "data": {
      "text/plain": [
       "lineItem/ProductCode  lineItem/UsageType           lineItem/Operation\n",
       "AmazonEC2             BoxUsage:m4.xlarge           RunInstances          75.952080\n",
       "                      DataTransfer-Regional-Bytes  PublicIP-In            0.058567\n",
       "                                                   PublicIP-Out           0.058567\n",
       "                      EBS:VolumeUsage.gp2          CreateVolume-Gp2       6.308311\n",
       "AmazonS3              Requests-Tier1               ListBucketVersions     0.144176\n",
       "                      Requests-Tier2               GetObject              0.611008\n",
       "                                                   HeadBucket             0.001042\n",
       "                      TimedStorage-ByteHrs         StandardStorage       16.638995\n",
       "                      USE1-USW2-AWS-Out-Bytes      GetObject              0.005481\n",
       "                                                   HeadBucket             0.000021\n",
       "                                                   ListBucketVersions     0.221752\n",
       "Name: lineItem/BlendedCost, dtype: float64"
      ]
     },
     "execution_count": 28,
     "metadata": {},
     "output_type": "execute_result"
    }
   ],
   "source": [
    "blend_cost['A3']/blend_cost['A3'].sum() * 100"
   ]
  },
  {
   "cell_type": "markdown",
   "metadata": {},
   "source": [
    "### Usage Amount"
   ]
  },
  {
   "cell_type": "code",
   "execution_count": 29,
   "metadata": {
    "collapsed": false,
    "scrolled": false
   },
   "outputs": [
    {
     "data": {
      "text/plain": [
       "Arch  lineItem/ProductCode  lineItem/UsageType           lineItem/Operation\n",
       "A1    AmazonEC2             BoxUsage:m4.xlarge           RunInstances          5.900000e+01\n",
       "                            DataTransfer-In-Bytes        RunInstances          6.271791e-01\n",
       "                            DataTransfer-Out-Bytes       RunInstances          3.444954e-02\n",
       "                            DataTransfer-Regional-Bytes  PublicIP-In           8.722682e-02\n",
       "                                                         PublicIP-Out          8.723084e-02\n",
       "                            EBS:SnapshotUsage            CreateSnapshot        1.300888e+00\n",
       "                            EBS:VolumeUsage.gp2          CreateVolume-Gp2      8.214286e+00\n",
       "                            EBSOptimized:m4.xlarge       Hourly                5.900000e+01\n",
       "      AmazonS3              DataTransfer-Out-Bytes       GetObject             3.551022e-02\n",
       "                            Requests-Tier1               ListBucketVersions    5.502000e+03\n",
       "                                                         PutObject             1.000000e+01\n",
       "                            Requests-Tier2               GetObject             1.970900e+04\n",
       "                                                         HeadBucket            6.440000e+02\n",
       "                                                         ReadACL               4.000000e+00\n",
       "                            TimedStorage-ByteHrs         StandardStorage       1.638131e+01\n",
       "                            USE1-USW2-AWS-Out-Bytes      GetObject             1.361704e-02\n",
       "                                                         HeadBucket            2.609000e-04\n",
       "                                                         ListBucketVersions    2.110677e+00\n",
       "      awskms                us-east-1-KMS-Requests       ListAliases           1.000000e+00\n",
       "A2    AmazonEC2             BoxUsage:m4.xlarge           RunInstances          8.000000e+00\n",
       "                            DataTransfer-In-Bytes        RunInstances          3.344890e-03\n",
       "                            DataTransfer-Out-Bytes       RunInstances          2.198029e-02\n",
       "                            DataTransfer-Regional-Bytes  PublicIP-In           1.326420e-01\n",
       "                                                         PublicIP-Out          1.326420e-01\n",
       "                            EBS:VolumeUsage.gp2          CreateVolume-Gp2      1.130952e+00\n",
       "                            EBSOptimized:m4.xlarge       Hourly                8.000000e+00\n",
       "      AmazonS3              Requests-Tier1               ListBucketVersions    5.130000e+02\n",
       "                            Requests-Tier2               GetObject             3.715200e+04\n",
       "                                                         HeadBucket            6.200000e+01\n",
       "                            TimedStorage-ByteHrs         StandardStorage       1.638184e+01\n",
       "                            USE1-USW2-AWS-Out-Bytes      GetObject             6.683110e-03\n",
       "                                                         HeadBucket            2.512000e-05\n",
       "                                                         ListBucketVersions    1.974489e-01\n",
       "A3    AmazonEC2             BoxUsage:m4.xlarge           RunInstances          8.000000e+00\n",
       "                            DataTransfer-In-Bytes        RunInstances          3.246100e-03\n",
       "                            DataTransfer-Out-Bytes       RunInstances          2.199530e-02\n",
       "                            DataTransfer-Regional-Bytes  PublicIP-In           1.326287e-01\n",
       "                                                         PublicIP-Out          1.326287e-01\n",
       "                            EBS:VolumeUsage.gp2          CreateVolume-Gp2      1.428571e+00\n",
       "                            EBSOptimized:m4.xlarge       Hourly                8.000000e+00\n",
       "                            USE1-USW2-AWS-In-Bytes       PublicIP-In           1.500000e-07\n",
       "                            USE1-USW2-AWS-Out-Bytes      PublicIP-Out          8.000000e-08\n",
       "      AmazonS3              Requests-Tier1               ListBucketVersions    6.530000e+02\n",
       "                            Requests-Tier2               GetObject             3.459200e+04\n",
       "                                                         HeadBucket            5.900000e+01\n",
       "                            TimedStorage-ByteHrs         StandardStorage       1.638280e+01\n",
       "                            USE1-USW2-AWS-Out-Bytes      GetObject             6.206760e-03\n",
       "                                                         HeadBucket            2.390000e-05\n",
       "                                                         ListBucketVersions    2.510884e-01\n",
       "Name: lineItem/UsageAmount, dtype: float64"
      ]
     },
     "execution_count": 29,
     "metadata": {},
     "output_type": "execute_result"
    }
   ],
   "source": [
    "use_amt = grp['lineItem/UsageAmount'].sum()\n",
    "use_amt = use_amt[use_amt != 0]\n",
    "use_amt"
   ]
  },
  {
   "cell_type": "markdown",
   "metadata": {},
   "source": [
    "Isolate only the number of Hyrax S3 requests:"
   ]
  },
  {
   "cell_type": "code",
   "execution_count": 30,
   "metadata": {
    "collapsed": false
   },
   "outputs": [
    {
     "data": {
      "text/plain": [
       "Arch  lineItem/ProductCode  lineItem/UsageType  lineItem/Operation\n",
       "A1    AmazonS3              Requests-Tier2      GetObject             19709.0\n",
       "A2    AmazonS3              Requests-Tier2      GetObject             37152.0\n",
       "A3    AmazonS3              Requests-Tier2      GetObject             34592.0\n",
       "Name: lineItem/UsageAmount, dtype: float64"
      ]
     },
     "execution_count": 30,
     "metadata": {},
     "output_type": "execute_result"
    }
   ],
   "source": [
    "use_amt.loc[pd.IndexSlice[:, ['AmazonS3'], ['Requests-Tier2'], ['GetObject']]]"
   ]
  },
  {
   "cell_type": "markdown",
   "metadata": {},
   "source": [
    "The change in the number of S3 requests between the architectures (A1 → A2 → A3):"
   ]
  },
  {
   "cell_type": "code",
   "execution_count": 31,
   "metadata": {
    "collapsed": false
   },
   "outputs": [
    {
     "data": {
      "text/plain": [
       "Arch  lineItem/ProductCode  lineItem/UsageType  lineItem/Operation\n",
       "A1    AmazonS3              Requests-Tier2      GetObject                 NaN\n",
       "A2    AmazonS3              Requests-Tier2      GetObject             17443.0\n",
       "A3    AmazonS3              Requests-Tier2      GetObject             -2560.0\n",
       "Name: lineItem/UsageAmount, dtype: float64"
      ]
     },
     "execution_count": 31,
     "metadata": {},
     "output_type": "execute_result"
    }
   ],
   "source": [
    "use_amt.loc[pd.IndexSlice[:, ['AmazonS3'], ['Requests-Tier2'], ['GetObject']]].diff()"
   ]
  }
 ],
 "metadata": {
  "kernelspec": {
   "display_name": "Python 3",
   "language": "python",
   "name": "python3"
  },
  "language_info": {
   "codemirror_mode": {
    "name": "ipython",
    "version": 3
   },
   "file_extension": ".py",
   "mimetype": "text/x-python",
   "name": "python",
   "nbconvert_exporter": "python",
   "pygments_lexer": "ipython3",
   "version": "3.5.1"
  }
 },
 "nbformat": 4,
 "nbformat_minor": 2
}
