{
 "cells": [
  {
   "cell_type": "markdown",
   "metadata": {},
   "source": [
    "# Cloudydap Cost Analysis"
   ]
  },
  {
   "cell_type": "code",
   "execution_count": 1,
   "metadata": {
    "collapsed": false
   },
   "outputs": [
    {
     "data": {
      "text/html": [
       "\n",
       "    <div class=\"bk-root\">\n",
       "        <a href=\"http://bokeh.pydata.org\" target=\"_blank\" class=\"bk-logo bk-logo-small bk-logo-notebook\"></a>\n",
       "        <span id=\"e2dc81ff-a233-469d-a3ec-bb57dd85fc40\">Loading BokehJS ...</span>\n",
       "    </div>"
      ]
     },
     "metadata": {},
     "output_type": "display_data"
    },
    {
     "data": {
      "application/javascript": [
       "\n",
       "(function(global) {\n",
       "  function now() {\n",
       "    return new Date();\n",
       "  }\n",
       "\n",
       "  var force = true;\n",
       "\n",
       "  if (typeof (window._bokeh_onload_callbacks) === \"undefined\" || force === true) {\n",
       "    window._bokeh_onload_callbacks = [];\n",
       "    window._bokeh_is_loading = undefined;\n",
       "  }\n",
       "\n",
       "\n",
       "  \n",
       "  if (typeof (window._bokeh_timeout) === \"undefined\" || force === true) {\n",
       "    window._bokeh_timeout = Date.now() + 5000;\n",
       "    window._bokeh_failed_load = false;\n",
       "  }\n",
       "\n",
       "  var NB_LOAD_WARNING = {'data': {'text/html':\n",
       "     \"<div style='background-color: #fdd'>\\n\"+\n",
       "     \"<p>\\n\"+\n",
       "     \"BokehJS does not appear to have successfully loaded. If loading BokehJS from CDN, this \\n\"+\n",
       "     \"may be due to a slow or bad network connection. Possible fixes:\\n\"+\n",
       "     \"</p>\\n\"+\n",
       "     \"<ul>\\n\"+\n",
       "     \"<li>re-rerun `output_notebook()` to attempt to load from CDN again, or</li>\\n\"+\n",
       "     \"<li>use INLINE resources instead, as so:</li>\\n\"+\n",
       "     \"</ul>\\n\"+\n",
       "     \"<code>\\n\"+\n",
       "     \"from bokeh.resources import INLINE\\n\"+\n",
       "     \"output_notebook(resources=INLINE)\\n\"+\n",
       "     \"</code>\\n\"+\n",
       "     \"</div>\"}};\n",
       "\n",
       "  function display_loaded() {\n",
       "    if (window.Bokeh !== undefined) {\n",
       "      document.getElementById(\"e2dc81ff-a233-469d-a3ec-bb57dd85fc40\").textContent = \"BokehJS successfully loaded.\";\n",
       "    } else if (Date.now() < window._bokeh_timeout) {\n",
       "      setTimeout(display_loaded, 100)\n",
       "    }\n",
       "  }\n",
       "\n",
       "  function run_callbacks() {\n",
       "    window._bokeh_onload_callbacks.forEach(function(callback) { callback() });\n",
       "    delete window._bokeh_onload_callbacks\n",
       "    console.info(\"Bokeh: all callbacks have finished\");\n",
       "  }\n",
       "\n",
       "  function load_libs(js_urls, callback) {\n",
       "    window._bokeh_onload_callbacks.push(callback);\n",
       "    if (window._bokeh_is_loading > 0) {\n",
       "      console.log(\"Bokeh: BokehJS is being loaded, scheduling callback at\", now());\n",
       "      return null;\n",
       "    }\n",
       "    if (js_urls == null || js_urls.length === 0) {\n",
       "      run_callbacks();\n",
       "      return null;\n",
       "    }\n",
       "    console.log(\"Bokeh: BokehJS not loaded, scheduling load and callback at\", now());\n",
       "    window._bokeh_is_loading = js_urls.length;\n",
       "    for (var i = 0; i < js_urls.length; i++) {\n",
       "      var url = js_urls[i];\n",
       "      var s = document.createElement('script');\n",
       "      s.src = url;\n",
       "      s.async = false;\n",
       "      s.onreadystatechange = s.onload = function() {\n",
       "        window._bokeh_is_loading--;\n",
       "        if (window._bokeh_is_loading === 0) {\n",
       "          console.log(\"Bokeh: all BokehJS libraries loaded\");\n",
       "          run_callbacks()\n",
       "        }\n",
       "      };\n",
       "      s.onerror = function() {\n",
       "        console.warn(\"failed to load library \" + url);\n",
       "      };\n",
       "      console.log(\"Bokeh: injecting script tag for BokehJS library: \", url);\n",
       "      document.getElementsByTagName(\"head\")[0].appendChild(s);\n",
       "    }\n",
       "  };var element = document.getElementById(\"e2dc81ff-a233-469d-a3ec-bb57dd85fc40\");\n",
       "  if (element == null) {\n",
       "    console.log(\"Bokeh: ERROR: autoload.js configured with elementid 'e2dc81ff-a233-469d-a3ec-bb57dd85fc40' but no matching script tag was found. \")\n",
       "    return false;\n",
       "  }\n",
       "\n",
       "  var js_urls = [\"https://cdn.pydata.org/bokeh/release/bokeh-0.12.4.min.js\", \"https://cdn.pydata.org/bokeh/release/bokeh-widgets-0.12.4.min.js\"];\n",
       "\n",
       "  var inline_js = [\n",
       "    function(Bokeh) {\n",
       "      Bokeh.set_log_level(\"info\");\n",
       "    },\n",
       "    \n",
       "    function(Bokeh) {\n",
       "      \n",
       "      document.getElementById(\"e2dc81ff-a233-469d-a3ec-bb57dd85fc40\").textContent = \"BokehJS is loading...\";\n",
       "    },\n",
       "    function(Bokeh) {\n",
       "      console.log(\"Bokeh: injecting CSS: https://cdn.pydata.org/bokeh/release/bokeh-0.12.4.min.css\");\n",
       "      Bokeh.embed.inject_css(\"https://cdn.pydata.org/bokeh/release/bokeh-0.12.4.min.css\");\n",
       "      console.log(\"Bokeh: injecting CSS: https://cdn.pydata.org/bokeh/release/bokeh-widgets-0.12.4.min.css\");\n",
       "      Bokeh.embed.inject_css(\"https://cdn.pydata.org/bokeh/release/bokeh-widgets-0.12.4.min.css\");\n",
       "    }\n",
       "  ];\n",
       "\n",
       "  function run_inline_js() {\n",
       "    \n",
       "    if ((window.Bokeh !== undefined) || (force === true)) {\n",
       "      for (var i = 0; i < inline_js.length; i++) {\n",
       "        inline_js[i](window.Bokeh);\n",
       "      }if (force === true) {\n",
       "        display_loaded();\n",
       "      }} else if (Date.now() < window._bokeh_timeout) {\n",
       "      setTimeout(run_inline_js, 100);\n",
       "    } else if (!window._bokeh_failed_load) {\n",
       "      console.log(\"Bokeh: BokehJS failed to load within specified timeout.\");\n",
       "      window._bokeh_failed_load = true;\n",
       "    } else if (force !== true) {\n",
       "      var cell = $(document.getElementById(\"e2dc81ff-a233-469d-a3ec-bb57dd85fc40\")).parents('.cell').data().cell;\n",
       "      cell.output_area.append_execute_result(NB_LOAD_WARNING)\n",
       "    }\n",
       "\n",
       "  }\n",
       "\n",
       "  if (window._bokeh_is_loading === 0) {\n",
       "    console.log(\"Bokeh: BokehJS loaded, going straight to plotting\");\n",
       "    run_inline_js();\n",
       "  } else {\n",
       "    load_libs(js_urls, function() {\n",
       "      console.log(\"Bokeh: BokehJS plotting callback run at\", now());\n",
       "      run_inline_js();\n",
       "    });\n",
       "  }\n",
       "}(this));"
      ]
     },
     "metadata": {},
     "output_type": "display_data"
    }
   ],
   "source": [
    "import numpy as np\n",
    "import pandas as pd\n",
    "from aws_price_list import AWSOffersIndex\n",
    "from bokeh.charts import (output_notebook, output_file, show, \n",
    "                          Scatter, Histogram, TimeSeries, Donut, Step, Bar)\n",
    "from bokeh.plotting import figure, ColumnDataSource\n",
    "from bokeh.models import Range1d, HoverTool, ResizeTool\n",
    "\n",
    "\n",
    "output_notebook()"
   ]
  },
  {
   "cell_type": "code",
   "execution_count": 2,
   "metadata": {
    "collapsed": true
   },
   "outputs": [],
   "source": [
    "def percent_change(before, after):\n",
    "    return 100 * (after/before - 1).dropna(how='all')"
   ]
  },
  {
   "cell_type": "markdown",
   "metadata": {},
   "source": [
    "# Input Cloudydap Cost Data"
   ]
  },
  {
   "cell_type": "code",
   "execution_count": 3,
   "metadata": {
    "collapsed": false
   },
   "outputs": [],
   "source": [
    "r = pd.read_csv('../../logs/cloudydap_costs.csv')"
   ]
  },
  {
   "cell_type": "markdown",
   "metadata": {},
   "source": [
    "Check if there is a column named \"Arch\" (indicates these are indeed Cloudydap cost data):"
   ]
  },
  {
   "cell_type": "code",
   "execution_count": 4,
   "metadata": {
    "collapsed": true
   },
   "outputs": [],
   "source": [
    "if 'Arch' not in r:\n",
    "    raise RuntimeError('Missing \"Arch\" column')"
   ]
  },
  {
   "cell_type": "markdown",
   "metadata": {},
   "source": [
    "Are there any null values in the `Arch` column:"
   ]
  },
  {
   "cell_type": "code",
   "execution_count": 5,
   "metadata": {
    "collapsed": true
   },
   "outputs": [],
   "source": [
    "if r.Arch.isnull().any():\n",
    "    raise ValueError('Null values detected in the \"Arch\" column')"
   ]
  },
  {
   "cell_type": "markdown",
   "metadata": {},
   "source": [
    "What do we have?"
   ]
  },
  {
   "cell_type": "code",
   "execution_count": 6,
   "metadata": {
    "collapsed": false
   },
   "outputs": [
    {
     "name": "stdout",
     "output_type": "stream",
     "text": [
      "<class 'pandas.core.frame.DataFrame'>\n",
      "RangeIndex: 553 entries, 0 to 552\n",
      "Data columns (total 74 columns):\n",
      "identity/LineItemId                    553 non-null object\n",
      "identity/TimeInterval                  553 non-null object\n",
      "bill/InvoiceId                         0 non-null float64\n",
      "bill/BillingEntity                     553 non-null object\n",
      "bill/BillType                          553 non-null object\n",
      "bill/PayerAccountId                    553 non-null int64\n",
      "bill/BillingPeriodStartDate            553 non-null object\n",
      "bill/BillingPeriodEndDate              553 non-null object\n",
      "lineItem/UsageAccountId                553 non-null int64\n",
      "lineItem/LineItemType                  553 non-null object\n",
      "lineItem/UsageStartDate                553 non-null object\n",
      "lineItem/UsageEndDate                  553 non-null object\n",
      "lineItem/ProductCode                   553 non-null object\n",
      "lineItem/UsageType                     553 non-null object\n",
      "lineItem/Operation                     553 non-null object\n",
      "lineItem/AvailabilityZone              150 non-null object\n",
      "lineItem/ResourceId                    551 non-null object\n",
      "lineItem/UsageAmount                   553 non-null float64\n",
      "lineItem/CurrencyCode                  553 non-null object\n",
      "lineItem/UnblendedRate                 553 non-null float64\n",
      "lineItem/UnblendedCost                 553 non-null float64\n",
      "lineItem/BlendedRate                   553 non-null float64\n",
      "lineItem/BlendedCost                   553 non-null float64\n",
      "lineItem/LineItemDescription           553 non-null object\n",
      "lineItem/TaxType                       0 non-null float64\n",
      "product/ProductName                    553 non-null object\n",
      "product/availability                   3 non-null object\n",
      "product/clockSpeed                     150 non-null object\n",
      "product/currentGeneration              150 non-null object\n",
      "product/dedicatedEbsThroughput         150 non-null object\n",
      "product/durability                     3 non-null object\n",
      "product/ebsOptimized                   75 non-null object\n",
      "product/enhancedNetworkingSupported    150 non-null object\n",
      "product/fromLocation                   246 non-null object\n",
      "product/fromLocationType               246 non-null object\n",
      "product/group                          76 non-null object\n",
      "product/groupDescription               76 non-null object\n",
      "product/instanceFamily                 150 non-null object\n",
      "product/instanceType                   150 non-null object\n",
      "product/licenseModel                   75 non-null object\n",
      "product/location                       307 non-null object\n",
      "product/locationType                   307 non-null object\n",
      "product/maxIopsBurstPerformance        77 non-null object\n",
      "product/maxIopsvolume                  77 non-null float64\n",
      "product/maxThroughputvolume            77 non-null object\n",
      "product/maxVolumeSize                  77 non-null object\n",
      "product/memory                         150 non-null object\n",
      "product/networkPerformance             150 non-null object\n",
      "product/operatingSystem                75 non-null object\n",
      "product/operation                      150 non-null object\n",
      "product/physicalProcessor              150 non-null object\n",
      "product/preInstalledSw                 0 non-null float64\n",
      "product/processorArchitecture          150 non-null object\n",
      "product/processorFeatures              150 non-null object\n",
      "product/productFamily                  553 non-null object\n",
      "product/servicecode                    553 non-null object\n",
      "product/sku                            553 non-null object\n",
      "product/storage                        150 non-null object\n",
      "product/storageClass                   3 non-null object\n",
      "product/storageMedia                   78 non-null object\n",
      "product/tenancy                        150 non-null object\n",
      "product/toLocation                     246 non-null object\n",
      "product/toLocationType                 246 non-null object\n",
      "product/transferType                   246 non-null object\n",
      "product/usagetype                      553 non-null object\n",
      "product/vcpu                           150 non-null float64\n",
      "product/volumeType                     80 non-null object\n",
      "pricing/publicOnDemandCost             553 non-null float64\n",
      "pricing/publicOnDemandRate             553 non-null float64\n",
      "pricing/term                           461 non-null object\n",
      "pricing/unit                           461 non-null object\n",
      "reservation/TotalReservedUnits         0 non-null float64\n",
      "reservation/UnitsPerReservation        0 non-null float64\n",
      "Arch                                   553 non-null object\n",
      "dtypes: float64(14), int64(2), object(58)\n",
      "memory usage: 319.8+ KB\n"
     ]
    }
   ],
   "source": [
    "r.info()"
   ]
  },
  {
   "cell_type": "markdown",
   "metadata": {},
   "source": [
    "## Data Preprocessing"
   ]
  },
  {
   "cell_type": "markdown",
   "metadata": {},
   "source": [
    "\n",
    "### Remove EBS Volume Costs For Arch. \\#2 and \\#3\n",
    "\n",
    "Because Architectures \\#2 an \\#3 do not need an EBS volume remove those costs for them."
   ]
  },
  {
   "cell_type": "markdown",
   "metadata": {},
   "source": [
    "Find and display those cost entries:"
   ]
  },
  {
   "cell_type": "code",
   "execution_count": 7,
   "metadata": {
    "collapsed": true
   },
   "outputs": [],
   "source": [
    "no_ebs = (r.Arch != 'A1') & (r['lineItem/UsageType'].str.startswith('EBS'))"
   ]
  },
  {
   "cell_type": "code",
   "execution_count": 8,
   "metadata": {
    "collapsed": false
   },
   "outputs": [
    {
     "data": {
      "text/html": [
       "<div>\n",
       "<table border=\"1\" class=\"dataframe\">\n",
       "  <thead>\n",
       "    <tr style=\"text-align: right;\">\n",
       "      <th></th>\n",
       "      <th>Arch</th>\n",
       "      <th>lineItem/ProductCode</th>\n",
       "      <th>lineItem/UsageType</th>\n",
       "      <th>lineItem/BlendedCost</th>\n",
       "    </tr>\n",
       "  </thead>\n",
       "  <tbody>\n",
       "    <tr>\n",
       "      <th>437</th>\n",
       "      <td>A2</td>\n",
       "      <td>AmazonEC2</td>\n",
       "      <td>EBS:VolumeUsage.gp2</td>\n",
       "      <td>0.011905</td>\n",
       "    </tr>\n",
       "    <tr>\n",
       "      <th>438</th>\n",
       "      <td>A2</td>\n",
       "      <td>AmazonEC2</td>\n",
       "      <td>EBSOptimized:m4.xlarge</td>\n",
       "      <td>0.000000</td>\n",
       "    </tr>\n",
       "    <tr>\n",
       "      <th>439</th>\n",
       "      <td>A2</td>\n",
       "      <td>AmazonEC2</td>\n",
       "      <td>EBSOptimized:m4.xlarge</td>\n",
       "      <td>0.000000</td>\n",
       "    </tr>\n",
       "    <tr>\n",
       "      <th>440</th>\n",
       "      <td>A2</td>\n",
       "      <td>AmazonEC2</td>\n",
       "      <td>EBSOptimized:m4.xlarge</td>\n",
       "      <td>0.000000</td>\n",
       "    </tr>\n",
       "    <tr>\n",
       "      <th>441</th>\n",
       "      <td>A2</td>\n",
       "      <td>AmazonEC2</td>\n",
       "      <td>EBSOptimized:m4.xlarge</td>\n",
       "      <td>0.000000</td>\n",
       "    </tr>\n",
       "    <tr>\n",
       "      <th>447</th>\n",
       "      <td>A2</td>\n",
       "      <td>AmazonEC2</td>\n",
       "      <td>EBS:VolumeUsage.gp2</td>\n",
       "      <td>0.014881</td>\n",
       "    </tr>\n",
       "    <tr>\n",
       "      <th>450</th>\n",
       "      <td>A2</td>\n",
       "      <td>AmazonEC2</td>\n",
       "      <td>EBS:VolumeUsage.gp2</td>\n",
       "      <td>0.014881</td>\n",
       "    </tr>\n",
       "    <tr>\n",
       "      <th>451</th>\n",
       "      <td>A2</td>\n",
       "      <td>AmazonEC2</td>\n",
       "      <td>EBS:VolumeUsage.gp2</td>\n",
       "      <td>0.014881</td>\n",
       "    </tr>\n",
       "    <tr>\n",
       "      <th>464</th>\n",
       "      <td>A2</td>\n",
       "      <td>AmazonEC2</td>\n",
       "      <td>EBSOptimized:m4.xlarge</td>\n",
       "      <td>0.000000</td>\n",
       "    </tr>\n",
       "    <tr>\n",
       "      <th>465</th>\n",
       "      <td>A2</td>\n",
       "      <td>AmazonEC2</td>\n",
       "      <td>EBS:VolumeUsage.gp2</td>\n",
       "      <td>0.014881</td>\n",
       "    </tr>\n",
       "    <tr>\n",
       "      <th>466</th>\n",
       "      <td>A2</td>\n",
       "      <td>AmazonEC2</td>\n",
       "      <td>EBS:VolumeUsage.gp2</td>\n",
       "      <td>0.011905</td>\n",
       "    </tr>\n",
       "    <tr>\n",
       "      <th>467</th>\n",
       "      <td>A2</td>\n",
       "      <td>AmazonEC2</td>\n",
       "      <td>EBSOptimized:m4.xlarge</td>\n",
       "      <td>0.000000</td>\n",
       "    </tr>\n",
       "    <tr>\n",
       "      <th>468</th>\n",
       "      <td>A2</td>\n",
       "      <td>AmazonEC2</td>\n",
       "      <td>EBSOptimized:m4.xlarge</td>\n",
       "      <td>0.000000</td>\n",
       "    </tr>\n",
       "    <tr>\n",
       "      <th>469</th>\n",
       "      <td>A2</td>\n",
       "      <td>AmazonEC2</td>\n",
       "      <td>EBSOptimized:m4.xlarge</td>\n",
       "      <td>0.000000</td>\n",
       "    </tr>\n",
       "    <tr>\n",
       "      <th>477</th>\n",
       "      <td>A2</td>\n",
       "      <td>AmazonEC2</td>\n",
       "      <td>EBS:VolumeUsage.gp2</td>\n",
       "      <td>0.014881</td>\n",
       "    </tr>\n",
       "    <tr>\n",
       "      <th>485</th>\n",
       "      <td>A2</td>\n",
       "      <td>AmazonEC2</td>\n",
       "      <td>EBS:VolumeUsage.gp2</td>\n",
       "      <td>0.014881</td>\n",
       "    </tr>\n",
       "    <tr>\n",
       "      <th>493</th>\n",
       "      <td>A3</td>\n",
       "      <td>AmazonEC2</td>\n",
       "      <td>EBSOptimized:m4.xlarge</td>\n",
       "      <td>0.000000</td>\n",
       "    </tr>\n",
       "    <tr>\n",
       "      <th>494</th>\n",
       "      <td>A3</td>\n",
       "      <td>AmazonEC2</td>\n",
       "      <td>EBSOptimized:m4.xlarge</td>\n",
       "      <td>0.000000</td>\n",
       "    </tr>\n",
       "    <tr>\n",
       "      <th>495</th>\n",
       "      <td>A3</td>\n",
       "      <td>AmazonEC2</td>\n",
       "      <td>EBSOptimized:m4.xlarge</td>\n",
       "      <td>0.000000</td>\n",
       "    </tr>\n",
       "    <tr>\n",
       "      <th>498</th>\n",
       "      <td>A3</td>\n",
       "      <td>AmazonEC2</td>\n",
       "      <td>EBSOptimized:m4.xlarge</td>\n",
       "      <td>0.000000</td>\n",
       "    </tr>\n",
       "    <tr>\n",
       "      <th>506</th>\n",
       "      <td>A3</td>\n",
       "      <td>AmazonEC2</td>\n",
       "      <td>EBS:VolumeUsage.gp2</td>\n",
       "      <td>0.014881</td>\n",
       "    </tr>\n",
       "    <tr>\n",
       "      <th>508</th>\n",
       "      <td>A3</td>\n",
       "      <td>AmazonEC2</td>\n",
       "      <td>EBS:VolumeUsage.gp2</td>\n",
       "      <td>0.014881</td>\n",
       "    </tr>\n",
       "    <tr>\n",
       "      <th>515</th>\n",
       "      <td>A3</td>\n",
       "      <td>AmazonEC2</td>\n",
       "      <td>EBS:VolumeUsage.gp2</td>\n",
       "      <td>0.011905</td>\n",
       "    </tr>\n",
       "    <tr>\n",
       "      <th>520</th>\n",
       "      <td>A3</td>\n",
       "      <td>AmazonEC2</td>\n",
       "      <td>EBS:VolumeUsage.gp2</td>\n",
       "      <td>0.014881</td>\n",
       "    </tr>\n",
       "    <tr>\n",
       "      <th>521</th>\n",
       "      <td>A3</td>\n",
       "      <td>AmazonEC2</td>\n",
       "      <td>EBS:VolumeUsage.gp2</td>\n",
       "      <td>0.014881</td>\n",
       "    </tr>\n",
       "    <tr>\n",
       "      <th>523</th>\n",
       "      <td>A3</td>\n",
       "      <td>AmazonEC2</td>\n",
       "      <td>EBS:VolumeUsage.gp2</td>\n",
       "      <td>0.011905</td>\n",
       "    </tr>\n",
       "    <tr>\n",
       "      <th>524</th>\n",
       "      <td>A3</td>\n",
       "      <td>AmazonEC2</td>\n",
       "      <td>EBS:VolumeUsage.gp2</td>\n",
       "      <td>0.014881</td>\n",
       "    </tr>\n",
       "    <tr>\n",
       "      <th>525</th>\n",
       "      <td>A3</td>\n",
       "      <td>AmazonEC2</td>\n",
       "      <td>EBSOptimized:m4.xlarge</td>\n",
       "      <td>0.000000</td>\n",
       "    </tr>\n",
       "    <tr>\n",
       "      <th>526</th>\n",
       "      <td>A3</td>\n",
       "      <td>AmazonEC2</td>\n",
       "      <td>EBSOptimized:m4.xlarge</td>\n",
       "      <td>0.000000</td>\n",
       "    </tr>\n",
       "    <tr>\n",
       "      <th>527</th>\n",
       "      <td>A3</td>\n",
       "      <td>AmazonEC2</td>\n",
       "      <td>EBSOptimized:m4.xlarge</td>\n",
       "      <td>0.000000</td>\n",
       "    </tr>\n",
       "    <tr>\n",
       "      <th>528</th>\n",
       "      <td>A3</td>\n",
       "      <td>AmazonEC2</td>\n",
       "      <td>EBSOptimized:m4.xlarge</td>\n",
       "      <td>0.000000</td>\n",
       "    </tr>\n",
       "    <tr>\n",
       "      <th>535</th>\n",
       "      <td>A3</td>\n",
       "      <td>AmazonEC2</td>\n",
       "      <td>EBS:VolumeUsage.gp2</td>\n",
       "      <td>0.014881</td>\n",
       "    </tr>\n",
       "    <tr>\n",
       "      <th>537</th>\n",
       "      <td>A3</td>\n",
       "      <td>AmazonEC2</td>\n",
       "      <td>EBS:VolumeUsage.gp2</td>\n",
       "      <td>0.014881</td>\n",
       "    </tr>\n",
       "    <tr>\n",
       "      <th>540</th>\n",
       "      <td>A3</td>\n",
       "      <td>AmazonEC2</td>\n",
       "      <td>EBS:VolumeUsage.gp2</td>\n",
       "      <td>0.014881</td>\n",
       "    </tr>\n",
       "  </tbody>\n",
       "</table>\n",
       "</div>"
      ],
      "text/plain": [
       "    Arch lineItem/ProductCode      lineItem/UsageType  lineItem/BlendedCost\n",
       "437   A2            AmazonEC2     EBS:VolumeUsage.gp2              0.011905\n",
       "438   A2            AmazonEC2  EBSOptimized:m4.xlarge              0.000000\n",
       "439   A2            AmazonEC2  EBSOptimized:m4.xlarge              0.000000\n",
       "440   A2            AmazonEC2  EBSOptimized:m4.xlarge              0.000000\n",
       "441   A2            AmazonEC2  EBSOptimized:m4.xlarge              0.000000\n",
       "447   A2            AmazonEC2     EBS:VolumeUsage.gp2              0.014881\n",
       "450   A2            AmazonEC2     EBS:VolumeUsage.gp2              0.014881\n",
       "451   A2            AmazonEC2     EBS:VolumeUsage.gp2              0.014881\n",
       "464   A2            AmazonEC2  EBSOptimized:m4.xlarge              0.000000\n",
       "465   A2            AmazonEC2     EBS:VolumeUsage.gp2              0.014881\n",
       "466   A2            AmazonEC2     EBS:VolumeUsage.gp2              0.011905\n",
       "467   A2            AmazonEC2  EBSOptimized:m4.xlarge              0.000000\n",
       "468   A2            AmazonEC2  EBSOptimized:m4.xlarge              0.000000\n",
       "469   A2            AmazonEC2  EBSOptimized:m4.xlarge              0.000000\n",
       "477   A2            AmazonEC2     EBS:VolumeUsage.gp2              0.014881\n",
       "485   A2            AmazonEC2     EBS:VolumeUsage.gp2              0.014881\n",
       "493   A3            AmazonEC2  EBSOptimized:m4.xlarge              0.000000\n",
       "494   A3            AmazonEC2  EBSOptimized:m4.xlarge              0.000000\n",
       "495   A3            AmazonEC2  EBSOptimized:m4.xlarge              0.000000\n",
       "498   A3            AmazonEC2  EBSOptimized:m4.xlarge              0.000000\n",
       "506   A3            AmazonEC2     EBS:VolumeUsage.gp2              0.014881\n",
       "508   A3            AmazonEC2     EBS:VolumeUsage.gp2              0.014881\n",
       "515   A3            AmazonEC2     EBS:VolumeUsage.gp2              0.011905\n",
       "520   A3            AmazonEC2     EBS:VolumeUsage.gp2              0.014881\n",
       "521   A3            AmazonEC2     EBS:VolumeUsage.gp2              0.014881\n",
       "523   A3            AmazonEC2     EBS:VolumeUsage.gp2              0.011905\n",
       "524   A3            AmazonEC2     EBS:VolumeUsage.gp2              0.014881\n",
       "525   A3            AmazonEC2  EBSOptimized:m4.xlarge              0.000000\n",
       "526   A3            AmazonEC2  EBSOptimized:m4.xlarge              0.000000\n",
       "527   A3            AmazonEC2  EBSOptimized:m4.xlarge              0.000000\n",
       "528   A3            AmazonEC2  EBSOptimized:m4.xlarge              0.000000\n",
       "535   A3            AmazonEC2     EBS:VolumeUsage.gp2              0.014881\n",
       "537   A3            AmazonEC2     EBS:VolumeUsage.gp2              0.014881\n",
       "540   A3            AmazonEC2     EBS:VolumeUsage.gp2              0.014881"
      ]
     },
     "execution_count": 8,
     "metadata": {},
     "output_type": "execute_result"
    }
   ],
   "source": [
    "r.loc[no_ebs, ['Arch', 'lineItem/ProductCode', 'lineItem/UsageType', 'lineItem/BlendedCost']]"
   ]
  },
  {
   "cell_type": "markdown",
   "metadata": {},
   "source": [
    "What are these costs in US$ per architecture?"
   ]
  },
  {
   "cell_type": "code",
   "execution_count": 9,
   "metadata": {
    "collapsed": false
   },
   "outputs": [
    {
     "data": {
      "text/html": [
       "<div>\n",
       "<table border=\"1\" class=\"dataframe\">\n",
       "  <thead>\n",
       "    <tr style=\"text-align: right;\">\n",
       "      <th></th>\n",
       "      <th>lineItem/BlendedCost</th>\n",
       "    </tr>\n",
       "    <tr>\n",
       "      <th>Arch</th>\n",
       "      <th></th>\n",
       "    </tr>\n",
       "  </thead>\n",
       "  <tbody>\n",
       "    <tr>\n",
       "      <th>A2</th>\n",
       "      <td>0.113095</td>\n",
       "    </tr>\n",
       "    <tr>\n",
       "      <th>A3</th>\n",
       "      <td>0.142857</td>\n",
       "    </tr>\n",
       "  </tbody>\n",
       "</table>\n",
       "</div>"
      ],
      "text/plain": [
       "      lineItem/BlendedCost\n",
       "Arch                      \n",
       "A2                0.113095\n",
       "A3                0.142857"
      ]
     },
     "execution_count": 9,
     "metadata": {},
     "output_type": "execute_result"
    }
   ],
   "source": [
    "r.loc[no_ebs, ['Arch', 'lineItem/BlendedCost']].groupby('Arch').sum()"
   ]
  },
  {
   "cell_type": "markdown",
   "metadata": {},
   "source": [
    "Remove those entries:"
   ]
  },
  {
   "cell_type": "code",
   "execution_count": 10,
   "metadata": {
    "collapsed": true
   },
   "outputs": [],
   "source": [
    "r.drop(r[no_ebs].index, inplace=True)"
   ]
  },
  {
   "cell_type": "markdown",
   "metadata": {},
   "source": [
    "Covert time columns to datetime type:"
   ]
  },
  {
   "cell_type": "code",
   "execution_count": 11,
   "metadata": {
    "collapsed": false
   },
   "outputs": [],
   "source": [
    "r['lineItem/UsageStartDate'] = pd.to_datetime(r['lineItem/UsageStartDate'])\n",
    "r['lineItem/UsageEndDate'] = pd.to_datetime(r['lineItem/UsageEndDate'])"
   ]
  },
  {
   "cell_type": "markdown",
   "metadata": {},
   "source": [
    "## Analysis"
   ]
  },
  {
   "cell_type": "markdown",
   "metadata": {},
   "source": [
    "Breakdown on the entries per architecture (and what their identifiers are):"
   ]
  },
  {
   "cell_type": "code",
   "execution_count": 12,
   "metadata": {
    "collapsed": false
   },
   "outputs": [
    {
     "data": {
      "text/plain": [
       "A1    437\n",
       "A2     39\n",
       "A3     43\n",
       "Name: Arch, dtype: int64"
      ]
     },
     "execution_count": 12,
     "metadata": {},
     "output_type": "execute_result"
    }
   ],
   "source": [
    "r.Arch.value_counts().sort_index()"
   ]
  },
  {
   "cell_type": "markdown",
   "metadata": {},
   "source": [
    "Time span for each architecture's cost data:"
   ]
  },
  {
   "cell_type": "code",
   "execution_count": 13,
   "metadata": {
    "collapsed": false
   },
   "outputs": [
    {
     "name": "stdout",
     "output_type": "stream",
     "text": [
      "Architecture: A1\n",
      "    Start: 2017-02-23 10:00:00\n",
      "    End:   2017-02-24 05:00:00\n",
      "    Duration: 0 days 19:00:00\n",
      "Architecture: A2\n",
      "    Start: 2017-02-24 10:00:00\n",
      "    End:   2017-02-24 12:00:00\n",
      "    Duration: 0 days 02:00:00\n",
      "Architecture: A3\n",
      "    Start: 2017-02-25 10:00:00\n",
      "    End:   2017-02-25 12:00:00\n",
      "    Duration: 0 days 02:00:00\n"
     ]
    }
   ],
   "source": [
    "arch_dur = dict()\n",
    "grp = r.groupby('Arch')\n",
    "for arch in sorted(r.groupby('Arch').groups.keys()):\n",
    "    start = grp.get_group(arch)['lineItem/UsageStartDate'].min()\n",
    "    end = grp.get_group(arch)['lineItem/UsageEndDate'].max()\n",
    "    print('Architecture:', arch)\n",
    "    print('    Start: {}\\n    End:   {}'.format(start, end))\n",
    "    arch_dur[arch] = end - start\n",
    "    print('    Duration:', arch_dur[arch])"
   ]
  },
  {
   "cell_type": "markdown",
   "metadata": {},
   "source": [
    "### Cost"
   ]
  },
  {
   "cell_type": "markdown",
   "metadata": {},
   "source": [
    "Group the data by architecture, AWS service, its usage type, and its operation:"
   ]
  },
  {
   "cell_type": "code",
   "execution_count": 14,
   "metadata": {
    "collapsed": true
   },
   "outputs": [],
   "source": [
    "grp = r.groupby(['Arch', 'lineItem/ProductCode', 'lineItem/UsageType', 'lineItem/Operation'])"
   ]
  },
  {
   "cell_type": "markdown",
   "metadata": {},
   "source": [
    "#### Blended Costs"
   ]
  },
  {
   "cell_type": "markdown",
   "metadata": {},
   "source": [
    "Breakdown of the blended cost:"
   ]
  },
  {
   "cell_type": "code",
   "execution_count": 15,
   "metadata": {
    "collapsed": false
   },
   "outputs": [
    {
     "data": {
      "text/plain": [
       "Arch  lineItem/ProductCode  lineItem/UsageType           lineItem/Operation\n",
       "A1    AmazonEC2             BoxUsage:m4.xlarge           RunInstances          1.268500e+01\n",
       "                            DataTransfer-In-Bytes        RunInstances          0.000000e+00\n",
       "                            DataTransfer-Out-Bytes       RunInstances          0.000000e+00\n",
       "                            DataTransfer-Regional-Bytes  PublicIP-In           0.000000e+00\n",
       "                                                         PublicIP-Out          8.723100e-04\n",
       "                            EBS:SnapshotUsage            CreateSnapshot        6.504439e-02\n",
       "                            EBS:VolumeUsage.gp2          CreateVolume-Gp2      8.214284e-01\n",
       "                            EBSOptimized:m4.xlarge       Hourly                0.000000e+00\n",
       "      AmazonS3              DataTransfer-Out-Bytes       GetObject             0.000000e+00\n",
       "                            Requests-Tier1               ListBucketVersions    2.751000e-02\n",
       "                                                         PutObject             5.000000e-05\n",
       "                            Requests-Tier2               GetObject             7.883600e-03\n",
       "                                                         HeadBucket            2.576000e-04\n",
       "                                                         ReadACL               1.600000e-06\n",
       "                            TimedStorage-ByteHrs         StandardStorage       3.767701e-01\n",
       "                            USE1-USW2-AWS-Out-Bytes      GetObject             2.723400e-04\n",
       "                                                         HeadBucket            5.220000e-06\n",
       "                                                         ListBucketVersions    4.221354e-02\n",
       "      awskms                us-east-1-KMS-Requests       ListAliases           0.000000e+00\n",
       "A2    AmazonEC2             BoxUsage:m4.xlarge           RunInstances          1.720000e+00\n",
       "                            DataTransfer-In-Bytes        RunInstances          0.000000e+00\n",
       "                            DataTransfer-Out-Bytes       RunInstances          0.000000e+00\n",
       "                            DataTransfer-Regional-Bytes  PublicIP-In           0.000000e+00\n",
       "                                                         PublicIP-Out          1.326420e-03\n",
       "      AmazonS3              Requests-Tier1               ListBucketVersions    2.565000e-03\n",
       "                            Requests-Tier2               GetObject             1.486080e-02\n",
       "                                                         HeadBucket            2.480000e-05\n",
       "                            TimedStorage-ByteHrs         StandardStorage       3.767822e-01\n",
       "                            USE1-USW2-AWS-Out-Bytes      GetObject             1.336600e-04\n",
       "                                                         HeadBucket            5.100000e-07\n",
       "                                                         ListBucketVersions    3.948970e-03\n",
       "A3    AmazonEC2             BoxUsage:m4.xlarge           RunInstances          1.720000e+00\n",
       "                            DataTransfer-In-Bytes        RunInstances          0.000000e+00\n",
       "                            DataTransfer-Out-Bytes       RunInstances          0.000000e+00\n",
       "                            DataTransfer-Regional-Bytes  PublicIP-In           1.326290e-03\n",
       "                                                         PublicIP-Out          1.326290e-03\n",
       "                            USE1-USW2-AWS-In-Bytes       PublicIP-In           0.000000e+00\n",
       "                            USE1-USW2-AWS-Out-Bytes      PublicIP-Out          0.000000e+00\n",
       "      AmazonS3              Requests-Tier1               ListBucketVersions    3.265000e-03\n",
       "                            Requests-Tier2               GetObject             1.383680e-02\n",
       "                                                         HeadBucket            2.360000e-05\n",
       "                            TimedStorage-ByteHrs         StandardStorage       3.768043e-01\n",
       "                            USE1-USW2-AWS-Out-Bytes      GetObject             1.241300e-04\n",
       "                                                         HeadBucket            4.800000e-07\n",
       "                                                         ListBucketVersions    5.021760e-03\n",
       "Name: lineItem/BlendedCost, dtype: float64"
      ]
     },
     "execution_count": 15,
     "metadata": {},
     "output_type": "execute_result"
    }
   ],
   "source": [
    "blend_cost = grp['lineItem/BlendedCost'].sum()\n",
    "blend_cost"
   ]
  },
  {
   "cell_type": "markdown",
   "metadata": {},
   "source": [
    "Remove the zero costs for easier calculations later:"
   ]
  },
  {
   "cell_type": "code",
   "execution_count": 16,
   "metadata": {
    "collapsed": true
   },
   "outputs": [],
   "source": [
    "blend_cost = blend_cost[blend_cost != 0]"
   ]
  },
  {
   "cell_type": "markdown",
   "metadata": {},
   "source": [
    "Stand by for special announcement..."
   ]
  },
  {
   "cell_type": "markdown",
   "metadata": {},
   "source": [
    "---"
   ]
  },
  {
   "cell_type": "markdown",
   "metadata": {},
   "source": [
    "**SPECIAL ANNOUNCEMENT**\n",
    "\n",
    "All the study data (files and byte streams) are stored in the same S3 bucket so the costs per architecture do not currently reflect the exact situation. The following code tries to remedy this situation by manually modifying S3 storage cost for each architecture. The total S3 storage capacity is assumed to be:\n",
    "\n",
    "* Arch. \\#1 = 156GB\n",
    "* Arch. \\#2 = 158.1GB\n",
    "* Arch. \\#3 = 126.1GB\n",
    "\n",
    "The S3 storage price rate for these cases is $0.023 per GB-month, converted to GB-hour with one month having 30 days. The time over which these costs are acrued will equal the number of hours of use case execution."
   ]
  },
  {
   "cell_type": "code",
   "execution_count": 17,
   "metadata": {
    "collapsed": false
   },
   "outputs": [
    {
     "data": {
      "text/plain": [
       "3.194444444444444e-05"
      ]
     },
     "execution_count": 17,
     "metadata": {},
     "output_type": "execute_result"
    }
   ],
   "source": [
    "s3_rate = 0.023/(24*30)\n",
    "s3_rate"
   ]
  },
  {
   "cell_type": "code",
   "execution_count": 18,
   "metadata": {
    "collapsed": false
   },
   "outputs": [],
   "source": [
    "arch_storage = {'A1': 156, 'A2': 158.1, 'A3': 126.1}\n",
    "for arch in blend_cost.groupby(level=0).groups.keys():\n",
    "    blend_cost[arch]['AmazonS3']['TimedStorage-ByteHrs']['StandardStorage'] =\\\n",
    "        arch_storage[arch] * s3_rate * (arch_dur[arch] / pd.Timedelta('1 hour'))"
   ]
  },
  {
   "cell_type": "markdown",
   "metadata": {},
   "source": [
    "The new S3 storage costs are:"
   ]
  },
  {
   "cell_type": "code",
   "execution_count": 19,
   "metadata": {
    "collapsed": false
   },
   "outputs": [
    {
     "data": {
      "text/plain": [
       "Arch  lineItem/ProductCode  lineItem/UsageType    lineItem/Operation\n",
       "A1    AmazonS3              TimedStorage-ByteHrs  StandardStorage       0.094683\n",
       "A2    AmazonS3              TimedStorage-ByteHrs  StandardStorage       0.010101\n",
       "A3    AmazonS3              TimedStorage-ByteHrs  StandardStorage       0.008056\n",
       "Name: lineItem/BlendedCost, dtype: float64"
      ]
     },
     "execution_count": 19,
     "metadata": {},
     "output_type": "execute_result"
    }
   ],
   "source": [
    "blend_cost.loc[pd.IndexSlice[:, ['AmazonS3'], ['TimedStorage-ByteHrs'], ['StandardStorage']]]"
   ]
  },
  {
   "cell_type": "markdown",
   "metadata": {},
   "source": [
    "---"
   ]
  },
  {
   "cell_type": "markdown",
   "metadata": {},
   "source": [
    "Continue with cost analysis..."
   ]
  },
  {
   "cell_type": "markdown",
   "metadata": {},
   "source": [
    "Total cost per architecture in US$:"
   ]
  },
  {
   "cell_type": "code",
   "execution_count": 20,
   "metadata": {
    "collapsed": false
   },
   "outputs": [
    {
     "data": {
      "text/plain": [
       "Arch\n",
       "A1    13.745222\n",
       "A2     1.752961\n",
       "A3     1.752981\n",
       "Name: lineItem/BlendedCost, dtype: float64"
      ]
     },
     "execution_count": 20,
     "metadata": {},
     "output_type": "execute_result"
    }
   ],
   "source": [
    "tot_cost = blend_cost.groupby(level=[0]).sum()\n",
    "tot_cost"
   ]
  },
  {
   "cell_type": "markdown",
   "metadata": {},
   "source": [
    "Total cost as a percentage of the total's total:"
   ]
  },
  {
   "cell_type": "code",
   "execution_count": 21,
   "metadata": {
    "collapsed": false
   },
   "outputs": [
    {
     "data": {
      "text/plain": [
       "Arch\n",
       "A1    79.677072\n",
       "A2    10.161407\n",
       "A3    10.161521\n",
       "Name: lineItem/BlendedCost, dtype: float64"
      ]
     },
     "execution_count": 21,
     "metadata": {},
     "output_type": "execute_result"
    }
   ],
   "source": [
    "100 * tot_cost/tot_cost.sum()"
   ]
  },
  {
   "cell_type": "code",
   "execution_count": 22,
   "metadata": {
    "collapsed": false
   },
   "outputs": [
    {
     "data": {
      "text/html": [
       "\n",
       "\n",
       "    <div class=\"bk-root\">\n",
       "        <div class=\"bk-plotdiv\" id=\"ceea7003-674f-4c4b-9c73-71a706186da6\"></div>\n",
       "    </div>\n",
       "<script type=\"text/javascript\">\n",
       "  \n",
       "  (function(global) {\n",
       "    function now() {\n",
       "      return new Date();\n",
       "    }\n",
       "  \n",
       "    var force = false;\n",
       "  \n",
       "    if (typeof (window._bokeh_onload_callbacks) === \"undefined\" || force === true) {\n",
       "      window._bokeh_onload_callbacks = [];\n",
       "      window._bokeh_is_loading = undefined;\n",
       "    }\n",
       "  \n",
       "  \n",
       "    \n",
       "    if (typeof (window._bokeh_timeout) === \"undefined\" || force === true) {\n",
       "      window._bokeh_timeout = Date.now() + 0;\n",
       "      window._bokeh_failed_load = false;\n",
       "    }\n",
       "  \n",
       "    var NB_LOAD_WARNING = {'data': {'text/html':\n",
       "       \"<div style='background-color: #fdd'>\\n\"+\n",
       "       \"<p>\\n\"+\n",
       "       \"BokehJS does not appear to have successfully loaded. If loading BokehJS from CDN, this \\n\"+\n",
       "       \"may be due to a slow or bad network connection. Possible fixes:\\n\"+\n",
       "       \"</p>\\n\"+\n",
       "       \"<ul>\\n\"+\n",
       "       \"<li>re-rerun `output_notebook()` to attempt to load from CDN again, or</li>\\n\"+\n",
       "       \"<li>use INLINE resources instead, as so:</li>\\n\"+\n",
       "       \"</ul>\\n\"+\n",
       "       \"<code>\\n\"+\n",
       "       \"from bokeh.resources import INLINE\\n\"+\n",
       "       \"output_notebook(resources=INLINE)\\n\"+\n",
       "       \"</code>\\n\"+\n",
       "       \"</div>\"}};\n",
       "  \n",
       "    function display_loaded() {\n",
       "      if (window.Bokeh !== undefined) {\n",
       "        document.getElementById(\"ceea7003-674f-4c4b-9c73-71a706186da6\").textContent = \"BokehJS successfully loaded.\";\n",
       "      } else if (Date.now() < window._bokeh_timeout) {\n",
       "        setTimeout(display_loaded, 100)\n",
       "      }\n",
       "    }\n",
       "  \n",
       "    function run_callbacks() {\n",
       "      window._bokeh_onload_callbacks.forEach(function(callback) { callback() });\n",
       "      delete window._bokeh_onload_callbacks\n",
       "      console.info(\"Bokeh: all callbacks have finished\");\n",
       "    }\n",
       "  \n",
       "    function load_libs(js_urls, callback) {\n",
       "      window._bokeh_onload_callbacks.push(callback);\n",
       "      if (window._bokeh_is_loading > 0) {\n",
       "        console.log(\"Bokeh: BokehJS is being loaded, scheduling callback at\", now());\n",
       "        return null;\n",
       "      }\n",
       "      if (js_urls == null || js_urls.length === 0) {\n",
       "        run_callbacks();\n",
       "        return null;\n",
       "      }\n",
       "      console.log(\"Bokeh: BokehJS not loaded, scheduling load and callback at\", now());\n",
       "      window._bokeh_is_loading = js_urls.length;\n",
       "      for (var i = 0; i < js_urls.length; i++) {\n",
       "        var url = js_urls[i];\n",
       "        var s = document.createElement('script');\n",
       "        s.src = url;\n",
       "        s.async = false;\n",
       "        s.onreadystatechange = s.onload = function() {\n",
       "          window._bokeh_is_loading--;\n",
       "          if (window._bokeh_is_loading === 0) {\n",
       "            console.log(\"Bokeh: all BokehJS libraries loaded\");\n",
       "            run_callbacks()\n",
       "          }\n",
       "        };\n",
       "        s.onerror = function() {\n",
       "          console.warn(\"failed to load library \" + url);\n",
       "        };\n",
       "        console.log(\"Bokeh: injecting script tag for BokehJS library: \", url);\n",
       "        document.getElementsByTagName(\"head\")[0].appendChild(s);\n",
       "      }\n",
       "    };var element = document.getElementById(\"ceea7003-674f-4c4b-9c73-71a706186da6\");\n",
       "    if (element == null) {\n",
       "      console.log(\"Bokeh: ERROR: autoload.js configured with elementid 'ceea7003-674f-4c4b-9c73-71a706186da6' but no matching script tag was found. \")\n",
       "      return false;\n",
       "    }\n",
       "  \n",
       "    var js_urls = [];\n",
       "  \n",
       "    var inline_js = [\n",
       "      function(Bokeh) {\n",
       "        (function() {\n",
       "          var fn = function() {\n",
       "            var docs_json = {\"18fe9123-e1ae-4dfc-ab2a-9fe6a22d18da\":{\"roots\":{\"references\":[{\"attributes\":{\"callback\":null,\"end\":3.1500000000000004,\"start\":-3.1500000000000004},\"id\":\"e02d3933-9c11-44ba-8d66-6d0cd4aa08d5\",\"type\":\"Range1d\"},{\"attributes\":{\"plot\":{\"id\":\"41a8672f-151d-4b3c-b5f0-d0cc9254a891\",\"subtype\":\"Chart\",\"type\":\"Plot\"}},\"id\":\"406ef5c9-5b92-4508-ac69-6cacac1760e8\",\"type\":\"SaveTool\"},{\"attributes\":{},\"id\":\"8d300e62-7da1-4aef-ac06-6fb9001769aa\",\"type\":\"BasicTickFormatter\"},{\"attributes\":{\"plot\":null,\"text\":\"AWS Total Cost Breakdown per Architecture\"},\"id\":\"29038fdf-e3ba-4d25-8f7c-0226836d66c5\",\"type\":\"Title\"},{\"attributes\":{},\"id\":\"12b1b8ee-0f22-420d-a846-8471f1ecde13\",\"type\":\"BasicTickFormatter\"},{\"attributes\":{\"active_drag\":\"auto\",\"active_scroll\":\"auto\",\"active_tap\":\"auto\",\"tools\":[{\"id\":\"60580745-7936-4c76-abb0-985270c1d5df\",\"type\":\"PanTool\"},{\"id\":\"fe1d40ee-6e40-439c-9095-81f6b7059ac3\",\"type\":\"WheelZoomTool\"},{\"id\":\"da695663-1ff4-4484-b933-2dde0c0b89a9\",\"type\":\"BoxZoomTool\"},{\"id\":\"406ef5c9-5b92-4508-ac69-6cacac1760e8\",\"type\":\"SaveTool\"},{\"id\":\"9afb4bb9-6a75-4290-a49e-84ddf6e6072b\",\"type\":\"ResetTool\"},{\"id\":\"192aa73b-1ffd-45bd-a4ce-ed17978fd9c5\",\"type\":\"HelpTool\"}]},\"id\":\"5630cef8-0040-4fd4-9135-412ac83c5c35\",\"type\":\"Toolbar\"},{\"attributes\":{\"plot\":{\"id\":\"41a8672f-151d-4b3c-b5f0-d0cc9254a891\",\"subtype\":\"Chart\",\"type\":\"Plot\"}},\"id\":\"60580745-7936-4c76-abb0-985270c1d5df\",\"type\":\"PanTool\"},{\"attributes\":{\"end_angle\":{\"field\":\"end\",\"units\":\"rad\"},\"fill_alpha\":{\"value\":0.8},\"fill_color\":{\"field\":\"color\"},\"inner_radius\":{\"field\":\"inners\",\"units\":\"data\"},\"line_color\":{\"value\":\"White\"},\"outer_radius\":{\"field\":\"outers\",\"units\":\"data\"},\"start_angle\":{\"field\":\"start\",\"units\":\"rad\"},\"x\":{\"value\":0},\"y\":{\"value\":0}},\"id\":\"448fe6cc-0ff3-469b-809e-7e550c97587d\",\"type\":\"AnnularWedge\"},{\"attributes\":{\"data_source\":{\"id\":\"230f5e6a-c445-4095-8b07-3a68260ff298\",\"type\":\"ColumnDataSource\"},\"glyph\":{\"id\":\"448fe6cc-0ff3-469b-809e-7e550c97587d\",\"type\":\"AnnularWedge\"},\"hover_glyph\":null,\"nonselection_glyph\":null,\"selection_glyph\":null},\"id\":\"05136f16-bf37-4249-a17d-0898315de50c\",\"type\":\"GlyphRenderer\"},{\"attributes\":{\"plot\":{\"id\":\"41a8672f-151d-4b3c-b5f0-d0cc9254a891\",\"subtype\":\"Chart\",\"type\":\"Plot\"}},\"id\":\"9afb4bb9-6a75-4290-a49e-84ddf6e6072b\",\"type\":\"ResetTool\"},{\"attributes\":{\"plot\":{\"id\":\"41a8672f-151d-4b3c-b5f0-d0cc9254a891\",\"subtype\":\"Chart\",\"type\":\"Plot\"}},\"id\":\"192aa73b-1ffd-45bd-a4ce-ed17978fd9c5\",\"type\":\"HelpTool\"},{\"attributes\":{\"callback\":null,\"end\":3.1500000000000004,\"start\":-3.1500000000000004},\"id\":\"0f4826d6-9a79-4478-9990-1dcdffffca27\",\"type\":\"Range1d\"},{\"attributes\":{\"location\":\"top_left\",\"plot\":{\"id\":\"41a8672f-151d-4b3c-b5f0-d0cc9254a891\",\"subtype\":\"Chart\",\"type\":\"Plot\"}},\"id\":\"8b30f579-0ff5-4990-b7cf-f44689c3801b\",\"type\":\"Legend\"},{\"attributes\":{\"angle\":{\"field\":\"text_angle\",\"units\":\"rad\"},\"text_align\":\"center\",\"text_baseline\":\"middle\",\"text_font_size\":{\"value\":\"10pt\"},\"x\":{\"field\":\"x\"},\"y\":{\"field\":\"y\"}},\"id\":\"ff3cf3a7-2d8a-4d83-b22b-c9236185a43d\",\"type\":\"Text\"},{\"attributes\":{},\"id\":\"b803d4ce-3701-4fee-a859-01db3b9f9437\",\"type\":\"BasicTicker\"},{\"attributes\":{},\"id\":\"c7499d3e-6b77-4d59-86d3-825fd704e0b9\",\"type\":\"BasicTicker\"},{\"attributes\":{\"axis_label\":null,\"formatter\":{\"id\":\"8d300e62-7da1-4aef-ac06-6fb9001769aa\",\"type\":\"BasicTickFormatter\"},\"plot\":{\"id\":\"41a8672f-151d-4b3c-b5f0-d0cc9254a891\",\"subtype\":\"Chart\",\"type\":\"Plot\"},\"ticker\":{\"id\":\"b803d4ce-3701-4fee-a859-01db3b9f9437\",\"type\":\"BasicTicker\"},\"visible\":false},\"id\":\"fdbd56c0-1fa2-430e-b0a4-fa619be1129a\",\"type\":\"LinearAxis\"},{\"attributes\":{\"callback\":null,\"column_names\":[\"text_angle\",\"y\",\"text\",\"x\"],\"data\":{\"text\":[\"A1\",\"AmazonEC2\",\"AmazonS3\",\"A2\",\"AmazonEC2\",\"AmazonS3\",\"A3\",\"AmazonEC2\",\"AmazonS3\"],\"text_angle\":{\"__ndarray__\":\"AAAAAAAAAABm6IT49HMWQJYv3Y8r5hNAAAAAAAAAAAC4M2eMZkcVQOL/EshKjhZAAAAAAAAAAAAwLutSbtUXQNQa539THBlA\",\"dtype\":\"float64\",\"shape\":[9]},\"x\":[-0.9033888671339493,-1.7636740133813007,0.5836188942701634,0.6473304761982464,1.2840382165105104,1.7990180008309788,1.068160747102279,2.1323889102911324,2.24996568322682],\"y\":[0.6704577203213039,1.3971234643092556,-2.172990792951243,-0.9201023065860403,-1.847632500942898,-1.3513083410850788,-0.3530688578024144,-0.7179258563858788,-0.012426757488143257]}},\"id\":\"d7c43d6c-8c3f-4fd5-9c37-458f74bea3bf\",\"type\":\"ColumnDataSource\"},{\"attributes\":{\"overlay\":{\"id\":\"32699755-417d-4040-86b5-4b4b2036acd4\",\"type\":\"BoxAnnotation\"},\"plot\":{\"id\":\"41a8672f-151d-4b3c-b5f0-d0cc9254a891\",\"subtype\":\"Chart\",\"type\":\"Plot\"}},\"id\":\"da695663-1ff4-4484-b933-2dde0c0b89a9\",\"type\":\"BoxZoomTool\"},{\"attributes\":{},\"id\":\"f21e5167-c8f8-4c58-a930-f6d4e97e4f8f\",\"type\":\"ToolEvents\"},{\"attributes\":{\"callback\":null,\"column_names\":[\"inners\",\"values\",\"level\",\"end\",\"centers\",\"color\",\"outers\",\"Arch_lineItem/ProductCode\",\"start\"],\"data\":{\"Arch_lineItem/ProductCode\":[[\"A1\",\"\"],[\"A1\",\"AmazonEC2\"],[\"A1\",\"AmazonS3\"],[\"A2\",\"\"],[\"A2\",\"AmazonEC2\"],[\"A2\",\"AmazonS3\"],[\"A3\",\"\"],[\"A3\",\"AmazonEC2\"],[\"A3\",\"AmazonS3\"]],\"centers\":[1.125,2.25,2.25,1.125,2.25,2.25,1.125,2.25,2.25],\"color\":[\"#f22c40\",\"#f22c40\",\"#f22c40\",\"#5ab738\",\"#5ab738\",\"#5ab738\",\"#407ee7\",\"#407ee7\",\"#407ee7\"],\"end\":[5.006258054911875,4.943293046534495,5.006258054911875,5.644718085201886,5.633196202669744,5.644718085201885,6.283185307179586,6.272139244365592,6.283185307179585],\"inners\":[0.0,1.5,1.5,0.0,1.5,1.5,0.0,1.5,1.5],\"level\":[0.0,1.0,1.0,0.0,1.0,1.0,0.0,1.0,1.0],\"outers\":[1.5,3.0,3.0,1.5,3.0,3.0,1.5,3.0,3.0],\"start\":[0.0,0.0,4.943293046534495,5.006258054911875,5.006258054911875,5.633196202669744,5.644718085201886,5.644718085201885,6.272139244365592],\"values\":[13.745222373333327,13.572345139999994,0.17287723333333332,1.7529609933333337,1.7213264200000002,0.031634573333333325,1.752980738888889,1.72265258,0.030328158888888887]}},\"id\":\"230f5e6a-c445-4095-8b07-3a68260ff298\",\"type\":\"ColumnDataSource\"},{\"attributes\":{\"data_source\":{\"id\":\"d7c43d6c-8c3f-4fd5-9c37-458f74bea3bf\",\"type\":\"ColumnDataSource\"},\"glyph\":{\"id\":\"ff3cf3a7-2d8a-4d83-b22b-c9236185a43d\",\"type\":\"Text\"},\"hover_glyph\":null,\"nonselection_glyph\":null,\"selection_glyph\":null},\"id\":\"32a8d7fd-1716-4c73-bb2c-e3307323f4fd\",\"type\":\"GlyphRenderer\"},{\"attributes\":{\"below\":[{\"id\":\"31de63c4-033b-410e-ab8b-6a3075741d2b\",\"type\":\"LinearAxis\"}],\"css_classes\":null,\"left\":[{\"id\":\"fdbd56c0-1fa2-430e-b0a4-fa619be1129a\",\"type\":\"LinearAxis\"}],\"plot_height\":400,\"plot_width\":400,\"renderers\":[{\"id\":\"32699755-417d-4040-86b5-4b4b2036acd4\",\"type\":\"BoxAnnotation\"},{\"id\":\"05136f16-bf37-4249-a17d-0898315de50c\",\"type\":\"GlyphRenderer\"},{\"id\":\"32a8d7fd-1716-4c73-bb2c-e3307323f4fd\",\"type\":\"GlyphRenderer\"},{\"id\":\"8b30f579-0ff5-4990-b7cf-f44689c3801b\",\"type\":\"Legend\"},{\"id\":\"31de63c4-033b-410e-ab8b-6a3075741d2b\",\"type\":\"LinearAxis\"},{\"id\":\"fdbd56c0-1fa2-430e-b0a4-fa619be1129a\",\"type\":\"LinearAxis\"}],\"title\":{\"id\":\"29038fdf-e3ba-4d25-8f7c-0226836d66c5\",\"type\":\"Title\"},\"tool_events\":{\"id\":\"f21e5167-c8f8-4c58-a930-f6d4e97e4f8f\",\"type\":\"ToolEvents\"},\"toolbar\":{\"id\":\"5630cef8-0040-4fd4-9135-412ac83c5c35\",\"type\":\"Toolbar\"},\"x_mapper_type\":\"auto\",\"x_range\":{\"id\":\"e02d3933-9c11-44ba-8d66-6d0cd4aa08d5\",\"type\":\"Range1d\"},\"y_mapper_type\":\"auto\",\"y_range\":{\"id\":\"0f4826d6-9a79-4478-9990-1dcdffffca27\",\"type\":\"Range1d\"}},\"id\":\"41a8672f-151d-4b3c-b5f0-d0cc9254a891\",\"subtype\":\"Chart\",\"type\":\"Plot\"},{\"attributes\":{\"bottom_units\":\"screen\",\"fill_alpha\":{\"value\":0.5},\"fill_color\":{\"value\":\"lightgrey\"},\"left_units\":\"screen\",\"level\":\"overlay\",\"line_alpha\":{\"value\":1.0},\"line_color\":{\"value\":\"black\"},\"line_dash\":[4,4],\"line_width\":{\"value\":2},\"plot\":null,\"render_mode\":\"css\",\"right_units\":\"screen\",\"top_units\":\"screen\"},\"id\":\"32699755-417d-4040-86b5-4b4b2036acd4\",\"type\":\"BoxAnnotation\"},{\"attributes\":{\"axis_label\":null,\"formatter\":{\"id\":\"12b1b8ee-0f22-420d-a846-8471f1ecde13\",\"type\":\"BasicTickFormatter\"},\"plot\":{\"id\":\"41a8672f-151d-4b3c-b5f0-d0cc9254a891\",\"subtype\":\"Chart\",\"type\":\"Plot\"},\"ticker\":{\"id\":\"c7499d3e-6b77-4d59-86d3-825fd704e0b9\",\"type\":\"BasicTicker\"},\"visible\":false},\"id\":\"31de63c4-033b-410e-ab8b-6a3075741d2b\",\"type\":\"LinearAxis\"},{\"attributes\":{\"plot\":{\"id\":\"41a8672f-151d-4b3c-b5f0-d0cc9254a891\",\"subtype\":\"Chart\",\"type\":\"Plot\"}},\"id\":\"fe1d40ee-6e40-439c-9095-81f6b7059ac3\",\"type\":\"WheelZoomTool\"}],\"root_ids\":[\"41a8672f-151d-4b3c-b5f0-d0cc9254a891\"]},\"title\":\"Bokeh Application\",\"version\":\"0.12.4\"}};\n",
       "            var render_items = [{\"docid\":\"18fe9123-e1ae-4dfc-ab2a-9fe6a22d18da\",\"elementid\":\"ceea7003-674f-4c4b-9c73-71a706186da6\",\"modelid\":\"41a8672f-151d-4b3c-b5f0-d0cc9254a891\"}];\n",
       "            \n",
       "            Bokeh.embed.embed_items(docs_json, render_items);\n",
       "          };\n",
       "          if (document.readyState != \"loading\") fn();\n",
       "          else document.addEventListener(\"DOMContentLoaded\", fn);\n",
       "        })();\n",
       "      },\n",
       "      function(Bokeh) {\n",
       "      }\n",
       "    ];\n",
       "  \n",
       "    function run_inline_js() {\n",
       "      \n",
       "      if ((window.Bokeh !== undefined) || (force === true)) {\n",
       "        for (var i = 0; i < inline_js.length; i++) {\n",
       "          inline_js[i](window.Bokeh);\n",
       "        }if (force === true) {\n",
       "          display_loaded();\n",
       "        }} else if (Date.now() < window._bokeh_timeout) {\n",
       "        setTimeout(run_inline_js, 100);\n",
       "      } else if (!window._bokeh_failed_load) {\n",
       "        console.log(\"Bokeh: BokehJS failed to load within specified timeout.\");\n",
       "        window._bokeh_failed_load = true;\n",
       "      } else if (force !== true) {\n",
       "        var cell = $(document.getElementById(\"ceea7003-674f-4c4b-9c73-71a706186da6\")).parents('.cell').data().cell;\n",
       "        cell.output_area.append_execute_result(NB_LOAD_WARNING)\n",
       "      }\n",
       "  \n",
       "    }\n",
       "  \n",
       "    if (window._bokeh_is_loading === 0) {\n",
       "      console.log(\"Bokeh: BokehJS loaded, going straight to plotting\");\n",
       "      run_inline_js();\n",
       "    } else {\n",
       "      load_libs(js_urls, function() {\n",
       "        console.log(\"Bokeh: BokehJS plotting callback run at\", now());\n",
       "        run_inline_js();\n",
       "      });\n",
       "    }\n",
       "  }(this));\n",
       "</script>"
      ]
     },
     "metadata": {},
     "output_type": "display_data"
    }
   ],
   "source": [
    "f = Donut(blend_cost.groupby(level=[0, 1]).sum(), \n",
    "          title='AWS Total Cost Breakdown per Architecture')\n",
    "show(f)"
   ]
  },
  {
   "cell_type": "markdown",
   "metadata": {},
   "source": [
    "Cost percentage change when compared to Architecture \\#1:"
   ]
  },
  {
   "cell_type": "code",
   "execution_count": 23,
   "metadata": {
    "collapsed": false
   },
   "outputs": [
    {
     "data": {
      "text/plain": [
       "Arch\n",
       "A1     0.000000\n",
       "A2   -87.246761\n",
       "A3   -87.246618\n",
       "Name: lineItem/BlendedCost, dtype: float64"
      ]
     },
     "execution_count": 23,
     "metadata": {},
     "output_type": "execute_result"
    }
   ],
   "source": [
    "percent_change(tot_cost['A1'], tot_cost)"
   ]
  },
  {
   "cell_type": "markdown",
   "metadata": {},
   "source": [
    "##### Blended Cost Percent Changes between Two Architectures"
   ]
  },
  {
   "cell_type": "markdown",
   "metadata": {},
   "source": [
    "Cost percentage change between Arch. \\#2 and \\#1:"
   ]
  },
  {
   "cell_type": "code",
   "execution_count": 24,
   "metadata": {
    "collapsed": false
   },
   "outputs": [
    {
     "data": {
      "text/plain": [
       "lineItem/ProductCode  lineItem/UsageType           lineItem/Operation\n",
       "AmazonEC2             BoxUsage:m4.xlarge           RunInstances         -86.440678\n",
       "                      DataTransfer-Regional-Bytes  PublicIP-Out          52.058328\n",
       "AmazonS3              Requests-Tier1               ListBucketVersions   -90.676118\n",
       "                      Requests-Tier2               GetObject             88.502714\n",
       "                                                   HeadBucket           -90.372671\n",
       "                      TimedStorage-ByteHrs         StandardStorage      -89.331984\n",
       "                      USE1-USW2-AWS-Out-Bytes      GetObject            -50.921642\n",
       "                                                   HeadBucket           -90.229885\n",
       "                                                   ListBucketVersions   -90.645253\n",
       "Name: lineItem/BlendedCost, dtype: float64"
      ]
     },
     "execution_count": 24,
     "metadata": {},
     "output_type": "execute_result"
    }
   ],
   "source": [
    "percent_change(blend_cost['A1'], blend_cost['A2'])"
   ]
  },
  {
   "cell_type": "markdown",
   "metadata": {},
   "source": [
    "Cost percentage change between Arch. \\#3 and \\#1:"
   ]
  },
  {
   "cell_type": "code",
   "execution_count": 25,
   "metadata": {
    "collapsed": false
   },
   "outputs": [
    {
     "data": {
      "text/plain": [
       "lineItem/ProductCode  lineItem/UsageType           lineItem/Operation\n",
       "AmazonEC2             BoxUsage:m4.xlarge           RunInstances         -86.440678\n",
       "                      DataTransfer-Regional-Bytes  PublicIP-Out          52.043425\n",
       "AmazonS3              Requests-Tier1               ListBucketVersions   -88.131589\n",
       "                      Requests-Tier2               GetObject             75.513725\n",
       "                                                   HeadBucket           -90.838509\n",
       "                      TimedStorage-ByteHrs         StandardStorage      -91.491228\n",
       "                      USE1-USW2-AWS-Out-Bytes      GetObject            -54.420944\n",
       "                                                   HeadBucket           -90.804598\n",
       "                                                   ListBucketVersions   -88.103912\n",
       "Name: lineItem/BlendedCost, dtype: float64"
      ]
     },
     "execution_count": 25,
     "metadata": {},
     "output_type": "execute_result"
    }
   ],
   "source": [
    "percent_change(blend_cost['A1'], blend_cost['A3'])"
   ]
  },
  {
   "cell_type": "markdown",
   "metadata": {},
   "source": [
    "Cost percentage change between Arch. \\#3 and \\#2:"
   ]
  },
  {
   "cell_type": "code",
   "execution_count": 26,
   "metadata": {
    "collapsed": false
   },
   "outputs": [
    {
     "data": {
      "text/plain": [
       "lineItem/ProductCode  lineItem/UsageType           lineItem/Operation\n",
       "AmazonEC2             BoxUsage:m4.xlarge           RunInstances           0.000000\n",
       "                      DataTransfer-Regional-Bytes  PublicIP-Out          -0.009801\n",
       "AmazonS3              Requests-Tier1               ListBucketVersions    27.290448\n",
       "                      Requests-Tier2               GetObject             -6.890612\n",
       "                                                   HeadBucket            -4.838710\n",
       "                      TimedStorage-ByteHrs         StandardStorage      -20.240354\n",
       "                      USE1-USW2-AWS-Out-Bytes      GetObject             -7.130031\n",
       "                                                   HeadBucket            -5.882353\n",
       "                                                   ListBucketVersions    27.166324\n",
       "Name: lineItem/BlendedCost, dtype: float64"
      ]
     },
     "execution_count": 26,
     "metadata": {},
     "output_type": "execute_result"
    }
   ],
   "source": [
    "percent_change(blend_cost['A2'], blend_cost['A3'])"
   ]
  },
  {
   "cell_type": "markdown",
   "metadata": {},
   "source": [
    "##### Blended Cost as Percentage of the Total per Architecture"
   ]
  },
  {
   "cell_type": "markdown",
   "metadata": {},
   "source": [
    "Architecture \\#1:"
   ]
  },
  {
   "cell_type": "code",
   "execution_count": 27,
   "metadata": {
    "collapsed": false
   },
   "outputs": [
    {
     "data": {
      "text/plain": [
       "lineItem/ProductCode  lineItem/UsageType           lineItem/Operation\n",
       "AmazonEC2             BoxUsage:m4.xlarge           RunInstances          92.286612\n",
       "                      DataTransfer-Regional-Bytes  PublicIP-Out           0.006346\n",
       "                      EBS:SnapshotUsage            CreateSnapshot         0.473215\n",
       "                      EBS:VolumeUsage.gp2          CreateVolume-Gp2       5.976101\n",
       "AmazonS3              Requests-Tier1               ListBucketVersions     0.200142\n",
       "                                                   PutObject              0.000364\n",
       "                      Requests-Tier2               GetObject              0.057355\n",
       "                                                   HeadBucket             0.001874\n",
       "                                                   ReadACL                0.000012\n",
       "                      TimedStorage-ByteHrs         StandardStorage        0.688845\n",
       "                      USE1-USW2-AWS-Out-Bytes      GetObject              0.001981\n",
       "                                                   HeadBucket             0.000038\n",
       "                                                   ListBucketVersions     0.307114\n",
       "Name: lineItem/BlendedCost, dtype: float64"
      ]
     },
     "execution_count": 27,
     "metadata": {},
     "output_type": "execute_result"
    }
   ],
   "source": [
    "blend_cost['A1']/blend_cost['A1'].sum() * 100"
   ]
  },
  {
   "cell_type": "markdown",
   "metadata": {},
   "source": [
    "Architecture \\#2:"
   ]
  },
  {
   "cell_type": "code",
   "execution_count": 28,
   "metadata": {
    "collapsed": false
   },
   "outputs": [
    {
     "data": {
      "text/plain": [
       "lineItem/ProductCode  lineItem/UsageType           lineItem/Operation\n",
       "AmazonEC2             BoxUsage:m4.xlarge           RunInstances          98.119696\n",
       "                      DataTransfer-Regional-Bytes  PublicIP-Out           0.075667\n",
       "AmazonS3              Requests-Tier1               ListBucketVersions     0.146324\n",
       "                      Requests-Tier2               GetObject              0.847754\n",
       "                                                   HeadBucket             0.001415\n",
       "                      TimedStorage-ByteHrs         StandardStorage        0.576216\n",
       "                      USE1-USW2-AWS-Out-Bytes      GetObject              0.007625\n",
       "                                                   HeadBucket             0.000029\n",
       "                                                   ListBucketVersions     0.225274\n",
       "Name: lineItem/BlendedCost, dtype: float64"
      ]
     },
     "execution_count": 28,
     "metadata": {},
     "output_type": "execute_result"
    }
   ],
   "source": [
    "blend_cost['A2']/blend_cost['A2'].sum() * 100"
   ]
  },
  {
   "cell_type": "markdown",
   "metadata": {},
   "source": [
    "Architecture \\#3:"
   ]
  },
  {
   "cell_type": "code",
   "execution_count": 29,
   "metadata": {
    "collapsed": false
   },
   "outputs": [
    {
     "data": {
      "text/plain": [
       "lineItem/ProductCode  lineItem/UsageType           lineItem/Operation\n",
       "AmazonEC2             BoxUsage:m4.xlarge           RunInstances          98.118591\n",
       "                      DataTransfer-Regional-Bytes  PublicIP-In            0.075659\n",
       "                                                   PublicIP-Out           0.075659\n",
       "AmazonS3              Requests-Tier1               ListBucketVersions     0.186254\n",
       "                      Requests-Tier2               GetObject              0.789330\n",
       "                                                   HeadBucket             0.001346\n",
       "                      TimedStorage-ByteHrs         StandardStorage        0.459582\n",
       "                      USE1-USW2-AWS-Out-Bytes      GetObject              0.007081\n",
       "                                                   HeadBucket             0.000027\n",
       "                                                   ListBucketVersions     0.286470\n",
       "Name: lineItem/BlendedCost, dtype: float64"
      ]
     },
     "execution_count": 29,
     "metadata": {},
     "output_type": "execute_result"
    }
   ],
   "source": [
    "blend_cost['A3']/blend_cost['A3'].sum() * 100"
   ]
  },
  {
   "cell_type": "markdown",
   "metadata": {},
   "source": [
    "### Usage Amount"
   ]
  },
  {
   "cell_type": "code",
   "execution_count": 30,
   "metadata": {
    "collapsed": false,
    "scrolled": false
   },
   "outputs": [
    {
     "data": {
      "text/plain": [
       "Arch  lineItem/ProductCode  lineItem/UsageType           lineItem/Operation\n",
       "A1    AmazonEC2             BoxUsage:m4.xlarge           RunInstances          5.900000e+01\n",
       "                            DataTransfer-In-Bytes        RunInstances          6.271791e-01\n",
       "                            DataTransfer-Out-Bytes       RunInstances          3.444954e-02\n",
       "                            DataTransfer-Regional-Bytes  PublicIP-In           8.722682e-02\n",
       "                                                         PublicIP-Out          8.723084e-02\n",
       "                            EBS:SnapshotUsage            CreateSnapshot        1.300888e+00\n",
       "                            EBS:VolumeUsage.gp2          CreateVolume-Gp2      8.214286e+00\n",
       "                            EBSOptimized:m4.xlarge       Hourly                5.900000e+01\n",
       "      AmazonS3              DataTransfer-Out-Bytes       GetObject             3.551022e-02\n",
       "                            Requests-Tier1               ListBucketVersions    5.502000e+03\n",
       "                                                         PutObject             1.000000e+01\n",
       "                            Requests-Tier2               GetObject             1.970900e+04\n",
       "                                                         HeadBucket            6.440000e+02\n",
       "                                                         ReadACL               4.000000e+00\n",
       "                            TimedStorage-ByteHrs         StandardStorage       1.638131e+01\n",
       "                            USE1-USW2-AWS-Out-Bytes      GetObject             1.361704e-02\n",
       "                                                         HeadBucket            2.609000e-04\n",
       "                                                         ListBucketVersions    2.110677e+00\n",
       "      awskms                us-east-1-KMS-Requests       ListAliases           1.000000e+00\n",
       "A2    AmazonEC2             BoxUsage:m4.xlarge           RunInstances          8.000000e+00\n",
       "                            DataTransfer-In-Bytes        RunInstances          3.344890e-03\n",
       "                            DataTransfer-Out-Bytes       RunInstances          2.198029e-02\n",
       "                            DataTransfer-Regional-Bytes  PublicIP-In           1.326420e-01\n",
       "                                                         PublicIP-Out          1.326420e-01\n",
       "      AmazonS3              Requests-Tier1               ListBucketVersions    5.130000e+02\n",
       "                            Requests-Tier2               GetObject             3.715200e+04\n",
       "                                                         HeadBucket            6.200000e+01\n",
       "                            TimedStorage-ByteHrs         StandardStorage       1.638184e+01\n",
       "                            USE1-USW2-AWS-Out-Bytes      GetObject             6.683110e-03\n",
       "                                                         HeadBucket            2.512000e-05\n",
       "                                                         ListBucketVersions    1.974489e-01\n",
       "A3    AmazonEC2             BoxUsage:m4.xlarge           RunInstances          8.000000e+00\n",
       "                            DataTransfer-In-Bytes        RunInstances          3.246100e-03\n",
       "                            DataTransfer-Out-Bytes       RunInstances          2.199530e-02\n",
       "                            DataTransfer-Regional-Bytes  PublicIP-In           1.326287e-01\n",
       "                                                         PublicIP-Out          1.326287e-01\n",
       "                            USE1-USW2-AWS-In-Bytes       PublicIP-In           1.500000e-07\n",
       "                            USE1-USW2-AWS-Out-Bytes      PublicIP-Out          8.000000e-08\n",
       "      AmazonS3              Requests-Tier1               ListBucketVersions    6.530000e+02\n",
       "                            Requests-Tier2               GetObject             3.459200e+04\n",
       "                                                         HeadBucket            5.900000e+01\n",
       "                            TimedStorage-ByteHrs         StandardStorage       1.638280e+01\n",
       "                            USE1-USW2-AWS-Out-Bytes      GetObject             6.206760e-03\n",
       "                                                         HeadBucket            2.390000e-05\n",
       "                                                         ListBucketVersions    2.510884e-01\n",
       "Name: lineItem/UsageAmount, dtype: float64"
      ]
     },
     "execution_count": 30,
     "metadata": {},
     "output_type": "execute_result"
    }
   ],
   "source": [
    "use_amt = grp['lineItem/UsageAmount'].sum()\n",
    "use_amt = use_amt[use_amt != 0]\n",
    "use_amt"
   ]
  },
  {
   "cell_type": "markdown",
   "metadata": {},
   "source": [
    "Isolate only the number of Hyrax S3 requests:"
   ]
  },
  {
   "cell_type": "code",
   "execution_count": 31,
   "metadata": {
    "collapsed": false
   },
   "outputs": [
    {
     "data": {
      "text/plain": [
       "Arch  lineItem/ProductCode  lineItem/UsageType  lineItem/Operation\n",
       "A1    AmazonS3              Requests-Tier2      GetObject             19709.0\n",
       "A2    AmazonS3              Requests-Tier2      GetObject             37152.0\n",
       "A3    AmazonS3              Requests-Tier2      GetObject             34592.0\n",
       "Name: lineItem/UsageAmount, dtype: float64"
      ]
     },
     "execution_count": 31,
     "metadata": {},
     "output_type": "execute_result"
    }
   ],
   "source": [
    "use_amt.loc[pd.IndexSlice[:, ['AmazonS3'], ['Requests-Tier2'], ['GetObject']]]"
   ]
  },
  {
   "cell_type": "markdown",
   "metadata": {},
   "source": [
    "The change in the number of S3 requests between the architectures (A1 → A2 → A3):"
   ]
  },
  {
   "cell_type": "code",
   "execution_count": 32,
   "metadata": {
    "collapsed": false
   },
   "outputs": [
    {
     "data": {
      "text/plain": [
       "Arch  lineItem/ProductCode  lineItem/UsageType  lineItem/Operation\n",
       "A1    AmazonS3              Requests-Tier2      GetObject                 NaN\n",
       "A2    AmazonS3              Requests-Tier2      GetObject             17443.0\n",
       "A3    AmazonS3              Requests-Tier2      GetObject             -2560.0\n",
       "Name: lineItem/UsageAmount, dtype: float64"
      ]
     },
     "execution_count": 32,
     "metadata": {},
     "output_type": "execute_result"
    }
   ],
   "source": [
    "use_amt.loc[pd.IndexSlice[:, ['AmazonS3'], ['Requests-Tier2'], ['GetObject']]].diff()"
   ]
  },
  {
   "cell_type": "markdown",
   "metadata": {},
   "source": [
    "## AWS Product SKUs\n",
    "\n",
    "Below is the list of AWS product SKUs found in the Cloudydap cost report and their descriptions:"
   ]
  },
  {
   "cell_type": "code",
   "execution_count": 33,
   "metadata": {
    "collapsed": false
   },
   "outputs": [
    {
     "name": "stdout",
     "output_type": "stream",
     "text": [
      "AmazonEC2 :\n",
      "  SKU: 33Y5KYZ4JQEF6J66\n",
      "     $0.00 per GB - US East (Northern Virginia) data transfer from US West (Oregon)\n",
      "  SKU: 47GP959QAF69YPG5\n",
      "     $0.215 per On Demand Linux m4.xlarge Instance Hour\n",
      "  SKU: 7U7TWP44UP36AT3R\n",
      "     $0.05 per GB-Month of snapshot data stored - US East (Northern Virginia)\n",
      "  SKU: 9MG5B7V4UUU2WPAV\n",
      "     $0.000 per GB - data transfer in per month\n",
      "  SKU: 9W95WEA2F9V4BVUJ\n",
      "     $0.000 for 750 Mbps per m4.xlarge instance-hour (or partial hour)\n",
      "  SKU: HQEH3ZWJVT46JHRG\n",
      "     $0.000 per GB - first 1 GB of data transferred out per month\n",
      "     $0.090 per GB - first 10 TB / month data transfer out beyond the global free tier\n",
      "     $0.085 per GB - next 40 TB / month data transfer out\n",
      "     $0.070 per GB - next 100 TB / month data transfer out\n",
      "     $0.050 per GB - greater than 150 TB / month data transfer out\n",
      "  SKU: HY3BZPP2B6K8MSJF\n",
      "     $0.10 per GB-month of General Purpose SSD (gp2) provisioned storage - US East (Northern Virginia)\n",
      "  SKU: PNUBVW4CPC8XA46W\n",
      "     $0.010 per GB - regional data transfer - in/out/between EC2 AZs or using elastic IPs or ELB\n",
      "  SKU: XGXYRYWGNXSSEUVT\n",
      "     $0.02 per GB - US East (Northern Virginia) data transfer to US West (Oregon)\n",
      "\n",
      "\n",
      "AmazonS3 :\n",
      "  SKU: E9YHNFENF4XQBZR6\n",
      "     $0.005 per 1,000 PUT, COPY, POST, or LIST requests\n",
      "  SKU: HQEH3ZWJVT46JHRG\n",
      "     $0.000 per GB - first 1 GB of data transferred out per month\n",
      "     $0.090 per GB - first 10 TB / month data transfer out beyond the global free tier\n",
      "     $0.085 per GB - next 40 TB / month data transfer out\n",
      "     $0.070 per GB - next 100 TB / month data transfer out\n",
      "     $0.050 per GB - greater than 150 TB / month data transfer out\n",
      "  SKU: WP9ANXZGBYYSGJEA\n",
      "     $0.023 per GB - first 50 TB / month of storage used\n",
      "     $0.022 per GB - next 450 TB / month of storage used\n",
      "     $0.021 per GB - storage used / month over 500 TB\n",
      "  SKU: XGXYRYWGNXSSEUVT\n",
      "     $0.02 per GB - US East (Northern Virginia) data transfer to US West (Oregon)\n",
      "  SKU: ZWQ6Q48CRJXX4FXE\n",
      "     $0.004 per 10,000 GET and all other requests\n",
      "\n",
      "\n",
      "awskms :\n",
      "  SKU: MFEBZPX8NHM5FY7Z\n",
      "     $0.03 per 10000 KMS requests\n",
      "\n",
      "\n"
     ]
    }
   ],
   "source": [
    "SKUs = grp['product/sku'].unique()\n",
    "pc = SKUs.groupby(level='lineItem/ProductCode').apply(np.unique)\n",
    "oi = AWSOffersIndex()\n",
    "for g in pc.index:\n",
    "    print(g, ':')\n",
    "    s = oi.offer(g)\n",
    "    for sku in np.hstack(pc[g].flat):\n",
    "        print('  SKU:', sku)\n",
    "        prod = s.product(sku)\n",
    "        if len(prod.pricing) > 1:\n",
    "            raise ValueError('{}: More than one product pricing info')\n",
    "        tiers = prod.pricing[0].tiers\n",
    "        for t in tiers:\n",
    "            print('    ', t.description)\n",
    "    print('\\n')"
   ]
  }
 ],
 "metadata": {
  "kernelspec": {
   "display_name": "Python 3",
   "language": "python",
   "name": "python3"
  },
  "language_info": {
   "codemirror_mode": {
    "name": "ipython",
    "version": 3
   },
   "file_extension": ".py",
   "mimetype": "text/x-python",
   "name": "python",
   "nbconvert_exporter": "python",
   "pygments_lexer": "ipython3",
   "version": "3.5.1"
  }
 },
 "nbformat": 4,
 "nbformat_minor": 2
}
