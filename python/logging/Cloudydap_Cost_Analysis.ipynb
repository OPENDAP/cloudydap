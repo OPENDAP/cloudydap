{
 "cells": [
  {
   "cell_type": "markdown",
   "metadata": {},
   "source": [
    "# Cloudydap Cost Analysis"
   ]
  },
  {
   "cell_type": "code",
   "execution_count": 1,
   "metadata": {
    "collapsed": false
   },
   "outputs": [
    {
     "data": {
      "text/html": [
       "\n",
       "    <div class=\"bk-root\">\n",
       "        <a href=\"http://bokeh.pydata.org\" target=\"_blank\" class=\"bk-logo bk-logo-small bk-logo-notebook\"></a>\n",
       "        <span id=\"4a3d81de-6ef0-4b28-b328-658748de586e\">Loading BokehJS ...</span>\n",
       "    </div>"
      ]
     },
     "metadata": {},
     "output_type": "display_data"
    },
    {
     "data": {
      "application/javascript": [
       "\n",
       "(function(global) {\n",
       "  function now() {\n",
       "    return new Date();\n",
       "  }\n",
       "\n",
       "  var force = true;\n",
       "\n",
       "  if (typeof (window._bokeh_onload_callbacks) === \"undefined\" || force === true) {\n",
       "    window._bokeh_onload_callbacks = [];\n",
       "    window._bokeh_is_loading = undefined;\n",
       "  }\n",
       "\n",
       "\n",
       "  \n",
       "  if (typeof (window._bokeh_timeout) === \"undefined\" || force === true) {\n",
       "    window._bokeh_timeout = Date.now() + 5000;\n",
       "    window._bokeh_failed_load = false;\n",
       "  }\n",
       "\n",
       "  var NB_LOAD_WARNING = {'data': {'text/html':\n",
       "     \"<div style='background-color: #fdd'>\\n\"+\n",
       "     \"<p>\\n\"+\n",
       "     \"BokehJS does not appear to have successfully loaded. If loading BokehJS from CDN, this \\n\"+\n",
       "     \"may be due to a slow or bad network connection. Possible fixes:\\n\"+\n",
       "     \"</p>\\n\"+\n",
       "     \"<ul>\\n\"+\n",
       "     \"<li>re-rerun `output_notebook()` to attempt to load from CDN again, or</li>\\n\"+\n",
       "     \"<li>use INLINE resources instead, as so:</li>\\n\"+\n",
       "     \"</ul>\\n\"+\n",
       "     \"<code>\\n\"+\n",
       "     \"from bokeh.resources import INLINE\\n\"+\n",
       "     \"output_notebook(resources=INLINE)\\n\"+\n",
       "     \"</code>\\n\"+\n",
       "     \"</div>\"}};\n",
       "\n",
       "  function display_loaded() {\n",
       "    if (window.Bokeh !== undefined) {\n",
       "      document.getElementById(\"4a3d81de-6ef0-4b28-b328-658748de586e\").textContent = \"BokehJS successfully loaded.\";\n",
       "    } else if (Date.now() < window._bokeh_timeout) {\n",
       "      setTimeout(display_loaded, 100)\n",
       "    }\n",
       "  }\n",
       "\n",
       "  function run_callbacks() {\n",
       "    window._bokeh_onload_callbacks.forEach(function(callback) { callback() });\n",
       "    delete window._bokeh_onload_callbacks\n",
       "    console.info(\"Bokeh: all callbacks have finished\");\n",
       "  }\n",
       "\n",
       "  function load_libs(js_urls, callback) {\n",
       "    window._bokeh_onload_callbacks.push(callback);\n",
       "    if (window._bokeh_is_loading > 0) {\n",
       "      console.log(\"Bokeh: BokehJS is being loaded, scheduling callback at\", now());\n",
       "      return null;\n",
       "    }\n",
       "    if (js_urls == null || js_urls.length === 0) {\n",
       "      run_callbacks();\n",
       "      return null;\n",
       "    }\n",
       "    console.log(\"Bokeh: BokehJS not loaded, scheduling load and callback at\", now());\n",
       "    window._bokeh_is_loading = js_urls.length;\n",
       "    for (var i = 0; i < js_urls.length; i++) {\n",
       "      var url = js_urls[i];\n",
       "      var s = document.createElement('script');\n",
       "      s.src = url;\n",
       "      s.async = false;\n",
       "      s.onreadystatechange = s.onload = function() {\n",
       "        window._bokeh_is_loading--;\n",
       "        if (window._bokeh_is_loading === 0) {\n",
       "          console.log(\"Bokeh: all BokehJS libraries loaded\");\n",
       "          run_callbacks()\n",
       "        }\n",
       "      };\n",
       "      s.onerror = function() {\n",
       "        console.warn(\"failed to load library \" + url);\n",
       "      };\n",
       "      console.log(\"Bokeh: injecting script tag for BokehJS library: \", url);\n",
       "      document.getElementsByTagName(\"head\")[0].appendChild(s);\n",
       "    }\n",
       "  };var element = document.getElementById(\"4a3d81de-6ef0-4b28-b328-658748de586e\");\n",
       "  if (element == null) {\n",
       "    console.log(\"Bokeh: ERROR: autoload.js configured with elementid '4a3d81de-6ef0-4b28-b328-658748de586e' but no matching script tag was found. \")\n",
       "    return false;\n",
       "  }\n",
       "\n",
       "  var js_urls = [\"https://cdn.pydata.org/bokeh/release/bokeh-0.12.4.min.js\", \"https://cdn.pydata.org/bokeh/release/bokeh-widgets-0.12.4.min.js\"];\n",
       "\n",
       "  var inline_js = [\n",
       "    function(Bokeh) {\n",
       "      Bokeh.set_log_level(\"info\");\n",
       "    },\n",
       "    \n",
       "    function(Bokeh) {\n",
       "      \n",
       "      document.getElementById(\"4a3d81de-6ef0-4b28-b328-658748de586e\").textContent = \"BokehJS is loading...\";\n",
       "    },\n",
       "    function(Bokeh) {\n",
       "      console.log(\"Bokeh: injecting CSS: https://cdn.pydata.org/bokeh/release/bokeh-0.12.4.min.css\");\n",
       "      Bokeh.embed.inject_css(\"https://cdn.pydata.org/bokeh/release/bokeh-0.12.4.min.css\");\n",
       "      console.log(\"Bokeh: injecting CSS: https://cdn.pydata.org/bokeh/release/bokeh-widgets-0.12.4.min.css\");\n",
       "      Bokeh.embed.inject_css(\"https://cdn.pydata.org/bokeh/release/bokeh-widgets-0.12.4.min.css\");\n",
       "    }\n",
       "  ];\n",
       "\n",
       "  function run_inline_js() {\n",
       "    \n",
       "    if ((window.Bokeh !== undefined) || (force === true)) {\n",
       "      for (var i = 0; i < inline_js.length; i++) {\n",
       "        inline_js[i](window.Bokeh);\n",
       "      }if (force === true) {\n",
       "        display_loaded();\n",
       "      }} else if (Date.now() < window._bokeh_timeout) {\n",
       "      setTimeout(run_inline_js, 100);\n",
       "    } else if (!window._bokeh_failed_load) {\n",
       "      console.log(\"Bokeh: BokehJS failed to load within specified timeout.\");\n",
       "      window._bokeh_failed_load = true;\n",
       "    } else if (force !== true) {\n",
       "      var cell = $(document.getElementById(\"4a3d81de-6ef0-4b28-b328-658748de586e\")).parents('.cell').data().cell;\n",
       "      cell.output_area.append_execute_result(NB_LOAD_WARNING)\n",
       "    }\n",
       "\n",
       "  }\n",
       "\n",
       "  if (window._bokeh_is_loading === 0) {\n",
       "    console.log(\"Bokeh: BokehJS loaded, going straight to plotting\");\n",
       "    run_inline_js();\n",
       "  } else {\n",
       "    load_libs(js_urls, function() {\n",
       "      console.log(\"Bokeh: BokehJS plotting callback run at\", now());\n",
       "      run_inline_js();\n",
       "    });\n",
       "  }\n",
       "}(this));"
      ]
     },
     "metadata": {},
     "output_type": "display_data"
    }
   ],
   "source": [
    "import numpy as np\n",
    "import pandas as pd\n",
    "from aws_price_list import AWSOffersIndex\n",
    "from bokeh.charts import (output_notebook, output_file, show, \n",
    "                          Scatter, Histogram, TimeSeries, Donut, Step, Bar)\n",
    "from bokeh.plotting import figure, ColumnDataSource\n",
    "from bokeh.models import Range1d, HoverTool, ResizeTool\n",
    "\n",
    "\n",
    "output_notebook()"
   ]
  },
  {
   "cell_type": "markdown",
   "metadata": {},
   "source": [
    "# Input Cloudydap Cost Data"
   ]
  },
  {
   "cell_type": "code",
   "execution_count": 2,
   "metadata": {
    "collapsed": false
   },
   "outputs": [],
   "source": [
    "r = pd.read_csv('../../logs/cloudydap_costs.csv')"
   ]
  },
  {
   "cell_type": "markdown",
   "metadata": {},
   "source": [
    "Check if there is a column named \"Arch\" (indicates these are indeed Cloudydap cost data):"
   ]
  },
  {
   "cell_type": "code",
   "execution_count": 3,
   "metadata": {
    "collapsed": true
   },
   "outputs": [],
   "source": [
    "if 'Arch' not in r:\n",
    "    raise RuntimeError('Missing \"Arch\" column')"
   ]
  },
  {
   "cell_type": "markdown",
   "metadata": {},
   "source": [
    "Are there any null values in the `Arch` column:"
   ]
  },
  {
   "cell_type": "code",
   "execution_count": 4,
   "metadata": {
    "collapsed": true
   },
   "outputs": [],
   "source": [
    "if r.Arch.isnull().any():\n",
    "    raise ValueError('Null values detected in the \"Arch\" column')"
   ]
  },
  {
   "cell_type": "markdown",
   "metadata": {},
   "source": [
    "What do we have?"
   ]
  },
  {
   "cell_type": "code",
   "execution_count": 5,
   "metadata": {
    "collapsed": false
   },
   "outputs": [
    {
     "name": "stdout",
     "output_type": "stream",
     "text": [
      "<class 'pandas.core.frame.DataFrame'>\n",
      "RangeIndex: 553 entries, 0 to 552\n",
      "Data columns (total 74 columns):\n",
      "identity/LineItemId                    553 non-null object\n",
      "identity/TimeInterval                  553 non-null object\n",
      "bill/InvoiceId                         0 non-null float64\n",
      "bill/BillingEntity                     553 non-null object\n",
      "bill/BillType                          553 non-null object\n",
      "bill/PayerAccountId                    553 non-null int64\n",
      "bill/BillingPeriodStartDate            553 non-null object\n",
      "bill/BillingPeriodEndDate              553 non-null object\n",
      "lineItem/UsageAccountId                553 non-null int64\n",
      "lineItem/LineItemType                  553 non-null object\n",
      "lineItem/UsageStartDate                553 non-null object\n",
      "lineItem/UsageEndDate                  553 non-null object\n",
      "lineItem/ProductCode                   553 non-null object\n",
      "lineItem/UsageType                     553 non-null object\n",
      "lineItem/Operation                     553 non-null object\n",
      "lineItem/AvailabilityZone              150 non-null object\n",
      "lineItem/ResourceId                    551 non-null object\n",
      "lineItem/UsageAmount                   553 non-null float64\n",
      "lineItem/CurrencyCode                  553 non-null object\n",
      "lineItem/UnblendedRate                 553 non-null float64\n",
      "lineItem/UnblendedCost                 553 non-null float64\n",
      "lineItem/BlendedRate                   553 non-null float64\n",
      "lineItem/BlendedCost                   553 non-null float64\n",
      "lineItem/LineItemDescription           553 non-null object\n",
      "lineItem/TaxType                       0 non-null float64\n",
      "product/ProductName                    553 non-null object\n",
      "product/availability                   3 non-null object\n",
      "product/clockSpeed                     150 non-null object\n",
      "product/currentGeneration              150 non-null object\n",
      "product/dedicatedEbsThroughput         150 non-null object\n",
      "product/durability                     3 non-null object\n",
      "product/ebsOptimized                   75 non-null object\n",
      "product/enhancedNetworkingSupported    150 non-null object\n",
      "product/fromLocation                   246 non-null object\n",
      "product/fromLocationType               246 non-null object\n",
      "product/group                          76 non-null object\n",
      "product/groupDescription               76 non-null object\n",
      "product/instanceFamily                 150 non-null object\n",
      "product/instanceType                   150 non-null object\n",
      "product/licenseModel                   75 non-null object\n",
      "product/location                       307 non-null object\n",
      "product/locationType                   307 non-null object\n",
      "product/maxIopsBurstPerformance        77 non-null object\n",
      "product/maxIopsvolume                  77 non-null float64\n",
      "product/maxThroughputvolume            77 non-null object\n",
      "product/maxVolumeSize                  77 non-null object\n",
      "product/memory                         150 non-null object\n",
      "product/networkPerformance             150 non-null object\n",
      "product/operatingSystem                75 non-null object\n",
      "product/operation                      150 non-null object\n",
      "product/physicalProcessor              150 non-null object\n",
      "product/preInstalledSw                 0 non-null float64\n",
      "product/processorArchitecture          150 non-null object\n",
      "product/processorFeatures              150 non-null object\n",
      "product/productFamily                  553 non-null object\n",
      "product/servicecode                    553 non-null object\n",
      "product/sku                            553 non-null object\n",
      "product/storage                        150 non-null object\n",
      "product/storageClass                   3 non-null object\n",
      "product/storageMedia                   78 non-null object\n",
      "product/tenancy                        150 non-null object\n",
      "product/toLocation                     246 non-null object\n",
      "product/toLocationType                 246 non-null object\n",
      "product/transferType                   246 non-null object\n",
      "product/usagetype                      553 non-null object\n",
      "product/vcpu                           150 non-null float64\n",
      "product/volumeType                     80 non-null object\n",
      "pricing/publicOnDemandCost             553 non-null float64\n",
      "pricing/publicOnDemandRate             553 non-null float64\n",
      "pricing/term                           461 non-null object\n",
      "pricing/unit                           461 non-null object\n",
      "reservation/TotalReservedUnits         0 non-null float64\n",
      "reservation/UnitsPerReservation        0 non-null float64\n",
      "Arch                                   553 non-null object\n",
      "dtypes: float64(14), int64(2), object(58)\n",
      "memory usage: 319.8+ KB\n"
     ]
    }
   ],
   "source": [
    "r.info()"
   ]
  },
  {
   "cell_type": "markdown",
   "metadata": {},
   "source": [
    "## Analysis"
   ]
  },
  {
   "cell_type": "markdown",
   "metadata": {},
   "source": [
    "Breakdown on the entries per architecture (and what their identifiers are):"
   ]
  },
  {
   "cell_type": "code",
   "execution_count": 6,
   "metadata": {
    "collapsed": false
   },
   "outputs": [
    {
     "data": {
      "text/plain": [
       "A1    437\n",
       "A2     55\n",
       "A3     61\n",
       "Name: Arch, dtype: int64"
      ]
     },
     "execution_count": 6,
     "metadata": {},
     "output_type": "execute_result"
    }
   ],
   "source": [
    "r.Arch.value_counts().sort_index()"
   ]
  },
  {
   "cell_type": "markdown",
   "metadata": {},
   "source": [
    "Time span for each architecture:"
   ]
  },
  {
   "cell_type": "code",
   "execution_count": 7,
   "metadata": {
    "collapsed": true
   },
   "outputs": [],
   "source": [
    "grp = r.groupby('Arch')"
   ]
  },
  {
   "cell_type": "markdown",
   "metadata": {},
   "source": [
    "Architecture \\#1:"
   ]
  },
  {
   "cell_type": "code",
   "execution_count": 8,
   "metadata": {
    "collapsed": false
   },
   "outputs": [
    {
     "data": {
      "text/plain": [
       "'2017-02-23T10:00:00+00:00'"
      ]
     },
     "execution_count": 8,
     "metadata": {},
     "output_type": "execute_result"
    }
   ],
   "source": [
    "grp.get_group('A1')['lineItem/UsageStartDate'].min()"
   ]
  },
  {
   "cell_type": "code",
   "execution_count": 9,
   "metadata": {
    "collapsed": false
   },
   "outputs": [
    {
     "data": {
      "text/plain": [
       "'2017-02-24T05:00:00+00:00'"
      ]
     },
     "execution_count": 9,
     "metadata": {},
     "output_type": "execute_result"
    }
   ],
   "source": [
    "grp.get_group('A1')['lineItem/UsageEndDate'].max()"
   ]
  },
  {
   "cell_type": "markdown",
   "metadata": {},
   "source": [
    "Architecture \\#2:"
   ]
  },
  {
   "cell_type": "code",
   "execution_count": 10,
   "metadata": {
    "collapsed": false
   },
   "outputs": [
    {
     "data": {
      "text/plain": [
       "'2017-02-24T10:00:00+00:00'"
      ]
     },
     "execution_count": 10,
     "metadata": {},
     "output_type": "execute_result"
    }
   ],
   "source": [
    "grp.get_group('A2')['lineItem/UsageStartDate'].min()"
   ]
  },
  {
   "cell_type": "code",
   "execution_count": 11,
   "metadata": {
    "collapsed": false
   },
   "outputs": [
    {
     "data": {
      "text/plain": [
       "'2017-02-24T12:00:00+00:00'"
      ]
     },
     "execution_count": 11,
     "metadata": {},
     "output_type": "execute_result"
    }
   ],
   "source": [
    "grp.get_group('A2')['lineItem/UsageEndDate'].max()"
   ]
  },
  {
   "cell_type": "markdown",
   "metadata": {},
   "source": [
    "Architecture \\#3:"
   ]
  },
  {
   "cell_type": "code",
   "execution_count": 12,
   "metadata": {
    "collapsed": false
   },
   "outputs": [
    {
     "data": {
      "text/plain": [
       "'2017-02-25T10:00:00+00:00'"
      ]
     },
     "execution_count": 12,
     "metadata": {},
     "output_type": "execute_result"
    }
   ],
   "source": [
    "grp.get_group('A3')['lineItem/UsageStartDate'].min()"
   ]
  },
  {
   "cell_type": "code",
   "execution_count": 13,
   "metadata": {
    "collapsed": false
   },
   "outputs": [
    {
     "data": {
      "text/plain": [
       "'2017-02-25T12:00:00+00:00'"
      ]
     },
     "execution_count": 13,
     "metadata": {},
     "output_type": "execute_result"
    }
   ],
   "source": [
    "grp.get_group('A3')['lineItem/UsageEndDate'].max()"
   ]
  },
  {
   "cell_type": "markdown",
   "metadata": {},
   "source": [
    "### Cost"
   ]
  },
  {
   "cell_type": "markdown",
   "metadata": {},
   "source": [
    "Total cost per architecture in US$:"
   ]
  },
  {
   "cell_type": "code",
   "execution_count": 14,
   "metadata": {
    "collapsed": false
   },
   "outputs": [
    {
     "data": {
      "text/plain": [
       "Arch\n",
       "A1    14.027309\n",
       "A2     2.232738\n",
       "A3     2.264586\n",
       "Name: lineItem/BlendedCost, dtype: float64"
      ]
     },
     "execution_count": 14,
     "metadata": {},
     "output_type": "execute_result"
    }
   ],
   "source": [
    "tot_cost = grp['lineItem/BlendedCost'].sum()\n",
    "tot_cost"
   ]
  },
  {
   "cell_type": "code",
   "execution_count": 15,
   "metadata": {
    "collapsed": false
   },
   "outputs": [
    {
     "data": {
      "text/html": [
       "\n",
       "\n",
       "    <div class=\"bk-root\">\n",
       "        <div class=\"bk-plotdiv\" id=\"4b645895-cb24-428c-9ac9-63855708b2e5\"></div>\n",
       "    </div>\n",
       "<script type=\"text/javascript\">\n",
       "  \n",
       "  (function(global) {\n",
       "    function now() {\n",
       "      return new Date();\n",
       "    }\n",
       "  \n",
       "    var force = false;\n",
       "  \n",
       "    if (typeof (window._bokeh_onload_callbacks) === \"undefined\" || force === true) {\n",
       "      window._bokeh_onload_callbacks = [];\n",
       "      window._bokeh_is_loading = undefined;\n",
       "    }\n",
       "  \n",
       "  \n",
       "    \n",
       "    if (typeof (window._bokeh_timeout) === \"undefined\" || force === true) {\n",
       "      window._bokeh_timeout = Date.now() + 0;\n",
       "      window._bokeh_failed_load = false;\n",
       "    }\n",
       "  \n",
       "    var NB_LOAD_WARNING = {'data': {'text/html':\n",
       "       \"<div style='background-color: #fdd'>\\n\"+\n",
       "       \"<p>\\n\"+\n",
       "       \"BokehJS does not appear to have successfully loaded. If loading BokehJS from CDN, this \\n\"+\n",
       "       \"may be due to a slow or bad network connection. Possible fixes:\\n\"+\n",
       "       \"</p>\\n\"+\n",
       "       \"<ul>\\n\"+\n",
       "       \"<li>re-rerun `output_notebook()` to attempt to load from CDN again, or</li>\\n\"+\n",
       "       \"<li>use INLINE resources instead, as so:</li>\\n\"+\n",
       "       \"</ul>\\n\"+\n",
       "       \"<code>\\n\"+\n",
       "       \"from bokeh.resources import INLINE\\n\"+\n",
       "       \"output_notebook(resources=INLINE)\\n\"+\n",
       "       \"</code>\\n\"+\n",
       "       \"</div>\"}};\n",
       "  \n",
       "    function display_loaded() {\n",
       "      if (window.Bokeh !== undefined) {\n",
       "        document.getElementById(\"4b645895-cb24-428c-9ac9-63855708b2e5\").textContent = \"BokehJS successfully loaded.\";\n",
       "      } else if (Date.now() < window._bokeh_timeout) {\n",
       "        setTimeout(display_loaded, 100)\n",
       "      }\n",
       "    }\n",
       "  \n",
       "    function run_callbacks() {\n",
       "      window._bokeh_onload_callbacks.forEach(function(callback) { callback() });\n",
       "      delete window._bokeh_onload_callbacks\n",
       "      console.info(\"Bokeh: all callbacks have finished\");\n",
       "    }\n",
       "  \n",
       "    function load_libs(js_urls, callback) {\n",
       "      window._bokeh_onload_callbacks.push(callback);\n",
       "      if (window._bokeh_is_loading > 0) {\n",
       "        console.log(\"Bokeh: BokehJS is being loaded, scheduling callback at\", now());\n",
       "        return null;\n",
       "      }\n",
       "      if (js_urls == null || js_urls.length === 0) {\n",
       "        run_callbacks();\n",
       "        return null;\n",
       "      }\n",
       "      console.log(\"Bokeh: BokehJS not loaded, scheduling load and callback at\", now());\n",
       "      window._bokeh_is_loading = js_urls.length;\n",
       "      for (var i = 0; i < js_urls.length; i++) {\n",
       "        var url = js_urls[i];\n",
       "        var s = document.createElement('script');\n",
       "        s.src = url;\n",
       "        s.async = false;\n",
       "        s.onreadystatechange = s.onload = function() {\n",
       "          window._bokeh_is_loading--;\n",
       "          if (window._bokeh_is_loading === 0) {\n",
       "            console.log(\"Bokeh: all BokehJS libraries loaded\");\n",
       "            run_callbacks()\n",
       "          }\n",
       "        };\n",
       "        s.onerror = function() {\n",
       "          console.warn(\"failed to load library \" + url);\n",
       "        };\n",
       "        console.log(\"Bokeh: injecting script tag for BokehJS library: \", url);\n",
       "        document.getElementsByTagName(\"head\")[0].appendChild(s);\n",
       "      }\n",
       "    };var element = document.getElementById(\"4b645895-cb24-428c-9ac9-63855708b2e5\");\n",
       "    if (element == null) {\n",
       "      console.log(\"Bokeh: ERROR: autoload.js configured with elementid '4b645895-cb24-428c-9ac9-63855708b2e5' but no matching script tag was found. \")\n",
       "      return false;\n",
       "    }\n",
       "  \n",
       "    var js_urls = [];\n",
       "  \n",
       "    var inline_js = [\n",
       "      function(Bokeh) {\n",
       "        (function() {\n",
       "          var fn = function() {\n",
       "            var docs_json = {\"e346191d-e9a0-4572-922d-ee9644419bf7\":{\"roots\":{\"references\":[{\"attributes\":{\"overlay\":{\"id\":\"46c156ba-5291-42ee-9ed6-1887acc2cc7c\",\"type\":\"BoxAnnotation\"},\"plot\":{\"id\":\"675e3dc8-59d0-4e1a-94c1-5290e56b6a68\",\"subtype\":\"Chart\",\"type\":\"Plot\"}},\"id\":\"1fe9885d-6bbf-4869-a822-85aa545a38d6\",\"type\":\"BoxZoomTool\"},{\"attributes\":{\"end_angle\":{\"field\":\"end\",\"units\":\"rad\"},\"fill_alpha\":{\"value\":0.8},\"fill_color\":{\"field\":\"color\"},\"inner_radius\":{\"field\":\"inners\",\"units\":\"data\"},\"line_color\":{\"value\":\"White\"},\"outer_radius\":{\"field\":\"outers\",\"units\":\"data\"},\"start_angle\":{\"field\":\"start\",\"units\":\"rad\"},\"x\":{\"value\":0},\"y\":{\"value\":0}},\"id\":\"d2821172-6e6a-40bd-912b-5f3daee2a110\",\"type\":\"AnnularWedge\"},{\"attributes\":{\"below\":[{\"id\":\"2e28192c-b01f-4f19-ab4a-a9cb1a73b24b\",\"type\":\"LinearAxis\"}],\"css_classes\":null,\"left\":[{\"id\":\"5d875bc8-5d80-4a33-9056-b9b5b2a353af\",\"type\":\"LinearAxis\"}],\"plot_height\":400,\"plot_width\":400,\"renderers\":[{\"id\":\"46c156ba-5291-42ee-9ed6-1887acc2cc7c\",\"type\":\"BoxAnnotation\"},{\"id\":\"fc2c1f65-3e0e-445f-91bc-511fd4db802d\",\"type\":\"GlyphRenderer\"},{\"id\":\"1faf338a-a3c6-4781-875d-86d2d7b07b93\",\"type\":\"GlyphRenderer\"},{\"id\":\"0214967a-0bca-455c-b9d9-a4989331243f\",\"type\":\"Legend\"},{\"id\":\"2e28192c-b01f-4f19-ab4a-a9cb1a73b24b\",\"type\":\"LinearAxis\"},{\"id\":\"5d875bc8-5d80-4a33-9056-b9b5b2a353af\",\"type\":\"LinearAxis\"}],\"title\":{\"id\":\"34416056-86d3-4c94-a98d-f4e42182382e\",\"type\":\"Title\"},\"tool_events\":{\"id\":\"0614dc79-fa44-4cae-b1e7-ca4417bf3a1e\",\"type\":\"ToolEvents\"},\"toolbar\":{\"id\":\"bad15af5-0281-42e6-b365-433f87ec170d\",\"type\":\"Toolbar\"},\"x_mapper_type\":\"auto\",\"x_range\":{\"id\":\"03685fc2-d2ba-4a40-b4fc-042f3e33b178\",\"type\":\"Range1d\"},\"y_mapper_type\":\"auto\",\"y_range\":{\"id\":\"f7668508-36c5-4af1-8030-b6b4d555b4bb\",\"type\":\"Range1d\"}},\"id\":\"675e3dc8-59d0-4e1a-94c1-5290e56b6a68\",\"subtype\":\"Chart\",\"type\":\"Plot\"},{\"attributes\":{},\"id\":\"d7b41cc8-5664-4a44-a49f-2211b2c07d1c\",\"type\":\"BasicTickFormatter\"},{\"attributes\":{\"data_source\":{\"id\":\"78ea14a2-8a64-4a6e-9875-d161c96a0623\",\"type\":\"ColumnDataSource\"},\"glyph\":{\"id\":\"d2821172-6e6a-40bd-912b-5f3daee2a110\",\"type\":\"AnnularWedge\"},\"hover_glyph\":null,\"nonselection_glyph\":null,\"selection_glyph\":null},\"id\":\"fc2c1f65-3e0e-445f-91bc-511fd4db802d\",\"type\":\"GlyphRenderer\"},{\"attributes\":{\"data_source\":{\"id\":\"3a7476a1-93c4-496c-9fa4-f46519aa9564\",\"type\":\"ColumnDataSource\"},\"glyph\":{\"id\":\"d91dcd83-dff6-4622-aea4-e392e311685c\",\"type\":\"Text\"},\"hover_glyph\":null,\"nonselection_glyph\":null,\"selection_glyph\":null},\"id\":\"1faf338a-a3c6-4781-875d-86d2d7b07b93\",\"type\":\"GlyphRenderer\"},{\"attributes\":{\"plot\":{\"id\":\"675e3dc8-59d0-4e1a-94c1-5290e56b6a68\",\"subtype\":\"Chart\",\"type\":\"Plot\"}},\"id\":\"edc09f1d-8cf0-459e-8e69-cc9c001243bc\",\"type\":\"WheelZoomTool\"},{\"attributes\":{\"bottom_units\":\"screen\",\"fill_alpha\":{\"value\":0.5},\"fill_color\":{\"value\":\"lightgrey\"},\"left_units\":\"screen\",\"level\":\"overlay\",\"line_alpha\":{\"value\":1.0},\"line_color\":{\"value\":\"black\"},\"line_dash\":[4,4],\"line_width\":{\"value\":2},\"plot\":null,\"render_mode\":\"css\",\"right_units\":\"screen\",\"top_units\":\"screen\"},\"id\":\"46c156ba-5291-42ee-9ed6-1887acc2cc7c\",\"type\":\"BoxAnnotation\"},{\"attributes\":{\"callback\":null,\"column_names\":[\"values\",\"Arch\",\"start\",\"end\",\"level\",\"color\",\"inners\",\"outers\",\"centers\"],\"data\":{\"Arch\":[\"A1\",\"A2\",\"A3\"],\"centers\":[1.125,1.125,1.125],\"color\":[\"#f22c40\",\"#5ab738\",\"#407ee7\"],\"end\":[4.757783049918663,5.515083043618101,6.283185307179586],\"inners\":[0.0,0.0,0.0],\"level\":[0.0,0.0,0.0],\"outers\":[1.5,1.5,1.5],\"start\":[0.0,4.757783049918663,5.515083043618101],\"values\":[14.027309120000004,2.2327376,2.26458579]}},\"id\":\"78ea14a2-8a64-4a6e-9875-d161c96a0623\",\"type\":\"ColumnDataSource\"},{\"attributes\":{\"plot\":{\"id\":\"675e3dc8-59d0-4e1a-94c1-5290e56b6a68\",\"subtype\":\"Chart\",\"type\":\"Plot\"}},\"id\":\"7c9cfc4c-c8ef-4ef4-b7b8-7f1edab84dac\",\"type\":\"SaveTool\"},{\"attributes\":{},\"id\":\"0614dc79-fa44-4cae-b1e7-ca4417bf3a1e\",\"type\":\"ToolEvents\"},{\"attributes\":{\"location\":\"top_left\",\"plot\":{\"id\":\"675e3dc8-59d0-4e1a-94c1-5290e56b6a68\",\"subtype\":\"Chart\",\"type\":\"Plot\"}},\"id\":\"0214967a-0bca-455c-b9d9-a4989331243f\",\"type\":\"Legend\"},{\"attributes\":{\"angle\":{\"field\":\"text_angle\",\"units\":\"rad\"},\"text_align\":\"center\",\"text_baseline\":\"middle\",\"text_font_size\":{\"value\":\"10pt\"},\"x\":{\"field\":\"x\"},\"y\":{\"field\":\"y\"}},\"id\":\"d91dcd83-dff6-4622-aea4-e392e311685c\",\"type\":\"Text\"},{\"attributes\":{\"plot\":{\"id\":\"675e3dc8-59d0-4e1a-94c1-5290e56b6a68\",\"subtype\":\"Chart\",\"type\":\"Plot\"}},\"id\":\"3b998a2a-a425-40c9-b505-5574b01fdd6d\",\"type\":\"HelpTool\"},{\"attributes\":{\"plot\":{\"id\":\"675e3dc8-59d0-4e1a-94c1-5290e56b6a68\",\"subtype\":\"Chart\",\"type\":\"Plot\"}},\"id\":\"5ac119ae-2c99-4784-9a54-4eddf8c695c0\",\"type\":\"ResetTool\"},{\"attributes\":{},\"id\":\"8435d101-f15f-42ad-9232-87f71ee757b6\",\"type\":\"BasicTickFormatter\"},{\"attributes\":{\"plot\":{\"id\":\"675e3dc8-59d0-4e1a-94c1-5290e56b6a68\",\"subtype\":\"Chart\",\"type\":\"Plot\"}},\"id\":\"08b60f19-45d9-4fb2-ac1e-fe1deaa35d17\",\"type\":\"PanTool\"},{\"attributes\":{\"axis_label\":null,\"formatter\":{\"id\":\"8435d101-f15f-42ad-9232-87f71ee757b6\",\"type\":\"BasicTickFormatter\"},\"plot\":{\"id\":\"675e3dc8-59d0-4e1a-94c1-5290e56b6a68\",\"subtype\":\"Chart\",\"type\":\"Plot\"},\"ticker\":{\"id\":\"613bf2db-ac6b-4dd1-bfe6-a4b7eb1255e7\",\"type\":\"BasicTicker\"},\"visible\":false},\"id\":\"2e28192c-b01f-4f19-ab4a-a9cb1a73b24b\",\"type\":\"LinearAxis\"},{\"attributes\":{},\"id\":\"a124e603-50f0-480f-81ac-b91be1aea668\",\"type\":\"BasicTicker\"},{\"attributes\":{\"callback\":null,\"end\":1.6500000000000001,\"start\":-1.6500000000000001},\"id\":\"f7668508-36c5-4af1-8030-b6b4d555b4bb\",\"type\":\"Range1d\"},{\"attributes\":{\"plot\":null,\"text\":\"Total AWS Cost per Architecture\"},\"id\":\"34416056-86d3-4c94-a98d-f4e42182382e\",\"type\":\"Title\"},{\"attributes\":{\"callback\":null,\"end\":1.6500000000000001,\"start\":-1.6500000000000001},\"id\":\"03685fc2-d2ba-4a40-b4fc-042f3e33b178\",\"type\":\"Range1d\"},{\"attributes\":{\"callback\":null,\"column_names\":[\"y\",\"x\",\"text_angle\",\"text\"],\"data\":{\"text\":[\"A1\",\"A2\",\"A3\"],\"text_angle\":{\"__ndarray__\":\"AAAAAAAAAAAAAAAAAAAAAAAAAAAAAAAA\",\"dtype\":\"float64\",\"shape\":[3]},\"x\":[-0.8133440662454757,0.46288091355103206,1.043048667968047],\"y\":[0.7772364054155436,-1.0253615264238083,-0.4215145030127466]}},\"id\":\"3a7476a1-93c4-496c-9fa4-f46519aa9564\",\"type\":\"ColumnDataSource\"},{\"attributes\":{},\"id\":\"613bf2db-ac6b-4dd1-bfe6-a4b7eb1255e7\",\"type\":\"BasicTicker\"},{\"attributes\":{\"axis_label\":null,\"formatter\":{\"id\":\"d7b41cc8-5664-4a44-a49f-2211b2c07d1c\",\"type\":\"BasicTickFormatter\"},\"plot\":{\"id\":\"675e3dc8-59d0-4e1a-94c1-5290e56b6a68\",\"subtype\":\"Chart\",\"type\":\"Plot\"},\"ticker\":{\"id\":\"a124e603-50f0-480f-81ac-b91be1aea668\",\"type\":\"BasicTicker\"},\"visible\":false},\"id\":\"5d875bc8-5d80-4a33-9056-b9b5b2a353af\",\"type\":\"LinearAxis\"},{\"attributes\":{\"active_drag\":\"auto\",\"active_scroll\":\"auto\",\"active_tap\":\"auto\",\"tools\":[{\"id\":\"08b60f19-45d9-4fb2-ac1e-fe1deaa35d17\",\"type\":\"PanTool\"},{\"id\":\"edc09f1d-8cf0-459e-8e69-cc9c001243bc\",\"type\":\"WheelZoomTool\"},{\"id\":\"1fe9885d-6bbf-4869-a822-85aa545a38d6\",\"type\":\"BoxZoomTool\"},{\"id\":\"7c9cfc4c-c8ef-4ef4-b7b8-7f1edab84dac\",\"type\":\"SaveTool\"},{\"id\":\"5ac119ae-2c99-4784-9a54-4eddf8c695c0\",\"type\":\"ResetTool\"},{\"id\":\"3b998a2a-a425-40c9-b505-5574b01fdd6d\",\"type\":\"HelpTool\"}]},\"id\":\"bad15af5-0281-42e6-b365-433f87ec170d\",\"type\":\"Toolbar\"}],\"root_ids\":[\"675e3dc8-59d0-4e1a-94c1-5290e56b6a68\"]},\"title\":\"Bokeh Application\",\"version\":\"0.12.4\"}};\n",
       "            var render_items = [{\"docid\":\"e346191d-e9a0-4572-922d-ee9644419bf7\",\"elementid\":\"4b645895-cb24-428c-9ac9-63855708b2e5\",\"modelid\":\"675e3dc8-59d0-4e1a-94c1-5290e56b6a68\"}];\n",
       "            \n",
       "            Bokeh.embed.embed_items(docs_json, render_items);\n",
       "          };\n",
       "          if (document.readyState != \"loading\") fn();\n",
       "          else document.addEventListener(\"DOMContentLoaded\", fn);\n",
       "        })();\n",
       "      },\n",
       "      function(Bokeh) {\n",
       "      }\n",
       "    ];\n",
       "  \n",
       "    function run_inline_js() {\n",
       "      \n",
       "      if ((window.Bokeh !== undefined) || (force === true)) {\n",
       "        for (var i = 0; i < inline_js.length; i++) {\n",
       "          inline_js[i](window.Bokeh);\n",
       "        }if (force === true) {\n",
       "          display_loaded();\n",
       "        }} else if (Date.now() < window._bokeh_timeout) {\n",
       "        setTimeout(run_inline_js, 100);\n",
       "      } else if (!window._bokeh_failed_load) {\n",
       "        console.log(\"Bokeh: BokehJS failed to load within specified timeout.\");\n",
       "        window._bokeh_failed_load = true;\n",
       "      } else if (force !== true) {\n",
       "        var cell = $(document.getElementById(\"4b645895-cb24-428c-9ac9-63855708b2e5\")).parents('.cell').data().cell;\n",
       "        cell.output_area.append_execute_result(NB_LOAD_WARNING)\n",
       "      }\n",
       "  \n",
       "    }\n",
       "  \n",
       "    if (window._bokeh_is_loading === 0) {\n",
       "      console.log(\"Bokeh: BokehJS loaded, going straight to plotting\");\n",
       "      run_inline_js();\n",
       "    } else {\n",
       "      load_libs(js_urls, function() {\n",
       "        console.log(\"Bokeh: BokehJS plotting callback run at\", now());\n",
       "        run_inline_js();\n",
       "      });\n",
       "    }\n",
       "  }(this));\n",
       "</script>"
      ]
     },
     "metadata": {},
     "output_type": "display_data"
    }
   ],
   "source": [
    "f = Donut(tot_cost, title='Total AWS Cost per Architecture')\n",
    "show(f)"
   ]
  },
  {
   "cell_type": "markdown",
   "metadata": {},
   "source": [
    "Total cost as a percentage of the total's total:"
   ]
  },
  {
   "cell_type": "code",
   "execution_count": 16,
   "metadata": {
    "collapsed": false
   },
   "outputs": [
    {
     "data": {
      "text/plain": [
       "Arch\n",
       "A1    75.722469\n",
       "A2    12.052804\n",
       "A3    12.224727\n",
       "Name: lineItem/BlendedCost, dtype: float64"
      ]
     },
     "execution_count": 16,
     "metadata": {},
     "output_type": "execute_result"
    }
   ],
   "source": [
    "100 * tot_cost/tot_cost.sum()"
   ]
  },
  {
   "cell_type": "markdown",
   "metadata": {},
   "source": [
    "Cost percentage change when compared to Architecture \\#1:"
   ]
  },
  {
   "cell_type": "code",
   "execution_count": 17,
   "metadata": {
    "collapsed": false
   },
   "outputs": [
    {
     "data": {
      "text/plain": [
       "Arch\n",
       "A1     0.000000\n",
       "A2   -84.082923\n",
       "A3   -83.855879\n",
       "Name: lineItem/BlendedCost, dtype: float64"
      ]
     },
     "execution_count": 17,
     "metadata": {},
     "output_type": "execute_result"
    }
   ],
   "source": [
    "100 * (tot_cost/tot_cost['A1'] - 1)"
   ]
  },
  {
   "cell_type": "markdown",
   "metadata": {},
   "source": [
    "Group the data by architecture, AWS service, and AWS service's operation:"
   ]
  },
  {
   "cell_type": "code",
   "execution_count": 37,
   "metadata": {
    "collapsed": true
   },
   "outputs": [],
   "source": [
    "grp = r.groupby(['Arch', 'lineItem/ProductCode', 'lineItem/UsageType', 'lineItem/Operation'])"
   ]
  },
  {
   "cell_type": "markdown",
   "metadata": {},
   "source": [
    "Blended cost totals per the above groups:"
   ]
  },
  {
   "cell_type": "code",
   "execution_count": 38,
   "metadata": {
    "collapsed": false
   },
   "outputs": [
    {
     "data": {
      "text/plain": [
       "Arch  lineItem/ProductCode  lineItem/UsageType           lineItem/Operation\n",
       "A1    AmazonEC2             BoxUsage:m4.xlarge           RunInstances          1.268500e+01\n",
       "                            DataTransfer-Regional-Bytes  PublicIP-Out          8.723100e-04\n",
       "                            EBS:SnapshotUsage            CreateSnapshot        6.504439e-02\n",
       "                            EBS:VolumeUsage.gp2          CreateVolume-Gp2      8.214284e-01\n",
       "      AmazonS3              Requests-Tier1               ListBucketVersions    2.751000e-02\n",
       "                                                         PutObject             5.000000e-05\n",
       "                            Requests-Tier2               GetObject             7.883600e-03\n",
       "                                                         HeadBucket            2.576000e-04\n",
       "                                                         ReadACL               1.600000e-06\n",
       "                            TimedStorage-ByteHrs         StandardStorage       3.767701e-01\n",
       "                            USE1-USW2-AWS-Out-Bytes      GetObject             2.723400e-04\n",
       "                                                         HeadBucket            5.220000e-06\n",
       "                                                         ListBucketVersions    4.221354e-02\n",
       "A2    AmazonEC2             BoxUsage:m4.xlarge           RunInstances          1.720000e+00\n",
       "                            DataTransfer-Regional-Bytes  PublicIP-Out          1.326420e-03\n",
       "                            EBS:VolumeUsage.gp2          CreateVolume-Gp2      1.130952e-01\n",
       "      AmazonS3              Requests-Tier1               ListBucketVersions    2.565000e-03\n",
       "                            Requests-Tier2               GetObject             1.486080e-02\n",
       "                                                         HeadBucket            2.480000e-05\n",
       "                            TimedStorage-ByteHrs         StandardStorage       3.767822e-01\n",
       "                            USE1-USW2-AWS-Out-Bytes      GetObject             1.336600e-04\n",
       "                                                         HeadBucket            5.100000e-07\n",
       "                                                         ListBucketVersions    3.948970e-03\n",
       "A3    AmazonEC2             BoxUsage:m4.xlarge           RunInstances          1.720000e+00\n",
       "                            DataTransfer-Regional-Bytes  PublicIP-In           1.326290e-03\n",
       "                                                         PublicIP-Out          1.326290e-03\n",
       "                            EBS:VolumeUsage.gp2          CreateVolume-Gp2      1.428571e-01\n",
       "      AmazonS3              Requests-Tier1               ListBucketVersions    3.265000e-03\n",
       "                            Requests-Tier2               GetObject             1.383680e-02\n",
       "                                                         HeadBucket            2.360000e-05\n",
       "                            TimedStorage-ByteHrs         StandardStorage       3.768043e-01\n",
       "                            USE1-USW2-AWS-Out-Bytes      GetObject             1.241300e-04\n",
       "                                                         HeadBucket            4.800000e-07\n",
       "                                                         ListBucketVersions    5.021760e-03\n",
       "Name: lineItem/BlendedCost, dtype: float64"
      ]
     },
     "execution_count": 38,
     "metadata": {},
     "output_type": "execute_result"
    }
   ],
   "source": [
    "blend_cost = grp['lineItem/BlendedCost'].sum()\n",
    "blend_cost = blend_cost[blend_cost != 0]\n",
    "blend_cost"
   ]
  },
  {
   "cell_type": "markdown",
   "metadata": {},
   "source": [
    "f = Donut(blend_cost['A1'], title='Cloudydap AWS Cost Breakdown for Architecture #1',\n",
    "          plot_height=400, plot_width=400)\n",
    "show(f)"
   ]
  },
  {
   "cell_type": "markdown",
   "metadata": {},
   "source": [
    "Calculate the percentage cost change:"
   ]
  },
  {
   "cell_type": "code",
   "execution_count": 40,
   "metadata": {
    "collapsed": true
   },
   "outputs": [],
   "source": [
    "def percent_change(before, after):\n",
    "    return 100 * (after/before - 1).dropna(how='all')"
   ]
  },
  {
   "cell_type": "markdown",
   "metadata": {},
   "source": [
    "Cost percentage change between Arch. \\#2 and \\#1:"
   ]
  },
  {
   "cell_type": "code",
   "execution_count": 41,
   "metadata": {
    "collapsed": false
   },
   "outputs": [
    {
     "data": {
      "text/plain": [
       "lineItem/ProductCode  lineItem/UsageType           lineItem/Operation\n",
       "AmazonEC2             BoxUsage:m4.xlarge           RunInstances         -86.440678\n",
       "                      DataTransfer-Regional-Bytes  PublicIP-Out          52.058328\n",
       "                      EBS:VolumeUsage.gp2          CreateVolume-Gp2     -86.231884\n",
       "AmazonS3              Requests-Tier1               ListBucketVersions   -90.676118\n",
       "                      Requests-Tier2               GetObject             88.502714\n",
       "                                                   HeadBucket           -90.372671\n",
       "                      TimedStorage-ByteHrs         StandardStorage        0.003222\n",
       "                      USE1-USW2-AWS-Out-Bytes      GetObject            -50.921642\n",
       "                                                   HeadBucket           -90.229885\n",
       "                                                   ListBucketVersions   -90.645253\n",
       "Name: lineItem/BlendedCost, dtype: float64"
      ]
     },
     "execution_count": 41,
     "metadata": {},
     "output_type": "execute_result"
    }
   ],
   "source": [
    "percent_change(blend_cost['A1'], blend_cost['A2'])"
   ]
  },
  {
   "cell_type": "markdown",
   "metadata": {},
   "source": [
    "Cost percentage change between Arch. \\#3 and \\#1:"
   ]
  },
  {
   "cell_type": "code",
   "execution_count": 42,
   "metadata": {
    "collapsed": false
   },
   "outputs": [
    {
     "data": {
      "text/plain": [
       "lineItem/ProductCode  lineItem/UsageType           lineItem/Operation\n",
       "AmazonEC2             BoxUsage:m4.xlarge           RunInstances         -86.440678\n",
       "                      DataTransfer-Regional-Bytes  PublicIP-Out          52.043425\n",
       "                      EBS:VolumeUsage.gp2          CreateVolume-Gp2     -82.608696\n",
       "AmazonS3              Requests-Tier1               ListBucketVersions   -88.131589\n",
       "                      Requests-Tier2               GetObject             75.513725\n",
       "                                                   HeadBucket           -90.838509\n",
       "                      TimedStorage-ByteHrs         StandardStorage        0.009088\n",
       "                      USE1-USW2-AWS-Out-Bytes      GetObject            -54.420944\n",
       "                                                   HeadBucket           -90.804598\n",
       "                                                   ListBucketVersions   -88.103912\n",
       "Name: lineItem/BlendedCost, dtype: float64"
      ]
     },
     "execution_count": 42,
     "metadata": {},
     "output_type": "execute_result"
    }
   ],
   "source": [
    "percent_change(blend_cost['A1'], blend_cost['A3'])"
   ]
  },
  {
   "cell_type": "markdown",
   "metadata": {},
   "source": [
    "Cost percentage change between Arch. \\#3 and \\#2:"
   ]
  },
  {
   "cell_type": "code",
   "execution_count": 43,
   "metadata": {
    "collapsed": false
   },
   "outputs": [
    {
     "data": {
      "text/plain": [
       "lineItem/ProductCode  lineItem/UsageType           lineItem/Operation\n",
       "AmazonEC2             BoxUsage:m4.xlarge           RunInstances           0.000000\n",
       "                      DataTransfer-Regional-Bytes  PublicIP-Out          -0.009801\n",
       "                      EBS:VolumeUsage.gp2          CreateVolume-Gp2      26.315789\n",
       "AmazonS3              Requests-Tier1               ListBucketVersions    27.290448\n",
       "                      Requests-Tier2               GetObject             -6.890612\n",
       "                                                   HeadBucket            -4.838710\n",
       "                      TimedStorage-ByteHrs         StandardStorage        0.005865\n",
       "                      USE1-USW2-AWS-Out-Bytes      GetObject             -7.130031\n",
       "                                                   HeadBucket            -5.882353\n",
       "                                                   ListBucketVersions    27.166324\n",
       "Name: lineItem/BlendedCost, dtype: float64"
      ]
     },
     "execution_count": 43,
     "metadata": {},
     "output_type": "execute_result"
    }
   ],
   "source": [
    "percent_change(blend_cost['A2'], blend_cost['A3'])"
   ]
  },
  {
   "cell_type": "markdown",
   "metadata": {},
   "source": [
    "### Usage Amount"
   ]
  },
  {
   "cell_type": "code",
   "execution_count": 44,
   "metadata": {
    "collapsed": false,
    "scrolled": false
   },
   "outputs": [
    {
     "data": {
      "text/plain": [
       "Arch  lineItem/ProductCode  lineItem/UsageType           lineItem/Operation\n",
       "A1    AmazonEC2             BoxUsage:m4.xlarge           RunInstances          5.900000e+01\n",
       "                            DataTransfer-In-Bytes        RunInstances          6.271791e-01\n",
       "                            DataTransfer-Out-Bytes       RunInstances          3.444954e-02\n",
       "                            DataTransfer-Regional-Bytes  PublicIP-In           8.722682e-02\n",
       "                                                         PublicIP-Out          8.723084e-02\n",
       "                            EBS:SnapshotUsage            CreateSnapshot        1.300888e+00\n",
       "                            EBS:VolumeUsage.gp2          CreateVolume-Gp2      8.214286e+00\n",
       "                            EBSOptimized:m4.xlarge       Hourly                5.900000e+01\n",
       "      AmazonS3              DataTransfer-Out-Bytes       GetObject             3.551022e-02\n",
       "                            Requests-Tier1               ListBucketVersions    5.502000e+03\n",
       "                                                         PutObject             1.000000e+01\n",
       "                            Requests-Tier2               GetObject             1.970900e+04\n",
       "                                                         HeadBucket            6.440000e+02\n",
       "                                                         ReadACL               4.000000e+00\n",
       "                            TimedStorage-ByteHrs         StandardStorage       1.638131e+01\n",
       "                            USE1-USW2-AWS-Out-Bytes      GetObject             1.361704e-02\n",
       "                                                         HeadBucket            2.609000e-04\n",
       "                                                         ListBucketVersions    2.110677e+00\n",
       "      awskms                us-east-1-KMS-Requests       ListAliases           1.000000e+00\n",
       "A2    AmazonEC2             BoxUsage:m4.xlarge           RunInstances          8.000000e+00\n",
       "                            DataTransfer-In-Bytes        RunInstances          3.344890e-03\n",
       "                            DataTransfer-Out-Bytes       RunInstances          2.198029e-02\n",
       "                            DataTransfer-Regional-Bytes  PublicIP-In           1.326420e-01\n",
       "                                                         PublicIP-Out          1.326420e-01\n",
       "                            EBS:VolumeUsage.gp2          CreateVolume-Gp2      1.130952e+00\n",
       "                            EBSOptimized:m4.xlarge       Hourly                8.000000e+00\n",
       "      AmazonS3              Requests-Tier1               ListBucketVersions    5.130000e+02\n",
       "                            Requests-Tier2               GetObject             3.715200e+04\n",
       "                                                         HeadBucket            6.200000e+01\n",
       "                            TimedStorage-ByteHrs         StandardStorage       1.638184e+01\n",
       "                            USE1-USW2-AWS-Out-Bytes      GetObject             6.683110e-03\n",
       "                                                         HeadBucket            2.512000e-05\n",
       "                                                         ListBucketVersions    1.974489e-01\n",
       "A3    AmazonEC2             BoxUsage:m4.xlarge           RunInstances          8.000000e+00\n",
       "                            DataTransfer-In-Bytes        RunInstances          3.246100e-03\n",
       "                            DataTransfer-Out-Bytes       RunInstances          2.199530e-02\n",
       "                            DataTransfer-Regional-Bytes  PublicIP-In           1.326287e-01\n",
       "                                                         PublicIP-Out          1.326287e-01\n",
       "                            EBS:VolumeUsage.gp2          CreateVolume-Gp2      1.428571e+00\n",
       "                            EBSOptimized:m4.xlarge       Hourly                8.000000e+00\n",
       "                            USE1-USW2-AWS-In-Bytes       PublicIP-In           1.500000e-07\n",
       "                            USE1-USW2-AWS-Out-Bytes      PublicIP-Out          8.000000e-08\n",
       "      AmazonS3              Requests-Tier1               ListBucketVersions    6.530000e+02\n",
       "                            Requests-Tier2               GetObject             3.459200e+04\n",
       "                                                         HeadBucket            5.900000e+01\n",
       "                            TimedStorage-ByteHrs         StandardStorage       1.638280e+01\n",
       "                            USE1-USW2-AWS-Out-Bytes      GetObject             6.206760e-03\n",
       "                                                         HeadBucket            2.390000e-05\n",
       "                                                         ListBucketVersions    2.510884e-01\n",
       "Name: lineItem/UsageAmount, dtype: float64"
      ]
     },
     "execution_count": 44,
     "metadata": {},
     "output_type": "execute_result"
    }
   ],
   "source": [
    "use_amt = grp['lineItem/UsageAmount'].sum()\n",
    "use_amt = use_amt[use_amt != 0]\n",
    "use_amt"
   ]
  },
  {
   "cell_type": "code",
   "execution_count": 45,
   "metadata": {
    "collapsed": false
   },
   "outputs": [
    {
     "data": {
      "text/plain": [
       "Arch  lineItem/ProductCode  lineItem/UsageType  lineItem/Operation\n",
       "A1    AmazonS3              Requests-Tier2      GetObject             19709.0\n",
       "A2    AmazonS3              Requests-Tier2      GetObject             37152.0\n",
       "A3    AmazonS3              Requests-Tier2      GetObject             34592.0\n",
       "Name: lineItem/UsageAmount, dtype: float64"
      ]
     },
     "execution_count": 45,
     "metadata": {},
     "output_type": "execute_result"
    }
   ],
   "source": [
    "use_amt.loc[pd.IndexSlice[:, ['AmazonS3'], ['Requests-Tier2'], ['GetObject']]]"
   ]
  },
  {
   "cell_type": "code",
   "execution_count": null,
   "metadata": {
    "collapsed": true
   },
   "outputs": [],
   "source": []
  }
 ],
 "metadata": {
  "kernelspec": {
   "display_name": "Python 3",
   "language": "python",
   "name": "python3"
  },
  "language_info": {
   "codemirror_mode": {
    "name": "ipython",
    "version": 3
   },
   "file_extension": ".py",
   "mimetype": "text/x-python",
   "name": "python",
   "nbconvert_exporter": "python",
   "pygments_lexer": "ipython3",
   "version": "3.5.1"
  }
 },
 "nbformat": 4,
 "nbformat_minor": 2
}
