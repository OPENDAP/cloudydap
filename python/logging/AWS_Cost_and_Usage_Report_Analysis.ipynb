{
 "cells": [
  {
   "cell_type": "markdown",
   "metadata": {},
   "source": [
    "# AWS Cost and Usage Report Analysis\n",
    "\n",
    "The report type being analyzed here is the Detailed Hourly AWS Cost and Usage Report with Resource IDs and Tags. These reports are downloaded using the [get-aws-cost.py](https://github.com/OPENDAP/cloudydap/blob/master/python/logging/get-aws-cost.py) command-line program developed for this project."
   ]
  },
  {
   "cell_type": "code",
   "execution_count": 1,
   "metadata": {
    "collapsed": false
   },
   "outputs": [
    {
     "data": {
      "text/html": [
       "\n",
       "    <div class=\"bk-root\">\n",
       "        <a href=\"http://bokeh.pydata.org\" target=\"_blank\" class=\"bk-logo bk-logo-small bk-logo-notebook\"></a>\n",
       "        <span id=\"9501e7f0-d044-4b93-9913-5179ee601057\">Loading BokehJS ...</span>\n",
       "    </div>"
      ]
     },
     "metadata": {},
     "output_type": "display_data"
    },
    {
     "data": {
      "application/javascript": [
       "\n",
       "(function(global) {\n",
       "  function now() {\n",
       "    return new Date();\n",
       "  }\n",
       "\n",
       "  var force = true;\n",
       "\n",
       "  if (typeof (window._bokeh_onload_callbacks) === \"undefined\" || force === true) {\n",
       "    window._bokeh_onload_callbacks = [];\n",
       "    window._bokeh_is_loading = undefined;\n",
       "  }\n",
       "\n",
       "\n",
       "  \n",
       "  if (typeof (window._bokeh_timeout) === \"undefined\" || force === true) {\n",
       "    window._bokeh_timeout = Date.now() + 5000;\n",
       "    window._bokeh_failed_load = false;\n",
       "  }\n",
       "\n",
       "  var NB_LOAD_WARNING = {'data': {'text/html':\n",
       "     \"<div style='background-color: #fdd'>\\n\"+\n",
       "     \"<p>\\n\"+\n",
       "     \"BokehJS does not appear to have successfully loaded. If loading BokehJS from CDN, this \\n\"+\n",
       "     \"may be due to a slow or bad network connection. Possible fixes:\\n\"+\n",
       "     \"</p>\\n\"+\n",
       "     \"<ul>\\n\"+\n",
       "     \"<li>re-rerun `output_notebook()` to attempt to load from CDN again, or</li>\\n\"+\n",
       "     \"<li>use INLINE resources instead, as so:</li>\\n\"+\n",
       "     \"</ul>\\n\"+\n",
       "     \"<code>\\n\"+\n",
       "     \"from bokeh.resources import INLINE\\n\"+\n",
       "     \"output_notebook(resources=INLINE)\\n\"+\n",
       "     \"</code>\\n\"+\n",
       "     \"</div>\"}};\n",
       "\n",
       "  function display_loaded() {\n",
       "    if (window.Bokeh !== undefined) {\n",
       "      document.getElementById(\"9501e7f0-d044-4b93-9913-5179ee601057\").textContent = \"BokehJS successfully loaded.\";\n",
       "    } else if (Date.now() < window._bokeh_timeout) {\n",
       "      setTimeout(display_loaded, 100)\n",
       "    }\n",
       "  }\n",
       "\n",
       "  function run_callbacks() {\n",
       "    window._bokeh_onload_callbacks.forEach(function(callback) { callback() });\n",
       "    delete window._bokeh_onload_callbacks\n",
       "    console.info(\"Bokeh: all callbacks have finished\");\n",
       "  }\n",
       "\n",
       "  function load_libs(js_urls, callback) {\n",
       "    window._bokeh_onload_callbacks.push(callback);\n",
       "    if (window._bokeh_is_loading > 0) {\n",
       "      console.log(\"Bokeh: BokehJS is being loaded, scheduling callback at\", now());\n",
       "      return null;\n",
       "    }\n",
       "    if (js_urls == null || js_urls.length === 0) {\n",
       "      run_callbacks();\n",
       "      return null;\n",
       "    }\n",
       "    console.log(\"Bokeh: BokehJS not loaded, scheduling load and callback at\", now());\n",
       "    window._bokeh_is_loading = js_urls.length;\n",
       "    for (var i = 0; i < js_urls.length; i++) {\n",
       "      var url = js_urls[i];\n",
       "      var s = document.createElement('script');\n",
       "      s.src = url;\n",
       "      s.async = false;\n",
       "      s.onreadystatechange = s.onload = function() {\n",
       "        window._bokeh_is_loading--;\n",
       "        if (window._bokeh_is_loading === 0) {\n",
       "          console.log(\"Bokeh: all BokehJS libraries loaded\");\n",
       "          run_callbacks()\n",
       "        }\n",
       "      };\n",
       "      s.onerror = function() {\n",
       "        console.warn(\"failed to load library \" + url);\n",
       "      };\n",
       "      console.log(\"Bokeh: injecting script tag for BokehJS library: \", url);\n",
       "      document.getElementsByTagName(\"head\")[0].appendChild(s);\n",
       "    }\n",
       "  };var element = document.getElementById(\"9501e7f0-d044-4b93-9913-5179ee601057\");\n",
       "  if (element == null) {\n",
       "    console.log(\"Bokeh: ERROR: autoload.js configured with elementid '9501e7f0-d044-4b93-9913-5179ee601057' but no matching script tag was found. \")\n",
       "    return false;\n",
       "  }\n",
       "\n",
       "  var js_urls = [\"https://cdn.pydata.org/bokeh/release/bokeh-0.12.4.min.js\", \"https://cdn.pydata.org/bokeh/release/bokeh-widgets-0.12.4.min.js\"];\n",
       "\n",
       "  var inline_js = [\n",
       "    function(Bokeh) {\n",
       "      Bokeh.set_log_level(\"info\");\n",
       "    },\n",
       "    \n",
       "    function(Bokeh) {\n",
       "      \n",
       "      document.getElementById(\"9501e7f0-d044-4b93-9913-5179ee601057\").textContent = \"BokehJS is loading...\";\n",
       "    },\n",
       "    function(Bokeh) {\n",
       "      console.log(\"Bokeh: injecting CSS: https://cdn.pydata.org/bokeh/release/bokeh-0.12.4.min.css\");\n",
       "      Bokeh.embed.inject_css(\"https://cdn.pydata.org/bokeh/release/bokeh-0.12.4.min.css\");\n",
       "      console.log(\"Bokeh: injecting CSS: https://cdn.pydata.org/bokeh/release/bokeh-widgets-0.12.4.min.css\");\n",
       "      Bokeh.embed.inject_css(\"https://cdn.pydata.org/bokeh/release/bokeh-widgets-0.12.4.min.css\");\n",
       "    }\n",
       "  ];\n",
       "\n",
       "  function run_inline_js() {\n",
       "    \n",
       "    if ((window.Bokeh !== undefined) || (force === true)) {\n",
       "      for (var i = 0; i < inline_js.length; i++) {\n",
       "        inline_js[i](window.Bokeh);\n",
       "      }if (force === true) {\n",
       "        display_loaded();\n",
       "      }} else if (Date.now() < window._bokeh_timeout) {\n",
       "      setTimeout(run_inline_js, 100);\n",
       "    } else if (!window._bokeh_failed_load) {\n",
       "      console.log(\"Bokeh: BokehJS failed to load within specified timeout.\");\n",
       "      window._bokeh_failed_load = true;\n",
       "    } else if (force !== true) {\n",
       "      var cell = $(document.getElementById(\"9501e7f0-d044-4b93-9913-5179ee601057\")).parents('.cell').data().cell;\n",
       "      cell.output_area.append_execute_result(NB_LOAD_WARNING)\n",
       "    }\n",
       "\n",
       "  }\n",
       "\n",
       "  if (window._bokeh_is_loading === 0) {\n",
       "    console.log(\"Bokeh: BokehJS loaded, going straight to plotting\");\n",
       "    run_inline_js();\n",
       "  } else {\n",
       "    load_libs(js_urls, function() {\n",
       "      console.log(\"Bokeh: BokehJS plotting callback run at\", now());\n",
       "      run_inline_js();\n",
       "    });\n",
       "  }\n",
       "}(this));"
      ]
     },
     "metadata": {},
     "output_type": "display_data"
    }
   ],
   "source": [
    "import numpy as np\n",
    "import pandas as pd\n",
    "from aws_price_list import AWSOffersIndex\n",
    "from bokeh.charts import (output_notebook, output_file, show, \n",
    "                          Scatter, Histogram, TimeSeries, Donut, Step)\n",
    "from bokeh.plotting import figure, ColumnDataSource\n",
    "from bokeh.models import Range1d, HoverTool, ResizeTool\n",
    "\n",
    "\n",
    "output_notebook()"
   ]
  },
  {
   "cell_type": "markdown",
   "metadata": {},
   "source": [
    "## Report to Analyze"
   ]
  },
  {
   "cell_type": "code",
   "execution_count": 2,
   "metadata": {
    "collapsed": false
   },
   "outputs": [],
   "source": [
    "r = pd.read_csv('../../../Arch1-20170201-20170301-1.csv')"
   ]
  },
  {
   "cell_type": "markdown",
   "metadata": {},
   "source": [
    "What do we have?"
   ]
  },
  {
   "cell_type": "code",
   "execution_count": 3,
   "metadata": {
    "collapsed": false
   },
   "outputs": [
    {
     "name": "stdout",
     "output_type": "stream",
     "text": [
      "<class 'pandas.core.frame.DataFrame'>\n",
      "RangeIndex: 10120 entries, 0 to 10119\n",
      "Data columns (total 73 columns):\n",
      "identity/LineItemId                    10120 non-null object\n",
      "identity/TimeInterval                  10120 non-null object\n",
      "bill/InvoiceId                         0 non-null float64\n",
      "bill/BillingEntity                     10120 non-null object\n",
      "bill/BillType                          10120 non-null object\n",
      "bill/PayerAccountId                    10120 non-null int64\n",
      "bill/BillingPeriodStartDate            10120 non-null object\n",
      "bill/BillingPeriodEndDate              10120 non-null object\n",
      "lineItem/UsageAccountId                10120 non-null int64\n",
      "lineItem/LineItemType                  10120 non-null object\n",
      "lineItem/UsageStartDate                10120 non-null object\n",
      "lineItem/UsageEndDate                  10120 non-null object\n",
      "lineItem/ProductCode                   10120 non-null object\n",
      "lineItem/UsageType                     10120 non-null object\n",
      "lineItem/Operation                     10120 non-null object\n",
      "lineItem/AvailabilityZone              2776 non-null object\n",
      "lineItem/ResourceId                    10101 non-null object\n",
      "lineItem/UsageAmount                   10120 non-null float64\n",
      "lineItem/CurrencyCode                  10120 non-null object\n",
      "lineItem/UnblendedRate                 10120 non-null float64\n",
      "lineItem/UnblendedCost                 10120 non-null float64\n",
      "lineItem/BlendedRate                   10120 non-null float64\n",
      "lineItem/BlendedCost                   10120 non-null float64\n",
      "lineItem/LineItemDescription           10120 non-null object\n",
      "lineItem/TaxType                       0 non-null float64\n",
      "product/ProductName                    10120 non-null object\n",
      "product/availability                   20 non-null object\n",
      "product/clockSpeed                     2776 non-null object\n",
      "product/currentGeneration              2776 non-null object\n",
      "product/dedicatedEbsThroughput         2776 non-null object\n",
      "product/durability                     20 non-null object\n",
      "product/ebsOptimized                   1388 non-null object\n",
      "product/enhancedNetworkingSupported    2776 non-null object\n",
      "product/fromLocation                   4335 non-null object\n",
      "product/fromLocationType               4335 non-null object\n",
      "product/group                          1584 non-null object\n",
      "product/groupDescription               1584 non-null object\n",
      "product/instanceFamily                 2776 non-null object\n",
      "product/instanceType                   2776 non-null object\n",
      "product/licenseModel                   1388 non-null object\n",
      "product/location                       5785 non-null object\n",
      "product/locationType                   5785 non-null object\n",
      "product/maxIopsBurstPerformance        1386 non-null object\n",
      "product/maxIopsvolume                  1386 non-null float64\n",
      "product/maxThroughputvolume            1386 non-null object\n",
      "product/maxVolumeSize                  1386 non-null object\n",
      "product/memory                         2776 non-null object\n",
      "product/networkPerformance             2776 non-null object\n",
      "product/operatingSystem                1388 non-null object\n",
      "product/operation                      2776 non-null object\n",
      "product/physicalProcessor              2776 non-null object\n",
      "product/preInstalledSw                 0 non-null float64\n",
      "product/processorArchitecture          2776 non-null object\n",
      "product/processorFeatures              2776 non-null object\n",
      "product/productFamily                  10120 non-null object\n",
      "product/servicecode                    10120 non-null object\n",
      "product/sku                            10120 non-null object\n",
      "product/storage                        2776 non-null object\n",
      "product/storageClass                   20 non-null object\n",
      "product/storageMedia                   1405 non-null object\n",
      "product/tenancy                        2776 non-null object\n",
      "product/toLocation                     4335 non-null object\n",
      "product/toLocationType                 4335 non-null object\n",
      "product/transferType                   4335 non-null object\n",
      "product/usagetype                      10120 non-null object\n",
      "product/vcpu                           2776 non-null float64\n",
      "product/volumeType                     1406 non-null object\n",
      "pricing/publicOnDemandCost             10120 non-null float64\n",
      "pricing/publicOnDemandRate             10120 non-null float64\n",
      "pricing/term                           8196 non-null object\n",
      "pricing/unit                           8196 non-null object\n",
      "reservation/TotalReservedUnits         0 non-null float64\n",
      "reservation/UnitsPerReservation        0 non-null float64\n",
      "dtypes: float64(14), int64(2), object(57)\n",
      "memory usage: 5.6+ MB\n"
     ]
    }
   ],
   "source": [
    "r.info()"
   ]
  },
  {
   "cell_type": "markdown",
   "metadata": {},
   "source": [
    "Convert two columns to datetime, and sort all entries by time:"
   ]
  },
  {
   "cell_type": "code",
   "execution_count": 4,
   "metadata": {
    "collapsed": false
   },
   "outputs": [],
   "source": [
    "r['lineItem/UsageStartDate'] = pd.to_datetime(r['lineItem/UsageStartDate'])\n",
    "r['lineItem/UsageEndDate'] = pd.to_datetime(r['lineItem/UsageEndDate'])\n",
    "r.sort_values('lineItem/UsageStartDate', inplace=True)"
   ]
  },
  {
   "cell_type": "code",
   "execution_count": 5,
   "metadata": {
    "collapsed": false
   },
   "outputs": [
    {
     "name": "stdout",
     "output_type": "stream",
     "text": [
      "<class 'pandas.core.frame.DataFrame'>\n",
      "Int64Index: 10120 entries, 0 to 10119\n",
      "Data columns (total 73 columns):\n",
      "identity/LineItemId                    10120 non-null object\n",
      "identity/TimeInterval                  10120 non-null object\n",
      "bill/InvoiceId                         0 non-null float64\n",
      "bill/BillingEntity                     10120 non-null object\n",
      "bill/BillType                          10120 non-null object\n",
      "bill/PayerAccountId                    10120 non-null int64\n",
      "bill/BillingPeriodStartDate            10120 non-null object\n",
      "bill/BillingPeriodEndDate              10120 non-null object\n",
      "lineItem/UsageAccountId                10120 non-null int64\n",
      "lineItem/LineItemType                  10120 non-null object\n",
      "lineItem/UsageStartDate                10120 non-null datetime64[ns]\n",
      "lineItem/UsageEndDate                  10120 non-null datetime64[ns]\n",
      "lineItem/ProductCode                   10120 non-null object\n",
      "lineItem/UsageType                     10120 non-null object\n",
      "lineItem/Operation                     10120 non-null object\n",
      "lineItem/AvailabilityZone              2776 non-null object\n",
      "lineItem/ResourceId                    10101 non-null object\n",
      "lineItem/UsageAmount                   10120 non-null float64\n",
      "lineItem/CurrencyCode                  10120 non-null object\n",
      "lineItem/UnblendedRate                 10120 non-null float64\n",
      "lineItem/UnblendedCost                 10120 non-null float64\n",
      "lineItem/BlendedRate                   10120 non-null float64\n",
      "lineItem/BlendedCost                   10120 non-null float64\n",
      "lineItem/LineItemDescription           10120 non-null object\n",
      "lineItem/TaxType                       0 non-null float64\n",
      "product/ProductName                    10120 non-null object\n",
      "product/availability                   20 non-null object\n",
      "product/clockSpeed                     2776 non-null object\n",
      "product/currentGeneration              2776 non-null object\n",
      "product/dedicatedEbsThroughput         2776 non-null object\n",
      "product/durability                     20 non-null object\n",
      "product/ebsOptimized                   1388 non-null object\n",
      "product/enhancedNetworkingSupported    2776 non-null object\n",
      "product/fromLocation                   4335 non-null object\n",
      "product/fromLocationType               4335 non-null object\n",
      "product/group                          1584 non-null object\n",
      "product/groupDescription               1584 non-null object\n",
      "product/instanceFamily                 2776 non-null object\n",
      "product/instanceType                   2776 non-null object\n",
      "product/licenseModel                   1388 non-null object\n",
      "product/location                       5785 non-null object\n",
      "product/locationType                   5785 non-null object\n",
      "product/maxIopsBurstPerformance        1386 non-null object\n",
      "product/maxIopsvolume                  1386 non-null float64\n",
      "product/maxThroughputvolume            1386 non-null object\n",
      "product/maxVolumeSize                  1386 non-null object\n",
      "product/memory                         2776 non-null object\n",
      "product/networkPerformance             2776 non-null object\n",
      "product/operatingSystem                1388 non-null object\n",
      "product/operation                      2776 non-null object\n",
      "product/physicalProcessor              2776 non-null object\n",
      "product/preInstalledSw                 0 non-null float64\n",
      "product/processorArchitecture          2776 non-null object\n",
      "product/processorFeatures              2776 non-null object\n",
      "product/productFamily                  10120 non-null object\n",
      "product/servicecode                    10120 non-null object\n",
      "product/sku                            10120 non-null object\n",
      "product/storage                        2776 non-null object\n",
      "product/storageClass                   20 non-null object\n",
      "product/storageMedia                   1405 non-null object\n",
      "product/tenancy                        2776 non-null object\n",
      "product/toLocation                     4335 non-null object\n",
      "product/toLocationType                 4335 non-null object\n",
      "product/transferType                   4335 non-null object\n",
      "product/usagetype                      10120 non-null object\n",
      "product/vcpu                           2776 non-null float64\n",
      "product/volumeType                     1406 non-null object\n",
      "pricing/publicOnDemandCost             10120 non-null float64\n",
      "pricing/publicOnDemandRate             10120 non-null float64\n",
      "pricing/term                           8196 non-null object\n",
      "pricing/unit                           8196 non-null object\n",
      "reservation/TotalReservedUnits         0 non-null float64\n",
      "reservation/UnitsPerReservation        0 non-null float64\n",
      "dtypes: datetime64[ns](2), float64(14), int64(2), object(55)\n",
      "memory usage: 5.7+ MB\n"
     ]
    }
   ],
   "source": [
    "r.info()"
   ]
  },
  {
   "cell_type": "markdown",
   "metadata": {},
   "source": [
    "## AWS Price Information"
   ]
  },
  {
   "cell_type": "markdown",
   "metadata": {},
   "source": [
    "### AWS Offer Index"
   ]
  },
  {
   "cell_type": "code",
   "execution_count": 6,
   "metadata": {
    "collapsed": true
   },
   "outputs": [],
   "source": [
    "oi = AWSOffersIndex()"
   ]
  },
  {
   "cell_type": "code",
   "execution_count": 7,
   "metadata": {
    "collapsed": false
   },
   "outputs": [
    {
     "data": {
      "text/plain": [
       "'Mon Feb 20 21:47:26 2017 UTC+00:00'"
      ]
     },
     "execution_count": 7,
     "metadata": {},
     "output_type": "execute_result"
    }
   ],
   "source": [
    "oi.published.strftime('%c %Z')"
   ]
  },
  {
   "cell_type": "code",
   "execution_count": 8,
   "metadata": {
    "collapsed": false
   },
   "outputs": [
    {
     "data": {
      "text/plain": [
       "'Tue Feb 21 02:48:13 2017 UTC+00:00'"
      ]
     },
     "execution_count": 8,
     "metadata": {},
     "output_type": "execute_result"
    }
   ],
   "source": [
    "oi.accessed.strftime('%c %Z')"
   ]
  },
  {
   "cell_type": "markdown",
   "metadata": {},
   "source": [
    "### Amazon EC2"
   ]
  },
  {
   "cell_type": "code",
   "execution_count": 9,
   "metadata": {
    "collapsed": true
   },
   "outputs": [],
   "source": [
    "ec2o = oi.offer('AmazonEC2')"
   ]
  },
  {
   "cell_type": "code",
   "execution_count": 10,
   "metadata": {
    "collapsed": false
   },
   "outputs": [
    {
     "data": {
      "text/plain": [
       "'20170210223144'"
      ]
     },
     "execution_count": 10,
     "metadata": {},
     "output_type": "execute_result"
    }
   ],
   "source": [
    "ec2o.version"
   ]
  },
  {
   "cell_type": "code",
   "execution_count": 11,
   "metadata": {
    "collapsed": false
   },
   "outputs": [
    {
     "data": {
      "text/plain": [
       "'Fri Feb 10 22:31:44 2017 UTC+00:00'"
      ]
     },
     "execution_count": 11,
     "metadata": {},
     "output_type": "execute_result"
    }
   ],
   "source": [
    "ec2o.published.strftime('%c %Z')"
   ]
  },
  {
   "cell_type": "code",
   "execution_count": 12,
   "metadata": {
    "collapsed": false
   },
   "outputs": [
    {
     "data": {
      "text/plain": [
       "'Tue Feb 21 02:48:27 2017 UTC+00:00'"
      ]
     },
     "execution_count": 12,
     "metadata": {},
     "output_type": "execute_result"
    }
   ],
   "source": [
    "ec2o.accessed.strftime('%c %Z')"
   ]
  },
  {
   "cell_type": "markdown",
   "metadata": {},
   "source": [
    "### Amazon S3"
   ]
  },
  {
   "cell_type": "code",
   "execution_count": 13,
   "metadata": {
    "collapsed": true
   },
   "outputs": [],
   "source": [
    "s3o = oi.offer('AmazonS3')"
   ]
  },
  {
   "cell_type": "code",
   "execution_count": 14,
   "metadata": {
    "collapsed": false
   },
   "outputs": [
    {
     "data": {
      "text/plain": [
       "'20170127221642'"
      ]
     },
     "execution_count": 14,
     "metadata": {},
     "output_type": "execute_result"
    }
   ],
   "source": [
    "s3o.version"
   ]
  },
  {
   "cell_type": "code",
   "execution_count": 15,
   "metadata": {
    "collapsed": false
   },
   "outputs": [
    {
     "data": {
      "text/plain": [
       "'Fri Jan 27 22:16:42 2017 UTC+00:00'"
      ]
     },
     "execution_count": 15,
     "metadata": {},
     "output_type": "execute_result"
    }
   ],
   "source": [
    "s3o.published.strftime('%c %Z')"
   ]
  },
  {
   "cell_type": "code",
   "execution_count": 16,
   "metadata": {
    "collapsed": false
   },
   "outputs": [
    {
     "data": {
      "text/plain": [
       "'Tue Feb 21 02:48:28 2017 UTC+00:00'"
      ]
     },
     "execution_count": 16,
     "metadata": {},
     "output_type": "execute_result"
    }
   ],
   "source": [
    "s3o.accessed.strftime('%c %Z')"
   ]
  },
  {
   "cell_type": "markdown",
   "metadata": {},
   "source": [
    "## Analysis"
   ]
  },
  {
   "cell_type": "markdown",
   "metadata": {},
   "source": [
    "Time span of the report's data:"
   ]
  },
  {
   "cell_type": "code",
   "execution_count": 17,
   "metadata": {
    "collapsed": false
   },
   "outputs": [
    {
     "data": {
      "text/plain": [
       "Timestamp('2017-02-01 00:00:00')"
      ]
     },
     "execution_count": 17,
     "metadata": {},
     "output_type": "execute_result"
    }
   ],
   "source": [
    "r['lineItem/UsageStartDate'].min()"
   ]
  },
  {
   "cell_type": "code",
   "execution_count": 18,
   "metadata": {
    "collapsed": false
   },
   "outputs": [
    {
     "data": {
      "text/plain": [
       "Timestamp('2017-02-20 08:00:00')"
      ]
     },
     "execution_count": 18,
     "metadata": {},
     "output_type": "execute_result"
    }
   ],
   "source": [
    "r['lineItem/UsageEndDate'].max()"
   ]
  },
  {
   "cell_type": "markdown",
   "metadata": {},
   "source": [
    "How many different Availability Zones?"
   ]
  },
  {
   "cell_type": "code",
   "execution_count": 19,
   "metadata": {
    "collapsed": false
   },
   "outputs": [
    {
     "data": {
      "text/plain": [
       "array(['us-east-1b', nan], dtype=object)"
      ]
     },
     "execution_count": 19,
     "metadata": {},
     "output_type": "execute_result"
    }
   ],
   "source": [
    "r['lineItem/AvailabilityZone'].unique()"
   ]
  },
  {
   "cell_type": "markdown",
   "metadata": {},
   "source": [
    "How many different product codes?"
   ]
  },
  {
   "cell_type": "code",
   "execution_count": 20,
   "metadata": {
    "collapsed": false
   },
   "outputs": [
    {
     "data": {
      "text/plain": [
       "array(['AmazonEC2', 'AmazonS3'], dtype=object)"
      ]
     },
     "execution_count": 20,
     "metadata": {},
     "output_type": "execute_result"
    }
   ],
   "source": [
    "r['lineItem/ProductCode'].unique()"
   ]
  },
  {
   "cell_type": "markdown",
   "metadata": {},
   "source": [
    "How many report entries for each product code?"
   ]
  },
  {
   "cell_type": "code",
   "execution_count": 21,
   "metadata": {
    "collapsed": false
   },
   "outputs": [
    {
     "data": {
      "text/plain": [
       "AmazonEC2    7079\n",
       "AmazonS3     3041\n",
       "Name: lineItem/ProductCode, dtype: int64"
      ]
     },
     "execution_count": 21,
     "metadata": {},
     "output_type": "execute_result"
    }
   ],
   "source": [
    "r['lineItem/ProductCode'].value_counts()"
   ]
  },
  {
   "cell_type": "markdown",
   "metadata": {},
   "source": [
    "Cost breakdown per AWS product:"
   ]
  },
  {
   "cell_type": "code",
   "execution_count": 22,
   "metadata": {
    "collapsed": false
   },
   "outputs": [
    {
     "data": {
      "text/plain": [
       "lineItem/ProductCode\n",
       "AmazonEC2    315.790803\n",
       "AmazonS3       8.109816\n",
       "Name: lineItem/BlendedCost, dtype: float64"
      ]
     },
     "execution_count": 22,
     "metadata": {},
     "output_type": "execute_result"
    }
   ],
   "source": [
    "grp = r.groupby('lineItem/ProductCode')\n",
    "x = grp['lineItem/BlendedCost'].sum()\n",
    "x"
   ]
  },
  {
   "cell_type": "code",
   "execution_count": 23,
   "metadata": {
    "collapsed": false
   },
   "outputs": [
    {
     "data": {
      "text/html": [
       "\n",
       "\n",
       "    <div class=\"bk-root\">\n",
       "        <div class=\"bk-plotdiv\" id=\"1a5c2628-403a-4428-9765-f9c89596201f\"></div>\n",
       "    </div>\n",
       "<script type=\"text/javascript\">\n",
       "  \n",
       "  (function(global) {\n",
       "    function now() {\n",
       "      return new Date();\n",
       "    }\n",
       "  \n",
       "    var force = false;\n",
       "  \n",
       "    if (typeof (window._bokeh_onload_callbacks) === \"undefined\" || force === true) {\n",
       "      window._bokeh_onload_callbacks = [];\n",
       "      window._bokeh_is_loading = undefined;\n",
       "    }\n",
       "  \n",
       "  \n",
       "    \n",
       "    if (typeof (window._bokeh_timeout) === \"undefined\" || force === true) {\n",
       "      window._bokeh_timeout = Date.now() + 0;\n",
       "      window._bokeh_failed_load = false;\n",
       "    }\n",
       "  \n",
       "    var NB_LOAD_WARNING = {'data': {'text/html':\n",
       "       \"<div style='background-color: #fdd'>\\n\"+\n",
       "       \"<p>\\n\"+\n",
       "       \"BokehJS does not appear to have successfully loaded. If loading BokehJS from CDN, this \\n\"+\n",
       "       \"may be due to a slow or bad network connection. Possible fixes:\\n\"+\n",
       "       \"</p>\\n\"+\n",
       "       \"<ul>\\n\"+\n",
       "       \"<li>re-rerun `output_notebook()` to attempt to load from CDN again, or</li>\\n\"+\n",
       "       \"<li>use INLINE resources instead, as so:</li>\\n\"+\n",
       "       \"</ul>\\n\"+\n",
       "       \"<code>\\n\"+\n",
       "       \"from bokeh.resources import INLINE\\n\"+\n",
       "       \"output_notebook(resources=INLINE)\\n\"+\n",
       "       \"</code>\\n\"+\n",
       "       \"</div>\"}};\n",
       "  \n",
       "    function display_loaded() {\n",
       "      if (window.Bokeh !== undefined) {\n",
       "        document.getElementById(\"1a5c2628-403a-4428-9765-f9c89596201f\").textContent = \"BokehJS successfully loaded.\";\n",
       "      } else if (Date.now() < window._bokeh_timeout) {\n",
       "        setTimeout(display_loaded, 100)\n",
       "      }\n",
       "    }\n",
       "  \n",
       "    function run_callbacks() {\n",
       "      window._bokeh_onload_callbacks.forEach(function(callback) { callback() });\n",
       "      delete window._bokeh_onload_callbacks\n",
       "      console.info(\"Bokeh: all callbacks have finished\");\n",
       "    }\n",
       "  \n",
       "    function load_libs(js_urls, callback) {\n",
       "      window._bokeh_onload_callbacks.push(callback);\n",
       "      if (window._bokeh_is_loading > 0) {\n",
       "        console.log(\"Bokeh: BokehJS is being loaded, scheduling callback at\", now());\n",
       "        return null;\n",
       "      }\n",
       "      if (js_urls == null || js_urls.length === 0) {\n",
       "        run_callbacks();\n",
       "        return null;\n",
       "      }\n",
       "      console.log(\"Bokeh: BokehJS not loaded, scheduling load and callback at\", now());\n",
       "      window._bokeh_is_loading = js_urls.length;\n",
       "      for (var i = 0; i < js_urls.length; i++) {\n",
       "        var url = js_urls[i];\n",
       "        var s = document.createElement('script');\n",
       "        s.src = url;\n",
       "        s.async = false;\n",
       "        s.onreadystatechange = s.onload = function() {\n",
       "          window._bokeh_is_loading--;\n",
       "          if (window._bokeh_is_loading === 0) {\n",
       "            console.log(\"Bokeh: all BokehJS libraries loaded\");\n",
       "            run_callbacks()\n",
       "          }\n",
       "        };\n",
       "        s.onerror = function() {\n",
       "          console.warn(\"failed to load library \" + url);\n",
       "        };\n",
       "        console.log(\"Bokeh: injecting script tag for BokehJS library: \", url);\n",
       "        document.getElementsByTagName(\"head\")[0].appendChild(s);\n",
       "      }\n",
       "    };var element = document.getElementById(\"1a5c2628-403a-4428-9765-f9c89596201f\");\n",
       "    if (element == null) {\n",
       "      console.log(\"Bokeh: ERROR: autoload.js configured with elementid '1a5c2628-403a-4428-9765-f9c89596201f' but no matching script tag was found. \")\n",
       "      return false;\n",
       "    }\n",
       "  \n",
       "    var js_urls = [];\n",
       "  \n",
       "    var inline_js = [\n",
       "      function(Bokeh) {\n",
       "        (function() {\n",
       "          var fn = function() {\n",
       "            var docs_json = {\"a2f68399-f6c5-418a-a174-f4b457b225a6\":{\"roots\":{\"references\":[{\"attributes\":{\"axis_label\":null,\"formatter\":{\"id\":\"384d6521-96a2-4062-b708-309b207c50a2\",\"type\":\"BasicTickFormatter\"},\"plot\":{\"id\":\"dc43b908-bc2b-4883-b99d-869363ae9779\",\"subtype\":\"Chart\",\"type\":\"Plot\"},\"ticker\":{\"id\":\"fd413fcf-7dd2-4357-bb04-fde245208008\",\"type\":\"BasicTicker\"},\"visible\":false},\"id\":\"d6f4495f-bef9-4756-b380-24ccdbe2c6c3\",\"type\":\"LinearAxis\"},{\"attributes\":{\"axis_label\":null,\"formatter\":{\"id\":\"eab1d5db-a67b-458b-bbc7-fc8851806798\",\"type\":\"BasicTickFormatter\"},\"plot\":{\"id\":\"dc43b908-bc2b-4883-b99d-869363ae9779\",\"subtype\":\"Chart\",\"type\":\"Plot\"},\"ticker\":{\"id\":\"19e2cdfc-296e-4a69-b280-51072564a3d8\",\"type\":\"BasicTicker\"},\"visible\":false},\"id\":\"23505a29-ecee-4329-a491-5c9c63555dc9\",\"type\":\"LinearAxis\"},{\"attributes\":{\"callback\":null,\"column_names\":[\"start\",\"values\",\"outers\",\"inners\",\"level\",\"lineItem/ProductCode\",\"end\",\"color\",\"centers\"],\"data\":{\"centers\":[1.125,1.125],\"color\":[\"#f22c40\",\"#5ab738\"],\"end\":[6.125867059583005,6.283185307179586],\"inners\":[0.0,0.0],\"level\":[0.0,0.0],\"lineItem/ProductCode\":[\"AmazonEC2\",\"AmazonS3\"],\"outers\":[1.5,1.5],\"start\":[0.0,6.125867059583005],\"values\":[315.79080299999555,8.109816169999991]}},\"id\":\"98a48eb6-6209-4484-b5d2-60af0beadfe2\",\"type\":\"ColumnDataSource\"},{\"attributes\":{\"location\":\"top_left\",\"plot\":{\"id\":\"dc43b908-bc2b-4883-b99d-869363ae9779\",\"subtype\":\"Chart\",\"type\":\"Plot\"}},\"id\":\"1d0ed36d-e5e2-4ee1-967f-ebb0f91704e7\",\"type\":\"Legend\"},{\"attributes\":{},\"id\":\"19e2cdfc-296e-4a69-b280-51072564a3d8\",\"type\":\"BasicTicker\"},{\"attributes\":{\"plot\":{\"id\":\"dc43b908-bc2b-4883-b99d-869363ae9779\",\"subtype\":\"Chart\",\"type\":\"Plot\"}},\"id\":\"bf4c0cec-a54d-46da-b12e-b3886604d91d\",\"type\":\"PanTool\"},{\"attributes\":{\"bottom_units\":\"screen\",\"fill_alpha\":{\"value\":0.5},\"fill_color\":{\"value\":\"lightgrey\"},\"left_units\":\"screen\",\"level\":\"overlay\",\"line_alpha\":{\"value\":1.0},\"line_color\":{\"value\":\"black\"},\"line_dash\":[4,4],\"line_width\":{\"value\":2},\"plot\":null,\"render_mode\":\"css\",\"right_units\":\"screen\",\"top_units\":\"screen\"},\"id\":\"bd3d10c3-a1ca-4195-abf8-d23dae286319\",\"type\":\"BoxAnnotation\"},{\"attributes\":{\"callback\":null,\"end\":1.6500000000000001,\"start\":-1.6500000000000001},\"id\":\"87c64bd6-1b51-41b8-b985-bd024a286d09\",\"type\":\"Range1d\"},{\"attributes\":{},\"id\":\"eab1d5db-a67b-458b-bbc7-fc8851806798\",\"type\":\"BasicTickFormatter\"},{\"attributes\":{},\"id\":\"c436286b-afbb-4fdf-8ccc-42138ef49121\",\"type\":\"ToolEvents\"},{\"attributes\":{\"overlay\":{\"id\":\"bd3d10c3-a1ca-4195-abf8-d23dae286319\",\"type\":\"BoxAnnotation\"},\"plot\":{\"id\":\"dc43b908-bc2b-4883-b99d-869363ae9779\",\"subtype\":\"Chart\",\"type\":\"Plot\"}},\"id\":\"dacb8cc2-aa77-4005-a4c7-7f8c4fe09e3d\",\"type\":\"BoxZoomTool\"},{\"attributes\":{\"plot\":{\"id\":\"dc43b908-bc2b-4883-b99d-869363ae9779\",\"subtype\":\"Chart\",\"type\":\"Plot\"}},\"id\":\"e1f25542-fe80-4797-a9f1-8427b5aac952\",\"type\":\"SaveTool\"},{\"attributes\":{\"data_source\":{\"id\":\"c0593924-d308-4aad-a845-525e0c115d84\",\"type\":\"ColumnDataSource\"},\"glyph\":{\"id\":\"02780d8b-af92-42fe-b6da-0645bedc9137\",\"type\":\"Text\"},\"hover_glyph\":null,\"nonselection_glyph\":null,\"selection_glyph\":null},\"id\":\"6768ec57-b618-4668-a6e9-82e024c17c26\",\"type\":\"GlyphRenderer\"},{\"attributes\":{\"angle\":{\"field\":\"text_angle\",\"units\":\"rad\"},\"text_align\":\"center\",\"text_baseline\":\"middle\",\"text_font_size\":{\"value\":\"10pt\"},\"x\":{\"field\":\"x\"},\"y\":{\"field\":\"y\"}},\"id\":\"02780d8b-af92-42fe-b6da-0645bedc9137\",\"type\":\"Text\"},{\"attributes\":{\"below\":[{\"id\":\"d6f4495f-bef9-4756-b380-24ccdbe2c6c3\",\"type\":\"LinearAxis\"}],\"css_classes\":null,\"left\":[{\"id\":\"23505a29-ecee-4329-a491-5c9c63555dc9\",\"type\":\"LinearAxis\"}],\"plot_height\":400,\"plot_width\":400,\"renderers\":[{\"id\":\"bd3d10c3-a1ca-4195-abf8-d23dae286319\",\"type\":\"BoxAnnotation\"},{\"id\":\"bc258b58-1aff-440c-a213-36607d1a0d62\",\"type\":\"GlyphRenderer\"},{\"id\":\"6768ec57-b618-4668-a6e9-82e024c17c26\",\"type\":\"GlyphRenderer\"},{\"id\":\"1d0ed36d-e5e2-4ee1-967f-ebb0f91704e7\",\"type\":\"Legend\"},{\"id\":\"d6f4495f-bef9-4756-b380-24ccdbe2c6c3\",\"type\":\"LinearAxis\"},{\"id\":\"23505a29-ecee-4329-a491-5c9c63555dc9\",\"type\":\"LinearAxis\"}],\"title\":{\"id\":\"ff1fd712-9b0d-42bf-8bbb-4b304255e4d6\",\"type\":\"Title\"},\"tool_events\":{\"id\":\"c436286b-afbb-4fdf-8ccc-42138ef49121\",\"type\":\"ToolEvents\"},\"toolbar\":{\"id\":\"c902558f-7b9d-43ec-b12c-d956ec01e4cc\",\"type\":\"Toolbar\"},\"x_mapper_type\":\"auto\",\"x_range\":{\"id\":\"87c64bd6-1b51-41b8-b985-bd024a286d09\",\"type\":\"Range1d\"},\"y_mapper_type\":\"auto\",\"y_range\":{\"id\":\"7ac22576-4047-4031-a840-8b8e7a6e8547\",\"type\":\"Range1d\"}},\"id\":\"dc43b908-bc2b-4883-b99d-869363ae9779\",\"subtype\":\"Chart\",\"type\":\"Plot\"},{\"attributes\":{\"plot\":{\"id\":\"dc43b908-bc2b-4883-b99d-869363ae9779\",\"subtype\":\"Chart\",\"type\":\"Plot\"}},\"id\":\"9df8f369-f0ac-46fd-b3e4-fa056255a8c2\",\"type\":\"HelpTool\"},{\"attributes\":{\"plot\":{\"id\":\"dc43b908-bc2b-4883-b99d-869363ae9779\",\"subtype\":\"Chart\",\"type\":\"Plot\"}},\"id\":\"c548e757-680a-4ea4-a8b2-0aa7001d78ab\",\"type\":\"ResetTool\"},{\"attributes\":{},\"id\":\"384d6521-96a2-4062-b708-309b207c50a2\",\"type\":\"BasicTickFormatter\"},{\"attributes\":{},\"id\":\"fd413fcf-7dd2-4357-bb04-fde245208008\",\"type\":\"BasicTicker\"},{\"attributes\":{\"plot\":{\"id\":\"dc43b908-bc2b-4883-b99d-869363ae9779\",\"subtype\":\"Chart\",\"type\":\"Plot\"}},\"id\":\"8199eab1-8d9b-45d9-962b-3db5e02afa44\",\"type\":\"WheelZoomTool\"},{\"attributes\":{\"callback\":null,\"end\":1.6500000000000001,\"start\":-1.6500000000000001},\"id\":\"7ac22576-4047-4031-a840-8b8e7a6e8547\",\"type\":\"Range1d\"},{\"attributes\":{\"active_drag\":\"auto\",\"active_scroll\":\"auto\",\"active_tap\":\"auto\",\"tools\":[{\"id\":\"bf4c0cec-a54d-46da-b12e-b3886604d91d\",\"type\":\"PanTool\"},{\"id\":\"8199eab1-8d9b-45d9-962b-3db5e02afa44\",\"type\":\"WheelZoomTool\"},{\"id\":\"dacb8cc2-aa77-4005-a4c7-7f8c4fe09e3d\",\"type\":\"BoxZoomTool\"},{\"id\":\"e1f25542-fe80-4797-a9f1-8427b5aac952\",\"type\":\"SaveTool\"},{\"id\":\"c548e757-680a-4ea4-a8b2-0aa7001d78ab\",\"type\":\"ResetTool\"},{\"id\":\"9df8f369-f0ac-46fd-b3e4-fa056255a8c2\",\"type\":\"HelpTool\"}]},\"id\":\"c902558f-7b9d-43ec-b12c-d956ec01e4cc\",\"type\":\"Toolbar\"},{\"attributes\":{\"end_angle\":{\"field\":\"end\",\"units\":\"rad\"},\"fill_alpha\":{\"value\":0.8},\"fill_color\":{\"field\":\"color\"},\"inner_radius\":{\"field\":\"inners\",\"units\":\"data\"},\"line_color\":{\"value\":\"White\"},\"outer_radius\":{\"field\":\"outers\",\"units\":\"data\"},\"start_angle\":{\"field\":\"start\",\"units\":\"rad\"},\"x\":{\"value\":0},\"y\":{\"value\":0}},\"id\":\"18062121-de78-4108-8b7a-a9179c0c038d\",\"type\":\"AnnularWedge\"},{\"attributes\":{\"data_source\":{\"id\":\"98a48eb6-6209-4484-b5d2-60af0beadfe2\",\"type\":\"ColumnDataSource\"},\"glyph\":{\"id\":\"18062121-de78-4108-8b7a-a9179c0c038d\",\"type\":\"AnnularWedge\"},\"hover_glyph\":null,\"nonselection_glyph\":null,\"selection_glyph\":null},\"id\":\"bc258b58-1aff-440c-a213-36607d1a0d62\",\"type\":\"GlyphRenderer\"},{\"attributes\":{\"plot\":null,\"text\":\"AWS Product Cost Breakdown\"},\"id\":\"ff1fd712-9b0d-42bf-8bbb-4b304255e4d6\",\"type\":\"Title\"},{\"attributes\":{\"callback\":null,\"column_names\":[\"text_angle\",\"text\",\"y\",\"x\"],\"data\":{\"text\":[\"AmazonEC2\",\"AmazonS3\"],\"text_angle\":{\"__ndarray__\":\"AAAAAAAAAAAAAAAAAAAAAA==\",\"dtype\":\"float64\",\"shape\":[2]},\"x\":[-1.1215214616179745,1.1215214616179745],\"y\":[0.08840028919795541,-0.08840028919795555]}},\"id\":\"c0593924-d308-4aad-a845-525e0c115d84\",\"type\":\"ColumnDataSource\"}],\"root_ids\":[\"dc43b908-bc2b-4883-b99d-869363ae9779\"]},\"title\":\"Bokeh Application\",\"version\":\"0.12.4\"}};\n",
       "            var render_items = [{\"docid\":\"a2f68399-f6c5-418a-a174-f4b457b225a6\",\"elementid\":\"1a5c2628-403a-4428-9765-f9c89596201f\",\"modelid\":\"dc43b908-bc2b-4883-b99d-869363ae9779\"}];\n",
       "            \n",
       "            Bokeh.embed.embed_items(docs_json, render_items);\n",
       "          };\n",
       "          if (document.readyState != \"loading\") fn();\n",
       "          else document.addEventListener(\"DOMContentLoaded\", fn);\n",
       "        })();\n",
       "      },\n",
       "      function(Bokeh) {\n",
       "      }\n",
       "    ];\n",
       "  \n",
       "    function run_inline_js() {\n",
       "      \n",
       "      if ((window.Bokeh !== undefined) || (force === true)) {\n",
       "        for (var i = 0; i < inline_js.length; i++) {\n",
       "          inline_js[i](window.Bokeh);\n",
       "        }if (force === true) {\n",
       "          display_loaded();\n",
       "        }} else if (Date.now() < window._bokeh_timeout) {\n",
       "        setTimeout(run_inline_js, 100);\n",
       "      } else if (!window._bokeh_failed_load) {\n",
       "        console.log(\"Bokeh: BokehJS failed to load within specified timeout.\");\n",
       "        window._bokeh_failed_load = true;\n",
       "      } else if (force !== true) {\n",
       "        var cell = $(document.getElementById(\"1a5c2628-403a-4428-9765-f9c89596201f\")).parents('.cell').data().cell;\n",
       "        cell.output_area.append_execute_result(NB_LOAD_WARNING)\n",
       "      }\n",
       "  \n",
       "    }\n",
       "  \n",
       "    if (window._bokeh_is_loading === 0) {\n",
       "      console.log(\"Bokeh: BokehJS loaded, going straight to plotting\");\n",
       "      run_inline_js();\n",
       "    } else {\n",
       "      load_libs(js_urls, function() {\n",
       "        console.log(\"Bokeh: BokehJS plotting callback run at\", now());\n",
       "        run_inline_js();\n",
       "      });\n",
       "    }\n",
       "  }(this));\n",
       "</script>"
      ]
     },
     "metadata": {},
     "output_type": "display_data"
    }
   ],
   "source": [
    "f = Donut(x.iloc[x.nonzero()], title='AWS Product Cost Breakdown')\n",
    "show(f)"
   ]
  },
  {
   "cell_type": "markdown",
   "metadata": {},
   "source": [
    "### Analysis: AmazonEC2"
   ]
  },
  {
   "cell_type": "code",
   "execution_count": 24,
   "metadata": {
    "collapsed": true
   },
   "outputs": [],
   "source": [
    "ec2 = r[r['lineItem/ProductCode'] == 'AmazonEC2']"
   ]
  },
  {
   "cell_type": "markdown",
   "metadata": {},
   "source": [
    "How many usage types?"
   ]
  },
  {
   "cell_type": "code",
   "execution_count": 25,
   "metadata": {
    "collapsed": false
   },
   "outputs": [
    {
     "data": {
      "text/plain": [
       "DataTransfer-In-Bytes          1392\n",
       "DataTransfer-Out-Bytes         1392\n",
       "BoxUsage:m4.xlarge             1388\n",
       "EBSOptimized:m4.xlarge         1388\n",
       "EBS:VolumeUsage.gp2            1386\n",
       "DataTransfer-Regional-Bytes      46\n",
       "USE1-USW2-AWS-Out-Bytes          25\n",
       "USE1-USW2-AWS-In-Bytes           25\n",
       "EBS:SnapshotUsage                19\n",
       "USE1-APS1-AWS-Out-Bytes           3\n",
       "USE1-APS1-AWS-In-Bytes            3\n",
       "USE1-EU-AWS-Out-Bytes             2\n",
       "USE1-USW1-AWS-In-Bytes            2\n",
       "USE1-EU-AWS-In-Bytes              2\n",
       "USE1-APS3-AWS-In-Bytes            2\n",
       "USE1-USW1-AWS-Out-Bytes           2\n",
       "USE1-APS3-AWS-Out-Bytes           2\n",
       "Name: lineItem/UsageType, dtype: int64"
      ]
     },
     "execution_count": 25,
     "metadata": {},
     "output_type": "execute_result"
    }
   ],
   "source": [
    "ec2['lineItem/UsageType'].value_counts()"
   ]
  },
  {
   "cell_type": "markdown",
   "metadata": {},
   "source": [
    "Cost breakdown for different product types:"
   ]
  },
  {
   "cell_type": "code",
   "execution_count": 26,
   "metadata": {
    "collapsed": false
   },
   "outputs": [],
   "source": [
    "grp = ec2.groupby('lineItem/UsageType')"
   ]
  },
  {
   "cell_type": "code",
   "execution_count": 27,
   "metadata": {
    "collapsed": false
   },
   "outputs": [
    {
     "data": {
      "text/plain": [
       "lineItem/UsageType\n",
       "BoxUsage:m4.xlarge             298.420000\n",
       "DataTransfer-In-Bytes            0.000000\n",
       "DataTransfer-Out-Bytes           0.000000\n",
       "DataTransfer-Regional-Bytes      0.000000\n",
       "EBS:SnapshotUsage                1.120799\n",
       "EBS:VolumeUsage.gp2             16.249997\n",
       "EBSOptimized:m4.xlarge           0.000000\n",
       "USE1-APS1-AWS-In-Bytes           0.000000\n",
       "USE1-APS1-AWS-Out-Bytes          0.000000\n",
       "USE1-APS3-AWS-In-Bytes           0.000000\n",
       "USE1-APS3-AWS-Out-Bytes          0.000005\n",
       "USE1-EU-AWS-In-Bytes             0.000000\n",
       "USE1-EU-AWS-Out-Bytes            0.000000\n",
       "USE1-USW1-AWS-In-Bytes           0.000000\n",
       "USE1-USW1-AWS-Out-Bytes          0.000000\n",
       "USE1-USW2-AWS-In-Bytes           0.000000\n",
       "USE1-USW2-AWS-Out-Bytes          0.000001\n",
       "Name: lineItem/BlendedCost, dtype: float64"
      ]
     },
     "execution_count": 27,
     "metadata": {},
     "output_type": "execute_result"
    }
   ],
   "source": [
    "x = grp['lineItem/BlendedCost'].sum()\n",
    "x"
   ]
  },
  {
   "cell_type": "code",
   "execution_count": 28,
   "metadata": {
    "collapsed": false
   },
   "outputs": [
    {
     "data": {
      "text/html": [
       "\n",
       "\n",
       "    <div class=\"bk-root\">\n",
       "        <div class=\"bk-plotdiv\" id=\"5b7dba15-9c47-4d71-891a-d809ad00a2fe\"></div>\n",
       "    </div>\n",
       "<script type=\"text/javascript\">\n",
       "  \n",
       "  (function(global) {\n",
       "    function now() {\n",
       "      return new Date();\n",
       "    }\n",
       "  \n",
       "    var force = false;\n",
       "  \n",
       "    if (typeof (window._bokeh_onload_callbacks) === \"undefined\" || force === true) {\n",
       "      window._bokeh_onload_callbacks = [];\n",
       "      window._bokeh_is_loading = undefined;\n",
       "    }\n",
       "  \n",
       "  \n",
       "    \n",
       "    if (typeof (window._bokeh_timeout) === \"undefined\" || force === true) {\n",
       "      window._bokeh_timeout = Date.now() + 0;\n",
       "      window._bokeh_failed_load = false;\n",
       "    }\n",
       "  \n",
       "    var NB_LOAD_WARNING = {'data': {'text/html':\n",
       "       \"<div style='background-color: #fdd'>\\n\"+\n",
       "       \"<p>\\n\"+\n",
       "       \"BokehJS does not appear to have successfully loaded. If loading BokehJS from CDN, this \\n\"+\n",
       "       \"may be due to a slow or bad network connection. Possible fixes:\\n\"+\n",
       "       \"</p>\\n\"+\n",
       "       \"<ul>\\n\"+\n",
       "       \"<li>re-rerun `output_notebook()` to attempt to load from CDN again, or</li>\\n\"+\n",
       "       \"<li>use INLINE resources instead, as so:</li>\\n\"+\n",
       "       \"</ul>\\n\"+\n",
       "       \"<code>\\n\"+\n",
       "       \"from bokeh.resources import INLINE\\n\"+\n",
       "       \"output_notebook(resources=INLINE)\\n\"+\n",
       "       \"</code>\\n\"+\n",
       "       \"</div>\"}};\n",
       "  \n",
       "    function display_loaded() {\n",
       "      if (window.Bokeh !== undefined) {\n",
       "        document.getElementById(\"5b7dba15-9c47-4d71-891a-d809ad00a2fe\").textContent = \"BokehJS successfully loaded.\";\n",
       "      } else if (Date.now() < window._bokeh_timeout) {\n",
       "        setTimeout(display_loaded, 100)\n",
       "      }\n",
       "    }\n",
       "  \n",
       "    function run_callbacks() {\n",
       "      window._bokeh_onload_callbacks.forEach(function(callback) { callback() });\n",
       "      delete window._bokeh_onload_callbacks\n",
       "      console.info(\"Bokeh: all callbacks have finished\");\n",
       "    }\n",
       "  \n",
       "    function load_libs(js_urls, callback) {\n",
       "      window._bokeh_onload_callbacks.push(callback);\n",
       "      if (window._bokeh_is_loading > 0) {\n",
       "        console.log(\"Bokeh: BokehJS is being loaded, scheduling callback at\", now());\n",
       "        return null;\n",
       "      }\n",
       "      if (js_urls == null || js_urls.length === 0) {\n",
       "        run_callbacks();\n",
       "        return null;\n",
       "      }\n",
       "      console.log(\"Bokeh: BokehJS not loaded, scheduling load and callback at\", now());\n",
       "      window._bokeh_is_loading = js_urls.length;\n",
       "      for (var i = 0; i < js_urls.length; i++) {\n",
       "        var url = js_urls[i];\n",
       "        var s = document.createElement('script');\n",
       "        s.src = url;\n",
       "        s.async = false;\n",
       "        s.onreadystatechange = s.onload = function() {\n",
       "          window._bokeh_is_loading--;\n",
       "          if (window._bokeh_is_loading === 0) {\n",
       "            console.log(\"Bokeh: all BokehJS libraries loaded\");\n",
       "            run_callbacks()\n",
       "          }\n",
       "        };\n",
       "        s.onerror = function() {\n",
       "          console.warn(\"failed to load library \" + url);\n",
       "        };\n",
       "        console.log(\"Bokeh: injecting script tag for BokehJS library: \", url);\n",
       "        document.getElementsByTagName(\"head\")[0].appendChild(s);\n",
       "      }\n",
       "    };var element = document.getElementById(\"5b7dba15-9c47-4d71-891a-d809ad00a2fe\");\n",
       "    if (element == null) {\n",
       "      console.log(\"Bokeh: ERROR: autoload.js configured with elementid '5b7dba15-9c47-4d71-891a-d809ad00a2fe' but no matching script tag was found. \")\n",
       "      return false;\n",
       "    }\n",
       "  \n",
       "    var js_urls = [];\n",
       "  \n",
       "    var inline_js = [\n",
       "      function(Bokeh) {\n",
       "        (function() {\n",
       "          var fn = function() {\n",
       "            var docs_json = {\"15215c9e-9fe1-40a6-a358-bc7bb5a087ef\":{\"roots\":{\"references\":[{\"attributes\":{\"data_source\":{\"id\":\"41fb2ecc-e38c-42e3-aae7-52962c81a6f8\",\"type\":\"ColumnDataSource\"},\"glyph\":{\"id\":\"ad67e7d7-bad1-48d1-8200-2a79606b8685\",\"type\":\"AnnularWedge\"},\"hover_glyph\":null,\"nonselection_glyph\":null,\"selection_glyph\":null},\"id\":\"46ea62bd-c78a-4d02-aca9-f40e06b14ed4\",\"type\":\"GlyphRenderer\"},{\"attributes\":{\"end_angle\":{\"field\":\"end\",\"units\":\"rad\"},\"fill_alpha\":{\"value\":0.8},\"fill_color\":{\"field\":\"color\"},\"inner_radius\":{\"field\":\"inners\",\"units\":\"data\"},\"line_color\":{\"value\":\"White\"},\"outer_radius\":{\"field\":\"outers\",\"units\":\"data\"},\"start_angle\":{\"field\":\"start\",\"units\":\"rad\"},\"x\":{\"value\":0},\"y\":{\"value\":0}},\"id\":\"ad67e7d7-bad1-48d1-8200-2a79606b8685\",\"type\":\"AnnularWedge\"},{\"attributes\":{\"location\":\"top_left\",\"plot\":{\"id\":\"672cfff5-8e4a-4d76-aba6-745173cd1c84\",\"subtype\":\"Chart\",\"type\":\"Plot\"}},\"id\":\"5deef0c7-eec1-4a33-9bb2-0dd103c68a0a\",\"type\":\"Legend\"},{\"attributes\":{\"angle\":{\"field\":\"text_angle\",\"units\":\"rad\"},\"text_align\":\"center\",\"text_baseline\":\"middle\",\"text_font_size\":{\"value\":\"10pt\"},\"x\":{\"field\":\"x\"},\"y\":{\"field\":\"y\"}},\"id\":\"cfd14492-22d2-46ed-87ab-1652297dcbf1\",\"type\":\"Text\"},{\"attributes\":{\"callback\":null,\"column_names\":[\"text_angle\",\"text\",\"y\",\"x\"],\"data\":{\"text\":[\"BoxUsage:m4.xlarge\",\"EBS:SnapshotUsage\",\"EBS:VolumeUsage.gp2\",\"USE1-APS3-AWS-Out-Bytes\",\"USE1-USW2-AWS-Out-Bytes\"],\"text_angle\":{\"__ndarray__\":\"AAAAAAAAAAAAAAAAAAAAAAAAAAAAAAAAAAAAAAAAAAAAAAAAAAAAAA==\",\"dtype\":\"float64\",\"shape\":[5]},\"x\":[-1.108243548950011,1.0626570914088638,1.110331537996396,1.1249999999999967,1.1249999999999998],\"y\":[0.1934456931820514,-0.36930327114507644,-0.18107698840702427,-8.595361450168734e-08,-1.23110654428486e-08]}},\"id\":\"ccd0eb5a-0986-4b87-a9b5-d4771c3a1849\",\"type\":\"ColumnDataSource\"},{\"attributes\":{\"callback\":null,\"end\":1.6500000000000001,\"start\":-1.6500000000000001},\"id\":\"ed3ff210-e240-468c-a841-77ae202aae0c\",\"type\":\"Range1d\"},{\"attributes\":{},\"id\":\"987f40d2-d52f-4bee-b8ad-b9d1f51a25d9\",\"type\":\"BasicTickFormatter\"},{\"attributes\":{\"bottom_units\":\"screen\",\"fill_alpha\":{\"value\":0.5},\"fill_color\":{\"value\":\"lightgrey\"},\"left_units\":\"screen\",\"level\":\"overlay\",\"line_alpha\":{\"value\":1.0},\"line_color\":{\"value\":\"black\"},\"line_dash\":[4,4],\"line_width\":{\"value\":2},\"plot\":null,\"render_mode\":\"css\",\"right_units\":\"screen\",\"top_units\":\"screen\"},\"id\":\"592f1682-a1e2-4b28-b5b7-2566797d700b\",\"type\":\"BoxAnnotation\"},{\"attributes\":{\"below\":[{\"id\":\"68dcccd0-185a-4f06-9664-4217cbed46b5\",\"type\":\"LinearAxis\"}],\"css_classes\":null,\"left\":[{\"id\":\"1128a8a8-5133-4a27-9c67-65ecffe506ec\",\"type\":\"LinearAxis\"}],\"renderers\":[{\"id\":\"592f1682-a1e2-4b28-b5b7-2566797d700b\",\"type\":\"BoxAnnotation\"},{\"id\":\"46ea62bd-c78a-4d02-aca9-f40e06b14ed4\",\"type\":\"GlyphRenderer\"},{\"id\":\"8ad5af01-a751-4b1a-a2a7-3d967a0cfb4e\",\"type\":\"GlyphRenderer\"},{\"id\":\"5deef0c7-eec1-4a33-9bb2-0dd103c68a0a\",\"type\":\"Legend\"},{\"id\":\"68dcccd0-185a-4f06-9664-4217cbed46b5\",\"type\":\"LinearAxis\"},{\"id\":\"1128a8a8-5133-4a27-9c67-65ecffe506ec\",\"type\":\"LinearAxis\"}],\"title\":{\"id\":\"7648cabd-c5ec-41f9-8f0c-84ca1d87c497\",\"type\":\"Title\"},\"tool_events\":{\"id\":\"397a8237-727c-4988-b5fe-9155ddbd3119\",\"type\":\"ToolEvents\"},\"toolbar\":{\"id\":\"16da2e3a-0566-49fa-a57e-c3ea15897c86\",\"type\":\"Toolbar\"},\"x_mapper_type\":\"auto\",\"x_range\":{\"id\":\"14d00598-b098-4613-9c3c-c117ae394121\",\"type\":\"Range1d\"},\"y_mapper_type\":\"auto\",\"y_range\":{\"id\":\"ed3ff210-e240-468c-a841-77ae202aae0c\",\"type\":\"Range1d\"}},\"id\":\"672cfff5-8e4a-4d76-aba6-745173cd1c84\",\"subtype\":\"Chart\",\"type\":\"Plot\"},{\"attributes\":{\"axis_label\":null,\"formatter\":{\"id\":\"57bb899c-2b75-4ee3-ba2a-b93b9b0b3f59\",\"type\":\"BasicTickFormatter\"},\"plot\":{\"id\":\"672cfff5-8e4a-4d76-aba6-745173cd1c84\",\"subtype\":\"Chart\",\"type\":\"Plot\"},\"ticker\":{\"id\":\"210f2e1a-6cc9-4767-a09a-6d32163cb10d\",\"type\":\"BasicTicker\"},\"visible\":false},\"id\":\"1128a8a8-5133-4a27-9c67-65ecffe506ec\",\"type\":\"LinearAxis\"},{\"attributes\":{\"plot\":{\"id\":\"672cfff5-8e4a-4d76-aba6-745173cd1c84\",\"subtype\":\"Chart\",\"type\":\"Plot\"}},\"id\":\"81604da4-e00e-4506-981f-bc59e4521094\",\"type\":\"ResetTool\"},{\"attributes\":{\"callback\":null,\"end\":1.6500000000000001,\"start\":-1.6500000000000001},\"id\":\"14d00598-b098-4613-9c3c-c117ae394121\",\"type\":\"Range1d\"},{\"attributes\":{},\"id\":\"57bb899c-2b75-4ee3-ba2a-b93b9b0b3f59\",\"type\":\"BasicTickFormatter\"},{\"attributes\":{\"plot\":{\"id\":\"672cfff5-8e4a-4d76-aba6-745173cd1c84\",\"subtype\":\"Chart\",\"type\":\"Plot\"}},\"id\":\"4607cf53-cdaa-4955-905a-d620c0c40135\",\"type\":\"WheelZoomTool\"},{\"attributes\":{\"active_drag\":\"auto\",\"active_scroll\":\"auto\",\"active_tap\":\"auto\",\"tools\":[{\"id\":\"b16945e0-711b-4f7f-8712-0c9d03c6a193\",\"type\":\"PanTool\"},{\"id\":\"4607cf53-cdaa-4955-905a-d620c0c40135\",\"type\":\"WheelZoomTool\"},{\"id\":\"464fd785-ed3b-4701-9662-6cdb9982a773\",\"type\":\"BoxZoomTool\"},{\"id\":\"cb17fb90-bb45-4292-8809-bc3be30ed3d3\",\"type\":\"SaveTool\"},{\"id\":\"81604da4-e00e-4506-981f-bc59e4521094\",\"type\":\"ResetTool\"},{\"id\":\"890a7723-3fbd-4910-92d1-f2bd2b4a765b\",\"type\":\"HelpTool\"}]},\"id\":\"16da2e3a-0566-49fa-a57e-c3ea15897c86\",\"type\":\"Toolbar\"},{\"attributes\":{\"plot\":{\"id\":\"672cfff5-8e4a-4d76-aba6-745173cd1c84\",\"subtype\":\"Chart\",\"type\":\"Plot\"}},\"id\":\"cb17fb90-bb45-4292-8809-bc3be30ed3d3\",\"type\":\"SaveTool\"},{\"attributes\":{},\"id\":\"210f2e1a-6cc9-4767-a09a-6d32163cb10d\",\"type\":\"BasicTicker\"},{\"attributes\":{\"axis_label\":null,\"formatter\":{\"id\":\"987f40d2-d52f-4bee-b8ad-b9d1f51a25d9\",\"type\":\"BasicTickFormatter\"},\"plot\":{\"id\":\"672cfff5-8e4a-4d76-aba6-745173cd1c84\",\"subtype\":\"Chart\",\"type\":\"Plot\"},\"ticker\":{\"id\":\"8a229be2-f80e-482b-b7c8-d54bdd69332c\",\"type\":\"BasicTicker\"},\"visible\":false},\"id\":\"68dcccd0-185a-4f06-9664-4217cbed46b5\",\"type\":\"LinearAxis\"},{\"attributes\":{},\"id\":\"397a8237-727c-4988-b5fe-9155ddbd3119\",\"type\":\"ToolEvents\"},{\"attributes\":{\"overlay\":{\"id\":\"592f1682-a1e2-4b28-b5b7-2566797d700b\",\"type\":\"BoxAnnotation\"},\"plot\":{\"id\":\"672cfff5-8e4a-4d76-aba6-745173cd1c84\",\"subtype\":\"Chart\",\"type\":\"Plot\"}},\"id\":\"464fd785-ed3b-4701-9662-6cdb9982a773\",\"type\":\"BoxZoomTool\"},{\"attributes\":{\"callback\":null,\"column_names\":[\"start\",\"values\",\"outers\",\"inners\",\"lineItem/UsageType\",\"level\",\"end\",\"color\",\"centers\"],\"data\":{\"centers\":[1.125,1.125,1.125,1.125,1.125],\"color\":[\"#f22c40\",\"#5ab738\",\"#407ee7\",\"#df5320\",\"#00ad9c\"],\"end\":[5.9375641771572765,5.959864345078143,6.283185176259499,6.283185285293249,6.283185307179585],\"inners\":[0.0,0.0,0.0,0.0,0.0],\"level\":[0.0,0.0,0.0,0.0,0.0],\"lineItem/UsageType\":[\"BoxUsage:m4.xlarge\",\"EBS:SnapshotUsage\",\"EBS:VolumeUsage.gp2\",\"USE1-APS3-AWS-Out-Bytes\",\"USE1-USW2-AWS-Out-Bytes\"],\"outers\":[1.5,1.5,1.5,1.5,1.5],\"start\":[0.0,5.9375641771572765,5.959864345078143,6.283185176259499,6.283185285293249],\"values\":[298.4199999999986,1.1207990199999995,16.24999740000015,5.479999999999999e-06,1.1e-06]}},\"id\":\"41fb2ecc-e38c-42e3-aae7-52962c81a6f8\",\"type\":\"ColumnDataSource\"},{\"attributes\":{\"plot\":null,\"text\":\"AWS EC2 Product Cost Breakdown\"},\"id\":\"7648cabd-c5ec-41f9-8f0c-84ca1d87c497\",\"type\":\"Title\"},{\"attributes\":{},\"id\":\"8a229be2-f80e-482b-b7c8-d54bdd69332c\",\"type\":\"BasicTicker\"},{\"attributes\":{\"data_source\":{\"id\":\"ccd0eb5a-0986-4b87-a9b5-d4771c3a1849\",\"type\":\"ColumnDataSource\"},\"glyph\":{\"id\":\"cfd14492-22d2-46ed-87ab-1652297dcbf1\",\"type\":\"Text\"},\"hover_glyph\":null,\"nonselection_glyph\":null,\"selection_glyph\":null},\"id\":\"8ad5af01-a751-4b1a-a2a7-3d967a0cfb4e\",\"type\":\"GlyphRenderer\"},{\"attributes\":{\"plot\":{\"id\":\"672cfff5-8e4a-4d76-aba6-745173cd1c84\",\"subtype\":\"Chart\",\"type\":\"Plot\"}},\"id\":\"b16945e0-711b-4f7f-8712-0c9d03c6a193\",\"type\":\"PanTool\"},{\"attributes\":{\"plot\":{\"id\":\"672cfff5-8e4a-4d76-aba6-745173cd1c84\",\"subtype\":\"Chart\",\"type\":\"Plot\"}},\"id\":\"890a7723-3fbd-4910-92d1-f2bd2b4a765b\",\"type\":\"HelpTool\"}],\"root_ids\":[\"672cfff5-8e4a-4d76-aba6-745173cd1c84\"]},\"title\":\"Bokeh Application\",\"version\":\"0.12.4\"}};\n",
       "            var render_items = [{\"docid\":\"15215c9e-9fe1-40a6-a358-bc7bb5a087ef\",\"elementid\":\"5b7dba15-9c47-4d71-891a-d809ad00a2fe\",\"modelid\":\"672cfff5-8e4a-4d76-aba6-745173cd1c84\"}];\n",
       "            \n",
       "            Bokeh.embed.embed_items(docs_json, render_items);\n",
       "          };\n",
       "          if (document.readyState != \"loading\") fn();\n",
       "          else document.addEventListener(\"DOMContentLoaded\", fn);\n",
       "        })();\n",
       "      },\n",
       "      function(Bokeh) {\n",
       "      }\n",
       "    ];\n",
       "  \n",
       "    function run_inline_js() {\n",
       "      \n",
       "      if ((window.Bokeh !== undefined) || (force === true)) {\n",
       "        for (var i = 0; i < inline_js.length; i++) {\n",
       "          inline_js[i](window.Bokeh);\n",
       "        }if (force === true) {\n",
       "          display_loaded();\n",
       "        }} else if (Date.now() < window._bokeh_timeout) {\n",
       "        setTimeout(run_inline_js, 100);\n",
       "      } else if (!window._bokeh_failed_load) {\n",
       "        console.log(\"Bokeh: BokehJS failed to load within specified timeout.\");\n",
       "        window._bokeh_failed_load = true;\n",
       "      } else if (force !== true) {\n",
       "        var cell = $(document.getElementById(\"5b7dba15-9c47-4d71-891a-d809ad00a2fe\")).parents('.cell').data().cell;\n",
       "        cell.output_area.append_execute_result(NB_LOAD_WARNING)\n",
       "      }\n",
       "  \n",
       "    }\n",
       "  \n",
       "    if (window._bokeh_is_loading === 0) {\n",
       "      console.log(\"Bokeh: BokehJS loaded, going straight to plotting\");\n",
       "      run_inline_js();\n",
       "    } else {\n",
       "      load_libs(js_urls, function() {\n",
       "        console.log(\"Bokeh: BokehJS plotting callback run at\", now());\n",
       "        run_inline_js();\n",
       "      });\n",
       "    }\n",
       "  }(this));\n",
       "</script>"
      ]
     },
     "metadata": {},
     "output_type": "display_data"
    }
   ],
   "source": [
    "f = Donut(x.iloc[x.nonzero()], title='AWS EC2 Product Cost Breakdown',\n",
    "          plot_height=600, plot_width=600)\n",
    "show(f)"
   ]
  },
  {
   "cell_type": "markdown",
   "metadata": {},
   "source": [
    "How many unique operations for each of the AmazonEC2 product types?"
   ]
  },
  {
   "cell_type": "code",
   "execution_count": 29,
   "metadata": {
    "collapsed": false
   },
   "outputs": [
    {
     "data": {
      "text/plain": [
       "lineItem/UsageType\n",
       "BoxUsage:m4.xlarge                          [RunInstances]\n",
       "DataTransfer-In-Bytes                       [RunInstances]\n",
       "DataTransfer-Out-Bytes                      [RunInstances]\n",
       "DataTransfer-Regional-Bytes    [PublicIP-Out, PublicIP-In]\n",
       "EBS:SnapshotUsage                         [CreateSnapshot]\n",
       "EBS:VolumeUsage.gp2                     [CreateVolume-Gp2]\n",
       "EBSOptimized:m4.xlarge                            [Hourly]\n",
       "USE1-APS1-AWS-In-Bytes                       [PublicIP-In]\n",
       "USE1-APS1-AWS-Out-Bytes                     [PublicIP-Out]\n",
       "USE1-APS3-AWS-In-Bytes                       [PublicIP-In]\n",
       "USE1-APS3-AWS-Out-Bytes                     [PublicIP-Out]\n",
       "USE1-EU-AWS-In-Bytes                         [PublicIP-In]\n",
       "USE1-EU-AWS-Out-Bytes                       [PublicIP-Out]\n",
       "USE1-USW1-AWS-In-Bytes                       [PublicIP-In]\n",
       "USE1-USW1-AWS-Out-Bytes                     [PublicIP-Out]\n",
       "USE1-USW2-AWS-In-Bytes                       [PublicIP-In]\n",
       "USE1-USW2-AWS-Out-Bytes                     [PublicIP-Out]\n",
       "Name: lineItem/Operation, dtype: object"
      ]
     },
     "execution_count": 29,
     "metadata": {},
     "output_type": "execute_result"
    }
   ],
   "source": [
    "grp['lineItem/Operation'].unique()"
   ]
  },
  {
   "cell_type": "markdown",
   "metadata": {},
   "source": [
    "How many unique product SKUs for each of the AmazonEC2 product types?"
   ]
  },
  {
   "cell_type": "code",
   "execution_count": 30,
   "metadata": {
    "collapsed": false
   },
   "outputs": [
    {
     "data": {
      "text/plain": [
       "lineItem/UsageType\n",
       "BoxUsage:m4.xlarge             [47GP959QAF69YPG5]\n",
       "DataTransfer-In-Bytes          [9MG5B7V4UUU2WPAV]\n",
       "DataTransfer-Out-Bytes         [HQEH3ZWJVT46JHRG]\n",
       "DataTransfer-Regional-Bytes    [PNUBVW4CPC8XA46W]\n",
       "EBS:SnapshotUsage              [7U7TWP44UP36AT3R]\n",
       "EBS:VolumeUsage.gp2            [HY3BZPP2B6K8MSJF]\n",
       "EBSOptimized:m4.xlarge         [9W95WEA2F9V4BVUJ]\n",
       "USE1-APS1-AWS-In-Bytes         [DZHU5BKVVZXEHEYR]\n",
       "USE1-APS1-AWS-Out-Bytes        [2T92AZQGNFAQHEXW]\n",
       "USE1-APS3-AWS-In-Bytes         [CA5RFBSY7MFBKHTZ]\n",
       "USE1-APS3-AWS-Out-Bytes        [BHM7BATGW8NG4NZ4]\n",
       "USE1-EU-AWS-In-Bytes           [725FHGTUB3P2B9EU]\n",
       "USE1-EU-AWS-Out-Bytes          [NW4B786HNAH6HZ7R]\n",
       "USE1-USW1-AWS-In-Bytes         [NBUQPTSYHSXS2EB6]\n",
       "USE1-USW1-AWS-Out-Bytes        [8X3QU4DYXVJAXZK3]\n",
       "USE1-USW2-AWS-In-Bytes         [33Y5KYZ4JQEF6J66]\n",
       "USE1-USW2-AWS-Out-Bytes        [XGXYRYWGNXSSEUVT]\n",
       "Name: product/sku, dtype: object"
      ]
     },
     "execution_count": 30,
     "metadata": {},
     "output_type": "execute_result"
    }
   ],
   "source": [
    "skus = grp['product/sku'].unique()\n",
    "skus"
   ]
  },
  {
   "cell_type": "markdown",
   "metadata": {},
   "source": [
    "Display description for all of these SKUs and their pricing tiers:"
   ]
  },
  {
   "cell_type": "code",
   "execution_count": 31,
   "metadata": {
    "collapsed": false
   },
   "outputs": [
    {
     "name": "stdout",
     "output_type": "stream",
     "text": [
      "Usage Type: BoxUsage:m4.xlarge\n",
      "  SKU: 47GP959QAF69YPG5\n",
      "     $0.215 per On Demand Linux m4.xlarge Instance Hour\n",
      "\n",
      "\n",
      "Usage Type: DataTransfer-In-Bytes\n",
      "  SKU: 9MG5B7V4UUU2WPAV\n",
      "     $0.000 per GB - data transfer in per month\n",
      "\n",
      "\n",
      "Usage Type: DataTransfer-Out-Bytes\n",
      "  SKU: HQEH3ZWJVT46JHRG\n",
      "     $0.000 per GB - first 1 GB of data transferred out per month\n",
      "     $0.090 per GB - first 10 TB / month data transfer out beyond the global free tier\n",
      "     $0.050 per GB - greater than 150 TB / month data transfer out\n",
      "     $0.070 per GB - next 100 TB / month data transfer out\n",
      "     $0.085 per GB - next 40 TB / month data transfer out\n",
      "\n",
      "\n",
      "Usage Type: DataTransfer-Regional-Bytes\n",
      "  SKU: PNUBVW4CPC8XA46W\n",
      "     $0.010 per GB - regional data transfer - in/out/between EC2 AZs or using elastic IPs or ELB\n",
      "\n",
      "\n",
      "Usage Type: EBS:SnapshotUsage\n",
      "  SKU: 7U7TWP44UP36AT3R\n",
      "     $0.05 per GB-Month of snapshot data stored - US East (Northern Virginia)\n",
      "\n",
      "\n",
      "Usage Type: EBS:VolumeUsage.gp2\n",
      "  SKU: HY3BZPP2B6K8MSJF\n",
      "     $0.10 per GB-month of General Purpose SSD (gp2) provisioned storage - US East (Northern Virginia)\n",
      "\n",
      "\n",
      "Usage Type: EBSOptimized:m4.xlarge\n",
      "  SKU: 9W95WEA2F9V4BVUJ\n",
      "     $0.000 for 750 Mbps per m4.xlarge instance-hour (or partial hour)\n",
      "\n",
      "\n",
      "Usage Type: USE1-APS1-AWS-In-Bytes\n",
      "  SKU: DZHU5BKVVZXEHEYR\n",
      "     $0.00 per GB - US East (Northern Virginia) data transfer from Asia Pacific (Singapore)\n",
      "\n",
      "\n",
      "Usage Type: USE1-APS1-AWS-Out-Bytes\n",
      "  SKU: 2T92AZQGNFAQHEXW\n",
      "     $0.02 per GB - US East (Northern Virginia) data transfer to Asia Pacific (Singapore)\n",
      "\n",
      "\n",
      "Usage Type: USE1-APS3-AWS-In-Bytes\n",
      "  SKU: CA5RFBSY7MFBKHTZ\n",
      "     $0.00 per GB - US East (Northern Virginia) data transfer from Asia Pacific (Mumbai)\n",
      "\n",
      "\n",
      "Usage Type: USE1-APS3-AWS-Out-Bytes\n",
      "  SKU: BHM7BATGW8NG4NZ4\n",
      "     $0.02 per GB - US East (Northern Virginia) data transfer to Asia Pacific (Mumbai)\n",
      "\n",
      "\n",
      "Usage Type: USE1-EU-AWS-In-Bytes\n",
      "  SKU: 725FHGTUB3P2B9EU\n",
      "     $0.00 per GB - US East (Northern Virginia) data transfer from EU (Ireland)\n",
      "\n",
      "\n",
      "Usage Type: USE1-EU-AWS-Out-Bytes\n",
      "  SKU: NW4B786HNAH6HZ7R\n",
      "     $0.02 per GB - US East (Northern Virginia) data transfer to EU (Ireland)\n",
      "\n",
      "\n",
      "Usage Type: USE1-USW1-AWS-In-Bytes\n",
      "  SKU: NBUQPTSYHSXS2EB6\n",
      "     $0.00 per GB - US East (Northern Virginia) data transfer from US West (Northern California)\n",
      "\n",
      "\n",
      "Usage Type: USE1-USW1-AWS-Out-Bytes\n",
      "  SKU: 8X3QU4DYXVJAXZK3\n",
      "     $0.02 per GB - US East (Northern Virginia) data transfer to US West (Northern California)\n",
      "\n",
      "\n",
      "Usage Type: USE1-USW2-AWS-In-Bytes\n",
      "  SKU: 33Y5KYZ4JQEF6J66\n",
      "     $0.00 per GB - US East (Northern Virginia) data transfer from US West (Oregon)\n",
      "\n",
      "\n",
      "Usage Type: USE1-USW2-AWS-Out-Bytes\n",
      "  SKU: XGXYRYWGNXSSEUVT\n",
      "     $0.02 per GB - US East (Northern Virginia) data transfer to US West (Oregon)\n",
      "\n",
      "\n"
     ]
    }
   ],
   "source": [
    "for ut, sku_list in skus.iteritems():\n",
    "    print('Usage Type:', ut)\n",
    "    for sku in sku_list:\n",
    "        print('  SKU:', sku)\n",
    "        prod = ec2o.product(sku)\n",
    "        if len(prod.pricing) > 1:\n",
    "            raise ValueError('{}: More than one product pricing info')\n",
    "        tiers = prod.pricing[0].tiers\n",
    "        for t in tiers:\n",
    "            print('    ', t.description)\n",
    "        print('\\n')"
   ]
  },
  {
   "cell_type": "markdown",
   "metadata": {},
   "source": [
    "### Analysis: AmazonS3"
   ]
  },
  {
   "cell_type": "code",
   "execution_count": 32,
   "metadata": {
    "collapsed": true
   },
   "outputs": [],
   "source": [
    "s3 = r[r['lineItem/ProductCode'] == 'AmazonS3']"
   ]
  },
  {
   "cell_type": "markdown",
   "metadata": {},
   "source": [
    "How many usage types?"
   ]
  },
  {
   "cell_type": "code",
   "execution_count": 33,
   "metadata": {
    "collapsed": false
   },
   "outputs": [
    {
     "data": {
      "text/plain": [
       "USE1-USW2-AWS-Out-Bytes    1393\n",
       "Requests-Tier2             1006\n",
       "Requests-Tier1              578\n",
       "DataTransfer-Out-Bytes       44\n",
       "TimedStorage-ByteHrs         20\n",
       "Name: lineItem/UsageType, dtype: int64"
      ]
     },
     "execution_count": 33,
     "metadata": {},
     "output_type": "execute_result"
    }
   ],
   "source": [
    "s3['lineItem/UsageType'].value_counts()"
   ]
  },
  {
   "cell_type": "markdown",
   "metadata": {},
   "source": [
    "Cost breakdown for different product types:"
   ]
  },
  {
   "cell_type": "code",
   "execution_count": 34,
   "metadata": {
    "collapsed": false
   },
   "outputs": [],
   "source": [
    "grp = s3.groupby('lineItem/UsageType')"
   ]
  },
  {
   "cell_type": "code",
   "execution_count": 35,
   "metadata": {
    "collapsed": false
   },
   "outputs": [
    {
     "data": {
      "text/plain": [
       "lineItem/UsageType\n",
       "DataTransfer-Out-Bytes     0.000000\n",
       "Requests-Tier1             0.336420\n",
       "Requests-Tier2             0.395917\n",
       "TimedStorage-ByteHrs       7.045189\n",
       "USE1-USW2-AWS-Out-Bytes    0.332290\n",
       "Name: lineItem/BlendedCost, dtype: float64"
      ]
     },
     "execution_count": 35,
     "metadata": {},
     "output_type": "execute_result"
    }
   ],
   "source": [
    "x = grp['lineItem/BlendedCost'].sum()\n",
    "x"
   ]
  },
  {
   "cell_type": "code",
   "execution_count": 36,
   "metadata": {
    "collapsed": false
   },
   "outputs": [
    {
     "data": {
      "text/html": [
       "\n",
       "\n",
       "    <div class=\"bk-root\">\n",
       "        <div class=\"bk-plotdiv\" id=\"b72a3c71-8145-4fa4-98e3-98cbaf7a080b\"></div>\n",
       "    </div>\n",
       "<script type=\"text/javascript\">\n",
       "  \n",
       "  (function(global) {\n",
       "    function now() {\n",
       "      return new Date();\n",
       "    }\n",
       "  \n",
       "    var force = false;\n",
       "  \n",
       "    if (typeof (window._bokeh_onload_callbacks) === \"undefined\" || force === true) {\n",
       "      window._bokeh_onload_callbacks = [];\n",
       "      window._bokeh_is_loading = undefined;\n",
       "    }\n",
       "  \n",
       "  \n",
       "    \n",
       "    if (typeof (window._bokeh_timeout) === \"undefined\" || force === true) {\n",
       "      window._bokeh_timeout = Date.now() + 0;\n",
       "      window._bokeh_failed_load = false;\n",
       "    }\n",
       "  \n",
       "    var NB_LOAD_WARNING = {'data': {'text/html':\n",
       "       \"<div style='background-color: #fdd'>\\n\"+\n",
       "       \"<p>\\n\"+\n",
       "       \"BokehJS does not appear to have successfully loaded. If loading BokehJS from CDN, this \\n\"+\n",
       "       \"may be due to a slow or bad network connection. Possible fixes:\\n\"+\n",
       "       \"</p>\\n\"+\n",
       "       \"<ul>\\n\"+\n",
       "       \"<li>re-rerun `output_notebook()` to attempt to load from CDN again, or</li>\\n\"+\n",
       "       \"<li>use INLINE resources instead, as so:</li>\\n\"+\n",
       "       \"</ul>\\n\"+\n",
       "       \"<code>\\n\"+\n",
       "       \"from bokeh.resources import INLINE\\n\"+\n",
       "       \"output_notebook(resources=INLINE)\\n\"+\n",
       "       \"</code>\\n\"+\n",
       "       \"</div>\"}};\n",
       "  \n",
       "    function display_loaded() {\n",
       "      if (window.Bokeh !== undefined) {\n",
       "        document.getElementById(\"b72a3c71-8145-4fa4-98e3-98cbaf7a080b\").textContent = \"BokehJS successfully loaded.\";\n",
       "      } else if (Date.now() < window._bokeh_timeout) {\n",
       "        setTimeout(display_loaded, 100)\n",
       "      }\n",
       "    }\n",
       "  \n",
       "    function run_callbacks() {\n",
       "      window._bokeh_onload_callbacks.forEach(function(callback) { callback() });\n",
       "      delete window._bokeh_onload_callbacks\n",
       "      console.info(\"Bokeh: all callbacks have finished\");\n",
       "    }\n",
       "  \n",
       "    function load_libs(js_urls, callback) {\n",
       "      window._bokeh_onload_callbacks.push(callback);\n",
       "      if (window._bokeh_is_loading > 0) {\n",
       "        console.log(\"Bokeh: BokehJS is being loaded, scheduling callback at\", now());\n",
       "        return null;\n",
       "      }\n",
       "      if (js_urls == null || js_urls.length === 0) {\n",
       "        run_callbacks();\n",
       "        return null;\n",
       "      }\n",
       "      console.log(\"Bokeh: BokehJS not loaded, scheduling load and callback at\", now());\n",
       "      window._bokeh_is_loading = js_urls.length;\n",
       "      for (var i = 0; i < js_urls.length; i++) {\n",
       "        var url = js_urls[i];\n",
       "        var s = document.createElement('script');\n",
       "        s.src = url;\n",
       "        s.async = false;\n",
       "        s.onreadystatechange = s.onload = function() {\n",
       "          window._bokeh_is_loading--;\n",
       "          if (window._bokeh_is_loading === 0) {\n",
       "            console.log(\"Bokeh: all BokehJS libraries loaded\");\n",
       "            run_callbacks()\n",
       "          }\n",
       "        };\n",
       "        s.onerror = function() {\n",
       "          console.warn(\"failed to load library \" + url);\n",
       "        };\n",
       "        console.log(\"Bokeh: injecting script tag for BokehJS library: \", url);\n",
       "        document.getElementsByTagName(\"head\")[0].appendChild(s);\n",
       "      }\n",
       "    };var element = document.getElementById(\"b72a3c71-8145-4fa4-98e3-98cbaf7a080b\");\n",
       "    if (element == null) {\n",
       "      console.log(\"Bokeh: ERROR: autoload.js configured with elementid 'b72a3c71-8145-4fa4-98e3-98cbaf7a080b' but no matching script tag was found. \")\n",
       "      return false;\n",
       "    }\n",
       "  \n",
       "    var js_urls = [];\n",
       "  \n",
       "    var inline_js = [\n",
       "      function(Bokeh) {\n",
       "        (function() {\n",
       "          var fn = function() {\n",
       "            var docs_json = {\"4a56227f-bf9c-493b-bec0-622106419336\":{\"roots\":{\"references\":[{\"attributes\":{\"callback\":null,\"end\":1.6500000000000001,\"start\":-1.6500000000000001},\"id\":\"084e257d-8873-4e4a-96e9-2f75b88cd3c7\",\"type\":\"Range1d\"},{\"attributes\":{},\"id\":\"9db45ef6-aa68-4176-a329-3ad8165e3a8c\",\"type\":\"BasicTicker\"},{\"attributes\":{\"active_drag\":\"auto\",\"active_scroll\":\"auto\",\"active_tap\":\"auto\",\"tools\":[{\"id\":\"4c04e6eb-4280-4572-ba9e-41c6cccc8cc7\",\"type\":\"PanTool\"},{\"id\":\"19562a24-2bd8-4ff5-a6e7-793326970fa8\",\"type\":\"WheelZoomTool\"},{\"id\":\"c58f8c1e-5b44-4860-9649-a1970cad9530\",\"type\":\"BoxZoomTool\"},{\"id\":\"1e4f75de-a99a-411f-8190-512a0e1eba00\",\"type\":\"SaveTool\"},{\"id\":\"528e2107-d4fe-42ad-9199-670c902e93f3\",\"type\":\"ResetTool\"},{\"id\":\"b2b3901c-6ad0-4ece-8feb-3eaf7eaf8338\",\"type\":\"HelpTool\"}]},\"id\":\"61bdacd7-b68f-48e8-bae0-a1b587480876\",\"type\":\"Toolbar\"},{\"attributes\":{},\"id\":\"1869cde0-5646-4051-b920-be95935037bd\",\"type\":\"ToolEvents\"},{\"attributes\":{\"location\":\"top_left\",\"plot\":{\"id\":\"3aaefcf7-d138-48a6-b897-9a0b6ee2aee2\",\"subtype\":\"Chart\",\"type\":\"Plot\"}},\"id\":\"c0e6ab9e-2deb-44b0-abb5-74f73f9ba663\",\"type\":\"Legend\"},{\"attributes\":{\"end_angle\":{\"field\":\"end\",\"units\":\"rad\"},\"fill_alpha\":{\"value\":0.8},\"fill_color\":{\"field\":\"color\"},\"inner_radius\":{\"field\":\"inners\",\"units\":\"data\"},\"line_color\":{\"value\":\"White\"},\"outer_radius\":{\"field\":\"outers\",\"units\":\"data\"},\"start_angle\":{\"field\":\"start\",\"units\":\"rad\"},\"x\":{\"value\":0},\"y\":{\"value\":0}},\"id\":\"541ade53-7f50-4945-8dc2-e34f664fa53a\",\"type\":\"AnnularWedge\"},{\"attributes\":{\"callback\":null,\"end\":1.6500000000000001,\"start\":-1.6500000000000001},\"id\":\"78865d83-e020-45f8-8f4c-4cb75148fc1b\",\"type\":\"Range1d\"},{\"attributes\":{\"plot\":{\"id\":\"3aaefcf7-d138-48a6-b897-9a0b6ee2aee2\",\"subtype\":\"Chart\",\"type\":\"Plot\"}},\"id\":\"19562a24-2bd8-4ff5-a6e7-793326970fa8\",\"type\":\"WheelZoomTool\"},{\"attributes\":{\"data_source\":{\"id\":\"063e3e9f-02d9-43e6-8d2a-79fab05fb358\",\"type\":\"ColumnDataSource\"},\"glyph\":{\"id\":\"541ade53-7f50-4945-8dc2-e34f664fa53a\",\"type\":\"AnnularWedge\"},\"hover_glyph\":null,\"nonselection_glyph\":null,\"selection_glyph\":null},\"id\":\"e7a16a7e-9b4d-4f12-93b1-04091b1989d2\",\"type\":\"GlyphRenderer\"},{\"attributes\":{\"plot\":{\"id\":\"3aaefcf7-d138-48a6-b897-9a0b6ee2aee2\",\"subtype\":\"Chart\",\"type\":\"Plot\"}},\"id\":\"528e2107-d4fe-42ad-9199-670c902e93f3\",\"type\":\"ResetTool\"},{\"attributes\":{},\"id\":\"1232250c-6d1b-4323-aa55-9e4fc7d1eaa3\",\"type\":\"BasicTicker\"},{\"attributes\":{\"data_source\":{\"id\":\"c9a620d6-e8cd-4a17-84fd-4bce698d0c30\",\"type\":\"ColumnDataSource\"},\"glyph\":{\"id\":\"410a9d88-80a2-4407-bce8-3de33ec4d2ba\",\"type\":\"Text\"},\"hover_glyph\":null,\"nonselection_glyph\":null,\"selection_glyph\":null},\"id\":\"10d7e1f3-2caf-4032-b856-74924e9ef03c\",\"type\":\"GlyphRenderer\"},{\"attributes\":{\"plot\":{\"id\":\"3aaefcf7-d138-48a6-b897-9a0b6ee2aee2\",\"subtype\":\"Chart\",\"type\":\"Plot\"}},\"id\":\"1e4f75de-a99a-411f-8190-512a0e1eba00\",\"type\":\"SaveTool\"},{\"attributes\":{\"plot\":null,\"text\":\"AWS S3 Cost Breakdown\"},\"id\":\"f3bc0c2c-bf2c-4bfe-9c83-d6d9591be6dd\",\"type\":\"Title\"},{\"attributes\":{\"callback\":null,\"column_names\":[\"start\",\"values\",\"outers\",\"inners\",\"lineItem/UsageType\",\"level\",\"end\",\"color\",\"centers\"],\"data\":{\"centers\":[1.125,1.125,1.125,1.125],\"color\":[\"#f22c40\",\"#5ab738\",\"#407ee7\",\"#df5320\"],\"end\":[0.26064576024062425,0.5673877481912197,6.025739132084944,6.283185307179586],\"inners\":[0.0,0.0,0.0,0.0],\"level\":[0.0,0.0,0.0,0.0],\"lineItem/UsageType\":[\"Requests-Tier1\",\"Requests-Tier2\",\"TimedStorage-ByteHrs\",\"USE1-USW2-AWS-Out-Bytes\"],\"outers\":[1.5,1.5,1.5,1.5],\"start\":[0.0,0.26064576024062425,0.5673877481912197,6.025739132084944],\"values\":[0.3364200000000002,0.3959172000000004,7.045188729999999,0.33229024000000046]}},\"id\":\"063e3e9f-02d9-43e6-8d2a-79fab05fb358\",\"type\":\"ColumnDataSource\"},{\"attributes\":{\"overlay\":{\"id\":\"2efe4a14-cef6-44ca-99d0-55eaadc79be0\",\"type\":\"BoxAnnotation\"},\"plot\":{\"id\":\"3aaefcf7-d138-48a6-b897-9a0b6ee2aee2\",\"subtype\":\"Chart\",\"type\":\"Plot\"}},\"id\":\"c58f8c1e-5b44-4860-9649-a1970cad9530\",\"type\":\"BoxZoomTool\"},{\"attributes\":{\"angle\":{\"field\":\"text_angle\",\"units\":\"rad\"},\"text_align\":\"center\",\"text_baseline\":\"middle\",\"text_font_size\":{\"value\":\"10pt\"},\"x\":{\"field\":\"x\"},\"y\":{\"field\":\"y\"}},\"id\":\"410a9d88-80a2-4407-bce8-3de33ec4d2ba\",\"type\":\"Text\"},{\"attributes\":{},\"id\":\"6964a8e5-ea73-4370-9083-9924e88ba637\",\"type\":\"BasicTickFormatter\"},{\"attributes\":{\"bottom_units\":\"screen\",\"fill_alpha\":{\"value\":0.5},\"fill_color\":{\"value\":\"lightgrey\"},\"left_units\":\"screen\",\"level\":\"overlay\",\"line_alpha\":{\"value\":1.0},\"line_color\":{\"value\":\"black\"},\"line_dash\":[4,4],\"line_width\":{\"value\":2},\"plot\":null,\"render_mode\":\"css\",\"right_units\":\"screen\",\"top_units\":\"screen\"},\"id\":\"2efe4a14-cef6-44ca-99d0-55eaadc79be0\",\"type\":\"BoxAnnotation\"},{\"attributes\":{\"callback\":null,\"column_names\":[\"text_angle\",\"text\",\"y\",\"x\"],\"data\":{\"text\":[\"Requests-Tier1\",\"Requests-Tier2\",\"TimedStorage-ByteHrs\",\"USE1-USW2-AWS-Out-Bytes\"],\"text_angle\":{\"__ndarray__\":\"AAAAAAAAAAAAAAAAAAAAAAAAAAAAAAAAAAAAAAAAAAA=\",\"dtype\":\"float64\",\"shape\":[4]},\"x\":[1.1154599839597579,1.029951351984918,-1.111518045369245,1.1156924438408262],\"y\":[0.14619857791543886,0.45257619529140025,-0.1736451404978924,-0.14441388699320087]}},\"id\":\"c9a620d6-e8cd-4a17-84fd-4bce698d0c30\",\"type\":\"ColumnDataSource\"},{\"attributes\":{\"axis_label\":null,\"formatter\":{\"id\":\"6964a8e5-ea73-4370-9083-9924e88ba637\",\"type\":\"BasicTickFormatter\"},\"plot\":{\"id\":\"3aaefcf7-d138-48a6-b897-9a0b6ee2aee2\",\"subtype\":\"Chart\",\"type\":\"Plot\"},\"ticker\":{\"id\":\"9db45ef6-aa68-4176-a329-3ad8165e3a8c\",\"type\":\"BasicTicker\"},\"visible\":false},\"id\":\"9b4ba07f-005b-41f1-b44e-05efebb961ab\",\"type\":\"LinearAxis\"},{\"attributes\":{\"below\":[{\"id\":\"9b4ba07f-005b-41f1-b44e-05efebb961ab\",\"type\":\"LinearAxis\"}],\"css_classes\":null,\"left\":[{\"id\":\"c556e24b-8074-4e2b-bbfc-c9d8b183d565\",\"type\":\"LinearAxis\"}],\"renderers\":[{\"id\":\"2efe4a14-cef6-44ca-99d0-55eaadc79be0\",\"type\":\"BoxAnnotation\"},{\"id\":\"e7a16a7e-9b4d-4f12-93b1-04091b1989d2\",\"type\":\"GlyphRenderer\"},{\"id\":\"10d7e1f3-2caf-4032-b856-74924e9ef03c\",\"type\":\"GlyphRenderer\"},{\"id\":\"c0e6ab9e-2deb-44b0-abb5-74f73f9ba663\",\"type\":\"Legend\"},{\"id\":\"9b4ba07f-005b-41f1-b44e-05efebb961ab\",\"type\":\"LinearAxis\"},{\"id\":\"c556e24b-8074-4e2b-bbfc-c9d8b183d565\",\"type\":\"LinearAxis\"}],\"title\":{\"id\":\"f3bc0c2c-bf2c-4bfe-9c83-d6d9591be6dd\",\"type\":\"Title\"},\"tool_events\":{\"id\":\"1869cde0-5646-4051-b920-be95935037bd\",\"type\":\"ToolEvents\"},\"toolbar\":{\"id\":\"61bdacd7-b68f-48e8-bae0-a1b587480876\",\"type\":\"Toolbar\"},\"x_mapper_type\":\"auto\",\"x_range\":{\"id\":\"084e257d-8873-4e4a-96e9-2f75b88cd3c7\",\"type\":\"Range1d\"},\"y_mapper_type\":\"auto\",\"y_range\":{\"id\":\"78865d83-e020-45f8-8f4c-4cb75148fc1b\",\"type\":\"Range1d\"}},\"id\":\"3aaefcf7-d138-48a6-b897-9a0b6ee2aee2\",\"subtype\":\"Chart\",\"type\":\"Plot\"},{\"attributes\":{\"axis_label\":null,\"formatter\":{\"id\":\"456e65a7-a536-44c9-b816-0164c2731dde\",\"type\":\"BasicTickFormatter\"},\"plot\":{\"id\":\"3aaefcf7-d138-48a6-b897-9a0b6ee2aee2\",\"subtype\":\"Chart\",\"type\":\"Plot\"},\"ticker\":{\"id\":\"1232250c-6d1b-4323-aa55-9e4fc7d1eaa3\",\"type\":\"BasicTicker\"},\"visible\":false},\"id\":\"c556e24b-8074-4e2b-bbfc-c9d8b183d565\",\"type\":\"LinearAxis\"},{\"attributes\":{},\"id\":\"456e65a7-a536-44c9-b816-0164c2731dde\",\"type\":\"BasicTickFormatter\"},{\"attributes\":{\"plot\":{\"id\":\"3aaefcf7-d138-48a6-b897-9a0b6ee2aee2\",\"subtype\":\"Chart\",\"type\":\"Plot\"}},\"id\":\"b2b3901c-6ad0-4ece-8feb-3eaf7eaf8338\",\"type\":\"HelpTool\"},{\"attributes\":{\"plot\":{\"id\":\"3aaefcf7-d138-48a6-b897-9a0b6ee2aee2\",\"subtype\":\"Chart\",\"type\":\"Plot\"}},\"id\":\"4c04e6eb-4280-4572-ba9e-41c6cccc8cc7\",\"type\":\"PanTool\"}],\"root_ids\":[\"3aaefcf7-d138-48a6-b897-9a0b6ee2aee2\"]},\"title\":\"Bokeh Application\",\"version\":\"0.12.4\"}};\n",
       "            var render_items = [{\"docid\":\"4a56227f-bf9c-493b-bec0-622106419336\",\"elementid\":\"b72a3c71-8145-4fa4-98e3-98cbaf7a080b\",\"modelid\":\"3aaefcf7-d138-48a6-b897-9a0b6ee2aee2\"}];\n",
       "            \n",
       "            Bokeh.embed.embed_items(docs_json, render_items);\n",
       "          };\n",
       "          if (document.readyState != \"loading\") fn();\n",
       "          else document.addEventListener(\"DOMContentLoaded\", fn);\n",
       "        })();\n",
       "      },\n",
       "      function(Bokeh) {\n",
       "      }\n",
       "    ];\n",
       "  \n",
       "    function run_inline_js() {\n",
       "      \n",
       "      if ((window.Bokeh !== undefined) || (force === true)) {\n",
       "        for (var i = 0; i < inline_js.length; i++) {\n",
       "          inline_js[i](window.Bokeh);\n",
       "        }if (force === true) {\n",
       "          display_loaded();\n",
       "        }} else if (Date.now() < window._bokeh_timeout) {\n",
       "        setTimeout(run_inline_js, 100);\n",
       "      } else if (!window._bokeh_failed_load) {\n",
       "        console.log(\"Bokeh: BokehJS failed to load within specified timeout.\");\n",
       "        window._bokeh_failed_load = true;\n",
       "      } else if (force !== true) {\n",
       "        var cell = $(document.getElementById(\"b72a3c71-8145-4fa4-98e3-98cbaf7a080b\")).parents('.cell').data().cell;\n",
       "        cell.output_area.append_execute_result(NB_LOAD_WARNING)\n",
       "      }\n",
       "  \n",
       "    }\n",
       "  \n",
       "    if (window._bokeh_is_loading === 0) {\n",
       "      console.log(\"Bokeh: BokehJS loaded, going straight to plotting\");\n",
       "      run_inline_js();\n",
       "    } else {\n",
       "      load_libs(js_urls, function() {\n",
       "        console.log(\"Bokeh: BokehJS plotting callback run at\", now());\n",
       "        run_inline_js();\n",
       "      });\n",
       "    }\n",
       "  }(this));\n",
       "</script>"
      ]
     },
     "metadata": {},
     "output_type": "display_data"
    }
   ],
   "source": [
    "f = Donut(x.iloc[x.nonzero()], title='AWS S3 Cost Breakdown',\n",
    "          plot_height=600, plot_width=600)\n",
    "show(f)"
   ]
  },
  {
   "cell_type": "markdown",
   "metadata": {},
   "source": [
    "How many unique operations for each of the AmazonS3 product types?"
   ]
  },
  {
   "cell_type": "code",
   "execution_count": 37,
   "metadata": {
    "collapsed": false
   },
   "outputs": [
    {
     "data": {
      "text/plain": [
       "lineItem/UsageType\n",
       "DataTransfer-Out-Bytes                          [GetObject, ListBucket]\n",
       "Requests-Tier1              [ListBucketVersions, PutObject, ListBucket]\n",
       "Requests-Tier2             [HeadBucket, GetObject, ReadACL, HeadObject]\n",
       "TimedStorage-ByteHrs                                  [StandardStorage]\n",
       "USE1-USW2-AWS-Out-Bytes     [ListBucketVersions, HeadBucket, GetObject]\n",
       "Name: lineItem/Operation, dtype: object"
      ]
     },
     "execution_count": 37,
     "metadata": {},
     "output_type": "execute_result"
    }
   ],
   "source": [
    "grp['lineItem/Operation'].unique()"
   ]
  },
  {
   "cell_type": "markdown",
   "metadata": {},
   "source": [
    "How many unique product SKUs for each of the AmazonS3 product types?"
   ]
  },
  {
   "cell_type": "code",
   "execution_count": 38,
   "metadata": {
    "collapsed": false
   },
   "outputs": [
    {
     "data": {
      "text/plain": [
       "lineItem/UsageType\n",
       "DataTransfer-Out-Bytes     [HQEH3ZWJVT46JHRG]\n",
       "Requests-Tier1             [E9YHNFENF4XQBZR6]\n",
       "Requests-Tier2             [ZWQ6Q48CRJXX4FXE]\n",
       "TimedStorage-ByteHrs       [WP9ANXZGBYYSGJEA]\n",
       "USE1-USW2-AWS-Out-Bytes    [XGXYRYWGNXSSEUVT]\n",
       "Name: product/sku, dtype: object"
      ]
     },
     "execution_count": 38,
     "metadata": {},
     "output_type": "execute_result"
    }
   ],
   "source": [
    "skus = grp['product/sku'].unique()\n",
    "skus"
   ]
  },
  {
   "cell_type": "markdown",
   "metadata": {},
   "source": [
    "Display description for all of these SKUs and their pricing tiers:"
   ]
  },
  {
   "cell_type": "code",
   "execution_count": 39,
   "metadata": {
    "collapsed": false
   },
   "outputs": [
    {
     "name": "stdout",
     "output_type": "stream",
     "text": [
      "Usage Type: DataTransfer-Out-Bytes\n",
      "  SKU: HQEH3ZWJVT46JHRG\n",
      "     $0.000 per GB - first 1 GB of data transferred out per month\n",
      "     $0.090 per GB - first 10 TB / month data transfer out beyond the global free tier\n",
      "     $0.050 per GB - greater than 150 TB / month data transfer out\n",
      "     $0.070 per GB - next 100 TB / month data transfer out\n",
      "     $0.085 per GB - next 40 TB / month data transfer out\n",
      "\n",
      "\n",
      "Usage Type: Requests-Tier1\n",
      "  SKU: E9YHNFENF4XQBZR6\n",
      "     $0.005 per 1,000 PUT, COPY, POST, or LIST requests\n",
      "\n",
      "\n",
      "Usage Type: Requests-Tier2\n",
      "  SKU: ZWQ6Q48CRJXX4FXE\n",
      "     $0.004 per 10,000 GET and all other requests\n",
      "\n",
      "\n",
      "Usage Type: TimedStorage-ByteHrs\n",
      "  SKU: WP9ANXZGBYYSGJEA\n",
      "     $0.021 per GB - storage used / month over 500 TB\n",
      "     $0.022 per GB - next 450 TB / month of storage used\n",
      "     $0.023 per GB - first 50 TB / month of storage used\n",
      "\n",
      "\n",
      "Usage Type: USE1-USW2-AWS-Out-Bytes\n",
      "  SKU: XGXYRYWGNXSSEUVT\n",
      "     $0.02 per GB - US East (Northern Virginia) data transfer to US West (Oregon)\n",
      "\n",
      "\n"
     ]
    }
   ],
   "source": [
    "for ut, sku_list in skus.iteritems():\n",
    "    print('Usage Type:', ut)\n",
    "    for sku in sku_list:\n",
    "        print('  SKU:', sku)\n",
    "        prod = s3o.product(sku)\n",
    "        if len(prod.pricing) > 1:\n",
    "            raise ValueError('{}: More than one product pricing info')\n",
    "        tiers = prod.pricing[0].tiers\n",
    "        for t in tiers:\n",
    "            print('    ', t.description)\n",
    "        print('\\n')"
   ]
  },
  {
   "cell_type": "markdown",
   "metadata": {},
   "source": [
    "## Sandbox\n",
    "\n",
    "Toying with various ideas below... Eventually, this stuff may be pulled somewhere up."
   ]
  },
  {
   "cell_type": "code",
   "execution_count": 40,
   "metadata": {
    "collapsed": false
   },
   "outputs": [
    {
     "data": {
      "text/html": [
       "\n",
       "\n",
       "    <div class=\"bk-root\">\n",
       "        <div class=\"bk-plotdiv\" id=\"1a415b3a-a07d-4d23-a7b8-32cccabe3aa9\"></div>\n",
       "    </div>\n",
       "<script type=\"text/javascript\">\n",
       "  \n",
       "  (function(global) {\n",
       "    function now() {\n",
       "      return new Date();\n",
       "    }\n",
       "  \n",
       "    var force = false;\n",
       "  \n",
       "    if (typeof (window._bokeh_onload_callbacks) === \"undefined\" || force === true) {\n",
       "      window._bokeh_onload_callbacks = [];\n",
       "      window._bokeh_is_loading = undefined;\n",
       "    }\n",
       "  \n",
       "  \n",
       "    \n",
       "    if (typeof (window._bokeh_timeout) === \"undefined\" || force === true) {\n",
       "      window._bokeh_timeout = Date.now() + 0;\n",
       "      window._bokeh_failed_load = false;\n",
       "    }\n",
       "  \n",
       "    var NB_LOAD_WARNING = {'data': {'text/html':\n",
       "       \"<div style='background-color: #fdd'>\\n\"+\n",
       "       \"<p>\\n\"+\n",
       "       \"BokehJS does not appear to have successfully loaded. If loading BokehJS from CDN, this \\n\"+\n",
       "       \"may be due to a slow or bad network connection. Possible fixes:\\n\"+\n",
       "       \"</p>\\n\"+\n",
       "       \"<ul>\\n\"+\n",
       "       \"<li>re-rerun `output_notebook()` to attempt to load from CDN again, or</li>\\n\"+\n",
       "       \"<li>use INLINE resources instead, as so:</li>\\n\"+\n",
       "       \"</ul>\\n\"+\n",
       "       \"<code>\\n\"+\n",
       "       \"from bokeh.resources import INLINE\\n\"+\n",
       "       \"output_notebook(resources=INLINE)\\n\"+\n",
       "       \"</code>\\n\"+\n",
       "       \"</div>\"}};\n",
       "  \n",
       "    function display_loaded() {\n",
       "      if (window.Bokeh !== undefined) {\n",
       "        document.getElementById(\"1a415b3a-a07d-4d23-a7b8-32cccabe3aa9\").textContent = \"BokehJS successfully loaded.\";\n",
       "      } else if (Date.now() < window._bokeh_timeout) {\n",
       "        setTimeout(display_loaded, 100)\n",
       "      }\n",
       "    }\n",
       "  \n",
       "    function run_callbacks() {\n",
       "      window._bokeh_onload_callbacks.forEach(function(callback) { callback() });\n",
       "      delete window._bokeh_onload_callbacks\n",
       "      console.info(\"Bokeh: all callbacks have finished\");\n",
       "    }\n",
       "  \n",
       "    function load_libs(js_urls, callback) {\n",
       "      window._bokeh_onload_callbacks.push(callback);\n",
       "      if (window._bokeh_is_loading > 0) {\n",
       "        console.log(\"Bokeh: BokehJS is being loaded, scheduling callback at\", now());\n",
       "        return null;\n",
       "      }\n",
       "      if (js_urls == null || js_urls.length === 0) {\n",
       "        run_callbacks();\n",
       "        return null;\n",
       "      }\n",
       "      console.log(\"Bokeh: BokehJS not loaded, scheduling load and callback at\", now());\n",
       "      window._bokeh_is_loading = js_urls.length;\n",
       "      for (var i = 0; i < js_urls.length; i++) {\n",
       "        var url = js_urls[i];\n",
       "        var s = document.createElement('script');\n",
       "        s.src = url;\n",
       "        s.async = false;\n",
       "        s.onreadystatechange = s.onload = function() {\n",
       "          window._bokeh_is_loading--;\n",
       "          if (window._bokeh_is_loading === 0) {\n",
       "            console.log(\"Bokeh: all BokehJS libraries loaded\");\n",
       "            run_callbacks()\n",
       "          }\n",
       "        };\n",
       "        s.onerror = function() {\n",
       "          console.warn(\"failed to load library \" + url);\n",
       "        };\n",
       "        console.log(\"Bokeh: injecting script tag for BokehJS library: \", url);\n",
       "        document.getElementsByTagName(\"head\")[0].appendChild(s);\n",
       "      }\n",
       "    };var element = document.getElementById(\"1a415b3a-a07d-4d23-a7b8-32cccabe3aa9\");\n",
       "    if (element == null) {\n",
       "      console.log(\"Bokeh: ERROR: autoload.js configured with elementid '1a415b3a-a07d-4d23-a7b8-32cccabe3aa9' but no matching script tag was found. \")\n",
       "      return false;\n",
       "    }\n",
       "  \n",
       "    var js_urls = [];\n",
       "  \n",
       "    var inline_js = [\n",
       "      function(Bokeh) {\n",
       "        (function() {\n",
       "          var fn = function() {\n",
       "            var docs_json = {\"485b04ce-2c2f-4104-b745-f5934092709d\":{\"roots\":{\"references\":[{\"attributes\":{\"callback\":null,\"end\":17.571119429,\"start\":3.8571709609999996},\"id\":\"c1e15558-f810-468a-b273-d5428dfac620\",\"type\":\"Range1d\"},{\"attributes\":{\"plot\":{\"id\":\"97ab72ac-3d30-4b04-886a-87bb7ad1f3b6\",\"subtype\":\"Chart\",\"type\":\"Plot\"}},\"id\":\"014e09e9-a874-4fb6-bf4d-26721f527fed\",\"type\":\"ResetTool\"},{\"attributes\":{\"dimension\":1,\"plot\":{\"id\":\"97ab72ac-3d30-4b04-886a-87bb7ad1f3b6\",\"subtype\":\"Chart\",\"type\":\"Plot\"},\"ticker\":{\"id\":\"5e0546f6-284b-45a2-b20f-c62235017041\",\"type\":\"BasicTicker\"}},\"id\":\"187b62cd-3cc1-41ca-b447-e27ffb49e24a\",\"type\":\"Grid\"},{\"attributes\":{},\"id\":\"fe0874ea-6fbd-4c9c-968c-a690b2258bb5\",\"type\":\"YearsTicker\"},{\"attributes\":{\"plot\":null,\"text\":null},\"id\":\"a4edb3c0-3a10-4e40-87e0-ee3ce1c3812a\",\"type\":\"Title\"},{\"attributes\":{\"days\":[1,8,15,22]},\"id\":\"85299316-efa8-4294-9b56-27e8a05f774e\",\"type\":\"DaysTicker\"},{\"attributes\":{\"days\":[1,2,3,4,5,6,7,8,9,10,11,12,13,14,15,16,17,18,19,20,21,22,23,24,25,26,27,28,29,30,31]},\"id\":\"f3c9f72c-1e42-44a7-9cad-a0ae2d3df860\",\"type\":\"DaysTicker\"},{\"attributes\":{\"line_color\":{\"value\":\"#f22c40\"},\"line_width\":{\"value\":2},\"x\":{\"field\":\"x_values\"},\"y\":{\"field\":\"y_values\"}},\"id\":\"5fa0a8c8-f4c6-40d8-bd1f-7d2c68a3ed3a\",\"type\":\"Line\"},{\"attributes\":{\"axis_label\":\"lineItem/UsageAmount\",\"formatter\":{\"id\":\"dfa55a23-de6e-4692-98b8-ddb94607371b\",\"type\":\"BasicTickFormatter\"},\"plot\":{\"id\":\"97ab72ac-3d30-4b04-886a-87bb7ad1f3b6\",\"subtype\":\"Chart\",\"type\":\"Plot\"},\"ticker\":{\"id\":\"5e0546f6-284b-45a2-b20f-c62235017041\",\"type\":\"BasicTicker\"}},\"id\":\"e6d59b6f-5c9e-40e1-bf4a-b86dc112833a\",\"type\":\"LinearAxis\"},{\"attributes\":{},\"id\":\"dfa55a23-de6e-4692-98b8-ddb94607371b\",\"type\":\"BasicTickFormatter\"},{\"attributes\":{\"callback\":null,\"column_names\":[\"y_values\",\"x_values\"],\"data\":{\"chart_index\":[\"None\",\"None\",\"None\",\"None\",\"None\",\"None\",\"None\",\"None\",\"None\",\"None\",\"None\",\"None\",\"None\",\"None\",\"None\",\"None\",\"None\",\"None\",\"None\",\"None\",\"None\",\"None\",\"None\",\"None\",\"None\",\"None\",\"None\",\"None\",\"None\",\"None\",\"None\",\"None\",\"None\",\"None\",\"None\",\"None\",\"None\",\"None\",\"None\"],\"x_values\":{\"__ndarray__\":\"AACQ3ZGfdUIAAJDdkZ91QgAAkN2Rn3VCAABQQ+SfdUIAAFBD5J91QgAAEKk2oHVCAAAQqTagdUIAANAOiaB1QgAA0A6JoHVCAACQdNugdUIAAJB026B1QgAAUNotoXVCAABQ2i2hdUIAAPiug6F1QgAA+K6DoXVCAADQpdKhdUIAANCl0qF1QgAAoGBHonVCAACgYEeidUIAAHhXlqJ1QgAAeFeWonVCAABQTuWidUIAAFBO5aJ1QgAA+CI7o3VCAAD4IjujdUIAAJCibqN1QgAAkKJuo3VCAABQCMGjdUIAAFAIwaN1QgAAEG4TpHVCAAAQbhOkdUIAANDTZaR1QgAA0NNlpHVCAACQObikdUIAAJA5uKR1QgAAUJ8KpXVCAABQnwqldUIAABAFXaV1QgAAEAVdpXVC\",\"dtype\":\"float64\",\"shape\":[39]},\"y_values\":{\"__ndarray__\":\"AAAAAAAAFEAAAAAAAAAUQHhEQ84U2yZAeERDzhTbJkC4PWJwpG0wQLg9YnCkbTBApgtv3lFtMECmC2/eUW0wQJz4zXEsYDBAnPjNcSxgMEBbnO+vN2AwQFuc7683YDBACs4Jb0lgMEAKzglvSWAwQET7ec9YYDBARPt5z1hgMED417gfbGAwQPjXuB9sYDBAd73yKK5gMEB3vfIormAwQLNu7nVzYDBAs27udXNgMEBctSG1P2AwQFy1IbU/YDBAQUHOoEZgMEBBQc6gRmAwQGnZg95VYDBAadmD3lVgMEA/HMEZPmAwQD8cwRk+YDBA5vlf8GFgMEDm+V/wYWAwQFxeNaaSYDBAXF41ppJgMEAQa57h1WAwQBBrnuHVYDBA9iPJnPxgMED2I8mc/GAwQCnq7UsNYTBA\",\"dtype\":\"float64\",\"shape\":[39]}}},\"id\":\"ebd6683e-ad4e-46c2-b4b1-d1053c44deae\",\"type\":\"ColumnDataSource\"},{\"attributes\":{\"active_drag\":\"auto\",\"active_scroll\":\"auto\",\"active_tap\":\"auto\",\"tools\":[{\"id\":\"ee3acfef-7b61-4c8a-8da1-4a1e0036294c\",\"type\":\"PanTool\"},{\"id\":\"7303528e-4fc0-43f4-a8e2-be4a366db699\",\"type\":\"WheelZoomTool\"},{\"id\":\"a8873cc5-94ee-4b3c-a382-41b7cd7e3ca9\",\"type\":\"BoxZoomTool\"},{\"id\":\"8fdefa24-ce32-4047-bb96-b4b31a56063e\",\"type\":\"SaveTool\"},{\"id\":\"014e09e9-a874-4fb6-bf4d-26721f527fed\",\"type\":\"ResetTool\"},{\"id\":\"3043e319-73f5-40c7-ae1c-3e5adfec0c3f\",\"type\":\"HelpTool\"}]},\"id\":\"9a1bb0b9-9efa-4ee2-86ac-7df3e271bf01\",\"type\":\"Toolbar\"},{\"attributes\":{\"bottom_units\":\"screen\",\"fill_alpha\":{\"value\":0.5},\"fill_color\":{\"value\":\"lightgrey\"},\"left_units\":\"screen\",\"level\":\"overlay\",\"line_alpha\":{\"value\":1.0},\"line_color\":{\"value\":\"black\"},\"line_dash\":[4,4],\"line_width\":{\"value\":2},\"plot\":null,\"render_mode\":\"css\",\"right_units\":\"screen\",\"top_units\":\"screen\"},\"id\":\"bb28cb9e-3fe0-4989-8591-f71056de3bd7\",\"type\":\"BoxAnnotation\"},{\"attributes\":{\"days\":[1,4,7,10,13,16,19,22,25,28]},\"id\":\"2f0e46a8-9058-4784-83cf-6e99d0caf58f\",\"type\":\"DaysTicker\"},{\"attributes\":{},\"id\":\"112fbf91-4099-428e-a23b-249b03373dbb\",\"type\":\"ToolEvents\"},{\"attributes\":{\"months\":[0,4,8]},\"id\":\"408a77a3-2995-4205-95a4-f595fd87a0dc\",\"type\":\"MonthsTicker\"},{\"attributes\":{\"plot\":{\"id\":\"97ab72ac-3d30-4b04-886a-87bb7ad1f3b6\",\"subtype\":\"Chart\",\"type\":\"Plot\"},\"ticker\":{\"id\":\"692afd85-ba94-4563-b43c-076eb8ab035e\",\"type\":\"DatetimeTicker\"}},\"id\":\"90c435dc-3a1b-4b00-83b1-ef408cf3f277\",\"type\":\"Grid\"},{\"attributes\":{\"overlay\":{\"id\":\"bb28cb9e-3fe0-4989-8591-f71056de3bd7\",\"type\":\"BoxAnnotation\"},\"plot\":{\"id\":\"97ab72ac-3d30-4b04-886a-87bb7ad1f3b6\",\"subtype\":\"Chart\",\"type\":\"Plot\"}},\"id\":\"a8873cc5-94ee-4b3c-a382-41b7cd7e3ca9\",\"type\":\"BoxZoomTool\"},{\"attributes\":{\"months\":[0,1,2,3,4,5,6,7,8,9,10,11]},\"id\":\"4d8dc6be-ad74-4c2e-b191-60ab1336dd28\",\"type\":\"MonthsTicker\"},{\"attributes\":{\"data_source\":{\"id\":\"ebd6683e-ad4e-46c2-b4b1-d1053c44deae\",\"type\":\"ColumnDataSource\"},\"glyph\":{\"id\":\"5fa0a8c8-f4c6-40d8-bd1f-7d2c68a3ed3a\",\"type\":\"Line\"},\"hover_glyph\":null,\"nonselection_glyph\":null,\"selection_glyph\":null},\"id\":\"96b68ef3-7b6b-4efd-a8ca-d0fde8aa856f\",\"type\":\"GlyphRenderer\"},{\"attributes\":{\"base\":24,\"mantissas\":[1,2,4,6,8,12],\"max_interval\":43200000.0,\"min_interval\":3600000.0,\"num_minor_ticks\":0},\"id\":\"e4ff2d90-3928-4566-bd0f-00ea7dc69de6\",\"type\":\"AdaptiveTicker\"},{\"attributes\":{\"callback\":null,\"end\":1487498400000.0,\"start\":1485943200000.0},\"id\":\"53043c0c-3517-4b63-97c8-203b43b7922a\",\"type\":\"Range1d\"},{\"attributes\":{\"plot\":{\"id\":\"97ab72ac-3d30-4b04-886a-87bb7ad1f3b6\",\"subtype\":\"Chart\",\"type\":\"Plot\"}},\"id\":\"7303528e-4fc0-43f4-a8e2-be4a366db699\",\"type\":\"WheelZoomTool\"},{\"attributes\":{\"max_interval\":500.0,\"num_minor_ticks\":0},\"id\":\"43cf6f35-7abd-4d69-b010-87eb82058f1b\",\"type\":\"AdaptiveTicker\"},{\"attributes\":{\"plot\":{\"id\":\"97ab72ac-3d30-4b04-886a-87bb7ad1f3b6\",\"subtype\":\"Chart\",\"type\":\"Plot\"}},\"id\":\"8fdefa24-ce32-4047-bb96-b4b31a56063e\",\"type\":\"SaveTool\"},{\"attributes\":{\"months\":[0,6]},\"id\":\"a3707129-d954-455c-9c42-d3a914b085bc\",\"type\":\"MonthsTicker\"},{\"attributes\":{\"days\":[1,15]},\"id\":\"5a4c1556-833e-4f9c-9f50-90a73b53da2b\",\"type\":\"DaysTicker\"},{\"attributes\":{},\"id\":\"5e0546f6-284b-45a2-b20f-c62235017041\",\"type\":\"BasicTicker\"},{\"attributes\":{\"months\":[0,2,4,6,8,10]},\"id\":\"6fe0ae4d-74cc-4684-b3da-8f8a0e39856d\",\"type\":\"MonthsTicker\"},{\"attributes\":{},\"id\":\"692afd85-ba94-4563-b43c-076eb8ab035e\",\"type\":\"DatetimeTicker\"},{\"attributes\":{\"location\":\"top_left\",\"plot\":{\"id\":\"97ab72ac-3d30-4b04-886a-87bb7ad1f3b6\",\"subtype\":\"Chart\",\"type\":\"Plot\"}},\"id\":\"f96e1094-8106-4636-b934-daf30b6f6329\",\"type\":\"Legend\"},{\"attributes\":{},\"id\":\"6cb612bb-f548-492b-bfcd-936da213a547\",\"type\":\"DatetimeTickFormatter\"},{\"attributes\":{\"plot\":{\"id\":\"97ab72ac-3d30-4b04-886a-87bb7ad1f3b6\",\"subtype\":\"Chart\",\"type\":\"Plot\"}},\"id\":\"ee3acfef-7b61-4c8a-8da1-4a1e0036294c\",\"type\":\"PanTool\"},{\"attributes\":{\"below\":[{\"id\":\"8fb3af89-ff85-4ab8-a2f0-9ee765b6ed0f\",\"type\":\"DatetimeAxis\"}],\"css_classes\":null,\"left\":[{\"id\":\"e6d59b6f-5c9e-40e1-bf4a-b86dc112833a\",\"type\":\"LinearAxis\"}],\"renderers\":[{\"id\":\"bb28cb9e-3fe0-4989-8591-f71056de3bd7\",\"type\":\"BoxAnnotation\"},{\"id\":\"96b68ef3-7b6b-4efd-a8ca-d0fde8aa856f\",\"type\":\"GlyphRenderer\"},{\"id\":\"f96e1094-8106-4636-b934-daf30b6f6329\",\"type\":\"Legend\"},{\"id\":\"8fb3af89-ff85-4ab8-a2f0-9ee765b6ed0f\",\"type\":\"DatetimeAxis\"},{\"id\":\"e6d59b6f-5c9e-40e1-bf4a-b86dc112833a\",\"type\":\"LinearAxis\"},{\"id\":\"90c435dc-3a1b-4b00-83b1-ef408cf3f277\",\"type\":\"Grid\"},{\"id\":\"187b62cd-3cc1-41ca-b447-e27ffb49e24a\",\"type\":\"Grid\"}],\"title\":{\"id\":\"a4edb3c0-3a10-4e40-87e0-ee3ce1c3812a\",\"type\":\"Title\"},\"tool_events\":{\"id\":\"112fbf91-4099-428e-a23b-249b03373dbb\",\"type\":\"ToolEvents\"},\"toolbar\":{\"id\":\"9a1bb0b9-9efa-4ee2-86ac-7df3e271bf01\",\"type\":\"Toolbar\"},\"x_mapper_type\":\"auto\",\"x_range\":{\"id\":\"53043c0c-3517-4b63-97c8-203b43b7922a\",\"type\":\"Range1d\"},\"y_mapper_type\":\"auto\",\"y_range\":{\"id\":\"c1e15558-f810-468a-b273-d5428dfac620\",\"type\":\"Range1d\"}},\"id\":\"97ab72ac-3d30-4b04-886a-87bb7ad1f3b6\",\"subtype\":\"Chart\",\"type\":\"Plot\"},{\"attributes\":{\"plot\":{\"id\":\"97ab72ac-3d30-4b04-886a-87bb7ad1f3b6\",\"subtype\":\"Chart\",\"type\":\"Plot\"}},\"id\":\"3043e319-73f5-40c7-ae1c-3e5adfec0c3f\",\"type\":\"HelpTool\"},{\"attributes\":{\"axis_label\":\"lineItem/UsageStartDate\",\"formatter\":{\"id\":\"6cb612bb-f548-492b-bfcd-936da213a547\",\"type\":\"DatetimeTickFormatter\"},\"plot\":{\"id\":\"97ab72ac-3d30-4b04-886a-87bb7ad1f3b6\",\"subtype\":\"Chart\",\"type\":\"Plot\"},\"ticker\":{\"id\":\"692afd85-ba94-4563-b43c-076eb8ab035e\",\"type\":\"DatetimeTicker\"}},\"id\":\"8fb3af89-ff85-4ab8-a2f0-9ee765b6ed0f\",\"type\":\"DatetimeAxis\"},{\"attributes\":{\"base\":60,\"mantissas\":[1,2,5,10,15,20,30],\"max_interval\":1800000.0,\"min_interval\":1000.0,\"num_minor_ticks\":0},\"id\":\"8411c1a9-3f09-4ba5-acf8-fc4a51c0041f\",\"type\":\"AdaptiveTicker\"}],\"root_ids\":[\"97ab72ac-3d30-4b04-886a-87bb7ad1f3b6\"]},\"title\":\"Bokeh Application\",\"version\":\"0.12.4\"}};\n",
       "            var render_items = [{\"docid\":\"485b04ce-2c2f-4104-b745-f5934092709d\",\"elementid\":\"1a415b3a-a07d-4d23-a7b8-32cccabe3aa9\",\"modelid\":\"97ab72ac-3d30-4b04-886a-87bb7ad1f3b6\"}];\n",
       "            \n",
       "            Bokeh.embed.embed_items(docs_json, render_items);\n",
       "          };\n",
       "          if (document.readyState != \"loading\") fn();\n",
       "          else document.addEventListener(\"DOMContentLoaded\", fn);\n",
       "        })();\n",
       "      },\n",
       "      function(Bokeh) {\n",
       "      }\n",
       "    ];\n",
       "  \n",
       "    function run_inline_js() {\n",
       "      \n",
       "      if ((window.Bokeh !== undefined) || (force === true)) {\n",
       "        for (var i = 0; i < inline_js.length; i++) {\n",
       "          inline_js[i](window.Bokeh);\n",
       "        }if (force === true) {\n",
       "          display_loaded();\n",
       "        }} else if (Date.now() < window._bokeh_timeout) {\n",
       "        setTimeout(run_inline_js, 100);\n",
       "      } else if (!window._bokeh_failed_load) {\n",
       "        console.log(\"Bokeh: BokehJS failed to load within specified timeout.\");\n",
       "        window._bokeh_failed_load = true;\n",
       "      } else if (force !== true) {\n",
       "        var cell = $(document.getElementById(\"1a415b3a-a07d-4d23-a7b8-32cccabe3aa9\")).parents('.cell').data().cell;\n",
       "        cell.output_area.append_execute_result(NB_LOAD_WARNING)\n",
       "      }\n",
       "  \n",
       "    }\n",
       "  \n",
       "    if (window._bokeh_is_loading === 0) {\n",
       "      console.log(\"Bokeh: BokehJS loaded, going straight to plotting\");\n",
       "      run_inline_js();\n",
       "    } else {\n",
       "      load_libs(js_urls, function() {\n",
       "        console.log(\"Bokeh: BokehJS plotting callback run at\", now());\n",
       "        run_inline_js();\n",
       "      });\n",
       "    }\n",
       "  }(this));\n",
       "</script>"
      ]
     },
     "metadata": {},
     "output_type": "display_data"
    }
   ],
   "source": [
    "f = Step(s3[(s3['lineItem/UsageType'] == 'TimedStorage-ByteHrs') & \n",
    "            (s3['lineItem/Operation'] == 'StandardStorage')],\n",
    "         x='lineItem/UsageStartDate', y='lineItem/UsageAmount', xscale='datetime')\n",
    "show(f)"
   ]
  },
  {
   "cell_type": "code",
   "execution_count": null,
   "metadata": {
    "collapsed": true
   },
   "outputs": [],
   "source": []
  }
 ],
 "metadata": {
  "kernelspec": {
   "display_name": "Python 3",
   "language": "python",
   "name": "python3"
  },
  "language_info": {
   "codemirror_mode": {
    "name": "ipython",
    "version": 3
   },
   "file_extension": ".py",
   "mimetype": "text/x-python",
   "name": "python",
   "nbconvert_exporter": "python",
   "pygments_lexer": "ipython3",
   "version": "3.5.1"
  }
 },
 "nbformat": 4,
 "nbformat_minor": 2
}
