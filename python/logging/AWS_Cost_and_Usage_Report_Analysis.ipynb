{
 "cells": [
  {
   "cell_type": "markdown",
   "metadata": {},
   "source": [
    "# AWS Cost and Usage Report Analysis\n",
    "\n",
    "The report type being analyzed here is the Detailed Hourly AWS Cost and Usage Report with Resource IDs and Tags. These reports are downloaded using the [get-aws-cost.py](https://github.com/OPENDAP/cloudydap/blob/master/python/logging/get-aws-cost.py) command-line program developed for this project."
   ]
  },
  {
   "cell_type": "code",
   "execution_count": 1,
   "metadata": {
    "collapsed": false
   },
   "outputs": [
    {
     "data": {
      "text/html": [
       "\n",
       "    <div class=\"bk-root\">\n",
       "        <a href=\"http://bokeh.pydata.org\" target=\"_blank\" class=\"bk-logo bk-logo-small bk-logo-notebook\"></a>\n",
       "        <span id=\"9bba3f16-031a-4772-96ba-841def8ad89d\">Loading BokehJS ...</span>\n",
       "    </div>"
      ]
     },
     "metadata": {},
     "output_type": "display_data"
    },
    {
     "data": {
      "application/javascript": [
       "\n",
       "(function(global) {\n",
       "  function now() {\n",
       "    return new Date();\n",
       "  }\n",
       "\n",
       "  var force = true;\n",
       "\n",
       "  if (typeof (window._bokeh_onload_callbacks) === \"undefined\" || force === true) {\n",
       "    window._bokeh_onload_callbacks = [];\n",
       "    window._bokeh_is_loading = undefined;\n",
       "  }\n",
       "\n",
       "\n",
       "  \n",
       "  if (typeof (window._bokeh_timeout) === \"undefined\" || force === true) {\n",
       "    window._bokeh_timeout = Date.now() + 5000;\n",
       "    window._bokeh_failed_load = false;\n",
       "  }\n",
       "\n",
       "  var NB_LOAD_WARNING = {'data': {'text/html':\n",
       "     \"<div style='background-color: #fdd'>\\n\"+\n",
       "     \"<p>\\n\"+\n",
       "     \"BokehJS does not appear to have successfully loaded. If loading BokehJS from CDN, this \\n\"+\n",
       "     \"may be due to a slow or bad network connection. Possible fixes:\\n\"+\n",
       "     \"</p>\\n\"+\n",
       "     \"<ul>\\n\"+\n",
       "     \"<li>re-rerun `output_notebook()` to attempt to load from CDN again, or</li>\\n\"+\n",
       "     \"<li>use INLINE resources instead, as so:</li>\\n\"+\n",
       "     \"</ul>\\n\"+\n",
       "     \"<code>\\n\"+\n",
       "     \"from bokeh.resources import INLINE\\n\"+\n",
       "     \"output_notebook(resources=INLINE)\\n\"+\n",
       "     \"</code>\\n\"+\n",
       "     \"</div>\"}};\n",
       "\n",
       "  function display_loaded() {\n",
       "    if (window.Bokeh !== undefined) {\n",
       "      document.getElementById(\"9bba3f16-031a-4772-96ba-841def8ad89d\").textContent = \"BokehJS successfully loaded.\";\n",
       "    } else if (Date.now() < window._bokeh_timeout) {\n",
       "      setTimeout(display_loaded, 100)\n",
       "    }\n",
       "  }\n",
       "\n",
       "  function run_callbacks() {\n",
       "    window._bokeh_onload_callbacks.forEach(function(callback) { callback() });\n",
       "    delete window._bokeh_onload_callbacks\n",
       "    console.info(\"Bokeh: all callbacks have finished\");\n",
       "  }\n",
       "\n",
       "  function load_libs(js_urls, callback) {\n",
       "    window._bokeh_onload_callbacks.push(callback);\n",
       "    if (window._bokeh_is_loading > 0) {\n",
       "      console.log(\"Bokeh: BokehJS is being loaded, scheduling callback at\", now());\n",
       "      return null;\n",
       "    }\n",
       "    if (js_urls == null || js_urls.length === 0) {\n",
       "      run_callbacks();\n",
       "      return null;\n",
       "    }\n",
       "    console.log(\"Bokeh: BokehJS not loaded, scheduling load and callback at\", now());\n",
       "    window._bokeh_is_loading = js_urls.length;\n",
       "    for (var i = 0; i < js_urls.length; i++) {\n",
       "      var url = js_urls[i];\n",
       "      var s = document.createElement('script');\n",
       "      s.src = url;\n",
       "      s.async = false;\n",
       "      s.onreadystatechange = s.onload = function() {\n",
       "        window._bokeh_is_loading--;\n",
       "        if (window._bokeh_is_loading === 0) {\n",
       "          console.log(\"Bokeh: all BokehJS libraries loaded\");\n",
       "          run_callbacks()\n",
       "        }\n",
       "      };\n",
       "      s.onerror = function() {\n",
       "        console.warn(\"failed to load library \" + url);\n",
       "      };\n",
       "      console.log(\"Bokeh: injecting script tag for BokehJS library: \", url);\n",
       "      document.getElementsByTagName(\"head\")[0].appendChild(s);\n",
       "    }\n",
       "  };var element = document.getElementById(\"9bba3f16-031a-4772-96ba-841def8ad89d\");\n",
       "  if (element == null) {\n",
       "    console.log(\"Bokeh: ERROR: autoload.js configured with elementid '9bba3f16-031a-4772-96ba-841def8ad89d' but no matching script tag was found. \")\n",
       "    return false;\n",
       "  }\n",
       "\n",
       "  var js_urls = [\"https://cdn.pydata.org/bokeh/release/bokeh-0.12.4.min.js\", \"https://cdn.pydata.org/bokeh/release/bokeh-widgets-0.12.4.min.js\"];\n",
       "\n",
       "  var inline_js = [\n",
       "    function(Bokeh) {\n",
       "      Bokeh.set_log_level(\"info\");\n",
       "    },\n",
       "    \n",
       "    function(Bokeh) {\n",
       "      \n",
       "      document.getElementById(\"9bba3f16-031a-4772-96ba-841def8ad89d\").textContent = \"BokehJS is loading...\";\n",
       "    },\n",
       "    function(Bokeh) {\n",
       "      console.log(\"Bokeh: injecting CSS: https://cdn.pydata.org/bokeh/release/bokeh-0.12.4.min.css\");\n",
       "      Bokeh.embed.inject_css(\"https://cdn.pydata.org/bokeh/release/bokeh-0.12.4.min.css\");\n",
       "      console.log(\"Bokeh: injecting CSS: https://cdn.pydata.org/bokeh/release/bokeh-widgets-0.12.4.min.css\");\n",
       "      Bokeh.embed.inject_css(\"https://cdn.pydata.org/bokeh/release/bokeh-widgets-0.12.4.min.css\");\n",
       "    }\n",
       "  ];\n",
       "\n",
       "  function run_inline_js() {\n",
       "    \n",
       "    if ((window.Bokeh !== undefined) || (force === true)) {\n",
       "      for (var i = 0; i < inline_js.length; i++) {\n",
       "        inline_js[i](window.Bokeh);\n",
       "      }if (force === true) {\n",
       "        display_loaded();\n",
       "      }} else if (Date.now() < window._bokeh_timeout) {\n",
       "      setTimeout(run_inline_js, 100);\n",
       "    } else if (!window._bokeh_failed_load) {\n",
       "      console.log(\"Bokeh: BokehJS failed to load within specified timeout.\");\n",
       "      window._bokeh_failed_load = true;\n",
       "    } else if (force !== true) {\n",
       "      var cell = $(document.getElementById(\"9bba3f16-031a-4772-96ba-841def8ad89d\")).parents('.cell').data().cell;\n",
       "      cell.output_area.append_execute_result(NB_LOAD_WARNING)\n",
       "    }\n",
       "\n",
       "  }\n",
       "\n",
       "  if (window._bokeh_is_loading === 0) {\n",
       "    console.log(\"Bokeh: BokehJS loaded, going straight to plotting\");\n",
       "    run_inline_js();\n",
       "  } else {\n",
       "    load_libs(js_urls, function() {\n",
       "      console.log(\"Bokeh: BokehJS plotting callback run at\", now());\n",
       "      run_inline_js();\n",
       "    });\n",
       "  }\n",
       "}(this));"
      ]
     },
     "metadata": {},
     "output_type": "display_data"
    }
   ],
   "source": [
    "import numpy as np\n",
    "import pandas as pd\n",
    "from aws_price_list import AWSOffersIndex\n",
    "from bokeh.charts import (output_notebook, output_file, show, \n",
    "                          Scatter, Histogram, TimeSeries, Donut, Step)\n",
    "from bokeh.plotting import figure, ColumnDataSource\n",
    "from bokeh.models import Range1d, HoverTool, ResizeTool\n",
    "\n",
    "\n",
    "output_notebook()"
   ]
  },
  {
   "cell_type": "markdown",
   "metadata": {},
   "source": [
    "## Report to Analyze"
   ]
  },
  {
   "cell_type": "code",
   "execution_count": 2,
   "metadata": {
    "collapsed": false
   },
   "outputs": [
    {
     "name": "stderr",
     "output_type": "stream",
     "text": [
      "/Users/ajelenak/Documents/dmr++/lib/python3.5/site-packages/IPython/core/interactiveshell.py:2717: DtypeWarning: Columns (47,48,57) have mixed types. Specify dtype option on import or set low_memory=False.\n",
      "  interactivity=interactivity, compiler=compiler, result=result)\n"
     ]
    }
   ],
   "source": [
    "r = pd.read_csv('Arch1-20170101-20170201-1.csv')"
   ]
  },
  {
   "cell_type": "markdown",
   "metadata": {},
   "source": [
    "What do we have?"
   ]
  },
  {
   "cell_type": "code",
   "execution_count": 3,
   "metadata": {
    "collapsed": false
   },
   "outputs": [
    {
     "name": "stdout",
     "output_type": "stream",
     "text": [
      "<class 'pandas.core.frame.DataFrame'>\n",
      "RangeIndex: 15814 entries, 0 to 15813\n",
      "Data columns (total 76 columns):\n",
      "identity/LineItemId                    15814 non-null object\n",
      "identity/TimeInterval                  15814 non-null object\n",
      "bill/InvoiceId                         15814 non-null int64\n",
      "bill/BillingEntity                     15814 non-null object\n",
      "bill/BillType                          15814 non-null object\n",
      "bill/PayerAccountId                    15814 non-null int64\n",
      "bill/BillingPeriodStartDate            15814 non-null object\n",
      "bill/BillingPeriodEndDate              15814 non-null object\n",
      "lineItem/UsageAccountId                15814 non-null int64\n",
      "lineItem/LineItemType                  15814 non-null object\n",
      "lineItem/UsageStartDate                15814 non-null object\n",
      "lineItem/UsageEndDate                  15814 non-null object\n",
      "lineItem/ProductCode                   15814 non-null object\n",
      "lineItem/UsageType                     15814 non-null object\n",
      "lineItem/Operation                     15814 non-null object\n",
      "lineItem/AvailabilityZone              3988 non-null object\n",
      "lineItem/ResourceId                    15759 non-null object\n",
      "lineItem/UsageAmount                   15814 non-null float64\n",
      "lineItem/CurrencyCode                  15814 non-null object\n",
      "lineItem/UnblendedRate                 15814 non-null float64\n",
      "lineItem/UnblendedCost                 15814 non-null float64\n",
      "lineItem/BlendedRate                   15814 non-null float64\n",
      "lineItem/BlendedCost                   15814 non-null float64\n",
      "lineItem/LineItemDescription           15814 non-null object\n",
      "lineItem/TaxType                       0 non-null float64\n",
      "product/ProductName                    15810 non-null object\n",
      "product/availability                   32 non-null object\n",
      "product/clockSpeed                     3988 non-null object\n",
      "product/currentGeneration              3988 non-null object\n",
      "product/dedicatedEbsThroughput         3988 non-null object\n",
      "product/durability                     32 non-null object\n",
      "product/ebsOptimized                   1994 non-null object\n",
      "product/enhancedNetworkingSupported    3988 non-null object\n",
      "product/fromLocation                   6695 non-null object\n",
      "product/fromLocationType               6695 non-null object\n",
      "product/group                          2835 non-null object\n",
      "product/groupDescription               2835 non-null object\n",
      "product/instanceFamily                 3988 non-null object\n",
      "product/instanceType                   3988 non-null object\n",
      "product/licenseModel                   1994 non-null object\n",
      "product/location                       9119 non-null object\n",
      "product/locationType                   9119 non-null object\n",
      "product/maxIopsBurstPerformance        2232 non-null object\n",
      "product/maxIopsvolume                  2232 non-null float64\n",
      "product/maxThroughputvolume            2232 non-null object\n",
      "product/maxVolumeSize                  2232 non-null object\n",
      "product/memory                         3988 non-null object\n",
      "product/messageDeliveryFrequency       2 non-null object\n",
      "product/messageDeliveryOrder           2 non-null object\n",
      "product/networkPerformance             3988 non-null object\n",
      "product/operatingSystem                1994 non-null object\n",
      "product/operation                      3988 non-null object\n",
      "product/physicalProcessor              3988 non-null object\n",
      "product/preInstalledSw                 0 non-null float64\n",
      "product/processorArchitecture          3988 non-null object\n",
      "product/processorFeatures              3988 non-null object\n",
      "product/productFamily                  15814 non-null object\n",
      "product/queueType                      2 non-null object\n",
      "product/servicecode                    15814 non-null object\n",
      "product/sku                            15814 non-null object\n",
      "product/storage                        3988 non-null object\n",
      "product/storageClass                   32 non-null object\n",
      "product/storageMedia                   2264 non-null object\n",
      "product/tenancy                        3988 non-null object\n",
      "product/toLocation                     6695 non-null object\n",
      "product/toLocationType                 6695 non-null object\n",
      "product/transferType                   6695 non-null object\n",
      "product/usagetype                      15814 non-null object\n",
      "product/vcpu                           3988 non-null float64\n",
      "product/volumeType                     2264 non-null object\n",
      "pricing/publicOnDemandCost             15814 non-null float64\n",
      "pricing/publicOnDemandRate             15814 non-null float64\n",
      "pricing/term                           13018 non-null object\n",
      "pricing/unit                           13018 non-null object\n",
      "reservation/TotalReservedUnits         0 non-null float64\n",
      "reservation/UnitsPerReservation        0 non-null float64\n",
      "dtypes: float64(13), int64(3), object(60)\n",
      "memory usage: 9.2+ MB\n"
     ]
    }
   ],
   "source": [
    "r.info()"
   ]
  },
  {
   "cell_type": "markdown",
   "metadata": {},
   "source": [
    "Convert two columns to datetime, and sort all entries by time:"
   ]
  },
  {
   "cell_type": "code",
   "execution_count": 4,
   "metadata": {
    "collapsed": false
   },
   "outputs": [],
   "source": [
    "r['lineItem/UsageStartDate'] = pd.to_datetime(r['lineItem/UsageStartDate'])\n",
    "r['lineItem/UsageEndDate'] = pd.to_datetime(r['lineItem/UsageEndDate'])\n",
    "r.sort_values('lineItem/UsageStartDate', inplace=True)"
   ]
  },
  {
   "cell_type": "code",
   "execution_count": 5,
   "metadata": {
    "collapsed": false
   },
   "outputs": [
    {
     "name": "stdout",
     "output_type": "stream",
     "text": [
      "<class 'pandas.core.frame.DataFrame'>\n",
      "Int64Index: 15814 entries, 0 to 15813\n",
      "Data columns (total 76 columns):\n",
      "identity/LineItemId                    15814 non-null object\n",
      "identity/TimeInterval                  15814 non-null object\n",
      "bill/InvoiceId                         15814 non-null int64\n",
      "bill/BillingEntity                     15814 non-null object\n",
      "bill/BillType                          15814 non-null object\n",
      "bill/PayerAccountId                    15814 non-null int64\n",
      "bill/BillingPeriodStartDate            15814 non-null object\n",
      "bill/BillingPeriodEndDate              15814 non-null object\n",
      "lineItem/UsageAccountId                15814 non-null int64\n",
      "lineItem/LineItemType                  15814 non-null object\n",
      "lineItem/UsageStartDate                15814 non-null datetime64[ns]\n",
      "lineItem/UsageEndDate                  15814 non-null datetime64[ns]\n",
      "lineItem/ProductCode                   15814 non-null object\n",
      "lineItem/UsageType                     15814 non-null object\n",
      "lineItem/Operation                     15814 non-null object\n",
      "lineItem/AvailabilityZone              3988 non-null object\n",
      "lineItem/ResourceId                    15759 non-null object\n",
      "lineItem/UsageAmount                   15814 non-null float64\n",
      "lineItem/CurrencyCode                  15814 non-null object\n",
      "lineItem/UnblendedRate                 15814 non-null float64\n",
      "lineItem/UnblendedCost                 15814 non-null float64\n",
      "lineItem/BlendedRate                   15814 non-null float64\n",
      "lineItem/BlendedCost                   15814 non-null float64\n",
      "lineItem/LineItemDescription           15814 non-null object\n",
      "lineItem/TaxType                       0 non-null float64\n",
      "product/ProductName                    15810 non-null object\n",
      "product/availability                   32 non-null object\n",
      "product/clockSpeed                     3988 non-null object\n",
      "product/currentGeneration              3988 non-null object\n",
      "product/dedicatedEbsThroughput         3988 non-null object\n",
      "product/durability                     32 non-null object\n",
      "product/ebsOptimized                   1994 non-null object\n",
      "product/enhancedNetworkingSupported    3988 non-null object\n",
      "product/fromLocation                   6695 non-null object\n",
      "product/fromLocationType               6695 non-null object\n",
      "product/group                          2835 non-null object\n",
      "product/groupDescription               2835 non-null object\n",
      "product/instanceFamily                 3988 non-null object\n",
      "product/instanceType                   3988 non-null object\n",
      "product/licenseModel                   1994 non-null object\n",
      "product/location                       9119 non-null object\n",
      "product/locationType                   9119 non-null object\n",
      "product/maxIopsBurstPerformance        2232 non-null object\n",
      "product/maxIopsvolume                  2232 non-null float64\n",
      "product/maxThroughputvolume            2232 non-null object\n",
      "product/maxVolumeSize                  2232 non-null object\n",
      "product/memory                         3988 non-null object\n",
      "product/messageDeliveryFrequency       2 non-null object\n",
      "product/messageDeliveryOrder           2 non-null object\n",
      "product/networkPerformance             3988 non-null object\n",
      "product/operatingSystem                1994 non-null object\n",
      "product/operation                      3988 non-null object\n",
      "product/physicalProcessor              3988 non-null object\n",
      "product/preInstalledSw                 0 non-null float64\n",
      "product/processorArchitecture          3988 non-null object\n",
      "product/processorFeatures              3988 non-null object\n",
      "product/productFamily                  15814 non-null object\n",
      "product/queueType                      2 non-null object\n",
      "product/servicecode                    15814 non-null object\n",
      "product/sku                            15814 non-null object\n",
      "product/storage                        3988 non-null object\n",
      "product/storageClass                   32 non-null object\n",
      "product/storageMedia                   2264 non-null object\n",
      "product/tenancy                        3988 non-null object\n",
      "product/toLocation                     6695 non-null object\n",
      "product/toLocationType                 6695 non-null object\n",
      "product/transferType                   6695 non-null object\n",
      "product/usagetype                      15814 non-null object\n",
      "product/vcpu                           3988 non-null float64\n",
      "product/volumeType                     2264 non-null object\n",
      "pricing/publicOnDemandCost             15814 non-null float64\n",
      "pricing/publicOnDemandRate             15814 non-null float64\n",
      "pricing/term                           13018 non-null object\n",
      "pricing/unit                           13018 non-null object\n",
      "reservation/TotalReservedUnits         0 non-null float64\n",
      "reservation/UnitsPerReservation        0 non-null float64\n",
      "dtypes: datetime64[ns](2), float64(13), int64(3), object(58)\n",
      "memory usage: 9.3+ MB\n"
     ]
    }
   ],
   "source": [
    "r.info()"
   ]
  },
  {
   "cell_type": "markdown",
   "metadata": {},
   "source": [
    "## AWS Price Information"
   ]
  },
  {
   "cell_type": "code",
   "execution_count": 6,
   "metadata": {
    "collapsed": true
   },
   "outputs": [],
   "source": [
    "oi = AWSOffersIndex()"
   ]
  },
  {
   "cell_type": "code",
   "execution_count": 7,
   "metadata": {
    "collapsed": false
   },
   "outputs": [
    {
     "data": {
      "text/plain": [
       "'Fri Feb 10 22:31:44 2017 UTC+00:00'"
      ]
     },
     "execution_count": 7,
     "metadata": {},
     "output_type": "execute_result"
    }
   ],
   "source": [
    "oi.published.strftime('%c %Z')"
   ]
  },
  {
   "cell_type": "code",
   "execution_count": 8,
   "metadata": {
    "collapsed": false
   },
   "outputs": [
    {
     "data": {
      "text/plain": [
       "'Mon Feb 20 04:57:11 2017 UTC+00:00'"
      ]
     },
     "execution_count": 8,
     "metadata": {},
     "output_type": "execute_result"
    }
   ],
   "source": [
    "oi.accessed.strftime('%c %Z')"
   ]
  },
  {
   "cell_type": "markdown",
   "metadata": {},
   "source": [
    "## Analysis"
   ]
  },
  {
   "cell_type": "markdown",
   "metadata": {},
   "source": [
    "Time span of the report's data:"
   ]
  },
  {
   "cell_type": "code",
   "execution_count": 9,
   "metadata": {
    "collapsed": false
   },
   "outputs": [
    {
     "data": {
      "text/plain": [
       "Timestamp('2017-01-01 00:00:00')"
      ]
     },
     "execution_count": 9,
     "metadata": {},
     "output_type": "execute_result"
    }
   ],
   "source": [
    "r['lineItem/UsageStartDate'].min()"
   ]
  },
  {
   "cell_type": "code",
   "execution_count": 10,
   "metadata": {
    "collapsed": false
   },
   "outputs": [
    {
     "data": {
      "text/plain": [
       "Timestamp('2017-02-01 00:00:00')"
      ]
     },
     "execution_count": 10,
     "metadata": {},
     "output_type": "execute_result"
    }
   ],
   "source": [
    "r['lineItem/UsageEndDate'].max()"
   ]
  },
  {
   "cell_type": "markdown",
   "metadata": {},
   "source": [
    "How many different Availability Zones?"
   ]
  },
  {
   "cell_type": "code",
   "execution_count": 11,
   "metadata": {
    "collapsed": false
   },
   "outputs": [
    {
     "data": {
      "text/plain": [
       "array(['us-east-1b', nan], dtype=object)"
      ]
     },
     "execution_count": 11,
     "metadata": {},
     "output_type": "execute_result"
    }
   ],
   "source": [
    "r['lineItem/AvailabilityZone'].unique()"
   ]
  },
  {
   "cell_type": "markdown",
   "metadata": {},
   "source": [
    "How many different product codes?"
   ]
  },
  {
   "cell_type": "code",
   "execution_count": 12,
   "metadata": {
    "collapsed": false
   },
   "outputs": [
    {
     "data": {
      "text/plain": [
       "array(['AmazonEC2', 'AmazonS3', 'awskms', 'AmazonSNS', 'AWSQueueService'], dtype=object)"
      ]
     },
     "execution_count": 12,
     "metadata": {},
     "output_type": "execute_result"
    }
   ],
   "source": [
    "r['lineItem/ProductCode'].unique()"
   ]
  },
  {
   "cell_type": "markdown",
   "metadata": {},
   "source": [
    "How many report entries for each product code?"
   ]
  },
  {
   "cell_type": "code",
   "execution_count": 13,
   "metadata": {
    "collapsed": false
   },
   "outputs": [
    {
     "data": {
      "text/plain": [
       "AmazonEC2          10418\n",
       "AmazonS3            5390\n",
       "awskms                 2\n",
       "AmazonSNS              2\n",
       "AWSQueueService        2\n",
       "Name: lineItem/ProductCode, dtype: int64"
      ]
     },
     "execution_count": 13,
     "metadata": {},
     "output_type": "execute_result"
    }
   ],
   "source": [
    "r['lineItem/ProductCode'].value_counts()"
   ]
  },
  {
   "cell_type": "markdown",
   "metadata": {},
   "source": [
    "Cost breakdown per AWS product:"
   ]
  },
  {
   "cell_type": "code",
   "execution_count": 14,
   "metadata": {
    "collapsed": false
   },
   "outputs": [
    {
     "data": {
      "text/plain": [
       "lineItem/ProductCode\n",
       "AWSQueueService      0.000000\n",
       "AmazonEC2          455.481245\n",
       "AmazonS3            26.723635\n",
       "AmazonSNS            0.000000\n",
       "awskms               0.000000\n",
       "Name: lineItem/BlendedCost, dtype: float64"
      ]
     },
     "execution_count": 14,
     "metadata": {},
     "output_type": "execute_result"
    }
   ],
   "source": [
    "grp = r.groupby('lineItem/ProductCode')\n",
    "x = grp['lineItem/BlendedCost'].sum()\n",
    "x"
   ]
  },
  {
   "cell_type": "code",
   "execution_count": 15,
   "metadata": {
    "collapsed": false
   },
   "outputs": [
    {
     "data": {
      "text/html": [
       "\n",
       "\n",
       "    <div class=\"bk-root\">\n",
       "        <div class=\"bk-plotdiv\" id=\"29164aad-8471-4129-a12f-3995c7c92a01\"></div>\n",
       "    </div>\n",
       "<script type=\"text/javascript\">\n",
       "  \n",
       "  (function(global) {\n",
       "    function now() {\n",
       "      return new Date();\n",
       "    }\n",
       "  \n",
       "    var force = false;\n",
       "  \n",
       "    if (typeof (window._bokeh_onload_callbacks) === \"undefined\" || force === true) {\n",
       "      window._bokeh_onload_callbacks = [];\n",
       "      window._bokeh_is_loading = undefined;\n",
       "    }\n",
       "  \n",
       "  \n",
       "    \n",
       "    if (typeof (window._bokeh_timeout) === \"undefined\" || force === true) {\n",
       "      window._bokeh_timeout = Date.now() + 0;\n",
       "      window._bokeh_failed_load = false;\n",
       "    }\n",
       "  \n",
       "    var NB_LOAD_WARNING = {'data': {'text/html':\n",
       "       \"<div style='background-color: #fdd'>\\n\"+\n",
       "       \"<p>\\n\"+\n",
       "       \"BokehJS does not appear to have successfully loaded. If loading BokehJS from CDN, this \\n\"+\n",
       "       \"may be due to a slow or bad network connection. Possible fixes:\\n\"+\n",
       "       \"</p>\\n\"+\n",
       "       \"<ul>\\n\"+\n",
       "       \"<li>re-rerun `output_notebook()` to attempt to load from CDN again, or</li>\\n\"+\n",
       "       \"<li>use INLINE resources instead, as so:</li>\\n\"+\n",
       "       \"</ul>\\n\"+\n",
       "       \"<code>\\n\"+\n",
       "       \"from bokeh.resources import INLINE\\n\"+\n",
       "       \"output_notebook(resources=INLINE)\\n\"+\n",
       "       \"</code>\\n\"+\n",
       "       \"</div>\"}};\n",
       "  \n",
       "    function display_loaded() {\n",
       "      if (window.Bokeh !== undefined) {\n",
       "        document.getElementById(\"29164aad-8471-4129-a12f-3995c7c92a01\").textContent = \"BokehJS successfully loaded.\";\n",
       "      } else if (Date.now() < window._bokeh_timeout) {\n",
       "        setTimeout(display_loaded, 100)\n",
       "      }\n",
       "    }\n",
       "  \n",
       "    function run_callbacks() {\n",
       "      window._bokeh_onload_callbacks.forEach(function(callback) { callback() });\n",
       "      delete window._bokeh_onload_callbacks\n",
       "      console.info(\"Bokeh: all callbacks have finished\");\n",
       "    }\n",
       "  \n",
       "    function load_libs(js_urls, callback) {\n",
       "      window._bokeh_onload_callbacks.push(callback);\n",
       "      if (window._bokeh_is_loading > 0) {\n",
       "        console.log(\"Bokeh: BokehJS is being loaded, scheduling callback at\", now());\n",
       "        return null;\n",
       "      }\n",
       "      if (js_urls == null || js_urls.length === 0) {\n",
       "        run_callbacks();\n",
       "        return null;\n",
       "      }\n",
       "      console.log(\"Bokeh: BokehJS not loaded, scheduling load and callback at\", now());\n",
       "      window._bokeh_is_loading = js_urls.length;\n",
       "      for (var i = 0; i < js_urls.length; i++) {\n",
       "        var url = js_urls[i];\n",
       "        var s = document.createElement('script');\n",
       "        s.src = url;\n",
       "        s.async = false;\n",
       "        s.onreadystatechange = s.onload = function() {\n",
       "          window._bokeh_is_loading--;\n",
       "          if (window._bokeh_is_loading === 0) {\n",
       "            console.log(\"Bokeh: all BokehJS libraries loaded\");\n",
       "            run_callbacks()\n",
       "          }\n",
       "        };\n",
       "        s.onerror = function() {\n",
       "          console.warn(\"failed to load library \" + url);\n",
       "        };\n",
       "        console.log(\"Bokeh: injecting script tag for BokehJS library: \", url);\n",
       "        document.getElementsByTagName(\"head\")[0].appendChild(s);\n",
       "      }\n",
       "    };var element = document.getElementById(\"29164aad-8471-4129-a12f-3995c7c92a01\");\n",
       "    if (element == null) {\n",
       "      console.log(\"Bokeh: ERROR: autoload.js configured with elementid '29164aad-8471-4129-a12f-3995c7c92a01' but no matching script tag was found. \")\n",
       "      return false;\n",
       "    }\n",
       "  \n",
       "    var js_urls = [];\n",
       "  \n",
       "    var inline_js = [\n",
       "      function(Bokeh) {\n",
       "        (function() {\n",
       "          var fn = function() {\n",
       "            var docs_json = {\"3ece2272-47d8-4c1f-8653-65cae6375c82\":{\"roots\":{\"references\":[{\"attributes\":{\"bottom_units\":\"screen\",\"fill_alpha\":{\"value\":0.5},\"fill_color\":{\"value\":\"lightgrey\"},\"left_units\":\"screen\",\"level\":\"overlay\",\"line_alpha\":{\"value\":1.0},\"line_color\":{\"value\":\"black\"},\"line_dash\":[4,4],\"line_width\":{\"value\":2},\"plot\":null,\"render_mode\":\"css\",\"right_units\":\"screen\",\"top_units\":\"screen\"},\"id\":\"5d06d27c-ef96-4045-9c0d-bfaa2074ea70\",\"type\":\"BoxAnnotation\"},{\"attributes\":{\"plot\":{\"id\":\"e7854b92-bb84-4ae8-8026-f8618eac4878\",\"subtype\":\"Chart\",\"type\":\"Plot\"}},\"id\":\"b150ef86-813a-4ead-93db-d5478909e58a\",\"type\":\"ResetTool\"},{\"attributes\":{\"plot\":{\"id\":\"e7854b92-bb84-4ae8-8026-f8618eac4878\",\"subtype\":\"Chart\",\"type\":\"Plot\"}},\"id\":\"dbdef9f3-7918-4013-b513-daa34b7eee86\",\"type\":\"PanTool\"},{\"attributes\":{\"plot\":{\"id\":\"e7854b92-bb84-4ae8-8026-f8618eac4878\",\"subtype\":\"Chart\",\"type\":\"Plot\"}},\"id\":\"59260789-87da-4c8b-9335-5118bacce27a\",\"type\":\"HelpTool\"},{\"attributes\":{\"axis_label\":null,\"formatter\":{\"id\":\"808a006b-f0b4-46f7-b574-ce5ade293ad3\",\"type\":\"BasicTickFormatter\"},\"plot\":{\"id\":\"e7854b92-bb84-4ae8-8026-f8618eac4878\",\"subtype\":\"Chart\",\"type\":\"Plot\"},\"ticker\":{\"id\":\"cb4ad93b-909b-4637-9dec-950da7c8b55e\",\"type\":\"BasicTicker\"},\"visible\":false},\"id\":\"9fbd85cc-b67e-478d-9951-c4f96625a444\",\"type\":\"LinearAxis\"},{\"attributes\":{\"data_source\":{\"id\":\"857be778-51a5-45ab-ad9b-6189f87f13a0\",\"type\":\"ColumnDataSource\"},\"glyph\":{\"id\":\"ce06da91-4f54-42e5-913f-d99864490376\",\"type\":\"Text\"},\"hover_glyph\":null,\"nonselection_glyph\":null,\"selection_glyph\":null},\"id\":\"e2de742c-c9b3-4869-b5d1-d3e984472322\",\"type\":\"GlyphRenderer\"},{\"attributes\":{\"callback\":null,\"end\":1.6500000000000001,\"start\":-1.6500000000000001},\"id\":\"4452beb7-cd78-46f6-8f8d-4adddfab3fbc\",\"type\":\"Range1d\"},{\"attributes\":{},\"id\":\"cb4ad93b-909b-4637-9dec-950da7c8b55e\",\"type\":\"BasicTicker\"},{\"attributes\":{\"location\":\"top_left\",\"plot\":{\"id\":\"e7854b92-bb84-4ae8-8026-f8618eac4878\",\"subtype\":\"Chart\",\"type\":\"Plot\"}},\"id\":\"61c07e2c-478b-43ec-9705-652da6ee0bce\",\"type\":\"Legend\"},{\"attributes\":{\"plot\":{\"id\":\"e7854b92-bb84-4ae8-8026-f8618eac4878\",\"subtype\":\"Chart\",\"type\":\"Plot\"}},\"id\":\"952549db-d79f-44eb-bf38-f1b19661751c\",\"type\":\"SaveTool\"},{\"attributes\":{},\"id\":\"f45af73a-37cd-4dbf-9c4a-cb4bee068f9e\",\"type\":\"BasicTicker\"},{\"attributes\":{},\"id\":\"ad336e4a-a611-452b-ad7a-8c6283da8931\",\"type\":\"BasicTickFormatter\"},{\"attributes\":{\"end_angle\":{\"field\":\"end\",\"units\":\"rad\"},\"fill_alpha\":{\"value\":0.8},\"fill_color\":{\"field\":\"color\"},\"inner_radius\":{\"field\":\"inners\",\"units\":\"data\"},\"line_color\":{\"value\":\"White\"},\"outer_radius\":{\"field\":\"outers\",\"units\":\"data\"},\"start_angle\":{\"field\":\"start\",\"units\":\"rad\"},\"x\":{\"value\":0},\"y\":{\"value\":0}},\"id\":\"5f5a5603-d80d-4266-aef7-507b3aea3304\",\"type\":\"AnnularWedge\"},{\"attributes\":{\"overlay\":{\"id\":\"5d06d27c-ef96-4045-9c0d-bfaa2074ea70\",\"type\":\"BoxAnnotation\"},\"plot\":{\"id\":\"e7854b92-bb84-4ae8-8026-f8618eac4878\",\"subtype\":\"Chart\",\"type\":\"Plot\"}},\"id\":\"e49cd3cc-3186-4896-b84f-0edf89c48327\",\"type\":\"BoxZoomTool\"},{\"attributes\":{},\"id\":\"808a006b-f0b4-46f7-b574-ce5ade293ad3\",\"type\":\"BasicTickFormatter\"},{\"attributes\":{\"callback\":null,\"column_names\":[\"inners\",\"color\",\"values\",\"centers\",\"lineItem/ProductCode\",\"outers\",\"level\",\"start\",\"end\"],\"data\":{\"centers\":[1.125,1.125],\"color\":[\"#f22c40\",\"#5ab738\"],\"end\":[5.93497325908492,6.283185307179586],\"inners\":[0.0,0.0],\"level\":[0.0,0.0],\"lineItem/ProductCode\":[\"AmazonEC2\",\"AmazonS3\"],\"outers\":[1.5,1.5],\"start\":[0.0,5.93497325908492],\"values\":[455.48124471998756,26.723634659999963]}},\"id\":\"87dd49e5-1fab-48b4-8dc4-126d30aa3658\",\"type\":\"ColumnDataSource\"},{\"attributes\":{\"data_source\":{\"id\":\"87dd49e5-1fab-48b4-8dc4-126d30aa3658\",\"type\":\"ColumnDataSource\"},\"glyph\":{\"id\":\"5f5a5603-d80d-4266-aef7-507b3aea3304\",\"type\":\"AnnularWedge\"},\"hover_glyph\":null,\"nonselection_glyph\":null,\"selection_glyph\":null},\"id\":\"eadeb408-efd9-4ec1-a835-9aa65df44511\",\"type\":\"GlyphRenderer\"},{\"attributes\":{\"plot\":{\"id\":\"e7854b92-bb84-4ae8-8026-f8618eac4878\",\"subtype\":\"Chart\",\"type\":\"Plot\"}},\"id\":\"05840019-4cd5-49db-9874-8e082b885841\",\"type\":\"WheelZoomTool\"},{\"attributes\":{\"below\":[{\"id\":\"0ecd222a-f378-46d5-a7b2-f055ac70ee57\",\"type\":\"LinearAxis\"}],\"css_classes\":null,\"left\":[{\"id\":\"9fbd85cc-b67e-478d-9951-c4f96625a444\",\"type\":\"LinearAxis\"}],\"plot_height\":400,\"plot_width\":400,\"renderers\":[{\"id\":\"5d06d27c-ef96-4045-9c0d-bfaa2074ea70\",\"type\":\"BoxAnnotation\"},{\"id\":\"eadeb408-efd9-4ec1-a835-9aa65df44511\",\"type\":\"GlyphRenderer\"},{\"id\":\"e2de742c-c9b3-4869-b5d1-d3e984472322\",\"type\":\"GlyphRenderer\"},{\"id\":\"61c07e2c-478b-43ec-9705-652da6ee0bce\",\"type\":\"Legend\"},{\"id\":\"0ecd222a-f378-46d5-a7b2-f055ac70ee57\",\"type\":\"LinearAxis\"},{\"id\":\"9fbd85cc-b67e-478d-9951-c4f96625a444\",\"type\":\"LinearAxis\"}],\"title\":{\"id\":\"34dab7f1-495c-48cd-b384-e2b78f857505\",\"type\":\"Title\"},\"tool_events\":{\"id\":\"edac4480-0db1-47cb-991a-4718a32149b9\",\"type\":\"ToolEvents\"},\"toolbar\":{\"id\":\"40dd674b-4f0a-407c-b2b1-879d961d4f70\",\"type\":\"Toolbar\"},\"x_mapper_type\":\"auto\",\"x_range\":{\"id\":\"4452beb7-cd78-46f6-8f8d-4adddfab3fbc\",\"type\":\"Range1d\"},\"y_mapper_type\":\"auto\",\"y_range\":{\"id\":\"9e04bb1c-9764-49cc-961c-f0bb8a69f0fa\",\"type\":\"Range1d\"}},\"id\":\"e7854b92-bb84-4ae8-8026-f8618eac4878\",\"subtype\":\"Chart\",\"type\":\"Plot\"},{\"attributes\":{\"callback\":null,\"column_names\":[\"text_angle\",\"y\",\"x\",\"text\"],\"data\":{\"text\":[\"AmazonEC2\",\"AmazonS3\"],\"text_angle\":{\"__ndarray__\":\"AAAAAAAAAAAAAAAAAAAAAA==\",\"dtype\":\"float64\",\"shape\":[2]},\"x\":[-1.1079920181140093,1.1079920181140093],\"y\":[0.1948812145786371,-0.19488121457863727]}},\"id\":\"857be778-51a5-45ab-ad9b-6189f87f13a0\",\"type\":\"ColumnDataSource\"},{\"attributes\":{\"active_drag\":\"auto\",\"active_scroll\":\"auto\",\"active_tap\":\"auto\",\"tools\":[{\"id\":\"dbdef9f3-7918-4013-b513-daa34b7eee86\",\"type\":\"PanTool\"},{\"id\":\"05840019-4cd5-49db-9874-8e082b885841\",\"type\":\"WheelZoomTool\"},{\"id\":\"e49cd3cc-3186-4896-b84f-0edf89c48327\",\"type\":\"BoxZoomTool\"},{\"id\":\"952549db-d79f-44eb-bf38-f1b19661751c\",\"type\":\"SaveTool\"},{\"id\":\"b150ef86-813a-4ead-93db-d5478909e58a\",\"type\":\"ResetTool\"},{\"id\":\"59260789-87da-4c8b-9335-5118bacce27a\",\"type\":\"HelpTool\"}]},\"id\":\"40dd674b-4f0a-407c-b2b1-879d961d4f70\",\"type\":\"Toolbar\"},{\"attributes\":{\"angle\":{\"field\":\"text_angle\",\"units\":\"rad\"},\"text_align\":\"center\",\"text_baseline\":\"middle\",\"text_font_size\":{\"value\":\"10pt\"},\"x\":{\"field\":\"x\"},\"y\":{\"field\":\"y\"}},\"id\":\"ce06da91-4f54-42e5-913f-d99864490376\",\"type\":\"Text\"},{\"attributes\":{\"plot\":null,\"text\":\"AWS Product Cost Breakdown\"},\"id\":\"34dab7f1-495c-48cd-b384-e2b78f857505\",\"type\":\"Title\"},{\"attributes\":{\"callback\":null,\"end\":1.6500000000000001,\"start\":-1.6500000000000001},\"id\":\"9e04bb1c-9764-49cc-961c-f0bb8a69f0fa\",\"type\":\"Range1d\"},{\"attributes\":{},\"id\":\"edac4480-0db1-47cb-991a-4718a32149b9\",\"type\":\"ToolEvents\"},{\"attributes\":{\"axis_label\":null,\"formatter\":{\"id\":\"ad336e4a-a611-452b-ad7a-8c6283da8931\",\"type\":\"BasicTickFormatter\"},\"plot\":{\"id\":\"e7854b92-bb84-4ae8-8026-f8618eac4878\",\"subtype\":\"Chart\",\"type\":\"Plot\"},\"ticker\":{\"id\":\"f45af73a-37cd-4dbf-9c4a-cb4bee068f9e\",\"type\":\"BasicTicker\"},\"visible\":false},\"id\":\"0ecd222a-f378-46d5-a7b2-f055ac70ee57\",\"type\":\"LinearAxis\"}],\"root_ids\":[\"e7854b92-bb84-4ae8-8026-f8618eac4878\"]},\"title\":\"Bokeh Application\",\"version\":\"0.12.4\"}};\n",
       "            var render_items = [{\"docid\":\"3ece2272-47d8-4c1f-8653-65cae6375c82\",\"elementid\":\"29164aad-8471-4129-a12f-3995c7c92a01\",\"modelid\":\"e7854b92-bb84-4ae8-8026-f8618eac4878\"}];\n",
       "            \n",
       "            Bokeh.embed.embed_items(docs_json, render_items);\n",
       "          };\n",
       "          if (document.readyState != \"loading\") fn();\n",
       "          else document.addEventListener(\"DOMContentLoaded\", fn);\n",
       "        })();\n",
       "      },\n",
       "      function(Bokeh) {\n",
       "      }\n",
       "    ];\n",
       "  \n",
       "    function run_inline_js() {\n",
       "      \n",
       "      if ((window.Bokeh !== undefined) || (force === true)) {\n",
       "        for (var i = 0; i < inline_js.length; i++) {\n",
       "          inline_js[i](window.Bokeh);\n",
       "        }if (force === true) {\n",
       "          display_loaded();\n",
       "        }} else if (Date.now() < window._bokeh_timeout) {\n",
       "        setTimeout(run_inline_js, 100);\n",
       "      } else if (!window._bokeh_failed_load) {\n",
       "        console.log(\"Bokeh: BokehJS failed to load within specified timeout.\");\n",
       "        window._bokeh_failed_load = true;\n",
       "      } else if (force !== true) {\n",
       "        var cell = $(document.getElementById(\"29164aad-8471-4129-a12f-3995c7c92a01\")).parents('.cell').data().cell;\n",
       "        cell.output_area.append_execute_result(NB_LOAD_WARNING)\n",
       "      }\n",
       "  \n",
       "    }\n",
       "  \n",
       "    if (window._bokeh_is_loading === 0) {\n",
       "      console.log(\"Bokeh: BokehJS loaded, going straight to plotting\");\n",
       "      run_inline_js();\n",
       "    } else {\n",
       "      load_libs(js_urls, function() {\n",
       "        console.log(\"Bokeh: BokehJS plotting callback run at\", now());\n",
       "        run_inline_js();\n",
       "      });\n",
       "    }\n",
       "  }(this));\n",
       "</script>"
      ]
     },
     "metadata": {},
     "output_type": "display_data"
    }
   ],
   "source": [
    "f = Donut(x.iloc[x.nonzero()], title='AWS Product Cost Breakdown')\n",
    "show(f)"
   ]
  },
  {
   "cell_type": "markdown",
   "metadata": {},
   "source": [
    "### Analysis: AmazonEC2"
   ]
  },
  {
   "cell_type": "code",
   "execution_count": 16,
   "metadata": {
    "collapsed": true
   },
   "outputs": [],
   "source": [
    "ec2 = r[r['lineItem/ProductCode'] == 'AmazonEC2']"
   ]
  },
  {
   "cell_type": "markdown",
   "metadata": {},
   "source": [
    "How many usage types?"
   ]
  },
  {
   "cell_type": "code",
   "execution_count": 17,
   "metadata": {
    "collapsed": false
   },
   "outputs": [
    {
     "data": {
      "text/plain": [
       "EBS:VolumeUsage.gp2            2232\n",
       "DataTransfer-In-Bytes          1994\n",
       "BoxUsage:m4.xlarge             1994\n",
       "EBSOptimized:m4.xlarge         1994\n",
       "DataTransfer-Out-Bytes         1994\n",
       "DataTransfer-Regional-Bytes      90\n",
       "EBS:SnapshotUsage                32\n",
       "USE1-USW2-AWS-In-Bytes           13\n",
       "USE1-USW2-AWS-Out-Bytes          13\n",
       "USE1-APN2-AWS-Out-Bytes           8\n",
       "USE1-EU-AWS-In-Bytes              8\n",
       "USE1-EU-AWS-Out-Bytes             8\n",
       "USE1-APN2-AWS-In-Bytes            8\n",
       "USE1-APS1-AWS-In-Bytes            6\n",
       "USE1-APS1-AWS-Out-Bytes           6\n",
       "USE1-USW1-AWS-Out-Bytes           4\n",
       "USE1-USW1-AWS-In-Bytes            4\n",
       "USE1-APN1-AWS-Out-Bytes           3\n",
       "USE1-APN1-AWS-In-Bytes            3\n",
       "USE1-SAE1-AWS-Out-Bytes           2\n",
       "USE1-SAE1-AWS-In-Bytes            2\n",
       "Name: lineItem/UsageType, dtype: int64"
      ]
     },
     "execution_count": 17,
     "metadata": {},
     "output_type": "execute_result"
    }
   ],
   "source": [
    "ec2['lineItem/UsageType'].value_counts()"
   ]
  },
  {
   "cell_type": "markdown",
   "metadata": {},
   "source": [
    "Cost breakdown for different product types:"
   ]
  },
  {
   "cell_type": "code",
   "execution_count": 18,
   "metadata": {
    "collapsed": false
   },
   "outputs": [],
   "source": [
    "grp = ec2.groupby('lineItem/UsageType')"
   ]
  },
  {
   "cell_type": "code",
   "execution_count": 19,
   "metadata": {
    "collapsed": false
   },
   "outputs": [
    {
     "data": {
      "text/plain": [
       "lineItem/UsageType\n",
       "BoxUsage:m4.xlarge             4.287100e+02\n",
       "DataTransfer-In-Bytes          0.000000e+00\n",
       "DataTransfer-Out-Bytes         0.000000e+00\n",
       "DataTransfer-Regional-Bytes    0.000000e+00\n",
       "EBS:SnapshotUsage              1.771243e+00\n",
       "EBS:VolumeUsage.gp2            2.500000e+01\n",
       "EBSOptimized:m4.xlarge         0.000000e+00\n",
       "USE1-APN1-AWS-In-Bytes         0.000000e+00\n",
       "USE1-APN1-AWS-Out-Bytes        0.000000e+00\n",
       "USE1-APN2-AWS-In-Bytes         0.000000e+00\n",
       "USE1-APN2-AWS-Out-Bytes        0.000000e+00\n",
       "USE1-APS1-AWS-In-Bytes         0.000000e+00\n",
       "USE1-APS1-AWS-Out-Bytes        0.000000e+00\n",
       "USE1-EU-AWS-In-Bytes           0.000000e+00\n",
       "USE1-EU-AWS-Out-Bytes          0.000000e+00\n",
       "USE1-SAE1-AWS-In-Bytes         0.000000e+00\n",
       "USE1-SAE1-AWS-Out-Bytes        0.000000e+00\n",
       "USE1-USW1-AWS-In-Bytes         0.000000e+00\n",
       "USE1-USW1-AWS-Out-Bytes        0.000000e+00\n",
       "USE1-USW2-AWS-In-Bytes         0.000000e+00\n",
       "USE1-USW2-AWS-Out-Bytes        9.200000e-07\n",
       "Name: lineItem/BlendedCost, dtype: float64"
      ]
     },
     "execution_count": 19,
     "metadata": {},
     "output_type": "execute_result"
    }
   ],
   "source": [
    "x = grp['lineItem/BlendedCost'].sum()\n",
    "x"
   ]
  },
  {
   "cell_type": "code",
   "execution_count": 20,
   "metadata": {
    "collapsed": false
   },
   "outputs": [
    {
     "data": {
      "text/html": [
       "\n",
       "\n",
       "    <div class=\"bk-root\">\n",
       "        <div class=\"bk-plotdiv\" id=\"f5c98564-8844-45af-90b0-181850a7e2a3\"></div>\n",
       "    </div>\n",
       "<script type=\"text/javascript\">\n",
       "  \n",
       "  (function(global) {\n",
       "    function now() {\n",
       "      return new Date();\n",
       "    }\n",
       "  \n",
       "    var force = false;\n",
       "  \n",
       "    if (typeof (window._bokeh_onload_callbacks) === \"undefined\" || force === true) {\n",
       "      window._bokeh_onload_callbacks = [];\n",
       "      window._bokeh_is_loading = undefined;\n",
       "    }\n",
       "  \n",
       "  \n",
       "    \n",
       "    if (typeof (window._bokeh_timeout) === \"undefined\" || force === true) {\n",
       "      window._bokeh_timeout = Date.now() + 0;\n",
       "      window._bokeh_failed_load = false;\n",
       "    }\n",
       "  \n",
       "    var NB_LOAD_WARNING = {'data': {'text/html':\n",
       "       \"<div style='background-color: #fdd'>\\n\"+\n",
       "       \"<p>\\n\"+\n",
       "       \"BokehJS does not appear to have successfully loaded. If loading BokehJS from CDN, this \\n\"+\n",
       "       \"may be due to a slow or bad network connection. Possible fixes:\\n\"+\n",
       "       \"</p>\\n\"+\n",
       "       \"<ul>\\n\"+\n",
       "       \"<li>re-rerun `output_notebook()` to attempt to load from CDN again, or</li>\\n\"+\n",
       "       \"<li>use INLINE resources instead, as so:</li>\\n\"+\n",
       "       \"</ul>\\n\"+\n",
       "       \"<code>\\n\"+\n",
       "       \"from bokeh.resources import INLINE\\n\"+\n",
       "       \"output_notebook(resources=INLINE)\\n\"+\n",
       "       \"</code>\\n\"+\n",
       "       \"</div>\"}};\n",
       "  \n",
       "    function display_loaded() {\n",
       "      if (window.Bokeh !== undefined) {\n",
       "        document.getElementById(\"f5c98564-8844-45af-90b0-181850a7e2a3\").textContent = \"BokehJS successfully loaded.\";\n",
       "      } else if (Date.now() < window._bokeh_timeout) {\n",
       "        setTimeout(display_loaded, 100)\n",
       "      }\n",
       "    }\n",
       "  \n",
       "    function run_callbacks() {\n",
       "      window._bokeh_onload_callbacks.forEach(function(callback) { callback() });\n",
       "      delete window._bokeh_onload_callbacks\n",
       "      console.info(\"Bokeh: all callbacks have finished\");\n",
       "    }\n",
       "  \n",
       "    function load_libs(js_urls, callback) {\n",
       "      window._bokeh_onload_callbacks.push(callback);\n",
       "      if (window._bokeh_is_loading > 0) {\n",
       "        console.log(\"Bokeh: BokehJS is being loaded, scheduling callback at\", now());\n",
       "        return null;\n",
       "      }\n",
       "      if (js_urls == null || js_urls.length === 0) {\n",
       "        run_callbacks();\n",
       "        return null;\n",
       "      }\n",
       "      console.log(\"Bokeh: BokehJS not loaded, scheduling load and callback at\", now());\n",
       "      window._bokeh_is_loading = js_urls.length;\n",
       "      for (var i = 0; i < js_urls.length; i++) {\n",
       "        var url = js_urls[i];\n",
       "        var s = document.createElement('script');\n",
       "        s.src = url;\n",
       "        s.async = false;\n",
       "        s.onreadystatechange = s.onload = function() {\n",
       "          window._bokeh_is_loading--;\n",
       "          if (window._bokeh_is_loading === 0) {\n",
       "            console.log(\"Bokeh: all BokehJS libraries loaded\");\n",
       "            run_callbacks()\n",
       "          }\n",
       "        };\n",
       "        s.onerror = function() {\n",
       "          console.warn(\"failed to load library \" + url);\n",
       "        };\n",
       "        console.log(\"Bokeh: injecting script tag for BokehJS library: \", url);\n",
       "        document.getElementsByTagName(\"head\")[0].appendChild(s);\n",
       "      }\n",
       "    };var element = document.getElementById(\"f5c98564-8844-45af-90b0-181850a7e2a3\");\n",
       "    if (element == null) {\n",
       "      console.log(\"Bokeh: ERROR: autoload.js configured with elementid 'f5c98564-8844-45af-90b0-181850a7e2a3' but no matching script tag was found. \")\n",
       "      return false;\n",
       "    }\n",
       "  \n",
       "    var js_urls = [];\n",
       "  \n",
       "    var inline_js = [\n",
       "      function(Bokeh) {\n",
       "        (function() {\n",
       "          var fn = function() {\n",
       "            var docs_json = {\"2e24d0fa-6554-449b-b5ab-70dbb1faa746\":{\"roots\":{\"references\":[{\"attributes\":{\"overlay\":{\"id\":\"83b20b89-6e88-488b-a454-2d17c4760a58\",\"type\":\"BoxAnnotation\"},\"plot\":{\"id\":\"2a39585e-1b32-4f74-a55c-83cea0897804\",\"subtype\":\"Chart\",\"type\":\"Plot\"}},\"id\":\"e9b55081-867c-4fad-bae1-ca9e70c71c94\",\"type\":\"BoxZoomTool\"},{\"attributes\":{\"location\":\"top_left\",\"plot\":{\"id\":\"2a39585e-1b32-4f74-a55c-83cea0897804\",\"subtype\":\"Chart\",\"type\":\"Plot\"}},\"id\":\"5d94b0e9-d7d2-4b9f-91c1-d2dec8d606b7\",\"type\":\"Legend\"},{\"attributes\":{\"data_source\":{\"id\":\"fd7221c0-e933-40e2-b270-812293e62244\",\"type\":\"ColumnDataSource\"},\"glyph\":{\"id\":\"f7a405b8-3b26-45e6-baf7-d745f82dbd75\",\"type\":\"Text\"},\"hover_glyph\":null,\"nonselection_glyph\":null,\"selection_glyph\":null},\"id\":\"a8551c16-3480-436d-aa01-8657f1f9a804\",\"type\":\"GlyphRenderer\"},{\"attributes\":{\"below\":[{\"id\":\"38443304-e046-4fa8-974b-b9ca65adc760\",\"type\":\"LinearAxis\"}],\"css_classes\":null,\"left\":[{\"id\":\"279f696b-d96d-4334-ae19-4ef80e02190d\",\"type\":\"LinearAxis\"}],\"renderers\":[{\"id\":\"83b20b89-6e88-488b-a454-2d17c4760a58\",\"type\":\"BoxAnnotation\"},{\"id\":\"7eeea468-e6e0-4650-847d-9f3c598e3712\",\"type\":\"GlyphRenderer\"},{\"id\":\"a8551c16-3480-436d-aa01-8657f1f9a804\",\"type\":\"GlyphRenderer\"},{\"id\":\"5d94b0e9-d7d2-4b9f-91c1-d2dec8d606b7\",\"type\":\"Legend\"},{\"id\":\"38443304-e046-4fa8-974b-b9ca65adc760\",\"type\":\"LinearAxis\"},{\"id\":\"279f696b-d96d-4334-ae19-4ef80e02190d\",\"type\":\"LinearAxis\"}],\"title\":{\"id\":\"b3bca045-80ab-4484-aad9-55ca9e80557c\",\"type\":\"Title\"},\"tool_events\":{\"id\":\"0721c02d-19b6-4acb-88b3-499c1a680b30\",\"type\":\"ToolEvents\"},\"toolbar\":{\"id\":\"8e55c45d-38e4-47cb-b272-c5ffa131018d\",\"type\":\"Toolbar\"},\"x_mapper_type\":\"auto\",\"x_range\":{\"id\":\"674c8181-dbc0-4bc2-b7ac-25a257861dad\",\"type\":\"Range1d\"},\"y_mapper_type\":\"auto\",\"y_range\":{\"id\":\"c3de7691-2011-42d6-b5da-220f7d7ac8e3\",\"type\":\"Range1d\"}},\"id\":\"2a39585e-1b32-4f74-a55c-83cea0897804\",\"subtype\":\"Chart\",\"type\":\"Plot\"},{\"attributes\":{\"end_angle\":{\"field\":\"end\",\"units\":\"rad\"},\"fill_alpha\":{\"value\":0.8},\"fill_color\":{\"field\":\"color\"},\"inner_radius\":{\"field\":\"inners\",\"units\":\"data\"},\"line_color\":{\"value\":\"White\"},\"outer_radius\":{\"field\":\"outers\",\"units\":\"data\"},\"start_angle\":{\"field\":\"start\",\"units\":\"rad\"},\"x\":{\"value\":0},\"y\":{\"value\":0}},\"id\":\"b1a98ced-3577-401a-92bf-67936cf44510\",\"type\":\"AnnularWedge\"},{\"attributes\":{},\"id\":\"6fc3510a-52c0-4511-838d-36c7b5cf9323\",\"type\":\"BasicTicker\"},{\"attributes\":{\"plot\":{\"id\":\"2a39585e-1b32-4f74-a55c-83cea0897804\",\"subtype\":\"Chart\",\"type\":\"Plot\"}},\"id\":\"006158d6-c63d-48e2-90fb-440ba78b832f\",\"type\":\"ResetTool\"},{\"attributes\":{\"plot\":{\"id\":\"2a39585e-1b32-4f74-a55c-83cea0897804\",\"subtype\":\"Chart\",\"type\":\"Plot\"}},\"id\":\"edde58cb-7c86-407e-9363-602431c5d407\",\"type\":\"HelpTool\"},{\"attributes\":{\"plot\":null,\"text\":\"AWS EC2 Product Cost Breakdown\"},\"id\":\"b3bca045-80ab-4484-aad9-55ca9e80557c\",\"type\":\"Title\"},{\"attributes\":{\"plot\":{\"id\":\"2a39585e-1b32-4f74-a55c-83cea0897804\",\"subtype\":\"Chart\",\"type\":\"Plot\"}},\"id\":\"7b6f966c-74a8-4a86-847a-26c616e3b7bc\",\"type\":\"WheelZoomTool\"},{\"attributes\":{\"plot\":{\"id\":\"2a39585e-1b32-4f74-a55c-83cea0897804\",\"subtype\":\"Chart\",\"type\":\"Plot\"}},\"id\":\"0f60332f-6f0d-4bf9-a83f-eed80a5269ac\",\"type\":\"SaveTool\"},{\"attributes\":{\"callback\":null,\"column_names\":[\"inners\",\"color\",\"values\",\"centers\",\"lineItem/UsageType\",\"outers\",\"level\",\"start\",\"end\"],\"data\":{\"centers\":[1.125,1.125,1.125,1.125],\"color\":[\"#f22c40\",\"#5ab738\",\"#407ee7\",\"#df5320\"],\"end\":[5.91388647560416,5.938320076998818,6.283185294488548,6.283185307179587],\"inners\":[0.0,0.0,0.0,0.0],\"level\":[0.0,0.0,0.0,0.0],\"lineItem/UsageType\":[\"BoxUsage:m4.xlarge\",\"EBS:SnapshotUsage\",\"EBS:VolumeUsage.gp2\",\"USE1-USW2-AWS-Out-Bytes\"],\"outers\":[1.5,1.5,1.5,1.5],\"start\":[0.0,5.91388647560416,5.938320076998818,6.283185294488548],\"values\":[428.70999999998344,1.7712428699999991,25.000000929999647,9.200000000000001e-07]}},\"id\":\"d1dcdb61-146d-4d07-b321-c2a81293e72f\",\"type\":\"ColumnDataSource\"},{\"attributes\":{},\"id\":\"0721c02d-19b6-4acb-88b3-499c1a680b30\",\"type\":\"ToolEvents\"},{\"attributes\":{\"plot\":{\"id\":\"2a39585e-1b32-4f74-a55c-83cea0897804\",\"subtype\":\"Chart\",\"type\":\"Plot\"}},\"id\":\"fe9d2c90-74a5-4a21-82d5-867177363e98\",\"type\":\"PanTool\"},{\"attributes\":{\"axis_label\":null,\"formatter\":{\"id\":\"5210a2cc-02ca-48f4-92fa-f750d839467e\",\"type\":\"BasicTickFormatter\"},\"plot\":{\"id\":\"2a39585e-1b32-4f74-a55c-83cea0897804\",\"subtype\":\"Chart\",\"type\":\"Plot\"},\"ticker\":{\"id\":\"6fc3510a-52c0-4511-838d-36c7b5cf9323\",\"type\":\"BasicTicker\"},\"visible\":false},\"id\":\"279f696b-d96d-4334-ae19-4ef80e02190d\",\"type\":\"LinearAxis\"},{\"attributes\":{\"bottom_units\":\"screen\",\"fill_alpha\":{\"value\":0.5},\"fill_color\":{\"value\":\"lightgrey\"},\"left_units\":\"screen\",\"level\":\"overlay\",\"line_alpha\":{\"value\":1.0},\"line_color\":{\"value\":\"black\"},\"line_dash\":[4,4],\"line_width\":{\"value\":2},\"plot\":null,\"render_mode\":\"css\",\"right_units\":\"screen\",\"top_units\":\"screen\"},\"id\":\"83b20b89-6e88-488b-a454-2d17c4760a58\",\"type\":\"BoxAnnotation\"},{\"attributes\":{\"active_drag\":\"auto\",\"active_scroll\":\"auto\",\"active_tap\":\"auto\",\"tools\":[{\"id\":\"fe9d2c90-74a5-4a21-82d5-867177363e98\",\"type\":\"PanTool\"},{\"id\":\"7b6f966c-74a8-4a86-847a-26c616e3b7bc\",\"type\":\"WheelZoomTool\"},{\"id\":\"e9b55081-867c-4fad-bae1-ca9e70c71c94\",\"type\":\"BoxZoomTool\"},{\"id\":\"0f60332f-6f0d-4bf9-a83f-eed80a5269ac\",\"type\":\"SaveTool\"},{\"id\":\"006158d6-c63d-48e2-90fb-440ba78b832f\",\"type\":\"ResetTool\"},{\"id\":\"edde58cb-7c86-407e-9363-602431c5d407\",\"type\":\"HelpTool\"}]},\"id\":\"8e55c45d-38e4-47cb-b272-c5ffa131018d\",\"type\":\"Toolbar\"},{\"attributes\":{\"data_source\":{\"id\":\"d1dcdb61-146d-4d07-b321-c2a81293e72f\",\"type\":\"ColumnDataSource\"},\"glyph\":{\"id\":\"b1a98ced-3577-401a-92bf-67936cf44510\",\"type\":\"AnnularWedge\"},\"hover_glyph\":null,\"nonselection_glyph\":null,\"selection_glyph\":null},\"id\":\"7eeea468-e6e0-4650-847d-9f3c598e3712\",\"type\":\"GlyphRenderer\"},{\"attributes\":{\"callback\":null,\"column_names\":[\"text_angle\",\"y\",\"x\",\"text\"],\"data\":{\"text\":[\"BoxUsage:m4.xlarge\",\"EBS:SnapshotUsage\",\"EBS:VolumeUsage.gp2\",\"USE1-USW2-AWS-Out-Bytes\"],\"text_angle\":{\"__ndarray__\":\"AAAAAAAAAAAAAAAAAAAAAAAAAAAAAAAAAAAAAAAAAAA=\",\"dtype\":\"float64\",\"shape\":[4]},\"x\":[-1.1058757638451566,1.054035858588677,1.1083165813536695,1.125],\"y\":[0.20655216033702312,-0.39323454681554937,-0.1930268258468621,-7.138708899778022e-09]}},\"id\":\"fd7221c0-e933-40e2-b270-812293e62244\",\"type\":\"ColumnDataSource\"},{\"attributes\":{\"angle\":{\"field\":\"text_angle\",\"units\":\"rad\"},\"text_align\":\"center\",\"text_baseline\":\"middle\",\"text_font_size\":{\"value\":\"10pt\"},\"x\":{\"field\":\"x\"},\"y\":{\"field\":\"y\"}},\"id\":\"f7a405b8-3b26-45e6-baf7-d745f82dbd75\",\"type\":\"Text\"},{\"attributes\":{},\"id\":\"2b2f19f8-6f71-4aeb-af76-0b54dd372aee\",\"type\":\"BasicTickFormatter\"},{\"attributes\":{\"axis_label\":null,\"formatter\":{\"id\":\"2b2f19f8-6f71-4aeb-af76-0b54dd372aee\",\"type\":\"BasicTickFormatter\"},\"plot\":{\"id\":\"2a39585e-1b32-4f74-a55c-83cea0897804\",\"subtype\":\"Chart\",\"type\":\"Plot\"},\"ticker\":{\"id\":\"b4ea6f92-e221-49dc-a58d-c6068eb0d584\",\"type\":\"BasicTicker\"},\"visible\":false},\"id\":\"38443304-e046-4fa8-974b-b9ca65adc760\",\"type\":\"LinearAxis\"},{\"attributes\":{\"callback\":null,\"end\":1.6500000000000001,\"start\":-1.6500000000000001},\"id\":\"674c8181-dbc0-4bc2-b7ac-25a257861dad\",\"type\":\"Range1d\"},{\"attributes\":{},\"id\":\"5210a2cc-02ca-48f4-92fa-f750d839467e\",\"type\":\"BasicTickFormatter\"},{\"attributes\":{\"callback\":null,\"end\":1.6500000000000001,\"start\":-1.6500000000000001},\"id\":\"c3de7691-2011-42d6-b5da-220f7d7ac8e3\",\"type\":\"Range1d\"},{\"attributes\":{},\"id\":\"b4ea6f92-e221-49dc-a58d-c6068eb0d584\",\"type\":\"BasicTicker\"}],\"root_ids\":[\"2a39585e-1b32-4f74-a55c-83cea0897804\"]},\"title\":\"Bokeh Application\",\"version\":\"0.12.4\"}};\n",
       "            var render_items = [{\"docid\":\"2e24d0fa-6554-449b-b5ab-70dbb1faa746\",\"elementid\":\"f5c98564-8844-45af-90b0-181850a7e2a3\",\"modelid\":\"2a39585e-1b32-4f74-a55c-83cea0897804\"}];\n",
       "            \n",
       "            Bokeh.embed.embed_items(docs_json, render_items);\n",
       "          };\n",
       "          if (document.readyState != \"loading\") fn();\n",
       "          else document.addEventListener(\"DOMContentLoaded\", fn);\n",
       "        })();\n",
       "      },\n",
       "      function(Bokeh) {\n",
       "      }\n",
       "    ];\n",
       "  \n",
       "    function run_inline_js() {\n",
       "      \n",
       "      if ((window.Bokeh !== undefined) || (force === true)) {\n",
       "        for (var i = 0; i < inline_js.length; i++) {\n",
       "          inline_js[i](window.Bokeh);\n",
       "        }if (force === true) {\n",
       "          display_loaded();\n",
       "        }} else if (Date.now() < window._bokeh_timeout) {\n",
       "        setTimeout(run_inline_js, 100);\n",
       "      } else if (!window._bokeh_failed_load) {\n",
       "        console.log(\"Bokeh: BokehJS failed to load within specified timeout.\");\n",
       "        window._bokeh_failed_load = true;\n",
       "      } else if (force !== true) {\n",
       "        var cell = $(document.getElementById(\"f5c98564-8844-45af-90b0-181850a7e2a3\")).parents('.cell').data().cell;\n",
       "        cell.output_area.append_execute_result(NB_LOAD_WARNING)\n",
       "      }\n",
       "  \n",
       "    }\n",
       "  \n",
       "    if (window._bokeh_is_loading === 0) {\n",
       "      console.log(\"Bokeh: BokehJS loaded, going straight to plotting\");\n",
       "      run_inline_js();\n",
       "    } else {\n",
       "      load_libs(js_urls, function() {\n",
       "        console.log(\"Bokeh: BokehJS plotting callback run at\", now());\n",
       "        run_inline_js();\n",
       "      });\n",
       "    }\n",
       "  }(this));\n",
       "</script>"
      ]
     },
     "metadata": {},
     "output_type": "display_data"
    }
   ],
   "source": [
    "f = Donut(x.iloc[x.nonzero()], title='AWS EC2 Product Cost Breakdown',\n",
    "          plot_height=600, plot_width=600)\n",
    "show(f)"
   ]
  },
  {
   "cell_type": "markdown",
   "metadata": {},
   "source": [
    "How many unique operations for each of the AmazonEC2 product types?"
   ]
  },
  {
   "cell_type": "code",
   "execution_count": 21,
   "metadata": {
    "collapsed": false
   },
   "outputs": [
    {
     "data": {
      "text/plain": [
       "lineItem/UsageType\n",
       "BoxUsage:m4.xlarge                          [RunInstances]\n",
       "DataTransfer-In-Bytes                       [RunInstances]\n",
       "DataTransfer-Out-Bytes                      [RunInstances]\n",
       "DataTransfer-Regional-Bytes    [PublicIP-Out, PublicIP-In]\n",
       "EBS:SnapshotUsage                         [CreateSnapshot]\n",
       "EBS:VolumeUsage.gp2                     [CreateVolume-Gp2]\n",
       "EBSOptimized:m4.xlarge                            [Hourly]\n",
       "USE1-APN1-AWS-In-Bytes                       [PublicIP-In]\n",
       "USE1-APN1-AWS-Out-Bytes                     [PublicIP-Out]\n",
       "USE1-APN2-AWS-In-Bytes                       [PublicIP-In]\n",
       "USE1-APN2-AWS-Out-Bytes                     [PublicIP-Out]\n",
       "USE1-APS1-AWS-In-Bytes                       [PublicIP-In]\n",
       "USE1-APS1-AWS-Out-Bytes                     [PublicIP-Out]\n",
       "USE1-EU-AWS-In-Bytes                         [PublicIP-In]\n",
       "USE1-EU-AWS-Out-Bytes                       [PublicIP-Out]\n",
       "USE1-SAE1-AWS-In-Bytes                       [PublicIP-In]\n",
       "USE1-SAE1-AWS-Out-Bytes                     [PublicIP-Out]\n",
       "USE1-USW1-AWS-In-Bytes                       [PublicIP-In]\n",
       "USE1-USW1-AWS-Out-Bytes                     [PublicIP-Out]\n",
       "USE1-USW2-AWS-In-Bytes                       [PublicIP-In]\n",
       "USE1-USW2-AWS-Out-Bytes                     [PublicIP-Out]\n",
       "Name: lineItem/Operation, dtype: object"
      ]
     },
     "execution_count": 21,
     "metadata": {},
     "output_type": "execute_result"
    }
   ],
   "source": [
    "grp['lineItem/Operation'].unique()"
   ]
  },
  {
   "cell_type": "markdown",
   "metadata": {},
   "source": [
    "How many unique product SKUs for each of the AmazonEC2 product types?"
   ]
  },
  {
   "cell_type": "code",
   "execution_count": 22,
   "metadata": {
    "collapsed": false
   },
   "outputs": [
    {
     "data": {
      "text/plain": [
       "lineItem/UsageType\n",
       "BoxUsage:m4.xlarge             [47GP959QAF69YPG5]\n",
       "DataTransfer-In-Bytes          [9MG5B7V4UUU2WPAV]\n",
       "DataTransfer-Out-Bytes         [HQEH3ZWJVT46JHRG]\n",
       "DataTransfer-Regional-Bytes    [PNUBVW4CPC8XA46W]\n",
       "EBS:SnapshotUsage              [7U7TWP44UP36AT3R]\n",
       "EBS:VolumeUsage.gp2            [HY3BZPP2B6K8MSJF]\n",
       "EBSOptimized:m4.xlarge         [9W95WEA2F9V4BVUJ]\n",
       "USE1-APN1-AWS-In-Bytes         [BJKH3VYGVEEXSNAH]\n",
       "USE1-APN1-AWS-Out-Bytes        [EDJPFY8K3AW2AD23]\n",
       "USE1-APN2-AWS-In-Bytes         [C7XDWJNQJCHH2ZQT]\n",
       "USE1-APN2-AWS-Out-Bytes        [Y8HYRU3BZZ4QFJHH]\n",
       "USE1-APS1-AWS-In-Bytes         [DZHU5BKVVZXEHEYR]\n",
       "USE1-APS1-AWS-Out-Bytes        [2T92AZQGNFAQHEXW]\n",
       "USE1-EU-AWS-In-Bytes           [725FHGTUB3P2B9EU]\n",
       "USE1-EU-AWS-Out-Bytes          [NW4B786HNAH6HZ7R]\n",
       "USE1-SAE1-AWS-In-Bytes         [R8DGVR4A52UQ7VP6]\n",
       "USE1-SAE1-AWS-Out-Bytes        [X67HWFH8QVT6NSW7]\n",
       "USE1-USW1-AWS-In-Bytes         [NBUQPTSYHSXS2EB6]\n",
       "USE1-USW1-AWS-Out-Bytes        [8X3QU4DYXVJAXZK3]\n",
       "USE1-USW2-AWS-In-Bytes         [33Y5KYZ4JQEF6J66]\n",
       "USE1-USW2-AWS-Out-Bytes        [XGXYRYWGNXSSEUVT]\n",
       "Name: product/sku, dtype: object"
      ]
     },
     "execution_count": 22,
     "metadata": {},
     "output_type": "execute_result"
    }
   ],
   "source": [
    "skus = grp['product/sku'].unique()\n",
    "skus"
   ]
  },
  {
   "cell_type": "markdown",
   "metadata": {},
   "source": [
    "Display description for all of these SKUs and their pricing tiers:"
   ]
  },
  {
   "cell_type": "code",
   "execution_count": 23,
   "metadata": {
    "collapsed": true
   },
   "outputs": [],
   "source": [
    "s3o = oi.offer('AmazonEC2')"
   ]
  },
  {
   "cell_type": "code",
   "execution_count": 24,
   "metadata": {
    "collapsed": false
   },
   "outputs": [
    {
     "name": "stdout",
     "output_type": "stream",
     "text": [
      "Usage Type: BoxUsage:m4.xlarge\n",
      "  SKU: 47GP959QAF69YPG5\n",
      "     $0.215 per On Demand Linux m4.xlarge Instance Hour\n",
      "\n",
      "\n",
      "Usage Type: DataTransfer-In-Bytes\n",
      "  SKU: 9MG5B7V4UUU2WPAV\n",
      "     $0.000 per GB - data transfer in per month\n",
      "\n",
      "\n",
      "Usage Type: DataTransfer-Out-Bytes\n",
      "  SKU: HQEH3ZWJVT46JHRG\n",
      "     $0.050 per GB - greater than 150 TB / month data transfer out\n",
      "     $0.085 per GB - next 40 TB / month data transfer out\n",
      "     $0.090 per GB - first 10 TB / month data transfer out beyond the global free tier\n",
      "     $0.000 per GB - first 1 GB of data transferred out per month\n",
      "     $0.070 per GB - next 100 TB / month data transfer out\n",
      "\n",
      "\n",
      "Usage Type: DataTransfer-Regional-Bytes\n",
      "  SKU: PNUBVW4CPC8XA46W\n",
      "     $0.010 per GB - regional data transfer - in/out/between EC2 AZs or using elastic IPs or ELB\n",
      "\n",
      "\n",
      "Usage Type: EBS:SnapshotUsage\n",
      "  SKU: 7U7TWP44UP36AT3R\n",
      "     $0.05 per GB-Month of snapshot data stored - US East (Northern Virginia)\n",
      "\n",
      "\n",
      "Usage Type: EBS:VolumeUsage.gp2\n",
      "  SKU: HY3BZPP2B6K8MSJF\n",
      "     $0.10 per GB-month of General Purpose SSD (gp2) provisioned storage - US East (Northern Virginia)\n",
      "\n",
      "\n",
      "Usage Type: EBSOptimized:m4.xlarge\n",
      "  SKU: 9W95WEA2F9V4BVUJ\n",
      "     $0.000 for 750 Mbps per m4.xlarge instance-hour (or partial hour)\n",
      "\n",
      "\n",
      "Usage Type: USE1-APN1-AWS-In-Bytes\n",
      "  SKU: BJKH3VYGVEEXSNAH\n",
      "     $0.00 per GB - US East (Northern Virginia) data transfer from Asia Pacific (Tokyo)\n",
      "\n",
      "\n",
      "Usage Type: USE1-APN1-AWS-Out-Bytes\n",
      "  SKU: EDJPFY8K3AW2AD23\n",
      "     $0.02 per GB - US East (Northern Virginia) data transfer to Asia Pacific (Tokyo)\n",
      "\n",
      "\n",
      "Usage Type: USE1-APN2-AWS-In-Bytes\n",
      "  SKU: C7XDWJNQJCHH2ZQT\n",
      "     $0.00 per GB - US East (Northern Virginia) data transfer from Asia Pacific (Seoul)\n",
      "\n",
      "\n",
      "Usage Type: USE1-APN2-AWS-Out-Bytes\n",
      "  SKU: Y8HYRU3BZZ4QFJHH\n",
      "     $0.02 per GB - US East (Northern Virginia) data transfer to Asia Pacific (Seoul)\n",
      "\n",
      "\n",
      "Usage Type: USE1-APS1-AWS-In-Bytes\n",
      "  SKU: DZHU5BKVVZXEHEYR\n",
      "     $0.00 per GB - US East (Northern Virginia) data transfer from Asia Pacific (Singapore)\n",
      "\n",
      "\n",
      "Usage Type: USE1-APS1-AWS-Out-Bytes\n",
      "  SKU: 2T92AZQGNFAQHEXW\n",
      "     $0.02 per GB - US East (Northern Virginia) data transfer to Asia Pacific (Singapore)\n",
      "\n",
      "\n",
      "Usage Type: USE1-EU-AWS-In-Bytes\n",
      "  SKU: 725FHGTUB3P2B9EU\n",
      "     $0.00 per GB - US East (Northern Virginia) data transfer from EU (Ireland)\n",
      "\n",
      "\n",
      "Usage Type: USE1-EU-AWS-Out-Bytes\n",
      "  SKU: NW4B786HNAH6HZ7R\n",
      "     $0.02 per GB - US East (Northern Virginia) data transfer to EU (Ireland)\n",
      "\n",
      "\n",
      "Usage Type: USE1-SAE1-AWS-In-Bytes\n",
      "  SKU: R8DGVR4A52UQ7VP6\n",
      "     $0.00 per GB - US East (Northern Virginia) data transfer from South America (Sao Paulo)\n",
      "\n",
      "\n",
      "Usage Type: USE1-SAE1-AWS-Out-Bytes\n",
      "  SKU: X67HWFH8QVT6NSW7\n",
      "     $0.02 per GB - US East (Northern Virginia) data transfer to South America (Sao Paulo)\n",
      "\n",
      "\n",
      "Usage Type: USE1-USW1-AWS-In-Bytes\n",
      "  SKU: NBUQPTSYHSXS2EB6\n",
      "     $0.00 per GB - US East (Northern Virginia) data transfer from US West (Northern California)\n",
      "\n",
      "\n",
      "Usage Type: USE1-USW1-AWS-Out-Bytes\n",
      "  SKU: 8X3QU4DYXVJAXZK3\n",
      "     $0.02 per GB - US East (Northern Virginia) data transfer to US West (Northern California)\n",
      "\n",
      "\n",
      "Usage Type: USE1-USW2-AWS-In-Bytes\n",
      "  SKU: 33Y5KYZ4JQEF6J66\n",
      "     $0.00 per GB - US East (Northern Virginia) data transfer from US West (Oregon)\n",
      "\n",
      "\n",
      "Usage Type: USE1-USW2-AWS-Out-Bytes\n",
      "  SKU: XGXYRYWGNXSSEUVT\n",
      "     $0.02 per GB - US East (Northern Virginia) data transfer to US West (Oregon)\n",
      "\n",
      "\n"
     ]
    }
   ],
   "source": [
    "for ut, sku_list in skus.iteritems():\n",
    "    print('Usage Type:', ut)\n",
    "    for sku in sku_list:\n",
    "        print('  SKU:', sku)\n",
    "        prod = s3o.product(sku)\n",
    "        if len(prod.pricing) > 1:\n",
    "            raise ValueError('{}: More than one product pricing info')\n",
    "        tiers = prod.pricing[0].tiers\n",
    "        for t in tiers:\n",
    "            print('    ', t.description)\n",
    "        print('\\n')"
   ]
  },
  {
   "cell_type": "markdown",
   "metadata": {},
   "source": [
    "### Analysis: AmazonS3"
   ]
  },
  {
   "cell_type": "code",
   "execution_count": 25,
   "metadata": {
    "collapsed": true
   },
   "outputs": [],
   "source": [
    "s3 = r[r['lineItem/ProductCode'] == 'AmazonS3']"
   ]
  },
  {
   "cell_type": "markdown",
   "metadata": {},
   "source": [
    "How many usage types?"
   ]
  },
  {
   "cell_type": "code",
   "execution_count": 26,
   "metadata": {
    "collapsed": false
   },
   "outputs": [
    {
     "data": {
      "text/plain": [
       "USE1-USW2-AWS-Out-Bytes    2231\n",
       "Requests-Tier2             1720\n",
       "Requests-Tier1             1109\n",
       "DataTransfer-Out-Bytes      200\n",
       "DataTransfer-In-Bytes        98\n",
       "TimedStorage-ByteHrs         32\n",
       "Name: lineItem/UsageType, dtype: int64"
      ]
     },
     "execution_count": 26,
     "metadata": {},
     "output_type": "execute_result"
    }
   ],
   "source": [
    "s3['lineItem/UsageType'].value_counts()"
   ]
  },
  {
   "cell_type": "markdown",
   "metadata": {},
   "source": [
    "Cost breakdown for different product types:"
   ]
  },
  {
   "cell_type": "code",
   "execution_count": 27,
   "metadata": {
    "collapsed": false
   },
   "outputs": [],
   "source": [
    "grp = s3.groupby('lineItem/UsageType')"
   ]
  },
  {
   "cell_type": "code",
   "execution_count": 28,
   "metadata": {
    "collapsed": false
   },
   "outputs": [
    {
     "data": {
      "text/plain": [
       "lineItem/UsageType\n",
       "DataTransfer-In-Bytes       0.000000\n",
       "DataTransfer-Out-Bytes      0.000000\n",
       "Requests-Tier1             16.781100\n",
       "Requests-Tier2              0.259584\n",
       "TimedStorage-ByteHrs        8.002707\n",
       "USE1-USW2-AWS-Out-Bytes     1.680243\n",
       "Name: lineItem/BlendedCost, dtype: float64"
      ]
     },
     "execution_count": 28,
     "metadata": {},
     "output_type": "execute_result"
    }
   ],
   "source": [
    "x = grp['lineItem/BlendedCost'].sum()\n",
    "x"
   ]
  },
  {
   "cell_type": "code",
   "execution_count": 29,
   "metadata": {
    "collapsed": false
   },
   "outputs": [
    {
     "data": {
      "text/html": [
       "\n",
       "\n",
       "    <div class=\"bk-root\">\n",
       "        <div class=\"bk-plotdiv\" id=\"0b326d51-c01d-47b3-91f1-6c8297300fcc\"></div>\n",
       "    </div>\n",
       "<script type=\"text/javascript\">\n",
       "  \n",
       "  (function(global) {\n",
       "    function now() {\n",
       "      return new Date();\n",
       "    }\n",
       "  \n",
       "    var force = false;\n",
       "  \n",
       "    if (typeof (window._bokeh_onload_callbacks) === \"undefined\" || force === true) {\n",
       "      window._bokeh_onload_callbacks = [];\n",
       "      window._bokeh_is_loading = undefined;\n",
       "    }\n",
       "  \n",
       "  \n",
       "    \n",
       "    if (typeof (window._bokeh_timeout) === \"undefined\" || force === true) {\n",
       "      window._bokeh_timeout = Date.now() + 0;\n",
       "      window._bokeh_failed_load = false;\n",
       "    }\n",
       "  \n",
       "    var NB_LOAD_WARNING = {'data': {'text/html':\n",
       "       \"<div style='background-color: #fdd'>\\n\"+\n",
       "       \"<p>\\n\"+\n",
       "       \"BokehJS does not appear to have successfully loaded. If loading BokehJS from CDN, this \\n\"+\n",
       "       \"may be due to a slow or bad network connection. Possible fixes:\\n\"+\n",
       "       \"</p>\\n\"+\n",
       "       \"<ul>\\n\"+\n",
       "       \"<li>re-rerun `output_notebook()` to attempt to load from CDN again, or</li>\\n\"+\n",
       "       \"<li>use INLINE resources instead, as so:</li>\\n\"+\n",
       "       \"</ul>\\n\"+\n",
       "       \"<code>\\n\"+\n",
       "       \"from bokeh.resources import INLINE\\n\"+\n",
       "       \"output_notebook(resources=INLINE)\\n\"+\n",
       "       \"</code>\\n\"+\n",
       "       \"</div>\"}};\n",
       "  \n",
       "    function display_loaded() {\n",
       "      if (window.Bokeh !== undefined) {\n",
       "        document.getElementById(\"0b326d51-c01d-47b3-91f1-6c8297300fcc\").textContent = \"BokehJS successfully loaded.\";\n",
       "      } else if (Date.now() < window._bokeh_timeout) {\n",
       "        setTimeout(display_loaded, 100)\n",
       "      }\n",
       "    }\n",
       "  \n",
       "    function run_callbacks() {\n",
       "      window._bokeh_onload_callbacks.forEach(function(callback) { callback() });\n",
       "      delete window._bokeh_onload_callbacks\n",
       "      console.info(\"Bokeh: all callbacks have finished\");\n",
       "    }\n",
       "  \n",
       "    function load_libs(js_urls, callback) {\n",
       "      window._bokeh_onload_callbacks.push(callback);\n",
       "      if (window._bokeh_is_loading > 0) {\n",
       "        console.log(\"Bokeh: BokehJS is being loaded, scheduling callback at\", now());\n",
       "        return null;\n",
       "      }\n",
       "      if (js_urls == null || js_urls.length === 0) {\n",
       "        run_callbacks();\n",
       "        return null;\n",
       "      }\n",
       "      console.log(\"Bokeh: BokehJS not loaded, scheduling load and callback at\", now());\n",
       "      window._bokeh_is_loading = js_urls.length;\n",
       "      for (var i = 0; i < js_urls.length; i++) {\n",
       "        var url = js_urls[i];\n",
       "        var s = document.createElement('script');\n",
       "        s.src = url;\n",
       "        s.async = false;\n",
       "        s.onreadystatechange = s.onload = function() {\n",
       "          window._bokeh_is_loading--;\n",
       "          if (window._bokeh_is_loading === 0) {\n",
       "            console.log(\"Bokeh: all BokehJS libraries loaded\");\n",
       "            run_callbacks()\n",
       "          }\n",
       "        };\n",
       "        s.onerror = function() {\n",
       "          console.warn(\"failed to load library \" + url);\n",
       "        };\n",
       "        console.log(\"Bokeh: injecting script tag for BokehJS library: \", url);\n",
       "        document.getElementsByTagName(\"head\")[0].appendChild(s);\n",
       "      }\n",
       "    };var element = document.getElementById(\"0b326d51-c01d-47b3-91f1-6c8297300fcc\");\n",
       "    if (element == null) {\n",
       "      console.log(\"Bokeh: ERROR: autoload.js configured with elementid '0b326d51-c01d-47b3-91f1-6c8297300fcc' but no matching script tag was found. \")\n",
       "      return false;\n",
       "    }\n",
       "  \n",
       "    var js_urls = [];\n",
       "  \n",
       "    var inline_js = [\n",
       "      function(Bokeh) {\n",
       "        (function() {\n",
       "          var fn = function() {\n",
       "            var docs_json = {\"a7c884b9-507c-468b-ba98-7fe736da4e99\":{\"roots\":{\"references\":[{\"attributes\":{},\"id\":\"98fdd1ea-34d9-4695-b0da-02013331747d\",\"type\":\"BasicTicker\"},{\"attributes\":{\"location\":\"top_left\",\"plot\":{\"id\":\"afbe2673-a857-48ef-8371-fc59e17dd726\",\"subtype\":\"Chart\",\"type\":\"Plot\"}},\"id\":\"e92c2f51-8df9-47b6-8a78-5f77d5c8336d\",\"type\":\"Legend\"},{\"attributes\":{\"axis_label\":null,\"formatter\":{\"id\":\"83f88bbf-743b-420b-ba2b-bbfc00eabfb5\",\"type\":\"BasicTickFormatter\"},\"plot\":{\"id\":\"afbe2673-a857-48ef-8371-fc59e17dd726\",\"subtype\":\"Chart\",\"type\":\"Plot\"},\"ticker\":{\"id\":\"98fdd1ea-34d9-4695-b0da-02013331747d\",\"type\":\"BasicTicker\"},\"visible\":false},\"id\":\"3277513d-8164-47ba-a032-fb157db5b2f4\",\"type\":\"LinearAxis\"},{\"attributes\":{\"plot\":{\"id\":\"afbe2673-a857-48ef-8371-fc59e17dd726\",\"subtype\":\"Chart\",\"type\":\"Plot\"}},\"id\":\"4e66f1b3-c686-4a69-9886-d57dce1a09f5\",\"type\":\"PanTool\"},{\"attributes\":{\"bottom_units\":\"screen\",\"fill_alpha\":{\"value\":0.5},\"fill_color\":{\"value\":\"lightgrey\"},\"left_units\":\"screen\",\"level\":\"overlay\",\"line_alpha\":{\"value\":1.0},\"line_color\":{\"value\":\"black\"},\"line_dash\":[4,4],\"line_width\":{\"value\":2},\"plot\":null,\"render_mode\":\"css\",\"right_units\":\"screen\",\"top_units\":\"screen\"},\"id\":\"74cef711-4f98-4c27-9694-d8cc5b8406b6\",\"type\":\"BoxAnnotation\"},{\"attributes\":{\"plot\":{\"id\":\"afbe2673-a857-48ef-8371-fc59e17dd726\",\"subtype\":\"Chart\",\"type\":\"Plot\"}},\"id\":\"930c2035-5016-45f3-bdd9-83f7af606190\",\"type\":\"ResetTool\"},{\"attributes\":{\"callback\":null,\"column_names\":[\"text_angle\",\"y\",\"x\",\"text\"],\"data\":{\"text\":[\"Requests-Tier1\",\"Requests-Tier2\",\"TimedStorage-ByteHrs\",\"USE1-USW2-AWS-Out-Bytes\"],\"text_angle\":{\"__ndarray__\":\"AAAAAAAAAAAAAAAAAAAAAAAAAAAAAAAAAAAAAAAAAAA=\",\"dtype\":\"float64\",\"shape\":[4]},\"x\":[-0.44013197426997924,-0.7555347617937767,0.2618996095001553,1.1031242594972333],\"y\":[1.0353303073054563,-0.8335419747806473,-1.094090304565243,-0.22077560578261524]}},\"id\":\"f076b773-8a99-40ea-9129-7739d4af26b4\",\"type\":\"ColumnDataSource\"},{\"attributes\":{\"callback\":null,\"end\":1.6500000000000001,\"start\":-1.6500000000000001},\"id\":\"c3f6b535-bf6a-42f5-af4f-deff5663960a\",\"type\":\"Range1d\"},{\"attributes\":{\"data_source\":{\"id\":\"f076b773-8a99-40ea-9129-7739d4af26b4\",\"type\":\"ColumnDataSource\"},\"glyph\":{\"id\":\"2cbcd69a-6287-4878-a374-ccaf6401e973\",\"type\":\"Text\"},\"hover_glyph\":null,\"nonselection_glyph\":null,\"selection_glyph\":null},\"id\":\"0df293e0-fddc-468b-9cbe-ef881149b479\",\"type\":\"GlyphRenderer\"},{\"attributes\":{\"active_drag\":\"auto\",\"active_scroll\":\"auto\",\"active_tap\":\"auto\",\"tools\":[{\"id\":\"4e66f1b3-c686-4a69-9886-d57dce1a09f5\",\"type\":\"PanTool\"},{\"id\":\"5d3f566a-1647-4b8f-9512-57712140e17a\",\"type\":\"WheelZoomTool\"},{\"id\":\"cf435e21-4c9b-4c7a-b9b7-8a3f78f5024d\",\"type\":\"BoxZoomTool\"},{\"id\":\"b000200e-273b-4a0c-9ee3-4cf401988b58\",\"type\":\"SaveTool\"},{\"id\":\"930c2035-5016-45f3-bdd9-83f7af606190\",\"type\":\"ResetTool\"},{\"id\":\"124bf4f7-3db2-4357-a68f-cbf51a799961\",\"type\":\"HelpTool\"}]},\"id\":\"ba9a5d49-9d27-4875-9bd2-dccd52b23130\",\"type\":\"Toolbar\"},{\"attributes\":{\"callback\":null,\"end\":1.6500000000000001,\"start\":-1.6500000000000001},\"id\":\"ba8fe586-f769-4e30-8bec-4fd6ac9405fb\",\"type\":\"Range1d\"},{\"attributes\":{},\"id\":\"6902b8ad-ab0e-4b35-b642-265248ca87b7\",\"type\":\"BasicTickFormatter\"},{\"attributes\":{},\"id\":\"83f88bbf-743b-420b-ba2b-bbfc00eabfb5\",\"type\":\"BasicTickFormatter\"},{\"attributes\":{},\"id\":\"5e8266b0-343b-4ad1-95da-6845fddd9f52\",\"type\":\"BasicTicker\"},{\"attributes\":{},\"id\":\"fa7fc44f-9f67-4fc9-a8a3-7d6ce30359ca\",\"type\":\"ToolEvents\"},{\"attributes\":{\"angle\":{\"field\":\"text_angle\",\"units\":\"rad\"},\"text_align\":\"center\",\"text_baseline\":\"middle\",\"text_font_size\":{\"value\":\"10pt\"},\"x\":{\"field\":\"x\"},\"y\":{\"field\":\"y\"}},\"id\":\"2cbcd69a-6287-4878-a374-ccaf6401e973\",\"type\":\"Text\"},{\"attributes\":{\"data_source\":{\"id\":\"d8cbb546-4937-41c3-8074-8971518a2d6a\",\"type\":\"ColumnDataSource\"},\"glyph\":{\"id\":\"19bafa99-5477-4f38-8b88-178cb6bbfbec\",\"type\":\"AnnularWedge\"},\"hover_glyph\":null,\"nonselection_glyph\":null,\"selection_glyph\":null},\"id\":\"5bcff3c0-2b74-44d3-a004-6e4896652dfd\",\"type\":\"GlyphRenderer\"},{\"attributes\":{\"plot\":{\"id\":\"afbe2673-a857-48ef-8371-fc59e17dd726\",\"subtype\":\"Chart\",\"type\":\"Plot\"}},\"id\":\"5d3f566a-1647-4b8f-9512-57712140e17a\",\"type\":\"WheelZoomTool\"},{\"attributes\":{\"below\":[{\"id\":\"33781e18-e384-418e-8284-0a0cf42962f2\",\"type\":\"LinearAxis\"}],\"css_classes\":null,\"left\":[{\"id\":\"3277513d-8164-47ba-a032-fb157db5b2f4\",\"type\":\"LinearAxis\"}],\"renderers\":[{\"id\":\"74cef711-4f98-4c27-9694-d8cc5b8406b6\",\"type\":\"BoxAnnotation\"},{\"id\":\"5bcff3c0-2b74-44d3-a004-6e4896652dfd\",\"type\":\"GlyphRenderer\"},{\"id\":\"0df293e0-fddc-468b-9cbe-ef881149b479\",\"type\":\"GlyphRenderer\"},{\"id\":\"e92c2f51-8df9-47b6-8a78-5f77d5c8336d\",\"type\":\"Legend\"},{\"id\":\"33781e18-e384-418e-8284-0a0cf42962f2\",\"type\":\"LinearAxis\"},{\"id\":\"3277513d-8164-47ba-a032-fb157db5b2f4\",\"type\":\"LinearAxis\"}],\"title\":{\"id\":\"e9d65a90-9616-4648-9773-d8f0924b41c2\",\"type\":\"Title\"},\"tool_events\":{\"id\":\"fa7fc44f-9f67-4fc9-a8a3-7d6ce30359ca\",\"type\":\"ToolEvents\"},\"toolbar\":{\"id\":\"ba9a5d49-9d27-4875-9bd2-dccd52b23130\",\"type\":\"Toolbar\"},\"x_mapper_type\":\"auto\",\"x_range\":{\"id\":\"c3f6b535-bf6a-42f5-af4f-deff5663960a\",\"type\":\"Range1d\"},\"y_mapper_type\":\"auto\",\"y_range\":{\"id\":\"ba8fe586-f769-4e30-8bec-4fd6ac9405fb\",\"type\":\"Range1d\"}},\"id\":\"afbe2673-a857-48ef-8371-fc59e17dd726\",\"subtype\":\"Chart\",\"type\":\"Plot\"},{\"attributes\":{\"overlay\":{\"id\":\"74cef711-4f98-4c27-9694-d8cc5b8406b6\",\"type\":\"BoxAnnotation\"},\"plot\":{\"id\":\"afbe2673-a857-48ef-8371-fc59e17dd726\",\"subtype\":\"Chart\",\"type\":\"Plot\"}},\"id\":\"cf435e21-4c9b-4c7a-b9b7-8a3f78f5024d\",\"type\":\"BoxZoomTool\"},{\"attributes\":{\"plot\":null,\"text\":\"AWS S3 Cost Breakdown\"},\"id\":\"e9d65a90-9616-4648-9773-d8f0924b41c2\",\"type\":\"Title\"},{\"attributes\":{\"plot\":{\"id\":\"afbe2673-a857-48ef-8371-fc59e17dd726\",\"subtype\":\"Chart\",\"type\":\"Plot\"}},\"id\":\"124bf4f7-3db2-4357-a68f-cbf51a799961\",\"type\":\"HelpTool\"},{\"attributes\":{\"axis_label\":null,\"formatter\":{\"id\":\"6902b8ad-ab0e-4b35-b642-265248ca87b7\",\"type\":\"BasicTickFormatter\"},\"plot\":{\"id\":\"afbe2673-a857-48ef-8371-fc59e17dd726\",\"subtype\":\"Chart\",\"type\":\"Plot\"},\"ticker\":{\"id\":\"5e8266b0-343b-4ad1-95da-6845fddd9f52\",\"type\":\"BasicTicker\"},\"visible\":false},\"id\":\"33781e18-e384-418e-8284-0a0cf42962f2\",\"type\":\"LinearAxis\"},{\"attributes\":{\"end_angle\":{\"field\":\"end\",\"units\":\"rad\"},\"fill_alpha\":{\"value\":0.8},\"fill_color\":{\"field\":\"color\"},\"inner_radius\":{\"field\":\"inners\",\"units\":\"data\"},\"line_color\":{\"value\":\"White\"},\"outer_radius\":{\"field\":\"outers\",\"units\":\"data\"},\"start_angle\":{\"field\":\"start\",\"units\":\"rad\"},\"x\":{\"value\":0},\"y\":{\"value\":0}},\"id\":\"19bafa99-5477-4f38-8b88-178cb6bbfbec\",\"type\":\"AnnularWedge\"},{\"attributes\":{\"callback\":null,\"column_names\":[\"inners\",\"color\",\"values\",\"centers\",\"lineItem/UsageType\",\"outers\",\"level\",\"start\",\"end\"],\"data\":{\"centers\":[1.125,1.125,1.125,1.125],\"color\":[\"#f22c40\",\"#5ab738\",\"#407ee7\",\"#df5320\"],\"end\":[3.945524712479784,4.006557461535223,5.8881313850886325,6.283185307179586],\"inners\":[0.0,0.0,0.0,0.0],\"level\":[0.0,0.0,0.0,0.0],\"lineItem/UsageType\":[\"Requests-Tier1\",\"Requests-Tier2\",\"TimedStorage-ByteHrs\",\"USE1-USW2-AWS-Out-Bytes\"],\"outers\":[1.5,1.5,1.5,1.5],\"start\":[0.0,3.945524712479784,4.006557461535223,5.8881313850886325],\"values\":[16.781099999999974,0.2595844000000006,8.00270749,1.680242770000001]}},\"id\":\"d8cbb546-4937-41c3-8074-8971518a2d6a\",\"type\":\"ColumnDataSource\"},{\"attributes\":{\"plot\":{\"id\":\"afbe2673-a857-48ef-8371-fc59e17dd726\",\"subtype\":\"Chart\",\"type\":\"Plot\"}},\"id\":\"b000200e-273b-4a0c-9ee3-4cf401988b58\",\"type\":\"SaveTool\"}],\"root_ids\":[\"afbe2673-a857-48ef-8371-fc59e17dd726\"]},\"title\":\"Bokeh Application\",\"version\":\"0.12.4\"}};\n",
       "            var render_items = [{\"docid\":\"a7c884b9-507c-468b-ba98-7fe736da4e99\",\"elementid\":\"0b326d51-c01d-47b3-91f1-6c8297300fcc\",\"modelid\":\"afbe2673-a857-48ef-8371-fc59e17dd726\"}];\n",
       "            \n",
       "            Bokeh.embed.embed_items(docs_json, render_items);\n",
       "          };\n",
       "          if (document.readyState != \"loading\") fn();\n",
       "          else document.addEventListener(\"DOMContentLoaded\", fn);\n",
       "        })();\n",
       "      },\n",
       "      function(Bokeh) {\n",
       "      }\n",
       "    ];\n",
       "  \n",
       "    function run_inline_js() {\n",
       "      \n",
       "      if ((window.Bokeh !== undefined) || (force === true)) {\n",
       "        for (var i = 0; i < inline_js.length; i++) {\n",
       "          inline_js[i](window.Bokeh);\n",
       "        }if (force === true) {\n",
       "          display_loaded();\n",
       "        }} else if (Date.now() < window._bokeh_timeout) {\n",
       "        setTimeout(run_inline_js, 100);\n",
       "      } else if (!window._bokeh_failed_load) {\n",
       "        console.log(\"Bokeh: BokehJS failed to load within specified timeout.\");\n",
       "        window._bokeh_failed_load = true;\n",
       "      } else if (force !== true) {\n",
       "        var cell = $(document.getElementById(\"0b326d51-c01d-47b3-91f1-6c8297300fcc\")).parents('.cell').data().cell;\n",
       "        cell.output_area.append_execute_result(NB_LOAD_WARNING)\n",
       "      }\n",
       "  \n",
       "    }\n",
       "  \n",
       "    if (window._bokeh_is_loading === 0) {\n",
       "      console.log(\"Bokeh: BokehJS loaded, going straight to plotting\");\n",
       "      run_inline_js();\n",
       "    } else {\n",
       "      load_libs(js_urls, function() {\n",
       "        console.log(\"Bokeh: BokehJS plotting callback run at\", now());\n",
       "        run_inline_js();\n",
       "      });\n",
       "    }\n",
       "  }(this));\n",
       "</script>"
      ]
     },
     "metadata": {},
     "output_type": "display_data"
    }
   ],
   "source": [
    "f = Donut(x.iloc[x.nonzero()], title='AWS S3 Cost Breakdown',\n",
    "          plot_height=600, plot_width=600)\n",
    "show(f)"
   ]
  },
  {
   "cell_type": "markdown",
   "metadata": {},
   "source": [
    "How many unique operations for each of the AmazonS3 product types?"
   ]
  },
  {
   "cell_type": "code",
   "execution_count": 30,
   "metadata": {
    "collapsed": false
   },
   "outputs": [
    {
     "data": {
      "text/plain": [
       "lineItem/UsageType\n",
       "DataTransfer-In-Bytes                                            [PutObject]\n",
       "DataTransfer-Out-Bytes     [GetObject, ListBucket, ReadVersioningProps, R...\n",
       "Requests-Tier1             [ListBucketVersions, PutObject, ListBucket, Li...\n",
       "Requests-Tier2             [HeadBucket, GetObject, ReadACL, HeadObject, R...\n",
       "TimedStorage-ByteHrs                                       [StandardStorage]\n",
       "USE1-USW2-AWS-Out-Bytes          [ListBucketVersions, HeadBucket, GetObject]\n",
       "Name: lineItem/Operation, dtype: object"
      ]
     },
     "execution_count": 30,
     "metadata": {},
     "output_type": "execute_result"
    }
   ],
   "source": [
    "grp['lineItem/Operation'].unique()"
   ]
  },
  {
   "cell_type": "markdown",
   "metadata": {},
   "source": [
    "How many unique product SKUs for each of the AmazonS3 product types?"
   ]
  },
  {
   "cell_type": "code",
   "execution_count": 31,
   "metadata": {
    "collapsed": false
   },
   "outputs": [
    {
     "data": {
      "text/plain": [
       "lineItem/UsageType\n",
       "DataTransfer-In-Bytes      [9MG5B7V4UUU2WPAV]\n",
       "DataTransfer-Out-Bytes     [HQEH3ZWJVT46JHRG]\n",
       "Requests-Tier1             [E9YHNFENF4XQBZR6]\n",
       "Requests-Tier2             [ZWQ6Q48CRJXX4FXE]\n",
       "TimedStorage-ByteHrs       [WP9ANXZGBYYSGJEA]\n",
       "USE1-USW2-AWS-Out-Bytes    [XGXYRYWGNXSSEUVT]\n",
       "Name: product/sku, dtype: object"
      ]
     },
     "execution_count": 31,
     "metadata": {},
     "output_type": "execute_result"
    }
   ],
   "source": [
    "skus = grp['product/sku'].unique()\n",
    "skus"
   ]
  },
  {
   "cell_type": "markdown",
   "metadata": {},
   "source": [
    "Display description for all of these SKUs and their pricing tiers:"
   ]
  },
  {
   "cell_type": "code",
   "execution_count": 32,
   "metadata": {
    "collapsed": true
   },
   "outputs": [],
   "source": [
    "s3o = oi.offer('AmazonS3')"
   ]
  },
  {
   "cell_type": "code",
   "execution_count": 33,
   "metadata": {
    "collapsed": false
   },
   "outputs": [
    {
     "name": "stdout",
     "output_type": "stream",
     "text": [
      "Usage Type: DataTransfer-In-Bytes\n",
      "  SKU: 9MG5B7V4UUU2WPAV\n",
      "     $0.000 per GB - data transfer in per month\n",
      "\n",
      "\n",
      "Usage Type: DataTransfer-Out-Bytes\n",
      "  SKU: HQEH3ZWJVT46JHRG\n",
      "     $0.050 per GB - greater than 150 TB / month data transfer out\n",
      "     $0.085 per GB - next 40 TB / month data transfer out\n",
      "     $0.090 per GB - first 10 TB / month data transfer out beyond the global free tier\n",
      "     $0.000 per GB - first 1 GB of data transferred out per month\n",
      "     $0.070 per GB - next 100 TB / month data transfer out\n",
      "\n",
      "\n",
      "Usage Type: Requests-Tier1\n",
      "  SKU: E9YHNFENF4XQBZR6\n",
      "     $0.005 per 1,000 PUT, COPY, POST, or LIST requests\n",
      "\n",
      "\n",
      "Usage Type: Requests-Tier2\n",
      "  SKU: ZWQ6Q48CRJXX4FXE\n",
      "     $0.004 per 10,000 GET and all other requests\n",
      "\n",
      "\n",
      "Usage Type: TimedStorage-ByteHrs\n",
      "  SKU: WP9ANXZGBYYSGJEA\n",
      "     $0.021 per GB - storage used / month over 500 TB\n",
      "     $0.022 per GB - next 450 TB / month of storage used\n",
      "     $0.023 per GB - first 50 TB / month of storage used\n",
      "\n",
      "\n",
      "Usage Type: USE1-USW2-AWS-Out-Bytes\n",
      "  SKU: XGXYRYWGNXSSEUVT\n",
      "     $0.02 per GB - US East (Northern Virginia) data transfer to US West (Oregon)\n",
      "\n",
      "\n"
     ]
    }
   ],
   "source": [
    "for ut, sku_list in skus.iteritems():\n",
    "    print('Usage Type:', ut)\n",
    "    for sku in sku_list:\n",
    "        print('  SKU:', sku)\n",
    "        prod = s3o.product(sku)\n",
    "        if len(prod.pricing) > 1:\n",
    "            raise ValueError('{}: More than one product pricing info')\n",
    "        tiers = prod.pricing[0].tiers\n",
    "        for t in tiers:\n",
    "            print('    ', t.description)\n",
    "        print('\\n')"
   ]
  },
  {
   "cell_type": "markdown",
   "metadata": {},
   "source": [
    "## Sandbox\n",
    "\n",
    "Toying with various ideas below... Eventually, this stuff may be pulled somewhere up."
   ]
  },
  {
   "cell_type": "code",
   "execution_count": 41,
   "metadata": {
    "collapsed": false
   },
   "outputs": [
    {
     "data": {
      "text/html": [
       "\n",
       "\n",
       "    <div class=\"bk-root\">\n",
       "        <div class=\"bk-plotdiv\" id=\"28e64e2a-b703-438e-ba1c-3980646c40f5\"></div>\n",
       "    </div>\n",
       "<script type=\"text/javascript\">\n",
       "  \n",
       "  (function(global) {\n",
       "    function now() {\n",
       "      return new Date();\n",
       "    }\n",
       "  \n",
       "    var force = false;\n",
       "  \n",
       "    if (typeof (window._bokeh_onload_callbacks) === \"undefined\" || force === true) {\n",
       "      window._bokeh_onload_callbacks = [];\n",
       "      window._bokeh_is_loading = undefined;\n",
       "    }\n",
       "  \n",
       "  \n",
       "    \n",
       "    if (typeof (window._bokeh_timeout) === \"undefined\" || force === true) {\n",
       "      window._bokeh_timeout = Date.now() + 0;\n",
       "      window._bokeh_failed_load = false;\n",
       "    }\n",
       "  \n",
       "    var NB_LOAD_WARNING = {'data': {'text/html':\n",
       "       \"<div style='background-color: #fdd'>\\n\"+\n",
       "       \"<p>\\n\"+\n",
       "       \"BokehJS does not appear to have successfully loaded. If loading BokehJS from CDN, this \\n\"+\n",
       "       \"may be due to a slow or bad network connection. Possible fixes:\\n\"+\n",
       "       \"</p>\\n\"+\n",
       "       \"<ul>\\n\"+\n",
       "       \"<li>re-rerun `output_notebook()` to attempt to load from CDN again, or</li>\\n\"+\n",
       "       \"<li>use INLINE resources instead, as so:</li>\\n\"+\n",
       "       \"</ul>\\n\"+\n",
       "       \"<code>\\n\"+\n",
       "       \"from bokeh.resources import INLINE\\n\"+\n",
       "       \"output_notebook(resources=INLINE)\\n\"+\n",
       "       \"</code>\\n\"+\n",
       "       \"</div>\"}};\n",
       "  \n",
       "    function display_loaded() {\n",
       "      if (window.Bokeh !== undefined) {\n",
       "        document.getElementById(\"28e64e2a-b703-438e-ba1c-3980646c40f5\").textContent = \"BokehJS successfully loaded.\";\n",
       "      } else if (Date.now() < window._bokeh_timeout) {\n",
       "        setTimeout(display_loaded, 100)\n",
       "      }\n",
       "    }\n",
       "  \n",
       "    function run_callbacks() {\n",
       "      window._bokeh_onload_callbacks.forEach(function(callback) { callback() });\n",
       "      delete window._bokeh_onload_callbacks\n",
       "      console.info(\"Bokeh: all callbacks have finished\");\n",
       "    }\n",
       "  \n",
       "    function load_libs(js_urls, callback) {\n",
       "      window._bokeh_onload_callbacks.push(callback);\n",
       "      if (window._bokeh_is_loading > 0) {\n",
       "        console.log(\"Bokeh: BokehJS is being loaded, scheduling callback at\", now());\n",
       "        return null;\n",
       "      }\n",
       "      if (js_urls == null || js_urls.length === 0) {\n",
       "        run_callbacks();\n",
       "        return null;\n",
       "      }\n",
       "      console.log(\"Bokeh: BokehJS not loaded, scheduling load and callback at\", now());\n",
       "      window._bokeh_is_loading = js_urls.length;\n",
       "      for (var i = 0; i < js_urls.length; i++) {\n",
       "        var url = js_urls[i];\n",
       "        var s = document.createElement('script');\n",
       "        s.src = url;\n",
       "        s.async = false;\n",
       "        s.onreadystatechange = s.onload = function() {\n",
       "          window._bokeh_is_loading--;\n",
       "          if (window._bokeh_is_loading === 0) {\n",
       "            console.log(\"Bokeh: all BokehJS libraries loaded\");\n",
       "            run_callbacks()\n",
       "          }\n",
       "        };\n",
       "        s.onerror = function() {\n",
       "          console.warn(\"failed to load library \" + url);\n",
       "        };\n",
       "        console.log(\"Bokeh: injecting script tag for BokehJS library: \", url);\n",
       "        document.getElementsByTagName(\"head\")[0].appendChild(s);\n",
       "      }\n",
       "    };var element = document.getElementById(\"28e64e2a-b703-438e-ba1c-3980646c40f5\");\n",
       "    if (element == null) {\n",
       "      console.log(\"Bokeh: ERROR: autoload.js configured with elementid '28e64e2a-b703-438e-ba1c-3980646c40f5' but no matching script tag was found. \")\n",
       "      return false;\n",
       "    }\n",
       "  \n",
       "    var js_urls = [];\n",
       "  \n",
       "    var inline_js = [\n",
       "      function(Bokeh) {\n",
       "        (function() {\n",
       "          var fn = function() {\n",
       "            var docs_json = {\"4e22fb03-612e-4081-89de-8ed69bb293b7\":{\"roots\":{\"references\":[{\"attributes\":{\"days\":[1,2,3,4,5,6,7,8,9,10,11,12,13,14,15,16,17,18,19,20,21,22,23,24,25,26,27,28,29,30,31]},\"id\":\"45dcf712-6f9d-4edb-a6fd-5d96b40471ce\",\"type\":\"DaysTicker\"},{\"attributes\":{\"base\":60,\"mantissas\":[1,2,5,10,15,20,30],\"max_interval\":1800000.0,\"min_interval\":1000.0,\"num_minor_ticks\":0},\"id\":\"ef87a45f-1ddc-4844-89ca-0fb561181b0f\",\"type\":\"AdaptiveTicker\"},{\"attributes\":{},\"id\":\"c0b771e1-ec2c-43df-a3b0-35f643a9d2c2\",\"type\":\"DatetimeTicker\"},{\"attributes\":{\"plot\":{\"id\":\"7a69669f-8b8c-4781-9f06-0585f274fb75\",\"subtype\":\"Chart\",\"type\":\"Plot\"}},\"id\":\"c2ab672e-ca27-47e4-89ca-cb997dc792ac\",\"type\":\"SaveTool\"},{\"attributes\":{\"dimension\":1,\"plot\":{\"id\":\"7a69669f-8b8c-4781-9f06-0585f274fb75\",\"subtype\":\"Chart\",\"type\":\"Plot\"},\"ticker\":{\"id\":\"3b86ee4a-bd7c-4abe-bdfe-769d799affd2\",\"type\":\"BasicTicker\"}},\"id\":\"04597001-c1dd-43f7-8569-603f41e1943b\",\"type\":\"Grid\"},{\"attributes\":{\"days\":[1,4,7,10,13,16,19,22,25,28]},\"id\":\"67e7cf5c-5b65-4aa6-a98c-290d86536df3\",\"type\":\"DaysTicker\"},{\"attributes\":{\"days\":[1,15]},\"id\":\"40116973-b4b5-48e2-bf65-9caced68404c\",\"type\":\"DaysTicker\"},{\"attributes\":{\"axis_label\":\"lineItem/UsageAmount\",\"formatter\":{\"id\":\"e650af24-8bf4-4cc7-83f8-95a14d957d10\",\"type\":\"BasicTickFormatter\"},\"plot\":{\"id\":\"7a69669f-8b8c-4781-9f06-0585f274fb75\",\"subtype\":\"Chart\",\"type\":\"Plot\"},\"ticker\":{\"id\":\"3b86ee4a-bd7c-4abe-bdfe-769d799affd2\",\"type\":\"BasicTicker\"}},\"id\":\"85c147b1-50d9-4cea-aaf6-140cbae48442\",\"type\":\"LinearAxis\"},{\"attributes\":{\"bottom_units\":\"screen\",\"fill_alpha\":{\"value\":0.5},\"fill_color\":{\"value\":\"lightgrey\"},\"left_units\":\"screen\",\"level\":\"overlay\",\"line_alpha\":{\"value\":1.0},\"line_color\":{\"value\":\"black\"},\"line_dash\":[4,4],\"line_width\":{\"value\":2},\"plot\":null,\"render_mode\":\"css\",\"right_units\":\"screen\",\"top_units\":\"screen\"},\"id\":\"043d2586-5c8b-44f7-a61a-443bd26daaee\",\"type\":\"BoxAnnotation\"},{\"attributes\":{\"plot\":{\"id\":\"7a69669f-8b8c-4781-9f06-0585f274fb75\",\"subtype\":\"Chart\",\"type\":\"Plot\"}},\"id\":\"032358b7-4999-4bff-b869-8072a1d8f30d\",\"type\":\"WheelZoomTool\"},{\"attributes\":{\"plot\":{\"id\":\"7a69669f-8b8c-4781-9f06-0585f274fb75\",\"subtype\":\"Chart\",\"type\":\"Plot\"}},\"id\":\"47db2f56-5639-43e5-b960-841b28a50999\",\"type\":\"HelpTool\"},{\"attributes\":{},\"id\":\"e650af24-8bf4-4cc7-83f8-95a14d957d10\",\"type\":\"BasicTickFormatter\"},{\"attributes\":{\"callback\":null,\"column_names\":[\"y_values\",\"x_values\"],\"data\":{\"chart_index\":[\"None\",\"None\",\"None\",\"None\",\"None\",\"None\",\"None\",\"None\",\"None\",\"None\",\"None\",\"None\",\"None\",\"None\",\"None\",\"None\",\"None\",\"None\",\"None\",\"None\",\"None\",\"None\",\"None\",\"None\",\"None\",\"None\",\"None\",\"None\",\"None\",\"None\",\"None\",\"None\",\"None\",\"None\",\"None\",\"None\",\"None\",\"None\",\"None\",\"None\",\"None\",\"None\",\"None\",\"None\",\"None\",\"None\",\"None\",\"None\",\"None\",\"None\",\"None\",\"None\",\"None\",\"None\",\"None\",\"None\",\"None\",\"None\",\"None\",\"None\",\"None\",\"None\",\"None\"],\"x_values\":{\"__ndarray__\":\"AABQi5eVdUIAAFCLl5V1QgAAUIuXlXVCAAAoguaVdUIAACiC5pV1QgAA6Oc4lnVCAADo5ziWdUIAAJC8jpZ1QgAAkLyOlnVCAABos92WdUIAAGiz3ZZ1QgAAKBkwl3VCAAAoGTCXdUIAANDthZd1QgAA0O2Fl3VCAACQU9iXdUIAAJBT2Jd1QgAAULkqmHVCAABQuSqYdUIAABAffZh1QgAAEB99mHVCAADQhM+YdUIAANCEz5h1QgAAkOohmXVCAACQ6iGZdUIAAFBQdJl1QgAAUFB0mXVCAAAQtsaZdUIAABC2xpl1QgAA0BsZmnVCAADQGxmadUIAAJCBa5p1QgAAkIFrmnVCAABQ572adUIAAFDnvZp1QgAAEE0Qm3VCAAAQTRCbdUIAANCyYpt1QgAA0LJim3VCAACQGLWbdUIAAJAYtZt1QgAAaA8EnHVCAABoDwScdUIAAPhSXZx1QgAA+FJdnHVCAADQSaycdUIAANBJrJx1QgAAYI0FnXVCAABgjQWddUIAAFAVUZ11QgAAUBVRnXVCAAAQe6OddUIAABB7o511QgAA0OD1nXVCAADQ4PWddUIAAKjXRJ51QgAAqNdEnnVCAABQrJqedUIAAFCsmp51QgAAKKPpnnVCAAAoo+medUIAANB3P591QgAA0Hc/n3VC\",\"dtype\":\"float64\",\"shape\":[63]},\"y_values\":{\"__ndarray__\":\"AAAAAAAAFEAAAAAAAAAUQKV+g5sxrRdApX6DmzGtF0C/oSqFxNYlQL+hKoXE1iVAQRhwffXWJUBBGHB99dYlQC2V2DGF1SVALZXYMYXVJUD7zWFKZtMlQPvNYUpm0yVAeoXLS3rTJUB6hctLetMlQGE//rGU0yVAYT/+sZTTJUC1iyeKqdMlQLWLJ4qp0yVAFN5QvsHTJUAU3lC+wdMlQBZp4h3g0yVAFmniHeDTJUBFn24k+dMlQEWfbiT50yVAiXFpwhfUJUCJcWnCF9QlQPaC7Eg31CVA9oLsSDfUJUBiALjEV9QlQGIAuMRX1CVAEh1dAHXUJUASHV0AddQlQNLIhOuT1CVA0siE65PUJUCXgZi+ttQlQJeBmL621CVAgFGbm+PUJUCAUZub49QlQMOHTNgC1SVAw4dM2ALVJUB5mqP5KdUlQHmao/kp1SVA0tFgCVrVJUDS0WAJWtUlQF3ws9t41SVAXfCz23jVJUBpoY3xm9UlQGmhjfGb1SVAFhVQLODVJUAWFVAs4NUlQM1SePH61SVAzVJ48frVJUCPqJL5LtYlQI+okvku1iVAV32NqHkqKEBXfY2oeSooQOwbNbJtKytA7Bs1sm0rK0DOx7WhYiQsQM7HtaFiJCxAaU4Dq48cLUBpTgOrjxwtQF4TTuLerC1A\",\"dtype\":\"float64\",\"shape\":[63]}}},\"id\":\"4be3ad47-bca7-4c8a-afb8-916b9f9b92cd\",\"type\":\"ColumnDataSource\"},{\"attributes\":{\"active_drag\":\"auto\",\"active_scroll\":\"auto\",\"active_tap\":\"auto\",\"tools\":[{\"id\":\"8f97c102-0156-425e-865e-313975749e28\",\"type\":\"PanTool\"},{\"id\":\"032358b7-4999-4bff-b869-8072a1d8f30d\",\"type\":\"WheelZoomTool\"},{\"id\":\"823be61e-f6f3-415b-bfd3-8589a92243f3\",\"type\":\"BoxZoomTool\"},{\"id\":\"c2ab672e-ca27-47e4-89ca-cb997dc792ac\",\"type\":\"SaveTool\"},{\"id\":\"c90d1782-bda3-4a65-9e09-35761c8647db\",\"type\":\"ResetTool\"},{\"id\":\"47db2f56-5639-43e5-b960-841b28a50999\",\"type\":\"HelpTool\"}]},\"id\":\"8221f7a7-890c-43bb-b681-ab2238158103\",\"type\":\"Toolbar\"},{\"attributes\":{\"months\":[0,6]},\"id\":\"ef7a2424-28bf-489d-99ec-a03c007feb37\",\"type\":\"MonthsTicker\"},{\"attributes\":{\"overlay\":{\"id\":\"043d2586-5c8b-44f7-a61a-443bd26daaee\",\"type\":\"BoxAnnotation\"},\"plot\":{\"id\":\"7a69669f-8b8c-4781-9f06-0585f274fb75\",\"subtype\":\"Chart\",\"type\":\"Plot\"}},\"id\":\"823be61e-f6f3-415b-bfd3-8589a92243f3\",\"type\":\"BoxZoomTool\"},{\"attributes\":{\"max_interval\":500.0,\"num_minor_ticks\":0},\"id\":\"cdd80568-3a16-4220-877f-b9b5c6b4d26e\",\"type\":\"AdaptiveTicker\"},{\"attributes\":{\"data_source\":{\"id\":\"4be3ad47-bca7-4c8a-afb8-916b9f9b92cd\",\"type\":\"ColumnDataSource\"},\"glyph\":{\"id\":\"b85db4f8-c4d3-4d60-a499-d33fde5deee8\",\"type\":\"Line\"},\"hover_glyph\":null,\"nonselection_glyph\":null,\"selection_glyph\":null},\"id\":\"c0636dc7-c0f3-495f-ae68-d76221e48dae\",\"type\":\"GlyphRenderer\"},{\"attributes\":{\"axis_label\":\"lineItem/UsageStartDate\",\"formatter\":{\"id\":\"297a96de-624f-4e8c-9a27-c0473cbf9ef2\",\"type\":\"DatetimeTickFormatter\"},\"plot\":{\"id\":\"7a69669f-8b8c-4781-9f06-0585f274fb75\",\"subtype\":\"Chart\",\"type\":\"Plot\"},\"ticker\":{\"id\":\"c0b771e1-ec2c-43df-a3b0-35f643a9d2c2\",\"type\":\"DatetimeTicker\"}},\"id\":\"c2159814-bb4a-43cc-b644-dab1b8982523\",\"type\":\"DatetimeAxis\"},{\"attributes\":{\"plot\":{\"id\":\"7a69669f-8b8c-4781-9f06-0585f274fb75\",\"subtype\":\"Chart\",\"type\":\"Plot\"}},\"id\":\"8f97c102-0156-425e-865e-313975749e28\",\"type\":\"PanTool\"},{\"attributes\":{\"months\":[0,2,4,6,8,10]},\"id\":\"f1230718-be80-4d92-9ad7-29a8772d3315\",\"type\":\"MonthsTicker\"},{\"attributes\":{},\"id\":\"cd00e2fc-806d-4ac1-953b-e3f3dcc7b0e2\",\"type\":\"YearsTicker\"},{\"attributes\":{},\"id\":\"3b86ee4a-bd7c-4abe-bdfe-769d799affd2\",\"type\":\"BasicTicker\"},{\"attributes\":{\"months\":[0,1,2,3,4,5,6,7,8,9,10,11]},\"id\":\"9715b5ed-92cd-4c58-b5ec-369719380025\",\"type\":\"MonthsTicker\"},{\"attributes\":{\"plot\":{\"id\":\"7a69669f-8b8c-4781-9f06-0585f274fb75\",\"subtype\":\"Chart\",\"type\":\"Plot\"}},\"id\":\"c90d1782-bda3-4a65-9e09-35761c8647db\",\"type\":\"ResetTool\"},{\"attributes\":{},\"id\":\"da84a5f5-3b9d-4074-8a95-b10374f74341\",\"type\":\"ToolEvents\"},{\"attributes\":{},\"id\":\"297a96de-624f-4e8c-9a27-c0473cbf9ef2\",\"type\":\"DatetimeTickFormatter\"},{\"attributes\":{\"location\":\"top_left\",\"plot\":{\"id\":\"7a69669f-8b8c-4781-9f06-0585f274fb75\",\"subtype\":\"Chart\",\"type\":\"Plot\"}},\"id\":\"a6be09ba-8393-4614-a95d-7f51d84b4501\",\"type\":\"Legend\"},{\"attributes\":{\"callback\":null,\"end\":1485856800000.0,\"start\":1483264800000.0},\"id\":\"dbd2a186-1ab6-439a-a421-bf078c00d310\",\"type\":\"Range1d\"},{\"attributes\":{\"days\":[1,8,15,22]},\"id\":\"ddae805e-ea2b-4bf9-a439-6cf81bd8785c\",\"type\":\"DaysTicker\"},{\"attributes\":{\"plot\":null,\"text\":null},\"id\":\"b283ac18-3e97-4e35-ae52-4fad6f38a328\",\"type\":\"Title\"},{\"attributes\":{\"callback\":null,\"end\":15.821401767,\"start\":4.016236203},\"id\":\"840b8fe7-9d2c-427f-b97a-e65344e32f69\",\"type\":\"Range1d\"},{\"attributes\":{\"below\":[{\"id\":\"c2159814-bb4a-43cc-b644-dab1b8982523\",\"type\":\"DatetimeAxis\"}],\"css_classes\":null,\"left\":[{\"id\":\"85c147b1-50d9-4cea-aaf6-140cbae48442\",\"type\":\"LinearAxis\"}],\"renderers\":[{\"id\":\"043d2586-5c8b-44f7-a61a-443bd26daaee\",\"type\":\"BoxAnnotation\"},{\"id\":\"c0636dc7-c0f3-495f-ae68-d76221e48dae\",\"type\":\"GlyphRenderer\"},{\"id\":\"a6be09ba-8393-4614-a95d-7f51d84b4501\",\"type\":\"Legend\"},{\"id\":\"c2159814-bb4a-43cc-b644-dab1b8982523\",\"type\":\"DatetimeAxis\"},{\"id\":\"85c147b1-50d9-4cea-aaf6-140cbae48442\",\"type\":\"LinearAxis\"},{\"id\":\"dc691977-8ba8-4746-8ca5-38e1f0368a64\",\"type\":\"Grid\"},{\"id\":\"04597001-c1dd-43f7-8569-603f41e1943b\",\"type\":\"Grid\"}],\"title\":{\"id\":\"b283ac18-3e97-4e35-ae52-4fad6f38a328\",\"type\":\"Title\"},\"tool_events\":{\"id\":\"da84a5f5-3b9d-4074-8a95-b10374f74341\",\"type\":\"ToolEvents\"},\"toolbar\":{\"id\":\"8221f7a7-890c-43bb-b681-ab2238158103\",\"type\":\"Toolbar\"},\"x_mapper_type\":\"auto\",\"x_range\":{\"id\":\"dbd2a186-1ab6-439a-a421-bf078c00d310\",\"type\":\"Range1d\"},\"y_mapper_type\":\"auto\",\"y_range\":{\"id\":\"840b8fe7-9d2c-427f-b97a-e65344e32f69\",\"type\":\"Range1d\"}},\"id\":\"7a69669f-8b8c-4781-9f06-0585f274fb75\",\"subtype\":\"Chart\",\"type\":\"Plot\"},{\"attributes\":{\"base\":24,\"mantissas\":[1,2,4,6,8,12],\"max_interval\":43200000.0,\"min_interval\":3600000.0,\"num_minor_ticks\":0},\"id\":\"3e9e1cc1-374f-460c-8a0a-53c33589d8e4\",\"type\":\"AdaptiveTicker\"},{\"attributes\":{\"months\":[0,4,8]},\"id\":\"2c898ed9-4670-479e-9eb5-95fd245c169d\",\"type\":\"MonthsTicker\"},{\"attributes\":{\"line_color\":{\"value\":\"#f22c40\"},\"line_width\":{\"value\":2},\"x\":{\"field\":\"x_values\"},\"y\":{\"field\":\"y_values\"}},\"id\":\"b85db4f8-c4d3-4d60-a499-d33fde5deee8\",\"type\":\"Line\"},{\"attributes\":{\"plot\":{\"id\":\"7a69669f-8b8c-4781-9f06-0585f274fb75\",\"subtype\":\"Chart\",\"type\":\"Plot\"},\"ticker\":{\"id\":\"c0b771e1-ec2c-43df-a3b0-35f643a9d2c2\",\"type\":\"DatetimeTicker\"}},\"id\":\"dc691977-8ba8-4746-8ca5-38e1f0368a64\",\"type\":\"Grid\"}],\"root_ids\":[\"7a69669f-8b8c-4781-9f06-0585f274fb75\"]},\"title\":\"Bokeh Application\",\"version\":\"0.12.4\"}};\n",
       "            var render_items = [{\"docid\":\"4e22fb03-612e-4081-89de-8ed69bb293b7\",\"elementid\":\"28e64e2a-b703-438e-ba1c-3980646c40f5\",\"modelid\":\"7a69669f-8b8c-4781-9f06-0585f274fb75\"}];\n",
       "            \n",
       "            Bokeh.embed.embed_items(docs_json, render_items);\n",
       "          };\n",
       "          if (document.readyState != \"loading\") fn();\n",
       "          else document.addEventListener(\"DOMContentLoaded\", fn);\n",
       "        })();\n",
       "      },\n",
       "      function(Bokeh) {\n",
       "      }\n",
       "    ];\n",
       "  \n",
       "    function run_inline_js() {\n",
       "      \n",
       "      if ((window.Bokeh !== undefined) || (force === true)) {\n",
       "        for (var i = 0; i < inline_js.length; i++) {\n",
       "          inline_js[i](window.Bokeh);\n",
       "        }if (force === true) {\n",
       "          display_loaded();\n",
       "        }} else if (Date.now() < window._bokeh_timeout) {\n",
       "        setTimeout(run_inline_js, 100);\n",
       "      } else if (!window._bokeh_failed_load) {\n",
       "        console.log(\"Bokeh: BokehJS failed to load within specified timeout.\");\n",
       "        window._bokeh_failed_load = true;\n",
       "      } else if (force !== true) {\n",
       "        var cell = $(document.getElementById(\"28e64e2a-b703-438e-ba1c-3980646c40f5\")).parents('.cell').data().cell;\n",
       "        cell.output_area.append_execute_result(NB_LOAD_WARNING)\n",
       "      }\n",
       "  \n",
       "    }\n",
       "  \n",
       "    if (window._bokeh_is_loading === 0) {\n",
       "      console.log(\"Bokeh: BokehJS loaded, going straight to plotting\");\n",
       "      run_inline_js();\n",
       "    } else {\n",
       "      load_libs(js_urls, function() {\n",
       "        console.log(\"Bokeh: BokehJS plotting callback run at\", now());\n",
       "        run_inline_js();\n",
       "      });\n",
       "    }\n",
       "  }(this));\n",
       "</script>"
      ]
     },
     "metadata": {},
     "output_type": "display_data"
    }
   ],
   "source": [
    "f = Step(s3[(s3['lineItem/UsageType'] == 'TimedStorage-ByteHrs') & \n",
    "            (s3['lineItem/Operation'] == 'StandardStorage')],\n",
    "         x='lineItem/UsageStartDate', y='lineItem/UsageAmount', xscale='datetime')\n",
    "show(f)"
   ]
  },
  {
   "cell_type": "code",
   "execution_count": null,
   "metadata": {
    "collapsed": true
   },
   "outputs": [],
   "source": []
  }
 ],
 "metadata": {
  "kernelspec": {
   "display_name": "Python 3",
   "language": "python",
   "name": "python3"
  },
  "language_info": {
   "codemirror_mode": {
    "name": "ipython",
    "version": 3
   },
   "file_extension": ".py",
   "mimetype": "text/x-python",
   "name": "python",
   "nbconvert_exporter": "python",
   "pygments_lexer": "ipython3",
   "version": "3.5.1"
  }
 },
 "nbformat": 4,
 "nbformat_minor": 2
}
