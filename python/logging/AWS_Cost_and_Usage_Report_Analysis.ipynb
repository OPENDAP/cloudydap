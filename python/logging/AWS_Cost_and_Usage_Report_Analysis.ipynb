{
 "cells": [
  {
   "cell_type": "markdown",
   "metadata": {},
   "source": [
    "# AWS Cost and Usage Report Analysis\n",
    "\n",
    "The report type being analyzed here is the Detailed Hourly AWS Cost and Usage Report with Resource IDs and Tags. These reports are downloaded using the [get-aws-cost.py](https://github.com/OPENDAP/cloudydap/blob/master/python/logging/get-aws-cost.py) command-line program developed for this project."
   ]
  },
  {
   "cell_type": "code",
   "execution_count": 1,
   "metadata": {
    "collapsed": false
   },
   "outputs": [
    {
     "data": {
      "text/html": [
       "\n",
       "    <div class=\"bk-root\">\n",
       "        <a href=\"http://bokeh.pydata.org\" target=\"_blank\" class=\"bk-logo bk-logo-small bk-logo-notebook\"></a>\n",
       "        <span id=\"9fe46775-4c29-405d-b4d8-8d5487bebcee\">Loading BokehJS ...</span>\n",
       "    </div>"
      ]
     },
     "metadata": {},
     "output_type": "display_data"
    },
    {
     "data": {
      "application/javascript": [
       "\n",
       "(function(global) {\n",
       "  function now() {\n",
       "    return new Date();\n",
       "  }\n",
       "\n",
       "  var force = true;\n",
       "\n",
       "  if (typeof (window._bokeh_onload_callbacks) === \"undefined\" || force === true) {\n",
       "    window._bokeh_onload_callbacks = [];\n",
       "    window._bokeh_is_loading = undefined;\n",
       "  }\n",
       "\n",
       "\n",
       "  \n",
       "  if (typeof (window._bokeh_timeout) === \"undefined\" || force === true) {\n",
       "    window._bokeh_timeout = Date.now() + 5000;\n",
       "    window._bokeh_failed_load = false;\n",
       "  }\n",
       "\n",
       "  var NB_LOAD_WARNING = {'data': {'text/html':\n",
       "     \"<div style='background-color: #fdd'>\\n\"+\n",
       "     \"<p>\\n\"+\n",
       "     \"BokehJS does not appear to have successfully loaded. If loading BokehJS from CDN, this \\n\"+\n",
       "     \"may be due to a slow or bad network connection. Possible fixes:\\n\"+\n",
       "     \"</p>\\n\"+\n",
       "     \"<ul>\\n\"+\n",
       "     \"<li>re-rerun `output_notebook()` to attempt to load from CDN again, or</li>\\n\"+\n",
       "     \"<li>use INLINE resources instead, as so:</li>\\n\"+\n",
       "     \"</ul>\\n\"+\n",
       "     \"<code>\\n\"+\n",
       "     \"from bokeh.resources import INLINE\\n\"+\n",
       "     \"output_notebook(resources=INLINE)\\n\"+\n",
       "     \"</code>\\n\"+\n",
       "     \"</div>\"}};\n",
       "\n",
       "  function display_loaded() {\n",
       "    if (window.Bokeh !== undefined) {\n",
       "      document.getElementById(\"9fe46775-4c29-405d-b4d8-8d5487bebcee\").textContent = \"BokehJS successfully loaded.\";\n",
       "    } else if (Date.now() < window._bokeh_timeout) {\n",
       "      setTimeout(display_loaded, 100)\n",
       "    }\n",
       "  }\n",
       "\n",
       "  function run_callbacks() {\n",
       "    window._bokeh_onload_callbacks.forEach(function(callback) { callback() });\n",
       "    delete window._bokeh_onload_callbacks\n",
       "    console.info(\"Bokeh: all callbacks have finished\");\n",
       "  }\n",
       "\n",
       "  function load_libs(js_urls, callback) {\n",
       "    window._bokeh_onload_callbacks.push(callback);\n",
       "    if (window._bokeh_is_loading > 0) {\n",
       "      console.log(\"Bokeh: BokehJS is being loaded, scheduling callback at\", now());\n",
       "      return null;\n",
       "    }\n",
       "    if (js_urls == null || js_urls.length === 0) {\n",
       "      run_callbacks();\n",
       "      return null;\n",
       "    }\n",
       "    console.log(\"Bokeh: BokehJS not loaded, scheduling load and callback at\", now());\n",
       "    window._bokeh_is_loading = js_urls.length;\n",
       "    for (var i = 0; i < js_urls.length; i++) {\n",
       "      var url = js_urls[i];\n",
       "      var s = document.createElement('script');\n",
       "      s.src = url;\n",
       "      s.async = false;\n",
       "      s.onreadystatechange = s.onload = function() {\n",
       "        window._bokeh_is_loading--;\n",
       "        if (window._bokeh_is_loading === 0) {\n",
       "          console.log(\"Bokeh: all BokehJS libraries loaded\");\n",
       "          run_callbacks()\n",
       "        }\n",
       "      };\n",
       "      s.onerror = function() {\n",
       "        console.warn(\"failed to load library \" + url);\n",
       "      };\n",
       "      console.log(\"Bokeh: injecting script tag for BokehJS library: \", url);\n",
       "      document.getElementsByTagName(\"head\")[0].appendChild(s);\n",
       "    }\n",
       "  };var element = document.getElementById(\"9fe46775-4c29-405d-b4d8-8d5487bebcee\");\n",
       "  if (element == null) {\n",
       "    console.log(\"Bokeh: ERROR: autoload.js configured with elementid '9fe46775-4c29-405d-b4d8-8d5487bebcee' but no matching script tag was found. \")\n",
       "    return false;\n",
       "  }\n",
       "\n",
       "  var js_urls = [\"https://cdn.pydata.org/bokeh/release/bokeh-0.12.4.min.js\", \"https://cdn.pydata.org/bokeh/release/bokeh-widgets-0.12.4.min.js\"];\n",
       "\n",
       "  var inline_js = [\n",
       "    function(Bokeh) {\n",
       "      Bokeh.set_log_level(\"info\");\n",
       "    },\n",
       "    \n",
       "    function(Bokeh) {\n",
       "      \n",
       "      document.getElementById(\"9fe46775-4c29-405d-b4d8-8d5487bebcee\").textContent = \"BokehJS is loading...\";\n",
       "    },\n",
       "    function(Bokeh) {\n",
       "      console.log(\"Bokeh: injecting CSS: https://cdn.pydata.org/bokeh/release/bokeh-0.12.4.min.css\");\n",
       "      Bokeh.embed.inject_css(\"https://cdn.pydata.org/bokeh/release/bokeh-0.12.4.min.css\");\n",
       "      console.log(\"Bokeh: injecting CSS: https://cdn.pydata.org/bokeh/release/bokeh-widgets-0.12.4.min.css\");\n",
       "      Bokeh.embed.inject_css(\"https://cdn.pydata.org/bokeh/release/bokeh-widgets-0.12.4.min.css\");\n",
       "    }\n",
       "  ];\n",
       "\n",
       "  function run_inline_js() {\n",
       "    \n",
       "    if ((window.Bokeh !== undefined) || (force === true)) {\n",
       "      for (var i = 0; i < inline_js.length; i++) {\n",
       "        inline_js[i](window.Bokeh);\n",
       "      }if (force === true) {\n",
       "        display_loaded();\n",
       "      }} else if (Date.now() < window._bokeh_timeout) {\n",
       "      setTimeout(run_inline_js, 100);\n",
       "    } else if (!window._bokeh_failed_load) {\n",
       "      console.log(\"Bokeh: BokehJS failed to load within specified timeout.\");\n",
       "      window._bokeh_failed_load = true;\n",
       "    } else if (force !== true) {\n",
       "      var cell = $(document.getElementById(\"9fe46775-4c29-405d-b4d8-8d5487bebcee\")).parents('.cell').data().cell;\n",
       "      cell.output_area.append_execute_result(NB_LOAD_WARNING)\n",
       "    }\n",
       "\n",
       "  }\n",
       "\n",
       "  if (window._bokeh_is_loading === 0) {\n",
       "    console.log(\"Bokeh: BokehJS loaded, going straight to plotting\");\n",
       "    run_inline_js();\n",
       "  } else {\n",
       "    load_libs(js_urls, function() {\n",
       "      console.log(\"Bokeh: BokehJS plotting callback run at\", now());\n",
       "      run_inline_js();\n",
       "    });\n",
       "  }\n",
       "}(this));"
      ]
     },
     "metadata": {},
     "output_type": "display_data"
    }
   ],
   "source": [
    "import numpy as np\n",
    "import pandas as pd\n",
    "from aws_price_list import AWSOffersIndex\n",
    "from bokeh.charts import (output_notebook, output_file, show, \n",
    "                          Scatter, Histogram, TimeSeries, Donut, Step)\n",
    "from bokeh.plotting import figure, ColumnDataSource\n",
    "from bokeh.models import Range1d, HoverTool, ResizeTool\n",
    "\n",
    "\n",
    "output_notebook()"
   ]
  },
  {
   "cell_type": "markdown",
   "metadata": {},
   "source": [
    "## Report to Analyze"
   ]
  },
  {
   "cell_type": "code",
   "execution_count": 2,
   "metadata": {
    "collapsed": false
   },
   "outputs": [],
   "source": [
    "r = pd.read_csv('../../../Arch1-20170201-20170301-1.csv')"
   ]
  },
  {
   "cell_type": "markdown",
   "metadata": {},
   "source": [
    "What do we have?"
   ]
  },
  {
   "cell_type": "code",
   "execution_count": 3,
   "metadata": {
    "collapsed": false
   },
   "outputs": [
    {
     "name": "stdout",
     "output_type": "stream",
     "text": [
      "<class 'pandas.core.frame.DataFrame'>\n",
      "RangeIndex: 15456 entries, 0 to 15455\n",
      "Data columns (total 73 columns):\n",
      "identity/LineItemId                    15456 non-null object\n",
      "identity/TimeInterval                  15456 non-null object\n",
      "bill/InvoiceId                         15456 non-null int64\n",
      "bill/BillingEntity                     15456 non-null object\n",
      "bill/BillType                          15456 non-null object\n",
      "bill/PayerAccountId                    15456 non-null int64\n",
      "bill/BillingPeriodStartDate            15456 non-null object\n",
      "bill/BillingPeriodEndDate              15456 non-null object\n",
      "lineItem/UsageAccountId                15456 non-null int64\n",
      "lineItem/LineItemType                  15456 non-null object\n",
      "lineItem/UsageStartDate                15456 non-null object\n",
      "lineItem/UsageEndDate                  15456 non-null object\n",
      "lineItem/ProductCode                   15456 non-null object\n",
      "lineItem/UsageType                     15456 non-null object\n",
      "lineItem/Operation                     15456 non-null object\n",
      "lineItem/AvailabilityZone              4280 non-null object\n",
      "lineItem/ResourceId                    15425 non-null object\n",
      "lineItem/UsageAmount                   15456 non-null float64\n",
      "lineItem/CurrencyCode                  15456 non-null object\n",
      "lineItem/UnblendedRate                 15456 non-null float64\n",
      "lineItem/UnblendedCost                 15456 non-null float64\n",
      "lineItem/BlendedRate                   15456 non-null float64\n",
      "lineItem/BlendedCost                   15456 non-null float64\n",
      "lineItem/LineItemDescription           15456 non-null object\n",
      "lineItem/TaxType                       0 non-null float64\n",
      "product/ProductName                    15456 non-null object\n",
      "product/availability                   29 non-null object\n",
      "product/clockSpeed                     4280 non-null object\n",
      "product/currentGeneration              4280 non-null object\n",
      "product/dedicatedEbsThroughput         4280 non-null object\n",
      "product/durability                     29 non-null object\n",
      "product/ebsOptimized                   2140 non-null object\n",
      "product/enhancedNetworkingSupported    4280 non-null object\n",
      "product/fromLocation                   6598 non-null object\n",
      "product/fromLocationType               6598 non-null object\n",
      "product/group                          2283 non-null object\n",
      "product/groupDescription               2283 non-null object\n",
      "product/instanceFamily                 4280 non-null object\n",
      "product/instanceType                   4280 non-null object\n",
      "product/licenseModel                   2140 non-null object\n",
      "product/location                       8858 non-null object\n",
      "product/locationType                   8858 non-null object\n",
      "product/maxIopsBurstPerformance        2237 non-null object\n",
      "product/maxIopsvolume                  2237 non-null float64\n",
      "product/maxThroughputvolume            2237 non-null object\n",
      "product/maxVolumeSize                  2237 non-null object\n",
      "product/memory                         4280 non-null object\n",
      "product/networkPerformance             4280 non-null object\n",
      "product/operatingSystem                2140 non-null object\n",
      "product/operation                      4280 non-null object\n",
      "product/physicalProcessor              4280 non-null object\n",
      "product/preInstalledSw                 0 non-null float64\n",
      "product/processorArchitecture          4280 non-null object\n",
      "product/processorFeatures              4280 non-null object\n",
      "product/productFamily                  15456 non-null object\n",
      "product/servicecode                    15456 non-null object\n",
      "product/sku                            15456 non-null object\n",
      "product/storage                        4280 non-null object\n",
      "product/storageClass                   29 non-null object\n",
      "product/storageMedia                   2266 non-null object\n",
      "product/tenancy                        4280 non-null object\n",
      "product/toLocation                     6598 non-null object\n",
      "product/toLocationType                 6598 non-null object\n",
      "product/transferType                   6598 non-null object\n",
      "product/usagetype                      15456 non-null object\n",
      "product/vcpu                           4280 non-null float64\n",
      "product/volumeType                     2266 non-null object\n",
      "pricing/publicOnDemandCost             15456 non-null float64\n",
      "pricing/publicOnDemandRate             15456 non-null float64\n",
      "pricing/term                           12713 non-null object\n",
      "pricing/unit                           12713 non-null object\n",
      "reservation/TotalReservedUnits         0 non-null float64\n",
      "reservation/UnitsPerReservation        0 non-null float64\n",
      "dtypes: float64(13), int64(3), object(57)\n",
      "memory usage: 8.6+ MB\n"
     ]
    }
   ],
   "source": [
    "r.info()"
   ]
  },
  {
   "cell_type": "markdown",
   "metadata": {},
   "source": [
    "Convert two columns to datetime, and sort all entries by time:"
   ]
  },
  {
   "cell_type": "code",
   "execution_count": 4,
   "metadata": {
    "collapsed": false
   },
   "outputs": [],
   "source": [
    "r['lineItem/UsageStartDate'] = pd.to_datetime(r['lineItem/UsageStartDate'])\n",
    "r['lineItem/UsageEndDate'] = pd.to_datetime(r['lineItem/UsageEndDate'])\n",
    "r.sort_values('lineItem/UsageStartDate', inplace=True)"
   ]
  },
  {
   "cell_type": "code",
   "execution_count": 5,
   "metadata": {
    "collapsed": false
   },
   "outputs": [
    {
     "name": "stdout",
     "output_type": "stream",
     "text": [
      "<class 'pandas.core.frame.DataFrame'>\n",
      "Int64Index: 15456 entries, 0 to 15455\n",
      "Data columns (total 73 columns):\n",
      "identity/LineItemId                    15456 non-null object\n",
      "identity/TimeInterval                  15456 non-null object\n",
      "bill/InvoiceId                         15456 non-null int64\n",
      "bill/BillingEntity                     15456 non-null object\n",
      "bill/BillType                          15456 non-null object\n",
      "bill/PayerAccountId                    15456 non-null int64\n",
      "bill/BillingPeriodStartDate            15456 non-null object\n",
      "bill/BillingPeriodEndDate              15456 non-null object\n",
      "lineItem/UsageAccountId                15456 non-null int64\n",
      "lineItem/LineItemType                  15456 non-null object\n",
      "lineItem/UsageStartDate                15456 non-null datetime64[ns]\n",
      "lineItem/UsageEndDate                  15456 non-null datetime64[ns]\n",
      "lineItem/ProductCode                   15456 non-null object\n",
      "lineItem/UsageType                     15456 non-null object\n",
      "lineItem/Operation                     15456 non-null object\n",
      "lineItem/AvailabilityZone              4280 non-null object\n",
      "lineItem/ResourceId                    15425 non-null object\n",
      "lineItem/UsageAmount                   15456 non-null float64\n",
      "lineItem/CurrencyCode                  15456 non-null object\n",
      "lineItem/UnblendedRate                 15456 non-null float64\n",
      "lineItem/UnblendedCost                 15456 non-null float64\n",
      "lineItem/BlendedRate                   15456 non-null float64\n",
      "lineItem/BlendedCost                   15456 non-null float64\n",
      "lineItem/LineItemDescription           15456 non-null object\n",
      "lineItem/TaxType                       0 non-null float64\n",
      "product/ProductName                    15456 non-null object\n",
      "product/availability                   29 non-null object\n",
      "product/clockSpeed                     4280 non-null object\n",
      "product/currentGeneration              4280 non-null object\n",
      "product/dedicatedEbsThroughput         4280 non-null object\n",
      "product/durability                     29 non-null object\n",
      "product/ebsOptimized                   2140 non-null object\n",
      "product/enhancedNetworkingSupported    4280 non-null object\n",
      "product/fromLocation                   6598 non-null object\n",
      "product/fromLocationType               6598 non-null object\n",
      "product/group                          2283 non-null object\n",
      "product/groupDescription               2283 non-null object\n",
      "product/instanceFamily                 4280 non-null object\n",
      "product/instanceType                   4280 non-null object\n",
      "product/licenseModel                   2140 non-null object\n",
      "product/location                       8858 non-null object\n",
      "product/locationType                   8858 non-null object\n",
      "product/maxIopsBurstPerformance        2237 non-null object\n",
      "product/maxIopsvolume                  2237 non-null float64\n",
      "product/maxThroughputvolume            2237 non-null object\n",
      "product/maxVolumeSize                  2237 non-null object\n",
      "product/memory                         4280 non-null object\n",
      "product/networkPerformance             4280 non-null object\n",
      "product/operatingSystem                2140 non-null object\n",
      "product/operation                      4280 non-null object\n",
      "product/physicalProcessor              4280 non-null object\n",
      "product/preInstalledSw                 0 non-null float64\n",
      "product/processorArchitecture          4280 non-null object\n",
      "product/processorFeatures              4280 non-null object\n",
      "product/productFamily                  15456 non-null object\n",
      "product/servicecode                    15456 non-null object\n",
      "product/sku                            15456 non-null object\n",
      "product/storage                        4280 non-null object\n",
      "product/storageClass                   29 non-null object\n",
      "product/storageMedia                   2266 non-null object\n",
      "product/tenancy                        4280 non-null object\n",
      "product/toLocation                     6598 non-null object\n",
      "product/toLocationType                 6598 non-null object\n",
      "product/transferType                   6598 non-null object\n",
      "product/usagetype                      15456 non-null object\n",
      "product/vcpu                           4280 non-null float64\n",
      "product/volumeType                     2266 non-null object\n",
      "pricing/publicOnDemandCost             15456 non-null float64\n",
      "pricing/publicOnDemandRate             15456 non-null float64\n",
      "pricing/term                           12713 non-null object\n",
      "pricing/unit                           12713 non-null object\n",
      "reservation/TotalReservedUnits         0 non-null float64\n",
      "reservation/UnitsPerReservation        0 non-null float64\n",
      "dtypes: datetime64[ns](2), float64(13), int64(3), object(55)\n",
      "memory usage: 8.7+ MB\n"
     ]
    }
   ],
   "source": [
    "r.info()"
   ]
  },
  {
   "cell_type": "markdown",
   "metadata": {},
   "source": [
    "## AWS Price Information"
   ]
  },
  {
   "cell_type": "markdown",
   "metadata": {},
   "source": [
    "### AWS Offer Index"
   ]
  },
  {
   "cell_type": "code",
   "execution_count": 6,
   "metadata": {
    "collapsed": true
   },
   "outputs": [],
   "source": [
    "oi = AWSOffersIndex()"
   ]
  },
  {
   "cell_type": "code",
   "execution_count": 7,
   "metadata": {
    "collapsed": false
   },
   "outputs": [
    {
     "data": {
      "text/plain": [
       "'Thu Mar  2 18:32:21 2017 UTC+00:00'"
      ]
     },
     "execution_count": 7,
     "metadata": {},
     "output_type": "execute_result"
    }
   ],
   "source": [
    "oi.published.strftime('%c %Z')"
   ]
  },
  {
   "cell_type": "code",
   "execution_count": 8,
   "metadata": {
    "collapsed": false
   },
   "outputs": [
    {
     "data": {
      "text/plain": [
       "'Mon Mar  6 01:59:47 2017 UTC+00:00'"
      ]
     },
     "execution_count": 8,
     "metadata": {},
     "output_type": "execute_result"
    }
   ],
   "source": [
    "oi.accessed.strftime('%c %Z')"
   ]
  },
  {
   "cell_type": "markdown",
   "metadata": {},
   "source": [
    "### Amazon EC2"
   ]
  },
  {
   "cell_type": "code",
   "execution_count": 9,
   "metadata": {
    "collapsed": true
   },
   "outputs": [],
   "source": [
    "ec2o = oi.offer('AmazonEC2')"
   ]
  },
  {
   "cell_type": "code",
   "execution_count": 10,
   "metadata": {
    "collapsed": false
   },
   "outputs": [
    {
     "data": {
      "text/plain": [
       "'20170302183221'"
      ]
     },
     "execution_count": 10,
     "metadata": {},
     "output_type": "execute_result"
    }
   ],
   "source": [
    "ec2o.version"
   ]
  },
  {
   "cell_type": "code",
   "execution_count": 11,
   "metadata": {
    "collapsed": false
   },
   "outputs": [
    {
     "data": {
      "text/plain": [
       "'Thu Mar  2 18:32:21 2017 UTC+00:00'"
      ]
     },
     "execution_count": 11,
     "metadata": {},
     "output_type": "execute_result"
    }
   ],
   "source": [
    "ec2o.published.strftime('%c %Z')"
   ]
  },
  {
   "cell_type": "code",
   "execution_count": 12,
   "metadata": {
    "collapsed": false
   },
   "outputs": [
    {
     "data": {
      "text/plain": [
       "'Mon Mar  6 01:59:59 2017 UTC+00:00'"
      ]
     },
     "execution_count": 12,
     "metadata": {},
     "output_type": "execute_result"
    }
   ],
   "source": [
    "ec2o.accessed.strftime('%c %Z')"
   ]
  },
  {
   "cell_type": "markdown",
   "metadata": {},
   "source": [
    "### Amazon S3"
   ]
  },
  {
   "cell_type": "code",
   "execution_count": 13,
   "metadata": {
    "collapsed": true
   },
   "outputs": [],
   "source": [
    "s3o = oi.offer('AmazonS3')"
   ]
  },
  {
   "cell_type": "code",
   "execution_count": 14,
   "metadata": {
    "collapsed": false
   },
   "outputs": [
    {
     "data": {
      "text/plain": [
       "'20170127221642'"
      ]
     },
     "execution_count": 14,
     "metadata": {},
     "output_type": "execute_result"
    }
   ],
   "source": [
    "s3o.version"
   ]
  },
  {
   "cell_type": "code",
   "execution_count": 15,
   "metadata": {
    "collapsed": false
   },
   "outputs": [
    {
     "data": {
      "text/plain": [
       "'Fri Jan 27 22:16:42 2017 UTC+00:00'"
      ]
     },
     "execution_count": 15,
     "metadata": {},
     "output_type": "execute_result"
    }
   ],
   "source": [
    "s3o.published.strftime('%c %Z')"
   ]
  },
  {
   "cell_type": "code",
   "execution_count": 16,
   "metadata": {
    "collapsed": false
   },
   "outputs": [
    {
     "data": {
      "text/plain": [
       "'Mon Mar  6 02:00:00 2017 UTC+00:00'"
      ]
     },
     "execution_count": 16,
     "metadata": {},
     "output_type": "execute_result"
    }
   ],
   "source": [
    "s3o.accessed.strftime('%c %Z')"
   ]
  },
  {
   "cell_type": "markdown",
   "metadata": {},
   "source": [
    "## Analysis"
   ]
  },
  {
   "cell_type": "markdown",
   "metadata": {},
   "source": [
    "Time span of the report's data:"
   ]
  },
  {
   "cell_type": "code",
   "execution_count": 17,
   "metadata": {
    "collapsed": false
   },
   "outputs": [
    {
     "data": {
      "text/plain": [
       "Timestamp('2017-02-01 00:00:00')"
      ]
     },
     "execution_count": 17,
     "metadata": {},
     "output_type": "execute_result"
    }
   ],
   "source": [
    "r['lineItem/UsageStartDate'].min()"
   ]
  },
  {
   "cell_type": "code",
   "execution_count": 18,
   "metadata": {
    "collapsed": false
   },
   "outputs": [
    {
     "data": {
      "text/plain": [
       "Timestamp('2017-03-01 00:00:00')"
      ]
     },
     "execution_count": 18,
     "metadata": {},
     "output_type": "execute_result"
    }
   ],
   "source": [
    "r['lineItem/UsageEndDate'].max()"
   ]
  },
  {
   "cell_type": "markdown",
   "metadata": {},
   "source": [
    "How many different Availability Zones?"
   ]
  },
  {
   "cell_type": "code",
   "execution_count": 19,
   "metadata": {
    "collapsed": false
   },
   "outputs": [
    {
     "data": {
      "text/plain": [
       "array(['us-east-1b'], dtype=object)"
      ]
     },
     "execution_count": 19,
     "metadata": {},
     "output_type": "execute_result"
    }
   ],
   "source": [
    "r['lineItem/AvailabilityZone'].dropna().unique()"
   ]
  },
  {
   "cell_type": "markdown",
   "metadata": {},
   "source": [
    "How many different product codes?"
   ]
  },
  {
   "cell_type": "code",
   "execution_count": 20,
   "metadata": {
    "collapsed": false
   },
   "outputs": [
    {
     "data": {
      "text/plain": [
       "array(['AmazonEC2', 'AmazonS3', 'awskms'], dtype=object)"
      ]
     },
     "execution_count": 20,
     "metadata": {},
     "output_type": "execute_result"
    }
   ],
   "source": [
    "r['lineItem/ProductCode'].unique()"
   ]
  },
  {
   "cell_type": "markdown",
   "metadata": {},
   "source": [
    "How many report entries for each product code?"
   ]
  },
  {
   "cell_type": "code",
   "execution_count": 21,
   "metadata": {
    "collapsed": false
   },
   "outputs": [
    {
     "data": {
      "text/plain": [
       "AmazonEC2    11059\n",
       "AmazonS3      4395\n",
       "awskms           2\n",
       "Name: lineItem/ProductCode, dtype: int64"
      ]
     },
     "execution_count": 21,
     "metadata": {},
     "output_type": "execute_result"
    }
   ],
   "source": [
    "r['lineItem/ProductCode'].value_counts()"
   ]
  },
  {
   "cell_type": "markdown",
   "metadata": {},
   "source": [
    "Cost breakdown per AWS product:"
   ]
  },
  {
   "cell_type": "code",
   "execution_count": 22,
   "metadata": {
    "collapsed": false
   },
   "outputs": [
    {
     "data": {
      "text/plain": [
       "lineItem/ProductCode\n",
       "AmazonEC2    494.695856\n",
       "AmazonS3      12.422409\n",
       "awskms         0.000000\n",
       "Name: lineItem/BlendedCost, dtype: float64"
      ]
     },
     "execution_count": 22,
     "metadata": {},
     "output_type": "execute_result"
    }
   ],
   "source": [
    "grp = r.groupby('lineItem/ProductCode')\n",
    "x = grp['lineItem/BlendedCost'].sum()\n",
    "x"
   ]
  },
  {
   "cell_type": "code",
   "execution_count": 23,
   "metadata": {
    "collapsed": false
   },
   "outputs": [
    {
     "data": {
      "text/html": [
       "\n",
       "\n",
       "    <div class=\"bk-root\">\n",
       "        <div class=\"bk-plotdiv\" id=\"28551815-b7fd-4fc5-a8c6-7f75ce649daa\"></div>\n",
       "    </div>\n",
       "<script type=\"text/javascript\">\n",
       "  \n",
       "  (function(global) {\n",
       "    function now() {\n",
       "      return new Date();\n",
       "    }\n",
       "  \n",
       "    var force = false;\n",
       "  \n",
       "    if (typeof (window._bokeh_onload_callbacks) === \"undefined\" || force === true) {\n",
       "      window._bokeh_onload_callbacks = [];\n",
       "      window._bokeh_is_loading = undefined;\n",
       "    }\n",
       "  \n",
       "  \n",
       "    \n",
       "    if (typeof (window._bokeh_timeout) === \"undefined\" || force === true) {\n",
       "      window._bokeh_timeout = Date.now() + 0;\n",
       "      window._bokeh_failed_load = false;\n",
       "    }\n",
       "  \n",
       "    var NB_LOAD_WARNING = {'data': {'text/html':\n",
       "       \"<div style='background-color: #fdd'>\\n\"+\n",
       "       \"<p>\\n\"+\n",
       "       \"BokehJS does not appear to have successfully loaded. If loading BokehJS from CDN, this \\n\"+\n",
       "       \"may be due to a slow or bad network connection. Possible fixes:\\n\"+\n",
       "       \"</p>\\n\"+\n",
       "       \"<ul>\\n\"+\n",
       "       \"<li>re-rerun `output_notebook()` to attempt to load from CDN again, or</li>\\n\"+\n",
       "       \"<li>use INLINE resources instead, as so:</li>\\n\"+\n",
       "       \"</ul>\\n\"+\n",
       "       \"<code>\\n\"+\n",
       "       \"from bokeh.resources import INLINE\\n\"+\n",
       "       \"output_notebook(resources=INLINE)\\n\"+\n",
       "       \"</code>\\n\"+\n",
       "       \"</div>\"}};\n",
       "  \n",
       "    function display_loaded() {\n",
       "      if (window.Bokeh !== undefined) {\n",
       "        document.getElementById(\"28551815-b7fd-4fc5-a8c6-7f75ce649daa\").textContent = \"BokehJS successfully loaded.\";\n",
       "      } else if (Date.now() < window._bokeh_timeout) {\n",
       "        setTimeout(display_loaded, 100)\n",
       "      }\n",
       "    }\n",
       "  \n",
       "    function run_callbacks() {\n",
       "      window._bokeh_onload_callbacks.forEach(function(callback) { callback() });\n",
       "      delete window._bokeh_onload_callbacks\n",
       "      console.info(\"Bokeh: all callbacks have finished\");\n",
       "    }\n",
       "  \n",
       "    function load_libs(js_urls, callback) {\n",
       "      window._bokeh_onload_callbacks.push(callback);\n",
       "      if (window._bokeh_is_loading > 0) {\n",
       "        console.log(\"Bokeh: BokehJS is being loaded, scheduling callback at\", now());\n",
       "        return null;\n",
       "      }\n",
       "      if (js_urls == null || js_urls.length === 0) {\n",
       "        run_callbacks();\n",
       "        return null;\n",
       "      }\n",
       "      console.log(\"Bokeh: BokehJS not loaded, scheduling load and callback at\", now());\n",
       "      window._bokeh_is_loading = js_urls.length;\n",
       "      for (var i = 0; i < js_urls.length; i++) {\n",
       "        var url = js_urls[i];\n",
       "        var s = document.createElement('script');\n",
       "        s.src = url;\n",
       "        s.async = false;\n",
       "        s.onreadystatechange = s.onload = function() {\n",
       "          window._bokeh_is_loading--;\n",
       "          if (window._bokeh_is_loading === 0) {\n",
       "            console.log(\"Bokeh: all BokehJS libraries loaded\");\n",
       "            run_callbacks()\n",
       "          }\n",
       "        };\n",
       "        s.onerror = function() {\n",
       "          console.warn(\"failed to load library \" + url);\n",
       "        };\n",
       "        console.log(\"Bokeh: injecting script tag for BokehJS library: \", url);\n",
       "        document.getElementsByTagName(\"head\")[0].appendChild(s);\n",
       "      }\n",
       "    };var element = document.getElementById(\"28551815-b7fd-4fc5-a8c6-7f75ce649daa\");\n",
       "    if (element == null) {\n",
       "      console.log(\"Bokeh: ERROR: autoload.js configured with elementid '28551815-b7fd-4fc5-a8c6-7f75ce649daa' but no matching script tag was found. \")\n",
       "      return false;\n",
       "    }\n",
       "  \n",
       "    var js_urls = [];\n",
       "  \n",
       "    var inline_js = [\n",
       "      function(Bokeh) {\n",
       "        (function() {\n",
       "          var fn = function() {\n",
       "            var docs_json = {\"5cb5eec4-a4d5-40c3-8247-82268c042965\":{\"roots\":{\"references\":[{\"attributes\":{},\"id\":\"579c617a-7860-4f00-ab87-8472a511810e\",\"type\":\"BasicTickFormatter\"},{\"attributes\":{\"callback\":null,\"end\":1.6500000000000001,\"start\":-1.6500000000000001},\"id\":\"39b06a93-b4f4-41f2-86d2-1a59d1761f3c\",\"type\":\"Range1d\"},{\"attributes\":{\"bottom_units\":\"screen\",\"fill_alpha\":{\"value\":0.5},\"fill_color\":{\"value\":\"lightgrey\"},\"left_units\":\"screen\",\"level\":\"overlay\",\"line_alpha\":{\"value\":1.0},\"line_color\":{\"value\":\"black\"},\"line_dash\":[4,4],\"line_width\":{\"value\":2},\"plot\":null,\"render_mode\":\"css\",\"right_units\":\"screen\",\"top_units\":\"screen\"},\"id\":\"e8f2d608-7b5c-47e7-bee9-335aa3313b39\",\"type\":\"BoxAnnotation\"},{\"attributes\":{\"overlay\":{\"id\":\"e8f2d608-7b5c-47e7-bee9-335aa3313b39\",\"type\":\"BoxAnnotation\"},\"plot\":{\"id\":\"67df176c-0b91-4336-b7f6-c37846a29c1b\",\"subtype\":\"Chart\",\"type\":\"Plot\"}},\"id\":\"94f5d243-b69c-42f4-8b6b-c0a42bade9ab\",\"type\":\"BoxZoomTool\"},{\"attributes\":{\"plot\":{\"id\":\"67df176c-0b91-4336-b7f6-c37846a29c1b\",\"subtype\":\"Chart\",\"type\":\"Plot\"}},\"id\":\"dba9ac16-c80e-4bcd-b327-d67b13f9e640\",\"type\":\"WheelZoomTool\"},{\"attributes\":{\"callback\":null,\"column_names\":[\"text_angle\",\"y\",\"x\",\"text\"],\"data\":{\"text\":[\"AmazonEC2\",\"AmazonS3\"],\"text_angle\":{\"__ndarray__\":\"AAAAAAAAAAAAAAAAAAAAAA==\",\"dtype\":\"float64\",\"shape\":[2]},\"x\":[-1.121670330989553,1.121670330989553],\"y\":[0.08649085834807388,-0.08649085834807402]}},\"id\":\"025ffb9d-2fb3-4489-aaec-33860374b056\",\"type\":\"ColumnDataSource\"},{\"attributes\":{\"callback\":null,\"end\":1.6500000000000001,\"start\":-1.6500000000000001},\"id\":\"1ec10d72-aaa6-4d69-a777-51404e3074da\",\"type\":\"Range1d\"},{\"attributes\":{},\"id\":\"e42cf271-7a1f-407c-be87-d259f599156c\",\"type\":\"BasicTickFormatter\"},{\"attributes\":{\"angle\":{\"field\":\"text_angle\",\"units\":\"rad\"},\"text_align\":\"center\",\"text_baseline\":\"middle\",\"text_font_size\":{\"value\":\"10pt\"},\"x\":{\"field\":\"x\"},\"y\":{\"field\":\"y\"}},\"id\":\"887b7aa1-d1f5-4dd3-9344-681876508104\",\"type\":\"Text\"},{\"attributes\":{\"axis_label\":null,\"formatter\":{\"id\":\"e42cf271-7a1f-407c-be87-d259f599156c\",\"type\":\"BasicTickFormatter\"},\"plot\":{\"id\":\"67df176c-0b91-4336-b7f6-c37846a29c1b\",\"subtype\":\"Chart\",\"type\":\"Plot\"},\"ticker\":{\"id\":\"41381a74-7191-4bff-be93-d5596238d865\",\"type\":\"BasicTicker\"},\"visible\":false},\"id\":\"0987e7f6-d77a-4235-8043-d07dfeaa2bd9\",\"type\":\"LinearAxis\"},{\"attributes\":{\"plot\":{\"id\":\"67df176c-0b91-4336-b7f6-c37846a29c1b\",\"subtype\":\"Chart\",\"type\":\"Plot\"}},\"id\":\"3a5b9f99-ed43-43d3-95d4-97954587e87d\",\"type\":\"ResetTool\"},{\"attributes\":{\"axis_label\":null,\"formatter\":{\"id\":\"579c617a-7860-4f00-ab87-8472a511810e\",\"type\":\"BasicTickFormatter\"},\"plot\":{\"id\":\"67df176c-0b91-4336-b7f6-c37846a29c1b\",\"subtype\":\"Chart\",\"type\":\"Plot\"},\"ticker\":{\"id\":\"00329974-cb32-4519-98ef-a752c0667f22\",\"type\":\"BasicTicker\"},\"visible\":false},\"id\":\"4478439c-40d3-49fe-b6e2-019359eaa94a\",\"type\":\"LinearAxis\"},{\"attributes\":{\"active_drag\":\"auto\",\"active_scroll\":\"auto\",\"active_tap\":\"auto\",\"tools\":[{\"id\":\"062d4cec-838a-471b-980e-37056526e723\",\"type\":\"PanTool\"},{\"id\":\"dba9ac16-c80e-4bcd-b327-d67b13f9e640\",\"type\":\"WheelZoomTool\"},{\"id\":\"94f5d243-b69c-42f4-8b6b-c0a42bade9ab\",\"type\":\"BoxZoomTool\"},{\"id\":\"b90ab096-c2ab-4760-890a-82396e94de7b\",\"type\":\"SaveTool\"},{\"id\":\"3a5b9f99-ed43-43d3-95d4-97954587e87d\",\"type\":\"ResetTool\"},{\"id\":\"708618ab-caf0-47d4-bb3d-a102ccf878e4\",\"type\":\"HelpTool\"}]},\"id\":\"458ae3b3-8652-4152-bc71-5ab7e704e7e2\",\"type\":\"Toolbar\"},{\"attributes\":{\"data_source\":{\"id\":\"183c4751-c7b6-4d0b-afbd-7eae1a03496a\",\"type\":\"ColumnDataSource\"},\"glyph\":{\"id\":\"835b182e-a8eb-48e2-8169-5eda196c8ceb\",\"type\":\"AnnularWedge\"},\"hover_glyph\":null,\"nonselection_glyph\":null,\"selection_glyph\":null},\"id\":\"d7651983-36a5-46af-be74-6594a532e316\",\"type\":\"GlyphRenderer\"},{\"attributes\":{\"data_source\":{\"id\":\"025ffb9d-2fb3-4489-aaec-33860374b056\",\"type\":\"ColumnDataSource\"},\"glyph\":{\"id\":\"887b7aa1-d1f5-4dd3-9344-681876508104\",\"type\":\"Text\"},\"hover_glyph\":null,\"nonselection_glyph\":null,\"selection_glyph\":null},\"id\":\"aad0f7b3-7133-49c1-ac37-62620c48d3f0\",\"type\":\"GlyphRenderer\"},{\"attributes\":{\"location\":\"top_left\",\"plot\":{\"id\":\"67df176c-0b91-4336-b7f6-c37846a29c1b\",\"subtype\":\"Chart\",\"type\":\"Plot\"}},\"id\":\"90a18174-794a-46ab-a03f-2d353dfe09ea\",\"type\":\"Legend\"},{\"attributes\":{},\"id\":\"00329974-cb32-4519-98ef-a752c0667f22\",\"type\":\"BasicTicker\"},{\"attributes\":{\"below\":[{\"id\":\"0987e7f6-d77a-4235-8043-d07dfeaa2bd9\",\"type\":\"LinearAxis\"}],\"css_classes\":null,\"left\":[{\"id\":\"4478439c-40d3-49fe-b6e2-019359eaa94a\",\"type\":\"LinearAxis\"}],\"plot_height\":400,\"plot_width\":400,\"renderers\":[{\"id\":\"e8f2d608-7b5c-47e7-bee9-335aa3313b39\",\"type\":\"BoxAnnotation\"},{\"id\":\"d7651983-36a5-46af-be74-6594a532e316\",\"type\":\"GlyphRenderer\"},{\"id\":\"aad0f7b3-7133-49c1-ac37-62620c48d3f0\",\"type\":\"GlyphRenderer\"},{\"id\":\"90a18174-794a-46ab-a03f-2d353dfe09ea\",\"type\":\"Legend\"},{\"id\":\"0987e7f6-d77a-4235-8043-d07dfeaa2bd9\",\"type\":\"LinearAxis\"},{\"id\":\"4478439c-40d3-49fe-b6e2-019359eaa94a\",\"type\":\"LinearAxis\"}],\"title\":{\"id\":\"6f937ffe-4a00-4686-9b9f-38cd45597773\",\"type\":\"Title\"},\"tool_events\":{\"id\":\"4405a496-99c5-484b-ae4f-2b70406c4394\",\"type\":\"ToolEvents\"},\"toolbar\":{\"id\":\"458ae3b3-8652-4152-bc71-5ab7e704e7e2\",\"type\":\"Toolbar\"},\"x_mapper_type\":\"auto\",\"x_range\":{\"id\":\"39b06a93-b4f4-41f2-86d2-1a59d1761f3c\",\"type\":\"Range1d\"},\"y_mapper_type\":\"auto\",\"y_range\":{\"id\":\"1ec10d72-aaa6-4d69-a777-51404e3074da\",\"type\":\"Range1d\"}},\"id\":\"67df176c-0b91-4336-b7f6-c37846a29c1b\",\"subtype\":\"Chart\",\"type\":\"Plot\"},{\"attributes\":{\"plot\":{\"id\":\"67df176c-0b91-4336-b7f6-c37846a29c1b\",\"subtype\":\"Chart\",\"type\":\"Plot\"}},\"id\":\"062d4cec-838a-471b-980e-37056526e723\",\"type\":\"PanTool\"},{\"attributes\":{},\"id\":\"4405a496-99c5-484b-ae4f-2b70406c4394\",\"type\":\"ToolEvents\"},{\"attributes\":{\"plot\":{\"id\":\"67df176c-0b91-4336-b7f6-c37846a29c1b\",\"subtype\":\"Chart\",\"type\":\"Plot\"}},\"id\":\"708618ab-caf0-47d4-bb3d-a102ccf878e4\",\"type\":\"HelpTool\"},{\"attributes\":{},\"id\":\"41381a74-7191-4bff-be93-d5596238d865\",\"type\":\"BasicTicker\"},{\"attributes\":{\"plot\":null,\"text\":\"AWS Product Cost Breakdown\"},\"id\":\"6f937ffe-4a00-4686-9b9f-38cd45597773\",\"type\":\"Title\"},{\"attributes\":{\"end_angle\":{\"field\":\"end\",\"units\":\"rad\"},\"fill_alpha\":{\"value\":0.8},\"fill_color\":{\"field\":\"color\"},\"inner_radius\":{\"field\":\"inners\",\"units\":\"data\"},\"line_color\":{\"value\":\"White\"},\"outer_radius\":{\"field\":\"outers\",\"units\":\"data\"},\"start_angle\":{\"field\":\"start\",\"units\":\"rad\"},\"x\":{\"value\":0},\"y\":{\"value\":0}},\"id\":\"835b182e-a8eb-48e2-8169-5eda196c8ceb\",\"type\":\"AnnularWedge\"},{\"attributes\":{\"callback\":null,\"column_names\":[\"start\",\"end\",\"centers\",\"level\",\"outers\",\"values\",\"inners\",\"lineItem/ProductCode\",\"color\"],\"data\":{\"centers\":[1.125,1.125],\"color\":[\"#f22c40\",\"#5ab738\"],\"end\":[6.129271905116067,6.283185307179585],\"inners\":[0.0,0.0],\"level\":[0.0,0.0],\"lineItem/ProductCode\":[\"AmazonEC2\",\"AmazonS3\"],\"outers\":[1.5,1.5],\"start\":[0.0,6.129271905116067],\"values\":[494.69585551998824,12.422408939999963]}},\"id\":\"183c4751-c7b6-4d0b-afbd-7eae1a03496a\",\"type\":\"ColumnDataSource\"},{\"attributes\":{\"plot\":{\"id\":\"67df176c-0b91-4336-b7f6-c37846a29c1b\",\"subtype\":\"Chart\",\"type\":\"Plot\"}},\"id\":\"b90ab096-c2ab-4760-890a-82396e94de7b\",\"type\":\"SaveTool\"}],\"root_ids\":[\"67df176c-0b91-4336-b7f6-c37846a29c1b\"]},\"title\":\"Bokeh Application\",\"version\":\"0.12.4\"}};\n",
       "            var render_items = [{\"docid\":\"5cb5eec4-a4d5-40c3-8247-82268c042965\",\"elementid\":\"28551815-b7fd-4fc5-a8c6-7f75ce649daa\",\"modelid\":\"67df176c-0b91-4336-b7f6-c37846a29c1b\"}];\n",
       "            \n",
       "            Bokeh.embed.embed_items(docs_json, render_items);\n",
       "          };\n",
       "          if (document.readyState != \"loading\") fn();\n",
       "          else document.addEventListener(\"DOMContentLoaded\", fn);\n",
       "        })();\n",
       "      },\n",
       "      function(Bokeh) {\n",
       "      }\n",
       "    ];\n",
       "  \n",
       "    function run_inline_js() {\n",
       "      \n",
       "      if ((window.Bokeh !== undefined) || (force === true)) {\n",
       "        for (var i = 0; i < inline_js.length; i++) {\n",
       "          inline_js[i](window.Bokeh);\n",
       "        }if (force === true) {\n",
       "          display_loaded();\n",
       "        }} else if (Date.now() < window._bokeh_timeout) {\n",
       "        setTimeout(run_inline_js, 100);\n",
       "      } else if (!window._bokeh_failed_load) {\n",
       "        console.log(\"Bokeh: BokehJS failed to load within specified timeout.\");\n",
       "        window._bokeh_failed_load = true;\n",
       "      } else if (force !== true) {\n",
       "        var cell = $(document.getElementById(\"28551815-b7fd-4fc5-a8c6-7f75ce649daa\")).parents('.cell').data().cell;\n",
       "        cell.output_area.append_execute_result(NB_LOAD_WARNING)\n",
       "      }\n",
       "  \n",
       "    }\n",
       "  \n",
       "    if (window._bokeh_is_loading === 0) {\n",
       "      console.log(\"Bokeh: BokehJS loaded, going straight to plotting\");\n",
       "      run_inline_js();\n",
       "    } else {\n",
       "      load_libs(js_urls, function() {\n",
       "        console.log(\"Bokeh: BokehJS plotting callback run at\", now());\n",
       "        run_inline_js();\n",
       "      });\n",
       "    }\n",
       "  }(this));\n",
       "</script>"
      ]
     },
     "metadata": {},
     "output_type": "display_data"
    }
   ],
   "source": [
    "f = Donut(x.iloc[x.nonzero()], title='AWS Product Cost Breakdown')\n",
    "show(f)"
   ]
  },
  {
   "cell_type": "markdown",
   "metadata": {},
   "source": [
    "### Analysis: AmazonEC2"
   ]
  },
  {
   "cell_type": "code",
   "execution_count": 24,
   "metadata": {
    "collapsed": true
   },
   "outputs": [],
   "source": [
    "ec2 = r[r['lineItem/ProductCode'] == 'AmazonEC2']"
   ]
  },
  {
   "cell_type": "markdown",
   "metadata": {},
   "source": [
    "How many usage types?"
   ]
  },
  {
   "cell_type": "code",
   "execution_count": 25,
   "metadata": {
    "collapsed": false
   },
   "outputs": [
    {
     "data": {
      "text/plain": [
       "EBS:VolumeUsage.gp2            2237\n",
       "DataTransfer-Out-Bytes         2141\n",
       "DataTransfer-In-Bytes          2141\n",
       "EBSOptimized:m4.xlarge         2140\n",
       "BoxUsage:m4.xlarge             2140\n",
       "DataTransfer-Regional-Bytes     137\n",
       "USE1-USW2-AWS-In-Bytes           38\n",
       "USE1-USW2-AWS-Out-Bytes          38\n",
       "EBS:SnapshotUsage                29\n",
       "USE1-APS1-AWS-In-Bytes            3\n",
       "USE1-APS1-AWS-Out-Bytes           3\n",
       "USE1-EU-AWS-Out-Bytes             2\n",
       "USE1-USW1-AWS-In-Bytes            2\n",
       "USE1-EU-AWS-In-Bytes              2\n",
       "USE1-APS3-AWS-Out-Bytes           2\n",
       "USE1-APS3-AWS-In-Bytes            2\n",
       "USE1-USW1-AWS-Out-Bytes           2\n",
       "Name: lineItem/UsageType, dtype: int64"
      ]
     },
     "execution_count": 25,
     "metadata": {},
     "output_type": "execute_result"
    }
   ],
   "source": [
    "ec2['lineItem/UsageType'].value_counts()"
   ]
  },
  {
   "cell_type": "markdown",
   "metadata": {},
   "source": [
    "Cost breakdown for different product types:"
   ]
  },
  {
   "cell_type": "code",
   "execution_count": 26,
   "metadata": {
    "collapsed": false
   },
   "outputs": [],
   "source": [
    "grp = ec2.groupby('lineItem/UsageType')"
   ]
  },
  {
   "cell_type": "code",
   "execution_count": 27,
   "metadata": {
    "collapsed": false
   },
   "outputs": [
    {
     "data": {
      "text/plain": [
       "lineItem/UsageType\n",
       "BoxUsage:m4.xlarge             460.100000\n",
       "DataTransfer-In-Bytes            0.000000\n",
       "DataTransfer-Out-Bytes           0.000000\n",
       "DataTransfer-Regional-Bytes      4.535920\n",
       "EBS:SnapshotUsage                1.771243\n",
       "EBS:VolumeUsage.gp2             28.288686\n",
       "EBSOptimized:m4.xlarge           0.000000\n",
       "USE1-APS1-AWS-In-Bytes           0.000000\n",
       "USE1-APS1-AWS-Out-Bytes          0.000000\n",
       "USE1-APS3-AWS-In-Bytes           0.000000\n",
       "USE1-APS3-AWS-Out-Bytes          0.000005\n",
       "USE1-EU-AWS-In-Bytes             0.000000\n",
       "USE1-EU-AWS-Out-Bytes            0.000000\n",
       "USE1-USW1-AWS-In-Bytes           0.000000\n",
       "USE1-USW1-AWS-Out-Bytes          0.000000\n",
       "USE1-USW2-AWS-In-Bytes           0.000000\n",
       "USE1-USW2-AWS-Out-Bytes          0.000001\n",
       "Name: lineItem/BlendedCost, dtype: float64"
      ]
     },
     "execution_count": 27,
     "metadata": {},
     "output_type": "execute_result"
    }
   ],
   "source": [
    "x = grp['lineItem/BlendedCost'].sum()\n",
    "x"
   ]
  },
  {
   "cell_type": "code",
   "execution_count": 28,
   "metadata": {
    "collapsed": false
   },
   "outputs": [
    {
     "data": {
      "text/html": [
       "\n",
       "\n",
       "    <div class=\"bk-root\">\n",
       "        <div class=\"bk-plotdiv\" id=\"4437368c-91c2-4341-a078-5a79aa5bdbed\"></div>\n",
       "    </div>\n",
       "<script type=\"text/javascript\">\n",
       "  \n",
       "  (function(global) {\n",
       "    function now() {\n",
       "      return new Date();\n",
       "    }\n",
       "  \n",
       "    var force = false;\n",
       "  \n",
       "    if (typeof (window._bokeh_onload_callbacks) === \"undefined\" || force === true) {\n",
       "      window._bokeh_onload_callbacks = [];\n",
       "      window._bokeh_is_loading = undefined;\n",
       "    }\n",
       "  \n",
       "  \n",
       "    \n",
       "    if (typeof (window._bokeh_timeout) === \"undefined\" || force === true) {\n",
       "      window._bokeh_timeout = Date.now() + 0;\n",
       "      window._bokeh_failed_load = false;\n",
       "    }\n",
       "  \n",
       "    var NB_LOAD_WARNING = {'data': {'text/html':\n",
       "       \"<div style='background-color: #fdd'>\\n\"+\n",
       "       \"<p>\\n\"+\n",
       "       \"BokehJS does not appear to have successfully loaded. If loading BokehJS from CDN, this \\n\"+\n",
       "       \"may be due to a slow or bad network connection. Possible fixes:\\n\"+\n",
       "       \"</p>\\n\"+\n",
       "       \"<ul>\\n\"+\n",
       "       \"<li>re-rerun `output_notebook()` to attempt to load from CDN again, or</li>\\n\"+\n",
       "       \"<li>use INLINE resources instead, as so:</li>\\n\"+\n",
       "       \"</ul>\\n\"+\n",
       "       \"<code>\\n\"+\n",
       "       \"from bokeh.resources import INLINE\\n\"+\n",
       "       \"output_notebook(resources=INLINE)\\n\"+\n",
       "       \"</code>\\n\"+\n",
       "       \"</div>\"}};\n",
       "  \n",
       "    function display_loaded() {\n",
       "      if (window.Bokeh !== undefined) {\n",
       "        document.getElementById(\"4437368c-91c2-4341-a078-5a79aa5bdbed\").textContent = \"BokehJS successfully loaded.\";\n",
       "      } else if (Date.now() < window._bokeh_timeout) {\n",
       "        setTimeout(display_loaded, 100)\n",
       "      }\n",
       "    }\n",
       "  \n",
       "    function run_callbacks() {\n",
       "      window._bokeh_onload_callbacks.forEach(function(callback) { callback() });\n",
       "      delete window._bokeh_onload_callbacks\n",
       "      console.info(\"Bokeh: all callbacks have finished\");\n",
       "    }\n",
       "  \n",
       "    function load_libs(js_urls, callback) {\n",
       "      window._bokeh_onload_callbacks.push(callback);\n",
       "      if (window._bokeh_is_loading > 0) {\n",
       "        console.log(\"Bokeh: BokehJS is being loaded, scheduling callback at\", now());\n",
       "        return null;\n",
       "      }\n",
       "      if (js_urls == null || js_urls.length === 0) {\n",
       "        run_callbacks();\n",
       "        return null;\n",
       "      }\n",
       "      console.log(\"Bokeh: BokehJS not loaded, scheduling load and callback at\", now());\n",
       "      window._bokeh_is_loading = js_urls.length;\n",
       "      for (var i = 0; i < js_urls.length; i++) {\n",
       "        var url = js_urls[i];\n",
       "        var s = document.createElement('script');\n",
       "        s.src = url;\n",
       "        s.async = false;\n",
       "        s.onreadystatechange = s.onload = function() {\n",
       "          window._bokeh_is_loading--;\n",
       "          if (window._bokeh_is_loading === 0) {\n",
       "            console.log(\"Bokeh: all BokehJS libraries loaded\");\n",
       "            run_callbacks()\n",
       "          }\n",
       "        };\n",
       "        s.onerror = function() {\n",
       "          console.warn(\"failed to load library \" + url);\n",
       "        };\n",
       "        console.log(\"Bokeh: injecting script tag for BokehJS library: \", url);\n",
       "        document.getElementsByTagName(\"head\")[0].appendChild(s);\n",
       "      }\n",
       "    };var element = document.getElementById(\"4437368c-91c2-4341-a078-5a79aa5bdbed\");\n",
       "    if (element == null) {\n",
       "      console.log(\"Bokeh: ERROR: autoload.js configured with elementid '4437368c-91c2-4341-a078-5a79aa5bdbed' but no matching script tag was found. \")\n",
       "      return false;\n",
       "    }\n",
       "  \n",
       "    var js_urls = [];\n",
       "  \n",
       "    var inline_js = [\n",
       "      function(Bokeh) {\n",
       "        (function() {\n",
       "          var fn = function() {\n",
       "            var docs_json = {\"9569db49-da58-4f6d-b71e-8a9f4a7a66a6\":{\"roots\":{\"references\":[{\"attributes\":{\"callback\":null,\"column_names\":[\"text_angle\",\"y\",\"x\",\"text\"],\"data\":{\"text\":[\"BoxUsage:m4.xlarge\",\"DataTransfer-Regional-Bytes\",\"EBS:SnapshotUsage\",\"EBS:VolumeUsage.gp2\",\"USE1-APS3-AWS-Out-Bytes\",\"USE1-USW2-AWS-Out-Bytes\"],\"text_angle\":{\"__ndarray__\":\"AAAAAAAAAAAAAAAAAAAAAAAAAAAAAAAAAAAAAAAAAAAAAAAAAAAAAAAAAAAAAAAA\",\"dtype\":\"float64\",\"shape\":[6]},\"x\":[-1.0979575367050514,1.031491641912499,1.0486459421876155,1.1068947986905322,1.1249999999999984,1.125],\"y\":[0.2451820702918049,-0.4490545542188128,-0.40739009307228874,-0.20101966230159235,-5.872674674133251e-08,-9.787790853576339e-09]}},\"id\":\"09886091-71ab-4b3c-9e19-d50894f84cd9\",\"type\":\"ColumnDataSource\"},{\"attributes\":{\"plot\":{\"id\":\"f00fde18-e4c8-474e-a55d-fdafeaa24ddc\",\"subtype\":\"Chart\",\"type\":\"Plot\"}},\"id\":\"a2fab7e1-e2fa-438a-a642-c763b9c66623\",\"type\":\"SaveTool\"},{\"attributes\":{},\"id\":\"7af24b36-0bba-4547-8509-2bac703fbad5\",\"type\":\"BasicTicker\"},{\"attributes\":{\"plot\":{\"id\":\"f00fde18-e4c8-474e-a55d-fdafeaa24ddc\",\"subtype\":\"Chart\",\"type\":\"Plot\"}},\"id\":\"8c502ec4-2912-4ad1-a3d9-d07034566f5c\",\"type\":\"HelpTool\"},{\"attributes\":{\"active_drag\":\"auto\",\"active_scroll\":\"auto\",\"active_tap\":\"auto\",\"tools\":[{\"id\":\"296904a1-1efb-4da6-9505-c6c4d00160be\",\"type\":\"PanTool\"},{\"id\":\"085dc7b4-8e7b-4266-9838-5ad4352a68ac\",\"type\":\"WheelZoomTool\"},{\"id\":\"dd4a6e4c-ec0f-4f2c-afbc-b658502f5ede\",\"type\":\"BoxZoomTool\"},{\"id\":\"a2fab7e1-e2fa-438a-a642-c763b9c66623\",\"type\":\"SaveTool\"},{\"id\":\"eda71325-a420-422b-a1e4-e965f003dfe1\",\"type\":\"ResetTool\"},{\"id\":\"8c502ec4-2912-4ad1-a3d9-d07034566f5c\",\"type\":\"HelpTool\"}]},\"id\":\"8c414c11-557d-4f7d-ae61-305eaaa11cf2\",\"type\":\"Toolbar\"},{\"attributes\":{\"plot\":null,\"text\":\"AWS EC2 Product Cost Breakdown\"},\"id\":\"3261924e-e717-472a-b0d2-7825e7cadf2b\",\"type\":\"Title\"},{\"attributes\":{\"below\":[{\"id\":\"f477f77a-3710-4c6f-b280-35e80bb6a550\",\"type\":\"LinearAxis\"}],\"css_classes\":null,\"left\":[{\"id\":\"eb0bdc8e-dfaa-459f-b29f-9a23acb8a697\",\"type\":\"LinearAxis\"}],\"renderers\":[{\"id\":\"e913447a-ea13-4a71-8f14-4624a9ac40b1\",\"type\":\"BoxAnnotation\"},{\"id\":\"819913b7-18b2-41e0-b982-282fa4a95ce9\",\"type\":\"GlyphRenderer\"},{\"id\":\"0c452b36-3a53-43a1-b1d0-3d87e244f68e\",\"type\":\"GlyphRenderer\"},{\"id\":\"c800212a-8a29-472b-a447-df4a005e9e5c\",\"type\":\"Legend\"},{\"id\":\"f477f77a-3710-4c6f-b280-35e80bb6a550\",\"type\":\"LinearAxis\"},{\"id\":\"eb0bdc8e-dfaa-459f-b29f-9a23acb8a697\",\"type\":\"LinearAxis\"}],\"title\":{\"id\":\"3261924e-e717-472a-b0d2-7825e7cadf2b\",\"type\":\"Title\"},\"tool_events\":{\"id\":\"6da3d16a-4997-4e5b-b7f6-fc2cf4cac481\",\"type\":\"ToolEvents\"},\"toolbar\":{\"id\":\"8c414c11-557d-4f7d-ae61-305eaaa11cf2\",\"type\":\"Toolbar\"},\"x_mapper_type\":\"auto\",\"x_range\":{\"id\":\"ba790407-cc54-48fa-b7d6-6cc0f25a8e60\",\"type\":\"Range1d\"},\"y_mapper_type\":\"auto\",\"y_range\":{\"id\":\"83a1aee7-0dde-4ee5-9faf-c04a2504a2d9\",\"type\":\"Range1d\"}},\"id\":\"f00fde18-e4c8-474e-a55d-fdafeaa24ddc\",\"subtype\":\"Chart\",\"type\":\"Plot\"},{\"attributes\":{\"plot\":{\"id\":\"f00fde18-e4c8-474e-a55d-fdafeaa24ddc\",\"subtype\":\"Chart\",\"type\":\"Plot\"}},\"id\":\"eda71325-a420-422b-a1e4-e965f003dfe1\",\"type\":\"ResetTool\"},{\"attributes\":{\"plot\":{\"id\":\"f00fde18-e4c8-474e-a55d-fdafeaa24ddc\",\"subtype\":\"Chart\",\"type\":\"Plot\"}},\"id\":\"085dc7b4-8e7b-4266-9838-5ad4352a68ac\",\"type\":\"WheelZoomTool\"},{\"attributes\":{\"callback\":null,\"end\":1.6500000000000001,\"start\":-1.6500000000000001},\"id\":\"83a1aee7-0dde-4ee5-9faf-c04a2504a2d9\",\"type\":\"Range1d\"},{\"attributes\":{\"overlay\":{\"id\":\"e913447a-ea13-4a71-8f14-4624a9ac40b1\",\"type\":\"BoxAnnotation\"},\"plot\":{\"id\":\"f00fde18-e4c8-474e-a55d-fdafeaa24ddc\",\"subtype\":\"Chart\",\"type\":\"Plot\"}},\"id\":\"dd4a6e4c-ec0f-4f2c-afbc-b658502f5ede\",\"type\":\"BoxZoomTool\"},{\"attributes\":{},\"id\":\"6da3d16a-4997-4e5b-b7f6-fc2cf4cac481\",\"type\":\"ToolEvents\"},{\"attributes\":{\"axis_label\":null,\"formatter\":{\"id\":\"388f4232-7dfc-4f0b-8c6b-303fc36a86cc\",\"type\":\"BasicTickFormatter\"},\"plot\":{\"id\":\"f00fde18-e4c8-474e-a55d-fdafeaa24ddc\",\"subtype\":\"Chart\",\"type\":\"Plot\"},\"ticker\":{\"id\":\"b66c2ded-dea2-4eb0-add9-b5d67e3e0a00\",\"type\":\"BasicTicker\"},\"visible\":false},\"id\":\"f477f77a-3710-4c6f-b280-35e80bb6a550\",\"type\":\"LinearAxis\"},{\"attributes\":{\"callback\":null,\"end\":1.6500000000000001,\"start\":-1.6500000000000001},\"id\":\"ba790407-cc54-48fa-b7d6-6cc0f25a8e60\",\"type\":\"Range1d\"},{\"attributes\":{\"callback\":null,\"column_names\":[\"start\",\"end\",\"centers\",\"level\",\"outers\",\"values\",\"inners\",\"lineItem/UsageType\",\"color\"],\"data\":{\"centers\":[1.125,1.125,1.125,1.125,1.125,1.125],\"color\":[\"#f22c40\",\"#5ab738\",\"#407ee7\",\"#df5320\",\"#00ad9c\",\"#c33ff3\"],\"end\":[5.843779622520908,5.901390828121061,5.923887575094395,6.283185220176999,6.283185289779069,6.283185307179586],\"inners\":[0.0,0.0,0.0,0.0,0.0,0.0],\"level\":[0.0,0.0,0.0,0.0,0.0,0.0],\"lineItem/UsageType\":[\"BoxUsage:m4.xlarge\",\"DataTransfer-Regional-Bytes\",\"EBS:SnapshotUsage\",\"EBS:VolumeUsage.gp2\",\"USE1-APS3-AWS-Out-Bytes\",\"USE1-USW2-AWS-Out-Bytes\"],\"outers\":[1.5,1.5,1.5,1.5,1.5,1.5],\"start\":[0.0,5.843779622520908,5.901390828121061,5.923887575094395,6.283185220176999,6.283185289779069],\"values\":[460.0999999999798,4.5359198,1.771242919999999,28.288685949999195,5.479999999999999e-06,1.37e-06]}},\"id\":\"191c4261-9b5a-418a-a419-a0899ffaf52f\",\"type\":\"ColumnDataSource\"},{\"attributes\":{\"angle\":{\"field\":\"text_angle\",\"units\":\"rad\"},\"text_align\":\"center\",\"text_baseline\":\"middle\",\"text_font_size\":{\"value\":\"10pt\"},\"x\":{\"field\":\"x\"},\"y\":{\"field\":\"y\"}},\"id\":\"f5ad4276-06ce-4b76-a847-59a85c7291da\",\"type\":\"Text\"},{\"attributes\":{\"bottom_units\":\"screen\",\"fill_alpha\":{\"value\":0.5},\"fill_color\":{\"value\":\"lightgrey\"},\"left_units\":\"screen\",\"level\":\"overlay\",\"line_alpha\":{\"value\":1.0},\"line_color\":{\"value\":\"black\"},\"line_dash\":[4,4],\"line_width\":{\"value\":2},\"plot\":null,\"render_mode\":\"css\",\"right_units\":\"screen\",\"top_units\":\"screen\"},\"id\":\"e913447a-ea13-4a71-8f14-4624a9ac40b1\",\"type\":\"BoxAnnotation\"},{\"attributes\":{\"data_source\":{\"id\":\"191c4261-9b5a-418a-a419-a0899ffaf52f\",\"type\":\"ColumnDataSource\"},\"glyph\":{\"id\":\"b029f089-c56e-4b4d-9fa8-975cff37049f\",\"type\":\"AnnularWedge\"},\"hover_glyph\":null,\"nonselection_glyph\":null,\"selection_glyph\":null},\"id\":\"819913b7-18b2-41e0-b982-282fa4a95ce9\",\"type\":\"GlyphRenderer\"},{\"attributes\":{\"plot\":{\"id\":\"f00fde18-e4c8-474e-a55d-fdafeaa24ddc\",\"subtype\":\"Chart\",\"type\":\"Plot\"}},\"id\":\"296904a1-1efb-4da6-9505-c6c4d00160be\",\"type\":\"PanTool\"},{\"attributes\":{},\"id\":\"09113d0a-0e83-44ab-ba55-ab05fa54417f\",\"type\":\"BasicTickFormatter\"},{\"attributes\":{},\"id\":\"388f4232-7dfc-4f0b-8c6b-303fc36a86cc\",\"type\":\"BasicTickFormatter\"},{\"attributes\":{\"axis_label\":null,\"formatter\":{\"id\":\"09113d0a-0e83-44ab-ba55-ab05fa54417f\",\"type\":\"BasicTickFormatter\"},\"plot\":{\"id\":\"f00fde18-e4c8-474e-a55d-fdafeaa24ddc\",\"subtype\":\"Chart\",\"type\":\"Plot\"},\"ticker\":{\"id\":\"7af24b36-0bba-4547-8509-2bac703fbad5\",\"type\":\"BasicTicker\"},\"visible\":false},\"id\":\"eb0bdc8e-dfaa-459f-b29f-9a23acb8a697\",\"type\":\"LinearAxis\"},{\"attributes\":{\"data_source\":{\"id\":\"09886091-71ab-4b3c-9e19-d50894f84cd9\",\"type\":\"ColumnDataSource\"},\"glyph\":{\"id\":\"f5ad4276-06ce-4b76-a847-59a85c7291da\",\"type\":\"Text\"},\"hover_glyph\":null,\"nonselection_glyph\":null,\"selection_glyph\":null},\"id\":\"0c452b36-3a53-43a1-b1d0-3d87e244f68e\",\"type\":\"GlyphRenderer\"},{\"attributes\":{},\"id\":\"b66c2ded-dea2-4eb0-add9-b5d67e3e0a00\",\"type\":\"BasicTicker\"},{\"attributes\":{\"end_angle\":{\"field\":\"end\",\"units\":\"rad\"},\"fill_alpha\":{\"value\":0.8},\"fill_color\":{\"field\":\"color\"},\"inner_radius\":{\"field\":\"inners\",\"units\":\"data\"},\"line_color\":{\"value\":\"White\"},\"outer_radius\":{\"field\":\"outers\",\"units\":\"data\"},\"start_angle\":{\"field\":\"start\",\"units\":\"rad\"},\"x\":{\"value\":0},\"y\":{\"value\":0}},\"id\":\"b029f089-c56e-4b4d-9fa8-975cff37049f\",\"type\":\"AnnularWedge\"},{\"attributes\":{\"location\":\"top_left\",\"plot\":{\"id\":\"f00fde18-e4c8-474e-a55d-fdafeaa24ddc\",\"subtype\":\"Chart\",\"type\":\"Plot\"}},\"id\":\"c800212a-8a29-472b-a447-df4a005e9e5c\",\"type\":\"Legend\"}],\"root_ids\":[\"f00fde18-e4c8-474e-a55d-fdafeaa24ddc\"]},\"title\":\"Bokeh Application\",\"version\":\"0.12.4\"}};\n",
       "            var render_items = [{\"docid\":\"9569db49-da58-4f6d-b71e-8a9f4a7a66a6\",\"elementid\":\"4437368c-91c2-4341-a078-5a79aa5bdbed\",\"modelid\":\"f00fde18-e4c8-474e-a55d-fdafeaa24ddc\"}];\n",
       "            \n",
       "            Bokeh.embed.embed_items(docs_json, render_items);\n",
       "          };\n",
       "          if (document.readyState != \"loading\") fn();\n",
       "          else document.addEventListener(\"DOMContentLoaded\", fn);\n",
       "        })();\n",
       "      },\n",
       "      function(Bokeh) {\n",
       "      }\n",
       "    ];\n",
       "  \n",
       "    function run_inline_js() {\n",
       "      \n",
       "      if ((window.Bokeh !== undefined) || (force === true)) {\n",
       "        for (var i = 0; i < inline_js.length; i++) {\n",
       "          inline_js[i](window.Bokeh);\n",
       "        }if (force === true) {\n",
       "          display_loaded();\n",
       "        }} else if (Date.now() < window._bokeh_timeout) {\n",
       "        setTimeout(run_inline_js, 100);\n",
       "      } else if (!window._bokeh_failed_load) {\n",
       "        console.log(\"Bokeh: BokehJS failed to load within specified timeout.\");\n",
       "        window._bokeh_failed_load = true;\n",
       "      } else if (force !== true) {\n",
       "        var cell = $(document.getElementById(\"4437368c-91c2-4341-a078-5a79aa5bdbed\")).parents('.cell').data().cell;\n",
       "        cell.output_area.append_execute_result(NB_LOAD_WARNING)\n",
       "      }\n",
       "  \n",
       "    }\n",
       "  \n",
       "    if (window._bokeh_is_loading === 0) {\n",
       "      console.log(\"Bokeh: BokehJS loaded, going straight to plotting\");\n",
       "      run_inline_js();\n",
       "    } else {\n",
       "      load_libs(js_urls, function() {\n",
       "        console.log(\"Bokeh: BokehJS plotting callback run at\", now());\n",
       "        run_inline_js();\n",
       "      });\n",
       "    }\n",
       "  }(this));\n",
       "</script>"
      ]
     },
     "metadata": {},
     "output_type": "display_data"
    }
   ],
   "source": [
    "f = Donut(x.iloc[x.nonzero()], title='AWS EC2 Product Cost Breakdown',\n",
    "          plot_height=600, plot_width=600)\n",
    "show(f)"
   ]
  },
  {
   "cell_type": "markdown",
   "metadata": {},
   "source": [
    "How many unique operations for each of the AmazonEC2 product types?"
   ]
  },
  {
   "cell_type": "code",
   "execution_count": 29,
   "metadata": {
    "collapsed": false
   },
   "outputs": [
    {
     "data": {
      "text/plain": [
       "lineItem/UsageType\n",
       "BoxUsage:m4.xlarge                          [RunInstances]\n",
       "DataTransfer-In-Bytes                       [RunInstances]\n",
       "DataTransfer-Out-Bytes                      [RunInstances]\n",
       "DataTransfer-Regional-Bytes    [PublicIP-In, PublicIP-Out]\n",
       "EBS:SnapshotUsage                         [CreateSnapshot]\n",
       "EBS:VolumeUsage.gp2                     [CreateVolume-Gp2]\n",
       "EBSOptimized:m4.xlarge                            [Hourly]\n",
       "USE1-APS1-AWS-In-Bytes                       [PublicIP-In]\n",
       "USE1-APS1-AWS-Out-Bytes                     [PublicIP-Out]\n",
       "USE1-APS3-AWS-In-Bytes                       [PublicIP-In]\n",
       "USE1-APS3-AWS-Out-Bytes                     [PublicIP-Out]\n",
       "USE1-EU-AWS-In-Bytes                         [PublicIP-In]\n",
       "USE1-EU-AWS-Out-Bytes                       [PublicIP-Out]\n",
       "USE1-USW1-AWS-In-Bytes                       [PublicIP-In]\n",
       "USE1-USW1-AWS-Out-Bytes                     [PublicIP-Out]\n",
       "USE1-USW2-AWS-In-Bytes                       [PublicIP-In]\n",
       "USE1-USW2-AWS-Out-Bytes                     [PublicIP-Out]\n",
       "Name: lineItem/Operation, dtype: object"
      ]
     },
     "execution_count": 29,
     "metadata": {},
     "output_type": "execute_result"
    }
   ],
   "source": [
    "grp['lineItem/Operation'].unique()"
   ]
  },
  {
   "cell_type": "markdown",
   "metadata": {},
   "source": [
    "How many unique product SKUs for each of the AmazonEC2 product types?"
   ]
  },
  {
   "cell_type": "code",
   "execution_count": 30,
   "metadata": {
    "collapsed": false
   },
   "outputs": [
    {
     "data": {
      "text/plain": [
       "lineItem/UsageType\n",
       "BoxUsage:m4.xlarge             [47GP959QAF69YPG5]\n",
       "DataTransfer-In-Bytes          [9MG5B7V4UUU2WPAV]\n",
       "DataTransfer-Out-Bytes         [HQEH3ZWJVT46JHRG]\n",
       "DataTransfer-Regional-Bytes    [PNUBVW4CPC8XA46W]\n",
       "EBS:SnapshotUsage              [7U7TWP44UP36AT3R]\n",
       "EBS:VolumeUsage.gp2            [HY3BZPP2B6K8MSJF]\n",
       "EBSOptimized:m4.xlarge         [9W95WEA2F9V4BVUJ]\n",
       "USE1-APS1-AWS-In-Bytes         [DZHU5BKVVZXEHEYR]\n",
       "USE1-APS1-AWS-Out-Bytes        [2T92AZQGNFAQHEXW]\n",
       "USE1-APS3-AWS-In-Bytes         [CA5RFBSY7MFBKHTZ]\n",
       "USE1-APS3-AWS-Out-Bytes        [BHM7BATGW8NG4NZ4]\n",
       "USE1-EU-AWS-In-Bytes           [725FHGTUB3P2B9EU]\n",
       "USE1-EU-AWS-Out-Bytes          [NW4B786HNAH6HZ7R]\n",
       "USE1-USW1-AWS-In-Bytes         [NBUQPTSYHSXS2EB6]\n",
       "USE1-USW1-AWS-Out-Bytes        [8X3QU4DYXVJAXZK3]\n",
       "USE1-USW2-AWS-In-Bytes         [33Y5KYZ4JQEF6J66]\n",
       "USE1-USW2-AWS-Out-Bytes        [XGXYRYWGNXSSEUVT]\n",
       "Name: product/sku, dtype: object"
      ]
     },
     "execution_count": 30,
     "metadata": {},
     "output_type": "execute_result"
    }
   ],
   "source": [
    "skus = grp['product/sku'].unique()\n",
    "skus"
   ]
  },
  {
   "cell_type": "markdown",
   "metadata": {},
   "source": [
    "Display description for all of these SKUs and their pricing tiers:"
   ]
  },
  {
   "cell_type": "code",
   "execution_count": 31,
   "metadata": {
    "collapsed": false
   },
   "outputs": [
    {
     "name": "stdout",
     "output_type": "stream",
     "text": [
      "Usage Type: BoxUsage:m4.xlarge\n",
      "  SKU: 47GP959QAF69YPG5\n",
      "     $0.215 per On Demand Linux m4.xlarge Instance Hour\n",
      "\n",
      "\n",
      "Usage Type: DataTransfer-In-Bytes\n",
      "  SKU: 9MG5B7V4UUU2WPAV\n",
      "     $0.000 per GB - data transfer in per month\n",
      "\n",
      "\n",
      "Usage Type: DataTransfer-Out-Bytes\n",
      "  SKU: HQEH3ZWJVT46JHRG\n",
      "     $0.000 per GB - first 1 GB of data transferred out per month\n",
      "     $0.090 per GB - first 10 TB / month data transfer out beyond the global free tier\n",
      "     $0.085 per GB - next 40 TB / month data transfer out\n",
      "     $0.070 per GB - next 100 TB / month data transfer out\n",
      "     $0.050 per GB - greater than 150 TB / month data transfer out\n",
      "\n",
      "\n",
      "Usage Type: DataTransfer-Regional-Bytes\n",
      "  SKU: PNUBVW4CPC8XA46W\n",
      "     $0.010 per GB - regional data transfer - in/out/between EC2 AZs or using elastic IPs or ELB\n",
      "\n",
      "\n",
      "Usage Type: EBS:SnapshotUsage\n",
      "  SKU: 7U7TWP44UP36AT3R\n",
      "     $0.05 per GB-Month of snapshot data stored - US East (Northern Virginia)\n",
      "\n",
      "\n",
      "Usage Type: EBS:VolumeUsage.gp2\n",
      "  SKU: HY3BZPP2B6K8MSJF\n",
      "     $0.10 per GB-month of General Purpose SSD (gp2) provisioned storage - US East (Northern Virginia)\n",
      "\n",
      "\n",
      "Usage Type: EBSOptimized:m4.xlarge\n",
      "  SKU: 9W95WEA2F9V4BVUJ\n",
      "     $0.000 for 750 Mbps per m4.xlarge instance-hour (or partial hour)\n",
      "\n",
      "\n",
      "Usage Type: USE1-APS1-AWS-In-Bytes\n",
      "  SKU: DZHU5BKVVZXEHEYR\n",
      "     $0.00 per GB - US East (Northern Virginia) data transfer from Asia Pacific (Singapore)\n",
      "\n",
      "\n",
      "Usage Type: USE1-APS1-AWS-Out-Bytes\n",
      "  SKU: 2T92AZQGNFAQHEXW\n",
      "     $0.02 per GB - US East (Northern Virginia) data transfer to Asia Pacific (Singapore)\n",
      "\n",
      "\n",
      "Usage Type: USE1-APS3-AWS-In-Bytes\n",
      "  SKU: CA5RFBSY7MFBKHTZ\n",
      "     $0.00 per GB - US East (Northern Virginia) data transfer from Asia Pacific (Mumbai)\n",
      "\n",
      "\n",
      "Usage Type: USE1-APS3-AWS-Out-Bytes\n",
      "  SKU: BHM7BATGW8NG4NZ4\n",
      "     $0.02 per GB - US East (Northern Virginia) data transfer to Asia Pacific (Mumbai)\n",
      "\n",
      "\n",
      "Usage Type: USE1-EU-AWS-In-Bytes\n",
      "  SKU: 725FHGTUB3P2B9EU\n",
      "     $0.00 per GB - US East (Northern Virginia) data transfer from EU (Ireland)\n",
      "\n",
      "\n",
      "Usage Type: USE1-EU-AWS-Out-Bytes\n",
      "  SKU: NW4B786HNAH6HZ7R\n",
      "     $0.02 per GB - US East (Northern Virginia) data transfer to EU (Ireland)\n",
      "\n",
      "\n",
      "Usage Type: USE1-USW1-AWS-In-Bytes\n",
      "  SKU: NBUQPTSYHSXS2EB6\n",
      "     $0.00 per GB - US East (Northern Virginia) data transfer from US West (Northern California)\n",
      "\n",
      "\n",
      "Usage Type: USE1-USW1-AWS-Out-Bytes\n",
      "  SKU: 8X3QU4DYXVJAXZK3\n",
      "     $0.02 per GB - US East (Northern Virginia) data transfer to US West (Northern California)\n",
      "\n",
      "\n",
      "Usage Type: USE1-USW2-AWS-In-Bytes\n",
      "  SKU: 33Y5KYZ4JQEF6J66\n",
      "     $0.00 per GB - US East (Northern Virginia) data transfer from US West (Oregon)\n",
      "\n",
      "\n",
      "Usage Type: USE1-USW2-AWS-Out-Bytes\n",
      "  SKU: XGXYRYWGNXSSEUVT\n",
      "     $0.02 per GB - US East (Northern Virginia) data transfer to US West (Oregon)\n",
      "\n",
      "\n"
     ]
    }
   ],
   "source": [
    "for ut, sku_list in skus.iteritems():\n",
    "    print('Usage Type:', ut)\n",
    "    for sku in sku_list:\n",
    "        print('  SKU:', sku)\n",
    "        prod = ec2o.product(sku)\n",
    "        if len(prod.pricing) > 1:\n",
    "            raise ValueError('{}: More than one product pricing info')\n",
    "        tiers = prod.pricing[0].tiers\n",
    "        for t in tiers:\n",
    "            print('    ', t.description)\n",
    "        print('\\n')"
   ]
  },
  {
   "cell_type": "markdown",
   "metadata": {},
   "source": [
    "### Analysis: AmazonS3"
   ]
  },
  {
   "cell_type": "code",
   "execution_count": 32,
   "metadata": {
    "collapsed": true
   },
   "outputs": [],
   "source": [
    "s3 = r[r['lineItem/ProductCode'] == 'AmazonS3']"
   ]
  },
  {
   "cell_type": "markdown",
   "metadata": {},
   "source": [
    "How many usage types?"
   ]
  },
  {
   "cell_type": "code",
   "execution_count": 33,
   "metadata": {
    "collapsed": false
   },
   "outputs": [
    {
     "data": {
      "text/plain": [
       "USE1-USW2-AWS-Out-Bytes    2012\n",
       "Requests-Tier2             1452\n",
       "Requests-Tier1              829\n",
       "DataTransfer-Out-Bytes       73\n",
       "TimedStorage-ByteHrs         29\n",
       "Name: lineItem/UsageType, dtype: int64"
      ]
     },
     "execution_count": 33,
     "metadata": {},
     "output_type": "execute_result"
    }
   ],
   "source": [
    "s3['lineItem/UsageType'].value_counts()"
   ]
  },
  {
   "cell_type": "markdown",
   "metadata": {},
   "source": [
    "Cost breakdown for different product types:"
   ]
  },
  {
   "cell_type": "code",
   "execution_count": 34,
   "metadata": {
    "collapsed": false
   },
   "outputs": [],
   "source": [
    "grp = s3.groupby('lineItem/UsageType')"
   ]
  },
  {
   "cell_type": "code",
   "execution_count": 35,
   "metadata": {
    "collapsed": false
   },
   "outputs": [
    {
     "data": {
      "text/plain": [
       "lineItem/UsageType\n",
       "DataTransfer-Out-Bytes      0.000000\n",
       "Requests-Tier1              0.648225\n",
       "Requests-Tier2              0.499836\n",
       "TimedStorage-ByteHrs       10.436320\n",
       "USE1-USW2-AWS-Out-Bytes     0.838028\n",
       "Name: lineItem/BlendedCost, dtype: float64"
      ]
     },
     "execution_count": 35,
     "metadata": {},
     "output_type": "execute_result"
    }
   ],
   "source": [
    "x = grp['lineItem/BlendedCost'].sum()\n",
    "x"
   ]
  },
  {
   "cell_type": "code",
   "execution_count": 36,
   "metadata": {
    "collapsed": false
   },
   "outputs": [
    {
     "data": {
      "text/html": [
       "\n",
       "\n",
       "    <div class=\"bk-root\">\n",
       "        <div class=\"bk-plotdiv\" id=\"71d222db-b98a-47ad-bac1-d497f4d462d9\"></div>\n",
       "    </div>\n",
       "<script type=\"text/javascript\">\n",
       "  \n",
       "  (function(global) {\n",
       "    function now() {\n",
       "      return new Date();\n",
       "    }\n",
       "  \n",
       "    var force = false;\n",
       "  \n",
       "    if (typeof (window._bokeh_onload_callbacks) === \"undefined\" || force === true) {\n",
       "      window._bokeh_onload_callbacks = [];\n",
       "      window._bokeh_is_loading = undefined;\n",
       "    }\n",
       "  \n",
       "  \n",
       "    \n",
       "    if (typeof (window._bokeh_timeout) === \"undefined\" || force === true) {\n",
       "      window._bokeh_timeout = Date.now() + 0;\n",
       "      window._bokeh_failed_load = false;\n",
       "    }\n",
       "  \n",
       "    var NB_LOAD_WARNING = {'data': {'text/html':\n",
       "       \"<div style='background-color: #fdd'>\\n\"+\n",
       "       \"<p>\\n\"+\n",
       "       \"BokehJS does not appear to have successfully loaded. If loading BokehJS from CDN, this \\n\"+\n",
       "       \"may be due to a slow or bad network connection. Possible fixes:\\n\"+\n",
       "       \"</p>\\n\"+\n",
       "       \"<ul>\\n\"+\n",
       "       \"<li>re-rerun `output_notebook()` to attempt to load from CDN again, or</li>\\n\"+\n",
       "       \"<li>use INLINE resources instead, as so:</li>\\n\"+\n",
       "       \"</ul>\\n\"+\n",
       "       \"<code>\\n\"+\n",
       "       \"from bokeh.resources import INLINE\\n\"+\n",
       "       \"output_notebook(resources=INLINE)\\n\"+\n",
       "       \"</code>\\n\"+\n",
       "       \"</div>\"}};\n",
       "  \n",
       "    function display_loaded() {\n",
       "      if (window.Bokeh !== undefined) {\n",
       "        document.getElementById(\"71d222db-b98a-47ad-bac1-d497f4d462d9\").textContent = \"BokehJS successfully loaded.\";\n",
       "      } else if (Date.now() < window._bokeh_timeout) {\n",
       "        setTimeout(display_loaded, 100)\n",
       "      }\n",
       "    }\n",
       "  \n",
       "    function run_callbacks() {\n",
       "      window._bokeh_onload_callbacks.forEach(function(callback) { callback() });\n",
       "      delete window._bokeh_onload_callbacks\n",
       "      console.info(\"Bokeh: all callbacks have finished\");\n",
       "    }\n",
       "  \n",
       "    function load_libs(js_urls, callback) {\n",
       "      window._bokeh_onload_callbacks.push(callback);\n",
       "      if (window._bokeh_is_loading > 0) {\n",
       "        console.log(\"Bokeh: BokehJS is being loaded, scheduling callback at\", now());\n",
       "        return null;\n",
       "      }\n",
       "      if (js_urls == null || js_urls.length === 0) {\n",
       "        run_callbacks();\n",
       "        return null;\n",
       "      }\n",
       "      console.log(\"Bokeh: BokehJS not loaded, scheduling load and callback at\", now());\n",
       "      window._bokeh_is_loading = js_urls.length;\n",
       "      for (var i = 0; i < js_urls.length; i++) {\n",
       "        var url = js_urls[i];\n",
       "        var s = document.createElement('script');\n",
       "        s.src = url;\n",
       "        s.async = false;\n",
       "        s.onreadystatechange = s.onload = function() {\n",
       "          window._bokeh_is_loading--;\n",
       "          if (window._bokeh_is_loading === 0) {\n",
       "            console.log(\"Bokeh: all BokehJS libraries loaded\");\n",
       "            run_callbacks()\n",
       "          }\n",
       "        };\n",
       "        s.onerror = function() {\n",
       "          console.warn(\"failed to load library \" + url);\n",
       "        };\n",
       "        console.log(\"Bokeh: injecting script tag for BokehJS library: \", url);\n",
       "        document.getElementsByTagName(\"head\")[0].appendChild(s);\n",
       "      }\n",
       "    };var element = document.getElementById(\"71d222db-b98a-47ad-bac1-d497f4d462d9\");\n",
       "    if (element == null) {\n",
       "      console.log(\"Bokeh: ERROR: autoload.js configured with elementid '71d222db-b98a-47ad-bac1-d497f4d462d9' but no matching script tag was found. \")\n",
       "      return false;\n",
       "    }\n",
       "  \n",
       "    var js_urls = [];\n",
       "  \n",
       "    var inline_js = [\n",
       "      function(Bokeh) {\n",
       "        (function() {\n",
       "          var fn = function() {\n",
       "            var docs_json = {\"83ceee78-4329-4940-915f-711d344437ca\":{\"roots\":{\"references\":[{\"attributes\":{\"location\":\"top_left\",\"plot\":{\"id\":\"d0a4e137-5f63-453b-af7f-e77319d854b4\",\"subtype\":\"Chart\",\"type\":\"Plot\"}},\"id\":\"10297f01-f3e6-475d-abcc-b713f5f0f5a1\",\"type\":\"Legend\"},{\"attributes\":{\"end_angle\":{\"field\":\"end\",\"units\":\"rad\"},\"fill_alpha\":{\"value\":0.8},\"fill_color\":{\"field\":\"color\"},\"inner_radius\":{\"field\":\"inners\",\"units\":\"data\"},\"line_color\":{\"value\":\"White\"},\"outer_radius\":{\"field\":\"outers\",\"units\":\"data\"},\"start_angle\":{\"field\":\"start\",\"units\":\"rad\"},\"x\":{\"value\":0},\"y\":{\"value\":0}},\"id\":\"bc7a2801-bff3-47ef-8497-9bbc4fb59d68\",\"type\":\"AnnularWedge\"},{\"attributes\":{\"axis_label\":null,\"formatter\":{\"id\":\"b2f2720b-557b-46da-be1b-6f37cb289fa9\",\"type\":\"BasicTickFormatter\"},\"plot\":{\"id\":\"d0a4e137-5f63-453b-af7f-e77319d854b4\",\"subtype\":\"Chart\",\"type\":\"Plot\"},\"ticker\":{\"id\":\"4a8474b2-e947-4501-833b-3544422f3091\",\"type\":\"BasicTicker\"},\"visible\":false},\"id\":\"72033f2a-2e95-42b3-a469-25a48d5713ca\",\"type\":\"LinearAxis\"},{\"attributes\":{\"callback\":null,\"end\":1.6500000000000001,\"start\":-1.6500000000000001},\"id\":\"9e15c91d-cfa4-4dec-9267-3c9c1095ac90\",\"type\":\"Range1d\"},{\"attributes\":{\"plot\":{\"id\":\"d0a4e137-5f63-453b-af7f-e77319d854b4\",\"subtype\":\"Chart\",\"type\":\"Plot\"}},\"id\":\"be2c24eb-025a-420b-a3b6-146d3d3d3e4b\",\"type\":\"ResetTool\"},{\"attributes\":{\"callback\":null,\"column_names\":[\"start\",\"end\",\"centers\",\"level\",\"outers\",\"values\",\"inners\",\"lineItem/UsageType\",\"color\"],\"data\":{\"centers\":[1.125,1.125,1.125,1.125],\"color\":[\"#f22c40\",\"#5ab738\",\"#407ee7\",\"#df5320\"],\"end\":[0.32786859742088686,0.5806826621561683,5.859315388441224,6.283185307179586],\"inners\":[0.0,0.0,0.0,0.0],\"level\":[0.0,0.0,0.0,0.0],\"lineItem/UsageType\":[\"Requests-Tier1\",\"Requests-Tier2\",\"TimedStorage-ByteHrs\",\"USE1-USW2-AWS-Out-Bytes\"],\"outers\":[1.5,1.5,1.5,1.5],\"start\":[0.0,0.32786859742088686,0.5806826621561683,5.859315388441224],\"values\":[0.6482249999999998,0.49983560000000077,10.436320299999998,0.8380280400000004]}},\"id\":\"0219f5d2-891c-4469-b09e-21d9ae6bd7a7\",\"type\":\"ColumnDataSource\"},{\"attributes\":{\"angle\":{\"field\":\"text_angle\",\"units\":\"rad\"},\"text_align\":\"center\",\"text_baseline\":\"middle\",\"text_font_size\":{\"value\":\"10pt\"},\"x\":{\"field\":\"x\"},\"y\":{\"field\":\"y\"}},\"id\":\"6d5c72c5-2c23-4796-ad3c-d7a82e5c12ff\",\"type\":\"Text\"},{\"attributes\":{},\"id\":\"610b8a4b-5fc9-4890-9276-c264b729ca8c\",\"type\":\"BasicTicker\"},{\"attributes\":{\"callback\":null,\"column_names\":[\"text_angle\",\"y\",\"x\",\"text\"],\"data\":{\"text\":[\"Requests-Tier1\",\"Requests-Tier2\",\"TimedStorage-ByteHrs\",\"USE1-USW2-AWS-Out-Bytes\"],\"text_angle\":{\"__ndarray__\":\"AAAAAAAAAAAAAAAAAAAAAAAAAAAAAAAAAAAAAAAAAAA=\",\"dtype\":\"float64\",\"shape\":[4]},\"x\":[1.109916943972948,1.0109015166326136,-1.1215437691521093,1.099828937962246],\"y\":[0.18360113692935595,0.49366296566572765,-0.08811681948459091,-0.2366459533159992]}},\"id\":\"895650ec-a9ce-4262-b96d-413c9e319d74\",\"type\":\"ColumnDataSource\"},{\"attributes\":{\"overlay\":{\"id\":\"bd79dd89-b068-49ca-a6e3-b665079c80e9\",\"type\":\"BoxAnnotation\"},\"plot\":{\"id\":\"d0a4e137-5f63-453b-af7f-e77319d854b4\",\"subtype\":\"Chart\",\"type\":\"Plot\"}},\"id\":\"92e54b20-dc7f-4e16-980e-01aa1286937f\",\"type\":\"BoxZoomTool\"},{\"attributes\":{\"data_source\":{\"id\":\"895650ec-a9ce-4262-b96d-413c9e319d74\",\"type\":\"ColumnDataSource\"},\"glyph\":{\"id\":\"6d5c72c5-2c23-4796-ad3c-d7a82e5c12ff\",\"type\":\"Text\"},\"hover_glyph\":null,\"nonselection_glyph\":null,\"selection_glyph\":null},\"id\":\"1dc32284-078a-4e15-9197-62d8ec787fd5\",\"type\":\"GlyphRenderer\"},{\"attributes\":{\"callback\":null,\"end\":1.6500000000000001,\"start\":-1.6500000000000001},\"id\":\"b5962120-6d75-412a-8fc0-dc5210523fa7\",\"type\":\"Range1d\"},{\"attributes\":{\"plot\":{\"id\":\"d0a4e137-5f63-453b-af7f-e77319d854b4\",\"subtype\":\"Chart\",\"type\":\"Plot\"}},\"id\":\"da28476f-2a4b-4897-8360-ff9c529b458c\",\"type\":\"HelpTool\"},{\"attributes\":{\"axis_label\":null,\"formatter\":{\"id\":\"0a8730aa-b312-4da8-858e-347d9f68e535\",\"type\":\"BasicTickFormatter\"},\"plot\":{\"id\":\"d0a4e137-5f63-453b-af7f-e77319d854b4\",\"subtype\":\"Chart\",\"type\":\"Plot\"},\"ticker\":{\"id\":\"610b8a4b-5fc9-4890-9276-c264b729ca8c\",\"type\":\"BasicTicker\"},\"visible\":false},\"id\":\"d36dd0d0-b478-4559-9abb-058310abd418\",\"type\":\"LinearAxis\"},{\"attributes\":{\"data_source\":{\"id\":\"0219f5d2-891c-4469-b09e-21d9ae6bd7a7\",\"type\":\"ColumnDataSource\"},\"glyph\":{\"id\":\"bc7a2801-bff3-47ef-8497-9bbc4fb59d68\",\"type\":\"AnnularWedge\"},\"hover_glyph\":null,\"nonselection_glyph\":null,\"selection_glyph\":null},\"id\":\"fbb73856-623e-4ab2-93a4-a84772e7791f\",\"type\":\"GlyphRenderer\"},{\"attributes\":{},\"id\":\"b2f2720b-557b-46da-be1b-6f37cb289fa9\",\"type\":\"BasicTickFormatter\"},{\"attributes\":{\"below\":[{\"id\":\"72033f2a-2e95-42b3-a469-25a48d5713ca\",\"type\":\"LinearAxis\"}],\"css_classes\":null,\"left\":[{\"id\":\"d36dd0d0-b478-4559-9abb-058310abd418\",\"type\":\"LinearAxis\"}],\"renderers\":[{\"id\":\"bd79dd89-b068-49ca-a6e3-b665079c80e9\",\"type\":\"BoxAnnotation\"},{\"id\":\"fbb73856-623e-4ab2-93a4-a84772e7791f\",\"type\":\"GlyphRenderer\"},{\"id\":\"1dc32284-078a-4e15-9197-62d8ec787fd5\",\"type\":\"GlyphRenderer\"},{\"id\":\"10297f01-f3e6-475d-abcc-b713f5f0f5a1\",\"type\":\"Legend\"},{\"id\":\"72033f2a-2e95-42b3-a469-25a48d5713ca\",\"type\":\"LinearAxis\"},{\"id\":\"d36dd0d0-b478-4559-9abb-058310abd418\",\"type\":\"LinearAxis\"}],\"title\":{\"id\":\"e4b52bf7-daef-4d76-9368-55652bbb5c1c\",\"type\":\"Title\"},\"tool_events\":{\"id\":\"2fee9109-e0dc-4fa8-bbe7-ea864e59264e\",\"type\":\"ToolEvents\"},\"toolbar\":{\"id\":\"7d9a14a7-1b7d-4979-aef2-cd50f69a1a7e\",\"type\":\"Toolbar\"},\"x_mapper_type\":\"auto\",\"x_range\":{\"id\":\"9e15c91d-cfa4-4dec-9267-3c9c1095ac90\",\"type\":\"Range1d\"},\"y_mapper_type\":\"auto\",\"y_range\":{\"id\":\"b5962120-6d75-412a-8fc0-dc5210523fa7\",\"type\":\"Range1d\"}},\"id\":\"d0a4e137-5f63-453b-af7f-e77319d854b4\",\"subtype\":\"Chart\",\"type\":\"Plot\"},{\"attributes\":{},\"id\":\"2fee9109-e0dc-4fa8-bbe7-ea864e59264e\",\"type\":\"ToolEvents\"},{\"attributes\":{},\"id\":\"4a8474b2-e947-4501-833b-3544422f3091\",\"type\":\"BasicTicker\"},{\"attributes\":{\"plot\":{\"id\":\"d0a4e137-5f63-453b-af7f-e77319d854b4\",\"subtype\":\"Chart\",\"type\":\"Plot\"}},\"id\":\"65d57325-942d-44b9-b75f-072623a4a049\",\"type\":\"WheelZoomTool\"},{\"attributes\":{\"bottom_units\":\"screen\",\"fill_alpha\":{\"value\":0.5},\"fill_color\":{\"value\":\"lightgrey\"},\"left_units\":\"screen\",\"level\":\"overlay\",\"line_alpha\":{\"value\":1.0},\"line_color\":{\"value\":\"black\"},\"line_dash\":[4,4],\"line_width\":{\"value\":2},\"plot\":null,\"render_mode\":\"css\",\"right_units\":\"screen\",\"top_units\":\"screen\"},\"id\":\"bd79dd89-b068-49ca-a6e3-b665079c80e9\",\"type\":\"BoxAnnotation\"},{\"attributes\":{\"active_drag\":\"auto\",\"active_scroll\":\"auto\",\"active_tap\":\"auto\",\"tools\":[{\"id\":\"b48a02cf-2081-4b76-96eb-a9a79cd5eb98\",\"type\":\"PanTool\"},{\"id\":\"65d57325-942d-44b9-b75f-072623a4a049\",\"type\":\"WheelZoomTool\"},{\"id\":\"92e54b20-dc7f-4e16-980e-01aa1286937f\",\"type\":\"BoxZoomTool\"},{\"id\":\"ff77e0cc-b524-4e64-bf1f-b9f2e468ee5b\",\"type\":\"SaveTool\"},{\"id\":\"be2c24eb-025a-420b-a3b6-146d3d3d3e4b\",\"type\":\"ResetTool\"},{\"id\":\"da28476f-2a4b-4897-8360-ff9c529b458c\",\"type\":\"HelpTool\"}]},\"id\":\"7d9a14a7-1b7d-4979-aef2-cd50f69a1a7e\",\"type\":\"Toolbar\"},{\"attributes\":{\"plot\":{\"id\":\"d0a4e137-5f63-453b-af7f-e77319d854b4\",\"subtype\":\"Chart\",\"type\":\"Plot\"}},\"id\":\"b48a02cf-2081-4b76-96eb-a9a79cd5eb98\",\"type\":\"PanTool\"},{\"attributes\":{\"plot\":{\"id\":\"d0a4e137-5f63-453b-af7f-e77319d854b4\",\"subtype\":\"Chart\",\"type\":\"Plot\"}},\"id\":\"ff77e0cc-b524-4e64-bf1f-b9f2e468ee5b\",\"type\":\"SaveTool\"},{\"attributes\":{},\"id\":\"0a8730aa-b312-4da8-858e-347d9f68e535\",\"type\":\"BasicTickFormatter\"},{\"attributes\":{\"plot\":null,\"text\":\"AWS S3 Cost Breakdown\"},\"id\":\"e4b52bf7-daef-4d76-9368-55652bbb5c1c\",\"type\":\"Title\"}],\"root_ids\":[\"d0a4e137-5f63-453b-af7f-e77319d854b4\"]},\"title\":\"Bokeh Application\",\"version\":\"0.12.4\"}};\n",
       "            var render_items = [{\"docid\":\"83ceee78-4329-4940-915f-711d344437ca\",\"elementid\":\"71d222db-b98a-47ad-bac1-d497f4d462d9\",\"modelid\":\"d0a4e137-5f63-453b-af7f-e77319d854b4\"}];\n",
       "            \n",
       "            Bokeh.embed.embed_items(docs_json, render_items);\n",
       "          };\n",
       "          if (document.readyState != \"loading\") fn();\n",
       "          else document.addEventListener(\"DOMContentLoaded\", fn);\n",
       "        })();\n",
       "      },\n",
       "      function(Bokeh) {\n",
       "      }\n",
       "    ];\n",
       "  \n",
       "    function run_inline_js() {\n",
       "      \n",
       "      if ((window.Bokeh !== undefined) || (force === true)) {\n",
       "        for (var i = 0; i < inline_js.length; i++) {\n",
       "          inline_js[i](window.Bokeh);\n",
       "        }if (force === true) {\n",
       "          display_loaded();\n",
       "        }} else if (Date.now() < window._bokeh_timeout) {\n",
       "        setTimeout(run_inline_js, 100);\n",
       "      } else if (!window._bokeh_failed_load) {\n",
       "        console.log(\"Bokeh: BokehJS failed to load within specified timeout.\");\n",
       "        window._bokeh_failed_load = true;\n",
       "      } else if (force !== true) {\n",
       "        var cell = $(document.getElementById(\"71d222db-b98a-47ad-bac1-d497f4d462d9\")).parents('.cell').data().cell;\n",
       "        cell.output_area.append_execute_result(NB_LOAD_WARNING)\n",
       "      }\n",
       "  \n",
       "    }\n",
       "  \n",
       "    if (window._bokeh_is_loading === 0) {\n",
       "      console.log(\"Bokeh: BokehJS loaded, going straight to plotting\");\n",
       "      run_inline_js();\n",
       "    } else {\n",
       "      load_libs(js_urls, function() {\n",
       "        console.log(\"Bokeh: BokehJS plotting callback run at\", now());\n",
       "        run_inline_js();\n",
       "      });\n",
       "    }\n",
       "  }(this));\n",
       "</script>"
      ]
     },
     "metadata": {},
     "output_type": "display_data"
    }
   ],
   "source": [
    "f = Donut(x.iloc[x.nonzero()], title='AWS S3 Cost Breakdown',\n",
    "          plot_height=600, plot_width=600)\n",
    "show(f)"
   ]
  },
  {
   "cell_type": "markdown",
   "metadata": {},
   "source": [
    "How many unique operations for each of the AmazonS3 product types?"
   ]
  },
  {
   "cell_type": "code",
   "execution_count": 37,
   "metadata": {
    "collapsed": false
   },
   "outputs": [
    {
     "data": {
      "text/plain": [
       "lineItem/UsageType\n",
       "DataTransfer-Out-Bytes              [GetObject, ListBucket, HeadObject]\n",
       "Requests-Tier1              [ListBucketVersions, PutObject, ListBucket]\n",
       "Requests-Tier2             [HeadBucket, GetObject, ReadACL, HeadObject]\n",
       "TimedStorage-ByteHrs                                  [StandardStorage]\n",
       "USE1-USW2-AWS-Out-Bytes     [ListBucketVersions, HeadBucket, GetObject]\n",
       "Name: lineItem/Operation, dtype: object"
      ]
     },
     "execution_count": 37,
     "metadata": {},
     "output_type": "execute_result"
    }
   ],
   "source": [
    "grp['lineItem/Operation'].unique()"
   ]
  },
  {
   "cell_type": "markdown",
   "metadata": {},
   "source": [
    "How many unique product SKUs for each of the AmazonS3 product types?"
   ]
  },
  {
   "cell_type": "code",
   "execution_count": 38,
   "metadata": {
    "collapsed": false
   },
   "outputs": [
    {
     "data": {
      "text/plain": [
       "lineItem/UsageType\n",
       "DataTransfer-Out-Bytes     [HQEH3ZWJVT46JHRG]\n",
       "Requests-Tier1             [E9YHNFENF4XQBZR6]\n",
       "Requests-Tier2             [ZWQ6Q48CRJXX4FXE]\n",
       "TimedStorage-ByteHrs       [WP9ANXZGBYYSGJEA]\n",
       "USE1-USW2-AWS-Out-Bytes    [XGXYRYWGNXSSEUVT]\n",
       "Name: product/sku, dtype: object"
      ]
     },
     "execution_count": 38,
     "metadata": {},
     "output_type": "execute_result"
    }
   ],
   "source": [
    "skus = grp['product/sku'].unique()\n",
    "skus"
   ]
  },
  {
   "cell_type": "markdown",
   "metadata": {},
   "source": [
    "Display description for all of these SKUs and their pricing tiers:"
   ]
  },
  {
   "cell_type": "code",
   "execution_count": 39,
   "metadata": {
    "collapsed": false
   },
   "outputs": [
    {
     "name": "stdout",
     "output_type": "stream",
     "text": [
      "Usage Type: DataTransfer-Out-Bytes\n",
      "  SKU: HQEH3ZWJVT46JHRG\n",
      "     $0.000 per GB - first 1 GB of data transferred out per month\n",
      "     $0.090 per GB - first 10 TB / month data transfer out beyond the global free tier\n",
      "     $0.085 per GB - next 40 TB / month data transfer out\n",
      "     $0.070 per GB - next 100 TB / month data transfer out\n",
      "     $0.050 per GB - greater than 150 TB / month data transfer out\n",
      "\n",
      "\n",
      "Usage Type: Requests-Tier1\n",
      "  SKU: E9YHNFENF4XQBZR6\n",
      "     $0.005 per 1,000 PUT, COPY, POST, or LIST requests\n",
      "\n",
      "\n",
      "Usage Type: Requests-Tier2\n",
      "  SKU: ZWQ6Q48CRJXX4FXE\n",
      "     $0.004 per 10,000 GET and all other requests\n",
      "\n",
      "\n",
      "Usage Type: TimedStorage-ByteHrs\n",
      "  SKU: WP9ANXZGBYYSGJEA\n",
      "     $0.023 per GB - first 50 TB / month of storage used\n",
      "     $0.022 per GB - next 450 TB / month of storage used\n",
      "     $0.021 per GB - storage used / month over 500 TB\n",
      "\n",
      "\n",
      "Usage Type: USE1-USW2-AWS-Out-Bytes\n",
      "  SKU: XGXYRYWGNXSSEUVT\n",
      "     $0.02 per GB - US East (Northern Virginia) data transfer to US West (Oregon)\n",
      "\n",
      "\n"
     ]
    }
   ],
   "source": [
    "for ut, sku_list in skus.iteritems():\n",
    "    print('Usage Type:', ut)\n",
    "    for sku in sku_list:\n",
    "        print('  SKU:', sku)\n",
    "        prod = s3o.product(sku)\n",
    "        if len(prod.pricing) > 1:\n",
    "            raise ValueError('{}: More than one product pricing info')\n",
    "        tiers = prod.pricing[0].tiers\n",
    "        for t in tiers:\n",
    "            print('    ', t.description)\n",
    "        print('\\n')"
   ]
  },
  {
   "cell_type": "markdown",
   "metadata": {},
   "source": [
    "## Sandbox\n",
    "\n",
    "Toying with various ideas below... Eventually, this stuff may be pulled somewhere up."
   ]
  },
  {
   "cell_type": "code",
   "execution_count": 41,
   "metadata": {
    "collapsed": false
   },
   "outputs": [
    {
     "data": {
      "text/html": [
       "\n",
       "\n",
       "    <div class=\"bk-root\">\n",
       "        <div class=\"bk-plotdiv\" id=\"c9475de8-20f5-46ea-bf51-36348264788e\"></div>\n",
       "    </div>\n",
       "<script type=\"text/javascript\">\n",
       "  \n",
       "  (function(global) {\n",
       "    function now() {\n",
       "      return new Date();\n",
       "    }\n",
       "  \n",
       "    var force = false;\n",
       "  \n",
       "    if (typeof (window._bokeh_onload_callbacks) === \"undefined\" || force === true) {\n",
       "      window._bokeh_onload_callbacks = [];\n",
       "      window._bokeh_is_loading = undefined;\n",
       "    }\n",
       "  \n",
       "  \n",
       "    \n",
       "    if (typeof (window._bokeh_timeout) === \"undefined\" || force === true) {\n",
       "      window._bokeh_timeout = Date.now() + 0;\n",
       "      window._bokeh_failed_load = false;\n",
       "    }\n",
       "  \n",
       "    var NB_LOAD_WARNING = {'data': {'text/html':\n",
       "       \"<div style='background-color: #fdd'>\\n\"+\n",
       "       \"<p>\\n\"+\n",
       "       \"BokehJS does not appear to have successfully loaded. If loading BokehJS from CDN, this \\n\"+\n",
       "       \"may be due to a slow or bad network connection. Possible fixes:\\n\"+\n",
       "       \"</p>\\n\"+\n",
       "       \"<ul>\\n\"+\n",
       "       \"<li>re-rerun `output_notebook()` to attempt to load from CDN again, or</li>\\n\"+\n",
       "       \"<li>use INLINE resources instead, as so:</li>\\n\"+\n",
       "       \"</ul>\\n\"+\n",
       "       \"<code>\\n\"+\n",
       "       \"from bokeh.resources import INLINE\\n\"+\n",
       "       \"output_notebook(resources=INLINE)\\n\"+\n",
       "       \"</code>\\n\"+\n",
       "       \"</div>\"}};\n",
       "  \n",
       "    function display_loaded() {\n",
       "      if (window.Bokeh !== undefined) {\n",
       "        document.getElementById(\"c9475de8-20f5-46ea-bf51-36348264788e\").textContent = \"BokehJS successfully loaded.\";\n",
       "      } else if (Date.now() < window._bokeh_timeout) {\n",
       "        setTimeout(display_loaded, 100)\n",
       "      }\n",
       "    }\n",
       "  \n",
       "    function run_callbacks() {\n",
       "      window._bokeh_onload_callbacks.forEach(function(callback) { callback() });\n",
       "      delete window._bokeh_onload_callbacks\n",
       "      console.info(\"Bokeh: all callbacks have finished\");\n",
       "    }\n",
       "  \n",
       "    function load_libs(js_urls, callback) {\n",
       "      window._bokeh_onload_callbacks.push(callback);\n",
       "      if (window._bokeh_is_loading > 0) {\n",
       "        console.log(\"Bokeh: BokehJS is being loaded, scheduling callback at\", now());\n",
       "        return null;\n",
       "      }\n",
       "      if (js_urls == null || js_urls.length === 0) {\n",
       "        run_callbacks();\n",
       "        return null;\n",
       "      }\n",
       "      console.log(\"Bokeh: BokehJS not loaded, scheduling load and callback at\", now());\n",
       "      window._bokeh_is_loading = js_urls.length;\n",
       "      for (var i = 0; i < js_urls.length; i++) {\n",
       "        var url = js_urls[i];\n",
       "        var s = document.createElement('script');\n",
       "        s.src = url;\n",
       "        s.async = false;\n",
       "        s.onreadystatechange = s.onload = function() {\n",
       "          window._bokeh_is_loading--;\n",
       "          if (window._bokeh_is_loading === 0) {\n",
       "            console.log(\"Bokeh: all BokehJS libraries loaded\");\n",
       "            run_callbacks()\n",
       "          }\n",
       "        };\n",
       "        s.onerror = function() {\n",
       "          console.warn(\"failed to load library \" + url);\n",
       "        };\n",
       "        console.log(\"Bokeh: injecting script tag for BokehJS library: \", url);\n",
       "        document.getElementsByTagName(\"head\")[0].appendChild(s);\n",
       "      }\n",
       "    };var element = document.getElementById(\"c9475de8-20f5-46ea-bf51-36348264788e\");\n",
       "    if (element == null) {\n",
       "      console.log(\"Bokeh: ERROR: autoload.js configured with elementid 'c9475de8-20f5-46ea-bf51-36348264788e' but no matching script tag was found. \")\n",
       "      return false;\n",
       "    }\n",
       "  \n",
       "    var js_urls = [];\n",
       "  \n",
       "    var inline_js = [\n",
       "      function(Bokeh) {\n",
       "        (function() {\n",
       "          var fn = function() {\n",
       "            var docs_json = {\"a4c0b1b5-85f0-4dd6-aad3-6e113c6b16cb\":{\"roots\":{\"references\":[{\"attributes\":{\"days\":[1,2,3,4,5,6,7,8,9,10,11,12,13,14,15,16,17,18,19,20,21,22,23,24,25,26,27,28,29,30,31]},\"id\":\"cd73ef14-5e4c-46b9-b047-aea2d7dbef85\",\"type\":\"DaysTicker\"},{\"attributes\":{\"plot\":{\"id\":\"8225220d-f128-4f4b-9035-733b15f7d7aa\",\"subtype\":\"Chart\",\"type\":\"Plot\"}},\"id\":\"f8266e15-b7cd-42f1-84d5-7d0710e836d9\",\"type\":\"PanTool\"},{\"attributes\":{\"dimension\":1,\"plot\":{\"id\":\"8225220d-f128-4f4b-9035-733b15f7d7aa\",\"subtype\":\"Chart\",\"type\":\"Plot\"},\"ticker\":{\"id\":\"9d93d7ab-7bb5-4cd3-aa88-d34e2745c241\",\"type\":\"BasicTicker\"}},\"id\":\"e0b6bafb-fa5f-4087-b904-a4f2f89d1234\",\"type\":\"Grid\"},{\"attributes\":{\"months\":[0,1,2,3,4,5,6,7,8,9,10,11]},\"id\":\"82e0745b-02bd-47a7-b165-f8dcba77d378\",\"type\":\"MonthsTicker\"},{\"attributes\":{\"callback\":null,\"column_names\":[\"x_values\",\"y_values\"],\"data\":{\"chart_index\":[\"None\",\"None\",\"None\",\"None\",\"None\",\"None\",\"None\",\"None\",\"None\",\"None\",\"None\",\"None\",\"None\",\"None\",\"None\",\"None\",\"None\",\"None\",\"None\",\"None\",\"None\",\"None\",\"None\",\"None\",\"None\",\"None\",\"None\",\"None\",\"None\",\"None\",\"None\",\"None\",\"None\",\"None\",\"None\",\"None\",\"None\",\"None\",\"None\",\"None\",\"None\",\"None\",\"None\",\"None\",\"None\",\"None\",\"None\",\"None\",\"None\",\"None\",\"None\",\"None\",\"None\",\"None\",\"None\",\"None\",\"None\",\"None\",\"None\",\"None\",\"None\",\"None\",\"None\",\"None\",\"None\",\"None\",\"None\",\"None\",\"None\",\"None\",\"None\",\"None\",\"None\",\"None\",\"None\",\"None\",\"None\",\"None\",\"None\",\"None\",\"None\",\"None\",\"None\",\"None\",\"None\",\"None\",\"None\",\"None\",\"None\",\"None\",\"None\",\"None\",\"None\",\"None\",\"None\",\"None\",\"None\",\"None\",\"None\",\"None\",\"None\",\"None\",\"None\",\"None\",\"None\",\"None\",\"None\",\"None\",\"None\",\"None\",\"None\",\"None\",\"None\",\"None\",\"None\",\"None\",\"None\",\"None\",\"None\",\"None\",\"None\",\"None\",\"None\",\"None\",\"None\",\"None\",\"None\",\"None\",\"None\",\"None\",\"None\",\"None\",\"None\",\"None\",\"None\",\"None\",\"None\",\"None\",\"None\",\"None\",\"None\",\"None\",\"None\",\"None\",\"None\",\"None\",\"None\",\"None\",\"None\",\"None\",\"None\",\"None\",\"None\",\"None\",\"None\",\"None\",\"None\",\"None\",\"None\",\"None\",\"None\",\"None\",\"None\",\"None\",\"None\",\"None\",\"None\",\"None\",\"None\",\"None\",\"None\",\"None\",\"None\",\"None\",\"None\",\"None\",\"None\",\"None\",\"None\",\"None\",\"None\",\"None\",\"None\",\"None\",\"None\",\"None\",\"None\",\"None\",\"None\",\"None\",\"None\",\"None\",\"None\",\"None\",\"None\",\"None\",\"None\",\"None\",\"None\",\"None\",\"None\",\"None\",\"None\",\"None\",\"None\",\"None\",\"None\",\"None\",\"None\",\"None\",\"None\",\"None\",\"None\",\"None\",\"None\",\"None\",\"None\",\"None\",\"None\",\"None\",\"None\",\"None\",\"None\",\"None\",\"None\",\"None\",\"None\",\"None\",\"None\",\"None\",\"None\",\"None\",\"None\",\"None\",\"None\",\"None\",\"None\",\"None\",\"None\",\"None\",\"None\",\"None\",\"None\",\"None\",\"None\",\"None\",\"None\",\"None\",\"None\",\"None\",\"None\",\"None\",\"None\",\"None\",\"None\",\"None\",\"None\",\"None\",\"None\",\"None\",\"None\",\"None\",\"None\",\"None\",\"None\",\"None\",\"None\",\"None\",\"None\",\"None\",\"None\",\"None\",\"None\",\"None\",\"None\",\"None\",\"None\",\"None\",\"None\",\"None\",\"None\",\"None\",\"None\",\"None\",\"None\",\"None\",\"None\",\"None\",\"None\",\"None\",\"None\",\"None\",\"None\",\"None\",\"None\",\"None\",\"None\",\"None\",\"None\",\"None\",\"None\",\"None\",\"None\",\"None\",\"None\",\"None\",\"None\",\"None\",\"None\",\"None\",\"None\",\"None\",\"None\",\"None\",\"None\",\"None\",\"None\",\"None\",\"None\",\"None\",\"None\",\"None\",\"None\",\"None\",\"None\",\"None\",\"None\",\"None\",\"None\",\"None\",\"None\",\"None\",\"None\",\"None\",\"None\",\"None\",\"None\",\"None\",\"None\",\"None\",\"None\",\"None\",\"None\",\"None\",\"None\",\"None\",\"None\",\"None\",\"None\",\"None\",\"None\",\"None\",\"None\",\"None\",\"None\",\"None\",\"None\",\"None\",\"None\",\"None\",\"None\",\"None\",\"None\",\"None\",\"None\",\"None\",\"None\",\"None\",\"None\",\"None\",\"None\",\"None\",\"None\",\"None\",\"None\",\"None\",\"None\",\"None\",\"None\",\"None\",\"None\",\"None\",\"None\",\"None\",\"None\",\"None\",\"None\",\"None\",\"None\",\"None\",\"None\",\"None\",\"None\",\"None\",\"None\",\"None\",\"None\",\"None\",\"None\",\"None\",\"None\",\"None\",\"None\",\"None\",\"None\",\"None\",\"None\",\"None\",\"None\",\"None\",\"None\",\"None\",\"None\",\"None\",\"None\",\"None\",\"None\",\"None\",\"None\",\"None\",\"None\",\"None\",\"None\",\"None\",\"None\",\"None\",\"None\",\"None\",\"None\",\"None\",\"None\",\"None\",\"None\",\"None\",\"None\",\"None\",\"None\",\"None\",\"None\",\"None\",\"None\",\"None\",\"None\",\"None\",\"None\",\"None\",\"None\",\"None\",\"None\",\"None\",\"None\",\"None\",\"None\",\"None\",\"None\",\"None\",\"None\",\"None\",\"None\",\"None\",\"None\",\"None\",\"None\",\"None\",\"None\",\"None\",\"None\",\"None\",\"None\",\"None\",\"None\",\"None\",\"None\",\"None\",\"None\",\"None\",\"None\",\"None\",\"None\",\"None\",\"None\",\"None\",\"None\",\"None\",\"None\",\"None\",\"None\",\"None\",\"None\",\"None\",\"None\",\"None\",\"None\",\"None\",\"None\",\"None\",\"None\",\"None\",\"None\",\"None\",\"None\",\"None\",\"None\",\"None\",\"None\",\"None\",\"None\",\"None\",\"None\",\"None\",\"None\",\"None\",\"None\",\"None\",\"None\",\"None\",\"None\",\"None\",\"None\",\"None\",\"None\",\"None\",\"None\",\"None\",\"None\",\"None\",\"None\",\"None\",\"None\",\"None\",\"None\",\"None\",\"None\",\"None\",\"None\",\"None\",\"None\",\"None\",\"None\",\"None\",\"None\",\"None\",\"None\",\"None\",\"None\",\"None\",\"None\",\"None\",\"None\",\"None\",\"None\",\"None\",\"None\",\"None\",\"None\",\"None\",\"None\",\"None\",\"None\",\"None\",\"None\",\"None\",\"None\",\"None\",\"None\",\"None\",\"None\",\"None\",\"None\",\"None\",\"None\",\"None\",\"None\",\"None\",\"None\",\"None\",\"None\",\"None\",\"None\",\"None\",\"None\",\"None\",\"None\",\"None\",\"None\",\"None\",\"None\",\"None\",\"None\",\"None\",\"None\",\"None\",\"None\",\"None\",\"None\",\"None\",\"None\",\"None\",\"None\",\"None\",\"None\",\"None\",\"None\",\"None\",\"None\",\"None\",\"None\",\"None\",\"None\",\"None\",\"None\",\"None\",\"None\",\"None\",\"None\",\"None\",\"None\",\"None\",\"None\",\"None\",\"None\",\"None\",\"None\",\"None\",\"None\",\"None\",\"None\",\"None\",\"None\",\"None\",\"None\",\"None\",\"None\",\"None\",\"None\",\"None\",\"None\",\"None\",\"None\",\"None\",\"None\",\"None\",\"None\",\"None\",\"None\",\"None\",\"None\",\"None\",\"None\",\"None\",\"None\",\"None\",\"None\",\"None\",\"None\",\"None\",\"None\",\"None\",\"None\",\"None\",\"None\",\"None\",\"None\",\"None\",\"None\",\"None\",\"None\",\"None\",\"None\",\"None\",\"None\",\"None\",\"None\",\"None\",\"None\",\"None\",\"None\",\"None\",\"None\",\"None\",\"None\",\"None\",\"None\",\"None\",\"None\",\"None\",\"None\",\"None\",\"None\",\"None\",\"None\",\"None\",\"None\",\"None\",\"None\",\"None\",\"None\",\"None\",\"None\",\"None\",\"None\",\"None\",\"None\",\"None\",\"None\",\"None\",\"None\",\"None\",\"None\",\"None\",\"None\",\"None\",\"None\",\"None\",\"None\",\"None\",\"None\",\"None\",\"None\",\"None\",\"None\",\"None\",\"None\",\"None\",\"None\",\"None\",\"None\",\"None\",\"None\",\"None\",\"None\",\"None\",\"None\",\"None\",\"None\",\"None\",\"None\",\"None\",\"None\",\"None\",\"None\",\"None\",\"None\",\"None\",\"None\",\"None\",\"None\",\"None\",\"None\",\"None\",\"None\",\"None\",\"None\",\"None\",\"None\",\"None\",\"None\",\"None\",\"None\",\"None\",\"None\",\"None\",\"None\",\"None\",\"None\",\"None\",\"None\",\"None\",\"None\",\"None\",\"None\",\"None\",\"None\",\"None\",\"None\",\"None\",\"None\",\"None\",\"None\",\"None\",\"None\",\"None\",\"None\",\"None\",\"None\",\"None\",\"None\",\"None\",\"None\",\"None\",\"None\",\"None\",\"None\",\"None\",\"None\",\"None\",\"None\",\"None\",\"None\",\"None\",\"None\",\"None\",\"None\",\"None\",\"None\",\"None\",\"None\",\"None\",\"None\",\"None\",\"None\",\"None\",\"None\",\"None\",\"None\",\"None\",\"None\",\"None\",\"None\",\"None\",\"None\",\"None\",\"None\",\"None\",\"None\",\"None\",\"None\",\"None\",\"None\",\"None\",\"None\",\"None\",\"None\",\"None\",\"None\",\"None\",\"None\",\"None\",\"None\",\"None\",\"None\",\"None\",\"None\",\"None\",\"None\",\"None\",\"None\",\"None\",\"None\",\"None\",\"None\",\"None\",\"None\",\"None\",\"None\",\"None\",\"None\",\"None\",\"None\",\"None\",\"None\",\"None\",\"None\",\"None\",\"None\",\"None\",\"None\",\"None\",\"None\",\"None\",\"None\",\"None\",\"None\",\"None\",\"None\",\"None\",\"None\",\"None\",\"None\",\"None\",\"None\",\"None\",\"None\",\"None\",\"None\",\"None\",\"None\",\"None\",\"None\",\"None\",\"None\",\"None\",\"None\",\"None\",\"None\",\"None\",\"None\",\"None\",\"None\",\"None\",\"None\",\"None\",\"None\",\"None\",\"None\",\"None\",\"None\",\"None\",\"None\",\"None\",\"None\",\"None\",\"None\",\"None\",\"None\",\"None\",\"None\",\"None\",\"None\",\"None\",\"None\",\"None\",\"None\",\"None\",\"None\",\"None\",\"None\",\"None\",\"None\",\"None\",\"None\",\"None\",\"None\",\"None\",\"None\",\"None\",\"None\",\"None\",\"None\",\"None\",\"None\",\"None\",\"None\",\"None\",\"None\",\"None\",\"None\",\"None\",\"None\",\"None\",\"None\",\"None\",\"None\",\"None\",\"None\",\"None\",\"None\",\"None\",\"None\",\"None\",\"None\",\"None\",\"None\",\"None\",\"None\",\"None\",\"None\",\"None\",\"None\",\"None\",\"None\",\"None\",\"None\",\"None\",\"None\",\"None\",\"None\",\"None\",\"None\",\"None\",\"None\",\"None\",\"None\",\"None\",\"None\",\"None\",\"None\",\"None\",\"None\",\"None\",\"None\",\"None\",\"None\",\"None\",\"None\",\"None\",\"None\",\"None\",\"None\",\"None\",\"None\",\"None\",\"None\",\"None\",\"None\",\"None\",\"None\",\"None\",\"None\",\"None\",\"None\",\"None\",\"None\",\"None\",\"None\",\"None\",\"None\",\"None\",\"None\",\"None\",\"None\",\"None\",\"None\",\"None\",\"None\",\"None\",\"None\",\"None\",\"None\",\"None\",\"None\",\"None\",\"None\",\"None\",\"None\",\"None\",\"None\",\"None\",\"None\",\"None\",\"None\",\"None\",\"None\",\"None\",\"None\",\"None\",\"None\",\"None\",\"None\",\"None\",\"None\",\"None\",\"None\",\"None\",\"None\",\"None\",\"None\",\"None\",\"None\",\"None\",\"None\",\"None\",\"None\",\"None\",\"None\",\"None\",\"None\",\"None\",\"None\",\"None\",\"None\",\"None\",\"None\",\"None\",\"None\",\"None\",\"None\",\"None\",\"None\",\"None\",\"None\",\"None\",\"None\",\"None\",\"None\",\"None\",\"None\",\"None\",\"None\",\"None\",\"None\",\"None\",\"None\",\"None\",\"None\",\"None\",\"None\",\"None\",\"None\",\"None\",\"None\",\"None\",\"None\",\"None\",\"None\",\"None\",\"None\",\"None\",\"None\",\"None\",\"None\",\"None\",\"None\",\"None\",\"None\",\"None\",\"None\",\"None\",\"None\",\"None\",\"None\",\"None\",\"None\",\"None\",\"None\",\"None\",\"None\",\"None\",\"None\",\"None\",\"None\",\"None\",\"None\",\"None\",\"None\",\"None\",\"None\",\"None\",\"None\",\"None\",\"None\",\"None\",\"None\",\"None\",\"None\",\"None\",\"None\",\"None\",\"None\",\"None\",\"None\",\"None\",\"None\",\"None\",\"None\",\"None\",\"None\",\"None\",\"None\",\"None\",\"None\",\"None\",\"None\",\"None\",\"None\",\"None\",\"None\",\"None\",\"None\",\"None\",\"None\",\"None\",\"None\",\"None\",\"None\",\"None\",\"None\",\"None\",\"None\",\"None\",\"None\",\"None\",\"None\",\"None\",\"None\",\"None\",\"None\",\"None\",\"None\",\"None\",\"None\",\"None\",\"None\",\"None\",\"None\",\"None\",\"None\",\"None\",\"None\",\"None\",\"None\",\"None\",\"None\",\"None\",\"None\",\"None\",\"None\",\"None\",\"None\",\"None\",\"None\",\"None\",\"None\",\"None\",\"None\",\"None\",\"None\",\"None\",\"None\",\"None\",\"None\",\"None\",\"None\",\"None\",\"None\",\"None\",\"None\",\"None\",\"None\",\"None\",\"None\",\"None\",\"None\",\"None\",\"None\",\"None\",\"None\",\"None\",\"None\",\"None\",\"None\",\"None\",\"None\",\"None\",\"None\",\"None\",\"None\",\"None\",\"None\",\"None\",\"None\",\"None\",\"None\",\"None\",\"None\",\"None\",\"None\",\"None\",\"None\",\"None\",\"None\",\"None\",\"None\",\"None\",\"None\",\"None\",\"None\",\"None\",\"None\",\"None\",\"None\",\"None\",\"None\",\"None\",\"None\",\"None\",\"None\",\"None\",\"None\",\"None\",\"None\",\"None\",\"None\",\"None\",\"None\",\"None\",\"None\",\"None\",\"None\",\"None\",\"None\",\"None\",\"None\",\"None\",\"None\",\"None\",\"None\",\"None\",\"None\",\"None\",\"None\",\"None\",\"None\",\"None\",\"None\",\"None\",\"None\",\"None\",\"None\",\"None\",\"None\",\"None\",\"None\",\"None\",\"None\",\"None\",\"None\",\"None\",\"None\",\"None\",\"None\",\"None\",\"None\",\"None\",\"None\",\"None\",\"None\",\"None\",\"None\",\"None\",\"None\",\"None\",\"None\",\"None\",\"None\",\"None\",\"None\",\"None\",\"None\",\"None\",\"None\"],\"x_values\":{\"__ndarray__\":\"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\",\"dtype\":\"float64\",\"shape\":[1341]},\"y_values\":{\"__ndarray__\":\"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\",\"dtype\":\"float64\",\"shape\":[1341]}}},\"id\":\"9f5510c4-3501-4047-b992-9f56a4403d71\",\"type\":\"ColumnDataSource\"},{\"attributes\":{\"months\":[0,4,8]},\"id\":\"3bde91fe-f8d8-4c78-b346-cf01f34bc134\",\"type\":\"MonthsTicker\"},{\"attributes\":{\"plot\":null,\"text\":null},\"id\":\"c325b4c0-5a3e-4bae-b878-eedd26023d17\",\"type\":\"Title\"},{\"attributes\":{\"below\":[{\"id\":\"995440de-6730-4ccd-bd6f-c511896e9e30\",\"type\":\"DatetimeAxis\"}],\"css_classes\":null,\"left\":[{\"id\":\"02b1fb3f-7261-4a04-8892-5e0aff0bb304\",\"type\":\"LinearAxis\"}],\"renderers\":[{\"id\":\"9fe20c16-588b-4218-8986-ee6bd1dfb417\",\"type\":\"BoxAnnotation\"},{\"id\":\"9e7a2daa-2cf2-4762-900f-c7161b2add46\",\"type\":\"GlyphRenderer\"},{\"id\":\"e299a113-1e4e-4985-9f23-62691b0f3c8c\",\"type\":\"Legend\"},{\"id\":\"995440de-6730-4ccd-bd6f-c511896e9e30\",\"type\":\"DatetimeAxis\"},{\"id\":\"02b1fb3f-7261-4a04-8892-5e0aff0bb304\",\"type\":\"LinearAxis\"},{\"id\":\"d68352c6-f916-4e11-8948-93c702c8cfbe\",\"type\":\"Grid\"},{\"id\":\"e0b6bafb-fa5f-4087-b904-a4f2f89d1234\",\"type\":\"Grid\"}],\"title\":{\"id\":\"c325b4c0-5a3e-4bae-b878-eedd26023d17\",\"type\":\"Title\"},\"tool_events\":{\"id\":\"d97239fd-aaa7-4280-a363-413462f2ba8c\",\"type\":\"ToolEvents\"},\"toolbar\":{\"id\":\"18fd8f45-9f9e-46d8-bdd8-ce933a3d5232\",\"type\":\"Toolbar\"},\"x_mapper_type\":\"auto\",\"x_range\":{\"id\":\"554a22f9-e9c3-42e0-9a78-89fac014ef8f\",\"type\":\"Range1d\"},\"y_mapper_type\":\"auto\",\"y_range\":{\"id\":\"73c97d78-61d3-411a-8135-bddb903c3924\",\"type\":\"Range1d\"}},\"id\":\"8225220d-f128-4f4b-9035-733b15f7d7aa\",\"subtype\":\"Chart\",\"type\":\"Plot\"},{\"attributes\":{},\"id\":\"9d93d7ab-7bb5-4cd3-aa88-d34e2745c241\",\"type\":\"BasicTicker\"},{\"attributes\":{},\"id\":\"72c1aceb-be5b-49a0-96c2-f0ffa9bce4f6\",\"type\":\"BasicTickFormatter\"},{\"attributes\":{},\"id\":\"d97239fd-aaa7-4280-a363-413462f2ba8c\",\"type\":\"ToolEvents\"},{\"attributes\":{\"bottom_units\":\"screen\",\"fill_alpha\":{\"value\":0.5},\"fill_color\":{\"value\":\"lightgrey\"},\"left_units\":\"screen\",\"level\":\"overlay\",\"line_alpha\":{\"value\":1.0},\"line_color\":{\"value\":\"black\"},\"line_dash\":[4,4],\"line_width\":{\"value\":2},\"plot\":null,\"render_mode\":\"css\",\"right_units\":\"screen\",\"top_units\":\"screen\"},\"id\":\"9fe20c16-588b-4218-8986-ee6bd1dfb417\",\"type\":\"BoxAnnotation\"},{\"attributes\":{\"plot\":{\"id\":\"8225220d-f128-4f4b-9035-733b15f7d7aa\",\"subtype\":\"Chart\",\"type\":\"Plot\"}},\"id\":\"6a5ced22-e200-4b87-9b90-a77b3862a9e0\",\"type\":\"HelpTool\"},{\"attributes\":{\"overlay\":{\"id\":\"9fe20c16-588b-4218-8986-ee6bd1dfb417\",\"type\":\"BoxAnnotation\"},\"plot\":{\"id\":\"8225220d-f128-4f4b-9035-733b15f7d7aa\",\"subtype\":\"Chart\",\"type\":\"Plot\"}},\"id\":\"57c04802-61f3-497e-8f5d-f5722f335438\",\"type\":\"BoxZoomTool\"},{\"attributes\":{\"location\":\"top_left\",\"plot\":{\"id\":\"8225220d-f128-4f4b-9035-733b15f7d7aa\",\"subtype\":\"Chart\",\"type\":\"Plot\"}},\"id\":\"e299a113-1e4e-4985-9f23-62691b0f3c8c\",\"type\":\"Legend\"},{\"attributes\":{\"days\":[1,8,15,22]},\"id\":\"9efb9f62-e305-40f3-9de0-39aaa0fbc3cf\",\"type\":\"DaysTicker\"},{\"attributes\":{\"days\":[1,15]},\"id\":\"707ecae9-565a-4017-8591-019564be4172\",\"type\":\"DaysTicker\"},{\"attributes\":{\"days\":[1,4,7,10,13,16,19,22,25,28]},\"id\":\"7d844732-93dc-47f3-9673-7a928bb1aa2c\",\"type\":\"DaysTicker\"},{\"attributes\":{},\"id\":\"7492609a-450f-4aca-a1b8-8a133cc3f8e5\",\"type\":\"DatetimeTickFormatter\"},{\"attributes\":{},\"id\":\"f1ed2807-faf6-42cc-b0b1-387f0cc4e346\",\"type\":\"DatetimeTicker\"},{\"attributes\":{\"callback\":null,\"end\":1488322800000.0,\"start\":1485907200000.0},\"id\":\"554a22f9-e9c3-42e0-9a78-89fac014ef8f\",\"type\":\"Range1d\"},{\"attributes\":{\"plot\":{\"id\":\"8225220d-f128-4f4b-9035-733b15f7d7aa\",\"subtype\":\"Chart\",\"type\":\"Plot\"}},\"id\":\"b592f0ce-1205-4258-b4cd-87b78e2f4236\",\"type\":\"WheelZoomTool\"},{\"attributes\":{\"base\":24,\"mantissas\":[1,2,4,6,8,12],\"max_interval\":43200000.0,\"min_interval\":3600000.0,\"num_minor_ticks\":0},\"id\":\"92df6c57-d40c-46cf-b971-0c96fd1b56f4\",\"type\":\"AdaptiveTicker\"},{\"attributes\":{},\"id\":\"09b4c125-4dee-4186-b2dc-6ecb594057ca\",\"type\":\"YearsTicker\"},{\"attributes\":{\"data_source\":{\"id\":\"9f5510c4-3501-4047-b992-9f56a4403d71\",\"type\":\"ColumnDataSource\"},\"glyph\":{\"id\":\"c8764927-059f-497f-b278-7bd5a36441ce\",\"type\":\"Line\"},\"hover_glyph\":null,\"nonselection_glyph\":null,\"selection_glyph\":null},\"id\":\"9e7a2daa-2cf2-4762-900f-c7161b2add46\",\"type\":\"GlyphRenderer\"},{\"attributes\":{\"plot\":{\"id\":\"8225220d-f128-4f4b-9035-733b15f7d7aa\",\"subtype\":\"Chart\",\"type\":\"Plot\"}},\"id\":\"7da0bc76-6fb6-4512-837d-b2f96ed8df09\",\"type\":\"ResetTool\"},{\"attributes\":{\"callback\":null,\"end\":27464.0,\"start\":-2380.0},\"id\":\"73c97d78-61d3-411a-8135-bddb903c3924\",\"type\":\"Range1d\"},{\"attributes\":{\"months\":[0,2,4,6,8,10]},\"id\":\"3d3dc307-4631-4805-9abc-51950d9b2999\",\"type\":\"MonthsTicker\"},{\"attributes\":{\"plot\":{\"id\":\"8225220d-f128-4f4b-9035-733b15f7d7aa\",\"subtype\":\"Chart\",\"type\":\"Plot\"},\"ticker\":{\"id\":\"f1ed2807-faf6-42cc-b0b1-387f0cc4e346\",\"type\":\"DatetimeTicker\"}},\"id\":\"d68352c6-f916-4e11-8948-93c702c8cfbe\",\"type\":\"Grid\"},{\"attributes\":{\"base\":60,\"mantissas\":[1,2,5,10,15,20,30],\"max_interval\":1800000.0,\"min_interval\":1000.0,\"num_minor_ticks\":0},\"id\":\"34816a09-9480-468a-8daf-b88b5257532e\",\"type\":\"AdaptiveTicker\"},{\"attributes\":{\"active_drag\":\"auto\",\"active_scroll\":\"auto\",\"active_tap\":\"auto\",\"tools\":[{\"id\":\"f8266e15-b7cd-42f1-84d5-7d0710e836d9\",\"type\":\"PanTool\"},{\"id\":\"b592f0ce-1205-4258-b4cd-87b78e2f4236\",\"type\":\"WheelZoomTool\"},{\"id\":\"57c04802-61f3-497e-8f5d-f5722f335438\",\"type\":\"BoxZoomTool\"},{\"id\":\"b0b07e96-562d-4de1-b7ab-c5e7c788f15e\",\"type\":\"SaveTool\"},{\"id\":\"7da0bc76-6fb6-4512-837d-b2f96ed8df09\",\"type\":\"ResetTool\"},{\"id\":\"6a5ced22-e200-4b87-9b90-a77b3862a9e0\",\"type\":\"HelpTool\"}]},\"id\":\"18fd8f45-9f9e-46d8-bdd8-ce933a3d5232\",\"type\":\"Toolbar\"},{\"attributes\":{\"axis_label\":\"lineItem/UsageAmount\",\"formatter\":{\"id\":\"72c1aceb-be5b-49a0-96c2-f0ffa9bce4f6\",\"type\":\"BasicTickFormatter\"},\"plot\":{\"id\":\"8225220d-f128-4f4b-9035-733b15f7d7aa\",\"subtype\":\"Chart\",\"type\":\"Plot\"},\"ticker\":{\"id\":\"9d93d7ab-7bb5-4cd3-aa88-d34e2745c241\",\"type\":\"BasicTicker\"}},\"id\":\"02b1fb3f-7261-4a04-8892-5e0aff0bb304\",\"type\":\"LinearAxis\"},{\"attributes\":{\"max_interval\":500.0,\"num_minor_ticks\":0},\"id\":\"60ead88d-84b5-4d4d-8c31-ace3328ce01e\",\"type\":\"AdaptiveTicker\"},{\"attributes\":{\"axis_label\":\"lineItem/UsageStartDate\",\"formatter\":{\"id\":\"7492609a-450f-4aca-a1b8-8a133cc3f8e5\",\"type\":\"DatetimeTickFormatter\"},\"plot\":{\"id\":\"8225220d-f128-4f4b-9035-733b15f7d7aa\",\"subtype\":\"Chart\",\"type\":\"Plot\"},\"ticker\":{\"id\":\"f1ed2807-faf6-42cc-b0b1-387f0cc4e346\",\"type\":\"DatetimeTicker\"}},\"id\":\"995440de-6730-4ccd-bd6f-c511896e9e30\",\"type\":\"DatetimeAxis\"},{\"attributes\":{\"months\":[0,6]},\"id\":\"1b86809e-1b6b-4953-a0f1-ea69a9f674f0\",\"type\":\"MonthsTicker\"},{\"attributes\":{\"plot\":{\"id\":\"8225220d-f128-4f4b-9035-733b15f7d7aa\",\"subtype\":\"Chart\",\"type\":\"Plot\"}},\"id\":\"b0b07e96-562d-4de1-b7ab-c5e7c788f15e\",\"type\":\"SaveTool\"},{\"attributes\":{\"line_color\":{\"value\":\"#f22c40\"},\"line_width\":{\"value\":2},\"x\":{\"field\":\"x_values\"},\"y\":{\"field\":\"y_values\"}},\"id\":\"c8764927-059f-497f-b278-7bd5a36441ce\",\"type\":\"Line\"}],\"root_ids\":[\"8225220d-f128-4f4b-9035-733b15f7d7aa\"]},\"title\":\"Bokeh Application\",\"version\":\"0.12.4\"}};\n",
       "            var render_items = [{\"docid\":\"a4c0b1b5-85f0-4dd6-aad3-6e113c6b16cb\",\"elementid\":\"c9475de8-20f5-46ea-bf51-36348264788e\",\"modelid\":\"8225220d-f128-4f4b-9035-733b15f7d7aa\"}];\n",
       "            \n",
       "            Bokeh.embed.embed_items(docs_json, render_items);\n",
       "          };\n",
       "          if (document.readyState != \"loading\") fn();\n",
       "          else document.addEventListener(\"DOMContentLoaded\", fn);\n",
       "        })();\n",
       "      },\n",
       "      function(Bokeh) {\n",
       "      }\n",
       "    ];\n",
       "  \n",
       "    function run_inline_js() {\n",
       "      \n",
       "      if ((window.Bokeh !== undefined) || (force === true)) {\n",
       "        for (var i = 0; i < inline_js.length; i++) {\n",
       "          inline_js[i](window.Bokeh);\n",
       "        }if (force === true) {\n",
       "          display_loaded();\n",
       "        }} else if (Date.now() < window._bokeh_timeout) {\n",
       "        setTimeout(run_inline_js, 100);\n",
       "      } else if (!window._bokeh_failed_load) {\n",
       "        console.log(\"Bokeh: BokehJS failed to load within specified timeout.\");\n",
       "        window._bokeh_failed_load = true;\n",
       "      } else if (force !== true) {\n",
       "        var cell = $(document.getElementById(\"c9475de8-20f5-46ea-bf51-36348264788e\")).parents('.cell').data().cell;\n",
       "        cell.output_area.append_execute_result(NB_LOAD_WARNING)\n",
       "      }\n",
       "  \n",
       "    }\n",
       "  \n",
       "    if (window._bokeh_is_loading === 0) {\n",
       "      console.log(\"Bokeh: BokehJS loaded, going straight to plotting\");\n",
       "      run_inline_js();\n",
       "    } else {\n",
       "      load_libs(js_urls, function() {\n",
       "        console.log(\"Bokeh: BokehJS plotting callback run at\", now());\n",
       "        run_inline_js();\n",
       "      });\n",
       "    }\n",
       "  }(this));\n",
       "</script>"
      ]
     },
     "metadata": {},
     "output_type": "display_data"
    }
   ],
   "source": [
    "f = Step(s3[(s3['product/sku'] == 'ZWQ6Q48CRJXX4FXE') &\n",
    "            (s3['lineItem/Operation'] == 'GetObject')],\n",
    "         x='lineItem/UsageStartDate', y='lineItem/UsageAmount', xscale='datetime')\n",
    "show(f)"
   ]
  },
  {
   "cell_type": "code",
   "execution_count": null,
   "metadata": {
    "collapsed": true
   },
   "outputs": [],
   "source": []
  }
 ],
 "metadata": {
  "kernelspec": {
   "display_name": "Python 3",
   "language": "python",
   "name": "python3"
  },
  "language_info": {
   "codemirror_mode": {
    "name": "ipython",
    "version": 3
   },
   "file_extension": ".py",
   "mimetype": "text/x-python",
   "name": "python",
   "nbconvert_exporter": "python",
   "pygments_lexer": "ipython3",
   "version": "3.5.1"
  }
 },
 "nbformat": 4,
 "nbformat_minor": 2
}
